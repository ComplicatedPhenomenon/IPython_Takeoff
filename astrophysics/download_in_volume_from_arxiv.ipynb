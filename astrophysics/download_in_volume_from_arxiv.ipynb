{
 "cells": [
  {
   "cell_type": "code",
   "execution_count": null,
   "metadata": {},
   "outputs": [],
   "source": [
    "from IPython.core.interactiveshell import InteractiveShell\n",
    "InteractiveShell.ast_node_interactivity = \"all\""
   ]
  },
  {
   "cell_type": "markdown",
   "metadata": {},
   "source": [
    "# The overview of data retrieved from arxiv "
   ]
  },
  {
   "cell_type": "markdown",
   "metadata": {},
   "source": [
    "arxiv.py interact with arxiv api"
   ]
  },
  {
   "cell_type": "markdown",
   "metadata": {},
   "source": [
    "## Library"
   ]
  },
  {
   "cell_type": "markdown",
   "metadata": {},
   "source": [
    "* [arxiv.py](https://github.com/lukasschwab/arxiv.py)\n",
    "* [arxivpy](https://github.com/titipata/arxivpy)\n",
    "* [sotawhat](https://github.com/chiphuyen/sotawhat)\n",
    "* [arxiv-checker](https://github.com/adamdempsey90/arxiv-checker)\n",
    "* [arxivscraper](https://github.com/Mahdisadjadi/arxivscraper)"
   ]
  },
  {
   "cell_type": "code",
   "execution_count": 1,
   "metadata": {},
   "outputs": [],
   "source": [
    "import arxiv"
   ]
  },
  {
   "cell_type": "markdown",
   "metadata": {},
   "source": [
    "Table: search_query field prefixes\n",
    "* prefix\texplanation\n",
    "* ti\tTitle\n",
    "* au\tAuthor\n",
    "* abs\tAbstract\n",
    "* co\tComment\n",
    "* jr\tJournal Reference\n",
    "* cat\tSubject Category\n",
    "* rn\tReport Number\n",
    "* id\tId (use id_list instead)\n",
    "* all\tAll of the above\n",
    "\n",
    "Search the result, access and download. Tidy up the name of the files"
   ]
  },
  {
   "cell_type": "code",
   "execution_count": null,
   "metadata": {},
   "outputs": [],
   "source": [
    "def query(search_query=\"\",\n",
    "         id_list=[],\n",
    "         prune=True,\n",
    "         start=0,\n",
    "         max_results=10,\n",
    "         sort_by=\"relevance\",\n",
    "         sort_order=\"descending\"):\n",
    "    url_args = urlencode({\"search_query\": search_query,\n",
    "                          \"id_list\": ','.join(id_list),\n",
    "                          \"start\": start,\n",
    "                          \"max_results\": max_results,\n",
    "                          \"sortBy\": sort_by,\n",
    "                          \"sortOrder\": sort_order})\n",
    "    results = feedparser.parse(root_url + 'query?' + url_args)\n",
    "    if results.get('status') != 200:\n",
    "        # TODO: better error reporting\n",
    "        raise Exception(\"HTTP Error \" + str(results.get('status', 'no status')) + \" in query\")\n",
    "    else:\n",
    "        results = results['entries']\n",
    "    results = [r for r in results if r.get(\"title\", None)]\n",
    "    for result in results:\n",
    "        # Renamings and modifications\n",
    "        mod_query_result(result)\n",
    "        if prune:\n",
    "            prune_query_result(result)\n",
    "    return results"
   ]
  },
  {
   "cell_type": "code",
   "execution_count": null,
   "metadata": {},
   "outputs": [],
   "source": [
    "def download(obj, dirpath='./', slugify=slugify):\n",
    "    if not obj.get('pdf_url', ''):\n",
    "        print(\"Object has no PDF URL.\")\n",
    "        return\n",
    "    if dirpath[-1] != '/':\n",
    "        dirpath += '/'\n",
    "    path = dirpath + slugify(obj) + '.pdf'\n",
    "    urlretrieve(obj['pdf_url'], path)\n",
    "    return path"
   ]
  },
  {
   "cell_type": "code",
   "execution_count": null,
   "metadata": {},
   "outputs": [],
   "source": [
    "# Query for a paper of interest, then download\n",
    "paper = arxiv.query(id_list=[\"1707.08567\"])[0]\n",
    "arxiv.download(paper)\n",
    "# You can skip the query step if you have the paper info!\n",
    "paper2 = {\"pdf_url\": \"http://arxiv.org/pdf/1707.08567v1\",\n",
    "          \"title\": \"The Paper Title\"}\n",
    "arxiv.download(paper2)\n",
    "\n",
    "# Returns the object id\n",
    "def custom_slugify(obj):\n",
    "    return obj.get('id').split('/')[-1]\n",
    "\n",
    "# Download with a specified slugifier function\n",
    "arxiv.download(paper, slugify=custom_slugify)"
   ]
  },
  {
   "cell_type": "code",
   "execution_count": null,
   "metadata": {},
   "outputs": [],
   "source": [
    "paper.get('title')\n",
    "paper.get('authors')\n",
    "paper.get('summary')"
   ]
  },
  {
   "cell_type": "code",
   "execution_count": null,
   "metadata": {},
   "outputs": [],
   "source": [
    "paper = arxiv.query(id_list=[\"1707.08567\"])[0]"
   ]
  },
  {
   "cell_type": "markdown",
   "metadata": {},
   "source": [
    "# Retrieve the data of an author "
   ]
  },
  {
   "cell_type": "code",
   "execution_count": null,
   "metadata": {},
   "outputs": [],
   "source": [
    "DH = arxiv.query(search_query=\"au: Dieter Horns\")\n",
    "DH[0]"
   ]
  },
  {
   "cell_type": "code",
   "execution_count": null,
   "metadata": {},
   "outputs": [],
   "source": [
    "DH[3]['affiliation']"
   ]
  },
  {
   "cell_type": "code",
   "execution_count": null,
   "metadata": {},
   "outputs": [],
   "source": [
    " 'a'  in DH[3]['affiliation']"
   ]
  },
  {
   "cell_type": "code",
   "execution_count": null,
   "metadata": {},
   "outputs": [],
   "source": [
    "DH[0]['published'] # date time format yyyy-MM-ddTHH:mm:ssZ"
   ]
  },
  {
   "cell_type": "code",
   "execution_count": null,
   "metadata": {},
   "outputs": [],
   "source": [
    "len(DH[0]['authors'])"
   ]
  },
  {
   "cell_type": "code",
   "execution_count": null,
   "metadata": {},
   "outputs": [],
   "source": [
    "if DH[0]['authors'][0]=='Dieter Horns':\n",
    "    print(2)"
   ]
  },
  {
   "cell_type": "code",
   "execution_count": null,
   "metadata": {},
   "outputs": [],
   "source": [
    "for DHevery in DH: \n",
    "    print(DHevery['title'])\n",
    "    print(DHevery['authors'])\n",
    "    #print(DHevery['summary'])"
   ]
  },
  {
   "cell_type": "code",
   "execution_count": null,
   "metadata": {},
   "outputs": [],
   "source": [
    "DHpaper = arxiv.query(id_list= [\"1309.3846\"])[0]"
   ]
  },
  {
   "cell_type": "code",
   "execution_count": null,
   "metadata": {},
   "outputs": [],
   "source": [
    "paper2 = {\"pdf_url\": \"http://arxiv.org/pdf/1707.08567v1\",\n",
    "          \"title\": \"The Paper Title\"}\n",
    "arxiv.download(paper2)"
   ]
  },
  {
   "cell_type": "markdown",
   "metadata": {},
   "source": [
    "## Workflow"
   ]
  },
  {
   "cell_type": "code",
   "execution_count": 7,
   "metadata": {},
   "outputs": [],
   "source": [
    "DH = arxiv.query(search_query=\"au:D. AND au:Horns AND (cat:astro-ph OR cat:hep-ph OR cat:hep-ex OR cat:id_list=physics.ins-det OR cat:astro-ph.HE OR cat:astro-ph.IM OR cat:astro-ph.CO)\", max_results= 50)  "
   ]
  },
  {
   "cell_type": "code",
   "execution_count": null,
   "metadata": {},
   "outputs": [],
   "source": [
    "for DHevery in DH: \n",
    "    everyitem = {\"pdf_url\": DHevery[\"pdf_url\"],\n",
    "                 \"title\" : DHevery[\"title\"]}\n",
    "    arxiv.download(everyitem)"
   ]
  },
  {
   "cell_type": "code",
   "execution_count": 9,
   "metadata": {},
   "outputs": [],
   "source": [
    "!touch DH_index.md\n",
    "with open('DH_index.md', 'w') as the_file:\n",
    "    # the_file.write('## Dieter Horns as First author\\n')\n",
    "    for DHevery in DH: \n",
    "        # if DHevery['authors'][0]=='Dieter Horns':\n",
    "        # if 'University of Hamburg'  in DHevery['affiliation']:\n",
    "        # if len(DHevery['authors']) < 4:\n",
    "            the_file.write('* **Title:** ' + DHevery[\"title\"] + '\\n')  \n",
    "            the_file.write('\\n')\n",
    "            the_file.write('  **Published at:** ' + DHevery['published'] + '\\n')\n",
    "            the_file.write('\\n')\n",
    "            the_file.write('  **pdf_url:** ' + DHevery['pdf_url'] + '\\n') \n",
    "            the_file.write('\\n')\n",
    "            the_file.write('  **Summary:** ' + DHevery[\"summary\"] + '\\n') \n",
    "    the_file.close()"
   ]
  },
  {
   "cell_type": "code",
   "execution_count": 10,
   "metadata": {},
   "outputs": [
    {
     "name": "stdout",
     "output_type": "stream",
     "text": [
      "mv: rename *.pdf to /Users/wangmiao/Documents/GammaRay/DieterHorns/*.pdf: No such file or directory\r\n"
     ]
    }
   ],
   "source": [
    "!mv DH_index.md *.pdf ~/Documents/GammaRay/DieterHorns/"
   ]
  },
  {
   "cell_type": "markdown",
   "metadata": {},
   "source": [
    "Then you can draw the content of summary from the retrieved data, then read the summary and find the interesting paper and download it with the help of its `pdf_url`."
   ]
  },
  {
   "cell_type": "markdown",
   "metadata": {},
   "source": [
    "## How to determine the author is the only one"
   ]
  },
  {
   "cell_type": "code",
   "execution_count": null,
   "metadata": {},
   "outputs": [],
   "source": [
    "DH = arxiv.query(search_query=\"au:Dieter Horns\", max_results= 50) #Only pick out names containing Dieter\n",
    "DH[26]['authors']"
   ]
  },
  {
   "cell_type": "code",
   "execution_count": null,
   "metadata": {},
   "outputs": [],
   "source": [
    "DH = arxiv.query(search_query=\"au:D. AND au:Horns AND cat:astro-ph \", max_results= 50) "
   ]
  },
  {
   "cell_type": "markdown",
   "metadata": {},
   "source": [
    "`arxiv.query` works less satisfied than `arxiv.download`"
   ]
  },
  {
   "cell_type": "markdown",
   "metadata": {},
   "source": [
    "## Fetch the content between a time interval"
   ]
  },
  {
   "cell_type": "code",
   "execution_count": null,
   "metadata": {},
   "outputs": [],
   "source": [
    "DH[0]['published'] # date time format yyyy-MM-ddTHH:mm:ssZ"
   ]
  },
  {
   "cell_type": "code",
   "execution_count": null,
   "metadata": {},
   "outputs": [],
   "source": [
    "import dateutil.parser\n",
    "\n",
    "d = dateutil.parser.parse('2008-09-26T01:51:42.000Z')\n",
    "print(d.strftime('%m/%d/%Y'))  #==> '09/26/2008'"
   ]
  },
  {
   "cell_type": "code",
   "execution_count": null,
   "metadata": {},
   "outputs": [],
   "source": [
    "dateutil.parser.parse(DH[0]['published']).strftime('%m/%d/%Y')"
   ]
  },
  {
   "cell_type": "code",
   "execution_count": null,
   "metadata": {},
   "outputs": [],
   "source": [
    "import datetime"
   ]
  },
  {
   "cell_type": "code",
   "execution_count": null,
   "metadata": {},
   "outputs": [],
   "source": [
    "date_format = \"%Y-%m-%dT%H:%M:%S.%fZ\" \n",
    "datetime.datetime.strptime('2008-09-26T01:51:42.000Z', date_format)\n",
    "datetime_object = datetime.datetime.strptime('Jun 1 2005  1:33PM', '%b %d %Y %I:%M%p')\n",
    "datetime_object"
   ]
  },
  {
   "cell_type": "markdown",
   "metadata": {},
   "source": [
    "## Store the data using pandas"
   ]
  },
  {
   "cell_type": "markdown",
   "metadata": {},
   "source": [
    "Compare with the [result](https://arxiv.org/search/?query=+Dieter+Horns&searchtype=author&abstracts=show&order=-announced_date_first&size=50&start=50) from manually search on arxiv, the result is well displayed, ordered by announced date."
   ]
  },
  {
   "cell_type": "markdown",
   "metadata": {},
   "source": [
    "## With built-in library"
   ]
  },
  {
   "cell_type": "markdown",
   "metadata": {},
   "source": [
    "Below we include code snippets for these languages that perform the bare minimum functionality - calling the api and printing the raw Atom results"
   ]
  },
  {
   "cell_type": "code",
   "execution_count": null,
   "metadata": {},
   "outputs": [],
   "source": [
    "import urllib.request\n",
    "url = 'http://export.arxiv.org/api/query?search_query=all:electron&start=0&max_results=1'\n",
    "data = urllib.request.urlopen(url).read() \n",
    "data "
   ]
  }
 ],
 "metadata": {
  "hide_input": false,
  "kernelspec": {
   "display_name": "Python 3",
   "language": "python",
   "name": "python3"
  },
  "language_info": {
   "codemirror_mode": {
    "name": "ipython",
    "version": 3
   },
   "file_extension": ".py",
   "mimetype": "text/x-python",
   "name": "python",
   "nbconvert_exporter": "python",
   "pygments_lexer": "ipython3",
   "version": "3.7.2"
  },
  "toc": {
   "base_numbering": 1,
   "nav_menu": {},
   "number_sections": true,
   "sideBar": true,
   "skip_h1_title": false,
   "title_cell": "Table of Contents",
   "title_sidebar": "Contents",
   "toc_cell": false,
   "toc_position": {},
   "toc_section_display": true,
   "toc_window_display": true
  },
  "varInspector": {
   "cols": {
    "lenName": 16,
    "lenType": 16,
    "lenVar": 40
   },
   "kernels_config": {
    "python": {
     "delete_cmd_postfix": "",
     "delete_cmd_prefix": "del ",
     "library": "var_list.py",
     "varRefreshCmd": "print(var_dic_list())"
    },
    "r": {
     "delete_cmd_postfix": ") ",
     "delete_cmd_prefix": "rm(",
     "library": "var_list.r",
     "varRefreshCmd": "cat(var_dic_list()) "
    }
   },
   "types_to_exclude": [
    "module",
    "function",
    "builtin_function_or_method",
    "instance",
    "_Feature"
   ],
   "window_display": false
  }
 },
 "nbformat": 4,
 "nbformat_minor": 2
}
