{
 "cells": [
  {
   "cell_type": "code",
   "execution_count": 63,
   "metadata": {},
   "outputs": [],
   "source": [
    "from IPython.core.interactiveshell import InteractiveShell\n",
    "InteractiveShell.ast_node_interactivity = \"all\""
   ]
  },
  {
   "cell_type": "markdown",
   "metadata": {},
   "source": [
    "# The overview of data retrieved from arxiv "
   ]
  },
  {
   "cell_type": "code",
   "execution_count": 64,
   "metadata": {},
   "outputs": [],
   "source": [
    "import arxiv"
   ]
  },
  {
   "cell_type": "code",
   "execution_count": null,
   "metadata": {},
   "outputs": [],
   "source": [
    "dir(arxiv)"
   ]
  },
  {
   "cell_type": "code",
   "execution_count": null,
   "metadata": {},
   "outputs": [],
   "source": [
    "print(arxiv.query(search_query=\"au: Dieter Horns\"))"
   ]
  },
  {
   "cell_type": "markdown",
   "metadata": {},
   "source": [
    "Table: search_query field prefixes\n",
    "* prefix\texplanation\n",
    "* ti\tTitle\n",
    "* au\tAuthor\n",
    "* abs\tAbstract\n",
    "* co\tComment\n",
    "* jr\tJournal Reference\n",
    "* cat\tSubject Category\n",
    "* rn\tReport Number\n",
    "* id\tId (use id_list instead)\n",
    "* all\tAll of the above\n",
    "\n",
    "Search the result, access and download. Tidy up the name of the files"
   ]
  },
  {
   "cell_type": "code",
   "execution_count": null,
   "metadata": {},
   "outputs": [],
   "source": [
    "import arxiv\n",
    "# Query for a paper of interest, then download\n",
    "paper = arxiv.query(id_list=[\"1707.08567\"])[0]\n",
    "arxiv.download(paper)\n",
    "# You can skip the query step if you have the paper info!\n",
    "paper2 = {\"pdf_url\": \"http://arxiv.org/pdf/1707.08567v1\",\n",
    "          \"title\": \"The Paper Title\"}\n",
    "arxiv.download(paper2)\n",
    "\n",
    "# Returns the object id\n",
    "def custom_slugify(obj):\n",
    "    return obj.get('id').split('/')[-1]\n",
    "\n",
    "# Download with a specified slugifier function\n",
    "arxiv.download(paper, slugify=custom_slugify)"
   ]
  },
  {
   "cell_type": "code",
   "execution_count": null,
   "metadata": {},
   "outputs": [],
   "source": [
    "paper.get('title')\n",
    "paper.get('authors')\n",
    "paper.get('summary')"
   ]
  },
  {
   "cell_type": "code",
   "execution_count": 52,
   "metadata": {},
   "outputs": [
    {
     "name": "stdout",
     "output_type": "stream",
     "text": [
      "1707.08567v1.Proceedings_of_Workshop_AEW10_Concepts_in_Information_Theory_and_Communications.pdf\r\n",
      "1707.08567v1.The_Paper_Title.pdf\r\n",
      "1707.08567v1.pdf\r\n",
      "Untitled.ipynb\r\n",
      "cta_data_analysis.ipynb\r\n",
      "fermi_lat.ipynb\r\n"
     ]
    }
   ],
   "source": [
    "%ls"
   ]
  },
  {
   "cell_type": "code",
   "execution_count": null,
   "metadata": {},
   "outputs": [],
   "source": [
    "paper = arxiv.query(id_list=[\"1707.08567\"])[0]"
   ]
  },
  {
   "cell_type": "markdown",
   "metadata": {},
   "source": [
    "# Retrieve the data of an author "
   ]
  },
  {
   "cell_type": "code",
   "execution_count": 51,
   "metadata": {},
   "outputs": [
    {
     "data": {
      "text/plain": [
       "{'id': 'http://arxiv.org/abs/1309.3846v1',\n",
       " 'guidislink': True,\n",
       " 'updated': '2013-09-16T08:08:39Z',\n",
       " 'updated_parsed': time.struct_time(tm_year=2013, tm_mon=9, tm_mday=16, tm_hour=8, tm_min=8, tm_sec=39, tm_wday=0, tm_yday=259, tm_isdst=0),\n",
       " 'published': '2013-09-16T08:08:39Z',\n",
       " 'published_parsed': time.struct_time(tm_year=2013, tm_mon=9, tm_mday=16, tm_hour=8, tm_min=8, tm_sec=39, tm_wday=0, tm_yday=259, tm_isdst=0),\n",
       " 'title': 'Pair-production opacity at high and very-high gamma-ray energies',\n",
       " 'title_detail': {'type': 'text/plain',\n",
       "  'language': None,\n",
       "  'base': 'http://export.arxiv.org/api/query?search_query=au%3A+Dieter+Horns&id_list=&start=0&max_results=10&sortBy=relevance&sortOrder=descending',\n",
       "  'value': 'Pair-production opacity at high and very-high gamma-ray energies'},\n",
       " 'summary': 'The propagation of high energy (HE, $E_\\\\gamma>100$ MeV) and very high-energy\\ngamma-rays (VHE, $E_\\\\gamma>100$ GeV) in the extra-galactic photon field leads\\nto pair-production and consequently energy- and distance-dependent attenuation\\nof the primary intensity. The spectroscopy of an increasing number of\\nextra-galactic objects at HE and VHE energies has demonstrated indeed the\\npresence of such an attenuation which in turn has been used to constrain the\\nphoton density in the medium. At large optical depth ($\\\\tau\\\\gtrsim 2$)\\npotential modifications of pair-production due to competing but rare processes\\n(as, e.g., the presence of sub-neV axion-like particle) may be found.\\nIndications for a pair-production anomaly have previously been found with\\nVHE-spectra. Here, we present further indications (at the level of $3.68\\n\\\\sigma$) for a reduced optical depth at high energies from an analysis of\\nFermi-\\\\textit{LAT} data.',\n",
       " 'summary_detail': {'type': 'text/plain',\n",
       "  'language': None,\n",
       "  'base': 'http://export.arxiv.org/api/query?search_query=au%3A+Dieter+Horns&id_list=&start=0&max_results=10&sortBy=relevance&sortOrder=descending',\n",
       "  'value': 'The propagation of high energy (HE, $E_\\\\gamma>100$ MeV) and very high-energy\\ngamma-rays (VHE, $E_\\\\gamma>100$ GeV) in the extra-galactic photon field leads\\nto pair-production and consequently energy- and distance-dependent attenuation\\nof the primary intensity. The spectroscopy of an increasing number of\\nextra-galactic objects at HE and VHE energies has demonstrated indeed the\\npresence of such an attenuation which in turn has been used to constrain the\\nphoton density in the medium. At large optical depth ($\\\\tau\\\\gtrsim 2$)\\npotential modifications of pair-production due to competing but rare processes\\n(as, e.g., the presence of sub-neV axion-like particle) may be found.\\nIndications for a pair-production anomaly have previously been found with\\nVHE-spectra. Here, we present further indications (at the level of $3.68\\n\\\\sigma$) for a reduced optical depth at high energies from an analysis of\\nFermi-\\\\textit{LAT} data.'},\n",
       " 'authors': ['Dieter Horns', 'Manuel Meyer'],\n",
       " 'author_detail': {'name': 'Manuel Meyer'},\n",
       " 'author': 'Manuel Meyer',\n",
       " 'arxiv_comment': '4 pages, 2 figures, to be published in the proceedings\\n  (DESY-PROC-2013-04) of the 9th patras workshop',\n",
       " 'links': [{'href': 'http://arxiv.org/abs/1309.3846v1',\n",
       "   'rel': 'alternate',\n",
       "   'type': 'text/html'},\n",
       "  {'title': 'pdf',\n",
       "   'href': 'http://arxiv.org/pdf/1309.3846v1',\n",
       "   'rel': 'related',\n",
       "   'type': 'application/pdf'}],\n",
       " 'arxiv_primary_category': {'term': 'astro-ph.HE',\n",
       "  'scheme': 'http://arxiv.org/schemas/atom'},\n",
       " 'tags': [{'term': 'astro-ph.HE',\n",
       "   'scheme': 'http://arxiv.org/schemas/atom',\n",
       "   'label': None},\n",
       "  {'term': 'hep-ph',\n",
       "   'scheme': 'http://arxiv.org/schemas/atom',\n",
       "   'label': None}],\n",
       " 'pdf_url': 'http://arxiv.org/pdf/1309.3846v1',\n",
       " 'affiliation': 'None',\n",
       " 'arxiv_url': 'http://arxiv.org/abs/1309.3846v1',\n",
       " 'journal_reference': None,\n",
       " 'doi': None}"
      ]
     },
     "execution_count": 51,
     "metadata": {},
     "output_type": "execute_result"
    }
   ],
   "source": [
    "DH = arxiv.query(search_query=\"au: Dieter Horns\")\n",
    "DH[0]"
   ]
  },
  {
   "cell_type": "code",
   "execution_count": null,
   "metadata": {},
   "outputs": [],
   "source": [
    "DH[9]['title']\n",
    "DH[11]"
   ]
  },
  {
   "cell_type": "code",
   "execution_count": null,
   "metadata": {},
   "outputs": [],
   "source": [
    "DH['title']"
   ]
  },
  {
   "cell_type": "code",
   "execution_count": null,
   "metadata": {},
   "outputs": [],
   "source": [
    "DH[1] ['title']"
   ]
  },
  {
   "cell_type": "code",
   "execution_count": null,
   "metadata": {},
   "outputs": [],
   "source": [
    "for DHevery in DH: \n",
    "    print(DHevery['title'])\n",
    "    print(DHevery['authors'])\n",
    "    #print(DHevery['summary'])"
   ]
  },
  {
   "cell_type": "code",
   "execution_count": null,
   "metadata": {},
   "outputs": [],
   "source": [
    "DHpaper = arxiv.query(id_list= [\"1309.3846\"])[0]"
   ]
  },
  {
   "cell_type": "code",
   "execution_count": 55,
   "metadata": {},
   "outputs": [],
   "source": [
    "DH = arxiv.query(search_query=\"au: Dieter Horns\", max_results= 50)"
   ]
  },
  {
   "cell_type": "code",
   "execution_count": null,
   "metadata": {},
   "outputs": [],
   "source": [
    "for DHevery in DH: \n",
    "    print(DHevery['title'])\n",
    "    print(DHevery['authors'])\n",
    "    #print(DHevery['summary'])"
   ]
  },
  {
   "cell_type": "code",
   "execution_count": null,
   "metadata": {},
   "outputs": [],
   "source": [
    "paper2 = {\"pdf_url\": \"http://arxiv.org/pdf/1707.08567v1\",\n",
    "          \"title\": \"The Paper Title\"}\n",
    "arxiv.download(paper2)"
   ]
  },
  {
   "cell_type": "code",
   "execution_count": null,
   "metadata": {},
   "outputs": [],
   "source": [
    "for DHevery in DH: \n",
    "    everyitem = {\"pdf_url\": DHevery[\"pdf_url\"],\n",
    "                 \"title\" : DHevery[\"title\"]}\n",
    "    arxiv.download(everyitem)\n",
    "    "
   ]
  },
  {
   "cell_type": "code",
   "execution_count": null,
   "metadata": {},
   "outputs": [],
   "source": [
    "!touch DH_index.md"
   ]
  },
  {
   "cell_type": "code",
   "execution_count": 78,
   "metadata": {},
   "outputs": [],
   "source": [
    "DH = arxiv.query(search_query=\"au: Dieter Horns\", max_results= 300)"
   ]
  },
  {
   "cell_type": "code",
   "execution_count": null,
   "metadata": {},
   "outputs": [],
   "source": [
    "with open('DH_index.md', 'w') as the_file:\n",
    "    for DHevery in DH: \n",
    "        the_file.write('* **Title:** ' + DHevery[\"title\"] + '\\n')  \n",
    "        the_file.write('\\n')\n",
    "        the_file.write('  **Published at:** ' + DHevery['published'] + '\\n')\n",
    "        the_file.write('\\n')\n",
    "        the_file.write('  **pdf_url:** ' + DHevery['pdf_url'] + '\\n') \n",
    "        the_file.write('\\n')\n",
    "        the_file.write('  **Summary:**' + DHevery[\"summary\"] + '\\n') \n",
    "    the_file.close()"
   ]
  },
  {
   "cell_type": "markdown",
   "metadata": {},
   "source": [
    "## Workflow"
   ]
  },
  {
   "cell_type": "markdown",
   "metadata": {},
   "source": [
    "Then you can draw the content of summary from the retrieved data, then read the summary and find the interesting paper and download it with the help of its `pdf_url`."
   ]
  },
  {
   "cell_type": "markdown",
   "metadata": {},
   "source": [
    "## How to determine the author is the only one"
   ]
  },
  {
   "cell_type": "markdown",
   "metadata": {},
   "source": [
    "## Store the data using pandas"
   ]
  }
 ],
 "metadata": {
  "hide_input": false,
  "kernelspec": {
   "display_name": "Python 3",
   "language": "python",
   "name": "python3"
  },
  "language_info": {
   "codemirror_mode": {
    "name": "ipython",
    "version": 3
   },
   "file_extension": ".py",
   "mimetype": "text/x-python",
   "name": "python",
   "nbconvert_exporter": "python",
   "pygments_lexer": "ipython3",
   "version": "3.7.0"
  },
  "toc": {
   "base_numbering": 1,
   "nav_menu": {},
   "number_sections": true,
   "sideBar": true,
   "skip_h1_title": false,
   "title_cell": "Table of Contents",
   "title_sidebar": "Contents",
   "toc_cell": false,
   "toc_position": {},
   "toc_section_display": true,
   "toc_window_display": true
  },
  "varInspector": {
   "cols": {
    "lenName": 16,
    "lenType": 16,
    "lenVar": 40
   },
   "kernels_config": {
    "python": {
     "delete_cmd_postfix": "",
     "delete_cmd_prefix": "del ",
     "library": "var_list.py",
     "varRefreshCmd": "print(var_dic_list())"
    },
    "r": {
     "delete_cmd_postfix": ") ",
     "delete_cmd_prefix": "rm(",
     "library": "var_list.r",
     "varRefreshCmd": "cat(var_dic_list()) "
    }
   },
   "types_to_exclude": [
    "module",
    "function",
    "builtin_function_or_method",
    "instance",
    "_Feature"
   ],
   "window_display": false
  }
 },
 "nbformat": 4,
 "nbformat_minor": 2
}
