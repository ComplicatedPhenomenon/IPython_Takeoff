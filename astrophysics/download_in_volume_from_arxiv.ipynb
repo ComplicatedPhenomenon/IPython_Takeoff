{
 "cells": [
  {
   "cell_type": "code",
   "execution_count": 8,
   "metadata": {},
   "outputs": [],
   "source": [
    "from IPython.core.interactiveshell import InteractiveShell\n",
    "InteractiveShell.ast_node_interactivity = \"all\""
   ]
  },
  {
   "cell_type": "markdown",
   "metadata": {},
   "source": [
    "# The overview of data retrieved from arxiv "
   ]
  },
  {
   "cell_type": "markdown",
   "metadata": {},
   "source": [
    "arxiv.py interact with arxiv api"
   ]
  },
  {
   "cell_type": "markdown",
   "metadata": {},
   "source": [
    "## Library"
   ]
  },
  {
   "cell_type": "markdown",
   "metadata": {},
   "source": [
    "* [arxiv.py](https://github.com/lukasschwab/arxiv.py)"
   ]
  },
  {
   "cell_type": "code",
   "execution_count": 2,
   "metadata": {},
   "outputs": [],
   "source": [
    "array1 = '42 19 10 95 44 25 28 59 11 98 49 43 84 24 36 90 14 20 4 76 89 48 64 3 27 23 52 61 9 6 7 21 53 33 82 50 100 96 93 35 51 5 57 75 38 47 92 67 87 8 68 54 69 1 91 65 34 97 94 74 88 70 39 85 58 66 73 60 37 55 29 22 31 71 45 2 81 56 17 40 72 77 79 78 15 30 86 13 41 18 46 32 62 16 12 83 26 80 63 99' "
   ]
  },
  {
   "cell_type": "code",
   "execution_count": 3,
   "metadata": {},
   "outputs": [],
   "source": [
    "array2 = '88 72 59 23 35 33 21 27 48 91 78 73 70 12 99 54 55 16 24 31 96 44 67 22 5 85 51 62 74 60 61 77 87 8 81 19 86 25 40 76 2 89 43 41 9 92 80 97 34 83 32 26 20 82 90 17 39 30 69 6 52 36 45 4 79 65 7 57 37 66 95 49 75 1 13 28 53 42 100 94 46 47 11 58 84 68 14 18 98 63 29 64 93 56 38 50 3 15 10 71' "
   ]
  },
  {
   "cell_type": "code",
   "execution_count": 15,
   "metadata": {},
   "outputs": [],
   "source": [
    "array3 = '80 65 95 70 37 63 54 59 84 46 42 71 60 28 75 49 35 81 11 38 15 83 66 22 93 30 29 45 57 33 40 55 36 43 25 96 73 87 31 79 6 1 50 47 41 4 39 32 3 53 100 76 16 34 12 72 69 92 18 27 98 5 78 61 68 26 74 48 8 9 20 56 99 58 23 51 86 94 64 19 13 21 62 67 90 85 24 44 77 82 14 10 2 91 52 17 7 89 97 88'"
   ]
  },
  {
   "cell_type": "code",
   "execution_count": 17,
   "metadata": {},
   "outputs": [
    {
     "data": {
      "text/plain": [
       "True"
      ]
     },
     "execution_count": 17,
     "metadata": {},
     "output_type": "execute_result"
    },
    {
     "data": {
      "text/plain": [
       "True"
      ]
     },
     "execution_count": 17,
     "metadata": {},
     "output_type": "execute_result"
    },
    {
     "data": {
      "text/plain": [
       "True"
      ]
     },
     "execution_count": 17,
     "metadata": {},
     "output_type": "execute_result"
    }
   ],
   "source": [
    "len(set(array1.split(\" \"))) == 100\n",
    "len(set(array2.split(\" \"))) == 100\n",
    "len(set(array3.split(\" \"))) == 100\n"
   ]
  },
  {
   "cell_type": "code",
   "execution_count": 18,
   "metadata": {},
   "outputs": [],
   "source": [
    "from requests.exceptions import HTTPError\n",
    "from urllib.parse import quote_plus\n",
    "from urllib.parse import urlencode\n",
    "from urllib.request import urlretrieve\n",
    "import feedparser\n",
    "import re"
   ]
  },
  {
   "cell_type": "code",
   "execution_count": null,
   "metadata": {},
   "outputs": [],
   "source": [
    "root_url = 'http://export.arxiv.org/api/'"
   ]
  },
  {
   "cell_type": "code",
   "execution_count": null,
   "metadata": {},
   "outputs": [],
   "source": [
    "def query(search_query=\"\",\n",
    "          id_list=[],\n",
    "          prune=True,\n",
    "          start=0,\n",
    "          max_results=10,\n",
    "          sort_by=\"relevance\",\n",
    "          sort_order=\"descending\"):\n",
    "    url_args = urlencode({\n",
    "        \"search_query\": search_query,\n",
    "        \"id_list\": ','.join(id_list),\n",
    "        \"start\": start,\n",
    "        \"max_results\": max_results,\n",
    "        \"sortBy\": sort_by,\n",
    "        \"sortOrder\": sort_order\n",
    "    })\n",
    "    results = feedparser.parse(root_url + 'query?' + url_args)\n",
    "    # results is a atom feed atomxxx.xml. Might be a dictionary, what will  feedparser.parse(xxxurl) return\n",
    "    if results.get('status') != 200:\n",
    "        # TODO: better error reporting\n",
    "        raise Exception(\"HTTP Error \" +\n",
    "                        str(results.get('status', 'no status')) + \" in query\")\n",
    "    else:\n",
    "        results = results['entries']\n",
    "    results = [r for r in results if r.get(\"title\", None)]\n",
    "    for result in results:\n",
    "        # Renamings and modifications\n",
    "        mod_query_result(result)\n",
    "        if prune:\n",
    "            prune_query_result(result)\n",
    "    return results"
   ]
  },
  {
   "cell_type": "code",
   "execution_count": null,
   "metadata": {},
   "outputs": [],
   "source": [
    "query(id_list=[\"1707.08567\"])"
   ]
  },
  {
   "cell_type": "code",
   "execution_count": 20,
   "metadata": {},
   "outputs": [],
   "source": [
    "search_query=\"\"\n",
    "id_list=[],\n",
    "prune=True,\n",
    "start=0,\n",
    "max_results=10,\n",
    "sort_by=\"relevance\",\n",
    "sort_order=\"descending\"\n",
    "id_list=[\"1707.08567\"]"
   ]
  },
  {
   "cell_type": "code",
   "execution_count": 22,
   "metadata": {},
   "outputs": [
    {
     "data": {
      "text/plain": [
       "'search_query=&id_list=1707.08567&start=%280%2C%29&max_results=%2810%2C%29&sortBy=%28%27relevance%27%2C%29&sortOrder=descending'"
      ]
     },
     "execution_count": 22,
     "metadata": {},
     "output_type": "execute_result"
    }
   ],
   "source": [
    "url_args = urlencode({\n",
    "        \"search_query\": search_query,\n",
    "        \"id_list\": ','.join(id_list),\n",
    "        \"start\": start,\n",
    "        \"max_results\": max_results,\n",
    "        \"sortBy\": sort_by,\n",
    "        \"sortOrder\": sort_order\n",
    "    })\n",
    "url_args "
   ]
  },
  {
   "cell_type": "code",
   "execution_count": null,
   "metadata": {},
   "outputs": [],
   "source": [
    "root_url + 'query?' + url_args"
   ]
  },
  {
   "cell_type": "code",
   "execution_count": null,
   "metadata": {},
   "outputs": [],
   "source": [
    "results = feedparser.parse(root_url + 'query?' + url_args)\n",
    "results.get('status')"
   ]
  },
  {
   "cell_type": "code",
   "execution_count": null,
   "metadata": {},
   "outputs": [],
   "source": [
    "results = results['entries']\n",
    "results = [r for r in results if r.get(\"title\", None)]"
   ]
  },
  {
   "cell_type": "code",
   "execution_count": null,
   "metadata": {},
   "outputs": [],
   "source": [
    "for result in results:\n",
    "    # Renamings and modifications\n",
    "    mod_query_result(result)\n",
    "    if prune:\n",
    "        prune_query_result(result)\n",
    "return results"
   ]
  },
  {
   "cell_type": "code",
   "execution_count": null,
   "metadata": {},
   "outputs": [],
   "source": [
    "def mod_query_result(result):\n",
    "    # Useful to have for download automation\n",
    "    result['pdf_url'] = None\n",
    "    for link in result['links']:\n",
    "        if 'title' in link and link['title'] == 'pdf':\n",
    "            result['pdf_url'] = link['href']\n",
    "    result['affiliation'] = result.pop('arxiv_affiliation', 'None')\n",
    "    result['arxiv_url'] = result.pop('link')\n",
    "    result['title'] = result['title'].rstrip('\\n')\n",
    "    result['summary'] = result['summary'].rstrip('\\n')\n",
    "    result['authors'] = [d['name'] for d in result['authors']]\n",
    "    if 'arxiv_comment' in result:\n",
    "        result['arxiv_comment'] = result['arxiv_comment'].rstrip('\\n')\n",
    "    else:\n",
    "        result['arxiv_comment'] = None\n",
    "    if 'arxiv_journal_ref' in result:\n",
    "        result['journal_reference'] = result.pop('arxiv_journal_ref')\n",
    "    else:\n",
    "        result['journal_reference'] = None\n",
    "    if 'arxiv_doi' in result:\n",
    "        result['doi'] = result.pop('arxiv_doi')\n",
    "    else:\n",
    "        result['doi'] = None"
   ]
  },
  {
   "cell_type": "code",
   "execution_count": null,
   "metadata": {},
   "outputs": [],
   "source": [
    "results[0].pop('arxiv_affiliation', 'None')"
   ]
  },
  {
   "cell_type": "code",
   "execution_count": null,
   "metadata": {},
   "outputs": [],
   "source": [
    "def prune_query_result(result):\n",
    "    prune_keys = ['updated_parsed',\n",
    "                  'published_parsed',\n",
    "                  'arxiv_primary_category',\n",
    "                  'summary_detail',\n",
    "                  'author',\n",
    "                  'author_detail',\n",
    "                  'links',\n",
    "                  'guidislink',\n",
    "                  'title_detail',\n",
    "                  'tags',\n",
    "                  'id']\n",
    "    for key in prune_keys:\n",
    "        try:\n",
    "            del result['key']\n",
    "        except KeyError:\n",
    "            pass"
   ]
  },
  {
   "cell_type": "code",
   "execution_count": null,
   "metadata": {},
   "outputs": [],
   "source": [
    "def slugify(obj):\n",
    "    # Remove special characters from object title\n",
    "    filename = '_'.join(re.findall(r'\\w+', obj.get('title', 'UNTITLED')))\n",
    "    # Prepend object id\n",
    "    filename = \"%s.%s\" % (obj.get('pdf_url').split('/')[-1], filename)\n",
    "    return filename"
   ]
  },
  {
   "cell_type": "code",
   "execution_count": null,
   "metadata": {},
   "outputs": [],
   "source": [
    "def download(obj, dirpath='./', slugify=slugify):\n",
    "    if not obj.get('pdf_url', ''):\n",
    "        print(\"Object has no PDF URL.\")\n",
    "        return\n",
    "    if dirpath[-1] != '/':\n",
    "        dirpath += '/'\n",
    "    path = dirpath + slugify(obj) + '.pdf'\n",
    "    urlretrieve(obj['pdf_url'], path)\n",
    "    return path"
   ]
  },
  {
   "cell_type": "code",
   "execution_count": null,
   "metadata": {},
   "outputs": [],
   "source": [
    "paper = query(id_list=[\"1707.08567\"])\n",
    "download(paper) "
   ]
  },
  {
   "cell_type": "markdown",
   "metadata": {},
   "source": [
    "* [arxivpy](https://github.com/titipata/arxivpy)\n",
    "* [sotawhat](https://github.com/chiphuyen/sotawhat)\n",
    "* [arxiv-checker](https://github.com/adamdempsey90/arxiv-checker)\n",
    "* [arxivscraper](https://github.com/Mahdisadjadi/arxivscraper)"
   ]
  },
  {
   "cell_type": "code",
   "execution_count": null,
   "metadata": {},
   "outputs": [],
   "source": [
    "import arxiv"
   ]
  },
  {
   "cell_type": "code",
   "execution_count": null,
   "metadata": {},
   "outputs": [],
   "source": [
    "paper = arxiv.query(id_list=[\"1707.08567\"])"
   ]
  },
  {
   "cell_type": "code",
   "execution_count": null,
   "metadata": {},
   "outputs": [],
   "source": [
    "type(paper) == list \n",
    "len(paper)\n",
    "paper[0]\n",
    "\n",
    "for i in paper:\n",
    "    print(i)\n",
    "    "
   ]
  },
  {
   "cell_type": "markdown",
   "metadata": {},
   "source": [
    "Table: search_query field prefixes\n",
    "* prefix\texplanation\n",
    "* ti\tTitle\n",
    "* au\tAuthor\n",
    "* abs\tAbstract\n",
    "* co\tComment\n",
    "* jr\tJournal Reference\n",
    "* cat\tSubject Category\n",
    "* rn\tReport Number\n",
    "* id\tId (use id_list instead)\n",
    "* all\tAll of the above\n",
    "\n",
    "Search the result, access and download. Tidy up the name of the files"
   ]
  },
  {
   "cell_type": "code",
   "execution_count": null,
   "metadata": {},
   "outputs": [],
   "source": [
    "# Query for a paper of interest, then download\n",
    "paper = arxiv.query(id_list=[\"1707.08567\"])[0]\n",
    "arxiv.download(paper)\n",
    "# You can skip the query step if you have the paper info!\n",
    "paper2 = {\"pdf_url\": \"http://arxiv.org/pdf/1707.08567v1\",\n",
    "          \"title\": \"The Paper Title\"}\n",
    "arxiv.download(paper2)\n",
    "\n",
    "# Returns the object id\n",
    "def custom_slugify(obj):\n",
    "    return obj.get('id').split('/')[-1]\n",
    "\n",
    "# Download with a specified slugifier function\n",
    "arxiv.download(paper, slugify=custom_slugify)"
   ]
  },
  {
   "cell_type": "code",
   "execution_count": null,
   "metadata": {},
   "outputs": [],
   "source": [
    "paper.get('title')\n",
    "paper.get('authors')\n",
    "paper.get('summary')"
   ]
  },
  {
   "cell_type": "code",
   "execution_count": null,
   "metadata": {},
   "outputs": [],
   "source": [
    "paper = arxiv.query(id_list=[\"1707.08567\"])[0]"
   ]
  },
  {
   "cell_type": "markdown",
   "metadata": {},
   "source": [
    "# Retrieve the data of an author "
   ]
  },
  {
   "cell_type": "code",
   "execution_count": null,
   "metadata": {},
   "outputs": [],
   "source": [
    "DH = arxiv.query(search_query=\"au: Dieter Horns\")\n",
    "len(DH)"
   ]
  },
  {
   "cell_type": "code",
   "execution_count": null,
   "metadata": {},
   "outputs": [],
   "source": [
    "DH[3]['affiliation']"
   ]
  },
  {
   "cell_type": "code",
   "execution_count": null,
   "metadata": {},
   "outputs": [],
   "source": [
    " 'a'  in DH[3]['affiliation']"
   ]
  },
  {
   "cell_type": "code",
   "execution_count": null,
   "metadata": {},
   "outputs": [],
   "source": [
    "DH[0]['published'] # date time format yyyy-MM-ddTHH:mm:ssZ"
   ]
  },
  {
   "cell_type": "code",
   "execution_count": null,
   "metadata": {},
   "outputs": [],
   "source": [
    "len(DH[0]['authors'])"
   ]
  },
  {
   "cell_type": "code",
   "execution_count": null,
   "metadata": {},
   "outputs": [],
   "source": [
    "if DH[0]['authors'][0]=='Dieter Horns':\n",
    "    print(2)"
   ]
  },
  {
   "cell_type": "code",
   "execution_count": null,
   "metadata": {},
   "outputs": [],
   "source": [
    "for DHevery in DH: \n",
    "    print(DHevery['title'])\n",
    "    print(DHevery['authors'])\n",
    "    #print(DHevery['summary'])"
   ]
  },
  {
   "cell_type": "code",
   "execution_count": null,
   "metadata": {},
   "outputs": [],
   "source": [
    "DHpaper = arxiv.query(id_list= [\"1309.3846\"])[0]"
   ]
  },
  {
   "cell_type": "code",
   "execution_count": null,
   "metadata": {},
   "outputs": [],
   "source": [
    "paper2 = {\"pdf_url\": \"http://arxiv.org/pdf/1707.08567v1\",\n",
    "          \"title\": \"The Paper Title\"}\n",
    "arxiv.download(paper2)"
   ]
  },
  {
   "cell_type": "markdown",
   "metadata": {},
   "source": [
    "## Workflow"
   ]
  },
  {
   "cell_type": "code",
   "execution_count": null,
   "metadata": {},
   "outputs": [],
   "source": [
    "DH = arxiv.query(search_query=\"au:D. AND au:Horns AND (cat:astro-ph OR cat:hep-ph OR cat:hep-ex OR cat:id_list=physics.ins-det OR cat:astro-ph.HE OR cat:astro-ph.IM OR cat:astro-ph.CO)\", max_results= 50)  "
   ]
  },
  {
   "cell_type": "code",
   "execution_count": null,
   "metadata": {},
   "outputs": [],
   "source": [
    "for DHevery in DH: \n",
    "    everyitem = {\"pdf_url\": DHevery[\"pdf_url\"],\n",
    "                 \"title\" : DHevery[\"title\"]}\n",
    "    arxiv.download(everyitem)"
   ]
  },
  {
   "cell_type": "code",
   "execution_count": null,
   "metadata": {},
   "outputs": [],
   "source": [
    "!touch DH_index.md\n",
    "with open('DH_index.md', 'w') as the_file:\n",
    "    # the_file.write('## Dieter Horns as First author\\n')\n",
    "    for DHevery in DH: \n",
    "        # if DHevery['authors'][0]=='Dieter Horns':\n",
    "        # if 'University of Hamburg'  in DHevery['affiliation']:\n",
    "        # if len(DHevery['authors']) < 4:\n",
    "            the_file.write('* **Title:** ' + DHevery[\"title\"] + '\\n')  \n",
    "            the_file.write('\\n')\n",
    "            the_file.write('  **Published at:** ' + DHevery['published'] + '\\n')\n",
    "            the_file.write('\\n')\n",
    "            the_file.write('  **pdf_url:** ' + DHevery['pdf_url'] + '\\n') \n",
    "            the_file.write('\\n')\n",
    "            the_file.write('  **Summary:** ' + DHevery[\"summary\"] + '\\n') \n",
    "    the_file.close()"
   ]
  },
  {
   "cell_type": "code",
   "execution_count": null,
   "metadata": {},
   "outputs": [],
   "source": [
    "!mv DH_index.md *.pdf ~/Documents/GammaRay/DieterHorns/"
   ]
  },
  {
   "cell_type": "markdown",
   "metadata": {},
   "source": [
    "Then you can draw the content of summary from the retrieved data, then read the summary and find the interesting paper and download it with the help of its `pdf_url`."
   ]
  },
  {
   "cell_type": "markdown",
   "metadata": {},
   "source": [
    "## How to determine the author is the only one"
   ]
  },
  {
   "cell_type": "code",
   "execution_count": null,
   "metadata": {},
   "outputs": [],
   "source": [
    "DH = arxiv.query(search_query=\"au:Dieter Horns\", max_results= 50) #Only pick out names containing Dieter\n",
    "DH[26]['authors']"
   ]
  },
  {
   "cell_type": "code",
   "execution_count": null,
   "metadata": {},
   "outputs": [],
   "source": [
    "DH = arxiv.query(search_query=\"au:D. AND au:Horns AND cat:astro-ph \", max_results= 50) "
   ]
  },
  {
   "cell_type": "markdown",
   "metadata": {},
   "source": [
    "`arxiv.query` works less satisfied than `arxiv.download`"
   ]
  },
  {
   "cell_type": "markdown",
   "metadata": {},
   "source": [
    "## Fetch the content between a time interval"
   ]
  },
  {
   "cell_type": "code",
   "execution_count": null,
   "metadata": {},
   "outputs": [],
   "source": [
    "DH[0]['published'] # date time format yyyy-MM-ddTHH:mm:ssZ"
   ]
  },
  {
   "cell_type": "code",
   "execution_count": null,
   "metadata": {},
   "outputs": [],
   "source": [
    "import dateutil.parser\n",
    "\n",
    "d = dateutil.parser.parse('2008-09-26T01:51:42.000Z')\n",
    "print(d.strftime('%m/%d/%Y'))  #==> '09/26/2008'"
   ]
  },
  {
   "cell_type": "code",
   "execution_count": null,
   "metadata": {},
   "outputs": [],
   "source": [
    "dateutil.parser.parse(DH[0]['published']).strftime('%m/%d/%Y')"
   ]
  },
  {
   "cell_type": "code",
   "execution_count": null,
   "metadata": {},
   "outputs": [],
   "source": [
    "import datetime"
   ]
  },
  {
   "cell_type": "code",
   "execution_count": null,
   "metadata": {},
   "outputs": [],
   "source": [
    "date_format = \"%Y-%m-%dT%H:%M:%S.%fZ\" \n",
    "datetime.datetime.strptime('2008-09-26T01:51:42.000Z', date_format)\n",
    "datetime_object = datetime.datetime.strptime('Jun 1 2005  1:33PM', '%b %d %Y %I:%M%p')\n",
    "datetime_object"
   ]
  },
  {
   "cell_type": "markdown",
   "metadata": {},
   "source": [
    "## Store the data using pandas"
   ]
  },
  {
   "cell_type": "markdown",
   "metadata": {},
   "source": [
    "Compare with the [result](https://arxiv.org/search/?query=+Dieter+Horns&searchtype=author&abstracts=show&order=-announced_date_first&size=50&start=50) from manually search on arxiv, the result is well displayed, ordered by announced date."
   ]
  },
  {
   "cell_type": "markdown",
   "metadata": {},
   "source": [
    "## With built-in library"
   ]
  },
  {
   "cell_type": "markdown",
   "metadata": {},
   "source": [
    "Below we include code snippets for these languages that perform the bare minimum functionality - calling the api and printing the raw Atom results"
   ]
  },
  {
   "cell_type": "code",
   "execution_count": null,
   "metadata": {},
   "outputs": [],
   "source": [
    "import urllib.request\n",
    "url = 'http://export.arxiv.org/api/query?search_query=all:electron&start=0&max_results=1'\n",
    "data = urllib.request.urlopen(url).read() \n",
    "data "
   ]
  }
 ],
 "metadata": {
  "hide_input": false,
  "kernelspec": {
   "display_name": "Python 3",
   "language": "python",
   "name": "python3"
  },
  "language_info": {
   "codemirror_mode": {
    "name": "ipython",
    "version": 3
   },
   "file_extension": ".py",
   "mimetype": "text/x-python",
   "name": "python",
   "nbconvert_exporter": "python",
   "pygments_lexer": "ipython3",
   "version": "3.7.2"
  },
  "toc": {
   "base_numbering": 1,
   "nav_menu": {},
   "number_sections": true,
   "sideBar": true,
   "skip_h1_title": false,
   "title_cell": "Table of Contents",
   "title_sidebar": "Contents",
   "toc_cell": false,
   "toc_position": {
    "height": "calc(100% - 180px)",
    "left": "10px",
    "top": "150px",
    "width": "165px"
   },
   "toc_section_display": true,
   "toc_window_display": true
  },
  "varInspector": {
   "cols": {
    "lenName": 16,
    "lenType": 16,
    "lenVar": 40
   },
   "kernels_config": {
    "python": {
     "delete_cmd_postfix": "",
     "delete_cmd_prefix": "del ",
     "library": "var_list.py",
     "varRefreshCmd": "print(var_dic_list())"
    },
    "r": {
     "delete_cmd_postfix": ") ",
     "delete_cmd_prefix": "rm(",
     "library": "var_list.r",
     "varRefreshCmd": "cat(var_dic_list()) "
    }
   },
   "types_to_exclude": [
    "module",
    "function",
    "builtin_function_or_method",
    "instance",
    "_Feature"
   ],
   "window_display": false
  }
 },
 "nbformat": 4,
 "nbformat_minor": 2
}
