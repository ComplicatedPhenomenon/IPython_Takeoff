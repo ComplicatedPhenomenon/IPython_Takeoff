{
 "cells": [
  {
   "cell_type": "code",
   "execution_count": 3,
   "metadata": {},
   "outputs": [],
   "source": [
    "from IPython.core.interactiveshell import InteractiveShell\n",
    "InteractiveShell.ast_node_interactivity = \"all\""
   ]
  },
  {
   "cell_type": "markdown",
   "metadata": {},
   "source": [
    "# The overview of data retrieved from arxiv "
   ]
  },
  {
   "cell_type": "markdown",
   "metadata": {},
   "source": [
    "arxiv.py interact with arxiv api"
   ]
  },
  {
   "cell_type": "code",
   "execution_count": null,
   "metadata": {},
   "outputs": [],
   "source": []
  },
  {
   "cell_type": "markdown",
   "metadata": {},
   "source": [
    "## Library"
   ]
  },
  {
   "cell_type": "markdown",
   "metadata": {},
   "source": [
    "* [arxiv.py](https://github.com/lukasschwab/arxiv.py)\n",
    "* [arxivpy](https://github.com/titipata/arxivpy)\n",
    "* [sotawhat](https://github.com/chiphuyen/sotawhat)\n",
    "* [arxiv-checker](https://github.com/adamdempsey90/arxiv-checker)\n",
    "* [arxivscraper](https://github.com/Mahdisadjadi/arxivscraper)"
   ]
  },
  {
   "cell_type": "code",
   "execution_count": 1,
   "metadata": {},
   "outputs": [],
   "source": [
    "import arxiv"
   ]
  },
  {
   "cell_type": "code",
   "execution_count": 2,
   "metadata": {},
   "outputs": [],
   "source": [
    "paper = arxiv.query(id_list=[\"1707.08567\"])"
   ]
  },
  {
   "cell_type": "code",
   "execution_count": 11,
   "metadata": {},
   "outputs": [
    {
     "data": {
      "text/plain": [
       "True"
      ]
     },
     "execution_count": 11,
     "metadata": {},
     "output_type": "execute_result"
    },
    {
     "data": {
      "text/plain": [
       "1"
      ]
     },
     "execution_count": 11,
     "metadata": {},
     "output_type": "execute_result"
    },
    {
     "data": {
      "text/plain": [
       "{'id': 'http://arxiv.org/abs/1707.08567v1',\n",
       " 'guidislink': True,\n",
       " 'updated': '2017-07-27T08:18:33Z',\n",
       " 'updated_parsed': time.struct_time(tm_year=2017, tm_mon=7, tm_mday=27, tm_hour=8, tm_min=18, tm_sec=33, tm_wday=3, tm_yday=208, tm_isdst=0),\n",
       " 'published': '2017-07-27T08:18:33Z',\n",
       " 'published_parsed': time.struct_time(tm_year=2017, tm_mon=7, tm_mday=27, tm_hour=8, tm_min=18, tm_sec=33, tm_wday=3, tm_yday=208, tm_isdst=0),\n",
       " 'title': 'Proceedings of Workshop AEW10: Concepts in Information Theory and\\n  Communications',\n",
       " 'title_detail': {'type': 'text/plain',\n",
       "  'language': None,\n",
       "  'base': 'http://export.arxiv.org/api/query?search_query=&id_list=1707.08567&start=0&max_results=10&sortBy=relevance&sortOrder=descending',\n",
       "  'value': 'Proceedings of Workshop AEW10: Concepts in Information Theory and\\n  Communications'},\n",
       " 'summary': 'The 10th Asia-Europe workshop in \"Concepts in Information Theory and\\nCommunications\" AEW10 was held in Boppard, Germany on June 21-23, 2017. It is\\nbased on a longstanding cooperation between Asian and European scientists. The\\nfirst workshop was held in Eindhoven, the Netherlands in 1989. The idea of the\\nworkshop is threefold: 1) to improve the communication between the scientist in\\nthe different parts of the world; 2) to exchange knowledge and ideas; and 3) to\\npay a tribute to a well respected and special scientist.',\n",
       " 'summary_detail': {'type': 'text/plain',\n",
       "  'language': None,\n",
       "  'base': 'http://export.arxiv.org/api/query?search_query=&id_list=1707.08567&start=0&max_results=10&sortBy=relevance&sortOrder=descending',\n",
       "  'value': 'The 10th Asia-Europe workshop in \"Concepts in Information Theory and\\nCommunications\" AEW10 was held in Boppard, Germany on June 21-23, 2017. It is\\nbased on a longstanding cooperation between Asian and European scientists. The\\nfirst workshop was held in Eindhoven, the Netherlands in 1989. The idea of the\\nworkshop is threefold: 1) to improve the communication between the scientist in\\nthe different parts of the world; 2) to exchange knowledge and ideas; and 3) to\\npay a tribute to a well respected and special scientist.'},\n",
       " 'authors': ['Kees A. Schouhamer Immink',\n",
       "  'Stan Baggen',\n",
       "  'Ferdaous Chaabane',\n",
       "  'Yanling Chen',\n",
       "  'Peter H. N. de With',\n",
       "  'Hela Gassara',\n",
       "  'Hamed Gharbi',\n",
       "  'Adel Ghazel',\n",
       "  'Khaled Grati',\n",
       "  'Naira M. Grigoryan',\n",
       "  'Ashot Harutyunyan',\n",
       "  'Masayuki Imanishi',\n",
       "  'Mitsugu Iwamoto',\n",
       "  'Ken-ichi Iwata',\n",
       "  'Hiroshi Kamabe',\n",
       "  'Brian M. Kurkoski',\n",
       "  'Shigeaki Kuzuoka',\n",
       "  'Patrick Langenhuizen',\n",
       "  'Jan Lewandowsky',\n",
       "  'Akiko Manada',\n",
       "  'Shigeki Miyake',\n",
       "  'Hiroyoshi Morita',\n",
       "  'Jun Muramatsu',\n",
       "  'Safa Najjar',\n",
       "  'Arnak V. Poghosyan',\n",
       "  'Fatma Rouissi',\n",
       "  'Yuta Sakai',\n",
       "  'Ulrich Tamm',\n",
       "  'Joost van der Putten',\n",
       "  'Fons van der Sommen',\n",
       "  'A. J. Han Vinck',\n",
       "  'Tadashi Wadayama',\n",
       "  'Dirk Wübben',\n",
       "  'Hirosuke Yamamoto'],\n",
       " 'author_detail': {'name': 'Hirosuke Yamamoto'},\n",
       " 'author': 'Hirosuke Yamamoto',\n",
       " 'arxiv_comment': '44 pages, editors for the proceedings: Yanling Chen and A. J. Han\\n  Vinck',\n",
       " 'links': [{'href': 'http://arxiv.org/abs/1707.08567v1',\n",
       "   'rel': 'alternate',\n",
       "   'type': 'text/html'},\n",
       "  {'title': 'pdf',\n",
       "   'href': 'http://arxiv.org/pdf/1707.08567v1',\n",
       "   'rel': 'related',\n",
       "   'type': 'application/pdf'}],\n",
       " 'arxiv_primary_category': {'term': 'cs.IT',\n",
       "  'scheme': 'http://arxiv.org/schemas/atom'},\n",
       " 'tags': [{'term': 'cs.IT',\n",
       "   'scheme': 'http://arxiv.org/schemas/atom',\n",
       "   'label': None},\n",
       "  {'term': 'math.IT',\n",
       "   'scheme': 'http://arxiv.org/schemas/atom',\n",
       "   'label': None},\n",
       "  {'term': '68P30, 94A05',\n",
       "   'scheme': 'http://arxiv.org/schemas/atom',\n",
       "   'label': None}],\n",
       " 'pdf_url': 'http://arxiv.org/pdf/1707.08567v1',\n",
       " 'affiliation': 'None',\n",
       " 'arxiv_url': 'http://arxiv.org/abs/1707.08567v1',\n",
       " 'journal_reference': None,\n",
       " 'doi': None}"
      ]
     },
     "execution_count": 11,
     "metadata": {},
     "output_type": "execute_result"
    },
    {
     "name": "stdout",
     "output_type": "stream",
     "text": [
      "{'id': 'http://arxiv.org/abs/1707.08567v1', 'guidislink': True, 'updated': '2017-07-27T08:18:33Z', 'updated_parsed': time.struct_time(tm_year=2017, tm_mon=7, tm_mday=27, tm_hour=8, tm_min=18, tm_sec=33, tm_wday=3, tm_yday=208, tm_isdst=0), 'published': '2017-07-27T08:18:33Z', 'published_parsed': time.struct_time(tm_year=2017, tm_mon=7, tm_mday=27, tm_hour=8, tm_min=18, tm_sec=33, tm_wday=3, tm_yday=208, tm_isdst=0), 'title': 'Proceedings of Workshop AEW10: Concepts in Information Theory and\\n  Communications', 'title_detail': {'type': 'text/plain', 'language': None, 'base': 'http://export.arxiv.org/api/query?search_query=&id_list=1707.08567&start=0&max_results=10&sortBy=relevance&sortOrder=descending', 'value': 'Proceedings of Workshop AEW10: Concepts in Information Theory and\\n  Communications'}, 'summary': 'The 10th Asia-Europe workshop in \"Concepts in Information Theory and\\nCommunications\" AEW10 was held in Boppard, Germany on June 21-23, 2017. It is\\nbased on a longstanding cooperation between Asian and European scientists. The\\nfirst workshop was held in Eindhoven, the Netherlands in 1989. The idea of the\\nworkshop is threefold: 1) to improve the communication between the scientist in\\nthe different parts of the world; 2) to exchange knowledge and ideas; and 3) to\\npay a tribute to a well respected and special scientist.', 'summary_detail': {'type': 'text/plain', 'language': None, 'base': 'http://export.arxiv.org/api/query?search_query=&id_list=1707.08567&start=0&max_results=10&sortBy=relevance&sortOrder=descending', 'value': 'The 10th Asia-Europe workshop in \"Concepts in Information Theory and\\nCommunications\" AEW10 was held in Boppard, Germany on June 21-23, 2017. It is\\nbased on a longstanding cooperation between Asian and European scientists. The\\nfirst workshop was held in Eindhoven, the Netherlands in 1989. The idea of the\\nworkshop is threefold: 1) to improve the communication between the scientist in\\nthe different parts of the world; 2) to exchange knowledge and ideas; and 3) to\\npay a tribute to a well respected and special scientist.'}, 'authors': ['Kees A. Schouhamer Immink', 'Stan Baggen', 'Ferdaous Chaabane', 'Yanling Chen', 'Peter H. N. de With', 'Hela Gassara', 'Hamed Gharbi', 'Adel Ghazel', 'Khaled Grati', 'Naira M. Grigoryan', 'Ashot Harutyunyan', 'Masayuki Imanishi', 'Mitsugu Iwamoto', 'Ken-ichi Iwata', 'Hiroshi Kamabe', 'Brian M. Kurkoski', 'Shigeaki Kuzuoka', 'Patrick Langenhuizen', 'Jan Lewandowsky', 'Akiko Manada', 'Shigeki Miyake', 'Hiroyoshi Morita', 'Jun Muramatsu', 'Safa Najjar', 'Arnak V. Poghosyan', 'Fatma Rouissi', 'Yuta Sakai', 'Ulrich Tamm', 'Joost van der Putten', 'Fons van der Sommen', 'A. J. Han Vinck', 'Tadashi Wadayama', 'Dirk Wübben', 'Hirosuke Yamamoto'], 'author_detail': {'name': 'Hirosuke Yamamoto'}, 'author': 'Hirosuke Yamamoto', 'arxiv_comment': '44 pages, editors for the proceedings: Yanling Chen and A. J. Han\\n  Vinck', 'links': [{'href': 'http://arxiv.org/abs/1707.08567v1', 'rel': 'alternate', 'type': 'text/html'}, {'title': 'pdf', 'href': 'http://arxiv.org/pdf/1707.08567v1', 'rel': 'related', 'type': 'application/pdf'}], 'arxiv_primary_category': {'term': 'cs.IT', 'scheme': 'http://arxiv.org/schemas/atom'}, 'tags': [{'term': 'cs.IT', 'scheme': 'http://arxiv.org/schemas/atom', 'label': None}, {'term': 'math.IT', 'scheme': 'http://arxiv.org/schemas/atom', 'label': None}, {'term': '68P30, 94A05', 'scheme': 'http://arxiv.org/schemas/atom', 'label': None}], 'pdf_url': 'http://arxiv.org/pdf/1707.08567v1', 'affiliation': 'None', 'arxiv_url': 'http://arxiv.org/abs/1707.08567v1', 'journal_reference': None, 'doi': None}\n"
     ]
    }
   ],
   "source": [
    "type(paper) == list \n",
    "len(paper)\n",
    "paper[0]\n",
    "\n",
    "for i in paper:\n",
    "    print(i)\n",
    "    "
   ]
  },
  {
   "cell_type": "markdown",
   "metadata": {},
   "source": [
    "Table: search_query field prefixes\n",
    "* prefix\texplanation\n",
    "* ti\tTitle\n",
    "* au\tAuthor\n",
    "* abs\tAbstract\n",
    "* co\tComment\n",
    "* jr\tJournal Reference\n",
    "* cat\tSubject Category\n",
    "* rn\tReport Number\n",
    "* id\tId (use id_list instead)\n",
    "* all\tAll of the above\n",
    "\n",
    "Search the result, access and download. Tidy up the name of the files"
   ]
  },
  {
   "cell_type": "code",
   "execution_count": null,
   "metadata": {},
   "outputs": [],
   "source": [
    "def query(search_query=\"\",\n",
    "         id_list=[],\n",
    "         prune=True,\n",
    "         start=0,\n",
    "         max_results=10,\n",
    "         sort_by=\"relevance\",\n",
    "         sort_order=\"descending\"):\n",
    "    url_args = urlencode({\"search_query\": search_query,\n",
    "                          \"id_list\": ','.join(id_list),\n",
    "                          \"start\": start,\n",
    "                          \"max_results\": max_results,\n",
    "                          \"sortBy\": sort_by,\n",
    "                          \"sortOrder\": sort_order})\n",
    "    results = feedparser.parse(root_url + 'query?' + url_args)\n",
    "    if results.get('status') != 200:\n",
    "        # TODO: better error reporting\n",
    "        raise Exception(\"HTTP Error \" + str(results.get('status', 'no status')) + \" in query\")\n",
    "    else:\n",
    "        results = results['entries']\n",
    "    results = [r for r in results if r.get(\"title\", None)]\n",
    "    for result in results:\n",
    "        # Renamings and modifications\n",
    "        mod_query_result(result)\n",
    "        if prune:\n",
    "            prune_query_result(result)\n",
    "    return results"
   ]
  },
  {
   "cell_type": "code",
   "execution_count": null,
   "metadata": {},
   "outputs": [],
   "source": [
    "def download(obj, dirpath='./', slugify=slugify):\n",
    "    if not obj.get('pdf_url', ''):\n",
    "        print(\"Object has no PDF URL.\")\n",
    "        return\n",
    "    if dirpath[-1] != '/':\n",
    "        dirpath += '/'\n",
    "    path = dirpath + slugify(obj) + '.pdf'\n",
    "    urlretrieve(obj['pdf_url'], path)\n",
    "    return path"
   ]
  },
  {
   "cell_type": "code",
   "execution_count": null,
   "metadata": {},
   "outputs": [],
   "source": [
    "# Query for a paper of interest, then download\n",
    "paper = arxiv.query(id_list=[\"1707.08567\"])[0]\n",
    "arxiv.download(paper)\n",
    "# You can skip the query step if you have the paper info!\n",
    "paper2 = {\"pdf_url\": \"http://arxiv.org/pdf/1707.08567v1\",\n",
    "          \"title\": \"The Paper Title\"}\n",
    "arxiv.download(paper2)\n",
    "\n",
    "# Returns the object id\n",
    "def custom_slugify(obj):\n",
    "    return obj.get('id').split('/')[-1]\n",
    "\n",
    "# Download with a specified slugifier function\n",
    "arxiv.download(paper, slugify=custom_slugify)"
   ]
  },
  {
   "cell_type": "code",
   "execution_count": null,
   "metadata": {},
   "outputs": [],
   "source": [
    "paper.get('title')\n",
    "paper.get('authors')\n",
    "paper.get('summary')"
   ]
  },
  {
   "cell_type": "code",
   "execution_count": null,
   "metadata": {},
   "outputs": [],
   "source": [
    "paper = arxiv.query(id_list=[\"1707.08567\"])[0]"
   ]
  },
  {
   "cell_type": "markdown",
   "metadata": {},
   "source": [
    "# Retrieve the data of an author "
   ]
  },
  {
   "cell_type": "code",
   "execution_count": 13,
   "metadata": {},
   "outputs": [
    {
     "data": {
      "text/plain": [
       "10"
      ]
     },
     "execution_count": 13,
     "metadata": {},
     "output_type": "execute_result"
    }
   ],
   "source": [
    "DH = arxiv.query(search_query=\"au: Dieter Horns\")\n",
    "len(DH)"
   ]
  },
  {
   "cell_type": "code",
   "execution_count": null,
   "metadata": {},
   "outputs": [],
   "source": []
  },
  {
   "cell_type": "code",
   "execution_count": null,
   "metadata": {},
   "outputs": [],
   "source": [
    "DH[3]['affiliation']"
   ]
  },
  {
   "cell_type": "code",
   "execution_count": null,
   "metadata": {},
   "outputs": [],
   "source": [
    " 'a'  in DH[3]['affiliation']"
   ]
  },
  {
   "cell_type": "code",
   "execution_count": null,
   "metadata": {},
   "outputs": [],
   "source": [
    "DH[0]['published'] # date time format yyyy-MM-ddTHH:mm:ssZ"
   ]
  },
  {
   "cell_type": "code",
   "execution_count": null,
   "metadata": {},
   "outputs": [],
   "source": [
    "len(DH[0]['authors'])"
   ]
  },
  {
   "cell_type": "code",
   "execution_count": null,
   "metadata": {},
   "outputs": [],
   "source": [
    "if DH[0]['authors'][0]=='Dieter Horns':\n",
    "    print(2)"
   ]
  },
  {
   "cell_type": "code",
   "execution_count": null,
   "metadata": {},
   "outputs": [],
   "source": [
    "for DHevery in DH: \n",
    "    print(DHevery['title'])\n",
    "    print(DHevery['authors'])\n",
    "    #print(DHevery['summary'])"
   ]
  },
  {
   "cell_type": "code",
   "execution_count": null,
   "metadata": {},
   "outputs": [],
   "source": [
    "DHpaper = arxiv.query(id_list= [\"1309.3846\"])[0]"
   ]
  },
  {
   "cell_type": "code",
   "execution_count": null,
   "metadata": {},
   "outputs": [],
   "source": [
    "paper2 = {\"pdf_url\": \"http://arxiv.org/pdf/1707.08567v1\",\n",
    "          \"title\": \"The Paper Title\"}\n",
    "arxiv.download(paper2)"
   ]
  },
  {
   "cell_type": "markdown",
   "metadata": {},
   "source": [
    "## Workflow"
   ]
  },
  {
   "cell_type": "code",
   "execution_count": 7,
   "metadata": {},
   "outputs": [],
   "source": [
    "DH = arxiv.query(search_query=\"au:D. AND au:Horns AND (cat:astro-ph OR cat:hep-ph OR cat:hep-ex OR cat:id_list=physics.ins-det OR cat:astro-ph.HE OR cat:astro-ph.IM OR cat:astro-ph.CO)\", max_results= 50)  "
   ]
  },
  {
   "cell_type": "code",
   "execution_count": null,
   "metadata": {},
   "outputs": [],
   "source": [
    "for DHevery in DH: \n",
    "    everyitem = {\"pdf_url\": DHevery[\"pdf_url\"],\n",
    "                 \"title\" : DHevery[\"title\"]}\n",
    "    arxiv.download(everyitem)"
   ]
  },
  {
   "cell_type": "code",
   "execution_count": 9,
   "metadata": {},
   "outputs": [],
   "source": [
    "!touch DH_index.md\n",
    "with open('DH_index.md', 'w') as the_file:\n",
    "    # the_file.write('## Dieter Horns as First author\\n')\n",
    "    for DHevery in DH: \n",
    "        # if DHevery['authors'][0]=='Dieter Horns':\n",
    "        # if 'University of Hamburg'  in DHevery['affiliation']:\n",
    "        # if len(DHevery['authors']) < 4:\n",
    "            the_file.write('* **Title:** ' + DHevery[\"title\"] + '\\n')  \n",
    "            the_file.write('\\n')\n",
    "            the_file.write('  **Published at:** ' + DHevery['published'] + '\\n')\n",
    "            the_file.write('\\n')\n",
    "            the_file.write('  **pdf_url:** ' + DHevery['pdf_url'] + '\\n') \n",
    "            the_file.write('\\n')\n",
    "            the_file.write('  **Summary:** ' + DHevery[\"summary\"] + '\\n') \n",
    "    the_file.close()"
   ]
  },
  {
   "cell_type": "code",
   "execution_count": 10,
   "metadata": {},
   "outputs": [
    {
     "name": "stdout",
     "output_type": "stream",
     "text": [
      "mv: rename *.pdf to /Users/wangmiao/Documents/GammaRay/DieterHorns/*.pdf: No such file or directory\r\n"
     ]
    }
   ],
   "source": [
    "!mv DH_index.md *.pdf ~/Documents/GammaRay/DieterHorns/"
   ]
  },
  {
   "cell_type": "markdown",
   "metadata": {},
   "source": [
    "Then you can draw the content of summary from the retrieved data, then read the summary and find the interesting paper and download it with the help of its `pdf_url`."
   ]
  },
  {
   "cell_type": "markdown",
   "metadata": {},
   "source": [
    "## How to determine the author is the only one"
   ]
  },
  {
   "cell_type": "code",
   "execution_count": null,
   "metadata": {},
   "outputs": [],
   "source": [
    "DH = arxiv.query(search_query=\"au:Dieter Horns\", max_results= 50) #Only pick out names containing Dieter\n",
    "DH[26]['authors']"
   ]
  },
  {
   "cell_type": "code",
   "execution_count": null,
   "metadata": {},
   "outputs": [],
   "source": [
    "DH = arxiv.query(search_query=\"au:D. AND au:Horns AND cat:astro-ph \", max_results= 50) "
   ]
  },
  {
   "cell_type": "markdown",
   "metadata": {},
   "source": [
    "`arxiv.query` works less satisfied than `arxiv.download`"
   ]
  },
  {
   "cell_type": "markdown",
   "metadata": {},
   "source": [
    "## Fetch the content between a time interval"
   ]
  },
  {
   "cell_type": "code",
   "execution_count": null,
   "metadata": {},
   "outputs": [],
   "source": [
    "DH[0]['published'] # date time format yyyy-MM-ddTHH:mm:ssZ"
   ]
  },
  {
   "cell_type": "code",
   "execution_count": null,
   "metadata": {},
   "outputs": [],
   "source": [
    "import dateutil.parser\n",
    "\n",
    "d = dateutil.parser.parse('2008-09-26T01:51:42.000Z')\n",
    "print(d.strftime('%m/%d/%Y'))  #==> '09/26/2008'"
   ]
  },
  {
   "cell_type": "code",
   "execution_count": null,
   "metadata": {},
   "outputs": [],
   "source": [
    "dateutil.parser.parse(DH[0]['published']).strftime('%m/%d/%Y')"
   ]
  },
  {
   "cell_type": "code",
   "execution_count": null,
   "metadata": {},
   "outputs": [],
   "source": [
    "import datetime"
   ]
  },
  {
   "cell_type": "code",
   "execution_count": null,
   "metadata": {},
   "outputs": [],
   "source": [
    "date_format = \"%Y-%m-%dT%H:%M:%S.%fZ\" \n",
    "datetime.datetime.strptime('2008-09-26T01:51:42.000Z', date_format)\n",
    "datetime_object = datetime.datetime.strptime('Jun 1 2005  1:33PM', '%b %d %Y %I:%M%p')\n",
    "datetime_object"
   ]
  },
  {
   "cell_type": "markdown",
   "metadata": {},
   "source": [
    "## Store the data using pandas"
   ]
  },
  {
   "cell_type": "markdown",
   "metadata": {},
   "source": [
    "Compare with the [result](https://arxiv.org/search/?query=+Dieter+Horns&searchtype=author&abstracts=show&order=-announced_date_first&size=50&start=50) from manually search on arxiv, the result is well displayed, ordered by announced date."
   ]
  },
  {
   "cell_type": "markdown",
   "metadata": {},
   "source": [
    "## With built-in library"
   ]
  },
  {
   "cell_type": "markdown",
   "metadata": {},
   "source": [
    "Below we include code snippets for these languages that perform the bare minimum functionality - calling the api and printing the raw Atom results"
   ]
  },
  {
   "cell_type": "code",
   "execution_count": null,
   "metadata": {},
   "outputs": [],
   "source": [
    "import urllib.request\n",
    "url = 'http://export.arxiv.org/api/query?search_query=all:electron&start=0&max_results=1'\n",
    "data = urllib.request.urlopen(url).read() \n",
    "data "
   ]
  }
 ],
 "metadata": {
  "hide_input": false,
  "kernelspec": {
   "display_name": "Python 3",
   "language": "python",
   "name": "python3"
  },
  "language_info": {
   "codemirror_mode": {
    "name": "ipython",
    "version": 3
   },
   "file_extension": ".py",
   "mimetype": "text/x-python",
   "name": "python",
   "nbconvert_exporter": "python",
   "pygments_lexer": "ipython3",
   "version": "3.7.2"
  },
  "toc": {
   "base_numbering": 1,
   "nav_menu": {},
   "number_sections": true,
   "sideBar": true,
   "skip_h1_title": false,
   "title_cell": "Table of Contents",
   "title_sidebar": "Contents",
   "toc_cell": false,
   "toc_position": {},
   "toc_section_display": true,
   "toc_window_display": true
  },
  "varInspector": {
   "cols": {
    "lenName": 16,
    "lenType": 16,
    "lenVar": 40
   },
   "kernels_config": {
    "python": {
     "delete_cmd_postfix": "",
     "delete_cmd_prefix": "del ",
     "library": "var_list.py",
     "varRefreshCmd": "print(var_dic_list())"
    },
    "r": {
     "delete_cmd_postfix": ") ",
     "delete_cmd_prefix": "rm(",
     "library": "var_list.r",
     "varRefreshCmd": "cat(var_dic_list()) "
    }
   },
   "types_to_exclude": [
    "module",
    "function",
    "builtin_function_or_method",
    "instance",
    "_Feature"
   ],
   "window_display": false
  }
 },
 "nbformat": 4,
 "nbformat_minor": 2
}
