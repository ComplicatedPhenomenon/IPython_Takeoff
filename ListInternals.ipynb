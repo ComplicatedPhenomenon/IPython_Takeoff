{
 "cells": [
  {
   "cell_type": "code",
   "execution_count": 1,
   "metadata": {},
   "outputs": [],
   "source": [
    "from IPython.core.interactiveshell import InteractiveShell\n",
    "InteractiveShell.ast_node_interactivity = \"all\""
   ]
  },
  {
   "cell_type": "markdown",
   "metadata": {},
   "source": [
    "[Explanation of this code snippet](https://stackoverflow.com/questions/46781420/if-not-found-and-item-value-in-python)\n",
    "\n",
    "What I can say? I am  so afraid to get an votedown that don't dare to ask very easily. "
   ]
  },
  {
   "cell_type": "markdown",
   "metadata": {},
   "source": [
    "Data structure\n",
    "\n",
    "* Linked list implementation"
   ]
  },
  {
   "cell_type": "code",
   "execution_count": 2,
   "metadata": {},
   "outputs": [],
   "source": [
    "def remove(items, value):\n",
    "    new_items = []\n",
    "    found = False\n",
    "    for item in items:\n",
    "        if not found and item == value:  # request `not found` and `item == value` both to be true\n",
    "            found = True\n",
    "            continue\n",
    "        new_items.append(item)\n",
    "    if not found :   # since item == value is False jump here. and found is true here.\n",
    "        raise ValueError('list.remove(x): x not in list')\n",
    "    return new_items\n",
    "\n",
    "lista = [1, 2, 3, 3, 4, 5, 5]\n",
    "lista=remove(lista,3)\n",
    "lista"
   ]
  },
  {
   "cell_type": "code",
   "execution_count": 5,
   "metadata": {},
   "outputs": [],
   "source": [
    "def remove(items, value):\n",
    "    new_items = []\n",
    "    for item in items:\n",
    "        if item == value :\n",
    "            continue\n",
    "        else :\n",
    "            new_items.append(item)\n",
    "    return new_items\n",
    "\n",
    "list1 = [1, 2, 4, 5, 3, 4,5]\n",
    "list1 = remove(list1, 4)\n",
    "list1\n",
    "list1 = remove(list1, 6) # will  might cause undefined behaviour which should be avoided.\n",
    "list1"
   ]
  },
  {
   "cell_type": "markdown",
   "metadata": {},
   "source": [
    "**[We split the snippet code into several cell, it's ugly, there is a way to solve it.](WhythereisJupyterNB.ipynb)**"
   ]
  },
  {
   "cell_type": "code",
   "execution_count": 7,
   "metadata": {},
   "outputs": [],
   "source": [
    "def remove(items, value):\n",
    "    new_items = []\n",
    "    for item in items:\n",
    "        if item == value :\n",
    "            continue\n",
    "        else : \n",
    "            new_items.append(item)\n",
    "        if len(items) == len(new_items):\n",
    "            print(\"This value is not in the list\")\n",
    "    return new_items"
   ]
  }
 ],
 "metadata": {
  "kernelspec": {
   "display_name": "Python 3",
   "language": "python",
   "name": "python3"
  },
  "language_info": {
   "codemirror_mode": {
    "name": "ipython",
    "version": 3
   },
   "file_extension": ".py",
   "mimetype": "text/x-python",
   "name": "python",
   "nbconvert_exporter": "python",
   "pygments_lexer": "ipython3",
   "version": "3.6.5"
  },
  "latex_envs": {
   "LaTeX_envs_menu_present": true,
   "autocomplete": true,
   "bibliofile": "biblio.bib",
   "cite_by": "apalike",
   "current_citInitial": 1,
   "eqLabelWithNumbers": true,
   "eqNumInitial": 1,
   "hotkeys": {
    "equation": "Ctrl-E",
    "itemize": "Ctrl-I"
   },
   "labels_anchors": false,
   "latex_user_defs": false,
   "report_style_numbering": false,
   "user_envs_cfg": false
  }
 },
 "nbformat": 4,
 "nbformat_minor": 2
}
