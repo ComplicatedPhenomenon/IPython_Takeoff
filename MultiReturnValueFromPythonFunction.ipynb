{
 "cells": [
  {
   "cell_type": "markdown",
   "metadata": {
    "deletable": true,
    "editable": true
   },
   "source": [
    "## [How do you return multiple values in Python?](https://stackoverflow.com/questions/354883/how-do-you-return-multiple-values-in-python)\n",
    "\n",
    "### Option: Using a tuple\n",
    "* disadvatage :  What if you want to return four or five values? Sure, you could keep tupling them, but it gets easy to forget which value is where. It's also rather ugly to unpack them wherever you want to receive them."
   ]
  },
  {
   "cell_type": "code",
   "execution_count": 3,
   "metadata": {
    "collapsed": false,
    "deletable": true,
    "editable": true
   },
   "outputs": [
    {
     "data": {
      "text/plain": [
       "(1, 3, 9)"
      ]
     },
     "execution_count": 3,
     "metadata": {},
     "output_type": "execute_result"
    }
   ],
   "source": [
    "def f(x):\n",
    "    y0=x**0\n",
    "    y1=x**1\n",
    "    y2=x**2\n",
    "    return y0,y1,y2\n",
    "f(3)"
   ]
  },
  {
   "cell_type": "markdown",
   "metadata": {
    "deletable": true,
    "editable": true
   },
   "source": [
    "### Option : Using a list"
   ]
  },
  {
   "cell_type": "code",
   "execution_count": 6,
   "metadata": {
    "collapsed": false,
    "deletable": true,
    "editable": true
   },
   "outputs": [
    {
     "data": {
      "text/plain": [
       "{'y0': 4, 'y1': 9, 'y2': 262144}"
      ]
     },
     "execution_count": 6,
     "metadata": {},
     "output_type": "execute_result"
    }
   ],
   "source": [
    "def g(x):\n",
    "  y0 = x + 1\n",
    "  y1 = x * 3\n",
    "  y2 = y0 ** y1\n",
    "  return {'y0':y0, 'y1':y1 ,'y2':y2 }\n",
    "g(3)"
   ]
  },
  {
   "cell_type": "code",
   "execution_count": 7,
   "metadata": {
    "collapsed": false,
    "deletable": true,
    "editable": true
   },
   "outputs": [
    {
     "data": {
      "text/plain": [
       "4"
      ]
     },
     "execution_count": 7,
     "metadata": {},
     "output_type": "execute_result"
    }
   ],
   "source": [
    "g(3)['y0']"
   ]
  },
  {
   "cell_type": "markdown",
   "metadata": {
    "deletable": true,
    "editable": true
   },
   "source": [
    "### Using a class\n",
    "\n",
    " We could instead return a specialized structure. I've framed this in the context of Python, but I'm sure it applies to other languages as well. Indeed, if you were working in C this might very well be your only option. Here goes:"
   ]
  },
  {
   "cell_type": "code",
   "execution_count": 10,
   "metadata": {
    "collapsed": true,
    "deletable": true,
    "editable": true
   },
   "outputs": [],
   "source": [
    "class ReturnValue(object):\n",
    "  def __init__(self, y0, y1, y2):\n",
    "     self.y0 = y0\n",
    "     self.y1 = y1\n",
    "     self.y2 = y2\n",
    "\n",
    "def g(x):\n",
    "  y0 = x + 1\n",
    "  y1 = x * 3\n",
    "  y2 = y0 ** y1\n",
    "  return ReturnValue(y0, y1, y2)"
   ]
  },
  {
   "cell_type": "code",
   "execution_count": 11,
   "metadata": {
    "collapsed": false,
    "deletable": true,
    "editable": true
   },
   "outputs": [
    {
     "data": {
      "text/plain": [
       "<__main__.ReturnValue at 0x7f464af48dd0>"
      ]
     },
     "execution_count": 11,
     "metadata": {},
     "output_type": "execute_result"
    }
   ],
   "source": [
    "g(3)"
   ]
  },
  {
   "cell_type": "code",
   "execution_count": 13,
   "metadata": {
    "collapsed": false,
    "deletable": true,
    "editable": true
   },
   "outputs": [
    {
     "data": {
      "text/plain": [
       "4"
      ]
     },
     "execution_count": 13,
     "metadata": {},
     "output_type": "execute_result"
    }
   ],
   "source": [
    "g(3).y0"
   ]
  },
  {
   "cell_type": "markdown",
   "metadata": {
    "deletable": true,
    "editable": true
   },
   "source": [
    "In python the previous two are perhaps very similar in terms of plumbing- After all `{ y0, y1, y2 }` just end up being entries in the internal `__dict__` of the ReturnValue.\n",
    "\n",
    "There is one additional feature provided by Python though for tiny objects, the `__slots__` attribute. The class could be expressed as:"
   ]
  },
  {
   "cell_type": "code",
   "execution_count": 14,
   "metadata": {
    "collapsed": true,
    "deletable": true,
    "editable": true
   },
   "outputs": [],
   "source": [
    "class ReturnValue(object):\n",
    "  __slots__ = [\"y0\", \"y1\", \"y2\"]\n",
    "  def __init__(self, y0, y1, y2):\n",
    "     self.y0 = y0\n",
    "     self.y1 = y1\n",
    "     self.y2 = y2"
   ]
  },
  {
   "cell_type": "markdown",
   "metadata": {
    "deletable": true,
    "editable": true
   },
   "source": [
    "### Using a dict"
   ]
  },
  {
   "cell_type": "code",
   "execution_count": 17,
   "metadata": {
    "collapsed": false,
    "deletable": true,
    "editable": true
   },
   "outputs": [
    {
     "name": "stdout",
     "output_type": "stream",
     "text": [
      "return1\n"
     ]
    }
   ],
   "source": [
    "def newFn():    #your function\n",
    "  result = []    #defining blank list which is to be return\n",
    "  r1 = 'return1'    #first value\n",
    "  r2 = 'return2'    #second value\n",
    "  result.append(r1)    #adding first value in list\n",
    "  result.append(r2)    #adding second value in list\n",
    "  return result    #returning your list\n",
    "\n",
    "ret_val1 = newFn()[0]   #you can get any desired result from it\n",
    "print ret_val1    #print/manipulate your your result"
   ]
  }
 ],
 "metadata": {
  "kernelspec": {
   "display_name": "Python 3",
   "language": "python",
   "name": "python3"
  },
  "language_info": {
   "codemirror_mode": {
    "name": "ipython",
    "version": 3
   },
   "file_extension": ".py",
   "mimetype": "text/x-python",
   "name": "python",
   "nbconvert_exporter": "python",
   "pygments_lexer": "ipython3",
   "version": "3.5.2"
  }
 },
 "nbformat": 4,
 "nbformat_minor": 2
}
