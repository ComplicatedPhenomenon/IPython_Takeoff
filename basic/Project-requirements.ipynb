{
 "cells": [
  {
   "cell_type": "markdown",
   "metadata": {},
   "source": [
    "# Final project\n",
    "\n",
    "\n",
    "To complete the course you are required to present a little project.\n",
    "\n",
    "This consists of a stand-alone program in Python in the form of a\n",
    "graphycal interface using the wxpython widgets library.\n",
    "The program and its auxiliary modules will be packaged and saved on a \n",
    "remote git repository. A anaconda package will be created and saved on\n",
    "anaconda repository.\n",
    "\n",
    "You are also encouraged to present your code and explain how it works.\n",
    "\n",
    "The evaluation of the project will take into consideration the following points:\n",
    "\n",
    "0. **Package functionality**\n",
    "    * The code can be installed from anaconda repository and it able to start\n",
    "    with minimal functionality (i.e. the GUI starts and at least a task works).\n",
    "    * 40%\n",
    "\n",
    "1. **Originality**\n",
    "    * Starting from examples in the class notes, you are expected to put into a code\n",
    "       an idea combining different elements in an original way.\n",
    "    * 10% of total note\n",
    "\n",
    "2. **Complexity**\n",
    "    * Structure of the GUI.\n",
    "    * Number and quality of tasks defined.\n",
    "    * 10% of total note\n",
    "\n",
    "3. **Robustness**\n",
    "    * The code should be ideally free of bugs and every single task should work.\n",
    "    * 10% of total note\n",
    "\n",
    "3. **Style**\n",
    "    * Evaluation of how the code is written. \n",
    "      There are too many repeated parts ? Are functions used when possible to make it\n",
    "      more readable ? Is the code well organized ?\n",
    "    * 10% of total note\n",
    "\n",
    "4. **Documentation**\n",
    "    * Comments should appear in strategic parts of the code, such as definition of \n",
    "    classes and functions and where ever some intricate operation is performed\n",
    "    * 10% of total note \n",
    "\n",
    "5. **Presentation**\n",
    "    * Accurate description of the code should accompaign the package in the git repository in form of a Readme file.\n",
    "    * Oral presentation of the code describing the objective of the code and how it works.\n",
    "    * 10% of total note\n"
   ]
  },
  {
   "cell_type": "markdown",
   "metadata": {},
   "source": [
    "[The Leiden de SitterCosmology Programme](http://www.leidendesitter.nl/de_Sitter/Welcome.html)\n",
    "\n",
    "[Université catholique de Louvain](https://uclouvain.be/en/sectors/sst/admission-0-1.html)\n",
    "\n",
    "No real cover letter, no attempt at self marketing. Sort of, \"here are the facts about me, please put me in the pile. \"\n",
    "没有正式的自荐信，也没有很卖力地推销自己，投份简历过来，就好象说，“这些就是关于我的一些情况，请收下吧。”\n",
    "\n",
    "Decision notification for ..."
   ]
  },
  {
   "cell_type": "markdown",
   "metadata": {},
   "source": [
    " 是可以到了工作岗位进行深造，我现在找也肯定找得到。平台高低大小也不是最主要的， 最主要的是，入职后基本分给你的工作是体力劳动，基本没有自己的时间。"
   ]
  },
  {
   "cell_type": "markdown",
   "metadata": {},
   "source": [
    "### Candiadate school\n",
    "* [Leiden observatory Examples of PhD projects available](https://local.strw.leidenuniv.nl/jobs/phd/example_phds.php) [So clear the procedure is ](https://local.strw.leidenuniv.nl/jobs/phd/apply.php)\n",
    "    * [Galaxy formation](http://home.strw.leidenuniv.nl/~schaye/cv.pdf)\n",
    "    * [Evolution of galaxies in clusters](http://home.strw.leidenuniv.nl/~hoekstra/)\n",
    "      * [Lorrie A. Straka](https://twitter.com/LA_Straka)\n",
    "    * [LEO](http://ileo.de/research/)\n",
    "* [University of Groningen](http://www.rug.nl/education/phd-programmes/graduate-schools/phd-research-programmes)\n",
    "    * [Kapteyn Astronomical Institute](http://www.rug.nl/research/kapteyn/vacatures/phd-positions)\n",
    "* [KIT](https://www.kseta.kit.edu/application.php#block590)\n",
    "  * [Tim Huege](http://www.timhuege.de/about/contact)\n",
    "  * [Computing](http://www.scc.kit.edu/personen/achim.streit.php)\n",
    "* [Julie](http://www.fz-juelich.de/portal/EN/Careers/CurrentVacancies/Dissertations/_node.html)\n",
    "   * [ David DiVincenzo ](http://www.quantuminfo.physik.rwth-aachen.de/cms/Quantuminfo/Das-Institut/Forschungsgruppen/~exwc/Gruppe-DiVincenzo/lidx/1/)\n",
    "     * [His work](https://arxiv.org/pdf/cond-mat/9701055.pdf)\n",
    "   \n",
    "   * [Quantum Information](http://www.fz-juelich.de/SharedDocs/Stellenangebote/_common/dipldok/d133-2017-pgi-2-pgi-11.html?nn=722008)\n",
    "* [Bohn University](https://www.uni-bonn.de/studying/international-students/international-degree-programs/natural-sciences-and-mathematics/master-of-science-in-astrophysics)\n",
    "* [Laund University](https://lu.mynetworkglobal.com/en/what:job/jobID:173153/)\n",
    "   * [Oscar Agertz](http://portal.research.lu.se/portal/en/persons/oscar-agertz(757334cc-9d36-40fd-ae7c-e861d209f52e)\n",
    "   > Candidates should send a curriculum vitae (including a transcript of academic grades) and a brief statement of research interest. The application should also include the names, telephone numbers and e-mail addresses of two persons who have agreed to serve as a reference for the applicant. Note that reference letters should not be sent to us in connection with the application; we will contact the reference persons when required.\n",
    "- [Weizmann Institute of Science](http://www.weizmann.ac.il/particle/positions/phd)\n",
    "- [Bassel Quauntum computing](https://phdschoolqcqt.unibas.ch/en/excellence-fellowships/)\n",
    "   > \n",
    "    * Curriculum vitae \n",
    "    * Official transcripts\n",
    "    * MSc, BSc, diplomas etc with grades, from all relevant institutions of higher education (all in English or German).   \n",
    "    Statement of objectives/Motivational letter.\n",
    "    * A short statement of your research interests and how they relate to the work of our department. To increase your chances to be accepted to the PhD school, we encourage you to contact one of the professors of our department and secure their support for your application. \n",
    "    * List of publications, if available.   \n",
    "    * One to three recommendation letters.\n",
    "    * The referees should upload their recommendation letters directly to the portal. It is your responsibility to contact your referees and to check that the recommendation letters are uploaded before the deadline.   \n",
    "    * Masters thesis (pdf)\n",
    "\n",
    "\n",
    "* [University of Oslo](http://www.mn.uio.no/english/research/phd/application/application.html)\n",
    "* [TUM Germany](https://www.ph.tum.de/academics/phd/) \n",
    "  * [Application step](http://www.gs.tum.de/en/bewerberinnen/application/application-steps/)\n",
    "    * Writing a research proposal will help you make your research project more specific in terms of objectives and individual steps\n",
    "    * You can then contact the professor or an employee directly with your application materials (CV, cover letter, etc.) and a research proposal for your project. \n",
    "  * [Supervisor](www.tum.de/en/about-tum/departments/)\n",
    " \n",
    "  > You will not be charged any fees for a doctorate at TUM. The costs of doctoral education are covered by the German state. However, you will need to secure your living expenses*\n",
    "  \n",
    "  [Application steps](http://www.gs.tum.de/en/bewerberinnen/application/application-steps/)\n",
    "* [PIER](https://graduateschool.pier-hamburg.de/phd_programme/index_eng.html)\n",
    "* [Helsinki](https://rekry.helsinki.fi/sap/bc/webdynpro/sap/hrrcf_a_reg_applwizard_ext?PARAM=cG9zdF9pbnN0X2d1aWQ9MTA2MDRCOTkyN0M4MUVFN0FEQUVFNDM5Q0ZGRUIzMTc%3d&sap-wd-configid=ZHRRCF_AC_REG_APPLWIZARD_EXT&sap-client=300&sap-language=EN#)\n",
    "* [Helmholtz International Research Schools](https://www.helmholtz.de/en/jobs_talent/funding_programs/doctoral_students/helmholtz_international_research_schools/)\n",
    "* [MPI](http://www.aei.mpg.de/students)\n",
    "  * [Ongoing PhD student](http://imprs-gw.aei.mpg.de/9352/phd-s)"
   ]
  },
  {
   "cell_type": "markdown",
   "metadata": {},
   "source": [
    "* CV\n",
    "  * [https://www.studential.com/postgraduate/study/PhD/writing-a-PhD-CV](https://www.studential.com/postgraduate/study/PhD/writing-a-PhD-CV)\n",
    "\n",
    "* CL\n",
    " A cover letter describing background, relevant experience and a statement of how their research interests relate to this position"
   ]
  },
  {
   "cell_type": "markdown",
   "metadata": {},
   "source": [
    "* [frauke.graeter@h-its.org](https://www.h-its.org/mbm-news/frauke-prace/)\n",
    "* [Simon Foundation](https://www.simonsfoundation.org/team/will-farr/) Dan Foreman-Mackey. \n",
    "\n",
    "Here you will find people trying to  address **topics of fundamental scientific importance** in which a significant new development has created a novel area for exploration in an established field.\n",
    "\n",
    "Not for application \n",
    "  > The Simons Foundation is a private foundation established in 1994 in New York City by Jim and Marilyn Simons. With an    annual grants and programs budget of 300 million dollars, the foundation’s mission is to advance the frontiers of research in  mathematics and the basic sciences.\n",
    "\n",
    "  > The foundation pursues its mission through its grant-making division, comprising programs in Mathematics & Physical Sciences, Life Sciences, Education & Outreach and autism research, and through its internal research division, the Flatiron Institute.\n",
    "\n",
    "  > The Mathematics & Physical Sciences program supports work in mathematics, theoretical computer science and theoretical physics. The Life Sciences program works to advance basic research in life sciences, with, among other efforts, large grant programs in ocean ecology and in the origins of life.\n",
    "\n",
    "  > The Simons Foundation Autism Research Initiative (SFARI) is a campaign that aims to improve the understanding, diagnosis and treatment of autism by funding innovative research of the highest quality and relevance. SFARI also supports the editorially independent autism research news site Spectrum.\n",
    "\n",
    "  > In 2016, the foundation launched the Flatiron Institute (FI), a multidisciplinary institute whose mission is to advance scientific research through computational methods, including data analysis, modeling and simulation. The FI hosts scientists and collaborating expert programmers who work to create, deploy and support new state-of-the-art computational methods.\n",
    "\n",
    "  > Education & Outreach supports and promotes scientific literacy in society generally. Specifically, the program supports the nonprofit Math for America and the independent science news site, Quanta Magazine. This program’s Science Sandbox initiative seeks to unlock scientific thinking in all people, so that science becomes a more integral part of culture.\n",
    "\n",
    "I feel excited to devote myself to such a promising research area. So I can see the talent showed by my work. Meanwhile, the work I do every day makes me satisfied."
   ]
  },
  {
   "cell_type": "markdown",
   "metadata": {},
   "source": [
    "* [How I learned to stop worrying and love the coming archivability crisis in scientific software](http://ivory.idyll.org/blog/2017-pof-software-archivability.html)"
   ]
  },
  {
   "cell_type": "markdown",
   "metadata": {},
   "source": [
    "> A principal investigator (PI) is the holder of an independent grant administered by a university and the lead researcher for the grant project, usually in the sciences, such as a laboratory study or a clinical trial."
   ]
  },
  {
   "cell_type": "markdown",
   "metadata": {},
   "source": [
    "-----\n",
    "Research Proposal\n",
    "\n",
    "[http://www.studygs.net/proposal.htm](http://www.studygs.net/proposal.htm)\n",
    "\n",
    "[http://www2.hawaii.edu/~matt/proposal.html](http://www2.hawaii.edu/~matt/proposal.html)`"
   ]
  },
  {
   "cell_type": "markdown",
   "metadata": {},
   "source": [
    "[How to prepare to join astronomy? ](http://astro.berkeley.edu/astronomy-fans/aa/questions-about-careers-in-astronomy)"
   ]
  },
  {
   "cell_type": "markdown",
   "metadata": {},
   "source": [
    " Although I am confident, I also realize that there are still some large gaps, then what's the next should I pay efforts to?"
   ]
  },
  {
   "cell_type": "markdown",
   "metadata": {},
   "source": [
    "当一个人做什么都做得很好的时候\n",
    "\n",
    "他的选择便显得极其重要\n",
    "\n",
    "不然便会事事精通 事事疏松"
   ]
  },
  {
   "cell_type": "markdown",
   "metadata": {},
   "source": [
    "[Jupyter (IPython) notebooks features](http://arogozhnikov.github.io/2016/09/10/jupyter-features.html)\n",
    "\n",
    "What the author has done is extremely cool.His personal site is an idea one."
   ]
  },
  {
   "cell_type": "markdown",
   "metadata": {},
   "source": [
    "* Hamitonlian **Monte Carlo**\n",
    "* **Markov Chain Monte Carlo**\n",
    "  * [ The Applications of Monte Carlo ](https://stats.hohoweiya.xyz//2017/09/07/The-Need-of-Monte-Carlo/)\n",
    "  * [OpenMC](https://github.com/mit-crpg/openmc) project aims to provide a fully-featured Monte Carlo particle transport code based on modern methods.\n",
    "  \n",
    "I want to know the algorithm and the code to implement it.\n",
    "\n",
    "[Hamiltonian Monte Carlo in PyMC3](https://colcarroll.github.io/hamiltonian_monte_carlo_talk/bayes_talk.html#calculus)\n",
    "where [pymc3](https://github.com/pymc-devs/pymc3) denotes a Python package for Bayesian statistical modeling and Probabilistic Machine Learning which focuses on advanced Markov chain Monte Carlo and variational fitting algorithms\n"
   ]
  },
  {
   "cell_type": "markdown",
   "metadata": {},
   "source": [
    "---\n",
    "## 国家共派留学\n",
    "6.邀请信应具备哪些内容？\n",
    "\n",
    "答：邀请信中应明确以下内容：\n",
    "* 申请人基本信息：申请人姓名、出生日期、国内院校等；\n",
    "* 留学身份：攻读博士学位研究生或联合培养博士研究生；\n",
    "* 留学时间：应明确留学期限及起止年月（入学时间不得晚于2019年3月31日）；\n",
    "* 国外指导教师信息；\n",
    "* 留学专业或受邀人拟在国外从事主要学习/研究工作；\n",
    "* 免学费或获得学费资助等相关费用信息（申请联合培养博士研究生和申请学费资助人员无需包含此项）。\n",
    "\n",
    "11.是否需在申报前取得外方邀请信/入学通知书？\n",
    "\n",
    "答：是的。申请者需要在网上报名前取得外方正式的邀请信/录取通知书，其为必要的申请材料之一。\n",
    "\n",
    "16.企业工作人员是否可以申请攻读博士学位研究生？对企业性质是否有要求？\n",
    "\n",
    "答：可以。根据选派办法，国内企业、事业单位、行政机关、科研机构的正式工作人员都可申请攻读博士学位研究生。对企业性质无特殊要求。在职人员申请须获得国内工作单位推荐。\n",
    "\n",
    "27.赴非英语国家留学工作/学习语言为英语，可否以英语成绩申报？\n",
    "\n",
    "答：可以。但赴**德语**、法语、俄语、日语、意大利语及西班牙语国家的申请人被录取后，**须留学对象国语种达标后才能派出**。具体派出要求详见“信息平台”及录取名单。派出前尚未达标者可通过参加教育部指定培训部相关语种培训（德语、法语、俄语、日语、意大利语及西班牙语）或自行参加相应语种考试达到语言要求。\n",
    "\n",
    "If I cann't apply the CSC scholarship this year, I will have to pay by myself.\n",
    "\n",
    "48.如何确定申请时为**在外自费留学攻读博士学位第一年**人员的留学期限和资助期限？\n",
    "\n",
    "答：对于申请时为在外自费留学攻读博士学位第一年的人员，被录取后留学期限和资助期限从博士二年级开始计算。\n",
    "\n",
    "32.需上传的附件材料学习计划与网上申请表研修计划是否为同一材料？\n",
    "\n",
    "答：不是。附件材料中的学习计划为申请人、国外导师与国内导师共同制定，且应为外文。研修计划为在网上申请表中填写，语言为中文，由于篇幅有限，应对包含内容简要表述。\n",
    "\n",
    "A real rule which is different from what you take for granted.\n",
    "\n",
    "29.留学单位收取攻读博士学位申请人学费，是否可以由申请人个人支付？\n",
    "\n",
    "答：不可以。除申请学费资助人员外，申请人需获得外方免学费或由外方提供学费资助，不允许个人自己支付学费。"
   ]
  },
  {
   "cell_type": "code",
   "execution_count": null,
   "metadata": {
    "collapsed": true
   },
   "outputs": [],
   "source": []
  }
 ],
 "metadata": {
  "anaconda-cloud": {},
  "hide_input": false,
  "kernelspec": {
   "display_name": "Python 3",
   "language": "python",
   "name": "python3"
  },
  "language_info": {
   "codemirror_mode": {
    "name": "ipython",
    "version": 3
   },
   "file_extension": ".py",
   "mimetype": "text/x-python",
   "name": "python",
   "nbconvert_exporter": "python",
   "pygments_lexer": "ipython3",
   "version": "3.7.2"
  },
  "latex_envs": {
   "LaTeX_envs_menu_present": true,
   "autocomplete": true,
   "bibliofile": "biblio.bib",
   "cite_by": "apalike",
   "current_citInitial": 1,
   "eqLabelWithNumbers": true,
   "eqNumInitial": 1,
   "hotkeys": {
    "equation": "Ctrl-E",
    "itemize": "Ctrl-I"
   },
   "labels_anchors": false,
   "latex_user_defs": false,
   "report_style_numbering": false,
   "user_envs_cfg": false
  },
  "toc": {
   "base_numbering": 1,
   "nav_menu": {},
   "number_sections": true,
   "sideBar": true,
   "skip_h1_title": false,
   "title_cell": "Table of Contents",
   "title_sidebar": "Contents",
   "toc_cell": false,
   "toc_position": {},
   "toc_section_display": true,
   "toc_window_display": false
  },
  "varInspector": {
   "cols": {
    "lenName": 16,
    "lenType": 16,
    "lenVar": 40
   },
   "kernels_config": {
    "python": {
     "delete_cmd_postfix": "",
     "delete_cmd_prefix": "del ",
     "library": "var_list.py",
     "varRefreshCmd": "print(var_dic_list())"
    },
    "r": {
     "delete_cmd_postfix": ") ",
     "delete_cmd_prefix": "rm(",
     "library": "var_list.r",
     "varRefreshCmd": "cat(var_dic_list()) "
    }
   },
   "types_to_exclude": [
    "module",
    "function",
    "builtin_function_or_method",
    "instance",
    "_Feature"
   ],
   "window_display": false
  }
 },
 "nbformat": 4,
 "nbformat_minor": 1
}
