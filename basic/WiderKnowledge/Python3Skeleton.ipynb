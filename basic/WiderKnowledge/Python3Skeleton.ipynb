{
 "cells": [
  {
   "cell_type": "code",
   "execution_count": null,
   "metadata": {
    "ExecuteTime": {
     "end_time": "2019-11-28T11:36:14.351371Z",
     "start_time": "2019-11-28T11:36:14.348059Z"
    }
   },
   "outputs": [],
   "source": [
    "from IPython.core.interactiveshell import InteractiveShell\n",
    "InteractiveShell.ast_node_interactivity = \"all\""
   ]
  },
  {
   "cell_type": "markdown",
   "metadata": {},
   "source": [
    "# `sorted` and `Counter`"
   ]
  },
  {
   "cell_type": "markdown",
   "metadata": {
    "ExecuteTime": {
     "end_time": "2019-11-21T11:19:33.188367Z",
     "start_time": "2019-11-21T11:19:33.116881Z"
    }
   },
   "source": [
    "Protype of sorted \n",
    "```md\n",
    "sorted(iterable, key = lambda item: f(item), reverse = False)\n",
    "```"
   ]
  },
  {
   "cell_type": "code",
   "execution_count": null,
   "metadata": {},
   "outputs": [],
   "source": [
    "x = [1, 'hello', 2, ' word', 3, ' love', 1, ' hi', 1, ' you']\n",
    "z = [w for _,w in sorted(zip(x[0::2],x[1::2]))]\n",
    "print(z)\n",
    "#[' love', ' word', 'hello', ' you', ' hi']"
   ]
  },
  {
   "cell_type": "code",
   "execution_count": null,
   "metadata": {
    "ExecuteTime": {
     "end_time": "2019-11-21T11:18:00.948117Z",
     "start_time": "2019-11-21T11:18:00.935531Z"
    }
   },
   "outputs": [],
   "source": [
    "tem = {'y': 5, 'x': 0}\n",
    "min(tem.values())\n",
    "x = [{'y': 5, 'x': 0}, {'a': 1, 'b': 2}, {'c': 2, 'd': 4}, {'a': 7, 'c': 3}]\n",
    "sorted(x, key=lambda i: min(i.values()))"
   ]
  },
  {
   "cell_type": "code",
   "execution_count": null,
   "metadata": {},
   "outputs": [],
   "source": [
    "from collections import Counter\n",
    "s=\"hello, word, word, love, love, love, hi, you\"\n",
    "slist = s.split(',')\n",
    "sdict = dict(Counter(slist))\n",
    "sdict \n",
    "result = sorted(sdict.items(), key=lambda x: x[1], reverse=True)\n",
    "result = [i[0] for i in result]\n",
    "print(result) \n",
    "# [' love', ' word', 'hello', ' hi', ' you']"
   ]
  },
  {
   "cell_type": "markdown",
   "metadata": {},
   "source": [
    "https://stackoverflow.com/questions/57804057/how-to-print-out-the-values-with-count-in-dictionary-using-counter"
   ]
  },
  {
   "cell_type": "code",
   "execution_count": null,
   "metadata": {},
   "outputs": [],
   "source": [
    "def tuptodi(tup, dictio): \n",
    "    for a, b in tup: \n",
    "        dictio.setdefault(a, []).append(b) \n",
    "    return dictio\n",
    "tups = [('key1', 'value1'), ('key2', 'value1'),('key3', 'value3'),('key1', 'value1'),('key1', 'value2')]\n",
    "dictionary = {} \n",
    "print (tuptodi(tups, dictionary)) \n",
    "{k: dict(Counter(v)) for k, v in res.items()}"
   ]
  },
  {
   "cell_type": "code",
   "execution_count": null,
   "metadata": {},
   "outputs": [],
   "source": [
    "dicl = {'amazon': [668, 667, 879], 'flipkart' : [678], 'hey' : [89,79]}\n",
    "{k : len(v) for k, v in sorted(dicl.items(), key = lambda i: len(i[1]), reverse=True)}"
   ]
  },
  {
   "cell_type": "code",
   "execution_count": null,
   "metadata": {},
   "outputs": [],
   "source": [
    "data = {'Apple':3, 'Mango':2, 'Orange':2, 'Fig':5, 'Berry':1, 'Cherry':99}\n",
    "sorted_data = sorted(data.items(), key=lambda kv: kv[1], reverse=True)\n",
    "print (dict(sorted_data))"
   ]
  },
  {
   "cell_type": "markdown",
   "metadata": {},
   "source": [
    " https://stackoverflow.com/questions/53947928/force-items-at-beginning-and-end-of-list/53947953#53947953"
   ]
  },
  {
   "cell_type": "code",
   "execution_count": null,
   "metadata": {},
   "outputs": [],
   "source": [
    "l = ['f','g','p','a','p','c','b','q','z','n','d','t','q']\n",
    "sorted(l, key = lambda s: (s!='p', s=='q', s))\n",
    "['p', 'p', 'a', 'b', 'c', 'd', 'f', 'g', 'n', 't', 'z', 'q', 'q']"
   ]
  },
  {
   "cell_type": "markdown",
   "metadata": {},
   "source": [
    "## sort the part of a dictionary  "
   ]
  },
  {
   "cell_type": "markdown",
   "metadata": {},
   "source": [
    "https://stackoverflow.com/questions/57644478/how-to-partially-sort-list-of-dictionary-by-dictionary-value-in-python#57644745"
   ]
  },
  {
   "cell_type": "code",
   "execution_count": null,
   "metadata": {},
   "outputs": [],
   "source": [
    "my_list = ['fact9',\n",
    " {'filename': 'name2', 'type': 1},\n",
    " 'fact4',\n",
    " {'filename': 'name33', 'type': 4},\n",
    " 'fact5',\n",
    " {'filename': 'name1', 'type': 1},\n",
    " 'fact6',\n",
    " {'filename': 'name12', 'type': 2}]\n",
    "list(zip(my_list[0::2], my_list[1::2]))"
   ]
  },
  {
   "cell_type": "code",
   "execution_count": null,
   "metadata": {},
   "outputs": [],
   "source": [
    "x = dict(zip(my_list[0::2], my_list[1::2]))\n",
    "x\n",
    "# The python popitem dictionary function removes the last inserted key value pair and prints the removed items.\n",
    "part = {k: v for k, v in x.items() if v['type'] == 1}\n",
    "part = dict(sorted(part.items(), key=lambda i: i[0]))\n",
    "anotherPart = {k: v for k, v in x.items() if v['type'] != 1}"
   ]
  },
  {
   "cell_type": "code",
   "execution_count": null,
   "metadata": {},
   "outputs": [],
   "source": [
    "sorted_my_list = [{'fact5': {'filename': 'name1', 'type': 1}},\n",
    " {'fact4': {'filename': 'name33', 'type': 4}},\n",
    " {'fact9': {'filename': 'name2', 'type': 1}},\n",
    " {'fact6': {'filename': 'name12', 'type': 2}}]\n",
    "\n",
    "sorted_my_list"
   ]
  },
  {
   "cell_type": "code",
   "execution_count": null,
   "metadata": {},
   "outputs": [],
   "source": [
    "res = []       \n",
    "for _, v in x.items():\n",
    "    if v['type']==1:\n",
    "        tem = part.popitem()\n",
    "        res.append({tem[0]: tem[1]})\n",
    "    else:\n",
    "        tem = anotherPart.popitem()\n",
    "        res.append({tem[0]: tem[1]})\n",
    "res     "
   ]
  },
  {
   "cell_type": "code",
   "execution_count": null,
   "metadata": {},
   "outputs": [],
   "source": [
    "my_list = [('fact9', {'filename': 'name2', 'type': 1}), ('fact4', {'filename': 'name33', 'type': 4}), ('fact5', {'filename': 'name1', 'type': 1}), ('fact6', {'filename': 'name12', 'type': 2})] \n",
    "my_list\n",
    "tmp_list = sorted([x for x in my_list if x[1]['type']==1], key=lambda x:x[1]['filename'])\n",
    "tmp_list\n",
    "sorted_my_list = [x if x[1]['type']!=1 else tmp_list.pop(0) for x in my_list]\n",
    "sorted_my_list"
   ]
  },
  {
   "cell_type": "markdown",
   "metadata": {},
   "source": [
    "```md\n",
    "输入：(9, 2), (3, 7), (7, 8), (3, 5), (1, 9)\n",
    "输出：(1, 9), (3, 7), (3, 5), (7, 8), (9, 2)\n",
    "```"
   ]
  },
  {
   "cell_type": "code",
   "execution_count": null,
   "metadata": {},
   "outputs": [],
   "source": [
    "def sort(a):\n",
    "    alist = [list(i) for i in a]\n",
    "    alist.sort(key=lambda k: (k[0], -k[1]), reverse=False)\n",
    "    atuple = tuple(tuple(i) for i in alist)\n",
    "    return atuple\n",
    "a = (9, 2), (3, 7), (7, 8), (3, 5), (1, 9)\n",
    "sort(a)"
   ]
  },
  {
   "cell_type": "code",
   "execution_count": null,
   "metadata": {},
   "outputs": [],
   "source": [
    "d = {\"214123\" : 75.0,\n",
    " \"153525\" : 60.0,\n",
    " \"734829\" : 40.0,\n",
    " \"992832\" : 89.0,\n",
    " \"823482\" : 80.0}\n",
    "dict(sorted(list(d.items()), key=lambda p: p[1], reverse=True)[:3])"
   ]
  },
  {
   "cell_type": "markdown",
   "metadata": {},
   "source": [
    "## Custom Sorting using the key parameter"
   ]
  },
  {
   "cell_type": "markdown",
   "metadata": {},
   "source": [
    "`sorted()` function has an optional parameter called `key` which takes a function as its value. This key function transforms each element before sorting, it takes the value and returns `1` value which is then used within sort instead of the original value."
   ]
  },
  {
   "cell_type": "code",
   "execution_count": null,
   "metadata": {},
   "outputs": [],
   "source": [
    "L = [\"cccc\", \"b\", \"dd\", \"aaa\"]\n",
    "print(\"Sort with len :\", sorted(L, key=len))"
   ]
  },
  {
   "cell_type": "code",
   "execution_count": null,
   "metadata": {},
   "outputs": [],
   "source": [
    "def last(n):\n",
    "    return n[m]\n",
    "\n",
    "a = [(23, 45, 20), (25, 44, 39), (89, 40, 23)]\n",
    "m = 2\n",
    "sorted(a, key=last) \n",
    "\n",
    "sorted(a, key=lambda x: x[2]) "
   ]
  },
  {
   "cell_type": "markdown",
   "metadata": {},
   "source": [
    "## `sorted` based on multiple criteria"
   ]
  },
  {
   "cell_type": "markdown",
   "metadata": {},
   "source": [
    "https://stackoverflow.com/questions/57832543/how-to-sort-words-in-a-list-by-alphabet-and-word-length-using-python"
   ]
  },
  {
   "cell_type": "markdown",
   "metadata": {},
   "source": [
    "`sorted` will consider the criteria in order when sorting:"
   ]
  },
  {
   "cell_type": "code",
   "execution_count": null,
   "metadata": {},
   "outputs": [],
   "source": [
    "listOfWords = ['working', 'selling', 'work', 'workers', 'sell', 'world']\n",
    "print(sorted(listOfWords, key = lambda x: (x, len(x))))\n",
    "listOfWords"
   ]
  },
  {
   "cell_type": "markdown",
   "metadata": {},
   "source": [
    "# itertools"
   ]
  },
  {
   "cell_type": "code",
   "execution_count": null,
   "metadata": {
    "ExecuteTime": {
     "end_time": "2019-11-26T14:48:13.115093Z",
     "start_time": "2019-11-26T14:48:13.110424Z"
    }
   },
   "outputs": [],
   "source": [
    "import itertools"
   ]
  },
  {
   "cell_type": "markdown",
   "metadata": {},
   "source": [
    "## `groupby`"
   ]
  },
  {
   "cell_type": "code",
   "execution_count": null,
   "metadata": {
    "ExecuteTime": {
     "end_time": "2019-11-26T14:54:28.164130Z",
     "start_time": "2019-11-26T14:54:28.156436Z"
    }
   },
   "outputs": [],
   "source": [
    "from itertools import groupby"
   ]
  },
  {
   "cell_type": "markdown",
   "metadata": {},
   "source": [
    "https://stackoverflow.com/questions/57823718/how-can-i-split-a-dictionary-in-several-dictionaries-based-on-a-part-of-values-u#57823866"
   ]
  },
  {
   "cell_type": "code",
   "execution_count": null,
   "metadata": {
    "ExecuteTime": {
     "end_time": "2019-11-26T14:55:38.966641Z",
     "start_time": "2019-11-26T14:55:38.954380Z"
    }
   },
   "outputs": [],
   "source": [
    "d = {\n",
    "    'sku1': 'w-1',\n",
    "    'sku2': 'k-2',\n",
    "    'sku3': 'b-10',\n",
    "    'sku4': 'b-1',\n",
    "    'sku5': 'x-1',\n",
    "    'sku6': 'x-2'\n",
    "}\n",
    "\n",
    "type(d.items())\n",
    "dir(d.items())"
   ]
  },
  {
   "cell_type": "code",
   "execution_count": null,
   "metadata": {
    "ExecuteTime": {
     "end_time": "2019-11-26T14:54:29.773812Z",
     "start_time": "2019-11-26T14:54:29.759945Z"
    }
   },
   "outputs": [],
   "source": [
    "d = {\n",
    "    'sku1': 'w-1',\n",
    "    'sku2': 'k-2',\n",
    "    'sku3': 'b-10',\n",
    "    'sku4': 'b-1',\n",
    "    'sku5': 'x-1',\n",
    "    'sku6': 'x-2'\n",
    "}\n",
    "\n",
    "d.items()\n",
    "\n",
    "f = lambda x: x[1][0]\n",
    "t = sorted(d.items(), key=f)\n",
    "t \n",
    "[{i[0]: i[1] for i in list(v)} for k, v in groupby(t, key=f)]"
   ]
  },
  {
   "cell_type": "code",
   "execution_count": null,
   "metadata": {},
   "outputs": [],
   "source": [
    "from collections import defaultdict\n",
    "d = {\n",
    "    'sku1': 'w-1',\n",
    "    'sku2': 'k-2',\n",
    "    'sku3': 'b-10',\n",
    "    'sku4': 'b-1',\n",
    "    'sku5': 'x-1',\n",
    "    'sku6': 'x-2'\n",
    "}\n",
    "mother = defaultdict(dict)\n",
    "for key, val in d.items():\n",
    "    mother[val[0]][key] = val\n",
    "\n",
    "print(dict(mother))"
   ]
  },
  {
   "cell_type": "markdown",
   "metadata": {},
   "source": [
    "https://stackoverflow.com/questions/57593177/how-to-fix-a-logic-in-python-for-loop"
   ]
  },
  {
   "cell_type": "code",
   "execution_count": null,
   "metadata": {},
   "outputs": [],
   "source": [
    "lists = [\n",
    "    'a',\n",
    "    'b',\n",
    "    'c',\n",
    "    'None',\n",
    "    'd',\n",
    "    'e',\n",
    "    'e',\n",
    "    'f',\n",
    "    'None',\n",
    "    'g',\n",
    "    'h',\n",
    "    'i',\n",
    "    'i',\n",
    "    'i',\n",
    "    'None',\n",
    "    'aa',\n",
    "    'aa',\n",
    "    'aa',\n",
    "    'aa',\n",
    "    'aa',\n",
    "    'ab',\n",
    "    'ac',\n",
    "]\n",
    "index = [i for i, v in enumerate(lists) if v == 'None']\n",
    "s = 0\n",
    "i = 0\n",
    "while i < len(index):\n",
    "    print((lists[s:index[i]]))\n",
    "    s = index[i] + 1\n",
    "    i += 1\n",
    "print((lists[index[i - 1] + 1:]))\n",
    "\n",
    "from itertools import groupby\n",
    "lists = [\n",
    "    list(group) for key, group in groupby(lists, key=lambda x: x != \"None\")\n",
    "    if key\n",
    "]\n",
    "#print(lists)"
   ]
  },
  {
   "cell_type": "code",
   "execution_count": null,
   "metadata": {},
   "outputs": [],
   "source": [
    "keys = [\"C\", \"C#\", \"D\", \"D#\", \"E\", \"F\", \"F#\", \"G\", \"G#\", \"A\", \"A#\", \"B\"]\n",
    "for key, group in groupby(keys, key=lambda x: not x.endswith('#')):\n",
    "    print(key, list(group)) \n",
    "                          \n",
    "lists = [\n",
    "    list(group) for key, group in groupby(keys, key=lambda x: not x.endswith('#') )\n",
    "    if key\n",
    "]\n",
    "lists"
   ]
  },
  {
   "cell_type": "code",
   "execution_count": null,
   "metadata": {},
   "outputs": [],
   "source": [
    "from itertools import islice, cycle"
   ]
  },
  {
   "cell_type": "code",
   "execution_count": null,
   "metadata": {},
   "outputs": [],
   "source": [
    "colors = cycle(['red', 'white', 'blue'])  # infinite\n",
    "type(colors)\n",
    "next(colors)\n",
    "limited = islice(colors, 0, 4)            # finite\n",
    "for x in limited:                         \n",
    "    print(x)"
   ]
  },
  {
   "cell_type": "markdown",
   "metadata": {},
   "source": [
    "## `product`"
   ]
  },
  {
   "cell_type": "markdown",
   "metadata": {},
   "source": [
    "https://stackoverflow.com/questions/57542240/get-all-combination-of-terms#57542240"
   ]
  },
  {
   "cell_type": "code",
   "execution_count": null,
   "metadata": {
    "ExecuteTime": {
     "end_time": "2019-11-26T14:47:29.555448Z",
     "start_time": "2019-11-26T14:47:29.550464Z"
    }
   },
   "outputs": [],
   "source": [
    "from itertools import combinations"
   ]
  },
  {
   "cell_type": "code",
   "execution_count": null,
   "metadata": {
    "ExecuteTime": {
     "end_time": "2019-11-26T14:47:29.821889Z",
     "start_time": "2019-11-26T14:47:29.812479Z"
    }
   },
   "outputs": [],
   "source": [
    "x = combinations([1,2,3],2)\n",
    "'__iter__' in dir(x) # x is an iterable"
   ]
  },
  {
   "cell_type": "code",
   "execution_count": null,
   "metadata": {
    "ExecuteTime": {
     "end_time": "2019-11-26T14:47:30.624555Z",
     "start_time": "2019-11-26T14:47:30.611465Z"
    }
   },
   "outputs": [],
   "source": [
    "class Solution(object):\n",
    "    def threeSum(self, nums):\n",
    "        nums.sort()\n",
    "        res = []\n",
    "        for subset in combinations(nums,3):\n",
    "            if sum(subset) == 0:\n",
    "                res.append(list(subset))\n",
    "        return res\n",
    "nums = [-1, 0, 1, 2, -1, -4]\n",
    "a = Solution()\n",
    "a.threeSum(nums)"
   ]
  },
  {
   "cell_type": "code",
   "execution_count": null,
   "metadata": {
    "ExecuteTime": {
     "end_time": "2019-11-26T14:34:51.942887Z",
     "start_time": "2019-11-26T14:34:51.932417Z"
    }
   },
   "outputs": [],
   "source": [
    "x = \"new    search words\"\n",
    "words = x.split(' ')\n",
    "itertools.chain(*(itertools.combinations(words, i) for i in range(1, len(words)+1)))"
   ]
  },
  {
   "cell_type": "code",
   "execution_count": null,
   "metadata": {
    "ExecuteTime": {
     "end_time": "2019-11-26T14:46:40.057664Z",
     "start_time": "2019-11-26T14:46:40.054195Z"
    }
   },
   "outputs": [],
   "source": [
    "from itertools import compress"
   ]
  },
  {
   "cell_type": "code",
   "execution_count": null,
   "metadata": {
    "ExecuteTime": {
     "end_time": "2019-11-26T14:46:40.507884Z",
     "start_time": "2019-11-26T14:46:40.492998Z"
    }
   },
   "outputs": [],
   "source": [
    "def combinations(items):\n",
    "    return ( set(compress(items,mask)) for mask in product(*[[0,1]]*len(items)) ) \n",
    "\n",
    "list(combinations('0123'))"
   ]
  },
  {
   "cell_type": "markdown",
   "metadata": {},
   "source": [
    "# `random`"
   ]
  },
  {
   "cell_type": "code",
   "execution_count": null,
   "metadata": {},
   "outputs": [],
   "source": [
    "import random "
   ]
  },
  {
   "cell_type": "code",
   "execution_count": null,
   "metadata": {},
   "outputs": [],
   "source": [
    "suits = ('Hearts', 'Diamonds', 'Spades', 'Clubs')\n",
    "ranks = ('Two', 'Three', 'Four', 'Five', 'Six', 'Seven', 'Eight', 'Nine', 'Ten', 'Jack', 'Queen', 'King', 'Ace')\n",
    "values = {'Two':2, 'Three':3, 'Four':4, 'Five':5, 'Six':6, 'Seven':7, 'Eight':8, 'Nine':9, 'Ten':10, 'Jack':10,\n",
    "         'Queen':10, 'King':10, 'Ace':11}\n",
    "random.sample([i for i in suits], 1)\n",
    "random.sample([i for i in ranks], 1) \n",
    "random.sample([list(j)  for j in values.items()], 1)"
   ]
  },
  {
   "cell_type": "code",
   "execution_count": null,
   "metadata": {},
   "outputs": [],
   "source": [
    "# Why does this code work fine\n",
    "def okay0():\n",
    "    def foo():\n",
    "        L = []\n",
    "        def bar():\n",
    "            L.append(5)\n",
    "        bar()\n",
    "        return L\n",
    "    foo()\n",
    "\n",
    "# and so does this\n",
    "def okay1():\n",
    "    def foo():\n",
    "        def bar():\n",
    "            L.append(5)\n",
    "        L = []\n",
    "        bar()\n",
    "        return L\n",
    "    foo()\n",
    "\n",
    "# but the following code raises an exception?\n",
    "def broken():\n",
    "    def foo():\n",
    "        L = []\n",
    "        bar()\n",
    "        return L\n",
    "    def bar():\n",
    "        L.append(5)\n",
    "    foo()\n",
    "\n",
    "# Example\n",
    "test_list = [okay0, okay1, broken]\n",
    "for test_function in test_list:\n",
    "    try:\n",
    "        test_function()\n",
    "    except:\n",
    "        print(\"broken\")\n",
    "    else:\n",
    "        print(\"okay\")"
   ]
  },
  {
   "cell_type": "code",
   "execution_count": null,
   "metadata": {},
   "outputs": [],
   "source": [
    "points = 0 \n",
    "current = 0 \n",
    "Q = ['a','b','c']\n",
    "Q.pop('a')\n",
    "while(quiz < 5): \n",
    "    current = random.randint(0, len(Q) - 1) \n",
    "    question = Q[current] \n",
    "    answer = A[current]\n",
    "\n",
    "    question = input(\"\\nQ\" + str(quiz + 1) + \". \" + Q[current]) \n",
    "\n",
    "    if question.lower() == answer.lower(): \n",
    "        points = points + 20 \n",
    "        current = current + 2\n",
    "        print(\"Correct Answer!\") \n",
    "\n",
    "    else:\n",
    "        pri"
   ]
  },
  {
   "cell_type": "code",
   "execution_count": null,
   "metadata": {},
   "outputs": [],
   "source": [
    "random.sample(list(range(40)),2)\n",
    "random.sample(list(range(0,40)),2)\n",
    "a, b = random.sample(list(range(0,40)),2)\n",
    "a = random.sample([1],1)"
   ]
  },
  {
   "cell_type": "code",
   "execution_count": null,
   "metadata": {},
   "outputs": [],
   "source": [
    "a = 7 if random.choice(list(range(40))) < 20 else 8"
   ]
  },
  {
   "cell_type": "code",
   "execution_count": null,
   "metadata": {},
   "outputs": [],
   "source": [
    "for a in range(1, 9, 100):\n",
    "    print(a) "
   ]
  },
  {
   "cell_type": "markdown",
   "metadata": {},
   "source": [
    "`random.randint(a, b)` <span style=\"font-family:New York times; font-size:1em; color:green;\"> \n",
    "Return a random integer N such that a <= N <= b.\n",
    "</span>"
   ]
  },
  {
   "cell_type": "code",
   "execution_count": null,
   "metadata": {},
   "outputs": [],
   "source": [
    "random.randint(1,100)\n",
    "random.sample(range(0,20),2)"
   ]
  },
  {
   "cell_type": "markdown",
   "metadata": {},
   "source": [
    "#  `time`"
   ]
  },
  {
   "cell_type": "markdown",
   "metadata": {},
   "source": [
    "![](../../figure/xmind/dtime.png)"
   ]
  },
  {
   "cell_type": "code",
   "execution_count": 7,
   "metadata": {
    "ExecuteTime": {
     "end_time": "2019-11-28T12:32:29.624993Z",
     "start_time": "2019-11-28T12:32:29.621908Z"
    }
   },
   "outputs": [],
   "source": [
    "import calendar"
   ]
  },
  {
   "cell_type": "code",
   "execution_count": 8,
   "metadata": {
    "ExecuteTime": {
     "end_time": "2019-11-28T12:32:35.362884Z",
     "start_time": "2019-11-28T12:32:35.354511Z"
    }
   },
   "outputs": [
    {
     "name": "stdout",
     "output_type": "stream",
     "text": [
      "   November 2019\n",
      "Mo Tu We Th Fr Sa Su\n",
      "             1  2  3\n",
      " 4  5  6  7  8  9 10\n",
      "11 12 13 14 15 16 17\n",
      "18 19 20 21 22 23 24\n",
      "25 26 27 28 29 30\n",
      "\n"
     ]
    }
   ],
   "source": [
    "cal = calendar.month(2019, 11)\n",
    "print(cal)"
   ]
  },
  {
   "cell_type": "code",
   "execution_count": 9,
   "metadata": {
    "ExecuteTime": {
     "end_time": "2019-11-28T12:12:09.888291Z",
     "start_time": "2019-11-28T12:12:09.882129Z"
    }
   },
   "outputs": [],
   "source": [
    "import time"
   ]
  },
  {
   "cell_type": "code",
   "execution_count": 10,
   "metadata": {
    "ExecuteTime": {
     "end_time": "2019-11-28T11:36:19.277107Z",
     "start_time": "2019-11-28T11:36:19.274375Z"
    }
   },
   "outputs": [],
   "source": [
    "import datetime"
   ]
  },
  {
   "cell_type": "code",
   "execution_count": 12,
   "metadata": {
    "ExecuteTime": {
     "end_time": "2019-11-28T12:27:05.127689Z",
     "start_time": "2019-11-28T12:27:04.099402Z"
    }
   },
   "outputs": [
    {
     "name": "stdout",
     "output_type": "stream",
     "text": [
      "ok\n"
     ]
    }
   ],
   "source": [
    "time.time()\n",
    "time.localtime()\n",
    "time.asctime(time.localtime(time.time()))\n",
    "time.strptime(\"12:09:36\", \"%H:%M:%S\")\n",
    "time.sleep(1)\n",
    "print('ok')"
   ]
  },
  {
   "cell_type": "code",
   "execution_count": 16,
   "metadata": {},
   "outputs": [],
   "source": [
    "with open('../../DataAnalysis/data/raw_date_c_commits.txt', 'r') as f:\n",
    "    data = f.readlines()\n",
    "    \n",
    "data = [i.replace('\\n', '') for i in data]"
   ]
  },
  {
   "cell_type": "code",
   "execution_count": 28,
   "metadata": {},
   "outputs": [
    {
     "data": {
      "text/plain": [
       "datetime.datetime(2019, 12, 20, 15, 6, 9)"
      ]
     },
     "execution_count": 28,
     "metadata": {},
     "output_type": "execute_result"
    }
   ],
   "source": [
    "datetime.datetime.strptime(data[0], \"%Y-%m-%dT%H:%M:%SZ\")"
   ]
  },
  {
   "cell_type": "code",
   "execution_count": 18,
   "metadata": {},
   "outputs": [],
   "source": [
    "%matplotlib inline"
   ]
  },
  {
   "cell_type": "code",
   "execution_count": 19,
   "metadata": {},
   "outputs": [],
   "source": [
    "import pandas as pd "
   ]
  },
  {
   "cell_type": "code",
   "execution_count": 34,
   "metadata": {},
   "outputs": [
    {
     "data": {
      "text/plain": [
       "['2019-12-20T15:06:09Z',\n",
       " '2019-12-18T15:39:48Z',\n",
       " '2019-12-16T09:42:41Z',\n",
       " '2019-12-10T09:11:48Z',\n",
       " '2019-12-10T07:27:07Z',\n",
       " '2019-12-06T13:45:22Z',\n",
       " '2019-12-01T14:58:37Z',\n",
       " '2019-11-27T07:37:51Z',\n",
       " '2019-11-24T10:49:04Z',\n",
       " '2019-11-24T09:59:17Z',\n",
       " '2019-11-19T14:39:22Z',\n",
       " '2019-11-17T06:34:09Z',\n",
       " '2019-11-16T16:00:09Z',\n",
       " '2019-11-13T15:29:24Z',\n",
       " '2019-11-11T07:48:11Z',\n",
       " '2019-11-08T07:48:26Z',\n",
       " '2019-11-06T09:18:58Z',\n",
       " '2019-11-05T12:36:37Z',\n",
       " '2019-11-04T14:40:24Z',\n",
       " '2019-10-31T14:55:25Z',\n",
       " '2019-10-30T15:30:33Z',\n",
       " '2019-10-29T15:37:57Z',\n",
       " '2019-10-28T09:30:57Z',\n",
       " '2019-10-27T14:58:05Z',\n",
       " '2019-10-26T15:21:43Z',\n",
       " '2019-10-25T14:53:56Z',\n",
       " '2019-10-18T15:35:17Z',\n",
       " '2019-10-12T15:21:39Z',\n",
       " '2019-09-29T14:34:50Z',\n",
       " '2019-09-26T14:57:24Z',\n",
       " '2019-09-24T15:02:32Z',\n",
       " '2019-09-23T15:08:26Z',\n",
       " '2019-09-22T14:38:49Z',\n",
       " '2019-08-25T14:57:24Z',\n",
       " '2019-08-03T15:14:16Z',\n",
       " '2019-07-10T15:56:07Z',\n",
       " '2019-07-09T15:18:01Z',\n",
       " '2019-07-06T15:20:41Z',\n",
       " '2019-07-05T15:42:26Z',\n",
       " '2019-07-02T15:09:37Z',\n",
       " '2019-06-27T09:55:41Z',\n",
       " '2019-06-26T12:30:04Z',\n",
       " '2019-06-18T09:51:26Z',\n",
       " '2019-06-16T13:34:37Z',\n",
       " '2019-05-18T14:10:59Z',\n",
       " '2019-05-07T06:51:57Z',\n",
       " '2019-05-07T06:25:41Z',\n",
       " '2019-04-24T14:43:47Z',\n",
       " '2019-04-21T06:50:50Z',\n",
       " '2019-04-10T10:28:29Z',\n",
       " '2019-04-03T14:24:50Z',\n",
       " '2019-03-30T09:19:40Z',\n",
       " '2019-03-27T15:23:41Z',\n",
       " '2019-03-25T22:25:23Z',\n",
       " '2019-03-25T15:16:20Z',\n",
       " '2019-03-24T00:25:35Z',\n",
       " '2019-03-20T10:39:36Z',\n",
       " '2019-01-31T10:57:02Z',\n",
       " '2019-01-10T07:23:32Z',\n",
       " '2018-12-31T10:45:08Z',\n",
       " '2018-12-22T14:01:11Z',\n",
       " '2018-12-22T12:05:58Z',\n",
       " '2018-12-21T14:32:05Z',\n",
       " '2018-12-21T11:39:54Z',\n",
       " '2018-12-19T13:50:25Z',\n",
       " '2018-12-13T13:12:00Z',\n",
       " '2018-12-11T14:06:50Z',\n",
       " '2018-12-11T13:54:32Z',\n",
       " '2018-12-09T03:27:38Z',\n",
       " '2018-12-08T15:49:11Z',\n",
       " '2018-12-08T12:45:37Z',\n",
       " '2018-11-29T06:42:45Z',\n",
       " '2018-11-28T12:39:04Z',\n",
       " '2018-11-27T06:29:11Z',\n",
       " '2018-09-26T10:34:04Z',\n",
       " '2018-08-30T14:11:48Z',\n",
       " '2018-07-06T06:39:29Z',\n",
       " '2018-06-19T10:05:36Z',\n",
       " '2018-06-14T23:38:40Z',\n",
       " '2018-02-16T07:00:59Z',\n",
       " '2018-02-12T13:19:14Z',\n",
       " '2018-02-12T12:14:10Z',\n",
       " '2018-02-10T12:17:54Z',\n",
       " '2018-02-07T15:42:18Z',\n",
       " '2018-02-07T12:29:22Z',\n",
       " '2018-02-05T12:52:36Z',\n",
       " '2018-02-01T12:02:12Z',\n",
       " '2018-01-27T13:07:35Z',\n",
       " '2017-12-29T02:11:24Z',\n",
       " '2017-12-29T01:09:18Z',\n",
       " '2017-12-28T12:52:58Z',\n",
       " '2017-12-24T15:13:12Z',\n",
       " '2017-12-11T13:53:22Z',\n",
       " '2017-12-04T03:40:55Z',\n",
       " '2017-11-14T09:31:12Z',\n",
       " '2017-11-14T09:30:16Z',\n",
       " '2017-11-04T15:51:01Z',\n",
       " '2017-11-02T12:10:51Z',\n",
       " '2017-11-02T12:10:24Z',\n",
       " '2017-11-02T04:10:09Z',\n",
       " '2017-10-11T07:29:36Z',\n",
       " '2017-10-09T14:37:18Z',\n",
       " '2017-10-08T03:07:48Z',\n",
       " '2017-10-01T14:58:38Z',\n",
       " '2017-10-01T14:57:44Z',\n",
       " '2017-09-13T03:52:21Z',\n",
       " '2017-09-05T12:17:26Z',\n",
       " '2017-08-25T13:12:01Z',\n",
       " '2017-08-25T13:11:19Z',\n",
       " '2017-08-13T06:18:36Z',\n",
       " '2017-08-07T09:21:55Z',\n",
       " '2017-07-21T08:38:13Z',\n",
       " '2017-07-14T02:52:50Z',\n",
       " '2017-07-06T09:19:10Z',\n",
       " '2017-07-03T13:55:25Z',\n",
       " '2017-06-22T03:47:15Z',\n",
       " '2017-06-20T15:05:29Z',\n",
       " '2017-06-20T06:52:21Z',\n",
       " '2017-06-19T22:46:03Z',\n",
       " '2017-06-14T12:54:26Z',\n",
       " '2017-06-14T09:16:52Z',\n",
       " '2017-06-12T14:10:27Z',\n",
       " '2017-06-06T08:50:31Z',\n",
       " '2017-06-06T08:48:04Z',\n",
       " '2017-06-06T08:47:25Z',\n",
       " '2017-05-23T15:17:43Z',\n",
       " '2017-05-23T09:09:23Z',\n",
       " '2017-05-22T15:20:21Z',\n",
       " '2017-05-22T09:29:53Z',\n",
       " '2017-05-05T03:55:40Z',\n",
       " '2017-05-04T22:52:59Z',\n",
       " '2017-05-04T09:27:12Z',\n",
       " '2017-05-04T09:25:17Z',\n",
       " '2017-04-23T15:03:31Z',\n",
       " '2017-04-23T12:10:15Z',\n",
       " '2017-04-23T12:09:33Z',\n",
       " '2017-04-20T10:08:46Z',\n",
       " '2017-04-20T09:48:47Z',\n",
       " '2017-04-20T00:29:02Z',\n",
       " '2017-04-19T13:41:53Z',\n",
       " '2017-04-18T15:26:39Z',\n",
       " '2017-04-09T02:05:41Z',\n",
       " '2017-04-02T09:10:55Z',\n",
       " '2017-03-31T14:55:17Z',\n",
       " '2017-03-24T13:47:32Z',\n",
       " '2017-03-20T06:52:15Z']"
      ]
     },
     "execution_count": 34,
     "metadata": {},
     "output_type": "execute_result"
    }
   ],
   "source": [
    "data "
   ]
  },
  {
   "cell_type": "code",
   "execution_count": 31,
   "metadata": {},
   "outputs": [
    {
     "data": {
      "text/plain": [
       "pandas.core.series.Series"
      ]
     },
     "execution_count": 31,
     "metadata": {},
     "output_type": "execute_result"
    }
   ],
   "source": [
    "type(df[\"date\"].dt.hour)"
   ]
  },
  {
   "cell_type": "code",
   "execution_count": 33,
   "metadata": {},
   "outputs": [
    {
     "data": {
      "text/plain": [
       "['T',\n",
       " '_AXIS_ALIASES',\n",
       " '_AXIS_IALIASES',\n",
       " '_AXIS_LEN',\n",
       " '_AXIS_NAMES',\n",
       " '_AXIS_NUMBERS',\n",
       " '_AXIS_ORDERS',\n",
       " '_AXIS_REVERSED',\n",
       " '_AXIS_SLICEMAP',\n",
       " '__abs__',\n",
       " '__add__',\n",
       " '__and__',\n",
       " '__array__',\n",
       " '__array_prepare__',\n",
       " '__array_priority__',\n",
       " '__array_wrap__',\n",
       " '__bool__',\n",
       " '__bytes__',\n",
       " '__class__',\n",
       " '__contains__',\n",
       " '__copy__',\n",
       " '__deepcopy__',\n",
       " '__delattr__',\n",
       " '__delitem__',\n",
       " '__dict__',\n",
       " '__dir__',\n",
       " '__div__',\n",
       " '__divmod__',\n",
       " '__doc__',\n",
       " '__eq__',\n",
       " '__finalize__',\n",
       " '__float__',\n",
       " '__floordiv__',\n",
       " '__format__',\n",
       " '__ge__',\n",
       " '__getattr__',\n",
       " '__getattribute__',\n",
       " '__getitem__',\n",
       " '__getstate__',\n",
       " '__gt__',\n",
       " '__hash__',\n",
       " '__iadd__',\n",
       " '__iand__',\n",
       " '__ifloordiv__',\n",
       " '__imod__',\n",
       " '__imul__',\n",
       " '__init__',\n",
       " '__init_subclass__',\n",
       " '__int__',\n",
       " '__invert__',\n",
       " '__ior__',\n",
       " '__ipow__',\n",
       " '__isub__',\n",
       " '__iter__',\n",
       " '__itruediv__',\n",
       " '__ixor__',\n",
       " '__le__',\n",
       " '__len__',\n",
       " '__long__',\n",
       " '__lt__',\n",
       " '__matmul__',\n",
       " '__mod__',\n",
       " '__module__',\n",
       " '__mul__',\n",
       " '__ne__',\n",
       " '__neg__',\n",
       " '__new__',\n",
       " '__nonzero__',\n",
       " '__or__',\n",
       " '__pos__',\n",
       " '__pow__',\n",
       " '__radd__',\n",
       " '__rand__',\n",
       " '__rdiv__',\n",
       " '__reduce__',\n",
       " '__reduce_ex__',\n",
       " '__repr__',\n",
       " '__rfloordiv__',\n",
       " '__rmatmul__',\n",
       " '__rmod__',\n",
       " '__rmul__',\n",
       " '__ror__',\n",
       " '__round__',\n",
       " '__rpow__',\n",
       " '__rsub__',\n",
       " '__rtruediv__',\n",
       " '__rxor__',\n",
       " '__setattr__',\n",
       " '__setitem__',\n",
       " '__setstate__',\n",
       " '__sizeof__',\n",
       " '__str__',\n",
       " '__sub__',\n",
       " '__subclasshook__',\n",
       " '__truediv__',\n",
       " '__unicode__',\n",
       " '__weakref__',\n",
       " '__xor__',\n",
       " '_accessors',\n",
       " '_add_numeric_operations',\n",
       " '_add_series_only_operations',\n",
       " '_add_series_or_dataframe_operations',\n",
       " '_agg_by_level',\n",
       " '_agg_doc',\n",
       " '_aggregate',\n",
       " '_aggregate_multiple_funcs',\n",
       " '_align_frame',\n",
       " '_align_series',\n",
       " '_binop',\n",
       " '_box_item_values',\n",
       " '_builtin_table',\n",
       " '_can_hold_na',\n",
       " '_check_inplace_setting',\n",
       " '_check_is_chained_assignment_possible',\n",
       " '_check_label_or_level_ambiguity',\n",
       " '_check_percentile',\n",
       " '_check_setitem_copy',\n",
       " '_clear_item_cache',\n",
       " '_clip_with_one_bound',\n",
       " '_clip_with_scalar',\n",
       " '_consolidate',\n",
       " '_consolidate_inplace',\n",
       " '_construct_axes_dict',\n",
       " '_construct_axes_dict_for_slice',\n",
       " '_construct_axes_dict_from',\n",
       " '_construct_axes_from_arguments',\n",
       " '_constructor',\n",
       " '_constructor_expanddim',\n",
       " '_constructor_sliced',\n",
       " '_convert',\n",
       " '_create_indexer',\n",
       " '_cython_table',\n",
       " '_deprecations',\n",
       " '_dir_additions',\n",
       " '_dir_deletions',\n",
       " '_drop_axis',\n",
       " '_drop_labels_or_levels',\n",
       " '_expand_axes',\n",
       " '_find_valid_index',\n",
       " '_formatting_values',\n",
       " '_from_axes',\n",
       " '_get_axis',\n",
       " '_get_axis_name',\n",
       " '_get_axis_number',\n",
       " '_get_axis_resolvers',\n",
       " '_get_block_manager_axis',\n",
       " '_get_bool_data',\n",
       " '_get_cacher',\n",
       " '_get_index_resolvers',\n",
       " '_get_item_cache',\n",
       " '_get_label_or_level_values',\n",
       " '_get_numeric_data',\n",
       " '_get_value',\n",
       " '_get_values',\n",
       " '_get_values_tuple',\n",
       " '_get_with',\n",
       " '_gotitem',\n",
       " '_iget_item_cache',\n",
       " '_index',\n",
       " '_indexed_same',\n",
       " '_info_axis',\n",
       " '_info_axis_name',\n",
       " '_info_axis_number',\n",
       " '_init_dict',\n",
       " '_init_mgr',\n",
       " '_internal_names',\n",
       " '_internal_names_set',\n",
       " '_is_builtin_func',\n",
       " '_is_cached',\n",
       " '_is_copy',\n",
       " '_is_cython_func',\n",
       " '_is_datelike_mixed_type',\n",
       " '_is_label_or_level_reference',\n",
       " '_is_label_reference',\n",
       " '_is_level_reference',\n",
       " '_is_mixed_type',\n",
       " '_is_numeric_mixed_type',\n",
       " '_is_view',\n",
       " '_ix',\n",
       " '_ixs',\n",
       " '_map_values',\n",
       " '_maybe_cache_changed',\n",
       " '_maybe_update_cacher',\n",
       " '_metadata',\n",
       " '_ndarray_values',\n",
       " '_needs_reindex_multi',\n",
       " '_obj_with_exclusions',\n",
       " '_protect_consolidate',\n",
       " '_reduce',\n",
       " '_reindex_axes',\n",
       " '_reindex_axis',\n",
       " '_reindex_indexer',\n",
       " '_reindex_multi',\n",
       " '_reindex_with_indexers',\n",
       " '_repr_data_resource_',\n",
       " '_repr_latex_',\n",
       " '_reset_cache',\n",
       " '_reset_cacher',\n",
       " '_selected_obj',\n",
       " '_selection',\n",
       " '_selection_list',\n",
       " '_selection_name',\n",
       " '_set_as_cached',\n",
       " '_set_axis',\n",
       " '_set_axis_name',\n",
       " '_set_is_copy',\n",
       " '_set_item',\n",
       " '_set_labels',\n",
       " '_set_name',\n",
       " '_set_subtyp',\n",
       " '_set_value',\n",
       " '_set_values',\n",
       " '_set_with',\n",
       " '_set_with_engine',\n",
       " '_setup_axes',\n",
       " '_shallow_copy',\n",
       " '_slice',\n",
       " '_stat_axis',\n",
       " '_stat_axis_name',\n",
       " '_stat_axis_number',\n",
       " '_take',\n",
       " '_to_dict_of_blocks',\n",
       " '_try_aggregate_string_function',\n",
       " '_typ',\n",
       " '_unpickle_series_compat',\n",
       " '_update_inplace',\n",
       " '_validate_dtype',\n",
       " '_values',\n",
       " '_where',\n",
       " '_xs',\n",
       " 'abs',\n",
       " 'add',\n",
       " 'add_prefix',\n",
       " 'add_suffix',\n",
       " 'agg',\n",
       " 'aggregate',\n",
       " 'align',\n",
       " 'all',\n",
       " 'any',\n",
       " 'append',\n",
       " 'apply',\n",
       " 'argmax',\n",
       " 'argmin',\n",
       " 'argsort',\n",
       " 'as_matrix',\n",
       " 'asfreq',\n",
       " 'asof',\n",
       " 'astype',\n",
       " 'at',\n",
       " 'at_time',\n",
       " 'autocorr',\n",
       " 'axes',\n",
       " 'base',\n",
       " 'between',\n",
       " 'between_time',\n",
       " 'bfill',\n",
       " 'bool',\n",
       " 'clip',\n",
       " 'clip_lower',\n",
       " 'clip_upper',\n",
       " 'combine',\n",
       " 'combine_first',\n",
       " 'compound',\n",
       " 'compress',\n",
       " 'copy',\n",
       " 'corr',\n",
       " 'count',\n",
       " 'cov',\n",
       " 'cummax',\n",
       " 'cummin',\n",
       " 'cumprod',\n",
       " 'cumsum',\n",
       " 'data',\n",
       " 'describe',\n",
       " 'diff',\n",
       " 'div',\n",
       " 'divide',\n",
       " 'divmod',\n",
       " 'dot',\n",
       " 'drop',\n",
       " 'drop_duplicates',\n",
       " 'dropna',\n",
       " 'dtype',\n",
       " 'dtypes',\n",
       " 'duplicated',\n",
       " 'empty',\n",
       " 'eq',\n",
       " 'equals',\n",
       " 'ewm',\n",
       " 'expanding',\n",
       " 'factorize',\n",
       " 'ffill',\n",
       " 'fillna',\n",
       " 'filter',\n",
       " 'first',\n",
       " 'first_valid_index',\n",
       " 'flags',\n",
       " 'floordiv',\n",
       " 'from_array',\n",
       " 'ftype',\n",
       " 'ftypes',\n",
       " 'ge',\n",
       " 'get',\n",
       " 'get_dtype_counts',\n",
       " 'get_ftype_counts',\n",
       " 'get_values',\n",
       " 'groupby',\n",
       " 'gt',\n",
       " 'hasnans',\n",
       " 'head',\n",
       " 'hist',\n",
       " 'iat',\n",
       " 'idxmax',\n",
       " 'idxmin',\n",
       " 'iloc',\n",
       " 'imag',\n",
       " 'index',\n",
       " 'infer_objects',\n",
       " 'interpolate',\n",
       " 'is_monotonic',\n",
       " 'is_monotonic_decreasing',\n",
       " 'is_monotonic_increasing',\n",
       " 'is_unique',\n",
       " 'isin',\n",
       " 'isna',\n",
       " 'isnull',\n",
       " 'item',\n",
       " 'items',\n",
       " 'itemsize',\n",
       " 'iteritems',\n",
       " 'ix',\n",
       " 'keys',\n",
       " 'kurt',\n",
       " 'kurtosis',\n",
       " 'last',\n",
       " 'last_valid_index',\n",
       " 'le',\n",
       " 'loc',\n",
       " 'lt',\n",
       " 'mad',\n",
       " 'map',\n",
       " 'mask',\n",
       " 'max',\n",
       " 'mean',\n",
       " 'median',\n",
       " 'memory_usage',\n",
       " 'min',\n",
       " 'mod',\n",
       " 'mode',\n",
       " 'mul',\n",
       " 'multiply',\n",
       " 'name',\n",
       " 'nbytes',\n",
       " 'ndim',\n",
       " 'ne',\n",
       " 'nlargest',\n",
       " 'nonzero',\n",
       " 'notna',\n",
       " 'notnull',\n",
       " 'nsmallest',\n",
       " 'nunique',\n",
       " 'pct_change',\n",
       " 'pipe',\n",
       " 'plot',\n",
       " 'pop',\n",
       " 'pow',\n",
       " 'prod',\n",
       " 'product',\n",
       " 'ptp',\n",
       " 'put',\n",
       " 'quantile',\n",
       " 'radd',\n",
       " 'rank',\n",
       " 'ravel',\n",
       " 'rdiv',\n",
       " 'real',\n",
       " 'reindex',\n",
       " 'reindex_axis',\n",
       " 'reindex_like',\n",
       " 'rename',\n",
       " 'rename_axis',\n",
       " 'reorder_levels',\n",
       " 'repeat',\n",
       " 'replace',\n",
       " 'resample',\n",
       " 'reset_index',\n",
       " 'rfloordiv',\n",
       " 'rmod',\n",
       " 'rmul',\n",
       " 'rolling',\n",
       " 'round',\n",
       " 'rpow',\n",
       " 'rsub',\n",
       " 'rtruediv',\n",
       " 'sample',\n",
       " 'searchsorted',\n",
       " 'select',\n",
       " 'sem',\n",
       " 'set_axis',\n",
       " 'shape',\n",
       " 'shift',\n",
       " 'size',\n",
       " 'skew',\n",
       " 'slice_shift',\n",
       " 'sort_index',\n",
       " 'sort_values',\n",
       " 'squeeze',\n",
       " 'std',\n",
       " 'strides',\n",
       " 'sub',\n",
       " 'subtract',\n",
       " 'sum',\n",
       " 'swapaxes',\n",
       " 'swaplevel',\n",
       " 'tail',\n",
       " 'take',\n",
       " 'to_clipboard',\n",
       " 'to_csv',\n",
       " 'to_dense',\n",
       " 'to_dict',\n",
       " 'to_excel',\n",
       " 'to_frame',\n",
       " 'to_hdf',\n",
       " 'to_json',\n",
       " 'to_latex',\n",
       " 'to_msgpack',\n",
       " 'to_period',\n",
       " 'to_pickle',\n",
       " 'to_sparse',\n",
       " 'to_sql',\n",
       " 'to_string',\n",
       " 'to_timestamp',\n",
       " 'to_xarray',\n",
       " 'tolist',\n",
       " 'transform',\n",
       " 'transpose',\n",
       " 'truediv',\n",
       " 'truncate',\n",
       " 'tshift',\n",
       " 'tz_convert',\n",
       " 'tz_localize',\n",
       " 'unique',\n",
       " 'unstack',\n",
       " 'update',\n",
       " 'value_counts',\n",
       " 'values',\n",
       " 'var',\n",
       " 'view',\n",
       " 'where',\n",
       " 'xs']"
      ]
     },
     "execution_count": 33,
     "metadata": {},
     "output_type": "execute_result"
    }
   ],
   "source": [
    "dir(df[\"date\"].dt.hour)"
   ]
  },
  {
   "cell_type": "code",
   "execution_count": 22,
   "metadata": {},
   "outputs": [
    {
     "data": {
      "image/png": "[encoded data removed]",
      "text/plain": [
       "<Figure size 432x288 with 1 Axes>"
      ]
     },
     "metadata": {
      "needs_background": "light"
     },
     "output_type": "display_data"
    }
   ],
   "source": [
    "df = pd.DataFrame({'date': data})\n",
    "df[\"date\"] = df[\"date\"].astype(\"datetime64\")\n",
    "_ = df.groupby([df[\"date\"].dt.hour]).count().plot(kind=\"bar\")"
   ]
  },
  {
   "cell_type": "code",
   "execution_count": null,
   "metadata": {
    "ExecuteTime": {
     "end_time": "2019-11-28T12:10:51.980034Z",
     "start_time": "2019-11-28T12:10:51.971588Z"
    }
   },
   "outputs": [],
   "source": [
    "#dir(datetime)\n",
    "type(datetime.date)\n",
    "isinstance({2}, set)"
   ]
  },
  {
   "cell_type": "code",
   "execution_count": null,
   "metadata": {
    "ExecuteTime": {
     "end_time": "2019-11-28T11:36:22.640028Z",
     "start_time": "2019-11-28T11:36:22.606856Z"
    }
   },
   "outputs": [],
   "source": [
    "#datetime.date\n",
    "dO = datetime.date.today()\n",
    "dO\n",
    "dO.isoformat()\n",
    "dO.strftime(\"%m/%d/%Y\")\n",
    "datetime.datetime.strftime(dO, \"%m/%d/%Y\")\n",
    "(dO.day, dO.month,dO.year)\n",
    "dO.isoweekday()\n",
    "dO.timetuple()\n",
    "dO.isocalendar()\n",
    "type(dO)\n",
    "#dir(dO)"
   ]
  },
  {
   "cell_type": "code",
   "execution_count": null,
   "metadata": {
    "ExecuteTime": {
     "end_time": "2019-11-28T11:36:24.810468Z",
     "start_time": "2019-11-28T11:36:24.799593Z"
    }
   },
   "outputs": [],
   "source": [
    "dTO = datetime.datetime.today()\n",
    "dTO.date()\n",
    "dTO.now()\n",
    "dTO.astimezone()\n",
    "dTO.isocalendar()\n",
    "for i in dir(dTO):\n",
    "    if not i.startswith('_'):\n",
    "        pass"
   ]
  },
  {
   "cell_type": "code",
   "execution_count": null,
   "metadata": {
    "ExecuteTime": {
     "end_time": "2019-11-28T11:36:28.417336Z",
     "start_time": "2019-11-28T11:36:28.411921Z"
    }
   },
   "outputs": [],
   "source": [
    "today = datetime.date.today().replace(day=1)\n",
    "min_month = max(today.month - 5, 0)\n",
    "month_range = range(today.month, min_month, -1)\n",
    "print([today.replace(month=i).strftime(\"%B\") for i in month_range])"
   ]
  },
  {
   "cell_type": "code",
   "execution_count": null,
   "metadata": {
    "ExecuteTime": {
     "end_time": "2019-11-28T11:36:33.901890Z",
     "start_time": "2019-11-28T11:36:33.896726Z"
    }
   },
   "outputs": [],
   "source": [
    "dt = datetime.datetime.strftime(datetime.datetime.today().date(), \"%m/%d/%Y\")\n",
    "dt "
   ]
  },
  {
   "cell_type": "markdown",
   "metadata": {},
   "source": [
    "https://stackoverflow.com/questions/57800633/get-last-x-months-in-python"
   ]
  },
  {
   "cell_type": "code",
   "execution_count": null,
   "metadata": {
    "ExecuteTime": {
     "end_time": "2019-11-28T11:36:38.497516Z",
     "start_time": "2019-11-28T11:36:38.491919Z"
    }
   },
   "outputs": [],
   "source": [
    "print(today.month)\n",
    "\n",
    "month = [\"January\", \"February\", \"March\", \"April\",\n",
    "        \"May\", \"June\", \"July\", \"August\", \"September\", \"October\", \"November\", \"December\"]\n",
    "\n",
    "print(sorted( month[today.month:], reverse=True) )"
   ]
  },
  {
   "cell_type": "markdown",
   "metadata": {},
   "source": [
    "http://strftime.org/"
   ]
  },
  {
   "cell_type": "code",
   "execution_count": null,
   "metadata": {
    "ExecuteTime": {
     "end_time": "2019-11-28T11:36:43.571055Z",
     "start_time": "2019-11-28T11:36:43.560252Z"
    }
   },
   "outputs": [],
   "source": [
    "array = [{'date': '09-Jul-2018'}, \n",
    "         {'date': '09-Aug-2018'}, \n",
    "         {'date': '09-Sep-2018'}]\n",
    "\n",
    "to_check = \"17-Aug-2018\"\n",
    "to_check = datetime.datetime.strptime(to_check, \"%d-%b-%Y\")\n",
    "\n",
    "closest_dates = []\n",
    "val = 0\n",
    "for date in array:\n",
    "    date_val = datetime.datetime.strptime(date[\"date\"], \"%d-%b-%Y\")\n",
    "    if date_val <= to_check:\n",
    "        closest_dates.append({(to_check - date_val).days: date[\"date\"]})\n",
    "print(min(closest_dates, key=lambda x: list(x.items())[0]))"
   ]
  },
  {
   "cell_type": "code",
   "execution_count": null,
   "metadata": {
    "ExecuteTime": {
     "end_time": "2019-11-28T11:37:00.465685Z",
     "start_time": "2019-11-28T11:37:00.448686Z"
    }
   },
   "outputs": [],
   "source": [
    "array = [{'date': '09-Jul-2018'}, \n",
    "         {'date': '09-Aug-2018'}, \n",
    "         {'date': '09-Sep-2018'}]\n",
    "\n",
    "input_dt = datetime.datetime.strptime('17-Aug-2018', '%d-%b-%Y')\n",
    "sorted(\n",
    "    map(lambda date: datetime.datetime.strptime(date['date'], '%d-%b-%Y'), array),\n",
    "    key=lambda dt: (input_dt - dt).total_seconds() if dt < input_dt else float(\"inf\"),\n",
    ")[0].strftime('%d-%b-%Y')"
   ]
  },
  {
   "cell_type": "markdown",
   "metadata": {},
   "source": [
    "https://stackoverflow.com/questions/57780935/converting-numeric-dates-into-words-inside-dictionary"
   ]
  },
  {
   "cell_type": "code",
   "execution_count": null,
   "metadata": {
    "ExecuteTime": {
     "end_time": "2019-11-28T11:37:51.690427Z",
     "start_time": "2019-11-28T11:37:51.669786Z"
    }
   },
   "outputs": [],
   "source": [
    "import json\n",
    "\n",
    "d = {'A1': ['C', '2003-01-01 13:01:00',\n",
    "            'Lang', '2012-06-02 07:00:00',\n",
    "            '55901','2001-09-05 00:00:00'],\n",
    "    'A2': ['Eds', '2002-02-12 10:07:00','12-3-54']}\n",
    "\n",
    "suf = lambda n: \"%d%s\"%(n, {1:\"st\",2:\"nd\",3:\"rd\"}.get(n if n < 20 else n % 10, \"th\"))\n",
    "daydict = dict(zip(range(1,32), [suf(n) for n in range(1,32)]))\n",
    "#'January 1st, 2003 at 1:01pm'\n",
    "for k, v in d.items(): \n",
    "    index = 1\n",
    "    for item in  v[1::2]:\n",
    "        \n",
    "        tem = datetime.datetime.strptime(item, '%Y-%m-%d %H:%M:%S')\n",
    "        x = tem.hour-12 if tem.hour > 12 else tem.hour\n",
    "        y = 'pm' if tem.hour > 12 else 'am'\n",
    "        \n",
    "        d[k][index] = ' '.join([tem.strftime('%B'), daydict[tem.day]+',', str(tem.year), str(x)+':'+tem.strftime('%M')+y])\n",
    "        index += 2\n",
    "print(json.dumps(d, indent=2))"
   ]
  },
  {
   "cell_type": "markdown",
   "metadata": {},
   "source": [
    "# `feedparser`"
   ]
  },
  {
   "cell_type": "markdown",
   "metadata": {},
   "source": [
    "[feedparser documentation](https://pythonhosted.org/feedparser/common-rss-elements.html)\n",
    "\n",
    "Parsing a feed from\n",
    "* a remote URL\n",
    "* a local file \n",
    "* a string"
   ]
  },
  {
   "cell_type": "code",
   "execution_count": null,
   "metadata": {},
   "outputs": [],
   "source": [
    "result =  feedparser.parse('https://complicatedphenomenon.github.io')\n",
    "cpurl = 'https://complicatedphenomenon.github.io/atom.xml'\n",
    "result = feedparser.parse(cpurl)\n",
    "len(result)\n",
    "massiveoutput = result['entries'][0]['content'][0]['value']"
   ]
  },
  {
   "cell_type": "markdown",
   "metadata": {},
   "source": [
    "# `configparser` and `logging`"
   ]
  },
  {
   "cell_type": "code",
   "execution_count": null,
   "metadata": {},
   "outputs": [],
   "source": [
    "!find . -name '.ini' #???"
   ]
  },
  {
   "cell_type": "code",
   "execution_count": null,
   "metadata": {},
   "outputs": [],
   "source": [
    "less config-dev.ini"
   ]
  },
  {
   "cell_type": "markdown",
   "metadata": {},
   "source": [
    "[Configuration file format](https://pymotw.com/2/ConfigParser/)"
   ]
  },
  {
   "cell_type": "code",
   "execution_count": null,
   "metadata": {},
   "outputs": [],
   "source": [
    "import configparser\n",
    "import logging\n",
    "CONFIG_PATH = '/Users/wangmiao/Playground/GH/IPython_take_off/basic/WiderKnowledge/config-dev.ini'  # 按照实际情况修改位置\n",
    "CONFIG = configparser.RawConfigParser()\n",
    "CONFIG.read(CONFIG_PATH)\n",
    "\n",
    "LOG_NAME = CONFIG.get('Log', 'Name')\n",
    "LOG_PATH = CONFIG.get('Log', 'Path')  # 按照实际情况修改位置\n",
    "LOG_LVL = CONFIG.get('Log', 'Level')\n",
    "LOG_WHEN = CONFIG.get('Log', 'When')\n",
    "LOG_INTV = CONFIG.getint('Log', 'Interval')\n",
    "LOG_MAXC = CONFIG.getint('Log', 'Max Counter')\n",
    "LOG_FMT = CONFIG.get('Log', 'Format')\n",
    "MAX_WORKER = int(CONFIG.get('Concurrency', 'Max Workers'))  # 按照实际情况修改数量\n",
    "PREFETCH_NUM = int(CONFIG.get('Concurrency', 'Consume Number'))  # 按照实际情况修改数量\n",
    "MQ_HOST = CONFIG.get('Message Queue', 'Host')\n",
    "MQ_PORT = CONFIG.getint('Message Queue', 'Port')\n",
    "MQ_VHOST = CONFIG.get('Message Queue', 'Virtual Host')\n",
    "MQ_USNM = CONFIG.get('Message Queue', 'Username')\n",
    "MQ_PSWD = CONFIG.get('Message Queue', 'Password')\n",
    "MQ_DURABLE = CONFIG.getboolean('Message Queue', 'Durable')\n",
    "MQ_MODE = CONFIG.getint('Message Queue', 'Delivery Mode')\n",
    "PAPER_REQUEST = CONFIG.get('Message Queue', 'Paper Request Queue')\n",
    "PAPER_RESPONSE = CONFIG.get('Message Queue', 'Paper Response Queue')\n",
    "INFO_REQUEST = CONFIG.get('Message Queue', 'Info Request Queue')\n",
    "INFO_RESPONSE = CONFIG.get('Message Queue', 'Info Response Queue')\n",
    "DOWNLOAD_PATH = CONFIG.get('Download', 'Path')  \n",
    "DOWNLOAD_TIME = CONFIG.getint('Download', 'Retry Times')\n",
    "DOWNLOAD_TMOT = CONFIG.getint('Download', 'Timeout')\n",
    "TOKEN_URL = CONFIG.get('Upload', 'Token URL')\n",
    "REDIS_HOST = CONFIG.get('Redis', 'Host')\n",
    "REDIS_PORT = CONFIG.getint('Redis', 'Port')\n",
    "REDIS_PSWD = CONFIG.get('Redis', 'Password')\n",
    "REDIS_DB = CONFIG.getint('Redis', 'Database')\n",
    "REDIS_TMOT = CONFIG.getint('Redis', 'Timeout')"
   ]
  },
  {
   "cell_type": "code",
   "execution_count": null,
   "metadata": {},
   "outputs": [],
   "source": [
    "REDIS_DB\n",
    "REDIS_HOST\n",
    "REDIS_PORT\n",
    "REDIS_PSWD\n",
    "REDIS_TMOT"
   ]
  },
  {
   "cell_type": "code",
   "execution_count": null,
   "metadata": {},
   "outputs": [],
   "source": [
    "PAPER_REQUEST\n",
    "PAPER_RESPONSE\n",
    "INFO_REQUEST\n",
    "INFO_RESPONSE"
   ]
  },
  {
   "cell_type": "code",
   "execution_count": null,
   "metadata": {
    "scrolled": true
   },
   "outputs": [],
   "source": [
    "MQ_HOST\n",
    "MQ_PORT\n",
    "MQ_USNM\n",
    "MQ_PSWD\n",
    "MQ_DURABLE\n",
    "MQ_MODE\n",
    "DOWNLOAD_PATH\n",
    "DOWNLOAD_TIME\n",
    "TOKEN_URL"
   ]
  },
  {
   "cell_type": "code",
   "execution_count": null,
   "metadata": {},
   "outputs": [],
   "source": [
    "PAPER_REQUEST"
   ]
  },
  {
   "cell_type": "code",
   "execution_count": null,
   "metadata": {},
   "outputs": [],
   "source": [
    "LOGGER = logging.getLogger()"
   ]
  },
  {
   "cell_type": "code",
   "execution_count": null,
   "metadata": {},
   "outputs": [],
   "source": [
    "logging.basicConfig(format='%(asctime)s - %(message)s', level=logging.INFO)\n",
    "logging.info('Admin logged in')"
   ]
  },
  {
   "cell_type": "code",
   "execution_count": null,
   "metadata": {},
   "outputs": [],
   "source": [
    "logging.basicConfig(format='%(asctime)s - %(message)s', datefmt='%d-%b-%y %H:%M:%S')\n",
    "logging.warning('Admin logged out')"
   ]
  },
  {
   "cell_type": "code",
   "execution_count": null,
   "metadata": {},
   "outputs": [],
   "source": [
    "name = 'John'\n",
    "logging.error('%s raised an error', name)"
   ]
  },
  {
   "cell_type": "markdown",
   "metadata": {},
   "source": [
    "# Lambda function"
   ]
  },
  {
   "cell_type": "markdown",
   "metadata": {},
   "source": [
    "<span style=\"font-family:New York Times; font-size:1.2em; color:green;\">\n",
    "Lambda function\n",
    " \n",
    "尽管Python算不上是一种纯函数式编程语言，但它提供了很多函数式编程的特性，像map, sorted, filter, reduce这些函数都支持函数作为参数。lambda函数可以应用在函数式编程里边。\n",
    "\n",
    "Map handles the iteration over the sequence for us, applies the function, and stores all of the results in a handy list at the end. \n",
    "\n",
    "如果你仔细观察自己的代码，会发现这种场景其实很常见：你在某处就真的只需要一个能做一件事情的函数而已，连它叫什么名字都无关紧要。Lambda 表达式就可以用来做这件事。"
   ]
  },
  {
   "cell_type": "code",
   "execution_count": null,
   "metadata": {},
   "outputs": [],
   "source": [
    "sum = lambda x,y : x+y\n",
    "sum(1,2)"
   ]
  },
  {
   "cell_type": "code",
   "execution_count": null,
   "metadata": {},
   "outputs": [],
   "source": [
    "startTime= time.time()\n",
    "l = ['foo', 'bar', 'far']\n",
    "map(lambda x: x.upper(), l)\n",
    "list(map(lambda x: x.upper(), l))\n",
    "a = filter(lambda x: 'f' in x, l)\n",
    "list(a)\n",
    "endtime = time.time()\n",
    "endtime-startTime"
   ]
  },
  {
   "cell_type": "code",
   "execution_count": null,
   "metadata": {},
   "outputs": [],
   "source": [
    "lambdafunc = lambda x: print(x)\n",
    "map(lambdafunc, [1,2,3])\n",
    "list(map(lambdafunc, [1,2,3])) \n",
    "list(map(lambdafunc, {'USA':'United States America', 'UK':'United Kingdom'})) "
   ]
  },
  {
   "cell_type": "code",
   "execution_count": null,
   "metadata": {},
   "outputs": [],
   "source": [
    "from functools import reduce \n",
    "l = [1, 3, -2, 4]\n",
    "list(map(lambda x : abs(x), l))\n",
    "list(filter(lambda x : x < 0, l))"
   ]
  },
  {
   "cell_type": "code",
   "execution_count": null,
   "metadata": {},
   "outputs": [],
   "source": [
    "C = [39.2, 36.5, 37.3, 38, 37.8] \n",
    "F = list(map(lambda x: (float(9)/5)*x + 32, C))\n",
    "C = list(map(lambda x: (float(5)/9)*(x-32), F))"
   ]
  },
  {
   "cell_type": "code",
   "execution_count": null,
   "metadata": {},
   "outputs": [],
   "source": [
    "f = lambda x: x*x\n",
    "[f(x) for x in range(10)]"
   ]
  },
  {
   "cell_type": "code",
   "execution_count": null,
   "metadata": {},
   "outputs": [],
   "source": [
    "Rank = '34567890JQKA2'\n",
    "Rank2 = 'DCHS'\n",
    "def sort_func(words):\n",
    "    words.sort(key=lambda x: (Rank.index(x[0]), Rank2.index(x[1])))\n",
    "    return words\n",
    "\n",
    "print(sort_func(['9C', '9H', '8H', '9D']))"
   ]
  },
  {
   "cell_type": "code",
   "execution_count": null,
   "metadata": {},
   "outputs": [],
   "source": [
    "# Logic is complex and compact\n",
    "from itertools import groupby                                          \n",
    "query= [0,0,0,0,0,1,1,1,0,1,0,0,1,1,0]\n",
    "answer = [[5,8],[9,10],[12,14]]\n",
    "[(g[0][0], g[-1][0]+1) for g in (list(g) for k, g in groupby(enumerate(query), key=lambda t: t[1]) if k == 1)]  "
   ]
  },
  {
   "cell_type": "markdown",
   "metadata": {},
   "source": [
    "https://stackoverflow.com/questions/57735924/behavior-of-lists-of-lambda-expression"
   ]
  },
  {
   "cell_type": "code",
   "execution_count": null,
   "metadata": {},
   "outputs": [],
   "source": [
    "f = lambda x, a=2: x+a\n",
    "f(6,9)"
   ]
  },
  {
   "cell_type": "code",
   "execution_count": null,
   "metadata": {},
   "outputs": [],
   "source": [
    "quxs = [2, 3, 5, 7]\n",
    "funs = []\n",
    "for qux in quxs:\n",
    "    funs.append(lambda x, y, p=qux: x + y * p)\n",
    "for fun in funs:\n",
    "    print (fun (1, 4))\n",
    "# expected: 9, 13, 21, 29\n",
    "# result: 29, 29, 29, 29"
   ]
  },
  {
   "cell_type": "code",
   "execution_count": null,
   "metadata": {},
   "outputs": [],
   "source": [
    "quxs = [2, 3, 5, 7]\n",
    "funs = [lambda x, y, q=i: x + y * q for i in quxs]\n",
    "[fun(1,4) for fun in funs]"
   ]
  },
  {
   "cell_type": "markdown",
   "metadata": {},
   "source": [
    "# Digit unit "
   ]
  },
  {
   "cell_type": "code",
   "execution_count": null,
   "metadata": {},
   "outputs": [],
   "source": [
    "int(bin(123)[2:])"
   ]
  },
  {
   "cell_type": "code",
   "execution_count": null,
   "metadata": {},
   "outputs": [],
   "source": [
    "def convertToMilli(n, decimals=0):\n",
    "    multiplier = 10 ** decimals\n",
    "    x = int(n *pow(10,6)* multiplier) / multiplier\n",
    "    print (str(x)+'m(milli)')\n",
    "convertToMilli(11.2)\n",
    "convertToMilli(1.625000111, 3)"
   ]
  },
  {
   "cell_type": "code",
   "execution_count": null,
   "metadata": {},
   "outputs": [],
   "source": [
    "def truncate(n, decimals=0):\n",
    "    multiplier = 10 ** decimals\n",
    "    return int(n * multiplier) / multiplier\n",
    "truncate(2, 3) #2.0\n",
    "truncate(1.625, 2)#1.62"
   ]
  },
  {
   "cell_type": "code",
   "execution_count": null,
   "metadata": {},
   "outputs": [],
   "source": [
    "def digital_root(x:int):\n",
    "    if type(x)==int:\n",
    "        x = str(x)\n",
    "        a = 0\n",
    "        for i in x:\n",
    "            a +=int(i) \n",
    "        return a\n",
    "    elif type(x)== str:\n",
    "        a = 0\n",
    "        for i in x:\n",
    "            a +=int(i) \n",
    "        return a \n",
    "digital_root( \"9\"*12)        "
   ]
  },
  {
   "cell_type": "markdown",
   "metadata": {},
   "source": [
    "https://stackoverflow.com/questions/57553683/python-how-to-merge-and-swap-every-nth-element-of-two-lists#57553791"
   ]
  },
  {
   "cell_type": "markdown",
   "metadata": {},
   "source": [
    "# `pprint`"
   ]
  },
  {
   "cell_type": "code",
   "execution_count": null,
   "metadata": {},
   "outputs": [],
   "source": [
    "from pprint import pprint\n",
    "pprint([[[] for _ in range(3)] for _ in range(4)], width=30)"
   ]
  },
  {
   "cell_type": "markdown",
   "metadata": {},
   "source": [
    "https://stackoverflow.com/questions/57600719/split-a-unicode-string-only-at-universal-newlines-n-r-r-n"
   ]
  },
  {
   "cell_type": "code",
   "execution_count": null,
   "metadata": {},
   "outputs": [],
   "source": [
    "my_text = 'Line 1\\f\\rLine 2\\r\\nLine 3\\f...\\nLine 4\\n'\n",
    "print(my_text) "
   ]
  },
  {
   "cell_type": "code",
   "execution_count": null,
   "metadata": {},
   "outputs": [],
   "source": [
    "spam = [1, 2, 3]\n",
    "eggs = [10, 20, 30]\n",
    "print(', '.join(f'{n}:{prct}%' for n, prct in zip(spam, eggs)))"
   ]
  },
  {
   "cell_type": "code",
   "execution_count": null,
   "metadata": {},
   "outputs": [],
   "source": [
    "import io\n",
    "lines = io.StringIO(my_text, newline='').readlines()\n",
    "print(lines)\n",
    "# ['Line 1\\x0c\\r', 'Line 2\\r\\n', 'Line 3\\x0c...\\n', 'Line 4\\n']"
   ]
  },
  {
   "cell_type": "markdown",
   "metadata": {
    "ExecuteTime": {
     "end_time": "2019-11-26T14:56:40.120702Z",
     "start_time": "2019-11-26T14:56:40.114553Z"
    }
   },
   "source": [
    "# magic methods"
   ]
  },
  {
   "cell_type": "markdown",
   "metadata": {},
   "source": [
    "https://www.tutorialsteacher.com/python/magic-methods-in-python"
   ]
  },
  {
   "cell_type": "code",
   "execution_count": null,
   "metadata": {
    "ExecuteTime": {
     "end_time": "2019-11-26T15:03:22.199285Z",
     "start_time": "2019-11-26T15:03:22.192742Z"
    }
   },
   "outputs": [],
   "source": [
    "n = 5\n",
    "'__add__' in dir(n)"
   ]
  },
  {
   "cell_type": "markdown",
   "metadata": {},
   "source": [
    " When you do `n+10`, the `+` operator calls the `__add__(10)` method. magic methods are not meant to be called directly, but internally, through some other methods or actions. "
   ]
  }
 ],
 "metadata": {
  "hide_input": false,
  "kernelspec": {
   "display_name": "Python 3",
   "language": "python",
   "name": "python3"
  },
  "language_info": {
   "codemirror_mode": {
    "name": "ipython",
    "version": 3
   },
   "file_extension": ".py",
   "mimetype": "text/x-python",
   "name": "python",
   "nbconvert_exporter": "python",
   "pygments_lexer": "ipython3",
   "version": "3.7.0"
  },
  "latex_envs": {
   "LaTeX_envs_menu_present": true,
   "autocomplete": true,
   "bibliofile": "biblio.bib",
   "cite_by": "apalike",
   "current_citInitial": 1,
   "eqLabelWithNumbers": true,
   "eqNumInitial": 1,
   "hotkeys": {
    "equation": "Ctrl-E",
    "itemize": "Ctrl-I"
   },
   "labels_anchors": false,
   "latex_user_defs": false,
   "report_style_numbering": false,
   "user_envs_cfg": false
  },
  "toc": {
   "base_numbering": 1,
   "nav_menu": {},
   "number_sections": true,
   "sideBar": true,
   "skip_h1_title": false,
   "title_cell": "Table of Contents",
   "title_sidebar": "Contents",
   "toc_cell": false,
   "toc_position": {
    "height": "calc(100% - 180px)",
    "left": "10px",
    "top": "150px",
    "width": "165px"
   },
   "toc_section_display": true,
   "toc_window_display": true
  },
  "varInspector": {
   "cols": {
    "lenName": 16,
    "lenType": 16,
    "lenVar": 40
   },
   "kernels_config": {
    "python": {
     "delete_cmd_postfix": "",
     "delete_cmd_prefix": "del ",
     "library": "var_list.py",
     "varRefreshCmd": "print(var_dic_list())"
    },
    "r": {
     "delete_cmd_postfix": ") ",
     "delete_cmd_prefix": "rm(",
     "library": "var_list.r",
     "varRefreshCmd": "cat(var_dic_list()) "
    }
   },
   "types_to_exclude": [
    "module",
    "function",
    "builtin_function_or_method",
    "instance",
    "_Feature"
   ],
   "window_display": false
  }
 },
 "nbformat": 4,
 "nbformat_minor": 2
}
