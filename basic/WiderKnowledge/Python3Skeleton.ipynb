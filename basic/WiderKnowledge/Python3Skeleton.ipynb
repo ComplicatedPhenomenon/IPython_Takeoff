{
 "cells": [
  {
   "cell_type": "code",
   "execution_count": null,
   "metadata": {},
   "outputs": [],
   "source": [
    "from IPython.core.interactiveshell import InteractiveShell\n",
    "InteractiveShell.ast_node_interactivity = \"all\""
   ]
  },
  {
   "cell_type": "code",
   "execution_count": null,
   "metadata": {},
   "outputs": [],
   "source": [
    "from termcolor import colored\n",
    "import random\n",
    "import time\n",
    "import collections\n",
    "import configparser\n",
    "import logging\n",
    "import re\n",
    "from requests.exceptions import HTTPError\n",
    "import feedparser"
   ]
  },
  {
   "cell_type": "markdown",
   "metadata": {},
   "source": [
    "# Python Built-in module"
   ]
  },
  {
   "cell_type": "markdown",
   "metadata": {},
   "source": [
    "## feedparser"
   ]
  },
  {
   "cell_type": "code",
   "execution_count": null,
   "metadata": {},
   "outputs": [],
   "source": [
    "feedparser.__version__"
   ]
  },
  {
   "cell_type": "markdown",
   "metadata": {},
   "source": [
    "[feedparser documentation](https://pythonhosted.org/feedparser/common-rss-elements.html)"
   ]
  },
  {
   "cell_type": "markdown",
   "metadata": {},
   "source": [
    "Parsing a feed from\n",
    "* a remote URL\n",
    "* a local file \n",
    "* a string"
   ]
  },
  {
   "cell_type": "code",
   "execution_count": null,
   "metadata": {},
   "outputs": [],
   "source": [
    "result =  feedparser.parse('https://complicatedphenomenon.github.io')"
   ]
  },
  {
   "cell_type": "code",
   "execution_count": null,
   "metadata": {},
   "outputs": [],
   "source": [
    "cpurl = 'https://complicatedphenomenon.github.io/atom.xml'\n",
    "result = feedparser.parse(cpurl)"
   ]
  },
  {
   "cell_type": "code",
   "execution_count": null,
   "metadata": {},
   "outputs": [],
   "source": [
    "len(result)"
   ]
  },
  {
   "cell_type": "code",
   "execution_count": null,
   "metadata": {},
   "outputs": [],
   "source": [
    "result['entries'][0]['content'][0]['value']"
   ]
  },
  {
   "cell_type": "markdown",
   "metadata": {},
   "source": [
    "## Random"
   ]
  },
  {
   "cell_type": "code",
   "execution_count": null,
   "metadata": {},
   "outputs": [],
   "source": [
    "for i in list(range(12, 16)):\n",
    "    print(i)"
   ]
  },
  {
   "cell_type": "code",
   "execution_count": null,
   "metadata": {},
   "outputs": [],
   "source": [
    "for i in range(40):\n",
    "    if random.choice(list(range(40))) == random.choice(list(range(40))):\n",
    "        print('okay, 2 random number equal!')"
   ]
  },
  {
   "cell_type": "code",
   "execution_count": null,
   "metadata": {},
   "outputs": [],
   "source": [
    "random.sample(list(range(40)),2)\n",
    "random.sample(list(range(0,40)),2)\n",
    "a, b = random.sample(list(range(0,40)),2)\n",
    "a,b\n",
    "a\n",
    "b\n",
    "a = random.sample([1],1)\n",
    "a"
   ]
  },
  {
   "cell_type": "code",
   "execution_count": null,
   "metadata": {},
   "outputs": [],
   "source": [
    "a = 7 if random.choice(list(range(40))) < 20 else 8\n",
    "a"
   ]
  },
  {
   "cell_type": "code",
   "execution_count": null,
   "metadata": {},
   "outputs": [],
   "source": [
    "for a in range(1, 9, 100):\n",
    "    print(a) "
   ]
  },
  {
   "cell_type": "markdown",
   "metadata": {},
   "source": [
    "`random.randint(a, b)` <span style=\"font-family:New York times; font-size:1em; color:green;\"> \n",
    "Return a random integer N such that a <= N <= b.\n",
    "</span>"
   ]
  },
  {
   "cell_type": "code",
   "execution_count": null,
   "metadata": {},
   "outputs": [],
   "source": [
    "random.randint(1,100)\n",
    "random.sample(range(0,20),2)"
   ]
  },
  {
   "cell_type": "markdown",
   "metadata": {},
   "source": [
    "## Time"
   ]
  },
  {
   "cell_type": "code",
   "execution_count": null,
   "metadata": {},
   "outputs": [],
   "source": [
    "time.time()"
   ]
  },
  {
   "cell_type": "code",
   "execution_count": null,
   "metadata": {},
   "outputs": [],
   "source": [
    "time.asctime()"
   ]
  },
  {
   "cell_type": "code",
   "execution_count": null,
   "metadata": {},
   "outputs": [],
   "source": [
    "time.ctime()\n",
    "type(time.time())\n",
    "str(time.asctime())\n",
    "type(str(time.asctime()))"
   ]
  },
  {
   "cell_type": "code",
   "execution_count": null,
   "metadata": {},
   "outputs": [],
   "source": [
    "time.ctime() == time.asctime()"
   ]
  },
  {
   "cell_type": "code",
   "execution_count": null,
   "metadata": {},
   "outputs": [],
   "source": [
    "time.altzone"
   ]
  },
  {
   "cell_type": "code",
   "execution_count": null,
   "metadata": {},
   "outputs": [],
   "source": [
    "names = ['time', 'monotonic', 'perf_counter', 'process_time']\n",
    "\n",
    "for n in names:\n",
    "    info = time.get_clock_info(n)\n",
    "    f = getattr(time, n)\n",
    "    print(n, info)\n",
    "    l = []\n",
    "    for _ in range(1000000):\n",
    "        l.append(f())\n",
    "    deltas = [l[i] - l[i - 1] for i in range(1, len(l)) if l[i] - l[i - 1] != 0]\n",
    "    print(min(deltas, default=0))"
   ]
  },
  {
   "cell_type": "markdown",
   "metadata": {},
   "source": [
    "## `collections`"
   ]
  },
  {
   "cell_type": "code",
   "execution_count": null,
   "metadata": {},
   "outputs": [],
   "source": [
    "a = collections.deque([1,2,3])\n",
    "a \n",
    "a.append(4)\n",
    "a"
   ]
  },
  {
   "cell_type": "markdown",
   "metadata": {},
   "source": [
    "## ConfigParser"
   ]
  },
  {
   "cell_type": "markdown",
   "metadata": {},
   "source": [
    "## Logging"
   ]
  },
  {
   "cell_type": "code",
   "execution_count": null,
   "metadata": {},
   "outputs": [],
   "source": [
    "ls && pwd "
   ]
  },
  {
   "cell_type": "code",
   "execution_count": null,
   "metadata": {},
   "outputs": [],
   "source": [
    "less config-dev.ini"
   ]
  },
  {
   "cell_type": "markdown",
   "metadata": {},
   "source": [
    "[Configuration file format](https://pymotw.com/2/ConfigParser/)"
   ]
  },
  {
   "cell_type": "code",
   "execution_count": null,
   "metadata": {},
   "outputs": [],
   "source": [
    "CONFIG_PATH = '/Users/wangmiao/Playground/GH/IPython_Takeoff/basic/config-dev.ini'  # 按照实际情况修改位置\n",
    "CONFIG = configparser.RawConfigParser()\n",
    "CONFIG.read(CONFIG_PATH)\n",
    "\n",
    "LOG_NAME = CONFIG.get('Log', 'Name')\n",
    "LOG_PATH = CONFIG.get('Log', 'Path')  # 按照实际情况修改位置\n",
    "LOG_LVL = CONFIG.get('Log', 'Level')\n",
    "LOG_WHEN = CONFIG.get('Log', 'When')\n",
    "LOG_INTV = CONFIG.getint('Log', 'Interval')\n",
    "LOG_MAXC = CONFIG.getint('Log', 'Max Counter')\n",
    "LOG_FMT = CONFIG.get('Log', 'Format')\n",
    "MAX_WORKER = int(CONFIG.get('Concurrency', 'Max Workers'))  # 按照实际情况修改数量\n",
    "PREFETCH_NUM = int(CONFIG.get('Concurrency', 'Consume Number'))  # 按照实际情况修改数量\n",
    "MQ_HOST = CONFIG.get('Message Queue', 'Host')\n",
    "MQ_PORT = CONFIG.getint('Message Queue', 'Port')\n",
    "MQ_VHOST = CONFIG.get('Message Queue', 'Virtual Host')\n",
    "MQ_USNM = CONFIG.get('Message Queue', 'Username')\n",
    "MQ_PSWD = CONFIG.get('Message Queue', 'Password')\n",
    "MQ_DURABLE = CONFIG.getboolean('Message Queue', 'Durable')\n",
    "MQ_MODE = CONFIG.getint('Message Queue', 'Delivery Mode')\n",
    "PAPER_REQUEST = CONFIG.get('Message Queue', 'Paper Request Queue')\n",
    "PAPER_RESPONSE = CONFIG.get('Message Queue', 'Paper Response Queue')\n",
    "INFO_REQUEST = CONFIG.get('Message Queue', 'Info Request Queue')\n",
    "INFO_RESPONSE = CONFIG.get('Message Queue', 'Info Response Queue')\n",
    "DOWNLOAD_PATH = CONFIG.get('Download', 'Path')  \n",
    "DOWNLOAD_TIME = CONFIG.getint('Download', 'Retry Times')\n",
    "DOWNLOAD_TMOT = CONFIG.getint('Download', 'Timeout')\n",
    "TOKEN_URL = CONFIG.get('Upload', 'Token URL')\n",
    "REDIS_HOST = CONFIG.get('Redis', 'Host')\n",
    "REDIS_PORT = CONFIG.getint('Redis', 'Port')\n",
    "REDIS_PSWD = CONFIG.get('Redis', 'Password')\n",
    "REDIS_DB = CONFIG.getint('Redis', 'Database')\n",
    "REDIS_TMOT = CONFIG.getint('Redis', 'Timeout')"
   ]
  },
  {
   "cell_type": "code",
   "execution_count": null,
   "metadata": {
    "scrolled": true
   },
   "outputs": [],
   "source": [
    "LOG_NAME"
   ]
  },
  {
   "cell_type": "code",
   "execution_count": null,
   "metadata": {},
   "outputs": [],
   "source": [
    "LOGGER = logging.getLogger()"
   ]
  },
  {
   "cell_type": "code",
   "execution_count": null,
   "metadata": {},
   "outputs": [],
   "source": [
    "logging.basicConfig(format='%(asctime)s - %(message)s', level=logging.INFO)\n",
    "logging.info('Admin logged in')"
   ]
  },
  {
   "cell_type": "code",
   "execution_count": null,
   "metadata": {},
   "outputs": [],
   "source": [
    "logging.basicConfig(format='%(asctime)s - %(message)s', datefmt='%d-%b-%y %H:%M:%S')\n",
    "logging.warning('Admin logged out')"
   ]
  },
  {
   "cell_type": "code",
   "execution_count": null,
   "metadata": {},
   "outputs": [],
   "source": [
    "name = 'John'\n",
    "logging.error('%s raised an error', name)"
   ]
  },
  {
   "cell_type": "markdown",
   "metadata": {},
   "source": [
    "## Exceptions"
   ]
  },
  {
   "cell_type": "markdown",
   "metadata": {},
   "source": [
    "[Python built-in exceptions](https://realpython.com/python-exceptions/)"
   ]
  },
  {
   "cell_type": "markdown",
   "metadata": {},
   "source": [
    "## Redis"
   ]
  },
  {
   "cell_type": "code",
   "execution_count": null,
   "metadata": {},
   "outputs": [],
   "source": [
    "import redis"
   ]
  },
  {
   "cell_type": "code",
   "execution_count": null,
   "metadata": {},
   "outputs": [],
   "source": [
    "# step 1: import the redis-py client package\n",
    "import redis\n",
    "\n",
    "# step 2: define our connection information for Redis\n",
    "# Replaces with your configuration information\n",
    "redis_host = \"localhost\"\n",
    "redis_port = 6379\n",
    "redis_password = \"\"\n",
    "\n",
    "\n",
    "def hello_redis():\n",
    "    \"\"\"Example Hello Redis Program\"\"\"\n",
    "\n",
    "    # step 3: create the Redis Connection object\n",
    "    try:\n",
    "\n",
    "        # The decode_repsonses flag here directs the client to convert the responses from Redis into Python strings\n",
    "        # using the default encoding utf-8.  This is client specific.\n",
    "        r = redis.StrictRedis(\n",
    "            host=redis_host,\n",
    "            port=redis_port,\n",
    "            password=redis_password,\n",
    "            decode_responses=True)\n",
    "\n",
    "        # step 4: Set the hello message in Redis\n",
    "        r.set(\"msg:hello\", \"Hello Redis!!!\")\n",
    "\n",
    "        # step 5: Retrieve the hello message from Redis\n",
    "        msg = r.get(\"msg:hello\")\n",
    "        print(msg)\n",
    "\n",
    "    except Exception as e:\n",
    "        print(e)"
   ]
  },
  {
   "cell_type": "code",
   "execution_count": null,
   "metadata": {},
   "outputs": [],
   "source": [
    "hello_redis()"
   ]
  },
  {
   "cell_type": "markdown",
   "metadata": {},
   "source": [
    "# if while"
   ]
  },
  {
   "cell_type": "markdown",
   "metadata": {},
   "source": [
    "## While loop"
   ]
  },
  {
   "cell_type": "markdown",
   "metadata": {},
   "source": [
    "Below is an inspiration for valid mutation"
   ]
  },
  {
   "cell_type": "markdown",
   "metadata": {},
   "source": [
    "### Exchange until valid"
   ]
  },
  {
   "cell_type": "code",
   "execution_count": null,
   "metadata": {},
   "outputs": [],
   "source": [
    "# WE want a < 19 and b > 21\n",
    "\n",
    "a, b = random.sample(range(10),2)\n",
    "if a < 3 or b > 6:\n",
    "    print('a = {}, b= {}'.format(a, b))\n",
    "else:\n",
    "    a, b = random.sample(range(10),2)\n",
    "    if a < 3 or b > 6:\n",
    "        print('a = {}, b= {}'.format(a, b))"
   ]
  },
  {
   "cell_type": "code",
   "execution_count": null,
   "metadata": {},
   "outputs": [],
   "source": [
    "a, b = random.sample(range(10),2)\n",
    "while a < 3 or b > 6:\n",
    "    a, b = random.sample(range(10),2)\n",
    "print('a = {}, b= {}'.format(a,b))"
   ]
  },
  {
   "cell_type": "code",
   "execution_count": null,
   "metadata": {},
   "outputs": [],
   "source": [
    "a, b = 3, 5\n",
    "print('a = {}, b= {}'.format(a,b))\n",
    "x = 0\n",
    "while a < 8 or b > 1:\n",
    "    x += 1\n",
    "    print(x)\n",
    "    a, b = random.sample(range(10),2)\n",
    "    print('a = {}, b= {}'.format(a,b))\n",
    "    if x>10:\n",
    "        print(colored('Prepare to stop the iteration','red'))\n",
    "        break\n",
    "print('a = {}, b= {}'.format(a,b))"
   ]
  },
  {
   "cell_type": "code",
   "execution_count": null,
   "metadata": {},
   "outputs": [],
   "source": [
    "a, b = 3, 5\n",
    "print('a = {}, b= {}'.format(a,b))\n",
    "x = 0\n",
    "while a < 8 or b > 1:\n",
    "    x += 1\n",
    "    print(x)\n",
    "    a, b = random.sample(range(10),2)\n",
    "    print('a = {}, b= {}'.format(a,b))\n",
    "    if x>10:\n",
    "        print(colored('Prepare to stop the iteration','red'))\n",
    "        print('a = 3, b= 5')\n",
    "        break \n",
    "        \n",
    "print('a = {}, b= {}'.format(a,b))"
   ]
  },
  {
   "cell_type": "code",
   "execution_count": null,
   "metadata": {},
   "outputs": [],
   "source": [
    "a, b = 3, 5\n",
    "print('a = {}, b= {}'.format(a,b))\n",
    "x = 0\n",
    "while a<b:\n",
    "    a, b = random.sample(range(10),2)\n",
    "    if a < 5:\n",
    "        continue\n",
    "    print('a - 5 = {}'.format(a-5))\n",
    "        \n",
    "print('a = {}, b= {}'.format(a,b))"
   ]
  },
  {
   "cell_type": "markdown",
   "metadata": {},
   "source": [
    "### Break a true condition"
   ]
  },
  {
   "cell_type": "code",
   "execution_count": null,
   "metadata": {},
   "outputs": [],
   "source": [
    "def foo():\n",
    "    i = 0\n",
    "    while True:\n",
    "        print(i)\n",
    "        i += 1\n",
    "        if i > 4:\n",
    "            break\n",
    "    print(i)\n",
    "foo()"
   ]
  },
  {
   "cell_type": "code",
   "execution_count": null,
   "metadata": {},
   "outputs": [],
   "source": [
    "i = 0\n",
    "while True:\n",
    "    foo()\n",
    "    i += 1;\n",
    "    if i > 0:\n",
    "        break"
   ]
  },
  {
   "cell_type": "code",
   "execution_count": null,
   "metadata": {},
   "outputs": [],
   "source": [
    "a = 1 \n",
    "b = 2\n",
    "a, b = b, a \n",
    "a, b = b, a \n",
    "a\n",
    "\n",
    "b"
   ]
  },
  {
   "cell_type": "markdown",
   "metadata": {},
   "source": [
    "## if continue"
   ]
  },
  {
   "cell_type": "markdown",
   "metadata": {},
   "source": [
    "Python continue statement is used to skip the statement of the loop and iterate to the next step. For example you’re printing number 1 to 10. You need to skip all statements at step 7. The following python code illustrates the scenario."
   ]
  },
  {
   "cell_type": "code",
   "execution_count": null,
   "metadata": {},
   "outputs": [],
   "source": [
    "numbers = range(1,11)\n",
    "'''\n",
    "the range(a,b) function creates a list of number 1 to (b-1)\n",
    "So, in this case it would generate\n",
    "numbers from 1 to 10\n",
    "'''\n",
    "for number in numbers:\n",
    "        #check the skipping condition\n",
    "        if number == 7:\n",
    "                #this statement will be executed\n",
    "                print(\"7 is skipped\")\n",
    "                continue\n",
    "                #this statement won't be executed\n",
    "                print (\"This won't be printed\")\n",
    " \n",
    "        #print the values\n",
    "        #for example:\n",
    "        #2 is double of 1\n",
    "        print (number*2),\n",
    "        print (\"is double of\"),\n",
    "        print (number)"
   ]
  },
  {
   "cell_type": "markdown",
   "metadata": {},
   "source": [
    "`break` jump out of iteration, `continue` go on the next iteration"
   ]
  },
  {
   "cell_type": "markdown",
   "metadata": {},
   "source": [
    "# Function as first class object"
   ]
  },
  {
   "cell_type": "markdown",
   "metadata": {},
   "source": [
    "<span style=\"font-family:New York Times; font-size:1.5em; color:green;\"> \n",
    "Define a function inside of a function\n",
    "\n",
    "难道不是在函数里面再定义函数吗？"
   ]
  },
  {
   "cell_type": "code",
   "execution_count": null,
   "metadata": {},
   "outputs": [],
   "source": [
    "def greet(name):\n",
    "    def get_message():\n",
    "        return \"Hello \"\n",
    "\n",
    "    result = get_message()+name\n",
    "    return result\n",
    "\n",
    "print(greet(\"John\"))"
   ]
  },
  {
   "cell_type": "code",
   "execution_count": null,
   "metadata": {},
   "outputs": [],
   "source": [
    "def greet(name):\n",
    "    def get_message():  \n",
    "        def deeper_message():\n",
    "            return \"Will you see me? \"\n",
    "        return \"Hello, \" + deeper_message()\n",
    "    result = get_message()+name\n",
    "    return result\n",
    "print(greet(\"John\"))"
   ]
  },
  {
   "cell_type": "markdown",
   "metadata": {},
   "source": [
    "<span style=\"font-family:New York Times; font-size:1.5em; color:green;\"> \n",
    "Functions can be passed as parameters to other functions"
   ]
  },
  {
   "cell_type": "markdown",
   "metadata": {},
   "source": [
    "这种能够接受一个函数作为参数的函数叫做「高阶函数」（higher-order function），是来自函数式编程（functional programming）的思想。\n"
   ]
  },
  {
   "cell_type": "code",
   "execution_count": null,
   "metadata": {},
   "outputs": [],
   "source": [
    "def greet(name):\n",
    "    return \"Hello \" + name\n",
    "\n",
    "\n",
    "def call_func(func):\n",
    "    other_name = \"John\"\n",
    "    return func(other_name)\n",
    "\n",
    "\n",
    "print(call_func(greet))\n",
    "\n",
    "# Outputs: Hello John"
   ]
  },
  {
   "cell_type": "markdown",
   "metadata": {},
   "source": [
    "<span style=\"font-family:New York Times; font-size:1.5em; color:green;\"> \n",
    "Return a function inside of function and can be assigned to a variable"
   ]
  },
  {
   "cell_type": "code",
   "execution_count": null,
   "metadata": {},
   "outputs": [],
   "source": [
    "def hi(name=\"yasoob\"):\n",
    "    def greet():\n",
    "        return \"now you are in the greet() function\"\n",
    "\n",
    "    def welcome():\n",
    "        return \"now you are in the welcome() function\"\n",
    "\n",
    "    if name == \"yasoob\":\n",
    "        return greet\n",
    "    else:\n",
    "        return welcome\n",
    "# 在if/else语句中我们返回greet和welcome，而不是greet()和welcome()\n",
    "\n",
    "a = hi() \n",
    "b = hi(name='wm')\n",
    "# 当你把一对小括号放在后面，这个函数就会执行；然而如果你不放括号在它后面，那它可以被到处传递，并且可以赋值给别的变量而不去执行它\n",
    "hi()()\n",
    "a()\n",
    "b()"
   ]
  },
  {
   "cell_type": "code",
   "execution_count": null,
   "metadata": {},
   "outputs": [],
   "source": [
    "def hi(name=\"yasoob\"):\n",
    "    def greet():\n",
    "        return \"now you are in the greet() function\"\n",
    "    return greet()\n",
    "hi()\n",
    "\n",
    "def hi(name=\"yasoob\"):\n",
    "    def greet():\n",
    "        return \"now you are in the greet() function\"\n",
    "    return greet\n",
    "hi()()"
   ]
  },
  {
   "cell_type": "markdown",
   "metadata": {},
   "source": [
    "当我们写下a = hi()，hi()会被执行，而由于name参数默认是yasoob，所以函数greet被返回了。如果我们把语句改为a = hi(name = \"ali\")，那么welcome函数将被返回。我们还可以打印出hi()()，这会输出now you are in the greet() function。"
   ]
  },
  {
   "cell_type": "code",
   "execution_count": null,
   "metadata": {},
   "outputs": [],
   "source": [
    "def get_text(name):\n",
    "   return \"lorem ipsum, {0} dolor sit amet\".format(name)\n",
    "get_text(\"Santa Clause\")\n",
    "# str.format() method of the string class allows you to do variable substitutions and value formatting.\n",
    "\n",
    "def p_decorate(func):\n",
    "   def func_wrapper(name):\n",
    "       return \"<p>{0}</p>\".format(func(name)) \n",
    "   return func_wrapper\n",
    "\n",
    "my_get_text = p_decorate(get_text)\n",
    "my_get_text(\"Santa Clause\")\n",
    "# What's the difference between above and below? a a()\n",
    "p_decorate(get_text)(\"Santa Clause\")"
   ]
  },
  {
   "cell_type": "markdown",
   "metadata": {},
   "source": [
    "<span style=\"font-family: New York Times; font-size:1em; color:green;\">\n",
    "That was our first decorator. A function that takes another function as an argument, generates a new function, augmenting the work of the original function, and returning the generated function so we can use it anywhere. To have get_text itself be decorated by p_decorate, we just have to assign get_text to the result of p_decorate.\n",
    "<span>"
   ]
  },
  {
   "cell_type": "markdown",
   "metadata": {},
   "source": [
    "Use decorator, the above situation can be implemented into a natural way."
   ]
  },
  {
   "cell_type": "code",
   "execution_count": null,
   "metadata": {},
   "outputs": [],
   "source": [
    "def p_decorate(func):\n",
    "   def func_wrapper(name):\n",
    "       return \"<p>{0}</p>\".format(func(name))\n",
    "   return func_wrapper\n",
    "\n",
    "@p_decorate\n",
    "def get_text(name):\n",
    "   return \"lorem ipsum, {0} dolor sit amet\".format(name)\n",
    "\n",
    "print(get_text(\"John\"))"
   ]
  },
  {
   "cell_type": "markdown",
   "metadata": {},
   "source": [
    "Remember that \n",
    "```py\n",
    "@deco\n",
    "def func():\n",
    "    # whatever\n",
    "```\n",
    "is the same as \n",
    "```py\n",
    "def func():\n",
    "    # whatever\n",
    "func = deco(func)\n",
    "```\n",
    "The decorators are called when the decorated function is defined not when it is called. At call time, what is called is the return value of the decorator "
   ]
  },
  {
   "cell_type": "code",
   "execution_count": null,
   "metadata": {},
   "outputs": [],
   "source": [
    "def p_decorate(func):\n",
    "   def func_wrapper(name):\n",
    "       return \"<p>{0}</p>\".format(func(name))\n",
    "   return func_wrapper\n",
    "\n",
    "\n",
    "def get_text(name):\n",
    "   return \"lorem ipsum, {0} dolor sit amet\".format(name)\n",
    "\n",
    "whatever = p_decorate(get_text) # It will return  the decoration function \n",
    "whatever(\"John\")\n",
    "p_decorate(get_text)(\"Jenny\")"
   ]
  },
  {
   "cell_type": "code",
   "execution_count": null,
   "metadata": {},
   "outputs": [],
   "source": [
    "def verbose(function):\n",
    "    print('i am verbose and func is ' + function.__name__)\n",
    "    def wrapper2(func):\n",
    "        print('func is ' + repr(func))\n",
    "        result = function(func)\n",
    "        return result\n",
    "    return wrapper2\n",
    "\n",
    "def more(function):\n",
    "    print('i am more and func is ' + function.__name__)\n",
    "    def wrapper1(*args, **kwargs):\n",
    "        print('args' + repr(args))\n",
    "        result = function(*args)\n",
    "        return result\n",
    "    return wrapper1\n",
    "more = verbose(more)\n",
    "\n",
    "def hello(*args):\n",
    "    print((sum(args)))\n",
    "hello = more(hello)"
   ]
  },
  {
   "cell_type": "code",
   "execution_count": null,
   "metadata": {},
   "outputs": [],
   "source": [
    "def verbose(function):\n",
    "    print('i am verbose and func is ' + function.__name__)\n",
    "    def wrapper2(func):\n",
    "        print('func is ' + repr(func))\n",
    "        result = function(func)\n",
    "        return result\n",
    "    return wrapper2\n",
    "@verbose\n",
    "def more(function):\n",
    "    print('i am more and func is ' + function.__name__)\n",
    "    def wrapper1(*args, **kwargs):\n",
    "        print('args' + repr(args))\n",
    "        result = function(*args)\n",
    "        return result\n",
    "    return wrapper1\n",
    "\n",
    "@more\n",
    "def hello(*args):\n",
    "    print((sum(args)))\n"
   ]
  },
  {
   "cell_type": "markdown",
   "metadata": {},
   "source": [
    "# Decorators"
   ]
  },
  {
   "cell_type": "markdown",
   "metadata": {},
   "source": [
    "<span style=\"font-family:New York Times; font-size:1em; color:green;\"> \n",
    "装饰器做的事情:它们封装一个函数，并且用这样或者那样的方式来修改它的行为。   \n",
    "\n",
    "[A guide to Python's function decorators](https://www.thecodeship.com/patterns/guide-to-python-function-decorators/)\n"
   ]
  },
  {
   "cell_type": "code",
   "execution_count": null,
   "metadata": {},
   "outputs": [],
   "source": [
    "from functools import wraps\n",
    "\n",
    "def tags(tag_name):\n",
    "    def tags_decorator(func):\n",
    "        @wraps(func)\n",
    "        def func_wrapper(name):\n",
    "            return \"<{0}>{1}</{0}>\".format(tag_name, func(name))\n",
    "        return func_wrapper\n",
    "    return tags_decorator\n",
    "\n",
    "@tags(\"p\")\n",
    "def get_text(name):\n",
    "    \"\"\"returns some text\"\"\"\n",
    "    return \"Hello \"+name\n",
    "\n",
    "print(get_text.__name__) # get_text\n",
    "print(get_text.__doc__) # returns some text\n",
    "print(get_text.__module__) # __main__"
   ]
  },
  {
   "cell_type": "code",
   "execution_count": null,
   "metadata": {},
   "outputs": [],
   "source": [
    "def a_new_decorator(a_func):\n",
    "\n",
    "    def wrapTheFunction():\n",
    "        print(\"I am doing some boring work before executing a_func()\")\n",
    "        a_func()\n",
    "        print(\"I am doing some boring work after executing a_func()\")\n",
    "        \n",
    "    return wrapTheFunction\n",
    "\n",
    "@a_new_decorator  # a_function_requiring_decoration become an argument for a_new_decoraror\n",
    "def a_function_requiring_decoration():\n",
    "    \"\"\"Hey you! Decorate me!\"\"\"\n",
    "    print(\"I am the function which needs some decoration to \"\n",
    "          \"remove my foul smell\")\n",
    "\n",
    "a_function_requiring_decoration()\n",
    "\n",
    "# the @a_new_decorator is just a short way of saying:\n",
    "# a_function_requiring_decoration = a_new_decorator(a_function_requiring_decoration)"
   ]
  },
  {
   "cell_type": "code",
   "execution_count": null,
   "metadata": {},
   "outputs": [],
   "source": [
    "def a_new_decorator(a_func):\n",
    "\n",
    "    def wrapTheFunction():\n",
    "        print(\"I am doing some boring work before executing a_func()\")\n",
    "        a_func()\n",
    "        print(\"I am doing some boring work after executing a_func()\")\n",
    "        \n",
    "    return wrapTheFunction\n",
    "\n",
    "  # a_function_requiring_decoration become an argument for a_new_decoraror\n",
    "def a_function_requiring_decoration():\n",
    "    \"\"\"Hey you! Decorate me!\"\"\"\n",
    "    print(\"I am the function which needs some decoration to \"\n",
    "          \"remove my foul smell\")\n",
    "\n",
    "a_function_requiring_decoration = a_new_decorator(a_function_requiring_decoration)\n",
    "\n",
    "a_function_requiring_decoration()"
   ]
  },
  {
   "cell_type": "code",
   "execution_count": null,
   "metadata": {},
   "outputs": [],
   "source": [
    "print(a_function_requiring_decoration.__name__)"
   ]
  },
  {
   "cell_type": "code",
   "execution_count": null,
   "metadata": {},
   "outputs": [],
   "source": [
    "from functools import wraps\n",
    "def decorator_name(f):\n",
    "    @wraps(f)\n",
    "    def decorated(*args, **kwargs):\n",
    "        if not can_run:\n",
    "            return \"Function will not run\"\n",
    "        return f(*args, **kwargs)\n",
    "    return decorated\n",
    "\n",
    "@decorator_name\n",
    "def func():\n",
    "    return(\"Function is running\")\n",
    "\n",
    "can_run = True\n",
    "print(func())\n",
    "\n",
    "can_run = False\n",
    "print(func())\n",
    "# @wraps接受一个函数来进行装饰，并加入了复制函数名称、注释文档、参数列表等等的功能。这可以让我们在装饰器里面访问在装饰之前的函数的属性"
   ]
  },
  {
   "cell_type": "code",
   "execution_count": null,
   "metadata": {},
   "outputs": [],
   "source": [
    "from functools import wraps\n",
    "\n",
    "def requires_auth(f):\n",
    "    @wraps(f)\n",
    "    def decorated(*args, **kwargs):\n",
    "        auth = request.authorization\n",
    "        if not auth or not check_auth(auth.username, auth.password):\n",
    "            authenticate()\n",
    "        return f(*args, **kwargs)\n",
    "    return decorated"
   ]
  },
  {
   "cell_type": "code",
   "execution_count": null,
   "metadata": {},
   "outputs": [],
   "source": [
    "def logit(func):\n",
    "    @wraps(func)\n",
    "    def with_logging(*args, **kwargs):\n",
    "        print(func.__name__ + \" was called\")\n",
    "        return func(*args, **kwargs)\n",
    "    return with_logging\n",
    "\n",
    "@logit\n",
    "def addition_func(x):\n",
    "   \"\"\"Do some math.\"\"\"\n",
    "   return x + x\n",
    "\n",
    "\n",
    "result = addition_func(4)"
   ]
  },
  {
   "cell_type": "markdown",
   "metadata": {},
   "source": [
    "# Lambda function"
   ]
  },
  {
   "cell_type": "markdown",
   "metadata": {},
   "source": [
    "<span style=\"font-family:New York Times; font-size:1.5em; color:green;\"> \n",
    "Lambda function\n",
    " \n",
    "尽管Python算不上是一种纯函数式编程语言，但它提供了很多函数式编程的特性，像map, sorted, filter, reduce这些函数都支持函数作为参数。lambda函数可以应用在函数式编程里边。\n",
    "\n",
    "如果你仔细观察自己的代码，会发现这种场景其实很常见：你在某处就真的只需要一个能做一件事情的函数而已，连它叫什么名字都无关紧要。Lambda 表达式就可以用来做这件事。"
   ]
  },
  {
   "cell_type": "code",
   "execution_count": null,
   "metadata": {},
   "outputs": [],
   "source": [
    "sum = lambda x,y : x+y\n",
    "sum(1,2)\n",
    "type(sum)\n",
    "type(lambda x,y : x+y) \n",
    "def test():\n",
    "    print(1)\n",
    "type(test)"
   ]
  },
  {
   "cell_type": "code",
   "execution_count": null,
   "metadata": {},
   "outputs": [],
   "source": [
    "l = ['foo', 'bar', 'far']\n",
    "for item in l:\n",
    "    item.upper()"
   ]
  },
  {
   "cell_type": "code",
   "execution_count": null,
   "metadata": {},
   "outputs": [],
   "source": [
    "'otis'.upper()"
   ]
  },
  {
   "cell_type": "code",
   "execution_count": null,
   "metadata": {},
   "outputs": [],
   "source": [
    "l = ['foo', 'bar', 'far']\n",
    "map(lambda x: x.upper(), l)\n",
    "list(map(lambda x: x.upper(), l))\n",
    "a = filter(lambda x: 'f' in x, l)\n",
    "list(a)"
   ]
  },
  {
   "cell_type": "code",
   "execution_count": null,
   "metadata": {},
   "outputs": [],
   "source": [
    "lambdafunc = lambda x: print(x)\n",
    "map(lambdafunc, [1,2,3])\n",
    "list(map(lambdafunc, [1,2,3])) \n",
    "list(map(lambdafunc, {'USA':'United States America', 'UK':'United Kingdom'})) "
   ]
  },
  {
   "cell_type": "code",
   "execution_count": null,
   "metadata": {},
   "outputs": [],
   "source": [
    "from functools import reduce \n",
    "l = [1, 3, -2, 4]\n",
    "list(map(lambda x : abs(x), l))\n",
    "list(filter(lambda x : x < 0, l))"
   ]
  },
  {
   "cell_type": "code",
   "execution_count": null,
   "metadata": {},
   "outputs": [],
   "source": [
    "C = [39.2, 36.5, 37.3, 38, 37.8] \n",
    "F = list(map(lambda x: (float(9)/5)*x + 32, C))\n",
    "C = list(map(lambda x: (float(5)/9)*(x-32), F))\n",
    "F\n",
    "C"
   ]
  },
  {
   "cell_type": "markdown",
   "metadata": {},
   "source": [
    "class Spam(object):\n",
    "    def __init__(self, value):\n",
    "        self.value = value\n",
    "    \n",
    "    def __repr__(self):\n",
    "        return '<%s, %s>' % (self.__class__.__name__, self.value)\n",
    "spams = [Spam(5), Spam(2), Spam(4), Spam(1)]\n",
    "spams\n",
    "sorted_spams = sorted(spams, key = lambda spam : spam.value)\n",
    "sorted_spams"
   ]
  },
  {
   "cell_type": "markdown",
   "metadata": {},
   "source": [
    "# Time complexity and Big O notation"
   ]
  },
  {
   "cell_type": "markdown",
   "metadata": {},
   "source": [
    "<span style=\"font-family:New York Times; font-size:1.5em; color:green;\"> \n",
    "Time complexity and Big O notion\n"
   ]
  },
  {
   "cell_type": "code",
   "execution_count": null,
   "metadata": {},
   "outputs": [],
   "source": [
    "n = 1000\n",
    "a = list(range(n))\n",
    "b = dict.fromkeys(range(n))"
   ]
  },
  {
   "cell_type": "code",
   "execution_count": null,
   "metadata": {},
   "outputs": [],
   "source": [
    "for i in range(100):\n",
    "    i is a\n",
    "    i is b"
   ]
  },
  {
   "cell_type": "code",
   "execution_count": null,
   "metadata": {},
   "outputs": [],
   "source": [
    "def o_one(itimes):\n",
    "    return 1\n",
    "def o_n(items):\n",
    "    # walk through all items once. Caculate all the items added up \n",
    "    total = 0\n",
    "    for item in items:\n",
    "        total += item\n",
    "    return total\n",
    "def o_n_squared(items):\n",
    "    total = 0\n",
    "    for a in items:\n",
    "        for b in items:\n",
    "            total += a*b\n",
    "    return total"
   ]
  }
 ],
 "metadata": {
  "hide_input": false,
  "kernelspec": {
   "display_name": "Python 3",
   "language": "python",
   "name": "python3"
  },
  "language_info": {
   "codemirror_mode": {
    "name": "ipython",
    "version": 3
   },
   "file_extension": ".py",
   "mimetype": "text/x-python",
   "name": "python",
   "nbconvert_exporter": "python",
   "pygments_lexer": "ipython3",
   "version": "3.7.2"
  },
  "latex_envs": {
   "LaTeX_envs_menu_present": true,
   "autocomplete": true,
   "bibliofile": "biblio.bib",
   "cite_by": "apalike",
   "current_citInitial": 1,
   "eqLabelWithNumbers": true,
   "eqNumInitial": 1,
   "hotkeys": {
    "equation": "Ctrl-E",
    "itemize": "Ctrl-I"
   },
   "labels_anchors": false,
   "latex_user_defs": false,
   "report_style_numbering": false,
   "user_envs_cfg": false
  },
  "toc": {
   "base_numbering": 1,
   "nav_menu": {},
   "number_sections": true,
   "sideBar": true,
   "skip_h1_title": false,
   "title_cell": "Table of Contents",
   "title_sidebar": "Contents",
   "toc_cell": false,
   "toc_position": {
    "height": "calc(100% - 180px)",
    "left": "10px",
    "top": "150px",
    "width": "165px"
   },
   "toc_section_display": true,
   "toc_window_display": true
  },
  "varInspector": {
   "cols": {
    "lenName": 16,
    "lenType": 16,
    "lenVar": 40
   },
   "kernels_config": {
    "python": {
     "delete_cmd_postfix": "",
     "delete_cmd_prefix": "del ",
     "library": "var_list.py",
     "varRefreshCmd": "print(var_dic_list())"
    },
    "r": {
     "delete_cmd_postfix": ") ",
     "delete_cmd_prefix": "rm(",
     "library": "var_list.r",
     "varRefreshCmd": "cat(var_dic_list()) "
    }
   },
   "types_to_exclude": [
    "module",
    "function",
    "builtin_function_or_method",
    "instance",
    "_Feature"
   ],
   "window_display": false
  }
 },
 "nbformat": 4,
 "nbformat_minor": 2
}
