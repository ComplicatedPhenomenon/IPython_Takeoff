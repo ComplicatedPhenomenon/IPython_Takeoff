{
 "cells": [
  {
   "cell_type": "code",
   "execution_count": null,
   "metadata": {},
   "outputs": [],
   "source": [
    "from IPython.core.interactiveshell import InteractiveShell\n",
    "InteractiveShell.ast_node_interactivity = \"all\""
   ]
  },
  {
   "cell_type": "markdown",
   "metadata": {},
   "source": [
    "# compare 2 lists"
   ]
  },
  {
   "cell_type": "code",
   "execution_count": null,
   "metadata": {},
   "outputs": [],
   "source": [
    "list_1= [123, 122, 524, 500, 515, 600, 620]\n",
    "list_2= [120, 150, 500, 550, 600, 650]\n",
    "new_list = list_1[:]\n",
    "for i, v in enumerate(list_1):\n",
    "    ok = []\n",
    "    for j, k in enumerate(list_2):\n",
    "        ok.append(abs(v-k))\n",
    "    # find the index of the closet element from list_2 to the current v\n",
    "    ind = ok.index(min(ok))\n",
    "    new_list[i] = list_2[ind]\n",
    "print(new_list)\n",
    "\n",
    "#[120, 120, 500, 500, 500, 600, 600]"
   ]
  },
  {
   "cell_type": "markdown",
   "metadata": {},
   "source": [
    "# sort and count"
   ]
  },
  {
   "cell_type": "code",
   "execution_count": null,
   "metadata": {},
   "outputs": [],
   "source": [
    "x = [1, 'hello', 2, ' word', 3, ' love', 1, ' hi', 1, ' you']\n",
    "z = [w for _,w in sorted(zip(x[0::2],x[1::2]))]\n",
    "print(z)\n",
    "#[' love', ' word', 'hello', ' you', ' hi']"
   ]
  },
  {
   "cell_type": "code",
   "execution_count": null,
   "metadata": {},
   "outputs": [],
   "source": [
    "from collections import Counter"
   ]
  },
  {
   "cell_type": "code",
   "execution_count": null,
   "metadata": {},
   "outputs": [],
   "source": [
    "from collections import Counter\n",
    "s=\"hello, word, word, love, love, love, hi, you\"\n",
    "slist = s.split(',')\n",
    "sdict = dict(Counter(slist))\n",
    "sdict \n",
    "result = sorted(sdict.items(), key=lambda x: x[1], reverse=True)\n",
    "result = [i[0] for i in result]\n",
    "print(result) \n",
    "# [' love', ' word', 'hello', ' hi', ' you']"
   ]
  },
  {
   "cell_type": "code",
   "execution_count": null,
   "metadata": {},
   "outputs": [],
   "source": [
    "sdict\n",
    "#{'hello': 1, ' word': 2, ' love': 3, ' hi': 1, ' you': 1}\n",
    "sdict.items()\n",
    "#dict_items([('hello', 1), (' word', 2), (' love', 3), (' hi', 1), (' you', 1)])\n",
    "for x, y in sdict.items():\n",
    "    x, y \n",
    "for x in sdict.items():\n",
    "    x[1] "
   ]
  },
  {
   "cell_type": "markdown",
   "metadata": {},
   "source": [
    "```md\n",
    "输入：(9, 2), (3, 7), (7, 8), (3, 5), (1, 9)\n",
    "输出：(1, 9), (3, 7), (3, 5), (7, 8), (9, 2)\n",
    "```"
   ]
  },
  {
   "cell_type": "code",
   "execution_count": null,
   "metadata": {},
   "outputs": [],
   "source": [
    "def sort(a):\n",
    "    alist = [list(i) for i in a]\n",
    "    alist.sort(key=lambda k: (k[0], -k[1]), reverse=False)\n",
    "    atuple = tuple(tuple(i) for i in alist)\n",
    "    return atuple\n",
    "a = (9, 2), (3, 7), (7, 8), (3, 5), (1, 9)\n",
    "sort(a)"
   ]
  },
  {
   "cell_type": "code",
   "execution_count": null,
   "metadata": {},
   "outputs": [],
   "source": [
    "d = {\"214123\" : 75.0,\n",
    " \"153525\" : 60.0,\n",
    " \"734829\" : 40.0,\n",
    " \"992832\" : 89.0,\n",
    " \"823482\" : 80.0}\n",
    "dict(sorted(list(d.items()), key=lambda p: p[1], reverse=True)[:3])"
   ]
  },
  {
   "cell_type": "markdown",
   "metadata": {},
   "source": [
    "## Custom Sorting using the key parameter"
   ]
  },
  {
   "cell_type": "markdown",
   "metadata": {},
   "source": [
    "`sorted()` function has an optional parameter called `key` which takes a function as its value. This key function transforms each element before sorting, it takes the value and returns `1` value which is then used within sort instead of the original value."
   ]
  },
  {
   "cell_type": "code",
   "execution_count": null,
   "metadata": {},
   "outputs": [],
   "source": [
    "L = [\"cccc\", \"b\", \"dd\", \"aaa\"]\n",
    "print(\"Sort with len :\", sorted(L, key=len))"
   ]
  },
  {
   "cell_type": "code",
   "execution_count": null,
   "metadata": {},
   "outputs": [],
   "source": [
    "def last(n):\n",
    "    return n[m]\n",
    "\n",
    "a = [(23, 45, 20), (25, 44, 39), (89, 40, 23)]\n",
    "m = 2\n",
    "sorted(a, key=last) \n",
    "\n",
    "sorted(a, key=lambda x: x[2]) "
   ]
  },
  {
   "cell_type": "markdown",
   "metadata": {},
   "source": [
    "# `itertools`"
   ]
  },
  {
   "cell_type": "markdown",
   "metadata": {},
   "source": [
    "https://stackoverflow.com/questions/57542240/get-all-combination-of-terms#57542240"
   ]
  },
  {
   "cell_type": "code",
   "execution_count": null,
   "metadata": {},
   "outputs": [],
   "source": [
    "import itertools\n",
    "from itertools import combinations\n",
    "from itertools import compress, product"
   ]
  },
  {
   "cell_type": "code",
   "execution_count": null,
   "metadata": {},
   "outputs": [],
   "source": [
    "x = \"new    search words\"\n",
    "words = x.split(' ')\n",
    "itertools.chain(*(itertools.combinations(words, i) for i in range(1, len(words)+1)))"
   ]
  },
  {
   "cell_type": "code",
   "execution_count": null,
   "metadata": {},
   "outputs": [],
   "source": [
    "def combinations(items):\n",
    "    return ( set(compress(items,mask)) for mask in product(*[[0,1]]*len(items)) ) \n",
    "\n",
    "list(combinations('0123'))"
   ]
  },
  {
   "cell_type": "code",
   "execution_count": null,
   "metadata": {},
   "outputs": [],
   "source": [
    "A = [1, 2, 3]\n",
    "id(A)\n",
    "B = A \n",
    "id(B)==id(A)\n",
    "B=A[:]\n",
    "id(B)==id(A)\n",
    "id(A)!=id(A[:])"
   ]
  },
  {
   "cell_type": "markdown",
   "metadata": {},
   "source": [
    "# `random`"
   ]
  },
  {
   "cell_type": "code",
   "execution_count": null,
   "metadata": {},
   "outputs": [],
   "source": [
    "import random "
   ]
  },
  {
   "cell_type": "code",
   "execution_count": null,
   "metadata": {},
   "outputs": [],
   "source": [
    "suits = ('Hearts', 'Diamonds', 'Spades', 'Clubs')\n",
    "ranks = ('Two', 'Three', 'Four', 'Five', 'Six', 'Seven', 'Eight', 'Nine', 'Ten', 'Jack', 'Queen', 'King', 'Ace')\n",
    "values = {'Two':2, 'Three':3, 'Four':4, 'Five':5, 'Six':6, 'Seven':7, 'Eight':8, 'Nine':9, 'Ten':10, 'Jack':10,\n",
    "         'Queen':10, 'King':10, 'Ace':11}\n",
    "random.sample([i for i in suits], 1)\n",
    "random.sample([i for i in ranks], 1) \n",
    "random.sample([list(j)  for j in values.items()], 1)"
   ]
  },
  {
   "cell_type": "code",
   "execution_count": null,
   "metadata": {},
   "outputs": [],
   "source": [
    "random.sample(list(range(40)),2)\n",
    "random.sample(list(range(0,40)),2)\n",
    "a, b = random.sample(list(range(0,40)),2)\n",
    "a = random.sample([1],1)"
   ]
  },
  {
   "cell_type": "code",
   "execution_count": null,
   "metadata": {},
   "outputs": [],
   "source": [
    "a = 7 if random.choice(list(range(40))) < 20 else 8"
   ]
  },
  {
   "cell_type": "code",
   "execution_count": null,
   "metadata": {},
   "outputs": [],
   "source": [
    "for a in range(1, 9, 100):\n",
    "    print(a) "
   ]
  },
  {
   "cell_type": "markdown",
   "metadata": {},
   "source": [
    "`random.randint(a, b)` <span style=\"font-family:New York times; font-size:1em; color:green;\"> \n",
    "Return a random integer N such that a <= N <= b.\n",
    "</span>"
   ]
  },
  {
   "cell_type": "code",
   "execution_count": null,
   "metadata": {},
   "outputs": [],
   "source": [
    "random.randint(1,100)\n",
    "random.sample(range(0,20),2)"
   ]
  },
  {
   "cell_type": "markdown",
   "metadata": {},
   "source": [
    "#  `time`"
   ]
  },
  {
   "cell_type": "code",
   "execution_count": null,
   "metadata": {},
   "outputs": [],
   "source": [
    "import time"
   ]
  },
  {
   "cell_type": "code",
   "execution_count": null,
   "metadata": {},
   "outputs": [],
   "source": [
    "time.time()\n",
    "time.asctime()\n",
    "time.ctime()\n",
    "type(time.time())\n",
    "str(time.asctime())\n",
    "type(str(time.asctime()))\n",
    "time.altzone"
   ]
  },
  {
   "cell_type": "code",
   "execution_count": null,
   "metadata": {},
   "outputs": [],
   "source": [
    "time.ctime() == time.asctime()"
   ]
  },
  {
   "cell_type": "code",
   "execution_count": null,
   "metadata": {},
   "outputs": [],
   "source": [
    "x = time.asctime()\n",
    "x "
   ]
  },
  {
   "cell_type": "markdown",
   "metadata": {},
   "source": [
    "# `collections`"
   ]
  },
  {
   "cell_type": "code",
   "execution_count": null,
   "metadata": {},
   "outputs": [],
   "source": [
    "import collections"
   ]
  },
  {
   "cell_type": "markdown",
   "metadata": {},
   "source": [
    "# `feedparser`"
   ]
  },
  {
   "cell_type": "markdown",
   "metadata": {},
   "source": [
    "[feedparser documentation](https://pythonhosted.org/feedparser/common-rss-elements.html)\n",
    "\n",
    "Parsing a feed from\n",
    "* a remote URL\n",
    "* a local file \n",
    "* a string"
   ]
  },
  {
   "cell_type": "code",
   "execution_count": null,
   "metadata": {},
   "outputs": [],
   "source": [
    "result =  feedparser.parse('https://complicatedphenomenon.github.io')\n",
    "cpurl = 'https://complicatedphenomenon.github.io/atom.xml'\n",
    "result = feedparser.parse(cpurl)\n",
    "len(result)\n",
    "massiveoutput = result['entries'][0]['content'][0]['value']"
   ]
  },
  {
   "cell_type": "markdown",
   "metadata": {},
   "source": [
    "# `configparser`"
   ]
  },
  {
   "cell_type": "code",
   "execution_count": null,
   "metadata": {},
   "outputs": [],
   "source": [
    "import configparser"
   ]
  },
  {
   "cell_type": "markdown",
   "metadata": {},
   "source": [
    "# `Logging`"
   ]
  },
  {
   "cell_type": "code",
   "execution_count": null,
   "metadata": {},
   "outputs": [],
   "source": [
    "import logging"
   ]
  },
  {
   "cell_type": "code",
   "execution_count": null,
   "metadata": {},
   "outputs": [],
   "source": [
    "ls && pwd "
   ]
  },
  {
   "cell_type": "code",
   "execution_count": null,
   "metadata": {},
   "outputs": [],
   "source": [
    "!find . -name '.ini' #???"
   ]
  },
  {
   "cell_type": "code",
   "execution_count": null,
   "metadata": {},
   "outputs": [],
   "source": [
    "less config-dev.ini"
   ]
  },
  {
   "cell_type": "markdown",
   "metadata": {},
   "source": [
    "[Configuration file format](https://pymotw.com/2/ConfigParser/)"
   ]
  },
  {
   "cell_type": "code",
   "execution_count": null,
   "metadata": {},
   "outputs": [],
   "source": [
    "\n",
    "CONFIG_PATH = '/Users/wangmiao/Playground/GH/IPython_take_off/basic/WiderKnowledge/config-dev.ini'  # 按照实际情况修改位置\n",
    "CONFIG = configparser.RawConfigParser()\n",
    "CONFIG.read(CONFIG_PATH)\n",
    "\n",
    "LOG_NAME = CONFIG.get('Log', 'Name')\n",
    "LOG_PATH = CONFIG.get('Log', 'Path')  # 按照实际情况修改位置\n",
    "LOG_LVL = CONFIG.get('Log', 'Level')\n",
    "LOG_WHEN = CONFIG.get('Log', 'When')\n",
    "LOG_INTV = CONFIG.getint('Log', 'Interval')\n",
    "LOG_MAXC = CONFIG.getint('Log', 'Max Counter')\n",
    "LOG_FMT = CONFIG.get('Log', 'Format')\n",
    "MAX_WORKER = int(CONFIG.get('Concurrency', 'Max Workers'))  # 按照实际情况修改数量\n",
    "PREFETCH_NUM = int(CONFIG.get('Concurrency', 'Consume Number'))  # 按照实际情况修改数量\n",
    "MQ_HOST = CONFIG.get('Message Queue', 'Host')\n",
    "MQ_PORT = CONFIG.getint('Message Queue', 'Port')\n",
    "MQ_VHOST = CONFIG.get('Message Queue', 'Virtual Host')\n",
    "MQ_USNM = CONFIG.get('Message Queue', 'Username')\n",
    "MQ_PSWD = CONFIG.get('Message Queue', 'Password')\n",
    "MQ_DURABLE = CONFIG.getboolean('Message Queue', 'Durable')\n",
    "MQ_MODE = CONFIG.getint('Message Queue', 'Delivery Mode')\n",
    "PAPER_REQUEST = CONFIG.get('Message Queue', 'Paper Request Queue')\n",
    "PAPER_RESPONSE = CONFIG.get('Message Queue', 'Paper Response Queue')\n",
    "INFO_REQUEST = CONFIG.get('Message Queue', 'Info Request Queue')\n",
    "INFO_RESPONSE = CONFIG.get('Message Queue', 'Info Response Queue')\n",
    "DOWNLOAD_PATH = CONFIG.get('Download', 'Path')  \n",
    "DOWNLOAD_TIME = CONFIG.getint('Download', 'Retry Times')\n",
    "DOWNLOAD_TMOT = CONFIG.getint('Download', 'Timeout')\n",
    "TOKEN_URL = CONFIG.get('Upload', 'Token URL')\n",
    "REDIS_HOST = CONFIG.get('Redis', 'Host')\n",
    "REDIS_PORT = CONFIG.getint('Redis', 'Port')\n",
    "REDIS_PSWD = CONFIG.get('Redis', 'Password')\n",
    "REDIS_DB = CONFIG.getint('Redis', 'Database')\n",
    "REDIS_TMOT = CONFIG.getint('Redis', 'Timeout')"
   ]
  },
  {
   "cell_type": "code",
   "execution_count": null,
   "metadata": {},
   "outputs": [],
   "source": [
    "REDIS_DB\n",
    "REDIS_HOST\n",
    "REDIS_PORT\n",
    "REDIS_PSWD\n",
    "REDIS_TMOT"
   ]
  },
  {
   "cell_type": "code",
   "execution_count": null,
   "metadata": {},
   "outputs": [],
   "source": [
    "PAPER_REQUEST\n",
    "PAPER_RESPONSE\n",
    "INFO_REQUEST\n",
    "INFO_RESPONSE"
   ]
  },
  {
   "cell_type": "code",
   "execution_count": null,
   "metadata": {
    "scrolled": true
   },
   "outputs": [],
   "source": [
    "MQ_HOST\n",
    "MQ_PORT\n",
    "MQ_USNM\n",
    "MQ_PSWD\n",
    "MQ_DURABLE\n",
    "MQ_MODE\n",
    "DOWNLOAD_PATH\n",
    "DOWNLOAD_TIME\n",
    "TOKEN_URL"
   ]
  },
  {
   "cell_type": "code",
   "execution_count": null,
   "metadata": {},
   "outputs": [],
   "source": [
    "PAPER_REQUEST"
   ]
  },
  {
   "cell_type": "code",
   "execution_count": null,
   "metadata": {},
   "outputs": [],
   "source": [
    "LOGGER = logging.getLogger()"
   ]
  },
  {
   "cell_type": "code",
   "execution_count": null,
   "metadata": {},
   "outputs": [],
   "source": [
    "logging.basicConfig(format='%(asctime)s - %(message)s', level=logging.INFO)\n",
    "logging.info('Admin logged in')"
   ]
  },
  {
   "cell_type": "code",
   "execution_count": null,
   "metadata": {},
   "outputs": [],
   "source": [
    "logging.basicConfig(format='%(asctime)s - %(message)s', datefmt='%d-%b-%y %H:%M:%S')\n",
    "logging.warning('Admin logged out')"
   ]
  },
  {
   "cell_type": "code",
   "execution_count": null,
   "metadata": {},
   "outputs": [],
   "source": [
    "name = 'John'\n",
    "logging.error('%s raised an error', name)"
   ]
  },
  {
   "cell_type": "markdown",
   "metadata": {},
   "source": [
    "# `itertools`"
   ]
  },
  {
   "cell_type": "code",
   "execution_count": null,
   "metadata": {},
   "outputs": [],
   "source": [
    "import \n",
    "import copy"
   ]
  },
  {
   "cell_type": "code",
   "execution_count": null,
   "metadata": {},
   "outputs": [],
   "source": [
    "\n",
    "def mainw(d):\n",
    "    arr = []\n",
    "    correct_list =[]\n",
    "    curr = []\n",
    "    r= len(d)\n",
    "    greatest = max(d)\n",
    "    for i in range(0,greatest+1):\n",
    "        arr = arr + [i]\n",
    "    #all_poss_arr is a list that holds all possible vectors of length r from (0,0,...,0) to (max,max,...,max)\n",
    "    # for example if greatest was 3 and r= 4, all_poss_arr would have (0,0,0,0), then (0,0,0,1) and so on,\n",
    "    #all the way to (3,3,3,3)\n",
    "    all_poss_arr = list(itertools.product(arr,repeat = r))    \n",
    "    #Now I am going to remove all the vectors that dont follow the v_i is between 0 and d_i\n",
    "    for i in range(0,len(all_poss_arr)):\n",
    "        curr = all_poss_arr[i]\n",
    "        cnt = 0\n",
    "        for j in range(0,len(curr)):\n",
    "            if curr[j] <= d[j]:\n",
    "                cnt = cnt +1\n",
    "        if cnt == r:\n",
    "            curr = list(curr)\n",
    "            currcopy = copy.copy(curr)\n",
    "            correct_list = correct_list + [currcopy]\n",
    "            cnt =0\n",
    "    return correct_list"
   ]
  },
  {
   "cell_type": "code",
   "execution_count": null,
   "metadata": {},
   "outputs": [],
   "source": [
    "import itertools\n",
    "def combinedVector(d):\n",
    "    result = []\n",
    "    d = [str(i-1) for i in d] \n",
    "    for xs in itertools.product(''.join(d), repeat=len(d)):\n",
    "        #xs is a tuple, convert tuple to a list and convert each element from str to int\n",
    "        result.append([int(i) for i in list(xs)]) \n",
    "    return result\n",
    "d = [1, 2, 3]\n",
    "combinedVector(d)"
   ]
  },
  {
   "cell_type": "code",
   "execution_count": null,
   "metadata": {},
   "outputs": [],
   "source": [
    "mainw([1,2,3])"
   ]
  },
  {
   "cell_type": "markdown",
   "metadata": {},
   "source": [
    "# Decorators"
   ]
  },
  {
   "cell_type": "code",
   "execution_count": null,
   "metadata": {},
   "outputs": [],
   "source": [
    "def add(a, b):\n",
    "    return a+b "
   ]
  },
  {
   "cell_type": "code",
   "execution_count": null,
   "metadata": {},
   "outputs": [],
   "source": [
    "add(1.3, 2.3)"
   ]
  },
  {
   "cell_type": "code",
   "execution_count": null,
   "metadata": {},
   "outputs": [],
   "source": [
    "add.__doc__\n",
    "add.__name__"
   ]
  },
  {
   "cell_type": "markdown",
   "metadata": {},
   "source": [
    "From above you can tell that function is treated as class in Python. First class object."
   ]
  },
  {
   "cell_type": "code",
   "execution_count": null,
   "metadata": {},
   "outputs": [],
   "source": [
    "a  = time.time()\n",
    "add(10, 20)\n",
    "b = time.time()\n",
    "b - a\n",
    "a  = time.time()\n",
    "add(10, 200)\n",
    "b = time.time()\n",
    "b - a \n",
    "a  = time.time()\n",
    "add(10, 20000)\n",
    "b = time.time()\n",
    "b - a"
   ]
  },
  {
   "cell_type": "markdown",
   "metadata": {},
   "source": [
    "Too repetitive"
   ]
  },
  {
   "cell_type": "code",
   "execution_count": null,
   "metadata": {},
   "outputs": [],
   "source": [
    "def TimeConsumed(a, b):\n",
    "    def add():\n",
    "        beginT = time.time()\n",
    "        c = a +b \n",
    "        endT = time.time()\n",
    "        return c\n",
    "    return endT - beginT"
   ]
  },
  {
   "cell_type": "code",
   "execution_count": null,
   "metadata": {},
   "outputs": [],
   "source": [
    "TimeConsumed(1, 2)"
   ]
  },
  {
   "cell_type": "code",
   "execution_count": null,
   "metadata": {},
   "outputs": [],
   "source": [
    "a = ['name']\n",
    "b = ['name2']\n",
    "c = a+b\n",
    "\n",
    "print('Blahblah %s' % (a + b))\n",
    "print('Blahblah %s' % [*a, *b]) "
   ]
  },
  {
   "cell_type": "code",
   "execution_count": null,
   "metadata": {},
   "outputs": [],
   "source": [
    "from functools import wraps\n",
    "\n",
    "def requires_auth(f):\n",
    "    @wraps(f)\n",
    "    def decorated(*args, **kwargs):\n",
    "        auth = request.authorization\n",
    "        if not auth or not check_auth(auth.username, auth.password):\n",
    "            authenticate()\n",
    "        return f(*args, **kwargs)\n",
    "    return decorated"
   ]
  },
  {
   "cell_type": "code",
   "execution_count": null,
   "metadata": {},
   "outputs": [],
   "source": [
    "def logit(func):\n",
    "    @wraps(func)\n",
    "    def with_logging(*args, **kwargs):\n",
    "        print(func.__name__ + \" was called\")\n",
    "        return func(*args, **kwargs)\n",
    "    return with_logging\n",
    "\n",
    "@logit\n",
    "def addition_func(x):\n",
    "   \"\"\"Do some math.\"\"\"\n",
    "   return x + x\n",
    "\n",
    "\n",
    "result = addition_func(4)"
   ]
  },
  {
   "cell_type": "markdown",
   "metadata": {},
   "source": [
    "# Lambda function"
   ]
  },
  {
   "cell_type": "markdown",
   "metadata": {},
   "source": [
    "<span style=\"font-family:New York Times; font-size:1.2em; color:green;\">\n",
    "Lambda function\n",
    " \n",
    "尽管Python算不上是一种纯函数式编程语言，但它提供了很多函数式编程的特性，像map, sorted, filter, reduce这些函数都支持函数作为参数。lambda函数可以应用在函数式编程里边。\n",
    "\n",
    "Map handles the iteration over the sequence for us, applies the function, and stores all of the results in a handy list at the end. \n",
    "\n",
    "如果你仔细观察自己的代码，会发现这种场景其实很常见：你在某处就真的只需要一个能做一件事情的函数而已，连它叫什么名字都无关紧要。Lambda 表达式就可以用来做这件事。"
   ]
  },
  {
   "cell_type": "code",
   "execution_count": null,
   "metadata": {},
   "outputs": [],
   "source": [
    "sum = lambda x,y : x+y\n",
    "sum(1,2)\n",
    "type(sum)\n",
    "type(lambda x,y : x+y) "
   ]
  },
  {
   "cell_type": "code",
   "execution_count": null,
   "metadata": {},
   "outputs": [],
   "source": [
    "startTime= time.time()\n",
    "l = ['foo', 'bar', 'far']\n",
    "map(lambda x: x.upper(), l)\n",
    "list(map(lambda x: x.upper(), l))\n",
    "a = filter(lambda x: 'f' in x, l)\n",
    "list(a)\n",
    "endtime = time.time()\n",
    "endtime-startTime"
   ]
  },
  {
   "cell_type": "code",
   "execution_count": null,
   "metadata": {},
   "outputs": [],
   "source": [
    "lambdafunc = lambda x: print(x)\n",
    "map(lambdafunc, [1,2,3])\n",
    "list(map(lambdafunc, [1,2,3])) \n",
    "list(map(lambdafunc, {'USA':'United States America', 'UK':'United Kingdom'})) "
   ]
  },
  {
   "cell_type": "code",
   "execution_count": null,
   "metadata": {},
   "outputs": [],
   "source": [
    "from functools import reduce \n",
    "l = [1, 3, -2, 4]\n",
    "list(map(lambda x : abs(x), l))\n",
    "list(filter(lambda x : x < 0, l))"
   ]
  },
  {
   "cell_type": "code",
   "execution_count": null,
   "metadata": {},
   "outputs": [],
   "source": [
    "C = [39.2, 36.5, 37.3, 38, 37.8] \n",
    "F = list(map(lambda x: (float(9)/5)*x + 32, C))\n",
    "C = list(map(lambda x: (float(5)/9)*(x-32), F))\n",
    "F\n",
    "C"
   ]
  },
  {
   "cell_type": "code",
   "execution_count": null,
   "metadata": {},
   "outputs": [],
   "source": [
    "squares = []\n",
    "for x in range(10): squares.append(x*x)"
   ]
  },
  {
   "cell_type": "code",
   "execution_count": null,
   "metadata": {},
   "outputs": [],
   "source": [
    "squares"
   ]
  },
  {
   "cell_type": "code",
   "execution_count": null,
   "metadata": {},
   "outputs": [],
   "source": [
    "y = [(lambda x: x*x) for x in range(10)] "
   ]
  },
  {
   "cell_type": "code",
   "execution_count": null,
   "metadata": {},
   "outputs": [],
   "source": [
    "f = lambda x: x*x\n",
    "[f(x) for x in range(10)]"
   ]
  },
  {
   "cell_type": "code",
   "execution_count": null,
   "metadata": {},
   "outputs": [],
   "source": [
    "Rank = '34567890JQKA2'\n",
    "Rank2 = 'DCHS'\n",
    "def sort_func(words):\n",
    "    words.sort(key=lambda x: (Rank.index(x[0]), Rank2.index(x[1])))\n",
    "    return words\n",
    "\n",
    "print(sort_func(['9C', '9H', '8H', '9D']))"
   ]
  },
  {
   "cell_type": "code",
   "execution_count": null,
   "metadata": {},
   "outputs": [],
   "source": [
    "f = lambda x, a=2: x+a\n",
    "f(6,9)"
   ]
  },
  {
   "cell_type": "code",
   "execution_count": null,
   "metadata": {},
   "outputs": [],
   "source": [
    "# Logic is complex and compact\n",
    "from itertools import groupby                                          \n",
    "query= [0,0,0,0,0,1,1,1,0,1,0,0,1,1,0]\n",
    "answer = [[5,8],[9,10],[12,14]]\n",
    "[(g[0][0], g[-1][0]+1) for g in (list(g) for k, g in groupby(enumerate(query), key=lambda t: t[1]) if k == 1)]  "
   ]
  },
  {
   "cell_type": "markdown",
   "metadata": {},
   "source": [
    "# `*args` and `**kwargs`\n",
    "https://stackoverflow.com/questions/36901/what-does-double-star-asterisk-and-star-asterisk-do-for-parameters"
   ]
  },
  {
   "cell_type": "code",
   "execution_count": null,
   "metadata": {},
   "outputs": [],
   "source": [
    "x = ['Q', 'W', 'E'] \n",
    "z = ''\n",
    "for _ in range(len(x)):\n",
    "    z+=random.choice(x) \n",
    "z "
   ]
  },
  {
   "cell_type": "code",
   "execution_count": null,
   "metadata": {},
   "outputs": [],
   "source": [
    "int(bin(123)[2:])"
   ]
  },
  {
   "cell_type": "code",
   "execution_count": null,
   "metadata": {},
   "outputs": [],
   "source": [
    "not False"
   ]
  },
  {
   "cell_type": "markdown",
   "metadata": {},
   "source": [
    "000, 001, 010, 011, 100, 101, 110, 111"
   ]
  },
  {
   "cell_type": "code",
   "execution_count": null,
   "metadata": {},
   "outputs": [],
   "source": [
    "def gray_code(n):\n",
    "    if n <= 0:\n",
    "        return []\n",
    "    if n == 1:\n",
    "        return ['0', '1']\n",
    "    \n",
    "    res = gray_code(n-1)\n",
    "    return ['0'+s for s in res] + ['1'+s for s in res[::-1]]\n",
    "gray_code(3)"
   ]
  },
  {
   "cell_type": "code",
   "execution_count": null,
   "metadata": {},
   "outputs": [],
   "source": [
    "m = [[int(j) for j in i] for i in pw ]\n",
    "m "
   ]
  },
  {
   "cell_type": "code",
   "execution_count": null,
   "metadata": {},
   "outputs": [],
   "source": [
    "def gray_code(n):\n",
    "    if n <= 0:\n",
    "        return []\n",
    "    if n == 1:\n",
    "        return ['0', '1']\n",
    "    if n ==2:\n",
    "        return ['0', '1','2']\n",
    "    res = gray_code(n-2)\n",
    "    return ['0'+s for s in res] + ['1'+s for s in res[::-2]]+['2'+s for s in res[::-1]]"
   ]
  },
  {
   "cell_type": "code",
   "execution_count": null,
   "metadata": {},
   "outputs": [],
   "source": [
    "gray_code(8)"
   ]
  },
  {
   "cell_type": "code",
   "execution_count": null,
   "metadata": {},
   "outputs": [],
   "source": [
    "from random import random\n",
    "import time\n",
    "from numba import jit\n",
    "\n",
    "N = 1000000\n",
    "dic_test = {}\n",
    "for i in range(N):\n",
    "    dic_test[i] = (random()*100, random()*100)\n",
    "\n",
    "# for Python3.6 or later.\n",
    "start = time.time()\n",
    "\n",
    "@jit\n",
    "def convert(dic_test):\n",
    "    li_test = []\n",
    "    for xy in dic_test.values():\n",
    "        li_test.append(xy)\n",
    "    return li_test\n",
    "li_test = convert(dic_test)\n",
    "\n",
    "elapsed_time = time.time() - start\n",
    "print (\"elapsed_time:{0}\".format(elapsed_time) + \"[sec]\")"
   ]
  },
  {
   "cell_type": "markdown",
   "metadata": {},
   "source": [
    "# digit unit "
   ]
  },
  {
   "cell_type": "code",
   "execution_count": null,
   "metadata": {},
   "outputs": [],
   "source": [
    "def convertToMilli(n, decimals=0):\n",
    "    multiplier = 10 ** decimals\n",
    "    x = int(n *pow(10,6)* multiplier) / multiplier\n",
    "    print (str(x)+'m(milli)')\n",
    "convertToMilli(11.2)\n",
    "convertToMilli(1.625000111, 3)"
   ]
  },
  {
   "cell_type": "code",
   "execution_count": null,
   "metadata": {},
   "outputs": [],
   "source": [
    "def truncate(n, decimals=0):\n",
    "    multiplier = 10 ** decimals\n",
    "    return int(n * multiplier) / multiplier\n",
    "truncate(2, 3) #2.0\n",
    "truncate(1.625, 2)#1.62"
   ]
  },
  {
   "cell_type": "code",
   "execution_count": null,
   "metadata": {},
   "outputs": [],
   "source": [
    "def digital_root(x:int):\n",
    "    if type(x)==int:\n",
    "        x = str(x)\n",
    "        a = 0\n",
    "        for i in x:\n",
    "            a +=int(i) \n",
    "        return a\n",
    "    elif type(x)== str:\n",
    "        a = 0\n",
    "        for i in x:\n",
    "            a +=int(i) \n",
    "        return a \n",
    "digital_root( \"9\"*12)        "
   ]
  },
  {
   "cell_type": "markdown",
   "metadata": {},
   "source": [
    "https://stackoverflow.com/questions/57553683/python-how-to-merge-and-swap-every-nth-element-of-two-lists#57553791"
   ]
  },
  {
   "cell_type": "code",
   "execution_count": null,
   "metadata": {},
   "outputs": [],
   "source": [
    "l1 = [1,2,3,4,5,6,7,8,9,10,11,12]\n",
    "\n",
    "l2 = ['a', 'b', 'c', 'd', 'e', 'f', 'g', 'h', 'i', 'j', 'k', 'l']\n",
    "l3 = [(l1, l2)[(i // 3 % 2)][i] for i in range(len(l1))]\n",
    "l3 "
   ]
  }
 ],
 "metadata": {
  "hide_input": false,
  "kernelspec": {
   "display_name": "Python 3",
   "language": "python",
   "name": "python3"
  },
  "language_info": {
   "codemirror_mode": {
    "name": "ipython",
    "version": 3
   },
   "file_extension": ".py",
   "mimetype": "text/x-python",
   "name": "python",
   "nbconvert_exporter": "python",
   "pygments_lexer": "ipython3",
   "version": "3.7.2"
  },
  "latex_envs": {
   "LaTeX_envs_menu_present": true,
   "autocomplete": true,
   "bibliofile": "biblio.bib",
   "cite_by": "apalike",
   "current_citInitial": 1,
   "eqLabelWithNumbers": true,
   "eqNumInitial": 1,
   "hotkeys": {
    "equation": "Ctrl-E",
    "itemize": "Ctrl-I"
   },
   "labels_anchors": false,
   "latex_user_defs": false,
   "report_style_numbering": false,
   "user_envs_cfg": false
  },
  "toc": {
   "base_numbering": 1,
   "nav_menu": {},
   "number_sections": true,
   "sideBar": true,
   "skip_h1_title": false,
   "title_cell": "Table of Contents",
   "title_sidebar": "Contents",
   "toc_cell": false,
   "toc_position": {
    "height": "calc(100% - 180px)",
    "left": "10px",
    "top": "150px",
    "width": "165px"
   },
   "toc_section_display": true,
   "toc_window_display": true
  },
  "varInspector": {
   "cols": {
    "lenName": 16,
    "lenType": 16,
    "lenVar": 40
   },
   "kernels_config": {
    "python": {
     "delete_cmd_postfix": "",
     "delete_cmd_prefix": "del ",
     "library": "var_list.py",
     "varRefreshCmd": "print(var_dic_list())"
    },
    "r": {
     "delete_cmd_postfix": ") ",
     "delete_cmd_prefix": "rm(",
     "library": "var_list.r",
     "varRefreshCmd": "cat(var_dic_list()) "
    }
   },
   "types_to_exclude": [
    "module",
    "function",
    "builtin_function_or_method",
    "instance",
    "_Feature"
   ],
   "window_display": false
  }
 },
 "nbformat": 4,
 "nbformat_minor": 2
}
