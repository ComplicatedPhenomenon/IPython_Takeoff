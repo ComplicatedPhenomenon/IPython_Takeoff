{
 "cells": [
  {
   "cell_type": "code",
   "execution_count": 1,
   "metadata": {},
   "outputs": [],
   "source": [
    "from IPython.core.interactiveshell import InteractiveShell\n",
    "InteractiveShell.ast_node_interactivity = \"all\""
   ]
  },
  {
   "cell_type": "markdown",
   "metadata": {},
   "source": [
    "# Compare 2 list"
   ]
  },
  {
   "cell_type": "code",
   "execution_count": null,
   "metadata": {},
   "outputs": [],
   "source": [
    "list_1= [123, 122, 524, 500, 515, 600, 620]\n",
    "list_2= [120, 150, 500, 550, 600, 650]\n",
    "new_list = list_1[:]\n",
    "for i, v in enumerate(list_1):\n",
    "    ok = []\n",
    "    for j, k in enumerate(list_2):\n",
    "        ok.append(abs(v-k))\n",
    "    # find the index of the closet element from list_2 to the current v\n",
    "    ind = ok.index(min(ok))\n",
    "    new_list[i] = list_2[ind]\n",
    "print('The closest element from the second list to the element in the first list is :', new_list)\n",
    "#[120, 120, 500, 500, 500, 600, 600]"
   ]
  },
  {
   "cell_type": "markdown",
   "metadata": {},
   "source": [
    "# `sort` and `Counter`"
   ]
  },
  {
   "cell_type": "code",
   "execution_count": null,
   "metadata": {},
   "outputs": [],
   "source": [
    "x = [1, 'hello', 2, ' word', 3, ' love', 1, ' hi', 1, ' you']\n",
    "z = [w for _,w in sorted(zip(x[0::2],x[1::2]))]\n",
    "print(z)\n",
    "#[' love', ' word', 'hello', ' you', ' hi']"
   ]
  },
  {
   "cell_type": "code",
   "execution_count": null,
   "metadata": {},
   "outputs": [],
   "source": [
    "tem = {'y': 5, 'x': 0}\n",
    "min(tem.values())\n",
    "x = [{'y': 5, 'x': 0}, {'a': 1, 'b': 2}, {'c': 2, 'd': 4}, {'a': 7, 'c': 3}]\n",
    "sorted(x, key=lambda i: min(i.values()))"
   ]
  },
  {
   "cell_type": "code",
   "execution_count": null,
   "metadata": {},
   "outputs": [],
   "source": [
    "from collections import Counter\n",
    "s=\"hello, word, word, love, love, love, hi, you\"\n",
    "slist = s.split(',')\n",
    "sdict = dict(Counter(slist))\n",
    "sdict \n",
    "result = sorted(sdict.items(), key=lambda x: x[1], reverse=True)\n",
    "result = [i[0] for i in result]\n",
    "print(result) \n",
    "# [' love', ' word', 'hello', ' hi', ' you']"
   ]
  },
  {
   "cell_type": "markdown",
   "metadata": {},
   "source": [
    "https://stackoverflow.com/questions/57804057/how-to-print-out-the-values-with-count-in-dictionary-using-counter"
   ]
  },
  {
   "cell_type": "code",
   "execution_count": null,
   "metadata": {},
   "outputs": [],
   "source": [
    "def tuptodi(tup, dictio): \n",
    "    for a, b in tup: \n",
    "        dictio.setdefault(a, []).append(b) \n",
    "    return dictio\n",
    "tups = [('key1', 'value1'), ('key2', 'value1'),('key3', 'value3'),('key1', 'value1'),('key1', 'value2')]\n",
    "dictionary = {} \n",
    "print (tuptodi(tups, dictionary)) \n",
    "{k: dict(Counter(v)) for k, v in res.items()}"
   ]
  },
  {
   "cell_type": "code",
   "execution_count": null,
   "metadata": {},
   "outputs": [],
   "source": [
    "dicl = {'amazon': [668, 667, 879], 'flipkart' : [678], 'hey' : [89,79]}\n",
    "{k : len(v) for k, v in sorted(dicl.items(), key = lambda i: len(i[1]), reverse=True)}"
   ]
  },
  {
   "cell_type": "code",
   "execution_count": null,
   "metadata": {},
   "outputs": [],
   "source": [
    "data = {'Apple':3, 'Mango':2, 'Orange':2, 'Fig':5, 'Berry':1, 'Cherry':99}\n",
    "sorted_data = sorted(data.items(), key=lambda kv: kv[1], reverse=True)\n",
    "print (dict(sorted_data))"
   ]
  },
  {
   "cell_type": "markdown",
   "metadata": {},
   "source": [
    " https://stackoverflow.com/questions/53947928/force-items-at-beginning-and-end-of-list/53947953#53947953"
   ]
  },
  {
   "cell_type": "code",
   "execution_count": null,
   "metadata": {},
   "outputs": [],
   "source": [
    "l = ['f','g','p','a','p','c','b','q','z','n','d','t','q']\n",
    "sorted(l, key = lambda s: (s!='p', s=='q', s))\n",
    "['p', 'p', 'a', 'b', 'c', 'd', 'f', 'g', 'n', 't', 'z', 'q', 'q']"
   ]
  },
  {
   "cell_type": "markdown",
   "metadata": {},
   "source": [
    "## sort the part of a dictionary  "
   ]
  },
  {
   "cell_type": "markdown",
   "metadata": {},
   "source": [
    "https://stackoverflow.com/questions/57644478/how-to-partially-sort-list-of-dictionary-by-dictionary-value-in-python#57644745"
   ]
  },
  {
   "cell_type": "code",
   "execution_count": null,
   "metadata": {},
   "outputs": [],
   "source": [
    "my_list = ['fact9',\n",
    " {'filename': 'name2', 'type': 1},\n",
    " 'fact4',\n",
    " {'filename': 'name33', 'type': 4},\n",
    " 'fact5',\n",
    " {'filename': 'name1', 'type': 1},\n",
    " 'fact6',\n",
    " {'filename': 'name12', 'type': 2}]\n",
    "list(zip(my_list[0::2], my_list[1::2]))"
   ]
  },
  {
   "cell_type": "code",
   "execution_count": null,
   "metadata": {},
   "outputs": [],
   "source": [
    "x = dict(zip(my_list[0::2], my_list[1::2]))\n",
    "x\n",
    "# The python popitem dictionary function removes the last inserted key value pair and prints the removed items.\n",
    "part = {k:v for k, v in x.items() if v['type']==1} \n",
    "part = dict(sorted(part.items(), key = lambda i: i[0] ))\n",
    "anotherPart =  {k:v for k, v in x.items() if v['type']!=1}\n"
   ]
  },
  {
   "cell_type": "code",
   "execution_count": null,
   "metadata": {},
   "outputs": [],
   "source": [
    "sorted_my_list = [{'fact5': {'filename': 'name1', 'type': 1}},\n",
    " {'fact4': {'filename': 'name33', 'type': 4}},\n",
    " {'fact9': {'filename': 'name2', 'type': 1}},\n",
    " {'fact6': {'filename': 'name12', 'type': 2}}]\n",
    "\n",
    "sorted_my_list"
   ]
  },
  {
   "cell_type": "code",
   "execution_count": null,
   "metadata": {},
   "outputs": [],
   "source": [
    "res = []       \n",
    "for _, v in x.items():\n",
    "    if v['type']==1:\n",
    "        tem = part.popitem()\n",
    "        res.append({tem[0]: tem[1]})\n",
    "    else:\n",
    "        tem = anotherPart.popitem()\n",
    "        res.append({tem[0]: tem[1]})\n",
    "res     "
   ]
  },
  {
   "cell_type": "code",
   "execution_count": null,
   "metadata": {},
   "outputs": [],
   "source": [
    "my_list = [('fact9', {'filename': 'name2', 'type': 1}), ('fact4', {'filename': 'name33', 'type': 4}), ('fact5', {'filename': 'name1', 'type': 1}), ('fact6', {'filename': 'name12', 'type': 2})] \n",
    "my_list\n",
    "tmp_list = sorted([x for x in my_list if x[1]['type']==1], key=lambda x:x[1]['filename'])\n",
    "tmp_list\n",
    "sorted_my_list = [x if x[1]['type']!=1 else tmp_list.pop(0) for x in my_list]\n",
    "sorted_my_list"
   ]
  },
  {
   "cell_type": "markdown",
   "metadata": {},
   "source": [
    "```md\n",
    "输入：(9, 2), (3, 7), (7, 8), (3, 5), (1, 9)\n",
    "输出：(1, 9), (3, 7), (3, 5), (7, 8), (9, 2)\n",
    "```"
   ]
  },
  {
   "cell_type": "code",
   "execution_count": null,
   "metadata": {},
   "outputs": [],
   "source": [
    "def sort(a):\n",
    "    alist = [list(i) for i in a]\n",
    "    alist.sort(key=lambda k: (k[0], -k[1]), reverse=False)\n",
    "    atuple = tuple(tuple(i) for i in alist)\n",
    "    return atuple\n",
    "a = (9, 2), (3, 7), (7, 8), (3, 5), (1, 9)\n",
    "sort(a)"
   ]
  },
  {
   "cell_type": "code",
   "execution_count": null,
   "metadata": {},
   "outputs": [],
   "source": [
    "d = {\"214123\" : 75.0,\n",
    " \"153525\" : 60.0,\n",
    " \"734829\" : 40.0,\n",
    " \"992832\" : 89.0,\n",
    " \"823482\" : 80.0}\n",
    "dict(sorted(list(d.items()), key=lambda p: p[1], reverse=True)[:3])"
   ]
  },
  {
   "cell_type": "markdown",
   "metadata": {},
   "source": [
    "## Custom Sorting using the key parameter"
   ]
  },
  {
   "cell_type": "markdown",
   "metadata": {},
   "source": [
    "`sorted()` function has an optional parameter called `key` which takes a function as its value. This key function transforms each element before sorting, it takes the value and returns `1` value which is then used within sort instead of the original value."
   ]
  },
  {
   "cell_type": "code",
   "execution_count": null,
   "metadata": {},
   "outputs": [],
   "source": [
    "L = [\"cccc\", \"b\", \"dd\", \"aaa\"]\n",
    "print(\"Sort with len :\", sorted(L, key=len))"
   ]
  },
  {
   "cell_type": "code",
   "execution_count": null,
   "metadata": {},
   "outputs": [],
   "source": [
    "def last(n):\n",
    "    return n[m]\n",
    "\n",
    "a = [(23, 45, 20), (25, 44, 39), (89, 40, 23)]\n",
    "m = 2\n",
    "sorted(a, key=last) \n",
    "\n",
    "sorted(a, key=lambda x: x[2]) "
   ]
  },
  {
   "cell_type": "markdown",
   "metadata": {},
   "source": [
    "## `sorted` based on multiple criteria"
   ]
  },
  {
   "cell_type": "markdown",
   "metadata": {},
   "source": [
    "https://stackoverflow.com/questions/57832543/how-to-sort-words-in-a-list-by-alphabet-and-word-length-using-python"
   ]
  },
  {
   "cell_type": "markdown",
   "metadata": {},
   "source": [
    "`sorted` will consider the criteria in order when sorting:"
   ]
  },
  {
   "cell_type": "code",
   "execution_count": null,
   "metadata": {},
   "outputs": [],
   "source": [
    "listOfWords = ['working', 'selling', 'work', 'workers', 'sell', 'world']\n",
    "print(sorted(listOfWords, key = lambda x: (x, len(x))))\n",
    "listOfWords"
   ]
  },
  {
   "cell_type": "markdown",
   "metadata": {},
   "source": [
    "# `groupby`"
   ]
  },
  {
   "cell_type": "code",
   "execution_count": null,
   "metadata": {},
   "outputs": [],
   "source": [
    "from itertools import groupby"
   ]
  },
  {
   "cell_type": "markdown",
   "metadata": {},
   "source": [
    "https://stackoverflow.com/questions/57823718/how-can-i-split-a-dictionary-in-several-dictionaries-based-on-a-part-of-values-u#57823866"
   ]
  },
  {
   "cell_type": "code",
   "execution_count": null,
   "metadata": {},
   "outputs": [],
   "source": [
    "d = {\n",
    "    'sku1': 'w-1',\n",
    "    'sku2': 'k-2',\n",
    "    'sku3': 'b-10',\n",
    "    'sku4': 'b-1',\n",
    "    'sku5': 'x-1',\n",
    "    'sku6': 'x-2'\n",
    "}\n",
    "\n",
    "f = lambda x: x[1][0]\n",
    "t = sorted(d.items(), key=f)\n",
    "[{i[0]: i[1] for i in list(v)} for k, v in groupby(t, key=f)]"
   ]
  },
  {
   "cell_type": "code",
   "execution_count": null,
   "metadata": {},
   "outputs": [],
   "source": [
    "from collections import defaultdict\n",
    "d = {\n",
    "    'sku1': 'w-1',\n",
    "    'sku2': 'k-2',\n",
    "    'sku3': 'b-10',\n",
    "    'sku4': 'b-1',\n",
    "    'sku5': 'x-1',\n",
    "    'sku6': 'x-2'\n",
    "}\n",
    "mother = defaultdict(dict)\n",
    "for key, val in d.items():\n",
    "    mother[val[0]][key] = val\n",
    "\n",
    "print(dict(mother))"
   ]
  },
  {
   "cell_type": "markdown",
   "metadata": {},
   "source": [
    "https://stackoverflow.com/questions/57593177/how-to-fix-a-logic-in-python-for-loop"
   ]
  },
  {
   "cell_type": "code",
   "execution_count": null,
   "metadata": {},
   "outputs": [],
   "source": [
    "lists = [\n",
    "    'a',\n",
    "    'b',\n",
    "    'c',\n",
    "    'None',\n",
    "    'd',\n",
    "    'e',\n",
    "    'e',\n",
    "    'f',\n",
    "    'None',\n",
    "    'g',\n",
    "    'h',\n",
    "    'i',\n",
    "    'i',\n",
    "    'i',\n",
    "    'None',\n",
    "    'aa',\n",
    "    'aa',\n",
    "    'aa',\n",
    "    'aa',\n",
    "    'aa',\n",
    "    'ab',\n",
    "    'ac',\n",
    "]\n",
    "index = [i for i, v in enumerate(lists) if v == 'None']\n",
    "s = 0\n",
    "i = 0\n",
    "while i < len(index):\n",
    "    print((lists[s:index[i]]))\n",
    "    s = index[i] + 1\n",
    "    i += 1\n",
    "print((lists[index[i - 1] + 1:]))\n",
    "\n",
    "from itertools import groupby\n",
    "lists = [\n",
    "    list(group) for key, group in groupby(lists, key=lambda x: x != \"None\")\n",
    "    if key\n",
    "]\n",
    "#print(lists)"
   ]
  },
  {
   "cell_type": "code",
   "execution_count": null,
   "metadata": {},
   "outputs": [],
   "source": [
    "keys = [\"C\", \"C#\", \"D\", \"D#\", \"E\", \"F\", \"F#\", \"G\", \"G#\", \"A\", \"A#\", \"B\"]\n",
    "for key, group in groupby(keys, key=lambda x: not x.endswith('#')):\n",
    "    print(key, list(group)) \n",
    "                          \n",
    "lists = [\n",
    "    list(group) for key, group in groupby(keys, key=lambda x: not x.endswith('#') )\n",
    "    if key\n",
    "]\n",
    "lists"
   ]
  },
  {
   "cell_type": "markdown",
   "metadata": {},
   "source": [
    "# `itertools`"
   ]
  },
  {
   "cell_type": "markdown",
   "metadata": {},
   "source": [
    "https://stackoverflow.com/questions/57542240/get-all-combination-of-terms#57542240"
   ]
  },
  {
   "cell_type": "code",
   "execution_count": null,
   "metadata": {},
   "outputs": [],
   "source": [
    "import itertools\n",
    "from itertools import combinations\n",
    "from itertools import compress, product"
   ]
  },
  {
   "cell_type": "code",
   "execution_count": null,
   "metadata": {},
   "outputs": [],
   "source": [
    "nums = [-1, 0, 1, 2, -1, -4]\n",
    "for subset in itertools.combinations(nums,3):\n",
    "    subset"
   ]
  },
  {
   "cell_type": "code",
   "execution_count": null,
   "metadata": {},
   "outputs": [],
   "source": [
    "class Solution(object):\n",
    "    def threeSum(self, nums):\n",
    "        \"\"\"\n",
    "        :type nums: List[int]\n",
    "        :rtype: List[List[int]]\n",
    "        \"\"\"\n",
    "        nums.sort()\n",
    "        res = []\n",
    "        for subset in itertools.combinations(nums,3):\n",
    "            if sum(subset) == 0:\n",
    "                res.append(subset)\n",
    "        return set(res)\n",
    "a = Solution()\n",
    "a.threeSum(nums)"
   ]
  },
  {
   "cell_type": "code",
   "execution_count": null,
   "metadata": {},
   "outputs": [],
   "source": [
    "x = \"new    search words\"\n",
    "words = x.split(' ')\n",
    "itertools.chain(*(itertools.combinations(words, i) for i in range(1, len(words)+1)))"
   ]
  },
  {
   "cell_type": "code",
   "execution_count": null,
   "metadata": {},
   "outputs": [],
   "source": [
    "def combinations(items):\n",
    "    return ( set(compress(items,mask)) for mask in product(*[[0,1]]*len(items)) ) \n",
    "\n",
    "list(combinations('0123'))"
   ]
  },
  {
   "cell_type": "code",
   "execution_count": null,
   "metadata": {},
   "outputs": [],
   "source": [
    "A = [1, 2, 3]\n",
    "id(A)\n",
    "B = A \n",
    "id(B)==id(A)\n",
    "B=A[:]\n",
    "id(B)==id(A)\n",
    "id(A)!=id(A[:])"
   ]
  },
  {
   "cell_type": "markdown",
   "metadata": {},
   "source": [
    "# `random`"
   ]
  },
  {
   "cell_type": "code",
   "execution_count": null,
   "metadata": {},
   "outputs": [],
   "source": [
    "import random "
   ]
  },
  {
   "cell_type": "code",
   "execution_count": null,
   "metadata": {},
   "outputs": [],
   "source": [
    "suits = ('Hearts', 'Diamonds', 'Spades', 'Clubs')\n",
    "ranks = ('Two', 'Three', 'Four', 'Five', 'Six', 'Seven', 'Eight', 'Nine', 'Ten', 'Jack', 'Queen', 'King', 'Ace')\n",
    "values = {'Two':2, 'Three':3, 'Four':4, 'Five':5, 'Six':6, 'Seven':7, 'Eight':8, 'Nine':9, 'Ten':10, 'Jack':10,\n",
    "         'Queen':10, 'King':10, 'Ace':11}\n",
    "random.sample([i for i in suits], 1)\n",
    "random.sample([i for i in ranks], 1) \n",
    "random.sample([list(j)  for j in values.items()], 1)"
   ]
  },
  {
   "cell_type": "code",
   "execution_count": null,
   "metadata": {},
   "outputs": [],
   "source": [
    "# Why does this code work fine\n",
    "def okay0():\n",
    "    def foo():\n",
    "        L = []\n",
    "        def bar():\n",
    "            L.append(5)\n",
    "        bar()\n",
    "        return L\n",
    "    foo()\n",
    "\n",
    "# and so does this\n",
    "def okay1():\n",
    "    def foo():\n",
    "        def bar():\n",
    "            L.append(5)\n",
    "        L = []\n",
    "        bar()\n",
    "        return L\n",
    "    foo()\n",
    "\n",
    "# but the following code raises an exception?\n",
    "def broken():\n",
    "    def foo():\n",
    "        L = []\n",
    "        bar()\n",
    "        return L\n",
    "    def bar():\n",
    "        L.append(5)\n",
    "    foo()\n",
    "\n",
    "# Example\n",
    "test_list = [okay0, okay1, broken]\n",
    "for test_function in test_list:\n",
    "    try:\n",
    "        test_function()\n",
    "    except:\n",
    "        print(\"broken\")\n",
    "    else:\n",
    "        print(\"okay\")"
   ]
  },
  {
   "cell_type": "code",
   "execution_count": null,
   "metadata": {},
   "outputs": [],
   "source": [
    "points = 0 \n",
    "current = 0 \n",
    "Q = ['a','b','c']\n",
    "Q.pop('a')\n",
    "while(quiz < 5): \n",
    "    current = random.randint(0, len(Q) - 1) \n",
    "    question = Q[current] \n",
    "    answer = A[current]\n",
    "\n",
    "    question = input(\"\\nQ\" + str(quiz + 1) + \". \" + Q[current]) \n",
    "\n",
    "    if question.lower() == answer.lower(): \n",
    "        points = points + 20 \n",
    "        current = current + 2\n",
    "        print(\"Correct Answer!\") \n",
    "\n",
    "    else:\n",
    "        pri"
   ]
  },
  {
   "cell_type": "code",
   "execution_count": null,
   "metadata": {},
   "outputs": [],
   "source": [
    "random.sample(list(range(40)),2)\n",
    "random.sample(list(range(0,40)),2)\n",
    "a, b = random.sample(list(range(0,40)),2)\n",
    "a = random.sample([1],1)"
   ]
  },
  {
   "cell_type": "code",
   "execution_count": null,
   "metadata": {},
   "outputs": [],
   "source": [
    "a = 7 if random.choice(list(range(40))) < 20 else 8"
   ]
  },
  {
   "cell_type": "code",
   "execution_count": null,
   "metadata": {},
   "outputs": [],
   "source": [
    "for a in range(1, 9, 100):\n",
    "    print(a) "
   ]
  },
  {
   "cell_type": "markdown",
   "metadata": {},
   "source": [
    "`random.randint(a, b)` <span style=\"font-family:New York times; font-size:1em; color:green;\"> \n",
    "Return a random integer N such that a <= N <= b.\n",
    "</span>"
   ]
  },
  {
   "cell_type": "code",
   "execution_count": null,
   "metadata": {},
   "outputs": [],
   "source": [
    "random.randint(1,100)\n",
    "random.sample(range(0,20),2)"
   ]
  },
  {
   "cell_type": "markdown",
   "metadata": {},
   "source": [
    "#  `time`"
   ]
  },
  {
   "cell_type": "code",
   "execution_count": 7,
   "metadata": {},
   "outputs": [],
   "source": [
    "import datetime"
   ]
  },
  {
   "cell_type": "code",
   "execution_count": 9,
   "metadata": {},
   "outputs": [
    {
     "name": "stdout",
     "output_type": "stream",
     "text": [
      "['September', 'August', 'July', 'June', 'May']\n"
     ]
    }
   ],
   "source": [
    "from datetime import date\n",
    "\n",
    "today = date.today().replace(day=1)\n",
    "min_month = max(today.month - 5, 0)\n",
    "month_range = range(today.month, min_month, -1)\n",
    "print ([today.replace(month=i).strftime(\"%B\") for i in month_range])"
   ]
  },
  {
   "cell_type": "code",
   "execution_count": 16,
   "metadata": {},
   "outputs": [
    {
     "data": {
      "text/plain": [
       "'09/30/2019'"
      ]
     },
     "execution_count": 16,
     "metadata": {},
     "output_type": "execute_result"
    }
   ],
   "source": [
    "from datetime import datetime \n",
    "dt = datetime.strftime(datetime.today().date(), \"%m/%d/%Y\")\n",
    "dt "
   ]
  },
  {
   "cell_type": "markdown",
   "metadata": {},
   "source": [
    "https://stackoverflow.com/questions/57800633/get-last-x-months-in-python"
   ]
  },
  {
   "cell_type": "code",
   "execution_count": null,
   "metadata": {},
   "outputs": [],
   "source": [
    "today = date.today()\n",
    "[today.replace(month=i).strftime(\"%B\") for i in range(12, today.month - 1)]"
   ]
  },
  {
   "cell_type": "code",
   "execution_count": null,
   "metadata": {},
   "outputs": [],
   "source": [
    "print(today.month)\n",
    "\n",
    "month = [\"January\", \"February\", \"March\", \"April\",\n",
    "        \"May\", \"June\", \"July\", \"August\", \"September\", \"October\", \"November\", \"December\"]\n",
    "\n",
    "print(sorted( month[today.month:], reverse=True) )"
   ]
  },
  {
   "cell_type": "markdown",
   "metadata": {},
   "source": [
    "http://strftime.org/"
   ]
  },
  {
   "cell_type": "code",
   "execution_count": null,
   "metadata": {},
   "outputs": [],
   "source": [
    "import datetime\n",
    "\n",
    "array = [{'date': '09-Jul-2018'}, \n",
    "         {'date': '09-Aug-2018'}, \n",
    "         {'date': '09-Sep-2018'}]\n",
    "\n",
    "to_check = \"17-Aug-2018\"\n",
    "to_check = datetime.datetime.strptime(to_check, \"%d-%b-%Y\")\n",
    "\n",
    "closest_dates = []\n",
    "val = 0\n",
    "for date in array:\n",
    "    date_val = datetime.datetime.strptime(date[\"date\"], \"%d-%b-%Y\")\n",
    "    if date_val <= to_check:\n",
    "        closest_dates.append({(to_check - date_val).days: date[\"date\"]})\n",
    "print(min(closest_dates, key=lambda x: list(x.items())[0]))"
   ]
  },
  {
   "cell_type": "code",
   "execution_count": null,
   "metadata": {},
   "outputs": [],
   "source": [
    "from datetime import datetime\n",
    "convert = lambda e: datetime.strptime(e, '%d-%b-%Y')\n",
    "\n",
    "array = [{'date': '09-Jul-2018'}, \n",
    "         {'date': '09-Aug-2018'}, \n",
    "         {'date': '09-Sep-2018'}]\n",
    "\n",
    "ref = convert(\"17-Aug-2018\")\n",
    "\n",
    "transform = ((convert(elem['date']), elem['date']) for elem in array)\n",
    "_, closest_date = max((elem for elem in transform if (elem[0] - ref).days < 0), key = lambda e: e[0])\n",
    "print(closest_date)"
   ]
  },
  {
   "cell_type": "code",
   "execution_count": null,
   "metadata": {},
   "outputs": [],
   "source": [
    "\n",
    "array = [{'date': '09-Jul-2018'}, \n",
    "         {'date': '09-Aug-2018'}, \n",
    "         {'date': '09-Sep-2018'}]\n",
    "\n",
    "input_dt = datetime.strptime('17-Aug-2018', '%d-%b-%Y')\n",
    "sorted(\n",
    "    map(lambda date: datetime.strptime(date['date'], '%d-%b-%Y'), array),\n",
    "    key=lambda dt: (input_dt - dt).total_seconds() if dt < input_dt else float(\"inf\"),\n",
    ")[0].strftime('%d-%b-%Y')"
   ]
  },
  {
   "cell_type": "code",
   "execution_count": null,
   "metadata": {},
   "outputs": [],
   "source": [
    "time.time()\n",
    "time.asctime()\n",
    "time.ctime()\n",
    "type(time.time())\n",
    "str(time.asctime())\n",
    "type(str(time.asctime()))\n",
    "time.altzone"
   ]
  },
  {
   "cell_type": "markdown",
   "metadata": {},
   "source": [
    "https://stackoverflow.com/questions/57780935/converting-numeric-dates-into-words-inside-dictionary"
   ]
  },
  {
   "cell_type": "code",
   "execution_count": null,
   "metadata": {},
   "outputs": [],
   "source": [
    "import datetime \n",
    "import json\n",
    "\n",
    "d = {'A1': ['C',\n",
    "  '2003-01-01 13:01:00',\n",
    "  'Lang',\n",
    "  '2012-06-02 07:00:00',\n",
    "  '55901',\n",
    "  '2001-09-05 00:00:00'],\n",
    "    'A2': ['Eds',\n",
    "  '2002-02-12 10:07:00',\n",
    "    '12-3-54']}\n",
    "\n",
    "suf = lambda n: \"%d%s\"%(n,{1:\"st\",2:\"nd\",3:\"rd\"}.get(n if n<20 else n%10,\"th\"))\n",
    "daydict = dict(zip(range(1,32), [suf(n) for n in range(1,32)]))\n",
    "#'January 1st, 2003 at 1:01pm'\n",
    "for k, v in d.items(): \n",
    "    index = 1\n",
    "    for item in  v[1::2]:\n",
    "        \n",
    "        tem = datetime.datetime.strptime(item, '%Y-%m-%d %H:%M:%S')\n",
    "        x = tem.hour-12 if tem.hour > 12 else tem.hour\n",
    "        y = 'pm' if tem.hour > 12 else 'am'\n",
    "        \n",
    "        d[k][index] = ' '.join([tem.strftime('%B'), daydict[tem.day]+',', str(tem.year), str(x)+':'+tem.strftime('%M')+y])\n",
    "        index += 2\n",
    "print(json.dumps(d, indent=2))"
   ]
  },
  {
   "cell_type": "markdown",
   "metadata": {},
   "source": [
    "# `feedparser`"
   ]
  },
  {
   "cell_type": "markdown",
   "metadata": {},
   "source": [
    "[feedparser documentation](https://pythonhosted.org/feedparser/common-rss-elements.html)\n",
    "\n",
    "Parsing a feed from\n",
    "* a remote URL\n",
    "* a local file \n",
    "* a string"
   ]
  },
  {
   "cell_type": "code",
   "execution_count": null,
   "metadata": {},
   "outputs": [],
   "source": [
    "result =  feedparser.parse('https://complicatedphenomenon.github.io')\n",
    "cpurl = 'https://complicatedphenomenon.github.io/atom.xml'\n",
    "result = feedparser.parse(cpurl)\n",
    "len(result)\n",
    "massiveoutput = result['entries'][0]['content'][0]['value']"
   ]
  },
  {
   "cell_type": "markdown",
   "metadata": {},
   "source": [
    "# `configparser` and `logging`"
   ]
  },
  {
   "cell_type": "code",
   "execution_count": null,
   "metadata": {},
   "outputs": [],
   "source": [
    "!find . -name '.ini' #???"
   ]
  },
  {
   "cell_type": "code",
   "execution_count": null,
   "metadata": {},
   "outputs": [],
   "source": [
    "less config-dev.ini"
   ]
  },
  {
   "cell_type": "markdown",
   "metadata": {},
   "source": [
    "[Configuration file format](https://pymotw.com/2/ConfigParser/)"
   ]
  },
  {
   "cell_type": "code",
   "execution_count": null,
   "metadata": {},
   "outputs": [],
   "source": [
    "import configparser\n",
    "import logging\n",
    "CONFIG_PATH = '/Users/wangmiao/Playground/GH/IPython_take_off/basic/WiderKnowledge/config-dev.ini'  # 按照实际情况修改位置\n",
    "CONFIG = configparser.RawConfigParser()\n",
    "CONFIG.read(CONFIG_PATH)\n",
    "\n",
    "LOG_NAME = CONFIG.get('Log', 'Name')\n",
    "LOG_PATH = CONFIG.get('Log', 'Path')  # 按照实际情况修改位置\n",
    "LOG_LVL = CONFIG.get('Log', 'Level')\n",
    "LOG_WHEN = CONFIG.get('Log', 'When')\n",
    "LOG_INTV = CONFIG.getint('Log', 'Interval')\n",
    "LOG_MAXC = CONFIG.getint('Log', 'Max Counter')\n",
    "LOG_FMT = CONFIG.get('Log', 'Format')\n",
    "MAX_WORKER = int(CONFIG.get('Concurrency', 'Max Workers'))  # 按照实际情况修改数量\n",
    "PREFETCH_NUM = int(CONFIG.get('Concurrency', 'Consume Number'))  # 按照实际情况修改数量\n",
    "MQ_HOST = CONFIG.get('Message Queue', 'Host')\n",
    "MQ_PORT = CONFIG.getint('Message Queue', 'Port')\n",
    "MQ_VHOST = CONFIG.get('Message Queue', 'Virtual Host')\n",
    "MQ_USNM = CONFIG.get('Message Queue', 'Username')\n",
    "MQ_PSWD = CONFIG.get('Message Queue', 'Password')\n",
    "MQ_DURABLE = CONFIG.getboolean('Message Queue', 'Durable')\n",
    "MQ_MODE = CONFIG.getint('Message Queue', 'Delivery Mode')\n",
    "PAPER_REQUEST = CONFIG.get('Message Queue', 'Paper Request Queue')\n",
    "PAPER_RESPONSE = CONFIG.get('Message Queue', 'Paper Response Queue')\n",
    "INFO_REQUEST = CONFIG.get('Message Queue', 'Info Request Queue')\n",
    "INFO_RESPONSE = CONFIG.get('Message Queue', 'Info Response Queue')\n",
    "DOWNLOAD_PATH = CONFIG.get('Download', 'Path')  \n",
    "DOWNLOAD_TIME = CONFIG.getint('Download', 'Retry Times')\n",
    "DOWNLOAD_TMOT = CONFIG.getint('Download', 'Timeout')\n",
    "TOKEN_URL = CONFIG.get('Upload', 'Token URL')\n",
    "REDIS_HOST = CONFIG.get('Redis', 'Host')\n",
    "REDIS_PORT = CONFIG.getint('Redis', 'Port')\n",
    "REDIS_PSWD = CONFIG.get('Redis', 'Password')\n",
    "REDIS_DB = CONFIG.getint('Redis', 'Database')\n",
    "REDIS_TMOT = CONFIG.getint('Redis', 'Timeout')"
   ]
  },
  {
   "cell_type": "code",
   "execution_count": null,
   "metadata": {},
   "outputs": [],
   "source": [
    "REDIS_DB\n",
    "REDIS_HOST\n",
    "REDIS_PORT\n",
    "REDIS_PSWD\n",
    "REDIS_TMOT"
   ]
  },
  {
   "cell_type": "code",
   "execution_count": null,
   "metadata": {},
   "outputs": [],
   "source": [
    "PAPER_REQUEST\n",
    "PAPER_RESPONSE\n",
    "INFO_REQUEST\n",
    "INFO_RESPONSE"
   ]
  },
  {
   "cell_type": "code",
   "execution_count": null,
   "metadata": {
    "scrolled": true
   },
   "outputs": [],
   "source": [
    "MQ_HOST\n",
    "MQ_PORT\n",
    "MQ_USNM\n",
    "MQ_PSWD\n",
    "MQ_DURABLE\n",
    "MQ_MODE\n",
    "DOWNLOAD_PATH\n",
    "DOWNLOAD_TIME\n",
    "TOKEN_URL"
   ]
  },
  {
   "cell_type": "code",
   "execution_count": null,
   "metadata": {},
   "outputs": [],
   "source": [
    "PAPER_REQUEST"
   ]
  },
  {
   "cell_type": "code",
   "execution_count": null,
   "metadata": {},
   "outputs": [],
   "source": [
    "LOGGER = logging.getLogger()"
   ]
  },
  {
   "cell_type": "code",
   "execution_count": null,
   "metadata": {},
   "outputs": [],
   "source": [
    "logging.basicConfig(format='%(asctime)s - %(message)s', level=logging.INFO)\n",
    "logging.info('Admin logged in')"
   ]
  },
  {
   "cell_type": "code",
   "execution_count": null,
   "metadata": {},
   "outputs": [],
   "source": [
    "logging.basicConfig(format='%(asctime)s - %(message)s', datefmt='%d-%b-%y %H:%M:%S')\n",
    "logging.warning('Admin logged out')"
   ]
  },
  {
   "cell_type": "code",
   "execution_count": null,
   "metadata": {},
   "outputs": [],
   "source": [
    "name = 'John'\n",
    "logging.error('%s raised an error', name)"
   ]
  },
  {
   "cell_type": "markdown",
   "metadata": {},
   "source": [
    "# `itertools`"
   ]
  },
  {
   "cell_type": "code",
   "execution_count": null,
   "metadata": {},
   "outputs": [],
   "source": [
    "def mainw(d):\n",
    "    arr = []\n",
    "    correct_list =[]\n",
    "    curr = []\n",
    "    r= len(d)\n",
    "    greatest = max(d)\n",
    "    for i in range(0,greatest+1):\n",
    "        arr = arr + [i]\n",
    "    #all_poss_arr is a list that holds all possible vectors of length r from (0,0,...,0) to (max,max,...,max)\n",
    "    # for example if greatest was 3 and r= 4, all_poss_arr would have (0,0,0,0), then (0,0,0,1) and so on,\n",
    "    #all the way to (3,3,3,3)\n",
    "    all_poss_arr = list(itertools.product(arr,repeat = r))    \n",
    "    #Now I am going to remove all the vectors that dont follow the v_i is between 0 and d_i\n",
    "    for i in range(0,len(all_poss_arr)):\n",
    "        curr = all_poss_arr[i]\n",
    "        cnt = 0\n",
    "        for j in range(0,len(curr)):\n",
    "            if curr[j] <= d[j]:\n",
    "                cnt = cnt +1\n",
    "        if cnt == r:\n",
    "            curr = list(curr)\n",
    "            currcopy = copy.copy(curr)\n",
    "            correct_list = correct_list + [currcopy]\n",
    "            cnt =0\n",
    "    return correct_list"
   ]
  },
  {
   "cell_type": "code",
   "execution_count": null,
   "metadata": {},
   "outputs": [],
   "source": [
    "import itertools\n",
    "def combinedVector(d):\n",
    "    result = []\n",
    "    d = [str(i-1) for i in d] \n",
    "    for xs in itertools.product(''.join(d), repeat=len(d)):\n",
    "        #xs is a tuple, convert tuple to a list and convert each element from str to int\n",
    "        result.append([int(i) for i in list(xs)]) \n",
    "    return result\n",
    "d = [1, 2, 3]\n",
    "combinedVector(d)"
   ]
  },
  {
   "cell_type": "code",
   "execution_count": null,
   "metadata": {},
   "outputs": [],
   "source": [
    "mainw([1,2,3])"
   ]
  },
  {
   "cell_type": "markdown",
   "metadata": {},
   "source": [
    "# Lambda function"
   ]
  },
  {
   "cell_type": "markdown",
   "metadata": {},
   "source": [
    "<span style=\"font-family:New York Times; font-size:1.2em; color:green;\">\n",
    "Lambda function\n",
    " \n",
    "尽管Python算不上是一种纯函数式编程语言，但它提供了很多函数式编程的特性，像map, sorted, filter, reduce这些函数都支持函数作为参数。lambda函数可以应用在函数式编程里边。\n",
    "\n",
    "Map handles the iteration over the sequence for us, applies the function, and stores all of the results in a handy list at the end. \n",
    "\n",
    "如果你仔细观察自己的代码，会发现这种场景其实很常见：你在某处就真的只需要一个能做一件事情的函数而已，连它叫什么名字都无关紧要。Lambda 表达式就可以用来做这件事。"
   ]
  },
  {
   "cell_type": "code",
   "execution_count": null,
   "metadata": {},
   "outputs": [],
   "source": [
    "sum = lambda x,y : x+y\n",
    "sum(1,2)"
   ]
  },
  {
   "cell_type": "code",
   "execution_count": null,
   "metadata": {},
   "outputs": [],
   "source": [
    "startTime= time.time()\n",
    "l = ['foo', 'bar', 'far']\n",
    "map(lambda x: x.upper(), l)\n",
    "list(map(lambda x: x.upper(), l))\n",
    "a = filter(lambda x: 'f' in x, l)\n",
    "list(a)\n",
    "endtime = time.time()\n",
    "endtime-startTime"
   ]
  },
  {
   "cell_type": "code",
   "execution_count": null,
   "metadata": {},
   "outputs": [],
   "source": [
    "lambdafunc = lambda x: print(x)\n",
    "map(lambdafunc, [1,2,3])\n",
    "list(map(lambdafunc, [1,2,3])) \n",
    "list(map(lambdafunc, {'USA':'United States America', 'UK':'United Kingdom'})) "
   ]
  },
  {
   "cell_type": "code",
   "execution_count": null,
   "metadata": {},
   "outputs": [],
   "source": [
    "from functools import reduce \n",
    "l = [1, 3, -2, 4]\n",
    "list(map(lambda x : abs(x), l))\n",
    "list(filter(lambda x : x < 0, l))"
   ]
  },
  {
   "cell_type": "code",
   "execution_count": null,
   "metadata": {},
   "outputs": [],
   "source": [
    "C = [39.2, 36.5, 37.3, 38, 37.8] \n",
    "F = list(map(lambda x: (float(9)/5)*x + 32, C))\n",
    "C = list(map(lambda x: (float(5)/9)*(x-32), F))"
   ]
  },
  {
   "cell_type": "code",
   "execution_count": null,
   "metadata": {},
   "outputs": [],
   "source": [
    "f = lambda x: x*x\n",
    "[f(x) for x in range(10)]"
   ]
  },
  {
   "cell_type": "code",
   "execution_count": null,
   "metadata": {},
   "outputs": [],
   "source": [
    "Rank = '34567890JQKA2'\n",
    "Rank2 = 'DCHS'\n",
    "def sort_func(words):\n",
    "    words.sort(key=lambda x: (Rank.index(x[0]), Rank2.index(x[1])))\n",
    "    return words\n",
    "\n",
    "print(sort_func(['9C', '9H', '8H', '9D']))"
   ]
  },
  {
   "cell_type": "code",
   "execution_count": null,
   "metadata": {},
   "outputs": [],
   "source": [
    "# Logic is complex and compact\n",
    "from itertools import groupby                                          \n",
    "query= [0,0,0,0,0,1,1,1,0,1,0,0,1,1,0]\n",
    "answer = [[5,8],[9,10],[12,14]]\n",
    "[(g[0][0], g[-1][0]+1) for g in (list(g) for k, g in groupby(enumerate(query), key=lambda t: t[1]) if k == 1)]  "
   ]
  },
  {
   "cell_type": "markdown",
   "metadata": {},
   "source": [
    "https://stackoverflow.com/questions/57735924/behavior-of-lists-of-lambda-expression"
   ]
  },
  {
   "cell_type": "code",
   "execution_count": null,
   "metadata": {},
   "outputs": [],
   "source": [
    "f = lambda x, a=2: x+a\n",
    "f(6,9)"
   ]
  },
  {
   "cell_type": "code",
   "execution_count": null,
   "metadata": {},
   "outputs": [],
   "source": [
    "quxs = [2, 3, 5, 7]\n",
    "funs = []\n",
    "for qux in quxs:\n",
    "    funs.append(lambda x, y, p=qux: x + y * p)\n",
    "for fun in funs:\n",
    "    print (fun (1, 4))\n",
    "# expected: 9, 13, 21, 29\n",
    "# result: 29, 29, 29, 29"
   ]
  },
  {
   "cell_type": "code",
   "execution_count": null,
   "metadata": {},
   "outputs": [],
   "source": [
    "quxs = [2, 3, 5, 7]\n",
    "funs = [lambda x, y, q=i: x + y * q for i in quxs]\n",
    "[fun(1,4) for fun in funs]"
   ]
  },
  {
   "cell_type": "markdown",
   "metadata": {},
   "source": [
    "# Digit unit "
   ]
  },
  {
   "cell_type": "code",
   "execution_count": null,
   "metadata": {},
   "outputs": [],
   "source": [
    "int(bin(123)[2:])"
   ]
  },
  {
   "cell_type": "code",
   "execution_count": null,
   "metadata": {},
   "outputs": [],
   "source": [
    "def convertToMilli(n, decimals=0):\n",
    "    multiplier = 10 ** decimals\n",
    "    x = int(n *pow(10,6)* multiplier) / multiplier\n",
    "    print (str(x)+'m(milli)')\n",
    "convertToMilli(11.2)\n",
    "convertToMilli(1.625000111, 3)"
   ]
  },
  {
   "cell_type": "code",
   "execution_count": null,
   "metadata": {},
   "outputs": [],
   "source": [
    "def truncate(n, decimals=0):\n",
    "    multiplier = 10 ** decimals\n",
    "    return int(n * multiplier) / multiplier\n",
    "truncate(2, 3) #2.0\n",
    "truncate(1.625, 2)#1.62"
   ]
  },
  {
   "cell_type": "code",
   "execution_count": null,
   "metadata": {},
   "outputs": [],
   "source": [
    "def digital_root(x:int):\n",
    "    if type(x)==int:\n",
    "        x = str(x)\n",
    "        a = 0\n",
    "        for i in x:\n",
    "            a +=int(i) \n",
    "        return a\n",
    "    elif type(x)== str:\n",
    "        a = 0\n",
    "        for i in x:\n",
    "            a +=int(i) \n",
    "        return a \n",
    "digital_root( \"9\"*12)        "
   ]
  },
  {
   "cell_type": "markdown",
   "metadata": {},
   "source": [
    "https://stackoverflow.com/questions/57553683/python-how-to-merge-and-swap-every-nth-element-of-two-lists#57553791"
   ]
  },
  {
   "cell_type": "markdown",
   "metadata": {},
   "source": [
    "# `pprint`"
   ]
  },
  {
   "cell_type": "code",
   "execution_count": null,
   "metadata": {},
   "outputs": [],
   "source": [
    "from pprint import pprint\n",
    "pprint([[[] for _ in range(3)] for _ in range(4)], width=30)"
   ]
  },
  {
   "cell_type": "markdown",
   "metadata": {},
   "source": [
    "https://stackoverflow.com/questions/57600719/split-a-unicode-string-only-at-universal-newlines-n-r-r-n"
   ]
  },
  {
   "cell_type": "code",
   "execution_count": null,
   "metadata": {},
   "outputs": [],
   "source": [
    "my_text = 'Line 1\\f\\rLine 2\\r\\nLine 3\\f...\\nLine 4\\n'\n",
    "print(my_text) "
   ]
  },
  {
   "cell_type": "code",
   "execution_count": null,
   "metadata": {},
   "outputs": [],
   "source": [
    "spam = [1, 2, 3]\n",
    "eggs = [10, 20, 30]\n",
    "print(', '.join(f'{n}:{prct}%' for n, prct in zip(spam, eggs)))"
   ]
  },
  {
   "cell_type": "code",
   "execution_count": null,
   "metadata": {},
   "outputs": [],
   "source": [
    "import io\n",
    "lines = io.StringIO(my_text, newline='').readlines()\n",
    "print(lines)\n",
    "# ['Line 1\\x0c\\r', 'Line 2\\r\\n', 'Line 3\\x0c...\\n', 'Line 4\\n']"
   ]
  }
 ],
 "metadata": {
  "hide_input": false,
  "kernelspec": {
   "display_name": "Python 3",
   "language": "python",
   "name": "python3"
  },
  "language_info": {
   "codemirror_mode": {
    "name": "ipython",
    "version": 3
   },
   "file_extension": ".py",
   "mimetype": "text/x-python",
   "name": "python",
   "nbconvert_exporter": "python",
   "pygments_lexer": "ipython3",
   "version": "3.7.2"
  },
  "latex_envs": {
   "LaTeX_envs_menu_present": true,
   "autocomplete": true,
   "bibliofile": "biblio.bib",
   "cite_by": "apalike",
   "current_citInitial": 1,
   "eqLabelWithNumbers": true,
   "eqNumInitial": 1,
   "hotkeys": {
    "equation": "Ctrl-E",
    "itemize": "Ctrl-I"
   },
   "labels_anchors": false,
   "latex_user_defs": false,
   "report_style_numbering": false,
   "user_envs_cfg": false
  },
  "toc": {
   "base_numbering": 1,
   "nav_menu": {},
   "number_sections": true,
   "sideBar": true,
   "skip_h1_title": false,
   "title_cell": "Table of Contents",
   "title_sidebar": "Contents",
   "toc_cell": false,
   "toc_position": {
    "height": "calc(100% - 180px)",
    "left": "10px",
    "top": "150px",
    "width": "165px"
   },
   "toc_section_display": true,
   "toc_window_display": true
  },
  "varInspector": {
   "cols": {
    "lenName": 16,
    "lenType": 16,
    "lenVar": 40
   },
   "kernels_config": {
    "python": {
     "delete_cmd_postfix": "",
     "delete_cmd_prefix": "del ",
     "library": "var_list.py",
     "varRefreshCmd": "print(var_dic_list())"
    },
    "r": {
     "delete_cmd_postfix": ") ",
     "delete_cmd_prefix": "rm(",
     "library": "var_list.r",
     "varRefreshCmd": "cat(var_dic_list()) "
    }
   },
   "types_to_exclude": [
    "module",
    "function",
    "builtin_function_or_method",
    "instance",
    "_Feature"
   ],
   "window_display": false
  }
 },
 "nbformat": 4,
 "nbformat_minor": 2
}
