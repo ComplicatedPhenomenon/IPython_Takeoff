{
 "cells": [
  {
   "cell_type": "code",
   "execution_count": null,
   "metadata": {
    "ExecuteTime": {
     "end_time": "2020-03-10T10:38:44.462749Z",
     "start_time": "2020-03-10T10:38:44.459383Z"
    }
   },
   "outputs": [],
   "source": [
    "from IPython.core.interactiveshell import InteractiveShell\n",
    "InteractiveShell.ast_node_interactivity = \"all\""
   ]
  },
  {
   "cell_type": "markdown",
   "metadata": {},
   "source": [
    "# `sorted` and `Counter`"
   ]
  },
  {
   "cell_type": "markdown",
   "metadata": {
    "ExecuteTime": {
     "end_time": "2019-11-21T11:19:33.188367Z",
     "start_time": "2019-11-21T11:19:33.116881Z"
    }
   },
   "source": [
    "Protype of sorted \n",
    "```md\n",
    "sorted(iterable, key = lambda item: f(item), reverse = False)\n",
    "```"
   ]
  },
  {
   "cell_type": "code",
   "execution_count": null,
   "metadata": {},
   "outputs": [],
   "source": [
    "x = [1, 'hello', 2, ' word', 3, ' love', 1, ' hi', 1, ' you']\n",
    "z = [w for _,w in sorted(zip(x[0::2],x[1::2]))]\n",
    "z"
   ]
  },
  {
   "cell_type": "code",
   "execution_count": null,
   "metadata": {
    "ExecuteTime": {
     "end_time": "2019-11-21T11:18:00.948117Z",
     "start_time": "2019-11-21T11:18:00.935531Z"
    }
   },
   "outputs": [],
   "source": [
    "tem = {'y': 5, 'x': 0}\n",
    "min(tem.values())\n",
    "x = [{'y': 5, 'x': 0}, {'a': 1, 'b': 2}, {'c': 2, 'd': 4}, {'a': 7, 'c': 3}]\n",
    "sorted(x, key=lambda i: min(i.values()))"
   ]
  },
  {
   "cell_type": "code",
   "execution_count": null,
   "metadata": {},
   "outputs": [],
   "source": [
    "from collections import Counter"
   ]
  },
  {
   "cell_type": "code",
   "execution_count": null,
   "metadata": {
    "ExecuteTime": {
     "end_time": "2019-12-27T05:59:36.223312Z",
     "start_time": "2019-12-27T05:59:36.180439Z"
    }
   },
   "outputs": [],
   "source": [
    "s=\"hello, word, word, love, love, love, hi, you\"\n",
    "slist = s.split(',')\n",
    "slist\n",
    "Counter(slist)\n",
    "sdict = dict(Counter(slist))\n",
    "sdict \n",
    "sdict.items()\n",
    "result = sorted(sdict.items(), key=lambda x: x[1], reverse=True)\n",
    "result\n",
    "result = [i[0] for i in result]"
   ]
  },
  {
   "cell_type": "markdown",
   "metadata": {},
   "source": [
    "https://stackoverflow.com/questions/57804057/how-to-print-out-the-values-with-count-in-dictionary-using-counter"
   ]
  },
  {
   "cell_type": "code",
   "execution_count": null,
   "metadata": {},
   "outputs": [],
   "source": [
    "def tuptodi(tup, dictio): \n",
    "    for a, b in tup: \n",
    "        dictio.setdefault(a, []).append(b) \n",
    "    return dictio\n",
    "tups = [('key1', 'value1'), ('key2', 'value1'),('key3', 'value3'),('key1', 'value1'),('key1', 'value2')]\n",
    "dictionary = {} \n",
    "print (tuptodi(tups, dictionary)) \n",
    "{k: dict(Counter(v)) for k, v in res.items()}"
   ]
  },
  {
   "cell_type": "code",
   "execution_count": null,
   "metadata": {},
   "outputs": [],
   "source": [
    "dicl = {'amazon': [668, 667, 879], 'flipkart' : [678], 'hey' : [89,79]}\n",
    "{k : len(v) for k, v in sorted(dicl.items(), key = lambda i: len(i[1]), reverse=True)}"
   ]
  },
  {
   "cell_type": "code",
   "execution_count": null,
   "metadata": {},
   "outputs": [],
   "source": [
    "data = {'Apple':3, 'Mango':2, 'Orange':2, 'Fig':5, 'Berry':1, 'Cherry':99}\n",
    "sorted_data = sorted(data.items(), key=lambda kv: kv[1], reverse=True)\n",
    "print (dict(sorted_data))"
   ]
  },
  {
   "cell_type": "markdown",
   "metadata": {},
   "source": [
    " https://stackoverflow.com/questions/53947928/force-items-at-beginning-and-end-of-list/53947953#53947953"
   ]
  },
  {
   "cell_type": "code",
   "execution_count": null,
   "metadata": {},
   "outputs": [],
   "source": [
    "l = ['f','g','p','a','p','c','b','q','z','n','d','t','q']\n",
    "sorted(l, key = lambda s: (s!='p', s=='q', s))\n",
    "['p', 'p', 'a', 'b', 'c', 'd', 'f', 'g', 'n', 't', 'z', 'q', 'q']"
   ]
  },
  {
   "cell_type": "markdown",
   "metadata": {},
   "source": [
    "## sort the part of a dictionary  "
   ]
  },
  {
   "cell_type": "markdown",
   "metadata": {},
   "source": [
    "https://stackoverflow.com/questions/57644478/how-to-partially-sort-list-of-dictionary-by-dictionary-value-in-python#57644745"
   ]
  },
  {
   "cell_type": "code",
   "execution_count": null,
   "metadata": {},
   "outputs": [],
   "source": [
    "my_list = ['fact9',\n",
    " {'filename': 'name2', 'type': 1},\n",
    " 'fact4',\n",
    " {'filename': 'name33', 'type': 4},\n",
    " 'fact5',\n",
    " {'filename': 'name1', 'type': 1},\n",
    " 'fact6',\n",
    " {'filename': 'name12', 'type': 2}]\n",
    "list(zip(my_list[0::2], my_list[1::2]))"
   ]
  },
  {
   "cell_type": "code",
   "execution_count": null,
   "metadata": {
    "ExecuteTime": {
     "end_time": "2020-03-16T04:26:05.052008Z",
     "start_time": "2020-03-16T04:26:05.046175Z"
    }
   },
   "outputs": [],
   "source": [
    "k = ['prediction_4', 'prediction_8', 'prediction_20', 'prediction_12', 'prediction_16', 'prediction_23']\n",
    "sorted(k, key = lambda item: int(item.split('_')[1]))"
   ]
  },
  {
   "cell_type": "code",
   "execution_count": null,
   "metadata": {},
   "outputs": [],
   "source": [
    "x = dict(zip(my_list[0::2], my_list[1::2]))\n",
    "x\n",
    "# The python popitem dictionary function removes the last inserted key value pair and prints the removed items.\n",
    "part = {k: v for k, v in x.items() if v['type'] == 1}\n",
    "part = dict(sorted(part.items(), key=lambda i: i[0]))\n",
    "anotherPart = {k: v for k, v in x.items() if v['type'] != 1}"
   ]
  },
  {
   "cell_type": "code",
   "execution_count": null,
   "metadata": {},
   "outputs": [],
   "source": [
    "sorted_my_list = [{'fact5': {'filename': 'name1', 'type': 1}},\n",
    " {'fact4': {'filename': 'name33', 'type': 4}},\n",
    " {'fact9': {'filename': 'name2', 'type': 1}},\n",
    " {'fact6': {'filename': 'name12', 'type': 2}}]\n",
    "\n",
    "sorted_my_list"
   ]
  },
  {
   "cell_type": "code",
   "execution_count": null,
   "metadata": {},
   "outputs": [],
   "source": [
    "res = []       \n",
    "for _, v in x.items():\n",
    "    if v['type']==1:\n",
    "        tem = part.popitem()\n",
    "        res.append({tem[0]: tem[1]})\n",
    "    else:\n",
    "        tem = anotherPart.popitem()\n",
    "        res.append({tem[0]: tem[1]})\n",
    "res     "
   ]
  },
  {
   "cell_type": "code",
   "execution_count": null,
   "metadata": {},
   "outputs": [],
   "source": [
    "my_list = [('fact9', {'filename': 'name2', 'type': 1}), ('fact4', {'filename': 'name33', 'type': 4}), ('fact5', {'filename': 'name1', 'type': 1}), ('fact6', {'filename': 'name12', 'type': 2})] \n",
    "my_list\n",
    "tmp_list = sorted([x for x in my_list if x[1]['type']==1], key=lambda x:x[1]['filename'])\n",
    "tmp_list\n",
    "sorted_my_list = [x if x[1]['type']!=1 else tmp_list.pop(0) for x in my_list]\n",
    "sorted_my_list"
   ]
  },
  {
   "cell_type": "markdown",
   "metadata": {},
   "source": [
    "```md\n",
    "输入：(9, 2), (3, 7), (7, 8), (3, 5), (1, 9)\n",
    "输出：(1, 9), (3, 7), (3, 5), (7, 8), (9, 2)\n",
    "```"
   ]
  },
  {
   "cell_type": "code",
   "execution_count": null,
   "metadata": {},
   "outputs": [],
   "source": [
    "def sort(a):\n",
    "    alist = [list(i) for i in a]\n",
    "    alist.sort(key=lambda k: (k[0], -k[1]), reverse=False)\n",
    "    atuple = tuple(tuple(i) for i in alist)\n",
    "    return atuple\n",
    "a = (9, 2), (3, 7), (7, 8), (3, 5), (1, 9)\n",
    "sort(a)"
   ]
  },
  {
   "cell_type": "code",
   "execution_count": null,
   "metadata": {},
   "outputs": [],
   "source": [
    "d = {\"214123\" : 75.0,\n",
    " \"153525\" : 60.0,\n",
    " \"734829\" : 40.0,\n",
    " \"992832\" : 89.0,\n",
    " \"823482\" : 80.0}\n",
    "dict(sorted(list(d.items()), key=lambda p: p[1], reverse=True)[:3])"
   ]
  },
  {
   "cell_type": "markdown",
   "metadata": {},
   "source": [
    "## Custom Sorting using the key parameter"
   ]
  },
  {
   "cell_type": "markdown",
   "metadata": {},
   "source": [
    "`sorted()` function has an optional parameter called `key` which takes a function as its value. This key function transforms each element before sorting, it takes the value and returns `1` value which is then used within sort instead of the original value."
   ]
  },
  {
   "cell_type": "code",
   "execution_count": null,
   "metadata": {},
   "outputs": [],
   "source": [
    "L = [\"cccc\", \"b\", \"dd\", \"aaa\"]\n",
    "print(\"Sort with len :\", sorted(L, key=len))"
   ]
  },
  {
   "cell_type": "code",
   "execution_count": null,
   "metadata": {},
   "outputs": [],
   "source": [
    "def last(n):\n",
    "    return n[m]\n",
    "\n",
    "a = [(23, 45, 20), (25, 44, 39), (89, 40, 23)]\n",
    "m = 2\n",
    "sorted(a, key=last) \n",
    "\n",
    "sorted(a, key=lambda x: x[2]) "
   ]
  },
  {
   "cell_type": "markdown",
   "metadata": {},
   "source": [
    "## `sorted` based on multiple criteria"
   ]
  },
  {
   "cell_type": "markdown",
   "metadata": {},
   "source": [
    "https://stackoverflow.com/questions/57832543/how-to-sort-words-in-a-list-by-alphabet-and-word-length-using-python"
   ]
  },
  {
   "cell_type": "markdown",
   "metadata": {},
   "source": [
    "`sorted` will consider the criteria in order when sorting:"
   ]
  },
  {
   "cell_type": "code",
   "execution_count": null,
   "metadata": {},
   "outputs": [],
   "source": [
    "listOfWords = ['working', 'selling', 'work', 'workers', 'sell', 'world']\n",
    "print(sorted(listOfWords, key = lambda x: (x, len(x))))\n",
    "listOfWords"
   ]
  },
  {
   "cell_type": "markdown",
   "metadata": {},
   "source": [
    "# itertools"
   ]
  },
  {
   "cell_type": "code",
   "execution_count": null,
   "metadata": {
    "ExecuteTime": {
     "end_time": "2019-11-26T14:48:13.115093Z",
     "start_time": "2019-11-26T14:48:13.110424Z"
    }
   },
   "outputs": [],
   "source": [
    "import itertools"
   ]
  },
  {
   "cell_type": "markdown",
   "metadata": {},
   "source": [
    "## `groupby`"
   ]
  },
  {
   "cell_type": "code",
   "execution_count": null,
   "metadata": {
    "ExecuteTime": {
     "end_time": "2019-11-26T14:54:28.164130Z",
     "start_time": "2019-11-26T14:54:28.156436Z"
    }
   },
   "outputs": [],
   "source": [
    "from itertools import groupby"
   ]
  },
  {
   "cell_type": "markdown",
   "metadata": {},
   "source": [
    "https://stackoverflow.com/questions/57823718/how-can-i-split-a-dictionary-in-several-dictionaries-based-on-a-part-of-values-u#57823866"
   ]
  },
  {
   "cell_type": "code",
   "execution_count": null,
   "metadata": {
    "ExecuteTime": {
     "end_time": "2019-11-26T14:55:38.966641Z",
     "start_time": "2019-11-26T14:55:38.954380Z"
    }
   },
   "outputs": [],
   "source": [
    "d = {\n",
    "    'sku1': 'w-1',\n",
    "    'sku2': 'k-2',\n",
    "    'sku3': 'b-10',\n",
    "    'sku4': 'b-1',\n",
    "    'sku5': 'x-1',\n",
    "    'sku6': 'x-2'\n",
    "}\n",
    "\n",
    "type(d.items())\n",
    "dir(d.items())"
   ]
  },
  {
   "cell_type": "code",
   "execution_count": null,
   "metadata": {
    "ExecuteTime": {
     "end_time": "2019-11-26T14:54:29.773812Z",
     "start_time": "2019-11-26T14:54:29.759945Z"
    }
   },
   "outputs": [],
   "source": [
    "d = {\n",
    "    'sku1': 'w-1',\n",
    "    'sku2': 'k-2',\n",
    "    'sku3': 'b-10',\n",
    "    'sku4': 'b-1',\n",
    "    'sku5': 'x-1',\n",
    "    'sku6': 'x-2'\n",
    "}\n",
    "\n",
    "d.items()\n",
    "\n",
    "f = lambda x: x[1][0]\n",
    "t = sorted(d.items(), key=f)\n",
    "t \n",
    "[{i[0]: i[1] for i in list(v)} for k, v in groupby(t, key=f)]"
   ]
  },
  {
   "cell_type": "code",
   "execution_count": null,
   "metadata": {
    "ExecuteTime": {
     "end_time": "2019-12-27T08:29:54.340634Z",
     "start_time": "2019-12-27T08:29:54.335120Z"
    }
   },
   "outputs": [],
   "source": [
    "from collections import defaultdict"
   ]
  },
  {
   "cell_type": "code",
   "execution_count": null,
   "metadata": {
    "ExecuteTime": {
     "end_time": "2019-12-27T08:30:30.520943Z",
     "start_time": "2019-12-27T08:30:30.512431Z"
    }
   },
   "outputs": [],
   "source": [
    "d = {\n",
    "    'sku1': 'w-1',\n",
    "    'sku2': 'k-2',\n",
    "    'sku3': 'b-10',\n",
    "    'sku4': 'b-1',\n",
    "    'sku5': 'x-1',\n",
    "    'sku6': 'x-2'\n",
    "}\n",
    "m = defaultdict(dict)\n",
    "for key, val in d.items():\n",
    "    m[val[0]][key] = val\n",
    "\n",
    "print(dict(m))"
   ]
  },
  {
   "cell_type": "markdown",
   "metadata": {},
   "source": [
    "https://stackoverflow.com/questions/57593177/how-to-fix-a-logic-in-python-for-loop"
   ]
  },
  {
   "cell_type": "code",
   "execution_count": null,
   "metadata": {
    "ExecuteTime": {
     "end_time": "2019-12-27T06:45:41.988381Z",
     "start_time": "2019-12-27T06:45:41.985376Z"
    }
   },
   "outputs": [],
   "source": [
    "from itertools import groupby"
   ]
  },
  {
   "cell_type": "code",
   "execution_count": null,
   "metadata": {
    "ExecuteTime": {
     "end_time": "2019-12-27T06:48:34.022804Z",
     "start_time": "2019-12-27T06:48:34.019365Z"
    }
   },
   "outputs": [],
   "source": [
    "lists = ['a','b','c','None','d','e','e','f','None','g','h']"
   ]
  },
  {
   "cell_type": "code",
   "execution_count": null,
   "metadata": {
    "ExecuteTime": {
     "end_time": "2019-12-27T06:48:37.348834Z",
     "start_time": "2019-12-27T06:48:37.343819Z"
    }
   },
   "outputs": [],
   "source": [
    "lists = [list(group) for key, group in groupby(lists, key=lambda x: x != \"None\") if key ]\n",
    "lists"
   ]
  },
  {
   "cell_type": "code",
   "execution_count": null,
   "metadata": {
    "ExecuteTime": {
     "end_time": "2019-12-27T08:29:37.700859Z",
     "start_time": "2019-12-27T08:29:37.692750Z"
    }
   },
   "outputs": [],
   "source": [
    "keys = [\"C\", \"C#\", \"D\", \"D#\", \"E\", \"F\", \"F#\", \"G\", \"G#\", \"A\", \"A#\", \"B\"]\n",
    "lists = [list(group) \n",
    "         for key, group in groupby(keys, key=lambda x: not x.endswith('#')) \n",
    "         if key\n",
    "        ]\n",
    "lists"
   ]
  },
  {
   "cell_type": "code",
   "execution_count": null,
   "metadata": {},
   "outputs": [],
   "source": [
    "from itertools import islice, cycle"
   ]
  },
  {
   "cell_type": "code",
   "execution_count": null,
   "metadata": {},
   "outputs": [],
   "source": [
    "colors = cycle(['red', 'white', 'blue'])  # infinite\n",
    "type(colors)\n",
    "next(colors)\n",
    "limited = islice(colors, 0, 4)            # finite\n",
    "for x in limited:                         \n",
    "    print(x)"
   ]
  },
  {
   "cell_type": "markdown",
   "metadata": {},
   "source": [
    "## `product`"
   ]
  },
  {
   "cell_type": "markdown",
   "metadata": {},
   "source": [
    "https://stackoverflow.com/questions/57542240/get-all-combination-of-terms#57542240"
   ]
  },
  {
   "cell_type": "code",
   "execution_count": null,
   "metadata": {
    "ExecuteTime": {
     "end_time": "2019-11-26T14:47:29.555448Z",
     "start_time": "2019-11-26T14:47:29.550464Z"
    }
   },
   "outputs": [],
   "source": [
    "from itertools import combinations"
   ]
  },
  {
   "cell_type": "code",
   "execution_count": null,
   "metadata": {
    "ExecuteTime": {
     "end_time": "2019-11-26T14:47:29.821889Z",
     "start_time": "2019-11-26T14:47:29.812479Z"
    }
   },
   "outputs": [],
   "source": [
    "x = combinations([1,2,3],2)\n",
    "'__iter__' in dir(x) # x is an iterable"
   ]
  },
  {
   "cell_type": "code",
   "execution_count": null,
   "metadata": {
    "ExecuteTime": {
     "end_time": "2019-11-26T14:47:30.624555Z",
     "start_time": "2019-11-26T14:47:30.611465Z"
    }
   },
   "outputs": [],
   "source": [
    "class Solution(object):\n",
    "    def threeSum(self, nums):\n",
    "        nums.sort()\n",
    "        res = []\n",
    "        for subset in combinations(nums,3):\n",
    "            if sum(subset) == 0:\n",
    "                res.append(list(subset))\n",
    "        return res\n",
    "nums = [-1, 0, 1, 2, -1, -4]\n",
    "a = Solution()\n",
    "a.threeSum(nums)"
   ]
  },
  {
   "cell_type": "code",
   "execution_count": null,
   "metadata": {
    "ExecuteTime": {
     "end_time": "2019-11-26T14:34:51.942887Z",
     "start_time": "2019-11-26T14:34:51.932417Z"
    }
   },
   "outputs": [],
   "source": [
    "x = \"new    search words\"\n",
    "words = x.split(' ')\n",
    "itertools.chain(*(itertools.combinations(words, i) for i in range(1, len(words)+1)))"
   ]
  },
  {
   "cell_type": "code",
   "execution_count": null,
   "metadata": {
    "ExecuteTime": {
     "end_time": "2019-11-26T14:46:40.057664Z",
     "start_time": "2019-11-26T14:46:40.054195Z"
    }
   },
   "outputs": [],
   "source": [
    "from itertools import compress"
   ]
  },
  {
   "cell_type": "code",
   "execution_count": null,
   "metadata": {
    "ExecuteTime": {
     "end_time": "2019-11-26T14:46:40.507884Z",
     "start_time": "2019-11-26T14:46:40.492998Z"
    }
   },
   "outputs": [],
   "source": [
    "def combinations(items):\n",
    "    return ( set(compress(items,mask)) for mask in product(*[[0,1]]*len(items)) ) \n",
    "\n",
    "list(combinations('0123'))"
   ]
  },
  {
   "cell_type": "markdown",
   "metadata": {},
   "source": [
    "# `random`"
   ]
  },
  {
   "cell_type": "code",
   "execution_count": null,
   "metadata": {
    "ExecuteTime": {
     "end_time": "2020-02-05T08:02:27.022430Z",
     "start_time": "2020-02-05T08:02:27.018853Z"
    }
   },
   "outputs": [],
   "source": [
    "import random "
   ]
  },
  {
   "cell_type": "code",
   "execution_count": null,
   "metadata": {
    "ExecuteTime": {
     "end_time": "2019-12-27T08:43:04.749359Z",
     "start_time": "2019-12-27T08:43:04.726164Z"
    }
   },
   "outputs": [],
   "source": [
    "suits = ('Hearts', 'Diamonds', 'Spades', 'Clubs')\n",
    "ranks = ('Two', 'Three', 'Four', 'Five', 'Six', 'Seven', 'Eight', 'Nine', 'Ten', 'Jack', 'Queen', 'King', 'Ace')\n",
    "values = {'Two':2, 'Three':3, 'Four':4, 'Five':5, 'Six':6, 'Seven':7, 'Eight':8, 'Nine':9, 'Ten':10, 'Jack':10,\n",
    "         'Queen':10, 'King':10, 'Ace':11}\n",
    "random.sample(suits, 4)\n",
    "random.sample(ranks, 1) \n",
    "random.sample(list(values.items()), 1)"
   ]
  },
  {
   "cell_type": "code",
   "execution_count": null,
   "metadata": {
    "ExecuteTime": {
     "end_time": "2019-12-27T08:41:51.464100Z",
     "start_time": "2019-12-27T08:41:51.452832Z"
    }
   },
   "outputs": [],
   "source": [
    "random.sample(list(range(40)),2)\n",
    "random.sample(list(range(0,40)),2)\n",
    "a, b = random.sample(list(range(0,40)),2)\n",
    "a = random.sample([1],1)"
   ]
  },
  {
   "cell_type": "markdown",
   "metadata": {},
   "source": [
    "`random.randint(a, b)` <span style=\"font-family:New York times; font-size:1em; color:green;\"> \n",
    "Return a random integer N such that a <= N <= b.\n",
    "</span>"
   ]
  },
  {
   "cell_type": "code",
   "execution_count": null,
   "metadata": {},
   "outputs": [],
   "source": [
    "random.randint(1,100)\n",
    "random.sample(range(0,20),2)"
   ]
  },
  {
   "cell_type": "markdown",
   "metadata": {},
   "source": [
    "#  `time`"
   ]
  },
  {
   "cell_type": "markdown",
   "metadata": {},
   "source": [
    "![](../../figure/xmind/dtime.png)"
   ]
  },
  {
   "cell_type": "markdown",
   "metadata": {},
   "source": [
    "> the time module is principally for working with unix time stamps; expressed as a floating point number taken to be seconds since the unix epoch. the datetime module can support many of the same operations, but provides a more object oriented set of types, and also has some limited support for time zones."
   ]
  },
  {
   "cell_type": "code",
   "execution_count": null,
   "metadata": {
    "ExecuteTime": {
     "end_time": "2020-03-10T10:38:49.764308Z",
     "start_time": "2020-03-10T10:38:49.761370Z"
    }
   },
   "outputs": [],
   "source": [
    "import calendar\n",
    "import time\n",
    "import datetime"
   ]
  },
  {
   "cell_type": "code",
   "execution_count": null,
   "metadata": {
    "ExecuteTime": {
     "end_time": "2020-03-10T10:38:50.131501Z",
     "start_time": "2020-03-10T10:38:50.127397Z"
    }
   },
   "outputs": [],
   "source": [
    "cal = calendar.month(2019, 11)\n",
    "print(cal)"
   ]
  },
  {
   "cell_type": "code",
   "execution_count": null,
   "metadata": {
    "ExecuteTime": {
     "end_time": "2020-03-10T10:38:52.573760Z",
     "start_time": "2020-03-10T10:38:52.557101Z"
    }
   },
   "outputs": [],
   "source": [
    "time.asctime(time.localtime(time.time()))"
   ]
  },
  {
   "cell_type": "code",
   "execution_count": null,
   "metadata": {
    "ExecuteTime": {
     "end_time": "2020-03-10T10:46:35.274197Z",
     "start_time": "2020-03-10T10:46:34.256111Z"
    }
   },
   "outputs": [],
   "source": [
    "x = time.time()\n",
    "type(x)\n",
    "time.localtime()\n",
    "time.asctime(time.localtime(time.time()))\n",
    "time.strptime(\"12:09:36\", \"%H:%M:%S\")\n",
    "time.sleep(1)\n",
    "print('ok')"
   ]
  },
  {
   "cell_type": "code",
   "execution_count": null,
   "metadata": {
    "ExecuteTime": {
     "end_time": "2020-02-05T06:57:30.427885Z",
     "start_time": "2020-02-05T06:57:30.409781Z"
    }
   },
   "outputs": [],
   "source": [
    "with open('../../DataAnalysis/data/raw_date_c_commits.txt', 'r') as f:\n",
    "    data = f.readlines() \n",
    "data = [i.replace('\\n', '') for i in data]\n",
    "datetime.datetime.strptime(data[0], \"%Y-%m-%dT%H:%M:%SZ\")"
   ]
  },
  {
   "cell_type": "code",
   "execution_count": null,
   "metadata": {},
   "outputs": [],
   "source": []
  },
  {
   "cell_type": "code",
   "execution_count": null,
   "metadata": {},
   "outputs": [],
   "source": [
    "%matplotlib inline"
   ]
  },
  {
   "cell_type": "code",
   "execution_count": null,
   "metadata": {},
   "outputs": [],
   "source": [
    "import pandas as pd "
   ]
  },
  {
   "cell_type": "code",
   "execution_count": null,
   "metadata": {},
   "outputs": [],
   "source": [
    "df = pd.DataFrame({'date': data})\n",
    "df[\"date\"] = df[\"date\"].astype(\"datetime64\")\n",
    "_ = df.groupby([df[\"date\"].dt.hour]).count().plot(kind=\"bar\")"
   ]
  },
  {
   "cell_type": "code",
   "execution_count": null,
   "metadata": {
    "ExecuteTime": {
     "end_time": "2020-02-05T06:55:53.128854Z",
     "start_time": "2020-02-05T06:55:53.122798Z"
    }
   },
   "outputs": [],
   "source": [
    "starttime = datetime.date(year = 2019, month = 2, day = 25)\n",
    "starttime.timetuple()"
   ]
  },
  {
   "cell_type": "code",
   "execution_count": null,
   "metadata": {
    "ExecuteTime": {
     "end_time": "2020-02-05T06:55:20.281634Z",
     "start_time": "2020-02-05T06:55:20.241534Z"
    }
   },
   "outputs": [],
   "source": [
    "dO = datetime.date.today()\n",
    "dO\n",
    "str(dO)\n",
    "dO.isoformat()\n",
    "dO.strftime(\"%m/%d/%Y\")\n",
    "datetime.datetime.strftime(dO, \"%m/%d/%Y\")\n",
    "(dO.day, dO.month,dO.year)\n",
    "dO.isoweekday()\n",
    "dO.timetuple()\n",
    "dO.isocalendar()"
   ]
  },
  {
   "cell_type": "code",
   "execution_count": null,
   "metadata": {
    "ExecuteTime": {
     "end_time": "2020-02-05T08:14:10.721172Z",
     "start_time": "2020-02-05T08:14:10.692108Z"
    }
   },
   "outputs": [],
   "source": [
    "dTO = datetime.datetime.today()\n",
    "str(dTO)\n",
    "dTO.date()\n",
    "dTO.hour\n",
    "dTO.minute\n",
    "dTO.now()\n",
    "dTO.astimezone()\n",
    "dTO.isocalendar()\n",
    "print(*[i for i in dir(dTO) if not i.startswith('_')])"
   ]
  },
  {
   "cell_type": "markdown",
   "metadata": {},
   "source": [
    "<span style=\"font-family:New York Times; font-size:1.0em; color:red;\">\n",
    "    \n",
    "* construct a time stamp like \n",
    "* time interval plus `datetime.datetime`"
   ]
  },
  {
   "cell_type": "code",
   "execution_count": null,
   "metadata": {
    "ExecuteTime": {
     "end_time": "2020-03-03T10:00:55.480435Z",
     "start_time": "2020-03-03T10:00:55.470986Z"
    }
   },
   "outputs": [],
   "source": [
    "start_time = datetime.datetime(2019, 2, 25, 9, 3, 0)\n",
    "end_time = datetime.timedelta(days = 1, seconds = 1.2) + start_time\n",
    "datetime.datetime.strftime(end_time, \"%Y-%m-%d, %H:%M:%S\")\n",
    "start_time > end_time\n",
    "start_time.hour"
   ]
  },
  {
   "cell_type": "code",
   "execution_count": null,
   "metadata": {
    "ExecuteTime": {
     "end_time": "2020-02-05T08:57:06.200525Z",
     "start_time": "2020-02-05T08:57:06.189741Z"
    }
   },
   "outputs": [],
   "source": [
    "flag = True\n",
    "(\"a\" if flag else \"b\") + \"c\"\n",
    "flag = False\n",
    "(\"a\" if flag else \"b\") + \"c\"\n",
    "(\"a\")"
   ]
  },
  {
   "cell_type": "code",
   "execution_count": null,
   "metadata": {
    "ExecuteTime": {
     "end_time": "2020-02-05T08:57:45.700047Z",
     "start_time": "2020-02-05T08:57:45.690520Z"
    }
   },
   "outputs": [],
   "source": [
    "res = []\n",
    "def add(res):\n",
    "    res.append(random.randint(1,10))\n",
    "    \n",
    "add(res)\n",
    "res\n",
    "add(res)\n",
    "res"
   ]
  },
  {
   "cell_type": "code",
   "execution_count": null,
   "metadata": {
    "ExecuteTime": {
     "end_time": "2020-02-04T02:07:28.251439Z",
     "start_time": "2020-02-04T02:07:28.246155Z"
    }
   },
   "outputs": [],
   "source": [
    "# awesome snippet\n",
    "today = datetime.date.today().replace(day=1)\n",
    "min_month = max(today.month - 5, 0)\n",
    "month_range = range(today.month, min_month, -1)\n",
    "print([today.replace(month=i).strftime(\"%B\") for i in month_range])"
   ]
  },
  {
   "cell_type": "code",
   "execution_count": null,
   "metadata": {
    "ExecuteTime": {
     "end_time": "2020-03-05T07:00:52.284180Z",
     "start_time": "2020-03-05T07:00:52.278157Z"
    }
   },
   "outputs": [],
   "source": [
    "x = datetime.datetime.strptime(\"2020-01-01\", \"%Y-%m-%d\") + datetime.timedelta(hours = 17)"
   ]
  },
  {
   "cell_type": "code",
   "execution_count": null,
   "metadata": {
    "ExecuteTime": {
     "end_time": "2020-03-05T07:00:55.434053Z",
     "start_time": "2020-03-05T07:00:55.426212Z"
    }
   },
   "outputs": [],
   "source": [
    "type(x)"
   ]
  },
  {
   "cell_type": "code",
   "execution_count": null,
   "metadata": {
    "ExecuteTime": {
     "end_time": "2019-11-28T11:36:33.901890Z",
     "start_time": "2019-11-28T11:36:33.896726Z"
    }
   },
   "outputs": [],
   "source": [
    "dt = datetime.datetime.strftime(datetime.datetime.today().date(), \"%m/%d/%Y\")\n",
    "dt https://stackoverflow.com/questions/57800633/get-last-x-months-in-python"
   ]
  },
  {
   "cell_type": "markdown",
   "metadata": {},
   "source": [
    "https://stackoverflow.com/questions/57800633/get-last-x-months-in-python"
   ]
  },
  {
   "cell_type": "code",
   "execution_count": null,
   "metadata": {
    "ExecuteTime": {
     "end_time": "2019-11-28T11:36:38.497516Z",
     "start_time": "2019-11-28T11:36:38.491919Z"
    }
   },
   "outputs": [],
   "source": [
    "print(today.month)\n",
    "\n",
    "month = [\"January\", \"February\", \"March\", \"April\",\n",
    "        \"May\", \"June\", \"July\", \"August\", \"September\", \"October\", \"November\", \"December\"]\n",
    "\n",
    "print(sorted( month[today.month:], reverse=True) )"
   ]
  },
  {
   "cell_type": "markdown",
   "metadata": {},
   "source": [
    "http://strftime.org/"
   ]
  },
  {
   "cell_type": "code",
   "execution_count": null,
   "metadata": {
    "ExecuteTime": {
     "end_time": "2019-11-28T11:36:43.571055Z",
     "start_time": "2019-11-28T11:36:43.560252Z"
    }
   },
   "outputs": [],
   "source": [
    "array = [{'date': '09-Jul-2018'}, \n",
    "         {'date': '09-Aug-2018'}, \n",
    "         {'date': '09-Sep-2018'}]\n",
    "\n",
    "to_check = \"17-Aug-2018\"\n",
    "to_check = datetime.datetime.strptime(to_check, \"%d-%b-%Y\")\n",
    "\n",
    "closest_dates = []\n",
    "val = 0\n",
    "for date in array:\n",
    "    date_val = datetime.datetime.strptime(date[\"date\"], \"%d-%b-%Y\")\n",
    "    if date_val <= to_check:\n",
    "        closest_dates.append({(to_check - date_val).days: date[\"date\"]})\n",
    "print(min(closest_dates, key=lambda x: list(x.items())[0]))"
   ]
  },
  {
   "cell_type": "code",
   "execution_count": null,
   "metadata": {
    "ExecuteTime": {
     "end_time": "2019-11-28T11:37:00.465685Z",
     "start_time": "2019-11-28T11:37:00.448686Z"
    }
   },
   "outputs": [],
   "source": [
    "array = [{'date': '09-Jul-2018'}, \n",
    "         {'date': '09-Aug-2018'}, \n",
    "         {'date': '09-Sep-2018'}]\n",
    "\n",
    "input_dt = datetime.datetime.strptime('17-Aug-2018', '%d-%b-%Y')\n",
    "sorted(\n",
    "    map(lambda date: datetime.datetime.strptime(date['date'], '%d-%b-%Y'), array),\n",
    "    key=lambda dt: (input_dt - dt).total_seconds() if dt < input_dt else float(\"inf\"),\n",
    ")[0].strftime('%d-%b-%Y')"
   ]
  },
  {
   "cell_type": "markdown",
   "metadata": {},
   "source": [
    "https://stackoverflow.com/questions/57780935/converting-numeric-dates-into-words-inside-dictionary"
   ]
  },
  {
   "cell_type": "code",
   "execution_count": null,
   "metadata": {
    "ExecuteTime": {
     "end_time": "2019-11-28T11:37:51.690427Z",
     "start_time": "2019-11-28T11:37:51.669786Z"
    }
   },
   "outputs": [],
   "source": [
    "import json\n",
    "\n",
    "d = {'A1': ['C', '2003-01-01 13:01:00',\n",
    "            'Lang', '2012-06-02 07:00:00',\n",
    "            '55901','2001-09-05 00:00:00'],\n",
    "    'A2': ['Eds', '2002-02-12 10:07:00','12-3-54']}\n",
    "\n",
    "suf = lambda n: \"%d%s\"%(n, {1:\"st\",2:\"nd\",3:\"rd\"}.get(n if n < 20 else n % 10, \"th\"))\n",
    "daydict = dict(zip(range(1,32), [suf(n) for n in range(1,32)]))\n",
    "#'January 1st, 2003 at 1:01pm'\n",
    "for k, v in d.items(): \n",
    "    index = 1\n",
    "    for item in  v[1::2]:\n",
    "        \n",
    "        tem = datetime.datetime.strptime(item, '%Y-%m-%d %H:%M:%S')\n",
    "        x = tem.hour-12 if tem.hour > 12 else tem.hour\n",
    "        y = 'pm' if tem.hour > 12 else 'am'\n",
    "        \n",
    "        d[k][index] = ' '.join([tem.strftime('%B'), daydict[tem.day]+',', str(tem.year), str(x)+':'+tem.strftime('%M')+y])\n",
    "        index += 2\n",
    "print(json.dumps(d, indent=2))"
   ]
  },
  {
   "cell_type": "markdown",
   "metadata": {},
   "source": [
    "# `feedparser`"
   ]
  },
  {
   "cell_type": "markdown",
   "metadata": {},
   "source": [
    "[feedparser documentation](https://pythonhosted.org/feedparser/common-rss-elements.html)\n",
    "\n",
    "Parsing a feed from\n",
    "* a remote URL\n",
    "* a local file \n",
    "* a string"
   ]
  },
  {
   "cell_type": "code",
   "execution_count": null,
   "metadata": {},
   "outputs": [],
   "source": [
    "result =  feedparser.parse('https://complicatedphenomenon.github.io')\n",
    "cpurl = 'https://complicatedphenomenon.github.io/atom.xml'\n",
    "result = feedparser.parse(cpurl)\n",
    "len(result)\n",
    "massiveoutput = result['entries'][0]['content'][0]['value']"
   ]
  },
  {
   "cell_type": "markdown",
   "metadata": {},
   "source": [
    "# `configparser` and `logging`"
   ]
  },
  {
   "cell_type": "code",
   "execution_count": null,
   "metadata": {},
   "outputs": [],
   "source": [
    "!find . -name '.ini' #???"
   ]
  },
  {
   "cell_type": "code",
   "execution_count": null,
   "metadata": {},
   "outputs": [],
   "source": [
    "less config-dev.ini"
   ]
  },
  {
   "cell_type": "markdown",
   "metadata": {},
   "source": [
    "[Configuration file format](https://pymotw.com/2/ConfigParser/)"
   ]
  },
  {
   "cell_type": "code",
   "execution_count": null,
   "metadata": {},
   "outputs": [],
   "source": [
    "import configparser\n",
    "import logging\n",
    "CONFIG_PATH = '/Users/wangmiao/Playground/GH/IPython_take_off/basic/WiderKnowledge/config-dev.ini'  # 按照实际情况修改位置\n",
    "CONFIG = configparser.RawConfigParser()\n",
    "CONFIG.read(CONFIG_PATH)\n",
    "\n",
    "LOG_NAME = CONFIG.get('Log', 'Name')\n",
    "LOG_PATH = CONFIG.get('Log', 'Path')  # 按照实际情况修改位置\n",
    "LOG_LVL = CONFIG.get('Log', 'Level')\n",
    "LOG_WHEN = CONFIG.get('Log', 'When')\n",
    "LOG_INTV = CONFIG.getint('Log', 'Interval')\n",
    "LOG_MAXC = CONFIG.getint('Log', 'Max Counter')\n",
    "LOG_FMT = CONFIG.get('Log', 'Format')\n",
    "MAX_WORKER = int(CONFIG.get('Concurrency', 'Max Workers'))  # 按照实际情况修改数量\n",
    "PREFETCH_NUM = int(CONFIG.get('Concurrency', 'Consume Number'))  # 按照实际情况修改数量\n",
    "MQ_HOST = CONFIG.get('Message Queue', 'Host')\n",
    "MQ_PORT = CONFIG.getint('Message Queue', 'Port')\n",
    "MQ_VHOST = CONFIG.get('Message Queue', 'Virtual Host')\n",
    "MQ_USNM = CONFIG.get('Message Queue', 'Username')\n",
    "MQ_PSWD = CONFIG.get('Message Queue', 'Password')\n",
    "MQ_DURABLE = CONFIG.getboolean('Message Queue', 'Durable')\n",
    "MQ_MODE = CONFIG.getint('Message Queue', 'Delivery Mode')\n",
    "PAPER_REQUEST = CONFIG.get('Message Queue', 'Paper Request Queue')\n",
    "PAPER_RESPONSE = CONFIG.get('Message Queue', 'Paper Response Queue')\n",
    "INFO_REQUEST = CONFIG.get('Message Queue', 'Info Request Queue')\n",
    "INFO_RESPONSE = CONFIG.get('Message Queue', 'Info Response Queue')\n",
    "DOWNLOAD_PATH = CONFIG.get('Download', 'Path')  \n",
    "DOWNLOAD_TIME = CONFIG.getint('Download', 'Retry Times')\n",
    "DOWNLOAD_TMOT = CONFIG.getint('Download', 'Timeout')\n",
    "TOKEN_URL = CONFIG.get('Upload', 'Token URL')\n",
    "REDIS_HOST = CONFIG.get('Redis', 'Host')\n",
    "REDIS_PORT = CONFIG.getint('Redis', 'Port')\n",
    "REDIS_PSWD = CONFIG.get('Redis', 'Password')\n",
    "REDIS_DB = CONFIG.getint('Redis', 'Database')\n",
    "REDIS_TMOT = CONFIG.getint('Redis', 'Timeout')"
   ]
  },
  {
   "cell_type": "code",
   "execution_count": null,
   "metadata": {},
   "outputs": [],
   "source": [
    "REDIS_DB\n",
    "REDIS_HOST\n",
    "REDIS_PORT\n",
    "REDIS_PSWD\n",
    "REDIS_TMOT"
   ]
  },
  {
   "cell_type": "code",
   "execution_count": null,
   "metadata": {},
   "outputs": [],
   "source": [
    "PAPER_REQUEST\n",
    "PAPER_RESPONSE\n",
    "INFO_REQUEST\n",
    "INFO_RESPONSE"
   ]
  },
  {
   "cell_type": "code",
   "execution_count": null,
   "metadata": {
    "scrolled": true
   },
   "outputs": [],
   "source": [
    "MQ_HOST\n",
    "MQ_PORT\n",
    "MQ_USNM\n",
    "MQ_PSWD\n",
    "MQ_DURABLE\n",
    "MQ_MODE\n",
    "DOWNLOAD_PATH\n",
    "DOWNLOAD_TIME\n",
    "TOKEN_URL"
   ]
  },
  {
   "cell_type": "code",
   "execution_count": null,
   "metadata": {},
   "outputs": [],
   "source": [
    "PAPER_REQUEST"
   ]
  },
  {
   "cell_type": "code",
   "execution_count": null,
   "metadata": {},
   "outputs": [],
   "source": [
    "LOGGER = logging.getLogger()"
   ]
  },
  {
   "cell_type": "code",
   "execution_count": null,
   "metadata": {},
   "outputs": [],
   "source": [
    "logging.basicConfig(format='%(asctime)s - %(message)s', level=logging.INFO)\n",
    "logging.info('Admin logged in')"
   ]
  },
  {
   "cell_type": "code",
   "execution_count": null,
   "metadata": {},
   "outputs": [],
   "source": [
    "logging.basicConfig(format='%(asctime)s - %(message)s', datefmt='%d-%b-%y %H:%M:%S')\n",
    "logging.warning('Admin logged out')"
   ]
  },
  {
   "cell_type": "code",
   "execution_count": null,
   "metadata": {},
   "outputs": [],
   "source": [
    "name = 'John'\n",
    "logging.error('%s raised an error', name)"
   ]
  },
  {
   "cell_type": "markdown",
   "metadata": {},
   "source": [
    "# Lambda function"
   ]
  },
  {
   "cell_type": "markdown",
   "metadata": {},
   "source": [
    "<span style=\"font-family:New York Times; font-size:1.2em; color:green;\">\n",
    "Lambda function\n",
    " \n",
    "尽管Python算不上是一种纯函数式编程语言，但它提供了很多函数式编程的特性，像map, sorted, filter, reduce这些函数都支持函数作为参数。lambda函数可以应用在函数式编程里边。\n",
    "\n",
    "Map handles the iteration over the sequence for us, applies the function, and stores all of the results in a handy list at the end. \n",
    "\n",
    "如果你仔细观察自己的代码，会发现这种场景其实很常见：你在某处就真的只需要一个能做一件事情的函数而已，连它叫什么名字都无关紧要。Lambda 表达式就可以用来做这件事。"
   ]
  },
  {
   "cell_type": "code",
   "execution_count": null,
   "metadata": {},
   "outputs": [],
   "source": [
    "sum = lambda x,y : x+y\n",
    "sum(1,2)"
   ]
  },
  {
   "cell_type": "code",
   "execution_count": null,
   "metadata": {},
   "outputs": [],
   "source": [
    "startTime= time.time()\n",
    "l = ['foo', 'bar', 'far']\n",
    "map(lambda x: x.upper(), l)\n",
    "list(map(lambda x: x.upper(), l))\n",
    "a = filter(lambda x: 'f' in x, l)\n",
    "list(a)\n",
    "endtime = time.time()\n",
    "endtime-startTime"
   ]
  },
  {
   "cell_type": "code",
   "execution_count": null,
   "metadata": {},
   "outputs": [],
   "source": [
    "lambdafunc = lambda x: print(x)\n",
    "map(lambdafunc, [1,2,3])\n",
    "list(map(lambdafunc, [1,2,3])) \n",
    "list(map(lambdafunc, {'USA':'United States America', 'UK':'United Kingdom'})) "
   ]
  },
  {
   "cell_type": "code",
   "execution_count": null,
   "metadata": {},
   "outputs": [],
   "source": [
    "from functools import reduce \n",
    "l = [1, 3, -2, 4]\n",
    "list(map(lambda x : abs(x), l))\n",
    "list(filter(lambda x : x < 0, l))"
   ]
  },
  {
   "cell_type": "code",
   "execution_count": null,
   "metadata": {},
   "outputs": [],
   "source": [
    "C = [39.2, 36.5, 37.3, 38, 37.8] \n",
    "F = list(map(lambda x: (float(9)/5)*x + 32, C))\n",
    "C = list(map(lambda x: (float(5)/9)*(x-32), F))"
   ]
  },
  {
   "cell_type": "code",
   "execution_count": null,
   "metadata": {},
   "outputs": [],
   "source": [
    "f = lambda x: x*x\n",
    "[f(x) for x in range(10)]"
   ]
  },
  {
   "cell_type": "code",
   "execution_count": null,
   "metadata": {},
   "outputs": [],
   "source": [
    "Rank = '34567890JQKA2'\n",
    "Rank2 = 'DCHS'\n",
    "def sort_func(words):\n",
    "    words.sort(key=lambda x: (Rank.index(x[0]), Rank2.index(x[1])))\n",
    "    return words\n",
    "\n",
    "print(sort_func(['9C', '9H', '8H', '9D']))"
   ]
  },
  {
   "cell_type": "code",
   "execution_count": null,
   "metadata": {},
   "outputs": [],
   "source": [
    "# Logic is complex and compact\n",
    "from itertools import groupby                                          \n",
    "query= [0,0,0,0,0,1,1,1,0,1,0,0,1,1,0]\n",
    "answer = [[5,8],[9,10],[12,14]]\n",
    "[(g[0][0], g[-1][0]+1) for g in (list(g) for k, g in groupby(enumerate(query), key=lambda t: t[1]) if k == 1)]  "
   ]
  },
  {
   "cell_type": "markdown",
   "metadata": {},
   "source": [
    "https://stackoverflow.com/questions/57735924/behavior-of-lists-of-lambda-expression"
   ]
  },
  {
   "cell_type": "code",
   "execution_count": null,
   "metadata": {},
   "outputs": [],
   "source": [
    "f = lambda x, a=2: x+a\n",
    "f(6,9)"
   ]
  },
  {
   "cell_type": "code",
   "execution_count": null,
   "metadata": {},
   "outputs": [],
   "source": [
    "quxs = [2, 3, 5, 7]\n",
    "funs = []\n",
    "for qux in quxs:\n",
    "    funs.append(lambda x, y, p=qux: x + y * p)\n",
    "for fun in funs:\n",
    "    print (fun (1, 4))\n",
    "# expected: 9, 13, 21, 29\n",
    "# result: 29, 29, 29, 29"
   ]
  },
  {
   "cell_type": "code",
   "execution_count": null,
   "metadata": {},
   "outputs": [],
   "source": [
    "quxs = [2, 3, 5, 7]\n",
    "funs = [lambda x, y, q=i: x + y * q for i in quxs]\n",
    "[fun(1,4) for fun in funs]"
   ]
  },
  {
   "cell_type": "markdown",
   "metadata": {},
   "source": [
    "# Digit unit "
   ]
  },
  {
   "cell_type": "code",
   "execution_count": null,
   "metadata": {},
   "outputs": [],
   "source": [
    "int(bin(123)[2:])"
   ]
  },
  {
   "cell_type": "code",
   "execution_count": null,
   "metadata": {},
   "outputs": [],
   "source": [
    "def convertToMilli(n, decimals=0):\n",
    "    multiplier = 10 ** decimals\n",
    "    x = int(n *pow(10,6)* multiplier) / multiplier\n",
    "    print (str(x)+'m(milli)')\n",
    "convertToMilli(11.2)\n",
    "convertToMilli(1.625000111, 3)"
   ]
  },
  {
   "cell_type": "code",
   "execution_count": null,
   "metadata": {},
   "outputs": [],
   "source": [
    "def truncate(n, decimals=0):\n",
    "    multiplier = 10 ** decimals\n",
    "    return int(n * multiplier) / multiplier\n",
    "truncate(2, 3) #2.0\n",
    "truncate(1.625, 2)#1.62"
   ]
  },
  {
   "cell_type": "code",
   "execution_count": null,
   "metadata": {},
   "outputs": [],
   "source": [
    "def digital_root(x:int):\n",
    "    if type(x)==int:\n",
    "        x = str(x)\n",
    "        a = 0\n",
    "        for i in x:\n",
    "            a +=int(i) \n",
    "        return a\n",
    "    elif type(x)== str:\n",
    "        a = 0\n",
    "        for i in x:\n",
    "            a +=int(i) \n",
    "        return a \n",
    "digital_root( \"9\"*12)        "
   ]
  },
  {
   "cell_type": "markdown",
   "metadata": {},
   "source": [
    "https://stackoverflow.com/questions/57553683/python-how-to-merge-and-swap-every-nth-element-of-two-lists#57553791"
   ]
  },
  {
   "cell_type": "markdown",
   "metadata": {},
   "source": [
    "# `pprint`"
   ]
  },
  {
   "cell_type": "code",
   "execution_count": null,
   "metadata": {},
   "outputs": [],
   "source": [
    "from pprint import pprint\n",
    "pprint([[[] for _ in range(3)] for _ in range(4)], width=30)"
   ]
  },
  {
   "cell_type": "markdown",
   "metadata": {},
   "source": [
    "https://stackoverflow.com/questions/57600719/split-a-unicode-string-only-at-universal-newlines-n-r-r-n"
   ]
  },
  {
   "cell_type": "code",
   "execution_count": null,
   "metadata": {},
   "outputs": [],
   "source": [
    "my_text = 'Line 1\\f\\rLine 2\\r\\nLine 3\\f...\\nLine 4\\n'\n",
    "print(my_text) "
   ]
  },
  {
   "cell_type": "code",
   "execution_count": null,
   "metadata": {},
   "outputs": [],
   "source": [
    "spam = [1, 2, 3]\n",
    "eggs = [10, 20, 30]\n",
    "print(', '.join(f'{n}:{prct}%' for n, prct in zip(spam, eggs)))"
   ]
  },
  {
   "cell_type": "code",
   "execution_count": null,
   "metadata": {},
   "outputs": [],
   "source": [
    "import io\n",
    "lines = io.StringIO(my_text, newline='').readlines()\n",
    "print(lines)\n",
    "# ['Line 1\\x0c\\r', 'Line 2\\r\\n', 'Line 3\\x0c...\\n', 'Line 4\\n']"
   ]
  },
  {
   "cell_type": "markdown",
   "metadata": {
    "ExecuteTime": {
     "end_time": "2019-11-26T14:56:40.120702Z",
     "start_time": "2019-11-26T14:56:40.114553Z"
    }
   },
   "source": [
    "# magic methods"
   ]
  },
  {
   "cell_type": "markdown",
   "metadata": {},
   "source": [
    "https://www.tutorialsteacher.com/python/magic-methods-in-python"
   ]
  },
  {
   "cell_type": "code",
   "execution_count": null,
   "metadata": {
    "ExecuteTime": {
     "end_time": "2019-11-26T15:03:22.199285Z",
     "start_time": "2019-11-26T15:03:22.192742Z"
    }
   },
   "outputs": [],
   "source": [
    "n = 5\n",
    "'__add__' in dir(n)"
   ]
  },
  {
   "cell_type": "markdown",
   "metadata": {},
   "source": [
    " When you do `n+10`, the `+` operator calls the `__add__(10)` method. magic methods are not meant to be called directly, but internally, through some other methods or actions. "
   ]
  }
 ],
 "metadata": {
  "hide_input": false,
  "kernelspec": {
   "display_name": "Python 3",
   "language": "python",
   "name": "python3"
  },
  "language_info": {
   "codemirror_mode": {
    "name": "ipython",
    "version": 3
   },
   "file_extension": ".py",
   "mimetype": "text/x-python",
   "name": "python",
   "nbconvert_exporter": "python",
   "pygments_lexer": "ipython3",
   "version": "3.7.4"
  },
  "latex_envs": {
   "LaTeX_envs_menu_present": true,
   "autocomplete": true,
   "bibliofile": "biblio.bib",
   "cite_by": "apalike",
   "current_citInitial": 1,
   "eqLabelWithNumbers": true,
   "eqNumInitial": 1,
   "hotkeys": {
    "equation": "Ctrl-E",
    "itemize": "Ctrl-I"
   },
   "labels_anchors": false,
   "latex_user_defs": false,
   "report_style_numbering": false,
   "user_envs_cfg": false
  },
  "toc": {
   "base_numbering": 1,
   "nav_menu": {},
   "number_sections": true,
   "sideBar": true,
   "skip_h1_title": false,
   "title_cell": "Table of Contents",
   "title_sidebar": "Contents",
   "toc_cell": false,
   "toc_position": {
    "height": "calc(100% - 180px)",
    "left": "10px",
    "top": "150px",
    "width": "165px"
   },
   "toc_section_display": true,
   "toc_window_display": true
  },
  "varInspector": {
   "cols": {
    "lenName": 16,
    "lenType": 16,
    "lenVar": 40
   },
   "kernels_config": {
    "python": {
     "delete_cmd_postfix": "",
     "delete_cmd_prefix": "del ",
     "library": "var_list.py",
     "varRefreshCmd": "print(var_dic_list())"
    },
    "r": {
     "delete_cmd_postfix": ") ",
     "delete_cmd_prefix": "rm(",
     "library": "var_list.r",
     "varRefreshCmd": "cat(var_dic_list()) "
    }
   },
   "types_to_exclude": [
    "module",
    "function",
    "builtin_function_or_method",
    "instance",
    "_Feature"
   ],
   "window_display": false
  }
 },
 "nbformat": 4,
 "nbformat_minor": 2
}
