{
 "cells": [
  {
   "cell_type": "code",
   "execution_count": null,
   "metadata": {
    "ExecuteTime": {
     "end_time": "2020-01-16T13:40:51.708731Z",
     "start_time": "2020-01-16T13:40:51.698472Z"
    }
   },
   "outputs": [],
   "source": [
    "from IPython.core.interactiveshell import InteractiveShell\n",
    "InteractiveShell.ast_node_interactivity = \"all\""
   ]
  },
  {
   "cell_type": "code",
   "execution_count": null,
   "metadata": {
    "ExecuteTime": {
     "end_time": "2020-01-16T13:40:51.977801Z",
     "start_time": "2020-01-16T13:40:51.974176Z"
    }
   },
   "outputs": [],
   "source": [
    "import random "
   ]
  },
  {
   "cell_type": "markdown",
   "metadata": {},
   "source": [
    "<span style=\"font-family:New York Times; font-size:1.2em; color:green;\">\n",
    "\n",
    "https://foofish.net/iterators-vs-generators.html\n",
    "\n",
    "* Generators\n",
    "\n",
    "\n",
    "* iterator \n",
    "* container\n",
    "\n",
    "  <span style=\"font-family:New York Times; font-size:1.0em; color:blue;\">\n",
    "  容器是一种把多个元素组织在一起的数据结构，容器中的元素可以逐个地迭代获取，可以用in, not in关键字判断元素是否包含在容器中。通常这类数据结构把所有的元素存储在内存中（也有一些特例，并不是所有的元素都放在内存，比如迭代器和生成器对象）在Python中.\n",
    "    \n",
    "  * list, deque, ....\n",
    "  * set, frozensets, ....\n",
    "  * dict, defaultdict, OrderedDict, Counter, ....\n",
    "  * tuple, namedtuple, …\n",
    "  * str\n",
    "  </span>\n",
    "  \n",
    "* iterable\n",
    "</span>"
   ]
  },
  {
   "cell_type": "markdown",
   "metadata": {},
   "source": [
    "![](http://img2.foofish.net/relationships.png)"
   ]
  },
  {
   "cell_type": "markdown",
   "metadata": {},
   "source": [
    "# generator"
   ]
  },
  {
   "cell_type": "markdown",
   "metadata": {},
   "source": [
    "生成器是一种特殊的迭代器，它的返回值不是通过return而是用yield。"
   ]
  },
  {
   "cell_type": "code",
   "execution_count": null,
   "metadata": {},
   "outputs": [],
   "source": [
    "def makeRange(n):\n",
    "    i = 0\n",
    "    while i < n:\n",
    "        yield i\n",
    "        i += 1"
   ]
  },
  {
   "cell_type": "code",
   "execution_count": null,
   "metadata": {},
   "outputs": [],
   "source": [
    "makeRange(5)"
   ]
  },
  {
   "cell_type": "code",
   "execution_count": null,
   "metadata": {},
   "outputs": [],
   "source": [
    "x = makeRange(5)\n",
    "list(x)\n",
    "list(x)"
   ]
  },
  {
   "cell_type": "code",
   "execution_count": null,
   "metadata": {},
   "outputs": [],
   "source": [
    "[x+10 for x in makeRange(5)]"
   ]
  },
  {
   "cell_type": "code",
   "execution_count": null,
   "metadata": {},
   "outputs": [],
   "source": [
    "next(makeRange(5))"
   ]
  },
  {
   "cell_type": "code",
   "execution_count": null,
   "metadata": {},
   "outputs": [],
   "source": [
    "list([1,2,3].__iter__())"
   ]
  },
  {
   "cell_type": "markdown",
   "metadata": {},
   "source": [
    "https://stackoverflow.com/questions/2657627/why-does-python-use-magic-methods"
   ]
  },
  {
   "cell_type": "code",
   "execution_count": null,
   "metadata": {},
   "outputs": [],
   "source": [
    "class AddableDict(dict):\n",
    "\n",
    "    def __add__(self, otherObj):\n",
    "        self.update(otherObj)\n",
    "        return AddableDict(self)\n",
    "\n",
    "\n",
    "dict1 = AddableDict({1 : \"ABC\"})\n",
    "dict2 = AddableDict({2 : \"EFG\"})\n",
    "\n",
    "print (dict1 + dict2)\n",
    "\n",
    "dict1 = {1 : \"ABC\"}\n",
    "dict2 = {2 : \"EFG\"}\n",
    "\n",
    "dict1 + dict2"
   ]
  },
  {
   "cell_type": "markdown",
   "metadata": {},
   "source": [
    "# Iterator(迭代器)"
   ]
  },
  {
   "cell_type": "markdown",
   "metadata": {},
   "source": [
    "<span style=\"font-family:New York Times; font-size:1.0em; color:blue;\">\n",
    "\n",
    "In Python, an iterator is an object which implements the iterator protocol. The iterator protocol consists of two methods. The `__iter__()` method, which must return the iterator object, and the `next()` method, which returns the next element from a sequence.\n",
    "\n",
    "迭代器有一种具体的迭代器类型，比如list_iterator，set_iterator。**可迭代对象实现了`__iter__`方法，该方法返回一个迭代器对象。**\n",
    "\n",
    "迭代器不会一次性把所有元素加载到内存，而是需要的时候才生成返回结果。\n",
    "\n",
    "那么什么是迭代器呢？\n",
    "\n",
    "它是一个带状态的对象，能在你调用`next()`方法的时候返回容器中的下一个值，任何实现了`__iter__`和`__next__`方法的对象都是迭代器，`__iter__`返回迭代器自身，`__next__`返回容器中的下一个值，如果容器中没有更多元素了，则抛出`StopIteration`异常。\n",
    "\n",
    "Iterators have several advantages:\n",
    "\n",
    "* Cleaner code\n",
    "* Iterators can work with infinite sequences\n",
    "* Iterators save resources\n",
    "Python has several built-in objects, which implement the iterator protocol. For example lists, tuples, strings, dictionaries or files."
   ]
  },
  {
   "cell_type": "code",
   "execution_count": null,
   "metadata": {
    "ExecuteTime": {
     "end_time": "2019-11-26T14:38:18.449569Z",
     "start_time": "2019-11-26T14:38:18.397562Z"
    }
   },
   "outputs": [],
   "source": [
    "def check_prime(number):\n",
    "    for divisor in range(2, int(number * 0.5) + 1):\n",
    "        if number % divisor == 0:\n",
    "            return False\n",
    "    return True\n",
    "# Primes are now a iterator?\n",
    "class Primes():\n",
    "    def __init__(self, volume):\n",
    "        self.volume = volume\n",
    "        self.number = 1\n",
    "    def __iter__(self):\n",
    "        return self\n",
    "    def __next__(self):\n",
    "        self.number += 1\n",
    "        if self.number >= self.volume:\n",
    "            raise StopIteration\n",
    "        elif check_prime(self.number):\n",
    "            return self.number\n",
    "        else:\n",
    "            #print(\"{} is not primes\".format(self.number))\n",
    "            return self.__next__()\n",
    "    \n",
    "primes = Primes(100)\n",
    "primes.__next__()\n",
    "primes.__next__()\n",
    "list(primes)"
   ]
  },
  {
   "cell_type": "code",
   "execution_count": null,
   "metadata": {
    "ExecuteTime": {
     "end_time": "2019-11-26T14:41:54.795692Z",
     "start_time": "2019-11-26T14:41:54.653384Z"
    }
   },
   "outputs": [],
   "source": [
    "class Fib:\n",
    "    def __init__(self):\n",
    "        self.prev = 0\n",
    "        self.curr = 1\n",
    "\n",
    "    def __iter__(self):\n",
    "        return self\n",
    "\n",
    "    def __next__(self):\n",
    "        value = self.curr\n",
    "        self.curr += self.prev\n",
    "        self.prev = value\n",
    "        return value\n",
    "\n",
    "f = Fib()\n",
    "x = f.__iter__()\n",
    "list(islice(f, 0, 10))\n",
    "next(x)\n",
    "x.__init_subclass__()\n",
    "?x.__ge__"
   ]
  },
  {
   "cell_type": "markdown",
   "metadata": {},
   "source": [
    "#  iterable (可迭代对象)"
   ]
  },
  {
   "cell_type": "markdown",
   "metadata": {},
   "source": [
    "What is a iterable \n",
    "\n",
    "> An iterable is an object that has an `__iter__` method which returns an iterator, or which defines a `__getitem__`  method that can take sequential indexes starting from zero (and raises an IndexError when the indexes are no longer valid). So an iterable is an object that you can get an iterator from.\n",
    "\n",
    "容器都可以被迭代（用在for，while等语句中），因此他们被称为可迭代对象。"
   ]
  },
  {
   "cell_type": "code",
   "execution_count": null,
   "metadata": {
    "ExecuteTime": {
     "end_time": "2020-01-16T13:51:51.866873Z",
     "start_time": "2020-01-16T13:51:51.850700Z"
    }
   },
   "outputs": [],
   "source": [
    "# 可迭代对象实现了__iter__方法，该方法返回一个迭代器对象。\n",
    "x = (1, 2, 3)\n",
    "if '__iter__' in dir(x) and '__next__' not in dir(x):\n",
    "    print('{} is an iterable'.format(x))\n",
    "\n",
    "i_x = x.__iter__()\n",
    "\n",
    "if '__next__' in dir(i_x):\n",
    "    print('{} is an iterator'.format(i_x))\n",
    "\n",
    "next(i_x)"
   ]
  },
  {
   "cell_type": "code",
   "execution_count": null,
   "metadata": {
    "ExecuteTime": {
     "end_time": "2020-01-16T13:50:05.170180Z",
     "start_time": "2020-01-16T13:50:05.159500Z"
    }
   },
   "outputs": [],
   "source": [
    "[i for i in (set, tuple, dict, list, 1, \"CZFZDXX\") if '__iter__' in dir(i)]"
   ]
  },
  {
   "cell_type": "markdown",
   "metadata": {},
   "source": [
    "## turn an iterable  into iterator"
   ]
  },
  {
   "cell_type": "code",
   "execution_count": null,
   "metadata": {
    "ExecuteTime": {
     "end_time": "2020-01-16T13:40:58.572883Z",
     "start_time": "2020-01-16T13:40:58.517430Z"
    }
   },
   "outputs": [],
   "source": [
    "# the statement next(G) actually runs the generator on M\n",
    "x = \"formidable\"\n",
    "it = iter(x)\n",
    "type(it)\n",
    "\n",
    "while True:\n",
    "    try:\n",
    "        next(it)\n",
    "    except StopIteration:\n",
    "        #raiseend=StopIteration\n",
    "        break"
   ]
  },
  {
   "cell_type": "markdown",
   "metadata": {},
   "source": [
    "The built-in function iter takes an iterable object and returns an iterator."
   ]
  },
  {
   "cell_type": "code",
   "execution_count": null,
   "metadata": {},
   "outputs": [],
   "source": [
    "a = iter({'wm':'Wa M', 'czfzdxx':'ComplicatedPhenomenon'})\n",
    "next(a) \n",
    "next(a)"
   ]
  },
  {
   "cell_type": "code",
   "execution_count": null,
   "metadata": {},
   "outputs": [],
   "source": [
    "M = [[1,2,3],\n",
    "     [4,5,6],\n",
    "     [7,8,9]]\n",
    "\n",
    "G = (sum(row) for row in M) # create a generator of row sums\n",
    "next(G) # Run the iteration protocol\n",
    "next(G)"
   ]
  },
  {
   "cell_type": "markdown",
   "metadata": {},
   "source": [
    "The expression `(sum(row) for row in M)` creates what's called a generator. This generator will evaluate the expression `(sum(row))` once for each row in M. However, the generator doesn't do anything yet, we've just set it up."
   ]
  },
  {
   "cell_type": "markdown",
   "metadata": {},
   "source": [
    "# applying iterator"
   ]
  },
  {
   "cell_type": "markdown",
   "metadata": {},
   "source": [
    "https://stackoverflow.com/questions/57815143/how-to-reduce-the-size-of-a-character-separated-string/57815273#comment102061806_57815273"
   ]
  },
  {
   "cell_type": "markdown",
   "metadata": {
    "ExecuteTime": {
     "end_time": "2019-11-23T03:27:05.295211Z",
     "start_time": "2019-11-23T03:27:05.290038Z"
    }
   },
   "source": [
    "\n",
    "Given a string sample\n",
    "\n",
    "`a = '-lorem-ipsum-dolor-sit-amet-consectetur-adipiscing_elit_sed_do_eiusmod_tempor'`\n",
    "\n",
    "and a number `n`, return the substring(start at index 0), which contains `n` chars of `_` or `-`\n"
   ]
  },
  {
   "cell_type": "code",
   "execution_count": null,
   "metadata": {
    "ExecuteTime": {
     "end_time": "2019-11-23T03:52:29.994218Z",
     "start_time": "2019-11-23T03:52:29.982881Z"
    }
   },
   "outputs": [],
   "source": [
    "a = '-lorem-ipsum-dolor-sit-amet-consectetur-adipiscing_elit_sed_do_eiusmod_tempor'\n",
    "def whereToStop(a, n):\n",
    "    for i in range(len(a)):\n",
    "        if a[i] == '_' or a[i] == '-':\n",
    "            n -= 1\n",
    "        if n == 0\n",
    "            return a[:i+1]\n",
    "    print(\"No enough required characters\")\n",
    "whereToStop(a, 6)"
   ]
  }
 ],
 "metadata": {
  "hide_input": false,
  "kernelspec": {
   "display_name": "Python 3",
   "language": "python",
   "name": "python3"
  },
  "language_info": {
   "codemirror_mode": {
    "name": "ipython",
    "version": 3
   },
   "file_extension": ".py",
   "mimetype": "text/x-python",
   "name": "python",
   "nbconvert_exporter": "python",
   "pygments_lexer": "ipython3",
   "version": "3.7.4"
  },
  "toc": {
   "base_numbering": 1,
   "nav_menu": {},
   "number_sections": true,
   "sideBar": true,
   "skip_h1_title": false,
   "title_cell": "Table of Contents",
   "title_sidebar": "Contents",
   "toc_cell": false,
   "toc_position": {},
   "toc_section_display": true,
   "toc_window_display": true
  },
  "varInspector": {
   "cols": {
    "lenName": 16,
    "lenType": 16,
    "lenVar": 40
   },
   "kernels_config": {
    "python": {
     "delete_cmd_postfix": "",
     "delete_cmd_prefix": "del ",
     "library": "var_list.py",
     "varRefreshCmd": "print(var_dic_list())"
    },
    "r": {
     "delete_cmd_postfix": ") ",
     "delete_cmd_prefix": "rm(",
     "library": "var_list.r",
     "varRefreshCmd": "cat(var_dic_list()) "
    }
   },
   "types_to_exclude": [
    "module",
    "function",
    "builtin_function_or_method",
    "instance",
    "_Feature"
   ],
   "window_display": false
  }
 },
 "nbformat": 4,
 "nbformat_minor": 2
}
