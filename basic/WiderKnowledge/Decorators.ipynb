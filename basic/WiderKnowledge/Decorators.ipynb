{
 "cells": [
  {
   "cell_type": "code",
   "execution_count": null,
   "metadata": {},
   "outputs": [],
   "source": [
    "from IPython.core.interactiveshell import InteractiveShell\n",
    "InteractiveShell.ast_node_interactivity = \"all\""
   ]
  },
  {
   "cell_type": "markdown",
   "metadata": {},
   "source": [
    "<span style=\"font-family:New York Times; font-size:1.2em; color:green;\">\n",
    "Decorators \n",
    "    \n",
    "* https://www.datacamp.com/community/tutorials/decorators-python\n",
    "\n",
    "\n",
    "A decorator is a design pattern in Python that allows a user to add new functionality to an existing object without modifying its structure. \n",
    " \n",
    "🤔 \n",
    "\n",
    "----\n",
    "\n",
    "It is a generic way to abstract a thought as it's a pattern, the function to be decorated has every possible form as a function, if we want to embed the function providing the decorator, meanwhile, giving up using decorator, then it cause large amount of duplication.\n",
    "\n",
    "----\n",
    "\n",
    "The decorators are called when the decorated function is defined not when it is called. At call time, what is called is the return value of the decorator "
   ]
  },
  {
   "cell_type": "code",
   "execution_count": null,
   "metadata": {},
   "outputs": [],
   "source": [
    "def a_new_decorator(a_func):\n",
    "\n",
    "    def wrapTheFunction():\n",
    "        print(\"I am doing some boring work before executing a_func()\")\n",
    "        a_func()\n",
    "        print(\"I am doing some boring work after executing a_func()\")\n",
    "        \n",
    "    return wrapTheFunction\n",
    "\n",
    "@a_new_decorator  # a_function_requiring_decoration become an argument for a_new_decoraror\n",
    "def a_function_requiring_decoration():\n",
    "    \"\"\"Hey you! Decorate me!\"\"\"\n",
    "    print(\"I am the function which needs some decoration to \"\n",
    "          \"remove my foul smell\")\n",
    "\n",
    "a_function_requiring_decoration()\n",
    "\n",
    "# the @a_new_decorator is just a short way of saying:\n",
    "# a_function_requiring_decoration = a_new_decorator(a_function_requiring_decoration)"
   ]
  },
  {
   "cell_type": "code",
   "execution_count": null,
   "metadata": {},
   "outputs": [],
   "source": [
    "import time\n",
    "def timeConsumed(a_func):\n",
    "\n",
    "    def wrapTheFunction():\n",
    "        a = time.time()\n",
    "        a_func()\n",
    "        b = time.time()\n",
    "        return b-a\n",
    "        \n",
    "    return wrapTheFunction\n",
    "\n",
    "@timeConsumed\n",
    "def commonFunction():\n",
    "    \"\"\"Function to be decorated\"\"\"\n",
    "    # Imitate a process taking a while\n",
    "    time.sleep(1) \n",
    "    \n",
    "    \n",
    "\n",
    "def regularFunction():\n",
    "    a = time.time()\n",
    "    time.sleep(1) \n",
    "    b = time.time()\n",
    "    return b-a\n",
    "\n",
    "commonFunction()\n",
    "regularFunction()\n",
    "regularFunction() < commonFunction()"
   ]
  },
  {
   "cell_type": "markdown",
   "metadata": {},
   "source": [
    "## Add operation on a function"
   ]
  },
  {
   "cell_type": "markdown",
   "metadata": {},
   "source": [
    "<span style=\"font-family:New York Times; font-size:1.2em; color:green;\">\n",
    "    \n",
    "* Define function inside a function\n",
    "* Return a function\n",
    "* Pass a function around"
   ]
  },
  {
   "cell_type": "code",
   "execution_count": null,
   "metadata": {},
   "outputs": [],
   "source": [
    "def greet(name):\n",
    "    def get_message():\n",
    "        return \"Hello \"\n",
    "    result = get_message()+name\n",
    "    return result\n",
    "\n",
    "print(greet(\"John\"))"
   ]
  },
  {
   "cell_type": "code",
   "execution_count": null,
   "metadata": {},
   "outputs": [],
   "source": [
    "# `getMessage` is a higher order function.\n",
    "def getMessage(aFunc): \n",
    "    def hi(name):\n",
    "        print(\"Hello, \" + aFunc(name))\n",
    "    return hi \n",
    "# return function inside a function, only pass the former around instead of executing it.\n",
    "\n",
    "@getMessage\n",
    "def sayHiToSomeone(name):\n",
    "    return name\n",
    "\n",
    "sayHiToSomeone(\"John\")"
   ]
  },
  {
   "cell_type": "markdown",
   "metadata": {},
   "source": [
    "## How to make chain of decorators?"
   ]
  },
  {
   "cell_type": "markdown",
   "metadata": {},
   "source": [
    "* https://stackoverflow.com/a/1594484/7583919"
   ]
  },
  {
   "cell_type": "markdown",
   "metadata": {},
   "source": [
    "### Design a straightforward example"
   ]
  },
  {
   "cell_type": "code",
   "execution_count": null,
   "metadata": {},
   "outputs": [],
   "source": [
    "def greet(name):\n",
    "    def get_message():  \n",
    "        def lastMessage():\n",
    "            return \", how are you? \"\n",
    "        return \"Hello, \" + name +  lastMessage()\n",
    "    result = get_message()\n",
    "    return result\n",
    "print(greet(\"John\"))"
   ]
  },
  {
   "cell_type": "code",
   "execution_count": null,
   "metadata": {},
   "outputs": [],
   "source": [
    "def howAreYou(kk):\n",
    "    def col():\n",
    "        return kk() + \", how are you?\" \n",
    "    return col\n",
    " \n",
    "def getMessage(aFunc):\n",
    "    def hi():\n",
    "        return (\"Hello, \" + aFunc())\n",
    "    return hi \n",
    "\n",
    "@howAreYou\n",
    "@getMessage\n",
    "def sayHiToSomeone():\n",
    "    return \"John\"\n",
    "\n",
    "sayHiToSomeone()"
   ]
  },
  {
   "cell_type": "markdown",
   "metadata": {},
   "source": [
    "What about pass an argument to the decorator?"
   ]
  },
  {
   "cell_type": "code",
   "execution_count": null,
   "metadata": {},
   "outputs": [],
   "source": [
    "def howAreYou(kk):\n",
    "    def col(z):\n",
    "        return kk(z) + \", how are you?\" \n",
    "    return col\n",
    " \n",
    "def getMessage(aFunc):\n",
    "    def hi(x):\n",
    "        return (\"Hello, \" + aFunc(x)) \n",
    "    return hi \n",
    "\n",
    "@howAreYou\n",
    "@getMessage\n",
    "def sayHiToSomeone(name):\n",
    "    return name\n",
    "\n",
    "sayHiToSomeone(\"John\")"
   ]
  },
  {
   "cell_type": "markdown",
   "metadata": {},
   "source": [
    "### Built-in decorators 🦉"
   ]
  },
  {
   "cell_type": "code",
   "execution_count": 118,
   "metadata": {},
   "outputs": [
    {
     "name": "stdout",
     "output_type": "stream",
     "text": [
      "Function is running\n",
      "Function will not run\n"
     ]
    }
   ],
   "source": [
    "from functools import wraps\n",
    "def decorator_name(f):\n",
    "    #@wraps(f)\n",
    "    def decorated(*args, **kwargs):\n",
    "        if not can_run:\n",
    "            return \"Function will not run\"\n",
    "        return f(*args, **kwargs)\n",
    "    return decorated\n",
    "\n",
    "@decorator_name\n",
    "def func():\n",
    "    return(\"Function is running\")\n",
    "\n",
    "can_run = True\n",
    "print(func())\n",
    "\n",
    "can_run = False\n",
    "print(func())\n",
    "# @wraps接受一个函数来进行装饰，并加入了复制函数名称、注释文档、参数列表等等的功能。这可以让我们在装饰器里面访问在装饰之前的函数的属性"
   ]
  },
  {
   "cell_type": "markdown",
   "metadata": {},
   "source": [
    "### More complex situation"
   ]
  },
  {
   "cell_type": "code",
   "execution_count": null,
   "metadata": {},
   "outputs": [],
   "source": [
    "def verbose(function):\n",
    "    print('i am verbose and func is ' + function.__name__)\n",
    "    def wrapper2(func):\n",
    "        print('func is ' + repr(func))\n",
    "        result = function(func)\n",
    "        return result\n",
    "    return wrapper2\n",
    "\n",
    "def more(function):\n",
    "    print('i am more and func is ' + function.__name__)\n",
    "    def wrapper1(*args, **kwargs):\n",
    "        print('args' + repr(args))\n",
    "        result = function(*args)\n",
    "        return result\n",
    "    return wrapper1\n",
    "more = verbose(more)\n",
    "\n",
    "def hello(*args):\n",
    "    print((sum(args)))\n",
    "hello = more(hello)\n",
    "hello(2, 3, 4)"
   ]
  },
  {
   "cell_type": "code",
   "execution_count": null,
   "metadata": {},
   "outputs": [],
   "source": [
    "def verbose(function):\n",
    "    print('i am verbose and func is ' + function.__name__)\n",
    "    def wrapper2(func):\n",
    "        print('func is ' + repr(func))\n",
    "        result = function(func)\n",
    "        return result\n",
    "    return wrapper2\n",
    "\n",
    "@verbose\n",
    "def more(function):\n",
    "    print('i am more and func is ' + function.__name__)\n",
    "    def wrapper1(*args, **kwargs):\n",
    "        print('args' + repr(args))\n",
    "        result = function(*args)\n",
    "        return result\n",
    "    return wrapper1\n",
    "\n",
    "@more\n",
    "def hello(*args):\n",
    "    print((sum(args)))\n",
    "    \n",
    "hello(3,4,5)"
   ]
  },
  {
   "cell_type": "code",
   "execution_count": 121,
   "metadata": {},
   "outputs": [
    {
     "name": "stdout",
     "output_type": "stream",
     "text": [
      "wrapper decorator\n",
      "example Docstring\n"
     ]
    }
   ],
   "source": [
    "#coding=utf-8\n",
    "# -*- coding=utf-8 -*- \n",
    "from functools import wraps   \n",
    "def my_decorator(func):\n",
    "    def wrapper(*args, **kwargs):\n",
    "        '''decorator'''\n",
    "        print('Calling decorated function...')\n",
    "        return func(*args, **kwargs)\n",
    "    return wrapper  \n",
    " \n",
    "@my_decorator \n",
    "def example():\n",
    "    \"\"\"Docstring\"\"\" \n",
    "    print('Called example function')\n",
    "print(example.__name__, example.__doc__)\n",
    "  \n",
    "def my_decorator(func):\n",
    "    @wraps(func)\n",
    "    def wrapper(*args, **kwargs):\n",
    "        '''decorator'''\n",
    "        print('Calling decorated function...')\n",
    "        return func(*args, **kwargs)\n",
    "    return wrapper  \n",
    " \n",
    "@my_decorator \n",
    "def example():\n",
    "    \"\"\"Docstring\"\"\" \n",
    "    print('Called example function')\n",
    "print(example.__name__, example.__doc__)"
   ]
  },
  {
   "cell_type": "markdown",
   "metadata": {},
   "source": [
    "## Demo on decorators"
   ]
  },
  {
   "cell_type": "code",
   "execution_count": null,
   "metadata": {},
   "outputs": [],
   "source": [
    "def p_decorate(func):\n",
    "   def func_wrapper(name):\n",
    "       return \"<p>{0}</p>\".format(func(name))\n",
    "   return func_wrapper\n",
    "\n",
    "\n",
    "def get_text(name):\n",
    "   return \"lorem ipsum, {0} dolor sit amet\".format(name)\n",
    "\n",
    "p_decorate(get_text)(\"Jenny\")"
   ]
  },
  {
   "cell_type": "code",
   "execution_count": null,
   "metadata": {},
   "outputs": [],
   "source": [
    "def p_decorate(func):\n",
    "   def func_wrapper(name):\n",
    "       return \"<p>{0}</p>\".format(func(name))\n",
    "   return func_wrapper\n",
    "\n",
    "@p_decorate\n",
    "def get_text(name):\n",
    "   return \"lorem ipsum, {0} dolor sit amet\".format(name)\n",
    "\n",
    "get_text(\"Jenny\")"
   ]
  },
  {
   "cell_type": "markdown",
   "metadata": {},
   "source": [
    "<span style=\"font-family: New York Times; font-size:1em; color:green;\">\n",
    "That was our first decorator. A function that takes another function as an argument, generates a new function, augmenting the work of the original function, and returning the generated function so we can use it anywhere. To have get_text itself be decorated by p_decorate, we just have to assign get_text to the result of p_decorate."
   ]
  },
  {
   "cell_type": "code",
   "execution_count": null,
   "metadata": {},
   "outputs": [],
   "source": [
    "def decorator_with_arguments(function):\n",
    "    def wrapper_accepting_arguments(arg1, arg2):\n",
    "        print(\"My arguments are: {0}, {1}\".format(arg1,arg2))\n",
    "        function(arg1, arg2)\n",
    "    return wrapper_accepting_arguments\n",
    "\n",
    "\n",
    "@decorator_with_arguments\n",
    "def cities(city_one, city_two):\n",
    "    print(\"Cities I love are {0} and {1}\".format(city_one, city_two))\n",
    "\n",
    "cities(\"Nairobi\", \"Accra\")"
   ]
  }
 ],
 "metadata": {
  "hide_input": false,
  "kernelspec": {
   "display_name": "Python 3",
   "language": "python",
   "name": "python3"
  },
  "language_info": {
   "codemirror_mode": {
    "name": "ipython",
    "version": 3
   },
   "file_extension": ".py",
   "mimetype": "text/x-python",
   "name": "python",
   "nbconvert_exporter": "python",
   "pygments_lexer": "ipython3",
   "version": "3.7.2"
  },
  "toc": {
   "base_numbering": 1,
   "nav_menu": {},
   "number_sections": true,
   "sideBar": true,
   "skip_h1_title": false,
   "title_cell": "Table of Contents",
   "title_sidebar": "Contents",
   "toc_cell": false,
   "toc_position": {},
   "toc_section_display": true,
   "toc_window_display": true
  },
  "varInspector": {
   "cols": {
    "lenName": 16,
    "lenType": 16,
    "lenVar": 40
   },
   "kernels_config": {
    "python": {
     "delete_cmd_postfix": "",
     "delete_cmd_prefix": "del ",
     "library": "var_list.py",
     "varRefreshCmd": "print(var_dic_list())"
    },
    "r": {
     "delete_cmd_postfix": ") ",
     "delete_cmd_prefix": "rm(",
     "library": "var_list.r",
     "varRefreshCmd": "cat(var_dic_list()) "
    }
   },
   "types_to_exclude": [
    "module",
    "function",
    "builtin_function_or_method",
    "instance",
    "_Feature"
   ],
   "window_display": false
  }
 },
 "nbformat": 4,
 "nbformat_minor": 2
}
