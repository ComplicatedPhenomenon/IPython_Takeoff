{
 "cells": [
  {
   "cell_type": "code",
   "execution_count": 11,
   "metadata": {},
   "outputs": [],
   "source": [
    "from IPython.core.interactiveshell import InteractiveShell\n",
    "InteractiveShell.ast_node_interactivity = \"all\""
   ]
  },
  {
   "cell_type": "markdown",
   "metadata": {},
   "source": [
    "# Check a line in a file\n",
    "https://stackoverflow.com/questions/57078822/how-to-check-to-see-if-a-certain-line-is-found-before-a-certain-point-in-a-txt-f"
   ]
  },
  {
   "cell_type": "code",
   "execution_count": null,
   "metadata": {},
   "outputs": [],
   "source": [
    "find = 'Is this found'\n",
    "\n",
    "with open('xx.txt') as old_file:\n",
    "\n",
    "    lines = old_file.readlines()\n",
    "    print(lines[2])\n",
    "    print(lines)\n",
    "    for line in old_file:\n",
    "        print(line)\n",
    "        if line.startswith(\"This\"):\n",
    "            print(\"line\")"
   ]
  },
  {
   "cell_type": "markdown",
   "metadata": {},
   "source": [
    "https://stackoverflow.com/questions/57551925/read-votes-from-text-file-and-tally-the-votes/57552284#57552284"
   ]
  },
  {
   "cell_type": "code",
   "execution_count": null,
   "metadata": {},
   "outputs": [],
   "source": [
    "from collections import Counter\n",
    "with open('test.txt') as f:\n",
    "    lines = f.read().split('\\n')\n",
    "x = dict(Counter(lines))\n",
    "for i in x.items():\n",
    "    print('{}: {}'.format(i[0],i[1]))\n",
    "\"\"\"\n",
    "output \n",
    "Pedro Sanchez: 4\n",
    "Trisha Jenner: 3\n",
    "Summer Wheatley: 2\n",
    "\"\"\""
   ]
  },
  {
   "cell_type": "code",
   "execution_count": null,
   "metadata": {},
   "outputs": [],
   "source": [
    "\"\"\"\n",
    "Red Banana = R LL R H SKG LGHE\n",
    "Green Chicken = AH HGKE HGKELG GHEk\n",
    "Cardbored Box = GHEHE HKEGLS GHEK\n",
    "Awesome Man = G E GHLEKGH HEKG GEHLG\n",
    "\"\"\"\n",
    "with open('test.txt') as f:\n",
    "    lines = f.read().split('\\n')\n",
    "print(lines) \n",
    "left = [line.split('=')[0].strip() for line in lines]\n",
    "right = [line.split('=')[1].strip() for line in lines]\n",
    "print(left)\n",
    "print(right)"
   ]
  },
  {
   "cell_type": "markdown",
   "metadata": {},
   "source": [
    "https://stackoverflow.com/questions/57551925/read-votes-from-text-file-and-tally-the-votes"
   ]
  },
  {
   "cell_type": "markdown",
   "metadata": {},
   "source": [
    "# List file "
   ]
  },
  {
   "cell_type": "code",
   "execution_count": null,
   "metadata": {},
   "outputs": [],
   "source": [
    "import os \n",
    "import re "
   ]
  },
  {
   "cell_type": "code",
   "execution_count": null,
   "metadata": {},
   "outputs": [],
   "source": [
    "from os import listdir\n",
    "from os.path import isdir\n",
    "#files = [file for file in listdir('../storage') if isdir(file)]\n",
    "\n",
    "for file in listdir('/Users/wangmiao/Desktop/'):\n",
    "    print(file)"
   ]
  },
  {
   "cell_type": "code",
   "execution_count": null,
   "metadata": {},
   "outputs": [],
   "source": [
    "regex_ = r'^((?!~\\$).)+\\.(?:xlsx?|csv|txt)$'\n",
    "all_files = [f_path + filename for f_path, _, filenames in os.walk('./') \\\n",
    "             for filename in filenames if re.search(regex_, filename)]"
   ]
  },
  {
   "cell_type": "code",
   "execution_count": null,
   "metadata": {},
   "outputs": [],
   "source": [
    "with open('test.txt') as f: \n",
    "    lines = f.read()\n",
    "lines \n",
    "lines.replace(\",\",\"\\n\").split('\\n') "
   ]
  },
  {
   "cell_type": "code",
   "execution_count": null,
   "metadata": {},
   "outputs": [],
   "source": [
    "s = '''chihuahua\n",
    "japanese spaniel\n",
    "maltese dog, maltese terrier, maltese'''\n",
    "s.replace(\",\",\"\\n\").split('\\n')  "
   ]
  },
  {
   "cell_type": "code",
   "execution_count": null,
   "metadata": {},
   "outputs": [],
   "source": [
    "s = '''{\"fname\":\"John\",\"mname\":\"Smith\",\"lname\":\"Berkley\"}\n",
    "{\"fname\":\"Nash\",\"mname\":\"willy\",\"lname\":\"Godson\"}\n",
    "{\"fname\":\"Jack\",\"mname\":\"Tuna\",\"lname\":\"Welch\"}\n",
    "'''\n",
    "import ast\n",
    "s.split()\n",
    "[ast.literal_eval(i)['fname'] for i in s.split()]"
   ]
  },
  {
   "cell_type": "markdown",
   "metadata": {},
   "source": [
    "# Editing specific line in text file in Python"
   ]
  },
  {
   "cell_type": "markdown",
   "metadata": {},
   "source": [
    "https://stackoverflow.com/questions/4719438/editing-specific-line-in-text-file-in-python"
   ]
  },
  {
   "cell_type": "markdown",
   "metadata": {},
   "source": [
    "# File not found \n",
    "https://stackoverflow.com/questions/57742671/python-web-scraping-quesiton-getting-an-error#57742671"
   ]
  },
  {
   "cell_type": "code",
   "execution_count": null,
   "metadata": {},
   "outputs": [],
   "source": [
    "import os\n",
    "def create_csv_file():\n",
    "    header = ['Title', 'URL']\n",
    "    directory = '/Users/wangmiao/Downloads/WebScraping'\n",
    "    if not os.path.exists(directory):\n",
    "        os.makedirs(directory)\n",
    "    with open(os.path.join(directory,'GoodReadsBooksNew.csv'), 'w') as csv_file:\n",
    "        wr = csv.writer(csv_file, delimiter=',')\n",
    "        wr.writerow(header)"
   ]
  },
  {
   "cell_type": "code",
   "execution_count": null,
   "metadata": {},
   "outputs": [],
   "source": [
    "x = \"Tell us more about your question Your description gives people th your question.........\"\n",
    "x.index('about')"
   ]
  },
  {
   "cell_type": "markdown",
   "metadata": {},
   "source": [
    "https://stackoverflow.com/questions/57742855/converting-json-file-to-new-csv-file-using-python-script/57742907#57742907"
   ]
  },
  {
   "cell_type": "code",
   "execution_count": null,
   "metadata": {},
   "outputs": [],
   "source": [
    "import json\n",
    "import csv\n",
    "\n",
    "with open('test.json', 'r') as jsonfile:\n",
    "    data = jsonfile.read()\n",
    "\n",
    "# parse file\n",
    "jsonobj = json.loads(data)\n",
    "\n",
    "with open('test.csv', 'w') as f:\n",
    "    wr = csv.writer(f, delimiter=',')\n",
    "    \n",
    "    headers = list(jsonobj[0].keys())\n",
    "    wr.writerow(headers)\n",
    "    \n",
    "    m = [[v for _, v in i.items()] for i in jsonobj]\n",
    "    for k in m:\n",
    "        wr.writerow(k) "
   ]
  }
 ],
 "metadata": {
  "hide_input": false,
  "kernelspec": {
   "display_name": "Python 3",
   "language": "python",
   "name": "python3"
  },
  "language_info": {
   "codemirror_mode": {
    "name": "ipython",
    "version": 3
   },
   "file_extension": ".py",
   "mimetype": "text/x-python",
   "name": "python",
   "nbconvert_exporter": "python",
   "pygments_lexer": "ipython3",
   "version": "3.7.2"
  },
  "toc": {
   "base_numbering": 1,
   "nav_menu": {},
   "number_sections": true,
   "sideBar": true,
   "skip_h1_title": false,
   "title_cell": "Table of Contents",
   "title_sidebar": "Contents",
   "toc_cell": false,
   "toc_position": {},
   "toc_section_display": true,
   "toc_window_display": false
  },
  "varInspector": {
   "cols": {
    "lenName": 16,
    "lenType": 16,
    "lenVar": 40
   },
   "kernels_config": {
    "python": {
     "delete_cmd_postfix": "",
     "delete_cmd_prefix": "del ",
     "library": "var_list.py",
     "varRefreshCmd": "print(var_dic_list())"
    },
    "r": {
     "delete_cmd_postfix": ") ",
     "delete_cmd_prefix": "rm(",
     "library": "var_list.r",
     "varRefreshCmd": "cat(var_dic_list()) "
    }
   },
   "types_to_exclude": [
    "module",
    "function",
    "builtin_function_or_method",
    "instance",
    "_Feature"
   ],
   "window_display": false
  }
 },
 "nbformat": 4,
 "nbformat_minor": 2
}
