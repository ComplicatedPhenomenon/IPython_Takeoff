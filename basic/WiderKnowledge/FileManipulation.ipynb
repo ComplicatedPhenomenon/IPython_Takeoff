{
 "cells": [
  {
   "cell_type": "code",
   "execution_count": 3,
   "metadata": {},
   "outputs": [],
   "source": [
    "from IPython.core.interactiveshell import InteractiveShell\n",
    "InteractiveShell.ast_node_interactivity = \"all\""
   ]
  },
  {
   "cell_type": "code",
   "execution_count": 6,
   "metadata": {},
   "outputs": [],
   "source": [
    "import os \n",
    "import urllib"
   ]
  },
  {
   "cell_type": "code",
   "execution_count": 7,
   "metadata": {},
   "outputs": [],
   "source": [
    "import re"
   ]
  },
  {
   "cell_type": "code",
   "execution_count": 31,
   "metadata": {},
   "outputs": [
    {
     "data": {
      "text/plain": [
       "('sunflower.jpg', <http.client.HTTPMessage at 0x116100898>)"
      ]
     },
     "execution_count": 31,
     "metadata": {},
     "output_type": "execute_result"
    }
   ],
   "source": [
    "urllib.request.urlretrieve('http://b.hiphotos.baidu.com/image/h%3D300/sign=92afee66fd36afc3110c39658318eb85/908fa0ec08fa513db777cf78376d55fbb3fbd9b3.jpg','sunflower.jpg')"
   ]
  },
  {
   "cell_type": "markdown",
   "metadata": {},
   "source": [
    "![](sunflower.jpg)"
   ]
  },
  {
   "cell_type": "code",
   "execution_count": 3,
   "metadata": {},
   "outputs": [
    {
     "name": "stdout",
     "output_type": "stream",
     "text": [
      "Decorators.ipynb       Multithreadings.ipynb  sunflower.jpg\r\n",
      "FileManipulation.ipynb Python3Skeleton.ipynb\r\n",
      "Generators.ipynb       pikaHello.ipynb\r\n",
      "/Users/wangmiao/Playground/GH/IPython_training/basic/WiderKnowledge\r\n"
     ]
    },
    {
     "data": {
      "text/plain": [
       "False"
      ]
     },
     "execution_count": 3,
     "metadata": {},
     "output_type": "execute_result"
    }
   ],
   "source": [
    "!ls &&pwd \n",
    "os.path.isfile(\"/Applications/Users/wangmiao/Playground/GH/IPython_training/basic/WiderKnowledge/\")"
   ]
  },
  {
   "cell_type": "code",
   "execution_count": 8,
   "metadata": {},
   "outputs": [
    {
     "name": "stdout",
     "output_type": "stream",
     "text": [
      "sunflower.jpg\n",
      "Decorators.ipynb\n",
      "FileManipulation.ipynb\n",
      "Generators.ipynb\n",
      "Python3Skeleton.ipynb\n",
      "Multithreadings.ipynb\n",
      "pikaHello.ipynb\n",
      "Multithreadings-checkpoint.ipynb\n",
      "Python3Skeleton-checkpoint.ipynb\n",
      "Decorators-checkpoint.ipynb\n",
      "FileManipulation-checkpoint.ipynb\n",
      "Generators-checkpoint.ipynb\n"
     ]
    }
   ],
   "source": [
    "pattern=re.compile(r\"\\.\\w{5}\")\n",
    "for root, dirs, files in os.walk(\"/Users/wangmiao/Playground/GH/IPython_training/basic/WiderKnowledge/\"):\n",
    "    for file in files:\n",
    "        #if pattern.findall(file)[0] == '.ipynb':\n",
    "        print( file)"
   ]
  },
  {
   "cell_type": "code",
   "execution_count": 9,
   "metadata": {},
   "outputs": [
    {
     "data": {
      "text/plain": [
       "['sunflower.jpg',\n",
       " 'Decorators.ipynb',\n",
       " 'FileManipulation.ipynb',\n",
       " 'Generators.ipynb',\n",
       " 'Python3Skeleton.ipynb',\n",
       " 'Multithreadings.ipynb',\n",
       " 'pikaHello.ipynb']"
      ]
     },
     "execution_count": 9,
     "metadata": {},
     "output_type": "execute_result"
    }
   ],
   "source": [
    "from os import listdir\n",
    "from os.path import isfile, join\n",
    "mypath = \"/Users/wangmiao/Playground/GH/IPython_training/basic/WiderKnowledge/\"\n",
    "[f for f in listdir(mypath) if isfile(join(mypath, f))]"
   ]
  },
  {
   "cell_type": "code",
   "execution_count": 13,
   "metadata": {},
   "outputs": [
    {
     "data": {
      "text/plain": [
       "'.ipynb'"
      ]
     },
     "execution_count": 13,
     "metadata": {},
     "output_type": "execute_result"
    }
   ],
   "source": [
    "pattern.findall(\"Decorators.ipynb\")[0]"
   ]
  },
  {
   "cell_type": "code",
   "execution_count": 10,
   "metadata": {},
   "outputs": [],
   "source": [
    "class Card:\n",
    "    def __init__(self):\n",
    "        self.suit = [\"Hearts\",\"Diamonds\",\"Clubs\",\"Spades\"]\n",
    "        self.value = [\"A\", \"2\", \"3\", \"4\", \"5\", \"6\", \"7\", \"8\", \"9\", \"10\", \"J\", \"Q\", \"K\"]\n",
    "        self.cards = [] \n",
    "\n",
    "        for x in self.value:\n",
    "            y = x + \" of\"\n",
    "            for z in self.suit :\n",
    "                aa = y + \" \" + z\n",
    "                self.cards.append(aa)\n",
    "\n",
    "    def __repr__(self): \n",
    "        return str(self.cards) \n",
    "\n",
    "cards1 = Card()"
   ]
  },
  {
   "cell_type": "code",
   "execution_count": 11,
   "metadata": {},
   "outputs": [
    {
     "data": {
      "text/plain": [
       "['A of Hearts',\n",
       " 'A of Diamonds',\n",
       " 'A of Clubs',\n",
       " 'A of Spades',\n",
       " '2 of Hearts',\n",
       " '2 of Diamonds',\n",
       " '2 of Clubs',\n",
       " '2 of Spades',\n",
       " '3 of Hearts',\n",
       " '3 of Diamonds',\n",
       " '3 of Clubs',\n",
       " '3 of Spades',\n",
       " '4 of Hearts',\n",
       " '4 of Diamonds',\n",
       " '4 of Clubs',\n",
       " '4 of Spades',\n",
       " '5 of Hearts',\n",
       " '5 of Diamonds',\n",
       " '5 of Clubs',\n",
       " '5 of Spades',\n",
       " '6 of Hearts',\n",
       " '6 of Diamonds',\n",
       " '6 of Clubs',\n",
       " '6 of Spades',\n",
       " '7 of Hearts',\n",
       " '7 of Diamonds',\n",
       " '7 of Clubs',\n",
       " '7 of Spades',\n",
       " '8 of Hearts',\n",
       " '8 of Diamonds',\n",
       " '8 of Clubs',\n",
       " '8 of Spades',\n",
       " '9 of Hearts',\n",
       " '9 of Diamonds',\n",
       " '9 of Clubs',\n",
       " '9 of Spades',\n",
       " '10 of Hearts',\n",
       " '10 of Diamonds',\n",
       " '10 of Clubs',\n",
       " '10 of Spades',\n",
       " 'J of Hearts',\n",
       " 'J of Diamonds',\n",
       " 'J of Clubs',\n",
       " 'J of Spades',\n",
       " 'Q of Hearts',\n",
       " 'Q of Diamonds',\n",
       " 'Q of Clubs',\n",
       " 'Q of Spades',\n",
       " 'K of Hearts',\n",
       " 'K of Diamonds',\n",
       " 'K of Clubs',\n",
       " 'K of Spades']"
      ]
     },
     "execution_count": 11,
     "metadata": {},
     "output_type": "execute_result"
    }
   ],
   "source": [
    "cards1.cards"
   ]
  },
  {
   "cell_type": "code",
   "execution_count": 13,
   "metadata": {},
   "outputs": [
    {
     "name": "stdout",
     "output_type": "stream",
     "text": [
      "2037-01-04\n",
      "Today is 2019-07-16\n",
      "6388 days until the end!\n",
      "6382 days, 0:00:00\n"
     ]
    }
   ],
   "source": [
    "ToEndofDays = 6388\n",
    "#find today's date\n",
    "import datetime\n",
    "from datetime import date\n",
    "EOD = \"2037-01-04\"\n",
    "EOD = datetime.date(2037, 1, 4) \n",
    "print (EOD)\n",
    "#d=datetime.datetime.today()\n",
    "d=datetime.date.today()\n",
    "# td = str(d(0-9))\n",
    "# print (td)\n",
    "delta = EOD - d\n",
    "print (\"Today is\", d)\n",
    "#print (ToEndofDays) \n",
    "#print (\"I have until\", EOD, \"when I die\"\")\n",
    "print(ToEndofDays, \"days until the end!\")\n",
    "print (delta)"
   ]
  },
  {
   "cell_type": "code",
   "execution_count": 14,
   "metadata": {},
   "outputs": [],
   "source": [
    "s = \"http://asaa.com\""
   ]
  },
  {
   "cell_type": "code",
   "execution_count": 19,
   "metadata": {},
   "outputs": [
    {
     "name": "stdout",
     "output_type": "stream",
     "text": [
      "[]\n",
      "['23', 'OKC', 'NBA', 'SG', '68', '6', '15.5', '2.0', '5.0', '.393', '1.4', '3.6', '.381', '0.6', '1.4', '.426', '.531', '0.6', '0.7', '.898', '0.3', '1.0', '1.3', '0.6', '0.5', '0.1', '0.5', '1.7', '6.0']\n",
      "['24', 'OKC', 'NBA', 'SG', '75', '8', '15.1', '1.5', '3.9', '.395', '1.1', '2.9', '.380', '0.4', '0.9', '.443', '.540', '0.5', '0.6', '.848', '0.3', '1.2', '1.5', '0.4', '0.5', '0.1', '0.3', '1.7', '4.7']\n",
      "['25', 'OKC', 'NBA', 'SG', '31', '2', '19.0', '1.8', '5.1', '.357', '1.3', '4.1', '.323', '0.5', '1.0', '.500', '.487', '0.4', '0.4', '.923', '0.2', '1.4', '1.5', '0.6', '0.5', '0.2', '0.5', '1.7', '5.3']\n",
      "['', '', 'NBA', '', '174', '16', '16.0', '1.8', '4.5', '.387', '1.3', '3.4', '.368', '0.5', '1.1', '.443', '.525', '0.5', '0.6', '.880', '0.3', '1.1', '1.4', '0.5', '0.5', '0.1', '0.4', '1.7', '5.3']\n"
     ]
    }
   ],
   "source": [
    "import requests, bs4\n",
    "\n",
    "url = 'https://www.basketball-reference.com/players/a/abrinal01.html'\n",
    "res = requests.get(url)\n",
    "res.raise_for_status()\n",
    "\n",
    "soup = bs4.BeautifulSoup(res.text, 'html.parser')\n",
    "elems = soup.select('#per_game')\n",
    "\n",
    "table = soup.find(\"table\", { \"id\" : \"per_game\" })\n",
    "table_rows = table.find_all('tr')\n",
    "\n",
    "for tr in table_rows:\n",
    "    td = tr.find_all('td')\n",
    "    row = [i.text for i in td]\n",
    "    \n",
    "    print(row)"
   ]
  },
  {
   "cell_type": "code",
   "execution_count": 20,
   "metadata": {},
   "outputs": [
    {
     "name": "stdout",
     "output_type": "stream",
     "text": [
      "['Season', 'Age', 'Tm', 'Lg', 'Pos', 'G', 'GS', 'MP', 'FG', 'FGA', 'FG%', '3P', '3PA', '3P%', '2P', '2PA', '2P%', 'eFG%', 'FT', 'FTA', 'FT%', 'ORB', 'DRB', 'TRB', 'AST', 'STL', 'BLK', 'TOV', 'PF', 'PTS']\n",
      "['23', 'OKC', 'NBA', 'SG', '68', '6', '15.5', '2.0', '5.0', '.393', '1.4', '3.6', '.381', '0.6', '1.4', '.426', '.531', '0.6', '0.7', '.898', '0.3', '1.0', '1.3', '0.6', '0.5', '0.1', '0.5', '1.7', '6.0', '2016-17']\n",
      "['24', 'OKC', 'NBA', 'SG', '75', '8', '15.1', '1.5', '3.9', '.395', '1.1', '2.9', '.380', '0.4', '0.9', '.443', '.540', '0.5', '0.6', '.848', '0.3', '1.2', '1.5', '0.4', '0.5', '0.1', '0.3', '1.7', '4.7', '2017-18']\n",
      "['25', 'OKC', 'NBA', 'SG', '31', '2', '19.0', '1.8', '5.1', '.357', '1.3', '4.1', '.323', '0.5', '1.0', '.500', '.487', '0.4', '0.4', '.923', '0.2', '1.4', '1.5', '0.6', '0.5', '0.2', '0.5', '1.7', '5.3', '2018-19']\n",
      "['', '', 'NBA', '', '174', '16', '16.0', '1.8', '4.5', '.387', '1.3', '3.4', '.368', '0.5', '1.1', '.443', '.525', '0.5', '0.6', '.880', '0.3', '1.1', '1.4', '0.5', '0.5', '0.1', '0.4', '1.7', '5.3', 'Career']\n"
     ]
    }
   ],
   "source": [
    "import requests, bs4\n",
    "\n",
    "url = 'https://www.basketball-reference.com/players/a/abrinal01.html'\n",
    "res = requests.get(url)\n",
    "res.raise_for_status()\n",
    "\n",
    "soup = bs4.BeautifulSoup(res.text, 'html.parser')\n",
    "elems = soup.select('#per_game')\n",
    "\n",
    "table = soup.find(\"table\", { \"id\" : \"per_game\" })\n",
    "table_rows = table.find_all('tr')\n",
    "\n",
    "for tr in table_rows:\n",
    "    td = tr.find_all('td') + tr.find_all('th')\n",
    "    row = [i.text for i in td]\n",
    "    print(row)"
   ]
  },
  {
   "cell_type": "code",
   "execution_count": 33,
   "metadata": {},
   "outputs": [],
   "source": [
    "def througput():\n",
    "    print(\"---------------menghitung througput Tower-------------------\")\n",
    "    print (\"====Plih band====\")\n",
    "\n",
    "    print(\"[1]. 5 MHz, 25 RB\")\n",
    "    print(\"[2]. 10 MHz, 50 RB\")\n",
    "    print(\"[3]. 3 MHz, 75 RB\")\n",
    "    print(\"[4].  MHz, 100 RB\")\n",
    "    band =  int(input (\"masukan pilihan (RB bandwith) : \"))\n",
    "\n",
    "    print (\"====Plih Modulasi====\")\n",
    "    print(\"[1]. 64QAM\")\n",
    "    print(\"[2]. 16QAM\")\n",
    "    print(\"[3]. QPSK\")\n",
    "    mod =  int(input (\"masukan pilihan (bits/symbol) : \"))\n",
    "\n",
    "\n",
    "    print (\"====Plih Antena====\")\n",
    "    print(\"[1]. SISO\")\n",
    "    print(\"[2]. 2x2 MIMO\")\n",
    "    print(\"[3]. 4x4 MIMO\")\n",
    "    anten = int(input (\"masukan pilihan (Pengali Antena: \"))\n",
    "    \n",
    "    bandchoice = [\"5 MHz, 25 RB\", \"10 MHz, 50 RB\", \"3 MHz, 75 RB\", \"MHz, 100 RB\"]\n",
    "    modchoice = [\"64QAM\", \"16QAM\", \"QPSK\"]\n",
    "    antenchoice = [\"SISO\", \"2x2 MIMO\", \"4x4 MIMO\"]\n",
    "\n",
    "\n",
    "    return (\"band = {} mod = {}  anten= {}\".format(bandchoice[band-1], modchoice[mod-1], antenchoice[anten-1]))"
   ]
  },
  {
   "cell_type": "code",
   "execution_count": 34,
   "metadata": {},
   "outputs": [
    {
     "name": "stdout",
     "output_type": "stream",
     "text": [
      "---------------menghitung througput Tower-------------------\n",
      "====Plih band====\n",
      "[1]. 5 MHz, 25 RB\n",
      "[2]. 10 MHz, 50 RB\n",
      "[3]. 3 MHz, 75 RB\n",
      "[4].  MHz, 100 RB\n",
      "masukan pilihan (RB bandwith) : 1\n",
      "====Plih Modulasi====\n",
      "[1]. 64QAM\n",
      "[2]. 16QAM\n",
      "[3]. QPSK\n",
      "masukan pilihan (bits/symbol) : 1\n",
      "====Plih Antena====\n",
      "[1]. SISO\n",
      "[2]. 2x2 MIMO\n",
      "[3]. 4x4 MIMO\n",
      "masukan pilihan (Pengali Antena: 1\n"
     ]
    },
    {
     "data": {
      "text/plain": [
       "'band = 5 MHz, 25 RB mod = 64QAM  anten= SISO'"
      ]
     },
     "execution_count": 34,
     "metadata": {},
     "output_type": "execute_result"
    }
   ],
   "source": [
    "througput()"
   ]
  }
 ],
 "metadata": {
  "hide_input": false,
  "kernelspec": {
   "display_name": "Python 3",
   "language": "python",
   "name": "python3"
  },
  "language_info": {
   "codemirror_mode": {
    "name": "ipython",
    "version": 3
   },
   "file_extension": ".py",
   "mimetype": "text/x-python",
   "name": "python",
   "nbconvert_exporter": "python",
   "pygments_lexer": "ipython3",
   "version": "3.7.2"
  },
  "toc": {
   "base_numbering": 1,
   "nav_menu": {},
   "number_sections": true,
   "sideBar": true,
   "skip_h1_title": false,
   "title_cell": "Table of Contents",
   "title_sidebar": "Contents",
   "toc_cell": false,
   "toc_position": {},
   "toc_section_display": true,
   "toc_window_display": false
  },
  "varInspector": {
   "cols": {
    "lenName": 16,
    "lenType": 16,
    "lenVar": 40
   },
   "kernels_config": {
    "python": {
     "delete_cmd_postfix": "",
     "delete_cmd_prefix": "del ",
     "library": "var_list.py",
     "varRefreshCmd": "print(var_dic_list())"
    },
    "r": {
     "delete_cmd_postfix": ") ",
     "delete_cmd_prefix": "rm(",
     "library": "var_list.r",
     "varRefreshCmd": "cat(var_dic_list()) "
    }
   },
   "types_to_exclude": [
    "module",
    "function",
    "builtin_function_or_method",
    "instance",
    "_Feature"
   ],
   "window_display": false
  }
 },
 "nbformat": 4,
 "nbformat_minor": 2
}
