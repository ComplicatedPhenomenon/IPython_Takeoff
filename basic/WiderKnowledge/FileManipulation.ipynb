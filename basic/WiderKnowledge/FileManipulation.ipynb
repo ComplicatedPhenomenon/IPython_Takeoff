{
 "cells": [
  {
   "cell_type": "code",
   "execution_count": null,
   "metadata": {},
   "outputs": [],
   "source": [
    "from IPython.core.interactiveshell import InteractiveShell\n",
    "InteractiveShell.ast_node_interactivity = \"all\""
   ]
  },
  {
   "cell_type": "code",
   "execution_count": null,
   "metadata": {},
   "outputs": [],
   "source": [
    "import os \n",
    "import urllib"
   ]
  },
  {
   "cell_type": "code",
   "execution_count": null,
   "metadata": {},
   "outputs": [],
   "source": [
    "import re"
   ]
  },
  {
   "cell_type": "code",
   "execution_count": null,
   "metadata": {},
   "outputs": [],
   "source": [
    "urllib.request.urlretrieve('http://b.hiphotos.baidu.com/image/h%3D300/sign=92afee66fd36afc3110c39658318eb85/908fa0ec08fa513db777cf78376d55fbb3fbd9b3.jpg','sunflower.jpg')"
   ]
  },
  {
   "cell_type": "markdown",
   "metadata": {},
   "source": [
    "![](sunflower.jpg)"
   ]
  },
  {
   "cell_type": "code",
   "execution_count": null,
   "metadata": {},
   "outputs": [],
   "source": [
    "!ls &&pwd \n",
    "os.path.isfile(\"/Applications/Users/wangmiao/Playground/GH/IPython_training/basic/WiderKnowledge/\")"
   ]
  },
  {
   "cell_type": "code",
   "execution_count": null,
   "metadata": {},
   "outputs": [],
   "source": [
    "pattern=re.compile(r\"\\.\\w{5}\")\n",
    "for root, dirs, files in os.walk(\"/Users/wangmiao/Playground/GH/IPython_training/basic/WiderKnowledge/\"):\n",
    "    for file in files:\n",
    "        #if pattern.findall(file)[0] == '.ipynb':\n",
    "        print( file)"
   ]
  },
  {
   "cell_type": "code",
   "execution_count": null,
   "metadata": {},
   "outputs": [],
   "source": [
    "from os import listdir\n",
    "from os.path import isfile, join\n",
    "mypath = \"/Users/wangmiao/Playground/GH/IPython_training/basic/WiderKnowledge/\"\n",
    "[f for f in listdir(mypath) if isfile(join(mypath, f))]"
   ]
  },
  {
   "cell_type": "code",
   "execution_count": null,
   "metadata": {},
   "outputs": [],
   "source": [
    "pattern.findall(\"Decorators.ipynb\")[0]"
   ]
  },
  {
   "cell_type": "code",
   "execution_count": null,
   "metadata": {},
   "outputs": [],
   "source": [
    "class Card:\n",
    "    def __init__(self):\n",
    "        self.suit = [\"Hearts\",\"Diamonds\",\"Clubs\",\"Spades\"]\n",
    "        self.value = [\"A\", \"2\", \"3\", \"4\", \"5\", \"6\", \"7\", \"8\", \"9\", \"10\", \"J\", \"Q\", \"K\"]\n",
    "        self.cards = [] \n",
    "\n",
    "        for x in self.value:\n",
    "            y = x + \" of\"\n",
    "            for z in self.suit :\n",
    "                aa = y + \" \" + z\n",
    "                self.cards.append(aa)\n",
    "\n",
    "    def __repr__(self): \n",
    "        return str(self.cards) \n",
    "\n",
    "cards1 = Card()"
   ]
  },
  {
   "cell_type": "code",
   "execution_count": null,
   "metadata": {},
   "outputs": [],
   "source": [
    "cards1.cards"
   ]
  },
  {
   "cell_type": "code",
   "execution_count": null,
   "metadata": {},
   "outputs": [],
   "source": [
    "ToEndofDays = 6388\n",
    "#find today's date\n",
    "import datetime\n",
    "from datetime import date\n",
    "EOD = \"2037-01-04\"\n",
    "EOD = datetime.date(2037, 1, 4) \n",
    "print (EOD)\n",
    "#d=datetime.datetime.today()\n",
    "d=datetime.date.today()\n",
    "# td = str(d(0-9))\n",
    "# print (td)\n",
    "delta = EOD - d\n",
    "print (\"Today is\", d)\n",
    "#print (ToEndofDays) \n",
    "#print (\"I have until\", EOD, \"when I die\"\")\n",
    "print(ToEndofDays, \"days until the end!\")\n",
    "print (delta)"
   ]
  },
  {
   "cell_type": "code",
   "execution_count": null,
   "metadata": {},
   "outputs": [],
   "source": [
    "s = \"http://asaa.com\""
   ]
  },
  {
   "cell_type": "code",
   "execution_count": null,
   "metadata": {},
   "outputs": [],
   "source": [
    "import requests, bs4\n",
    "\n",
    "url = 'https://www.basketball-reference.com/players/a/abrinal01.html'\n",
    "res = requests.get(url)\n",
    "res.raise_for_status()\n",
    "\n",
    "soup = bs4.BeautifulSoup(res.text, 'html.parser')\n",
    "elems = soup.select('#per_game')\n",
    "\n",
    "table = soup.find(\"table\", { \"id\" : \"per_game\" })\n",
    "table_rows = table.find_all('tr')\n",
    "\n",
    "for tr in table_rows:\n",
    "    td = tr.find_all('td')\n",
    "    row = [i.text for i in td]\n",
    "    \n",
    "    print(row)"
   ]
  },
  {
   "cell_type": "code",
   "execution_count": null,
   "metadata": {},
   "outputs": [],
   "source": [
    "import requests, bs4\n",
    "\n",
    "url = 'https://www.basketball-reference.com/players/a/abrinal01.html'\n",
    "res = requests.get(url)\n",
    "res.raise_for_status()\n",
    "\n",
    "soup = bs4.BeautifulSoup(res.text, 'html.parser')\n",
    "elems = soup.select('#per_game')\n",
    "\n",
    "table = soup.find(\"table\", { \"id\" : \"per_game\" })\n",
    "table_rows = table.find_all('tr')\n",
    "\n",
    "for tr in table_rows:\n",
    "    td = tr.find_all('td') + tr.find_all('th')\n",
    "    row = [i.text for i in td]\n",
    "    print(row)"
   ]
  },
  {
   "cell_type": "code",
   "execution_count": null,
   "metadata": {},
   "outputs": [],
   "source": [
    "def througput():\n",
    "    print(\"---------------menghitung througput Tower-------------------\")\n",
    "    print (\"====Plih band====\")\n",
    "\n",
    "    print(\"[1]. 5 MHz, 25 RB\")\n",
    "    print(\"[2]. 10 MHz, 50 RB\")\n",
    "    print(\"[3]. 3 MHz, 75 RB\")\n",
    "    print(\"[4].  MHz, 100 RB\")\n",
    "    band =  int(input (\"masukan pilihan (RB bandwith) : \"))\n",
    "\n",
    "    print (\"====Plih Modulasi====\")\n",
    "    print(\"[1]. 64QAM\")\n",
    "    print(\"[2]. 16QAM\")\n",
    "    print(\"[3]. QPSK\")\n",
    "    mod =  int(input (\"masukan pilihan (bits/symbol) : \"))\n",
    "\n",
    "\n",
    "    print (\"====Plih Antena====\")\n",
    "    print(\"[1]. SISO\")\n",
    "    print(\"[2]. 2x2 MIMO\")\n",
    "    print(\"[3]. 4x4 MIMO\")\n",
    "    anten = int(input (\"masukan pilihan (Pengali Antena: \"))\n",
    "    \n",
    "    bandchoice = [\"5 MHz, 25 RB\", \"10 MHz, 50 RB\", \"3 MHz, 75 RB\", \"MHz, 100 RB\"]\n",
    "    modchoice = [\"64QAM\", \"16QAM\", \"QPSK\"]\n",
    "    antenchoice = [\"SISO\", \"2x2 MIMO\", \"4x4 MIMO\"]\n",
    "\n",
    "\n",
    "    return (\"band = {} mod = {}  anten= {}\".format(bandchoice[band-1], modchoice[mod-1], antenchoice[anten-1]))"
   ]
  },
  {
   "cell_type": "code",
   "execution_count": null,
   "metadata": {},
   "outputs": [],
   "source": [
    "througput()"
   ]
  },
  {
   "cell_type": "code",
   "execution_count": null,
   "metadata": {},
   "outputs": [],
   "source": [
    "!cat xx.txt"
   ]
  },
  {
   "cell_type": "markdown",
   "metadata": {},
   "source": [
    "# how-to-check-to-see-if-a-certain-line-is-found\n",
    "https://stackoverflow.com/questions/57078822/how-to-check-to-see-if-a-certain-line-is-found-before-a-certain-point-in-a-txt-f"
   ]
  },
  {
   "cell_type": "code",
   "execution_count": null,
   "metadata": {},
   "outputs": [],
   "source": [
    "find = 'Is this found'   \n",
    "\n",
    "with open('xx.txt') as old_file:\n",
    "  \n",
    "    lines = old_file.readlines()\n",
    "    print(lines[2])\n",
    "    print(lines)\n",
    "    for line in old_file:\n",
    "        print(line)\n",
    "        if line.startswith(\"This\"):\n",
    "            print(\"line\")\n",
    "    \"\"\"\n",
    "    with open(endfile1, \"w\") as new_file:\n",
    "        for num, line in enumerate(lines,1):\n",
    "            #if line \"This is the\" in line:\n",
    "                line_base = num\n",
    "        for line in lines:\n",
    "            if not find in line.range(1:num):\n",
    "                if line.startswith(\"This is the\"):\n",
    "                    line = newbasecase + line \n",
    "    \"\"\""
   ]
  },
  {
   "cell_type": "code",
   "execution_count": null,
   "metadata": {},
   "outputs": [],
   "source": [
    "with open('test.txt') as f:\n",
    "    lines = f.read().split('\\n')\n",
    "left = [line.split('=')[0].strip() for line in lines]\n",
    "right = [line.split('=')[1].strip() for line in lines]\n",
    "print(left)\n",
    "print(right)\n",
    "\n"
   ]
  },
  {
   "cell_type": "markdown",
   "metadata": {},
   "source": [
    "# Extrac data from xml"
   ]
  },
  {
   "cell_type": "code",
   "execution_count": null,
   "metadata": {},
   "outputs": [],
   "source": [
    "from xml.etree import cElementTree as ET\n",
    "xmlstr = \"\"\"<poll title=\"User Suggested Number of Players\" totalvotes=\"0\" name=\"suggested_numplayers\">\n",
    "<results numplayers=\"3+\"> \n",
    "</results></poll>\n",
    "\"\"\"\n",
    "root = ET.fromstring(xmlstr)\n",
    "levels= root.findall('poll')\n",
    "for level in levels:\n",
    "    totalvotes = level.find('totalvotes').text\n",
    "    print('totalvotes', totalvotes)"
   ]
  },
  {
   "cell_type": "code",
   "execution_count": null,
   "metadata": {},
   "outputs": [],
   "source": [
    "xmlstr\n",
    "a, b , c= xmlstr.partition(\"totalvotes=\")\n",
    "c.split()[0]"
   ]
  },
  {
   "cell_type": "code",
   "execution_count": null,
   "metadata": {},
   "outputs": [],
   "source": [
    "from bs4 import BeautifulSoup\n",
    "\n",
    "soup = BeautifulSoup(xmlstr) \n",
    "soup.find('poll').get('totalvotes')\n",
    "for poll in soup.find_all('poll'):\n",
    "    print (poll.get('totalvotes'))"
   ]
  },
  {
   "cell_type": "code",
   "execution_count": null,
   "metadata": {},
   "outputs": [],
   "source": [
    "source = '''<root>\n",
    "<level>\n",
    "  <name>Matthias</name>\n",
    "  <age>23</age>\n",
    "  <gender>Male</gender>\n",
    "</level>\n",
    "<level>\n",
    "  <name>Foo</name>\n",
    "  <age>24</age>\n",
    "  <gender>Male</gender>\n",
    "</level>\n",
    "<level>\n",
    "  <name>Bar</name>\n",
    "  <age>25</age>\n",
    "  <gender>Male</gender>\n",
    "</level>\n",
    "</root>'''\n",
    "\n",
    "root = ET.fromstring(source)\n",
    "levels = root.findall('.//level')\n",
    "for level in levels:\n",
    "    name = level.find('name').text\n",
    "    age = level.find('age').text\n",
    "    print(name, age)"
   ]
  },
  {
   "cell_type": "code",
   "execution_count": null,
   "metadata": {},
   "outputs": [],
   "source": [
    "largerList = [10,10,10,10,10,0,10,10,10,10,15,15,15,15,15,10,10,0,10,10,12,12,12,0]\n",
    "\n",
    "sublist= [largerList[0]]\n",
    "previous = largerList[0]\n",
    "for item in largerList:\n",
    "    #item \n",
    "    if item != previous:\n",
    "        sublist.append(item)\n",
    "        #sublist\n",
    "        previous = item\n",
    "sublist==[10,0,10,15,10,0,10,12,0]"
   ]
  },
  {
   "cell_type": "code",
   "execution_count": null,
   "metadata": {},
   "outputs": [],
   "source": [
    "from itertools import groupby\n",
    "LargerList = [10,10,10,10,10,0,10,10,10,10,15,15,15,15,15,10,10,0,10,10,12,12,12,0]\n",
    "sublists = [k for k, _ in groupby(LargerList)]\n",
    "sublists"
   ]
  },
  {
   "cell_type": "code",
   "execution_count": null,
   "metadata": {},
   "outputs": [],
   "source": [
    "import requests\n",
    "from bs4 import BeautifulSoup\n",
    "page = requests.get('https://finviz.com/forex_performance.ashx')\n",
    "soup = BeautifulSoup(page.content, 'html.parser')\n",
    "forex = soup.find_all(\"div\", {\"class\": \"content \"})\n",
    "print(forex)"
   ]
  },
  {
   "cell_type": "markdown",
   "metadata": {},
   "source": [
    "# List file "
   ]
  },
  {
   "cell_type": "code",
   "execution_count": null,
   "metadata": {},
   "outputs": [],
   "source": [
    "from os import listdir\n",
    "from os.path import isdir\n",
    "#files = [file for file in listdir('../storage') if isdir(file)]\n",
    "\n",
    "for file in listdir('/Users/wangmiao/Desktop/'):\n",
    "    print(file)"
   ]
  },
  {
   "cell_type": "code",
   "execution_count": null,
   "metadata": {},
   "outputs": [],
   "source": [
    "!echo \"CONFIG_PATH = '/usr/local/emarking/config/config.ini'\" >> test.py"
   ]
  },
  {
   "cell_type": "code",
   "execution_count": null,
   "metadata": {},
   "outputs": [],
   "source": [
    "!cat test.py"
   ]
  },
  {
   "cell_type": "code",
   "execution_count": null,
   "metadata": {},
   "outputs": [],
   "source": [
    "!sed -i \"33iCONFIG_PATH = '/usr/local/emarking/config/config.ini'\" test.py"
   ]
  },
  {
   "cell_type": "code",
   "execution_count": null,
   "metadata": {},
   "outputs": [],
   "source": [
    "regex_ = r'^((?!~\\$).)+\\.(?:xlsx?|csv|txt)$'"
   ]
  },
  {
   "cell_type": "code",
   "execution_count": null,
   "metadata": {},
   "outputs": [],
   "source": [
    "all_files = [f_path + filename for f_path, _, filenames in os.walk('./') \\\n",
    "             for filename in filenames if re.search(regex_, filename)]\n"
   ]
  }
 ],
 "metadata": {
  "hide_input": false,
  "kernelspec": {
   "display_name": "Python 3",
   "language": "python",
   "name": "python3"
  },
  "language_info": {
   "codemirror_mode": {
    "name": "ipython",
    "version": 3
   },
   "file_extension": ".py",
   "mimetype": "text/x-python",
   "name": "python",
   "nbconvert_exporter": "python",
   "pygments_lexer": "ipython3",
   "version": "3.7.2"
  },
  "toc": {
   "base_numbering": 1,
   "nav_menu": {},
   "number_sections": true,
   "sideBar": true,
   "skip_h1_title": false,
   "title_cell": "Table of Contents",
   "title_sidebar": "Contents",
   "toc_cell": false,
   "toc_position": {},
   "toc_section_display": true,
   "toc_window_display": false
  },
  "varInspector": {
   "cols": {
    "lenName": 16,
    "lenType": 16,
    "lenVar": 40
   },
   "kernels_config": {
    "python": {
     "delete_cmd_postfix": "",
     "delete_cmd_prefix": "del ",
     "library": "var_list.py",
     "varRefreshCmd": "print(var_dic_list())"
    },
    "r": {
     "delete_cmd_postfix": ") ",
     "delete_cmd_prefix": "rm(",
     "library": "var_list.r",
     "varRefreshCmd": "cat(var_dic_list()) "
    }
   },
   "types_to_exclude": [
    "module",
    "function",
    "builtin_function_or_method",
    "instance",
    "_Feature"
   ],
   "window_display": false
  }
 },
 "nbformat": 4,
 "nbformat_minor": 2
}
