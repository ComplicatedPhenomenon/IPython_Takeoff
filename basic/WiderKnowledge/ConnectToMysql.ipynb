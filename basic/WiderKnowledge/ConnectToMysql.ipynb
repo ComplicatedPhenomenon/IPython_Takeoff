{
 "cells": [
  {
   "cell_type": "code",
   "execution_count": 6,
   "metadata": {},
   "outputs": [],
   "source": [
    "from IPython.core.interactiveshell import InteractiveShell\n",
    "InteractiveShell.ast_node_interactivity = \"all\""
   ]
  },
  {
   "cell_type": "code",
   "execution_count": 6,
   "metadata": {},
   "outputs": [
    {
     "name": "stdout",
     "output_type": "stream",
     "text": [
      "\r\n",
      "CommandNotFoundError: Your shell has not been properly configured to use 'conda activate'.\r\n",
      "To initialize your shell, run\r\n",
      "\r\n",
      "    $ conda init <SHELL_NAME>\r\n",
      "\r\n",
      "Currently supported shells are:\r\n",
      "  - bash\r\n",
      "  - fish\r\n",
      "  - tcsh\r\n",
      "  - xonsh\r\n",
      "  - zsh\r\n",
      "  - powershell\r\n",
      "\r\n",
      "See 'conda init --help' for more information and options.\r\n",
      "\r\n",
      "IMPORTANT: You may need to close and restart your shell after running 'conda init'.\r\n",
      "\r\n",
      "\r\n"
     ]
    }
   ],
   "source": [
    "!conda activate freevoice"
   ]
  },
  {
   "cell_type": "code",
   "execution_count": 1,
   "metadata": {},
   "outputs": [
    {
     "name": "stdout",
     "output_type": "stream",
     "text": [
      "/Users/wangmiao/anaconda3/envs/freevoice/bin/python\n"
     ]
    }
   ],
   "source": [
    "import sys\n",
    "print(sys.executable)"
   ]
  },
  {
   "cell_type": "code",
   "execution_count": 3,
   "metadata": {},
   "outputs": [
    {
     "name": "stdout",
     "output_type": "stream",
     "text": [
      "# conda environments:\r\n",
      "#\r\n",
      "base                     /Users/wangmiao/anaconda3\r\n",
      "QZone                    /Users/wangmiao/anaconda3/envs/QZone\r\n",
      "SOTAWHAT                 /Users/wangmiao/anaconda3/envs/SOTAWHAT\r\n",
      "django-blog              /Users/wangmiao/anaconda3/envs/django-blog\r\n",
      "freevoice             *  /Users/wangmiao/anaconda3/envs/freevoice\r\n",
      "pelican                  /Users/wangmiao/anaconda3/envs/pelican\r\n",
      "py27                     /Users/wangmiao/anaconda3/envs/py27\r\n",
      "sciblog                  /Users/wangmiao/anaconda3/envs/sciblog\r\n",
      "\r\n"
     ]
    }
   ],
   "source": [
    "!conda env list "
   ]
  },
  {
   "cell_type": "code",
   "execution_count": 24,
   "metadata": {},
   "outputs": [],
   "source": [
    "import pymysql"
   ]
  },
  {
   "cell_type": "markdown",
   "metadata": {},
   "source": [
    "http://dcm.uhcl.edu/yue/courses/csci4333/current/notes/EmbeddedSQL/IntroPythonMySQL.html\n",
    "\n",
    "http://zetcode.com/python/pymysql/\n",
    "\n",
    "http://www.mysqltutorial.org/mysql-is-null/"
   ]
  },
  {
   "cell_type": "code",
   "execution_count": 59,
   "metadata": {},
   "outputs": [],
   "source": [
    "# Open database connection\n",
    "db = pymysql.connect(host = \"127.0.0.1\", user = \"root\", password = \"root\", db = \"classicmodels\", port=8889)"
   ]
  },
  {
   "cell_type": "code",
   "execution_count": 27,
   "metadata": {},
   "outputs": [
    {
     "name": "stdout",
     "output_type": "stream",
     "text": [
      "\u0007mysqladmin: connect to server at 'localhost' failed\r\n",
      "error: 'Access denied for user 'wangmiao'@'localhost' (using password: NO)'\r\n"
     ]
    }
   ],
   "source": [
    "# connect refused\n",
    "! mysqladmin variables | grep socket"
   ]
  },
  {
   "cell_type": "code",
   "execution_count": 66,
   "metadata": {},
   "outputs": [
    {
     "data": {
      "text/plain": [
       "1"
      ]
     },
     "execution_count": 66,
     "metadata": {},
     "output_type": "execute_result"
    },
    {
     "name": "stdout",
     "output_type": "stream",
     "text": [
      "Database version: 5.7.23\n"
     ]
    },
    {
     "data": {
      "text/plain": [
       "8"
      ]
     },
     "execution_count": 66,
     "metadata": {},
     "output_type": "execute_result"
    }
   ],
   "source": [
    "with db:\n",
    "    cur = db.cursor()\n",
    "    #call the execute() method of the cursor and execute the SQL statement.\n",
    "    cur.execute(\"SELECT VERSION()\")\n",
    "    #The fetchone() method fetches the next row of a query result set, returning a single sequence\n",
    "    # or None when no more data is available.\n",
    "    version = cur.fetchone()\n",
    "    print(\"Database version: {}\".format(version[0]))\n",
    "    cur.execute('SHOW tables FROM classicmodels')"
   ]
  },
  {
   "cell_type": "code",
   "execution_count": 67,
   "metadata": {},
   "outputs": [
    {
     "data": {
      "text/plain": [
       "1"
      ]
     },
     "execution_count": 67,
     "metadata": {},
     "output_type": "execute_result"
    }
   ],
   "source": [
    "cur.execute(\"SELECT VERSION()\")"
   ]
  },
  {
   "cell_type": "code",
   "execution_count": 85,
   "metadata": {
    "cell_style": "split"
   },
   "outputs": [
    {
     "data": {
      "text/plain": [
       "8"
      ]
     },
     "execution_count": 85,
     "metadata": {},
     "output_type": "execute_result"
    },
    {
     "data": {
      "text/plain": [
       "(('customers',),\n",
       " ('employees',),\n",
       " ('offices',),\n",
       " ('orderdetails',),\n",
       " ('orders',),\n",
       " ('payments',),\n",
       " ('productlines',),\n",
       " ('products',))"
      ]
     },
     "execution_count": 85,
     "metadata": {},
     "output_type": "execute_result"
    }
   ],
   "source": [
    "cur.execute('SHOW TABLES;')\n",
    "# The fetchAll() method retrieves all (remaining) rows of a query result, returning them as a sequence of sequences.\n",
    "cur.fetchall()"
   ]
  },
  {
   "cell_type": "code",
   "execution_count": 86,
   "metadata": {
    "cell_style": "split"
   },
   "outputs": [
    {
     "data": {
      "text/plain": [
       "8"
      ]
     },
     "execution_count": 86,
     "metadata": {},
     "output_type": "execute_result"
    },
    {
     "data": {
      "text/plain": [
       "(('employeeNumber', 'int(11)', 'NO', 'PRI', None, ''),\n",
       " ('lastName', 'varchar(50)', 'NO', '', None, ''),\n",
       " ('firstName', 'varchar(50)', 'NO', '', None, ''),\n",
       " ('extension', 'varchar(10)', 'NO', '', None, ''),\n",
       " ('email', 'varchar(100)', 'NO', '', None, ''),\n",
       " ('officeCode', 'varchar(10)', 'NO', 'MUL', None, ''),\n",
       " ('reportsTo', 'int(11)', 'YES', 'MUL', None, ''),\n",
       " ('jobTitle', 'varchar(50)', 'NO', '', None, ''))"
      ]
     },
     "execution_count": 86,
     "metadata": {},
     "output_type": "execute_result"
    }
   ],
   "source": [
    "instrument = '''\n",
    "DESCRIBE employees;\n",
    "'''\n",
    "cur.execute(instrument )\n",
    "cur.fetchall()"
   ]
  },
  {
   "cell_type": "code",
   "execution_count": 73,
   "metadata": {
    "cell_style": "split"
   },
   "outputs": [
    {
     "data": {
      "text/plain": [
       "23"
      ]
     },
     "execution_count": 73,
     "metadata": {},
     "output_type": "execute_result"
    },
    {
     "data": {
      "text/plain": [
       "(('Murphy', 'Diane', 'President'),\n",
       " ('Patterson', 'Mary', 'VP Sales'),\n",
       " ('Firrelli', 'Jeff', 'VP Marketing'),\n",
       " ('Patterson', 'William', 'Sales Manager (APAC)'),\n",
       " ('Bondur', 'Gerard', 'Sale Manager (EMEA)'),\n",
       " ('Bow', 'Anthony', 'Sales Manager (NA)'),\n",
       " ('Jennings', 'Leslie', 'Sales Rep'),\n",
       " ('Thompson', 'Leslie', 'Sales Rep'),\n",
       " ('Firrelli', 'Julie', 'Sales Rep'),\n",
       " ('Patterson', 'Steve', 'Sales Rep'),\n",
       " ('Tseng', 'Foon Yue', 'Sales Rep'),\n",
       " ('Vanauf', 'George', 'Sales Rep'),\n",
       " ('Bondur', 'Loui', 'Sales Rep'),\n",
       " ('Hernandez', 'Gerard', 'Sales Rep'),\n",
       " ('Castillo', 'Pamela', 'Sales Rep'),\n",
       " ('Bott', 'Larry', 'Sales Rep'),\n",
       " ('Jones', 'Barry', 'Sales Rep'),\n",
       " ('Fixter', 'Andy', 'Sales Rep'),\n",
       " ('Marsh', 'Peter', 'Sales Rep'),\n",
       " ('King', 'Tom', 'Sales Rep'),\n",
       " ('Nishi', 'Mami', 'Sales Rep'),\n",
       " ('Kato', 'Yoshimi', 'Sales Rep'),\n",
       " ('Gerard', 'Martin', 'Sales Rep'))"
      ]
     },
     "execution_count": 73,
     "metadata": {},
     "output_type": "execute_result"
    }
   ],
   "source": [
    "instrument = '''\n",
    "SELECT \n",
    "    lastname, \n",
    "    firstname, \n",
    "    jobtitle\n",
    "FROM\n",
    "    employees;\n",
    "'''\n",
    "cur.execute(instrument )\n",
    "cur.fetchall()"
   ]
  },
  {
   "cell_type": "code",
   "execution_count": 87,
   "metadata": {
    "cell_style": "split"
   },
   "outputs": [
    {
     "data": {
      "text/plain": [
       "22"
      ]
     },
     "execution_count": 87,
     "metadata": {},
     "output_type": "execute_result"
    },
    {
     "data": {
      "text/plain": [
       "(('ANG Resellers', 'Spain', None),\n",
       " ('Anton Designs, Ltd.', 'Spain', None),\n",
       " ('Asian Shopping Network, Co', 'Singapore', None),\n",
       " ('Asian Treasures, Inc.', 'Ireland', None),\n",
       " ('BG&E Collectables', 'Switzerland', None),\n",
       " ('Cramer Spezialitäten, Ltd', 'Germany', None),\n",
       " ('Der Hund Imports', 'Germany', None),\n",
       " ('Feuer Online Stores, Inc', 'Germany', None),\n",
       " ('Franken Gifts, Co', 'Germany', None),\n",
       " ('Havel & Zbyszek Co', 'Poland', None),\n",
       " ('Kommission Auto', 'Germany', None),\n",
       " ('Kremlin Collectables, Co.', 'Russia', None),\n",
       " ('Lisboa Souveniers, Inc', 'Portugal', None),\n",
       " ('Messner Shopping Network', 'Germany', None),\n",
       " ('Mit Vergnügen & Co.', 'Germany', None),\n",
       " ('Natürlich Autos', 'Germany', None),\n",
       " ('Porto Imports Co.', 'Portugal', None),\n",
       " ('Raanan Stores, Inc', 'Israel', None),\n",
       " ('SAR Distributors, Co', 'South Africa', None),\n",
       " ('Schuyler Imports', 'Netherlands', None),\n",
       " ('Stuttgart Collectable Exchange', 'Germany', None),\n",
       " ('Warburg Exchange', 'Germany', None))"
      ]
     },
     "execution_count": 87,
     "metadata": {},
     "output_type": "execute_result"
    }
   ],
   "source": [
    "instrument = '''\n",
    "SELECT\n",
    "    customerName,\n",
    "    country,\n",
    "    salesrepemployeenumber\n",
    "FROM\n",
    "    customers\n",
    "WHERE\n",
    "    salesrepemployeenumber IS NULL\n",
    "ORDER BY customerName;\n",
    "'''\n",
    "cur.execute(instrument )\n",
    "cur.fetchall()"
   ]
  }
 ],
 "metadata": {
  "hide_input": false,
  "kernelspec": {
   "display_name": "Python 3",
   "language": "python",
   "name": "python3"
  },
  "language_info": {
   "codemirror_mode": {
    "name": "ipython",
    "version": 3
   },
   "file_extension": ".py",
   "mimetype": "text/x-python",
   "name": "python",
   "nbconvert_exporter": "python",
   "pygments_lexer": "ipython3",
   "version": "3.7.2"
  },
  "toc": {
   "base_numbering": 1,
   "nav_menu": {},
   "number_sections": true,
   "sideBar": true,
   "skip_h1_title": false,
   "title_cell": "Table of Contents",
   "title_sidebar": "Contents",
   "toc_cell": false,
   "toc_position": {},
   "toc_section_display": true,
   "toc_window_display": false
  },
  "varInspector": {
   "cols": {
    "lenName": 16,
    "lenType": 16,
    "lenVar": 40
   },
   "kernels_config": {
    "python": {
     "delete_cmd_postfix": "",
     "delete_cmd_prefix": "del ",
     "library": "var_list.py",
     "varRefreshCmd": "print(var_dic_list())"
    },
    "r": {
     "delete_cmd_postfix": ") ",
     "delete_cmd_prefix": "rm(",
     "library": "var_list.r",
     "varRefreshCmd": "cat(var_dic_list()) "
    }
   },
   "types_to_exclude": [
    "module",
    "function",
    "builtin_function_or_method",
    "instance",
    "_Feature"
   ],
   "window_display": false
  }
 },
 "nbformat": 4,
 "nbformat_minor": 2
}
