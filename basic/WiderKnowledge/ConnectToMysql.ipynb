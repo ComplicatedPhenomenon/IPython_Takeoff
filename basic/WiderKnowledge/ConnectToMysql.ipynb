{
 "cells": [
  {
   "cell_type": "code",
   "execution_count": null,
   "metadata": {},
   "outputs": [],
   "source": [
    "from IPython.core.interactiveshell import InteractiveShell\n",
    "InteractiveShell.ast_node_interactivity = \"all\""
   ]
  },
  {
   "cell_type": "code",
   "execution_count": null,
   "metadata": {},
   "outputs": [],
   "source": [
    "import sys\n",
    "print(sys.executable)"
   ]
  },
  {
   "cell_type": "code",
   "execution_count": null,
   "metadata": {},
   "outputs": [],
   "source": [
    "!conda env list "
   ]
  },
  {
   "cell_type": "code",
   "execution_count": null,
   "metadata": {},
   "outputs": [],
   "source": [
    "import pymysql"
   ]
  },
  {
   "cell_type": "markdown",
   "metadata": {},
   "source": [
    "http://dcm.uhcl.edu/yue/courses/csci4333/current/notes/EmbeddedSQL/IntroPythonMySQL.html\n",
    "\n",
    "http://zetcode.com/python/pymysql/\n",
    "\n",
    "http://www.mysqltutorial.org/mysql-is-null/"
   ]
  },
  {
   "cell_type": "code",
   "execution_count": null,
   "metadata": {},
   "outputs": [],
   "source": [
    "# Open database connection\n",
    "db = pymysql.connect(host = \"127.0.0.1\", user = \"root\", password = \"root\", db = \"classicmodels\", port=8889)"
   ]
  },
  {
   "cell_type": "code",
   "execution_count": null,
   "metadata": {},
   "outputs": [],
   "source": [
    "# connect refused\n",
    "! mysqladmin variables | grep socket"
   ]
  },
  {
   "cell_type": "code",
   "execution_count": null,
   "metadata": {},
   "outputs": [],
   "source": [
    "with db:\n",
    "    cur = db.cursor()\n",
    "    #call the execute() method of the cursor and execute the SQL statement.\n",
    "    cur.execute(\"SELECT VERSION()\")\n",
    "    #The fetchone() method fetches the next row of a query result set, returning a single sequence\n",
    "    # or None when no more data is available.\n",
    "    version = cur.fetchone()\n",
    "    print(\"Database version: {}\".format(version[0]))\n",
    "    cur.execute('SHOW tables FROM classicmodels')"
   ]
  },
  {
   "cell_type": "code",
   "execution_count": null,
   "metadata": {},
   "outputs": [],
   "source": [
    "cur.execute(\"SELECT VERSION()\")"
   ]
  },
  {
   "cell_type": "code",
   "execution_count": null,
   "metadata": {
    "cell_style": "split"
   },
   "outputs": [],
   "source": [
    "cur.execute('SHOW TABLES;')\n",
    "# The fetchAll() method retrieves all (remaining) rows of a query result, returning them as a sequence of sequences.\n",
    "cur.fetchall()"
   ]
  },
  {
   "cell_type": "code",
   "execution_count": null,
   "metadata": {
    "cell_style": "split"
   },
   "outputs": [],
   "source": [
    "instrument = '''\n",
    "DESCRIBE employees;\n",
    "'''\n",
    "cur.execute(instrument )\n",
    "cur.fetchall()"
   ]
  },
  {
   "cell_type": "code",
   "execution_count": null,
   "metadata": {
    "cell_style": "split"
   },
   "outputs": [],
   "source": [
    "instrument = '''\n",
    "SELECT \n",
    "    lastname, \n",
    "    firstname, \n",
    "    jobtitle\n",
    "FROM\n",
    "    employees;\n",
    "'''\n",
    "cur.execute(instrument )\n",
    "cur.fetchall()"
   ]
  },
  {
   "cell_type": "code",
   "execution_count": null,
   "metadata": {
    "cell_style": "split"
   },
   "outputs": [],
   "source": [
    "instrument = '''\n",
    "SELECT\n",
    "    customerName,\n",
    "    country,\n",
    "    salesrepemployeenumber\n",
    "FROM\n",
    "    customers\n",
    "WHERE\n",
    "    salesrepemployeenumber IS NULL\n",
    "ORDER BY customerName;\n",
    "'''\n",
    "cur.execute(instrument )\n",
    "cur.fetchall()"
   ]
  }
 ],
 "metadata": {
  "hide_input": false,
  "kernelspec": {
   "display_name": "Python 3",
   "language": "python",
   "name": "python3"
  },
  "language_info": {
   "codemirror_mode": {
    "name": "ipython",
    "version": 3
   },
   "file_extension": ".py",
   "mimetype": "text/x-python",
   "name": "python",
   "nbconvert_exporter": "python",
   "pygments_lexer": "ipython3",
   "version": "3.7.2"
  },
  "toc": {
   "base_numbering": 1,
   "nav_menu": {},
   "number_sections": true,
   "sideBar": true,
   "skip_h1_title": false,
   "title_cell": "Table of Contents",
   "title_sidebar": "Contents",
   "toc_cell": false,
   "toc_position": {},
   "toc_section_display": true,
   "toc_window_display": false
  },
  "varInspector": {
   "cols": {
    "lenName": 16,
    "lenType": 16,
    "lenVar": 40
   },
   "kernels_config": {
    "python": {
     "delete_cmd_postfix": "",
     "delete_cmd_prefix": "del ",
     "library": "var_list.py",
     "varRefreshCmd": "print(var_dic_list())"
    },
    "r": {
     "delete_cmd_postfix": ") ",
     "delete_cmd_prefix": "rm(",
     "library": "var_list.r",
     "varRefreshCmd": "cat(var_dic_list()) "
    }
   },
   "types_to_exclude": [
    "module",
    "function",
    "builtin_function_or_method",
    "instance",
    "_Feature"
   ],
   "window_display": false
  }
 },
 "nbformat": 4,
 "nbformat_minor": 2
}
