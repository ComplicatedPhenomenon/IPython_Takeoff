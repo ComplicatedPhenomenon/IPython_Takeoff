{
 "cells": [
  {
   "cell_type": "markdown",
   "metadata": {},
   "source": [
    "<span style=\"font-family:New York Times; font-size:1.5em; color:green;\"> \n",
    "pika usage"
   ]
  },
  {
   "cell_type": "markdown",
   "metadata": {},
   "source": [
    "* [https://www.rabbitmq.com/tutorials/tutorial-one-python.html](https://www.rabbitmq.com/tutorials/tutorial-one-python.html)\n",
    "* [https://www.cloudamqp.com/blog/2015-05-21-part2-3-rabbitmq-for-beginners_example-and-sample-code-python.html](https://www.cloudamqp.com/blog/2015-05-21-part2-3-rabbitmq-for-beginners_example-and-sample-code-python.html)\n",
    "\n",
    "\n",
    "\n",
    "<span style = \"font-family: New York Times; font-size:1em; color:green;\">\n",
    "    \n",
    "RabbitMQ official tutorial\n",
    "* \"Hello world\"\n",
    "* Work Queues\n",
    "\n",
    "  each task is delivered to exactly one worker. \n",
    "* publish/subscribe\n",
    "\n",
    "  deliver a message to multiple consumers. This pattern is known as \"publish/subscribe\".\n",
    "* routing\n",
    "* Topics\n",
    "* PRC"
   ]
  },
  {
   "cell_type": "code",
   "execution_count": null,
   "metadata": {},
   "outputs": [],
   "source": [
    "!pip install pika "
   ]
  },
  {
   "cell_type": "markdown",
   "metadata": {},
   "source": [
    "* server: `rabbitmq-server`\n",
    "* client: pika\n",
    "Without a server, the next step is doomed!"
   ]
  },
  {
   "cell_type": "markdown",
   "metadata": {},
   "source": [
    "# Hello world"
   ]
  },
  {
   "cell_type": "code",
   "execution_count": null,
   "metadata": {},
   "outputs": [],
   "source": [
    "import pika\n",
    "\n",
    "connection = pika.BlockingConnection(pika.ConnectionParameters('localhost'))\n",
    "# We're connected now, to a broker on the local machine \n",
    "channel = connection.channel()\n",
    "# create a channel in the TCP connection."
   ]
  },
  {
   "cell_type": "markdown",
   "metadata": {},
   "source": [
    "## Publisher"
   ]
  },
  {
   "cell_type": "markdown",
   "metadata": {},
   "source": [
    "###  `channel.queue_declare`\n"
   ]
  },
  {
   "cell_type": "code",
   "execution_count": null,
   "metadata": {},
   "outputs": [],
   "source": [
    "channel.queue_declare(queue = 'hello') \n",
    "# create a hello queue, a recipient queue, to which the message will be delivered:"
   ]
  },
  {
   "cell_type": "markdown",
   "metadata": {},
   "source": [
    "### `channel.basic_publish`"
   ]
  },
  {
   "cell_type": "code",
   "execution_count": null,
   "metadata": {},
   "outputs": [],
   "source": [
    "channel.basic_publish(exchange='',\n",
    "                      routing_key='hello',\n",
    "                      body='Hello World!')\n",
    "# use a default exchange identified by an empty string\n",
    "# This exchange is special ‒ it allows us to specify exactly to which queue the message should go.\n",
    "print(\" [x] Sent 'Hello World!'\")\n",
    "chanel.closed()\n",
    "# The connection will be closed after the message has been published."
   ]
  },
  {
   "cell_type": "markdown",
   "metadata": {},
   "source": [
    "<span style = \"font-family: New York Times; font-size:1.2em; color:green;\">\n",
    "The default exchange means that messages are routed to the queue with the name specified by routing_key, if it exists. (The default exchange is a direct exchange with no name)."
   ]
  },
  {
   "cell_type": "markdown",
   "metadata": {},
   "source": [
    "## Receiver"
   ]
  },
  {
   "cell_type": "markdown",
   "metadata": {},
   "source": [
    "### callback(ch, method, properties, body)"
   ]
  },
  {
   "cell_type": "markdown",
   "metadata": {},
   "source": [
    "<span style=\"font-family:New York Times; font-size:1em; color:green;\"> \n",
    "Receiving messages from the queue is more complex. It works by subscribing a callback function to a queue. Whenever we receive a message, this callback function is called by the Pika library."
   ]
  },
  {
   "cell_type": "code",
   "execution_count": null,
   "metadata": {},
   "outputs": [],
   "source": [
    "# #create a function which is called on incoming messages\n",
    "def callback(ch, method, properties, body):\n",
    "    print(\" [x] Received %r\" % body)"
   ]
  },
  {
   "cell_type": "markdown",
   "metadata": {},
   "source": [
    "<span style=\"font-family:New York Times; font-size:1em; color:green;\"> \n",
    "Next, we need to tell RabbitMQ that this particular callback function should receive messages from our hello queue:"
   ]
  },
  {
   "cell_type": "code",
   "execution_count": null,
   "metadata": {},
   "outputs": [],
   "source": [
    "channel.basic_consume(queue='hello',\n",
    "                      auto_ack=True,\n",
    "                      on_message_callback=callback)"
   ]
  },
  {
   "cell_type": "markdown",
   "metadata": {},
   "source": [
    "<span style=\"font-family:New York Times; font-size:1em; color:green;\"> \n",
    "In order to make sure a message is never lost, RabbitMQ supports message acknowledgments. An ack(nowledgement) is sent back by the consumer to tell RabbitMQ that a particular message had been received, processed and that RabbitMQ is free to delete it."
   ]
  },
  {
   "cell_type": "markdown",
   "metadata": {},
   "source": [
    "### `channel.start_consuming()`\n",
    "<span style=\"font-family:New York Times; font-size:1em; color:green;\"> \n",
    "And finally, we enter a never-ending loop that waits for data and runs callbacks whenever necessary."
   ]
  },
  {
   "cell_type": "markdown",
   "metadata": {},
   "source": [
    "### Temporary test"
   ]
  },
  {
   "cell_type": "code",
   "execution_count": null,
   "metadata": {},
   "outputs": [],
   "source": [
    "class MessageQueue(object):\n",
    "    def __init__(self, code, message, data):\n",
    "        self.code = code\n",
    "        self.message = message\n",
    "        self.data = data\n",
    "\n",
    "    def get_json(self):\n",
    "        return json.dumps({'code': self.code, 'msg': self.message, 'data': self.data})"
   ]
  },
  {
   "cell_type": "markdown",
   "metadata": {},
   "source": [
    "## Break down the hard parts\n",
    "[RabbitMQ callback function](https://stackoverflow.com/a/34208810/7583919)"
   ]
  },
  {
   "cell_type": "markdown",
   "metadata": {},
   "source": [
    "<span style = \"font-family: New York Times; font-size:1em; color:green;\">\n",
    "    \n",
    "callback(ch, method, properties, body)\n",
    "\n",
    "## ch\n",
    "\n",
    "\"ch\" is the \"channel\" over which the communication is happening. \n",
    "\n",
    "Think of a RabbitMQ connection in two parts:\n",
    "\n",
    "* the TCP/IP connection\n",
    "* channels within the connection\n",
    "\n",
    "the actual TCP/IP connection is expensive to create, so you only want one connection per process instance. \n",
    "\n",
    "A channel is where the work is done with RabbitMQ. a channel exists within an connection, and you need to have the channel reference so you can ack/nack messages, etc. \n",
    "\n",
    "## method\n",
    "\n",
    "i think \"method\" is meta information regarding the message delivery\n",
    "\n",
    "when you want to acknowledge the message - tell RabbitMQ that you are done processing it - you need both the channel and the delivery tag. the delivery tag comes from the method parameter. \n",
    "\n",
    "i'm not sure why this is called \"method\" - perhaps it is related to the AMQP spec, where the \"method\" is meta-data about which AMQP method was executed?\n",
    "\n",
    "## properties\n",
    "\n",
    "the \"properties\" of the message are user-defined properties on the message. you can set any arbitrary key / value pair that you want in these properties, and possibly get things like routing key used (though this may come from \"method\")\n",
    "\n",
    "properties are often uses for bits of data that your code needs to have, but aren't part of the actual message body. \n",
    "\n",
    "for example, if you had a re-sequencer process to make sure messages are processed in order, the \"properties\" would probably contain the message's sequence number."
   ]
  },
  {
   "cell_type": "markdown",
   "metadata": {},
   "source": [
    "### How the data is stored and transported?  how the data were accepted?"
   ]
  },
  {
   "cell_type": "markdown",
   "metadata": {},
   "source": [
    "# Architecture of RabbitMQ"
   ]
  },
  {
   "cell_type": "markdown",
   "metadata": {},
   "source": [
    "![](https://www.rabbitmq.com/img/tutorials/exchanges.png)"
   ]
  },
  {
   "cell_type": "markdown",
   "metadata": {},
   "source": [
    "<span style = \"font-family: New York Times; font-size:1em; color:green;\">\n",
    "Instead, the producer can only send messages to an exchange. An exchange is a very simple thing. On one side it receives messages from producers and the other side it pushes them to queues. The exchange must know exactly what to do with a message it receives. Should it be appended to a particular queue? Should it be appended to many queues? Or should it get discarded. The rules for that are defined by the exchange type."
   ]
  }
 ],
 "metadata": {
  "hide_input": false,
  "kernelspec": {
   "display_name": "Python 3",
   "language": "python",
   "name": "python3"
  },
  "language_info": {
   "codemirror_mode": {
    "name": "ipython",
    "version": 3
   },
   "file_extension": ".py",
   "mimetype": "text/x-python",
   "name": "python",
   "nbconvert_exporter": "python",
   "pygments_lexer": "ipython3",
   "version": "3.7.4"
  },
  "toc": {
   "base_numbering": 1,
   "nav_menu": {},
   "number_sections": true,
   "sideBar": true,
   "skip_h1_title": false,
   "title_cell": "Table of Contents",
   "title_sidebar": "Contents",
   "toc_cell": false,
   "toc_position": {},
   "toc_section_display": true,
   "toc_window_display": true
  },
  "varInspector": {
   "cols": {
    "lenName": 16,
    "lenType": 16,
    "lenVar": 40
   },
   "kernels_config": {
    "python": {
     "delete_cmd_postfix": "",
     "delete_cmd_prefix": "del ",
     "library": "var_list.py",
     "varRefreshCmd": "print(var_dic_list())"
    },
    "r": {
     "delete_cmd_postfix": ") ",
     "delete_cmd_prefix": "rm(",
     "library": "var_list.r",
     "varRefreshCmd": "cat(var_dic_list()) "
    }
   },
   "types_to_exclude": [
    "module",
    "function",
    "builtin_function_or_method",
    "instance",
    "_Feature"
   ],
   "window_display": false
  }
 },
 "nbformat": 4,
 "nbformat_minor": 2
}
