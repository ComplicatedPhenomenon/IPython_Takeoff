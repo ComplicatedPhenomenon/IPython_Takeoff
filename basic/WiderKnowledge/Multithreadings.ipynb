{
 "cells": [
  {
   "cell_type": "code",
   "execution_count": 1,
   "metadata": {},
   "outputs": [],
   "source": [
    "from IPython.core.interactiveshell import InteractiveShell\n",
    "InteractiveShell.ast_node_interactivity = \"all\""
   ]
  },
  {
   "cell_type": "code",
   "execution_count": 2,
   "metadata": {},
   "outputs": [],
   "source": [
    "import os \n",
    "import time"
   ]
  },
  {
   "cell_type": "markdown",
   "metadata": {},
   "source": [
    "# Multiprocessing"
   ]
  },
  {
   "cell_type": "markdown",
   "metadata": {},
   "source": [
    "## How `os.fork()` works?"
   ]
  },
  {
   "cell_type": "markdown",
   "metadata": {},
   "source": [
    "<span style=\"font-family:New York Times; font-size:1em; color:green;\">\n",
    "    \n",
    "os.fork() works by calling the underlying OS function fork()\n",
    "\n",
    "With the return value of fork() we can decide in which process we are: 0 means that we are in the child process while a positive return value means that we are in the parent process. A negative return value means that an error occurred while trying to fork. \n",
    "    \n",
    "Unix/Linux操作系统提供了一个fork()系统调用，它非常特殊。普通的函数调用，调用一次，返回一次，但是fork()调用一次，返回两次，因为操作系统自动把当前进程（称为父进程）复制了一份（称为子进程），然后，分别在父进程和子进程内返回。子进程永远返回0，而父进程返回子进程的ID。这样做的理由是，一个父进程可以fork出很多子进程，所以，父进程要记下每个子进程的ID，而子进程只需要调用getppid()就可以拿到父进程的ID。"
   ]
  },
  {
   "cell_type": "code",
   "execution_count": 4,
   "metadata": {},
   "outputs": [
    {
     "name": "stdout",
     "output_type": "stream",
     "text": [
      "Process (61698) start...\n",
      "pid = 63168, os.getpid=61698\n",
      "I (61698) just created a child process (63168).\n",
      "pid = 0, os.getpid=63168\n",
      "I am child process (63168) and my parent is 61698.\n"
     ]
    }
   ],
   "source": [
    "print('Process (%s) start...' % os.getpid())\n",
    "\n",
    "# Only works on Unix/Linux/Mac:\n",
    "pid = os.fork() # Python的os模块封装了常见的系统调用，其中就包括fork，可以在Python程序中轻松创建子进程\n",
    "print('pid = {}, os.getpid={}'.format(pid, os.getpid()))\n",
    "if pid == 0:\n",
    "    print('I am child process (%s) and my parent is %s.' % (os.getpid(), os.getppid()))\n",
    "else:\n",
    "    print('I (%s) just created a child process (%s).' % (os.getpid(), pid))\n",
    "    #print('I (%s) just created a child process (%s).' % (os.getpid(), os.getpid()))"
   ]
  },
  {
   "cell_type": "markdown",
   "metadata": {},
   "source": [
    "[Liao XueFeng](https://www.liaoxuefeng.com/wiki/0014316089557264a6b348958f449949df42a6d3a2e542c000/001431927781401bb47ccf187b24c3b955157bb12c5882d000)"
   ]
  },
  {
   "cell_type": "code",
   "execution_count": 17,
   "metadata": {},
   "outputs": [
    {
     "name": "stdout",
     "output_type": "stream",
     "text": [
      "Parent process 56804.\n",
      "Child process will start.\n",
      "Run child process TEST 56821 ...\n",
      "Child process end.\n"
     ]
    }
   ],
   "source": [
    "from multiprocessing import Process\n",
    "\n",
    "# 子进程要执行的代码\n",
    "def run_proc(name): \n",
    "    print('Run child process {} {} ...'.format(name, os.getpid()))\n",
    "\n",
    "if __name__=='__main__':\n",
    "    print('Parent process %s.' % os.getpid())\n",
    "    p = Process(target=run_proc, args=('TEST', ))\n",
    "    print('Child process will start.')\n",
    "    p.start()\n",
    "    p.join()\n",
    "    print('Child process end.')"
   ]
  },
  {
   "cell_type": "code",
   "execution_count": 18,
   "metadata": {},
   "outputs": [
    {
     "name": "stdout",
     "output_type": "stream",
     "text": [
      "[PRODUCER] Producing 1...\n",
      "[CONSUMER] Consuming 1...\n",
      "[PRODUCER] Consumer return: 200 OK\n",
      "[PRODUCER] Producing 2...\n",
      "[CONSUMER] Consuming 2...\n",
      "[PRODUCER] Consumer return: 200 OK\n",
      "[PRODUCER] Producing 3...\n",
      "[CONSUMER] Consuming 3...\n",
      "[PRODUCER] Consumer return: 200 OK\n",
      "[PRODUCER] Producing 4...\n",
      "[CONSUMER] Consuming 4...\n",
      "[PRODUCER] Consumer return: 200 OK\n",
      "[PRODUCER] Producing 5...\n",
      "[CONSUMER] Consuming 5...\n",
      "[PRODUCER] Consumer return: 200 OK\n"
     ]
    }
   ],
   "source": [
    "def consumer():\n",
    "    r = ''\n",
    "    while True:\n",
    "        n = yield r\n",
    "        if not n:\n",
    "            return\n",
    "        print('[CONSUMER] Consuming %s...' % n)\n",
    "        r = '200 OK'\n",
    "\n",
    "def produce(c):\n",
    "    c.send(None)\n",
    "    n = 0\n",
    "    while n < 5:\n",
    "        n = n + 1\n",
    "        print('[PRODUCER] Producing %s...' % n)\n",
    "        r = c.send(n)\n",
    "        print('[PRODUCER] Consumer return: %s' % r)\n",
    "    c.close()\n",
    "\n",
    "c = consumer()\n",
    "produce(c)\n"
   ]
  },
  {
   "cell_type": "markdown",
   "metadata": {},
   "source": [
    "Multithreading in Python "
   ]
  },
  {
   "cell_type": "markdown",
   "metadata": {},
   "source": [
    "将进程挂起(Suspend) 而非 阻塞(Block)\n",
    "\n",
    "如果用sleep() 进程将阻塞\n",
    "\n",
    "假设进程下有两个线程 那么这两个线程会继续运行"
   ]
  },
  {
   "cell_type": "markdown",
   "metadata": {},
   "source": [
    "Search for specific process in htop"
   ]
  },
  {
   "cell_type": "code",
   "execution_count": 20,
   "metadata": {},
   "outputs": [
    {
     "name": "stdout",
     "output_type": "stream",
     "text": [
      "Parent process 56804.\n"
     ]
    },
    {
     "data": {
      "text/plain": [
       "<multiprocessing.pool.ApplyResult at 0x109aa2128>"
      ]
     },
     "execution_count": 20,
     "metadata": {},
     "output_type": "execute_result"
    },
    {
     "name": "stdout",
     "output_type": "stream",
     "text": [
      "Run task 0 (56826)...\n"
     ]
    },
    {
     "data": {
      "text/plain": [
       "<multiprocessing.pool.ApplyResult at 0x1133b1320>"
      ]
     },
     "execution_count": 20,
     "metadata": {},
     "output_type": "execute_result"
    },
    {
     "name": "stdout",
     "output_type": "stream",
     "text": [
      "Run task 1 (56827)...\n"
     ]
    },
    {
     "data": {
      "text/plain": [
       "<multiprocessing.pool.ApplyResult at 0x1133b1470>"
      ]
     },
     "execution_count": 20,
     "metadata": {},
     "output_type": "execute_result"
    },
    {
     "data": {
      "text/plain": [
       "<multiprocessing.pool.ApplyResult at 0x105ee40b8>"
      ]
     },
     "execution_count": 20,
     "metadata": {},
     "output_type": "execute_result"
    },
    {
     "name": "stdout",
     "output_type": "stream",
     "text": [
      "Run task 2 (56828)...\n"
     ]
    },
    {
     "data": {
      "text/plain": [
       "<multiprocessing.pool.ApplyResult at 0x1133b1240>"
      ]
     },
     "execution_count": 20,
     "metadata": {},
     "output_type": "execute_result"
    },
    {
     "name": "stdout",
     "output_type": "stream",
     "text": [
      "Run task 3 (56829)...\n",
      "Waiting for all subprocesses done...\n",
      "Task 2 runs 0.85 seconds.\n",
      "Run task 4 (56828)...\n",
      "Task 4 runs 1.10 seconds.\n",
      "Task 0 runs 2.18 seconds.\n",
      "Task 1 runs 2.41 seconds.\n",
      "Task 3 runs 2.52 seconds.\n",
      "All subprocesses done.\n"
     ]
    }
   ],
   "source": [
    "from multiprocessing import Pool\n",
    "import time, random\n",
    "\n",
    "def long_time_task(name):\n",
    "    print('Run task {} ({})...'.format(name, os.getpid()))\n",
    "    start = time.time()\n",
    "    time.sleep(random.random() * 3)\n",
    "    end = time.time()\n",
    "    print('Task %s runs %0.2f seconds.' % (name, (end - start)))\n",
    "\n",
    "if __name__=='__main__':\n",
    "    print('Parent process %s.' % os.getpid())\n",
    "    p = Pool(4)\n",
    "    for i in range(5):\n",
    "        p.apply_async(long_time_task, args=(i,))\n",
    "    print('Waiting for all subprocesses done...')\n",
    "    p.close()\n",
    "    p.join()\n",
    "    print('All subprocesses done.')"
   ]
  },
  {
   "cell_type": "markdown",
   "metadata": {},
   "source": [
    "## [Python Multiprocessing: Pool vs Process – Comparative Analysis](https://www.ellicium.com/python-multiprocessing-pool-process/)"
   ]
  },
  {
   "cell_type": "markdown",
   "metadata": {},
   "source": [
    "## 进程间通信\n",
    "<span style=\"font-family:New York Times; font-size:1em; color:green;\">\n",
    "Process之间肯定是需要通信的，操作系统提供了很多机制来实现进程间的通信。Python的multiprocessing模块包装了底层的机制，提供了Queue、Pipes等多种方式来交换数据。\n",
    "\n",
    "我们以Queue为例，在父进程中创建两个子进程，一个往Queue里写数据，一个从Queue里读数据："
   ]
  },
  {
   "cell_type": "code",
   "execution_count": null,
   "metadata": {},
   "outputs": [],
   "source": [
    "from multiprocessing import Process, Queue\n",
    "import time, random\n",
    "\n",
    "# 写数据进程执行的代码:\n",
    "def write(q):\n",
    "    print('Process to write: %s' % os.getpid())\n",
    "    for value in ['A', 'B', 'C']:\n",
    "        print('Put %s to queue...' % value)\n",
    "        q.put(value)\n",
    "        time.sleep(random.random())\n",
    "\n",
    "# 读数据进程执行的代码:\n",
    "def read(q):\n",
    "    print('Process to read: %s' % os.getpid())\n",
    "    while True:\n",
    "        value = q.get(True)\n",
    "        print('Get %s from queue.' % value)\n",
    "\n",
    "if __name__=='__main__':\n",
    "    # 父进程创建Queue，并传给各个子进程：\n",
    "    q = Queue()\n",
    "    pw = Process(target=write, args=(q,))\n",
    "    pr = Process(target=read, args=(q,))\n",
    "    # 启动子进程pw，写入:\n",
    "    pw.start()\n",
    "    # 启动子进程pr，读取:\n",
    "    pr.start()\n",
    "    # 等待pw结束:\n",
    "    pw.join()\n",
    "    # pr进程里是死循环，无法等待其结束，只能强行终止:\n",
    "    pr.terminate()"
   ]
  },
  {
   "cell_type": "markdown",
   "metadata": {},
   "source": [
    "# Multithreading"
   ]
  },
  {
   "cell_type": "code",
   "execution_count": null,
   "metadata": {},
   "outputs": [],
   "source": [
    "from threading import Thread\n",
    "from queue import Queue\n",
    "class WorkerThread(Thread):\n",
    "    def __init__(self,*args,**kwargs):\n",
    "        Thread.__init__(self,*args,**kwargs)\n",
    "        self.input_queue=Queue()\n",
    "\n",
    "    def send(self,item):\n",
    "        self.input_queue.put(item)\n",
    "    def close(self):\n",
    "        self.input_queue.put(None)\n",
    "        self.input_queue.join()\n",
    "    def run(self):\n",
    "        while True:\n",
    "            item=self.input_queue.get()\n",
    "            if item is None:\n",
    "                break\n",
    "            #实际开发中，此处应该使用有用的工作代替\n",
    "            print(item)\n",
    "            self.input_queue.task_done()\n",
    "        #完成，指示收到和返回哨兵\n",
    "        self.input_queue.task_done()\n",
    "        return\n",
    "\n",
    "if __name__==\"__main__\":\n",
    "    w=WorkerThread()\n",
    "    w.start()\n",
    "    w.send(\"Mark\")\n",
    "    w.send(\"好\")\n",
    "    w.send(\"？\")\n",
    "    w.close()\n",
    "\n"
   ]
  },
  {
   "cell_type": "markdown",
   "metadata": {},
   "source": [
    "## `concurrent.futures`"
   ]
  },
  {
   "cell_type": "markdown",
   "metadata": {},
   "source": [
    "* [PYTHON: A quick introduction to the concurrent to the `concurrent.futures`](http://masnun.com/2016/03/29/python-a-quick-introduction-to-the-concurrent-futures-module.html)\n",
    "\n",
    "    The `concurrent.futures` module is part of the standard library which provides a high level API for launching async tasks\n",
    "    \n",
    "* [ThreadPoolExecutor线程池](https://www.jianshu.com/p/b9b3d66aa0be)\n",
    "* [https://realpython.com/python-concurrency/](https://realpython.com/python-concurrency/)\n",
    "* [http://python.jobbole.com/87272/](http://python.jobbole.com/87272/)"
   ]
  },
  {
   "cell_type": "markdown",
   "metadata": {},
   "source": [
    "### `ThreadPoolExecutor`"
   ]
  },
  {
   "cell_type": "code",
   "execution_count": null,
   "metadata": {},
   "outputs": [],
   "source": [
    "from concurrent.futures import ThreadPoolExecutor\n",
    "from time import sleep\n",
    "\n",
    "def return_after_5_secs(message):\n",
    "    sleep(5)\n",
    "    return message\n",
    "\n",
    "pool = ThreadPoolExecutor(3)\n",
    "# pool.submit(func, (func_parameter)) \n",
    "future = pool.submit(return_after_5_secs, (\"hello\")) # submit tasks to the pool we constructed\n",
    "print(future.done()) #  tells us if the future has resolved\n",
    "sleep(5)\n",
    "print(future.done())\n",
    "print(future.result())"
   ]
  },
  {
   "cell_type": "code",
   "execution_count": null,
   "metadata": {},
   "outputs": [],
   "source": [
    "from concurrent.futures import ThreadPoolExecutor\n",
    "import time\n",
    "\n",
    "# 参数times用来模拟网络请求的时间\n",
    "def get_html(times):\n",
    "    time.sleep(times)\n",
    "    print(\"get page {}s finished\".format(times))\n",
    "    return times\n",
    "\n",
    "executor = ThreadPoolExecutor(max_workers=2)\n",
    "# 通过submit函数提交执行的函数到线程池中，submit函数立即返回，不阻塞\n",
    "task1 = executor.submit(get_html, (3))\n",
    "task2 = executor.submit(get_html, (2))\n",
    "# done方法用于判定某个任务是否完成\n",
    "print(task1.done())\n",
    "# cancel方法用于取消某个任务,该任务没有放入线程池中才能取消成功\n",
    "print(task2.cancel())\n",
    "time.sleep(4)\n",
    "print(task1.done())\n",
    "# result方法可以获取task的执行结果\n",
    "print(task1.result())\n",
    "\n",
    "# 执行结果\n",
    "# False  # 表明task1未执行完成\n",
    "# False  # 表明task2取消失败，因为已经放入了线程池中\n",
    "# get page 2s finished\n",
    "# get page 3s finished\n",
    "# True  # 由于在get page 3s finished之后才打印，所以此时task1必然完成了\n",
    "# 3     # 得到task1的任务返回值"
   ]
  },
  {
   "cell_type": "markdown",
   "metadata": {},
   "source": [
    "### `as_completed`"
   ]
  },
  {
   "cell_type": "code",
   "execution_count": null,
   "metadata": {},
   "outputs": [],
   "source": [
    "from concurrent.futures import ThreadPoolExecutor, as_completed\n",
    "import time\n",
    "\n",
    "# 参数times用来模拟网络请求的时间\n",
    "def get_html(times):\n",
    "    time.sleep(times)\n",
    "    print(\"get page {}s finished\".format(times))\n",
    "    return times\n",
    "\n",
    "executor = ThreadPoolExecutor(max_workers=2)\n",
    "urls = [3, 2, 4] # 并不是真的url\n",
    "all_task = [executor.submit(get_html, (url)) for url in urls]\n",
    "\n",
    "for future in as_completed(all_task):\n",
    "    data = future.result()\n",
    "    print(\"in main: get page {}s success\".format(data))\n",
    "\n",
    "# 执行结果\n",
    "# get page 2s finished\n",
    "# in main: get page 2s success\n",
    "# get page 3s finished\n",
    "# in main: get page 3s success\n",
    "# get page 4s finished\n",
    "# in main: get page 4s success"
   ]
  },
  {
   "cell_type": "markdown",
   "metadata": {},
   "source": [
    "### `wait`"
   ]
  },
  {
   "cell_type": "markdown",
   "metadata": {},
   "source": [
    "<span style=\"font-family:New York Times; font-size:1em; color:green;\">wait方法接收3个参数，等待的任务序列、超时时间以及等待条件。等待条件return_when默认为ALL_COMPLETED，表明要等待所有的任务都结束。可以看到运行结果中，确实是所有任务都完成了，主线程才打印出main。等待条件还可以设置为FIRST_COMPLETED，表示第一个任务完成就停止等待。"
   ]
  },
  {
   "cell_type": "code",
   "execution_count": null,
   "metadata": {},
   "outputs": [],
   "source": [
    "from concurrent.futures import ThreadPoolExecutor, wait, ALL_COMPLETED, FIRST_COMPLETED\n",
    "import time\n",
    "\n",
    "# 参数times用来模拟网络请求的时间\n",
    "def get_html(times):\n",
    "    time.sleep(times)\n",
    "    print(\"get page {}s finished\".format(times))\n",
    "    return times\n",
    "\n",
    "executor = ThreadPoolExecutor(max_workers=2)\n",
    "urls = [3, 2, 4] # 并不是真的url\n",
    "all_task = [executor.submit(get_html, (url)) for url in urls]\n",
    "wait(all_task, return_when=ALL_COMPLETED)\n",
    "print(\"main\")\n",
    "# 执行结果 \n",
    "# get page 2s finished\n",
    "# get page 3s finished\n",
    "# get page 4s finished\n",
    "# main"
   ]
  },
  {
   "cell_type": "code",
   "execution_count": null,
   "metadata": {},
   "outputs": [],
   "source": [
    "def get_html(times):\n",
    "    time.sleep(times)\n",
    "    print(\"get page {}s finished\".format(times))\n",
    "    return times\n",
    "\n",
    "executor = ThreadPoolExecutor(max_workers=2)\n",
    "urls = [3, 2, 4] # 并不是真的url\n",
    "all_task = [executor.submit(get_html, (url)) for url in urls]\n",
    "wait(all_task, return_when=FIRST_COMPLETED)\n",
    "print(\"main\")"
   ]
  },
  {
   "cell_type": "markdown",
   "metadata": {},
   "source": [
    "https://stackoverflow.com/questions/57600892/why-is-python-multithreading-in-this-example-so-slow"
   ]
  },
  {
   "cell_type": "code",
   "execution_count": 2,
   "metadata": {},
   "outputs": [
    {
     "name": "stdout",
     "output_type": "stream",
     "text": [
      "1.3276479244232178\n"
     ]
    }
   ],
   "source": [
    "import time\n",
    "\n",
    "start_time = time.time()\n",
    "\n",
    "\n",
    "def testThread(num):\n",
    "    num = \"\"\n",
    "    for i in range(500):\n",
    "        num += str(i % 10)\n",
    "        a.write(num)\n",
    "\n",
    "\n",
    "def main():\n",
    "    for i in range(3000):\n",
    "        testThread(i)\n",
    "\n",
    "\n",
    "if __name__ == '__main__':\n",
    "    a = open('single.txt', 'w')\n",
    "    main()\n",
    "    print(time.time() - start_time)"
   ]
  },
  {
   "cell_type": "code",
   "execution_count": 3,
   "metadata": {},
   "outputs": [
    {
     "name": "stdout",
     "output_type": "stream",
     "text": [
      "6.866662263870239\n"
     ]
    }
   ],
   "source": [
    "import threading\n",
    "from concurrent.futures import ThreadPoolExecutor\n",
    "from multiprocessing.pool import ThreadPool\n",
    "import time\n",
    "\n",
    "start_time = time.time()\n",
    "\n",
    "\n",
    "def testThread(num):\n",
    "    num = \"\"\n",
    "    for i in range(500):\n",
    "        num += str(i % 10)\n",
    "        with global_lock:\n",
    "            a.write(num)\n",
    "\n",
    "\n",
    "def main():\n",
    "    test_list = [x for x in range(3000)]\n",
    "\n",
    "    with ThreadPool(4) as executor:\n",
    "        results = executor.map(testThread, test_list)\n",
    "\n",
    "    # with ThreadPoolExecutor() as executor:\n",
    "    #    results = executor.map(testThread, test_list)\n",
    "\n",
    "\n",
    "if __name__ == '__main__':\n",
    "    a = open('multi.txt', 'w')\n",
    "    global_lock = threading.Lock()\n",
    "    main()\n",
    "    print(time.time() - start_time) "
   ]
  },
  {
   "cell_type": "markdown",
   "metadata": {},
   "source": [
    "https://stackoverflow.com/questions/57618697/time-sleep-not-working-as-expected-when-adding-end-to-print"
   ]
  },
  {
   "cell_type": "code",
   "execution_count": 14,
   "metadata": {},
   "outputs": [
    {
     "name": "stdout",
     "output_type": "stream",
     "text": [
      "D\n"
     ]
    }
   ],
   "source": [
    "import time,threading\n",
    "\n",
    "msg = \"68 111 110 117 116 115 32 97 114 101 32 98 111 109 98 \"\n",
    "msg = [int(x) for x in msg.split()]\n",
    "\n",
    "def print_msg():\n",
    "    for c in msg:\n",
    "        print(chr(c)),time.sleep(0.2)\n",
    "\n",
    "threading.Thread(target=print_msg).start()"
   ]
  },
  {
   "cell_type": "code",
   "execution_count": 15,
   "metadata": {},
   "outputs": [
    {
     "name": "stdout",
     "output_type": "stream",
     "text": [
      "u\n",
      "D"
     ]
    }
   ],
   "source": [
    "import time, threading\n",
    "\n",
    "msg = \"68 111 110 117 116 115 32 97 114 101 32 98 111 109 98 \"\n",
    "msg = [int(x) for x in msg.split()]\n",
    "\n",
    "def print_msg():\n",
    "    for c in msg:\n",
    "        print(chr(c), end=\"\", flush=True)\n",
    "        time.sleep(0.2)\n",
    "\n",
    "threading.Thread(target=print_msg).start()"
   ]
  },
  {
   "cell_type": "markdown",
   "metadata": {},
   "source": [
    "# When do we need parallel computation\n",
    "\n",
    "<span style=\"font-family:New York Times; font-size:1em; color:green;\">\n",
    "    \n",
    "we would want to use the `ProcessPoolExecutor` for CPU intensive tasks. The `ThreadPoolExecutor` is better suited for network operations or I/O."
   ]
  },
  {
   "cell_type": "code",
   "execution_count": null,
   "metadata": {},
   "outputs": [],
   "source": [
    "import queue\n",
    "import threading\n",
    "import urllib.request, urllib.error, urllib.parse\n",
    "\n",
    "# called by each thread\n",
    "def get_url(q, url):\n",
    "    q.put(urllib.request.urlopen(url).read())\n",
    "\n",
    "theurls = [\"http://google.com\", \"http://yahoo.com\"]\n",
    "\n",
    "q = queue.Queue()\n",
    "\n",
    "for u in theurls:\n",
    "    t = threading.Thread(target=get_url, args = (q,u))\n",
    "    t.daemon = True\n",
    "    t.start()\n",
    "\n",
    "s = q.get()\n",
    "print(s)"
   ]
  },
  {
   "cell_type": "code",
   "execution_count": null,
   "metadata": {},
   "outputs": [],
   "source": [
    "Result = [('80407', 'about power supply of opertional amplifier', '11 hours ago'), ('80405', '5V Regulator Power Dissipation', '11 hours ago')]"
   ]
  },
  {
   "cell_type": "code",
   "execution_count": null,
   "metadata": {},
   "outputs": [],
   "source": [
    "Result[0]"
   ]
  },
  {
   "cell_type": "code",
   "execution_count": null,
   "metadata": {},
   "outputs": [],
   "source": [
    "print('\\n'.join(';'.join(i) for i in Result))"
   ]
  },
  {
   "cell_type": "code",
   "execution_count": null,
   "metadata": {},
   "outputs": [],
   "source": [
    "def findClosestPair(arr0):\n",
    "    arr0s = sorted(arr0)\n",
    "    n = len(arr0)\n",
    "    z = []\n",
    "    x = 0 \n",
    "\n",
    "    if n != len(set(arr0s)):\n",
    "        return (\"No repeated elements\")\n",
    "    else: \n",
    "        while x<n-2:\n",
    "            if arr0s[x+1]-arr0s[x] < 20:\n",
    "                if arr0s[x+1]-arr0s[x] < arr0s[x+2]-arr0s[x+1]:\n",
    "                    z.append([arr0s[x], arr0s[x+1]])\n",
    "                    x+=2 \n",
    "                else:\n",
    "                    z.append([arr0s[x+1], arr0s[x+2]])\n",
    "                    x+=3\n",
    "            else:\n",
    "                x+=1 \n",
    "        # from value in z, find the corresponding index in arr0\n",
    "        result_indexes = [[arr0.index(i[0]), arr0.index(i[1])]  for i in z] \n",
    "        # Adjust the index order\n",
    "        for i, j in enumerate(result_indexes):\n",
    "            if j[0]>j[1]:\n",
    "                result_indexes[i] = [j[1], j[0]]\n",
    "\n",
    "        result_value = [[arr0[i[0]], arr0[i[1]]] for i in result_indexes]\n",
    "        return (result_indexes,result_value )\n",
    "\n",
    "arr0 = [40, 55, 190, 80, 175, 187]\n",
    "findClosestPair(arr0)"
   ]
  },
  {
   "cell_type": "code",
   "execution_count": null,
   "metadata": {},
   "outputs": [],
   "source": [
    "\n",
    "arr0s = sorted(arr0)\n",
    "n = len(arr0)\n",
    "z = []\n",
    "x = 0 \n",
    "while x<n-2:\n",
    "    if arr0s[x+1]-arr0s[x] < 20:\n",
    "        if arr0s[x+1]-arr0s[x] < arr0s[x+2]-arr0s[x+1]:\n",
    "            z.append([arr0s[x], arr0s[x+1]])\n",
    "            x+=2 \n",
    "        else:\n",
    "            z.append([arr0s[x+1], arr0s[x+2]])\n",
    "            x+=3\n",
    "    else:\n",
    "        x+=1 \n",
    "    result_indexes = [[arr0.index(i[0]), arr0.index(i[1])]  for i in z] \n",
    "\n",
    "    for i, j in enumerate(result_indexes):\n",
    "        if j[0]>j[1]:\n",
    "            result_indexes[i] = [j[1], j[0]]\n",
    "    result_value = [[arr0[i[0]], arr0[i[1]]] for i in result_indexes]\n",
    "print(result_indexes)\n",
    "#[[0, 1], [2, 5]]\n",
    "print(result_value)\n",
    "#[[40, 55], [190, 187]]"
   ]
  },
  {
   "cell_type": "markdown",
   "metadata": {},
   "source": [
    "## Timed out input"
   ]
  },
  {
   "cell_type": "code",
   "execution_count": null,
   "metadata": {},
   "outputs": [],
   "source": [
    "import time\n",
    "from threading import Thread\n",
    "\n",
    "answer = None\n",
    "\n",
    "def check():\n",
    "    time.sleep(2)\n",
    "    if answer != None:\n",
    "        return\n",
    "    print (\"Too Slow\")\n",
    "\n",
    "Thread(target = check).start()\n",
    "\n",
    "answer = input(\"Input something: \")"
   ]
  },
  {
   "cell_type": "code",
   "execution_count": null,
   "metadata": {},
   "outputs": [],
   "source": [
    "a = 3\n",
    "pw = 'pw'\n",
    "\n",
    "\n",
    "t_end = time.time() + 5  \n",
    "print(\"Inter the pass word\")\n",
    "while time.time() < t_end:\n",
    "    what = input(\":\")\n",
    "    if pw == what:\n",
    "        print(a)\n",
    "        break \n",
    "        \n",
    "    else:\n",
    "        print(\"Wrong, Input again!\")\n",
    "        continue\n",
    "    \n",
    "print(\"Time is up\")\n",
    "\n"
   ]
  },
  {
   "cell_type": "code",
   "execution_count": null,
   "metadata": {},
   "outputs": [],
   "source": [
    "try:\n",
    "    while True:\n",
    "        data = eval(input('prompt:'))\n",
    "        print('READ:', data)\n",
    "except EOFError as e:\n",
    "    print(e)"
   ]
  }
 ],
 "metadata": {
  "hide_input": false,
  "kernelspec": {
   "display_name": "Python 3",
   "language": "python",
   "name": "python3"
  },
  "language_info": {
   "codemirror_mode": {
    "name": "ipython",
    "version": 3
   },
   "file_extension": ".py",
   "mimetype": "text/x-python",
   "name": "python",
   "nbconvert_exporter": "python",
   "pygments_lexer": "ipython3",
   "version": "3.7.2"
  },
  "toc": {
   "base_numbering": 1,
   "nav_menu": {},
   "number_sections": true,
   "sideBar": true,
   "skip_h1_title": false,
   "title_cell": "Table of Contents",
   "title_sidebar": "Contents",
   "toc_cell": false,
   "toc_position": {
    "height": "calc(100% - 180px)",
    "left": "10px",
    "top": "150px",
    "width": "165px"
   },
   "toc_section_display": true,
   "toc_window_display": true
  },
  "varInspector": {
   "cols": {
    "lenName": 16,
    "lenType": 16,
    "lenVar": 40
   },
   "kernels_config": {
    "python": {
     "delete_cmd_postfix": "",
     "delete_cmd_prefix": "del ",
     "library": "var_list.py",
     "varRefreshCmd": "print(var_dic_list())"
    },
    "r": {
     "delete_cmd_postfix": ") ",
     "delete_cmd_prefix": "rm(",
     "library": "var_list.r",
     "varRefreshCmd": "cat(var_dic_list()) "
    }
   },
   "types_to_exclude": [
    "module",
    "function",
    "builtin_function_or_method",
    "instance",
    "_Feature"
   ],
   "window_display": false
  }
 },
 "nbformat": 4,
 "nbformat_minor": 2
}
