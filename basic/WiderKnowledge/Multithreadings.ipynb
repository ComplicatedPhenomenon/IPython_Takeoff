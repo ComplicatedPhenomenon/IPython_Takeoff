{
 "cells": [
  {
   "cell_type": "code",
   "execution_count": 1,
   "metadata": {},
   "outputs": [],
   "source": [
    "from IPython.core.interactiveshell import InteractiveShell\n",
    "InteractiveShell.ast_node_interactivity = \"all\""
   ]
  },
  {
   "cell_type": "code",
   "execution_count": 3,
   "metadata": {},
   "outputs": [],
   "source": [
    "import os \n",
    "os.uname()\n",
    "os.environ\n",
    "os.environ.get('PS1');"
   ]
  },
  {
   "cell_type": "markdown",
   "metadata": {},
   "source": [
    "## How `os.fork()` works?"
   ]
  },
  {
   "cell_type": "code",
   "execution_count": 6,
   "metadata": {},
   "outputs": [
    {
     "data": {
      "text/plain": [
       "True"
      ]
     },
     "execution_count": 6,
     "metadata": {},
     "output_type": "execute_result"
    }
   ],
   "source": [
    "a = '<span style=\"font-family:New York Times; font-size:1em; color:green;\">'\n",
    "b = '<span style=\"font-family:New York Times; font-size:1em; color:green;\">'\n",
    "b==a "
   ]
  },
  {
   "cell_type": "markdown",
   "metadata": {},
   "source": [
    "<span style=\"font-family:New York Times; font-size:1em; color:green;\">\n",
    "With the return value of fork() we can decide in which process we are: 0 means that we are in the child process while a positive return value means that we are in the parent process. A negative return value means that an error occurred while trying to fork. \n",
    "    \n",
    "Unix/Linux操作系统提供了一个fork()系统调用，它非常特殊。普通的函数调用，调用一次，返回一次，但是fork()调用一次，返回两次，因为操作系统自动把当前进程（称为父进程）复制了一份（称为子进程），然后，分别在父进程和子进程内返回。子进程永远返回0，而父进程返回子进程的ID。这样做的理由是，一个父进程可以fork出很多子进程，所以，父进程要记下每个子进程的ID，而子进程只需要调用getppid()就可以拿到父进程的ID。"
   ]
  },
  {
   "cell_type": "code",
   "execution_count": 2,
   "metadata": {},
   "outputs": [
    {
     "name": "stdout",
     "output_type": "stream",
     "text": [
      "Process (1360) start...\n",
      "Process (1360) start...\n",
      "pid = 1395 \n",
      "I (1360) just created a child process (1395).\n",
      "pid = 0 \n",
      "I am child process (1395) and my parent is 1360.\n"
     ]
    }
   ],
   "source": [
    "print('Process (%s) start...' % os.getpid())\n",
    "print('Process (%s) start...' % os.getpid())\n",
    "\n",
    "# Only works on Unix/Linux/Mac:\n",
    "pid = os.fork() # Python的os模块封装了常见的系统调用，其中就包括fork，可以在Python程序中轻松创建子进程\n",
    "print('pid = {} '.format( pid))\n",
    "if pid == 0:\n",
    "    print('I am child process (%s) and my parent is %s.' % (os.getpid(), os.getppid()))\n",
    "else:\n",
    "    print('I (%s) just created a child process (%s).' % (os.getpid(), pid))\n",
    "    #print('I (%s) just created a child process (%s).' % (os.getpid(), os.getpid()))"
   ]
  },
  {
   "cell_type": "markdown",
   "metadata": {},
   "source": [
    "[Liao XueFeng](https://www.liaoxuefeng.com/wiki/0014316089557264a6b348958f449949df42a6d3a2e542c000/001431927781401bb47ccf187b24c3b955157bb12c5882d000)"
   ]
  },
  {
   "cell_type": "code",
   "execution_count": null,
   "metadata": {},
   "outputs": [],
   "source": [
    "from multiprocessing import Process\n",
    "import os\n",
    "\n",
    "# 子进程要执行的代码\n",
    "def run_proc(name):\n",
    "    print('Run child process %s (%s)...' % (name, os.getpid()))\n",
    "\n",
    "if __name__=='__main__':\n",
    "    print('Parent process %s.' % os.getpid())\n",
    "    p = Process(target=run_proc, args=('test',))\n",
    "    print('Child process will start.')\n",
    "    p.start()\n",
    "    p.join()\n",
    "    print('Child process end.')"
   ]
  },
  {
   "cell_type": "code",
   "execution_count": 11,
   "metadata": {},
   "outputs": [
    {
     "name": "stdout",
     "output_type": "stream",
     "text": [
      "[PRODUCER] Producing 1...\n",
      "[CONSUMER] Consuming 1...\n",
      "[PRODUCER] Consumer return: 200 OK\n",
      "[PRODUCER] Producing 2...\n",
      "[CONSUMER] Consuming 2...\n",
      "[PRODUCER] Consumer return: 200 OK\n",
      "[PRODUCER] Producing 3...\n",
      "[CONSUMER] Consuming 3...\n",
      "[PRODUCER] Consumer return: 200 OK\n",
      "[PRODUCER] Producing 4...\n",
      "[CONSUMER] Consuming 4...\n",
      "[PRODUCER] Consumer return: 200 OK\n",
      "[PRODUCER] Producing 5...\n",
      "[CONSUMER] Consuming 5...\n",
      "[PRODUCER] Consumer return: 200 OK\n"
     ]
    }
   ],
   "source": [
    "def consumer():\n",
    "    r = ''\n",
    "    while True:\n",
    "        n = yield r\n",
    "        if not n:\n",
    "            return\n",
    "        print('[CONSUMER] Consuming %s...' % n)\n",
    "        r = '200 OK'\n",
    "\n",
    "def produce(c):\n",
    "    c.send(None)\n",
    "    n = 0\n",
    "    while n < 5:\n",
    "        n = n + 1\n",
    "        print('[PRODUCER] Producing %s...' % n)\n",
    "        r = c.send(n)\n",
    "        print('[PRODUCER] Consumer return: %s' % r)\n",
    "    c.close()\n",
    "\n",
    "c = consumer()\n",
    "produce(c)\n"
   ]
  },
  {
   "cell_type": "markdown",
   "metadata": {},
   "source": [
    "Multithreading in Python "
   ]
  },
  {
   "cell_type": "markdown",
   "metadata": {},
   "source": [
    "将进程挂起(Suspend) 而非 阻塞(Block)\n",
    "\n",
    "如果用sleep() 进程将阻塞\n",
    "\n",
    "假设进程下有两个线程 那么这两个线程会继续运行"
   ]
  },
  {
   "cell_type": "code",
   "execution_count": null,
   "metadata": {},
   "outputs": [],
   "source": [
    "from multiprocessing import Pool\n",
    "import os, time, random\n",
    "\n",
    "def long_time_task(name):\n",
    "    print('Run task %s (%s)...' % (name, os.getpid()))\n",
    "    start = time.time()\n",
    "    time.sleep(random.random() * 3)\n",
    "    end = time.time()\n",
    "    print('Task %s runs %0.2f seconds.' % (name, (end - start)))\n",
    "\n",
    "if __name__=='__main__':\n",
    "    print('Parent process %s.' % os.getpid())\n",
    "    p = Pool(4)\n",
    "    for i in range(5):\n",
    "        p.apply_async(long_time_task, args=(i,))\n",
    "    print('Waiting for all subprocesses done...')\n",
    "    p.close()\n",
    "    p.join()\n",
    "    print('All subprocesses done.')"
   ]
  },
  {
   "cell_type": "markdown",
   "metadata": {},
   "source": [
    "## 进程间通信\n",
    "<span style=\"font-family:New York Times; font-size:1em; color:green;\">\n",
    "Process之间肯定是需要通信的，操作系统提供了很多机制来实现进程间的通信。Python的multiprocessing模块包装了底层的机制，提供了Queue、Pipes等多种方式来交换数据。\n",
    "\n",
    "我们以Queue为例，在父进程中创建两个子进程，一个往Queue里写数据，一个从Queue里读数据："
   ]
  },
  {
   "cell_type": "code",
   "execution_count": null,
   "metadata": {},
   "outputs": [],
   "source": [
    "from multiprocessing import Process, Queue\n",
    "import time, random\n",
    "\n",
    "# 写数据进程执行的代码:\n",
    "def write(q):\n",
    "    print('Process to write: %s' % os.getpid())\n",
    "    for value in ['A', 'B', 'C']:\n",
    "        print('Put %s to queue...' % value)\n",
    "        q.put(value)\n",
    "        time.sleep(random.random())\n",
    "\n",
    "# 读数据进程执行的代码:\n",
    "def read(q):\n",
    "    print('Process to read: %s' % os.getpid())\n",
    "    while True:\n",
    "        value = q.get(True)\n",
    "        print('Get %s from queue.' % value)\n",
    "\n",
    "if __name__=='__main__':\n",
    "    # 父进程创建Queue，并传给各个子进程：\n",
    "    q = Queue()\n",
    "    pw = Process(target=write, args=(q,))\n",
    "    pr = Process(target=read, args=(q,))\n",
    "    # 启动子进程pw，写入:\n",
    "    pw.start()\n",
    "    # 启动子进程pr，读取:\n",
    "    pr.start()\n",
    "    # 等待pw结束:\n",
    "    pw.join()\n",
    "    # pr进程里是死循环，无法等待其结束，只能强行终止:\n",
    "    pr.terminate()"
   ]
  },
  {
   "cell_type": "code",
   "execution_count": 1,
   "metadata": {},
   "outputs": [
    {
     "name": "stdout",
     "output_type": "stream",
     "text": [
      "Mark\n",
      "好\n",
      "？\n"
     ]
    }
   ],
   "source": [
    "from threading import Thread\n",
    "from queue import Queue\n",
    "class WorkerThread(Thread):\n",
    "    def __init__(self,*args,**kwargs):\n",
    "        Thread.__init__(self,*args,**kwargs)\n",
    "        self.input_queue=Queue()\n",
    "\n",
    "    def send(self,item):\n",
    "        self.input_queue.put(item)\n",
    "    def close(self):\n",
    "        self.input_queue.put(None)\n",
    "        self.input_queue.join()\n",
    "    def run(self):\n",
    "        while True:\n",
    "            item=self.input_queue.get()\n",
    "            if item is None:\n",
    "                break\n",
    "            #实际开发中，此处应该使用有用的工作代替\n",
    "            print(item)\n",
    "            self.input_queue.task_done()\n",
    "        #完成，指示收到和返回哨兵\n",
    "        self.input_queue.task_done()\n",
    "        return\n",
    "\n",
    "if __name__==\"__main__\":\n",
    "    w=WorkerThread()\n",
    "    w.start()\n",
    "    w.send(\"Mark\")\n",
    "    w.send(\"好\")\n",
    "    w.send(\"？\")\n",
    "    w.close()\n",
    "\n"
   ]
  },
  {
   "cell_type": "markdown",
   "metadata": {},
   "source": [
    "## `concurrent.futures`"
   ]
  },
  {
   "cell_type": "markdown",
   "metadata": {},
   "source": [
    "* [PYTHON: A quick introduction to the concurrent to the `concurrent.futures`](http://masnun.com/2016/03/29/python-a-quick-introduction-to-the-concurrent-futures-module.html)\n",
    "* [ThreadPoolExecutor线程池](https://www.jianshu.com/p/b9b3d66aa0be)\n",
    "* [https://realpython.com/python-concurrency/](https://realpython.com/python-concurrency/)\n",
    "* [http://python.jobbole.com/87272/](http://python.jobbole.com/87272/)"
   ]
  },
  {
   "cell_type": "markdown",
   "metadata": {},
   "source": [
    "### `ThreadPoolExecutor`"
   ]
  },
  {
   "cell_type": "code",
   "execution_count": 12,
   "metadata": {},
   "outputs": [
    {
     "name": "stdout",
     "output_type": "stream",
     "text": [
      "False\n",
      "True\n",
      "hello\n"
     ]
    }
   ],
   "source": [
    "from concurrent.futures import ThreadPoolExecutor\n",
    "from time import sleep\n",
    "\n",
    "def return_after_5_secs(message):\n",
    "    sleep(5)\n",
    "    return message\n",
    "\n",
    "pool = ThreadPoolExecutor(3)\n",
    "\n",
    "future = pool.submit(return_after_5_secs, (\"hello\")) # submit tasks to the pool we constructed\n",
    "print(future.done()) #  tells us if the future has resolved\n",
    "sleep(5)\n",
    "print(future.done())\n",
    "print(future.result())"
   ]
  },
  {
   "cell_type": "code",
   "execution_count": 3,
   "metadata": {},
   "outputs": [
    {
     "name": "stdout",
     "output_type": "stream",
     "text": [
      "False\n",
      "False\n",
      "get page 2s finished\n",
      "get page 3s finished\n",
      "True\n",
      "3\n"
     ]
    }
   ],
   "source": [
    "from concurrent.futures import ThreadPoolExecutor\n",
    "import time\n",
    "\n",
    "# 参数times用来模拟网络请求的时间\n",
    "def get_html(times):\n",
    "    time.sleep(times)\n",
    "    print(\"get page {}s finished\".format(times))\n",
    "    return times\n",
    "\n",
    "executor = ThreadPoolExecutor(max_workers=2)\n",
    "# 通过submit函数提交执行的函数到线程池中，submit函数立即返回，不阻塞\n",
    "task1 = executor.submit(get_html, (3))\n",
    "task2 = executor.submit(get_html, (2))\n",
    "# done方法用于判定某个任务是否完成\n",
    "print(task1.done())\n",
    "# cancel方法用于取消某个任务,该任务没有放入线程池中才能取消成功\n",
    "print(task2.cancel())\n",
    "time.sleep(4)\n",
    "print(task1.done())\n",
    "# result方法可以获取task的执行结果\n",
    "print(task1.result())\n",
    "\n",
    "# 执行结果\n",
    "# False  # 表明task1未执行完成\n",
    "# False  # 表明task2取消失败，因为已经放入了线程池中\n",
    "# get page 2s finished\n",
    "# get page 3s finished\n",
    "# True  # 由于在get page 3s finished之后才打印，所以此时task1必然完成了\n",
    "# 3     # 得到task1的任务返回值"
   ]
  },
  {
   "cell_type": "markdown",
   "metadata": {},
   "source": [
    "### `as_completed`"
   ]
  },
  {
   "cell_type": "code",
   "execution_count": 9,
   "metadata": {},
   "outputs": [
    {
     "name": "stdout",
     "output_type": "stream",
     "text": [
      "get page 2s finished\n",
      "in main: get page 2s success\n",
      "get page 3s finished\n",
      "in main: get page 3s success\n",
      "get page 4s finished\n",
      "in main: get page 4s success\n"
     ]
    }
   ],
   "source": [
    "from concurrent.futures import ThreadPoolExecutor, as_completed\n",
    "import time\n",
    "\n",
    "# 参数times用来模拟网络请求的时间\n",
    "def get_html(times):\n",
    "    time.sleep(times)\n",
    "    print(\"get page {}s finished\".format(times))\n",
    "    return times\n",
    "\n",
    "executor = ThreadPoolExecutor(max_workers=2)\n",
    "urls = [3, 2, 4] # 并不是真的url\n",
    "all_task = [executor.submit(get_html, (url)) for url in urls]\n",
    "\n",
    "for future in as_completed(all_task):\n",
    "    data = future.result()\n",
    "    print(\"in main: get page {}s success\".format(data))\n",
    "\n",
    "# 执行结果\n",
    "# get page 2s finished\n",
    "# in main: get page 2s success\n",
    "# get page 3s finished\n",
    "# in main: get page 3s success\n",
    "# get page 4s finished\n",
    "# in main: get page 4s success"
   ]
  },
  {
   "cell_type": "markdown",
   "metadata": {},
   "source": [
    "### `wait`"
   ]
  },
  {
   "cell_type": "markdown",
   "metadata": {},
   "source": [
    "<span style=\"font-family:New York Times; font-size:1em; color:green;\">wait方法接收3个参数，等待的任务序列、超时时间以及等待条件。等待条件return_when默认为ALL_COMPLETED，表明要等待所有的任务都结束。可以看到运行结果中，确实是所有任务都完成了，主线程才打印出main。等待条件还可以设置为FIRST_COMPLETED，表示第一个任务完成就停止等待。"
   ]
  },
  {
   "cell_type": "code",
   "execution_count": 4,
   "metadata": {},
   "outputs": [
    {
     "name": "stdout",
     "output_type": "stream",
     "text": [
      "get page 2s finished\n",
      "get page 3s finished\n",
      "get page 4s finished\n",
      "main\n"
     ]
    }
   ],
   "source": [
    "from concurrent.futures import ThreadPoolExecutor, wait, ALL_COMPLETED, FIRST_COMPLETED\n",
    "import time\n",
    "\n",
    "# 参数times用来模拟网络请求的时间\n",
    "def get_html(times):\n",
    "    time.sleep(times)\n",
    "    print(\"get page {}s finished\".format(times))\n",
    "    return times\n",
    "\n",
    "executor = ThreadPoolExecutor(max_workers=2)\n",
    "urls = [3, 2, 4] # 并不是真的url\n",
    "all_task = [executor.submit(get_html, (url)) for url in urls]\n",
    "wait(all_task, return_when=ALL_COMPLETED)\n",
    "print(\"main\")\n",
    "# 执行结果 \n",
    "# get page 2s finished\n",
    "# get page 3s finished\n",
    "# get page 4s finished\n",
    "# main"
   ]
  },
  {
   "cell_type": "code",
   "execution_count": 8,
   "metadata": {},
   "outputs": [
    {
     "name": "stdout",
     "output_type": "stream",
     "text": [
      "get page 2s finished\n",
      "main\n"
     ]
    }
   ],
   "source": [
    "def get_html(times):\n",
    "    time.sleep(times)\n",
    "    print(\"get page {}s finished\".format(times))\n",
    "    return times\n",
    "\n",
    "executor = ThreadPoolExecutor(max_workers=2)\n",
    "urls = [3, 2, 4] # 并不是真的url\n",
    "all_task = [executor.submit(get_html, (url)) for url in urls]\n",
    "wait(all_task, return_when=FIRST_COMPLETED)\n",
    "print(\"main\")"
   ]
  },
  {
   "cell_type": "code",
   "execution_count": null,
   "metadata": {},
   "outputs": [],
   "source": []
  }
 ],
 "metadata": {
  "hide_input": false,
  "kernelspec": {
   "display_name": "Python 3",
   "language": "python",
   "name": "python3"
  },
  "language_info": {
   "codemirror_mode": {
    "name": "ipython",
    "version": 3
   },
   "file_extension": ".py",
   "mimetype": "text/x-python",
   "name": "python",
   "nbconvert_exporter": "python",
   "pygments_lexer": "ipython3",
   "version": "3.7.2"
  },
  "toc": {
   "base_numbering": 1,
   "nav_menu": {},
   "number_sections": true,
   "sideBar": true,
   "skip_h1_title": false,
   "title_cell": "Table of Contents",
   "title_sidebar": "Contents",
   "toc_cell": false,
   "toc_position": {},
   "toc_section_display": true,
   "toc_window_display": true
  },
  "varInspector": {
   "cols": {
    "lenName": 16,
    "lenType": 16,
    "lenVar": 40
   },
   "kernels_config": {
    "python": {
     "delete_cmd_postfix": "",
     "delete_cmd_prefix": "del ",
     "library": "var_list.py",
     "varRefreshCmd": "print(var_dic_list())"
    },
    "r": {
     "delete_cmd_postfix": ") ",
     "delete_cmd_prefix": "rm(",
     "library": "var_list.r",
     "varRefreshCmd": "cat(var_dic_list()) "
    }
   },
   "types_to_exclude": [
    "module",
    "function",
    "builtin_function_or_method",
    "instance",
    "_Feature"
   ],
   "window_display": false
  }
 },
 "nbformat": 4,
 "nbformat_minor": 2
}
