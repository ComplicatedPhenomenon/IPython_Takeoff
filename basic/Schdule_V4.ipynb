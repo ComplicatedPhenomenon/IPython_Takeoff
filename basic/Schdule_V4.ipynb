{
 "cells": [
  {
   "cell_type": "code",
   "execution_count": null,
   "metadata": {},
   "outputs": [],
   "source": [
    "from IPython.core.interactiveshell import InteractiveShell\n",
    "InteractiveShell.ast_node_interactivity = 'all'"
   ]
  },
  {
   "cell_type": "code",
   "execution_count": null,
   "metadata": {},
   "outputs": [],
   "source": [
    "import random"
   ]
  },
  {
   "cell_type": "code",
   "execution_count": null,
   "metadata": {},
   "outputs": [],
   "source": [
    "import json\n",
    "import copy"
   ]
  },
  {
   "cell_type": "code",
   "execution_count": null,
   "metadata": {},
   "outputs": [],
   "source": [
    "import time\n",
    "import datetime"
   ]
  },
  {
   "cell_type": "code",
   "execution_count": null,
   "metadata": {},
   "outputs": [],
   "source": [
    "from collections import Counter"
   ]
  },
  {
   "cell_type": "markdown",
   "metadata": {},
   "source": [
    "# Prepare the data structure "
   ]
  },
  {
   "cell_type": "code",
   "execution_count": null,
   "metadata": {},
   "outputs": [],
   "source": [
    "# Slot = Index , Day , Hour\n",
    "class SlotProcessor:\n",
    "    def __init__(self, inputString):\n",
    "        stringParts = inputString.split(\",\")\n",
    "        cursorPosition = 0\n",
    "        self.id = stringParts[cursorPosition].strip()\n",
    "        cursorPosition += 1\n",
    "        self.day = stringParts[cursorPosition].strip()\n",
    "        cursorPosition += 1\n",
    "        self.time = stringParts[cursorPosition].strip()\n",
    "    \"\"\"        \n",
    "    def getSlotInfo(self):\n",
    "        print('Index: {} | Day: {} | Hour:{}'.format(self.id, self.day, self.time))\n",
    "    \"\"\""
   ]
  },
  {
   "cell_type": "code",
   "execution_count": null,
   "metadata": {},
   "outputs": [],
   "source": [
    "# Room = Index , Name , Capacity\n",
    "class RoomProcessor:\n",
    "    def __init__(self, inputString):\n",
    "        stringParts = inputString.split(\",\")\n",
    "        cursorPosition = 0\n",
    "\n",
    "        self.id = stringParts[cursorPosition].strip()\n",
    "        cursorPosition += 1\n",
    "\n",
    "        self.name = stringParts[cursorPosition].strip()\n",
    "    \"\"\"\n",
    "    def getRoomInfo(self):\n",
    "        print('Index: {} | name: {}'.format(self.id, self.name))\n",
    "    \"\"\""
   ]
  },
  {
   "cell_type": "code",
   "execution_count": null,
   "metadata": {},
   "outputs": [],
   "source": [
    "#  Course = Index , Name , Capacity , Arrangement , InstructorIndex\n",
    "class CourseProcessor:\n",
    "    def __init__(self, inputString):\n",
    "        stringParts = inputString.split(\",\")\n",
    "        cursorPosition = 0\n",
    "\n",
    "        self.id = stringParts[cursorPosition].strip()\n",
    "        cursorPosition += 1\n",
    "\n",
    "        self.name = stringParts[cursorPosition].strip()\n",
    "        cursorPosition += 1\n",
    "\n",
    "        self.capacity = stringParts[cursorPosition].strip()\n",
    "        cursorPosition += 1\n",
    "\n",
    "        self.arrangement = stringParts[cursorPosition].strip()\n",
    "        cursorPosition += 1\n",
    "\n",
    "        self.instructorIndex = int(stringParts[cursorPosition].strip())\n",
    "   \n",
    "    def getCourseInfo(self):\n",
    "        print(\"Course ID: {} | Course Name: {} | Roomtype: {} | Arrangement: {} | InstructorIndex: {}\"\\\n",
    "              .format(self.id, self.name, self.capacity, self.arrangement, self.instructorIndex))\n",
    "        \n",
    "    def getCourseName(self):\n",
    "        return self.name\n",
    "    def getCourseInstructorIndex(self):\n",
    "        return int(self.instructorIndex)\n",
    "     "
   ]
  },
  {
   "cell_type": "code",
   "execution_count": null,
   "metadata": {},
   "outputs": [],
   "source": [
    "# Instructor = Index , Name \n",
    "class InstructorProcessor:\n",
    "    def __init__(self, inputString):\n",
    "        stringParts = inputString.split(\",\")\n",
    "        cursorPosition = 0\n",
    "\n",
    "        self.id = stringParts[cursorPosition].strip()\n",
    "        cursorPosition += 1\n",
    "\n",
    "        self.name = stringParts[cursorPosition].strip()\n",
    "        cursorPosition += 1\n",
    "     \n",
    "    def getInstructorIndex(self):\n",
    "        return int(self.id)\n",
    "    \n",
    "    def getInstructorName(self):\n",
    "        return self.name\n",
    "    \n",
    "    def getInstructorInfo(self):\n",
    "        print(\"Instructor ID: {} | Instructor Name: {}\".format(self.id, self.name))\n",
    "    \n",
    "    # Highlight function getInstructorNameViaIndex(instructorIndex)\n",
    "    def getInstructorNameViaIndex(self, instructorIndex):\n",
    "        if int(self.id) == instructorIndex:\n",
    "            print (self.name) \n",
    "        else:\n",
    "            print('There is no instructor with this instructor index')\n"
   ]
  },
  {
   "cell_type": "code",
   "execution_count": null,
   "metadata": {},
   "outputs": [],
   "source": [
    "slots = []\n",
    "rooms = []\n",
    "courses = []\n",
    "instructors = []\n",
    "with open('input4.txt') as fp:\n",
    "    for line in fp:\n",
    "        if line.startswith(\"#\"):\n",
    "        # ignore comments in input file\n",
    "            continue\n",
    "        lineSections = line.split(\"=\")\n",
    "        # print(lineSections)\n",
    "        if lineSections[0].strip() == \"Slot\":\n",
    "            #1 , one    ,  8:00\n",
    "            # print(lineSections[1])\n",
    "            slots.append(SlotProcessor(lineSections[1]))\n",
    "            # slots\n",
    "        elif lineSections[0].strip() == \"Room\":\n",
    "            rooms.append(RoomProcessor(lineSections[1]))\n",
    "        elif lineSections[0].strip() == \"Course\":\n",
    "            courses.append(CourseProcessor(lineSections[1]))\n",
    "        elif lineSections[0].strip() == \"Instructor\":\n",
    "            instructors.append(InstructorProcessor(lineSections[1]))\n",
    "\n",
    "#print('number of slots: {}, number of rooms: {}, number of courses: {}, number of instructors: {}'.\\\n",
    "#     format(len(slots), len(rooms), len(courses), len(instructors)))\n"
   ]
  },
  {
   "cell_type": "code",
   "execution_count": null,
   "metadata": {},
   "outputs": [],
   "source": [
    "class courseInstructor:\n",
    "    def __init__(self, an_item_in_courses, an_item_in_instructors):\n",
    "        self.course = an_item_in_courses        \n",
    "        self.instructor = an_item_in_instructors\n",
    "    \n",
    "    def printCourseInstructorInfo(self): # Don't forget situation that 2 teachers may have the same name.\n",
    "        return('course name: {} | instructor name: {}'.\\\n",
    "              format(self.course.getCourseName(),\\\n",
    "                     self.instructor.getInstructorName())) \n",
    "    "
   ]
  },
  {
   "cell_type": "markdown",
   "metadata": {},
   "source": [
    "# Class schedule "
   ]
  },
  {
   "cell_type": "code",
   "execution_count": null,
   "metadata": {},
   "outputs": [],
   "source": [
    "def IsInstructorAvailable(which_class, CurrentInstructor, ExistedSlots, which_slot):\n",
    "    if which_class == 1:\n",
    "        return False\n",
    "    else:\n",
    "        i = 1\n",
    "        a = 0\n",
    "        while i < which_class:          \n",
    "            if CurrentInstructor == ExistedSlots[which_slot - 40 * i][0].instructor.getInstructorIndex():\n",
    "                a += 1\n",
    "            else:\n",
    "                a += 0\n",
    "            \n",
    "            i += 1\n",
    "        if a == 0:\n",
    "            return False\n",
    "        else:\n",
    "            return True\n"
   ]
  },
  {
   "cell_type": "code",
   "execution_count": null,
   "metadata": {},
   "outputs": [],
   "source": [
    "class Schedule:\n",
    "    def __init__(self, slots, rooms, courses, instructors):\n",
    "        self.schedule_slots = slots\n",
    "        self.schedule_rooms = rooms\n",
    "        self.schedule_courses = courses\n",
    "        self.schedule_instructors = instructors\n",
    "        self.slotsInfo = []\n",
    "        self.slots = []\n",
    "        self.fitness = 0.0\n",
    "        self.generation = 1\n",
    "        self.number_of_courses_for_a_class_per_week = len(self.schedule_slots)\n",
    "        self.weekday = 5\n",
    "        self.number_of_courses_for_a_class_per_day=self.number_of_courses_for_a_class_per_week/self.weekday\n",
    "\n",
    "        for i in range(0, len(slots) * len(rooms)): # range(0, 240)\n",
    "            self.slots.append([]) #Change self.slots from [] to [[],[],[]...]\n",
    "            \n",
    "    def inspectSchedule(self):\n",
    "        if self.slots[0] == []:\n",
    "                print('Wake up, before looking up the schedule, create it at first!')\n",
    "        else:\n",
    "                \n",
    "            for i in range(0, len(slots) * len(rooms)):\n",
    "                print( 'CourseInstructorInfo: {} | {}'\\\n",
    "                      .format(self.slots[i][0].printCourseInstructorInfo(), i))\n",
    "    # only can be called once        \n",
    "    def createSchedule(self):\n",
    "        number_of_courses_for_all_classes_per_week = len(self.slots) # 240\n",
    "        number_of_course_types = len(self.schedule_courses)//len(self.schedule_rooms) \n",
    "        initial_choice = [list(range(0,40)), list(range(40,80)),\\\n",
    "                          list(range(80,120)), list(range(120,160)),\\\n",
    "                          list(range(160,200)), list(range(200,240))]\n",
    "        \n",
    "        for course in self.schedule_courses:           \n",
    "            slotContent = courseInstructor(course, self.schedule_instructors[course.getCourseInstructorIndex() - 1])\n",
    "            classIndex=(int(course.id)+15)//number_of_course_types\n",
    "            InstructorIndex = course.getCourseInstructorIndex() # type(classIndex) is float\n",
    "            repeated_times_for_a_course = int(course.arrangement[1])\n",
    "            j = 0 \n",
    "            while j < repeated_times_for_a_course:\n",
    "                if len(initial_choice[classIndex - 1]) > 1:\n",
    "                    abondon_choice_1, abondon_choice_2 = random.sample(initial_choice[classIndex - 1], 2) \n",
    "                    abondon_choice = abondon_choice_2 if IsInstructorAvailable(classIndex, InstructorIndex, self.slots, abondon_choice_1)\\\n",
    "                    else abondon_choice_1\n",
    "                else: \n",
    "                    abondon_choice = initial_choice[classIndex - 1][0] \n",
    "                        \n",
    "                self.slots[abondon_choice].append(slotContent)\n",
    "                \"\"\"\n",
    "                print('OKAY! The {}th course :{}, place it to the {}th slot'.format(counter_the_number_of_arranged_course,course.getCourseName(), abondon_choice))\n",
    "                counter_the_number_of_arranged_course += 1\n",
    "                print(self.slots[abondon_choice][0].printCourseInstructorInfo()) # Different from Version1\n",
    "                \"\"\"\n",
    "                initial_choice[classIndex - 1].remove(abondon_choice)\n",
    "                j = j + 1    \n",
    "        \n",
    "        for k in range(0, len(self.slots)):\n",
    "            self.slotsInfo.append(self.slots[k][0])\n",
    "          "
   ]
  },
  {
   "cell_type": "markdown",
   "metadata": {},
   "source": [
    "## Test class `Schedule` "
   ]
  },
  {
   "cell_type": "code",
   "execution_count": null,
   "metadata": {},
   "outputs": [],
   "source": [
    "ScheduleTable = Schedule(slots, rooms, courses, instructors )"
   ]
  },
  {
   "cell_type": "code",
   "execution_count": null,
   "metadata": {},
   "outputs": [],
   "source": [
    "len(ScheduleTable.slots)\n",
    "len(ScheduleTable.slots[0])\n",
    "ScheduleTable.createSchedule()\n",
    "len(ScheduleTable.slots[0])\n",
    "len(ScheduleTable.slots)"
   ]
  },
  {
   "cell_type": "code",
   "execution_count": null,
   "metadata": {},
   "outputs": [],
   "source": [
    "ScheduleTable.slotsInfo[0]"
   ]
  },
  {
   "cell_type": "code",
   "execution_count": null,
   "metadata": {},
   "outputs": [],
   "source": [
    "ScheduleTable.slots[0]\n",
    "ScheduleTable.slots[0][0]"
   ]
  },
  {
   "cell_type": "code",
   "execution_count": null,
   "metadata": {},
   "outputs": [],
   "source": [
    "begin_time = time.time()\n",
    "i = 0\n",
    "while i < 100:\n",
    "    ScheduleTable.createSchedule()\n",
    "    i +=1 \n",
    "cost_time = time.time() -begin_time\n",
    "cost_time"
   ]
  },
  {
   "cell_type": "code",
   "execution_count": null,
   "metadata": {},
   "outputs": [],
   "source": [
    "ScheduleTable.inspectSchedule()"
   ]
  },
  {
   "cell_type": "code",
   "execution_count": null,
   "metadata": {},
   "outputs": [],
   "source": [
    "#ScheduleTable.mutation()"
   ]
  },
  {
   "cell_type": "markdown",
   "metadata": {},
   "source": [
    "## Test method of computing of  fitness"
   ]
  },
  {
   "cell_type": "markdown",
   "metadata": {},
   "source": [
    "<span style = \"font-family:Times New Roman ; font-size: 1.5em; color: green\"> \n",
    "ScheduleTable.slotsInfo = [self.slot[0][0],... self.slot[k][0], ..., self.slot[239][0]]\n",
    "   \n",
    "ScheduleTable.slots = [[slotContent], [slotContent]...]  "
   ]
  },
  {
   "cell_type": "markdown",
   "metadata": {},
   "source": [
    "<span style = \"font-family:Times New Roman ; font-size: 1.5em; color: red\"> \n",
    "Clearly, we can judge the ScheduleTable via withdrawing the data from ScheduleTable.slotsInfo"
   ]
  },
  {
   "cell_type": "markdown",
   "metadata": {},
   "source": [
    "`self.slots[k][0] is slotContent`\n",
    "\n",
    "`slotContent = courseInstructor(course, self.schedule_instructors[course.getCourseInstructorIndex() - 1])`\n"
   ]
  },
  {
   "cell_type": "code",
   "execution_count": null,
   "metadata": {},
   "outputs": [],
   "source": [
    "1%8"
   ]
  },
  {
   "cell_type": "code",
   "execution_count": null,
   "metadata": {},
   "outputs": [],
   "source": [
    "0<=1<2<3"
   ]
  },
  {
   "cell_type": "code",
   "execution_count": null,
   "metadata": {},
   "outputs": [],
   "source": [
    "239%30\n",
    "239//8"
   ]
  },
  {
   "cell_type": "code",
   "execution_count": null,
   "metadata": {},
   "outputs": [],
   "source": [
    "239//30 # a/b how many b in a"
   ]
  },
  {
   "cell_type": "code",
   "execution_count": null,
   "metadata": {},
   "outputs": [],
   "source": [
    "1//30"
   ]
  },
  {
   "cell_type": "markdown",
   "metadata": {},
   "source": [
    "### Withdraw the data structure "
   ]
  },
  {
   "cell_type": "markdown",
   "metadata": {},
   "source": [
    "Design the data structure for business need a little intelligence, don't take too much time on it."
   ]
  },
  {
   "cell_type": "code",
   "execution_count": null,
   "metadata": {},
   "outputs": [],
   "source": [
    "courseToBeEvaluated = []\n",
    "for i in range(0,30):\n",
    "    courseToBeEvaluated.append([])\n",
    "    \n",
    "i = 0\n",
    "for k in ScheduleTable.slotsInfo:\n",
    "    m =  i // 8        \n",
    "    courseToBeEvaluated[m].append(k)\n",
    "    i += 1\n",
    "\n",
    "courseToBeEvaluated[0]"
   ]
  },
  {
   "cell_type": "code",
   "execution_count": null,
   "metadata": {},
   "outputs": [],
   "source": [
    "\"\"\"\n",
    "zzz = []\n",
    "courseNamesSet = []\n",
    "courseArrangementSet = []\n",
    "zzzz = [[], []]\n",
    "for x in courseToBeEvaluated[0]:\n",
    "    zzz.append({\"Course\": x.course.name, \"Arrangement\": x.course.arrangement})\n",
    "    courseNamesSet.append(x.course.name)\n",
    "    courseArrangementSet.append(x.course.arrangement)\n",
    "    zzzz[0].append(x.course.name)\n",
    "    zzzz[1].append(x.course.arrangement)\n",
    "    \n",
    "zzz\n",
    "courseNamesSet\n",
    "courseArrangementSet\n",
    "zzzz \n",
    "\"\"\""
   ]
  },
  {
   "cell_type": "code",
   "execution_count": null,
   "metadata": {},
   "outputs": [],
   "source": [
    "z = [[], []]\n",
    "for x in courseToBeEvaluated[0]:\n",
    "    z[0].append(x.course.name)\n",
    "    z[1].append(x.course.arrangement)\n",
    "\n",
    "z"
   ]
  },
  {
   "cell_type": "code",
   "execution_count": null,
   "metadata": {},
   "outputs": [],
   "source": [
    "ScheduleOfClass = []\n",
    "x = len(courseToBeEvaluated)\n",
    "for i in range(x):\n",
    "    ScheduleOfClass.append([[], []])\n",
    "ScheduleOfClass"
   ]
  },
  {
   "cell_type": "code",
   "execution_count": null,
   "metadata": {},
   "outputs": [],
   "source": [
    "for i in range(x):\n",
    "    for j in courseToBeEvaluated[i]:\n",
    "        ScheduleOfClass[i][0].append(j.course.name)\n",
    "        ScheduleOfClass[i][1].append(j.course.arrangement)\n",
    "\n",
    "ScheduleOfClass"
   ]
  },
  {
   "cell_type": "code",
   "execution_count": null,
   "metadata": {},
   "outputs": [],
   "source": [
    "ScheduleOfClass[1]"
   ]
  },
  {
   "cell_type": "markdown",
   "metadata": {},
   "source": [
    "**Avoid this condition**"
   ]
  },
  {
   "cell_type": "code",
   "execution_count": null,
   "metadata": {},
   "outputs": [],
   "source": [
    "m= dict(Counter(ScheduleOfClass[1][1][0:4]))\n",
    "m\n",
    "m['A5']\n",
    "m['A3']"
   ]
  },
  {
   "cell_type": "code",
   "execution_count": null,
   "metadata": {},
   "outputs": [],
   "source": [
    "m.keys()\n",
    "list(m.keys())"
   ]
  },
  {
   "cell_type": "code",
   "execution_count": null,
   "metadata": {},
   "outputs": [],
   "source": [
    "'A5' in list(m.keys())\n",
    "'A5' not in list(m.keys())"
   ]
  },
  {
   "cell_type": "code",
   "execution_count": null,
   "metadata": {},
   "outputs": [],
   "source": [
    "for ooo in z:\n",
    "    ooo \n",
    "    calculateFitness(ooo)"
   ]
  },
  {
   "cell_type": "code",
   "execution_count": null,
   "metadata": {},
   "outputs": [],
   "source": [
    "calculateFitness(ooo)"
   ]
  },
  {
   "cell_type": "code",
   "execution_count": null,
   "metadata": {},
   "outputs": [],
   "source": [
    "m= dict(Counter(ooo[1][0:4]))\n",
    "\n",
    "m['A5'] "
   ]
  },
  {
   "cell_type": "markdown",
   "metadata": {},
   "source": [
    "### Evaluate a course order in a day"
   ]
  },
  {
   "cell_type": "markdown",
   "metadata": {},
   "source": [
    "Cut`ScheduleTable.slotsInfo`  into slices, A slices represents the courses for a class a day  "
   ]
  },
  {
   "cell_type": "code",
   "execution_count": null,
   "metadata": {},
   "outputs": [],
   "source": [
    "def calculateFitnessForAStrip(courseForADayAClass):\n",
    "    getMark = 0\n",
    "    x = len(list(dict(Counter(courseForADayAClass[0])).values()))\n",
    "    if x == 8:  # Check if the course has no repeated items\n",
    "        getMark += 5\n",
    "    elif x == 7:\n",
    "        getMark += 3\n",
    "    elif x == 6:# 4+2*2 or 5+3*1\n",
    "        getMark += 0\n",
    "    else:\n",
    "        getMark += -1\n",
    "    m= dict(Counter(courseForADayAClass[1][0:4]))\n",
    "    n = dict(Counter(courseForADayAClass[1][4:8]))\n",
    "    \n",
    "    if 'A5' in list(m.keys()) and 'A5' not in list(n.keys()):\n",
    "        if m['A5'] == 2:\n",
    "            getMark +=3\n",
    "    if 'A5' not in list(m.keys()) and 'A5' in list(n.keys()):\n",
    "        if n['A5'] == 2:\n",
    "            getMark -=3\n",
    "    else:\n",
    "        getMark += 0\n",
    "\n",
    "    return getMark"
   ]
  },
  {
   "cell_type": "code",
   "execution_count": null,
   "metadata": {},
   "outputs": [],
   "source": [
    "def calculateFitness(ScheduleofClass):\n",
    "    mark = 0\n",
    "    for ooo in ScheduleOfClass:\n",
    "        a = calculateFitnessForAStrip(ooo)\n",
    "        mark += a\n",
    "    return mark   "
   ]
  },
  {
   "cell_type": "code",
   "execution_count": null,
   "metadata": {},
   "outputs": [],
   "source": [
    "calculateFitness(ScheduleOfClass)"
   ]
  },
  {
   "cell_type": "code",
   "execution_count": null,
   "metadata": {},
   "outputs": [],
   "source": []
  },
  {
   "cell_type": "code",
   "execution_count": null,
   "metadata": {},
   "outputs": [],
   "source": [
    "begin_time = time.time()\n",
    "i = 0\n",
    "while i < 100:\n",
    "    ScheduleTable.createSchedule()\n",
    "    i +=1 \n",
    "cost_time = time.time() -begin_time\n",
    "cost_time"
   ]
  },
  {
   "cell_type": "markdown",
   "metadata": {},
   "source": [
    "### Create a bunch of ScheduleTable"
   ]
  },
  {
   "cell_type": "code",
   "execution_count": null,
   "metadata": {},
   "outputs": [],
   "source": [
    "chromosomes = []\n",
    "\n",
    "for i in range(0, 100):\n",
    "    chromosome =  Schedule(slots, rooms, courses, instructors )\n",
    "    chromosome.createSchedule()\n",
    "    chromosomes.append({\n",
    "        \"chromosome\": chromosome,\n",
    "        \"fitness\": chromosome.calculateFitness()\n",
    "    })"
   ]
  },
  {
   "cell_type": "code",
   "execution_count": null,
   "metadata": {},
   "outputs": [],
   "source": [
    "i = 0\n",
    "while i < 1:\n",
    "    ScheduleTable = Schedule(slots, rooms, courses, instructors)\n",
    "    ScheduleTable.createSchedule()\n",
    "    print(ScheduleTable.calculateFitness())\n",
    "    xxx = ScheduleTable.mutation()\n",
    "    print(xxx.calculateFitness())\n",
    "    i += 1"
   ]
  },
  {
   "cell_type": "markdown",
   "metadata": {},
   "source": [
    "## Mutate a available schedule"
   ]
  },
  {
   "cell_type": "code",
   "execution_count": null,
   "metadata": {},
   "outputs": [],
   "source": [
    "def validMutation(self):\n",
    "    p4 = copy.deepcopy(self)\n",
    "    t1 = random.randint(\n",
    "        0,\n",
    "        len(self.schedule_rooms) -\n",
    "        1) * self.number_of_courses_for_a_class_per_week  # t1 <- [0,200)\n",
    "\n",
    "    classIndex1, classIndex2 = random.sample(\n",
    "        range(t1, t1 + self.number_of_courses_for_a_class_per_week), 2)\n",
    "    p4.slotsInfo[classIndex1][\"class\"], p4.slotsInfo[classIndex2][\n",
    "        \"class\"] = p4.slotsInfo[classIndex2][\"class\"], p4.slotsInfo[\n",
    "            classIndex1][\"class\"]\n",
    "    p4.generation = self.generation + 1\n",
    "    return p4"
   ]
  },
  {
   "cell_type": "markdown",
   "metadata": {},
   "source": [
    "# Check if a schedule is available or not"
   ]
  },
  {
   "cell_type": "code",
   "execution_count": null,
   "metadata": {},
   "outputs": [],
   "source": [
    "anAvailableSchedule = ScheduleTable.slotsInfo"
   ]
  },
  {
   "cell_type": "code",
   "execution_count": null,
   "metadata": {},
   "outputs": [],
   "source": [
    "valueOfScheduleTable = ScheduleTable.calculateFitness()"
   ]
  },
  {
   "cell_type": "code",
   "execution_count": null,
   "metadata": {},
   "outputs": [],
   "source": [
    "valueOfScheduleTable "
   ]
  },
  {
   "cell_type": "code",
   "execution_count": null,
   "metadata": {},
   "outputs": [],
   "source": [
    "def confSlot(anObjectWithAListType):\n",
    "    conf_Slot = []\n",
    "    temp = 0\n",
    "    for k in range(0, 6):\n",
    "        conf_Slot.append([])\n",
    "    for k1 in anObjectWithAListType:\n",
    "        for k2 in anObjectWithAListType:\n",
    "            if k1[\"teacher\"] == k2[\"teacher\"]:\n",
    "                conf_Slot[temp].append(k2)\n",
    "        temp = temp + 1\n",
    "    return conf_Slot"
   ]
  },
  {
   "cell_type": "code",
   "execution_count": null,
   "metadata": {},
   "outputs": [],
   "source": [
    "def removeDuplication(anObjectWithAListType):\n",
    "    resultList = []\n",
    "    for item in anObjectWithAListType:\n",
    "        if not item in resultList:\n",
    "            resultList.append(item)\n",
    "    return resultList"
   ]
  },
  {
   "cell_type": "code",
   "execution_count": null,
   "metadata": {},
   "outputs": [],
   "source": [
    "def confTest(scheduleSlotsInfo): # scheduleSlotsInfo [{},{},{},{},{},{}]\n",
    "    tempTimeSlotTeacherInfo = []  \n",
    "    test = []\n",
    "   \n",
    "    for i in range(0, 40):\n",
    "        tempTimeSlotTeacherInfo.append([])\n",
    "        \n",
    "    for temp_class in scheduleSlotsInfo: # temp_class {}\n",
    "        # intention: \n",
    "    \n",
    "        whichSlot = temp_class[\"slotIndex\"] # slotIndex ~ [0, 240)     \n",
    "        whichTeacherToThisSlot = temp_class[\"class\"].course.instructorIndex\n",
    "        tempTimeSlotTeacherInfo[whichSlot % 40].append({\"teacher\": whichTeacherToThisSlot,\"time\": whichSlot})# Highlight\n",
    "        \n",
    "    for tmpTSTI in tempTimeSlotTeacherInfo: # the datatype of tmpTSTI  [{},{},{},{},{},{}]\n",
    "        t = confSlot(tmpTSTI) # the data type of t [[{},{},...,{}]]\n",
    "        # Intention: Check confliction\n",
    "        \n",
    "        # counter , tmpTSTI[i][\"teacher\"]\n",
    "        \n",
    "        \n",
    "        \n",
    "        for j in range(0, 6):\n",
    "            if len(t[j]) >= 2:\n",
    "                test.append(t[j])\n",
    "        test = removeDuplication(test)\n",
    "    return test"
   ]
  },
  {
   "cell_type": "code",
   "execution_count": null,
   "metadata": {},
   "outputs": [],
   "source": [
    "confTest(anAvailableSchedule)"
   ]
  },
  {
   "cell_type": "markdown",
   "metadata": {},
   "source": [
    "<span style = \"font-family:Times New Roman ; font-size: 1.5em; color: green\"> \n",
    "What does confTest implement?\n",
    "</span>"
   ]
  },
  {
   "cell_type": "markdown",
   "metadata": {},
   "source": [
    "# Class Genetic Algorithm"
   ]
  },
  {
   "cell_type": "code",
   "execution_count": null,
   "metadata": {},
   "outputs": [],
   "source": [
    "class GeneticAlgorithm:\n",
    "    def __init__(self, slots, rooms, courses, instructors):\n",
    "        self.slots = slots\n",
    "        self.rooms = rooms\n",
    "        self.num_Room=len(self.rooms)\n",
    "        self.courses = courses\n",
    "        self.instructors = instructors\n",
    "        self.week_time=len(slots)\n",
    "        self.chromosomes = []\n",
    "        self.newChromosomes = []\n",
    "        self.newChromosomeCount = 0\n",
    "        self.lastFitness = 0\n",
    "        self.fitnessConstantSince = 0\n",
    "        self.chromosome_num=[]\n",
    "        self.selectedPairs=[]\n",
    "        self.ppt_data=[]\n",
    "\n",
    "\n",
    "    def initChromosomes(self, numberOfChromosomes):\n",
    "        for i in range(0, numberOfChromosomes):\n",
    "            chromosome = Schedule(self.slots, self.rooms, self.courses, self.instructors)\n",
    "            chromosome.createSchedule()\n",
    "            self.chromosomes.append({\"chromosome\": chromosome, \"fitness\": chromosome.calculateFitness()})\n",
    "            self.chromosome_num.append(i)\n",
    "        for i in range(0,numberOfChromosomes//2):\n",
    "            self.selectedPairs.append([])\n",
    "\n",
    "    def confSlot(self, list):\n",
    "        conf_Slot=[]\n",
    "        temp = 0\n",
    "        for k in range(0,self.num_Room):\n",
    "            conf_Slot.append([])\n",
    "        for k1 in list:\n",
    "            for k2 in list:\n",
    "               if k1[\"teacher\"]==k2[\"teacher\"]:\n",
    "                   conf_Slot[temp].append(k2)\n",
    "            temp=temp+1\n",
    "        return conf_Slot\n",
    "\n",
    "    def delete(self, list):\n",
    "        resultList = []\n",
    "        for item in list:\n",
    "            if not item in resultList:\n",
    "                resultList.append(item)\n",
    "        return resultList\n",
    "\n",
    "    #TODO 冲突检测函数\n",
    "    def confTest(self,sch):\n",
    "        temptime=[]\n",
    "        tempteacher=[]\n",
    "        temptimeteacher=[]\n",
    "        test=[]\n",
    "        count=-1\n",
    "        num=0\n",
    "        for i in range(0,self.week_time):\n",
    "            tempteacher.append([])\n",
    "            temptime.append([])\n",
    "            temptimeteacher.append([])\n",
    "        for temp_class in sch:\n",
    "            temp1Index= temp_class[\"slotIndex\"]\n",
    "            count=temp1Index % self.week_time\n",
    "            temp2Index = sch[temp1Index][\"class\"].course.instructorIndex\n",
    "            temptimeteacher[temp1Index % self.week_time].append({\"teacher\":temp2Index,\"time\":temp1Index})\n",
    "        for somesch in temptimeteacher: # somesch: [{\"teacher\": teacher,\"time\": time}, {}, ..., {}]\n",
    "            t=self.confSlot(somesch) # t: [[{\"teacher\": teacher,\"time\": time}, {}, ..., {}]]\n",
    "            for j in range(0,self.num_Room):\n",
    "                if len(t[j])>=2:\n",
    "                    test.append(t[j])\n",
    "            test=self.delete(test)\n",
    "        return test\n",
    "\n",
    "    #TODO 冲突消除\n",
    "    def confClear(self,classlist):\n",
    "        list=self.confTest(classlist)\n",
    "        for someconf in list:\n",
    "            x0=random.randint(0,len(someconf)-1)\n",
    "            x1=someconf[x0][\"time\"]\n",
    "            x2=random.randint((x1/self.week_time)*self.week_time,(x1/self.week_time)*self.week_time+self.week_time-1)\n",
    "            temp=classlist[x1][\"class\"]\n",
    "            classlist[x1][\"class\"]=classlist[x2][\"class\"]\n",
    "            classlist[x2][\"class\"]=temp\n",
    "        return classlist\n",
    "\n",
    "    def continueIteration(self):\n",
    "        for chromosome in self.chromosomes:\n",
    "            if chromosome[\"fitness\"] ==1:\n",
    "                L = self.confTest(self.chromosomes[len(self.chromosomes) - 1][\"chromosome\"].classes)\n",
    "                print(L)\n",
    "                while len(L) != 0:\n",
    "                    self.chromosomes[len(self.chromosomes) - 1][\"chromosome\"].classes=self.confClear(self.chromosomes[len(self.chromosomes) - 1][\"chromosome\"].classes)\n",
    "                    self.chromosomes[len(self.chromosomes) - 1][\"fitness\"] = self.chromosomes[len(self.chromosomes) - 1][\"chromosome\"].calculateFitness()\n",
    "                    L=self.confTest(self.chromosomes[len(self.chromosomes) - 1][\"chromosome\"].classes)\n",
    "                print(L)\n",
    "                print(\"Best Fitness in Generation: \" + str(chromosome[\"fitness\"]))\n",
    "                chromosome[\"chromosome\"].printObject()\n",
    "                chromosome[\"chromosome\"].saveHtml('schedule_output.html')\n",
    "                chromosome[\"chromosome\"].savejson('schedule_output.txt')\n",
    "                return False\n",
    "\n",
    "        print(str(self.chromosomes[len(self.chromosomes) - 1][\"fitness\"]))\n",
    "        self.ppt_data.append(str(self.chromosomes[len(self.chromosomes) - 1][\"fitness\"]))\n",
    "        f = open('ppt_data.txt', 'w')\n",
    "        f.write(json.dumps(self.ppt_data))\n",
    "        f.close()\n",
    "        if self.lastFitness == self.chromosomes[len(self.chromosomes) - 1][\"fitness\"]:\n",
    "            self.fitnessConstantSince += 1\n",
    "            if self.fitnessConstantSince >= 100:\n",
    "                L = self.confTest(self.chromosomes[len(self.chromosomes) - 1][\"chromosome\"].classes)\n",
    "                print(L)\n",
    "                print(self.chromosomes[len(self.chromosomes) - 1][\"chromosome\"])\n",
    "                while len(L) != 0:\n",
    "                    self.chromosomes[len(self.chromosomes) - 1][\"chromosome\"].classes = self.confClear(self.chromosomes[len(self.chromosomes) - 1][\"chromosome\"].classes)\n",
    "                    self.chromosomes[len(self.chromosomes) - 1][\"fitness\"] = self.chromosomes[len(self.chromosomes) - 1][\"chromosome\"].calculateFitness()\n",
    "                    L = self.confTest(self.chromosomes[len(self.chromosomes) - 1][\"chromosome\"].classes)\n",
    "                print(L)\n",
    "\n",
    "                print(str(self.chromosomes[len(self.chromosomes) - 1][\"fitness\"]))\n",
    "                self.chromosomes[len(self.chromosomes) - 1][\"chromosome\"].printObject()\n",
    "                self.chromosomes[len(self.chromosomes) - 1][\"chromosome\"].saveHtml('schedule_output.html')\n",
    "                chromosome[\"chromosome\"].savejson('schedule_output.txt')\n",
    "                print(\"Fitness score does not seem improve anymore. This schedule may not satify some requirements but a \\\"significant\\\" time is passed, so it is returned. Please try again with (smaller) inputs\")\n",
    "                return False\n",
    "        else:\n",
    "            self.lastFitness = self.chromosomes[len(self.chromosomes) - 1][\"fitness\"]\n",
    "            self.fitnessConstantSince = 0\n",
    "        return True\n",
    "\n",
    "    def execute(self):\n",
    "        while self.continueIteration():\n",
    "\n",
    "            self.newChromosomes = []\n",
    "            for mutationIndex in range(len(self.chromosomes) // 2, len(self.chromosomes)):\n",
    "                if random.randint(0, 4) == 1:\n",
    "                    # mutation probablity 25%\n",
    "                    p4 = self.chromosomes[mutationIndex][\"chromosome\"].mutation()\n",
    "                    self.newChromosomes.append({\"chromosome\": p4, \"fitness\": p4.calculateFitness()})\n",
    "            \n",
    "            print(len(self.newChromosomes))\n",
    "            self.chromosomes = sorted(self.chromosomes, key=itemgetter('fitness'))\n",
    "\n",
    "            for i in range(0, min(len(self.newChromosomes), int(len(self.chromosomes) * 0.8))): # keep the top 20% chromosomes\n",
    "                L1 = self.confTest(self.newChromosomes[i][\"chromosome\"].classes)\n",
    "                while len(L1) != 0: # until L1 == 0, stop executing this block, that means, the newChrosomes has no confliction.\n",
    "                    self.newChromosomes[i][\"chromosome\"].classes = self.confClear(self.newChromosomes[i][\"chromosome\"].classes)\n",
    "                    self.newChromosomes[i][\"fitness\"] = self.newChromosomes[i][\"chromosome\"].calculateFitness()\n",
    "                    L1 = self.confTest(self.newChromosomes[i][\"chromosome\"].classes)\n",
    "                self.chromosomes[i] = self.newChromosomes[i]\n"
   ]
  }
 ],
 "metadata": {
  "hide_input": false,
  "kernelspec": {
   "display_name": "Python 3",
   "language": "python",
   "name": "python3"
  },
  "language_info": {
   "codemirror_mode": {
    "name": "ipython",
    "version": 3
   },
   "file_extension": ".py",
   "mimetype": "text/x-python",
   "name": "python",
   "nbconvert_exporter": "python",
   "pygments_lexer": "ipython3",
   "version": "3.7.2"
  },
  "toc": {
   "base_numbering": 1,
   "nav_menu": {},
   "number_sections": true,
   "sideBar": true,
   "skip_h1_title": false,
   "title_cell": "Table of Contents",
   "title_sidebar": "Contents",
   "toc_cell": false,
   "toc_position": {
    "height": "calc(100% - 180px)",
    "left": "10px",
    "top": "150px",
    "width": "211px"
   },
   "toc_section_display": true,
   "toc_window_display": true
  },
  "varInspector": {
   "cols": {
    "lenName": 16,
    "lenType": 16,
    "lenVar": 40
   },
   "kernels_config": {
    "python": {
     "delete_cmd_postfix": "",
     "delete_cmd_prefix": "del ",
     "library": "var_list.py",
     "varRefreshCmd": "print(var_dic_list())"
    },
    "r": {
     "delete_cmd_postfix": ") ",
     "delete_cmd_prefix": "rm(",
     "library": "var_list.r",
     "varRefreshCmd": "cat(var_dic_list()) "
    }
   },
   "types_to_exclude": [
    "module",
    "function",
    "builtin_function_or_method",
    "instance",
    "_Feature"
   ],
   "window_display": false
  }
 },
 "nbformat": 4,
 "nbformat_minor": 2
}
