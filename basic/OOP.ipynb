{
 "cells": [
  {
   "cell_type": "code",
   "execution_count": null,
   "metadata": {
    "ExecuteTime": {
     "end_time": "2020-02-29T03:55:05.429647Z",
     "start_time": "2020-02-29T03:55:05.426115Z"
    }
   },
   "outputs": [],
   "source": [
    "from IPython.core.interactiveshell import InteractiveShell\n",
    "InteractiveShell.ast_node_interactivity = \"all\" "
   ]
  },
  {
   "cell_type": "markdown",
   "metadata": {},
   "source": [
    "https://stackoverflow.com/questions/57830402/whats-the-meaning-of-creating-new-variables-at-a-class-instance\n",
    "\n",
    "https://stackoverflow.com/questions/38710765/python-classs-attribute-not-in-init"
   ]
  },
  {
   "cell_type": "markdown",
   "metadata": {},
   "source": [
    "# Inheritance（继承）"
   ]
  },
  {
   "cell_type": "markdown",
   "metadata": {},
   "source": [
    "<span style=\"font-family: New York Times; font-size: 1em; color: green;\">\n",
    "当在Python中出现继承的情况时，一定要注意初始化函数`__init__`的行为:"
   ]
  },
  {
   "cell_type": "code",
   "execution_count": null,
   "metadata": {
    "ExecuteTime": {
     "end_time": "2020-03-01T14:00:37.217941Z",
     "start_time": "2020-03-01T14:00:37.197276Z"
    }
   },
   "outputs": [],
   "source": [
    "class Parent(object):\n",
    "    def __init__(self, name):\n",
    "        self.name = name\n",
    "        print(\"create an instance of:\", self.__class__.__name__)\n",
    "        print(\"name attribute is:\", self.name)\n",
    "\n",
    "# 如果子类没有定义自己的初始化函数，父类的初始化函数会被默认调用；\n",
    "# 但是如果要实例化子类的对象，则只能传入父类的初始化函数对应的参数，否则会出错。\n",
    "class Child1(Parent):\n",
    "    pass\n",
    "\n",
    "# 如果子类定义了自己的初始化函数，而在子类中没有显示调用父类的初始化函数，则父类的属性不会被初始化\n",
    "class Child2(Parent):\n",
    "    def __init__(self, name):\n",
    "        print(\"Do nothing with the arguments passed in\")\n",
    "        \n",
    "# 如果子类定义了自己的初始化函数，在子类中显示调用父类，子类和父类的属性都会被初始化\n",
    "class Child3(Parent):\n",
    "    def __init__(self, name):\n",
    "        print(\"Hi, \" + name)\n",
    "        Parent.__init__(self, name) #Parent.__init__(self, \"Jerry\")\n",
    "        print(\"Hi, \" + name)\n",
    "print(\"xxxxxxxxxxxxxxxxxxxxxxx\")    \n",
    "A = Parent(\"Man\")\n",
    "print(\"xxxxxxxxxxxxxxxxxxxxxxx\")    \n",
    "c1 = Child1(\"init Child\") \n",
    "print(\"xxxxxxxxxxxxxxxxxxxxxxx\")    \n",
    "c2 = Child2(\"Hebrew\")\n",
    "print(\"xxxxxxxxxxxxxxxxxxxxxxx\")    \n",
    "c3 = Child3(\"Volter\")"
   ]
  },
  {
   "cell_type": "markdown",
   "metadata": {},
   "source": [
    "# polymorphism（多态）"
   ]
  },
  {
   "cell_type": "markdown",
   "metadata": {},
   "source": [
    "function as first class object, does that makes python functional programming?"
   ]
  },
  {
   "cell_type": "code",
   "execution_count": null,
   "metadata": {
    "ExecuteTime": {
     "end_time": "2019-11-21T11:41:40.950411Z",
     "start_time": "2019-11-21T11:41:40.938492Z"
    }
   },
   "outputs": [],
   "source": [
    "class ArmyDog(object):\n",
    "    def bite_enemy(self):\n",
    "        print('追击敌人')\n",
    "\n",
    "\n",
    "class DrugDog(object):\n",
    "    def track_drug(self):\n",
    "        print('追查毒品')\n",
    "\n",
    "\n",
    "class Person(object):\n",
    "    def work_with_army(self, dog):\n",
    "        dog.bite_enemy()\n",
    "\n",
    "    def work_with_drug(self, dog):\n",
    "        dog.track_drug()\n",
    "\n",
    "\n",
    "p = Person()\n",
    "p.work_with_army(ArmyDog())\n",
    "p.work_with_drug(DrugDog())"
   ]
  },
  {
   "cell_type": "code",
   "execution_count": null,
   "metadata": {
    "ExecuteTime": {
     "end_time": "2019-11-21T12:06:32.698753Z",
     "start_time": "2019-11-21T12:06:32.687251Z"
    }
   },
   "outputs": [],
   "source": [
    "class Dog(object):\n",
    "    def work(self):\n",
    "        pass\n",
    "\n",
    "\n",
    "class ArmyDog(Dog):\n",
    "    def work(self):\n",
    "        print('追击敌人')\n",
    "\n",
    "\n",
    "class DrugDog(Dog):\n",
    "    def work(self):\n",
    "        print('追查毒品')\n",
    "\n",
    "\n",
    "class Person(object):\n",
    "    def work_with_dog(self, dogObject):  # 只要能接收父类对象，就能接收子类对象\n",
    "        dogObject.work()  # 只要父类对象能工作，子类对象就能工作。并且不同子类会产生不同的执行效果。\n",
    "\n",
    "\n",
    "p = Person()\n",
    "p.work_with_dog(ArmyDog())\n",
    "p.work_with_dog(DrugDog())"
   ]
  },
  {
   "cell_type": "code",
   "execution_count": null,
   "metadata": {
    "ExecuteTime": {
     "end_time": "2019-11-21T12:05:44.596782Z",
     "start_time": "2019-11-21T12:05:44.581504Z"
    }
   },
   "outputs": [],
   "source": [
    "class Animal(object):\n",
    "    def __init__(self, name):\n",
    "        self.name = name\n",
    "    def greet(self):\n",
    "        print (\"Hello, I am %s.\" % self.name)\n",
    "\n",
    "class Dog(Animal):\n",
    "    def greet(self):\n",
    "        print(\"WangWang.., I am %s.\" % self.name)\n",
    "\n",
    "class Cat(Animal):\n",
    "    def greet(self):\n",
    "        print (\"MiaoMiao.., I am %s.\" % self.name)\n",
    "\n",
    "def hello(animalObject):\n",
    "    animalObject.greet()\n",
    "    \n",
    "# cat 和 dog 是两个不同的对象，对它们调用 greet 方法，\n",
    "# 它们会自动调用实际类型的 greet 方法，作出不同的响应\n",
    "dog = Dog('dog')\n",
    "hello(dog)\n",
    "\n",
    "cat = Cat('cat')\n",
    "hello(cat)"
   ]
  },
  {
   "cell_type": "markdown",
   "metadata": {},
   "source": [
    "# 闭包"
   ]
  },
  {
   "cell_type": "code",
   "execution_count": null,
   "metadata": {
    "ExecuteTime": {
     "end_time": "2019-11-21T08:15:38.834348Z",
     "start_time": "2019-11-21T08:15:38.823954Z"
    }
   },
   "outputs": [],
   "source": [
    "def print_msg(s):\n",
    "    # print_msg 是外围函数\n",
    "    msg = \"zen of python\"\n",
    "    def printer():\n",
    "        # printer 是嵌套函数\n",
    "        print(msg)\n",
    "    if s == True:\n",
    "        print(\"ok!\")\n",
    "    return printer\n",
    "\n",
    "print_msg(s=True)()\n",
    "another = print_msg(s=False)\n",
    "# 输出 zen of python\n",
    "another()"
   ]
  },
  {
   "cell_type": "markdown",
   "metadata": {},
   "source": [
    "一般情况下，函数中的局部变量仅在函数的执行期间可用，一旦 print_msg() 执行过后，我们会认为 msg变量将不再可用。然而，在这里我们发现 print_msg 执行完之后，在调用 another 的时候 msg 变量的值正常输出了，这就是闭包的作用，闭包使得局部变量在函数外被访问成为可能。"
   ]
  },
  {
   "cell_type": "code",
   "execution_count": null,
   "metadata": {},
   "outputs": [],
   "source": [
    "from typing import List"
   ]
  },
  {
   "cell_type": "code",
   "execution_count": null,
   "metadata": {
    "ExecuteTime": {
     "end_time": "2020-02-29T05:54:37.756872Z",
     "start_time": "2020-02-29T05:54:37.747867Z"
    }
   },
   "outputs": [],
   "source": [
    "Vector = List[float]\n",
    "\n",
    "def scale(scalar: float, vector: Vector) -> Vector:\n",
    "    return [scalar * num for num in vector]\n",
    "\n",
    "# typechecks; a list of floats qualifies as a Vector.\n",
    "new_vector = scale(2.0, [1.0, -4.2, 5.4])"
   ]
  },
  {
   "cell_type": "code",
   "execution_count": null,
   "metadata": {
    "ExecuteTime": {
     "end_time": "2020-02-29T12:51:43.021444Z",
     "start_time": "2020-02-29T12:51:43.012589Z"
    }
   },
   "outputs": [],
   "source": [
    "x = [1,2]\n",
    "x[-1:-n:1]"
   ]
  },
  {
   "cell_type": "code",
   "execution_count": null,
   "metadata": {
    "ExecuteTime": {
     "end_time": "2020-02-29T12:59:52.676179Z",
     "start_time": "2020-02-29T12:59:52.524562Z"
    }
   },
   "outputs": [],
   "source": [
    "import numpy as np"
   ]
  },
  {
   "cell_type": "code",
   "execution_count": null,
   "metadata": {
    "ExecuteTime": {
     "end_time": "2020-02-29T12:59:52.925557Z",
     "start_time": "2020-02-29T12:59:52.921640Z"
    }
   },
   "outputs": [],
   "source": [
    "x = np.arange(10).reshape(-1,1)"
   ]
  },
  {
   "cell_type": "markdown",
   "metadata": {},
   "source": [
    "## `@property`"
   ]
  },
  {
   "cell_type": "code",
   "execution_count": null,
   "metadata": {
    "ExecuteTime": {
     "end_time": "2020-03-03T01:18:32.368380Z",
     "start_time": "2020-03-03T01:18:32.359092Z"
    }
   },
   "outputs": [],
   "source": [
    "class Celsius:\n",
    "    def __init__(self, temperature = 0):\n",
    "        self.temperature = temperature\n",
    "\n",
    "    def to_fahrenheit(self):\n",
    "        return (self.temperature * 1.8) + 32"
   ]
  },
  {
   "cell_type": "code",
   "execution_count": null,
   "metadata": {
    "ExecuteTime": {
     "end_time": "2020-03-03T01:18:38.320580Z",
     "start_time": "2020-03-03T01:18:38.313553Z"
    }
   },
   "outputs": [],
   "source": [
    "man = Celsius(37)\n",
    "man.temperature"
   ]
  },
  {
   "cell_type": "code",
   "execution_count": null,
   "metadata": {
    "ExecuteTime": {
     "end_time": "2020-03-03T01:18:38.740627Z",
     "start_time": "2020-03-03T01:18:38.733586Z"
    }
   },
   "outputs": [],
   "source": [
    "man.__dict__"
   ]
  },
  {
   "cell_type": "code",
   "execution_count": null,
   "metadata": {
    "ExecuteTime": {
     "end_time": "2020-03-03T01:18:39.751408Z",
     "start_time": "2020-03-03T01:18:39.744984Z"
    }
   },
   "outputs": [],
   "source": [
    "man2 = Celsius()\n",
    "man2.__dict__"
   ]
  },
  {
   "cell_type": "code",
   "execution_count": null,
   "metadata": {
    "ExecuteTime": {
     "end_time": "2020-03-03T02:16:05.554053Z",
     "start_time": "2020-03-03T02:16:05.546926Z"
    }
   },
   "outputs": [],
   "source": [
    "class Celsius:\n",
    "    def __init__(self, temperature = 0):\n",
    "        self.set_temperature(temperature)\n",
    "\n",
    "    def to_fahrenheit(self):\n",
    "        return (self.get_temperature() * 1.8) + 32\n",
    "\n",
    "    # new update\n",
    "    def get_temperature(self):\n",
    "        return self._temperature\n",
    "\n",
    "    def set_temperature(self, value):\n",
    "        if value < -273:\n",
    "            raise ValueError(\"Temperature below -273 is not possible\")\n",
    "        self._temperature = value"
   ]
  },
  {
   "cell_type": "code",
   "execution_count": null,
   "metadata": {
    "ExecuteTime": {
     "end_time": "2020-03-03T02:16:32.516177Z",
     "start_time": "2020-03-03T02:16:32.500198Z"
    }
   },
   "outputs": [],
   "source": [
    "x = Celsius()\n",
    "#x.temperature\n",
    "x._temperature = -300\n",
    "x._wm = \"CZFZDXX\"\n",
    "x.__dict__\n",
    "x.get_temperature()\n",
    "x._wm"
   ]
  },
  {
   "cell_type": "markdown",
   "metadata": {},
   "source": [
    "But this is not of great concern. The big problem with the above update is that, all the clients who implemented our previous class in their program have to modify their code from `obj.temperature` to `obj.get_temperature()` and all assignments like `obj.temperature = val` to `obj.set_temperature(val)`.\n",
    "\n",
    "All in all, our new update was not backward compatible. This is where property comes to rescue."
   ]
  },
  {
   "cell_type": "code",
   "execution_count": null,
   "metadata": {
    "ExecuteTime": {
     "end_time": "2020-03-03T02:17:03.798247Z",
     "start_time": "2020-03-03T02:17:03.786873Z"
    }
   },
   "outputs": [],
   "source": [
    "class Celsius:\n",
    "    def __init__(self, temperature = 0):\n",
    "        self.temperature = temperature\n",
    "\n",
    "    def to_fahrenheit(self):\n",
    "        return (self.temperature * 1.8) + 32\n",
    "\n",
    "    def get_temperature(self):\n",
    "        print(\"Getting value\")\n",
    "        return self._temperature\n",
    "\n",
    "    def set_temperature(self, value):\n",
    "        if value < -273:\n",
    "            raise ValueError(\"Temperature below -273 is not possible\")\n",
    "        print(\"Setting value\")\n",
    "        self._temperature = value\n",
    "\n",
    "    temperature = property(get_temperature,set_temperature)"
   ]
  },
  {
   "cell_type": "code",
   "execution_count": null,
   "metadata": {
    "ExecuteTime": {
     "end_time": "2020-03-03T02:17:54.353329Z",
     "start_time": "2020-03-03T02:17:54.342238Z"
    }
   },
   "outputs": [],
   "source": [
    "x = Celsius()\n",
    "x.temperature\n",
    "x.to_fahrenheit()"
   ]
  },
  {
   "cell_type": "markdown",
   "metadata": {},
   "source": [
    "Similarly, any access like `c.temperature` automatically calls `get_temperature()`. This is what property does. \n",
    "\n",
    "The last line of the code, makes a property object temperature. Simply put, property attaches some code (`get_temperature` and `set_temperature`) to the member attribute accesses (`temperature`).\n",
    "\n",
    "Any code that retrieves the value of temperature will automatically call `get_temperature()` instead of a dictionary (`__dict__`) look-up. Similarly, any code that assigns a value to temperature will automatically call `set_temperature()`. This is one cool feature in Python."
   ]
  },
  {
   "cell_type": "markdown",
   "metadata": {},
   "source": [
    "* https://www.programiz.com/python-programming/property"
   ]
  },
  {
   "cell_type": "code",
   "execution_count": null,
   "metadata": {
    "ExecuteTime": {
     "end_time": "2020-03-03T02:09:59.664929Z",
     "start_time": "2020-03-03T02:09:59.646052Z"
    }
   },
   "outputs": [],
   "source": [
    "class Student:\n",
    "    def __init__(self, name, marks):\n",
    "        self.name = name\n",
    "        self.marks = marks\n",
    "        # self.gotmarks = self.name + ' obtained ' + self.marks + ' marks'\n",
    "\n",
    "    @property\n",
    "    def gotmarks(self):\n",
    "        return self.name + ' obtained ' + self.marks + ' marks'\n",
    "\n",
    "    @gotmarks.setter\n",
    "    def gotmarks(self, sentence):\n",
    "        name, rand, marks = sentence.split(' ')\n",
    "        self.name = name\n",
    "        self.marks = marks\n",
    "\n",
    "\n",
    "st = Student(\"Jaki\", \"25\")\n",
    "print(st.name)\n",
    "print(st.marks)\n",
    "print(st.gotmarks)\n",
    "print(\"##################\")\n",
    "st.name = \"Anusha\"\n",
    "print(st.name)\n",
    "print(st.marks)\n",
    "print(st.gotmarks)\n",
    "print(\"##################\")\n",
    "st.gotmarks = 'Golam obtained 36'\n",
    "print(st.gotmarks)\n",
    "print(st.name)\n",
    "print(st.marks)"
   ]
  },
  {
   "cell_type": "code",
   "execution_count": null,
   "metadata": {},
   "outputs": [],
   "source": []
  },
  {
   "cell_type": "code",
   "execution_count": null,
   "metadata": {
    "ExecuteTime": {
     "end_time": "2020-03-03T07:51:48.504742Z",
     "start_time": "2020-03-03T07:51:48.498005Z"
    }
   },
   "outputs": [],
   "source": [
    "random.random()*4"
   ]
  },
  {
   "cell_type": "code",
   "execution_count": null,
   "metadata": {},
   "outputs": [],
   "source": []
  },
  {
   "cell_type": "code",
   "execution_count": null,
   "metadata": {},
   "outputs": [],
   "source": []
  }
 ],
 "metadata": {
  "hide_input": false,
  "kernelspec": {
   "display_name": "Python 3",
   "language": "python",
   "name": "python3"
  },
  "language_info": {
   "codemirror_mode": {
    "name": "ipython",
    "version": 3
   },
   "file_extension": ".py",
   "mimetype": "text/x-python",
   "name": "python",
   "nbconvert_exporter": "python",
   "pygments_lexer": "ipython3",
   "version": "3.7.4"
  },
  "toc": {
   "base_numbering": 1,
   "nav_menu": {},
   "number_sections": true,
   "sideBar": true,
   "skip_h1_title": false,
   "title_cell": "Table of Contents",
   "title_sidebar": "Contents",
   "toc_cell": false,
   "toc_position": {},
   "toc_section_display": true,
   "toc_window_display": false
  },
  "varInspector": {
   "cols": {
    "lenName": 16,
    "lenType": 16,
    "lenVar": 40
   },
   "kernels_config": {
    "python": {
     "delete_cmd_postfix": "",
     "delete_cmd_prefix": "del ",
     "library": "var_list.py",
     "varRefreshCmd": "print(var_dic_list())"
    },
    "r": {
     "delete_cmd_postfix": ") ",
     "delete_cmd_prefix": "rm(",
     "library": "var_list.r",
     "varRefreshCmd": "cat(var_dic_list()) "
    }
   },
   "types_to_exclude": [
    "module",
    "function",
    "builtin_function_or_method",
    "instance",
    "_Feature"
   ],
   "window_display": false
  }
 },
 "nbformat": 4,
 "nbformat_minor": 2
}
