{
 "cells": [
  {
   "cell_type": "code",
   "execution_count": 1,
   "metadata": {
    "cell_style": "center"
   },
   "outputs": [],
   "source": [
    "from IPython.core.interactiveshell import InteractiveShell\n",
    "InteractiveShell.ast_node_interactivity = 'all'"
   ]
  },
  {
   "cell_type": "code",
   "execution_count": 2,
   "metadata": {},
   "outputs": [],
   "source": [
    "import random"
   ]
  },
  {
   "cell_type": "code",
   "execution_count": 3,
   "metadata": {},
   "outputs": [],
   "source": [
    "import json\n",
    "import copy"
   ]
  },
  {
   "cell_type": "code",
   "execution_count": 4,
   "metadata": {},
   "outputs": [],
   "source": [
    "import time\n",
    "import datetime"
   ]
  },
  {
   "cell_type": "code",
   "execution_count": 5,
   "metadata": {},
   "outputs": [],
   "source": [
    "from collections import Counter"
   ]
  },
  {
   "cell_type": "code",
   "execution_count": 6,
   "metadata": {},
   "outputs": [],
   "source": [
    "from termcolor import colored"
   ]
  },
  {
   "cell_type": "markdown",
   "metadata": {},
   "source": [
    "# Prepare the data structure "
   ]
  },
  {
   "cell_type": "code",
   "execution_count": 7,
   "metadata": {},
   "outputs": [],
   "source": [
    "# Slot = Index , Day , Hour\n",
    "class SlotProcessor:\n",
    "    def __init__(self, inputString):\n",
    "        stringParts = inputString.split(\",\")\n",
    "        cursorPosition = 0\n",
    "        self.id = stringParts[cursorPosition].strip()\n",
    "        cursorPosition += 1\n",
    "        self.day = stringParts[cursorPosition].strip()\n",
    "        cursorPosition += 1\n",
    "        self.time = stringParts[cursorPosition].strip()\n",
    "    \"\"\"        \n",
    "    def getSlotInfo(self):\n",
    "        print('Index: {} | Day: {} | Hour:{}'.format(self.id, self.day, self.time))\n",
    "    \"\"\""
   ]
  },
  {
   "cell_type": "code",
   "execution_count": 8,
   "metadata": {
    "code_folding": []
   },
   "outputs": [],
   "source": [
    "# Room = Index , Name , Capacity\n",
    "class RoomProcessor:\n",
    "    def __init__(self, inputString):\n",
    "        stringParts = inputString.split(\",\")\n",
    "        cursorPosition = 0\n",
    "\n",
    "        self.id = stringParts[cursorPosition].strip()\n",
    "        cursorPosition += 1\n",
    "\n",
    "        self.name = stringParts[cursorPosition].strip()\n",
    "    \"\"\"\n",
    "    def getRoomInfo(self):\n",
    "        print('Index: {} | name: {}'.format(self.id, self.name))\n",
    "    \"\"\""
   ]
  },
  {
   "cell_type": "code",
   "execution_count": 9,
   "metadata": {},
   "outputs": [],
   "source": [
    "#  Course = Index , Name , Capacity , Arrangement , InstructorIndex\n",
    "class CourseProcessor:\n",
    "    def __init__(self, inputString):\n",
    "        stringParts = inputString.split(\",\")\n",
    "        cursorPosition = 0\n",
    "\n",
    "        self.id = stringParts[cursorPosition].strip()\n",
    "        cursorPosition += 1\n",
    "\n",
    "        self.name = stringParts[cursorPosition].strip()\n",
    "        cursorPosition += 1\n",
    "\n",
    "        self.capacity = stringParts[cursorPosition].strip()\n",
    "        cursorPosition += 1\n",
    "\n",
    "        self.arrangement = stringParts[cursorPosition].strip()\n",
    "        cursorPosition += 1\n",
    "\n",
    "        self.instructorIndex = int(stringParts[cursorPosition].strip())\n",
    "   \n",
    "    def getCourseInfo(self):\n",
    "        print(\"Course ID: {} | Course Name: {} | Roomtype: {} | Arrangement: {} | InstructorIndex: {}\"\\\n",
    "              .format(self.id, self.name, self.capacity, self.arrangement, self.instructorIndex))\n",
    "        \n",
    "    def getCourseName(self):\n",
    "        return self.name\n",
    "    def getCourseInstructorIndex(self):\n",
    "        return int(self.instructorIndex)\n",
    "     "
   ]
  },
  {
   "cell_type": "code",
   "execution_count": 10,
   "metadata": {},
   "outputs": [],
   "source": [
    "# Instructor = Index , Name \n",
    "class InstructorProcessor:\n",
    "    def __init__(self, inputString):\n",
    "        stringParts = inputString.split(\",\")\n",
    "        cursorPosition = 0\n",
    "\n",
    "        self.id = stringParts[cursorPosition].strip()\n",
    "        cursorPosition += 1\n",
    "\n",
    "        self.name = stringParts[cursorPosition].strip()\n",
    "        cursorPosition += 1\n",
    "     \n",
    "    def getInstructorIndex(self):\n",
    "        return int(self.id)\n",
    "    \n",
    "    def getInstructorName(self):\n",
    "        return self.name\n",
    "    \n",
    "    def getInstructorInfo(self):\n",
    "        print(\"Instructor ID: {} | Instructor Name: {}\".format(self.id, self.name))\n",
    "    \n",
    "    # Highlight function getInstructorNameViaIndex(instructorIndex)\n",
    "    def getInstructorNameViaIndex(self, instructorIndex):\n",
    "        if int(self.id) == instructorIndex:\n",
    "            print (self.name) \n",
    "        else:\n",
    "            print('There is no instructor with this instructor index')\n"
   ]
  },
  {
   "cell_type": "code",
   "execution_count": 11,
   "metadata": {},
   "outputs": [],
   "source": [
    "slots = []\n",
    "rooms = []\n",
    "courses = []\n",
    "instructors = []\n",
    "with open('input4.txt') as fp:\n",
    "    for line in fp:\n",
    "        if line.startswith(\"#\"):\n",
    "        # ignore comments in input file\n",
    "            continue\n",
    "        lineSections = line.split(\"=\")\n",
    "        # print(lineSections)\n",
    "        if lineSections[0].strip() == \"Slot\":\n",
    "            #1 , one    ,  8:00\n",
    "            # print(lineSections[1])\n",
    "            slots.append(SlotProcessor(lineSections[1]))\n",
    "            # slots\n",
    "        elif lineSections[0].strip() == \"Room\":\n",
    "            rooms.append(RoomProcessor(lineSections[1]))\n",
    "        elif lineSections[0].strip() == \"Course\":\n",
    "            courses.append(CourseProcessor(lineSections[1]))\n",
    "        elif lineSections[0].strip() == \"Instructor\":\n",
    "            instructors.append(InstructorProcessor(lineSections[1]))\n",
    "\n",
    "#print('number of slots: {}, number of rooms: {}, number of courses: {}, number of instructors: {}'.\\\n",
    "#     format(len(slots), len(rooms), len(courses), len(instructors)))\n"
   ]
  },
  {
   "cell_type": "code",
   "execution_count": 12,
   "metadata": {},
   "outputs": [],
   "source": [
    "class courseInstructor:\n",
    "    def __init__(self, an_item_in_courses, an_item_in_instructors):\n",
    "        self.course = an_item_in_courses        \n",
    "        self.instructor = an_item_in_instructors\n",
    "    \n",
    "    def printCourseInstructorInfo(self): # Don't forget situation that 2 teachers may have the same name.\n",
    "        return('course name: {} | instructor name: {}'.\\\n",
    "              format(self.course.getCourseName(),\\\n",
    "                     self.instructor.getInstructorName())) \n",
    "    "
   ]
  },
  {
   "cell_type": "markdown",
   "metadata": {},
   "source": [
    "# Class schedule "
   ]
  },
  {
   "cell_type": "code",
   "execution_count": 13,
   "metadata": {
    "code_folding": []
   },
   "outputs": [],
   "source": [
    "def InstructorNotAvailable(which_class, CurrentInstructor, ExistedSlots, which_slot):\n",
    "    if which_class == 1:\n",
    "        return False\n",
    "    else:\n",
    "        i = 1\n",
    "        a = 0\n",
    "        while i < which_class:          \n",
    "            if CurrentInstructor == ExistedSlots[which_slot - 40 * i][0].instructor.getInstructorIndex():\n",
    "                a += 1\n",
    "            else:\n",
    "                a += 0\n",
    "            \n",
    "            i += 1\n",
    "        if a == 0:\n",
    "            return False\n",
    "        else:\n",
    "            return True\n"
   ]
  },
  {
   "cell_type": "code",
   "execution_count": 14,
   "metadata": {},
   "outputs": [],
   "source": [
    "class Schedule:\n",
    "    def __init__(self, slots, rooms, courses, instructors):\n",
    "        self.schedule_slots = slots\n",
    "        self.schedule_rooms = rooms\n",
    "        self.schedule_courses = courses\n",
    "        self.schedule_instructors = instructors\n",
    "        self.slotsInfo = []\n",
    "        self.slots = []\n",
    "        self.fitness = 0.0\n",
    "        self.generation = 1\n",
    "        self.number_of_courses_for_a_class_per_week = len(self.schedule_slots)\n",
    "        self.weekday = 5\n",
    "        self.number_of_courses_for_a_class_per_day=self.number_of_courses_for_a_class_per_week/self.weekday\n",
    "\n",
    "        for i in range(0, len(slots) * len(rooms)): # range(0, 240)\n",
    "            self.slots.append([]) #Change self.slots from [] to [[],[],[]...]\n",
    "            \n",
    "    def inspectSchedule(self):\n",
    "        if self.slots[0] == []:\n",
    "                print('Wake up, before looking up the schedule, create it at first!')\n",
    "        else:\n",
    "                \n",
    "            for i in range(0, len(slots) * len(rooms)):\n",
    "                print( 'CourseInstructorInfo: {} | {}'\\\n",
    "                      .format(self.slots[i][0].printCourseInstructorInfo(), i))\n",
    "    # only can be called once        \n",
    "    def createSchedule(self):\n",
    "        number_of_courses_for_all_classes_per_week = len(self.slots) # 240\n",
    "        number_of_course_types = len(self.schedule_courses)//len(self.schedule_rooms) \n",
    "        initial_choice = [list(range(i*40,(i+1)*40)) for i in range(6)]\n",
    "        \n",
    "        for course in self.schedule_courses:           \n",
    "            slotContent = courseInstructor(course, self.schedule_instructors[course.getCourseInstructorIndex() - 1])\n",
    "            classIndex=(int(course.id)+15)//number_of_course_types\n",
    "            InstructorIndex = course.getCourseInstructorIndex() # type(classIndex) is float\n",
    "            repeated_times_for_a_course = int(course.arrangement[1])\n",
    "            j = 0 \n",
    "            while j < repeated_times_for_a_course:\n",
    "                if len(initial_choice[classIndex - 1]) > 1:\n",
    "                    abondon_choice_1, abondon_choice_2 = random.sample(initial_choice[classIndex - 1], 2) \n",
    "                    abondon_choice = abondon_choice_2 if InstructorNotAvailable(classIndex, InstructorIndex, self.slots, abondon_choice_1)\\\n",
    "                    else abondon_choice_1\n",
    "                else: \n",
    "                    abondon_choice = initial_choice[classIndex - 1][0] \n",
    "                        \n",
    "                self.slots[abondon_choice].append(slotContent)\n",
    "                \"\"\"\n",
    "                print('OKAY! The {}th course :{}, place it to the {}th slot'.format(counter_the_number_of_arranged_course,course.getCourseName(), abondon_choice))\n",
    "                counter_the_number_of_arranged_course += 1\n",
    "                print(self.slots[abondon_choice][0].printCourseInstructorInfo()) # Different from Version1\n",
    "                \"\"\"\n",
    "                initial_choice[classIndex - 1].remove(abondon_choice)\n",
    "                j = j + 1    \n",
    "        \n",
    "        for k in range(0, len(self.slots)):\n",
    "            self.slotsInfo.append(self.slots[k][0])\n",
    "          "
   ]
  },
  {
   "cell_type": "markdown",
   "metadata": {},
   "source": [
    "# define Fitness calculation"
   ]
  },
  {
   "cell_type": "code",
   "execution_count": 15,
   "metadata": {},
   "outputs": [],
   "source": [
    "def calculateFitnessForAStrip(courseForADayAClass):\n",
    "    getMark = 0\n",
    "    className = courseForADayAClass[0]\n",
    "    classArr= courseForADayAClass[1]\n",
    "    #x = len(list(dict(Counter(courseForADayAClass[0])).values()))\n",
    "    x = len(list(dict(Counter(className)).values()))\n",
    "    \n",
    "    if x==8:\n",
    "        getMark += 10\n",
    "        \n",
    "    if '语文' or '数学' or '英语' in className[0:4]:\n",
    "        getMark +=5\n",
    "    if '数学' in className[0:4]:\n",
    "        getMark == 5 \n",
    "    if '英语' in className[0:4]:\n",
    "        getMark == 5\n",
    "    if '物理' in className[0:4]:\n",
    "        getMark == 3\n",
    "    if '化学' in className[0:4]:\n",
    "        getMark == 3\n",
    "    if '生物' in className[0:4]:\n",
    "        getMark == 3\n",
    "    return getMark"
   ]
  },
  {
   "cell_type": "markdown",
   "metadata": {},
   "source": [
    "## Fitness for eight classes a day"
   ]
  },
  {
   "cell_type": "markdown",
   "metadata": {},
   "source": [
    "**Evaluate a course order in a day**"
   ]
  },
  {
   "cell_type": "markdown",
   "metadata": {},
   "source": [
    "Cut`ScheduleTable.slotsInfo`  into slices, A slices represents the courses for a class a day  "
   ]
  },
  {
   "cell_type": "markdown",
   "metadata": {},
   "source": [
    "##  Fitness for final schedule of class"
   ]
  },
  {
   "cell_type": "code",
   "execution_count": 16,
   "metadata": {},
   "outputs": [],
   "source": [
    "def getCourseToBeEvaluated(ScheduleTable): # ScheduleTable.slotsInfo\n",
    "    courseToBeEvaluated = []\n",
    "    for i in range(0,30):\n",
    "        courseToBeEvaluated.append([])\n",
    "    i = 0\n",
    "    for k in ScheduleTable.slotsInfo: # ScheduleTable.slotsInfo\n",
    "        m =  i // 8        \n",
    "        courseToBeEvaluated[m].append(k)\n",
    "        i += 1\n",
    "    return courseToBeEvaluated \n",
    "\n",
    "def getScheduleOfClass(courseToBeEvaluated):\n",
    "    ScheduleOfClass = []\n",
    "    x = len(courseToBeEvaluated)\n",
    "    for i in range(x):\n",
    "        ScheduleOfClass.append([[], []])\n",
    "        \n",
    "    for i in range(x):\n",
    "        for j in courseToBeEvaluated[i]:\n",
    "            ScheduleOfClass[i][0].append(j.course.name)\n",
    "            ScheduleOfClass[i][1].append(j.course.arrangement)\n",
    "    return ScheduleOfClass\n",
    "\n",
    "def calculateFitness(ScheduleOfClass):\n",
    "    mark = 0\n",
    "    for ooo in ScheduleOfClass:\n",
    "        a = calculateFitnessForAStrip(ooo)\n",
    "        mark += a\n",
    "    return mark "
   ]
  },
  {
   "cell_type": "code",
   "execution_count": 17,
   "metadata": {},
   "outputs": [
    {
     "data": {
      "text/plain": [
       "210"
      ]
     },
     "execution_count": 17,
     "metadata": {},
     "output_type": "execute_result"
    }
   ],
   "source": [
    "ScheduleTable = Schedule(slots, rooms, courses, instructors )\n",
    "ScheduleTable.createSchedule()\n",
    "courseToBeEvaluated = getCourseToBeEvaluated(ScheduleTable)\n",
    "scheduleOfClass = getScheduleOfClass(courseToBeEvaluated)\n",
    "calculateFitness(scheduleOfClass)"
   ]
  },
  {
   "cell_type": "code",
   "execution_count": 18,
   "metadata": {},
   "outputs": [
    {
     "data": {
      "text/plain": [
       "[[['历史', '语文', '化学', '物理', '英语', '数学', '数学', '数学早读'],\n",
       "  ['A2', 'A5', 'A3', 'A3', 'A4', 'A5', 'A5', 'A1']],\n",
       " [['英语', '英语早读', '语文', '研究性学习', '语文', '空', '道德法制', '体育'],\n",
       "  ['A4', 'A2', 'A5', 'A1', 'A5', 'A1', 'A3', 'A3']],\n",
       " [['写字书法', '物理', '数学', '劳技', '化学', '语文早读', '心理健康', '英语'],\n",
       "  ['A1', 'A3', 'A5', 'A1', 'A3', 'A2', 'A1', 'A4']],\n",
       " [['英语早读', '化学', '语文', '道德法制', '体育', '音乐', '语文', '语文早读'],\n",
       "  ['A2', 'A3', 'A5', 'A3', 'A3', 'A1', 'A5', 'A2']],\n",
       " [['英语', '历史', '物理', '道德法制', '美术', '数学', '数学', '体育'],\n",
       "  ['A4', 'A2', 'A3', 'A3', 'A1', 'A5', 'A5', 'A3']],\n",
       " [['语文早读', '英语', '数学', '写字书法', '体育', '语文', '化学', '物理'],\n",
       "  ['A2', 'A4', 'A5', 'A1', 'A3', 'A5', 'A3', 'A3']],\n",
       " [['道德法制', '英语', '英语', '物理', '英语早读', '道德法制', '美术', '语文'],\n",
       "  ['A3', 'A4', 'A4', 'A3', 'A2', 'A3', 'A1', 'A5']],\n",
       " [['英语早读', '心理健康', '数学', '数学', '数学早读', '英语', '音乐', '物理'],\n",
       "  ['A2', 'A1', 'A5', 'A5', 'A1', 'A4', 'A1', 'A3']],\n",
       " [['语文早读', '语文', '历史', '语文', '数学', '化学', '体育', '化学'],\n",
       "  ['A2', 'A5', 'A2', 'A5', 'A5', 'A3', 'A3', 'A3']],\n",
       " [['空', '语文', '研究性学习', '劳技', '体育', '数学', '道德法制', '历史'],\n",
       "  ['A1', 'A5', 'A1', 'A1', 'A3', 'A5', 'A3', 'A2']],\n",
       " [['英语', '英语早读', '语文早读', '语文', '写字书法', '化学', '化学', '数学'],\n",
       "  ['A4', 'A2', 'A2', 'A5', 'A1', 'A3', 'A3', 'A5']],\n",
       " [['体育', '研究性学习', '语文', '心理健康', '道德法制', '物理', '数学', '道德法制'],\n",
       "  ['A3', 'A1', 'A5', 'A1', 'A3', 'A3', 'A5', 'A3']],\n",
       " [['音乐', '语文早读', '历史', '语文', '劳技', '数学', '英语早读', '数学'],\n",
       "  ['A1', 'A2', 'A2', 'A5', 'A1', 'A5', 'A2', 'A5']],\n",
       " [['物理', '英语', '美术', '空', '体育', '物理', '语文', '体育'],\n",
       "  ['A3', 'A4', 'A1', 'A1', 'A3', 'A3', 'A5', 'A3']],\n",
       " [['数学早读', '道德法制', '英语', '化学', '数学', '语文', '历史', '英语'],\n",
       "  ['A1', 'A3', 'A4', 'A3', 'A5', 'A5', 'A2', 'A4']],\n",
       " [['历史', '数学', '道德法制', '音乐', '美术', '体育', '数学早读', '空'],\n",
       "  ['A2', 'A5', 'A3', 'A1', 'A1', 'A3', 'A1', 'A1']],\n",
       " [['化学', '语文早读', '数学', '语文', '物理', '化学', '英语早读', '数学'],\n",
       "  ['A3', 'A2', 'A5', 'A5', 'A3', 'A3', 'A2', 'A5']],\n",
       " [['英语', '物理', '体育', '英语', '数学', '语文', '写字书法', '语文早读'],\n",
       "  ['A4', 'A3', 'A3', 'A4', 'A5', 'A5', 'A1', 'A2']],\n",
       " [['语文', '体育', '英语', '数学', '道德法制', '心理健康', '劳技', '道德法制'],\n",
       "  ['A5', 'A3', 'A4', 'A5', 'A3', 'A1', 'A1', 'A3']],\n",
       " [['物理', '英语', '语文', '历史', '语文', '化学', '英语早读', '研究性学习'],\n",
       "  ['A3', 'A4', 'A5', 'A2', 'A5', 'A3', 'A2', 'A1']],\n",
       " [['化学', '音乐', '劳技', '语文', '空', '物理', '语文早读', '英语'],\n",
       "  ['A3', 'A1', 'A1', 'A5', 'A1', 'A3', 'A2', 'A4']],\n",
       " [['化学', '道德法制', '道德法制', '体育', '体育', '英语早读', '历史', '数学'],\n",
       "  ['A3', 'A3', 'A3', 'A3', 'A3', 'A2', 'A2', 'A5']],\n",
       " [['物理', '语文', '物理', '数学早读', '语文', '数学', '化学', '语文早读'],\n",
       "  ['A3', 'A5', 'A3', 'A1', 'A5', 'A5', 'A3', 'A2']],\n",
       " [['英语', '道德法制', '数学', '历史', '体育', '数学', '英语', '语文'],\n",
       "  ['A4', 'A3', 'A5', 'A2', 'A3', 'A5', 'A4', 'A5']],\n",
       " [['英语早读', '美术', '数学', '研究性学习', '英语', '心理健康', '写字书法', '语文'],\n",
       "  ['A2', 'A1', 'A5', 'A1', 'A4', 'A1', 'A1', 'A5']],\n",
       " [['体育', '化学', '美术', '数学早读', '心理健康', '英语', '音乐', '体育'],\n",
       "  ['A3', 'A3', 'A1', 'A1', 'A1', 'A4', 'A1', 'A3']],\n",
       " [['英语早读', '空', '英语', '数学', '历史', '数学', '体育', '数学'],\n",
       "  ['A2', 'A1', 'A4', 'A5', 'A2', 'A5', 'A3', 'A5']],\n",
       " [['语文', '语文早读', '物理', '语文', '英语', '写字书法', '物理', '语文'],\n",
       "  ['A5', 'A2', 'A3', 'A5', 'A4', 'A1', 'A3', 'A5']],\n",
       " [['研究性学习', '数学', '道德法制', '物理', '英语早读', '语文', '化学', '语文'],\n",
       "  ['A1', 'A5', 'A3', 'A3', 'A2', 'A5', 'A3', 'A5']],\n",
       " [['化学', '语文早读', '英语', '数学', '劳技', '历史', '道德法制', '道德法制'],\n",
       "  ['A3', 'A2', 'A4', 'A5', 'A1', 'A2', 'A3', 'A3']]]"
      ]
     },
     "execution_count": 18,
     "metadata": {},
     "output_type": "execute_result"
    }
   ],
   "source": [
    "scheduleOfClass"
   ]
  },
  {
   "cell_type": "code",
   "execution_count": 19,
   "metadata": {},
   "outputs": [
    {
     "data": {
      "text/plain": [
       "[['历史', '语文', '化学', '物理', '英语', '数学', '数学', '数学早读'],\n",
       " ['A2', 'A5', 'A3', 'A3', 'A4', 'A5', 'A5', 'A1']]"
      ]
     },
     "execution_count": 19,
     "metadata": {},
     "output_type": "execute_result"
    }
   ],
   "source": [
    "scheduleOfClass[0]"
   ]
  },
  {
   "cell_type": "code",
   "execution_count": 20,
   "metadata": {},
   "outputs": [],
   "source": [
    "def calculateFitnessForAStrip(courseForADayAClass):\n",
    "    getMark = 0\n",
    "    className = courseForADayAClass[0]\n",
    "    classArr= courseForADayAClass[1]\n",
    "    nameCountDict = dict(Counter(className[0:4]))\n",
    "    x = len(list(dict(Counter(className)).values()))\n",
    "    \n",
    "    if '语文' in className[0:4] and nameCountDict['语文'] ==1:   \n",
    "        getMark +=5\n",
    "    if '语文' in className[0:4] and nameCountDict['语文'] !=1:   \n",
    "        getMark -=5\n",
    "    if '数学' in className[0:4] and nameCountDict['数学'] ==1:\n",
    "        getMark +=5 \n",
    "    if '数学' in className[0:4] and nameCountDict['数学'] !=1:\n",
    "        getMark -=5  \n",
    "    if '英语' in className[0:4] and nameCountDict['英语'] ==1:\n",
    "        getMark +=5 \n",
    "    if '英语' in className[0:4] and nameCountDict['英语'] !=1:\n",
    "        getMark -=5 \n",
    "    if '语文' in className[4:8]:\n",
    "        getMark -=5\n",
    "    if '数学' in className[4:8]:\n",
    "        getMark -=5\n",
    "    if '英语' in className[4:8]:\n",
    "        getMark -=5\n",
    "    if 'A1' in classArr[0:4]:\n",
    "        getMark -=5\n",
    "    if 'A2' in classArr[0:4]:\n",
    "        getMark -=5 \n",
    "    if 'A1' in classArr[4:8]:\n",
    "        getMark +=5 \n",
    "    if 'A2' in classArr[4:8]:\n",
    "        getMark +=5 \n",
    "  \n",
    "    if x==8:\n",
    "        getMark +=10\n",
    "    elif x == 7:\n",
    "        getMark -= 5\n",
    "    else:\n",
    "        getMark -= 10\n",
    "            \n",
    "    return getMark"
   ]
  },
  {
   "cell_type": "code",
   "execution_count": 21,
   "metadata": {},
   "outputs": [
    {
     "data": {
      "text/plain": [
       "[['写字书法', '物理', '数学', '劳技', '化学', '语文早读', '心理健康', '英语'],\n",
       " ['A1', 'A3', 'A5', 'A1', 'A3', 'A2', 'A1', 'A4']]"
      ]
     },
     "execution_count": 21,
     "metadata": {},
     "output_type": "execute_result"
    },
    {
     "data": {
      "text/plain": [
       "15"
      ]
     },
     "execution_count": 21,
     "metadata": {},
     "output_type": "execute_result"
    }
   ],
   "source": [
    "x = scheduleOfClass[2]\n",
    "x \n",
    "calculateFitnessForAStrip(x)"
   ]
  },
  {
   "cell_type": "code",
   "execution_count": 22,
   "metadata": {},
   "outputs": [
    {
     "data": {
      "text/plain": [
       "True"
      ]
     },
     "execution_count": 22,
     "metadata": {},
     "output_type": "execute_result"
    }
   ],
   "source": [
    "'A1' in x[1][0:4] or 'A2' in x[1][0:4]"
   ]
  },
  {
   "cell_type": "code",
   "execution_count": null,
   "metadata": {},
   "outputs": [],
   "source": []
  },
  {
   "cell_type": "code",
   "execution_count": null,
   "metadata": {},
   "outputs": [],
   "source": [
    "\n",
    "\n",
    "\n",
    "\n",
    "\n",
    "\n",
    "\n",
    "\n",
    "\n",
    "\n",
    "\n",
    "\n",
    "\n",
    "\n",
    "\n",
    "\n"
   ]
  },
  {
   "cell_type": "code",
   "execution_count": 23,
   "metadata": {},
   "outputs": [
    {
     "data": {
      "text/plain": [
       "True"
      ]
     },
     "execution_count": 23,
     "metadata": {},
     "output_type": "execute_result"
    }
   ],
   "source": [
    "'A2' in scheduleOfClass[0][1]"
   ]
  },
  {
   "cell_type": "code",
   "execution_count": 24,
   "metadata": {},
   "outputs": [
    {
     "data": {
      "text/plain": [
       "['英语', '数学', '数学', '数学早读']"
      ]
     },
     "execution_count": 24,
     "metadata": {},
     "output_type": "execute_result"
    },
    {
     "data": {
      "text/plain": [
       "Counter({'英语': 1, '数学': 2, '数学早读': 1})"
      ]
     },
     "execution_count": 24,
     "metadata": {},
     "output_type": "execute_result"
    },
    {
     "data": {
      "text/plain": [
       "{'英语': 1, '数学': 2, '数学早读': 1}"
      ]
     },
     "execution_count": 24,
     "metadata": {},
     "output_type": "execute_result"
    },
    {
     "data": {
      "text/plain": [
       "{'英语': 1, '数学': 2, '数学早读': 1}"
      ]
     },
     "execution_count": 24,
     "metadata": {},
     "output_type": "execute_result"
    }
   ],
   "source": [
    "scheduleOfClass[0][0][4:8] \n",
    "Counter(scheduleOfClass[0][0][4:8])\n",
    "dict(Counter(scheduleOfClass[0][0][4:8]))\n",
    "dict(Counter(scheduleOfClass[0][0][4:8]))"
   ]
  },
  {
   "cell_type": "code",
   "execution_count": 25,
   "metadata": {},
   "outputs": [
    {
     "data": {
      "text/plain": [
       "['A2', 'A5', 'A3', 'A3']"
      ]
     },
     "execution_count": 25,
     "metadata": {},
     "output_type": "execute_result"
    }
   ],
   "source": [
    "scheduleOfClass[0][1][0:4]"
   ]
  },
  {
   "cell_type": "code",
   "execution_count": 26,
   "metadata": {},
   "outputs": [
    {
     "data": {
      "text/plain": [
       "{'A2', 'A3', 'A5'}"
      ]
     },
     "execution_count": 26,
     "metadata": {},
     "output_type": "execute_result"
    }
   ],
   "source": [
    "set(scheduleOfClass[0][1][0:4])"
   ]
  },
  {
   "cell_type": "code",
   "execution_count": 27,
   "metadata": {},
   "outputs": [],
   "source": [
    "#x = len(list(dict(Counter(courseForADayAClass[0])).values()))"
   ]
  },
  {
   "cell_type": "code",
   "execution_count": 28,
   "metadata": {},
   "outputs": [
    {
     "data": {
      "text/plain": [
       "dict_values([1, 1, 1, 1, 1, 2, 1])"
      ]
     },
     "execution_count": 28,
     "metadata": {},
     "output_type": "execute_result"
    }
   ],
   "source": [
    "dict(Counter(scheduleOfClass[0][0])).values()"
   ]
  },
  {
   "cell_type": "code",
   "execution_count": 29,
   "metadata": {},
   "outputs": [
    {
     "data": {
      "text/plain": [
       "False"
      ]
     },
     "execution_count": 29,
     "metadata": {},
     "output_type": "execute_result"
    }
   ],
   "source": [
    "set(scheduleOfClass[0][1][0:4]) == set(['A1', 'A2', 'A4', 'A5'])"
   ]
  },
  {
   "cell_type": "code",
   "execution_count": 30,
   "metadata": {},
   "outputs": [
    {
     "data": {
      "text/plain": [
       "True"
      ]
     },
     "execution_count": 30,
     "metadata": {},
     "output_type": "execute_result"
    }
   ],
   "source": [
    "set([1, 3, 4]) == set([1, 4, 3]) == set([3, 4, 1]) == set([3,3, 4, 1])"
   ]
  },
  {
   "cell_type": "code",
   "execution_count": 31,
   "metadata": {},
   "outputs": [
    {
     "data": {
      "text/plain": [
       "Counter({3: 2, 4: 1, 1: 1})"
      ]
     },
     "execution_count": 31,
     "metadata": {},
     "output_type": "execute_result"
    }
   ],
   "source": [
    "Counter([3, 3, 4, 1])"
   ]
  },
  {
   "cell_type": "code",
   "execution_count": 32,
   "metadata": {},
   "outputs": [
    {
     "data": {
      "text/plain": [
       "{1, 3, 4}"
      ]
     },
     "execution_count": 32,
     "metadata": {},
     "output_type": "execute_result"
    }
   ],
   "source": [
    "set(Counter([3, 3, 4, 1]))"
   ]
  },
  {
   "cell_type": "code",
   "execution_count": 33,
   "metadata": {},
   "outputs": [
    {
     "data": {
      "text/plain": [
       "3"
      ]
     },
     "execution_count": 33,
     "metadata": {},
     "output_type": "execute_result"
    }
   ],
   "source": [
    "len(set(Counter([3, 3, 4, 1])))"
   ]
  },
  {
   "cell_type": "code",
   "execution_count": 34,
   "metadata": {},
   "outputs": [
    {
     "data": {
      "text/plain": [
       "True"
      ]
     },
     "execution_count": 34,
     "metadata": {},
     "output_type": "execute_result"
    }
   ],
   "source": [
    "Counter(['A1', 'A2', 'A4', 'A5']) == Counter(['A1', 'A2', 'A5', 'A4'])"
   ]
  },
  {
   "cell_type": "markdown",
   "metadata": {},
   "source": [
    "Approaches of computing fitness\n",
    "* Value class one by one \n",
    "* Value class order set\n",
    "Distinguish the condition of perfect schedule of classes from hard condition."
   ]
  },
  {
   "cell_type": "code",
   "execution_count": 35,
   "metadata": {},
   "outputs": [],
   "source": [
    "def calculateFitnessForAStrip(courseForADayAClass):\n",
    "    getMark = 0\n",
    "    className = courseForADayAClass[0]\n",
    "    classArr= courseForADayAClass[1]\n",
    "    #x = len(list(dict(Counter(courseForADayAClass[0])).values()))\n",
    "    x = len(list(dict(Counter(className)).values()))\n",
    "    \n",
    "    \n",
    "    if x==8:\n",
    "        getMark += 20\n",
    "    elif x==7:\n",
    "        getMark += -20\n",
    "    else:\n",
    "        getMark += -50\n",
    "        \n",
    "    if '语文' in className[0:4]:\n",
    "        getMark +=5\n",
    "    else:\n",
    "        getMark += -5\n",
    "    if '数学' in className[0:4]:\n",
    "        getMark == 5\n",
    "    else:\n",
    "        getMark += -5\n",
    "    if '英语' in className[0:4]:\n",
    "        getMark == 5\n",
    "    else:\n",
    "        getMark += -5\n",
    "    if '物理' in className[0:4]:\n",
    "        getMark += 3\n",
    "\n",
    "    if '化学' in className[0:4]:\n",
    "        getMark += 3\n",
    "\n",
    "    if '生物' in className[0:4]:\n",
    "        getMark += 3\n",
    "\n",
    "    \n",
    "    if 'A1' in classArr[4:8]:\n",
    "        getMark += 5\n",
    "    \n",
    "    if 'A2' in classArr[4:8]:\n",
    "        getMark += 5\n",
    "\n",
    "       \n",
    "            \n",
    "    return getMark"
   ]
  },
  {
   "cell_type": "code",
   "execution_count": 36,
   "metadata": {},
   "outputs": [],
   "source": [
    "def calculateFitnessForAStrip(courseForADayAClass):\n",
    "    getMark = 0\n",
    "    className = courseForADayAClass[0]\n",
    "    classArr= courseForADayAClass[1]\n",
    "    nameCountDict = dict(Counter(className[0:4]))\n",
    "\n",
    "    if '语文' in className[0:4] and nameCountDict['语文'] ==1:   \n",
    "        getMark +=5\n",
    "    if '数学' in className[0:4] and nameCountDict['数学'] ==1:\n",
    "        getMark +=5   \n",
    "    if '英语' in className[0:4] and nameCountDict['英语'] ==1:\n",
    "        getMark +=5 \n",
    "\n",
    "       \n",
    "            \n",
    "    return getMark"
   ]
  },
  {
   "cell_type": "markdown",
   "metadata": {},
   "source": [
    "## Test as a whole"
   ]
  },
  {
   "cell_type": "code",
   "execution_count": 37,
   "metadata": {},
   "outputs": [],
   "source": [
    "begin_time = time.time()\n",
    "i = 0\n",
    "fitness = []\n",
    "while i < 100:\n",
    "    ScheduleTable = Schedule(slots, rooms, courses, instructors )\n",
    "    ScheduleTable.createSchedule()\n",
    "    courseToBeEvaluated = getCourseToBeEvaluated(ScheduleTable)\n",
    "    scheduleOfClass = getScheduleOfClass(courseToBeEvaluated)\n",
    "    #calculateFitness(scheduleOfClass)\n",
    "    fitness.append(calculateFitness(scheduleOfClass))\n",
    "    i +=1 \n",
    "cost_time = time.time() -begin_time"
   ]
  },
  {
   "cell_type": "markdown",
   "metadata": {},
   "source": [
    "# Mutate a available schedule"
   ]
  },
  {
   "cell_type": "code",
   "execution_count": 38,
   "metadata": {},
   "outputs": [],
   "source": [
    "def validMutation(ScheduleTable):\n",
    "    p4 = copy.deepcopy(ScheduleTable)\n",
    "    t1 = random.randint(0, 5) \n",
    "    TimesOfInvalidMutation = 0\n",
    "\n",
    "    classIndex1, classIndex2 = random.sample(range(40 * t1, 40 * t1 + 40), 2)\n",
    "    while InstructorNotAvailable(t1+1, p4.slots[classIndex1][0].course.getCourseInstructorIndex(), p4.slots,  classIndex1) or \\\n",
    "          InstructorNotAvailable(t1+1, p4.slots[classIndex2][0].course.getCourseInstructorIndex(), p4.slots,  classIndex2):\n",
    "        \n",
    "        TimesOfInvalidMutation += 1\n",
    "        classIndex1, classIndex2 = random.sample(range(40 * t1, 40 * t1 + 40), 2)\n",
    "        print(colored(\"Times of Invalid mutaion: {}\".format(TimesOfInvalidMutation),'red'))\n",
    "        if TimesOfInvalidMutation > 20:\n",
    "            # To make the return value same as input \n",
    "            p4.slotsInfo[classIndex1], p4.slotsInfo[classIndex2] = p4.slotsInfo[classIndex2], p4.slotsInfo[classIndex1] \n",
    "            ScheduleTable.generation = ScheduleTable.generation - 1\n",
    "            print(colored('Prepare to stop the iteration','red'))\n",
    "            break\n",
    "   # print(colored('Mutation is valid now', 'green'))   \n",
    "    p4.slotsInfo[classIndex1], p4.slotsInfo[classIndex2] = p4.slotsInfo[classIndex2], p4.slotsInfo[classIndex1]    \n",
    "    p4.generation = ScheduleTable.generation + 1\n",
    "    \n",
    "    return p4"
   ]
  },
  {
   "cell_type": "markdown",
   "metadata": {},
   "source": [
    "### Test `validMutation`"
   ]
  },
  {
   "cell_type": "code",
   "execution_count": 39,
   "metadata": {},
   "outputs": [
    {
     "name": "stdout",
     "output_type": "stream",
     "text": [
      "\u001b[31mTimes of Invalid mutaion: 1\u001b[0m\n",
      "\u001b[31mTimes of Invalid mutaion: 1\u001b[0m\n",
      "\u001b[31mTimes of Invalid mutaion: 1\u001b[0m\n",
      "\u001b[31mTimes of Invalid mutaion: 1\u001b[0m\n",
      "\u001b[31mTimes of Invalid mutaion: 1\u001b[0m\n",
      "\u001b[31mTimes of Invalid mutaion: 1\u001b[0m\n",
      "\u001b[31mTimes of Invalid mutaion: 1\u001b[0m\n",
      "\u001b[31mTimes of Invalid mutaion: 1\u001b[0m\n",
      "\u001b[31mTimes of Invalid mutaion: 1\u001b[0m\n",
      "\u001b[31mTimes of Invalid mutaion: 1\u001b[0m\n",
      "\u001b[31mTimes of Invalid mutaion: 1\u001b[0m\n",
      "\u001b[31mTimes of Invalid mutaion: 2\u001b[0m\n",
      "\u001b[31mTimes of Invalid mutaion: 1\u001b[0m\n",
      "\u001b[31mTimes of Invalid mutaion: 1\u001b[0m\n",
      "\u001b[31mTimes of Invalid mutaion: 1\u001b[0m\n",
      "\u001b[31mTimes of Invalid mutaion: 1\u001b[0m\n",
      "\u001b[31mTimes of Invalid mutaion: 1\u001b[0m\n",
      "\u001b[31mTimes of Invalid mutaion: 1\u001b[0m\n",
      "\u001b[31mTimes of Invalid mutaion: 1\u001b[0m\n",
      "\u001b[31mTimes of Invalid mutaion: 1\u001b[0m\n",
      "\u001b[31mTimes of Invalid mutaion: 1\u001b[0m\n",
      "\u001b[31mTimes of Invalid mutaion: 1\u001b[0m\n",
      "\u001b[31mTimes of Invalid mutaion: 1\u001b[0m\n",
      "\u001b[31mTimes of Invalid mutaion: 1\u001b[0m\n",
      "\u001b[31mTimes of Invalid mutaion: 1\u001b[0m\n",
      "\u001b[31mTimes of Invalid mutaion: 1\u001b[0m\n",
      "\u001b[31mTimes of Invalid mutaion: 1\u001b[0m\n",
      "\u001b[31mTimes of Invalid mutaion: 1\u001b[0m\n",
      "\u001b[31mTimes of Invalid mutaion: 2\u001b[0m\n",
      "\u001b[31mTimes of Invalid mutaion: 1\u001b[0m\n",
      "\u001b[31mTimes of Invalid mutaion: 1\u001b[0m\n",
      "\u001b[31mTimes of Invalid mutaion: 1\u001b[0m\n",
      "\u001b[31mTimes of Invalid mutaion: 1\u001b[0m\n",
      "\u001b[31mTimes of Invalid mutaion: 1\u001b[0m\n",
      "\u001b[31mTimes of Invalid mutaion: 1\u001b[0m\n",
      "\u001b[31mTimes of Invalid mutaion: 1\u001b[0m\n",
      "\u001b[31mTimes of Invalid mutaion: 1\u001b[0m\n",
      "\u001b[31mTimes of Invalid mutaion: 1\u001b[0m\n",
      "\u001b[31mTimes of Invalid mutaion: 1\u001b[0m\n",
      "\u001b[31mTimes of Invalid mutaion: 1\u001b[0m\n",
      "\u001b[31mTimes of Invalid mutaion: 1\u001b[0m\n",
      "\u001b[31mTimes of Invalid mutaion: 1\u001b[0m\n",
      "\u001b[31mTimes of Invalid mutaion: 1\u001b[0m\n",
      "\u001b[31mTimes of Invalid mutaion: 1\u001b[0m\n",
      "\u001b[31mTimes of Invalid mutaion: 2\u001b[0m\n",
      "\u001b[31mTimes of Invalid mutaion: 3\u001b[0m\n",
      "CourseInstructorInfo: course name: 劳技 | instructor name: 周剑 | 0\n",
      "CourseInstructorInfo: course name: 语文早读 | instructor name: 许梅 | 1\n",
      "CourseInstructorInfo: course name: 道德法制 | instructor name: 黄庆猛 | 2\n",
      "CourseInstructorInfo: course name: 语文 | instructor name: 王绍坤 | 3\n",
      "CourseInstructorInfo: course name: 心理健康 | instructor name: 李发德 | 4\n",
      "CourseInstructorInfo: course name: 体育 | instructor name: 马晶 | 5\n",
      "CourseInstructorInfo: course name: 英语早读 | instructor name: 罗迎春 | 6\n",
      "CourseInstructorInfo: course name: 音乐 | instructor name: 李一鸣 | 7\n",
      "CourseInstructorInfo: course name: 物理 | instructor name: 吴发祥 | 8\n",
      "CourseInstructorInfo: course name: 物理 | instructor name: 吴发祥 | 9\n",
      "CourseInstructorInfo: course name: 数学 | instructor name: 马云芝 | 10\n",
      "CourseInstructorInfo: course name: 道德法制 | instructor name: 黄庆猛 | 11\n",
      "CourseInstructorInfo: course name: 英语早读 | instructor name: 罗迎春 | 12\n",
      "CourseInstructorInfo: course name: 空 | instructor name: 空 | 13\n",
      "CourseInstructorInfo: course name: 英语 | instructor name: 罗迎春 | 14\n",
      "CourseInstructorInfo: course name: 英语 | instructor name: 罗迎春 | 15\n",
      "CourseInstructorInfo: course name: 语文 | instructor name: 王绍坤 | 16\n",
      "CourseInstructorInfo: course name: 语文 | instructor name: 王绍坤 | 17\n",
      "CourseInstructorInfo: course name: 研究性学习 | instructor name: 马云芝 | 18\n",
      "CourseInstructorInfo: course name: 英语 | instructor name: 罗迎春 | 19\n",
      "CourseInstructorInfo: course name: 语文 | instructor name: 王绍坤 | 20\n",
      "CourseInstructorInfo: course name: 数学早读 | instructor name: 马云芝 | 21\n",
      "CourseInstructorInfo: course name: 语文早读 | instructor name: 许梅 | 22\n",
      "CourseInstructorInfo: course name: 历史 | instructor name: 刘俊娇 | 23\n",
      "CourseInstructorInfo: course name: 道德法制 | instructor name: 黄庆猛 | 24\n",
      "CourseInstructorInfo: course name: 写字书法 | instructor name: 周锦坤 | 25\n",
      "CourseInstructorInfo: course name: 美术 | instructor name: 何自雄 | 26\n",
      "CourseInstructorInfo: course name: 数学 | instructor name: 马云芝 | 27\n",
      "CourseInstructorInfo: course name: 数学 | instructor name: 马云芝 | 28\n",
      "CourseInstructorInfo: course name: 英语 | instructor name: 罗迎春 | 29\n",
      "CourseInstructorInfo: course name: 体育 | instructor name: 马晶 | 30\n",
      "CourseInstructorInfo: course name: 历史 | instructor name: 刘俊娇 | 31\n",
      "CourseInstructorInfo: course name: 物理 | instructor name: 吴发祥 | 32\n",
      "CourseInstructorInfo: course name: 体育 | instructor name: 马晶 | 33\n",
      "CourseInstructorInfo: course name: 数学 | instructor name: 马云芝 | 34\n",
      "CourseInstructorInfo: course name: 化学 | instructor name: 张文云 | 35\n",
      "CourseInstructorInfo: course name: 化学 | instructor name: 张文云 | 36\n",
      "CourseInstructorInfo: course name: 语文 | instructor name: 王绍坤 | 37\n",
      "CourseInstructorInfo: course name: 数学 | instructor name: 马云芝 | 38\n",
      "CourseInstructorInfo: course name: 化学 | instructor name: 张文云 | 39\n",
      "CourseInstructorInfo: course name: 空 | instructor name: 空 | 40\n",
      "CourseInstructorInfo: course name: 英语早读 | instructor name: 罗迎春 | 41\n",
      "CourseInstructorInfo: course name: 数学 | instructor name: 李进勇 | 42\n",
      "CourseInstructorInfo: course name: 数学 | instructor name: 李进勇 | 43\n",
      "CourseInstructorInfo: course name: 物理 | instructor name: 吴发祥 | 44\n",
      "CourseInstructorInfo: course name: 语文早读 | instructor name: 王绍坤 | 45\n",
      "CourseInstructorInfo: course name: 数学 | instructor name: 李进勇 | 46\n",
      "CourseInstructorInfo: course name: 道德法制 | instructor name: 黄庆猛 | 47\n",
      "CourseInstructorInfo: course name: 体育 | instructor name: 马晶 | 48\n",
      "CourseInstructorInfo: course name: 心理健康 | instructor name: 李发德 | 49\n",
      "CourseInstructorInfo: course name: 数学 | instructor name: 李进勇 | 50\n",
      "CourseInstructorInfo: course name: 英语 | instructor name: 罗迎春 | 51\n",
      "CourseInstructorInfo: course name: 化学 | instructor name: 张文云 | 52\n",
      "CourseInstructorInfo: course name: 道德法制 | instructor name: 黄庆猛 | 53\n",
      "CourseInstructorInfo: course name: 语文 | instructor name: 刘伟 | 54\n",
      "CourseInstructorInfo: course name: 历史 | instructor name: 刘俊娇 | 55\n",
      "CourseInstructorInfo: course name: 语文 | instructor name: 刘伟 | 56\n",
      "CourseInstructorInfo: course name: 数学 | instructor name: 李进勇 | 57\n",
      "CourseInstructorInfo: course name: 语文 | instructor name: 刘伟 | 58\n",
      "CourseInstructorInfo: course name: 音乐 | instructor name: 李一鸣 | 59\n",
      "CourseInstructorInfo: course name: 化学 | instructor name: 张文云 | 60\n",
      "CourseInstructorInfo: course name: 写字书法 | instructor name: 周锦坤 | 61\n",
      "CourseInstructorInfo: course name: 化学 | instructor name: 张文云 | 62\n",
      "CourseInstructorInfo: course name: 体育 | instructor name: 马晶 | 63\n",
      "CourseInstructorInfo: course name: 数学早读 | instructor name: 马云芝 | 64\n",
      "CourseInstructorInfo: course name: 语文 | instructor name: 刘伟 | 65\n",
      "CourseInstructorInfo: course name: 物理 | instructor name: 吴发祥 | 66\n",
      "CourseInstructorInfo: course name: 英语 | instructor name: 罗迎春 | 67\n",
      "CourseInstructorInfo: course name: 英语 | instructor name: 罗迎春 | 68\n",
      "CourseInstructorInfo: course name: 劳技 | instructor name: 周剑 | 69\n",
      "CourseInstructorInfo: course name: 历史 | instructor name: 刘俊娇 | 70\n",
      "CourseInstructorInfo: course name: 研究性学习 | instructor name: 黄庆猛 | 71\n",
      "CourseInstructorInfo: course name: 体育 | instructor name: 马晶 | 72\n",
      "CourseInstructorInfo: course name: 英语 | instructor name: 罗迎春 | 73\n",
      "CourseInstructorInfo: course name: 语文早读 | instructor name: 王绍坤 | 74\n",
      "CourseInstructorInfo: course name: 物理 | instructor name: 吴发祥 | 75\n",
      "CourseInstructorInfo: course name: 道德法制 | instructor name: 黄庆猛 | 76\n",
      "CourseInstructorInfo: course name: 语文 | instructor name: 刘伟 | 77\n",
      "CourseInstructorInfo: course name: 美术 | instructor name: 何自雄 | 78\n",
      "CourseInstructorInfo: course name: 英语早读 | instructor name: 罗迎春 | 79\n",
      "CourseInstructorInfo: course name: 语文早读 | instructor name: 刘伟 | 80\n",
      "CourseInstructorInfo: course name: 数学 | instructor name: 李进勇 | 81\n",
      "CourseInstructorInfo: course name: 英语 | instructor name: 姚焕扬 | 82\n",
      "CourseInstructorInfo: course name: 英语 | instructor name: 姚焕扬 | 83\n",
      "CourseInstructorInfo: course name: 语文 | instructor name: 刘伟 | 84\n",
      "CourseInstructorInfo: course name: 语文 | instructor name: 刘伟 | 85\n",
      "CourseInstructorInfo: course name: 美术 | instructor name: 何自雄 | 86\n",
      "CourseInstructorInfo: course name: 体育 | instructor name: 马晶 | 87\n",
      "CourseInstructorInfo: course name: 研究性学习 | instructor name: 李进勇 | 88\n",
      "CourseInstructorInfo: course name: 体育 | instructor name: 马晶 | 89\n",
      "CourseInstructorInfo: course name: 空 | instructor name: 空 | 90\n",
      "CourseInstructorInfo: course name: 英语 | instructor name: 姚焕扬 | 91\n",
      "CourseInstructorInfo: course name: 英语早读 | instructor name: 姚焕扬 | 92\n",
      "CourseInstructorInfo: course name: 语文 | instructor name: 刘伟 | 93\n",
      "CourseInstructorInfo: course name: 心理健康 | instructor name: 李发德 | 94\n",
      "CourseInstructorInfo: course name: 语文早读 | instructor name: 刘伟 | 95\n",
      "CourseInstructorInfo: course name: 体育 | instructor name: 马晶 | 96\n",
      "CourseInstructorInfo: course name: 物理 | instructor name: 吴发祥 | 97\n",
      "CourseInstructorInfo: course name: 数学 | instructor name: 李进勇 | 98\n",
      "CourseInstructorInfo: course name: 化学 | instructor name: 李发高 | 99\n",
      "CourseInstructorInfo: course name: 道德法制 | instructor name: 黄庆猛 | 100\n",
      "CourseInstructorInfo: course name: 数学 | instructor name: 李进勇 | 101\n",
      "CourseInstructorInfo: course name: 音乐 | instructor name: 李一鸣 | 102\n",
      "CourseInstructorInfo: course name: 物理 | instructor name: 吴发祥 | 103\n",
      "CourseInstructorInfo: course name: 英语早读 | instructor name: 姚焕扬 | 104\n",
      "CourseInstructorInfo: course name: 数学 | instructor name: 李进勇 | 105\n",
      "CourseInstructorInfo: course name: 历史 | instructor name: 刘俊娇 | 106\n",
      "CourseInstructorInfo: course name: 数学早读 | instructor name: 李进勇 | 107\n",
      "CourseInstructorInfo: course name: 化学 | instructor name: 李发高 | 108\n",
      "CourseInstructorInfo: course name: 道德法制 | instructor name: 黄庆猛 | 109\n",
      "CourseInstructorInfo: course name: 写字书法 | instructor name: 周锦坤 | 110\n",
      "CourseInstructorInfo: course name: 语文 | instructor name: 刘伟 | 111\n",
      "CourseInstructorInfo: course name: 英语 | instructor name: 姚焕扬 | 112\n",
      "CourseInstructorInfo: course name: 化学 | instructor name: 李发高 | 113\n",
      "CourseInstructorInfo: course name: 语文 | instructor name: 刘伟 | 114\n",
      "CourseInstructorInfo: course name: 道德法制 | instructor name: 黄庆猛 | 115\n",
      "CourseInstructorInfo: course name: 历史 | instructor name: 刘俊娇 | 116\n",
      "CourseInstructorInfo: course name: 物理 | instructor name: 吴发祥 | 117\n",
      "CourseInstructorInfo: course name: 劳技 | instructor name: 周剑 | 118\n",
      "CourseInstructorInfo: course name: 数学 | instructor name: 李进勇 | 119\n",
      "CourseInstructorInfo: course name: 历史 | instructor name: 刘俊娇 | 120\n",
      "CourseInstructorInfo: course name: 语文 | instructor name: 杨春玲 | 121\n",
      "CourseInstructorInfo: course name: 数学 | instructor name: 任金波 | 122\n",
      "CourseInstructorInfo: course name: 写字书法 | instructor name: 周锦坤 | 123\n",
      "CourseInstructorInfo: course name: 物理 | instructor name: 刀俊翔 | 1"
     ]
    },
    {
     "data": {
      "text/html": [
       "<b>limit_output extension: Maximum message size of 10000 exceeded with 17747 characters</b>"
      ]
     },
     "metadata": {},
     "output_type": "display_data"
    }
   ],
   "source": [
    "ScheduleTable = Schedule(slots, rooms, courses, instructors )\n",
    "ScheduleTable.createSchedule()\n",
    "bestParent = ScheduleTable\n",
    "courseToBeEvaluated = getCourseToBeEvaluated(bestParent)\n",
    "scheduleOfClass = getScheduleOfClass(courseToBeEvaluated)\n",
    "bestFitness = calculateFitness(scheduleOfClass)\n",
    "x = 0\n",
    "while True: \n",
    "    child = validMutation(bestParent) \n",
    "    #print(x)\n",
    "    if child == bestParent:\n",
    "        break\n",
    "    courseToBeEvaluated = getCourseToBeEvaluated(child)\n",
    "    scheduleOfClass = getScheduleOfClass(courseToBeEvaluated)\n",
    "    childFitness = calculateFitness(scheduleOfClass)\n",
    "    \n",
    "    #print(\"parentFitness = {} | childFitness= {}\".format(bestFitness, childFitness))\n",
    "    if bestFitness >= childFitness:\n",
    "        x += 1\n",
    "        if x > 120:\n",
    "            break\n",
    "        continue  \n",
    "    x = 0\n",
    "    bestFitness = childFitness \n",
    "    #print(\"bestFitness = {}\".format(bestFitness))\n",
    "    bestParent = child  \n",
    "bestParent.inspectSchedule()"
   ]
  },
  {
   "cell_type": "code",
   "execution_count": null,
   "metadata": {},
   "outputs": [],
   "source": []
  }
 ],
 "metadata": {
  "hide_input": false,
  "kernelspec": {
   "display_name": "Python 3",
   "language": "python",
   "name": "python3"
  },
  "language_info": {
   "codemirror_mode": {
    "name": "ipython",
    "version": 3
   },
   "file_extension": ".py",
   "mimetype": "text/x-python",
   "name": "python",
   "nbconvert_exporter": "python",
   "pygments_lexer": "ipython3",
   "version": "3.7.2"
  },
  "toc": {
   "base_numbering": 1,
   "nav_menu": {},
   "number_sections": true,
   "sideBar": true,
   "skip_h1_title": false,
   "title_cell": "Table of Contents",
   "title_sidebar": "Contents",
   "toc_cell": false,
   "toc_position": {
    "height": "calc(100% - 180px)",
    "left": "10px",
    "top": "150px",
    "width": "211px"
   },
   "toc_section_display": true,
   "toc_window_display": true
  },
  "varInspector": {
   "cols": {
    "lenName": 16,
    "lenType": 16,
    "lenVar": 40
   },
   "kernels_config": {
    "python": {
     "delete_cmd_postfix": "",
     "delete_cmd_prefix": "del ",
     "library": "var_list.py",
     "varRefreshCmd": "print(var_dic_list())"
    },
    "r": {
     "delete_cmd_postfix": ") ",
     "delete_cmd_prefix": "rm(",
     "library": "var_list.r",
     "varRefreshCmd": "cat(var_dic_list()) "
    }
   },
   "types_to_exclude": [
    "module",
    "function",
    "builtin_function_or_method",
    "instance",
    "_Feature"
   ],
   "window_display": false
  }
 },
 "nbformat": 4,
 "nbformat_minor": 2
}
