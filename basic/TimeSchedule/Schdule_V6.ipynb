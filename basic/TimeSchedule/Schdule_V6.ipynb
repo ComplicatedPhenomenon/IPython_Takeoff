{
 "cells": [
  {
   "cell_type": "code",
   "execution_count": 71,
   "metadata": {
    "cell_style": "center"
   },
   "outputs": [],
   "source": [
    "from IPython.core.interactiveshell import InteractiveShell\n",
    "InteractiveShell.ast_node_interactivity = 'all'"
   ]
  },
  {
   "cell_type": "code",
   "execution_count": 72,
   "metadata": {},
   "outputs": [],
   "source": [
    "import random"
   ]
  },
  {
   "cell_type": "code",
   "execution_count": 73,
   "metadata": {},
   "outputs": [],
   "source": [
    "import json\n",
    "import copy"
   ]
  },
  {
   "cell_type": "code",
   "execution_count": 74,
   "metadata": {},
   "outputs": [],
   "source": [
    "import time\n",
    "import datetime"
   ]
  },
  {
   "cell_type": "code",
   "execution_count": 75,
   "metadata": {},
   "outputs": [],
   "source": [
    "from collections import Counter"
   ]
  },
  {
   "cell_type": "code",
   "execution_count": 76,
   "metadata": {},
   "outputs": [],
   "source": [
    "from termcolor import colored"
   ]
  },
  {
   "cell_type": "markdown",
   "metadata": {},
   "source": [
    "# Prepare the data structure "
   ]
  },
  {
   "cell_type": "code",
   "execution_count": 77,
   "metadata": {},
   "outputs": [],
   "source": [
    "# Slot = Index , Day , Hour\n",
    "class SlotProcessor:\n",
    "    def __init__(self, inputString):\n",
    "        stringParts = inputString.split(\",\")\n",
    "        cursorPosition = 0\n",
    "        self.id = stringParts[cursorPosition].strip()\n",
    "        cursorPosition += 1\n",
    "        self.day = stringParts[cursorPosition].strip()\n",
    "        cursorPosition += 1\n",
    "        self.time = stringParts[cursorPosition].strip()\n",
    "    \"\"\"        \n",
    "    def getSlotInfo(self):\n",
    "        print('Index: {} | Day: {} | Hour:{}'.format(self.id, self.day, self.time))\n",
    "    \"\"\""
   ]
  },
  {
   "cell_type": "code",
   "execution_count": 78,
   "metadata": {
    "code_folding": []
   },
   "outputs": [],
   "source": [
    "# Room = Index , Name , Capacity\n",
    "class RoomProcessor:\n",
    "    def __init__(self, inputString):\n",
    "        stringParts = inputString.split(\",\")\n",
    "        cursorPosition = 0\n",
    "\n",
    "        self.id = stringParts[cursorPosition].strip()\n",
    "        cursorPosition += 1\n",
    "\n",
    "        self.name = stringParts[cursorPosition].strip()\n",
    "    \"\"\"\n",
    "    def getRoomInfo(self):\n",
    "        print('Index: {} | name: {}'.format(self.id, self.name))\n",
    "    \"\"\""
   ]
  },
  {
   "cell_type": "code",
   "execution_count": 79,
   "metadata": {},
   "outputs": [],
   "source": [
    "#  Course = Index , Name , Capacity , Arrangement , InstructorIndex\n",
    "class CourseProcessor:\n",
    "    def __init__(self, inputString):\n",
    "        stringParts = inputString.split(\",\")\n",
    "        cursorPosition = 0\n",
    "\n",
    "        self.id = stringParts[cursorPosition].strip()\n",
    "        cursorPosition += 1\n",
    "\n",
    "        self.name = stringParts[cursorPosition].strip()\n",
    "        cursorPosition += 1\n",
    "\n",
    "        self.capacity = stringParts[cursorPosition].strip()\n",
    "        cursorPosition += 1\n",
    "\n",
    "        self.arrangement = stringParts[cursorPosition].strip()\n",
    "        cursorPosition += 1\n",
    "\n",
    "        self.instructorIndex = int(stringParts[cursorPosition].strip())\n",
    "   \n",
    "    def getCourseInfo(self):\n",
    "        print(\"Course ID: {} | Course Name: {} | Roomtype: {} | Arrangement: {} | InstructorIndex: {}\"\\\n",
    "              .format(self.id, self.name, self.capacity, self.arrangement, self.instructorIndex))\n",
    "        \n",
    "    def getCourseName(self):\n",
    "        return self.name\n",
    "    def getCourseInstructorIndex(self):\n",
    "        return int(self.instructorIndex)\n",
    "     "
   ]
  },
  {
   "cell_type": "code",
   "execution_count": 80,
   "metadata": {},
   "outputs": [],
   "source": [
    "# Instructor = Index , Name \n",
    "class InstructorProcessor:\n",
    "    def __init__(self, inputString):\n",
    "        stringParts = inputString.split(\",\")\n",
    "        cursorPosition = 0\n",
    "\n",
    "        self.id = stringParts[cursorPosition].strip()\n",
    "        cursorPosition += 1\n",
    "\n",
    "        self.name = stringParts[cursorPosition].strip()\n",
    "        cursorPosition += 1\n",
    "     \n",
    "    def getInstructorIndex(self):\n",
    "        return int(self.id)\n",
    "    \n",
    "    def getInstructorName(self):\n",
    "        return self.name\n",
    "    \n",
    "    def getInstructorInfo(self):\n",
    "        print(\"Instructor ID: {} | Instructor Name: {}\".format(self.id, self.name))\n",
    "    \n",
    "    # Highlight function getInstructorNameViaIndex(instructorIndex)\n",
    "    def getInstructorNameViaIndex(self, instructorIndex):\n",
    "        if int(self.id) == instructorIndex:\n",
    "            print (self.name) \n",
    "        else:\n",
    "            print('There is no instructor with this instructor index')\n"
   ]
  },
  {
   "cell_type": "code",
   "execution_count": 81,
   "metadata": {},
   "outputs": [],
   "source": [
    "slots = []\n",
    "rooms = []\n",
    "courses = []\n",
    "instructors = []\n",
    "with open('input4.txt') as fp:\n",
    "    for line in fp:\n",
    "        if line.startswith(\"#\"):\n",
    "        # ignore comments in input file\n",
    "            continue\n",
    "        lineSections = line.split(\"=\")\n",
    "        # print(lineSections)\n",
    "        if lineSections[0].strip() == \"Slot\":\n",
    "            #1 , one    ,  8:00\n",
    "            # print(lineSections[1])\n",
    "            slots.append(SlotProcessor(lineSections[1]))\n",
    "            # slots\n",
    "        elif lineSections[0].strip() == \"Room\":\n",
    "            rooms.append(RoomProcessor(lineSections[1]))\n",
    "        elif lineSections[0].strip() == \"Course\":\n",
    "            courses.append(CourseProcessor(lineSections[1]))\n",
    "        elif lineSections[0].strip() == \"Instructor\":\n",
    "            instructors.append(InstructorProcessor(lineSections[1]))\n",
    "\n",
    "#print('number of slots: {}, number of rooms: {}, number of courses: {}, number of instructors: {}'.\\\n",
    "#     format(len(slots), len(rooms), len(courses), len(instructors)))\n"
   ]
  },
  {
   "cell_type": "code",
   "execution_count": 82,
   "metadata": {},
   "outputs": [],
   "source": [
    "class courseInstructor:\n",
    "    def __init__(self, an_item_in_courses, an_item_in_instructors):\n",
    "        self.course = an_item_in_courses        \n",
    "        self.instructor = an_item_in_instructors\n",
    "    \n",
    "    def printCourseInstructorInfo(self): # Don't forget situation that 2 teachers may have the same name.\n",
    "        return('course name: {} | instructor name: {}'.\\\n",
    "              format(self.course.getCourseName(),\\\n",
    "                     self.instructor.getInstructorName())) \n",
    "    "
   ]
  },
  {
   "cell_type": "markdown",
   "metadata": {},
   "source": [
    "# Class schedule "
   ]
  },
  {
   "cell_type": "code",
   "execution_count": 83,
   "metadata": {
    "code_folding": []
   },
   "outputs": [],
   "source": [
    "def InstructorNotAvailable(which_class, CurrentInstructor, ExistedSlots, which_slot):\n",
    "    if which_class == 1:\n",
    "        return False\n",
    "    else:\n",
    "        i = 1\n",
    "        a = 0\n",
    "        while i < which_class:          \n",
    "            if CurrentInstructor == ExistedSlots[which_slot - 40 * i][0].instructor.getInstructorIndex():\n",
    "                a += 1\n",
    "            else:\n",
    "                a += 0\n",
    "            \n",
    "            i += 1\n",
    "        if a == 0:\n",
    "            return False\n",
    "        else:\n",
    "            return True\n"
   ]
  },
  {
   "cell_type": "code",
   "execution_count": 84,
   "metadata": {},
   "outputs": [],
   "source": [
    "class Schedule:\n",
    "    def __init__(self, slots, rooms, courses, instructors):\n",
    "        self.schedule_slots = slots\n",
    "        self.schedule_rooms = rooms\n",
    "        self.schedule_courses = courses\n",
    "        self.schedule_instructors = instructors\n",
    "        self.slotsInfo = []\n",
    "        self.slots = []\n",
    "        self.fitness = 0.0\n",
    "        self.generation = 1\n",
    "        self.number_of_courses_for_a_class_per_week = len(self.schedule_slots)\n",
    "        self.weekday = 5\n",
    "        self.number_of_courses_for_a_class_per_day=self.number_of_courses_for_a_class_per_week/self.weekday\n",
    "\n",
    "        for i in range(0, len(slots) * len(rooms)): \n",
    "            self.slots.append([]) \n",
    "            \n",
    "    def inspectSchedule(self):\n",
    "        if self.slots[0] == []:\n",
    "                print('Wake up, before looking up the schedule, create it at first!')\n",
    "        else:\n",
    "                \n",
    "            for i in range(0, len(slots) * len(rooms)):\n",
    "                print( 'CourseInstructorInfo: {} | {}'\\\n",
    "                      .format(self.slots[i][0].printCourseInstructorInfo(), i))\n",
    "    # only can be called once        \n",
    "    def createSchedule(self):\n",
    "        number_of_courses_for_all_classes_per_week = len(self.slots) # 240\n",
    "        number_of_course_types = len(self.schedule_courses)//len(self.schedule_rooms) \n",
    "        initial_choice = [list(range(0,40)), list(range(40,80)),\\\n",
    "                          list(range(80,120)), list(range(120,160)),\\\n",
    "                          list(range(160,200)), list(range(200,240))]\n",
    "        \n",
    "        for course in self.schedule_courses:           \n",
    "            slotContent = courseInstructor(course, self.schedule_instructors[course.getCourseInstructorIndex() - 1])\n",
    "            classIndex=(int(course.id)+15)//number_of_course_types\n",
    "            InstructorIndex = course.getCourseInstructorIndex() # type(classIndex) is float\n",
    "            repeated_times_for_a_course = int(course.arrangement[1])\n",
    "            j = 0 \n",
    "            while j < repeated_times_for_a_course:\n",
    "                if len(initial_choice[classIndex - 1]) > 1:\n",
    "                    abondon_choice_1, abondon_choice_2 = random.sample(initial_choice[classIndex - 1], 2) \n",
    "                    abondon_choice = abondon_choice_2 if InstructorNotAvailable(classIndex, InstructorIndex, self.slots, abondon_choice_1)\\\n",
    "                    else abondon_choice_1\n",
    "                else: \n",
    "                    abondon_choice = initial_choice[classIndex - 1][0] \n",
    "                        \n",
    "                self.slots[abondon_choice].append(slotContent)\n",
    "                \"\"\"\n",
    "                print('OKAY! The {}th course :{}, place it to the {}th slot'.format(counter_the_number_of_arranged_course,course.getCourseName(), abondon_choice))\n",
    "                counter_the_number_of_arranged_course += 1\n",
    "                print(self.slots[abondon_choice][0].printCourseInstructorInfo()) # Different from Version1\n",
    "                \"\"\"\n",
    "                initial_choice[classIndex - 1].remove(abondon_choice)\n",
    "                j = j + 1    \n",
    "        \n",
    "        for k in range(0, len(self.slots)):\n",
    "            self.slotsInfo.append(self.slots[k][0])\n",
    "           \n",
    "        \n",
    "        "
   ]
  },
  {
   "cell_type": "code",
   "execution_count": null,
   "metadata": {},
   "outputs": [],
   "source": [
    "class Schedule:\n",
    "    def __init__(self, slots, rooms, courses, instructors):\n",
    "        self.schedule_slots = slots\n",
    "        self.schedule_rooms = rooms\n",
    "        self.schedule_courses = courses\n",
    "        self.schedule_instructors = instructors\n",
    "        self.slotsInfo = []\n",
    "        self.slots = []\n",
    "        self.fitness = 0.0\n",
    "        self.generation = 1\n",
    "        self.number_of_courses_for_a_class_per_week = len(self.schedule_slots)\n",
    "        self.weekday = 5\n",
    "        self.number_of_courses_for_a_class_per_day=self.number_of_courses_for_a_class_per_week/self.weekday\n",
    "\n",
    "        for i in range(0, len(slots) * len(rooms)): \n",
    "            self.slots.append([]) \n",
    "            \n",
    "    def inspectSchedule(self):\n",
    "        if self.slots[0] == []:\n",
    "                print('Wake up, before looking up the schedule, create it at first!')\n",
    "        else:\n",
    "                \n",
    "            for i in range(0, len(slots) * len(rooms)):\n",
    "                print( 'CourseInstructorInfo: {} | {}'\\\n",
    "                      .format(self.slots[i][0].printCourseInstructorInfo(), i))\n",
    "    # only can be called once        \n",
    "    def createSchedule(self):\n",
    "        number_of_courses_for_all_classes_per_week = len(self.slots) # 240\n",
    "        number_of_course_types = len(self.schedule_courses)//len(self.schedule_rooms) \n",
    "        initial_choice = [list(range(0,40)), list(range(40,80)),\\\n",
    "                          list(range(80,120)), list(range(120,160)),\\\n",
    "                          list(range(160,200)), list(range(200,240))]\n",
    "        \n",
    "        for course in self.schedule_courses:           \n",
    "            slotContent = courseInstructor(course, self.schedule_instructors[course.getCourseInstructorIndex() - 1])\n",
    "            classIndex=(int(course.id)+15)//number_of_course_types\n",
    "            InstructorIndex = course.getCourseInstructorIndex() # type(classIndex) is float\n",
    "            repeated_times_for_a_course = int(course.arrangement[1])\n",
    "            j = 0 \n",
    "            while j < repeated_times_for_a_course:\n",
    "                if len(initial_choice[classIndex - 1]) > 1:\n",
    "                    abondon_choice_1, abondon_choice_2 = random.sample(initial_choice[classIndex - 1], 2) \n",
    "                    abondon_choice = abondon_choice_2 if InstructorNotAvailable(classIndex, InstructorIndex, self.slots, abondon_choice_1)\\\n",
    "                    else abondon_choice_1\n",
    "                else: \n",
    "                    abondon_choice = initial_choice[classIndex - 1][0] \n",
    "                        \n",
    "                self.slots[abondon_choice].append(slotContent)\n",
    "                \"\"\"\n",
    "                print('OKAY! The {}th course :{}, place it to the {}th slot'.format(counter_the_number_of_arranged_course,course.getCourseName(), abondon_choice))\n",
    "                counter_the_number_of_arranged_course += 1\n",
    "                print(self.slots[abondon_choice][0].printCourseInstructorInfo()) # Different from Version1\n",
    "                \"\"\"\n",
    "                initial_choice[classIndex - 1].remove(abondon_choice)\n",
    "                j = j + 1    \n",
    "        \n",
    "        for k in range(0, len(self.slots)):\n",
    "            self.slotsInfo.append(self.slots[k][0])\n",
    "          "
   ]
  },
  {
   "cell_type": "markdown",
   "metadata": {},
   "source": [
    "# define Fitness calculation"
   ]
  },
  {
   "cell_type": "code",
   "execution_count": 85,
   "metadata": {},
   "outputs": [
    {
     "data": {
      "text/plain": [
       "\"\\ndef calculateFitnessForAStrip(courseForADayAClass):\\n    getMark = 0\\n    className = courseForADayAClass[0]\\n    classArr= courseForADayAClass[1]\\n    #x = len(list(dict(Counter(courseForADayAClass[0])).values()))\\n    x = len(list(dict(Counter(className)).values()))\\n    \\n    if x==8:\\n        getMark += 10\\n        \\n    if '语文' or '数学' or '英语' in className[0:4]:\\n        getMark +=5\\n    if '数学' in className[0:4]:\\n        getMark == 5 \\n    if '英语' in className[0:4]:\\n        getMark == 5\\n    if '物理' in className[0:4]:\\n        getMark == 3\\n    if '化学' in className[0:4]:\\n        getMark == 3\\n    if '生物' in className[0:4]:\\n        getMark == 3\\n    return getMark\\n\""
      ]
     },
     "execution_count": 85,
     "metadata": {},
     "output_type": "execute_result"
    }
   ],
   "source": [
    "\"\"\"\n",
    "def calculateFitnessForAStrip(courseForADayAClass):\n",
    "    getMark = 0\n",
    "    className = courseForADayAClass[0]\n",
    "    classArr= courseForADayAClass[1]\n",
    "    #x = len(list(dict(Counter(courseForADayAClass[0])).values()))\n",
    "    x = len(list(dict(Counter(className)).values()))\n",
    "    \n",
    "    if x==8:\n",
    "        getMark += 10\n",
    "        \n",
    "    if '语文' or '数学' or '英语' in className[0:4]:\n",
    "        getMark +=5\n",
    "    if '数学' in className[0:4]:\n",
    "        getMark == 5 \n",
    "    if '英语' in className[0:4]:\n",
    "        getMark == 5\n",
    "    if '物理' in className[0:4]:\n",
    "        getMark == 3\n",
    "    if '化学' in className[0:4]:\n",
    "        getMark == 3\n",
    "    if '生物' in className[0:4]:\n",
    "        getMark == 3\n",
    "    return getMark\n",
    "\"\"\""
   ]
  },
  {
   "cell_type": "markdown",
   "metadata": {},
   "source": [
    "## Fitness for eight classes a day"
   ]
  },
  {
   "cell_type": "markdown",
   "metadata": {},
   "source": [
    "**Evaluate a course order in a day**"
   ]
  },
  {
   "cell_type": "markdown",
   "metadata": {},
   "source": [
    "Cut`ScheduleTable.slotsInfo`  into slices, A slices represents the courses for a class a day  "
   ]
  },
  {
   "cell_type": "markdown",
   "metadata": {},
   "source": [
    "##  Fitness for final schedule of class"
   ]
  },
  {
   "cell_type": "code",
   "execution_count": 86,
   "metadata": {},
   "outputs": [],
   "source": [
    "def getCourseToBeEvaluated(ScheduleTable): # ScheduleTable.slotsInfo\n",
    "    courseToBeEvaluated = []\n",
    "    for i in range(0,30):\n",
    "        courseToBeEvaluated.append([])\n",
    "    i = 0\n",
    "    for k in ScheduleTable.slotsInfo: # ScheduleTable.slotsInfo\n",
    "        m =  i // 8        \n",
    "        courseToBeEvaluated[m].append(k)\n",
    "        i += 1\n",
    "    return courseToBeEvaluated \n",
    "\n",
    "def getScheduleOfClass(courseToBeEvaluated):\n",
    "    ScheduleOfClass = []\n",
    "    x = len(courseToBeEvaluated)\n",
    "    for i in range(x):\n",
    "        ScheduleOfClass.append([[], []])\n",
    "        \n",
    "    for i in range(x):\n",
    "        for j in courseToBeEvaluated[i]:\n",
    "            ScheduleOfClass[i][0].append(j.course.name)\n",
    "            ScheduleOfClass[i][1].append(j.course.arrangement)\n",
    "    return ScheduleOfClass\n",
    "\n",
    "def calculateFitness(ScheduleOfClass):\n",
    "    mark = 0\n",
    "    for ooo in ScheduleOfClass:\n",
    "        a = calculateFitnessForAStrip(ooo)\n",
    "        mark += a\n",
    "    return mark "
   ]
  },
  {
   "cell_type": "code",
   "execution_count": 102,
   "metadata": {},
   "outputs": [],
   "source": [
    "def calculateFitnessForAStrip(courseForADayAClass):\n",
    "    getMark = 0\n",
    "    className = courseForADayAClass[0]\n",
    "    classArr= courseForADayAClass[1]\n",
    "    nameCountDict = dict(Counter(className[0:4]))\n",
    "    x = len(list(dict(Counter(className)).values()))\n",
    "\n",
    "    if '语文' in className[0:4] and nameCountDict['语文'] ==1:   \n",
    "        getMark +=5\n",
    "    if '语文' in className[0:4] and nameCountDict['语文'] !=1:   \n",
    "        getMark -=5\n",
    "    if '数学' in className[0:4] and nameCountDict['数学'] ==1:\n",
    "        getMark +=5 \n",
    "    if '数学' in className[0:4] and nameCountDict['数学'] !=1:\n",
    "        getMark -=5  \n",
    "    if '英语' in className[0:4] and nameCountDict['英语'] ==1:\n",
    "        getMark +=5 \n",
    "    if '英语' in className[0:4] and nameCountDict['英语'] !=1:\n",
    "        getMark -=5 \n",
    "    if '语文' in className[4:8]:\n",
    "        getMark -=5\n",
    "    if '数学' in className[4:8]:\n",
    "        getMark -=5\n",
    "    if '英语' in className[4:8]:\n",
    "        getMark -=5\n",
    "    if 'A1' in classArr[0:4]:\n",
    "        getMark -=5\n",
    "    if 'A2' in classArr[0:4]:\n",
    "        getMark -=5 \n",
    "    if 'A1' in classArr[4:8]:\n",
    "        getMark +=5 \n",
    "    if 'A2' in classArr[4:8]:\n",
    "        getMark +=5 \n",
    "    if x==8:\n",
    "        getMark +=10\n",
    "    elif x == 7:\n",
    "        getMark -= 5\n",
    "    else:\n",
    "        getMark -= 10\n",
    "            \n",
    "    return getMark"
   ]
  },
  {
   "cell_type": "code",
   "execution_count": 97,
   "metadata": {},
   "outputs": [],
   "source": [
    "def calculateFitnessForAStrip(courseForADayAClass):\n",
    "    getMark = 0\n",
    "    className = courseForADayAClass[0]\n",
    "    classArr= courseForADayAClass[1]\n",
    "    nameCountDict = dict(Counter(className[0:4]))\n",
    "   # x = len(list(dict(Counter(className)).values()))\n",
    "\n",
    "    if '语文' in className[0:4] and nameCountDict['语文'] ==1:   \n",
    "        getMark += 5\n",
    "            \n",
    "    return getMark"
   ]
  },
  {
   "cell_type": "markdown",
   "metadata": {},
   "source": [
    "# Mutate a available schedule"
   ]
  },
  {
   "cell_type": "code",
   "execution_count": 88,
   "metadata": {},
   "outputs": [
    {
     "name": "stdout",
     "output_type": "stream",
     "text": [
      "16 27\n",
      "67 71\n",
      "81 93\n",
      "123 148\n",
      "161 173\n",
      "200 223\n"
     ]
    }
   ],
   "source": [
    "for i in range(0, 6):\n",
    "    classIndex1, classIndex2 = random.sample(range(40 * i, 40 * i + 40), 2)\n",
    "    while classIndex1 > classIndex2:\n",
    "        classIndex1, classIndex2 = random.sample(range(40 * i, 40 * i + 40), 2)\n",
    "    print(classIndex1, classIndex2)"
   ]
  },
  {
   "cell_type": "code",
   "execution_count": 89,
   "metadata": {},
   "outputs": [
    {
     "data": {
      "text/plain": [
       "'\\ndef validMutation(ScheduleTable):\\n    p4 = copy.deepcopy(ScheduleTable)\\n    TimesOfInvalidMutation = 0\\n    for i in range(0, 6):\\n        classIndex1, classIndex2 = random.sample(range(40 * i, 40 * i + 40), 2)\\n        while InstructorNotAvailable(i+1, p4.slots[classIndex1][0].course.getCourseInstructorIndex(), p4.slots,  classIndex1) or               InstructorNotAvailable(i+1, p4.slots[classIndex2][0].course.getCourseInstructorIndex(), p4.slots,  classIndex2):\\n            TimesOfInvalidMutation += 1\\n            classIndex1, classIndex2 = random.sample(range(40 * i, 40 * i + 40), 2)\\n            print(colored(\"Times of Invalid mutaion: {}\".format(TimesOfInvalidMutation),\\'red\\'))\\n            \\n            if TimesOfInvalidMutation > 20:\\n                # To make the return value same as input \\n                p4.slotsInfo[classIndex1], p4.slotsInfo[classIndex2] = p4.slotsInfo[classIndex2], p4.slotsInfo[classIndex1] \\n                ScheduleTable.generation = ScheduleTable.generation - 1\\n                print(colored(\\'Prepare to stop the iteration\\',\\'red\\'))\\n                break\\n            \\n        p4.slotsInfo[classIndex1], p4.slotsInfo[classIndex2] = p4.slotsInfo[classIndex2], p4.slotsInfo[classIndex1]    \\n        p4.generation = ScheduleTable.generation + 1\\n    \\n    return p4\\n'"
      ]
     },
     "execution_count": 89,
     "metadata": {},
     "output_type": "execute_result"
    }
   ],
   "source": [
    "\"\"\"\n",
    "def validMutation(ScheduleTable):\n",
    "    p4 = copy.deepcopy(ScheduleTable)\n",
    "    TimesOfInvalidMutation = 0\n",
    "    for i in range(0, 6):\n",
    "        classIndex1, classIndex2 = random.sample(range(40 * i, 40 * i + 40), 2)\n",
    "        while InstructorNotAvailable(i+1, p4.slots[classIndex1][0].course.getCourseInstructorIndex(), p4.slots,  classIndex1) or \\\n",
    "              InstructorNotAvailable(i+1, p4.slots[classIndex2][0].course.getCourseInstructorIndex(), p4.slots,  classIndex2):\n",
    "            TimesOfInvalidMutation += 1\n",
    "            classIndex1, classIndex2 = random.sample(range(40 * i, 40 * i + 40), 2)\n",
    "            print(colored(\"Times of Invalid mutaion: {}\".format(TimesOfInvalidMutation),'red'))\n",
    "            \n",
    "            if TimesOfInvalidMutation > 20:\n",
    "                # To make the return value same as input \n",
    "                p4.slotsInfo[classIndex1], p4.slotsInfo[classIndex2] = p4.slotsInfo[classIndex2], p4.slotsInfo[classIndex1] \n",
    "                ScheduleTable.generation = ScheduleTable.generation - 1\n",
    "                print(colored('Prepare to stop the iteration','red'))\n",
    "                break\n",
    "            \n",
    "        p4.slotsInfo[classIndex1], p4.slotsInfo[classIndex2] = p4.slotsInfo[classIndex2], p4.slotsInfo[classIndex1]    \n",
    "        p4.generation = ScheduleTable.generation + 1\n",
    "    \n",
    "    return p4\n",
    "\"\"\""
   ]
  },
  {
   "cell_type": "code",
   "execution_count": 90,
   "metadata": {},
   "outputs": [],
   "source": [
    "def validMutation(ScheduleTable):\n",
    "    p4 = copy.deepcopy(ScheduleTable)\n",
    "    t1 = random.randint(0, 5) \n",
    "    TimesOfInvalidMutation = 0\n",
    "\n",
    "    classIndex1, classIndex2 = random.sample(range(40 * t1, 40 * t1 + 40), 2)\n",
    "    while InstructorNotAvailable(t1+1, p4.slots[classIndex1][0].course.getCourseInstructorIndex(), p4.slots,  classIndex1) or \\\n",
    "          InstructorNotAvailable(t1+1, p4.slots[classIndex2][0].course.getCourseInstructorIndex(), p4.slots,  classIndex2):\n",
    "        \n",
    "        TimesOfInvalidMutation += 1\n",
    "        classIndex1, classIndex2 = random.sample(range(40 * t1, 40 * t1 + 40), 2)\n",
    "        print(colored(\"Times of Invalid mutaion: {}\".format(TimesOfInvalidMutation),'red'))\n",
    "        if TimesOfInvalidMutation > 20:\n",
    "            # To make the return value same as input \n",
    "            p4.slotsInfo[classIndex1], p4.slotsInfo[classIndex2] = p4.slotsInfo[classIndex2], p4.slotsInfo[classIndex1] \n",
    "            ScheduleTable.generation = ScheduleTable.generation - 1\n",
    "            print(colored('Prepare to stop the iteration','red'))\n",
    "            break\n",
    "   # print(colored('Mutation is valid now', 'green'))   \n",
    "    p4.slotsInfo[classIndex1], p4.slotsInfo[classIndex2] = p4.slotsInfo[classIndex2], p4.slotsInfo[classIndex1]    \n",
    "    p4.generation = ScheduleTable.generation + 1\n",
    "    \n",
    "    return p4"
   ]
  },
  {
   "cell_type": "markdown",
   "metadata": {},
   "source": [
    "### Test `validMutation`"
   ]
  },
  {
   "cell_type": "code",
   "execution_count": 103,
   "metadata": {},
   "outputs": [
    {
     "name": "stdout",
     "output_type": "stream",
     "text": [
      "\u001b[31mTimes of Invalid mutaion: 1\u001b[0m\n",
      "\u001b[31mTimes of Invalid mutaion: 1\u001b[0m\n",
      "\u001b[31mTimes of Invalid mutaion: 1\u001b[0m\n",
      "\u001b[31mTimes of Invalid mutaion: 1\u001b[0m\n",
      "\u001b[31mTimes of Invalid mutaion: 1\u001b[0m\n",
      "\u001b[31mTimes of Invalid mutaion: 1\u001b[0m\n",
      "\u001b[31mTimes of Invalid mutaion: 1\u001b[0m\n",
      "\u001b[31mTimes of Invalid mutaion: 1\u001b[0m\n",
      "\u001b[31mTimes of Invalid mutaion: 1\u001b[0m\n",
      "\u001b[31mTimes of Invalid mutaion: 1\u001b[0m\n",
      "\u001b[31mTimes of Invalid mutaion: 1\u001b[0m\n",
      "\u001b[31mTimes of Invalid mutaion: 1\u001b[0m\n",
      "\u001b[31mTimes of Invalid mutaion: 1\u001b[0m\n",
      "\u001b[31mTimes of Invalid mutaion: 1\u001b[0m\n",
      "\u001b[31mTimes of Invalid mutaion: 1\u001b[0m\n",
      "\u001b[31mTimes of Invalid mutaion: 1\u001b[0m\n",
      "\u001b[31mTimes of Invalid mutaion: 1\u001b[0m\n",
      "\u001b[31mTimes of Invalid mutaion: 1\u001b[0m\n",
      "\u001b[31mTimes of Invalid mutaion: 1\u001b[0m\n",
      "\u001b[31mTimes of Invalid mutaion: 1\u001b[0m\n",
      "\u001b[31mTimes of Invalid mutaion: 1\u001b[0m\n",
      "\u001b[31mTimes of Invalid mutaion: 1\u001b[0m\n",
      "\u001b[31mTimes of Invalid mutaion: 1\u001b[0m\n",
      "\u001b[31mTimes of Invalid mutaion: 1\u001b[0m\n",
      "CourseInstructorInfo: course name: 语文 | instructor name: 许梅 | 0\n",
      "CourseInstructorInfo: course name: 化学 | instructor name: 张文云 | 1\n",
      "CourseInstructorInfo: course name: 语文 | instructor name: 许梅 | 2\n",
      "CourseInstructorInfo: course name: 英语 | instructor name: 罗迎春 | 3\n",
      "CourseInstructorInfo: course name: 写字书法 | instructor name: 周锦坤 | 4\n",
      "CourseInstructorInfo: course name: 美术 | instructor name: 何自雄 | 5\n",
      "CourseInstructorInfo: course name: 化学 | instructor name: 张文云 | 6\n",
      "CourseInstructorInfo: course name: 物理 | instructor name: 吴发祥 | 7\n",
      "CourseInstructorInfo: course name: 体育 | instructor name: 马晶 | 8\n",
      "CourseInstructorInfo: course name: 地理 | instructor name: 地理老师1 | 9\n",
      "CourseInstructorInfo: course name: 历史 | instructor name: 刘俊娇 | 10\n",
      "CourseInstructorInfo: course name: 道德法制 | instructor name: 黄庆猛 | 11\n",
      "CourseInstructorInfo: course name: 化学 | instructor name: 张文云 | 12\n",
      "CourseInstructorInfo: course name: 语文 | instructor name: 许梅 | 13\n",
      "CourseInstructorInfo: course name: 地理 | instructor name: 地理老师1 | 14\n",
      "CourseInstructorInfo: course name: 生物 | instructor name: 生物老师1 | 15\n",
      "CourseInstructorInfo: course name: 政治 | instructor name: 政治老师1 | 16\n",
      "CourseInstructorInfo: course name: 物理 | instructor name: 吴发祥 | 17\n",
      "CourseInstructorInfo: course name: 数学 | instructor name: 马云芝 | 18\n",
      "CourseInstructorInfo: course name: 音乐 | instructor name: 李一明 | 19\n",
      "CourseInstructorInfo: course name: 历史 | instructor name: 刘俊娇 | 20\n",
      "CourseInstructorInfo: course name: 数学 | instructor name: 马云芝 | 21\n",
      "CourseInstructorInfo: course name: 体育 | instructor name: 马晶 | 22\n",
      "CourseInstructorInfo: course name: 心理健康 | instructor name: 李发德 | 23\n",
      "CourseInstructorInfo: course name: 语文 | instructor name: 许梅 | 24\n",
      "CourseInstructorInfo: course name: 政治 | instructor name: 政治老师1 | 25\n",
      "CourseInstructorInfo: course name: 英语 | instructor name: 罗迎春 | 26\n",
      "CourseInstructorInfo: course name: 数学 | instructor name: 马云芝 | 27\n",
      "CourseInstructorInfo: course name: 地理 | instructor name: 地理老师1 | 28\n",
      "CourseInstructorInfo: course name: 数学 | instructor name: 马云芝 | 29\n",
      "CourseInstructorInfo: course name: 英语 | instructor name: 罗迎春 | 30\n",
      "CourseInstructorInfo: course name: 生物 | instructor name: 生物老师1 | 31\n",
      "CourseInstructorInfo: course name: 政治 | instructor name: 政治老师1 | 32\n",
      "CourseInstructorInfo: course name: 劳技 | instructor name: 周剑 | 33\n",
      "CourseInstructorInfo: course name: 物理 | instructor name: 吴发祥 | 34\n",
      "CourseInstructorInfo: course name: 语文 | instructor name: 许梅 | 35\n",
      "CourseInstructorInfo: course name: 数学 | instructor name: 马云芝 | 36\n",
      "CourseInstructorInfo: course name: 生物 | instructor name: 生物老师1 | 37\n",
      "CourseInstructorInfo: course name: 英语 | instructor name: 罗迎春 | 38\n",
      "CourseInstructorInfo: course name: 道德法制 | instructor name: 黄庆猛 | 39\n",
      "CourseInstructorInfo: course name: 化学 | instructor name: 张文云 | 40\n",
      "CourseInstructorInfo: course name: 地理 | instructor name: 地理老师1 | 41\n",
      "CourseInstructorInfo: course name: 语文 | instructor name: 王绍坤 | 42\n",
      "CourseInstructorInfo: course name: 体育 | instructor name: 马晶 | 43\n",
      "CourseInstructorInfo: course name: 政治 | instructor name: 政治老师1 | 44\n",
      "CourseInstructorInfo: course name: 物理 | instructor name: 吴发祥 | 45\n",
      "CourseInstructorInfo: course name: 英语 | instructor name: 罗迎春 | 46\n",
      "CourseInstructorInfo: course name: 美术 | instructor name: 何自雄 | 47\n",
      "CourseInstructorInfo: course name: 英语 | instructor name: 罗迎春 | 48\n",
      "CourseInstructorInfo: course name: 历史 | instructor name: 刘俊娇 | 49\n",
      "CourseInstructorInfo: course name: 数学 | instructor name: 马云芝 | 50\n",
      "CourseInstructorInfo: course name: 语文 | instructor name: 王绍坤 | 51\n",
      "CourseInstructorInfo: course name: 数学 | instructor name: 马云芝 | 52\n",
      "CourseInstructorInfo: course name: 生物 | instructor name: 生物老师1 | 53\n",
      "CourseInstructorInfo: course name: 语文 | instructor name: 王绍坤 | 54\n",
      "CourseInstructorInfo: course name: 体育 | instructor name: 马晶 | 55\n",
      "CourseInstructorInfo: course name: 数学 | instructor name: 马云芝 | 56\n",
      "CourseInstructorInfo: course name: 政治 | instructor name: 政治老师1 | 57\n",
      "CourseInstructorInfo: course name: 心理健康 | instructor name: 李发德 | 58\n",
      "CourseInstructorInfo: course name: 历史 | instructor name: 刘俊娇 | 59\n",
      "CourseInstructorInfo: course name: 化学 | instructor name: 张文云 | 60\n",
      "CourseInstructorInfo: course name: 地理 | instructor name: 地理老师1 | 61\n",
      "CourseInstructorInfo: course name: 物理 | instructor name: 吴发祥 | 62\n",
      "CourseInstructorInfo: course name: 数学 | instructor name: 马云芝 | 63\n",
      "CourseInstructorInfo: course name: 政治 | instructor name: 政治老师1 | 64\n",
      "CourseInstructorInfo: course name: 道德法制 | instructor name: 黄庆猛 | 65\n",
      "CourseInstructorInfo: course name: 化学 | instructor name: 张文云 | 66\n",
      "CourseInstructorInfo: course name: 写字书法 | instructor name: 周锦坤 | 67\n",
      "CourseInstructorInfo: course name: 生物 | instructor name: 生物老师1 | 68\n",
      "CourseInstructorInfo: course name: 物理 | instructor name: 吴发祥 | 69\n",
      "CourseInstructorInfo: course name: 音乐 | instructor name: 李一明 | 70\n",
      "CourseInstructorInfo: course name: 道德法制 | instructor name: 黄庆猛 | 71\n",
      "CourseInstructorInfo: course name: 地理 | instructor name: 地理老师1 | 72\n",
      "CourseInstructorInfo: course name: 生物 | instructor name: 生物老师1 | 73\n",
      "CourseInstructorInfo: course name: 劳技 | instructor name: 周剑 | 74\n",
      "CourseInstructorInfo: course name: 英语 | instructor name: 罗迎春 | 75\n",
      "CourseInstructorInfo: course name: 语文 | instructor name: 王绍坤 | 76\n",
      "CourseInstructorInfo: course name: 英语 | instructor name: 罗迎春 | 77\n",
      "CourseInstructorInfo: course name: 语文 | instructor name: 王绍坤 | 78\n",
      "CourseInstructorInfo: course name: 数学 | instructor name: 马云芝 | 79\n",
      "CourseInstructorInfo: course name: 物理 | instructor name: 吴发祥 | 80\n",
      "CourseInstructorInfo: course name: 数学 | instructor name: 李进勇 | 81\n",
      "CourseInstructorInfo: course name: 化学 | instructor name: 李发高 | 82\n",
      "CourseInstructorInfo: course name: 语文 | instructor name: 刘伟 | 83\n",
      "CourseInstructorInfo: course name: 物理 | instructor name: 吴发祥 | 84\n",
      "CourseInstructorInfo: course name: 历史 | instructor name: 刘俊娇 | 85\n",
      "CourseInstructorInfo: course name: 政治 | instructor name: 政治老师1 | 86\n",
      "CourseInstructorInfo: course name: 道德法制 | instructor name: 黄庆猛 | 87\n",
      "CourseInstructorInfo: course name: 语文 | instructor name: 刘伟 | 88\n",
      "CourseInstructorInfo: course name: 化学 | instructor name: 李发高 | 89\n",
      "CourseInstructorInfo: course name: 语文 | instructor name: 刘伟 | 90\n",
      "CourseInstructorInfo: course name: 数学 | instructor name: 李进勇 | 91\n",
      "CourseInstructorInfo: course name: 生物 | instructor name: 生物老师1 | 92\n",
      "CourseInstructorInfo: course name: 政治 | instructor name: 政治老师1 | 93\n",
      "CourseInstructorInfo: course name: 历史 | instructor name: 刘俊娇 | 94\n",
      "CourseInstructorInfo: course name: 地理 | instructor name: 地理老师1 | 95\n",
      "CourseInstructorInfo: course name: 体育 | instructor name: 马晶 | 96\n",
      "CourseInstructorInfo: course name: 劳技 | instructor name: 周剑 | 97\n",
      "CourseInstructorInfo: course name: 体育 | instructor name: 马晶 | 98\n",
      "CourseInstructorInfo: course name: 英语 | instructor name: 姚焕杨 | 99\n",
      "CourseInstructorInfo: course name: 写字书法 | instructor name: 周锦坤 | 100\n",
      "CourseInstructorInfo: course name: 英语 | instructor name: 姚焕杨 | 101\n",
      "CourseInstructorInfo: course name: 心理健康 | instructor name: 李发德 | 102\n",
      "CourseInstructorInfo: course name: 物理 | instructor name: 吴发祥 | 103\n",
      "CourseInstructorInfo: course name: 数学 | instructor name: 李进勇 | 104\n",
      "CourseInstructorInfo: course name: 语文 | instructor name: 刘伟 | 105\n",
      "CourseInstructorInfo: course name: 道德法制 | instructor name: 黄庆猛 | 106\n",
      "CourseInstructorInfo: course name: 美术 | instructor name: 何自雄 | 107\n",
      "CourseInstructorInfo: course name: 化学 | instructor name: 李发高 | 108\n",
      "CourseInstructorInfo: course name: 英语 | instructor name: 姚焕杨 | 109\n",
      "CourseInstructorInfo: course name: 数学 | instructor name: 李进勇 | 110\n",
      "CourseInstructorInfo: course name: 数学 | instructor name: 李进勇 | 111\n",
      "CourseInstructorInfo: course name: 生物 | instructor name: 生物老师1 | 112\n",
      "CourseInstructorInfo: course name: 地理 | instructor name: 地理老师1 | 113\n",
      "CourseInstructorInfo: course name: 生物 | instructor name: 生物老师1 | 114\n",
      "CourseInstructorInfo: course name: 语文 | instructor name: 刘伟 | 115\n",
      "CourseInstructorInfo: course name: 地理 | instructor name: 地理老师1 | 116\n",
      "CourseInstructorInfo: course name: 英语 | instructor name: 姚焕杨 | 117\n",
      "CourseInstructorInfo: course name: 政治 | instructor name: 政治老师1 | 118\n",
      "CourseInstructorInfo: course name: 音乐 | instructor name: 李一明 | 119\n",
      "CourseInstructorInfo: course name: 物理 | instructor name: 刀俊翔 | 120\n",
      "CourseInstructorInfo: course name: 心理健康 | instructor name: 李发德 | 121\n",
      "CourseInstructorInfo: course name: 历史 | instructor name: 刘俊娇 | 122\n",
      "CourseInstructorInfo: course name: 地理 | instructor name: 地理老师2 | 123\n",
      "CourseInstructorInfo: course name: 政治 | instructor name: 政治老师2 | 124\n",
      "CourseInstructorInfo: course name: 道德法制 | instructor name: 黄庆猛 | 125\n",
      "CourseInstructorInfo: course name: 英语 | instructor name: 姚焕杨 | 126\n",
      "CourseInstructorInfo: course name: 语文 | instructor name: 刘伟 | 127\n",
      "CourseInstructorInfo: course name: 政治 | instructor name: 政治老师2 | 128\n",
      "CourseInstructorInfo: course name: 地理 | instructor name: 地理老师2 | 129\n",
      "CourseInstructorInfo: course name: 数学 | instructor name: 李进勇 | 130\n",
      "CourseInstructorInfo: course name: 英语 | instructor name: 姚焕杨 | 131\n",
      "CourseInstructorInfo: course name: 物理 | instructor name: 刀俊翔 | 132\n",
      "CourseInstructorInfo: course name: 体育 | instructor name: 杨丽 | 133\n",
      "CourseInstructorInfo: course name: 物理 | instructor name: 刀俊翔 | 134\n",
      "CourseInstructorInfo: course name: 英语 | instructor name: 姚焕杨 | 135\n",
      "CourseInstructorInfo: course name: 数学 | i"
     ]
    },
    {
     "data": {
      "text/html": [
       "<b>limit_output extension: Maximum message size of 10000 exceeded with 16982 characters</b>"
      ]
     },
     "metadata": {},
     "output_type": "display_data"
    }
   ],
   "source": [
    "ScheduleTable = Schedule(slots, rooms, courses, instructors )\n",
    "ScheduleTable.createSchedule()\n",
    "bestParent = ScheduleTable\n",
    "courseToBeEvaluated = getCourseToBeEvaluated(bestParent)\n",
    "scheduleOfClass = getScheduleOfClass(courseToBeEvaluated)\n",
    "bestFitness = calculateFitness(scheduleOfClass)\n",
    "x = 0\n",
    "while True: \n",
    "    child = validMutation(bestParent) \n",
    "    #print(x)\n",
    "    if child == bestParent:\n",
    "        break\n",
    "    courseToBeEvaluated = getCourseToBeEvaluated(child)\n",
    "    scheduleOfClass = getScheduleOfClass(courseToBeEvaluated)\n",
    "    childFitness = calculateFitness(scheduleOfClass)\n",
    "    \n",
    "    #print(\"parentFitness = {} | childFitness= {}\".format(bestFitness, childFitness))\n",
    "    if bestFitness >= childFitness:\n",
    "        x += 1\n",
    "        if x > 220:\n",
    "            break\n",
    "        continue  \n",
    "    x = 0\n",
    "    bestFitness = childFitness \n",
    "    #print(\"bestFitness = {}\".format(bestFitness))\n",
    "    bestParent = child  \n",
    "bestParent.inspectSchedule()"
   ]
  },
  {
   "cell_type": "code",
   "execution_count": null,
   "metadata": {},
   "outputs": [],
   "source": []
  }
 ],
 "metadata": {
  "hide_input": false,
  "kernelspec": {
   "display_name": "Python 3",
   "language": "python",
   "name": "python3"
  },
  "language_info": {
   "codemirror_mode": {
    "name": "ipython",
    "version": 3
   },
   "file_extension": ".py",
   "mimetype": "text/x-python",
   "name": "python",
   "nbconvert_exporter": "python",
   "pygments_lexer": "ipython3",
   "version": "3.7.2"
  },
  "toc": {
   "base_numbering": 1,
   "nav_menu": {},
   "number_sections": true,
   "sideBar": true,
   "skip_h1_title": false,
   "title_cell": "Table of Contents",
   "title_sidebar": "Contents",
   "toc_cell": false,
   "toc_position": {
    "height": "calc(100% - 180px)",
    "left": "10px",
    "top": "150px",
    "width": "211px"
   },
   "toc_section_display": true,
   "toc_window_display": true
  },
  "varInspector": {
   "cols": {
    "lenName": 16,
    "lenType": 16,
    "lenVar": 40
   },
   "kernels_config": {
    "python": {
     "delete_cmd_postfix": "",
     "delete_cmd_prefix": "del ",
     "library": "var_list.py",
     "varRefreshCmd": "print(var_dic_list())"
    },
    "r": {
     "delete_cmd_postfix": ") ",
     "delete_cmd_prefix": "rm(",
     "library": "var_list.r",
     "varRefreshCmd": "cat(var_dic_list()) "
    }
   },
   "types_to_exclude": [
    "module",
    "function",
    "builtin_function_or_method",
    "instance",
    "_Feature"
   ],
   "window_display": false
  }
 },
 "nbformat": 4,
 "nbformat_minor": 2
}
