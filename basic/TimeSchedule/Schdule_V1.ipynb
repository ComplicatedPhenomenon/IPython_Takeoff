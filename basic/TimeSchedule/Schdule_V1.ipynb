{
 "cells": [
  {
   "cell_type": "code",
   "execution_count": null,
   "metadata": {},
   "outputs": [],
   "source": [
    "from IPython.core.interactiveshell import InteractiveShell\n",
    "InteractiveShell.ast_node_interactivity = 'all'"
   ]
  },
  {
   "cell_type": "markdown",
   "metadata": {},
   "source": [
    "Generate a timetable with less confliction"
   ]
  },
  {
   "cell_type": "code",
   "execution_count": null,
   "metadata": {},
   "outputs": [],
   "source": [
    "import random"
   ]
  },
  {
   "cell_type": "code",
   "execution_count": null,
   "metadata": {},
   "outputs": [],
   "source": [
    "import time\n",
    "import datetime"
   ]
  },
  {
   "cell_type": "markdown",
   "metadata": {},
   "source": [
    "# Generate a random element from a list"
   ]
  },
  {
   "cell_type": "code",
   "execution_count": null,
   "metadata": {},
   "outputs": [],
   "source": [
    "foo = ['a', 'b', 'c', 'd', 'e']\n",
    "random.choice(foo)\n",
    "foo"
   ]
  },
  {
   "cell_type": "code",
   "execution_count": null,
   "metadata": {},
   "outputs": [],
   "source": [
    "abondon = random.choice(foo)\n",
    "abondon\n",
    "foo.remove(abondon)\n",
    "foo\n",
    "foo.append(abondon)\n",
    "foo"
   ]
  },
  {
   "cell_type": "code",
   "execution_count": null,
   "metadata": {},
   "outputs": [],
   "source": [
    "foo = range(1,40)\n",
    "type(foo[0])\n",
    "foo"
   ]
  },
  {
   "cell_type": "code",
   "execution_count": null,
   "metadata": {},
   "outputs": [],
   "source": [
    "initial_choice = list(range(0,40))"
   ]
  },
  {
   "cell_type": "code",
   "execution_count": null,
   "metadata": {},
   "outputs": [],
   "source": [
    "for i in range(0,40):\n",
    "    abondon_choice = random.choice(initial_choice)\n",
    "    initial_choice.remove(abondon_choice)\n",
    "initial_choice"
   ]
  },
  {
   "cell_type": "markdown",
   "metadata": {},
   "source": [
    "abstract model"
   ]
  },
  {
   "cell_type": "code",
   "execution_count": null,
   "metadata": {},
   "outputs": [],
   "source": [
    "x"
   ]
  },
  {
   "cell_type": "code",
   "execution_count": null,
   "metadata": {},
   "outputs": [],
   "source": [
    "x"
   ]
  },
  {
   "cell_type": "code",
   "execution_count": null,
   "metadata": {},
   "outputs": [],
   "source": [
    "x = []\n",
    "x.append(1)\n",
    "x\n",
    "x.append(1)\n",
    "x\n",
    "x.append([1,2])\n",
    "x\n",
    "x = []\n",
    "x.append([])\n",
    "x\n",
    "x[0].append(1)\n",
    "x\n",
    "x.append([])\n",
    "x[1].append([1,2])\n",
    "x.append([])\n",
    "x[2].extend([1,2])\n",
    "x\n",
    "x.append([])\n",
    "x[3].extend(['class','instructor'])\n",
    "x\n",
    "x[3][1]"
   ]
  },
  {
   "cell_type": "code",
   "execution_count": null,
   "metadata": {},
   "outputs": [],
   "source": [
    "initial_choice = list(range(0,40))\n",
    "for i in range(0,40):\n",
    "    abondon_choice = random.choice(initial_choice)\n",
    "    if abondon_choice in range(0,20):\n",
    "        print('Lucky')\n",
    "    else:\n",
    "        print(\"Don't lose faith\")"
   ]
  },
  {
   "cell_type": "code",
   "execution_count": null,
   "metadata": {},
   "outputs": [],
   "source": [
    "k = 'wm'  in ['wm','wk']"
   ]
  },
  {
   "cell_type": "markdown",
   "metadata": {},
   "source": [
    "You got forty chances, to grab number 7 from 40 random number range from 0 to 39."
   ]
  },
  {
   "cell_type": "markdown",
   "metadata": {},
   "source": [
    "# Nested if"
   ]
  },
  {
   "cell_type": "code",
   "execution_count": null,
   "metadata": {},
   "outputs": [],
   "source": [
    "initial_choice = list(range(0,40))\n",
    "for i in range(0,40):\n",
    "    abondon_choice = random.choice(initial_choice)\n",
    "    if abondon_choice == 7:\n",
    "        print('Lucky')\n",
    "    else:\n",
    "        print(\"Don't lose faith\")"
   ]
  },
  {
   "cell_type": "code",
   "execution_count": null,
   "metadata": {},
   "outputs": [],
   "source": [
    "initial_choice = list(range(0,40))\n",
    "for i in range(0,40):\n",
    "    abondon_choice = random.choice(initial_choice)\n",
    "    if abondon_choice == 7:\n",
    "        print('Lucky')\n",
    "    else:  \n",
    "        abondon_choice = random.choice(initial_choice)\n",
    "        if abondon_choice == 7:\n",
    "            print('Lucky')\n",
    "        else:\n",
    "            abondon_choice = random.choice(initial_choice)\n",
    "            if abondon_choice == 7:\n",
    "                print('Lucky')\n",
    "            else:\n",
    "                abondon_choice = random.choice(initial_choice)\n",
    "                if abondon_choice == 7:\n",
    "                    print('Lucky')\n",
    "                else:\n",
    "                    abondon_choice = random.choice(initial_choice)\n",
    "                    if abondon_choice == 7:\n",
    "                        print('Lucky')\n",
    "                    # Repeate this procedure"
   ]
  },
  {
   "cell_type": "code",
   "execution_count": null,
   "metadata": {},
   "outputs": [],
   "source": [
    "initial_choice = list(range(0,40))\n",
    "for i in range(0,40):\n",
    "    abondon_choice = random.choice(initial_choice)\n",
    "    while abondon_choice != 7:\n",
    "        abondon_choice = random.choice(initial_choice)\n",
    "    #if abondon_choice == 7:\n",
    "    print('Lucky')"
   ]
  },
  {
   "cell_type": "code",
   "execution_count": null,
   "metadata": {},
   "outputs": [],
   "source": [
    "#%%timeit\n",
    "initial_choice = list(range(0,40))\n",
    "for i in range(0,40):\n",
    "    abondon_choice_1 = random.choice(initial_choice)\n",
    "    abondon_choice_2 = random.choice(initial_choice)\n",
    "    while abondon_choice_1 != 7 or abondon_choice_2 != 7 :\n",
    "        abondon_choice_1 = random.choice(initial_choice)\n",
    "        abondon_choice_2 = random.choice(initial_choice)\n",
    "    if abondon_choice_1 == 7 and abondon_choice_2 == 7:\n",
    "        print('Lucky')"
   ]
  },
  {
   "cell_type": "code",
   "execution_count": null,
   "metadata": {},
   "outputs": [],
   "source": [
    "initial_choice = list(range(0,40))\n",
    "for i in range(0,40):\n",
    "    abondon_choice_1 = random.choice(initial_choice)\n",
    "    abondon_choice_2 = random.choice(initial_choice)\n",
    "    abondon_choice_3 = random.choice(initial_choice)\n",
    "    abondon_choice_4 = random.choice(initial_choice)\n",
    "    \n",
    "    while abondon_choice_1 != 7 or abondon_choice_2 != 7 or abondon_choice_3 != 7 or abondon_choice_4 != 7 :\n",
    "        abondon_choice_1 = random.choice(initial_choice)\n",
    "        abondon_choice_2 = random.choice(initial_choice)\n",
    "        abondon_choice_3 = random.choice(initial_choice)\n",
    "        abondon_choice_4 = random.choice(initial_choice)\n",
    "\n",
    "    print('Lucky')"
   ]
  },
  {
   "cell_type": "markdown",
   "metadata": {},
   "source": [
    "returns approximately the number of seconds elapsed since the Epoch. The result doesn't depend on timezone so it is neither UTC nor local time. "
   ]
  },
  {
   "cell_type": "code",
   "execution_count": null,
   "metadata": {},
   "outputs": [],
   "source": [
    "initial_choice = list(range(0,40))\n",
    "begin = time.time() \n",
    "\n",
    "for i in range(0,40):\n",
    "    abondon_choice_1 = random.choice(initial_choice)\n",
    "    abondon_choice_2 = random.choice(initial_choice)\n",
    "    abondon_choice_3 = random.choice(initial_choice)\n",
    "    abondon_choice_4 = random.choice(initial_choice)\n",
    "    \n",
    "    \n",
    "    while abondon_choice_1 != 7 or abondon_choice_2 != 7 or abondon_choice_3 != 7 or abondon_choice_4 != 7 :\n",
    "        loop_begin =time.time() \n",
    "        abondon_choice_1 = random.choice(initial_choice)\n",
    "        abondon_choice_2 = random.choice(initial_choice)\n",
    "        abondon_choice_3 = random.choice(initial_choice)\n",
    "        abondon_choice_4 = random.choice(initial_choice)\n",
    "        loop_end = time.time() \n",
    "        time_cost_per_loop = loop_end - loop_begin\n",
    "\n",
    "    print('Lucky')\n",
    "    print('Luck ID: {}'.format(i))\n",
    "    print('To find the Luck ID {}, it cost {} seconds'.format(i, time_cost_per_loop))\n",
    "end = time.time()\n",
    "end-begin"
   ]
  },
  {
   "cell_type": "markdown",
   "metadata": {},
   "source": [
    "Magic command `%%timeit` can be used to time a particular piece of code (A single execution statement, or a single method)"
   ]
  },
  {
   "cell_type": "code",
   "execution_count": null,
   "metadata": {},
   "outputs": [],
   "source": [
    "for i in range(0,40):\n",
    "    abondon_choice_1 = random.choice(initial_choice)\n",
    "    abondon_choice_2 = random.choice(initial_choice)\n",
    "    abondon_choice_3 = random.choice(initial_choice)\n",
    "    abondon_choice_4 = random.choice(initial_choice)\n",
    "    \n",
    "    while abondon_choice_1 != 7 or abondon_choice_2 != 7 or abondon_choice_3 != 7 or abondon_choice_4 != 7 :\n",
    "        abondon_choice_1 = random.choice(initial_choice)\n",
    "        abondon_choice_2 = random.choice(initial_choice)\n",
    "        abondon_choice_3 = random.choice(initial_choice)\n",
    "        abondon_choice_4 = random.choice(initial_choice)\n",
    "\n",
    "    print('Lucky')"
   ]
  },
  {
   "cell_type": "code",
   "execution_count": null,
   "metadata": {},
   "outputs": [],
   "source": [
    "n = input(\"Please enter 'hello':\")\n",
    "while n.strip() != 'hello':\n",
    "    n = input(\"Please enter 'hello':\")"
   ]
  },
  {
   "cell_type": "code",
   "execution_count": null,
   "metadata": {},
   "outputs": [],
   "source": [
    "i = 0\n",
    "for x in ['a', 'b', 'c']:\n",
    "    i += 1\n",
    "    print('{},{}'.format(x, i))    \n",
    "    \n",
    "i    "
   ]
  },
  {
   "cell_type": "code",
   "execution_count": null,
   "metadata": {},
   "outputs": [],
   "source": [
    "for x in ['a', 'b', 'c']:\n",
    "    if x == 'a':\n",
    "        print('A')\n",
    "    if x == 'b':\n",
    "        print('B') \n",
    "    if x == 'c':\n",
    "        print('C') \n",
    "        "
   ]
  },
  {
   "cell_type": "markdown",
   "metadata": {},
   "source": [
    "[Difference between multiple ifs and elifs](https://stackoverflow.com/questions/9271712/difference-between-multiple-ifs-and-elifs)\n",
    "\n",
    "Multiple if's means your code would go and check all the if conditions, where as in case of elif, if one if condition satisfies it would not check other conditions..\n",
    "\n"
   ]
  },
  {
   "cell_type": "code",
   "execution_count": null,
   "metadata": {},
   "outputs": [],
   "source": [
    "j = 0\n",
    "while j < 5:\n",
    "    x = random.choice(['a', 'b', 'c'])\n",
    "    if x == 'a':\n",
    "        print('A')\n",
    "    elif x == 'b':\n",
    "        print('B') \n",
    "    elif x == 'c':\n",
    "        print('C') \n",
    "    else:\n",
    "        print(\"I don't know what to say\")\n",
    "    j += 1"
   ]
  },
  {
   "cell_type": "code",
   "execution_count": null,
   "metadata": {},
   "outputs": [],
   "source": [
    "def analyzeAge( age ):\n",
    "   if age < 21:\n",
    "       print(\"You are a child\")\n",
    "   if age >= 21: #Greater than or equal to\n",
    "       print(\"You are an adult\")\n",
    "   else:   #Handle all cases were 'age' is negative \n",
    "       print(\"The age must be a positive integer!\")\n",
    "\n",
    "analyzeAge( 18 )  #Calling the function"
   ]
  },
  {
   "cell_type": "code",
   "execution_count": null,
   "metadata": {},
   "outputs": [],
   "source": [
    "def analyzeAge( age ):\n",
    "   if age < 21:\n",
    "       print(\"You are a child\")\n",
    "   elif age >= 21: #Greater than or equal to\n",
    "       print(\"You are an adult\")\n",
    "   else:   #Handle all cases were 'age' is negative \n",
    "       print(\"The age must be a positive integer!\")\n",
    "\n",
    "analyzeAge( 18 )  #Calling the function"
   ]
  },
  {
   "cell_type": "code",
   "execution_count": null,
   "metadata": {},
   "outputs": [],
   "source": [
    "if classIndex = 1:\n",
    "    initial_choice = list(range(0,40))\n",
    "    for i in range(0,5):\n",
    "    if course.arrangement == A[i]:\n",
    "        j = 1\n",
    "    while j <= 5 - i:\n",
    "        abondon_choice = random.choice(initial_choice)\n",
    "        self.slots[abondon_choice].extend([course[1],course[4]])\n",
    "        counter_the_number_of_arranged_course += 1\n",
    "        initial_choice.remove(abondon_choice)\n",
    "        j = j + 1"
   ]
  },
  {
   "cell_type": "code",
   "execution_count": null,
   "metadata": {},
   "outputs": [],
   "source": [
    "class courseInstructor:\n",
    "    def __init__(self, course, instructor):\n",
    "        self.course = course\n",
    "        self.instructor = instructor\n",
    "\n",
    "    def printObject(self):\n",
    "        self.course.printObject()\n",
    "        self.instructor.printObject()\n",
    "courseInstructorIndex = courseInstructor('Math', 'Stephen Wolfram')"
   ]
  },
  {
   "cell_type": "code",
   "execution_count": null,
   "metadata": {},
   "outputs": [],
   "source": [
    "courseInstructorIndex.printObject()"
   ]
  },
  {
   "cell_type": "markdown",
   "metadata": {},
   "source": [
    "# OOP application"
   ]
  },
  {
   "cell_type": "code",
   "execution_count": null,
   "metadata": {},
   "outputs": [],
   "source": [
    "a  = 'w\\\n",
    "m'\n",
    "a"
   ]
  },
  {
   "cell_type": "code",
   "execution_count": null,
   "metadata": {},
   "outputs": [],
   "source": [
    "# Slot = Index , Day , Hour\n",
    "class SlotProcessor:\n",
    "    def __init__(self, inputString):\n",
    "        stringParts = inputString.split(\",\")\n",
    "        cursorPosition = 0\n",
    "        self.id = stringParts[cursorPosition].strip()\n",
    "        cursorPosition += 1\n",
    "        self.day = stringParts[cursorPosition].strip()\n",
    "        cursorPosition += 1\n",
    "        self.time = stringParts[cursorPosition].strip()\n",
    "        \n",
    "    def getSlotInfo(self):\n",
    "        print('Index: {} | Day: {} | Hour:{}'.format(self.id, self.day, self.time))"
   ]
  },
  {
   "cell_type": "code",
   "execution_count": null,
   "metadata": {},
   "outputs": [],
   "source": [
    "# Room = Index , Name , Capacity\n",
    "class RoomProcessor:\n",
    "    def __init__(self, inputString):\n",
    "        stringParts = inputString.split(\",\")\n",
    "        cursorPosition = 0\n",
    "\n",
    "        self.id = stringParts[cursorPosition].strip()\n",
    "        cursorPosition += 1\n",
    "\n",
    "        self.name = stringParts[cursorPosition].strip()\n",
    "\n",
    "    def getRoomInfo(self):\n",
    "        print('Index: {} | name: {}'.format(self.id, self.name))"
   ]
  },
  {
   "cell_type": "code",
   "execution_count": null,
   "metadata": {},
   "outputs": [],
   "source": [
    "#  Course = Index , Name , Capacity , Arrangement , InstructorIndex\n",
    "class CourseProcessor:\n",
    "    def __init__(self, inputString):\n",
    "        stringParts = inputString.split(\",\")\n",
    "        cursorPosition = 0\n",
    "\n",
    "        self.id = stringParts[cursorPosition].strip()\n",
    "        cursorPosition += 1\n",
    "\n",
    "        self.name = stringParts[cursorPosition].strip()\n",
    "        cursorPosition += 1\n",
    "\n",
    "        self.capacity = stringParts[cursorPosition].strip()\n",
    "        cursorPosition += 1\n",
    "\n",
    "        self.arrangement = stringParts[cursorPosition].strip()\n",
    "        cursorPosition += 1\n",
    "\n",
    "        self.instructorIndex = int(stringParts[cursorPosition].strip())\n",
    "\n",
    "    def getCourseInfo(self):\n",
    "        print(\"Course ID: {} | Course Name: {} | Roomtype: {} | Arrangement: {} | InstructorIndex: {}\"\\\n",
    "              .format(self.id, self.name, self.capacity, self.arrangement, self.instructorIndex))\n",
    "    \n",
    "    def getCourseName(self):\n",
    "        return self.name\n",
    "    def getCourseInstructorIndex(self):\n",
    "        return int(self.instructorIndex)\n",
    "     "
   ]
  },
  {
   "cell_type": "code",
   "execution_count": null,
   "metadata": {},
   "outputs": [],
   "source": [
    "# Instructor = Index , Name \n",
    "class InstructorProcessor:\n",
    "    def __init__(self, inputString):\n",
    "        stringParts = inputString.split(\",\")\n",
    "        cursorPosition = 0\n",
    "\n",
    "        self.id = stringParts[cursorPosition].strip()\n",
    "        cursorPosition += 1\n",
    "\n",
    "        self.name = stringParts[cursorPosition].strip()\n",
    "        cursorPosition += 1\n",
    "\n",
    "        #for i in range(cursorPosition, cursorPosition + numberOfUnpreferreds):\n",
    "            #self.unpreferreds.append(int(stringParts[i]))\n",
    "     \n",
    "    def getInstructorIndex(self):\n",
    "        return int(self.id)\n",
    "    \n",
    "    def getInstructorName(self):\n",
    "        return self.name\n",
    "    \n",
    "    def getInstructorInfo(self):\n",
    "        print(\"Instructor ID: {} | Instructor Name: {}\".format(self.id, self.name))\n",
    "    \n",
    "    # Highlight function getInstructorNameViaIndex(instructorIndex)\n",
    "    def getInstructorNameViaIndex(self, instructorIndex):\n",
    "        if int(self.id) == instructorIndex:\n",
    "            print (self.name) \n",
    "        else:\n",
    "            print('There is no instructor with this instructor index')\n"
   ]
  },
  {
   "cell_type": "code",
   "execution_count": null,
   "metadata": {},
   "outputs": [],
   "source": [
    "slots = []\n",
    "rooms = []\n",
    "courses = []\n",
    "instructors = []\n",
    "with open('input4.txt') as fp:\n",
    "    for line in fp:\n",
    "        if line.startswith(\"#\"):\n",
    "        # ignore comments in input file\n",
    "            continue\n",
    "        lineSections = line.split(\"=\")\n",
    "        # print(lineSections)\n",
    "        if lineSections[0].strip() == \"Slot\":\n",
    "            #1 , one    ,  8:00\n",
    "            # print(lineSections[1])\n",
    "            slots.append(SlotProcessor(lineSections[1]))\n",
    "            # slots\n",
    "        elif lineSections[0].strip() == \"Room\":\n",
    "            rooms.append(RoomProcessor(lineSections[1]))\n",
    "        elif lineSections[0].strip() == \"Course\":\n",
    "            courses.append(CourseProcessor(lineSections[1]))\n",
    "        elif lineSections[0].strip() == \"Instructor\":\n",
    "            instructors.append(InstructorProcessor(lineSections[1]))\n",
    "print('number of slots: {}, number of rooms: {}, number of courses: {}, number of instructors: {}'.\\\n",
    "     format(len(slots), len(rooms), len(courses), len(instructors)))"
   ]
  },
  {
   "cell_type": "code",
   "execution_count": null,
   "metadata": {},
   "outputs": [],
   "source": [
    "slots[1].getSlotInfo()\n",
    "rooms[1].getRoomInfo()\n",
    "courses[1].getCourseInfo()"
   ]
  },
  {
   "cell_type": "code",
   "execution_count": null,
   "metadata": {},
   "outputs": [],
   "source": [
    "courses[1].getCourseName()\n",
    "courses[1].getCourseInstructorIndex()"
   ]
  },
  {
   "cell_type": "code",
   "execution_count": null,
   "metadata": {},
   "outputs": [],
   "source": [
    "instructors[courses[1].getCourseInstructorIndex()-1].getInstructorName()"
   ]
  },
  {
   "cell_type": "code",
   "execution_count": null,
   "metadata": {},
   "outputs": [],
   "source": [
    "instructors[1].getInstructorInfo()"
   ]
  },
  {
   "cell_type": "code",
   "execution_count": null,
   "metadata": {},
   "outputs": [],
   "source": [
    "instructors[1].getInstructorIndex()"
   ]
  },
  {
   "cell_type": "code",
   "execution_count": null,
   "metadata": {},
   "outputs": [],
   "source": [
    "instructors[1].getInstructorNameViaIndex(2)"
   ]
  },
  {
   "cell_type": "code",
   "execution_count": null,
   "metadata": {},
   "outputs": [],
   "source": [
    "instructors[1].getInstructorNameViaIndex(instructors[1].getInstructorIndex())"
   ]
  },
  {
   "cell_type": "markdown",
   "metadata": {},
   "source": [
    "Fill the timetable with name of the course and name of the Instructor"
   ]
  },
  {
   "cell_type": "markdown",
   "metadata": {},
   "source": [
    "## Define the object to be added into each slot"
   ]
  },
  {
   "cell_type": "code",
   "execution_count": null,
   "metadata": {},
   "outputs": [],
   "source": [
    "class courseInstructor:\n",
    "    def __init__(self, an_item_in_courses, an_item_in_instructors):\n",
    "        self.course = an_item_in_courses\n",
    "        # an_item_in_courses will determine which an_item_in_instructors\n",
    "        \n",
    "        self.instructor = an_item_in_instructors\n",
    "    \"\"\"\n",
    "    def printCourseInstructorInfo(self):\n",
    "        print('course name: {} | instructor name: {}'.\\\n",
    "              format(self.course.getCourseName(),\\\n",
    "                     self.instructor.getInstructorNameViaIndex(self.course.getCourseInstructorIndex() )))\n",
    "    \"\"\"\n",
    "\n",
    "    def printCourseInstructorInfo(self):\n",
    "        return('course name: {} | instructor name: {}'.\\\n",
    "              format(self.course.getCourseName(),\\\n",
    "                     self.instructor.getInstructorName()))    "
   ]
  },
  {
   "cell_type": "code",
   "execution_count": null,
   "metadata": {},
   "outputs": [],
   "source": [
    "len(courses)\n",
    "for course in courses:\n",
    "    testCourseInstructor = courseInstructor(course, instructors[course.getCourseInstructorIndex() - 1])\n",
    "    testCourseInstructor.printCourseInstructorInfo()"
   ]
  },
  {
   "cell_type": "markdown",
   "metadata": {},
   "source": [
    "**Have you noticed that if we fill every slot with course name and course instructor, then the program is not fully `OOP`. We better fill every slot with an object containing these two attributes.**"
   ]
  },
  {
   "cell_type": "code",
   "execution_count": null,
   "metadata": {},
   "outputs": [],
   "source": [
    "ScheduleTable = Schedule(slots, rooms, courses, instructors )"
   ]
  },
  {
   "cell_type": "markdown",
   "metadata": {},
   "source": [
    "`ScheduleTable.createSchedule()` is supposed to fill the 40 courses for class one."
   ]
  },
  {
   "cell_type": "code",
   "execution_count": null,
   "metadata": {},
   "outputs": [],
   "source": [
    "\n",
    "# def IsInstructorAvailable:\n",
    "\n",
    "class Schedule:\n",
    "    def __init__(self, slots, rooms, courses, instructors):\n",
    "        self.schedule_slots = slots\n",
    "        self.schedule_rooms = rooms\n",
    "        self.schedule_courses = courses\n",
    "        self.schedule_instructors = instructors\n",
    "        self.classes = []\n",
    "        self.slots = []\n",
    "        self.fitness = 0.0\n",
    "        self.number_of_courses_for_a_class_per_week = len(self.schedule_slots)\n",
    "        self.weekday = 5\n",
    "        self.number_of_courses_for_a_class_per_day=self.number_of_courses_for_a_class_per_week/self.weekday\n",
    "\n",
    "        for i in range(0, len(slots) * len(rooms)): # range(0, 240)\n",
    "            self.slots.append([]) #Change self.slots from [] to [[],[],[]...]\n",
    "            \n",
    "    def inspectSchedule(self):\n",
    "        if self.slots[0] == []:\n",
    "                print('Wake up, before looking up the schedule, create it at first!')\n",
    "        else:\n",
    "                \n",
    "            for i in range(0, len(slots) * len(rooms)):\n",
    "                print( 'CourseInstructorInfo: {} | {}'\\\n",
    "                      .format(self.slots[i][0].printCourseInstructorInfo(), i))\n",
    "            \n",
    "    def createSchedule(self):\n",
    "        number_of_courses_for_all_classes_per_week = len(self.slots) # 240\n",
    "        number_of_course_types = len(self.schedule_courses)/len(self.schedule_rooms) # 96/6 = 16\n",
    "        counter_the_number_of_arranged_course = 0\n",
    "        initial_choice = [list(range(0,40)), list(range(40,80)),\\\n",
    "                          list(range(80,120)), list(range(120,160)),\\\n",
    "                          list(range(160,200)), list(range(200,240))]\n",
    "        \n",
    "        for course in self.schedule_courses: # course form: 1, 语文, Medium, A5, 1           \n",
    "            slotContent = courseInstructor(course, instructors[course.getCourseInstructorIndex() - 1])\n",
    "            classIndex=(int(course.id)+15)//number_of_course_types # Highlights\n",
    "            InstructorIndex = course.getCourseInstructorIndex()\n",
    "            \n",
    "            if classIndex == 1:              \n",
    "                repeated_times_for_a_course = int(course.arrangement[1])\n",
    "                j = 0\n",
    "                while j < repeated_times_for_a_course:\n",
    "                    abondon_choice = random.choice(initial_choice[0])\n",
    "                    self.slots[abondon_choice].append(slotContent)\n",
    "                    #self.slots[abondon_choice][0].printCourseInstructorInfo()\n",
    "                    counter_the_number_of_arranged_course += 1\n",
    "                    initial_choice[0].remove(abondon_choice)\n",
    "                    j = j + 1\n",
    "                    \n",
    "                #print('ok')\n",
    "                #print(counter_the_number_of_arranged_course)\n",
    "                       \n",
    "                            \n",
    "\n",
    "            elif classIndex == 2:\n",
    "                repeated_times_for_a_course = int(course.arrangement[1])\n",
    "                j = 0 \n",
    "                while j < repeated_times_for_a_course:\n",
    "                    abondon_choice = random.choice(initial_choice[1])\n",
    "                    while InstructorIndex == self.slots[abondon_choice-40][0].instructor.getInstructorIndex():\n",
    "                        abondon_choice = random.choice(initial_choice[1])\n",
    "                    self.slots[abondon_choice].append(slotContent)\n",
    "                    #self.slots[abondon_choice][0].printCourseInstructorInfo()\n",
    "                    counter_the_number_of_arranged_course += 1\n",
    "                    initial_choice[1].remove(abondon_choice)\n",
    "                    j = j + 1\n",
    "                #print('ok')\n",
    "                #print(counter_the_number_of_arranged_course)\n",
    "                    \n",
    "            elif classIndex == 3:\n",
    "                repeated_times_for_a_course = int(course.arrangement[1])\n",
    "                j = 0\n",
    "                while j < repeated_times_for_a_course:\n",
    "                    abondon_choice = random.choice(initial_choice[2])\n",
    "                    while InstructorIndex == self.slots[abondon_choice-40][0].instructor.getInstructorIndex() \\\n",
    "                    or    InstructorIndex == self.slots[abondon_choice-80][0].instructor.getInstructorIndex():\n",
    "                        abondon_choice = random.choice(initial_choice[2])\n",
    "\n",
    "                    self.slots[abondon_choice].append(slotContent)\n",
    "                    #self.slots[abondon_choice][0].printCourseInstructorInfo()\n",
    "                    counter_the_number_of_arranged_course += 1\n",
    "                    initial_choice[2].remove(abondon_choice)\n",
    "                    j = j + 1\n",
    "                #print('ok')\n",
    "                #print(counter_the_number_of_arranged_course)                    \n",
    "\n",
    "            elif classIndex == 4:\n",
    "                repeated_times_for_a_course = int(course.arrangement[1])\n",
    "                j=0\n",
    "                while j < repeated_times_for_a_course:\n",
    "                    abondon_choice = random.choice(initial_choice[3])\n",
    "                    while InstructorIndex == self.slots[abondon_choice-40][0].instructor.getInstructorIndex()\\\n",
    "                    or    InstructorIndex == self.slots[abondon_choice-80][0].instructor.getInstructorIndex()\\\n",
    "                    or    InstructorIndex == self.slots[abondon_choice-120][0].instructor.getInstructorIndex():\n",
    "                        abondon_choice = random.choice(initial_choice[3])\n",
    "\n",
    "                    self.slots[abondon_choice].append(slotContent)\n",
    "                    #self.slots[abondon_choice][0].printCourseInstructorInfo()\n",
    "                    counter_the_number_of_arranged_course += 1\n",
    "                    initial_choice[3].remove(abondon_choice)\n",
    "                    j = j + 1\n",
    "                #print('ok')\n",
    "                #print(counter_the_number_of_arranged_course)\n",
    "                \n",
    "            elif classIndex == 5:\n",
    "                repeated_times_for_a_course = int(course.arrangement[1])\n",
    "                j = 0\n",
    "                while j < repeated_times_for_a_course:\n",
    "                    abondon_choice = random.choice(initial_choice[4])\n",
    "                    while InstructorIndex == self.slots[abondon_choice-40][0].instructor.getInstructorIndex()\\\n",
    "                    or    InstructorIndex == self.slots[abondon_choice-80][0].instructor.getInstructorIndex()\\\n",
    "                    or    InstructorIndex == self.slots[abondon_choice-120][0].instructor.getInstructorIndex()\\\n",
    "                    or    InstructorIndex == self.slots[abondon_choice-160][0].instructor.getInstructorIndex():\n",
    "                        abondon_choice = random.choice(initial_choice[4])\n",
    "\n",
    "                    self.slots[abondon_choice].append(slotContent)\n",
    "                    #self.slots[abondon_choice][0].printCourseInstructorInfo()\n",
    "                    counter_the_number_of_arranged_course += 1\n",
    "                    initial_choice[4].remove(abondon_choice)\n",
    "                    j = j + 1\n",
    "                #print('ok')\n",
    "                #print(counter_the_number_of_arranged_course)\n",
    "                \n",
    "            elif classIndex == 6:\n",
    "                repeated_times_for_a_course = int(course.arrangement[1])\n",
    "                j = 0\n",
    "                while j < repeated_times_for_a_course:\n",
    "                    abondon_choice = random.choice(initial_choice[5])\n",
    "                    while InstructorIndex == self.slots[abondon_choice-40][0].instructor.getInstructorIndex()\\\n",
    "                    or    InstructorIndex == self.slots[abondon_choice-80][0].instructor.getInstructorIndex()\\\n",
    "                    or    InstructorIndex == self.slots[abondon_choice-120][0].instructor.getInstructorIndex()\\\n",
    "                    or    InstructorIndex == self.slots[abondon_choice-160][0].instructor.getInstructorIndex()\\\n",
    "                    or    InstructorIndex == self.slots[abondon_choice-200][0].instructor.getInstructorIndex():\n",
    "                        abondon_choice = random.choice(initial_choice[5])\n",
    "\n",
    "                    self.slots[abondon_choice].append(slotContent)\n",
    "                    #self.slots[abondon_choice][0].printCourseInstructorInfo()\n",
    "                    counter_the_number_of_arranged_course += 1\n",
    "                    initial_choice[5].remove(abondon_choice)\n",
    "                    j = j + 1\n",
    "                #print('ok')\n",
    "                #print(counter_the_number_of_arranged_course)\n",
    "                \n",
    "            else:\n",
    "                print('This situation is excluded!')      "
   ]
  },
  {
   "cell_type": "code",
   "execution_count": null,
   "metadata": {},
   "outputs": [],
   "source": [
    "ScheduleTable = Schedule(slots, rooms, courses, instructors )"
   ]
  },
  {
   "cell_type": "code",
   "execution_count": null,
   "metadata": {},
   "outputs": [],
   "source": [
    "ScheduleTable.createSchedule()"
   ]
  },
  {
   "cell_type": "markdown",
   "metadata": {},
   "source": [
    "**Turn the condition in to a function, like `IsInstructorAvailable`**. The logic in above snippet above is frank but not smart."
   ]
  },
  {
   "cell_type": "code",
   "execution_count": null,
   "metadata": {},
   "outputs": [],
   "source": [
    "ScheduleTable.inspectSchedule()"
   ]
  }
 ],
 "metadata": {
  "hide_input": false,
  "kernelspec": {
   "display_name": "Python 3",
   "language": "python",
   "name": "python3"
  },
  "language_info": {
   "codemirror_mode": {
    "name": "ipython",
    "version": 3
   },
   "file_extension": ".py",
   "mimetype": "text/x-python",
   "name": "python",
   "nbconvert_exporter": "python",
   "pygments_lexer": "ipython3",
   "version": "3.7.2"
  },
  "toc": {
   "base_numbering": 1,
   "nav_menu": {},
   "number_sections": true,
   "sideBar": true,
   "skip_h1_title": false,
   "title_cell": "Table of Contents",
   "title_sidebar": "Contents",
   "toc_cell": false,
   "toc_position": {
    "height": "calc(100% - 180px)",
    "left": "10px",
    "top": "150px",
    "width": "165px"
   },
   "toc_section_display": true,
   "toc_window_display": true
  },
  "varInspector": {
   "cols": {
    "lenName": 16,
    "lenType": 16,
    "lenVar": 40
   },
   "kernels_config": {
    "python": {
     "delete_cmd_postfix": "",
     "delete_cmd_prefix": "del ",
     "library": "var_list.py",
     "varRefreshCmd": "print(var_dic_list())"
    },
    "r": {
     "delete_cmd_postfix": ") ",
     "delete_cmd_prefix": "rm(",
     "library": "var_list.r",
     "varRefreshCmd": "cat(var_dic_list()) "
    }
   },
   "types_to_exclude": [
    "module",
    "function",
    "builtin_function_or_method",
    "instance",
    "_Feature"
   ],
   "window_display": false
  }
 },
 "nbformat": 4,
 "nbformat_minor": 2
}
