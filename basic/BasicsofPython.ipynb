{
 "cells": [
  {
   "cell_type": "code",
   "execution_count": null,
   "metadata": {},
   "outputs": [],
   "source": [
    "from IPython.core.interactiveshell import InteractiveShell\n",
    "InteractiveShell.ast_node_interactivity = \"all\""
   ]
  },
  {
   "cell_type": "markdown",
   "metadata": {},
   "source": [
    "<span style=\"font-family:Papyrus; font-size:1em; color:red\"> \n",
    "See the value of multiple statement at once without the need for a print statement.\n"
   ]
  },
  {
   "cell_type": "code",
   "execution_count": 1,
   "metadata": {},
   "outputs": [
    {
     "data": {
      "application/json": {
       "cell": {
        "!": "OSMagics",
        "HTML": "Other",
        "SVG": "Other",
        "bash": "Other",
        "capture": "ExecutionMagics",
        "debug": "ExecutionMagics",
        "file": "Other",
        "html": "DisplayMagics",
        "javascript": "DisplayMagics",
        "js": "DisplayMagics",
        "latex": "DisplayMagics",
        "markdown": "DisplayMagics",
        "perl": "Other",
        "prun": "ExecutionMagics",
        "pypy": "Other",
        "python": "Other",
        "python2": "Other",
        "python3": "Other",
        "ruby": "Other",
        "script": "ScriptMagics",
        "sh": "Other",
        "svg": "DisplayMagics",
        "sx": "OSMagics",
        "system": "OSMagics",
        "time": "ExecutionMagics",
        "timeit": "ExecutionMagics",
        "writefile": "OSMagics"
       },
       "line": {
        "alias": "OSMagics",
        "alias_magic": "BasicMagics",
        "autocall": "AutoMagics",
        "automagic": "AutoMagics",
        "autosave": "KernelMagics",
        "bookmark": "OSMagics",
        "cat": "Other",
        "cd": "OSMagics",
        "clear": "KernelMagics",
        "colors": "BasicMagics",
        "config": "ConfigMagics",
        "connect_info": "KernelMagics",
        "cp": "Other",
        "debug": "ExecutionMagics",
        "dhist": "OSMagics",
        "dirs": "OSMagics",
        "doctest_mode": "BasicMagics",
        "ed": "Other",
        "edit": "KernelMagics",
        "env": "OSMagics",
        "gui": "BasicMagics",
        "hist": "Other",
        "history": "HistoryMagics",
        "killbgscripts": "ScriptMagics",
        "ldir": "Other",
        "less": "KernelMagics",
        "lf": "Other",
        "lk": "Other",
        "ll": "Other",
        "load": "CodeMagics",
        "load_ext": "ExtensionMagics",
        "loadpy": "CodeMagics",
        "logoff": "LoggingMagics",
        "logon": "LoggingMagics",
        "logstart": "LoggingMagics",
        "logstate": "LoggingMagics",
        "logstop": "LoggingMagics",
        "ls": "Other",
        "lsmagic": "BasicMagics",
        "lx": "Other",
        "macro": "ExecutionMagics",
        "magic": "BasicMagics",
        "man": "KernelMagics",
        "matplotlib": "PylabMagics",
        "mkdir": "Other",
        "more": "KernelMagics",
        "mv": "Other",
        "notebook": "BasicMagics",
        "page": "BasicMagics",
        "pastebin": "CodeMagics",
        "pdb": "ExecutionMagics",
        "pdef": "NamespaceMagics",
        "pdoc": "NamespaceMagics",
        "pfile": "NamespaceMagics",
        "pinfo": "NamespaceMagics",
        "pinfo2": "NamespaceMagics",
        "pip": "BasicMagics",
        "popd": "OSMagics",
        "pprint": "BasicMagics",
        "precision": "BasicMagics",
        "profile": "BasicMagics",
        "prun": "ExecutionMagics",
        "psearch": "NamespaceMagics",
        "psource": "NamespaceMagics",
        "pushd": "OSMagics",
        "pwd": "OSMagics",
        "pycat": "OSMagics",
        "pylab": "PylabMagics",
        "qtconsole": "KernelMagics",
        "quickref": "BasicMagics",
        "recall": "HistoryMagics",
        "rehashx": "OSMagics",
        "reload_ext": "ExtensionMagics",
        "rep": "Other",
        "rerun": "HistoryMagics",
        "reset": "NamespaceMagics",
        "reset_selective": "NamespaceMagics",
        "rm": "Other",
        "rmdir": "Other",
        "run": "ExecutionMagics",
        "save": "CodeMagics",
        "sc": "OSMagics",
        "set_env": "OSMagics",
        "store": "StoreMagics",
        "sx": "OSMagics",
        "system": "OSMagics",
        "tb": "ExecutionMagics",
        "time": "ExecutionMagics",
        "timeit": "ExecutionMagics",
        "unalias": "OSMagics",
        "unload_ext": "ExtensionMagics",
        "who": "NamespaceMagics",
        "who_ls": "NamespaceMagics",
        "whos": "NamespaceMagics",
        "xdel": "NamespaceMagics",
        "xmode": "BasicMagics"
       }
      },
      "text/plain": [
       "Available line magics:\n",
       "%alias  %alias_magic  %autocall  %automagic  %autosave  %bookmark  %cat  %cd  %clear  %colors  %config  %connect_info  %cp  %debug  %dhist  %dirs  %doctest_mode  %ed  %edit  %env  %gui  %hist  %history  %killbgscripts  %ldir  %less  %lf  %lk  %ll  %load  %load_ext  %loadpy  %logoff  %logon  %logstart  %logstate  %logstop  %ls  %lsmagic  %lx  %macro  %magic  %man  %matplotlib  %mkdir  %more  %mv  %notebook  %page  %pastebin  %pdb  %pdef  %pdoc  %pfile  %pinfo  %pinfo2  %popd  %pprint  %precision  %profile  %prun  %psearch  %psource  %pushd  %pwd  %pycat  %pylab  %qtconsole  %quickref  %recall  %rehashx  %reload_ext  %rep  %rerun  %reset  %reset_selective  %rm  %rmdir  %run  %save  %sc  %set_env  %store  %sx  %system  %tb  %time  %timeit  %unalias  %unload_ext  %who  %who_ls  %whos  %xdel  %xmode\n",
       "\n",
       "Available cell magics:\n",
       "%%!  %%HTML  %%SVG  %%bash  %%capture  %%debug  %%file  %%html  %%javascript  %%js  %%latex  %%markdown  %%perl  %%prun  %%pypy  %%python  %%python2  %%python3  %%ruby  %%script  %%sh  %%svg  %%sx  %%system  %%time  %%timeit  %%writefile\n",
       "\n",
       "Automagic is ON, % prefix IS NOT needed for line magics."
      ]
     },
     "execution_count": 1,
     "metadata": {},
     "output_type": "execute_result"
    }
   ],
   "source": [
    "%lsmagic"
   ]
  },
  {
   "cell_type": "markdown",
   "metadata": {},
   "source": [
    "# Random Basic Python Knowledge \n",
    "\n",
    "Dynamically-typed language and Statically-typed language\n",
    "\n",
    "\n",
    "    Statically-typed language require variables to be explicitly declared, a Dynamically-typed language like Python skips\n",
    "    this specification.\n",
    "    \n",
    "    > Everything in Python is an object. **objects.TAB** can see the list of attributes and methods"
   ]
  },
  {
   "cell_type": "markdown",
   "metadata": {},
   "source": [
    "## List"
   ]
  },
  {
   "cell_type": "code",
   "execution_count": null,
   "metadata": {},
   "outputs": [],
   "source": [
    "#-- 整数可以利用bit_length函数测试所占的位数\n",
    "a=1123\n",
    "b='wm'\n",
    "c= 3.13\n",
    "d=4/6\n",
    "e=[a,b,c,d]\n",
    "e.append('a list')\n",
    "f=[]\n",
    "\n",
    "a.bit_length()\n",
    "b.split()\n",
    "c.is_integer()\n",
    "d.real\n",
    "e\n",
    "f"
   ]
  },
  {
   "cell_type": "code",
   "execution_count": null,
   "metadata": {},
   "outputs": [],
   "source": [
    "x=1;y=2;z=3\n",
    "list1 = [x,y,z]\n",
    "list2 = list1\n",
    "list2[1]=4\n",
    "list2\n",
    "list1\n",
    "\n",
    "x = []\n",
    "y = x\n",
    "y.append('wm')\n",
    "x,y\n",
    "x is y"
   ]
  },
  {
   "cell_type": "markdown",
   "metadata": {},
   "source": [
    "<span style=\"font-family:Decorative; font-size:1em; color:green;\">  Both the list1 and list2 variables point to the same slot in memory\n",
    "</span>"
   ]
  },
  {
   "cell_type": "markdown",
   "metadata": {},
   "source": [
    "## Tuple"
   ]
  },
  {
   "cell_type": "code",
   "execution_count": 1,
   "metadata": {},
   "outputs": [
    {
     "data": {
      "text/plain": [
       "(1, 2, 3)"
      ]
     },
     "execution_count": 1,
     "metadata": {},
     "output_type": "execute_result"
    }
   ],
   "source": [
    "s = set([1,2,3,2,3,4])\n",
    "s\n",
    "nullset=set()\n",
    "type(s)\n",
    "t = tuple([1,2,3])\n",
    "t\n",
    "t = tuple((1,2,3))\n",
    "t\n",
    "t = tuple({1,2,3})\n",
    "t"
   ]
  },
  {
   "cell_type": "code",
   "execution_count": null,
   "metadata": {},
   "outputs": [],
   "source": [
    "l = ['one','two']\n",
    "type(l)\n",
    "x\n",
    "y\n",
    "x,y = y, x\n",
    "x\n",
    "y"
   ]
  },
  {
   "cell_type": "markdown",
   "metadata": {},
   "source": [
    "## Dictionary\n"
   ]
  },
  {
   "cell_type": "code",
   "execution_count": null,
   "metadata": {},
   "outputs": [],
   "source": [
    "# create a mapping of states to abbreviation\n",
    "states={\n",
    "    'Oregon':'OR',\n",
    "    'Florida':'FL',\n",
    "    'California':'CA',\n",
    "    'New York':'NY',\n",
    "    'Michigan':'MI'\n",
    "}\n",
    "\n",
    "# creat a basic set of states and some cities in them\n",
    "cities={\n",
    "    'CA':'San Francisco',\n",
    "    'MI':'Detroit',\n",
    "    'FL':'Jacksonville'\n",
    "}\n",
    "\n",
    "cities[states['Florida']]\n",
    "states.get('Oregon')\n",
    "states.copy()\n",
    "states.keys()\n",
    "states.items()"
   ]
  },
  {
   "cell_type": "code",
   "execution_count": null,
   "metadata": {},
   "outputs": [],
   "source": [
    "sorted(list(states.keys()))\n",
    "sorted(list(states.values()))\n",
    "sorted(list(states.items()))\n",
    "\n",
    "defaults = {'theme': 'Defaults', 'language':'eng', 'showIndex': True, 'showFooter':True}\n",
    "cm=defaults\n",
    "cm['theme']\n",
    "cm.pop('theme')"
   ]
  },
  {
   "cell_type": "code",
   "execution_count": null,
   "metadata": {},
   "outputs": [],
   "source": [
    "cm['theme']"
   ]
  },
  {
   "cell_type": "code",
   "execution_count": null,
   "metadata": {},
   "outputs": [],
   "source": [
    "defaults = {'theme': 'Defaults', 'language':'eng', 'showIndex': True, 'showFooter':True}"
   ]
  },
  {
   "cell_type": "code",
   "execution_count": null,
   "metadata": {},
   "outputs": [],
   "source": [
    "from collections import ChainMap\n",
    "cm = ChainMap(defaults)"
   ]
  },
  {
   "cell_type": "code",
   "execution_count": null,
   "metadata": {},
   "outputs": [],
   "source": [
    "cm = cm.new_child({'theme':'bluesky'})\n",
    "cm"
   ]
  },
  {
   "cell_type": "code",
   "execution_count": null,
   "metadata": {},
   "outputs": [],
   "source": [
    "cm.pop('theme')\n",
    "cm['theme']"
   ]
  },
  {
   "cell_type": "code",
   "execution_count": null,
   "metadata": {},
   "outputs": [],
   "source": [
    "def wordcount(fname):\n",
    "    try:\n",
    "        fhand=open(fname)\n",
    "    except:\n",
    "        print('File cannot be opened')\n",
    "        exit()\n",
    "    count = dict()\n",
    "    for line in fhand:\n",
    "        words = line.split()\n",
    "        for word in words:\n",
    "            if word not in count:\n",
    "                count[word] = 1\n",
    "            else:\n",
    "                count[word] += 1\n",
    "        return(count)"
   ]
  },
  {
   "cell_type": "code",
   "execution_count": null,
   "metadata": {},
   "outputs": [],
   "source": [
    "wordcount('../psychology.txt')"
   ]
  },
  {
   "cell_type": "code",
   "execution_count": null,
   "metadata": {},
   "outputs": [],
   "source": [
    "psychlogy = \"Human beings are highly social creatures. Because of this we are intensely interested in what others are doing, and why. We need to know who is good and bad and therefore who we want to avoid and who we can tolerate.\""
   ]
  },
  {
   "cell_type": "code",
   "execution_count": null,
   "metadata": {},
   "outputs": [],
   "source": [
    "count = dict()\n",
    "elements = psychlogy.split();\n",
    "for element in elements:\n",
    "    if element in psychlogy:\n",
    "        count[element] = 1\n",
    "    else: \n",
    "        cound[element] +=1\n",
    "count"
   ]
  },
  {
   "cell_type": "code",
   "execution_count": null,
   "metadata": {},
   "outputs": [],
   "source": [
    "cat ../README.md"
   ]
  },
  {
   "cell_type": "markdown",
   "metadata": {},
   "source": [
    "## Functions\n"
   ]
  },
  {
   "cell_type": "markdown",
   "metadata": {},
   "source": [
    "<span style = \"font-family:Times New Roman ; font-size: 1em; color: green\"> \n",
    "Basic Prototype\n",
    "</span>\n"
   ]
  },
  {
   "cell_type": "code",
   "execution_count": null,
   "metadata": {},
   "outputs": [],
   "source": [
    "def break_words(stuff):\n",
    "    \"\"\"This function will break up words for us.\"\"\"\n",
    "    words=stuff.split(' ')\n",
    "    return words\n",
    "break_words('Too late to apologize')\n",
    "def sort_words(words):\n",
    "    \"\"\"sorts the words.\"\"\"\n",
    "    return sorted (words)\n",
    "sort_words('wm')"
   ]
  },
  {
   "cell_type": "markdown",
   "metadata": {},
   "source": [
    "<span style = \"font-family:Times New Roman ; font-size: 1em; color: green\"> \n",
    "Uncommon function arguments \n",
    "</span>\n"
   ]
  },
  {
   "cell_type": "code",
   "execution_count": 3,
   "metadata": {},
   "outputs": [
    {
     "name": "stdout",
     "output_type": "stream",
     "text": [
      "first normal arg: yasoob\n",
      "another arg through *argv: python\n",
      "another arg through *argv: eggs\n",
      "another arg through *argv: test\n",
      "name == yasoob\n"
     ]
    }
   ],
   "source": [
    "def test_var_args(f_arg, *argv): # 预先并不知道, 函数使用者会传递多少个参数给你\n",
    "    print(\"first normal arg:\", f_arg)\n",
    "    for arg in argv:\n",
    "        print(\"another arg through *argv:\", arg)\n",
    "test_var_args('yasoob', 'python', 'eggs', 'test')\n",
    "\n",
    "def greet_me(**kwargs): # 想要在一个函数里处理带名字的参数\n",
    "    for key, value in kwargs.items():\n",
    "        print(\"{0} == {1}\".format(key, value))\n",
    "greet_me(name=\"yasoob\")"
   ]
  },
  {
   "cell_type": "markdown",
   "metadata": {},
   "source": [
    "<span style = \"font-family:Times New Roman ; font-size: 1em; color: green\"> \n",
    "Need more explanation here!!!\n",
    "</span>\n"
   ]
  },
  {
   "cell_type": "code",
   "execution_count": null,
   "metadata": {},
   "outputs": [],
   "source": [
    "def fibon(n): # generator version\n",
    "    a = b = 1\n",
    "    for i in range(n):\n",
    "        yield a\n",
    "        a, b = b, a + b\n",
    "for x in fibon(10):\n",
    "    print(x)"
   ]
  },
  {
   "cell_type": "code",
   "execution_count": null,
   "metadata": {},
   "outputs": [],
   "source": [
    "def multiply(x):\n",
    "        return (x*x)\n",
    "def add(x):\n",
    "        return (x+x)\n",
    "funcs = [multiply, add]\n",
    "for i in range(5):\n",
    "    value = map(lambda x: x(i), funcs)\n",
    "    print(list(value))"
   ]
  },
  {
   "cell_type": "code",
   "execution_count": null,
   "metadata": {},
   "outputs": [],
   "source": [
    "# Example: \n",
    "import re\n",
    "pattern = re.compile(r\"\\[(on|off)\\]\") # Slight optimization\n",
    "print(re.search(pattern, \"Mono: Playback 65 [75%] [-16.50dB] [on]\"))\n",
    "# Returns a Match object!\n",
    "print(re.search(pattern, \"Nada...:-(\"))\n",
    "# Doesn't return anything.\n",
    "# End Example\n",
    "\n",
    "# Exercise: make a regular expression that will match an email\n",
    "def test_email(your_pattern):\n",
    "    pattern = re.compile(your_pattern)\n",
    "    emails = [\"john@example.com\", \"python-list@python.org\", \"wha.t.`1an?ug{}ly@email.com\"]\n",
    "    for email in emails:\n",
    "        if not re.match(pattern, email):\n",
    "            print(\"You failed to match %s\" % (email))\n",
    "        elif not your_pattern:\n",
    "            print(\"Forgot to enter a pattern!\")\n",
    "        else:\n",
    "            print(\"Pass\")\n",
    "pattern = r\"\" # Your pattern here!\n",
    "test_email(pattern)"
   ]
  },
  {
   "cell_type": "markdown",
   "metadata": {},
   "source": [
    "## Class\n",
    "\n",
    "    \n",
    "In this code:\n",
    "\n",
    "    class A(object):\n",
    "        def __init__(self):\n",
    "            self.x = 'Hello'\n",
    "\n",
    "        def method_a(self, foo):\n",
    "            print self.x + ' ' + foo\n",
    "\n",
    "... the `self` variable represents the instance of the object itself.  Most object-oriented languages pass this as a hidden parameter to the methods defined on an object; Python does not.  You have to declare it explicitly.  When you create an instance of the `A` class and call its methods, it will be passed automatically, as in ...\n",
    "\n",
    "    a = A()               # We do not pass any argument to the __init__ method\n",
    "    a.method_a('Sailor!') # We only pass a single argument\n",
    "\n",
    "The `__init__` method is roughly what represents a constructor in Python.  When you call `A()` Python creates an object for you, and passes it as the first parameter to the `__init__` method.  Any additional parameters (e.g., `A(24, 'Hello')`) will also get passed as arguments--in this case causing an exception to be raised, since the constructor isn't expecting them.\n",
    "\n",
    "[Citation](https://stackoverflow.com/a/625098/7583919)\n",
    "        "
   ]
  },
  {
   "cell_type": "code",
   "execution_count": null,
   "metadata": {},
   "outputs": [],
   "source": [
    "class A(object):\n",
    "    def __init__(self):\n",
    "        self.x = 'Hello'\n",
    "\n",
    "    def method_a(self, foo):\n",
    "        print (self.x + ' ' + foo)\n",
    "a = A()             \n",
    "a.method_a('Sailor!') "
   ]
  },
  {
   "cell_type": "code",
   "execution_count": null,
   "metadata": {},
   "outputs": [],
   "source": [
    "A().method_a('Sodier')"
   ]
  },
  {
   "cell_type": "markdown",
   "metadata": {},
   "source": [
    "I still didn't catch the philosophy with class. [An OOP question in C ](https://stackoverflow.com/q/45230835/7583919)"
   ]
  },
  {
   "cell_type": "markdown",
   "metadata": {},
   "source": [
    "* `__init__` is a constructor. when you say call `A()`, it is triggered and construct an object.\n",
    "* `self` is the the object itself."
   ]
  },
  {
   "cell_type": "code",
   "execution_count": null,
   "metadata": {},
   "outputs": [],
   "source": [
    "class Node:\n",
    "    def __init__(self, data=None):\n",
    "        self.data = data\n",
    "        self.next = None\n",
    "    \n",
    "n1=Node(\"Call me by your name\")\n",
    "n2=Node(\"CMBYN\")\n",
    "n3=Node(\"cmbyn\")\n",
    "n1.next = n2\n",
    "n2.next = n3\n",
    "current = n1\n",
    "\n",
    "while current:\n",
    "    print(current.data)\n",
    "    current = current.next"
   ]
  },
  {
   "cell_type": "code",
   "execution_count": null,
   "metadata": {},
   "outputs": [],
   "source": [
    "class song(object):\n",
    "    \n",
    "    def __init__(self,lyrics):\n",
    "        self.lyrics = lyrics\n",
    "    def sing_me_a_song(self):  \n",
    "        for line in self.lyrics:\n",
    "            print (line)\n",
    "# create an object instance, happy_bday.\n",
    "happy_bday = song([\"Happy birthday to you\",\n",
    "                   \"I don't want to get sued\",\n",
    "                   \"So I will stop there\"])\n",
    "# create another object instance, bulls_on_prade.\n",
    "bulls_on_prade = song([\"They rally around the family\",\n",
    "                       \"With pockets full of shells\"])\n",
    "\n",
    "happy_bday.sing_me_a_song()\n",
    "bulls_on_prade.sing_me_a_song()\n",
    "print (\"In python programming, I need to consider indent with the whole code, unlike FORTRAN\")\n",
    "print (\"\"\"The statement above is wrong,\n",
    "because from Fortran90 and later on, \n",
    "no indent needed any more.\n",
    "\"\"\")\n",
    "print (\"The language seems incredibly natural, I print the words just with a print, no need to say printf or add control formatter \") "
   ]
  },
  {
   "cell_type": "code",
   "execution_count": null,
   "metadata": {},
   "outputs": [],
   "source": [
    "from sys import exit\n",
    "\n",
    "def gold_room():\n",
    "    print (\"This room is full of gold .how much do you take?\")\n",
    " \n",
    "    next = raw_input ('>')\n",
    "    if \"0\" in next or \"1\" in next :\n",
    "        how_much = int (next)\n",
    "\n",
    "    else:\n",
    "        dead(\"man ,learn to type a number.\")\n",
    "\n",
    "    if how_much < 50:\n",
    "       print (\"Nice ,you're not greedy, you win!\")\n",
    "       exit(0)\n",
    "    else:\n",
    "       dead(\"You greedy bastard!\")\n",
    "\n",
    "def bear_room():\n",
    "    print (\"There is a bear here.\")\n",
    "    print (\"The bear has a bunch of honey.\")\n",
    "    print (\"The fat bear is in front of another door.\")\n",
    "    print (\"how are you going to move the bear?\")\n",
    "    bear_moved = False\n",
    "    \n",
    "    while True:\n",
    "       next = raw_input (\">\")\n",
    "    \n",
    "       if next == \"take honey\":\n",
    "           dead(\"The bear looks at you then slaps your face off.\")\n",
    "       elif next == \"taunt bear\" and not bear_moved:\n",
    "           print (\"The bear has moved from the door.You go through it now.\")\n",
    "           bear_moved = True\n",
    "       elif next == \"taunt bear\" and bear_moved:\n",
    "            dead(\"The bear gets pissed off and chews your leg off.\")\n",
    "       elif next == \"open door\" and bear_moved:\n",
    "            gold_room()\n",
    "       else:\n",
    "           print (\"I got no idea what that means.\")\n",
    "\n",
    "def cthulhu_room():\n",
    "    print (\"Here you see the great evil Cthulhu.\")\n",
    "    print (\"He, it, whatever stares at you and you go insane.\")\n",
    "    print (\"Do you flee for your life or eat your head?\")\n",
    "    next = raw_input(\">\")\n",
    "\n",
    "    if \"flee\" in next:\n",
    "        start()\n",
    "    elif \"head\" in next:\n",
    "        dead(\"Well that was tasty!\")\n",
    "    else:\n",
    "        chulhu_room()\n",
    "def dead(why):\n",
    "    print (why, \"Good job!\")\n",
    "    exit(0)\n",
    "\n",
    "def start():\n",
    "    print (\"You are in a dark room.\")\n",
    "    print (\"There is a door to your right and left\")\n",
    "    print (\"Which one do you take\")\n",
    "\n",
    "    next = input(\">\")\n",
    "\n",
    "    if next == \"left\":\n",
    "        bear_room()\n",
    "    elif next == \"right\":\n",
    "        cthulhu_room()\n",
    "    else:\n",
    "        dead(\"You stumble around the room until you starve.\")\n",
    "start()\n"
   ]
  },
  {
   "cell_type": "code",
   "execution_count": null,
   "metadata": {},
   "outputs": [],
   "source": [
    "class Pet(object):\n",
    "    \"A class about pet, including  name and species \"\n",
    "    def __init__(self, name, species):\n",
    "        self.name = name\n",
    "        self.species = species\n",
    "\n",
    "    def getName(self):\n",
    "        return self.name\n",
    "\n",
    "    def getSpecies(self):\n",
    "        return self.species\n",
    "\n",
    "    def __str__(self):\n",
    "        return \"%s is a %s\" % (self.name, self.species)\n",
    "class Dog(Pet):\n",
    "\n",
    "    def __init__(self, name, chases_cats):\n",
    "        Pet.__init__(self, name, \"Dog\")\n",
    "        self.chases_cats = chases_cats\n",
    "\n",
    "    def chasesCats(self):\n",
    "        return self.chases_cats\n",
    "# De = Dog('Dave',True) means De.chasesCats=True\n",
    "\n",
    "class Cat(Pet):\n",
    "    def __init__(self, name, hates_dogs):\n",
    "        Pet.__init__(self, name, 'Cats')\n",
    "        self.hates_dogs = hates_dogs\n",
    "\n",
    "    def hates_dogs(self):\n",
    "        return self.hates_dogs"
   ]
  },
  {
   "cell_type": "code",
   "execution_count": null,
   "metadata": {},
   "outputs": [],
   "source": [
    "class University():\n",
    "    '''\n",
    "    Class University \n",
    "    stores the name of the Univesity and the city where it sits\n",
    "    '''\n",
    "    def __init__(self, name, city):\n",
    "        self.name = name\n",
    "        self.city = city\n",
    "    def get_name(self):\n",
    "        return self.name\n",
    "    def get_city(self):\n",
    "        return self.city\n",
    "OF=University('Oxford University', 'London')"
   ]
  },
  {
   "cell_type": "code",
   "execution_count": null,
   "metadata": {},
   "outputs": [],
   "source": [
    "OF.get_name()\n",
    "OF.get_city()\n",
    "print(OF.__doc__)"
   ]
  },
  {
   "cell_type": "markdown",
   "metadata": {},
   "source": [
    "* \\__name\\__ modules, objects, functions and classes can have a \\__name\\__ attribute. Python uses \\__name\\__ to write error messages. And, if you become a python programmer, you, too, will use \\__name\\__. In this example I try to change a read-only object. What type has the object?\n",
    "> The rule of thumb is, don't introduce a new attribute out side of the \\__init\\__ method, otherwise you've given the caller an object that isn't fully initialized. "
   ]
  },
  {
   "cell_type": "code",
   "execution_count": null,
   "metadata": {},
   "outputs": [],
   "source": [
    "class Customer(object):\n",
    "    \"\"\"A customer of ABC Bank with a checking account. Customers have the\n",
    "    following properties:\n",
    "\n",
    "    Attributes:\n",
    "        name: A string representing the customer's name.\n",
    "        balance: A float tracking the current balance of the customer's account.\n",
    "    \"\"\"\n",
    "\n",
    "    def __init__(self, name):\n",
    "        \"\"\"Return a Customer object whose name is *name*.\"\"\" \n",
    "        self.name = name\n",
    "\n",
    "    def set_balance(self, balance=0.0):\n",
    "        \"\"\"Set the customer's starting balance.\"\"\"\n",
    "        self.balance = balance\n",
    "\n",
    "    def withdraw(self, amount):\n",
    "        \"\"\"Return the balance remaining after withdrawing *amount*\n",
    "        dollars.\"\"\"\n",
    "        if amount > self.balance:\n",
    "            raise RuntimeError('Amount greater than available balance.')\n",
    "        self.balance -= amount\n",
    "        return self.balance\n",
    "\n",
    "    def deposit(self, amount):\n",
    "        \"\"\"Return the balance remaining after depositing *amount*\n",
    "        dollars.\"\"\"\n",
    "        self.balance += amount\n",
    "        return self.balance"
   ]
  },
  {
   "cell_type": "code",
   "execution_count": null,
   "metadata": {},
   "outputs": [],
   "source": [
    "wm=Customer('WangMiao')\n",
    "wm.name\n",
    "wm.set_balance(100)\n",
    "wm.withdraw(2)\n",
    "wm.deposit(1000)\n",
    "AS=Customer('Aaron Swartz')\n",
    "AS.name\n",
    "AS.set_balance(99)\n",
    "AS.withdraw(10)"
   ]
  },
  {
   "cell_type": "code",
   "execution_count": null,
   "metadata": {},
   "outputs": [],
   "source": [
    "class Car(object):\n",
    "    \"\"\"A car for sale by Jeffco Car Dealership.\n",
    "\n",
    "    Attributes:\n",
    "        wheels: An integer representing the number of wheels the car has.\n",
    "        miles: The integral number of miles driven on the car.\n",
    "        make: The make of the car as a string.\n",
    "        model: The model of the car as a string.\n",
    "        year: The integral year the car was built.\n",
    "        sold_on: The date the vehicle was sold.\n",
    "    \"\"\"\n",
    "\n",
    "    def __init__(self, wheels, miles, make, model, year, sold_on):\n",
    "        \"\"\"Return a new Car object.\"\"\"\n",
    "        self.wheels = wheels\n",
    "        self.miles = miles\n",
    "        self.make = make\n",
    "        self.model = model\n",
    "        self.year = year\n",
    "        self.sold_on = sold_on\n",
    "\n",
    "    def sale_price(self):\n",
    "        \"\"\"Return the sale price for this car as a float amount.\"\"\"\n",
    "        if self.sold_on is not None:\n",
    "            return 0.0  # Already sold\n",
    "        return 5000.0 * self.wheels\n",
    "\n",
    "    def purchase_price(self):\n",
    "        \"\"\"Return the price for which we would pay to purchase the car.\"\"\"\n",
    "        if self.sold_on is None:\n",
    "            return 0.0  # Not yet sold\n",
    "        return 8000 - (.10 * self.miles)"
   ]
  },
  {
   "cell_type": "code",
   "execution_count": null,
   "metadata": {},
   "outputs": [],
   "source": [
    "Tesla=Car(4, 1993, 'wm', 'Tesla',2016,1995)\n",
    "Tesla.sale_price()\n",
    "Tesla.purchase_price()"
   ]
  },
  {
   "cell_type": "code",
   "execution_count": null,
   "metadata": {},
   "outputs": [],
   "source": [
    "class Vehicle(object):\n",
    "    \"\"\"A vehicle for sale by Jeffco Car Dealership.\n",
    "\n",
    "    Attributes:\n",
    "        wheels: An integer representing the number of wheels the vehicle has.\n",
    "        miles: The integral number of miles driven on the vehicle.\n",
    "        make: The make of the vehicle as a string.\n",
    "        model: The model of the vehicle as a string.\n",
    "        year: The integral year the vehicle was built.\n",
    "        sold_on: The date the vehicle was sold.\n",
    "    \"\"\"\n",
    "\n",
    "    base_sale_price = 0\n",
    "\n",
    "    def __init__(self, wheels, miles, make, model, year, sold_on):\n",
    "        \"\"\"Return a new Vehicle object.\"\"\"\n",
    "        self.wheels = wheels\n",
    "        self.miles = miles\n",
    "        self.make = make\n",
    "        self.model = model\n",
    "        self.year = year\n",
    "        self.sold_on = sold_on\n",
    "\n",
    "\n",
    "    def sale_price(self):\n",
    "        \"\"\"Return the sale price for this vehicle as a float amount.\"\"\"\n",
    "        if self.sold_on is not None:\n",
    "            return 0.0  # Already sold\n",
    "        return 5000.0 * self.wheels\n",
    "\n",
    "    def purchase_price(self):\n",
    "        \"\"\"Return the price for which we would pay to purchase the vehicle.\"\"\"\n",
    "        if self.sold_on is None:\n",
    "            return 0.0  # Not yet sold\n",
    "        return self.base_sale_price - (.10 * self.miles)"
   ]
  },
  {
   "cell_type": "code",
   "execution_count": null,
   "metadata": {},
   "outputs": [],
   "source": [
    "class Car(Vehicle):\n",
    "\n",
    "    def __init__(self, wheels, miles, make, model, year, sold_on):\n",
    "        \"\"\"Return a new Car object.\"\"\"\n",
    "        self.wheels = wheels\n",
    "        self.miles = miles\n",
    "        self.make = make\n",
    "        self.model = model\n",
    "        self.year = year\n",
    "        self.sold_on = sold_on\n",
    "        self.base_sale_price = 8000\n",
    "\n",
    "\n",
    "class Truck(Vehicle):\n",
    "\n",
    "    def __init__(self, wheels, miles, make, model, year, sold_on):\n",
    "        \"\"\"Return a new Truck object.\"\"\"\n",
    "        self.wheels = wheels\n",
    "        self.miles = miles\n",
    "        self.make = make\n",
    "        self.model = model\n",
    "        self.year = year\n",
    "        self.sold_on = sold_on\n",
    "        self.base_sale_price = 10000"
   ]
  },
  {
   "cell_type": "markdown",
   "metadata": {},
   "source": [
    "## **Abstract Base classes** are meant to be inherited from, you cann not creat an instance of an ABC"
   ]
  },
  {
   "cell_type": "code",
   "execution_count": null,
   "metadata": {},
   "outputs": [],
   "source": [
    "from abc import ABCMeta, abstractmethod\n",
    "\n",
    "class Vehicle(object):\n",
    "    \"\"\"A vehicle for sale by Jeffco Car Dealership.\n",
    "\n",
    "\n",
    "    Attributes:\n",
    "        wheels: An integer representing the number of wheels the vehicle has.\n",
    "        miles: The integral number of miles driven on the vehicle.\n",
    "        make: The make of the vehicle as a string.\n",
    "        model: The model of the vehicle as a string.\n",
    "        year: The integral year the vehicle was built.\n",
    "        sold_on: The date the vehicle was sold.\n",
    "    \"\"\"\n",
    "\n",
    "    __metaclass__ = ABCMeta\n",
    "\n",
    "    base_sale_price = 0\n",
    "\n",
    "    def sale_price(self):\n",
    "        \"\"\"Return the sale price for this vehicle as a float amount.\"\"\"\n",
    "        if self.sold_on is not None:\n",
    "            return 0.0  # Already sold\n",
    "        return 5000.0 * self.wheels\n",
    "\n",
    "    def purchase_price(self):\n",
    "        \"\"\"Return the price for which we would pay to purchase the vehicle.\"\"\"\n",
    "        if self.sold_on is None:\n",
    "            return 0.0  # Not yet sold\n",
    "        return self.base_sale_price - (.10 * self.miles)\n",
    "\n",
    "    @abstractmethod\n",
    "    def vehicle_type():\n",
    "        \"\"\"\"Return a string representing the type of vehicle this is.\"\"\"\n",
    "        pass"
   ]
  },
  {
   "cell_type": "code",
   "execution_count": null,
   "metadata": {},
   "outputs": [],
   "source": [
    "from abc import ABCMeta, abstractmethod\n",
    "class Vehicle(object):\n",
    "    \"\"\"A vehicle for sale by Jeffco Car Dealership.\n",
    "\n",
    "\n",
    "    Attributes:\n",
    "        wheels: An integer representing the number of wheels the vehicle has.\n",
    "        miles: The integral number of miles driven on the vehicle.\n",
    "        make: The make of the vehicle as a string.\n",
    "        model: The model of the vehicle as a string.\n",
    "        year: The integral year the vehicle was built.\n",
    "        sold_on: The date the vehicle was sold.\n",
    "    \"\"\"\n",
    "\n",
    "    __metaclass__ = ABCMeta\n",
    "\n",
    "    base_sale_price = 0\n",
    "    wheels = 0\n",
    "\n",
    "    def __init__(self, miles, make, model, year, sold_on):\n",
    "        self.miles = miles\n",
    "        self.make = make\n",
    "        self.model = model\n",
    "        self.year = year\n",
    "        self.sold_on = sold_on\n",
    "\n",
    "    def sale_price(self):\n",
    "        \"\"\"Return the sale price for this vehicle as a float amount.\"\"\"\n",
    "        if self.sold_on is not None:\n",
    "            return 0.0  # Already sold\n",
    "        return 5000.0 * self.wheels\n",
    "\n",
    "    def purchase_price(self):\n",
    "        \"\"\"Return the price for which we would pay to purchase the vehicle.\"\"\"\n",
    "        if self.sold_on is None:\n",
    "            return 0.0  # Not yet sold\n",
    "        return self.base_sale_price - (.10 * self.miles)\n",
    "\n",
    "    @abstractmethod\n",
    "    def vehicle_type(self):\n",
    "        \"\"\"\"Return a string representing the type of vehicle this is.\"\"\""
   ]
  },
  {
   "cell_type": "code",
   "execution_count": null,
   "metadata": {},
   "outputs": [],
   "source": [
    "class Car(Vehicle):\n",
    "    \"\"\"A car for sale by Jeffco Car Dealership.\"\"\"\n",
    "\n",
    "    base_sale_price = 8000\n",
    "    wheels = 4\n",
    "\n",
    "    def vehicle_type(self):\n",
    "        \"\"\"\"Return a string representing the type of vehicle this is.\"\"\"\n",
    "        return 'car'\n",
    "\n",
    "class Truck(Vehicle):\n",
    "    \"\"\"A truck for sale by Jeffco Car Dealership.\"\"\"\n",
    "\n",
    "    base_sale_price = 10000\n",
    "    wheels = 4\n",
    "\n",
    "    def vehicle_type(self):\n",
    "        \"\"\"\"Return a string representing the type of vehicle this is.\"\"\"\n",
    "        return 'truck'\n",
    "\n",
    "\n",
    "Tesla=Car(1993, 'wm', 'Tesla',2016,1995)\n",
    "Tesla.wheels\n",
    "Tesla.base_sale_price\n",
    "Tesla.vehicle_type()"
   ]
  },
  {
   "cell_type": "code",
   "execution_count": null,
   "metadata": {},
   "outputs": [],
   "source": [
    "from html.parser import HTMLParser  \n",
    "from urllib.request import urlopen  \n",
    "from urllib import parse\n",
    "\n",
    "#  LinkParser inherits some methods from HTMLParser\n",
    "class LinkParser(HTMLParser):\n",
    "\n",
    "    # This is a function that HTMLParser normally has\n",
    "    # but we are adding some functionality to it\n",
    "    def handle_starttag(self, tag, attrs):\n",
    "        # We are looking for the begining of a link. Links normally look\n",
    "        # like <a href=\"www.someurl.com\"></a>\n",
    "        if tag == 'a':\n",
    "            for (key, value) in attrs:\n",
    "                if key == 'href':\n",
    "                    # We are grabbing the new URL. We are also adding the\n",
    "                    # base URL to it. For example:\n",
    "                    # www.netinstructions.com is the base and\n",
    "                    # somepage.html is the new URL (a relative URL)\n",
    "                    #\n",
    "                    # We combine a relative URL with the base URL to create\n",
    "                    # an absolute URL like:\n",
    "                    # www.netinstructions.com/somepage.html\n",
    "                    newUrl = parse.urljoin(self.baseUrl, value)\n",
    "                    # And add it to our colection of links:\n",
    "                    self.links = self.links + [newUrl]\n",
    "\n",
    "    # This is a new function that we are creating to get links\n",
    "    # that our spider() function will call\n",
    "    def getLinks(self, url):\n",
    "        self.links = []\n",
    "        # Remember the base URL which will be important when creating\n",
    "        # absolute URLs\n",
    "        self.baseUrl = url\n",
    "        # Use the urlopen function from the standard Python 3 library\n",
    "        response = urlopen(url)\n",
    "        # Make sure that we are looking at HTML and not other things that\n",
    "        # are floating around on the internet (such as\n",
    "        # JavaScript files, CSS, or .PDFs for example)\n",
    "        if response.getheader('Content-Type')=='text/html':\n",
    "            htmlBytes = response.read()\n",
    "            # Note that feed() handles Strings well, but not bytes\n",
    "            # (A change from Python 2.x to Python 3.x)\n",
    "            htmlString = htmlBytes.decode(\"utf-8\")\n",
    "            self.feed(htmlString)\n",
    "            return htmlString, self.links\n",
    "        else:\n",
    "            return \"\",[]\n",
    "\n",
    "# And finally here is our spider. It takes in an URL, a word to find,\n",
    "# and the number of pages to search through before giving up\n",
    "def spider(url, word, maxPages):  \n",
    "    pagesToVisit = [url]\n",
    "    numberVisited = 0\n",
    "    foundWord = False\n",
    "    # The main loop. Create a LinkParser and get all the links on the page.\n",
    "    # Also search the page for the word or string\n",
    "    # In our getLinks function we return the web page\n",
    "    # (this is useful for searching for the word)\n",
    "    # and we return a set of links from that web page\n",
    "    # (this is useful for where to go next)\n",
    "    while numberVisited < maxPages and pagesToVisit != [] and not foundWord:\n",
    "        numberVisited = numberVisited +1\n",
    "        # Start from the beginning of our collection of pages to visit:\n",
    "        url = pagesToVisit[0]\n",
    "        pagesToVisit = pagesToVisit[1:]\n",
    "        try:\n",
    "            print(numberVisited, \"Visiting:\", url)\n",
    "            parser = LinkParser()\n",
    "            data, links = parser.getLinks(url)\n",
    "            if data.find(word)>-1:\n",
    "                foundWord = True\n",
    "                # Add the pages that we visited to the end of our collection\n",
    "                # of pages to visit:\n",
    "                pagesToVisit = pagesToVisit + links\n",
    "                print(\" **Success!**\")\n",
    "        except:\n",
    "            print(\" **Failed!**\")\n",
    "    if foundWord:\n",
    "        print(\"The word\", word, \"was found at\", url)\n",
    "    else:\n",
    "        print(\"Word never found\")\n",
    "        \n",
    "spider('http://www.aaronsw.com/weblog/productivity', 'I', 1)"
   ]
  }
 ],
 "metadata": {
  "kernelspec": {
   "display_name": "Python 3",
   "language": "python",
   "name": "python3"
  },
  "language_info": {
   "codemirror_mode": {
    "name": "ipython",
    "version": 3
   },
   "file_extension": ".py",
   "mimetype": "text/x-python",
   "name": "python",
   "nbconvert_exporter": "python",
   "pygments_lexer": "ipython3",
   "version": "3.7.0"
  },
  "latex_envs": {
   "LaTeX_envs_menu_present": true,
   "autocomplete": true,
   "bibliofile": "biblio.bib",
   "cite_by": "apalike",
   "current_citInitial": 1,
   "eqLabelWithNumbers": true,
   "eqNumInitial": 1,
   "hotkeys": {
    "equation": "Ctrl-E",
    "itemize": "Ctrl-I"
   },
   "labels_anchors": false,
   "latex_user_defs": false,
   "report_style_numbering": false,
   "user_envs_cfg": false
  },
  "toc": {
   "base_numbering": 1,
   "nav_menu": {},
   "number_sections": true,
   "sideBar": true,
   "skip_h1_title": false,
   "title_cell": "Table of Contents",
   "title_sidebar": "Contents",
   "toc_cell": false,
   "toc_position": {},
   "toc_section_display": true,
   "toc_window_display": true
  }
 },
 "nbformat": 4,
 "nbformat_minor": 2
}
