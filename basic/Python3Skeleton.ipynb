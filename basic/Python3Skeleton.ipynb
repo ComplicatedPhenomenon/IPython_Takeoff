{
 "cells": [
  {
   "cell_type": "code",
   "execution_count": 6,
   "metadata": {},
   "outputs": [],
   "source": [
    "from IPython.core.interactiveshell import InteractiveShell\n",
    "InteractiveShell.ast_node_interactivity = \"all\""
   ]
  },
  {
   "cell_type": "markdown",
   "metadata": {},
   "source": [
    "# Python Built-in module"
   ]
  },
  {
   "cell_type": "markdown",
   "metadata": {},
   "source": [
    "## Random"
   ]
  },
  {
   "cell_type": "code",
   "execution_count": 2,
   "metadata": {},
   "outputs": [],
   "source": [
    "import random"
   ]
  },
  {
   "cell_type": "code",
   "execution_count": null,
   "metadata": {},
   "outputs": [],
   "source": [
    "for i in list(range(12, 16)):\n",
    "    print(i)"
   ]
  },
  {
   "cell_type": "code",
   "execution_count": null,
   "metadata": {},
   "outputs": [],
   "source": [
    "for i in range(40):\n",
    "    if random.choice(list(range(40))) == random.choice(list(range(40))):\n",
    "        print('okay, 2 random number equal!')"
   ]
  },
  {
   "cell_type": "code",
   "execution_count": null,
   "metadata": {},
   "outputs": [],
   "source": [
    "random.sample(list(range(40)),2)\n",
    "random.sample(list(range(0,40)),2)\n",
    "a, b = random.sample(list(range(0,40)),2)\n",
    "a,b\n",
    "a\n",
    "b\n",
    "a = random.sample([1],1)\n",
    "a"
   ]
  },
  {
   "cell_type": "code",
   "execution_count": null,
   "metadata": {},
   "outputs": [],
   "source": [
    "a = 7 if random.choice(list(range(40))) < 20 else 8\n",
    "a"
   ]
  },
  {
   "cell_type": "code",
   "execution_count": null,
   "metadata": {},
   "outputs": [],
   "source": [
    "for a in range(1, 9, 100):\n",
    "    print(a) "
   ]
  },
  {
   "cell_type": "markdown",
   "metadata": {},
   "source": [
    "`random.randint(a, b)` <span style=\"font-family:New York times; font-size:1em; color:green;\"> \n",
    "Return a random integer N such that a <= N <= b.\n",
    "</span>"
   ]
  },
  {
   "cell_type": "code",
   "execution_count": null,
   "metadata": {},
   "outputs": [],
   "source": [
    "random.randint(1,100)\n",
    "random.sample(range(0,20),2)"
   ]
  },
  {
   "cell_type": "markdown",
   "metadata": {},
   "source": [
    "## Time"
   ]
  },
  {
   "cell_type": "code",
   "execution_count": null,
   "metadata": {},
   "outputs": [],
   "source": [
    "import time"
   ]
  },
  {
   "cell_type": "code",
   "execution_count": null,
   "metadata": {},
   "outputs": [],
   "source": [
    "a = time.time()\n",
    "a "
   ]
  },
  {
   "cell_type": "code",
   "execution_count": null,
   "metadata": {},
   "outputs": [],
   "source": [
    "b = time.time()\n",
    "b \n",
    "b - a "
   ]
  },
  {
   "cell_type": "markdown",
   "metadata": {},
   "source": [
    "## `collections`"
   ]
  },
  {
   "cell_type": "code",
   "execution_count": 1,
   "metadata": {},
   "outputs": [],
   "source": [
    "import collections"
   ]
  },
  {
   "cell_type": "code",
   "execution_count": 11,
   "metadata": {},
   "outputs": [
    {
     "data": {
      "text/plain": [
       "deque([1, 2, 3])"
      ]
     },
     "execution_count": 11,
     "metadata": {},
     "output_type": "execute_result"
    },
    {
     "data": {
      "text/plain": [
       "deque([1, 2, 3, 4])"
      ]
     },
     "execution_count": 11,
     "metadata": {},
     "output_type": "execute_result"
    }
   ],
   "source": [
    "a = collections.deque([1,2,3])\n",
    "a \n",
    "a.append(4)\n",
    "a"
   ]
  },
  {
   "cell_type": "markdown",
   "metadata": {},
   "source": [
    "# Function"
   ]
  },
  {
   "cell_type": "markdown",
   "metadata": {},
   "source": [
    "<span style=\"font-family:New York Times; font-size:1.5em; color:green;\"> \n",
    "Define a function inside of a function\n",
    "\n",
    "这种能够接受一个函数作为参数的函数叫做「高阶函数」（higher-order function），是来自函数式编程（functional programming）的思想。"
   ]
  },
  {
   "cell_type": "code",
   "execution_count": null,
   "metadata": {},
   "outputs": [],
   "source": [
    "def greet(name):\n",
    "    def get_message():\n",
    "        return \"Hello \"\n",
    "\n",
    "    result = get_message()+name\n",
    "    return result\n",
    "\n",
    "print(greet(\"John\"))\n"
   ]
  },
  {
   "cell_type": "markdown",
   "metadata": {},
   "source": [
    "<span style=\"font-family:New York Times; font-size:1.5em; color:green;\"> \n",
    "Functions can be passed as parameters to other functions"
   ]
  },
  {
   "cell_type": "code",
   "execution_count": null,
   "metadata": {},
   "outputs": [],
   "source": [
    "def greet(name):\n",
    "   return \"Hello \" + name \n",
    "\n",
    "def call_func(func):\n",
    "    other_name = \"John\"\n",
    "    return func(other_name)  \n",
    "\n",
    "print(call_func(greet))\n",
    "\n",
    "# Outputs: Hello John"
   ]
  },
  {
   "cell_type": "markdown",
   "metadata": {},
   "source": [
    "<span style=\"font-family:New York Times; font-size:1.5em; color:green;\"> \n",
    "Return a function inside of function and can be assigned to a variable"
   ]
  },
  {
   "cell_type": "code",
   "execution_count": null,
   "metadata": {},
   "outputs": [],
   "source": [
    "def hi(name=\"yasoob\"):\n",
    "    def greet():\n",
    "        return \"now you are in the greet() function\"\n",
    "\n",
    "    def welcome():\n",
    "        return \"now you are in the welcome() function\"\n",
    "\n",
    "    if name == \"yasoob\":\n",
    "        return greet\n",
    "    else:\n",
    "        return welcome\n",
    "# 在if/else语句中我们返回greet和welcome，而不是greet()和welcome()\n",
    "\n",
    "a = hi() \n",
    "b = hi(name='wm')\n",
    "# 当你把一对小括号放在后面，这个函数就会执行；然而如果你不放括号在它后面，那它可以被到处传递，并且可以赋值给别的变量而不去执行它\n",
    "a\n",
    "a()\n",
    "b()\n",
    "c = hi()()\n",
    "c"
   ]
  },
  {
   "cell_type": "markdown",
   "metadata": {},
   "source": [
    "当我们写下a = hi()，hi()会被执行，而由于name参数默认是yasoob，所以函数greet被返回了。如果我们把语句改为a = hi(name = \"ali\")，那么welcome函数将被返回。我们还可以打印出hi()()，这会输出now you are in the greet() function。"
   ]
  },
  {
   "cell_type": "code",
   "execution_count": null,
   "metadata": {},
   "outputs": [],
   "source": [
    "def get_text(name):\n",
    "   return \"lorem ipsum, {0} dolor sit amet\".format(name)\n",
    "get_text(\"Santa Clause\")\n",
    "# str.format() method of the string class allows you to do variable substitutions and value formatting.\n",
    "\n",
    "def p_decorate(func):\n",
    "   def func_wrapper(name):\n",
    "       return \"<p>{0}</p>\".format(func(name)) \n",
    "   return func_wrapper\n",
    "\n",
    "my_get_text = p_decorate(get_text)\n",
    "my_get_text(\"Santa Clause\")\n",
    "# What's the difference between above and below? a a()\n",
    "p_decorate(get_text)(\"Santa Clause\")"
   ]
  },
  {
   "cell_type": "markdown",
   "metadata": {},
   "source": [
    "<span style=\"font-family: New York Times; font-size:1em; color:green;\">\n",
    "That was our first decorator. A function that takes another function as an argument, generates a new function, augmenting the work of the original function, and returning the generated function so we can use it anywhere. To have get_text itself be decorated by p_decorate, we just have to assign get_text to the result of p_decorate.\n",
    "<span>"
   ]
  },
  {
   "cell_type": "markdown",
   "metadata": {},
   "source": [
    "Use decorator, the above situation can be implemented into a natural way."
   ]
  },
  {
   "cell_type": "code",
   "execution_count": null,
   "metadata": {},
   "outputs": [],
   "source": [
    "def p_decorate(func):\n",
    "   def func_wrapper(name):\n",
    "       return \"<p>{0}</p>\".format(func(name))\n",
    "   return func_wrapper\n",
    "\n",
    "@p_decorate\n",
    "def get_text(name):\n",
    "   return \"lorem ipsum, {0} dolor sit amet\".format(name)\n",
    "\n",
    "print(get_text(\"John\"))"
   ]
  },
  {
   "cell_type": "markdown",
   "metadata": {},
   "source": [
    "Remember that \n",
    "```py\n",
    "@deco\n",
    "def func():\n",
    "    # whatever\n",
    "```\n",
    "is the same as \n",
    "```py\n",
    "def func():\n",
    "    # whatever\n",
    "func = deco(func)\n",
    "```\n",
    "The decorators are called when the decorated function is defined not when it is called. At call time, what is called is the return value of the decorator "
   ]
  },
  {
   "cell_type": "code",
   "execution_count": null,
   "metadata": {},
   "outputs": [],
   "source": [
    "def p_decorate(func):\n",
    "   def func_wrapper(name):\n",
    "       return \"<p>{0}</p>\".format(func(name))\n",
    "   return func_wrapper\n",
    "\n",
    "\n",
    "def get_text(name):\n",
    "   return \"lorem ipsum, {0} dolor sit amet\".format(name)\n",
    "\n",
    "get_text = p_decorate(get_text)\n",
    "get_text(\"John\")"
   ]
  },
  {
   "cell_type": "code",
   "execution_count": null,
   "metadata": {},
   "outputs": [],
   "source": [
    "def verbose(function):\n",
    "    print('i am verbose and func is ' + function.__name__)\n",
    "    def wrapper2(func):\n",
    "        print('func is ' + repr(func))\n",
    "        result = function(func)\n",
    "        return result\n",
    "    return wrapper2\n",
    "\n",
    "def more(function):\n",
    "    print('i am more and func is ' + function.__name__)\n",
    "    def wrapper1(*args, **kwargs):\n",
    "        print('args' + repr(args))\n",
    "        result = function(*args)\n",
    "        return result\n",
    "    return wrapper1\n",
    "more = verbose(more)\n",
    "\n",
    "def hello(*args):\n",
    "    print((sum(args)))\n",
    "hello = more(hello)"
   ]
  },
  {
   "cell_type": "code",
   "execution_count": null,
   "metadata": {},
   "outputs": [],
   "source": [
    "def verbose(function):\n",
    "    print('i am verbose and func is ' + function.__name__)\n",
    "    def wrapper2(func):\n",
    "        print('func is ' + repr(func))\n",
    "        result = function(func)\n",
    "        return result\n",
    "    return wrapper2\n",
    "@verbose\n",
    "def more(function):\n",
    "    print('i am more and func is ' + function.__name__)\n",
    "    def wrapper1(*args, **kwargs):\n",
    "        print('args' + repr(args))\n",
    "        result = function(*args)\n",
    "        return result\n",
    "    return wrapper1\n",
    "\n",
    "@more\n",
    "def hello(*args):\n",
    "    print((sum(args)))\n"
   ]
  },
  {
   "cell_type": "markdown",
   "metadata": {},
   "source": [
    "# Decorators"
   ]
  },
  {
   "cell_type": "markdown",
   "metadata": {},
   "source": [
    "<span style=\"font-family:New York Times; font-size:1.5em; color:green;\"> \n",
    "装饰器做的事情:它们封装一个函数，并且用这样或者那样的方式来修改它的行为。   \n",
    "\n",
    "[Decorators](https://www.thecodeship.com/patterns/guide-to-python-function-decorators/)\n"
   ]
  },
  {
   "cell_type": "code",
   "execution_count": null,
   "metadata": {},
   "outputs": [],
   "source": [
    "def a_new_decorator(a_func):\n",
    "\n",
    "    def wrapTheFunction():\n",
    "        print(\"I am doing some boring work before executing a_func()\")\n",
    "        a_func()\n",
    "        print(\"I am doing some boring work after executing a_func()\")\n",
    "        \n",
    "    return wrapTheFunction\n",
    "\n",
    "@a_new_decorator  # a_function_requiring_decoration become an argument for a_new_decoraror\n",
    "def a_function_requiring_decoration():\n",
    "    \"\"\"Hey you! Decorate me!\"\"\"\n",
    "    print(\"I am the function which needs some decoration to \"\n",
    "          \"remove my foul smell\")\n",
    "\n",
    "a_function_requiring_decoration()\n",
    "\n",
    "# the @a_new_decorator is just a short way of saying:\n",
    "# a_function_requiring_decoration = a_new_decorator(a_function_requiring_decoration)"
   ]
  },
  {
   "cell_type": "code",
   "execution_count": null,
   "metadata": {},
   "outputs": [],
   "source": [
    "def a_new_decorator(a_func):\n",
    "\n",
    "    def wrapTheFunction():\n",
    "        print(\"I am doing some boring work before executing a_func()\")\n",
    "        a_func()\n",
    "        print(\"I am doing some boring work after executing a_func()\")\n",
    "        \n",
    "    return wrapTheFunction\n",
    "\n",
    "  # a_function_requiring_decoration become an argument for a_new_decoraror\n",
    "def a_function_requiring_decoration():\n",
    "    \"\"\"Hey you! Decorate me!\"\"\"\n",
    "    print(\"I am the function which needs some decoration to \"\n",
    "          \"remove my foul smell\")\n",
    "\n",
    "a_function_requiring_decoration = a_new_decorator(a_function_requiring_decoration)\n",
    "\n",
    "a_function_requiring_decoration()"
   ]
  },
  {
   "cell_type": "code",
   "execution_count": null,
   "metadata": {},
   "outputs": [],
   "source": [
    "print(a_function_requiring_decoration.__name__)"
   ]
  },
  {
   "cell_type": "code",
   "execution_count": null,
   "metadata": {},
   "outputs": [],
   "source": [
    "from functools import wraps\n",
    "def decorator_name(f):\n",
    "    @wraps(f)\n",
    "    def decorated(*args, **kwargs):\n",
    "        if not can_run:\n",
    "            return \"Function will not run\"\n",
    "        return f(*args, **kwargs)\n",
    "    return decorated\n",
    "\n",
    "@decorator_name\n",
    "def func():\n",
    "    return(\"Function is running\")\n",
    "\n",
    "can_run = True\n",
    "print(func())\n",
    "\n",
    "can_run = False\n",
    "print(func())\n",
    "# @wraps接受一个函数来进行装饰，并加入了复制函数名称、注释文档、参数列表等等的功能。这可以让我们在装饰器里面访问在装饰之前的函数的属性"
   ]
  },
  {
   "cell_type": "code",
   "execution_count": null,
   "metadata": {},
   "outputs": [],
   "source": [
    "from functools import wraps\n",
    "\n",
    "def requires_auth(f):\n",
    "    @wraps(f)\n",
    "    def decorated(*args, **kwargs):\n",
    "        auth = request.authorization\n",
    "        if not auth or not check_auth(auth.username, auth.password):\n",
    "            authenticate()\n",
    "        return f(*args, **kwargs)\n",
    "    return decorated"
   ]
  },
  {
   "cell_type": "code",
   "execution_count": null,
   "metadata": {},
   "outputs": [],
   "source": [
    "def logit(func):\n",
    "    @wraps(func)\n",
    "    def with_logging(*args, **kwargs):\n",
    "        print(func.__name__ + \" was called\")\n",
    "        return func(*args, **kwargs)\n",
    "    return with_logging\n",
    "\n",
    "@logit\n",
    "def addition_func(x):\n",
    "   \"\"\"Do some math.\"\"\"\n",
    "   return x + x\n",
    "\n",
    "\n",
    "result = addition_func(4)"
   ]
  },
  {
   "cell_type": "markdown",
   "metadata": {},
   "source": [
    "# Lambda function"
   ]
  },
  {
   "cell_type": "markdown",
   "metadata": {},
   "source": [
    "<span style=\"font-family:New York Times; font-size:1.5em; color:green;\"> \n",
    "Lambda function\n",
    " \n",
    "尽管Python算不上是一种纯函数式编程语言，但它提供了很多函数式编程的特性，像map, sorted, filter, reduce这些函数都支持函数作为参数。lambda函数可以应用在函数式编程里边。\n",
    "\n",
    "如果你仔细观察自己的代码，会发现这种场景其实很常见：你在某处就真的只需要一个能做一件事情的函数而已，连它叫什么名字都无关紧要。Lambda 表达式就可以用来做这件事。"
   ]
  },
  {
   "cell_type": "code",
   "execution_count": null,
   "metadata": {},
   "outputs": [],
   "source": [
    "sum = lambda x,y : x+y\n",
    "sum(1,2)\n",
    "type(sum)\n",
    "type(lambda x,y : x+y) \n",
    "def test():\n",
    "    print(1)\n",
    "type(test)"
   ]
  },
  {
   "cell_type": "code",
   "execution_count": null,
   "metadata": {},
   "outputs": [],
   "source": [
    "l = ['foo', 'bar', 'far']\n",
    "map(lambda x: x.upper(), l)\n",
    "list(map(lambda x: x.upper(), l))\n",
    "a = filter(lambda x: 'f' in x, l)\n",
    "list(a)"
   ]
  },
  {
   "cell_type": "code",
   "execution_count": null,
   "metadata": {},
   "outputs": [],
   "source": [
    "from functools import reduce \n",
    "l = [1, 3, -2, 4]\n",
    "list(map(lambda x : abs(x), l))\n",
    "list(filter(lambda x : x < 0, l))"
   ]
  },
  {
   "cell_type": "code",
   "execution_count": null,
   "metadata": {},
   "outputs": [],
   "source": [
    "C = [39.2, 36.5, 37.3, 38, 37.8] \n",
    "F = list(map(lambda x: (float(9)/5)*x + 32, C))\n",
    "C = list(map(lambda x: (float(5)/9)*(x-32), F))\n",
    "F\n",
    "C"
   ]
  },
  {
   "cell_type": "markdown",
   "metadata": {},
   "source": [
    "class Spam(object):\n",
    "    def __init__(self, value):\n",
    "        self.value = value\n",
    "    \n",
    "    def __repr__(self):\n",
    "        return '<%s, %s>' % (self.__class__.__name__, self.value)\n",
    "spams = [Spam(5), Spam(2), Spam(4), Spam(1)]\n",
    "spams\n",
    "sorted_spams = sorted(spams, key = lambda spam : spam.value)\n",
    "sorted_spams"
   ]
  },
  {
   "cell_type": "markdown",
   "metadata": {},
   "source": [
    "# Time complexity and Big O notation"
   ]
  },
  {
   "cell_type": "markdown",
   "metadata": {},
   "source": [
    "<span style=\"font-family:New York Times; font-size:1.5em; color:green;\"> \n",
    "Time complexity and Big O notion\n"
   ]
  },
  {
   "cell_type": "code",
   "execution_count": null,
   "metadata": {},
   "outputs": [],
   "source": [
    "n = 1000\n",
    "a = list(range(n))\n",
    "b = dict.fromkeys(range(n))"
   ]
  },
  {
   "cell_type": "code",
   "execution_count": null,
   "metadata": {},
   "outputs": [],
   "source": [
    "for i in range(100):\n",
    "    i is a\n",
    "    i is b"
   ]
  },
  {
   "cell_type": "code",
   "execution_count": null,
   "metadata": {},
   "outputs": [],
   "source": [
    "def o_one(itimes):\n",
    "    return 1\n",
    "def o_n(items):\n",
    "    # walk through all items once. Caculate all the items added up \n",
    "    total = 0\n",
    "    for item in items:\n",
    "        total += item\n",
    "    return total\n",
    "def o_n_squared(items):\n",
    "    total = 0\n",
    "    for a in items:\n",
    "        for b in items:\n",
    "            total += a*b\n",
    "    return total"
   ]
  }
 ],
 "metadata": {
  "hide_input": false,
  "kernelspec": {
   "display_name": "Python 3",
   "language": "python",
   "name": "python3"
  },
  "language_info": {
   "codemirror_mode": {
    "name": "ipython",
    "version": 3
   },
   "file_extension": ".py",
   "mimetype": "text/x-python",
   "name": "python",
   "nbconvert_exporter": "python",
   "pygments_lexer": "ipython3",
   "version": "3.7.2"
  },
  "latex_envs": {
   "LaTeX_envs_menu_present": true,
   "autocomplete": true,
   "bibliofile": "biblio.bib",
   "cite_by": "apalike",
   "current_citInitial": 1,
   "eqLabelWithNumbers": true,
   "eqNumInitial": 1,
   "hotkeys": {
    "equation": "Ctrl-E",
    "itemize": "Ctrl-I"
   },
   "labels_anchors": false,
   "latex_user_defs": false,
   "report_style_numbering": false,
   "user_envs_cfg": false
  },
  "toc": {
   "base_numbering": 1,
   "nav_menu": {},
   "number_sections": true,
   "sideBar": true,
   "skip_h1_title": false,
   "title_cell": "Table of Contents",
   "title_sidebar": "Contents",
   "toc_cell": false,
   "toc_position": {
    "height": "calc(100% - 180px)",
    "left": "10px",
    "top": "150px",
    "width": "288px"
   },
   "toc_section_display": true,
   "toc_window_display": true
  },
  "varInspector": {
   "cols": {
    "lenName": 16,
    "lenType": 16,
    "lenVar": 40
   },
   "kernels_config": {
    "python": {
     "delete_cmd_postfix": "",
     "delete_cmd_prefix": "del ",
     "library": "var_list.py",
     "varRefreshCmd": "print(var_dic_list())"
    },
    "r": {
     "delete_cmd_postfix": ") ",
     "delete_cmd_prefix": "rm(",
     "library": "var_list.r",
     "varRefreshCmd": "cat(var_dic_list()) "
    }
   },
   "types_to_exclude": [
    "module",
    "function",
    "builtin_function_or_method",
    "instance",
    "_Feature"
   ],
   "window_display": false
  }
 },
 "nbformat": 4,
 "nbformat_minor": 2
}
