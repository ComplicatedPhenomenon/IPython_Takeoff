{
 "cells": [
  {
   "cell_type": "code",
   "execution_count": null,
   "metadata": {},
   "outputs": [],
   "source": [
    "from IPython.core.interactiveshell import InteractiveShell\n",
    "InteractiveShell.ast_node_interactivity = \"all\""
   ]
  },
  {
   "cell_type": "markdown",
   "metadata": {},
   "source": [
    "# Random Basic Python Knowledge "
   ]
  },
  {
   "cell_type": "markdown",
   "metadata": {},
   "source": [
    "## Variables, object"
   ]
  },
  {
   "cell_type": "markdown",
   "metadata": {},
   "source": [
    "Variables are labels attached to objects; they are not the object itself. \n",
    "* `==` is for value equality. Use it when you would like to know if two objects have the same value.\n",
    "* `is` is for reference equality. Use it when you would like to know if two references refer to the same object.\n"
   ]
  },
  {
   "cell_type": "code",
   "execution_count": null,
   "metadata": {},
   "outputs": [],
   "source": [
    "a = 2 \n",
    "b = a\n",
    "b == a \n",
    "b is a\n",
    "\n",
    "a = [1, 2, 3]\n",
    "b = a\n",
    "b == a \n",
    "b is a \n",
    "b = a[::] # Make a new copy of list `a` via the slice operator, and assign it to variable `b`\n",
    "b == a\n",
    "b is a"
   ]
  },
  {
   "cell_type": "code",
   "execution_count": null,
   "metadata": {},
   "outputs": [],
   "source": [
    "i = 10000\n",
    "j = 10000 \n",
    "i is j \n",
    "id(i) is id(j)"
   ]
  },
  {
   "cell_type": "markdown",
   "metadata": {},
   "source": [
    "### A bug?"
   ]
  },
  {
   "cell_type": "code",
   "execution_count": null,
   "metadata": {},
   "outputs": [],
   "source": [
    "a = 256\n",
    "b = 256\n",
    "hex(id(a))\n",
    "hex(id(b))\n",
    "a is b\n",
    "\n",
    "a = -5\n",
    "b = -5\n",
    "hex(id(a))\n",
    "hex(id(b))\n",
    "a is b\n",
    "\n",
    "a = 1000\n",
    "b = 1000\n",
    "hex(id(a))\n",
    "hex(id(b))\n",
    "a is b\n",
    "\n",
    "a = 'hk'\n",
    "b = 'hk'\n",
    "hex(id(a))\n",
    "hex(id(b))\n",
    "a is b\n",
    "\n",
    "a = 'How about a long string?'\n",
    "b = 'How about a long string?'\n",
    "hex(id(a))\n",
    "hex(id(b))\n",
    "a is b"
   ]
  },
  {
   "cell_type": "markdown",
   "metadata": {},
   "source": [
    "[There already is explanation to this](https://stackoverflow.com/a/1085656/7583919)"
   ]
  },
  {
   "cell_type": "code",
   "execution_count": null,
   "metadata": {},
   "outputs": [],
   "source": [
    "a = 1\n",
    "b = a\n",
    "hex(id(b)) == hex(id(a))\n",
    "hex(id(b))\n",
    "b = 2\n",
    "hex(id(b))\n",
    "a\n",
    "hex(id(a))\n",
    "\n",
    "old_list = [[1, 2, 3], [4, 5, 6], [7, 8, 'a']]\n",
    "new_list = old_list\n",
    "new_list[2][2] = 9\n",
    "print('Old List:', old_list)\n",
    "print('ID of Old List:', hex(id(old_list)))\n",
    "\n",
    "print('New List:', new_list)\n",
    "print('ID of New List:', hex(id(new_list)))"
   ]
  },
  {
   "cell_type": "markdown",
   "metadata": {},
   "source": [
    "<span style=\"font-family: New York Times; font-size:1em; color:green;\">\n",
    "Essentially, sometimes you may want to have the original values unchanged and only modify the new values or vice versa. \n",
    "</span>"
   ]
  },
  {
   "cell_type": "code",
   "execution_count": null,
   "metadata": {},
   "outputs": [],
   "source": [
    "import copy"
   ]
  },
  {
   "cell_type": "code",
   "execution_count": null,
   "metadata": {},
   "outputs": [],
   "source": [
    "old_list = [[1, 2, 3], [4, 5, 6], [7, 8, 9]]\n",
    "new_list = copy.copy(old_list)\n",
    "\n",
    "print(\"Old list:\", old_list)\n",
    "print(\"New list:\", new_list)\n",
    "\n",
    "new_list = copy.copy(old_list)\n",
    "\n",
    "old_list.append([4, 4, 4])\n",
    "\n",
    "print(\"Old list:\", old_list)\n",
    "print(\"New list:\", new_list)\n",
    "\n",
    "old_list = [[1, 1, 1], [2, 2, 2], [3, 3, 3]]\n",
    "new_list = copy.copy(old_list)\n",
    "\n",
    "old_list[1][1] = 'AA'\n",
    "\n",
    "print(\"Old list:\", old_list)\n",
    "print(\"New list:\", new_list)\n",
    "\n",
    "old_list = [[1, 1, 1], [2, 2, 2], [3, 3, 3]]\n",
    "new_list = copy.deepcopy(old_list)\n",
    "\n",
    "old_list[1][0] = 'BB'\n",
    "\n",
    "print(\"Old list:\", old_list)\n",
    "print(\"New list:\", new_list)"
   ]
  },
  {
   "cell_type": "markdown",
   "metadata": {},
   "source": [
    "## List"
   ]
  },
  {
   "cell_type": "markdown",
   "metadata": {},
   "source": [
    "<span style=\"font-family: New York Times; font-size:1em; color:green;\">\n",
    "A Python list is an array of pointers to Python objects, at least 4 bytes per pointer plus 16 bytes for even the smallest Python object (4 for type pointer, 4 for reference count, 4 for value -- and the memory allocators rounds up to 16). A NumPy array is an array of uniform values -- single-precision numbers takes 4 bytes each, double-precision ones, 8 bytes. Less flexible, but you pay substantially for the flexibility of standard Python lists!\n",
    "\n"
   ]
  },
  {
   "cell_type": "code",
   "execution_count": null,
   "metadata": {},
   "outputs": [],
   "source": [
    "x = [1, 2, 3, 4, 5, 6, 7, 9, 8]\n",
    "x.count(2)\n",
    "x.pop()\n",
    "x \n",
    "x.sort()\n",
    "x\n",
    "x.reverse()\n",
    "x\n",
    "x.clear()\n",
    "x"
   ]
  },
  {
   "cell_type": "markdown",
   "metadata": {},
   "source": [
    "### `list.append()`"
   ]
  },
  {
   "cell_type": "markdown",
   "metadata": {},
   "source": [
    "Appends object at the end."
   ]
  },
  {
   "cell_type": "code",
   "execution_count": null,
   "metadata": {},
   "outputs": [],
   "source": [
    "a = []\n",
    "5 * [[]]\n",
    "for i in range(0, 5):\n",
    "    a.append([])\n",
    "a "
   ]
  },
  {
   "cell_type": "code",
   "execution_count": null,
   "metadata": {},
   "outputs": [],
   "source": [
    "for j in range(0, 5):\n",
    "    for i in range(0, 5):\n",
    "        a[i].append(i)\n",
    "    j += 1\n",
    "a"
   ]
  },
  {
   "cell_type": "code",
   "execution_count": null,
   "metadata": {},
   "outputs": [],
   "source": [
    "def delete(listTypeObject):\n",
    "    resultList = []\n",
    "    for item in listTypeObject:\n",
    "        if not item in resultList:\n",
    "            resultList.append(item)\n",
    "    return resultList\n",
    "\n",
    "genericList = ['x','x','wm',{'ok':3}]\n",
    "genericList\n",
    "delete(genericList)"
   ]
  },
  {
   "cell_type": "code",
   "execution_count": null,
   "metadata": {},
   "outputs": [],
   "source": [
    "a = [1,2,4]\n",
    "x = []\n",
    "for i in a:\n",
    "    if not i in x:\n",
    "        x.append(i)\n",
    "x"
   ]
  },
  {
   "cell_type": "code",
   "execution_count": null,
   "metadata": {},
   "outputs": [],
   "source": [
    "x = []\n",
    "y = x\n",
    "y.append('wm')\n",
    "x,y\n",
    "x is y"
   ]
  },
  {
   "cell_type": "markdown",
   "metadata": {},
   "source": [
    "<span style=\"font-family:Decorative; font-size:1em; color:green;\">  Both the list1 and list2 variables point to the same slot in memory\n",
    "</span>"
   ]
  },
  {
   "cell_type": "code",
   "execution_count": null,
   "metadata": {},
   "outputs": [],
   "source": [
    "listdemo = [[]]*5\n",
    "hex(id(listdemo))\n",
    "hex(id(listdemo[0]))\n",
    "hex(id(listdemo[1]))\n",
    "listdemo[0].append(1)\n",
    "listdemo\n",
    "hex(id(listdemo[0]))\n",
    "hex(id(listdemo[1]))\n",
    "listdemo[2].append(2)\n",
    "listdemo\n",
    "hex(id(listdemo[0]))\n",
    "hex(id(listdemo[1]))\n",
    "hex(id(listdemo[0][0]))\n",
    "hex(id(listdemo[0][1]))"
   ]
  },
  {
   "cell_type": "markdown",
   "metadata": {},
   "source": [
    "### `list.extend()`"
   ]
  },
  {
   "cell_type": "markdown",
   "metadata": {},
   "source": [
    "Extends list by appending elements from the iterable."
   ]
  },
  {
   "cell_type": "markdown",
   "metadata": {},
   "source": [
    "### List as a mutable type"
   ]
  },
  {
   "cell_type": "code",
   "execution_count": null,
   "metadata": {},
   "outputs": [],
   "source": [
    "def try_to_change_list_contents(the_list):\n",
    "    print('got', the_list)\n",
    "    the_list.append('four')\n",
    "    print('changed to', the_list)\n",
    "\n",
    "outer_list = ['one', 'two', 'three']\n",
    "\n",
    "print('before, outer_list =', outer_list)\n",
    "try_to_change_list_contents(outer_list)\n",
    "print('after, outer_list =', outer_list)"
   ]
  },
  {
   "cell_type": "markdown",
   "metadata": {},
   "source": [
    "> Since the parameter passed in is a reference to outer_list, not a copy of it, we can use the mutating list methods to change it and have the changes reflected in the outer scope."
   ]
  },
  {
   "cell_type": "code",
   "execution_count": null,
   "metadata": {},
   "outputs": [],
   "source": [
    "def try_to_change_list_reference(the_list):\n",
    "    print('got', the_list)\n",
    "    the_list = ['and', 'we', 'can', 'not', 'lie']\n",
    "    print('set to', the_list)\n",
    "\n",
    "outer_list = ['we', 'like', 'proper', 'English']\n",
    "\n",
    "print('before, outer_list =', outer_list)\n",
    "try_to_change_list_reference(outer_list)\n",
    "print('after, outer_list =', outer_list)"
   ]
  },
  {
   "cell_type": "markdown",
   "metadata": {},
   "source": [
    "> Since the the_list parameter was passed by value, assigning a new list to it had no effect that the code outside the method could see. The the_list was a copy of the outer_list reference, and we had the_list point to a new list, but there was no way to change where outer_list pointed."
   ]
  },
  {
   "cell_type": "markdown",
   "metadata": {},
   "source": [
    "> Python always uses pass-by-reference values. There isn't any exception. Any variable assignment means copying the reference value. No exception. Any variable is the name bound to the reference value. Always."
   ]
  },
  {
   "cell_type": "code",
   "execution_count": null,
   "metadata": {},
   "outputs": [],
   "source": [
    "a = [1, 2, 3, 1]\n",
    "a.remove(a[1])\n",
    "a \n",
    "a[1]\n",
    "a[:2]\n",
    "#a.remove(a[:2])\n",
    "a.append([1,3])\n",
    "a \n",
    "a.remove(a[:2])\n",
    "a \n",
    "a.append(3)\n",
    "a \n",
    "a.index(3)"
   ]
  },
  {
   "cell_type": "markdown",
   "metadata": {},
   "source": [
    "### zip"
   ]
  },
  {
   "cell_type": "code",
   "execution_count": null,
   "metadata": {},
   "outputs": [],
   "source": [
    "a = ['1', '2', '3']\n",
    "b = ['ok', 'cz', 'hoho']\n",
    "zipresult  = zip(a,b )\n",
    "for a, b in zipresult:\n",
    "    print(a, b)"
   ]
  },
  {
   "cell_type": "code",
   "execution_count": null,
   "metadata": {},
   "outputs": [],
   "source": [
    "for i in zip([1,2,3],['a','b','c']):\n",
    "        print(i)"
   ]
  },
  {
   "cell_type": "markdown",
   "metadata": {},
   "source": [
    "<span style=\"font-family:New York Times; font-size:1em; color:green;\"> \n",
    "zip takes iterable elements as input and returns an iterator on them (an iterator of tuples). It evaluates the iterables left to right."
   ]
  },
  {
   "cell_type": "markdown",
   "metadata": {},
   "source": [
    "### `\" \".join(list)`"
   ]
  },
  {
   "cell_type": "code",
   "execution_count": null,
   "metadata": {},
   "outputs": [],
   "source": [
    "balloon = [\"Sammy has a balloon\", \"What kind of ballow\"]\n",
    "\", \".join(balloon)\n",
    "print(''.join([chr(x) for x in [97,108,100,101,114,118,101,110,64,103,109,97,105,108,46,99,111,109]]))"
   ]
  },
  {
   "cell_type": "markdown",
   "metadata": {},
   "source": [
    "## String"
   ]
  },
  {
   "cell_type": "code",
   "execution_count": null,
   "metadata": {},
   "outputs": [],
   "source": [
    "x = 'A525'\n",
    "x.index('5')"
   ]
  },
  {
   "cell_type": "code",
   "execution_count": null,
   "metadata": {},
   "outputs": [],
   "source": [
    "A = ['A5','A4','A3','A2','A1']\n",
    "'A5' in A \n",
    "int('A5'[1])"
   ]
  },
  {
   "cell_type": "markdown",
   "metadata": {},
   "source": [
    "### `\" \".join(string)`"
   ]
  },
  {
   "cell_type": "markdown",
   "metadata": {},
   "source": [
    "join takes an iterable thing as an argument. Usually it's a list. "
   ]
  },
  {
   "cell_type": "code",
   "execution_count": null,
   "metadata": {},
   "outputs": [],
   "source": [
    "x = 'pbaynatnahproarnsm'\n",
    "' '.join(x[::3])"
   ]
  },
  {
   "cell_type": "code",
   "execution_count": null,
   "metadata": {},
   "outputs": [],
   "source": [
    "\"wlfgALGbXOahekxSs\".join([\"5\", \"9\", \"5\"])\n",
    "''.join([\"5\", \"9\", \"5\"])"
   ]
  },
  {
   "cell_type": "markdown",
   "metadata": {},
   "source": [
    "### `string.split`"
   ]
  },
  {
   "cell_type": "markdown",
   "metadata": {},
   "source": [
    "Change string into list?"
   ]
  },
  {
   "cell_type": "code",
   "execution_count": null,
   "metadata": {},
   "outputs": [],
   "source": [
    "txt = \"Q: What are you doing? \\n A: I don't know\""
   ]
  },
  {
   "cell_type": "code",
   "execution_count": null,
   "metadata": {},
   "outputs": [],
   "source": [
    "txt.split('Q')\n",
    "type(txt.split('Q'))"
   ]
  },
  {
   "cell_type": "code",
   "execution_count": null,
   "metadata": {},
   "outputs": [],
   "source": [
    "split_txt = txt.split('Q')\n",
    "type(split_txt)\n",
    "split_txt\n",
    "len(split_txt)\n",
    "split_txt[0]\n",
    "split_txt[1]\n",
    "split_txt = txt.split(':')\n",
    "split_txt\n",
    "split_txt[0] + split_txt[1] + split_txt[2]"
   ]
  },
  {
   "cell_type": "markdown",
   "metadata": {},
   "source": [
    "### `string.replace`"
   ]
  },
  {
   "cell_type": "code",
   "execution_count": null,
   "metadata": {},
   "outputs": [],
   "source": [
    "strings = [\"..1\", \"..2\" , \"..6\", \"..6\",\"..16\",\"..26\"]\n",
    "nstr =[int(s.replace('.','')) for s in strings]\n",
    "tosearch = 6\n",
    "for mystr in nstr:\n",
    "    if tosearch == mystr: \n",
    "        print(\"FIND!\")\n",
    "        break "
   ]
  },
  {
   "cell_type": "code",
   "execution_count": null,
   "metadata": {},
   "outputs": [],
   "source": [
    "import re\n",
    "strings = [\"..1\", \"..2\" , \"..6\", \"..6\", \"..16\",\"..26\"]\n",
    "pattern=re.compile(r\"\\d+\")\n",
    "stringnumbers = [int(pattern.findall(i)[0]) for i in strings]\n",
    "tosearch = 6\n",
    "if tosearch in stringnumbers:\n",
    "    print(\"FIND!\")"
   ]
  },
  {
   "cell_type": "code",
   "execution_count": null,
   "metadata": {},
   "outputs": [],
   "source": [
    "onehot_encoded = list()\n",
    "\n",
    "for value in [1,2,5]:\n",
    "    base = [0 for x in range(8)] \n",
    "    \n",
    "    base[value] = 1\n",
    "    onehot_encoded.extend(base)\n",
    "    print(onehot_encoded)"
   ]
  },
  {
   "cell_type": "markdown",
   "metadata": {},
   "source": [
    "###  `string.strip`"
   ]
  },
  {
   "cell_type": "markdown",
   "metadata": {},
   "source": [
    "This will be used in [Timetable.ipynb](Timetable.ipynb)"
   ]
  },
  {
   "cell_type": "markdown",
   "metadata": {},
   "source": [
    "## Tuple"
   ]
  },
  {
   "cell_type": "code",
   "execution_count": null,
   "metadata": {},
   "outputs": [],
   "source": [
    "s = set([1,2,3,2,3,4])\n",
    "s\n",
    "nullset=set()\n",
    "type(s)\n",
    "t = tuple([1,2,3])\n",
    "t\n",
    "t = tuple((1,2,3))\n",
    "t\n",
    "t = tuple({1,2,3})\n",
    "t"
   ]
  },
  {
   "cell_type": "markdown",
   "metadata": {},
   "source": [
    "## Set"
   ]
  },
  {
   "cell_type": "code",
   "execution_count": null,
   "metadata": {},
   "outputs": [],
   "source": [
    "x = set('acbec')\n",
    "x.add('f')\n",
    "x \n",
    "x.remove('b')\n",
    "x \n",
    "type(set('acbec'))\n",
    "set('123')\n",
    "set({'1':2, '2':3})\n",
    "states={\n",
    "    'Oregon':'OR',\n",
    "    'Florida':'FL',\n",
    "    'California':'CA',\n",
    "    'New York':'NY',\n",
    "    'Michigan':'MI'\n",
    "}\n",
    "set(states)\n",
    "x = {'a':1, 'b': 2}\n",
    "y = {'b':10, 'c': 11}\n",
    "z = {**x, **y}\n",
    "'c' in z \n",
    "\n"
   ]
  },
  {
   "cell_type": "code",
   "execution_count": null,
   "metadata": {},
   "outputs": [],
   "source": [
    "set('abc')\n",
    "set(['afc', 'aeb'])\n",
    "for a in set(['abc', 'de']):\n",
    "    print(a)"
   ]
  },
  {
   "cell_type": "markdown",
   "metadata": {},
   "source": [
    "Have you noticed that the result returned by `set` can be used as dictionary key"
   ]
  },
  {
   "cell_type": "markdown",
   "metadata": {},
   "source": [
    "## Dictionary\n"
   ]
  },
  {
   "cell_type": "code",
   "execution_count": null,
   "metadata": {},
   "outputs": [],
   "source": [
    "# create a mapping of states to abbreviation\n",
    "states={\n",
    "    'Oregon':'OR',\n",
    "    'Florida':'FL',\n",
    "    'California':'CA',\n",
    "    'New York':'NY',\n",
    "    'Michigan':'MI'\n",
    "}\n",
    "\n",
    "# creat a basic set of states and some cities in them\n",
    "cities={\n",
    "    'CA':'San Francisco',\n",
    "    'MI':'Detroit',\n",
    "    'FL':'Jacksonville'\n",
    "}\n",
    "\n",
    "cities[states['Florida']]\n",
    "states['Oregon']\n",
    "states.get('Oregon')\n",
    "states.update({'North Carolina': 'NC'}) \n",
    "states\n",
    "hex(id(states))\n",
    "sorted(list(states.keys()))\n",
    "sorted(list(states.values()))\n",
    "sorted(list(states.items()))"
   ]
  },
  {
   "cell_type": "code",
   "execution_count": null,
   "metadata": {},
   "outputs": [],
   "source": [
    "defaults = {'theme': 'Defaults', 'language':'eng', 'showIndex': True, 'showFooter':True}\n",
    "from collections import ChainMap\n",
    "cm = ChainMap(defaults)"
   ]
  },
  {
   "cell_type": "code",
   "execution_count": null,
   "metadata": {},
   "outputs": [],
   "source": [
    "cm = cm.new_child({'theme':'bluesky'})\n",
    "cm"
   ]
  },
  {
   "cell_type": "code",
   "execution_count": null,
   "metadata": {},
   "outputs": [],
   "source": [
    "cm.pop('theme')\n",
    "cm['theme']"
   ]
  },
  {
   "cell_type": "code",
   "execution_count": null,
   "metadata": {},
   "outputs": [],
   "source": [
    "def wordcount(fname):\n",
    "    try:\n",
    "        fhand=open(fname)\n",
    "    except:\n",
    "        print('File cannot be opened')\n",
    "        exit()\n",
    "    count = dict()\n",
    "    for line in fhand:\n",
    "        words = line.split()\n",
    "        for word in words:\n",
    "            if word not in count:\n",
    "                count[word] = 1\n",
    "            else:\n",
    "                count[word] += 1\n",
    "        return(count)"
   ]
  },
  {
   "cell_type": "code",
   "execution_count": null,
   "metadata": {},
   "outputs": [],
   "source": [
    "wordcount('../psychology.txt')"
   ]
  },
  {
   "cell_type": "code",
   "execution_count": null,
   "metadata": {},
   "outputs": [],
   "source": [
    "psychlogy = \"Human beings are highly social creatures. Because of this we are intensely interested in what others are doing, and why. We need to know who is good and bad and therefore who we want to avoid and who we can tolerate.\""
   ]
  },
  {
   "cell_type": "code",
   "execution_count": null,
   "metadata": {},
   "outputs": [],
   "source": [
    "count = dict()\n",
    "elements = psychlogy.split();\n",
    "for element in elements:\n",
    "    if element in psychlogy:\n",
    "        count[element] = 1\n",
    "    else: \n",
    "        cound[element] +=1\n",
    "count"
   ]
  },
  {
   "cell_type": "markdown",
   "metadata": {},
   "source": [
    "###  defaultdict"
   ]
  },
  {
   "cell_type": "code",
   "execution_count": null,
   "metadata": {},
   "outputs": [],
   "source": [
    "from collections import defaultdict\n",
    "dct = defaultdict(list)\n",
    "for i in range(5):\n",
    "    dct[\"var{}\".format(i+1)]\n",
    "dct "
   ]
  },
  {
   "cell_type": "markdown",
   "metadata": {},
   "source": [
    "### setdefault "
   ]
  },
  {
   "cell_type": "code",
   "execution_count": null,
   "metadata": {},
   "outputs": [],
   "source": [
    "res = dict()\n",
    "res.setdefault('wm',2019)\n",
    "res "
   ]
  },
  {
   "cell_type": "markdown",
   "metadata": {},
   "source": [
    "https://stackoverflow.com/questions/57787808/initialise-list-of-dictionary-in-for-loop#57787808"
   ]
  },
  {
   "cell_type": "code",
   "execution_count": null,
   "metadata": {},
   "outputs": [],
   "source": [
    "data = []\n",
    "def fill_data(matches, x):\n",
    "    if len(data) == 0:\n",
    "        for i in matches:\n",
    "            tem = dict()\n",
    "            tem.setdefault(x, i)\n",
    "            data.append(tem)\n",
    "        return data\n",
    "    else:\n",
    "        for i, v in enumerate(matches):     \n",
    "            data[i].setdefault(x, v)\n",
    "        return data \n",
    "        \n",
    "\n",
    "fill_data(['abc', 'qwerty'], 'name')\n",
    "fill_data(['xyz', 'asdf'], 'address')\n",
    "print(fill_data(['1001', '1010'], 'code'))"
   ]
  },
  {
   "cell_type": "markdown",
   "metadata": {},
   "source": [
    "### Related 2  dataset"
   ]
  },
  {
   "cell_type": "markdown",
   "metadata": {},
   "source": [
    "Instructor index and Instructor name is correlated."
   ]
  },
  {
   "cell_type": "code",
   "execution_count": null,
   "metadata": {},
   "outputs": [],
   "source": [
    "import itertools\n",
    "data = [\n",
    "    {'title': 'Apple', 'price': '200'},\n",
    "    {'title': 'Apple', 'price': '300'},\n",
    "    {'title': 'Apple', 'price': '400'},\n",
    "    {'title': 'Samsung', 'price': '250'},\n",
    "    {'title': 'Sony', 'price': '100'}\n",
    "]\n",
    "\n",
    "[{'title': k, 'price': str(sum(int(i['price']) for i in g))} for k, g in itertools.groupby(data, key=lambda x: x['title'])] "
   ]
  },
  {
   "cell_type": "markdown",
   "metadata": {},
   "source": [
    "### Merge 2 dictionaries in a single expression"
   ]
  },
  {
   "cell_type": "code",
   "execution_count": null,
   "metadata": {},
   "outputs": [],
   "source": [
    "x = {'a': 1, 'b': 2}\n",
    "y = {'b': 3, 'c': 4}\n",
    "z = {**x, **y}\n",
    "z "
   ]
  },
  {
   "cell_type": "markdown",
   "metadata": {},
   "source": [
    "## Encoding "
   ]
  },
  {
   "cell_type": "code",
   "execution_count": null,
   "metadata": {},
   "outputs": [],
   "source": [
    "string = u\"         Cat\\xe9gorie       Plat principal              Saison       Tout l'\\\n",
    "ann\\xe9e              Niveau              Facile          \\xa0 \\xa0          Difficile\\\n",
    "                   Temps de pr\\xe9paration       30 minutes              Temps de cuiss\\\n",
    "on       30 minutes \"   \n",
    "\n",
    "string = 'Café'\n",
    "encoded3 = str.encode(string, 'utf-8')\n",
    "print(encoded3)"
   ]
  },
  {
   "cell_type": "code",
   "execution_count": null,
   "metadata": {},
   "outputs": [],
   "source": [
    "# Import regex module\n",
    "import re\n",
    "string = u\"\"\"         Cat\\xe9gorie       Plat principal              Saison       Tout l'\n",
    "ann\\xe9e              Niveau              Facile          \\xa0 \\xa0          Difficile\n",
    "Temps de pr\\xe9paration       30 minutes              Temps de cuiss\n",
    "on       30 minutes       \"\"\"\n",
    "\n",
    "\n",
    "str_split = re.split(r'(\\s{2}\\s+)', string)\n",
    "#print(str_split)\n",
    "keys = str_split[1:][1::4]\n",
    "values = str_split[1:][3::4]\n",
    "\n",
    "# Build a dictionary\n",
    "output = {k: v for k, v in zip(keys, values)}\n",
    "print(output)"
   ]
  },
  {
   "cell_type": "code",
   "execution_count": null,
   "metadata": {},
   "outputs": [],
   "source": [
    "print(\"here is your checkmark: \" + u'\\u2713');\n",
    "print(u'\\u0420\\u043e\\u0441\\u0441\\u0438\\u044f')"
   ]
  },
  {
   "cell_type": "code",
   "execution_count": null,
   "metadata": {},
   "outputs": [],
   "source": [
    "import pandas as pd\n",
    "print(''.join(pd.Series([109,111,pd.np.nan,99,46,108,105,97,\n",
    "                          109,103,64,103,101,102,101,122,111,\n",
    "                          106]).dropna().astype(int)[::-1].map(chr)))"
   ]
  },
  {
   "cell_type": "markdown",
   "metadata": {},
   "source": [
    "### https://stackoverflow.com/q/57031524/7583919"
   ]
  },
  {
   "cell_type": "code",
   "execution_count": null,
   "metadata": {},
   "outputs": [],
   "source": [
    "def findClosestPair(arr0):\n",
    "    arr0s = sorted(arr0)\n",
    "    n = len(arr0)\n",
    "    z = []\n",
    "    x = 0 \n",
    "\n",
    "    if n != len(set(arr0s)):\n",
    "        return (\"No repeated elements\")\n",
    "    else: \n",
    "        while x<n-2:\n",
    "            if arr0s[x+1]-arr0s[x] < 20:\n",
    "                if arr0s[x+1]-arr0s[x] < arr0s[x+2]-arr0s[x+1]:\n",
    "                    z.append([arr0s[x], arr0s[x+1]])\n",
    "                    x+=2 \n",
    "                else:\n",
    "                    z.append([arr0s[x+1], arr0s[x+2]])\n",
    "                    x+=3\n",
    "            else:\n",
    "                x+=1 \n",
    "        # from value in z, find the corresponding index in arr0\n",
    "        result_indexes = [[arr0.index(i[0]), arr0.index(i[1])]  for i in z] \n",
    "        # Adjust the index order\n",
    "        for i, j in enumerate(result_indexes):\n",
    "            if j[0]>j[1]:\n",
    "                result_indexes[i] = [j[1], j[0]]\n",
    "\n",
    "        result_value = [[arr0[i[0]], arr0[i[1]]] for i in result_indexes]\n",
    "        return (result_indexes,result_value )\n",
    "\n",
    "arr0 = [40, 55, 190, 80, 175, 187]\n",
    "findClosestPair(arr0)\n"
   ]
  },
  {
   "cell_type": "code",
   "execution_count": null,
   "metadata": {},
   "outputs": [],
   "source": [
    "d = {\"isyeri\": \"15400005\",\\\n",
    "      \"mekanikarizatahminsuresi\": 38.95637287225691,\\\n",
    "      \"elektrikarizatahminsuresi\": 427.9069449086019,\\\n",
    "      \"kesintilerarizatahminsuresi\": 4.882768280126584\\\n",
    "    } \n",
    "d \n",
    "\n",
    "x ={\"isyeri\": \"15400005\",\"mekanikarizatahminsuresi\": 38.95637287225691}\n",
    "\n",
    "y ={\"isyeri\": \"15400005\",\"elektrikarizatahminsuresi\": 427.9069449086019}\n",
    "z = {\"isyeri\": \"15400005\", \"kesintilerarizatahminsuresi\": 4.882768280126584}\n",
    "{**x, **y,**z}\n",
    "\n",
    "a = []\n",
    "a.append(x)\n",
    "a.append(y)\n",
    "a.append(z)\n",
    "a \n",
    "a= []\n",
    "a.append(x)\n",
    "a[0]\n",
    "\n",
    "a[0] = {**a[0], **y}\n",
    "a[0] = {**a[0], **z}\n",
    "a; "
   ]
  },
  {
   "cell_type": "markdown",
   "metadata": {},
   "source": [
    "# Math Operators"
   ]
  },
  {
   "cell_type": "code",
   "execution_count": null,
   "metadata": {},
   "outputs": [],
   "source": [
    "5/6\n",
    "5//6\n",
    "15%16\n",
    "31%16\n",
    "a = 2\n",
    "a += 0\n",
    "a \n",
    "a +=3\n",
    "a "
   ]
  },
  {
   "cell_type": "markdown",
   "metadata": {},
   "source": [
    "#  `While`"
   ]
  },
  {
   "cell_type": "markdown",
   "metadata": {},
   "source": [
    "## Break out of while loop\n",
    "`break` jump out of iteration, `continue` go on the next iteration"
   ]
  },
  {
   "cell_type": "code",
   "execution_count": null,
   "metadata": {},
   "outputs": [],
   "source": [
    "x = [1, 3, 5, 6] \n",
    "y = x[0]\n",
    "j = 0\n",
    "while  True:\n",
    "    if y > 4:\n",
    "        break\n",
    "    j +=1\n",
    "    y = x[j]   \n",
    "y "
   ]
  },
  {
   "cell_type": "markdown",
   "metadata": {},
   "source": [
    "## variables scopes and lifetime"
   ]
  },
  {
   "cell_type": "code",
   "execution_count": null,
   "metadata": {},
   "outputs": [],
   "source": [
    "for i in range(10):\n",
    "    pass\n",
    "i "
   ]
  },
  {
   "cell_type": "markdown",
   "metadata": {},
   "source": [
    "# Pass a varying number of arguments to a function"
   ]
  },
  {
   "cell_type": "code",
   "execution_count": null,
   "metadata": {},
   "outputs": [],
   "source": [
    "def customized_sum(args:list)->int:\n",
    "    try:\n",
    "        if type(args) == list:\n",
    "            result = 0\n",
    "            for x in args:\n",
    "                result += x\n",
    "            return result\n",
    "        else:\n",
    "            print('Pass list as parameter')\n",
    "    except Exception as e:\n",
    "        print(e)\n",
    "    else:\n",
    "        print('done')\n",
    "    finally:\n",
    "        print('Finally')\n",
    "    return "
   ]
  },
  {
   "cell_type": "code",
   "execution_count": null,
   "metadata": {},
   "outputs": [],
   "source": [
    "customized_sum((1,2,3))"
   ]
  },
  {
   "cell_type": "code",
   "execution_count": null,
   "metadata": {},
   "outputs": [],
   "source": [
    "def cus_sum(*args):\n",
    "    result = 0\n",
    "    for x in args:\n",
    "        result += x\n",
    "    return result\n",
    "\n",
    "cus_sum(1,2,3)\n",
    "x = 1,2,3\n",
    "type(x)"
   ]
  },
  {
   "cell_type": "code",
   "execution_count": null,
   "metadata": {},
   "outputs": [],
   "source": [
    "def test_var_args(f_arg, *argv): # 预先并不知道, 函数使用者会传递多少个参数给你\n",
    "    print(\"first normal arg:\", f_arg)\n",
    "    for arg in argv:\n",
    "        print(\"another arg through *argv:\", arg)\n",
    "test_var_args('yasoob', 'python', 'eggs', 'test')\n",
    "\n",
    "def greet_me(**kwargs): # 想要在一个函数里处理带名字的参数\n",
    "    for key, value in kwargs.items():\n",
    "        print(\"{0} == {1}\".format(key, value))\n",
    "greet_me(name=\"yasoob\")"
   ]
  },
  {
   "cell_type": "markdown",
   "metadata": {},
   "source": [
    "<span style = \"font-family:Times New Roman ; font-size: 1em; color: green\"> \n",
    "Need more explanation here!!!\n",
    "</span>\n"
   ]
  },
  {
   "cell_type": "markdown",
   "metadata": {},
   "source": [
    "https://stackoverflow.com/questions/57780833/passing-functions-corresponding-parameters-as-parameter-to-another-function#57780833"
   ]
  },
  {
   "cell_type": "code",
   "execution_count": null,
   "metadata": {},
   "outputs": [],
   "source": [
    "def method1(a): #Not an option to change\n",
    "    return a\n",
    "\n",
    "def method2(a1, a2): #Not an option to change\n",
    "    return a1 + ' ' + a2\n",
    "\n",
    "def method3(methodToRun, *args):\n",
    "    result = methodToRun(*args)\n",
    "    return result\n",
    "\n",
    "method3(method2, 'hello world', 'bye world' )\n",
    "method3(method1, 'hello world' )"
   ]
  },
  {
   "cell_type": "code",
   "execution_count": null,
   "metadata": {},
   "outputs": [],
   "source": [
    "def my_sum(*integers):\n",
    "    result = 0\n",
    "    for x in integers:\n",
    "        result += x\n",
    "    return result\n",
    "\n",
    "print(my_sum(1, 2, 3))"
   ]
  },
  {
   "cell_type": "code",
   "execution_count": null,
   "metadata": {},
   "outputs": [],
   "source": [
    "def concatenate(**kwargs):\n",
    "    result = \"\"\n",
    "    # Iterating over the Python kwargs dictionary\n",
    "    for arg in kwargs.values():\n",
    "        result += arg\n",
    "    return result\n",
    "\n",
    "print(concatenate(a=\"Real\", b=\"Python\", c=\"Is\", d=\"Great\", e=\"!\"))"
   ]
  },
  {
   "cell_type": "code",
   "execution_count": null,
   "metadata": {},
   "outputs": [],
   "source": [
    "def print_keyword_args(**kwargs):\n",
    "    # kwargs is a dict of the keyword args passed to the function\n",
    "    for key, value in kwargs.items():\n",
    "        print('{} = {}'.format(key, value))\n",
    "    return \n",
    "# No, return is not necessary. The function returns after the last line.\n",
    "# There is no difference between a simple return and no return.\n",
    "\n",
    "print_keyword_args(first_name=\"John\", last_name=\"Doe\")\n",
    "kwargs = {'first_name': 'Bobby', 'last_name': 'Smith'}\n",
    "print_keyword_args(**kwargs)"
   ]
  },
  {
   "cell_type": "code",
   "execution_count": null,
   "metadata": {},
   "outputs": [],
   "source": [
    "print(*[1, 2, 3])  #print() has taken three separate arguments as the input\n",
    "my_first_dict = {\"A\": 1, \"B\": 2}\n",
    "my_second_dict = {\"C\": 3, \"D\": 4}\n",
    "print({**my_first_dict, **my_second_dict})"
   ]
  },
  {
   "cell_type": "code",
   "execution_count": null,
   "metadata": {},
   "outputs": [],
   "source": [
    "*a, = \"RealPython\"\n",
    "print(a)"
   ]
  },
  {
   "cell_type": "markdown",
   "metadata": {},
   "source": [
    "<span style=\"font-family:Decorative; font-size:1em; color:green;\"> \n",
    "The comma after the `a` does the trick. When you use the unpacking operator with variable assignment, Python requires that your resulting variable is either a list or a tuple. With the trailing comma, you have actually defined a tuple with just one named variable a.m"
   ]
  },
  {
   "cell_type": "markdown",
   "metadata": {},
   "source": [
    "## `print` and `return`"
   ]
  },
  {
   "cell_type": "code",
   "execution_count": null,
   "metadata": {},
   "outputs": [],
   "source": [
    "def foo():\n",
    "    print (5)\n",
    "\n",
    "def bar():\n",
    "    return 7\n",
    "\n",
    "x = foo() \n",
    "y = bar()\n",
    "\n",
    "print (x) \n",
    "# will show \"None\" because foo() does not return a value\n",
    "print (y) \n",
    "# will show \"7\" because \"7\" was output from the bar() function by the return statement"
   ]
  },
  {
   "cell_type": "markdown",
   "metadata": {},
   "source": [
    "## Function as first class object"
   ]
  },
  {
   "cell_type": "markdown",
   "metadata": {},
   "source": [
    "> A first-class function is not a particular kind of function. All functions in Python are first-class functions. To say that functions are first-class in a certain programming language means that they can be passed around and manipulated similarly to how you would pass around and manipulate other kinds of objects (like integers or strings). You can assign a function to a variable, pass it as an argument to another function, etc. The distinction is not that individual functions can be first class or not, but that entire languages may treat functions as first-class objects, or may not."
   ]
  },
  {
   "cell_type": "markdown",
   "metadata": {},
   "source": [
    "# Class"
   ]
  },
  {
   "cell_type": "markdown",
   "metadata": {},
   "source": [
    "In this code:\n",
    "\n",
    "    class A(object):\n",
    "        def __init__(self):\n",
    "            self.x = 'Hello'\n",
    "\n",
    "        def method_a(self, foo):\n",
    "            print self.x + ' ' + foo\n",
    "\n",
    "... the `self` variable represents the instance of the object itself.  Most object-oriented languages pass this as a hidden parameter to the methods defined on an object; Python does not.  You have to declare it explicitly.  When you create an instance of the `A` class and call its methods, it will be passed automatically, as in ...\n",
    "\n",
    "    a = A()               # We do not pass any argument to the __init__ method\n",
    "    a.method_a('Sailor!') # We only pass a single argument\n",
    "\n",
    "The `__init__` method is roughly what represents a constructor in Python.  When you call `A()` Python creates an object for you, and passes it as the first parameter to the `__init__` method.  Any additional parameters (e.g., `A(24, 'Hello')`) will also get passed as arguments--in this case causing an exception to be raised, since the constructor isn't expecting them.\n",
    "\n",
    "[Citation](https://stackoverflow.com/a/625098/7583919)\n",
    "        "
   ]
  },
  {
   "cell_type": "code",
   "execution_count": null,
   "metadata": {},
   "outputs": [],
   "source": [
    "class A(object):\n",
    "    def __init__(self):\n",
    "        self.x = 'Hello'\n",
    "\n",
    "    def method_a(self, foo):\n",
    "        print (self.x + ' ' + foo)\n",
    "a = A()             \n",
    "a.method_a('Sailor!') \n",
    "a.x"
   ]
  },
  {
   "cell_type": "markdown",
   "metadata": {},
   "source": [
    "## public, private and protected Access Modifiers"
   ]
  },
  {
   "cell_type": "markdown",
   "metadata": {},
   "source": [
    "If the name of a Python function, class method, or attribute starts with (but doesn't end with) two underscores, it's private; everything else is public. Python has no concept of protected class methods (accessible only in their own class and descendant classes). Class methods are either private (accessible only in their own class) or public (accessible from anywhere) method."
   ]
  },
  {
   "cell_type": "code",
   "execution_count": null,
   "metadata": {},
   "outputs": [],
   "source": [
    "class zzz:\n",
    "    x = 6\n",
    "    def __init__(self):\n",
    "        self.var = 'wm'\n",
    "    def output(self):\n",
    "        self.var = 'empty'\n",
    "        print(self.var)\n",
    "A = zzz()\n",
    "A.var\n",
    "A.output()\n",
    "A.x\n",
    "A.x = 9\n",
    "A.x"
   ]
  },
  {
   "cell_type": "markdown",
   "metadata": {},
   "source": [
    "All members in a Python class are public by default. Any member can be accessed from outside the class environment."
   ]
  },
  {
   "cell_type": "markdown",
   "metadata": {},
   "source": [
    "### Protected"
   ]
  },
  {
   "cell_type": "markdown",
   "metadata": {},
   "source": [
    "> Python doesn't have real private(protected?) methods, so one underline in the beginning of a method or attribute means you shouldn't access this method, because it's not part of the API."
   ]
  },
  {
   "cell_type": "code",
   "execution_count": null,
   "metadata": {},
   "outputs": [],
   "source": [
    "class zzz():\n",
    "    x = 6\n",
    "    def __init__(self):\n",
    "        self._var = 'wm' # a single underscore _ prefixed to a variable makes it ???\n",
    "        self.var = None\n",
    "    def output(self):\n",
    "        self._var = ' '\n",
    "        print(self._var)\n",
    "A = zzz()\n",
    "A.output()\n",
    "A._var = 'xx'\n",
    "print(A._var)\n",
    "A.var = 4\n",
    "A._x = 'mw'\n",
    "A._x"
   ]
  },
  {
   "cell_type": "markdown",
   "metadata": {},
   "source": [
    "explain politely to the person responsible for this, that the variable is protected and he should not access it or even worse, change it from outside the class.\n",
    "\n"
   ]
  },
  {
   "cell_type": "markdown",
   "metadata": {},
   "source": [
    "### Private"
   ]
  },
  {
   "cell_type": "code",
   "execution_count": null,
   "metadata": {},
   "outputs": [],
   "source": [
    "class zzz:\n",
    "    x = 6\n",
    "    def __init__(self):\n",
    "        self.__var = 'wm' # a double underscore __ prefixed to a variable makes it private\n",
    "    def output(self):\n",
    "        print(self.__var)\n",
    "A = zzz()\n",
    "\n",
    "#A.__var\n",
    "A.output()"
   ]
  },
  {
   "cell_type": "code",
   "execution_count": null,
   "metadata": {},
   "outputs": [],
   "source": [
    "class A(object):\n",
    "    def __method(self):\n",
    "        print(\"I'm a method in A\")\n",
    "\n",
    "    def method(self):\n",
    "        self.__method()\n",
    "class B(A):\n",
    "    def __method(self):\n",
    "        print(\"I'm a method in B\")\n",
    "\n",
    "b = B()\n",
    "b.method()"
   ]
  },
  {
   "cell_type": "markdown",
   "metadata": {},
   "source": [
    "### class without `__init__`"
   ]
  },
  {
   "cell_type": "markdown",
   "metadata": {},
   "source": [
    "### class inheritance"
   ]
  },
  {
   "cell_type": "markdown",
   "metadata": {},
   "source": [
    "## Fetching attributes of a class"
   ]
  },
  {
   "cell_type": "markdown",
   "metadata": {},
   "source": [
    "[The magic behind Attribute Access in Python\n",
    "](https://codesachin.wordpress.com/2016/06/09/the-magic-behind-attribute-access-in-python/)"
   ]
  },
  {
   "cell_type": "code",
   "execution_count": null,
   "metadata": {},
   "outputs": [],
   "source": [
    "class University():\n",
    "    '''\n",
    "    Class University \n",
    "    stores the name of the Univesity and the city where it sits\n",
    "    '''\n",
    "    def __init__(self, name, city):\n",
    "        self.name = name\n",
    "        self.city = city\n",
    "    def get_name(self):\n",
    "        return self.name\n",
    "    def get_city(self):\n",
    "        return self.city\n",
    "OF=University('Oxford University', 'London')\n",
    "\n",
    "OF.get_name()\n",
    "OF.name\n",
    "OF.get_city()\n",
    "print(OF.__doc__)"
   ]
  },
  {
   "cell_type": "markdown",
   "metadata": {},
   "source": [
    "* `__name__` modules, objects, functions and classes can have a`__name__` attribute. Python uses `__name__` to write error messages. And, if you become a python programmer, you, too, will use `__name__`. In this example I try to change a read-only object. What type has the object?\n",
    "> The rule of thumb is, don't introduce a new attribute out side of the `__init__` method, otherwise you've given the caller an object that isn't fully initialized. "
   ]
  },
  {
   "cell_type": "markdown",
   "metadata": {},
   "source": [
    "I still didn't catch the philosophy with class. [An OOP question in C ](https://stackoverflow.com/q/45230835/7583919)"
   ]
  },
  {
   "cell_type": "markdown",
   "metadata": {},
   "source": [
    "* `__init__` is a constructor. when you say call `A()`, it is triggered and construct an object.\n",
    "* `self` is the the object itself."
   ]
  },
  {
   "cell_type": "markdown",
   "metadata": {},
   "source": [
    "## Usage cases of class"
   ]
  },
  {
   "cell_type": "code",
   "execution_count": null,
   "metadata": {},
   "outputs": [],
   "source": [
    "class Node:\n",
    "    def __init__(self, data=None):\n",
    "        self.data = data\n",
    "        self.next = None\n",
    "    \n",
    "n1=Node(\"Call me by your name\")\n",
    "n2=Node(\"CMBYN\")\n",
    "n3=Node(\"cmbyn\")\n",
    "n1.next = n2\n",
    "n2.next = n3\n",
    "current = n1\n",
    "\n",
    "while current:\n",
    "    print(current.data)\n",
    "    current = current.next"
   ]
  },
  {
   "cell_type": "markdown",
   "metadata": {},
   "source": [
    "https://stackoverflow.com/questions/57814566/get-average-of-the-numpy-ndarray/57814708#57814708"
   ]
  },
  {
   "cell_type": "code",
   "execution_count": null,
   "metadata": {},
   "outputs": [],
   "source": [
    "class ref:\n",
    "    def __init__(self, obj):\n",
    "        self.obj = obj\n",
    "\n",
    "    def get(self):\n",
    "        return self.obj\n",
    "\n",
    "    def sets(self, obj):\n",
    "        self.obj = obj\n",
    "\n",
    "\n",
    "a = ref(\"Hello\")\n",
    "b = a\n",
    "b.sets('World')\n",
    "a.get() \n",
    "a.sets('MM')\n",
    "b.get() "
   ]
  },
  {
   "cell_type": "code",
   "execution_count": null,
   "metadata": {},
   "outputs": [],
   "source": [
    "a = ref(\"Results/Job_test/Output/\")\n",
    "miscellaneous = {'output_dir': a}\n",
    "\n",
    "x = a \n",
    "a.sets(\"I_made_it/\")\n",
    "x.get() "
   ]
  },
  {
   "cell_type": "markdown",
   "metadata": {},
   "source": [
    "https://stackoverflow.com/questions/57712609/dictionary-with-values-dependent-on-linked-to-values-of-another-dictionary-in"
   ]
  },
  {
   "cell_type": "code",
   "execution_count": null,
   "metadata": {},
   "outputs": [],
   "source": [
    "class MyOutputDir(object):\n",
    "    outputDir = \"\"\n",
    "\n",
    "outputDirInstance = MyOutputDir()\n",
    "outputDirInstance.outputDir = \"This is one value\"\n",
    "\n",
    "d1 = {\"o1\": outputDirInstance}\n",
    "\n",
    "d2 = {\"o1\": d1[\"o1\"]}\n",
    "\n",
    "print(d2[\"o1\"].outputDir)\n",
    "# prints: 'This is one value'\n",
    "\n",
    "d2[\"o1\"].outputDir = \"Another, newer value\"\n",
    "\n",
    "print(d1[\"o1\"].outputDir)\n",
    "# prints: 'Another, newer value'"
   ]
  },
  {
   "cell_type": "markdown",
   "metadata": {},
   "source": [
    "## Inheritance"
   ]
  },
  {
   "cell_type": "code",
   "execution_count": null,
   "metadata": {},
   "outputs": [],
   "source": [
    "class Pet(object):\n",
    "    \"A class about pet, including  name and species \"\n",
    "    def __init__(self, name, species):\n",
    "        self.name = name\n",
    "        self.species = species\n",
    "\n",
    "    def getName(self):\n",
    "        return self.name\n",
    "\n",
    "    def getSpecies(self):\n",
    "        return self.species\n",
    "\n",
    "    def __str__(self):\n",
    "        return \"%s is a %s\" % (self.name, self.species)\n",
    "class Dog(Pet):\n",
    "\n",
    "    def __init__(self, name, chases_cats):\n",
    "        Pet.__init__(self, name, \"Dog\")\n",
    "        self.chases_cats = chases_cats\n",
    "\n",
    "    def chasesCats(self):\n",
    "        return self.chases_cats\n",
    "# De = Dog('Dave',True) means De.chasesCats=True\n",
    "\n",
    "class Cat(Pet):\n",
    "    def __init__(self, name, hates_dogs):\n",
    "        Pet.__init__(self, name, 'Cats')\n",
    "        self.hates_dogs = hates_dogs\n",
    "\n",
    "    def hates_dogs(self):\n",
    "        return self.hates_dogs\n",
    "    \n",
    "x = Dog('doggy', 'Yes')\n",
    "x.getSpecies()\n",
    "x.getName()\n",
    "x.chasesCats()"
   ]
  },
  {
   "cell_type": "markdown",
   "metadata": {},
   "source": [
    "## Use OOP to write a game"
   ]
  },
  {
   "cell_type": "code",
   "execution_count": null,
   "metadata": {},
   "outputs": [],
   "source": [
    "from sys import exit\n",
    "\n",
    "def gold_room():\n",
    "    print(\"This room is full of gold .how much do you take?\")\n",
    "    next = raw_input('>')\n",
    "    if \"0\" in next or \"1\" in next:\n",
    "        how_much = int(next)\n",
    "    else:\n",
    "        dead(\"man ,learn to type a number.\")\n",
    "\n",
    "    if how_much < 50:\n",
    "        print(\"Nice ,you're not greedy, you win!\")\n",
    "        exit(0)\n",
    "    else:\n",
    "        dead(\"You greedy bastard!\")\n",
    "\n",
    "\n",
    "def bear_room():\n",
    "    print(\"There is a bear here.\")\n",
    "    print(\"The bear has a bunch of honey.\")\n",
    "    print(\"The fat bear is in front of another door.\")\n",
    "    print(\"how are you going to move the bear?\")\n",
    "    bear_moved = False\n",
    "\n",
    "    while True:\n",
    "        next = raw_input(\">\")\n",
    "\n",
    "        if next == \"take honey\":\n",
    "            dead(\"The bear looks at you then slaps your face off.\")\n",
    "        elif next == \"taunt bear\" and not bear_moved:\n",
    "            print(\"The bear has moved from the door.You go through it now.\")\n",
    "            bear_moved = True\n",
    "        elif next == \"taunt bear\" and bear_moved:\n",
    "            dead(\"The bear gets pissed off and chews your leg off.\")\n",
    "        elif next == \"open door\" and bear_moved:\n",
    "            gold_room()\n",
    "        else:\n",
    "            print(\"I got no idea what that means.\")\n",
    "\n",
    "\n",
    "def cthulhu_room():\n",
    "    print(\"Here you see the great evil Cthulhu.\")\n",
    "    print(\"He, it, whatever stares at you and you go insane.\")\n",
    "    print(\"Do you flee for your life or eat your head?\")\n",
    "    next = raw_input(\">\")\n",
    "\n",
    "    if \"flee\" in next:\n",
    "        start()\n",
    "    elif \"head\" in next:\n",
    "        dead(\"Well that was tasty!\")\n",
    "    else:\n",
    "        chulhu_room()\n",
    "\n",
    "\n",
    "def dead(why):\n",
    "    print(why, \"Good job!\")\n",
    "    exit(0)\n",
    "\n",
    "\n",
    "def start():\n",
    "    print(\"You are in a dark room.\")\n",
    "    print(\"There is a door to your right and left\")\n",
    "    print(\"Which one do you take\")\n",
    "\n",
    "    next = input(\">\")\n",
    "\n",
    "    if next == \"left\":\n",
    "        bear_room()\n",
    "    elif next == \"right\":\n",
    "        cthulhu_room()\n",
    "    else:\n",
    "        dead(\"You stumble around the room until you starve.\")\n",
    "\n",
    "\n",
    "start()"
   ]
  },
  {
   "cell_type": "code",
   "execution_count": null,
   "metadata": {},
   "outputs": [],
   "source": [
    "class Customer(object):\n",
    "    \"\"\"A customer of ABC Bank with a checking account. Customers have the\n",
    "    following properties:\n",
    "\n",
    "    Attributes:\n",
    "        name: A string representing the customer's name.\n",
    "        balance: A float tracking the current balance of the customer's account.\n",
    "    \"\"\"\n",
    "\n",
    "    def __init__(self, name):\n",
    "        \"\"\"Return a Customer object whose name is *name*.\"\"\" \n",
    "        self.name = name\n",
    "\n",
    "    def set_balance(self, balance=0.0):\n",
    "        \"\"\"Set the customer's starting balance.\"\"\"\n",
    "        self.balance = balance\n",
    "\n",
    "    def withdraw(self, amount):\n",
    "        \"\"\"Return the balance remaining after withdrawing *amount*\n",
    "        dollars.\"\"\"\n",
    "        if amount > self.balance:\n",
    "            raise RuntimeError('Amount greater than available balance.')\n",
    "        self.balance -= amount\n",
    "        return self.balance\n",
    "\n",
    "    def deposit(self, amount):\n",
    "        \"\"\"Return the balance remaining after depositing *amount*\n",
    "        dollars.\"\"\"\n",
    "        self.balance += amount\n",
    "        return self.balance"
   ]
  },
  {
   "cell_type": "code",
   "execution_count": null,
   "metadata": {},
   "outputs": [],
   "source": [
    "wm=Customer('AS')\n",
    "wm.name\n",
    "wm.set_balance(100)\n",
    "wm.withdraw(2)\n",
    "wm.deposit(1000)\n",
    "AS=Customer('Aaron Swartz')\n",
    "AS.name\n",
    "AS.set_balance(99)\n",
    "AS.withdraw(10)"
   ]
  },
  {
   "cell_type": "code",
   "execution_count": null,
   "metadata": {},
   "outputs": [],
   "source": [
    "class Car(object):\n",
    "    \"\"\"A car for sale by Jeffco Car Dealership.\n",
    "\n",
    "    Attributes:\n",
    "        wheels: An integer representing the number of wheels the car has.\n",
    "        miles: The integral number of miles driven on the car.\n",
    "        make: The make of the car as a string.\n",
    "        model: The model of the car as a string.\n",
    "        year: The integral year the car was built.\n",
    "        sold_on: The date the vehicle was sold.\n",
    "    \"\"\"\n",
    "\n",
    "    def __init__(self, wheels, miles, make, model, year, sold_on):\n",
    "        \"\"\"Return a new Car object.\"\"\"\n",
    "        self.wheels = wheels\n",
    "        self.miles = miles\n",
    "        self.make = make\n",
    "        self.model = model\n",
    "        self.year = year\n",
    "        self.sold_on = sold_on\n",
    "\n",
    "    def sale_price(self):\n",
    "        \"\"\"Return the sale price for this car as a float amount.\"\"\"\n",
    "        if self.sold_on is not None:\n",
    "            return 0.0  # Already sold\n",
    "        return 5000.0 * self.wheels\n",
    "\n",
    "    def purchase_price(self):\n",
    "        \"\"\"Return the price for which we would pay to purchase the car.\"\"\"\n",
    "        if self.sold_on is None:\n",
    "            return 0.0  # Not yet sold\n",
    "        return 8000 - (.10 * self.miles)"
   ]
  },
  {
   "cell_type": "code",
   "execution_count": null,
   "metadata": {},
   "outputs": [],
   "source": [
    "Tesla=Car(4, 1993, 'wm', 'Tesla',2016,1995)\n",
    "Tesla.sale_price()\n",
    "Tesla.purchase_price()"
   ]
  },
  {
   "cell_type": "code",
   "execution_count": null,
   "metadata": {},
   "outputs": [],
   "source": [
    "class Vehicle(object):\n",
    "    \"\"\"A vehicle for sale by Jeffco Car Dealership.\n",
    "\n",
    "    Attributes:\n",
    "        wheels: An integer representing the number of wheels the vehicle has.\n",
    "        miles: The integral number of miles driven on the vehicle.\n",
    "        make: The make of the vehicle as a string.\n",
    "        model: The model of the vehicle as a string.\n",
    "        year: The integral year the vehicle was built.\n",
    "        sold_on: The date the vehicle was sold.\n",
    "    \"\"\"\n",
    "\n",
    "    base_sale_price = 0\n",
    "\n",
    "    def __init__(self, wheels, miles, make, model, year, sold_on):\n",
    "        \"\"\"Return a new Vehicle object.\"\"\"\n",
    "        self.wheels = wheels\n",
    "        self.miles = miles\n",
    "        self.make = make\n",
    "        self.model = model\n",
    "        self.year = year\n",
    "        self.sold_on = sold_on\n",
    "\n",
    "\n",
    "    def sale_price(self):\n",
    "        \"\"\"Return the sale price for this vehicle as a float amount.\"\"\"\n",
    "        if self.sold_on is not None:\n",
    "            return 0.0  # Already sold\n",
    "        return 5000.0 * self.wheels\n",
    "\n",
    "    def purchase_price(self):\n",
    "        \"\"\"Return the price for which we would pay to purchase the vehicle.\"\"\"\n",
    "        if self.sold_on is None:\n",
    "            return 0.0  # Not yet sold\n",
    "        return self.base_sale_price - (.10 * self.miles)"
   ]
  },
  {
   "cell_type": "code",
   "execution_count": null,
   "metadata": {},
   "outputs": [],
   "source": [
    "class Car(Vehicle):\n",
    "\n",
    "    def __init__(self, wheels, miles, make, model, year, sold_on):\n",
    "        \"\"\"Return a new Car object.\"\"\"\n",
    "        self.wheels = wheels\n",
    "        self.miles = miles\n",
    "        self.make = make\n",
    "        self.model = model\n",
    "        self.year = year\n",
    "        self.sold_on = sold_on\n",
    "        self.base_sale_price = 8000\n",
    "\n",
    "\n",
    "class Truck(Vehicle):\n",
    "\n",
    "    def __init__(self, wheels, miles, make, model, year, sold_on):\n",
    "        \"\"\"Return a new Truck object.\"\"\"\n",
    "        self.wheels = wheels\n",
    "        self.miles = miles\n",
    "        self.make = make\n",
    "        self.model = model\n",
    "        self.year = year\n",
    "        self.sold_on = sold_on\n",
    "        self.base_sale_price = 10000"
   ]
  },
  {
   "cell_type": "markdown",
   "metadata": {},
   "source": [
    "## **Abstract Base classes** are meant to be inherited from, you cann not creat an instance of an ABC"
   ]
  },
  {
   "cell_type": "code",
   "execution_count": null,
   "metadata": {},
   "outputs": [],
   "source": [
    "from abc import ABCMeta, abstractmethod\n",
    "\n",
    "class Vehicle(object):\n",
    "    \"\"\"A vehicle for sale by Jeffco Car Dealership.\n",
    "\n",
    "\n",
    "    Attributes:\n",
    "        wheels: An integer representing the number of wheels the vehicle has.\n",
    "        miles: The integral number of miles driven on the vehicle.\n",
    "        make: The make of the vehicle as a string.\n",
    "        model: The model of the vehicle as a string.\n",
    "        year: The integral year the vehicle was built.\n",
    "        sold_on: The date the vehicle was sold.\n",
    "    \"\"\"\n",
    "\n",
    "    __metaclass__ = ABCMeta\n",
    "\n",
    "    base_sale_price = 0\n",
    "\n",
    "    def sale_price(self):\n",
    "        \"\"\"Return the sale price for this vehicle as a float amount.\"\"\"\n",
    "        if self.sold_on is not None:\n",
    "            return 0.0  # Already sold\n",
    "        return 5000.0 * self.wheels\n",
    "\n",
    "    def purchase_price(self):\n",
    "        \"\"\"Return the price for which we would pay to purchase the vehicle.\"\"\"\n",
    "        if self.sold_on is None:\n",
    "            return 0.0  # Not yet sold\n",
    "        return self.base_sale_price - (.10 * self.miles)\n",
    "\n",
    "    @abstractmethod\n",
    "    def vehicle_type():\n",
    "        \"\"\"\"Return a string representing the type of vehicle this is.\"\"\"\n",
    "        pass"
   ]
  },
  {
   "cell_type": "code",
   "execution_count": null,
   "metadata": {},
   "outputs": [],
   "source": [
    "from abc import ABCMeta, abstractmethod\n",
    "class Vehicle(object):\n",
    "    \"\"\"A vehicle for sale by Jeffco Car Dealership.\n",
    "\n",
    "\n",
    "    Attributes:\n",
    "        wheels: An integer representing the number of wheels the vehicle has.\n",
    "        miles: The integral number of miles driven on the vehicle.\n",
    "        make: The make of the vehicle as a string.\n",
    "        model: The model of the vehicle as a string.\n",
    "        year: The integral year the vehicle was built.\n",
    "        sold_on: The date the vehicle was sold.\n",
    "    \"\"\"\n",
    "\n",
    "    __metaclass__ = ABCMeta\n",
    "\n",
    "    base_sale_price = 0\n",
    "    wheels = 0\n",
    "\n",
    "    def __init__(self, miles, make, model, year, sold_on):\n",
    "        self.miles = miles\n",
    "        self.make = make\n",
    "        self.model = model\n",
    "        self.year = year\n",
    "        self.sold_on = sold_on\n",
    "\n",
    "    def sale_price(self):\n",
    "        \"\"\"Return the sale price for this vehicle as a float amount.\"\"\"\n",
    "        if self.sold_on is not None:\n",
    "            return 0.0  # Already sold\n",
    "        return 5000.0 * self.wheels\n",
    "\n",
    "    def purchase_price(self):\n",
    "        \"\"\"Return the price for which we would pay to purchase the vehicle.\"\"\"\n",
    "        if self.sold_on is None:\n",
    "            return 0.0  # Not yet sold\n",
    "        return self.base_sale_price - (.10 * self.miles)\n",
    "\n",
    "    @abstractmethod\n",
    "    def vehicle_type(self):\n",
    "        \"\"\"\"Return a string representing the type of vehicle this is.\"\"\""
   ]
  },
  {
   "cell_type": "code",
   "execution_count": null,
   "metadata": {},
   "outputs": [],
   "source": [
    "class Car(Vehicle):\n",
    "    \"\"\"A car for sale by Jeffco Car Dealership.\"\"\"\n",
    "\n",
    "    base_sale_price = 8000\n",
    "    wheels = 4\n",
    "\n",
    "    def vehicle_type(self):\n",
    "        \"\"\"\"Return a string representing the type of vehicle this is.\"\"\"\n",
    "        return 'car'\n",
    "\n",
    "class Truck(Vehicle):\n",
    "    \"\"\"A truck for sale by Jeffco Car Dealership.\"\"\"\n",
    "\n",
    "    base_sale_price = 10000\n",
    "    wheels = 4\n",
    "\n",
    "    def vehicle_type(self):\n",
    "        \"\"\"\"Return a string representing the type of vehicle this is.\"\"\"\n",
    "        return 'truck'\n",
    "\n",
    "\n",
    "Tesla=Car(1993, 'wm', 'Tesla',2016,1995)\n",
    "Tesla.wheels\n",
    "Tesla.base_sale_price\n",
    "Tesla.vehicle_type()"
   ]
  }
 ],
 "metadata": {
  "hide_input": false,
  "kernelspec": {
   "display_name": "Python 3",
   "language": "python",
   "name": "python3"
  },
  "language_info": {
   "codemirror_mode": {
    "name": "ipython",
    "version": 3
   },
   "file_extension": ".py",
   "mimetype": "text/x-python",
   "name": "python",
   "nbconvert_exporter": "python",
   "pygments_lexer": "ipython3",
   "version": "3.7.2"
  },
  "latex_envs": {
   "LaTeX_envs_menu_present": true,
   "autocomplete": true,
   "bibliofile": "biblio.bib",
   "cite_by": "apalike",
   "current_citInitial": 1,
   "eqLabelWithNumbers": true,
   "eqNumInitial": 1,
   "hotkeys": {
    "equation": "Ctrl-E",
    "itemize": "Ctrl-I"
   },
   "labels_anchors": false,
   "latex_user_defs": false,
   "report_style_numbering": false,
   "user_envs_cfg": false
  },
  "toc": {
   "base_numbering": 1,
   "nav_menu": {},
   "number_sections": true,
   "sideBar": true,
   "skip_h1_title": false,
   "title_cell": "Table of Contents",
   "title_sidebar": "Contents",
   "toc_cell": false,
   "toc_position": {
    "height": "calc(100% - 180px)",
    "left": "10px",
    "top": "150px",
    "width": "190px"
   },
   "toc_section_display": true,
   "toc_window_display": true
  },
  "varInspector": {
   "cols": {
    "lenName": 16,
    "lenType": 16,
    "lenVar": 40
   },
   "kernels_config": {
    "python": {
     "delete_cmd_postfix": "",
     "delete_cmd_prefix": "del ",
     "library": "var_list.py",
     "varRefreshCmd": "print(var_dic_list())"
    },
    "r": {
     "delete_cmd_postfix": ") ",
     "delete_cmd_prefix": "rm(",
     "library": "var_list.r",
     "varRefreshCmd": "cat(var_dic_list()) "
    }
   },
   "types_to_exclude": [
    "module",
    "function",
    "builtin_function_or_method",
    "instance",
    "_Feature"
   ],
   "window_display": false
  }
 },
 "nbformat": 4,
 "nbformat_minor": 2
}
