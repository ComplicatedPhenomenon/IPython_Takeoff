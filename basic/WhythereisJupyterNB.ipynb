{
 "cells": [
  {
   "cell_type": "markdown",
   "metadata": {},
   "source": [
    "# Why there is Jupyter Notebook?\n",
    "Advantage of JN.\n",
    "  * > Another really exciting thing is what O'Reilly Media is doing. They are \n",
    "    embracing the notebook at a fairly deep level.The first is they have this\n",
    "    new learning site.Along with this actual website, O'Reilly has this open\n",
    "    source project called[`thebe`](https://github.com/oreillymedia/thebe)\n",
    "\n",
    "   > When I first saw this, I think part of my response was \"wow, that's a little\n",
    "    bit like over kill me maybe\"when you think about it, how much worse is it?\n",
    "    Some one will publish article requiring this much analysis and leave that \n",
    "    analysis out, there is no way anyone would ever be able to reproduce that \n",
    "    work. \n",
    "   > [`BuzzFeed` are doing fantastic work](https://github.com/BuzzFeedNews/everything#libraries-and-tools) \n",
    "    They had committed to do this for all of their data driven articles, they \n",
    "    are not sort of after the fact making sort decisions about \"well, should we \n",
    "    open this or not\",they just said \"we are doing it for everything\". \n",
    "  *  Interview with [Fernado Perez](http://fperez.org/) about `Ipython Projects`.\n",
    " "
   ]
  },
  {
   "cell_type": "markdown",
   "metadata": {},
   "source": [
    "## How has Jupyter changed the way you work?\n",
    "\n",
    "Having repeatable work that can be packaged and shared with others provides an enormous boost for how we work together. Jupyter Notebooks give context to the code. When you share your work, you're not just sharing some source files that have to be deciphered; you're sharing a whole train of thought, which makes it much easier to see what's going on. This isn't just true for your team members; it's equally true if you drop something and come back six months later.\n",
    "## [Acadiemia](https://conferences.oreilly.com/jupyter/jup-ny/public/schedule/detail/59848?ut)\n",
    "Poor reproducibility reality: Reports of a lack of reproducibility and transparency have led funders and others to require open data and code as part of their published outputs. However, current academic publishing systems still cannot support the solutions that technology has enabled, such as the Jupyter Notebook. Mark Hahnel and Marius Tulbure discuss the opportunities for Jupyter notebooks to be the final output of academic research, arguing that Jupyter could help disrupt the inefficiencies in cost and scale of open access academic publishing.\n",
    "\n",
    "* [Closing the gap between Jupyter and academic publishing](https://conferences.oreilly.com/jupyter/jup-ny/public/schedule/detail/59848?ut=tw-data-na-article-lgen_paco_nathan_jupyter_as)"
   ]
  },
  {
   "cell_type": "markdown",
   "metadata": {},
   "source": [
    "# Techniques in using Jupyter Notebook\n",
    "## [Nbviewer](https://nbviewer.jupyter.org) \n",
    "## [presentation-slides-with-jupyter-notebook](http://echorand.me/presentation-slides-with-jupyter-notebook.html)\n",
    "[LIGO_LOSC_Event](https://nbviewer.jupyter.org/urls/losc.ligo.org/s/events/LOSC_Event_tutorial.ipynb)\n",
    "\n",
    "\n",
    "  \n",
    "## Install Jupyter extensions collections\n",
    "* https://github.com/ipython-contrib/jupyter_contrib_nbextensions\n",
    "\n",
    "* https://ndres.me/post/best-jupyter-notebook-extensions/\n",
    "* jupytext"
   ]
  },
  {
   "cell_type": "markdown",
   "metadata": {},
   "source": [
    "\n",
    "## [28 Jupyter Notebook tips, tricks, and shortcuts](https://www.dataquest.io/blog/jupyter-notebook-tips-tricks-shortcuts/)\n",
    "\n",
    "What if you want to see the value of multiple statements at once?\n",
    "```py\n",
    "from IPython.core.interactiveshell import InteractiveShell\n",
    "InteractiveShell.ast_node_interactivity = \"all\"\n",
    "```"
   ]
  },
  {
   "cell_type": "markdown",
   "metadata": {},
   "source": [
    "## Use CSS to diversify information display.\n",
    "\n",
    "\n",
    "```html\n",
    "<span style=\"font-family:Papyrus; font-size:2em; color:red;\"> \n",
    "Content \n",
    "</span>\n",
    "```\n",
    "\n",
    "* [Font family cheatsheet](https://en.wikipedia.org/wiki/Font_family_(HTML))\n",
    "  * <span style=\"font-family:Papyrus; font-size:1em; color:red;\"> Papyrusn</span>\n",
    "  * <span style=\"font-family:Cosmic Sans MS; font-size:1em; color:red;\"> Cosmic Sans MS </span>\n",
    "  * <span style=\"font-family:New York Times; font-size:1em; color:red;\"> New York Times</span>\n",
    "  * <span style=\"font-family:Helvetica; font-size:1em; color:red;\"> Helvetica</span>\n",
    "  * <span style=\"font-family:Monospace; font-size:1em; color:red;\"> Monospace</span>\n",
    "  * <span style=\"font-family:Script; font-size:1em; color:red;\"> Script</span>\n",
    "* [https://www.cssfontstack.com/](https://www.cssfontstack.com/)"
   ]
  }
 ],
 "metadata": {
  "kernelspec": {
   "display_name": "Python 3",
   "language": "python",
   "name": "python3"
  },
  "language_info": {
   "codemirror_mode": {
    "name": "ipython",
    "version": 3
   },
   "file_extension": ".py",
   "mimetype": "text/x-python",
   "name": "python",
   "nbconvert_exporter": "python",
   "pygments_lexer": "ipython3",
   "version": "3.7.0"
  },
  "latex_envs": {
   "LaTeX_envs_menu_present": true,
   "autocomplete": true,
   "bibliofile": "biblio.bib",
   "cite_by": "apalike",
   "current_citInitial": 1,
   "eqLabelWithNumbers": true,
   "eqNumInitial": 1,
   "hotkeys": {
    "equation": "Ctrl-E",
    "itemize": "Ctrl-I"
   },
   "labels_anchors": false,
   "latex_user_defs": false,
   "report_style_numbering": false,
   "user_envs_cfg": false
  },
  "toc": {
   "base_numbering": 1,
   "nav_menu": {},
   "number_sections": true,
   "sideBar": true,
   "skip_h1_title": false,
   "title_cell": "Table of Contents",
   "title_sidebar": "Contents",
   "toc_cell": false,
   "toc_position": {},
   "toc_section_display": true,
   "toc_window_display": true
  }
 },
 "nbformat": 4,
 "nbformat_minor": 2
}
