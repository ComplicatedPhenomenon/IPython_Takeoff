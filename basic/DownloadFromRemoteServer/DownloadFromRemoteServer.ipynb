{
 "cells": [
  {
   "cell_type": "code",
   "execution_count": null,
   "metadata": {},
   "outputs": [],
   "source": [
    "import paramiko\n",
    "import os\n",
    "from configparser import ConfigParser"
   ]
  },
  {
   "cell_type": "code",
   "execution_count": null,
   "metadata": {},
   "outputs": [],
   "source": [
    "# 读取配置文件获取服务器的登录信息\n",
    "def read_ini():\n",
    "    info = dict()\n",
    "    cf = ConfigParser()\n",
    "    cf.read('config.ini', encoding='utf-8')\n",
    "    keys = cf.options('ssh')\n",
    "    for each in keys:\n",
    "        info[each] = cf.get('ssh', each)\n",
    "    print(info)\n",
    "    return info\n",
    "\n",
    "\n",
    "# 连接服务区并执行shell命令返回输出结果\n",
    "def ssh_test(host, port, username, password):\n",
    "    ssh = paramiko.SSHClient()\n",
    "    ssh.set_missing_host_key_policy(paramiko.AutoAddPolicy())\n",
    "    # 连接服务器\n",
    "    try:\n",
    "        ssh.connect(hostname=host, port=port, username=username, password=password)\n",
    "    except Exception as e:\n",
    "        print(e)\n",
    "        return\n",
    "\n",
    "    # 设置一个内部函数，执行shell命令并返回输出结果\n",
    "    def run_shell(cmd):\n",
    "        ssh_in, ssh_out, ssh_error = ssh.exec_command(cmd)\n",
    "        result = ssh_out.read() or ssh_error.read()\n",
    "        return result.decode().strip()\n",
    "\n",
    "    # 获取指定文件夹的绝对地址\n",
    "    cmd_get_path = 'cd workplace;pwd'\n",
    "    db_path = run_shell(cmd_get_path)\n",
    "\n",
    "    # 获取指定文件夹中文件的名称，并跟上面得到的文件夹绝对地址组合起来\n",
    "    cmd_get_sqls = 'cd workplace;ls'\n",
    "    sqls = run_shell(cmd_get_sqls)\n",
    "    lis = ['{}/{}'.format(db_path, each) for each in sqls.split('\\n')]\n",
    "    print(lis)\n",
    "\n",
    "    # 关闭连接\n",
    "    ssh.close()\n",
    "    return lis\n",
    "\n",
    "\n",
    "# 链接服务器进行文件传输\n",
    "def sftp_test(host, port, username, password, from_file, to_file):\n",
    "    transport = paramiko.Transport((host, port))\n",
    "    try:\n",
    "        transport.connect(username=username, password=password)\n",
    "    except Exception as e:\n",
    "        print(e)\n",
    "        return\n",
    "    sftp = paramiko.SFTPClient.from_transport(transport)\n",
    "\n",
    "    # 将文件下载到本地，如果是上传使用 put\n",
    "    sftp.get(from_file, to_file)\n",
    "    transport.close()\n",
    "\n",
    "\n",
    "if __name__ == '__main__':\n",
    "    info = read_ini()\n",
    "    h = info.get('host', None)\n",
    "    p = int(info.get('port', None)) # 端口是int类型\n",
    "    u = info.get('username', None)\n",
    "    pw = info.get('password', None)\n",
    "    files = ssh_test(h, p, u, pw)\n",
    "\n",
    "    path = \"/Users/wangmiao/Lenovo\"\n",
    "    if files:\n",
    "        for each in files:\n",
    "            name = each.split('/')[-1]\n",
    "            ss = sftp_test(h, p, u, pw, each, os.path.join(path, name))"
   ]
  }
 ],
 "metadata": {
  "hide_input": false,
  "kernelspec": {
   "display_name": "Python 3",
   "language": "python",
   "name": "python3"
  },
  "language_info": {
   "codemirror_mode": {
    "name": "ipython",
    "version": 3
   },
   "file_extension": ".py",
   "mimetype": "text/x-python",
   "name": "python",
   "nbconvert_exporter": "python",
   "pygments_lexer": "ipython3",
   "version": "3.7.2"
  },
  "toc": {
   "base_numbering": 1,
   "nav_menu": {},
   "number_sections": true,
   "sideBar": true,
   "skip_h1_title": false,
   "title_cell": "Table of Contents",
   "title_sidebar": "Contents",
   "toc_cell": false,
   "toc_position": {},
   "toc_section_display": true,
   "toc_window_display": false
  },
  "varInspector": {
   "cols": {
    "lenName": 16,
    "lenType": 16,
    "lenVar": 40
   },
   "kernels_config": {
    "python": {
     "delete_cmd_postfix": "",
     "delete_cmd_prefix": "del ",
     "library": "var_list.py",
     "varRefreshCmd": "print(var_dic_list())"
    },
    "r": {
     "delete_cmd_postfix": ") ",
     "delete_cmd_prefix": "rm(",
     "library": "var_list.r",
     "varRefreshCmd": "cat(var_dic_list()) "
    }
   },
   "types_to_exclude": [
    "module",
    "function",
    "builtin_function_or_method",
    "instance",
    "_Feature"
   ],
   "window_display": false
  }
 },
 "nbformat": 4,
 "nbformat_minor": 2
}
