{
 "cells": [
  {
   "cell_type": "code",
   "execution_count": 1,
   "metadata": {},
   "outputs": [],
   "source": [
    "import paramiko\n",
    "import os\n",
    "from configparser import ConfigParser"
   ]
  },
  {
   "cell_type": "code",
   "execution_count": null,
   "metadata": {},
   "outputs": [],
   "source": [
    "# 读取配置文件获取服务器的登录信息\n",
    "def read_ini():\n",
    "    info = dict()\n",
    "    cf = ConfigParser()\n",
    "    cf.read('config.ini', encoding='utf-8')\n",
    "    keys = cf.options('ssh')\n",
    "    for each in keys:\n",
    "        info[each] = cf.get('ssh', each)\n",
    "    print(info)\n",
    "    return info\n",
    "\n",
    "\n",
    "# 连接服务区并执行shell命令返回输出结果\n",
    "def ssh_test(host, port, username, password):\n",
    "    ssh = paramiko.SSHClient()\n",
    "    ssh.set_missing_host_key_policy(paramiko.AutoAddPolicy())\n",
    "    # 连接服务器\n",
    "    try:\n",
    "        ssh.connect(hostname=host, port=port, username=username, password=password)\n",
    "    except Exception as e:\n",
    "        print(e)\n",
    "        return\n",
    "\n",
    "    # 设置一个内部函数，执行shell命令并返回输出结果\n",
    "    def run_shell(cmd):\n",
    "        ssh_in, ssh_out, ssh_error = ssh.exec_command(cmd)\n",
    "        result = ssh_out.read() or ssh_error.read()\n",
    "        return result.decode().strip()\n",
    "\n",
    "    # 获取指定文件夹的绝对地址\n",
    "    cmd_get_path = 'cd workplace;pwd'\n",
    "    db_path = run_shell(cmd_get_path)\n",
    "\n",
    "    # 获取指定文件夹中文件的名称，并跟上面得到的文件夹绝对地址组合起来\n",
    "    cmd_get_sqls = 'cd workplace;ls'\n",
    "    sqls = run_shell(cmd_get_sqls)\n",
    "    lis = ['{}/{}'.format(db_path, each) for each in sqls.split('\\n')]\n",
    "    print(lis)\n",
    "\n",
    "    # 关闭连接\n",
    "    ssh.close()\n",
    "    return lis\n",
    "\n",
    "\n",
    "# 链接服务器进行文件传输\n",
    "def sftp_test(host, port, username, password, from_file, to_file):\n",
    "    transport = paramiko.Transport((host, port))\n",
    "    try:\n",
    "        transport.connect(username=username, password=password)\n",
    "    except Exception as e:\n",
    "        print(e)\n",
    "        return\n",
    "    sftp = paramiko.SFTPClient.from_transport(transport)\n",
    "\n",
    "    # 将文件下载到本地，如果是上传使用 put\n",
    "    sftp.get(from_file, to_file)\n",
    "    transport.close()\n",
    "\n",
    "\n",
    "if __name__ == '__main__':\n",
    "    info = read_ini()\n",
    "    h = info.get('host', None)\n",
    "    p = int(info.get('port', None)) # 端口是int类型\n",
    "    u = info.get('username', None)\n",
    "    pw = info.get('password', None)\n",
    "    files = ssh_test(h, p, u, pw)\n",
    "\n",
    "    path = \"/Users/wangmiao/Lenovo\"\n",
    "    if files:\n",
    "        for each in files:\n",
    "            name = each.split('/')[-1]\n",
    "            ss = sftp_test(h, p, u, pw, each, os.path.join(path, name))"
   ]
  },
  {
   "cell_type": "code",
   "execution_count": 2,
   "metadata": {},
   "outputs": [],
   "source": [
    "\n",
    "def ssh_test(host, port, username, password):\n",
    "    ssh = paramiko.SSHClient()\n",
    "    ssh.set_missing_host_key_policy(paramiko.AutoAddPolicy())\n",
    "    try:\n",
    "        ssh.connect(hostname=host, port=port, username=username, password=password)\n",
    "    except Exception as e:\n",
    "        print(e)\n",
    "        return\n",
    "\n",
    "    \n",
    "    def run_shell(cmd):\n",
    "        ssh_in, ssh_out, ssh_error = ssh.exec_command(cmd)\n",
    "        result = ssh_out.read() or ssh_error.read()\n",
    "        return result.decode().strip()\n",
    "\n",
    "    # 获取指定文件夹的绝对地址\n",
    "    cmd_get_path = 'cd workplace;pwd'\n",
    "    db_path = run_shell(cmd_get_path)\n",
    "\n",
    "    # 获取指定文件夹中文件的名称，并跟上面得到的文件夹绝对地址组合起来\n",
    "    cmd_get_sqls = 'cd workplace;ls'\n",
    "    sqls = run_shell(cmd_get_sqls)\n",
    "    lis = ['{}/{}'.format(db_path, each) for each in sqls.split('\\n')]\n",
    "    print(lis)\n",
    "\n",
    "    # 关闭连接\n",
    "    ssh.close()\n",
    "    return lis\n",
    "\n"
   ]
  },
  {
   "cell_type": "code",
   "execution_count": 9,
   "metadata": {},
   "outputs": [
    {
     "data": {
      "text/plain": [
       "[30.2, 31.3, 28.2, 28.5]"
      ]
     },
     "execution_count": 9,
     "metadata": {},
     "output_type": "execute_result"
    }
   ],
   "source": [
    "python_sales = {'c1': [30.2, \"lily\"], 'c2': [31.3, \"sam\"], 'c3': [28.2, 'peter'], 'c4': [28.5, 'chan']}\n",
    "sales_sum=[]\n",
    "for sale in python_sales.keys():\n",
    "    sales_sum.append(python_sales[sale][0])\n",
    "sales_sum"
   ]
  },
  {
   "cell_type": "code",
   "execution_count": 4,
   "metadata": {},
   "outputs": [
    {
     "name": "stdout",
     "output_type": "stream",
     "text": [
      "[Errno 60] Operation timed out\n"
     ]
    }
   ],
   "source": [
    "host = \"10.110.146.21\"\n",
    "port = \"7021\"\n",
    "username = \"yaoqiang\"\n",
    "password = \"yaoqiang123\"\n",
    "ssh_test(host, port, username, password) "
   ]
  },
  {
   "cell_type": "code",
   "execution_count": 11,
   "metadata": {},
   "outputs": [
    {
     "name": "stdout",
     "output_type": "stream",
     "text": [
      "wrong\n"
     ]
    }
   ],
   "source": [
    "try:\n",
    "    print(ax)\n",
    "except:\n",
    "    print(\"wrong\")\n",
    "else:\n",
    "    print(3)"
   ]
  },
  {
   "cell_type": "code",
   "execution_count": 12,
   "metadata": {},
   "outputs": [
    {
     "data": {
      "text/plain": [
       "False"
      ]
     },
     "execution_count": 12,
     "metadata": {},
     "output_type": "execute_result"
    }
   ],
   "source": [
    "2>3 or 3>4"
   ]
  },
  {
   "cell_type": "code",
   "execution_count": 15,
   "metadata": {},
   "outputs": [
    {
     "name": "stdout",
     "output_type": "stream",
     "text": [
      "Enter the word: rain\n",
      "3\n"
     ]
    }
   ],
   "source": [
    "data  = {\"rain\":3}\n",
    "def translate(w):\n",
    "    \n",
    "    return data[w]\n",
    "\n",
    "word = input(\"Enter the word: \")\n",
    "print(translate(word))"
   ]
  },
  {
   "cell_type": "code",
   "execution_count": null,
   "metadata": {},
   "outputs": [],
   "source": []
  }
 ],
 "metadata": {
  "hide_input": false,
  "kernelspec": {
   "display_name": "Python 3",
   "language": "python",
   "name": "python3"
  },
  "language_info": {
   "codemirror_mode": {
    "name": "ipython",
    "version": 3
   },
   "file_extension": ".py",
   "mimetype": "text/x-python",
   "name": "python",
   "nbconvert_exporter": "python",
   "pygments_lexer": "ipython3",
   "version": "3.7.2"
  },
  "toc": {
   "base_numbering": 1,
   "nav_menu": {},
   "number_sections": true,
   "sideBar": true,
   "skip_h1_title": false,
   "title_cell": "Table of Contents",
   "title_sidebar": "Contents",
   "toc_cell": false,
   "toc_position": {},
   "toc_section_display": true,
   "toc_window_display": false
  },
  "varInspector": {
   "cols": {
    "lenName": 16,
    "lenType": 16,
    "lenVar": 40
   },
   "kernels_config": {
    "python": {
     "delete_cmd_postfix": "",
     "delete_cmd_prefix": "del ",
     "library": "var_list.py",
     "varRefreshCmd": "print(var_dic_list())"
    },
    "r": {
     "delete_cmd_postfix": ") ",
     "delete_cmd_prefix": "rm(",
     "library": "var_list.r",
     "varRefreshCmd": "cat(var_dic_list()) "
    }
   },
   "types_to_exclude": [
    "module",
    "function",
    "builtin_function_or_method",
    "instance",
    "_Feature"
   ],
   "window_display": false
  }
 },
 "nbformat": 4,
 "nbformat_minor": 2
}
