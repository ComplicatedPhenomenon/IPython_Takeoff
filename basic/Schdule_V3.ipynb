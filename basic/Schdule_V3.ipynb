{
 "cells": [
  {
   "cell_type": "code",
   "execution_count": null,
   "metadata": {},
   "outputs": [],
   "source": [
    "from IPython.core.interactiveshell import InteractiveShell\n",
    "InteractiveShell.ast_node_interactivity = 'all'"
   ]
  },
  {
   "cell_type": "markdown",
   "metadata": {},
   "source": [
    "Generate a timetable with less confliction"
   ]
  },
  {
   "cell_type": "code",
   "execution_count": null,
   "metadata": {},
   "outputs": [],
   "source": [
    "import random"
   ]
  },
  {
   "cell_type": "code",
   "execution_count": null,
   "metadata": {},
   "outputs": [],
   "source": [
    "import time\n",
    "import datetime"
   ]
  },
  {
   "cell_type": "code",
   "execution_count": null,
   "metadata": {},
   "outputs": [],
   "source": [
    "from termcolor import colored"
   ]
  },
  {
   "cell_type": "markdown",
   "metadata": {},
   "source": [
    "# Prepare the data structure "
   ]
  },
  {
   "cell_type": "code",
   "execution_count": null,
   "metadata": {},
   "outputs": [],
   "source": [
    "# Slot = Index , Day , Hour\n",
    "class SlotProcessor:\n",
    "    def __init__(self, inputString):\n",
    "        stringParts = inputString.split(\",\")\n",
    "        cursorPosition = 0\n",
    "        self.id = stringParts[cursorPosition].strip()\n",
    "        cursorPosition += 1\n",
    "        self.day = stringParts[cursorPosition].strip()\n",
    "        cursorPosition += 1\n",
    "        self.time = stringParts[cursorPosition].strip()\n",
    "        \n",
    "    def getSlotInfo(self):\n",
    "        print('Index: {} | Day: {} | Hour:{}'.format(self.id, self.day, self.time))"
   ]
  },
  {
   "cell_type": "code",
   "execution_count": null,
   "metadata": {},
   "outputs": [],
   "source": [
    "# Room = Index , Name , Capacity\n",
    "class RoomProcessor:\n",
    "    def __init__(self, inputString):\n",
    "        stringParts = inputString.split(\",\")\n",
    "        cursorPosition = 0\n",
    "\n",
    "        self.id = stringParts[cursorPosition].strip()\n",
    "        cursorPosition += 1\n",
    "\n",
    "        self.name = stringParts[cursorPosition].strip()\n",
    "\n",
    "    def getRoomInfo(self):\n",
    "        print('Index: {} | name: {}'.format(self.id, self.name))"
   ]
  },
  {
   "cell_type": "code",
   "execution_count": null,
   "metadata": {},
   "outputs": [],
   "source": [
    "#  Course = Index , Name , Capacity , Arrangement , InstructorIndex\n",
    "class CourseProcessor:\n",
    "    def __init__(self, inputString):\n",
    "        stringParts = inputString.split(\",\")\n",
    "        cursorPosition = 0\n",
    "\n",
    "        self.id = stringParts[cursorPosition].strip()\n",
    "        cursorPosition += 1\n",
    "\n",
    "        self.name = stringParts[cursorPosition].strip()\n",
    "        cursorPosition += 1\n",
    "\n",
    "        self.capacity = stringParts[cursorPosition].strip()\n",
    "        cursorPosition += 1\n",
    "\n",
    "        self.arrangement = stringParts[cursorPosition].strip()\n",
    "        cursorPosition += 1\n",
    "\n",
    "        self.instructorIndex = int(stringParts[cursorPosition].strip())\n",
    "\n",
    "    def getCourseInfo(self):\n",
    "        print(\"Course ID: {} | Course Name: {} | Roomtype: {} | Arrangement: {} | InstructorIndex: {}\"\\\n",
    "              .format(self.id, self.name, self.capacity, self.arrangement, self.instructorIndex))\n",
    "    \n",
    "    def getCourseName(self):\n",
    "        return self.name\n",
    "    def getCourseInstructorIndex(self):\n",
    "        return int(self.instructorIndex)\n",
    "     "
   ]
  },
  {
   "cell_type": "code",
   "execution_count": null,
   "metadata": {},
   "outputs": [],
   "source": [
    "# Instructor = Index , Name \n",
    "class InstructorProcessor:\n",
    "    def __init__(self, inputString):\n",
    "        stringParts = inputString.split(\",\")\n",
    "        cursorPosition = 0\n",
    "\n",
    "        self.id = stringParts[cursorPosition].strip()\n",
    "        cursorPosition += 1\n",
    "\n",
    "        self.name = stringParts[cursorPosition].strip()\n",
    "        cursorPosition += 1\n",
    "\n",
    "        #for i in range(cursorPosition, cursorPosition + numberOfUnpreferreds):\n",
    "            #self.unpreferreds.append(int(stringParts[i]))\n",
    "     \n",
    "    def getInstructorIndex(self):\n",
    "        return int(self.id)\n",
    "    \n",
    "    def getInstructorName(self):\n",
    "        return self.name\n",
    "    \n",
    "    def getInstructorInfo(self):\n",
    "        print(\"Instructor ID: {} | Instructor Name: {}\".format(self.id, self.name))\n",
    "    \n",
    "    # Highlight function getInstructorNameViaIndex(instructorIndex)\n",
    "    def getInstructorNameViaIndex(self, instructorIndex):\n",
    "        if int(self.id) == instructorIndex:\n",
    "            print (self.name) \n",
    "        else:\n",
    "            print('There is no instructor with this instructor index')\n"
   ]
  },
  {
   "cell_type": "code",
   "execution_count": null,
   "metadata": {},
   "outputs": [],
   "source": [
    "slots = []\n",
    "rooms = []\n",
    "courses = []\n",
    "instructors = []\n",
    "with open('input4.txt') as fp:\n",
    "    for line in fp:\n",
    "        if line.startswith(\"#\"):\n",
    "        # ignore comments in input file\n",
    "            continue\n",
    "        lineSections = line.split(\"=\")\n",
    "        # print(lineSections)\n",
    "        if lineSections[0].strip() == \"Slot\":\n",
    "            #1 , one    ,  8:00\n",
    "            # print(lineSections[1])\n",
    "            slots.append(SlotProcessor(lineSections[1]))\n",
    "            # slots\n",
    "        elif lineSections[0].strip() == \"Room\":\n",
    "            rooms.append(RoomProcessor(lineSections[1]))\n",
    "        elif lineSections[0].strip() == \"Course\":\n",
    "            courses.append(CourseProcessor(lineSections[1]))\n",
    "        elif lineSections[0].strip() == \"Instructor\":\n",
    "            instructors.append(InstructorProcessor(lineSections[1]))\n",
    "print('number of slots: {}, number of rooms: {}, number of courses: {}, number of instructors: {}'.\\\n",
    "     format(len(slots), len(rooms), len(courses), len(instructors)))"
   ]
  },
  {
   "cell_type": "markdown",
   "metadata": {},
   "source": [
    "Fill the timetable with name of the course and name of the Instructor"
   ]
  },
  {
   "cell_type": "markdown",
   "metadata": {},
   "source": [
    "# Define the object to be added into each slot"
   ]
  },
  {
   "cell_type": "code",
   "execution_count": null,
   "metadata": {},
   "outputs": [],
   "source": [
    "class courseInstructor:\n",
    "    def __init__(self, an_item_in_courses, an_item_in_instructors):\n",
    "        self.course = an_item_in_courses\n",
    "        # an_item_in_courses will determine which an_item_in_instructors\n",
    "        \n",
    "        self.instructor = an_item_in_instructors\n",
    "\n",
    "    def printCourseInstructorInfo(self): # Don't forget situation that 2 teachers may have the same name.\n",
    "        return('course name: {} | instructor name: {}'.\\\n",
    "              format(self.course.getCourseName(),\\\n",
    "                     self.instructor.getInstructorName()))    "
   ]
  },
  {
   "cell_type": "markdown",
   "metadata": {},
   "source": [
    "`ScheduleTable.createSchedule()` is supposed to fill the 40 courses for class one."
   ]
  },
  {
   "cell_type": "markdown",
   "metadata": {},
   "source": [
    "Check whether this course can be added into this slot or not."
   ]
  },
  {
   "cell_type": "markdown",
   "metadata": {},
   "source": [
    "<span style = \"font-family:Times New Roman ; font-size: 2em; color: green\"> \n",
    "Put emphasis on the engine!!!\n",
    "</span>\n"
   ]
  },
  {
   "cell_type": "code",
   "execution_count": null,
   "metadata": {},
   "outputs": [],
   "source": [
    "def IsInstructorAvailable(which_class, CurrentInstructor, ExistedSlots, which_slot):\n",
    "    if which_class == 1:\n",
    "        return False\n",
    "    else:\n",
    "        i = 1\n",
    "        a = 0\n",
    "        while i < which_class:          \n",
    "            if CurrentInstructor == ExistedSlots[which_slot - 40 * i][0].instructor.getInstructorIndex():\n",
    "                a += 1\n",
    "            else:\n",
    "                a += 0\n",
    "            \n",
    "            i += 1\n",
    "        if a == 0:\n",
    "            return False\n",
    "        else:\n",
    "            return True\n"
   ]
  },
  {
   "cell_type": "code",
   "execution_count": 45,
   "metadata": {},
   "outputs": [],
   "source": [
    "class Schedule:\n",
    "    def __init__(self, slots, rooms, courses, instructors):\n",
    "        self.schedule_slots = slots\n",
    "        self.schedule_rooms = rooms\n",
    "        self.schedule_courses = courses\n",
    "        self.schedule_instructors = instructors\n",
    "        self.classes = []\n",
    "        self.slots = []\n",
    "        self.fitness = 0.0\n",
    "        self.number_of_courses_for_a_class_per_week = len(self.schedule_slots)\n",
    "        self.weekday = 5\n",
    "        self.number_of_courses_for_a_class_per_day=self.number_of_courses_for_a_class_per_week/self.weekday\n",
    "\n",
    "        for i in range(0, len(slots) * len(rooms)): # range(0, 240)\n",
    "            self.slots.append([]) #Change self.slots from [] to [[],[],[]...]\n",
    "            \n",
    "    def inspectSchedule(self):\n",
    "        if self.slots[0] == []:\n",
    "                print('Wake up, before looking up the schedule, create it at first!')\n",
    "        else:\n",
    "                \n",
    "            for i in range(0, len(slots) * len(rooms)):\n",
    "                print( 'CourseInstructorInfo: {} | {}'\\\n",
    "                      .format(self.slots[i][0].printCourseInstructorInfo(), i))\n",
    "            \n",
    "    def createSchedule(self):\n",
    "        number_of_courses_for_all_classes_per_week = len(self.slots) # 240\n",
    "        number_of_course_types = len(self.schedule_courses)//len(self.schedule_rooms) \n",
    "        #counter_the_number_of_arranged_course = 1\n",
    "        initial_choice = [list(range(0,40)), list(range(40,80)),\\\n",
    "                          list(range(80,120)), list(range(120,160)),\\\n",
    "                          list(range(160,200)), list(range(200,240))]\n",
    "        \n",
    "        for course in self.schedule_courses:           \n",
    "            slotContent = courseInstructor(course, self.schedule_instructors[course.getCourseInstructorIndex() - 1])\n",
    "            classIndex=(int(course.id)+15)//number_of_course_types\n",
    "            InstructorIndex = course.getCourseInstructorIndex() # type(classIndex) is float\n",
    "            repeated_times_for_a_course = int(course.arrangement[1])\n",
    "            j = 0 \n",
    "            while j < repeated_times_for_a_course:\n",
    "                if len(initial_choice[classIndex - 1]) > 1:\n",
    "                    abondon_choice_1, abondon_choice_2 = random.sample(initial_choice[classIndex - 1], 2) \n",
    "                    abondon_choice = abondon_choice_2 if IsInstructorAvailable(classIndex, InstructorIndex, self.slots, abondon_choice_1)\\\n",
    "                    else abondon_choice_1\n",
    "                else: \n",
    "                    abondon_choice = initial_choice[classIndex - 1][0] \n",
    "                        \n",
    "                self.slots[abondon_choice].append(slotContent)\n",
    "                #print('OKAY! The {}th course :{}, place it to the {}th slot'.format(counter_the_number_of_arranged_course,course.getCourseName(), abondon_choice))\n",
    "                #counter_the_number_of_arranged_course += 1\n",
    "                #print(self.slots[abondon_choice][0].printCourseInstructorInfo()) # Different from Version1\n",
    "                initial_choice[classIndex - 1].remove(abondon_choice)\n",
    "                j = j + 1    "
   ]
  },
  {
   "cell_type": "markdown",
   "metadata": {},
   "source": [
    "# Test class `Schedule` locally"
   ]
  },
  {
   "cell_type": "code",
   "execution_count": 46,
   "metadata": {},
   "outputs": [],
   "source": [
    "ScheduleTable = Schedule(slots, rooms, courses, instructors )"
   ]
  },
  {
   "cell_type": "code",
   "execution_count": 47,
   "metadata": {},
   "outputs": [
    {
     "data": {
      "text/plain": [
       "0.002162933349609375"
      ]
     },
     "execution_count": 47,
     "metadata": {},
     "output_type": "execute_result"
    }
   ],
   "source": [
    "begin_time = time.time()\n",
    "ScheduleTable.createSchedule()\n",
    "cost_time = time.time() -begin_time\n",
    "cost_time"
   ]
  },
  {
   "cell_type": "code",
   "execution_count": 48,
   "metadata": {},
   "outputs": [
    {
     "data": {
      "text/plain": [
       "0.0022668838500976562"
      ]
     },
     "execution_count": 48,
     "metadata": {},
     "output_type": "execute_result"
    }
   ],
   "source": [
    "begin_time = time.time()\n",
    "i = 0\n",
    "while i < 1:\n",
    "    ScheduleTable.createSchedule()\n",
    "    i +=1 \n",
    "cost_time = time.time() -begin_time\n",
    "cost_time"
   ]
  },
  {
   "cell_type": "code",
   "execution_count": 49,
   "metadata": {},
   "outputs": [
    {
     "data": {
      "text/plain": [
       "0.18846392631530762"
      ]
     },
     "execution_count": 49,
     "metadata": {},
     "output_type": "execute_result"
    }
   ],
   "source": [
    "begin_time = time.time()\n",
    "i = 0\n",
    "while i < 100:\n",
    "    ScheduleTable.createSchedule()\n",
    "    i +=1 \n",
    "cost_time = time.time() -begin_time\n",
    "cost_time"
   ]
  },
  {
   "cell_type": "code",
   "execution_count": null,
   "metadata": {},
   "outputs": [],
   "source": [
    "for looptimes in list(range(100)):\n",
    "    begin_time = time.time()\n",
    "    i = 0\n",
    "    while i <= looptimes:\n",
    "        ScheduleTable.createSchedule()\n",
    "        i +=1 \n",
    "    cost_time = time.time() -begin_time\n",
    "    print('To create {} times, it cost {} seconds'.format(looptimes + 1,cost_time))"
   ]
  },
  {
   "cell_type": "markdown",
   "metadata": {},
   "source": [
    "**Turn the condition in to a function, like `IsInstructorAvailable`**. The logic in above snippet above is frank but not smart."
   ]
  },
  {
   "cell_type": "code",
   "execution_count": null,
   "metadata": {},
   "outputs": [],
   "source": [
    "ScheduleTable.inspectSchedule()"
   ]
  }
 ],
 "metadata": {
  "hide_input": false,
  "kernelspec": {
   "display_name": "Python 3",
   "language": "python",
   "name": "python3"
  },
  "language_info": {
   "codemirror_mode": {
    "name": "ipython",
    "version": 3
   },
   "file_extension": ".py",
   "mimetype": "text/x-python",
   "name": "python",
   "nbconvert_exporter": "python",
   "pygments_lexer": "ipython3",
   "version": "3.7.2"
  },
  "toc": {
   "base_numbering": 1,
   "nav_menu": {},
   "number_sections": true,
   "sideBar": true,
   "skip_h1_title": false,
   "title_cell": "Table of Contents",
   "title_sidebar": "Contents",
   "toc_cell": false,
   "toc_position": {
    "height": "calc(100% - 180px)",
    "left": "10px",
    "top": "150px",
    "width": "165px"
   },
   "toc_section_display": true,
   "toc_window_display": true
  },
  "varInspector": {
   "cols": {
    "lenName": 16,
    "lenType": 16,
    "lenVar": 40
   },
   "kernels_config": {
    "python": {
     "delete_cmd_postfix": "",
     "delete_cmd_prefix": "del ",
     "library": "var_list.py",
     "varRefreshCmd": "print(var_dic_list())"
    },
    "r": {
     "delete_cmd_postfix": ") ",
     "delete_cmd_prefix": "rm(",
     "library": "var_list.r",
     "varRefreshCmd": "cat(var_dic_list()) "
    }
   },
   "types_to_exclude": [
    "module",
    "function",
    "builtin_function_or_method",
    "instance",
    "_Feature"
   ],
   "window_display": false
  }
 },
 "nbformat": 4,
 "nbformat_minor": 2
}
