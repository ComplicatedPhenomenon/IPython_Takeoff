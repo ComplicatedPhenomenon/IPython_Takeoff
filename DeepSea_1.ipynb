{
 "cells": [
  {
   "cell_type": "markdown",
   "metadata": {},
   "source": [
    "### From Quora\n",
    "> Start at a level you understand, and gradually increase the complexity of the problems you are solving and the systems you are building.\n",
    "\n",
    "> Don't let yourself distracted by all the vanity. If you get shit done and can find someone who will pay you for it, you're at the best level of programming as far as I'm concerning."
   ]
  },
  {
   "cell_type": "markdown",
   "metadata": {},
   "source": [
    "### **The concepts become more abstract,with architecture more complex, programming makes good efficiency and contain more deep condense intelligence, meanwhile, leaving a long way for newbies, it is far away from experience-thinking **"
   ]
  },
  {
   "cell_type": "code",
   "execution_count": 41,
   "metadata": {
    "collapsed": false
   },
   "outputs": [
    {
     "name": "stdout",
     "output_type": "stream",
     "text": [
      "['wm']\n"
     ]
    }
   ],
   "source": [
    "x = []\n",
    "y = x\n",
    "y.append('wm')\n",
    "print x"
   ]
  },
  {
   "cell_type": "markdown",
   "metadata": {},
   "source": [
    "Why appending an element to y changed x too?\n",
    "I have a feeling what the outcome will be that we don't even think about it. And that feeling which always turn out to be wrong come from my ambiguous experirence.\n",
    "\n",
    "If you have resonable and sharpe judgement, you can draw the conclusion :\n",
    "\n",
    "* Variables are simply names refer to objects.Doing y = x doesn’t create a copy of the list – it creates a new variable y that refers to the same object x refers to. This means that there is only one object (the list), and both x and y refer to it.\n",
    "* lists are mutable, which means you can change the contents."
   ]
  },
  {
   "cell_type": "code",
   "execution_count": 23,
   "metadata": {
    "collapsed": false
   },
   "outputs": [
    {
     "name": "stdout",
     "output_type": "stream",
     "text": [
      "How many times?2\n",
      "<type 'str'>\n",
      "cheer up\n"
     ]
    }
   ],
   "source": [
    "how_many=raw_input(\"How many times?\")\n",
    "print type(how_many)\n",
    "for u in how_many:\n",
    "    print \"cheer up\""
   ]
  },
  {
   "cell_type": "code",
   "execution_count": 26,
   "metadata": {
    "collapsed": true
   },
   "outputs": [],
   "source": [
    "musicians=['Whitney Houston','Mariah Carey','Coldplay','Muse']\n",
    "songs=['I will always love you','without you','Vila vida','Time is running out']"
   ]
  },
  {
   "cell_type": "code",
   "execution_count": 27,
   "metadata": {
    "collapsed": false,
    "deletable": true,
    "editable": true
   },
   "outputs": [
    {
     "data": {
      "text/plain": [
       "list"
      ]
     },
     "execution_count": 27,
     "metadata": {},
     "output_type": "execute_result"
    }
   ],
   "source": [
    "type(songs)"
   ]
  },
  {
   "cell_type": "markdown",
   "metadata": {},
   "source": [
    "list should be combined together to construct as dictionary, the elements in two lists is connected."
   ]
  },
  {
   "cell_type": "code",
   "execution_count": 46,
   "metadata": {
    "collapsed": false
   },
   "outputs": [
    {
     "name": "stdout",
     "output_type": "stream",
     "text": [
      "[('Whitney Houston', 'I will always love you'), ('Mariah Carey', 'without you'), ('Coldplay', 'Vila vida'), ('Muse', 'Time is running out')]\n"
     ]
    }
   ],
   "source": [
    "list1 = zip(musicians,songs)\n",
    "print list1"
   ]
  },
  {
   "cell_type": "code",
   "execution_count": 43,
   "metadata": {
    "collapsed": false
   },
   "outputs": [
    {
     "name": "stdout",
     "output_type": "stream",
     "text": [
      "('Mariah Carey', 'without you')\n"
     ]
    }
   ],
   "source": [
    "print list1[1]"
   ]
  },
  {
   "cell_type": "code",
   "execution_count": 47,
   "metadata": {
    "collapsed": false
   },
   "outputs": [
    {
     "name": "stdout",
     "output_type": "stream",
     "text": [
      "<type 'list'>\n"
     ]
    }
   ],
   "source": [
    "print type(list1)"
   ]
  }
 ],
 "metadata": {
  "kernelspec": {
   "display_name": "Python 2",
   "language": "python",
   "name": "python2"
  },
  "language_info": {
   "codemirror_mode": {
    "name": "ipython",
    "version": 2
   },
   "file_extension": ".py",
   "mimetype": "text/x-python",
   "name": "python",
   "nbconvert_exporter": "python",
   "pygments_lexer": "ipython2",
   "version": "2.7.12"
  }
 },
 "nbformat": 4,
 "nbformat_minor": 2
}
