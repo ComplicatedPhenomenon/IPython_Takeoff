{
 "cells": [
  {
   "cell_type": "markdown",
   "metadata": {},
   "source": [
    "### [Spark入门攻略](http://www.csdn.net/article/2015-07-10/2825184)\n",
    "[1](https://dzone.com/refcardz/apache-spark)\n",
    "* 一、 为什么要使用Apache Spark\n",
    "    * **在几年前，只有少部分公司拥有足够的技术力量和资金去储存和挖掘大量数据，并对其挖掘从而获得洞见。然而，被雅虎2009年开源的Apache Hadoop对这一状况产生了颠覆性的冲击——通过使用商用服务器组成的集群大幅度地降低了海量数据处理的门槛。**\n",
    "\n",
    "Hadoop 的运行框架\n",
    "\n",
    "![Hadoop](http://img.ptcms.csdn.net/article/201507/10/559f8e8b69e65_middle.jpg?_=21288)\n",
    "\n",
    "产生的局限和新的解决办法\n",
    "\n",
    "Apache Spark是一个轻量级的内存集群计算平台，通过不同的组件来支撑批、流和交互式用例，\n",
    "* 二、 关于Apache Spark\n",
    "* 三、安装Apache Spark\n",
    "* 四、Apache Spark的工作模式\n",
    "* ...\n",
    "\n",
    "###  [Spark V.S Hadoop](http://www.admin10000.com/document/6529.html)\n",
    "现在的 Hadoop 包括两个主要的组件。第一个是大规模储存系统，叫做 Hadoop Distributed File System （HDFS），它以低功耗、高性能的方式储存数据，并且能优化大数据的种类和读取速度。第二个是一个计算引擎，叫做 YARN，它能在储存在 HDFS 上的数据顶层运行大规模并行程序。\n",
    "\n",
    "　　YARN 可以承载任何数量的程序框架。原始的框架是 MapReduce，它由谷歌发明，用于处理大规模页面抓取。Spark 是另一个类似的框架，另一个新的框架叫做 Tez。当人们谈论 Spark“干掉”Hadoop 时，他们往往指的是程序员更喜欢将 Spark 用在老的 MapReduce 框架上。"
   ]
  },
  {
   "cell_type": "markdown",
   "metadata": {},
   "source": [
    "\n",
    "### [How can I learn distributed frameworks like Spark and Hadoop if I only have a laptop and no distributed environment?](https://www.quora.com/How-can-I-learn-distributed-frameworks-like-Spark-and-Hadoop-if-I-only-have-a-laptop-and-no-distributed-environment/answer/Tony-Mason-10?share=b275dbce&srid=hSCmA)\n",
    "\n",
    "So let’s say you decide you want to implement Map/Reduce on some large easily shardable dataset - that leads you to Hadoop, because you need to have some way of sharing this vast dataset (I seem to recall the original Google datasets were up to 1TB in size - far larger than you could fit on a machine’s disk drive!) Fortunately, you could stick an external USB drive into your machine, stick virtual hard disks on it, and thus even simulate the kind of environment Google had originally (Hadoop is based upon the original Google work)."
   ]
  }
 ],
 "metadata": {
  "kernelspec": {
   "display_name": "Python 3",
   "language": "python",
   "name": "python3"
  },
  "language_info": {
   "codemirror_mode": {
    "name": "ipython",
    "version": 3
   },
   "file_extension": ".py",
   "mimetype": "text/x-python",
   "name": "python",
   "nbconvert_exporter": "python",
   "pygments_lexer": "ipython3",
   "version": "3.5.3"
  }
 },
 "nbformat": 4,
 "nbformat_minor": 2
}
