{
 "cells": [
  {
   "cell_type": "code",
   "execution_count": 7,
   "metadata": {},
   "outputs": [],
   "source": [
    "from __future__ import print_function\n",
    "\n",
    "# Import conventions we'll be using here. See Part 1\n",
    "import matplotlib\n",
    "matplotlib.use('nbagg')\n",
    "import matplotlib.pyplot as plt\n",
    "import numpy as np"
   ]
  },
  {
   "cell_type": "code",
   "execution_count": null,
   "metadata": {},
   "outputs": [],
   "source": [
    "datafile = open('DATAgg4.txt','r')\n",
    "data =  datafile.readlines() # Python File readlines() Method\n",
    "datafile.close()\n",
    "\n",
    "for row in data:\n",
    "    this_data = row.split()\n",
    "\n",
    "# print (type(this_data))\n",
    "\n",
    "S = []\n",
    "cs = []\n",
    "for row in data:\n",
    "    this_data = row.split()\n",
    "    S.append(float(this_data[0]))\n",
    "    cs.append(float(this_data[1]))\n",
    "\n",
    "#print ('\\n')\n",
    "#print (type(S))\n",
    "\n",
    "S = np.array([float(row.split()[0]) for row in data])\n",
    "CS = np.array([float(row.split()[1]) for row in data])\n",
    "#print (S)\n",
    "#print (CS)\n",
    "fig,ax = plt.subplots()\n",
    "ax.plot(S,CS,label='.') # turn pb into fb\n",
    "#plt.legend()\n",
    "#plt.title(r'$qq\\longrightarrow t\\bar{t}G_n$', fontsize=20)\n",
    "ax.set( xlabel='m')\n",
    "ax.legend()\n",
    "plt.show()"
   ]
  },
  {
   "cell_type": "markdown",
   "metadata": {},
   "source": [
    "`plt.subplots()` is a function that returns a tuple containing a `figure` and `axes` object(s). Thus when using `fig, ax = plt.subplots()` you unpack this tuple into the variables `fig` and `ax`. Having `fig` is useful if you want to change figure-level attributes or save the figure as an image file later (e.g. with fig.savefig('yourfilename.png'). You certainly don't have to use the returned figure object but many people do use it later so it's common to see. Also, all axes objects (the objects that have plotting methods), have a parent figure object anyway"
   ]
  },
  {
   "cell_type": "code",
   "execution_count": 5,
   "metadata": {},
   "outputs": [],
   "source": [
    "DATAgg1 = open('DATAgg1.txt','r')\n",
    "DATAgg2 = open('DATAgg2.txt','r')\n",
    "DATAgg3 = open('DATAgg3.txt','r')\n",
    "DATAgg4 = open('DATAgg4.txt','r')\n",
    "datagg1 =  DATAgg1.readlines() # Python File readlines() Method\n",
    "datagg2 =  DATAgg2.readlines()\n",
    "datagg3 =  DATAgg3.readlines()\n",
    "datagg4 =  DATAgg4.readlines()\n",
    "DATAgg1.close()\n",
    "DATAgg2.close()\n",
    "DATAgg3.close()\n",
    "DATAgg4.close()\n",
    "\n",
    "\n",
    "S1,S2,S3,S4 = [],[],[],[]\n",
    "CS1,CS2,CS3,CS4 = [],[],[],[]\n",
    "for row in datagg1:\n",
    "    gg1 = row.split()\n",
    "    S1.append(float(gg1[0]))\n",
    "    CS1.append(float(gg1[1]))\n",
    "for row in datagg2:\n",
    "    gg2 = row.split()\n",
    "    S2.append(float(gg2[0]))\n",
    "    CS2.append(float(gg2[1]))\n",
    "for row in datagg3:\n",
    "    gg3 = row.split()\n",
    "    S3.append(float(gg3[0]))\n",
    "    CS3.append(float(gg3[1]))\n",
    "for row in datagg4:\n",
    "    gg4 = row.split()\n",
    "    S4.append(float(gg4[0]))\n",
    "    CS4.append(float(gg4[1]))\n",
    "# print (type(this_data))\n",
    "\n",
    "if gs"
   ]
  },
  {
   "cell_type": "code",
   "execution_count": 3,
   "metadata": {},
   "outputs": [
    {
     "ename": "NameError",
     "evalue": "name '__main__' is not defined",
     "output_type": "error",
     "traceback": [
      "\u001b[0;31m---------------------------------------------------------------------------\u001b[0m",
      "\u001b[0;31mNameError\u001b[0m                                 Traceback (most recent call last)",
      "\u001b[0;32m<ipython-input-3-7c64649ea84b>\u001b[0m in \u001b[0;36m<module>\u001b[0;34m()\u001b[0m\n\u001b[1;32m     37\u001b[0m     \u001b[0mtestTree\u001b[0m\u001b[0;34m.\u001b[0m\u001b[0maddNode\u001b[0m\u001b[0;34m(\u001b[0m\u001b[0mtestTree\u001b[0m\u001b[0;34m.\u001b[0m\u001b[0mroot\u001b[0m\u001b[0;34m,\u001b[0m \u001b[0;36m30\u001b[0m\u001b[0;34m)\u001b[0m\u001b[0;34m\u001b[0m\u001b[0m\n\u001b[1;32m     38\u001b[0m     \u001b[0mtestTree\u001b[0m\u001b[0;34m.\u001b[0m\u001b[0mprintInorder\u001b[0m\u001b[0;34m(\u001b[0m\u001b[0mtestTree\u001b[0m\u001b[0;34m.\u001b[0m\u001b[0mroot\u001b[0m\u001b[0;34m)\u001b[0m\u001b[0;34m\u001b[0m\u001b[0m\n\u001b[0;32m---> 39\u001b[0;31m \u001b[0m__main__\u001b[0m\u001b[0;34m\u001b[0m\u001b[0m\n\u001b[0m",
      "\u001b[0;31mNameError\u001b[0m: name '__main__' is not defined"
     ]
    }
   ],
   "source": [
    "class TreeNode:\n",
    "    def __init__(self, value):\n",
    "        self.left = None;\n",
    "        self.right = None;\n",
    "        self.data = value;\n",
    "\n",
    "class Tree:\n",
    "    def __init__(self):\n",
    "        self.root = None;\n",
    "\n",
    "    def addNode(self, node, value):\n",
    "        if(node==None):\n",
    "            self.root = TreeNode(value);\n",
    "        else:\n",
    "            if(value<node.data):\n",
    "                if(node.left==None):\n",
    "                    node.left = TreeNode(value)\n",
    "                else:\n",
    "                    self.addNode(node.left, value);\n",
    "            else:\n",
    "                if(node.right==None):\n",
    "                    node.right = TreeNode(value)\n",
    "                else:\n",
    "                    self.addNode(node.right, value);\n",
    "\n",
    "    def printInorder(self, node):\n",
    "        if(node!=None):\n",
    "            self.printInorder(node.left)\n",
    "            print(node.data)\n",
    "            self.printInorder(node.right)\n",
    "\n",
    "def main():\n",
    "    testTree = Tree()\n",
    "    testTree.addNode(testTree.root, 200)\n",
    "    testTree.addNode(testTree.root, 300)\n",
    "    testTree.addNode(testTree.root, 100)\n",
    "    testTree.addNode(testTree.root, 30)\n",
    "    testTree.printInorder(testTree.root)\n",
    "__main__"
   ]
  },
  {
   "cell_type": "code",
   "execution_count": null,
   "metadata": {},
   "outputs": [],
   "source": []
  }
 ],
 "metadata": {
  "kernelspec": {
   "display_name": "Python 3",
   "language": "python",
   "name": "python3"
  },
  "language_info": {
   "codemirror_mode": {
    "name": "ipython",
    "version": 3
   },
   "file_extension": ".py",
   "mimetype": "text/x-python",
   "name": "python",
   "nbconvert_exporter": "python",
   "pygments_lexer": "ipython3",
   "version": "3.5.3"
  }
 },
 "nbformat": 4,
 "nbformat_minor": 2
}
