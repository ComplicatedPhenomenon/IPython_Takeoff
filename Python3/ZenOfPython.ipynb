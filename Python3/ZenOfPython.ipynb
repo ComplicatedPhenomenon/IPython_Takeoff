{
 "cells": [
  {
   "cell_type": "markdown",
   "metadata": {},
   "source": [
    "### Explicit is better than implicit\n",
    "\n",
    "code snippets\n",
    "```\n",
    "import math \n",
    "math.pi \n",
    "```\n",
    "and\n",
    "```\n",
    "from math import *\n",
    "pi\n",
    "```\n",
    "they are identical. but as for \n",
    "```\n",
    "from spam import *\n",
    "from eggs import *\n",
    "some_function()\n",
    "```\n",
    "it becomes quite difficult to see where\n",
    "some_function is defined.\n",
    "\n",
    "```\n",
    "import spam\n",
    "import eggs\n",
    "spam.some_function()\n",
    "eggs.some_function()\n",
    "```\n",
    "the later way is better\n",
    "\n",
    "### Errors should never pass silently"
   ]
  },
  {
   "cell_type": "markdown",
   "metadata": {},
   "source": [
    "[A real problem](https://stackoverflow.com/questions/46760847/check-if-a-string-is-all-unique-chars-except-for-spaces)"
   ]
  }
 ],
 "metadata": {
  "kernelspec": {
   "display_name": "Python 3",
   "language": "python",
   "name": "python3"
  },
  "language_info": {
   "codemirror_mode": {
    "name": "ipython",
    "version": 3
   },
   "file_extension": ".py",
   "mimetype": "text/x-python",
   "name": "python",
   "nbconvert_exporter": "python",
   "pygments_lexer": "ipython3",
   "version": "3.5.3"
  }
 },
 "nbformat": 4,
 "nbformat_minor": 2
}
