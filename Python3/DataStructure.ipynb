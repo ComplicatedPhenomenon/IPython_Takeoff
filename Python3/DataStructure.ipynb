{
 "cells": [
  {
   "cell_type": "markdown",
   "metadata": {},
   "source": [
    "[Explanation of this code snippet](https://stackoverflow.com/questions/46781420/if-not-found-and-item-value-in-python)\n",
    "\n",
    "What I can say? I am  so afraid to get an votedown that don't dare to ask very easily. "
   ]
  },
  {
   "cell_type": "code",
   "execution_count": null,
   "metadata": {
    "collapsed": true
   },
   "outputs": [],
   "source": [
    "def remove(items, value):\n",
    "    new_items = []\n",
    "    found = False\n",
    "    \n",
    "    for item in items:\n",
    "        if not found and item == value:  # request `not found` and `item == value` both to be true\n",
    "            found = True\n",
    "            continue\n",
    "        new_items.append(item)\n",
    "    if not found :   # since item == value is False jump here. and found is true here.\n",
    "        raise ValueError('list.remove(x): x not in list')\n",
    "        \n",
    "    return new_items"
   ]
  },
  {
   "cell_type": "markdown",
   "metadata": {},
   "source": [
    "[if not a && if a == none](https://stackoverflow.com/q/100732/7583919)\n",
    "\n",
    "when you do an if x or if not x kind of test, Python has to implicitly convert x to boolean"
   ]
  },
  {
   "cell_type": "code",
   "execution_count": null,
   "metadata": {
    "collapsed": true
   },
   "outputs": [],
   "source": [
    "items = list(range(10))"
   ]
  },
  {
   "cell_type": "code",
   "execution_count": null,
   "metadata": {
    "collapsed": true
   },
   "outputs": [],
   "source": [
    "items = remove(items, 5)"
   ]
  },
  {
   "cell_type": "code",
   "execution_count": null,
   "metadata": {},
   "outputs": [],
   "source": [
    "items"
   ]
  },
  {
   "cell_type": "code",
   "execution_count": null,
   "metadata": {},
   "outputs": [],
   "source": [
    "items = remove(items, 5)"
   ]
  },
  {
   "cell_type": "markdown",
   "metadata": {},
   "source": [
    "True is not False  [operator-precedence](https://docs.python.org/3/reference/expressions.html#operator-precedence)"
   ]
  },
  {
   "cell_type": "code",
   "execution_count": null,
   "metadata": {},
   "outputs": [],
   "source": [
    "print (True is not False)\n",
    "\n",
    "print (True is 5)\n",
    "\n",
    "# print (True == not False)\n",
    "\n",
    "print (True == (not False))"
   ]
  },
  {
   "cell_type": "code",
   "execution_count": null,
   "metadata": {
    "collapsed": true
   },
   "outputs": [],
   "source": [
    "lista = [1, 2, 3, 3, 4, 5, 5]"
   ]
  },
  {
   "cell_type": "code",
   "execution_count": null,
   "metadata": {},
   "outputs": [],
   "source": [
    "lista1=remove(lista,3)"
   ]
  },
  {
   "cell_type": "code",
   "execution_count": null,
   "metadata": {},
   "outputs": [],
   "source": [
    "lista1"
   ]
  },
  {
   "cell_type": "code",
   "execution_count": null,
   "metadata": {
    "collapsed": true
   },
   "outputs": [],
   "source": [
    "def remove(items, value):\n",
    "    new_items = []\n",
    "    for item in items:\n",
    "        if item == value :\n",
    "            continue\n",
    "        else :\n",
    "            new_items.append(item)\n",
    "    return new_items"
   ]
  },
  {
   "cell_type": "code",
   "execution_count": null,
   "metadata": {},
   "outputs": [],
   "source": [
    "list1 = [1, 2, 4, 5, 3, 4,5]\n"
   ]
  },
  {
   "cell_type": "code",
   "execution_count": null,
   "metadata": {},
   "outputs": [],
   "source": [
    "list1_1 = remove(list1, 4)"
   ]
  },
  {
   "cell_type": "code",
   "execution_count": null,
   "metadata": {},
   "outputs": [],
   "source": [
    "list1_1"
   ]
  },
  {
   "cell_type": "code",
   "execution_count": null,
   "metadata": {},
   "outputs": [],
   "source": [
    "list1_2 = remove(list1, 6) # will  might cause undefined behaviour which should be avoided."
   ]
  },
  {
   "cell_type": "code",
   "execution_count": null,
   "metadata": {},
   "outputs": [],
   "source": [
    "list1_2"
   ]
  },
  {
   "cell_type": "code",
   "execution_count": null,
   "metadata": {},
   "outputs": [],
   "source": [
    "def remove(items, value):\n",
    "    new_items = []\n",
    "    for item in items:\n",
    "        if item == value :\n",
    "            continue\n",
    "        else : \n",
    "            new_items.append(item)\n",
    "        if len(items) == len(new_items):\n",
    "            print(\"This value is not in the list\")\n",
    "    return new_items"
   ]
  }
 ],
 "metadata": {
  "kernelspec": {
   "display_name": "Python 3",
   "language": "python",
   "name": "python3"
  },
  "language_info": {
   "codemirror_mode": {
    "name": "ipython",
    "version": 3
   },
   "file_extension": ".py",
   "mimetype": "text/x-python",
   "name": "python",
   "nbconvert_exporter": "python",
   "pygments_lexer": "ipython3",
   "version": "3.5.3"
  }
 },
 "nbformat": 4,
 "nbformat_minor": 2
}
