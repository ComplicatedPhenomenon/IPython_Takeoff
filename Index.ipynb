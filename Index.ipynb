{
 "cells": [
  {
   "cell_type": "markdown",
   "metadata": {},
   "source": [
    "## Table of Contents\n",
    "### [Basic of Python](BasicsofPython.ipynb)\n",
    "- [Introduction to JN](WhythereisJupyterNB.ipynb)\n",
    "- [Python3](Python3Skeleton.ipynb)\n",
    "- [Data Strcuture](DataStructure.ipynb)\n",
    "\n",
    "### [Libraries](ScipyEcosystem.ipynb)\n",
    "- [Introduction to Numpy]()\n",
    "- [Introduction to Pandas]()\n",
    "- [Introduction to Matplotlib]()\n",
    "- [Introduction to sympy](Cadabra.ipynb)\n",
    "\n",
    "### [Machine Learning](MachineLearning.ipynb)\n",
    "- [Big Data](SparkIntroduction.ipynb)\n",
    "- [Hadoop and Spark](SparkIntroduction.ipynb)\n",
    "\n",
    "### [Back up](ZenOfPython.ipynb)\n",
    "\n",
    "- [Some tips](Project-requirements.ipynb)"
   ]
  }
 ],
 "metadata": {
  "kernelspec": {
   "display_name": "Python 3",
   "language": "python",
   "name": "python3"
  },
  "language_info": {
   "codemirror_mode": {
    "name": "ipython",
    "version": 3
   },
   "file_extension": ".py",
   "mimetype": "text/x-python",
   "name": "python",
   "nbconvert_exporter": "python",
   "pygments_lexer": "ipython3",
   "version": "3.6.3"
  },
  "latex_envs": {
   "LaTeX_envs_menu_present": true,
   "autocomplete": true,
   "bibliofile": "biblio.bib",
   "cite_by": "apalike",
   "current_citInitial": 1,
   "eqLabelWithNumbers": true,
   "eqNumInitial": 1,
   "hotkeys": {
    "equation": "Ctrl-E",
    "itemize": "Ctrl-I"
   },
   "labels_anchors": false,
   "latex_user_defs": false,
   "report_style_numbering": false,
   "user_envs_cfg": false
  }
 },
 "nbformat": 4,
 "nbformat_minor": 2
}
