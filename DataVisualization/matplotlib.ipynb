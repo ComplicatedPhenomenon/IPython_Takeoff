{
 "cells": [
  {
   "cell_type": "code",
   "execution_count": null,
   "metadata": {},
   "outputs": [],
   "source": [
    "from IPython.core.interactiveshell import InteractiveShell\n",
    "InteractiveShell.ast_node_interactivity = \"all\""
   ]
  },
  {
   "cell_type": "markdown",
   "metadata": {},
   "source": [
    "2019-05-19 10:30:05 \n",
    "* https://glowingpython.blogspot.com\n",
    "* https://github.com/rougier/matplotlib-tutorial"
   ]
  },
  {
   "cell_type": "code",
   "execution_count": null,
   "metadata": {},
   "outputs": [],
   "source": [
    "%matplotlib inline \n",
    "import matplotlib.pyplot as plt"
   ]
  },
  {
   "cell_type": "code",
   "execution_count": null,
   "metadata": {},
   "outputs": [],
   "source": [
    "import numpy as np\n",
    "import pandas as pd"
   ]
  },
  {
   "cell_type": "code",
   "execution_count": null,
   "metadata": {},
   "outputs": [],
   "source": [
    "from scipy.special import factorial"
   ]
  },
  {
   "cell_type": "code",
   "execution_count": null,
   "metadata": {},
   "outputs": [],
   "source": [
    "from mpl_toolkits.mplot3d import Axes3D"
   ]
  },
  {
   "cell_type": "code",
   "execution_count": null,
   "metadata": {},
   "outputs": [],
   "source": [
    "import plotly # (*) To communicate with Plotly's server, sign in with credentials file\n",
    "import plotly.plotly as py  # (*) Useful Python/Plotly tools\n",
    "import plotly.tools as tls   # (*) Graph objects to piece together plots\n",
    "from plotly.graph_objs import *"
   ]
  },
  {
   "cell_type": "code",
   "execution_count": null,
   "metadata": {},
   "outputs": [],
   "source": [
    "import datetime\n",
    "import random"
   ]
  },
  {
   "cell_type": "code",
   "execution_count": 10,
   "metadata": {},
   "outputs": [
    {
     "data": {
      "image/png": "[encoded data removed]",
      "text/plain": [
       "<Figure size 432x288 with 1 Axes>"
      ]
     },
     "metadata": {
      "needs_background": "light"
     },
     "output_type": "display_data"
    }
   ],
   "source": [
    "%matplotlib inline \n",
    "import matplotlib.pyplot as plt\n",
    "\n",
    "countries = [\"United Arab Emirates\", \"Central African Republic\", \"Bosnia and Herzegovina\"]\n",
    "population = [9770529, 4745185, 3301000]\n",
    "\n",
    "\n",
    "x = plt.bar(range(len(countries)), population)\n",
    "\n",
    "plt.title(\"Countries in the world by population (2019)\")     \n",
    "plt.ylabel(\"population\")   \n",
    "\n",
    "plt.xticks(range(len(countries)), countries, rotation='40')\n",
    "plt.yscale('log')\n",
    "\n",
    "plt.show()"
   ]
  },
  {
   "cell_type": "markdown",
   "metadata": {},
   "source": [
    "# 3D plot"
   ]
  },
  {
   "cell_type": "code",
   "execution_count": null,
   "metadata": {},
   "outputs": [],
   "source": [
    "X = np.arange(-5, 5, 0.25)\n",
    "Y = np.arange(-5, 5, 0.25)\n",
    "X, Y = np.meshgrid(X, Y)\n",
    "R = np.sqrt(X**2 + Y**2)\n",
    "Z = np.sin(R)\n",
    "\n",
    "fig = plt.figure()\n",
    "ax = Axes3D(fig)\n",
    "# ax.plot_surface(X, Y, Z, rstride=1, cstride=1, cmap=cm.viridis)\n",
    "ax.plot_surface(X, Y, Z, rstride=1, cstride=1)\n",
    "\n",
    "plt.show()"
   ]
  },
  {
   "cell_type": "markdown",
   "metadata": {},
   "source": [
    "# Multicolor line"
   ]
  },
  {
   "cell_type": "code",
   "execution_count": null,
   "metadata": {},
   "outputs": [],
   "source": [
    "x = np.linspace(0,100,100)\n",
    "y = x\n",
    "\n",
    "plt.plot(x[:50], y[:50],'r')\n",
    "plt.plot(x[50:], y[50:], 'g')\n",
    "plt.show()"
   ]
  },
  {
   "cell_type": "code",
   "execution_count": null,
   "metadata": {},
   "outputs": [],
   "source": [
    "y = numpy.random.choice(10,10)\n",
    "y \n",
    "for x1, x2, y1,y2 in zip(x, x[1:], y, y[1:]):\n",
    "    print([x1, x2], [y1, y2] )"
   ]
  },
  {
   "cell_type": "code",
   "execution_count": null,
   "metadata": {},
   "outputs": [],
   "source": [
    "import numpy\n",
    "from matplotlib import pyplot as plt\n",
    "\n",
    "x = range(10)\n",
    "y = numpy.random.choice(10,10)\n",
    "for x1, x2, y1,y2 in zip(x, x[1:], y, y[1:]):\n",
    "    if y1 > y2:\n",
    "        plt.plot([x1, x2], [y1, y2], 'r')\n",
    "    elif y1 < y2:\n",
    "        plt.plot([x1, x2], [y1, y2], 'g')\n",
    "    else:\n",
    "        plt.plot([x1, x2], [y1, y2], 'b')\n",
    "\n",
    "plt.show()"
   ]
  },
  {
   "cell_type": "code",
   "execution_count": null,
   "metadata": {},
   "outputs": [],
   "source": [
    "#!/usr/bin/env python\n",
    "'''\n",
    "Color parts of a line based on its properties, e.g., slope.\n",
    "'''\n",
    "import numpy as np\n",
    "import matplotlib.pyplot as plt\n",
    "from matplotlib.collections import LineCollection\n",
    "from matplotlib.colors import ListedColormap, BoundaryNorm\n",
    "\n",
    "x = np.linspace(0, 3 * np.pi, 500)\n",
    "y = np.sin(x)\n",
    "z = np.cos(0.5 * (x[:-1] + x[1:]))  # first derivative\n",
    "\n",
    "# Create a colormap for red, green and blue and a norm to color\n",
    "# f' < -0.5 red, f' > 0.5 blue, and the rest green\n",
    "cmap = ListedColormap(['r', 'g', 'b'])\n",
    "norm = BoundaryNorm([-1, -0.5, 0.5, 1], cmap.N)\n",
    "\n",
    "# Create a set of line segments so that we can color them individually\n",
    "# This creates the points as a N x 1 x 2 array so that we can stack points\n",
    "# together easily to get the segments. The segments array for line collection\n",
    "# needs to be numlines x points per line x 2 (x and y)\n",
    "points = np.array([x, y]).T.reshape(-1, 1, 2)\n",
    "segments = np.concatenate([points[:-1], points[1:]], axis=1)\n",
    "\n",
    "# Create the line collection object, setting the colormapping parameters.\n",
    "# Have to set the actual values used for colormapping separately.\n",
    "lc = LineCollection(segments, cmap=cmap, norm=norm)\n",
    "lc.set_array(z)\n",
    "lc.set_linewidth(3)\n",
    "plt.gca().add_collection(lc)\n",
    "\n",
    "plt.xlim(x.min(), x.max())\n",
    "plt.ylim(-1.1, 1.1)\n",
    "plt.show()"
   ]
  },
  {
   "cell_type": "markdown",
   "metadata": {},
   "source": [
    "# How to plot a function using matplotlib?"
   ]
  },
  {
   "cell_type": "code",
   "execution_count": null,
   "metadata": {},
   "outputs": [],
   "source": [
    "font = {'family': 'serif',\n",
    "        'color':  'darkred',\n",
    "        'weight': 'normal',\n",
    "        'size': 16,\n",
    "        }\n",
    "t = np.arange(0, 211, 0.1)\n",
    "d = np.exp(-5)*np.power(5, t)/factorial(t)"
   ]
  },
  {
   "cell_type": "code",
   "execution_count": null,
   "metadata": {},
   "outputs": [],
   "source": [
    "def xx():\n",
    "    plt.plot(t, d)\n",
    "xx()   \n",
    "plt.text(10, 0.15, r'$\\frac{e^{-5}5^t}{t!}$', fontdict=font) \n",
    "plt.xlabel('t', fontdict=font) \n",
    "plt.show() "
   ]
  },
  {
   "cell_type": "code",
   "execution_count": null,
   "metadata": {},
   "outputs": [],
   "source": [
    "color = ['r','b','g']\n",
    "mark = ['-', '--',':']\n",
    "tag = ['aa', 'xx', 'zz']\n",
    "for i in range(0,3):\n",
    "    plt.plot(t, d+0.01*i, color[i], label = tag[i],lw=1.5, linestyle=mark[i])\n",
    "    plt.text(10, 0.15, r'$\\frac{e^{-5}5^t}{t!}$', fontdict=font) \n",
    "    plt.xlabel('t', fontdict=font) \n",
    "    plt.legend()\n",
    "plt.show() "
   ]
  },
  {
   "cell_type": "markdown",
   "metadata": {},
   "source": [
    "<span style=\"font-family:New York Times;font-size:1.2 em; color:green;\">\n",
    "Will module numpy replace module math? "
   ]
  },
  {
   "cell_type": "markdown",
   "metadata": {},
   "source": [
    "# pandas plot"
   ]
  },
  {
   "cell_type": "code",
   "execution_count": null,
   "metadata": {},
   "outputs": [],
   "source": [
    "data = {'A': {'pos': 289794, 'neg': 515063},\n",
    "        'B': {'pos': 174790, 'neg': 292551},\n",
    "        'C': {'pos': 375574, 'neg': 586616},\n",
    "        'D': {'pos': 14932, 'neg': 8661}}\n",
    "df = pd.DataFrame(data)"
   ]
  },
  {
   "cell_type": "code",
   "execution_count": null,
   "metadata": {},
   "outputs": [],
   "source": [
    " df[['A','B','C','D']].plot(kind='bar', title =\"V comp\", figsize=(8, 6), legend=True, fontsize=12)"
   ]
  },
  {
   "cell_type": "code",
   "execution_count": null,
   "metadata": {},
   "outputs": [],
   "source": [
    "data = {'A': {'pos': 289794, 'neg': 515063},\n",
    "        'B': {'pos': 174790, 'neg': 292551},\n",
    "        'C': {'pos': 375574, 'neg': 586616},\n",
    "        'D': {'pos': 14932, 'neg': 8661}}\n",
    "df = pd.DataFrame(data)\n",
    "df = df.T\n",
    "df ['sum'] = df.sum(axis=1)\n",
    "df.sort_values('sum', ascending=False)[['neg','pos']].plot.bar() "
   ]
  },
  {
   "cell_type": "markdown",
   "metadata": {},
   "source": [
    "## [Writing mathmatical expression](https://matplotlib.org/users/mathtext.html)"
   ]
  },
  {
   "cell_type": "markdown",
   "metadata": {},
   "source": [
    "$$2(e^t-1)\\displaystyle\\sum_{n = 2}^{\\infty} \\frac{(-1)^{n+1}}{n(n^2-1)}e^{-n^2t}\\sin nx$$"
   ]
  },
  {
   "cell_type": "markdown",
   "metadata": {},
   "source": [
    "* https://glowingpython.blogspot.com/2011/04/how-to-plot-function-using-matplotlib.html"
   ]
  },
  {
   "cell_type": "code",
   "execution_count": null,
   "metadata": {
    "scrolled": true
   },
   "outputs": [],
   "source": [
    "x = np.linspace(-15,15,100) # 100 linearly spaced numbers\n",
    "y = np.sin(x)/x # computing the values of sin(x)/x\n",
    "\n",
    "# compose plot\n",
    "plt.plot(x,y, x,2*y,x,3*y, x,y+0.2,) # 2*sin(x)/x and 3*sin(x)/x\n",
    "plt.show() # show the plot"
   ]
  },
  {
   "cell_type": "markdown",
   "metadata": {},
   "source": [
    "## Optimize the look\n",
    "[Advice from advanced user on Matplotlib](http://www.randalolson.com/2014/06/28/how-to-make-beautiful-data-visualizations-in-python-with-matplotlib/)\n",
    "* Less is more attractive\n",
    "* Less is more impactive\n",
    "\n"
   ]
  },
  {
   "cell_type": "markdown",
   "metadata": {},
   "source": [
    "# Interactive matplotlib"
   ]
  },
  {
   "cell_type": "markdown",
   "metadata": {},
   "source": [
    "##  Turn your matplotlib plot into an interactive."
   ]
  },
  {
   "cell_type": "markdown",
   "metadata": {},
   "source": [
    "thanks to plot.ly, it only takes one more line of code to turn your matplotlib plot into an interactive."
   ]
  },
  {
   "cell_type": "markdown",
   "metadata": {},
   "source": [
    "### Method 1 "
   ]
  },
  {
   "cell_type": "code",
   "execution_count": null,
   "metadata": {},
   "outputs": [],
   "source": [
    "x = np.linspace(-15,15,100) # 100 linearly spaced numbers\n",
    "y = np.sin(x)/x # computing the values of sin(x)/x\n",
    "\n",
    "# compose plot\n",
    "plt.plot(x,y, x,2*y,x,3*y, x,y+0.2,) # 2*sin(x)/x and 3*sin(x)/x\n",
    "# get the figure object and assign it to a variable\n",
    "xfig = plt.gcf()\n",
    "#send our matplotlib figure object to py.iplot_mpl, give it a file name as keyword argument l\n",
    "py.iplot_mpl(xfig,  filename='ff' )"
   ]
  },
  {
   "cell_type": "markdown",
   "metadata": {},
   "source": [
    "### Method 2"
   ]
  },
  {
   "cell_type": "code",
   "execution_count": null,
   "metadata": {},
   "outputs": [],
   "source": [
    "import plotly.offline as py\n",
    "from plotly.offline import init_notebook_mode, iplot\n",
    "import plotly.tools as tls\n",
    "import matplotlib.pylab as plt\n",
    "from matplotlib.backends.backend_agg import FigureCanvasAgg as FigureCanvas\n",
    "\n",
    "\n",
    "init_notebook_mode(connected=True)\n",
    "fig = plt.Figure()\n",
    "ax = fig.gca()\n",
    "x = [-2,0,4,6,7]\n",
    "y = [q**2-q+3 for q in x]\n",
    "ax.plot(x,y)\n",
    "canvas = FigureCanvas(fig)\n",
    "plotly_fig = tls.mpl_to_plotly(fig)\n",
    "py.iplot(plotly_fig)"
   ]
  }
 ],
 "metadata": {
  "hide_input": false,
  "kernelspec": {
   "display_name": "Python 3",
   "language": "python",
   "name": "python3"
  },
  "language_info": {
   "codemirror_mode": {
    "name": "ipython",
    "version": 3
   },
   "file_extension": ".py",
   "mimetype": "text/x-python",
   "name": "python",
   "nbconvert_exporter": "python",
   "pygments_lexer": "ipython3",
   "version": "3.7.2"
  },
  "toc": {
   "base_numbering": 1,
   "nav_menu": {},
   "number_sections": true,
   "sideBar": true,
   "skip_h1_title": false,
   "title_cell": "Table of Contents",
   "title_sidebar": "Contents",
   "toc_cell": false,
   "toc_position": {},
   "toc_section_display": true,
   "toc_window_display": true
  },
  "varInspector": {
   "cols": {
    "lenName": 16,
    "lenType": 16,
    "lenVar": 40
   },
   "kernels_config": {
    "python": {
     "delete_cmd_postfix": "",
     "delete_cmd_prefix": "del ",
     "library": "var_list.py",
     "varRefreshCmd": "print(var_dic_list())"
    },
    "r": {
     "delete_cmd_postfix": ") ",
     "delete_cmd_prefix": "rm(",
     "library": "var_list.r",
     "varRefreshCmd": "cat(var_dic_list()) "
    }
   },
   "types_to_exclude": [
    "module",
    "function",
    "builtin_function_or_method",
    "instance",
    "_Feature"
   ],
   "window_display": false
  }
 },
 "nbformat": 4,
 "nbformat_minor": 2
}
