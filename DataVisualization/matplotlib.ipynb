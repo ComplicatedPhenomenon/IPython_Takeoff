{
 "cells": [
  {
   "cell_type": "code",
   "execution_count": null,
   "metadata": {
    "ExecuteTime": {
     "end_time": "2020-02-02T11:22:34.457480Z",
     "start_time": "2020-02-02T11:22:34.451976Z"
    }
   },
   "outputs": [],
   "source": [
    "from IPython.core.interactiveshell import InteractiveShell\n",
    "InteractiveShell.ast_node_interactivity = \"all\""
   ]
  },
  {
   "cell_type": "markdown",
   "metadata": {},
   "source": [
    "* https://glowingpython.blogspot.com\n",
    "* https://github.com/rougier/matplotlib-tutorial"
   ]
  },
  {
   "cell_type": "markdown",
   "metadata": {},
   "source": [
    "![](../figure/xmind/matplotlib.png)\n",
    "https://realpython.com/python-matplotlib-guide/"
   ]
  },
  {
   "cell_type": "code",
   "execution_count": null,
   "metadata": {
    "ExecuteTime": {
     "end_time": "2020-02-02T10:27:35.590970Z",
     "start_time": "2020-02-02T10:27:31.537414Z"
    }
   },
   "outputs": [],
   "source": [
    "%matplotlib inline \n",
    "import matplotlib.pyplot as plt"
   ]
  },
  {
   "cell_type": "code",
   "execution_count": null,
   "metadata": {
    "ExecuteTime": {
     "end_time": "2020-02-02T10:27:39.121377Z",
     "start_time": "2020-02-02T10:27:35.593101Z"
    }
   },
   "outputs": [],
   "source": [
    "import numpy as np\n",
    "import pandas as pd"
   ]
  },
  {
   "cell_type": "code",
   "execution_count": null,
   "metadata": {
    "ExecuteTime": {
     "end_time": "2020-02-02T10:27:48.655638Z",
     "start_time": "2020-02-02T10:27:39.125727Z"
    }
   },
   "outputs": [],
   "source": [
    "import plotly # (*) To communicate with Plotly's server, sign in with credentials file\n",
    "import chart_studio.plotly as py  # (*) Useful Python/Plotly tools\n",
    "import plotly.tools as tls   # (*) Graph objects to piece together plots\n",
    "from plotly.graph_objs import *"
   ]
  },
  {
   "cell_type": "code",
   "execution_count": null,
   "metadata": {
    "ExecuteTime": {
     "end_time": "2020-02-02T10:27:49.606740Z",
     "start_time": "2020-02-02T10:27:49.483454Z"
    }
   },
   "outputs": [],
   "source": [
    "?plt.plot"
   ]
  },
  {
   "cell_type": "code",
   "execution_count": null,
   "metadata": {
    "ExecuteTime": {
     "end_time": "2020-02-02T12:59:39.028266Z",
     "start_time": "2020-02-02T12:59:38.071945Z"
    }
   },
   "outputs": [],
   "source": [
    "countries = [\"United Arab Emirates\", \"Central African Republic\", \"Bosnia and Herzegovina\"]\n",
    "population = [9770529, 4745185, 3301000]\n",
    "\n",
    "_ = plt.xlabel(\"Countries\")\n",
    "_ = plt.bar(range(len(countries)), population)\n",
    "\n",
    "_ = plt.title(\"Countries in the world by population (2019)\")   \n",
    "#_ = plt.xlabel(\"Countries\")\n",
    "_ = plt.ylabel(\"Population\")   \n",
    "\n",
    "_ = plt.xticks(range(len(countries)), countries, rotation='40')\n",
    "_ = plt.yscale('log')\n",
    "\n",
    "plt.show()"
   ]
  },
  {
   "cell_type": "code",
   "execution_count": null,
   "metadata": {
    "ExecuteTime": {
     "end_time": "2020-02-02T12:59:42.554349Z",
     "start_time": "2020-02-02T12:59:42.544432Z"
    }
   },
   "outputs": [],
   "source": [
    "plt.get_backend()"
   ]
  },
  {
   "cell_type": "markdown",
   "metadata": {},
   "source": [
    "# 3D plot"
   ]
  },
  {
   "cell_type": "code",
   "execution_count": null,
   "metadata": {
    "ExecuteTime": {
     "end_time": "2020-02-02T12:59:45.656208Z",
     "start_time": "2020-02-02T12:59:44.949842Z"
    },
    "scrolled": true
   },
   "outputs": [],
   "source": [
    "from mpl_toolkits.mplot3d import Axes3D\n",
    "# Object oriented Programming\n",
    "\n",
    "X = np.arange(-5, 5, 0.25)\n",
    "Y = np.arange(-5, 5, 0.25)\n",
    "X, Y = np.meshgrid(X, Y)\n",
    "R = np.sqrt(X**2 + Y**2)\n",
    "Z = np.sin(R)\n",
    "\n",
    "# Create an object of figure\n",
    "fig = plt.figure()\n",
    "\n",
    "# Create an object of axes\n",
    "ax = Axes3D(fig)\n",
    "\n",
    "_ = ax.plot_surface(X, Y, Z, rstride=1, cstride=1)\n",
    "\n",
    "\n",
    "plt.style.use('ggplot')\n",
    "plt.show()"
   ]
  },
  {
   "cell_type": "markdown",
   "metadata": {},
   "source": [
    "# Multicolor line"
   ]
  },
  {
   "cell_type": "markdown",
   "metadata": {},
   "source": [
    "> Python中的函数式编程是通过封装对象实现的。matplotlib中的函数式调用其实也是如此。matplotlib本质上还是构建对象来构建图像函数式编程将构建对象的过程封装在函数中，从而让我们觉得很方便。"
   ]
  },
  {
   "cell_type": "code",
   "execution_count": null,
   "metadata": {
    "ExecuteTime": {
     "end_time": "2020-02-02T10:28:40.288154Z",
     "start_time": "2020-02-02T10:28:40.083844Z"
    }
   },
   "outputs": [],
   "source": [
    "x = np.linspace(0,100,100)\n",
    "y = x\n",
    "\n",
    "_ = plt.plot(x[:50], y[:50], color = 'r')\n",
    "_ = plt.plot(x[50:], y[50:], color = 'g')\n",
    "plt.show()"
   ]
  },
  {
   "cell_type": "code",
   "execution_count": null,
   "metadata": {
    "ExecuteTime": {
     "end_time": "2020-02-02T10:28:48.005985Z",
     "start_time": "2020-02-02T10:28:47.973624Z"
    }
   },
   "outputs": [],
   "source": [
    "y = np.random.choice(10,10)\n",
    "y \n",
    "for x1, x2, y1,y2 in zip(x, x[1:], y, y[1:]):\n",
    "    print([x1, x2], [y1, y2] )"
   ]
  },
  {
   "cell_type": "code",
   "execution_count": null,
   "metadata": {
    "ExecuteTime": {
     "end_time": "2020-02-02T10:28:51.384730Z",
     "start_time": "2020-02-02T10:28:51.206671Z"
    }
   },
   "outputs": [],
   "source": [
    "x = range(10)\n",
    "y = np.random.choice(10,10)\n",
    "for x1, x2, y1,y2 in zip(x, x[1:], y, y[1:]):\n",
    "    if y1 > y2:\n",
    "        _ = plt.plot([x1, x2], [y1, y2], 'r')\n",
    "    elif y1 < y2:\n",
    "        _ = plt.plot([x1, x2], [y1, y2], 'g')\n",
    "    else:\n",
    "        _ = plt.plot([x1, x2], [y1, y2], 'b')\n",
    "\n",
    "plt.show()"
   ]
  },
  {
   "cell_type": "markdown",
   "metadata": {},
   "source": [
    "<span style=\"font-family:New York Times;font-size:1.2 em; color:green;\">\n",
    "Will module numpy replace module math? "
   ]
  },
  {
   "cell_type": "markdown",
   "metadata": {},
   "source": [
    "# pandas plot"
   ]
  },
  {
   "cell_type": "code",
   "execution_count": null,
   "metadata": {
    "ExecuteTime": {
     "end_time": "2020-02-02T13:00:03.523419Z",
     "start_time": "2020-02-02T13:00:03.487062Z"
    }
   },
   "outputs": [],
   "source": [
    "data = {'A': {'pos': 289794, 'neg': 515063},\n",
    "        'B': {'pos': 174790, 'neg': 292551},\n",
    "        'C': {'pos': 375574, 'neg': 586616},\n",
    "        'D': {'pos': 14932, 'neg': 8661}}\n",
    "df = pd.DataFrame(data)"
   ]
  },
  {
   "cell_type": "code",
   "execution_count": null,
   "metadata": {
    "ExecuteTime": {
     "end_time": "2020-02-02T13:00:04.315016Z",
     "start_time": "2020-02-02T13:00:04.024693Z"
    }
   },
   "outputs": [],
   "source": [
    "df[['A', 'B', 'C', 'D']].plot(kind='bar',\n",
    "                              title=\"V comp\",\n",
    "                              figsize=(8, 6),\n",
    "                              legend=True,\n",
    "                              fontsize=12)"
   ]
  },
  {
   "cell_type": "code",
   "execution_count": null,
   "metadata": {},
   "outputs": [],
   "source": [
    "data = {'A': {'pos': 289794, 'neg': 515063},\n",
    "        'B': {'pos': 174790, 'neg': 292551},\n",
    "        'C': {'pos': 375574, 'neg': 586616},\n",
    "        'D': {'pos': 14932, 'neg': 8661}}\n",
    "df = pd.DataFrame(data)\n",
    "df = df.T\n",
    "df ['sum'] = df.sum(axis=1)\n",
    "df.sort_values('sum', ascending=False)[['neg','pos']].plot.bar() "
   ]
  },
  {
   "cell_type": "markdown",
   "metadata": {},
   "source": [
    "## [Writing mathmatical expression](https://matplotlib.org/users/mathtext.html)"
   ]
  },
  {
   "cell_type": "markdown",
   "metadata": {},
   "source": [
    "$$2(e^t-1)\\displaystyle\\sum_{n = 2}^{\\infty} \\frac{(-1)^{n+1}}{n(n^2-1)}e^{-n^2t}\\sin nx$$"
   ]
  },
  {
   "cell_type": "markdown",
   "metadata": {},
   "source": [
    "* https://glowingpython.blogspot.com/2011/04/how-to-plot-function-using-matplotlib.html"
   ]
  },
  {
   "cell_type": "code",
   "execution_count": null,
   "metadata": {
    "ExecuteTime": {
     "end_time": "2019-11-28T14:51:10.153039Z",
     "start_time": "2019-11-28T14:51:09.917112Z"
    },
    "scrolled": true
   },
   "outputs": [],
   "source": [
    "x = np.linspace(-15,15,100) # 100 linearly spaced numbers\n",
    "y = np.sin(x)/x # computing the values of sin(x)/x\n",
    "\n",
    "# compose plot\n",
    "_ = plt.plot(x,y, x,2*y,x,3*y, x,y+0.2,) # 2*sin(x)/x and 3*sin(x)/x"
   ]
  },
  {
   "cell_type": "code",
   "execution_count": null,
   "metadata": {
    "ExecuteTime": {
     "end_time": "2019-11-28T14:55:40.576795Z",
     "start_time": "2019-11-28T14:55:40.282216Z"
    },
    "scrolled": true
   },
   "outputs": [],
   "source": [
    "x = np.linspace(-15,15,100) # 100 linearly spaced numbers\n",
    "y = np.sin(x)/x # computing the values of sin(x)/x\n",
    "\n",
    "# compose plot\n",
    "fig = plt.figure()\n",
    "ax = fig.add_axes([0,0,1,1])\n",
    "_ = ax.set_title(r\"$\\frac{\\sin(x)}{x}$\")\n",
    "_ = ax.plot(x,y, x,2*y,x,3*y, x,y+0.2,) # 2*sin(x)/x and 3*sin(x)/x"
   ]
  },
  {
   "cell_type": "markdown",
   "metadata": {},
   "source": [
    "## Optimize the look\n",
    "[Advice from advanced user on Matplotlib](http://www.randalolson.com/2014/06/28/how-to-make-beautiful-data-visualizations-in-python-with-matplotlib/)\n",
    "* Less is more attractive\n",
    "* Less is more impactive\n",
    "\n"
   ]
  },
  {
   "cell_type": "markdown",
   "metadata": {},
   "source": [
    "# Interactive matplotlib"
   ]
  },
  {
   "cell_type": "markdown",
   "metadata": {},
   "source": [
    "##  Turn your matplotlib plot into an interactive."
   ]
  },
  {
   "cell_type": "markdown",
   "metadata": {},
   "source": [
    "thanks to plot.ly, it only takes one more line of code to turn your matplotlib plot into an interactive."
   ]
  },
  {
   "cell_type": "code",
   "execution_count": null,
   "metadata": {
    "ExecuteTime": {
     "end_time": "2020-02-02T10:38:09.094962Z",
     "start_time": "2020-02-02T10:37:55.613890Z"
    }
   },
   "outputs": [],
   "source": [
    "x = np.linspace(-15,15,100) \n",
    "y = np.sin(x)/x  # computing the values of sin(x)/x\n",
    "\n",
    "# compose plot\n",
    "_ = plt.plot(x, y, x, 2 * y, x, 3 * y, x, y + 0.2,) # 2*sin(x)/x and 3*sin(x)/x\n",
    "# get the figure object and assign it to a variable\n",
    "_ = xfig = plt.gcf()\n",
    "#send our matplotlib figure object to py.iplot_mpl, give it a file name as keyword argument l\n",
    "py.iplot_mpl(xfig)"
   ]
  },
  {
   "cell_type": "markdown",
   "metadata": {},
   "source": [
    "# Data visualization"
   ]
  },
  {
   "cell_type": "markdown",
   "metadata": {},
   "source": [
    "## prepare data for plotting"
   ]
  },
  {
   "cell_type": "markdown",
   "metadata": {},
   "source": [
    "### observe data"
   ]
  },
  {
   "cell_type": "code",
   "execution_count": null,
   "metadata": {
    "ExecuteTime": {
     "end_time": "2020-02-02T14:54:09.918954Z",
     "start_time": "2020-02-02T14:54:09.888251Z"
    }
   },
   "outputs": [],
   "source": [
    "df = pd.read_csv(\"../data/kaggle/cost-of-living.csv\")"
   ]
  },
  {
   "cell_type": "markdown",
   "metadata": {},
   "source": [
    "Inspect cities you are interested"
   ]
  },
  {
   "cell_type": "code",
   "execution_count": null,
   "metadata": {
    "ExecuteTime": {
     "end_time": "2020-02-02T14:54:31.430359Z",
     "start_time": "2020-02-02T14:54:31.421599Z"
    }
   },
   "outputs": [],
   "source": [
    "df.shape\n",
    "df.columns"
   ]
  },
  {
   "cell_type": "code",
   "execution_count": null,
   "metadata": {
    "ExecuteTime": {
     "end_time": "2020-02-02T11:03:29.223236Z",
     "start_time": "2020-02-02T11:03:29.206248Z"
    }
   },
   "outputs": [],
   "source": [
    "type(df.iloc[12])"
   ]
  },
  {
   "cell_type": "code",
   "execution_count": null,
   "metadata": {
    "ExecuteTime": {
     "end_time": "2020-02-02T11:20:21.579865Z",
     "start_time": "2020-02-02T11:20:21.573241Z"
    }
   },
   "outputs": [],
   "source": [
    "df.iloc[12].index"
   ]
  },
  {
   "cell_type": "code",
   "execution_count": null,
   "metadata": {
    "ExecuteTime": {
     "end_time": "2020-02-02T11:55:31.107162Z",
     "start_time": "2020-02-02T11:55:31.096128Z"
    }
   },
   "outputs": [],
   "source": [
    "df.iloc[12][['Saint Petersburg, Russia','Sydney, Australia']]"
   ]
  },
  {
   "cell_type": "code",
   "execution_count": null,
   "metadata": {
    "ExecuteTime": {
     "end_time": "2020-02-02T11:22:43.436413Z",
     "start_time": "2020-02-02T11:22:43.420320Z"
    }
   },
   "outputs": [],
   "source": [
    "df.iloc[12].index[2]\n",
    "df.iloc[12][2]"
   ]
  },
  {
   "cell_type": "code",
   "execution_count": null,
   "metadata": {
    "ExecuteTime": {
     "end_time": "2020-02-02T14:55:49.219023Z",
     "start_time": "2020-02-02T14:55:49.208849Z"
    }
   },
   "outputs": [],
   "source": [
    "df.iloc[:, 0]"
   ]
  },
  {
   "cell_type": "markdown",
   "metadata": {},
   "source": [
    "### Inspect index and value of Series  "
   ]
  },
  {
   "cell_type": "code",
   "execution_count": null,
   "metadata": {
    "ExecuteTime": {
     "end_time": "2020-02-02T11:30:24.018674Z",
     "start_time": "2020-02-02T11:30:24.008028Z"
    }
   },
   "outputs": [],
   "source": [
    "df.iloc[12][1:]"
   ]
  },
  {
   "cell_type": "code",
   "execution_count": null,
   "metadata": {
    "ExecuteTime": {
     "end_time": "2020-02-02T11:32:44.897837Z",
     "start_time": "2020-02-02T11:32:44.876206Z"
    }
   },
   "outputs": [],
   "source": [
    "df.iloc[12][1:].astype(float).max() \n",
    "df.iloc[12][1:].astype(float).idxmax() \n",
    "df.iloc[12][df.iloc[12][1:].astype(float).idxmax()]"
   ]
  },
  {
   "cell_type": "code",
   "execution_count": null,
   "metadata": {
    "ExecuteTime": {
     "end_time": "2020-02-02T11:34:01.758258Z",
     "start_time": "2020-02-02T11:34:01.656179Z"
    }
   },
   "outputs": [],
   "source": [
    "df.iloc[12][1:].astype(float).sort_values()"
   ]
  },
  {
   "cell_type": "code",
   "execution_count": null,
   "metadata": {
    "ExecuteTime": {
     "end_time": "2020-02-02T11:56:08.563231Z",
     "start_time": "2020-02-02T11:56:08.549780Z"
    }
   },
   "outputs": [],
   "source": [
    "df.iloc[12][1:].astype(float) > 10"
   ]
  },
  {
   "cell_type": "markdown",
   "metadata": {
    "ExecuteTime": {
     "end_time": "2020-02-02T14:26:00.723377Z",
     "start_time": "2020-02-02T14:26:00.720655Z"
    }
   },
   "source": [
    "### Select part data to visualize"
   ]
  },
  {
   "cell_type": "code",
   "execution_count": null,
   "metadata": {
    "ExecuteTime": {
     "end_time": "2020-02-02T15:25:41.201844Z",
     "start_time": "2020-02-02T15:25:41.177056Z"
    }
   },
   "outputs": [],
   "source": [
    "df = pd.read_csv(\"../data/kaggle/cost-of-living.csv\")"
   ]
  },
  {
   "cell_type": "code",
   "execution_count": null,
   "metadata": {
    "ExecuteTime": {
     "end_time": "2020-02-02T15:25:41.443488Z",
     "start_time": "2020-02-02T15:25:41.430401Z"
    }
   },
   "outputs": [],
   "source": [
    "df = df.drop_duplicates(subset='Unnamed: 0', keep='first')"
   ]
  },
  {
   "cell_type": "code",
   "execution_count": null,
   "metadata": {
    "ExecuteTime": {
     "end_time": "2020-02-02T15:25:42.918529Z",
     "start_time": "2020-02-02T15:25:42.913463Z"
    }
   },
   "outputs": [],
   "source": [
    "df.set_index(\"Unnamed: 0\", inplace=True)"
   ]
  },
  {
   "cell_type": "code",
   "execution_count": null,
   "metadata": {
    "ExecuteTime": {
     "end_time": "2020-02-02T15:25:44.947514Z",
     "start_time": "2020-02-02T15:25:44.936085Z"
    }
   },
   "outputs": [],
   "source": [
    "food_category[4]\n",
    "df.loc[food_category[4]]\n",
    "df.loc[food_category[4], city[0]]"
   ]
  },
  {
   "cell_type": "code",
   "execution_count": null,
   "metadata": {
    "ExecuteTime": {
     "end_time": "2020-02-02T15:26:03.292307Z",
     "start_time": "2020-02-02T15:26:03.288209Z"
    }
   },
   "outputs": [],
   "source": [
    "food_category = df.index.values\n",
    "city = [item for item in df.columns if\"Italy\" in item or  \"China\" in item]"
   ]
  },
  {
   "cell_type": "code",
   "execution_count": 343,
   "metadata": {
    "ExecuteTime": {
     "end_time": "2020-02-02T15:27:33.575990Z",
     "start_time": "2020-02-02T15:27:33.282643Z"
    }
   },
   "outputs": [
    {
     "data": {
      "image/png": "[encoded data removed]",
      "text/plain": [
       "<Figure size 576x432 with 1 Axes>"
      ]
     },
     "metadata": {},
     "output_type": "display_data"
    }
   ],
   "source": [
    "data = {\n",
    "    food_category[2]: {\n",
    "        city[0]: df.loc[food_category[2], city[0]],\n",
    "        city[3]: df.loc[food_category[2], city[3]]\n",
    "    },\n",
    "    food_category[3]: {\n",
    "        city[0]: df.loc[food_category[3], city[0]],\n",
    "        city[3]: df.loc[food_category[3], city[3]]\n",
    "    },\n",
    "        food_category[4]: {\n",
    "        city[0]: df.loc[food_category[4], city[0]],\n",
    "        city[3]: df.loc[food_category[4], city[3]]\n",
    "    },\n",
    "    food_category[5]: {\n",
    "        city[0]: df.loc[food_category[5], city[0]],\n",
    "        city[3]: df.loc[food_category[5], city[3]]\n",
    "    }\n",
    "}\n",
    "\n",
    "df_tem = pd.DataFrame(data)\n",
    "_ = df_tem[[food_category[2], food_category[3],\n",
    "      food_category[4], food_category[5]]].plot(kind='bar',\n",
    "                              title=\"V comp\",\n",
    "                              figsize=(8, 6),\n",
    "                              legend=True,\n",
    "                              fontsize=12)"
   ]
  }
 ],
 "metadata": {
  "hide_input": false,
  "kernelspec": {
   "display_name": "Python 3",
   "language": "python",
   "name": "python3"
  },
  "language_info": {
   "codemirror_mode": {
    "name": "ipython",
    "version": 3
   },
   "file_extension": ".py",
   "mimetype": "text/x-python",
   "name": "python",
   "nbconvert_exporter": "python",
   "pygments_lexer": "ipython3",
   "version": "3.7.4"
  },
  "toc": {
   "base_numbering": 1,
   "nav_menu": {},
   "number_sections": true,
   "sideBar": true,
   "skip_h1_title": false,
   "title_cell": "Table of Contents",
   "title_sidebar": "Contents",
   "toc_cell": false,
   "toc_position": {},
   "toc_section_display": true,
   "toc_window_display": true
  },
  "varInspector": {
   "cols": {
    "lenName": 16,
    "lenType": 16,
    "lenVar": 40
   },
   "kernels_config": {
    "python": {
     "delete_cmd_postfix": "",
     "delete_cmd_prefix": "del ",
     "library": "var_list.py",
     "varRefreshCmd": "print(var_dic_list())"
    },
    "r": {
     "delete_cmd_postfix": ") ",
     "delete_cmd_prefix": "rm(",
     "library": "var_list.r",
     "varRefreshCmd": "cat(var_dic_list()) "
    }
   },
   "types_to_exclude": [
    "module",
    "function",
    "builtin_function_or_method",
    "instance",
    "_Feature"
   ],
   "window_display": false
  }
 },
 "nbformat": 4,
 "nbformat_minor": 2
}
