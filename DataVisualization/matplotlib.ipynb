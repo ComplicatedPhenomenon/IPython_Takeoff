{
 "cells": [
  {
   "cell_type": "markdown",
   "metadata": {},
   "source": [
    "2019-05-19 10:30:05 \n",
    "* https://glowingpython.blogspot.com\n",
    "* https://github.com/rougier/matplotlib-tutorial"
   ]
  },
  {
   "cell_type": "code",
   "execution_count": 1,
   "metadata": {},
   "outputs": [],
   "source": [
    "import numpy as np\n",
    "import pandas as pd"
   ]
  },
  {
   "cell_type": "code",
   "execution_count": 2,
   "metadata": {},
   "outputs": [],
   "source": [
    "%matplotlib inline "
   ]
  },
  {
   "cell_type": "code",
   "execution_count": 3,
   "metadata": {},
   "outputs": [],
   "source": [
    "import matplotlib.pyplot as plt"
   ]
  },
  {
   "cell_type": "code",
   "execution_count": 4,
   "metadata": {},
   "outputs": [],
   "source": [
    "from matplotlib import cm\n",
    "from mpl_toolkits.mplot3d import Axes3D"
   ]
  },
  {
   "cell_type": "code",
   "execution_count": 5,
   "metadata": {},
   "outputs": [],
   "source": [
    "import matplotlib\n",
    "matplotlib.rcParams.update({'font.size':18})\n",
    "matplotlib.rcParams.update({'font.family':'serif'})"
   ]
  },
  {
   "cell_type": "code",
   "execution_count": null,
   "metadata": {},
   "outputs": [],
   "source": [
    "import datetime\n",
    "import random"
   ]
  },
  {
   "cell_type": "code",
   "execution_count": 12,
   "metadata": {},
   "outputs": [
    {
     "data": {
      "image/png": "[encoded data removed]",
      "text/plain": [
       "<Figure size 432x288 with 1 Axes>"
      ]
     },
     "metadata": {
      "needs_background": "light"
     },
     "output_type": "display_data"
    }
   ],
   "source": [
    "# make up some data\n",
    "x = [datetime.datetime.now() + datetime.timedelta(hours=i) for i in range(12)]\n",
    "y = [i+random.gauss(0,1) for i,_ in enumerate(x)]\n",
    "\n",
    "# plot\n",
    "plt.plot(x,y)\n",
    "# beautify the x-labels\n",
    "plt.gcf().autofmt_xdate()\n",
    "\n",
    "plt.show()"
   ]
  },
  {
   "cell_type": "code",
   "execution_count": 10,
   "metadata": {},
   "outputs": [
    {
     "name": "stderr",
     "output_type": "stream",
     "text": [
      "  0%|          | 0/20 [00:00<?, ?it/s]\n",
      "  0%|          | 0/5 [00:00<?, ?it/s]\u001b[A\n",
      " 20%|██        | 1/5 [00:00<00:01,  2.83it/s]\u001b[A\n",
      " 40%|████      | 2/5 [00:00<00:00,  3.23it/s]\u001b[A/Users/wangmiao/anaconda3/lib/python3.7/site-packages/ipykernel_launcher.py:24: MatplotlibDeprecationWarning: numpy.hypot\n",
      "\n",
      " 60%|██████    | 3/5 [00:00<00:00,  2.93it/s]\u001b[A\n",
      " 80%|████████  | 4/5 [00:01<00:00,  2.75it/s]\u001b[A\n",
      "100%|██████████| 5/5 [00:01<00:00,  2.80it/s]\u001b[A\n",
      "  5%|▌         | 1/20 [00:01<00:33,  1.74s/it]\n",
      "  0%|          | 0/5 [00:00<?, ?it/s]\u001b[A\n",
      " 20%|██        | 1/5 [00:00<00:01,  3.56it/s]\u001b[A\n",
      " 40%|████      | 2/5 [00:00<00:01,  2.75it/s]\u001b[A\n",
      " 80%|████████  | 4/5 [00:01<00:00,  2.93it/s]\u001b[A\n",
      "100%|██████████| 5/5 [00:01<00:00,  2.87it/s]\u001b[A\n",
      " 10%|█         | 2/20 [00:03<00:31,  1.76s/it]\n",
      "  0%|          | 0/5 [00:00<?, ?it/s]\u001b[A\n",
      " 20%|██        | 1/5 [00:00<00:01,  3.93it/s]\u001b[A\n",
      " 40%|████      | 2/5 [00:00<00:01,  2.56it/s]\u001b[A\n",
      " 60%|██████    | 3/5 [00:01<00:00,  2.72it/s]\u001b[A\n",
      " 80%|████████  | 4/5 [00:01<00:00,  2.40it/s]\u001b[A\n",
      "100%|██████████| 5/5 [00:01<00:00,  2.95it/s]\u001b[A\n",
      " 15%|█▌        | 3/20 [00:05<00:30,  1.82s/it]\n",
      "  0%|          | 0/5 [00:00<?, ?it/s]\u001b[A\n",
      " 20%|██        | 1/5 [00:00<00:01,  2.58it/s]\u001b[A\n",
      " 40%|████      | 2/5 [00:01<00:01,  1.93it/s]\u001b[A\n",
      " 60%|██████    | 3/5 [00:01<00:01,  1.94it/s]\u001b[A\n",
      " 80%|████████  | 4/5 [00:02<00:00,  1.99it/s]\u001b[A\n",
      "100%|██████████| 5/5 [00:02<00:00,  2.14it/s]\u001b[A\n",
      " 20%|██        | 4/20 [00:08<00:32,  2.05s/it]\n",
      "  0%|          | 0/5 [00:00<?, ?it/s]\u001b[A\n",
      " 20%|██        | 1/5 [00:00<00:01,  3.59it/s]\u001b[A\n",
      " 40%|████      | 2/5 [00:01<00:01,  2.16it/s]\u001b[A\n",
      " 60%|██████    | 3/5 [00:01<00:00,  2.16it/s]\u001b[A\n",
      " 80%|████████  | 4/5 [00:02<00:00,  2.20it/s]\u001b[A\n",
      "100%|██████████| 5/5 [00:02<00:00,  2.32it/s]\u001b[A\n",
      " 25%|██▌       | 5/20 [00:10<00:32,  2.17s/it]\n",
      "  0%|          | 0/5 [00:00<?, ?it/s]\u001b[A\n",
      " 20%|██        | 1/5 [00:00<00:01,  3.27it/s]\u001b[A\n",
      " 40%|████      | 2/5 [00:01<00:01,  2.26it/s]\u001b[A\n",
      " 60%|██████    | 3/5 [00:01<00:00,  2.24it/s]\u001b[A\n",
      " 80%|████████  | 4/5 [00:02<00:00,  2.19it/s]\u001b[A\n",
      "100%|██████████| 5/5 [00:02<00:00,  2.54it/s]\u001b[A\n",
      " 30%|███       | 6/20 [00:12<00:30,  2.20s/it]\n",
      "  0%|          | 0/5 [00:00<?, ?it/s]\u001b[A\n",
      " 20%|██        | 1/5 [00:00<00:00,  5.42it/s]\u001b[A\n",
      " 40%|████      | 2/5 [00:00<00:00,  3.46it/s]\u001b[A\n",
      " 60%|██████    | 3/5 [00:01<00:00,  3.15it/s]\u001b[A\n",
      " 80%|████████  | 4/5 [00:01<00:00,  2.52it/s]\u001b[A\n",
      "100%|██████████| 5/5 [00:02<00:00,  2.51it/s]\u001b[A\n",
      " 35%|███▌      | 7/20 [00:14<00:28,  2.16s/it]\n",
      "  0%|          | 0/5 [00:00<?, ?it/s]\u001b[A\n",
      " 20%|██        | 1/5 [00:00<00:01,  2.64it/s]\u001b[A\n",
      " 40%|████      | 2/5 [00:01<00:01,  1.71it/s]\u001b[A\n",
      " 60%|██████    | 3/5 [00:01<00:01,  1.97it/s]\u001b[A\n",
      " 80%|████████  | 4/5 [00:02<00:00,  2.07it/s]\u001b[A\n",
      "100%|██████████| 5/5 [00:02<00:00,  2.16it/s]\u001b[A\n",
      " 40%|████      | 8/20 [00:17<00:27,  2.30s/it]\n",
      "  0%|          | 0/5 [00:00<?, ?it/s]\u001b[A\n",
      " 40%|████      | 2/5 [00:01<00:01,  1.83it/s]\u001b[A\n",
      " 60%|██████    | 3/5 [00:01<00:01,  1.97it/s]\u001b[A\n",
      " 80%|████████  | 4/5 [00:01<00:00,  2.54it/s]\u001b[A\n",
      "100%|██████████| 5/5 [00:01<00:00,  2.63it/s]\u001b[A\n",
      " 45%|████▌     | 9/20 [00:19<00:24,  2.21s/it]\n",
      "  0%|          | 0/5 [00:00<?, ?it/s]\u001b[A\n",
      " 20%|██        | 1/5 [00:00<00:00,  5.91it/s]\u001b[A\n",
      " 40%|████      | 2/5 [00:01<00:01,  2.71it/s]\u001b[A\n",
      " 60%|██████    | 3/5 [00:01<00:00,  2.70it/s]\u001b[A\n",
      " 80%|████████  | 4/5 [00:01<00:00,  3.35it/s]\u001b[A\n",
      "100%|██████████| 5/5 [00:01<00:00,  4.03it/s]\u001b[A\n",
      " 50%|█████     | 10/20 [00:21<00:20,  2.04s/it]\n",
      "  0%|          | 0/5 [00:00<?, ?it/s]\u001b[A\n",
      " 20%|██        | 1/5 [00:00<00:00,  6.07it/s]\u001b[A\n",
      " 40%|████      | 2/5 [00:01<00:01,  2.41it/s]\u001b[A\n",
      " 60%|██████    | 3/5 [00:01<00:00,  2.31it/s]\u001b[A\n",
      "100%|██████████| 5/5 [00:02<00:00,  2.45it/s]\u001b[A\n",
      " 55%|█████▌    | 11/20 [00:23<00:19,  2.13s/it]\n",
      "  0%|          | 0/5 [00:00<?, ?it/s]\u001b[A\n",
      " 20%|██        | 1/5 [00:00<00:01,  3.80it/s]\u001b[A\n",
      " 40%|████      | 2/5 [00:01<00:01,  1.97it/s]\u001b[A\n",
      " 60%|██████    | 3/5 [00:02<00:01,  1.45it/s]\u001b[A\n",
      " 80%|████████  | 4/5 [00:03<00:00,  1.53it/s]\u001b[A\n",
      "100%|██████████| 5/5 [00:03<00:00,  2.03it/s]\u001b[A\n",
      " 60%|██████    | 12/20 [00:26<00:19,  2.44s/it]\n",
      "  0%|          | 0/5 [00:00<?, ?it/s]\u001b[A\n",
      " 20%|██        | 1/5 [00:00<00:01,  3.21it/s]\u001b[A\n",
      " 40%|████      | 2/5 [00:01<00:01,  1.90it/s]\u001b[A\n",
      " 60%|██████    | 3/5 [00:02<00:01,  1.48it/s]\u001b[A\n",
      " 80%|████████  | 4/5 [00:02<00:00,  1.81it/s]\u001b[A\n",
      "100%|██████████| 5/5 [00:03<00:00,  1.79it/s]\u001b[A\n",
      " 65%|██████▌   | 13/20 [00:29<00:18,  2.67s/it]\n",
      "  0%|          | 0/5 [00:00<?, ?it/s]\u001b[A\n",
      " 20%|██        | 1/5 [00:00<00:02,  1.60it/s]\u001b[A\n",
      " 40%|████      | 2/5 [00:01<00:02,  1.45it/s]\u001b[A\n",
      " 60%|██████    | 3/5 [00:02<00:01,  1.24it/s]\u001b[A\n",
      " 80%|████████  | 4/5 [00:02<00:00,  1.53it/s]\u001b[A\n",
      "100%|██████████| 5/5 [00:03<00:00,  1.61it/s]\u001b[A\n",
      " 70%|███████   | 14/20 [00:33<00:17,  2.89s/it]\n",
      "  0%|          | 0/5 [00:00<?, ?it/s]\u001b[A\n",
      " 20%|██        | 1/5 [00:00<00:02,  1.82it/s]\u001b[A\n",
      " 40%|████      | 2/5 [00:01<00:02,  1.42it/s]\u001b[A\n",
      " 60%|██████    | 3/5 [00:02<00:01,  1.24it/s]\u001b[A\n",
      " 80%|████████  | 4/5 [00:03<00:00,  1.23it/s]\u001b[A\n",
      "100%|██████████| 5/5 [00:03<00:00,  1.38it/s]\u001b[A\n",
      " 75%|███████▌  | 15/20 [00:37<00:16,  3.22s/it]\n",
      "  0%|          | 0/5 [00:00<?, ?it/s]\u001b[A\n",
      " 20%|██        | 1/5 [00:00<00:02,  1.56it/s]\u001b[A\n",
      " 40%|████      | 2/5 [00:01<00:02,  1.21it/s]\u001b[A\n",
      " 60%|██████    | 3/5 [00:03<00:01,  1.09it/s]\u001b[A\n",
      " 80%|████████  | 4/5 [00:03<00:00,  1.21it/s]\u001b[A\n",
      "100%|██████████| 5/5 [00:03<00:00,  1.51it/s]\u001b[A\n",
      " 80%|████████  | 16/20 [00:41<00:13,  3.44s/it]\n",
      "  0%|          | 0/5 [00:00<?, ?it/s]\u001b[A\n",
      " 20%|██        | 1/5 [00:00<00:03,  1.05it/s]\u001b[A\n",
      " 40%|████      | 2/5 [00:03<00:04,  1.34s/it]\u001b[A\n",
      " 60%|██████    | 3/5 [00:04<00:02,  1.30s/it]\u001b[A\n",
      " 80%|████████  | 4/5 [00:05<00:01,  1.10s/it]\u001b[A\n",
      "100%|██████████| 5/5 [00:05<00:00,  1.01it/s]\u001b[A\n",
      " 85%|████████▌ | 17/20 [00:46<00:12,  4.14s/it]\n",
      "  0%|          | 0/5 [00:00<?, ?it/s]\u001b[A\n",
      " 20%|██        | 1/5 [00:00<00:03,  1.24it/s]\u001b[A\n",
      " 40%|████      | 2/5 [00:05<00:05,  1.85s/it]\u001b[A\n",
      " 60%|██████    | 3/5 [00:06<00:03,  1.77s/it]\u001b[A\n",
      " 80%|████████  | 4/5 [00:07<00:01,  1.54s/it]\u001b[A\n",
      "100%|██████████| 5/5 [00:08<00:00,  1.44s/it]\u001b[A\n",
      " 90%|█████████ | 18/20 [00:55<00:11,  5.57s/it]\n",
      "  0%|          | 0/5 [00:00<?, ?it/s]\u001b[A\n",
      " 20%|██        | 1/5 [00:00<00:03,  1.24it/s]\u001b[A\n",
      " 40%|████      | 2/5 [00:07<00:07,  2.65s/it]\u001b[A\n",
      " 60%|██████    | 3/5 [00:10<00:05,  2.63s/it]\u001b[A\n",
      " 80%|████████  | 4/5 [00:11<00:02,  2.10s/it]\u001b[A\n",
      "100%|██████████| 5/5 [00:12<00:00,  1.71s/it]\u001b[A\n",
      " 95%|█████████▌| 19/20 [01:07<00:07,  7.51s/it]\n",
      "  0%|          | 0/5 [00:00<?, ?it/s]\u001b[A\n",
      " 20%|██        | 1/5 [00:01<00:04,  1.09s/it]\u001b[A\n",
      " 40%|████      | 2/5 [00:15<00:15,  5.00s/it]\u001b[A\n",
      " 60%|██████    | 3/5 [00:19<00:09,  4.92s/it]\u001b[A\n",
      " 80%|████████  | 4/5 [00:20<00:03,  3.74s/it]\u001b[A\n",
      "100%|██████████| 5/5 [00:21<00:00,  2.90s/it]\u001b[A\n",
      "100%|██████████| 20/20 [01:29<00:00, 11.85s/it]\n"
     ]
    },
    {
     "data": {
      "image/png": "[encoded data removed]",
      "text/plain": [
       "<Figure size 432x288 with 1 Axes>"
      ]
     },
     "metadata": {
      "needs_background": "light"
     },
     "output_type": "display_data"
    }
   ],
   "source": [
    "import matplotlib\n",
    "import numpy\n",
    "import perfplot\n",
    "from scipy.spatial import distance\n",
    "\n",
    "\n",
    "def linalg_norm(data):\n",
    "    a, b = data\n",
    "    return numpy.linalg.norm(a-b, axis=1)\n",
    "\n",
    "\n",
    "def sqrt_sum(data):\n",
    "    a, b = data\n",
    "    return numpy.sqrt(numpy.sum((a-b)**2, axis=1))\n",
    "\n",
    "\n",
    "def scipy_distance(data):\n",
    "    a, b = data\n",
    "    return list(map(distance.euclidean, a, b))\n",
    "\n",
    "\n",
    "def mpl_dist(data):\n",
    "    a, b = data\n",
    "    return list(map(matplotlib.mlab.dist, a, b))\n",
    "\n",
    "\n",
    "def sqrt_einsum(data):\n",
    "    a, b = data\n",
    "    a_min_b = a - b\n",
    "    return numpy.sqrt(numpy.einsum('ij,ij->i', a_min_b, a_min_b))\n",
    "\n",
    "\n",
    "perfplot.show(\n",
    "    setup=lambda n: numpy.random.rand(2, n, 3),\n",
    "    n_range=[2**k for k in range(20)],\n",
    "    kernels=[linalg_norm, scipy_distance, mpl_dist, sqrt_sum, sqrt_einsum],\n",
    "    logx=True,\n",
    "    logy=True,\n",
    "    xlabel='len(x), len(y)'\n",
    "    )"
   ]
  },
  {
   "cell_type": "code",
   "execution_count": null,
   "metadata": {},
   "outputs": [],
   "source": [
    "list(['a', 'b', 'c'])"
   ]
  },
  {
   "cell_type": "code",
   "execution_count": null,
   "metadata": {},
   "outputs": [],
   "source": [
    "np.array(list(['a', 'b', 'c']))"
   ]
  },
  {
   "cell_type": "code",
   "execution_count": null,
   "metadata": {},
   "outputs": [],
   "source": [
    "X = np.arange(-5, 5, 0.25)\n",
    "Y = np.arange(-5, 5, 0.25)\n",
    "X, Y = np.meshgrid(X, Y)\n",
    "R = np.sqrt(X**2 + Y**2)\n",
    "Z = np.sin(R)\n",
    "\n",
    "fig = plt.figure()\n",
    "ax = Axes3D(fig)\n",
    "ax.plot_surface(X, Y, Z, rstride=1, cstride=1, cmap=cm.viridis)\n",
    "\n",
    "plt.show()"
   ]
  },
  {
   "cell_type": "markdown",
   "metadata": {},
   "source": [
    "# How to plot a function using matplotlib?"
   ]
  },
  {
   "cell_type": "code",
   "execution_count": null,
   "metadata": {},
   "outputs": [],
   "source": [
    "mark = ['>', '*', 'x', 'd', '+']\n",
    "tag = ['$\\delta$ = 2','$\\delta$ = 3','$\\delta$ = 4','$\\delta$ = 5','$\\delta$ = 6']\n",
    "font = {'family': 'serif',\n",
    "        'color':  'darkred',\n",
    "        'weight': 'normal',\n",
    "        'size': 16,\n",
    "        }\n",
    "\n",
    "x = np.linspace(-10.0, 10.0, 100)\n",
    "y = 0.5*(np.exp(x) - np.exp(-x))\n",
    "\n",
    "\n",
    "plt.plot(x, y, mark[1], label = \"$y = 1/2(e^x-e^x)$\")\n",
    "plt.xlabel(\"x\",fontdict = font)\n",
    "plt.ylabel(\"y\",fontdict = font)\n",
    "plt.legend()\n",
    "\n",
    "#plt.yscale('log')\n",
    "plt.show()"
   ]
  },
  {
   "cell_type": "code",
   "execution_count": null,
   "metadata": {},
   "outputs": [],
   "source": [
    "\n",
    "x = np.linspace(-10.0, 10.0, 100)\n",
    "y = np.sinh(x)\n",
    "\n",
    "\n",
    "plt.plot(x, y, mark[1], label = \"$y = \\sinh(x)$\")\n",
    "plt.xlabel(\"x\",fontdict = font)\n",
    "plt.ylabel(\"y\",fontdict = font)\n",
    "plt.legend()\n",
    "\n",
    "#plt.yscale('log')\n",
    "plt.show()"
   ]
  },
  {
   "cell_type": "markdown",
   "metadata": {},
   "source": [
    "<span style=\"font-family:New York Times;font-size:1.2 em; color:green;\">\n",
    "Will module numpy replace module math? "
   ]
  },
  {
   "cell_type": "markdown",
   "metadata": {},
   "source": [
    "$$2(e^t-1)\\displaystyle\\sum_{n = 2}^{\\infty} \\frac{(-1)^{n+1}}{n(n^2-1)}e^{-n^2t}\\sin nx$$"
   ]
  },
  {
   "cell_type": "markdown",
   "metadata": {},
   "source": [
    "* https://glowingpython.blogspot.com/2011/04/how-to-plot-function-using-matplotlib.html"
   ]
  },
  {
   "cell_type": "code",
   "execution_count": 24,
   "metadata": {},
   "outputs": [
    {
     "data": {
      "image/png": "[encoded data removed]",
      "text/plain": [
       "<Figure size 432x288 with 1 Axes>"
      ]
     },
     "metadata": {
      "needs_background": "light"
     },
     "output_type": "display_data"
    }
   ],
   "source": [
    "x = np.linspace(-15,15,100) # 100 linearly spaced numbers\n",
    "y = np.sin(x)/x # computing the values of sin(x)/x\n",
    "\n",
    "# compose plot\n",
    "plt.plot(x,y) # sin(x)/x\n",
    "plt.plot(x,y+0.2,'co') # same function with cyan dots\n",
    "plt.plot(x,2*y,x,3*y) # 2*sin(x)/x and 3*sin(x)/x\n",
    "plt.show() # show the plot"
   ]
  },
  {
   "cell_type": "markdown",
   "metadata": {},
   "source": [
    "## [Writing mathmatical expression](https://matplotlib.org/users/mathtext.html)"
   ]
  },
  {
   "cell_type": "markdown",
   "metadata": {},
   "source": [
    "# Interactive matplotlib"
   ]
  },
  {
   "cell_type": "markdown",
   "metadata": {},
   "source": [
    "## How to make beautiful data visualizations in Python with matplotlib\n",
    "[Advice from advanced user on Matplotlib](http://www.randalolson.com/2014/06/28/how-to-make-beautiful-data-visualizations-in-python-with-matplotlib/)\n",
    "* Less is more attractive\n",
    "* Less is more impactive\n",
    "\n",
    "thanks to plot.ly, it only takes one more line of code to turn your matplotlib plot into an interactive."
   ]
  },
  {
   "cell_type": "markdown",
   "metadata": {},
   "source": [
    "##  Turn your matplotlib plot into an interactive."
   ]
  },
  {
   "cell_type": "code",
   "execution_count": 1,
   "metadata": {},
   "outputs": [],
   "source": [
    "import plotly # (*) To communicate with Plotly's server, sign in with credentials file\n",
    "import plotly.plotly as py  # (*) Useful Python/Plotly tools\n",
    "import plotly.tools as tls   # (*) Graph objects to piece together plots\n",
    "from plotly.graph_objs import *\n",
    "import numpy as np  # (*) numpy for math functions and arrays\n",
    "import matplotlib.pyplot as plt # (*) import matplotlib\n",
    "%matplotlib inline"
   ]
  },
  {
   "cell_type": "code",
   "execution_count": 17,
   "metadata": {},
   "outputs": [
    {
     "data": {
      "image/png": "[encoded data removed]",
      "text/plain": [
       "<Figure size 432x288 with 1 Axes>"
      ]
     },
     "metadata": {
      "needs_background": "light"
     },
     "output_type": "display_data"
    }
   ],
   "source": [
    "# Package all mpl plotting commands inside one function\n",
    "def plot_mpl_fig():\n",
    "    \n",
    "    # Make two time arrays\n",
    "    t1 = np.arange(0.0, 2.0, 0.1)\n",
    "    t2 = np.arange(0.0, 2.0, 0.01)\n",
    "\n",
    "    # N.B. .plot() returns a list of lines.  \n",
    "    # The \"l1, = plot\" usage extracts the first element of the list \n",
    "    # into l1 using tuple unpacking.  \n",
    "    # So, l1 is a Line2D instance, not a sequence of lines\n",
    "    l1, = plt.plot(t2, np.exp(-t2), label='decaying exp.')\n",
    "    l2, l3 = plt.plot(t2, np.sin(2 * np.pi * t2), '--go', \n",
    "                      t1, np.log(1 + t1), '.')\n",
    "    l4, = plt.plot(t2, np.exp(-t2) * np.sin(2 * np.pi * t2), 'rs-.')\n",
    "\n",
    "    # Add axis labels and title\n",
    "    plt.xlabel('time')\n",
    "    plt.ylabel('volts')\n",
    "    plt.title('Damped oscillation')\n",
    "    \n",
    "    \n",
    "    return (l1, l2, l3, l4)  # return line objects (for legend, later)\n",
    "\n",
    "# Plot it!\n",
    "plot_mpl_fig()\n",
    "\n",
    "# N.B. get matplotlib figure object and assign a variable to it\n",
    "mpl_fig1 = plt.gcf()"
   ]
  },
  {
   "cell_type": "code",
   "execution_count": 18,
   "metadata": {},
   "outputs": [
    {
     "data": {
      "text/html": [
       "<iframe id=\"igraph\" scrolling=\"no\" style=\"border:none;\" seamless=\"seamless\" src=\"https://plot.ly/~ComplicatedPhenomenon/9.embed\" height=\"288px\" width=\"432px\"></iframe>"
      ],
      "text/plain": [
       "<plotly.tools.PlotlyDisplay object>"
      ]
     },
     "execution_count": 18,
     "metadata": {},
     "output_type": "execute_result"
    }
   ],
   "source": [
    "#send our matplotlib figure object to py.iplot_mpl, give it a file name as keyword argument l\n",
    "py.iplot_mpl(mpl_fig1, filename='s6_damped_oscillation')"
   ]
  },
  {
   "cell_type": "code",
   "execution_count": null,
   "metadata": {},
   "outputs": [],
   "source": [
    "import plotly.offline as py\n",
    "from plotly.offline import init_notebook_mode, iplot\n",
    "import plotly.tools as tls\n",
    "import matplotlib.pylab as plt\n",
    "from matplotlib.backends.backend_agg import FigureCanvasAgg as FigureCanvas\n",
    "\n",
    "init_notebook_mode(connected=True)\n",
    "fig = plt.Figure()\n",
    "ax = fig.gca()\n",
    "x = [-2,0,4,6,7]\n",
    "y = [q**2-q+3 for q in x]\n",
    "ax.plot(x,y)\n",
    "canvas = FigureCanvas(fig)\n",
    "plotly_fig = tls.mpl_to_plotly(fig)\n",
    "py.iplot(plotly_fig)"
   ]
  },
  {
   "cell_type": "markdown",
   "metadata": {},
   "source": [
    "#  Mandelbrot set"
   ]
  },
  {
   "cell_type": "code",
   "execution_count": null,
   "metadata": {},
   "outputs": [],
   "source": [
    "\"\"\"\n",
    "===================================\n",
    "Shaded & power normalized rendering\n",
    "===================================\n",
    "\n",
    "The Mandelbrot set rendering can be improved by using a normalized recount\n",
    "associated with a power normalized colormap (gamma=0.3). Rendering can be\n",
    "further enhanced thanks to shading.\n",
    "\n",
    "The `maxiter` gives the precision of the computation. `maxiter=200` should\n",
    "take a few seconds on most modern laptops.\n",
    "\"\"\"\n",
    "import numpy as np\n",
    "\n",
    "\n",
    "def mandelbrot_set(xmin, xmax, ymin, ymax, xn, yn, maxiter, horizon=2.0):\n",
    "    X = np.linspace(xmin, xmax, xn, dtype=np.float32)\n",
    "    Y = np.linspace(ymin, ymax, yn, dtype=np.float32)\n",
    "    C = X + Y[:, None]*1j\n",
    "    N = np.zeros(C.shape, dtype=int)\n",
    "    Z = np.zeros(C.shape, np.complex64)\n",
    "    for n in range(maxiter):\n",
    "        I = np.less(abs(Z), horizon)\n",
    "        N[I] = n\n",
    "        Z[I] = Z[I]**2 + C[I]\n",
    "    N[N == maxiter-1] = 0\n",
    "    return Z, N\n",
    "\n",
    "\n",
    "if __name__ == '__main__':\n",
    "    import time\n",
    "    import matplotlib\n",
    "    from matplotlib import colors\n",
    "    import matplotlib.pyplot as plt\n",
    "\n",
    "    xmin, xmax, xn = -2.25, +0.75, 3000/2\n",
    "    ymin, ymax, yn = -1.25, +1.25, 2500/2\n",
    "    maxiter = 200\n",
    "    horizon = 2.0 ** 40\n",
    "    log_horizon = np.log(np.log(horizon))/np.log(2)\n",
    "    Z, N = mandelbrot_set(xmin, xmax, ymin, ymax, xn, yn, maxiter, horizon)\n",
    "\n",
    "    # Normalized recount as explained in:\n",
    "    # https://linas.org/art-gallery/escape/smooth.html\n",
    "    # https://www.ibm.com/developerworks/community/blogs/jfp/entry/My_Christmas_Gift\n",
    "\n",
    "    # This line will generate warnings for null values but it is faster to\n",
    "    # process them afterwards using the nan_to_num\n",
    "    with np.errstate(invalid='ignore'):\n",
    "        M = np.nan_to_num(N + 1 -\n",
    "                          np.log(np.log(abs(Z)))/np.log(2) +\n",
    "                          log_horizon)\n",
    "\n",
    "    dpi = 72\n",
    "    width = 10\n",
    "    height = 10*yn/xn\n",
    "    fig = plt.figure(figsize=(width, height), dpi=dpi)\n",
    "    ax = fig.add_axes([0.0, 0.0, 1.0, 1.0], frameon=False, aspect=1)\n",
    "\n",
    "    # Shaded rendering\n",
    "    light = colors.LightSource(azdeg=315, altdeg=10)\n",
    "    M = light.shade(M, cmap=plt.cm.hot, vert_exag=1.5,\n",
    "                    norm=colors.PowerNorm(0.3), blend_mode='hsv')\n",
    "    plt.imshow(M, extent=[xmin, xmax, ymin, ymax], interpolation=\"bicubic\")\n",
    "    ax.set_xticks([])\n",
    "    ax.set_yticks([])\n",
    "\n",
    "    # Some advertisement for matplotlib\n",
    "    year = time.strftime(\"%Y\")\n",
    "    major, minor, micro = matplotlib.__version__.split('.', 2)\n",
    "    text = (\"The Mandelbrot fractal set\\n\"\n",
    "            \"Rendered with matplotlib %s.%s, %s - http://matplotlib.org\"\n",
    "            % (major, minor, year))\n",
    "    ax.text(xmin+.025, ymin+.025, text, color=\"white\", fontsize=12, alpha=0.5)\n",
    "\n",
    "    plt.show()"
   ]
  },
  {
   "cell_type": "markdown",
   "metadata": {},
   "source": [
    "Convert Mandelbrot figure into interactive display"
   ]
  }
 ],
 "metadata": {
  "hide_input": false,
  "kernelspec": {
   "display_name": "Python 3",
   "language": "python",
   "name": "python3"
  },
  "language_info": {
   "codemirror_mode": {
    "name": "ipython",
    "version": 3
   },
   "file_extension": ".py",
   "mimetype": "text/x-python",
   "name": "python",
   "nbconvert_exporter": "python",
   "pygments_lexer": "ipython3",
   "version": "3.7.2"
  },
  "toc": {
   "base_numbering": 1,
   "nav_menu": {},
   "number_sections": true,
   "sideBar": true,
   "skip_h1_title": false,
   "title_cell": "Table of Contents",
   "title_sidebar": "Contents",
   "toc_cell": false,
   "toc_position": {},
   "toc_section_display": true,
   "toc_window_display": false
  },
  "varInspector": {
   "cols": {
    "lenName": 16,
    "lenType": 16,
    "lenVar": 40
   },
   "kernels_config": {
    "python": {
     "delete_cmd_postfix": "",
     "delete_cmd_prefix": "del ",
     "library": "var_list.py",
     "varRefreshCmd": "print(var_dic_list())"
    },
    "r": {
     "delete_cmd_postfix": ") ",
     "delete_cmd_prefix": "rm(",
     "library": "var_list.r",
     "varRefreshCmd": "cat(var_dic_list()) "
    }
   },
   "types_to_exclude": [
    "module",
    "function",
    "builtin_function_or_method",
    "instance",
    "_Feature"
   ],
   "window_display": false
  }
 },
 "nbformat": 4,
 "nbformat_minor": 2
}
