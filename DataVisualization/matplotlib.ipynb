{
 "cells": [
  {
   "cell_type": "code",
   "execution_count": null,
   "metadata": {},
   "outputs": [],
   "source": [
    "from IPython.core.interactiveshell import InteractiveShell\n",
    "InteractiveShell.ast_node_interactivity = \"all\""
   ]
  },
  {
   "cell_type": "code",
   "execution_count": null,
   "metadata": {},
   "outputs": [],
   "source": [
    "import numpy as np\n",
    "\n",
    "mySet = {1,2,3,4,5}\n",
    "\n",
    "myRandomArray = np.asarray(mySet)\n",
    "\n",
    "print(myRandomArray)\n",
    "type(myRandomArray)"
   ]
  },
  {
   "cell_type": "markdown",
   "metadata": {},
   "source": [
    "2019-05-19 10:30:05 \n",
    "* https://glowingpython.blogspot.com\n",
    "* https://github.com/rougier/matplotlib-tutorial"
   ]
  },
  {
   "cell_type": "code",
   "execution_count": null,
   "metadata": {},
   "outputs": [],
   "source": [
    "import numpy as np\n",
    "import pandas as pd"
   ]
  },
  {
   "cell_type": "code",
   "execution_count": null,
   "metadata": {},
   "outputs": [],
   "source": [
    "from scipy.special import factorial"
   ]
  },
  {
   "cell_type": "code",
   "execution_count": null,
   "metadata": {},
   "outputs": [],
   "source": [
    "%matplotlib inline "
   ]
  },
  {
   "cell_type": "code",
   "execution_count": null,
   "metadata": {},
   "outputs": [],
   "source": [
    "import matplotlib.pyplot as plt"
   ]
  },
  {
   "cell_type": "code",
   "execution_count": null,
   "metadata": {},
   "outputs": [],
   "source": [
    "from matplotlib import cm\n",
    "from mpl_toolkits.mplot3d import Axes3D"
   ]
  },
  {
   "cell_type": "code",
   "execution_count": null,
   "metadata": {},
   "outputs": [],
   "source": [
    "import matplotlib\n",
    "matplotlib.rcParams.update({'font.size':18})\n",
    "matplotlib.rcParams.update({'font.family':'serif'})"
   ]
  },
  {
   "cell_type": "code",
   "execution_count": null,
   "metadata": {},
   "outputs": [],
   "source": [
    "import plotly # (*) To communicate with Plotly's server, sign in with credentials file\n",
    "import plotly.plotly as py  # (*) Useful Python/Plotly tools\n",
    "import plotly.tools as tls   # (*) Graph objects to piece together plots\n",
    "from plotly.graph_objs import *"
   ]
  },
  {
   "cell_type": "code",
   "execution_count": null,
   "metadata": {},
   "outputs": [],
   "source": [
    "import datetime\n",
    "import random"
   ]
  },
  {
   "cell_type": "code",
   "execution_count": null,
   "metadata": {},
   "outputs": [],
   "source": [
    "list(['a', 'b', 'c'])"
   ]
  },
  {
   "cell_type": "code",
   "execution_count": null,
   "metadata": {},
   "outputs": [],
   "source": [
    "np.array(list(['a', 'b', 'c']))"
   ]
  },
  {
   "cell_type": "code",
   "execution_count": null,
   "metadata": {},
   "outputs": [],
   "source": [
    "X = np.arange(-5, 5, 0.25)\n",
    "Y = np.arange(-5, 5, 0.25)\n",
    "X, Y = np.meshgrid(X, Y)\n",
    "R = np.sqrt(X**2 + Y**2)\n",
    "Z = np.sin(R)\n",
    "\n",
    "fig = plt.figure()\n",
    "ax = Axes3D(fig)\n",
    "ax.plot_surface(X, Y, Z, rstride=1, cstride=1, cmap=cm.viridis)\n",
    "\n",
    "plt.show()"
   ]
  },
  {
   "cell_type": "markdown",
   "metadata": {},
   "source": [
    "# How to plot a function using matplotlib?"
   ]
  },
  {
   "cell_type": "code",
   "execution_count": null,
   "metadata": {},
   "outputs": [],
   "source": [
    "font = {'family': 'serif',\n",
    "        'color':  'darkred',\n",
    "        'weight': 'normal',\n",
    "        'size': 16,\n",
    "        }\n",
    "t = np.arange(0, 20, 0.1)\n",
    "d = np.exp(-5)*np.power(5, t)/factorial(t)\n",
    "plt.plot(t, d)\n",
    "plt.text(10, 0.15, r'$\\frac{e^{-5}5^t}{t!}$', fontdict=font) \n",
    "plt.xlabel('t', fontdict=font) \n",
    "plt.show() "
   ]
  },
  {
   "cell_type": "code",
   "execution_count": null,
   "metadata": {},
   "outputs": [],
   "source": [
    "\n",
    "x = np.linspace(-10.0, 10.0, 100)\n",
    "y = np.sinh(x)\n",
    "\n",
    "\n",
    "plt.plot(x, y, mark[1], label = \"$y = \\sinh(x)$\")\n",
    "plt.xlabel(\"x\",fontdict = font)\n",
    "plt.ylabel(\"y\",fontdict = font)\n",
    "plt.legend()\n",
    "\n",
    "#plt.yscale('log')\n",
    "plt.show()"
   ]
  },
  {
   "cell_type": "markdown",
   "metadata": {},
   "source": [
    "<span style=\"font-family:New York Times;font-size:1.2 em; color:green;\">\n",
    "Will module numpy replace module math? "
   ]
  },
  {
   "cell_type": "markdown",
   "metadata": {},
   "source": [
    "## [Writing mathmatical expression](https://matplotlib.org/users/mathtext.html)"
   ]
  },
  {
   "cell_type": "markdown",
   "metadata": {},
   "source": [
    "$$2(e^t-1)\\displaystyle\\sum_{n = 2}^{\\infty} \\frac{(-1)^{n+1}}{n(n^2-1)}e^{-n^2t}\\sin nx$$"
   ]
  },
  {
   "cell_type": "markdown",
   "metadata": {},
   "source": [
    "* https://glowingpython.blogspot.com/2011/04/how-to-plot-function-using-matplotlib.html"
   ]
  },
  {
   "cell_type": "code",
   "execution_count": null,
   "metadata": {
    "scrolled": true
   },
   "outputs": [],
   "source": [
    "x = np.linspace(-15,15,100) # 100 linearly spaced numbers\n",
    "y = np.sin(x)/x # computing the values of sin(x)/x\n",
    "\n",
    "# compose plot\n",
    "plt.plot(x,y, x,2*y,x,3*y, x,y+0.2,) # 2*sin(x)/x and 3*sin(x)/x\n",
    "plt.show() # show the plot"
   ]
  },
  {
   "cell_type": "markdown",
   "metadata": {},
   "source": [
    "## Optimize the look\n",
    "[Advice from advanced user on Matplotlib](http://www.randalolson.com/2014/06/28/how-to-make-beautiful-data-visualizations-in-python-with-matplotlib/)\n",
    "* Less is more attractive\n",
    "* Less is more impactive\n",
    "\n"
   ]
  },
  {
   "cell_type": "markdown",
   "metadata": {},
   "source": [
    "# Interactive matplotlib"
   ]
  },
  {
   "cell_type": "markdown",
   "metadata": {},
   "source": [
    "##  Turn your matplotlib plot into an interactive."
   ]
  },
  {
   "cell_type": "markdown",
   "metadata": {},
   "source": [
    "thanks to plot.ly, it only takes one more line of code to turn your matplotlib plot into an interactive."
   ]
  },
  {
   "cell_type": "markdown",
   "metadata": {},
   "source": [
    "### Method 1 "
   ]
  },
  {
   "cell_type": "code",
   "execution_count": null,
   "metadata": {},
   "outputs": [],
   "source": [
    "x = np.linspace(-15,15,100) # 100 linearly spaced numbers\n",
    "y = np.sin(x)/x # computing the values of sin(x)/x\n",
    "\n",
    "# compose plot\n",
    "plt.plot(x,y, x,2*y,x,3*y, x,y+0.2,) # 2*sin(x)/x and 3*sin(x)/x\n",
    "# get the figure object and assign it to a variable\n",
    "xfig = plt.gcf()\n",
    "#send our matplotlib figure object to py.iplot_mpl, give it a file name as keyword argument l\n",
    "py.iplot_mpl(xfig,  filename='ff' )"
   ]
  },
  {
   "cell_type": "markdown",
   "metadata": {},
   "source": [
    "### Method 2"
   ]
  },
  {
   "cell_type": "code",
   "execution_count": null,
   "metadata": {},
   "outputs": [],
   "source": [
    "import plotly.offline as py\n",
    "from plotly.offline import init_notebook_mode, iplot\n",
    "import plotly.tools as tls\n",
    "import matplotlib.pylab as plt\n",
    "from matplotlib.backends.backend_agg import FigureCanvasAgg as FigureCanvas\n",
    "\n",
    "\n",
    "init_notebook_mode(connected=True)\n",
    "fig = plt.Figure()\n",
    "ax = fig.gca()\n",
    "x = [-2,0,4,6,7]\n",
    "y = [q**2-q+3 for q in x]\n",
    "ax.plot(x,y)\n",
    "canvas = FigureCanvas(fig)\n",
    "plotly_fig = tls.mpl_to_plotly(fig)\n",
    "py.iplot(plotly_fig)"
   ]
  },
  {
   "cell_type": "markdown",
   "metadata": {},
   "source": [
    "Convert Mandelbrot figure into interactive display"
   ]
  },
  {
   "cell_type": "code",
   "execution_count": null,
   "metadata": {},
   "outputs": [],
   "source": [
    "!cat XYZ.csv "
   ]
  },
  {
   "cell_type": "code",
   "execution_count": null,
   "metadata": {},
   "outputs": [],
   "source": [
    "df = pd.read_csv('XYZ.csv')\n",
    "for i, j in df.groupby('Source'):\n",
    "    print(i, j) "
   ]
  },
  {
   "cell_type": "code",
   "execution_count": null,
   "metadata": {},
   "outputs": [],
   "source": [
    "df = pd.read_csv('XYZ.csv')\n",
    "fig, ax = plt.subplots()\n",
    "for i, group in df.groupby('Source'):\n",
    "    group.plot(x='Time', y='PktCount', ax=ax,label=group[\"Source\"].iloc[0])\n",
    "ax.set_title(\"PktCount Sent by nodes\")\n",
    "ax.set_ylabel(\"PktCount\")\n",
    "ax.set_xlabel(\"Time (milliSeconds)\")\n",
    "#optionally only set ticks at years present in the years column\n",
    "plt.legend(title=\"Source Nodes\", loc=0, fontsize='medium', fancybox=True)\n",
    "plt.show()"
   ]
  },
  {
   "cell_type": "code",
   "execution_count": null,
   "metadata": {},
   "outputs": [],
   "source": [
    "df = pd.read_csv('XYZ.csv')\n",
    "fig, ax = plt.subplots()\n",
    "for i, group in df.groupby('Source'):\n",
    "    group.plot(x='Time', y='PktCount', ax=ax,label=group[\"Source\"].iloc[0], kind='bar')\n",
    "ax.set_title(\"PktCount Sent by nodes\")\n",
    "ax.set_ylabel(\"PktCount\")\n",
    "ax.set_xlabel(\"Time (milliSeconds)\")\n",
    "#optionally only set ticks at years present in the years column\n",
    "plt.legend(title=\"Source Nodes\", loc=0, fontsize='medium', fancybox=True)\n",
    "plt.show()"
   ]
  },
  {
   "cell_type": "code",
   "execution_count": null,
   "metadata": {},
   "outputs": [],
   "source": [
    "[array([[0.01397856]]), array([[0.0139789 , 0.01397899, 0.01397964, \n",
    "0.01397926, 0.0139788 ,\n",
    "    0.01397882, 0.01397953, 0.01398004, 0.01397629, 0.01398015,\n",
    "    0.01397796, 0.01397703, 0.01397831, 0.01397893, 0.01398011,\n",
    "    0.01397746, 0.01397834, 0.01397892, 0.01397887, 0.01397964,\n",
    "    0.0139789 , 0.01397797, 0.01397756, 0.01397917, 0.01397798,\n",
    "    0.01397689, 0.01397952, 0.01397637, 0.01397901, 0.01397878]])], \n",
    "array[0.         0.03333333 0.06666667 0.1        0.13333333 0.16666667\n",
    " 0.2        0.23333333 0.26666667 0.3        0.33333333 0.36666667\n",
    " 0.4        0.43333333 0.46666667 0.5        0.53333333 0.56666667\n",
    "0.6        0.63333333 0.66666667 0.7        0.73333333 0.76666667\n",
    " 0.8        0.83333333 0.86666667 0.9        0.93333333 0.96666667\n",
    " 1.        ]"
   ]
  },
  {
   "cell_type": "code",
   "execution_count": null,
   "metadata": {},
   "outputs": [],
   "source": [
    "array= ['0.         0.03333333 0.06666667 0.1        0.13333333 0.16666667\\\n",
    " 0.2        0.23333333 0.26666667 0.3        0.33333333 0.36666667\\\n",
    " 0.4        0.43333333 0.46666667 0.5        0.53333333 0.56666667\\\n",
    "0.6        0.63333333 0.66666667 0.7        0.73333333 0.76666667\\\n",
    " 0.8        0.83333333 0.86666667 0.9        0.93333333 0.96666667\\\n",
    " 1.        ']"
   ]
  },
  {
   "cell_type": "code",
   "execution_count": null,
   "metadata": {},
   "outputs": [],
   "source": [
    "array[0].split()"
   ]
  },
  {
   "cell_type": "code",
   "execution_count": null,
   "metadata": {},
   "outputs": [],
   "source": []
  },
  {
   "cell_type": "code",
   "execution_count": null,
   "metadata": {},
   "outputs": [],
   "source": [
    "import numpy as np\n",
    "\n",
    "class LCG(object):\n",
    "\n",
    "    UZERO: np.uint32 = np.uint32(0)\n",
    "    UONE : np.uint32 = np.uint32(1)\n",
    "\n",
    "    def __init__(self, seed: np.uint32, a: np.uint32, c: np.uint32) -> None:\n",
    "        self._seed: np.uint32 = np.uint32(seed)\n",
    "        self._a   : np.uint32 = np.uint32(a)\n",
    "        self._c   : np.uint32 = np.uint32(c)\n",
    "\n",
    "    def next(self) -> np.uint32:\n",
    "        self._seed = self._a * self._seed + self._c\n",
    "        return self._seed\n",
    "\n",
    "    def seed(self) -> np.uint32:\n",
    "        return self._seed\n",
    "\n",
    "    def set_seed(self, seed: np.uint32) -> np.uint32:\n",
    "        self._seed = seed\n",
    "\n",
    "    def skip(self, ns: np.int32) -> None:\n",
    "        \"\"\"\n",
    "        Signed argument - skip forward as well as backward\n",
    "\n",
    "        The algorithm here to determine the parameters used to skip ahead is\n",
    "        described in the paper F. Brown, \"Random Number Generation with Arbitrary Stride,\"\n",
    "        Trans. Am. Nucl. Soc. (Nov. 1994). This algorithm is able to skip ahead in\n",
    "        O(log2(N)) operations instead of O(N). It computes parameters\n",
    "        A and C which can then be used to find x_N = A*x_0 + C mod 2^M.\n",
    "        \"\"\"\n",
    "\n",
    "        nskip: np.uint32 = np.uint32(ns)\n",
    "\n",
    "        a: np.uint32 = self._a\n",
    "        c: np.uint32 = self._c\n",
    "\n",
    "        a_next: np.uint32 = LCG.UONE\n",
    "        c_next: np.uint32 = LCG.UZERO\n",
    "\n",
    "        while nskip > LCG.UZERO:\n",
    "            if (nskip & LCG.UONE) != LCG.UZERO:\n",
    "                a_next = a_next * a\n",
    "                c_next = c_next * a + c\n",
    "\n",
    "            c = (a + LCG.UONE) * c\n",
    "            a = a * a\n",
    "\n",
    "            nskip = nskip >> LCG.UONE\n",
    "\n",
    "        self._seed = a_next * self._seed + c_next\n",
    "\n",
    "\n",
    "#%%\n",
    "np.seterr(over='ignore')\n",
    "\n",
    "a = np.uint32(1664525)\n",
    "c = np.uint32(1013904223)\n",
    "seed = np.uint32(1)\n",
    "\n",
    "rng = LCG(seed, a, c)\n",
    "q = [rng.next() for _ in range(0, 25000000)]\n"
   ]
  },
  {
   "cell_type": "code",
   "execution_count": null,
   "metadata": {},
   "outputs": [],
   "source": [
    "%%capture cap --no-stderr\n",
    "print(q)"
   ]
  },
  {
   "cell_type": "code",
   "execution_count": null,
   "metadata": {},
   "outputs": [],
   "source": [
    "with open('output.txt', 'w') as f:\n",
    "    f.write(cap.stdout)"
   ]
  },
  {
   "cell_type": "code",
   "execution_count": null,
   "metadata": {},
   "outputs": [],
   "source": [
    "# wrong\n",
    "%%capture cap --no-stderr\n",
    "print(q)\n",
    "with open('output.txt', 'w') as f:\n",
    "    f.write(cap.stdout)"
   ]
  }
 ],
 "metadata": {
  "hide_input": false,
  "kernelspec": {
   "display_name": "Python 3",
   "language": "python",
   "name": "python3"
  },
  "language_info": {
   "codemirror_mode": {
    "name": "ipython",
    "version": 3
   },
   "file_extension": ".py",
   "mimetype": "text/x-python",
   "name": "python",
   "nbconvert_exporter": "python",
   "pygments_lexer": "ipython3",
   "version": "3.7.2"
  },
  "toc": {
   "base_numbering": 1,
   "nav_menu": {},
   "number_sections": true,
   "sideBar": true,
   "skip_h1_title": false,
   "title_cell": "Table of Contents",
   "title_sidebar": "Contents",
   "toc_cell": false,
   "toc_position": {},
   "toc_section_display": true,
   "toc_window_display": false
  },
  "varInspector": {
   "cols": {
    "lenName": 16,
    "lenType": 16,
    "lenVar": 40
   },
   "kernels_config": {
    "python": {
     "delete_cmd_postfix": "",
     "delete_cmd_prefix": "del ",
     "library": "var_list.py",
     "varRefreshCmd": "print(var_dic_list())"
    },
    "r": {
     "delete_cmd_postfix": ") ",
     "delete_cmd_prefix": "rm(",
     "library": "var_list.r",
     "varRefreshCmd": "cat(var_dic_list()) "
    }
   },
   "types_to_exclude": [
    "module",
    "function",
    "builtin_function_or_method",
    "instance",
    "_Feature"
   ],
   "window_display": false
  }
 },
 "nbformat": 4,
 "nbformat_minor": 2
}
