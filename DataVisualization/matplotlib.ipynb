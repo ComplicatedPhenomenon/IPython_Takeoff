{
 "cells": [
  {
   "cell_type": "code",
   "execution_count": null,
   "metadata": {
    "ExecuteTime": {
     "end_time": "2019-11-28T14:08:54.412509Z",
     "start_time": "2019-11-28T14:08:54.408968Z"
    }
   },
   "outputs": [],
   "source": [
    "from IPython.core.interactiveshell import InteractiveShell\n",
    "InteractiveShell.ast_node_interactivity = \"all\""
   ]
  },
  {
   "cell_type": "markdown",
   "metadata": {},
   "source": [
    "* https://glowingpython.blogspot.com\n",
    "* https://github.com/rougier/matplotlib-tutorial"
   ]
  },
  {
   "cell_type": "markdown",
   "metadata": {},
   "source": [
    "![](../figure/xmind/matplotlib.png)\n",
    "https://realpython.com/python-matplotlib-guide/"
   ]
  },
  {
   "cell_type": "code",
   "execution_count": null,
   "metadata": {
    "ExecuteTime": {
     "end_time": "2019-11-28T14:08:58.024396Z",
     "start_time": "2019-11-28T14:08:54.415407Z"
    }
   },
   "outputs": [],
   "source": [
    "%matplotlib inline \n",
    "import matplotlib.pyplot as plt"
   ]
  },
  {
   "cell_type": "code",
   "execution_count": null,
   "metadata": {
    "ExecuteTime": {
     "end_time": "2019-11-28T14:09:01.539759Z",
     "start_time": "2019-11-28T14:08:58.032471Z"
    }
   },
   "outputs": [],
   "source": [
    "import numpy as np\n",
    "import pandas as pd"
   ]
  },
  {
   "cell_type": "code",
   "execution_count": null,
   "metadata": {
    "ExecuteTime": {
     "end_time": "2019-11-28T14:09:11.849099Z",
     "start_time": "2019-11-28T14:09:01.544560Z"
    }
   },
   "outputs": [],
   "source": [
    "import plotly # (*) To communicate with Plotly's server, sign in with credentials file\n",
    "import chart_studio.plotly as py  # (*) Useful Python/Plotly tools\n",
    "import plotly.tools as tls   # (*) Graph objects to piece together plots\n",
    "from plotly.graph_objs import *"
   ]
  },
  {
   "cell_type": "code",
   "execution_count": null,
   "metadata": {
    "ExecuteTime": {
     "end_time": "2019-11-28T14:10:39.914820Z",
     "start_time": "2019-11-28T14:10:39.904438Z"
    }
   },
   "outputs": [],
   "source": [
    "?plt.plot"
   ]
  },
  {
   "cell_type": "code",
   "execution_count": null,
   "metadata": {
    "ExecuteTime": {
     "end_time": "2019-11-28T13:17:58.147680Z",
     "start_time": "2019-11-28T13:17:57.840504Z"
    }
   },
   "outputs": [],
   "source": [
    "countries = [\"United Arab Emirates\", \"Central African Republic\", \"Bosnia and Herzegovina\"]\n",
    "population = [9770529, 4745185, 3301000]\n",
    "\n",
    "_ = plt.xlabel(\"Countries\")\n",
    "_ = plt.bar(range(len(countries)), population)\n",
    "\n",
    "_ = plt.title(\"Countries in the world by population (2019)\")   \n",
    "#_ = plt.xlabel(\"Countries\")\n",
    "_ = plt.ylabel(\"Population\")   \n",
    "\n",
    "_ = plt.xticks(range(len(countries)), countries, rotation='40')\n",
    "_ = plt.yscale('log')\n",
    "\n",
    "plt.show()"
   ]
  },
  {
   "cell_type": "code",
   "execution_count": null,
   "metadata": {
    "ExecuteTime": {
     "end_time": "2019-11-28T14:08:22.241310Z",
     "start_time": "2019-11-28T14:08:22.231358Z"
    }
   },
   "outputs": [],
   "source": [
    "plt.get_backend()"
   ]
  },
  {
   "cell_type": "markdown",
   "metadata": {},
   "source": [
    "# 3D plot"
   ]
  },
  {
   "cell_type": "code",
   "execution_count": null,
   "metadata": {
    "ExecuteTime": {
     "end_time": "2019-11-28T14:05:59.747145Z",
     "start_time": "2019-11-28T14:05:59.360407Z"
    },
    "scrolled": true
   },
   "outputs": [],
   "source": [
    "from mpl_toolkits.mplot3d import Axes3D\n",
    "# Object oriented Programming\n",
    "\n",
    "X = np.arange(-5, 5, 0.25)\n",
    "Y = np.arange(-5, 5, 0.25)\n",
    "X, Y = np.meshgrid(X, Y)\n",
    "R = np.sqrt(X**2 + Y**2)\n",
    "Z = np.sin(R)\n",
    "\n",
    "# Create an object of figure\n",
    "fig = plt.figure()\n",
    "\n",
    "# Create an object of axes\n",
    "ax = Axes3D(fig)\n",
    "\n",
    "_ = ax.plot_surface(X, Y, Z, rstride=1, cstride=1)\n",
    "\n",
    "\n",
    "plt.style.use('ggplot')\n",
    "plt.show()"
   ]
  },
  {
   "cell_type": "markdown",
   "metadata": {},
   "source": [
    "# Multicolor line"
   ]
  },
  {
   "cell_type": "markdown",
   "metadata": {},
   "source": [
    "> Python中的函数式编程是通过封装对象实现的。matplotlib中的函数式调用其实也是如此。matplotlib本质上还是构建对象来构建图像函数式编程将构建对象的过程封装在函数中，从而让我们觉得很方便。"
   ]
  },
  {
   "cell_type": "code",
   "execution_count": null,
   "metadata": {
    "ExecuteTime": {
     "end_time": "2019-11-28T14:06:55.635841Z",
     "start_time": "2019-11-28T14:06:55.450221Z"
    }
   },
   "outputs": [],
   "source": [
    "x = np.linspace(0,100,100)\n",
    "y = x\n",
    "\n",
    "_ = plt.plot(x[:50], y[:50], color = 'r')\n",
    "_ = plt.plot(x[50:], y[50:], color = 'g')\n",
    "plt.show()"
   ]
  },
  {
   "cell_type": "code",
   "execution_count": null,
   "metadata": {
    "ExecuteTime": {
     "end_time": "2019-11-28T08:28:13.249385Z",
     "start_time": "2019-11-28T08:28:13.237348Z"
    }
   },
   "outputs": [],
   "source": [
    "y = np.random.choice(10,10)\n",
    "y \n",
    "for x1, x2, y1,y2 in zip(x, x[1:], y, y[1:]):\n",
    "    print([x1, x2], [y1, y2] )"
   ]
  },
  {
   "cell_type": "code",
   "execution_count": null,
   "metadata": {
    "ExecuteTime": {
     "end_time": "2019-11-28T08:29:37.284546Z",
     "start_time": "2019-11-28T08:29:37.059579Z"
    }
   },
   "outputs": [],
   "source": [
    "x = range(10)\n",
    "y = np.random.choice(10,10)\n",
    "for x1, x2, y1,y2 in zip(x, x[1:], y, y[1:]):\n",
    "    if y1 > y2:\n",
    "        _ = plt.plot([x1, x2], [y1, y2], 'r')\n",
    "    elif y1 < y2:\n",
    "        _ = plt.plot([x1, x2], [y1, y2], 'g')\n",
    "    else:\n",
    "        _ = plt.plot([x1, x2], [y1, y2], 'b')\n",
    "\n",
    "plt.show()"
   ]
  },
  {
   "cell_type": "code",
   "execution_count": null,
   "metadata": {
    "ExecuteTime": {
     "end_time": "2019-11-28T08:28:16.963969Z",
     "start_time": "2019-11-28T08:28:16.768555Z"
    }
   },
   "outputs": [],
   "source": [
    "from matplotlib.collections import LineCollection\n",
    "from matplotlib.colors import ListedColormap, BoundaryNorm\n",
    "\n",
    "x = np.linspace(0, 3 * np.pi, 500)\n",
    "y = np.sin(x)\n",
    "z = np.cos(0.5 * (x[:-1] + x[1:]))  # first derivative\n",
    "\n",
    "\n",
    "cmap = ListedColormap(['r', 'g', 'b'])\n",
    "norm = BoundaryNorm([-1, -0.5, 0.5, 1], cmap.N)\n",
    "\n",
    "points = np.array([x, y]).T.reshape(-1, 1, 2)\n",
    "segments = np.concatenate([points[:-1], points[1:]], axis=1)\n",
    "\n",
    "# Create the line collection object, setting the colormapping parameters.\n",
    "# Have to set the actual values used for colormapping separately.\n",
    "lc = LineCollection(segments, cmap=cmap, norm=norm)\n",
    "lc.set_array(z)\n",
    "lc.set_linewidth(3)\n",
    "\n",
    "# plt.gca() the appropriate axes will be created and then returned.\n",
    "_ = plt.gca().add_collection(lc)\n",
    "\n",
    "_ = plt.xlim(x.min(), x.max())\n",
    "_ = plt.ylim(-1.1, 1.1)\n",
    "plt.show()"
   ]
  },
  {
   "cell_type": "markdown",
   "metadata": {},
   "source": [
    "<span style=\"font-family:New York Times;font-size:1.2 em; color:green;\">\n",
    "Will module numpy replace module math? "
   ]
  },
  {
   "cell_type": "markdown",
   "metadata": {},
   "source": [
    "# pandas plot"
   ]
  },
  {
   "cell_type": "code",
   "execution_count": null,
   "metadata": {},
   "outputs": [],
   "source": [
    "data = {'A': {'pos': 289794, 'neg': 515063},\n",
    "        'B': {'pos': 174790, 'neg': 292551},\n",
    "        'C': {'pos': 375574, 'neg': 586616},\n",
    "        'D': {'pos': 14932, 'neg': 8661}}\n",
    "df = pd.DataFrame(data)"
   ]
  },
  {
   "cell_type": "code",
   "execution_count": null,
   "metadata": {},
   "outputs": [],
   "source": [
    " df[['A','B','C','D']].plot(kind='bar', title =\"V comp\", figsize=(8, 6), legend=True, fontsize=12)"
   ]
  },
  {
   "cell_type": "code",
   "execution_count": null,
   "metadata": {},
   "outputs": [],
   "source": [
    "data = {'A': {'pos': 289794, 'neg': 515063},\n",
    "        'B': {'pos': 174790, 'neg': 292551},\n",
    "        'C': {'pos': 375574, 'neg': 586616},\n",
    "        'D': {'pos': 14932, 'neg': 8661}}\n",
    "df = pd.DataFrame(data)\n",
    "df = df.T\n",
    "df ['sum'] = df.sum(axis=1)\n",
    "df.sort_values('sum', ascending=False)[['neg','pos']].plot.bar() "
   ]
  },
  {
   "cell_type": "markdown",
   "metadata": {},
   "source": [
    "## [Writing mathmatical expression](https://matplotlib.org/users/mathtext.html)"
   ]
  },
  {
   "cell_type": "markdown",
   "metadata": {},
   "source": [
    "$$2(e^t-1)\\displaystyle\\sum_{n = 2}^{\\infty} \\frac{(-1)^{n+1}}{n(n^2-1)}e^{-n^2t}\\sin nx$$"
   ]
  },
  {
   "cell_type": "markdown",
   "metadata": {},
   "source": [
    "* https://glowingpython.blogspot.com/2011/04/how-to-plot-function-using-matplotlib.html"
   ]
  },
  {
   "cell_type": "code",
   "execution_count": null,
   "metadata": {
    "ExecuteTime": {
     "end_time": "2019-11-28T14:51:10.153039Z",
     "start_time": "2019-11-28T14:51:09.917112Z"
    },
    "scrolled": true
   },
   "outputs": [],
   "source": [
    "x = np.linspace(-15,15,100) # 100 linearly spaced numbers\n",
    "y = np.sin(x)/x # computing the values of sin(x)/x\n",
    "\n",
    "# compose plot\n",
    "_ = plt.plot(x,y, x,2*y,x,3*y, x,y+0.2,) # 2*sin(x)/x and 3*sin(x)/x"
   ]
  },
  {
   "cell_type": "code",
   "execution_count": null,
   "metadata": {
    "ExecuteTime": {
     "end_time": "2019-11-28T14:55:40.576795Z",
     "start_time": "2019-11-28T14:55:40.282216Z"
    },
    "scrolled": true
   },
   "outputs": [],
   "source": [
    "x = np.linspace(-15,15,100) # 100 linearly spaced numbers\n",
    "y = np.sin(x)/x # computing the values of sin(x)/x\n",
    "\n",
    "# compose plot\n",
    "fig = plt.figure()\n",
    "ax = fig.add_axes([0,0,1,1])\n",
    "_ = ax.set_title(r\"$\\frac{\\sin(x)}{x}$\")\n",
    "_ = ax.plot(x,y, x,2*y,x,3*y, x,y+0.2,) # 2*sin(x)/x and 3*sin(x)/x"
   ]
  },
  {
   "cell_type": "markdown",
   "metadata": {},
   "source": [
    "## Optimize the look\n",
    "[Advice from advanced user on Matplotlib](http://www.randalolson.com/2014/06/28/how-to-make-beautiful-data-visualizations-in-python-with-matplotlib/)\n",
    "* Less is more attractive\n",
    "* Less is more impactive\n",
    "\n"
   ]
  },
  {
   "cell_type": "markdown",
   "metadata": {},
   "source": [
    "# Interactive matplotlib"
   ]
  },
  {
   "cell_type": "markdown",
   "metadata": {},
   "source": [
    "##  Turn your matplotlib plot into an interactive."
   ]
  },
  {
   "cell_type": "markdown",
   "metadata": {},
   "source": [
    "thanks to plot.ly, it only takes one more line of code to turn your matplotlib plot into an interactive."
   ]
  },
  {
   "cell_type": "code",
   "execution_count": null,
   "metadata": {
    "ExecuteTime": {
     "end_time": "2019-11-28T08:29:04.578778Z",
     "start_time": "2019-11-28T08:28:59.151224Z"
    }
   },
   "outputs": [],
   "source": [
    "x = np.linspace(-15,15,100) \n",
    "y = np.sin(x)/x  # computing the values of sin(x)/x\n",
    "\n",
    "# compose plot\n",
    "_ = plt.plot(x, y, x, 2 * y, x, 3 * y, x, y + 0.2,) # 2*sin(x)/x and 3*sin(x)/x\n",
    "# get the figure object and assign it to a variable\n",
    "_ = xfig = plt.gcf()\n",
    "#send our matplotlib figure object to py.iplot_mpl, give it a file name as keyword argument l\n",
    "py.iplot_mpl(xfig)"
   ]
  }
 ],
 "metadata": {
  "hide_input": false,
  "kernelspec": {
   "display_name": "Python 3",
   "language": "python",
   "name": "python3"
  },
  "language_info": {
   "codemirror_mode": {
    "name": "ipython",
    "version": 3
   },
   "file_extension": ".py",
   "mimetype": "text/x-python",
   "name": "python",
   "nbconvert_exporter": "python",
   "pygments_lexer": "ipython3",
   "version": "3.7.4"
  },
  "toc": {
   "base_numbering": 1,
   "nav_menu": {},
   "number_sections": true,
   "sideBar": true,
   "skip_h1_title": false,
   "title_cell": "Table of Contents",
   "title_sidebar": "Contents",
   "toc_cell": false,
   "toc_position": {},
   "toc_section_display": true,
   "toc_window_display": true
  },
  "varInspector": {
   "cols": {
    "lenName": 16,
    "lenType": 16,
    "lenVar": 40
   },
   "kernels_config": {
    "python": {
     "delete_cmd_postfix": "",
     "delete_cmd_prefix": "del ",
     "library": "var_list.py",
     "varRefreshCmd": "print(var_dic_list())"
    },
    "r": {
     "delete_cmd_postfix": ") ",
     "delete_cmd_prefix": "rm(",
     "library": "var_list.r",
     "varRefreshCmd": "cat(var_dic_list()) "
    }
   },
   "types_to_exclude": [
    "module",
    "function",
    "builtin_function_or_method",
    "instance",
    "_Feature"
   ],
   "window_display": false
  }
 },
 "nbformat": 4,
 "nbformat_minor": 2
}
