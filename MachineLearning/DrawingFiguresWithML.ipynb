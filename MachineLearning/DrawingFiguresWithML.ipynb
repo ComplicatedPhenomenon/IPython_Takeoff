{
 "cells": [
  {
   "cell_type": "code",
   "execution_count": null,
   "metadata": {
    "ExecuteTime": {
     "end_time": "2019-12-17T03:59:44.465960Z",
     "start_time": "2019-12-17T03:59:44.460672Z"
    }
   },
   "outputs": [],
   "source": [
    "from IPython.core.interactiveshell import InteractiveShell\n",
    "InteractiveShell.ast_node_interactivity = \"all\""
   ]
  },
  {
   "cell_type": "markdown",
   "metadata": {},
   "source": [
    "https://arogozhnikov.github.io/2016/02/09/DrawingPictureWithML.html"
   ]
  },
  {
   "cell_type": "code",
   "execution_count": null,
   "metadata": {
    "ExecuteTime": {
     "end_time": "2019-12-17T03:56:33.204387Z",
     "start_time": "2019-12-17T03:56:32.896348Z"
    }
   },
   "outputs": [],
   "source": [
    "from PIL import Image\n",
    "%pylab inline"
   ]
  },
  {
   "cell_type": "code",
   "execution_count": null,
   "metadata": {
    "ExecuteTime": {
     "end_time": "2019-12-17T03:56:34.414647Z",
     "start_time": "2019-12-17T03:56:33.931730Z"
    }
   },
   "outputs": [],
   "source": [
    "import numpy\n",
    "from sklearn.ensemble import RandomForestRegressor\n",
    "from sklearn.model_selection import train_test_split\n",
    "from sklearn.tree import DecisionTreeRegressor\n",
    "from sklearn.linear_model import LinearRegression\n",
    "from sklearn.neighbors import KNeighborsRegressor"
   ]
  },
  {
   "cell_type": "code",
   "execution_count": null,
   "metadata": {},
   "outputs": [],
   "source": [
    "#!wget http://static.boredpanda.com/blog/wp-content/uploads/2014/08/cat-looking-at-you-black-and-white-photography-1.jpg  -O image.jpg"
   ]
  },
  {
   "cell_type": "code",
   "execution_count": null,
   "metadata": {
    "ExecuteTime": {
     "end_time": "2019-12-17T05:42:21.112491Z",
     "start_time": "2019-12-17T05:42:20.944564Z"
    }
   },
   "outputs": [],
   "source": [
    "Image.open('./image.jpg')"
   ]
  },
  {
   "cell_type": "code",
   "execution_count": null,
   "metadata": {
    "ExecuteTime": {
     "end_time": "2019-12-17T04:01:24.125616Z",
     "start_time": "2019-12-17T04:01:23.760581Z"
    }
   },
   "outputs": [],
   "source": [
    "image = numpy.asarray(Image.open('./image.jpg')).mean(axis=2)\n",
    "\n",
    "_ = plt.figure(figsize=[10, 5])\n",
    "_ = plt.imshow(image, cmap='gray')"
   ]
  },
  {
   "cell_type": "code",
   "execution_count": null,
   "metadata": {
    "ExecuteTime": {
     "end_time": "2019-12-17T04:01:42.297637Z",
     "start_time": "2019-12-17T04:01:41.986543Z"
    }
   },
   "outputs": [],
   "source": [
    "_ = plt.imshow(image)"
   ]
  },
  {
   "cell_type": "code",
   "execution_count": null,
   "metadata": {
    "ExecuteTime": {
     "end_time": "2019-12-17T04:01:46.964918Z",
     "start_time": "2019-12-17T04:01:46.959151Z"
    }
   },
   "outputs": [],
   "source": [
    "image.shape"
   ]
  },
  {
   "cell_type": "code",
   "execution_count": null,
   "metadata": {
    "ExecuteTime": {
     "end_time": "2019-12-17T03:56:41.751779Z",
     "start_time": "2019-12-17T03:56:41.734700Z"
    }
   },
   "outputs": [],
   "source": [
    "def train_display(regressor, image, train_size=0.02):\n",
    "    height, width = image.shape\n",
    "    flat_image = image.reshape(-1)\n",
    "    xs = numpy.arange(len(flat_image)) % width\n",
    "    ys = numpy.arange(len(flat_image)) // width    \n",
    "    data = numpy.array([xs, ys]).T\n",
    "    target = flat_image\n",
    "    trainX, testX, trainY, testY = train_test_split(data, target, train_size=train_size, random_state=42)\n",
    "    mean = trainY.mean()\n",
    "    regressor.fit(trainX, trainY - mean)\n",
    "    new_flat_picture = regressor.predict(data) + mean\n",
    "    plt.figure(figsize=[20, 10])\n",
    "    plt.subplot(121)\n",
    "    plt.imshow(image, cmap='gray')\n",
    "    plt.subplot(122)\n",
    "    plt.imshow(new_flat_picture.reshape(height, width), cmap='gray')"
   ]
  },
  {
   "cell_type": "code",
   "execution_count": null,
   "metadata": {
    "ExecuteTime": {
     "end_time": "2019-12-17T03:56:45.119966Z",
     "start_time": "2019-12-17T03:56:44.449506Z"
    }
   },
   "outputs": [],
   "source": [
    "train_display(LinearRegression(), image)"
   ]
  },
  {
   "cell_type": "code",
   "execution_count": null,
   "metadata": {
    "ExecuteTime": {
     "end_time": "2019-12-17T03:56:46.840185Z",
     "start_time": "2019-12-17T03:56:46.126026Z"
    }
   },
   "outputs": [],
   "source": [
    "train_display(DecisionTreeRegressor(max_depth=10), image)"
   ]
  },
  {
   "cell_type": "code",
   "execution_count": null,
   "metadata": {
    "ExecuteTime": {
     "end_time": "2019-12-17T03:56:50.817022Z",
     "start_time": "2019-12-17T03:56:50.068362Z"
    }
   },
   "outputs": [],
   "source": [
    "train_display(DecisionTreeRegressor(max_depth=20), image)"
   ]
  },
  {
   "cell_type": "code",
   "execution_count": null,
   "metadata": {
    "ExecuteTime": {
     "end_time": "2019-12-17T03:57:03.170037Z",
     "start_time": "2019-12-17T03:57:02.484178Z"
    }
   },
   "outputs": [],
   "source": [
    "train_display(DecisionTreeRegressor(min_samples_leaf=40), image)"
   ]
  },
  {
   "cell_type": "code",
   "execution_count": null,
   "metadata": {
    "ExecuteTime": {
     "end_time": "2019-12-17T03:57:07.192012Z",
     "start_time": "2019-12-17T03:57:06.471027Z"
    }
   },
   "outputs": [],
   "source": [
    "train_display(DecisionTreeRegressor(min_samples_leaf=5), image)"
   ]
  },
  {
   "cell_type": "code",
   "execution_count": null,
   "metadata": {
    "ExecuteTime": {
     "end_time": "2019-12-17T03:57:15.789491Z",
     "start_time": "2019-12-17T03:57:10.178653Z"
    }
   },
   "outputs": [],
   "source": [
    "train_display(RandomForestRegressor(n_estimators=100), image)"
   ]
  },
  {
   "cell_type": "code",
   "execution_count": null,
   "metadata": {
    "ExecuteTime": {
     "end_time": "2019-12-17T03:57:20.657821Z",
     "start_time": "2019-12-17T03:57:18.923129Z"
    }
   },
   "outputs": [],
   "source": [
    "train_display(KNeighborsRegressor(n_neighbors=5, weights='distance'), image)"
   ]
  },
  {
   "cell_type": "code",
   "execution_count": null,
   "metadata": {
    "ExecuteTime": {
     "end_time": "2019-12-17T03:57:39.778154Z",
     "start_time": "2019-12-17T03:57:28.142400Z"
    }
   },
   "outputs": [],
   "source": [
    "train_display(KNeighborsRegressor(n_neighbors=2, metric='canberra'), image)"
   ]
  },
  {
   "cell_type": "code",
   "execution_count": null,
   "metadata": {},
   "outputs": [],
   "source": []
  }
 ],
 "metadata": {
  "kernelspec": {
   "display_name": "Python 3",
   "language": "python",
   "name": "python3"
  },
  "language_info": {
   "codemirror_mode": {
    "name": "ipython",
    "version": 3
   },
   "file_extension": ".py",
   "mimetype": "text/x-python",
   "name": "python",
   "nbconvert_exporter": "python",
   "pygments_lexer": "ipython3",
   "version": "3.7.4"
  },
  "toc": {
   "base_numbering": 1,
   "nav_menu": {},
   "number_sections": true,
   "sideBar": true,
   "skip_h1_title": false,
   "title_cell": "Table of Contents",
   "title_sidebar": "Contents",
   "toc_cell": false,
   "toc_position": {},
   "toc_section_display": true,
   "toc_window_display": false
  }
 },
 "nbformat": 4,
 "nbformat_minor": 2
}
