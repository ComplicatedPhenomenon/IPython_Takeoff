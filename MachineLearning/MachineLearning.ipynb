{
 "cells": [
  {
   "cell_type": "markdown",
   "metadata": {},
   "source": [
    "###  The workflow of Machine Learning now becomes clear to me\n",
    "\n",
    "[Artificial neural network contains](https://en.m.wikipedia.org/wiki/Artificial_neural_network) :\n",
    "\n",
    "* Conventional Neural Network. Which has beeen successfully been applied to analyzing visual imagery. \n",
    "* [Multi-Layer Neural Network](http://ufldl.stanford.edu/tutorial/supervised/MultiLayerNeuralNetworks/).\n",
    "* Deep Belief Network.\n",
    "* [... Network]\n",
    "\n",
    "Different algorithm adapts to different application area.\n",
    "\n",
    "We can implement a lot assisted by Tensorflow, a complete framework constructed by Google.\n",
    "[eg](https://github.com/MorvanZhou/Tensorflow-Tutorial).Unlike windows, it is a open \n",
    "source software.\n",
    "[Why is deep learning so easy?](https://www.quora.com/Why-is-deep-learning-so-easy/answer/Kiran-Kannar?share=c6a2aaab&srid=hSCmA)\n",
    "\n",
    "> * Training is still hard. Take for example weight initialization in neural networks. \n",
    "> * Scale. Very few people(or companies) can actually afford to run extremely large and deep networks on several GPUs.\n",
    "> * The relativity of \"obvious\". If you find the math behind deep learning is easy, you should invest time into improving deep learning,\n",
    "> * Surface. Today, you can build a neural network model with a line of code, choosing some *random initialization technique*, *gradient descent optimizers* and other things. You don't need to actually understand the internals. It's more of **plug-play** approach. This superficiality can lull you into thinking why did people even struggle with building deep learning models.\n",
    "\n",
    "<hr>\n",
    "\n",
    "### I think:\n",
    "\n",
    "For people who don't know the reason behind **ML** apply to their own work, they can do little with it to make improvement . It is like another *calculator* for the general population. In the area of theoretical physics,  **ML**  cares little about physical principals. The virtue of this method come in this way. You just find it has low effciency in calculating something in a traditional way, where you construct a model from real event directly, then after got some reliable data to the machine for learning, then the machine is capable to predict the outcome, ideally, which is very close to the result by using routine program. However, this method involve nothing with physics. So, physicist still need to solve their problems on their own. \n",
    "\n",
    "Put it in another way, it's like most people can play with a smart cell phone after being instructed, but fewer and fewer people can reproduce the phone from the very basic principle and instruments. You can play with the phone doesn't mean you know much about it. If you are using the computational framework, but know little about how the function is implemented, then you can do little with it. You cannot develop it even it is very extennsible. "
   ]
  },
  {
   "cell_type": "markdown",
   "metadata": {},
   "source": [
    "information that is just enough to get one started in DL and build confidence :\n",
    "[A Short Beginner’s Guide to Deep Learning](https://achintavarna.wordpress.com/2017/11/06/a-short-beginners-guide-to-deep-learning/)"
   ]
  },
  {
   "cell_type": "markdown",
   "metadata": {},
   "source": [
    "## 1.Data Mining"
   ]
  },
  {
   "cell_type": "markdown",
   "metadata": {},
   "source": [
    "## 2.Data Analysis"
   ]
  },
  {
   "cell_type": "markdown",
   "metadata": {},
   "source": [
    "## 3.Machine Learning"
   ]
  },
  {
   "cell_type": "markdown",
   "metadata": {},
   "source": [
    "---\n",
    "Too idea ituation:\n",
    "\n",
    "Specialist means someone is good at something, they can found out the crucial problem, and know the way to find out the deep reason behind the appearances. Take data scientist in filed of astrophysics as an example, what is he or she good at? They will process high resolution image of the sky taking by camera everyday, they are good at using machine learning method dealing with these data, but they don't know how to invent a more elegant machine learning methods, that's stastician of algorithm's zone.\n",
    "\n",
    "More reliable：\n",
    "\n",
    "[天体物理代码库](http://ascl.net/)\n",
    "\n",
    "> **ASCL** is a free online registry for source codes of interests to astronomers and astrophysicists and list code that have been used in research that has appeared in, or been subjected to, peer-reviewed publications. "
   ]
  },
  {
   "cell_type": "markdown",
   "metadata": {},
   "source": [
    "[Difference between GPU and CPU](https://www.quora.com/Whats-the-difference-between-a-CPU-and-a-GPU-When-I-switch-on-my-computer-it-shows-GPU-information-What-does-it-mean), one is special pupose processor, the other is general purpose processor. \n",
    "\n",
    "> [Hadoop, an open source framework that enables distributed computing, has changed the way we deal with big data. Parallel processing with this set of tools can improve performance several times over. The question is, can we make it work even faster? What about offloading calculations from a CPU to a graphics processing unit (GPU) designed to perform complex 3D and mathematical tasks? In theory, if the process is optimized for parallel computing, a GPU could perform calculations 50-100 times faster than a CPU.](https://www.networkworld.com/article/2167576/tech-primers/hadoop---gpu--boost-performance-of-your-big-data-project-by-50x-200x-.html)"
   ]
  },
  {
   "cell_type": "markdown",
   "metadata": {},
   "source": [
    "[Tensor-flow on android](https://www.oreilly.com/learning/tensorflow-on-android)"
   ]
  },
  {
   "cell_type": "markdown",
   "metadata": {},
   "source": [
    "## Machine Learning and Big Data\n",
    "- [Basic](http://zqted.com/big-data-and-machine-learning.html)"
   ]
  },
  {
   "cell_type": "markdown",
   "metadata": {},
   "source": [
    "### [Astropy](https://github.com/astroML/astroML)\n",
    "* Issue the author considered seriously we might don't know. [He might give up speed in order to make it light-weight. Whether license is compatible or not between packages is also a problem](https://github.com/astroML/astroML/issues/50).\n",
    "* If you write a package nearly perfect, then people will give the corresponding recongnition.[Astropy Affiliated Package Review](https://github.com/astroML/astroML/issues/100).\n",
    "* And you can find fantastic people who discussed problems with Jake Vanderplas."
   ]
  },
  {
   "cell_type": "markdown",
   "metadata": {
    "collapsed": true
   },
   "source": [
    "### Crush of firefox\n",
    "My `firefox` browser broke down , At first I don't know why shortcuts in Jupyter Notebook didn't work, the reaction is slow, I couldn't use `Ctrl+M` to change the cell type, I couldn't do anything, then I founnd that I can't type letters into the input position of bing, I thought something went wrong with my keyboard, but I can type in vim editor. All of a sudden, I change my default browser, so when I run `jupyter notebook` on opera, it recovered."
   ]
  }
 ],
 "metadata": {
  "kernelspec": {
   "display_name": "Python 3",
   "language": "python",
   "name": "python3"
  },
  "language_info": {
   "codemirror_mode": {
    "name": "ipython",
    "version": 3
   },
   "file_extension": ".py",
   "mimetype": "text/x-python",
   "name": "python",
   "nbconvert_exporter": "python",
   "pygments_lexer": "ipython3",
   "version": "3.7.4"
  },
  "latex_envs": {
   "LaTeX_envs_menu_present": true,
   "autocomplete": true,
   "bibliofile": "biblio.bib",
   "cite_by": "apalike",
   "current_citInitial": 1,
   "eqLabelWithNumbers": true,
   "eqNumInitial": 1,
   "hotkeys": {
    "equation": "Ctrl-E",
    "itemize": "Ctrl-I"
   },
   "labels_anchors": false,
   "latex_user_defs": false,
   "report_style_numbering": false,
   "user_envs_cfg": false
  },
  "toc": {
   "base_numbering": 1,
   "nav_menu": {},
   "number_sections": true,
   "sideBar": true,
   "skip_h1_title": false,
   "title_cell": "Table of Contents",
   "title_sidebar": "Contents",
   "toc_cell": false,
   "toc_position": {},
   "toc_section_display": true,
   "toc_window_display": false
  }
 },
 "nbformat": 4,
 "nbformat_minor": 2
}
