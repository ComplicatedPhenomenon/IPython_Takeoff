{
 "cells": [
  {
   "cell_type": "markdown",
   "metadata": {},
   "source": [
    "[挖到宝了， 中文版说明好亲切](http://docs.pythontab.com/)"
   ]
  },
  {
   "cell_type": "code",
   "execution_count": null,
   "metadata": {},
   "outputs": [],
   "source": [
    "def test_var_args(f_arg, *argv): # 预先并不知道, 函数使用者会传递多少个参数给你\n",
    "    print(\"first normal arg:\", f_arg)\n",
    "    for arg in argv:\n",
    "        print(\"another arg through *argv:\", arg)\n",
    "\n",
    "test_var_args('yasoob', 'python', 'eggs', 'test')"
   ]
  },
  {
   "cell_type": "code",
   "execution_count": null,
   "metadata": {},
   "outputs": [],
   "source": [
    "test_list1 = [\"a\",1]"
   ]
  },
  {
   "cell_type": "code",
   "execution_count": null,
   "metadata": {},
   "outputs": [],
   "source": [
    "type(test_list1)"
   ]
  },
  {
   "cell_type": "code",
   "execution_count": null,
   "metadata": {},
   "outputs": [],
   "source": [
    "dir(test_list1)"
   ]
  },
  {
   "cell_type": "code",
   "execution_count": null,
   "metadata": {},
   "outputs": [],
   "source": [
    "test_list1.append([\"family\",\"love\"])"
   ]
  },
  {
   "cell_type": "code",
   "execution_count": null,
   "metadata": {},
   "outputs": [],
   "source": [
    "test_list1"
   ]
  },
  {
   "cell_type": "code",
   "execution_count": null,
   "metadata": {},
   "outputs": [],
   "source": [
    "string = \"Wang Miao is a sensible girl\""
   ]
  },
  {
   "cell_type": "code",
   "execution_count": null,
   "metadata": {},
   "outputs": [],
   "source": [
    "dir(str)"
   ]
  },
  {
   "cell_type": "code",
   "execution_count": null,
   "metadata": {},
   "outputs": [],
   "source": [
    "type(string)"
   ]
  },
  {
   "cell_type": "code",
   "execution_count": null,
   "metadata": {},
   "outputs": [],
   "source": [
    "string.title()"
   ]
  },
  {
   "cell_type": "code",
   "execution_count": null,
   "metadata": {},
   "outputs": [],
   "source": [
    "string.translate(\"wm\")"
   ]
  },
  {
   "cell_type": "code",
   "execution_count": null,
   "metadata": {},
   "outputs": [],
   "source": [
    "?str.title"
   ]
  },
  {
   "cell_type": "code",
   "execution_count": null,
   "metadata": {},
   "outputs": [],
   "source": [
    "string_split = string.split()"
   ]
  },
  {
   "cell_type": "code",
   "execution_count": null,
   "metadata": {},
   "outputs": [],
   "source": [
    "string_split"
   ]
  },
  {
   "cell_type": "code",
   "execution_count": null,
   "metadata": {},
   "outputs": [],
   "source": [
    "type(string_split)"
   ]
  },
  {
   "cell_type": "code",
   "execution_count": null,
   "metadata": {},
   "outputs": [],
   "source": [
    "def greet_me(**kwargs): # 想要在一个函数里处理带名字的参数\n",
    "    for key, value in kwargs.items():\n",
    "        print(\"{0} == {1}\".format(key, value))\n",
    "\n",
    "\n",
    "greet_me(name=\"yasoob\")"
   ]
  },
  {
   "cell_type": "code",
   "execution_count": null,
   "metadata": {},
   "outputs": [],
   "source": [
    "# generator version\n",
    "def fibon(n):\n",
    "    a = b = 1\n",
    "    for i in range(n):\n",
    "        yield a\n",
    "        a, b = b, a + b"
   ]
  },
  {
   "cell_type": "code",
   "execution_count": null,
   "metadata": {},
   "outputs": [],
   "source": [
    "for x in fibon(1000000):\n",
    "    print(x)"
   ]
  },
  {
   "cell_type": "code",
   "execution_count": null,
   "metadata": {},
   "outputs": [],
   "source": [
    "def multiply(x):\n",
    "        return (x*x)\n",
    "def add(x):\n",
    "        return (x+x)\n",
    "\n",
    "funcs = [multiply, add]\n",
    "for i in range(5):\n",
    "    value = map(lambda x: x(i), funcs)\n",
    "    print(list(value))"
   ]
  },
  {
   "cell_type": "code",
   "execution_count": null,
   "metadata": {},
   "outputs": [],
   "source": [
    "number_list = range(-5, 5)\n",
    "less_than_zero = filter(lambda x: x < 0, number_list)\n",
    "print(list(less_than_zero)) "
   ]
  },
  {
   "cell_type": "code",
   "execution_count": null,
   "metadata": {},
   "outputs": [],
   "source": [
    "from functools import reduce\n",
    "product = reduce( (lambda x, y: x * y), [1, 2, 3, 4] )\n",
    "print(product)"
   ]
  },
  {
   "cell_type": "markdown",
   "metadata": {},
   "source": [
    "list.count(obj) 返回元素在列表中出现的次数"
   ]
  },
  {
   "cell_type": "code",
   "execution_count": null,
   "metadata": {},
   "outputs": [],
   "source": [
    "some_list = ['a', 'b', 'c', 'b', 'd', 'm', 'n', 'n']\n",
    "\n",
    "duplicates = []\n",
    "for value in some_list:\n",
    "    if some_list.count(value) > 1:\n",
    "        if value not in duplicates:\n",
    "            duplicates.append(value)\n",
    "\n",
    "print(duplicates)\n",
    "duplicates = set([x for x in some_list if some_list.count(x) > 1])\n",
    "print(duplicates)"
   ]
  },
  {
   "cell_type": "code",
   "execution_count": null,
   "metadata": {},
   "outputs": [],
   "source": [
    "valid = set(['yellow', 'red', 'blue', 'green', 'black'])\n",
    "input_set = set(['red', 'brown'])\n",
    "print(input_set.intersection(valid))\n",
    "valid = set(['yellow', 'red', 'blue', 'green', 'black'])\n",
    "input_set = set(['red', 'brown'])\n",
    "print(input_set.difference(valid))\n",
    "a_set = {'red', 'blue', 'green'}\n",
    "print(type(a_set))"
   ]
  },
  {
   "cell_type": "code",
   "execution_count": null,
   "metadata": {},
   "outputs": [],
   "source": [
    "#(返回假，返回真)[真或假]\n",
    "#(if_test_is_false, if_test_is_true)[test]\n",
    "fat = True\n",
    "fitness = (\"skinny\", \"fat\")[fat]\n",
    "print(\"Ali is \", fitness)"
   ]
  },
  {
   "cell_type": "code",
   "execution_count": null,
   "metadata": {},
   "outputs": [],
   "source": [
    "def a():\n",
    "    pass\n",
    "print(a)\n",
    "print(a())\n",
    "del a"
   ]
  },
  {
   "cell_type": "code",
   "execution_count": null,
   "metadata": {},
   "outputs": [],
   "source": [
    "def hi(name=\"yasoob\"):\n",
    "    return \"hi \" + name\n",
    "\n",
    "print(hi())\n",
    "\n",
    "# 我们甚至可以将一个函数赋值给一个变量，比如\n",
    "greet = hi\n",
    "# 我们这里没有在使用小括号，因为我们并不是在调用hi函数\n",
    "# 而是在将它放在greet变量里头。我们尝试运行下这个\n",
    "\n",
    "print(greet())\n",
    "# 如果我们删掉旧的hi函数，看看会发生什么！\n",
    "del hi\n",
    "# print(hi())\n",
    "print(greet())\n",
    "#outputs: 'hi yasoob'"
   ]
  },
  {
   "cell_type": "markdown",
   "metadata": {},
   "source": [
    "在函数中定义函数"
   ]
  },
  {
   "cell_type": "code",
   "execution_count": null,
   "metadata": {},
   "outputs": [],
   "source": [
    "def hi(name=\"yasoob\"):\n",
    "    print(\"now you are inside the hi() function\")\n",
    "\n",
    "    def greet():\n",
    "        return \"now you are in the greet() function\"\n",
    "\n",
    "    def welcome():\n",
    "        return \"now you are in the welcome() function\"\n",
    "\n",
    "    print(greet())\n",
    "    print(welcome())\n",
    "    print(\"now you are back in the hi() function\")\n",
    "\n",
    "hi()\n",
    "# 上面展示了无论何时你调用hi(), greet()和welcome()将会同时被调用。\n",
    "# 然后greet()和welcome()函数在hi()函数之外是不能访问的，比如：\n",
    "\n",
    "greet()\n",
    "#outputs: NameError: name 'greet' is not defined"
   ]
  },
  {
   "cell_type": "markdown",
   "metadata": {},
   "source": [
    "在函数中返回函数"
   ]
  },
  {
   "cell_type": "code",
   "execution_count": null,
   "metadata": {},
   "outputs": [],
   "source": [
    "def hi(name=\"yasoob\"):\n",
    "    def greet():\n",
    "        return \"now you are in the greet() function\"\n",
    "\n",
    "    def welcome():\n",
    "        return \"now you are in the welcome() function\"\n",
    "\n",
    "    if name == \"yasoob\":\n",
    "        return greet\n",
    "    else:\n",
    "        return welcome\n",
    "# 在if/else语句中我们返回greet和welcome，而不是greet()和welcome()\n",
    "a = hi()\n",
    "b = hi(name='wm')\n",
    "print(a)\n",
    "print(b)\n",
    "print(a())\n",
    "print(b())\n",
    "c = hi()()\n",
    "print(c)"
   ]
  },
  {
   "cell_type": "markdown",
   "metadata": {},
   "source": [
    "这是因为当你把一对小括号放在后面，这个函数就会执行；然而如果你不放括号在它后面，那它可以被到处传递，并且可以赋值给别的变量而不去执行它\n",
    "\n",
    "当我们写下a = hi()，hi()会被执行，而由于name参数默认是yasoob，所以函数greet被返回了。如果我们把语句改为a = hi(name = \"ali\")，那么welcome函数将被返回。我们还可以打印出hi()()，这会输出now you are in the greet() function。"
   ]
  },
  {
   "cell_type": "code",
   "execution_count": null,
   "metadata": {},
   "outputs": [],
   "source": [
    "def hi():\n",
    "    return \"hi yasoob!\"\n",
    "\n",
    "def doSomethingBeforeHi(func):\n",
    "    print(\"I am doing some boring work before executing hi()\")\n",
    "    return func() #在函数中返回函数\n",
    "\n",
    "doSomethingBeforeHi(hi)"
   ]
  },
  {
   "cell_type": "code",
   "execution_count": null,
   "metadata": {},
   "outputs": [],
   "source": [
    "def a_new_decorator(a_func):\n",
    "\n",
    "    def wrapTheFunction():\n",
    "        print(\"I am doing some boring work before executing a_func()\")\n",
    "        a_func()\n",
    "        print(\"I am doing some boring work after executing a_func()\")\n",
    "        \n",
    "    return wrapTheFunction\n",
    "    #return wrapTheFunction() \n",
    "    #TypeError: 'NoneType' object is not callable\n",
    "\n",
    "def a_function_requiring_decoration():\n",
    "    print(\"I am the function which needs some decoration to remove my foul smell\")\n",
    "\n",
    "a_function_requiring_decoration()\n",
    "a_function_requiring_decoration = a_new_decorator(a_function_requiring_decoration)\n",
    "#now a_function_requiring_decoration is wrapped by wrapTheFunction()\n",
    "\n",
    "a_function_requiring_decoration()"
   ]
  },
  {
   "cell_type": "markdown",
   "metadata": {},
   "source": [
    "python中装饰器做的事情:它们封装一个函数，并且用这样或者那样的方式来修改它的行为。"
   ]
  },
  {
   "cell_type": "code",
   "execution_count": null,
   "metadata": {},
   "outputs": [],
   "source": [
    "def a_new_decorator(a_func):\n",
    "\n",
    "    def wrapTheFunction():\n",
    "        print(\"I am doing some boring work before executing a_func()\")\n",
    "        a_func()\n",
    "        print(\"I am doing some boring work after executing a_func()\")\n",
    "        \n",
    "    return wrapTheFunction\n",
    "\n",
    "@a_new_decorator  # a_function_requiring_decoration become an argument for a_new_decoraror\n",
    "def a_function_requiring_decoration():\n",
    "    \"\"\"Hey you! Decorate me!\"\"\"\n",
    "    print(\"I am the function which needs some decoration to \"\n",
    "          \"remove my foul smell\")\n",
    "\n",
    "a_function_requiring_decoration()\n",
    "\n",
    "# the @a_new_decorator is just a short way of saying:\n",
    "# a_function_requiring_decoration = a_new_decorator(a_function_requiring_decoration)"
   ]
  },
  {
   "cell_type": "code",
   "execution_count": null,
   "metadata": {},
   "outputs": [],
   "source": [
    "print(a_function_requiring_decoration.__name__)"
   ]
  },
  {
   "cell_type": "code",
   "execution_count": null,
   "metadata": {},
   "outputs": [],
   "source": [
    "from functools import wraps\n",
    "def decorator_name(f):\n",
    "    @wraps(f)\n",
    "    def decorated(*args, **kwargs):\n",
    "        if not can_run:\n",
    "            return \"Function will not run\"\n",
    "        return f(*args, **kwargs)\n",
    "    return decorated\n",
    "\n",
    "@decorator_name\n",
    "def func():\n",
    "    return(\"Function is running\")\n",
    "\n",
    "can_run = True\n",
    "print(func())\n",
    "\n",
    "can_run = False\n",
    "print(func())\n",
    "# @wraps接受一个函数来进行装饰，并加入了复制函数名称、注释文档、参数列表等等的功能。这可以让我们在装饰器里面访问在装饰之前的函数的属性"
   ]
  },
  {
   "cell_type": "code",
   "execution_count": null,
   "metadata": {},
   "outputs": [],
   "source": [
    "from functools import wraps\n",
    "\n",
    "def requires_auth(f):\n",
    "    @wraps(f)\n",
    "    def decorated(*args, **kwargs):\n",
    "        auth = request.authorization\n",
    "        if not auth or not check_auth(auth.username, auth.password):\n",
    "            authenticate()\n",
    "        return f(*args, **kwargs)\n",
    "    return decorated"
   ]
  },
  {
   "cell_type": "code",
   "execution_count": null,
   "metadata": {},
   "outputs": [],
   "source": [
    "def logit(func):\n",
    "    @wraps(func)\n",
    "    def with_logging(*args, **kwargs):\n",
    "        print(func.__name__ + \" was called\")\n",
    "        return func(*args, **kwargs)\n",
    "    return with_logging\n",
    "\n",
    "@logit\n",
    "def addition_func(x):\n",
    "   \"\"\"Do some math.\"\"\"\n",
    "   return x + x\n",
    "\n",
    "\n",
    "result = addition_func(4)"
   ]
  },
  {
   "cell_type": "markdown",
   "metadata": {},
   "source": [
    "## Time complexity"
   ]
  },
  {
   "cell_type": "code",
   "execution_count": 4,
   "metadata": {},
   "outputs": [],
   "source": [
    "n = 1000\n",
    "a = list(range(n))\n",
    "b = dict.fromkeys(range(n))"
   ]
  },
  {
   "cell_type": "code",
   "execution_count": 5,
   "metadata": {},
   "outputs": [],
   "source": [
    "for i in range(100):\n",
    "    i is a\n",
    "    i is b"
   ]
  },
  {
   "cell_type": "code",
   "execution_count": 7,
   "metadata": {},
   "outputs": [],
   "source": [
    "def o_one(itimes):\n",
    "    return 1\n",
    "def o_n(items):\n",
    "    # walk through all items once. Caculate all the items added up \n",
    "    total = 0\n",
    "    for item in items:\n",
    "        total += item\n",
    "    return total\n",
    "def o_n_squared(items):\n",
    "    total = 0\n",
    "    for a in items:\n",
    "        for b in items:\n",
    "            total += a*b\n",
    "    return total"
   ]
  },
  {
   "cell_type": "code",
   "execution_count": 14,
   "metadata": {},
   "outputs": [
    {
     "name": "stdout",
     "output_type": "stream",
     "text": [
      "1\n",
      "45\n",
      "2025\n"
     ]
    }
   ],
   "source": [
    "n = 10\n",
    "items = range(n)\n",
    "print(o_one(items))\n",
    "print(o_n(items))\n",
    "print(o_n_squared(items))"
   ]
  },
  {
   "cell_type": "code",
   "execution_count": null,
   "metadata": {},
   "outputs": [],
   "source": []
  }
 ],
 "metadata": {
  "kernelspec": {
   "display_name": "Python 3",
   "language": "python",
   "name": "python3"
  },
  "language_info": {
   "codemirror_mode": {
    "name": "ipython",
    "version": 3
   },
   "file_extension": ".py",
   "mimetype": "text/x-python",
   "name": "python",
   "nbconvert_exporter": "python",
   "pygments_lexer": "ipython3",
   "version": "3.5.3"
  },
  "latex_envs": {
   "LaTeX_envs_menu_present": true,
   "autocomplete": true,
   "bibliofile": "biblio.bib",
   "cite_by": "apalike",
   "current_citInitial": 1,
   "eqLabelWithNumbers": true,
   "eqNumInitial": 1,
   "hotkeys": {
    "equation": "Ctrl-E",
    "itemize": "Ctrl-I"
   },
   "labels_anchors": false,
   "latex_user_defs": false,
   "report_style_numbering": false,
   "user_envs_cfg": false
  }
 },
 "nbformat": 4,
 "nbformat_minor": 2
}
