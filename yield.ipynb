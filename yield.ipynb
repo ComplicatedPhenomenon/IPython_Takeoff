{
 "cells": [
  {
   "cell_type": "code",
   "execution_count": 1,
   "metadata": {},
   "outputs": [
    {
     "name": "stdout",
     "output_type": "stream",
     "text": [
      "Wed Jul 19 19:37:20 2017\n"
     ]
    }
   ],
   "source": [
    "# Just to know last time this was run:\n",
    "import time\n",
    "print time.ctime()"
   ]
  },
  {
   "cell_type": "code",
   "execution_count": 4,
   "metadata": {
    "collapsed": true
   },
   "outputs": [],
   "source": [
    "time.ctime?"
   ]
  },
  {
   "cell_type": "markdown",
   "metadata": {},
   "source": [
    "### When to use yield instead of return in Python?\n",
    "The yield statement suspends function’s execution and sends a value back to caller, but retains enough state to enable function to resume where it is left off. When resumed, the function continues execution immediately after the last yield run. This allows its code to produce a series of values over time, rather them computing them at once and sending them back like a list."
   ]
  },
  {
   "cell_type": "code",
   "execution_count": 7,
   "metadata": {},
   "outputs": [
    {
     "name": "stdout",
     "output_type": "stream",
     "text": [
      "1\n",
      "4\n",
      "9\n"
     ]
    }
   ],
   "source": [
    "# A Python program to generate squares from 1\n",
    "# to 100 using yield and therefore generator\n",
    " \n",
    "# An infinite generator function that prints\n",
    "# next square number. It starts with 1\n",
    "def nextSquare():\n",
    "    i = 1;\n",
    " \n",
    "    # An Infinite loop to generate squares \n",
    "    while True:\n",
    "        yield i*i                \n",
    "        i += 1  # Next execution resumes \n",
    "                # from this point     \n",
    " \n",
    "# Driver code to test above generator \n",
    "# function\n",
    "for num in nextSquare():\n",
    "    if num > 10:\n",
    "         break   \n",
    "    print(num)"
   ]
  },
  {
   "cell_type": "markdown",
   "metadata": {},
   "source": [
    "*while True* means loop forever. The *while* statement takes an expression and executes the loop body while the expression evaluates to (boolean) \"true\". *True* always evaluates to boolean \"true\" and thus executes the loop body indefinitely. It's an idiom that you'll just get used to eventually! Most languages you're likely to encounter have equivalent idioms."
   ]
  },
  {
   "cell_type": "code",
   "execution_count": 14,
   "metadata": {},
   "outputs": [
    {
     "ename": "ValueError",
     "evalue": "need more than 3 values to unpack",
     "output_type": "error",
     "traceback": [
      "\u001b[0;31m---------------------------------------------------------------------------\u001b[0m",
      "\u001b[0;31mValueError\u001b[0m                                Traceback (most recent call last)",
      "\u001b[0;32m<ipython-input-14-640d0ef0bed7>\u001b[0m in \u001b[0;36m<module>\u001b[0;34m()\u001b[0m\n\u001b[1;32m      1\u001b[0m \u001b[0;32mfrom\u001b[0m \u001b[0msys\u001b[0m \u001b[0;32mimport\u001b[0m \u001b[0margv\u001b[0m\u001b[0;34m\u001b[0m\u001b[0m\n\u001b[0;32m----> 2\u001b[0;31m \u001b[0mscript\u001b[0m \u001b[0;34m,\u001b[0m \u001b[0mfirst\u001b[0m \u001b[0;34m,\u001b[0m \u001b[0msecond\u001b[0m \u001b[0;34m,\u001b[0m \u001b[0mthird\u001b[0m \u001b[0;34m=\u001b[0m \u001b[0margv\u001b[0m\u001b[0;34m\u001b[0m\u001b[0m\n\u001b[0m\u001b[1;32m      3\u001b[0m \u001b[0;31m#The first item in argv is the name of the Python script you're running.\u001b[0m\u001b[0;34m\u001b[0m\u001b[0;34m\u001b[0m\u001b[0m\n\u001b[1;32m      4\u001b[0m \u001b[0;31m#Any additional arguments (the filename, in this case) are arguments passed to this script.\u001b[0m\u001b[0;34m\u001b[0m\u001b[0;34m\u001b[0m\u001b[0m\n\u001b[1;32m      5\u001b[0m \u001b[0;32mprint\u001b[0m \u001b[0mscript\u001b[0m\u001b[0;34m\u001b[0m\u001b[0m\n",
      "\u001b[0;31mValueError\u001b[0m: need more than 3 values to unpack"
     ]
    }
   ],
   "source": [
    "from sys import argv\n",
    "script , first , second , third = argv\n",
    "#The first item in argv is the name of the Python script you're running. \n",
    "#Any additional arguments (the filename, in this case) are arguments passed to this script.\n",
    "print script"
   ]
  },
  {
   "cell_type": "code",
   "execution_count": null,
   "metadata": {
    "collapsed": true
   },
   "outputs": [],
   "source": []
  }
 ],
 "metadata": {
  "kernelspec": {
   "display_name": "Python 2",
   "language": "python",
   "name": "python2"
  },
  "language_info": {
   "codemirror_mode": {
    "name": "ipython",
    "version": 2
   },
   "file_extension": ".py",
   "mimetype": "text/x-python",
   "name": "python",
   "nbconvert_exporter": "python",
   "pygments_lexer": "ipython2",
   "version": "2.7.12"
  }
 },
 "nbformat": 4,
 "nbformat_minor": 2
}
