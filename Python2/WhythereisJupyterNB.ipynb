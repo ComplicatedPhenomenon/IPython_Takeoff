{
 "cells": [
  {
   "cell_type": "markdown",
   "metadata": {},
   "source": [
    "---"
   ]
  },
  {
   "cell_type": "markdown",
   "metadata": {},
   "source": [
    "## [Acadiemia](https://conferences.oreilly.com/jupyter/jup-ny/public/schedule/detail/59848?ut)\n",
    "Poor reproducibility reality: Reports of a lack of reproducibility and transparency have led funders and others to require open data and code as part of their published outputs. However, current academic publishing systems still cannot support the solutions that technology has enabled, such as the Jupyter Notebook. Mark Hahnel and Marius Tulbure discuss the opportunities for Jupyter notebooks to be the final output of academic research, arguing that Jupyter could help disrupt the inefficiencies in cost and scale of open access academic publishing.\n",
    "\n",
    "## [Media](https://conferences.oreilly.com/jupyter/jup-ny/public/schedule/detail/59848?ut=tw-data-na-article-lgen_paco_nathan_jupyter_as)\n",
    "### How has Jupyter changed the way you work?\n",
    "Having repeatable work that can be packaged and shared with others provides an enormous boost for how we work together. Jupyter Notebooks give context to the code. When you share your work, you're not just sharing some source files that have to be deciphered; you're sharing a whole train of thought, which makes it much easier to see what's going on. This isn't just true for your team members; it's equally true if you drop something and come back six months later.\n",
    "\n",
    "## [AnacondaCON](https://www.anaconda.com/presentations/)\n",
    "## [nbviewer](https://nbviewer.jupyter.org) "
   ]
  }
 ],
 "metadata": {
  "kernelspec": {
   "display_name": "Python 3",
   "language": "python",
   "name": "python3"
  },
  "language_info": {
   "codemirror_mode": {
    "name": "ipython",
    "version": 3
   },
   "file_extension": ".py",
   "mimetype": "text/x-python",
   "name": "python",
   "nbconvert_exporter": "python",
   "pygments_lexer": "ipython3",
   "version": "3.5.3"
  }
 },
 "nbformat": 4,
 "nbformat_minor": 2
}
