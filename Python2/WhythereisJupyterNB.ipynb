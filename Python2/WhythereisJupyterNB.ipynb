{
 "cells": [
  {
   "cell_type": "markdown",
   "metadata": {},
   "source": [
    "Advatage of JN.\n",
    "  * > Another really exciting thing is what O'Reilly Media is doing. They are \n",
    "    embracing the notebook at a fairly deep level.The first is they have this\n",
    "    new learning site.Along with this actual website, O'Reilly has this open\n",
    "    source project called[`thebe`](https://github.com/oreillymedia/thebe)\n",
    "\n",
    "   > When I first saw this, I think part of my response was \"wow, that's a little\n",
    "    bit like over kill me maybe\"when you think about it, how much worse is it?\n",
    "    Some one will publish article requiring this much analysis and leave that \n",
    "    analysis out, there is no way anyone would ever be able to reproduce that \n",
    "    work. \n",
    "   > [`BuzzFeed` are doing fantastic work](https://github.com/BuzzFeedNews/everything#libraries-and-tools) \n",
    "    They had committed to do this for all of their data driven articles, they \n",
    "    are not sort of after the fact making sort decisions about \"well, should we \n",
    "    open this or not\",they just said \"we are doing it for everything\". \n",
    "  *  [2](https://longliveandprosperblog.wordpress.com/2017/08/04/talk/)"
   ]
  },
  {
   "cell_type": "markdown",
   "metadata": {},
   "source": [
    "---\n",
    "## [Acadiemia](https://conferences.oreilly.com/jupyter/jup-ny/public/schedule/detail/59848?ut)\n",
    "Poor reproducibility reality: Reports of a lack of reproducibility and transparency have led funders and others to require open data and code as part of their published outputs. However, current academic publishing systems still cannot support the solutions that technology has enabled, such as the Jupyter Notebook. Mark Hahnel and Marius Tulbure discuss the opportunities for Jupyter notebooks to be the final output of academic research, arguing that Jupyter could help disrupt the inefficiencies in cost and scale of open access academic publishing.\n",
    "\n",
    "## [Media](https://conferences.oreilly.com/jupyter/jup-ny/public/schedule/detail/59848?ut=tw-data-na-article-lgen_paco_nathan_jupyter_as)\n",
    "### How has Jupyter changed the way you work?\n",
    "Having repeatable work that can be packaged and shared with others provides an enormous boost for how we work together. Jupyter Notebooks give context to the code. When you share your work, you're not just sharing some source files that have to be deciphered; you're sharing a whole train of thought, which makes it much easier to see what's going on. This isn't just true for your team members; it's equally true if you drop something and come back six months later.\n",
    "\n",
    "## [AnacondaCON](https://www.anaconda.com/presentations/)\n",
    "## [nbviewer](https://nbviewer.jupyter.org) "
   ]
  }
 ],
 "metadata": {
  "kernelspec": {
   "display_name": "Python 3",
   "language": "python",
   "name": "python3"
  },
  "language_info": {
   "codemirror_mode": {
    "name": "ipython",
    "version": 3
   },
   "file_extension": ".py",
   "mimetype": "text/x-python",
   "name": "python",
   "nbconvert_exporter": "python",
   "pygments_lexer": "ipython3",
   "version": "3.5.3"
  }
 },
 "nbformat": 4,
 "nbformat_minor": 2
}
