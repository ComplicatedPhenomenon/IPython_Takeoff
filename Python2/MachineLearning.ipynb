{
 "cells": [
  {
   "cell_type": "markdown",
   "metadata": {},
   "source": [
    "The workflow of Machine Learning now becomes clear to me.\n",
    "\n",
    "[Artificial neural network contains](https://en.m.wikipedia.org/wiki/Artificial_neural_network) :\n",
    "\n",
    "* Conventional Neural Network. Which has beeen successfully been applied to analyzing visual imagery. \n",
    "* [Multi-Layer Neural Network](http://ufldl.stanford.edu/tutorial/supervised/MultiLayerNeuralNetworks/).\n",
    "* Deep Belief Network.\n",
    "* [... Network]\n",
    "\n",
    "Different algorithm adapts to different application area.\n",
    "\n",
    "We can implement a lot assisted by Tensorflow, a complete framework constructed by Google.\n",
    "[eg](https://github.com/MorvanZhou/Tensorflow-Tutorial).Unlike windows, it is a open \n",
    "source software.\n",
    "[Why is deep learning so easy?](https://www.quora.com/Why-is-deep-learning-so-easy/answer/Kiran-Kannar?share=c6a2aaab&srid=hSCmA)\n",
    "\n",
    "> * Training is still hard. Take for example weight initialization in neural networks. \n",
    "> * Scale. Very few people(or companies) can actually afford to run extremely large and deep networks on several GPUs.\n",
    "> * The relativity of \"obvious\". If you find the math behind deep learning is easy, you should invest time into improving deep learning,\n",
    "> * Surface. Today, you can build a neural network model with a line of code, choosing some *random initialization technique*, *gradient descent optimizers* and other things. You don't need to actually understand the internals. It's more of **plug-play** approach. This superficiality can lull you into thinking why did people even struggle with building deep learning models.\n",
    "\n",
    "<hr>\n",
    "\n",
    "### Tools\n",
    "\n",
    "Tensorflow\n",
    "\n",
    "TensorBoard\n",
    "\n",
    "SciPy\n",
    "\n",
    "<hr>\n",
    "\n",
    "### I think:\n",
    "\n",
    "For people who don't know the reason behind **ML** apply to their own work, they can do little with it to make improvement . It is like another *calculator* for the general population. In the area of theoretical physics,  **ML**  cares little about physical principals. The virtue of this method come in this way. You just find it has low effciency in calculating something in a traditional way, where you construct a model from real event directly, then after got some reliable data to the machine for learning, then the machine is capable to predict the outcome, ideally, which is very close to the result by using routine program. However, this method involve nothing with physics. So, physicist still need to solve their problems on their own.     "
   ]
  }
 ],
 "metadata": {
  "kernelspec": {
   "display_name": "Python 3",
   "language": "python",
   "name": "python3"
  },
  "language_info": {
   "codemirror_mode": {
    "name": "ipython",
    "version": 3
   },
   "file_extension": ".py",
   "mimetype": "text/x-python",
   "name": "python",
   "nbconvert_exporter": "python",
   "pygments_lexer": "ipython3",
   "version": "3.5.3"
  }
 },
 "nbformat": 4,
 "nbformat_minor": 2
}
