{
 "cells": [
  {
   "cell_type": "markdown",
   "metadata": {},
   "source": [
    "# Final project\n",
    "\n",
    "\n",
    "To complete the course you are required to present a little project.\n",
    "\n",
    "This consists of a stand-alone program in Python in the form of a\n",
    "graphycal interface using the wxpython widgets library.\n",
    "The program and its auxiliary modules will be packaged and saved on a \n",
    "remote git repository. A anaconda package will be created and saved on\n",
    "anaconda repository.\n",
    "\n",
    "You are also encouraged to present your code and explain how it works.\n",
    "\n",
    "The evaluation of the project will take into consideration the following points:\n",
    "\n",
    "0. **Package functionality**\n",
    "    * The code can be installed from anaconda repository and it able to start\n",
    "    with minimal functionality (i.e. the GUI starts and at least a task works).\n",
    "    * 40%\n",
    "\n",
    "1. **Originality**\n",
    "    * Starting from examples in the class notes, you are expected to put into a code\n",
    "       an idea combining different elements in an original way.\n",
    "    * 10% of total note\n",
    "\n",
    "2. **Complexity**\n",
    "    * Structure of the GUI.\n",
    "    * Number and quality of tasks defined.\n",
    "    * 10% of total note\n",
    "\n",
    "3. **Robustness**\n",
    "    * The code should be ideally free of bugs and every single task should work.\n",
    "    * 10% of total note\n",
    "\n",
    "3. **Style**\n",
    "    * Evaluation of how the code is written. \n",
    "      There are too many repeated parts ? Are functions used when possible to make it\n",
    "      more readable ? Is the code well organized ?\n",
    "    * 10% of total note\n",
    "\n",
    "4. **Documentation**\n",
    "    * Comments should appear in strategic parts of the code, such as definition of \n",
    "    classes and functions and where ever some intricate operation is performed\n",
    "    * 10% of total note \n",
    "\n",
    "5. **Presentation**\n",
    "    * Accurate description of the code should accompaign the package in the git repository in form of a Readme file.\n",
    "    * Oral presentation of the code describing the objective of the code and how it works.\n",
    "    * 10% of total note\n"
   ]
  },
  {
   "cell_type": "markdown",
   "metadata": {},
   "source": [
    "莱顿天文台[博士项目](https://local.strw.leidenuniv.nl/jobs/phd/programme.php)\n",
    "\n",
    " > During their thesis, Leiden PhD students are paid as civil servants, which means that they earn competitive salaries (the current gross salary, including allowances, increases from about EUR 28,000 in year 1 to about EUR 36,000 in year 4) and are eligible for both social security and retirement benefits. PhD positions are funded for four years. At the end of the four-year period, the student submits a PhD thesis, which is ceremoniously defended in the historical Academy building. "
   ]
  },
  {
   "cell_type": "markdown",
   "metadata": {},
   "source": [
    "[The Leiden de SitterCosmology Programme](http://www.leidendesitter.nl/de_Sitter/Welcome.html)\n",
    "\n",
    "[Université catholique de Louvain](https://uclouvain.be/en/sectors/sst/admission-0-1.html)\n",
    "\n",
    "No real cover letter, no attempt at self marketing. Sort of, \"here are the facts about me, please put me in the pile. \"\n",
    "没有正式的自荐信，也没有很卖力地推销自己，投份简历过来，就好象说，“这些就是关于我的一些情况，请收下吧。”\n",
    "\n",
    "Decision notification for ..."
   ]
  },
  {
   "cell_type": "markdown",
   "metadata": {},
   "source": [
    " 是可以到了工作岗位进行深造，我现在找也肯定找得到。平台高低大小也不是最主要的， 最主要的是，入职后基本分给你的工作是体力劳动，基本没有自己的时间。"
   ]
  },
  {
   "cell_type": "markdown",
   "metadata": {},
   "source": [
    "### Experience :\n",
    "\n",
    "[第三届TeV暑期班](http://indico.ihep.ac.cn/event/5966/)"
   ]
  },
  {
   "cell_type": "markdown",
   "metadata": {},
   "source": [
    "### Candiadate school\n",
    "* [Leiden observatory Examples of PhD projects available](https://local.strw.leidenuniv.nl/jobs/phd/example_phds.php)\n",
    "    * [Galaxy formation](http://home.strw.leidenuniv.nl/~schaye/cv.pdf)\n",
    "    * [Evolution of galaxies in clusters](http://home.strw.leidenuniv.nl/~hoekstra/)\n",
    "    * [LEO](http://ileo.de/research/)\n",
    "* [University of Groningen](http://www.rug.nl/education/phd-programmes/graduate-schools/phd-research-programmes)\n",
    "* [KIT](https://www.kseta.kit.edu/application.php#block590)\n",
    "* [Bohn University](https://www.uni-bonn.de/studying/international-students/international-degree-programs/natural-sciences-and-mathematics/master-of-science-in-astrophysics)\n",
    "* [Friedrich-Alexander University Erlangen-Nuernberg](\n",
    "* [Laund University](https://lu.mynetworkglobal.com/en/what:job/jobID:173153/)\n",
    "   > Candidates should send a curriculum vitae (including a transcript of academic grades) and a brief statement of research interest. The application should also include the names, telephone numbers and e-mail addresses of two persons who have agreed to serve as a reference for the applicant. Note that reference letters should not be sent to us in connection with the application; we will contact the reference persons when required.\n",
    "* [Weizmann Institute of Science](http://www.weizmann.ac.il/particle/positions/phd)\n",
    "* [Bassel Quauntum computing](https://phdschoolqcqt.unibas.ch/en/excellence-fellowships/)\n",
    "   > \n",
    "    * Curriculum vitae \n",
    "    * Official transcripts\n",
    "    * MSc, BSc, diplomas etc with grades, from all relevant institutions of higher education (all in English or German).   \n",
    "    Statement of objectives/Motivational letter.\n",
    "    * A short statement of your research interests and how they relate to the work of our department. To increase your chances to be accepted to the PhD school, we encourage you to contact one of the professors of our department and secure their support for your application. \n",
    "    * List of publications, if available.   \n",
    "    * One to three recommendation letters.\n",
    "    * The referees should upload their recommendation letters directly to the portal. It is your responsibility to contact your referees and to check that the recommendation letters are uploaded before the deadline.   \n",
    "    * Masters thesis (pdf)\n",
    "\n",
    "\n",
    "* [x][University of Oslo](http://www.mn.uio.no/english/research/phd/application/application.html)\n",
    "* [TUM Germany](https://www.ph.tum.de/academics/phd/)\n",
    " > The first step to start your doctorate is to find a supervisor among the professors of our department and to find together a research topic. Being part of the research group of your supervisor, you will receive guidance and support with your doctoral project. The Physics Department gives you the organizational framework for the doctorate.\n",
    " \n",
    "  *You will not be charged any fees for a doctorate at TUM. The costs of doctoral education are covered by the German state. However, you will need to secure your living expenses*\n",
    "  \n",
    "  [Application steps](http://www.gs.tum.de/en/bewerberinnen/application/application-steps/)\n",
    "    * Find a dissertation topic\n",
    "\n",
    "     The first step towards a doctorate is choosing your dissertation topic. You may have your own research idea already, or you may develop it with a researcher at TUM. Writing a research proposal will help you make your research project more specific in terms of objectives and individual steps.\n",
    "\n",
    "    * Contact potential supervisor\n",
    "\n",
    "    The next step is to find a supervisor for your doctoral project. It is helpful if you can establish a contact while you are still developing your topic. You can then contact the professor or an employee directly with your application materials (CV, cover letter, etc.) and a research proposal for your project. You can find a good overview of potential supervisors on the department web pages or under the TUM professor profiles.  \n",
    "\n",
    "    *  Secure funding\n",
    "\n",
    "    You will not be charged any fees for a doctorate at TUM. The costs of doctoral education are covered by the German state. However, you will need to secure your living expenses. An overview of all the funding options can be found on the Funding pages. \n",
    "\n",
    "    *  Contact a Graduate Center\n",
    "\n",
    "    Together with your supervisor, identify the appropriate Graduate Center at TUM and discuss all further (administrative) steps.\n",
    "    * ..."
   ]
  },
  {
   "cell_type": "markdown",
   "metadata": {},
   "source": [
    "### cv\n",
    "* [https://www.studential.com/postgraduate/study/PhD/writing-a-PhD-CV](https://www.studential.com/postgraduate/study/PhD/writing-a-PhD-CV)"
   ]
  },
  {
   "cell_type": "markdown",
   "metadata": {},
   "source": [
    "### People doing research\n",
    "* [1. karenyyng](https://github.com/karenyyng?tab=repositories)\n",
    "* [2. ](http://cosmicmar.com/2015/04/18/kickass-presentations/)"
   ]
  },
  {
   "cell_type": "markdown",
   "metadata": {},
   "source": [
    "Debug Python code `nose`"
   ]
  },
  {
   "cell_type": "markdown",
   "metadata": {},
   "source": [
    "* [AnacondaCON](https://www.anaconda.com/presentations/)\n",
    "* [nbviewer](https://nbviewer.jupyter.org) \n",
    "Code need to be pure\n",
    "\n",
    "```\n",
    "400 : Bad Request\n",
    "We couldn't render your notebook\n",
    "\n",
    "Perhaps it is not valid JSON, or not the right URL.\n",
    "\n",
    "If this should be a working notebook, please let us know.\n",
    "\n",
    "The error was: Error reading JSON notebook\n",
    "```"
   ]
  },
  {
   "cell_type": "code",
   "execution_count": null,
   "metadata": {},
   "outputs": [],
   "source": []
  }
 ],
 "metadata": {
  "anaconda-cloud": {},
  "kernelspec": {
   "display_name": "Python 3",
   "language": "python",
   "name": "python3"
  },
  "language_info": {
   "codemirror_mode": {
    "name": "ipython",
    "version": 3
   },
   "file_extension": ".py",
   "mimetype": "text/x-python",
   "name": "python",
   "nbconvert_exporter": "python",
   "pygments_lexer": "ipython3",
   "version": "3.5.3"
  }
 },
 "nbformat": 4,
 "nbformat_minor": 1
}
