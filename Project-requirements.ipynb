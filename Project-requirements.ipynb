{
 "cells": [
  {
   "cell_type": "markdown",
   "metadata": {},
   "source": [
    "# Final project\n",
    "\n",
    "\n",
    "To complete the course you are required to present a little project.\n",
    "\n",
    "This consists of a stand-alone program in Python in the form of a\n",
    "graphycal interface using the wxpython widgets library.\n",
    "The program and its auxiliary modules will be packaged and saved on a \n",
    "remote git repository. A anaconda package will be created and saved on\n",
    "anaconda repository.\n",
    "\n",
    "You are also encouraged to present your code and explain how it works.\n",
    "\n",
    "The evaluation of the project will take into consideration the following points:\n",
    "\n",
    "0. **Package functionality**\n",
    "    * The code can be installed from anaconda repository and it able to start\n",
    "    with minimal functionality (i.e. the GUI starts and at least a task works).\n",
    "    * 40%\n",
    "\n",
    "1. **Originality**\n",
    "    * Starting from examples in the class notes, you are expected to put into a code\n",
    "       an idea combining different elements in an original way.\n",
    "    * 10% of total note\n",
    "\n",
    "2. **Complexity**\n",
    "    * Structure of the GUI.\n",
    "    * Number and quality of tasks defined.\n",
    "    * 10% of total note\n",
    "\n",
    "3. **Robustness**\n",
    "    * The code should be ideally free of bugs and every single task should work.\n",
    "    * 10% of total note\n",
    "\n",
    "3. **Style**\n",
    "    * Evaluation of how the code is written. \n",
    "      There are too many repeated parts ? Are functions used when possible to make it\n",
    "      more readable ? Is the code well organized ?\n",
    "    * 10% of total note\n",
    "\n",
    "4. **Documentation**\n",
    "    * Comments should appear in strategic parts of the code, such as definition of \n",
    "    classes and functions and where ever some intricate operation is performed\n",
    "    * 10% of total note \n",
    "\n",
    "5. **Presentation**\n",
    "    * Accurate description of the code should accompaign the package in the git repository in form of a Readme file.\n",
    "    * Oral presentation of the code describing the objective of the code and how it works.\n",
    "    * 10% of total note\n"
   ]
  },
  {
   "cell_type": "markdown",
   "metadata": {},
   "source": [
    "[The Leiden de SitterCosmology Programme](http://www.leidendesitter.nl/de_Sitter/Welcome.html)\n",
    "\n",
    "[Université catholique de Louvain](https://uclouvain.be/en/sectors/sst/admission-0-1.html)\n",
    "\n",
    "No real cover letter, no attempt at self marketing. Sort of, \"here are the facts about me, please put me in the pile. \"\n",
    "没有正式的自荐信，也没有很卖力地推销自己，投份简历过来，就好象说，“这些就是关于我的一些情况，请收下吧。”\n",
    "\n",
    "Decision notification for ..."
   ]
  },
  {
   "cell_type": "markdown",
   "metadata": {},
   "source": [
    " 是可以到了工作岗位进行深造，我现在找也肯定找得到。平台高低大小也不是最主要的， 最主要的是，入职后基本分给你的工作是体力劳动，基本没有自己的时间。"
   ]
  },
  {
   "cell_type": "markdown",
   "metadata": {},
   "source": [
    "### Experience :\n",
    "\n",
    "[第三届TeV暑期班](http://indico.ihep.ac.cn/event/5966/)"
   ]
  },
  {
   "cell_type": "markdown",
   "metadata": {},
   "source": [
    "### Candiadate school\n",
    "* [Leiden observatory Examples of PhD projects available](https://local.strw.leidenuniv.nl/jobs/phd/example_phds.php)\n",
    "> [So clear the procedure is ](https://local.strw.leidenuniv.nl/jobs/phd/apply.php)\n",
    "\n",
    "    * [Galaxy formation](http://home.strw.leidenuniv.nl/~schaye/cv.pdf)\n",
    "    * [Evolution of galaxies in clusters](http://home.strw.leidenuniv.nl/~hoekstra/)\n",
    "      * [Lorrie A. Straka](https://twitter.com/LA_Straka)\n",
    "    * [LEO](http://ileo.de/research/)\n",
    "* [University of Groningen](http://www.rug.nl/education/phd-programmes/graduate-schools/phd-research-programmes)\n",
    "    * [Kapteyn Astronomical Institute](http://www.rug.nl/research/kapteyn/vacatures/phd-positions)\n",
    "* [KIT](https://www.kseta.kit.edu/application.php#block590)\n",
    "* [Bohn University](https://www.uni-bonn.de/studying/international-students/international-degree-programs/natural-sciences-and-mathematics/master-of-science-in-astrophysics)\n",
    "* [Laund University](https://lu.mynetworkglobal.com/en/what:job/jobID:173153/)\n",
    "   * [Oscar Agertz](http://portal.research.lu.se/portal/en/persons/oscar-agertz(757334cc-9d36-40fd-ae7c-e861d209f52e)\n",
    "   > Candidates should send a curriculum vitae (including a transcript of academic grades) and a brief statement of research interest. The application should also include the names, telephone numbers and e-mail addresses of two persons who have agreed to serve as a reference for the applicant. Note that reference letters should not be sent to us in connection with the application; we will contact the reference persons when required.\n",
    "* [Weizmann Institute of Science](http://www.weizmann.ac.il/particle/positions/phd)\n",
    "* [Bassel Quauntum computing](https://phdschoolqcqt.unibas.ch/en/excellence-fellowships/)\n",
    "   > \n",
    "    * Curriculum vitae \n",
    "    * Official transcripts\n",
    "    * MSc, BSc, diplomas etc with grades, from all relevant institutions of higher education (all in English or German).   \n",
    "    Statement of objectives/Motivational letter.\n",
    "    * A short statement of your research interests and how they relate to the work of our department. To increase your chances to be accepted to the PhD school, we encourage you to contact one of the professors of our department and secure their support for your application. \n",
    "    * List of publications, if available.   \n",
    "    * One to three recommendation letters.\n",
    "    * The referees should upload their recommendation letters directly to the portal. It is your responsibility to contact your referees and to check that the recommendation letters are uploaded before the deadline.   \n",
    "    * Masters thesis (pdf)\n",
    "\n",
    "\n",
    "* [x][University of Oslo](http://www.mn.uio.no/english/research/phd/application/application.html)\n",
    "* [TUM Germany](https://www.ph.tum.de/academics/phd/)\n",
    " > The first step to start your doctorate is to find a supervisor among the professors of our department and to find together a research topic. Being part of the research group of your supervisor, you will receive guidance and support with your doctoral project. The Physics Department gives you the organizational framework for the doctorate.\n",
    " \n",
    "  *You will not be charged any fees for a doctorate at TUM. The costs of doctoral education are covered by the German state. However, you will need to secure your living expenses*\n",
    "  \n",
    "  [Application steps](http://www.gs.tum.de/en/bewerberinnen/application/application-steps/)\n",
    "* [PIER](https://graduateschool.pier-hamburg.de/phd_programme/index_eng.html)\n",
    "* [Helsinki](https://rekry.helsinki.fi/sap/bc/webdynpro/sap/hrrcf_a_reg_applwizard_ext?PARAM=cG9zdF9pbnN0X2d1aWQ9MTA2MDRCOTkyN0M4MUVFN0FEQUVFNDM5Q0ZGRUIzMTc%3d&sap-wd-configid=ZHRRCF_AC_REG_APPLWIZARD_EXT&sap-client=300&sap-language=EN#)"
   ]
  },
  {
   "cell_type": "markdown",
   "metadata": {},
   "source": [
    "* CV\n",
    "  * [https://www.studential.com/postgraduate/study/PhD/writing-a-PhD-CV](https://www.studential.com/postgraduate/study/PhD/writing-a-PhD-CV)\n",
    "\n",
    "* CL\n",
    " A cover letter describing background, relevant experience and a statement of how their research interests relate to this position"
   ]
  },
  {
   "cell_type": "markdown",
   "metadata": {},
   "source": [
    "* [frauke.graeter@h-its.org](https://www.h-its.org/mbm-news/frauke-prace/)\n",
    "* [Simon Foundation](https://www.simonsfoundation.org/team/will-farr/) Dan Foreman-Mackey. Not for application \n",
    "  > The Simons Foundation is a private foundation established in 1994 in New York City by Jim and Marilyn Simons. With an    annual grants and programs budget of 300 million dollars, the foundation’s mission is to advance the frontiers of research in  mathematics and the basic sciences.\n",
    "\n",
    "  > The foundation pursues its mission through its grant-making division, comprising programs in Mathematics & Physical Sciences, Life Sciences, Education & Outreach and autism research, and through its internal research division, the Flatiron Institute.\n",
    "\n",
    "  > The Mathematics & Physical Sciences program supports work in mathematics, theoretical computer science and theoretical physics. The Life Sciences program works to advance basic research in life sciences, with, among other efforts, large grant programs in ocean ecology and in the origins of life.\n",
    "\n",
    "  > The Simons Foundation Autism Research Initiative (SFARI) is a campaign that aims to improve the understanding, diagnosis and treatment of autism by funding innovative research of the highest quality and relevance. SFARI also supports the editorially independent autism research news site Spectrum.\n",
    "\n",
    "  > In 2016, the foundation launched the Flatiron Institute (FI), a multidisciplinary institute whose mission is to advance scientific research through computational methods, including data analysis, modeling and simulation. The FI hosts scientists and collaborating expert programmers who work to create, deploy and support new state-of-the-art computational methods.\n",
    "\n",
    "  > Education & Outreach supports and promotes scientific literacy in society generally. Specifically, the program supports the nonprofit Math for America and the independent science news site, Quanta Magazine. This program’s Science Sandbox initiative seeks to unlock scientific thinking in all people, so that science becomes a more integral part of culture.\n",
    "\n"
   ]
  },
  {
   "cell_type": "markdown",
   "metadata": {},
   "source": [
    "### People doing research\n",
    "* [1. karenyyng](https://github.com/karenyyng?tab=repositories)\n",
    "* [2. French guy](http://cosmicmar.com/2015/04/18/kickass-presentations/)\n",
    "* [3. Mario Juric](https://github.com/mjuric)\n",
    "* [4. Dan Foreman-Mackey](https://github.com/dfm)\n",
    "* [5. David W. Hogg](https://github.com/davidwhogg)\n",
    "* [6. PhD Johnny Greco](https://github.com/johnnygreco?tab=repositories)\n",
    "* [7. A researcher at the Institute of Cosmology and Gravitation in Portsmouth](https://github.com/fbeutler)\n",
    "* [8. Berkeley Center for Cosmological Physics](https://github.com/kbarbary)\n",
    "* [9. Tom Aldcroft](http://hea-www.harvard.edu/~aldcroft/)\n",
    "* [10.Manodeep Sinha](http://astro.phy.vanderbilt.edu/~sinham/)\n",
    "* [12.David Parkinson](https://github.com/dparkins)\n",
    "* [13.Dustin Lang ](http://dstn.astrometry.net/)\n",
    "* [14.supernova neutrinos](http://openmetric.org/)"
   ]
  },
  {
   "cell_type": "markdown",
   "metadata": {},
   "source": [
    "> A principal investigator (PI) is the holder of an independent grant administered by a university and the lead researcher for the grant project, usually in the sciences, such as a laboratory study or a clinical trial."
   ]
  },
  {
   "cell_type": "markdown",
   "metadata": {},
   "source": [
    "wywang@bjut.edu.cn\n",
    "gaoxiangdong@bjut.edu.cn"
   ]
  },
  {
   "cell_type": "markdown",
   "metadata": {},
   "source": [
    "Research Proposal\n",
    "\n",
    "[http://www.studygs.net/proposal.htm](http://www.studygs.net/proposal.htm)\n",
    "\n",
    "[http://www2.hawaii.edu/~matt/proposal.html](http://www2.hawaii.edu/~matt/proposal.html)"
   ]
  }
 ],
 "metadata": {
  "anaconda-cloud": {},
  "kernelspec": {
   "display_name": "Python 3",
   "language": "python",
   "name": "python3"
  },
  "language_info": {
   "codemirror_mode": {
    "name": "ipython",
    "version": 3
   },
   "file_extension": ".py",
   "mimetype": "text/x-python",
   "name": "python",
   "nbconvert_exporter": "python",
   "pygments_lexer": "ipython3",
   "version": "3.5.3"
  }
 },
 "nbformat": 4,
 "nbformat_minor": 1
}
