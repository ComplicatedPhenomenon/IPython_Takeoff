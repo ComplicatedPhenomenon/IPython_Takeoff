{
 "cells": [
  {
   "cell_type": "markdown",
   "metadata": {},
   "source": [
    "# Final project\n",
    "\n",
    "\n",
    "To complete the course you are required to present a little project.\n",
    "\n",
    "This consists of a stand-alone program in Python in the form of a\n",
    "graphycal interface using the wxpython widgets library.\n",
    "The program and its auxiliary modules will be packaged and saved on a \n",
    "remote git repository. A anaconda package will be created and saved on\n",
    "anaconda repository.\n",
    "\n",
    "You are also encouraged to present your code and explain how it works.\n",
    "\n",
    "The evaluation of the project will take into consideration the following points:\n",
    "\n",
    "0. **Package functionality**\n",
    "    * The code can be installed from anaconda repository and it able to start\n",
    "    with minimal functionality (i.e. the GUI starts and at least a task works).\n",
    "    * 40%\n",
    "\n",
    "1. **Originality**\n",
    "    * Starting from examples in the class notes, you are expected to put into a code\n",
    "       an idea combining different elements in an original way.\n",
    "    * 10% of total note\n",
    "\n",
    "2. **Complexity**\n",
    "    * Structure of the GUI.\n",
    "    * Number and quality of tasks defined.\n",
    "    * 10% of total note\n",
    "\n",
    "3. **Robustness**\n",
    "    * The code should be ideally free of bugs and every single task should work.\n",
    "    * 10% of total note\n",
    "\n",
    "3. **Style**\n",
    "    * Evaluation of how the code is written. \n",
    "      There are too many repeated parts ? Are functions used when possible to make it\n",
    "      more readable ? Is the code well organized ?\n",
    "    * 10% of total note\n",
    "\n",
    "4. **Documentation**\n",
    "    * Comments should appear in strategic parts of the code, such as definition of \n",
    "    classes and functions and where ever some intricate operation is performed\n",
    "    * 10% of total note \n",
    "\n",
    "5. **Presentation**\n",
    "    * Accurate description of the code should accompaign the package in the git repository in form of a Readme file.\n",
    "    * Oral presentation of the code describing the objective of the code and how it works.\n",
    "    * 10% of total note\n"
   ]
  },
  {
   "cell_type": "markdown",
   "metadata": {},
   "source": [
    "莱顿天文台[博士项目](https://local.strw.leidenuniv.nl/jobs/phd/programme.php)\n",
    "\n",
    " > During their thesis, Leiden PhD students are paid as civil servants, which means that they earn competitive salaries (the current gross salary, including allowances, increases from about EUR 28,000 in year 1 to about EUR 36,000 in year 4) and are eligible for both social security and retirement benefits. PhD positions are funded for four years. At the end of the four-year period, the student submits a PhD thesis, which is ceremoniously defended in the historical Academy building. "
   ]
  },
  {
   "cell_type": "markdown",
   "metadata": {},
   "source": [
    "[Examples of PhD projects available](https://local.strw.leidenuniv.nl/jobs/phd/example_phds.php)\n",
    "\n",
    "[The Leiden de SitterCosmology Programme](http://www.leidendesitter.nl/de_Sitter/Welcome.html)\n",
    "\n",
    "[Université catholique de Louvain](https://uclouvain.be/en/sectors/sst/admission-0-1.html)"
   ]
  }
 ],
 "metadata": {
  "anaconda-cloud": {},
  "kernelspec": {
   "display_name": "Python 3",
   "language": "python",
   "name": "python3"
  },
  "language_info": {
   "codemirror_mode": {
    "name": "ipython",
    "version": 3
   },
   "file_extension": ".py",
   "mimetype": "text/x-python",
   "name": "python",
   "nbconvert_exporter": "python",
   "pygments_lexer": "ipython3",
   "version": "3.5.3"
  }
 },
 "nbformat": 4,
 "nbformat_minor": 1
}
