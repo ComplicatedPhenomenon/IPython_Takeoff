{
 "cells": [
  {
   "cell_type": "code",
   "execution_count": 1,
   "metadata": {
    "collapsed": true
   },
   "outputs": [],
   "source": [
    "%matplotlib inline"
   ]
  },
  {
   "cell_type": "code",
   "execution_count": 7,
   "metadata": {
    "collapsed": true
   },
   "outputs": [],
   "source": [
    "from __future__ import print_function\n",
    "\n",
    "# Import conventions we'll be using here. See Part 1\n",
    "import matplotlib\n",
    "matplotlib.use('nbagg')\n",
    "import matplotlib.pyplot as plt\n",
    "import numpy as np"
   ]
  },
  {
   "cell_type": "code",
   "execution_count": null,
   "metadata": {
    "collapsed": true
   },
   "outputs": [],
   "source": [
    "datafile = open('DATAgg4.txt','r')\n",
    "data =  datafile.readlines() # Python File readlines() Method\n",
    "datafile.close()\n",
    "\n",
    "for row in data:\n",
    "    this_data = row.split()\n",
    "\n",
    "# print (type(this_data))\n",
    "\n",
    "S = []\n",
    "cs = []\n",
    "for row in data:\n",
    "    this_data = row.split()\n",
    "    S.append(float(this_data[0]))\n",
    "    cs.append(float(this_data[1]))\n",
    "\n",
    "#print ('\\n')\n",
    "#print (type(S))\n",
    "\n",
    "S = np.array([float(row.split()[0]) for row in data])\n",
    "CS = np.array([float(row.split()[1]) for row in data])\n",
    "#print (S)\n",
    "#print (CS)\n",
    "fig,ax = plt.subplots()\n",
    "ax.plot(S,CS,label='.') # turn pb into fb\n",
    "#plt.legend()\n",
    "#plt.title(r'$qq\\longrightarrow t\\bar{t}G_n$', fontsize=20)\n",
    "ax.set( xlabel='m')\n",
    "ax.legend()\n",
    "plt.show()"
   ]
  },
  {
   "cell_type": "markdown",
   "metadata": {},
   "source": [
    "`plt.subplots()` is a function that returns a tuple containing a `figure` and `axes` object(s). Thus when using `fig, ax = plt.subplots()` you unpack this tuple into the variables `fig` and `ax`. Having `fig` is useful if you want to change figure-level attributes or save the figure as an image file later (e.g. with fig.savefig('yourfilename.png'). You certainly don't have to use the returned figure object but many people do use it later so it's common to see. Also, all axes objects (the objects that have plotting methods), have a parent figure object anyway"
   ]
  }
 ],
 "metadata": {
  "kernelspec": {
   "display_name": "Python 3",
   "language": "python",
   "name": "python3"
  },
  "language_info": {
   "codemirror_mode": {
    "name": "ipython",
    "version": 3
   },
   "file_extension": ".py",
   "mimetype": "text/x-python",
   "name": "python",
   "nbconvert_exporter": "python",
   "pygments_lexer": "ipython3",
   "version": "3.6.3"
  },
  "latex_envs": {
   "LaTeX_envs_menu_present": true,
   "autocomplete": true,
   "bibliofile": "biblio.bib",
   "cite_by": "apalike",
   "current_citInitial": 1,
   "eqLabelWithNumbers": true,
   "eqNumInitial": 1,
   "hotkeys": {
    "equation": "Ctrl-E",
    "itemize": "Ctrl-I"
   },
   "labels_anchors": false,
   "latex_user_defs": false,
   "report_style_numbering": false,
   "user_envs_cfg": false
  }
 },
 "nbformat": 4,
 "nbformat_minor": 2
}
