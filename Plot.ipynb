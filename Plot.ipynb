{
 "cells": [
  {
   "cell_type": "code",
   "execution_count": 1,
   "metadata": {},
   "outputs": [],
   "source": [
    "import time "
   ]
  },
  {
   "cell_type": "code",
   "execution_count": 2,
   "metadata": {},
   "outputs": [
    {
     "name": "stdout",
     "output_type": "stream",
     "text": [
      "Tue Jan  2 15:16:37 2018\n"
     ]
    }
   ],
   "source": [
    "print(time.ctime())"
   ]
  },
  {
   "cell_type": "markdown",
   "metadata": {},
   "source": [
    "This notebook is about manipulating the data of the final result"
   ]
  },
  {
   "cell_type": "code",
   "execution_count": 3,
   "metadata": {},
   "outputs": [],
   "source": [
    "%matplotlib inline"
   ]
  },
  {
   "cell_type": "code",
   "execution_count": 4,
   "metadata": {},
   "outputs": [],
   "source": [
    "from __future__ import print_function\n",
    "\n",
    "# Import conventions we'll be using here. See Part 1\n",
    "import matplotlib\n",
    "import matplotlib.pyplot as plt\n",
    "import numpy as np\n",
    "import pandas as pd"
   ]
  },
  {
   "cell_type": "code",
   "execution_count": 5,
   "metadata": {},
   "outputs": [],
   "source": [
    "datafile1 = open('DATAgg1.txt','r')\n",
    "data1 =  datafile1.readlines() \n",
    "datafile1.close()\n",
    "datafile2 = open('DATAgg2.txt','r')\n",
    "data2 =  datafile2.readlines() \n",
    "datafile2.close()\n",
    "datafile3 = open('DATAgg3.txt','r')\n",
    "data3 =  datafile3.readlines() \n",
    "datafile3.close()\n",
    "datafile4 = open('DATAgg4.txt','r')\n",
    "data4 =  datafile4.readlines() \n",
    "datafile4.close()"
   ]
  },
  {
   "cell_type": "markdown",
   "metadata": {},
   "source": [
    "```py\n",
    "a = ['1 3 \\n' ,'2 4 \\n']\n",
    "type(a)\n",
    "\n",
    "for i in a:\n",
    "    print(i)\n",
    "\n",
    "a = '1 3'\n",
    "a.split()\n",
    "\n",
    "1 3 \n",
    "\n",
    "2 4 \n",
    "\n",
    "['1', '3']\n",
    "```"
   ]
  },
  {
   "cell_type": "code",
   "execution_count": 14,
   "metadata": {},
   "outputs": [],
   "source": [
    "a1 = []\n",
    "b1 = []\n",
    "a2 = []\n",
    "b2 = []\n",
    "a3 = []\n",
    "b3 = []\n",
    "a4 = []\n",
    "b4 = []\n",
    "for row1 in data1:\n",
    "    this_data1 = row1.split()\n",
    "    a1.append(float(this_data1[0]))\n",
    "    b1.append(float(this_data1[1]))\n",
    "for row2 in data2:\n",
    "    this_data2 = row2.split()\n",
    "    a2.append(float(this_data2[0]))\n",
    "    b2.append(float(this_data2[1]))\n",
    "for row3 in data3:\n",
    "    this_data3 = row3.split()\n",
    "    a3.append(float(this_data3[0]))\n",
    "    b3.append(float(this_data3[1]))\n",
    "for row4 in data4:\n",
    "    this_data4 = row4.split()\n",
    "    a4.append(float(this_data4[0]))\n",
    "    b4.append(float(this_data4[1]))"
   ]
  },
  {
   "cell_type": "markdown",
   "metadata": {},
   "source": [
    "An alternative approach to implement convert the type of the element in a list\n",
    "```py\n",
    "S = np.array([float(row.split()[0]) for row in data])\n",
    "CS = np.array([float(row.split()[1]) for row in data])\n",
    "```"
   ]
  },
  {
   "cell_type": "code",
   "execution_count": 15,
   "metadata": {},
   "outputs": [
    {
     "data": {
      "text/plain": [
       "True"
      ]
     },
     "execution_count": 15,
     "metadata": {},
     "output_type": "execute_result"
    }
   ],
   "source": [
    "a1 == a3 == a2 == a4"
   ]
  },
  {
   "cell_type": "markdown",
   "metadata": {},
   "source": [
    "```py\n",
    "a = a1\n",
    "b = b1 + b2 + b3 + b5\n",
    "```"
   ]
  },
  {
   "cell_type": "markdown",
   "metadata": {},
   "source": [
    "Add 2 array instead of 2 list together"
   ]
  },
  {
   "cell_type": "markdown",
   "metadata": {},
   "source": [
    "```py\n",
    "c = [1, 2, 3]\n",
    "d = [3,4, 5]\n",
    "f = c + d \n",
    "f\n",
    "\n",
    "[1, 2, 3, 3, 4, 5]\n",
    "\n",
    "c = np.array(c)\n",
    "d = np.array(d)\n",
    "e = c + d\n",
    "e\n",
    "array([4, 6, 8])\n",
    "```"
   ]
  },
  {
   "cell_type": "code",
   "execution_count": 16,
   "metadata": {},
   "outputs": [],
   "source": [
    "a = np.array(a1)\n",
    "b = np.array(b1) + np.array(b2) + np.array(b3) + np.array(b4)"
   ]
  },
  {
   "cell_type": "code",
   "execution_count": 31,
   "metadata": {},
   "outputs": [
    {
     "data": {
      "image/png": "[encoded data removed]",
      "text/plain": [
       "<matplotlib.figure.Figure at 0x7f9b45e221d0>"
      ]
     },
     "metadata": {},
     "output_type": "display_data"
    }
   ],
   "source": [
    "fig,ax = plt.subplots()\n",
    "ax.plot(a[:100],b[:100]*10**3,label='.') # turn pb into fb\n",
    "ax.set( xlabel='m', ylabel='fb')\n",
    "plt.show()"
   ]
  },
  {
   "cell_type": "markdown",
   "metadata": {},
   "source": [
    "`plt.subplots()` is a function that returns a tuple containing a `figure` and `axes` object(s). Thus when using `fig, ax = plt.subplots()` you unpack this tuple into the variables `fig` and `ax`. Having `fig` is useful if you want to change figure-level attributes or save the figure as an image file later (e.g. with fig.savefig('yourfilename.png'). You certainly don't have to use the returned figure object but many people do use it later so it's common to see. Also, all axes objects (the objects that have plotting methods), have a parent figure object anyway"
   ]
  },
  {
   "cell_type": "code",
   "execution_count": 48,
   "metadata": {},
   "outputs": [
    {
     "data": {
      "image/png": "[encoded data removed]",
      "text/plain": [
       "<matplotlib.figure.Figure at 0x7f9b45abf2b0>"
      ]
     },
     "metadata": {},
     "output_type": "display_data"
    }
   ],
   "source": [
    "datafile = open('DATAqq_3.txt','r')\n",
    "data3 =  datafile.readlines() \n",
    "datafile = open('DATAqq_4.txt','r')\n",
    "data4 =  datafile.readlines() \n",
    "datafile = open('DATAqq_5.txt','r')\n",
    "data5 =  datafile.readlines() \n",
    "S1=S2=S3 = []\n",
    "CS1=CS2=CS3 = []\n",
    "for row in data3:\n",
    "    this_data = row.split()\n",
    "    S1.append(float(this_data[0]))\n",
    "    CS1.append(float(this_data[1]))\n",
    "for row in data4:\n",
    "    this_data = row.split()\n",
    "    S2.append(float(this_data[0]))\n",
    "    CS2.append(float(this_data[1]))\n",
    "for row in data5:\n",
    "    this_data = row.split()\n",
    "    S3.append(float(this_data[0]))\n",
    "    CS3.append(float(this_data[1]))    \n",
    "x1 = np.array(S1)\n",
    "y1 = np.array(CS1)\n",
    "x2 = np.array(S2)\n",
    "y2 = np.array(CS2)\n",
    "x3 = np.array(S3)\n",
    "y3 = np.array(CS3)\n",
    "fig,ax = plt.subplots()\n",
    "ax.plot(x1,y1*10**3,label='*')\n",
    "ax.plot(x2,y2*10**3,label='.')\n",
    "ax.plot(x3,y3*10**3,label='0')\n",
    "ax.set( xlabel='m', ylabel='fb')\n",
    "plt.show()"
   ]
  },
  {
   "cell_type": "code",
   "execution_count": 32,
   "metadata": {},
   "outputs": [],
   "source": [
    "from math import *"
   ]
  },
  {
   "cell_type": "code",
   "execution_count": 45,
   "metadata": {},
   "outputs": [
    {
     "data": {
      "text/plain": [
       "12.566370614359172"
      ]
     },
     "execution_count": 45,
     "metadata": {},
     "output_type": "execute_result"
    }
   ],
   "source": [
    "2*pi**(3/2)/gamma(3/2)"
   ]
  },
  {
   "cell_type": "code",
   "execution_count": null,
   "metadata": {},
   "outputs": [],
   "source": [
    "%ls"
   ]
  },
  {
   "cell_type": "code",
   "execution_count": null,
   "metadata": {},
   "outputs": [],
   "source": [
    "% cat DATAgg4.txt"
   ]
  },
  {
   "cell_type": "code",
   "execution_count": null,
   "metadata": {},
   "outputs": [],
   "source": [
    "data1 = pd.read_csv(\"DATAgg1.csv\")"
   ]
  },
  {
   "cell_type": "code",
   "execution_count": null,
   "metadata": {},
   "outputs": [],
   "source": [
    "type(data1)"
   ]
  },
  {
   "cell_type": "code",
   "execution_count": null,
   "metadata": {
    "collapsed": true
   },
   "outputs": [],
   "source": [
    "datafile =  open('DATAgg1.txt')"
   ]
  },
  {
   "cell_type": "code",
   "execution_count": null,
   "metadata": {},
   "outputs": [],
   "source": [
    "type(datafile)"
   ]
  },
  {
   "cell_type": "markdown",
   "metadata": {},
   "source": [
    "Convert string into interger and float "
   ]
  },
  {
   "cell_type": "code",
   "execution_count": null,
   "metadata": {
    "collapsed": true
   },
   "outputs": [],
   "source": [
    "x = '123'\n",
    "\n",
    "y = int(x)\n",
    "\n",
    "y\n",
    "\n",
    "x = '12  34'\n",
    "\n",
    "y = int(x)"
   ]
  },
  {
   "cell_type": "code",
   "execution_count": null,
   "metadata": {
    "collapsed": true
   },
   "outputs": [],
   "source": [
    "x = '12.34'"
   ]
  },
  {
   "cell_type": "code",
   "execution_count": null,
   "metadata": {},
   "outputs": [],
   "source": [
    "y = int(x)"
   ]
  },
  {
   "cell_type": "code",
   "execution_count": null,
   "metadata": {
    "collapsed": true
   },
   "outputs": [],
   "source": [
    "y = int(float(x))"
   ]
  },
  {
   "cell_type": "code",
   "execution_count": null,
   "metadata": {},
   "outputs": [],
   "source": [
    "y"
   ]
  },
  {
   "cell_type": "code",
   "execution_count": null,
   "metadata": {
    "collapsed": true
   },
   "outputs": [],
   "source": [
    "a = ['1', '2' ,'3']"
   ]
  },
  {
   "cell_type": "code",
   "execution_count": null,
   "metadata": {},
   "outputs": [],
   "source": [
    "type(a[1])"
   ]
  },
  {
   "cell_type": "markdown",
   "metadata": {},
   "source": [
    "Convert a list of string into a list of int"
   ]
  },
  {
   "cell_type": "code",
   "execution_count": null,
   "metadata": {
    "collapsed": true
   },
   "outputs": [],
   "source": [
    "a = list(map(int, a))"
   ]
  },
  {
   "cell_type": "code",
   "execution_count": null,
   "metadata": {},
   "outputs": [],
   "source": [
    "a"
   ]
  },
  {
   "cell_type": "code",
   "execution_count": null,
   "metadata": {},
   "outputs": [],
   "source": [
    "a = ['1','2','3']"
   ]
  },
  {
   "cell_type": "code",
   "execution_count": null,
   "metadata": {
    "collapsed": true
   },
   "outputs": [],
   "source": [
    "a = [ int(i) for i in a] "
   ]
  },
  {
   "cell_type": "code",
   "execution_count": null,
   "metadata": {},
   "outputs": [],
   "source": [
    "a"
   ]
  },
  {
   "cell_type": "markdown",
   "metadata": {},
   "source": [
    "The data structure of `DATAgg*.txt` is still a bit clear for me now. "
   ]
  }
 ],
 "metadata": {
  "kernelspec": {
   "display_name": "Python 3",
   "language": "python",
   "name": "python3"
  },
  "language_info": {
   "codemirror_mode": {
    "name": "ipython",
    "version": 3
   },
   "file_extension": ".py",
   "mimetype": "text/x-python",
   "name": "python",
   "nbconvert_exporter": "python",
   "pygments_lexer": "ipython3",
   "version": "3.5.3"
  },
  "latex_envs": {
   "LaTeX_envs_menu_present": true,
   "autocomplete": true,
   "bibliofile": "biblio.bib",
   "cite_by": "apalike",
   "current_citInitial": 1,
   "eqLabelWithNumbers": true,
   "eqNumInitial": 1,
   "hotkeys": {
    "equation": "Ctrl-E",
    "itemize": "Ctrl-I"
   },
   "labels_anchors": false,
   "latex_user_defs": false,
   "report_style_numbering": false,
   "user_envs_cfg": false
  }
 },
 "nbformat": 4,
 "nbformat_minor": 2
}
