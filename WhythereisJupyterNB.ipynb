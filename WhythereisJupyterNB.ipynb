{
 "cells": [
  {
   "cell_type": "markdown",
   "metadata": {},
   "source": [
    "Advantage of JN.\n",
    "  * > Another really exciting thing is what O'Reilly Media is doing. They are \n",
    "    embracing the notebook at a fairly deep level.The first is they have this\n",
    "    new learning site.Along with this actual website, O'Reilly has this open\n",
    "    source project called[`thebe`](https://github.com/oreillymedia/thebe)\n",
    "\n",
    "   > When I first saw this, I think part of my response was \"wow, that's a little\n",
    "    bit like over kill me maybe\"when you think about it, how much worse is it?\n",
    "    Some one will publish article requiring this much analysis and leave that \n",
    "    analysis out, there is no way anyone would ever be able to reproduce that \n",
    "    work. \n",
    "   > [`BuzzFeed` are doing fantastic work](https://github.com/BuzzFeedNews/everything#libraries-and-tools) \n",
    "    They had committed to do this for all of their data driven articles, they \n",
    "    are not sort of after the fact making sort decisions about \"well, should we \n",
    "    open this or not\",they just said \"we are doing it for everything\". \n",
    "  *  [2](https://longliveandprosperblog.wordpress.com/2017/08/04/talk/) Interview with [Fernado Perez](http://fperez.org/) about `Ipython Projects`."
   ]
  },
  {
   "cell_type": "markdown",
   "metadata": {},
   "source": [
    "---\n",
    "## [Acadiemia](https://conferences.oreilly.com/jupyter/jup-ny/public/schedule/detail/59848?ut)\n",
    "Poor reproducibility reality: Reports of a lack of reproducibility and transparency have led funders and others to require open data and code as part of their published outputs. However, current academic publishing systems still cannot support the solutions that technology has enabled, such as the Jupyter Notebook. Mark Hahnel and Marius Tulbure discuss the opportunities for Jupyter notebooks to be the final output of academic research, arguing that Jupyter could help disrupt the inefficiencies in cost and scale of open access academic publishing.\n",
    "\n",
    "## [Media](https://conferences.oreilly.com/jupyter/jup-ny/public/schedule/detail/59848?ut=tw-data-na-article-lgen_paco_nathan_jupyter_as)\n",
    "### How has Jupyter changed the way you work?\n",
    "Having repeatable work that can be packaged and shared with others provides an enormous boost for how we work together. Jupyter Notebooks give context to the code. When you share your work, you're not just sharing some source files that have to be deciphered; you're sharing a whole train of thought, which makes it much easier to see what's going on. This isn't just true for your team members; it's equally true if you drop something and come back six months later.\n",
    "\n",
    "## [AnacondaCON](https://www.anaconda.com/presentations/)\n",
    "## [nbviewer](https://nbviewer.jupyter.org) "
   ]
  },
  {
   "cell_type": "markdown",
   "metadata": {},
   "source": [
    "---\n",
    "## [presentation-slides-with-jupyter-notebook](http://echorand.me/presentation-slides-with-jupyter-notebook.html)\n",
    "[LIGO_LOSC_Event](https://nbviewer.jupyter.org/urls/losc.ligo.org/s/events/LOSC_Event_tutorial.ipynb)\n",
    "## [Jupyter_latex_envs](https://pypi.python.org/pypi/jupyter_latex_envs/1.3.8.4)\n",
    "Support $\\LaTeX$ environment within markdown cells\n",
    "\n",
    "\n",
    "\n",
    "Installation step\n",
    "* 1.Install the package. From [GitHub repo]((https://github.com/jfbercher/jupyter_latex_envs), or via pip or conda.\n",
    "* 2.Install the notebook extension.\n",
    "* 3.Enable it.\n",
    "\n",
    "I met the problem `PermissionError: [Errno 13] Permission denied: '/usr/local/share/jupyter'` at the 2nd step.\n",
    "I tried \n",
    "* Enter a isolated environment `source activate source`, I got same mistake。\n",
    "* I tried with `sudo` \n",
    " ```\n",
    " sudo jupyter-nbextension install --py latex_envs\n",
    " jupyter-nbextension: command not found`\n",
    " ```\n",
    "* Finally, I added the `--user` option\n",
    "\n",
    "  ```\n",
    "  $ jupyter nbextension install --py latex_envs --user\n",
    "  ...\n",
    "  - Validating: OK\n",
    "\n",
    "    To initialize this nbextension in the browser every time the notebook (or other app) loads:\n",
    "    \n",
    "          jupyter nbextension enable latex_envs --user --py\n",
    "    \n",
    "  $ jupyter nbextension enable latex_envs --user --py\n",
    "  Enabling notebook extension latex_envs/latex_envs...\n",
    "      - Validating: OK\n",
    "\n",
    "  ```"
   ]
  },
  {
   "cell_type": "markdown",
   "metadata": {},
   "source": [
    "---\n",
    "## [28 Jupyter Notebook tips, tricks, and shortcuts](https://www.dataquest.io/blog/jupyter-notebook-tips-tricks-shortcuts/)"
   ]
  },
  {
   "cell_type": "markdown",
   "metadata": {},
   "source": [
    "The first step toward understanding how things work is to look up an example. Here we lear how command  `InteractiveShell.ast_node_interactivity = \"all\"` take effects."
   ]
  },
  {
   "cell_type": "code",
   "execution_count": 1,
   "metadata": {},
   "outputs": [
    {
     "data": {
      "text/plain": [
       "{10, 3, 5, 9, 'H', 'e', 'l', 'o'}"
      ]
     },
     "execution_count": 1,
     "metadata": {},
     "output_type": "execute_result"
    }
   ],
   "source": [
    "s = set([3,5,9,10])           # 创建一个数值集合，返回{3, 5, 9, 10}\n",
    "t = set(\"Hello\")              # 创建一个唯一字符的集合返回{}\n",
    "a = t | s;\n",
    "t.union(s)                    # t 和 s的并集\n",
    "b = t & s;   \n",
    "t.intersection(s)             # t 和 s的交集\n",
    "c = t - s;\n",
    "t.difference(s)               # 求差集（项在t中, 但不在s中）\n",
    "d = t ^ s;\n",
    "t.symmetric_difference(s)     # 对称差集（项在t或s中, 但不会同时出现在二者中）"
   ]
  },
  {
   "cell_type": "markdown",
   "metadata": {},
   "source": [
    "**What if you want to see the value of multiple statements at once?**"
   ]
  },
  {
   "cell_type": "code",
   "execution_count": 2,
   "metadata": {
    "collapsed": true
   },
   "outputs": [],
   "source": [
    "from IPython.core.interactiveshell import InteractiveShell\n",
    "InteractiveShell.ast_node_interactivity = \"all\""
   ]
  },
  {
   "cell_type": "code",
   "execution_count": 7,
   "metadata": {},
   "outputs": [
    {
     "data": {
      "text/plain": [
       "{10, 3, 5, 9, 'H', 'e', 'l', 'o'}"
      ]
     },
     "execution_count": 7,
     "metadata": {},
     "output_type": "execute_result"
    },
    {
     "data": {
      "text/plain": [
       "set()"
      ]
     },
     "execution_count": 7,
     "metadata": {},
     "output_type": "execute_result"
    },
    {
     "data": {
      "text/plain": [
       "{'H', 'e', 'l', 'o'}"
      ]
     },
     "execution_count": 7,
     "metadata": {},
     "output_type": "execute_result"
    },
    {
     "data": {
      "text/plain": [
       "{10, 3, 5, 9, 'H', 'e', 'l', 'o'}"
      ]
     },
     "execution_count": 7,
     "metadata": {},
     "output_type": "execute_result"
    }
   ],
   "source": [
    "s = set([3,5,9,10])           # 创建一个数值集合，返回{3, 5, 9, 10}\n",
    "t = set(\"Hello\")              # 创建一个唯一字符的集合返回{}\n",
    "a = t | s;\n",
    "t.union(s)                    # t 和 s的并集\n",
    "b = t & s;   \n",
    "t.intersection(s)             # t 和 s的交集\n",
    "c = t - s;\n",
    "t.difference(s)               # 求差集（项在t中, 但不在s中）\n",
    "d = t ^ s;\n",
    "t.symmetric_difference(s)     # 对称差集（项在t或s中, 但不会同时出现在二者中）"
   ]
  },
  {
   "cell_type": "code",
   "execution_count": 2,
   "metadata": {
    "collapsed": true
   },
   "outputs": [],
   "source": [
    "S = ''                                  # 空字符串\n",
    "S = \"spam’s\"                            # 双引号和单引号相同\n",
    "S = \"s\\np\\ta\\x00m\"                      # 转义字符\n",
    "S = \"\"\"spam\"\"\"                          # 三重引号字符串，一般用于函数说明\n",
    "S = r'\\temp'                            # Raw字符串，不会进行转义，抑制转义\n",
    "S = b'Spam'                             # Python3中的字节字符串\n",
    "S = u'spam'"
   ]
  },
  {
   "cell_type": "code",
   "execution_count": 11,
   "metadata": {},
   "outputs": [
    {
     "name": "stdout",
     "output_type": "stream",
     "text": [
      "this is 1 dead bird\n",
      "1234...  1234...1234  ...001234\n"
     ]
    }
   ],
   "source": [
    "\"\"\"\n",
    "基于C语言的'print'模型，并且在大多数的现有的语言中使用。\n",
    "通用结构：%[(name)][flag][width].[precision]typecode\n",
    "\"\"\"\n",
    "print(\"this is %d %s bird\" % (1, 'dead') )\n",
    "print(\"%d...%6d...%-6d...%06d\" % (1234, 1234, 1234, 1234)) # 对齐方式及填充：\"1234...  1234...1234  ...001234\")\n",
    "print(\"{0}, {1} and {1}\".format('spam', 'ham', 'eggs'))"
   ]
  }
 ],
 "metadata": {
  "kernelspec": {
   "display_name": "Python 3",
   "language": "python",
   "name": "python3"
  },
  "language_info": {
   "codemirror_mode": {
    "name": "ipython",
    "version": 3
   },
   "file_extension": ".py",
   "mimetype": "text/x-python",
   "name": "python",
   "nbconvert_exporter": "python",
   "pygments_lexer": "ipython3",
   "version": "3.6.3"
  },
  "latex_envs": {
   "LaTeX_envs_menu_present": true,
   "autocomplete": true,
   "bibliofile": "biblio.bib",
   "cite_by": "apalike",
   "current_citInitial": 1,
   "eqLabelWithNumbers": true,
   "eqNumInitial": 1,
   "hotkeys": {
    "equation": "Ctrl-E",
    "itemize": "Ctrl-I"
   },
   "labels_anchors": false,
   "latex_user_defs": false,
   "report_style_numbering": false,
   "user_envs_cfg": false
  }
 },
 "nbformat": 4,
 "nbformat_minor": 2
}
