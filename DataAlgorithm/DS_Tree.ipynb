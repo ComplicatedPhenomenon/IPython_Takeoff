{
 "cells": [
  {
   "cell_type": "code",
   "execution_count": null,
   "metadata": {},
   "outputs": [],
   "source": [
    "from IPython.core.interactiveshell import InteractiveShell\n",
    "InteractiveShell.ast_node_interactivity = \"all\""
   ]
  },
  {
   "cell_type": "markdown",
   "metadata": {},
   "source": [
    "# path sum\n",
    "https://leetcode.com/problems/path-sum/"
   ]
  },
  {
   "cell_type": "markdown",
   "metadata": {},
   "source": [
    "```md\n",
    "      5\n",
    "     / \\\n",
    "    4   8\n",
    "   /   / \\\n",
    "  11  13  4\n",
    " /  \\      \\\n",
    "7    2      1\n",
    "```\n",
    "\n",
    "Given the above binary tree and sum = 22, return true, as there exist a root-to-leaf path 5->4->11->2 which sum is 22."
   ]
  },
  {
   "cell_type": "markdown",
   "metadata": {},
   "source": [
    "<span style=\"font-family:New York Times; font-size:1.2em; color:green;\">\n",
    "Key point is: Tree traversal"
   ]
  },
  {
   "cell_type": "code",
   "execution_count": null,
   "metadata": {},
   "outputs": [],
   "source": [
    "class TreeNode:\n",
    "    def __init__(self, x):\n",
    "        self.val = x\n",
    "        self.left = None\n",
    "        self.right = None\n",
    "\n",
    "class Solution:\n",
    "    # @param root, a tree node\n",
    "    # @param sum, an integer\n",
    "    # @return a boolean\n",
    "    # 1:27\n",
    "    def hasPathSum(self, root, sumv):       \n",
    "        if root == None:\n",
    "            return False\n",
    "\n",
    "        if not root.left and not root.right and root.val == sumv:\n",
    "            \n",
    "            return True\n",
    "        \n",
    "        sumv -= root.val\n",
    "        print(root.val)\n",
    "        #print(sumv)\n",
    "\n",
    "        return self.hasPathSum(root.left, sumv) or self.hasPathSum(root.right, sumv)\n",
    "    \n",
    "root = TreeNode(5)\n",
    "\n",
    "root.left = TreeNode(4)\n",
    "root.left.left = TreeNode(11)\n",
    "root.left.left.left = TreeNode(7)\n",
    "root.left.left.right = TreeNode(2)\n",
    "\n",
    "root.right = TreeNode(8)\n",
    "root.right.left = TreeNode(13)\n",
    "root.right.right = TreeNode(4)\n",
    "root.right.right.right = TreeNode(1)\n",
    "\n",
    "Solution().hasPathSum(root, 22)"
   ]
  },
  {
   "cell_type": "markdown",
   "metadata": {},
   "source": [
    "# binary tree paths\n",
    "https://leetcode.com/problems/binary-tree-paths/"
   ]
  },
  {
   "cell_type": "markdown",
   "metadata": {},
   "source": [
    "```md \n",
    "Input:\n",
    "\n",
    "   1\n",
    " /   \\\n",
    "2     3\n",
    " \\\n",
    "  5\n",
    "\n",
    "Output: [\"1->2->5\", \"1->3\"]\n",
    "\n",
    "Explanation: All root-to-leaf paths are: 1->2->5, 1->3\n",
    "```"
   ]
  },
  {
   "cell_type": "code",
   "execution_count": null,
   "metadata": {},
   "outputs": [],
   "source": [
    "# Definition for a binary tree node.\n",
    "class TreeNode:\n",
    "    def __init__(self, x):\n",
    "        self.val = x\n",
    "        self.left = None\n",
    "        self.right = None\n",
    "\n",
    "class Solution:\n",
    "    def binaryTreePaths(self, root: TreeNode) -> List[str]:\n",
    "        if root != None:\n",
    "            return []\n",
    "        else:\n",
    "            if root.left\n",
    "        \n",
    "        \n",
    "root = TreeNode(5)\n",
    "\n",
    "root.left = TreeNode(4)\n",
    "root.left.left = TreeNode(11)\n",
    "root.left.left.left = TreeNode(7)\n",
    "root.left.left.right = TreeNode(2)\n",
    "\n",
    "root.right = TreeNode(8)\n",
    "root.right.left = TreeNode(13)\n",
    "root.right.right = TreeNode(4)\n",
    "root.right.right.right = TreeNode(1)        "
   ]
  },
  {
   "cell_type": "markdown",
   "metadata": {},
   "source": [
    "# symmetric tree\n",
    "https://leetcode.com/problems/symmetric-tree/"
   ]
  },
  {
   "cell_type": "markdown",
   "metadata": {},
   "source": [
    "```md \n",
    "This binary tree [1,2,2,3,4,4,3] is symmetric:\n",
    "    1\n",
    "   / \\\n",
    "  2   2\n",
    " / \\ / \\\n",
    "3  4 4  3\n",
    "```"
   ]
  },
  {
   "cell_type": "code",
   "execution_count": null,
   "metadata": {},
   "outputs": [],
   "source": [
    "\"\"\"\n",
    "Runtime: 40 ms, faster than 75.92% of Python3 online submissions for Symmetric Tree.\n",
    "Memory Usage: 13.8 MB, less than 5.17% of Python3 online submissions for Symmetric Tree.\n",
    "\"\"\"\n",
    "\n",
    "# Definition for a binary tree node.\n",
    "# class TreeNode:\n",
    "#     def __init__(self, x):\n",
    "#         self.val = x\n",
    "#         self.left = None\n",
    "#         self.right = None\n",
    "\n",
    "\n",
    "class Solution:\n",
    "    def isSymmetric(self, root: TreeNode) -> bool:\n",
    "        if root == None:\n",
    "            return True\n",
    "        stack = [[root.left, root.right]]\n",
    "\n",
    "        while len(stack) > 0:\n",
    "            pair = stack.pop(0)\n",
    "            left = pair[0]\n",
    "            right = pair[1]\n",
    "\n",
    "            if left == None and right == None:\n",
    "                continue\n",
    "\n",
    "            if left == None or right == None:\n",
    "                return False\n",
    "\n",
    "            if left.val == right.val:\n",
    "                stack.append([left.left, right.right])\n",
    "                stack.append([left.right, right.left])\n",
    "            else:\n",
    "                return False\n",
    "\n",
    "        return True"
   ]
  },
  {
   "cell_type": "code",
   "execution_count": null,
   "metadata": {},
   "outputs": [],
   "source": [
    "x = [[2]]\n",
    "x.pop(0)\n",
    "x = [2, 3]\n",
    "x.pop(1)\n",
    "x.insert(0,1)\n",
    "x \n",
    "x.insert(0,4)\n",
    "x "
   ]
  },
  {
   "cell_type": "markdown",
   "metadata": {},
   "source": [
    "# maximum depth of binary tree \n",
    "https://leetcode.com/problems/maximum-depth-of-binary-tree/submissions/"
   ]
  },
  {
   "cell_type": "code",
   "execution_count": null,
   "metadata": {},
   "outputs": [],
   "source": [
    "# Definition for a binary tree node.\n",
    "# class TreeNode:\n",
    "#     def __init__(self, x):\n",
    "#         self.val = x\n",
    "#         self.left = None\n",
    "#         self.right = None\n",
    "\n",
    "class Solution:\n",
    "    def maxDepth(self, root: TreeNode) -> int:\n",
    "        return 0 if root == None else max(self.maxDepth(root.left), self.maxDepth(root.right))+1"
   ]
  },
  {
   "cell_type": "markdown",
   "metadata": {},
   "source": [
    "# minimum depth of binary tree\n",
    "https://leetcode.com/problems/minimum-depth-of-binary-tree/"
   ]
  },
  {
   "cell_type": "markdown",
   "metadata": {},
   "source": [
    "Recursion or breadth first search"
   ]
  },
  {
   "cell_type": "code",
   "execution_count": null,
   "metadata": {},
   "outputs": [],
   "source": [
    "class Solution:\n",
    "    def minDepth(self, root):\n",
    "        \"\"\"\n",
    "        :type root: TreeNode\n",
    "        :rtype: int\n",
    "        \"\"\"\n",
    "        if not root:\n",
    "            return 0\n",
    "\n",
    "        depth = 0\n",
    "        current_level = [root]\n",
    "        # When a list is evaluated in Boolean context,\n",
    "        # it is truthy if it has elements in it and falsy if it is empty\n",
    "        while current_level:\n",
    "            depth += 1\n",
    "            next_level = []\n",
    "            for node in current_level:\n",
    "                left = node.left\n",
    "                right = node.right\n",
    "                if not left and not right:\n",
    "                    return depth\n",
    "                if left:\n",
    "                    next_level.append(left)\n",
    "                if right:\n",
    "                    next_level.append(right)\n",
    "            current_level = next_level\n",
    "        return depth"
   ]
  },
  {
   "cell_type": "markdown",
   "metadata": {},
   "source": [
    "# balanced binary tree \n",
    "https://leetcode.com/problems/balanced-binary-tree/"
   ]
  },
  {
   "cell_type": "code",
   "execution_count": null,
   "metadata": {},
   "outputs": [],
   "source": [
    "# Definition for a binary tree node.\n",
    "# class TreeNode:\n",
    "#     def __init__(self, x):\n",
    "#         self.val = x\n",
    "#         self.left = None\n",
    "#         self.right = None\n",
    "\n",
    "class Solution:\n",
    "    def maxDepth(self, root: TreeNode) -> int:\n",
    "        return 0 if root == None else max(self.maxDepth(root.left), self.maxDepth(root.right))+1\n",
    "    def minDepth(self, root):\n",
    "        if not root:\n",
    "            return 0\n",
    "        depth = 0\n",
    "        current_level = [root]\n",
    "        while current_level:\n",
    "            depth += 1\n",
    "            next_level = []\n",
    "            for node in current_level:\n",
    "                left = node.left\n",
    "                right = node.right\n",
    "                if not left and not right:\n",
    "                    return depth\n",
    "                if left:\n",
    "                    next_level.append(left)\n",
    "                if right:\n",
    "                    next_level.append(right)\n",
    "            current_level = next_level\n",
    "        return depth\n",
    "    # Bad performance, As no need to know max Depth of the tree\n",
    "    def isBalanced(self, root: TreeNode) -> bool:\n",
    " \n",
    "        return (self.maxDepth(root) - self.minDepth(root)) > 1\n",
    "            \n"
   ]
  },
  {
   "cell_type": "markdown",
   "metadata": {},
   "source": [
    "# Binary search tree "
   ]
  },
  {
   "cell_type": "markdown",
   "metadata": {},
   "source": [
    "## Implement to construct a binary search tree"
   ]
  },
  {
   "cell_type": "markdown",
   "metadata": {},
   "source": [
    "### Approach 1"
   ]
  },
  {
   "cell_type": "code",
   "execution_count": null,
   "metadata": {},
   "outputs": [],
   "source": [
    "class node(object):\n",
    "    \"\"\"Constructor of binary tree node \"\"\"\n",
    "    def __init__(self, data):\n",
    "        self.data = data \n",
    "        self.leftnode = None \n",
    "        self.rightnode = None\n",
    "\n",
    "class binarySearchTree(object):\n",
    "    def __init__(self):\n",
    "        self.root = None\n",
    "    def insert(self, val):\n",
    "        if self.root == None:\n",
    "            self.root  = node(val)\n",
    "        else:\n",
    "            self._insert(val, self.root)\n",
    "    def _insert(self, value, xnode):\n",
    "        if value < xnode.data:\n",
    "            if xnode.leftnode == None:\n",
    "                xnode.leftnode = node(value)\n",
    "            else:\n",
    "                self._insert(value, xnode.leftnode)\n",
    "        elif value > xnode.data:\n",
    "            if xnode.rightnode == None:\n",
    "                xnode.rightnode = node(value)   \n",
    "            else:\n",
    "                self._insert(value, xnode.rightnode)\n",
    "        else:\n",
    "            print('data is invalid, it is already in the BST')\n",
    "    def printBST(self):\n",
    "        if self.root == None:\n",
    "            print('None')\n",
    "        else:\n",
    "            self._printBST(self.root)\n",
    "    def _printBST(self, cur_node):\n",
    "        if cur_node != None:\n",
    "            self._printBST(cur_node.leftnode)\n",
    "            print(str(cur_node.data))\n",
    "            self._printBST(cur_node.rightnode)\n",
    "            \n",
    "            \n",
    "testBST = binarySearchTree()\n",
    "nums = [13, 9, 15, 3, 11, 7, 16]\n",
    "for i in nums:\n",
    "    testBST.insert(i)\n",
    "testBST.printBST()"
   ]
  },
  {
   "cell_type": "markdown",
   "metadata": {},
   "source": [
    "```md\n",
    "       13\n",
    "     /    \\\n",
    "    9     15\n",
    "   / \\    / \\\n",
    "  3  11  7  16\n",
    "```"
   ]
  },
  {
   "cell_type": "markdown",
   "metadata": {},
   "source": [
    "<span style = \"font-family: CosMic Sans MS; font-size: 2em; color:red\">\n",
    "Visualize Binary Search Tree</span>\n",
    "  \n",
    "https://visualgo.net/bn/bst"
   ]
  },
  {
   "cell_type": "markdown",
   "metadata": {},
   "source": [
    "```md\n",
    "       13\n",
    "     /    \\\n",
    "    9     15\n",
    "   / \\      \\\n",
    "  3  11     16\n",
    "   \\\n",
    "    7\n",
    "```"
   ]
  },
  {
   "cell_type": "markdown",
   "metadata": {},
   "source": [
    "### Approach 2 "
   ]
  },
  {
   "cell_type": "code",
   "execution_count": null,
   "metadata": {},
   "outputs": [],
   "source": [
    "class Node(object):\n",
    "\n",
    "    # Build constructor\n",
    "    #  A binary tree node\n",
    "    def __init__(self, data):\n",
    "        self.data = data\n",
    "        self.left = None\n",
    "        self.right = None\n",
    "\n",
    "    def insert(self, data):\n",
    "        if data < self.data:\n",
    "            if self.left is None:\n",
    "                self.left = Node(data)\n",
    "            else:\n",
    "                self.left.insert(data)\n",
    "        elif data > self.data:\n",
    "            if self.right is None:\n",
    "                self.right = Node(data)\n",
    "            else:\n",
    "                self.right.insert(data)\n",
    "        if data == self.data:\n",
    "            print(\"Data already in tree\")\n",
    "\n",
    "    def print_tree(self):\n",
    "        if self.data == None:\n",
    "            print(\"It's an empty tree\")\n",
    "        else:\n",
    "            print(self.data)\n",
    "\n",
    "root = Node(8)\n",
    "root.insert(3)\n",
    "root.insert(10)\n",
    "root.insert(1)\n",
    "root.insert(6)\n",
    "root.insert(4)\n",
    "root.insert(7)\n",
    "root.insert(14)\n",
    "root.insert(13)\n",
    "root.print_tree()"
   ]
  },
  {
   "cell_type": "code",
   "execution_count": null,
   "metadata": {},
   "outputs": [],
   "source": [
    "root = Node()"
   ]
  },
  {
   "cell_type": "markdown",
   "metadata": {},
   "source": [
    "## Find the node with minimum value in BST"
   ]
  },
  {
   "cell_type": "code",
   "execution_count": null,
   "metadata": {},
   "outputs": [],
   "source": [
    "class Node:\n",
    "    def __init__(self, key):\n",
    "        self.data = key\n",
    "        self.left = None\n",
    "        self.right = None\n",
    "\n",
    "\n",
    "def insert(node, data):\n",
    "    # 1. If the tree is empty, return a new single node\n",
    "    if node is None:\n",
    "        return (Node(data))\n",
    "\n",
    "    else:\n",
    "        # 2. Otherwise, recur down the tree\n",
    "        if data <= node.data:\n",
    "            node.left = insert(node.left, data)\n",
    "        else:\n",
    "            node.right = insert(node.right, data)\n",
    "\n",
    "        # Return the (unchanged) node pointer\n",
    "        return node\n",
    "\n",
    "\n",
    "\"\"\" Given a non-empty binary search tree, \n",
    "return the minimum data value found in that \n",
    "tree. Note that the entire tree does not need \n",
    "to be searched. \"\"\"\n",
    "\n",
    "\n",
    "def minValue(node):\n",
    "    current = node\n",
    "    \n",
    "    # loop down to find the lefmost leaf\n",
    "    while (current.left is not None):\n",
    "        current = current.left\n",
    "\n",
    "    return current.data\n",
    "\n",
    "\n",
    "# Driver program\n",
    "root = None\n",
    "root = insert(root, 4)\n",
    "insert(root, 2)\n",
    "insert(root, 1)\n",
    "insert(root, 3)\n",
    "insert(root, 6)\n",
    "insert(root, 5)\n",
    "\n",
    "print(minValue(root))\n",
    "\n",
    "# This code is contributed by Nikhil Kumar Singh(nickzuck_007)"
   ]
  },
  {
   "cell_type": "markdown",
   "metadata": {},
   "source": [
    "# Binary Tree traversal"
   ]
  },
  {
   "cell_type": "code",
   "execution_count": null,
   "metadata": {},
   "outputs": [],
   "source": [
    "# Python program for special order traversal\n",
    "\n",
    "class Node:\n",
    "    \n",
    "    s = []\n",
    "    q = []\n",
    "\n",
    "    # Variable to traverse the reversed array\n",
    "    elements = 0\n",
    "\n",
    "    # A constructor for making a new node\n",
    "    def __init__(self, key):\n",
    "        self.data = key\n",
    "        self.left = None\n",
    "        self.right = None\n",
    "\n",
    "    # Given a perfect binary tree print its node in specific order\n",
    "    def printSpecificLevelOrder(self, root):\n",
    "        self.s.append(root)\n",
    "\n",
    "        # Pop the element from the list\n",
    "        prnt = self.s.pop(0)\n",
    "        self.q.append(prnt.data)\n",
    "        if prnt.right:\n",
    "            self.s.append(root.right)\n",
    "        if prnt.left:\n",
    "            self.s.append(root.left)\n",
    "\n",
    "        # Traversal loop\n",
    "        while (len(self.s) > 0):\n",
    "\n",
    "            # Pop two items from queue\n",
    "            first = self.s.pop(0)\n",
    "            self.q.append(first.data)\n",
    "            second = self.s.pop(0)\n",
    "            self.q.append(second.data)\n",
    "\n",
    "            # Since it is perfect Binary tree,\n",
    "            # one of the node is needed to be checked\n",
    "            if first.left and second.right and first.right and second.left:\n",
    "\n",
    "                # If first and second have grandchildren,\n",
    "                # enqueue them in reverse order\n",
    "                self.s.append(first.left)\n",
    "                self.s.append(second.right)\n",
    "                self.s.append(first.right)\n",
    "                self.s.append(second.left)\n",
    "\n",
    "        # Give a perfect binary tree print its node in reverse order\n",
    "        for elements in reversed(self.q):\n",
    "            print(elements, end=\" \")\n",
    "\n",
    "\n",
    "# Driver Code\n",
    "root = Node(1)\n",
    "\n",
    "root.left = Node(2)\n",
    "root.right = Node(3)\n",
    "\n",
    "root.left.left = Node(4)\n",
    "root.left.right = Node(5)\n",
    "root.right.left = Node(6)\n",
    "root.right.right = Node(7)\n",
    "\n",
    "root.left.left.left = Node(8)\n",
    "root.left.left.right = Node(9)\n",
    "root.left.right.left = Node(10)\n",
    "root.left.right.right = Node(11)\n",
    "root.right.left.left = Node(12)\n",
    "root.right.left.right = Node(13)\n",
    "root.right.right.left = Node(14)\n",
    "root.right.right.right = Node(15)\n",
    "\n",
    "root.left.left.left.left = Node(16)\n",
    "root.left.left.left.right = Node(17)\n",
    "root.left.left.right.left = Node(18)\n",
    "root.left.left.right.right = Node(19)\n",
    "root.left.right.left.left = Node(20)\n",
    "root.left.right.left.right = Node(21)\n",
    "root.left.right.right.left = Node(22)\n",
    "root.left.right.right.right = Node(23)\n",
    "root.right.left.left.left = Node(24)\n",
    "root.right.left.left.right = Node(25)\n",
    "root.right.left.right.left = Node(26)\n",
    "root.right.left.right.right = Node(27)\n",
    "root.right.right.left.left = Node(28)\n",
    "root.right.right.left.right = Node(29)\n",
    "root.right.right.right.left = Node(30)\n",
    "root.right.right.right.right = Node(31)\n",
    "\n",
    "print(\"Specific Level Order traversal of \" \"binary tree is\")\n",
    "root.printSpecificLevelOrder(root)\n",
    "\n",
    "# This code is contributed by 'Vaibhav Kumar 12'"
   ]
  },
  {
   "cell_type": "markdown",
   "metadata": {},
   "source": []
  },
  {
   "cell_type": "code",
   "execution_count": null,
   "metadata": {},
   "outputs": [],
   "source": []
  }
 ],
 "metadata": {
  "hide_input": false,
  "kernelspec": {
   "display_name": "Python 3",
   "language": "python",
   "name": "python3"
  },
  "language_info": {
   "codemirror_mode": {
    "name": "ipython",
    "version": 3
   },
   "file_extension": ".py",
   "mimetype": "text/x-python",
   "name": "python",
   "nbconvert_exporter": "python",
   "pygments_lexer": "ipython3",
   "version": "3.7.2"
  },
  "toc": {
   "base_numbering": 1,
   "nav_menu": {},
   "number_sections": true,
   "sideBar": true,
   "skip_h1_title": false,
   "title_cell": "Table of Contents",
   "title_sidebar": "Contents",
   "toc_cell": false,
   "toc_position": {},
   "toc_section_display": true,
   "toc_window_display": true
  },
  "varInspector": {
   "cols": {
    "lenName": 16,
    "lenType": 16,
    "lenVar": 40
   },
   "kernels_config": {
    "python": {
     "delete_cmd_postfix": "",
     "delete_cmd_prefix": "del ",
     "library": "var_list.py",
     "varRefreshCmd": "print(var_dic_list())"
    },
    "r": {
     "delete_cmd_postfix": ") ",
     "delete_cmd_prefix": "rm(",
     "library": "var_list.r",
     "varRefreshCmd": "cat(var_dic_list()) "
    }
   },
   "types_to_exclude": [
    "module",
    "function",
    "builtin_function_or_method",
    "instance",
    "_Feature"
   ],
   "window_display": false
  }
 },
 "nbformat": 4,
 "nbformat_minor": 2
}
