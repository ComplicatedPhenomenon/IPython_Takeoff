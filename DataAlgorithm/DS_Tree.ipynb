{
 "cells": [
  {
   "cell_type": "code",
   "execution_count": null,
   "metadata": {
    "ExecuteTime": {
     "end_time": "2019-12-19T11:19:35.276362Z",
     "start_time": "2019-12-19T11:19:35.273027Z"
    }
   },
   "outputs": [],
   "source": [
    "from IPython.core.interactiveshell import InteractiveShell\n",
    "InteractiveShell.ast_node_interactivity = \"all\""
   ]
  },
  {
   "cell_type": "markdown",
   "metadata": {},
   "source": [
    "# path sum\n",
    "https://leetcode.com/problems/path-sum/"
   ]
  },
  {
   "cell_type": "markdown",
   "metadata": {},
   "source": [
    "```md\n",
    "      5\n",
    "     / \\\n",
    "    4   8\n",
    "   /   / \\\n",
    "  11  13  4\n",
    " /  \\      \\\n",
    "7    2      1\n",
    "```\n",
    "\n",
    "Given the above binary tree and sum = 22, return true, as there exist a root-to-leaf path 5->4->11->2 which sum is 22."
   ]
  },
  {
   "cell_type": "markdown",
   "metadata": {},
   "source": [
    "<span style=\"font-family:New York Times; font-size:1em; color:green;\">\n",
    "Key point is: Tree traversal\n",
    "    \n",
    "Approach: recursively iterate the binary tree "
   ]
  },
  {
   "cell_type": "code",
   "execution_count": null,
   "metadata": {
    "ExecuteTime": {
     "end_time": "2019-12-19T11:19:38.554459Z",
     "start_time": "2019-12-19T11:19:38.550507Z"
    }
   },
   "outputs": [],
   "source": [
    "class TreeNode:\n",
    "    def __init__(self, x):\n",
    "        self.val = x\n",
    "        self.left = None\n",
    "        self.right = None"
   ]
  },
  {
   "cell_type": "code",
   "execution_count": null,
   "metadata": {
    "ExecuteTime": {
     "end_time": "2019-12-19T11:19:45.789716Z",
     "start_time": "2019-12-19T11:19:45.772139Z"
    }
   },
   "outputs": [],
   "source": [
    "class Solution:\n",
    "    def hasPathSum(self, root, sumv):\n",
    "        if root == None:\n",
    "            return False\n",
    "\n",
    "        if not root.left and not root.right and root.val == sumv:\n",
    "            return True\n",
    "        \n",
    "        sumv -= root.val\n",
    "        \n",
    "        return self.hasPathSum(root.left, sumv) or self.hasPathSum(\n",
    "            root.right, sumv)\n",
    "\n",
    "\n",
    "root = TreeNode(5)\n",
    "\n",
    "root.left = TreeNode(4)\n",
    "root.left.left = TreeNode(11)\n",
    "root.left.left.left = TreeNode(7)\n",
    "root.left.left.right = TreeNode(2)\n",
    "\n",
    "root.right = TreeNode(8)\n",
    "root.right.left = TreeNode(13)\n",
    "root.right.right = TreeNode(4)\n",
    "root.right.right.right = TreeNode(1)\n",
    "\n",
    "Solution().hasPathSum(root, 22)"
   ]
  },
  {
   "cell_type": "markdown",
   "metadata": {},
   "source": [
    "# Path Sum II\n",
    "https://leetcode.com/problems/path-sum-ii/"
   ]
  },
  {
   "cell_type": "markdown",
   "metadata": {},
   "source": [
    "```md \n",
    "      5\n",
    "     / \\\n",
    "    4   8\n",
    "   /   / \\\n",
    "  11  13  4\n",
    " /  \\    / \\\n",
    "7    2  5   1\n",
    "    \n",
    "sum = 22 \n",
    "    \n",
    "[\n",
    "   [5,4,11,2],\n",
    "   [5,8,4,5]\n",
    "]\n",
    "```"
   ]
  },
  {
   "cell_type": "code",
   "execution_count": null,
   "metadata": {
    "ExecuteTime": {
     "end_time": "2019-12-19T11:19:50.084744Z",
     "start_time": "2019-12-19T11:19:50.070226Z"
    }
   },
   "outputs": [],
   "source": [
    "class Solution:\n",
    "    def pathSum(self, root: TreeNode, sum: int):\n",
    "        if not root: return []\n",
    "        if root.left == None and root.right == None:\n",
    "            if sum == root.val: \n",
    "                return [[root.val]]\n",
    "            else: \n",
    "                return []\n",
    "        a = self.pathSum(root.left, sum - root.val) + \\\n",
    "            self.pathSum(root.right, sum - root.val)\n",
    "        return [[root.val] + i for i in a]\n",
    "    \n",
    "\n",
    "test = Solution()\n",
    "test.pathSum(root,22)"
   ]
  },
  {
   "cell_type": "code",
   "execution_count": null,
   "metadata": {
    "ExecuteTime": {
     "end_time": "2019-12-19T11:19:58.633643Z",
     "start_time": "2019-12-19T11:19:58.618904Z"
    }
   },
   "outputs": [],
   "source": [
    "class Solution:\n",
    "    def pathSum(self, root, sum):\n",
    "        if not root: return []\n",
    "        v, C = root.val, (root.left, root.right)\n",
    "        if any(C): return [[v] + i for c in C for i in self.pathSum(c, sum - v)]\n",
    "        return [[v]] * (sum == v)\n",
    "test = Solution()\n",
    "test.pathSum(root,22)"
   ]
  },
  {
   "cell_type": "markdown",
   "metadata": {},
   "source": [
    "# same tree\n",
    "https://leetcode.com/problems/same-tree/"
   ]
  },
  {
   "cell_type": "code",
   "execution_count": null,
   "metadata": {},
   "outputs": [],
   "source": [
    "class Solution:\n",
    "    def isSameTree(self, p: TreeNode, q: TreeNode) -> bool:\n",
    "        if p and q:\n",
    "            return p.val == q.val and self.isSameTree(p.left, q.left) and self.isSameTree(p.right, q.right)\n",
    "        return p is q "
   ]
  },
  {
   "cell_type": "markdown",
   "metadata": {},
   "source": [
    "# Merge two binary trees \n",
    "https://leetcode.com/problems/merge-two-binary-trees/"
   ]
  },
  {
   "cell_type": "markdown",
   "metadata": {},
   "source": [
    "```md \n",
    "Input: \n",
    "\tTree 1                     Tree 2                  \n",
    "          1                         2                             \n",
    "         / \\                       / \\                            \n",
    "        3   2                     1   3                        \n",
    "       /                           \\   \\                      \n",
    "      5                             4   7                  \n",
    "Output: \n",
    "Merged tree:\n",
    "\t     3\n",
    "\t    / \\\n",
    "\t   4   5\n",
    "\t  / \\   \\ \n",
    "\t 5   4   7\n",
    "```"
   ]
  },
  {
   "cell_type": "code",
   "execution_count": null,
   "metadata": {},
   "outputs": [],
   "source": [
    "class Solution:\n",
    "    def mergeTrees(self, t1: TreeNode, t2: TreeNode):\n",
    "        if t1 and t2 : \n",
    "            t1.val += t2.val\n",
    "            t1.left = self.mergeTrees(t1.left, t2.left)\n",
    "            t1.right = self.mergeTrees(t1.right, t2.right)\n",
    "        if not t1 : \n",
    "            return t2\n",
    "        return t1"
   ]
  },
  {
   "cell_type": "markdown",
   "metadata": {},
   "source": [
    "# binary tree paths\n",
    "https://leetcode.com/problems/binary-tree-paths/"
   ]
  },
  {
   "cell_type": "markdown",
   "metadata": {},
   "source": [
    "```md \n",
    "Input:\n",
    "\n",
    "   1\n",
    " /   \\\n",
    "2     3\n",
    " \\\n",
    "  5\n",
    "\n",
    "Output: [\"1->2->5\", \"1->3\"]\n",
    "\n",
    "Explanation: All root-to-leaf paths are: 1->2->5, 1->3\n",
    "```"
   ]
  },
  {
   "cell_type": "code",
   "execution_count": null,
   "metadata": {
    "ExecuteTime": {
     "end_time": "2019-12-19T11:21:08.782430Z",
     "start_time": "2019-12-19T11:21:08.770302Z"
    }
   },
   "outputs": [],
   "source": [
    "class Solution:\n",
    "    def binaryTreePaths(self, root: TreeNode):\n",
    "        if not root:\n",
    "            return []\n",
    "        if not root.left and not root.right:\n",
    "            return [str(root.val)]\n",
    "        treepaths = [\n",
    "            str(root.val) + '->' + path\n",
    "            for path in self.binaryTreePaths(root.left)\n",
    "        ]\n",
    "\n",
    "        treepaths += [\n",
    "            str(root.val) + '->' + path\n",
    "            for path in self.binaryTreePaths(root.right)\n",
    "        ]\n",
    "        return treepaths\n",
    "\n",
    "\n",
    "test = Solution()\n",
    "test.binaryTreePaths(root)"
   ]
  },
  {
   "cell_type": "code",
   "execution_count": null,
   "metadata": {
    "ExecuteTime": {
     "end_time": "2019-12-19T11:36:08.194262Z",
     "start_time": "2019-12-19T11:36:08.170465Z"
    }
   },
   "outputs": [],
   "source": [
    "class Solution:\n",
    "    def binaryTreePaths(self, root: TreeNode):\n",
    "        if not root:\n",
    "            return []\n",
    "        if not root.left and not root.right:\n",
    "            return [str(root.val)]\n",
    "        treepaths = [\n",
    "            str(root.val) + '->' + path\n",
    "            for path in self.binaryTreePaths(root.left)\n",
    "        ]\n",
    "\n",
    "        treepaths += [\n",
    "            str(root.val) + '->' + path\n",
    "            for path in self.binaryTreePaths(root.right)\n",
    "        ]\n",
    "        return treepaths\n",
    "\n",
    "    def sumNumbers(self, root: TreeNode) -> int:\n",
    "        treepaths = self.binaryTreePaths(root)\n",
    "        return sum(int(i.replace('->', '')) for i in treepaths)\n",
    "\n",
    "\n",
    "test = Solution()\n",
    "test.binaryTreePaths(root)\n",
    "test.sumNumbers(root)"
   ]
  },
  {
   "cell_type": "markdown",
   "metadata": {},
   "source": [
    "## Sum Root to Leaf Numbers\n",
    "https://leetcode.com/problems/sum-root-to-leaf-numbers/"
   ]
  },
  {
   "cell_type": "markdown",
   "metadata": {},
   "source": [
    "```md\n",
    "Input: [4,9,0,5,1]\n",
    "    4\n",
    "   / \\\n",
    "  9   0\n",
    " / \\\n",
    "5   1\n",
    "Output: 1026\n",
    "Explanation:\n",
    "The root-to-leaf path 4->9->5 represents the number 495.\n",
    "The root-to-leaf path 4->9->1 represents the number 491.\n",
    "The root-to-leaf path 4->0 represents the number 40.\n",
    "Therefore, sum = 495 + 491 + 40 = 1026.\n",
    "\n",
    "```"
   ]
  },
  {
   "cell_type": "code",
   "execution_count": null,
   "metadata": {
    "ExecuteTime": {
     "end_time": "2019-12-19T11:25:59.362914Z",
     "start_time": "2019-12-19T11:25:59.352126Z"
    }
   },
   "outputs": [],
   "source": [
    "class Solution:\n",
    "    def sumNumbers(self, root: TreeNode) -> int:\n",
    "        if not root:\n",
    "            return []\n",
    "        if not root.left and not root.right:\n",
    "            return [str(root.val)]\n",
    "        treepaths = [\n",
    "            str(root.val) + ',' + path\n",
    "            for path in self.sumNumbers(root.left)\n",
    "        ]\n",
    "\n",
    "        treepaths += [\n",
    "            str(root.val) + ',' + path\n",
    "            for path in self.sumNumbers(root.right)\n",
    "        ]\n",
    "        return treepaths\n",
    "        \n",
    "\n",
    "test = Solution()\n",
    "test.sumNumbers(root)    "
   ]
  },
  {
   "cell_type": "code",
   "execution_count": null,
   "metadata": {},
   "outputs": [],
   "source": [
    "x = ['54117', '54112', '5813', '5841']\n",
    "list(map(int, x))"
   ]
  },
  {
   "cell_type": "markdown",
   "metadata": {},
   "source": [
    "# symmetric tree\n",
    "https://leetcode.com/problems/symmetric-tree/"
   ]
  },
  {
   "cell_type": "markdown",
   "metadata": {},
   "source": [
    "```md \n",
    "This binary tree [1,2,2,3,4,4,3] is symmetric:\n",
    "    1\n",
    "   / \\\n",
    "  2   2\n",
    " / \\ / \\\n",
    "3  4 4  3\n",
    "```"
   ]
  },
  {
   "cell_type": "code",
   "execution_count": null,
   "metadata": {},
   "outputs": [],
   "source": [
    "# Breadth First Search \n",
    "class Solution:\n",
    "    def isSymmetric(self, root: TreeNode) -> bool:\n",
    "        if root == None:\n",
    "            return True\n",
    "        stack = [[root.left, root.right]]\n",
    "\n",
    "        while len(stack) > 0:\n",
    "            pair = stack.pop(0)\n",
    "            left = pair[0]\n",
    "            right = pair[1]\n",
    "\n",
    "            if left == None and right == None:\n",
    "                continue\n",
    "\n",
    "            if left == None or right == None:\n",
    "                return False\n",
    "\n",
    "            if left.val == right.val:\n",
    "                stack.append([left.left, right.right])\n",
    "                stack.append([left.right, right.left])\n",
    "            else:\n",
    "                return False\n",
    "\n",
    "        return True\n",
    "root = TreeNode(1)\n",
    "root.left = TreeNode(2)\n",
    "root.right = TreeNode(2)\n",
    "\n",
    "test = Solution()\n",
    "test.isSymmetric(root)"
   ]
  },
  {
   "cell_type": "markdown",
   "metadata": {},
   "source": [
    "# invert binary tree \n",
    "https://leetcode.com/problems/invert-binary-tree/"
   ]
  },
  {
   "cell_type": "markdown",
   "metadata": {},
   "source": [
    "```md \n",
    "Input:\n",
    "     4\n",
    "   /   \\\n",
    "  2     7\n",
    " / \\   / \\\n",
    "1   3 6   9\n",
    "Output:\n",
    "     4\n",
    "   /   \\\n",
    "  7     2\n",
    " / \\   / \\\n",
    "9   6 3   1\n",
    "```"
   ]
  },
  {
   "cell_type": "code",
   "execution_count": null,
   "metadata": {},
   "outputs": [],
   "source": [
    "class Solution:\n",
    "    def invertTree(self, root) -> TreeNode:\n",
    "        if (root!= None):\n",
    "            self.invertTree(root.left)\n",
    "            self.invertTree(root.right)\n",
    "            root.left, root.right = root.right, root.left\n",
    "            return root\n",
    "    def levelOrder(self, root):\n",
    "        ans, level = [], [root]\n",
    "        \n",
    "        while root and level:\n",
    "            ans.append([node.val for node in level])\n",
    "            level = [kid for n in level for kid in (n.left, n.right) if kid]\n",
    "        return ans\n",
    "root = TreeNode(4)\n",
    "root.left = TreeNode(2)\n",
    "root.right = TreeNode(7)\n",
    "root.left.left = TreeNode(1)\n",
    "root.left.right = TreeNode(3)\n",
    "root.right.left = TreeNode(6)\n",
    "root.right.right = TreeNode(9)\n",
    "test = Solution()\n",
    "test.levelOrder(root)\n",
    "test.invertTree(root)\n",
    "test.levelOrder(root)"
   ]
  },
  {
   "cell_type": "markdown",
   "metadata": {},
   "source": [
    "# maximum depth of binary tree \n",
    "https://leetcode.com/problems/maximum-depth-of-binary-tree/submissions/"
   ]
  },
  {
   "cell_type": "code",
   "execution_count": null,
   "metadata": {},
   "outputs": [],
   "source": [
    "class Solution:\n",
    "    def maxDepth(self, root: TreeNode) -> int:\n",
    "        return 0 if root == None else max(self.maxDepth(root.left), self.maxDepth(root.right))+1"
   ]
  },
  {
   "cell_type": "markdown",
   "metadata": {},
   "source": [
    "# minimum depth of binary tree\n",
    "https://leetcode.com/problems/minimum-depth-of-binary-tree/"
   ]
  },
  {
   "cell_type": "markdown",
   "metadata": {},
   "source": [
    "```md \n",
    "    3\n",
    "   / \\\n",
    "  9  20\n",
    "    /  \\\n",
    "   15   7\n",
    "\n",
    "2: from root to leaf, the minimum path contains 2 node \n",
    "```"
   ]
  },
  {
   "cell_type": "markdown",
   "metadata": {},
   "source": [
    "Recursion or breadth first search"
   ]
  },
  {
   "cell_type": "code",
   "execution_count": null,
   "metadata": {},
   "outputs": [],
   "source": [
    "#BFS\n",
    "class Solution:\n",
    "    def minDepth(self, root):\n",
    "        if not root:\n",
    "            return 0\n",
    "\n",
    "        depth = 0\n",
    "        current_level = [root]\n",
    "        while current_level:\n",
    "            depth += 1\n",
    "            next_level = []\n",
    "            for node in current_level:\n",
    "                left = node.left\n",
    "                right = node.right\n",
    "                if not left and not right:\n",
    "                    return depth\n",
    "                if left:\n",
    "                    next_level.append(left)\n",
    "                if right:\n",
    "                    next_level.append(right)\n",
    "            current_level = next_level\n",
    "        return depth"
   ]
  },
  {
   "cell_type": "markdown",
   "metadata": {},
   "source": [
    "# balanced binary tree \n",
    "https://leetcode.com/problems/balanced-binary-tree/"
   ]
  },
  {
   "cell_type": "markdown",
   "metadata": {},
   "source": [
    "```md \n",
    "a binary tree in which the depth of the two subtrees of every node never differ by more than 1.\n",
    "\n",
    "从根节点到叶子结点的所有路径长度差不超过1\n",
    "\n",
    "Input: \n",
    "    3\n",
    "   / \\\n",
    "  9  20\n",
    "    /  \\\n",
    "   15   7\n",
    "   \n",
    "True \n",
    "\n",
    "Input: \n",
    "       1\n",
    "      / \\\n",
    "     2   2\n",
    "    / \\\n",
    "   3   3\n",
    "  / \\\n",
    " 4   4\n",
    " \n",
    "False \n",
    "```    "
   ]
  },
  {
   "cell_type": "code",
   "execution_count": null,
   "metadata": {
    "cell_style": "center"
   },
   "outputs": [],
   "source": [
    "root = TreeNode(2)\n",
    "root.left = TreeNode(3)\n",
    "root.left.left = TreeNode(4)\n",
    "root.left.right = TreeNode(5)\n",
    "\n",
    "class Solution:\n",
    "    def height(self, root):\n",
    "        if root == None: return 0\n",
    "        return max(self.height(root.left), self.height(root.right)) + 1\n",
    "\n",
    "    def isBalanced(self, root: TreeNode) -> bool:\n",
    "        if root == None: return True\n",
    "        print('TreeNode({}), the height difference for its left and right subtree is {}'.format(root.val, self.height(root.left)-self.height(root.right)))\n",
    "       \n",
    "        return self.isBalanced(root.left) and self.isBalanced(root.right) \\\n",
    " and abs(self.height(root.left)-self.height(root.right))<=1\n",
    "\n",
    "test = Solution()\n",
    "test.isBalanced(root)"
   ]
  },
  {
   "cell_type": "markdown",
   "metadata": {},
   "source": [
    "# unique binary search tree \n",
    "https://leetcode.com/problems/unique-binary-search-trees/"
   ]
  },
  {
   "cell_type": "markdown",
   "metadata": {},
   "source": [
    "```md \n",
    "Given n, how many structurally unique BST's (binary search trees) that store values 1 ... n?\n",
    "\n",
    "Input: 3\n",
    "Output: 5\n",
    "Explanation:\n",
    "Given n = 3, there are a total of 5 unique BST's:\n",
    "\n",
    "   1         3     3      2      1\n",
    "    \\       /     /      / \\      \\\n",
    "     3     2     1      1   3      2\n",
    "    /     /       \\                 \\\n",
    "   2     1         2                 3\n",
    "```"
   ]
  },
  {
   "cell_type": "code",
   "execution_count": null,
   "metadata": {},
   "outputs": [],
   "source": [
    "class Solution:\n",
    "    def numTrees(self, n: int) -> int:\n",
    "        G = [0] * (n + 1)\n",
    "        G[0], G[1] = 1, 1\n",
    "\n",
    "        for i in range(2, n + 1):\n",
    "            for j in range(1, i + 1):\n",
    "                G[i] += G[j - 1] * G[i - j]\n",
    "\n",
    "        return G[n]"
   ]
  },
  {
   "cell_type": "markdown",
   "metadata": {},
   "source": [
    "To lower the time complexity"
   ]
  },
  {
   "cell_type": "markdown",
   "metadata": {},
   "source": [
    "# level order traversal\n",
    "https://leetcode.com/problems/binary-tree-level-order-traversal/"
   ]
  },
  {
   "cell_type": "markdown",
   "metadata": {},
   "source": [
    "```md\n",
    "\n",
    "Given binary tree [3,9,20,null,null,15,7],\n",
    "\n",
    "    3\n",
    "   / \\\n",
    "  9  20\n",
    "    /  \\\n",
    "   15   7\n",
    "    \n",
    "    \n",
    "[\n",
    "  [3],\n",
    "  [9,20],\n",
    "  [15,7]\n",
    "]\n",
    "\n",
    "```"
   ]
  },
  {
   "cell_type": "code",
   "execution_count": null,
   "metadata": {},
   "outputs": [],
   "source": [
    "class Solution:\n",
    "    def levelOrder(self, root):\n",
    "        ans, level = [], [root]\n",
    "        \n",
    "        while root and level:\n",
    "            ans.append([node.val for node in level])\n",
    "            level = [kid for n in level for kid in (n.left, n.right) if kid]\n",
    "        return ans\n",
    "\n",
    "\n",
    "root = TreeNode(3)\n",
    "\n",
    "root.left = TreeNode(9)\n",
    "root.right = TreeNode(20)\n",
    "\n",
    "root.right.left = TreeNode(15)\n",
    "root.right.right = TreeNode(7)\n",
    "\n",
    "test = Solution()\n",
    "test.levelOrder(root)"
   ]
  },
  {
   "cell_type": "markdown",
   "metadata": {},
   "source": [
    "## average of levels in binary tree\n",
    "https://leetcode.com/problems/average-of-levels-in-binary-tree/"
   ]
  },
  {
   "cell_type": "markdown",
   "metadata": {},
   "source": [
    "## binary tree tight side view\n",
    "https://leetcode.com/problems/binary-tree-right-side-view/"
   ]
  },
  {
   "cell_type": "markdown",
   "metadata": {},
   "source": [
    "```md \n",
    "Given a binary tree, imagine yourself standing on the right side of it, return the values of the nodes you can see ordered from top to bottom.\n",
    "\n",
    "Find the most right element in each level \n",
    "\n",
    "Input: [1,2,3,null,5,null,4]\n",
    "Output: [1, 3, 4]\n",
    "Explanation:\n",
    "\n",
    "   1            <---\n",
    " /   \\\n",
    "2     3         <---\n",
    " \\     \\\n",
    "  5     4       <---\n",
    "\n",
    "```"
   ]
  },
  {
   "cell_type": "code",
   "execution_count": null,
   "metadata": {},
   "outputs": [],
   "source": [
    "class Solution:\n",
    "    def rightSideView(self, root: TreeNode):\n",
    "        ans, level = [], [root]\n",
    "        while root and level:\n",
    "            ans.append([node.val for node in level])\n",
    "            level = [kid for n in level for kid in (n.left, n.right) if kid]\n",
    "        return [i[-1] for i in ans]"
   ]
  },
  {
   "cell_type": "markdown",
   "metadata": {},
   "source": [
    "# N-ary Tree Level Order Traversal\n",
    "https://leetcode.com/problems/n-ary-tree-level-order-traversal/"
   ]
  },
  {
   "cell_type": "markdown",
   "metadata": {},
   "source": [
    "```md\n",
    "     1  \n",
    "   / | \\\n",
    "  3  2  4\n",
    " / \\    \n",
    "5   6 \n",
    "[[1], [3,2,4],[5,6]]\n",
    "```"
   ]
  },
  {
   "cell_type": "markdown",
   "metadata": {},
   "source": [
    "# sum of left leaves\n",
    "https://leetcode.com/problems/sum-of-left-leaves/"
   ]
  },
  {
   "cell_type": "markdown",
   "metadata": {},
   "source": [
    "```md \n",
    "Find the sum of all left leaves in a given binary tree.\n",
    "    3\n",
    "   / \\\n",
    "  9  20\n",
    "    /  \\\n",
    "   15   7\n",
    "```"
   ]
  },
  {
   "cell_type": "code",
   "execution_count": null,
   "metadata": {},
   "outputs": [],
   "source": [
    "class Solution:\n",
    "    def sumOfLeftLeaves(self, root: TreeNode) -> int:\n",
    "        ans = 0\n",
    "        while root and level:\n",
    "            for node in level:\n",
    "                if not node.left and not node.right:\n",
    "                    ans.append(node.val)\n",
    "                break \n",
    "            level = [kid for n in level for kid in (n.left, n.right) if kid]\n",
    "        return sum(ans)\n",
    "root = TreeNode(3)\n",
    "root.left = TreeNode(9)\n",
    "root.right = TreeNode(20)\n",
    "root.right.left = TreeNode(15)\n",
    "root.right.right = TreeNode(7)\n",
    "\n",
    "Solution().sumOfLeftLeaves(root)\n",
    "Solution().sumOfLeftLeaves(TreeNode(1))"
   ]
  },
  {
   "cell_type": "markdown",
   "metadata": {},
   "source": [
    "# binary tree zigzag level order travesal\n",
    "https://leetcode.com/problems/binary-tree-zigzag-level-order-traversal/"
   ]
  },
  {
   "cell_type": "markdown",
   "metadata": {},
   "source": [
    "```md \n",
    "Input:\n",
    "    3\n",
    "   / \\\n",
    "  9  20\n",
    "    /  \\\n",
    "   15   7\n",
    "Output:   \n",
    "[\n",
    "  [3],\n",
    "  [20,9],\n",
    "  [15,7]\n",
    "]\n",
    "```"
   ]
  },
  {
   "cell_type": "code",
   "execution_count": null,
   "metadata": {},
   "outputs": [],
   "source": [
    "class Solution:\n",
    "    def zigzagLevelOrder(self, root):\n",
    "        ans, level = [], [root]\n",
    "\n",
    "        while root and level:\n",
    "            ans.append([node.val for node in level])\n",
    "            level = [kid for n in level for kid in (n.left, n.right) if kid]\n",
    "        return [v if i % 2 == 0 else v[::-1] for i, v in enumerate(ans)]\n",
    "\n",
    "\n",
    "root = TreeNode(3)\n",
    "\n",
    "root.left = TreeNode(9)\n",
    "root.right = TreeNode(20)\n",
    "\n",
    "root.right.left = TreeNode(15)\n",
    "root.right.right = TreeNode(7)\n",
    "\n",
    "test = Solution()\n",
    "test.zigzagLevelOrder(root)"
   ]
  },
  {
   "cell_type": "markdown",
   "metadata": {},
   "source": [
    "# univalues binary tree\n",
    "https://leetcode.com/problems/univalued-binary-tree/"
   ]
  },
  {
   "cell_type": "markdown",
   "metadata": {},
   "source": [
    "```md \n",
    "Input: [2,2,2,5,2]\n",
    "Output: false\n",
    "```"
   ]
  },
  {
   "cell_type": "code",
   "execution_count": null,
   "metadata": {},
   "outputs": [],
   "source": [
    "class Solution:\n",
    "    def isUnivalTree(self, root: TreeNode) -> bool:\n",
    "        \n",
    "        flag = root.val\n",
    "        level = [root]\n",
    "        while root and level:\n",
    "            for node in level:\n",
    "                if flag != node.val:\n",
    "                    return False\n",
    "            level = [kid for n in level for kid in (n.left, n.right) if kid]\n",
    "        return True\n",
    "    \n",
    "root = TreeNode(1)\n",
    "\n",
    "root.left = TreeNode(1)\n",
    "root.right = TreeNode(1)\n",
    "\n",
    "root.right.left = TreeNode(1)\n",
    "root.right.right = TreeNode(1)\n",
    "\n",
    "test = Solution()\n",
    "test.isUnivalTree(root)"
   ]
  },
  {
   "cell_type": "markdown",
   "metadata": {},
   "source": [
    "# count complete tree nodes\n",
    "https://leetcode.com/problems/count-complete-tree-nodes/"
   ]
  },
  {
   "cell_type": "markdown",
   "metadata": {},
   "source": [
    "```md \n",
    "Input: \n",
    "    1\n",
    "   / \\\n",
    "  2   3\n",
    " / \\  /\n",
    "4  5 6\n",
    "\n",
    "Output: 6\n",
    "```"
   ]
  },
  {
   "cell_type": "code",
   "execution_count": null,
   "metadata": {},
   "outputs": [],
   "source": [
    "class Solution:\n",
    "    def countNodes(self, root: TreeNode) -> int:\n",
    "        if root == None: return 0\n",
    "        hl = 0\n",
    "        hr = 0\n",
    "        l = root\n",
    "        r = root\n",
    "        while l != None:\n",
    "            l = l.left\n",
    "            hl += 1\n",
    "        while r != None:\n",
    "            r = r.right\n",
    "            hr += 1\n",
    "        if hl == hr:\n",
    "            return 2**hl - 1\n",
    "        return 1 + self.countNodes(root.left) + slelf.countNodes(root.right)"
   ]
  },
  {
   "cell_type": "markdown",
   "metadata": {},
   "source": [
    "```md\n",
    "1+self.countNodes(node2)+slelf.countNodes(node3)\n",
    "= 1 + (1 + self.countNodes(node4)+slelf.countNodes(node5))\n",
    "    + (1 + self.countNodes(node6)+slelf.countNodes(None))\n",
    "= 6\n",
    "```"
   ]
  },
  {
   "cell_type": "markdown",
   "metadata": {},
   "source": [
    "# Flatten Binary Tree to Linked List\n",
    "https://leetcode.com/problems/flatten-binary-tree-to-linked-list/"
   ]
  },
  {
   "cell_type": "markdown",
   "metadata": {},
   "source": [
    "```md\n",
    "    1 \n",
    "   / \\\n",
    "  2   5\n",
    " / \\   \\\n",
    "3   4   6\n",
    "\n",
    "1\n",
    " \\\n",
    "  2\n",
    "   \\\n",
    "    3\n",
    "     \\\n",
    "      4\n",
    "       \\\n",
    "        5\n",
    "         \\\n",
    "          6\n",
    "```"
   ]
  },
  {
   "cell_type": "code",
   "execution_count": null,
   "metadata": {},
   "outputs": [],
   "source": [
    "class Solution:\n",
    "    def flatten(self, root: TreeNode) -> None:\n",
    "        \"\"\"\n",
    "        Do not return anything, modify root in-place instead.\n",
    "        \"\"\"\n",
    "        while root != None:  # Remove the right side to left side\n",
    "            if root.left != None and root.right != None:\n",
    "                tem = root.left\n",
    "                while tem.right != None:\n",
    "                    tem = tem.right\n",
    "                tem.right = root.right\n",
    "\n",
    "            if root.left != None:  #switch the left side with right side\n",
    "                root.right = root.left\n",
    "            root.left = None\n",
    "            root = root.right"
   ]
  },
  {
   "cell_type": "markdown",
   "metadata": {},
   "source": [
    "## binary search tree to linked list"
   ]
  },
  {
   "cell_type": "markdown",
   "metadata": {},
   "source": [
    "Instead of doing a inorder tranversal to get all the data then require new space to store these data in a linked list, here we change the relations between the nodes."
   ]
  },
  {
   "cell_type": "code",
   "execution_count": null,
   "metadata": {
    "ExecuteTime": {
     "end_time": "2019-12-19T15:04:35.473375Z",
     "start_time": "2019-12-19T15:04:35.445193Z"
    }
   },
   "outputs": [],
   "source": [
    "class Solution:\n",
    "    def binary_tree_to_linked_list(self, root: TreeNode):\n",
    "        curr = root\n",
    "        while curr:\n",
    "            if not curr.left:\n",
    "                curr = curr.right\n",
    "            else:\n",
    "                prev = curr.left\n",
    "                while prev.right:\n",
    "                    prev = prev.right\n",
    "                prev.right = curr\n",
    "                temp = curr\n",
    "                curr = curr.left\n",
    "                temp.left = None\n",
    "\n",
    "root = TreeNode(12)\n",
    "\n",
    "root.left = TreeNode(6)\n",
    "root.right = TreeNode(18)\n",
    "\n",
    "root.left.left = TreeNode(4)\n",
    "root.left.right = TreeNode(9)\n",
    "\n",
    "root.right.left = TreeNode(15)\n",
    "root.right.right = TreeNode(22)\n",
    "\n",
    "test = Solution()\n",
    "test.binary_tree_to_linked_list(root)\n",
    "\n",
    "head = TreeNode(4)\n",
    "tem  = head\n",
    "while tem:\n",
    "    print(tem.val)\n",
    "    tem = tem.right         "
   ]
  },
  {
   "cell_type": "markdown",
   "metadata": {},
   "source": [
    "# binary tree traversal"
   ]
  },
  {
   "cell_type": "markdown",
   "metadata": {},
   "source": [
    "##  Binary Tree Inorder Traversal\n",
    "https://leetcode.com/problems/binary-tree-inorder-traversal/"
   ]
  },
  {
   "cell_type": "markdown",
   "metadata": {},
   "source": [
    "```md \n",
    "Input: [1,null,2,3]\n",
    "   1\n",
    "    \\\n",
    "     2\n",
    "    /\n",
    "   3\n",
    "\n",
    "Output: [1,3,2]\n",
    "```"
   ]
  },
  {
   "cell_type": "code",
   "execution_count": null,
   "metadata": {
    "ExecuteTime": {
     "end_time": "2019-12-09T11:56:17.509605Z",
     "start_time": "2019-12-09T11:56:17.479974Z"
    }
   },
   "outputs": [],
   "source": [
    "class Solution:\n",
    "    def inorderTraversal(self, root: TreeNode):\n",
    "        \"\"\"\n",
    "        if root!=None:\n",
    "            self.inorderTraversal(root.left)\n",
    "            print(root.val)\n",
    "            self.inorderTraversal(root.right)\n",
    "        \"\"\"\n",
    "        x = [] if root==None else \\\n",
    "    self.inorderTraversal(root.left) + [root.val] + self.inorderTraversal(root.right)\n",
    "        return x \n",
    "\n",
    "\n",
    "root = TreeNode(1)\n",
    "\n",
    "#root.left = TreeNode(5)\n",
    "\n",
    "root.right = TreeNode(2)\n",
    "root.right.left = TreeNode(3)\n",
    "\n",
    "test = Solution()\n",
    "test.inorderTraversal(root)"
   ]
  },
  {
   "cell_type": "markdown",
   "metadata": {},
   "source": [
    "<span style=\"color: red\">\n",
    "Recursive solution is trivial, can you do it iteratively?\n",
    "</span>"
   ]
  },
  {
   "cell_type": "code",
   "execution_count": null,
   "metadata": {
    "ExecuteTime": {
     "end_time": "2019-12-19T14:37:28.165708Z",
     "start_time": "2019-12-19T14:37:28.135950Z"
    }
   },
   "outputs": [],
   "source": [
    "class Solution:\n",
    "    def inorderTraversal(self, root: TreeNode):\n",
    "        res = []\n",
    "        curr = root\n",
    "        while curr != None:\n",
    "            if curr.left == None:\n",
    "                res.append(curr.val)\n",
    "                curr = curr.right\n",
    "            else:\n",
    "                prev = curr.left\n",
    "                while prev.right != None:\n",
    "                    prev = prev.right\n",
    "                prev.right = curr\n",
    "                temp = curr\n",
    "                curr = curr.left\n",
    "                temp.left = None\n",
    "        return res\n",
    "\n",
    "\n",
    "root = TreeNode(12)\n",
    "\n",
    "root.left = TreeNode(6)\n",
    "root.right = TreeNode(18)\n",
    "\n",
    "root.left.left = TreeNode(4)\n",
    "root.left.right = TreeNode(9)\n",
    "\n",
    "root.right.left = TreeNode(15)\n",
    "root.right.right = TreeNode(22)\n",
    "\n",
    "test = Solution()\n",
    "test.inorderTraversal(root)"
   ]
  },
  {
   "cell_type": "markdown",
   "metadata": {},
   "source": [
    "## Binary Tree Preorder Traversal\n",
    "https://leetcode.com/problems/binary-tree-preorder-traversal/"
   ]
  },
  {
   "cell_type": "code",
   "execution_count": null,
   "metadata": {
    "ExecuteTime": {
     "end_time": "2019-12-05T15:10:01.990198Z",
     "start_time": "2019-12-05T15:10:01.955779Z"
    }
   },
   "outputs": [],
   "source": [
    "class Solution:\n",
    "    def preorderTraversal(self, root: TreeNode):\n",
    "        return [] if root==None else \\\n",
    "    [root.val] + self.preorderTraversal(root.left)  + self.preorderTraversal(root.right)\n",
    "\n",
    "root = TreeNode(1)\n",
    "\n",
    "#root.left = TreeNode(5)\n",
    "\n",
    "root.right = TreeNode(2)\n",
    "root.right.left = TreeNode(3)\n",
    "\n",
    "test = Solution()\n",
    "test.preorderTraversal(root)"
   ]
  },
  {
   "cell_type": "markdown",
   "metadata": {},
   "source": [
    "# Binary search tree "
   ]
  },
  {
   "cell_type": "markdown",
   "metadata": {},
   "source": [
    "中序遍历可以让所有二叉搜索树的节点有序。"
   ]
  },
  {
   "cell_type": "markdown",
   "metadata": {},
   "source": [
    "## Implement to construct a binary search tree"
   ]
  },
  {
   "cell_type": "markdown",
   "metadata": {},
   "source": [
    "### Approach 1"
   ]
  },
  {
   "cell_type": "code",
   "execution_count": null,
   "metadata": {
    "ExecuteTime": {
     "end_time": "2019-12-05T15:12:00.467765Z",
     "start_time": "2019-12-05T15:12:00.439031Z"
    }
   },
   "outputs": [],
   "source": [
    "class node(object):\n",
    "    \"\"\"Constructor of binary tree node \"\"\"\n",
    "    def __init__(self, data):\n",
    "        self.data = data \n",
    "        self.leftnode = None \n",
    "        self.rightnode = None\n",
    "\n",
    "class binarySearchTree(object):\n",
    "    def __init__(self):\n",
    "        self.root = None\n",
    "    def insert(self, val):\n",
    "        if self.root == None:\n",
    "            self.root  = node(val)\n",
    "        else:\n",
    "            self._insert(val, self.root)\n",
    "    def _insert(self, value, xnode):\n",
    "        if value < xnode.data:\n",
    "            if xnode.leftnode == None:\n",
    "                xnode.leftnode = node(value)\n",
    "            else:\n",
    "                self._insert(value, xnode.leftnode)\n",
    "        elif value > xnode.data:\n",
    "            if xnode.rightnode == None:\n",
    "                xnode.rightnode = node(value)   \n",
    "            else:\n",
    "                self._insert(value, xnode.rightnode)\n",
    "        else:\n",
    "            print('data is invalid, it is already in the BST')\n",
    "    def printBST(self):\n",
    "        if self.root == None:\n",
    "            print('None')\n",
    "        else:\n",
    "            self._printBST(self.root)\n",
    "    def _printBST(self, cur_node):\n",
    "        if cur_node != None:\n",
    "            self._printBST(cur_node.leftnode)\n",
    "            print(str(cur_node.data))\n",
    "            self._printBST(cur_node.rightnode)\n",
    "            \n",
    "         \n",
    "testBST = binarySearchTree()\n",
    "nums = [13, 9, 15, 3, 11, 7, 16]\n",
    "for i in nums:\n",
    "    testBST.insert(i)\n",
    "testBST.printBST()\n"
   ]
  },
  {
   "cell_type": "markdown",
   "metadata": {},
   "source": [
    "```md\n",
    "       13\n",
    "     /    \\\n",
    "    9     15\n",
    "   / \\    / \\\n",
    "  3  11  7  16\n",
    "```"
   ]
  },
  {
   "cell_type": "markdown",
   "metadata": {},
   "source": [
    "<span style = \"font-family: CosMic Sans MS; font-size: 2em; color:red\">\n",
    "Visualize Binary Search Tree</span>\n",
    "  \n",
    "https://visualgo.net/bn/bst"
   ]
  },
  {
   "cell_type": "markdown",
   "metadata": {},
   "source": [
    "```md\n",
    "       13\n",
    "     /    \\\n",
    "    9     15\n",
    "   / \\      \\\n",
    "  3  11     16\n",
    "   \\\n",
    "    7\n",
    "```"
   ]
  },
  {
   "cell_type": "markdown",
   "metadata": {},
   "source": [
    "### Approach 2 "
   ]
  },
  {
   "cell_type": "code",
   "execution_count": null,
   "metadata": {},
   "outputs": [],
   "source": [
    "class Node(object):\n",
    "\n",
    "    # Build constructor\n",
    "    #  A binary tree node\n",
    "    def __init__(self, data):\n",
    "        self.data = data\n",
    "        self.left = None\n",
    "        self.right = None\n",
    "\n",
    "    def insert(self, data):\n",
    "        if data < self.data:\n",
    "            if self.left is None:\n",
    "                self.left = Node(data)\n",
    "            else:\n",
    "                self.left.insert(data)\n",
    "        elif data > self.data:\n",
    "            if self.right is None:\n",
    "                self.right = Node(data)\n",
    "            else:\n",
    "                self.right.insert(data)\n",
    "        if data == self.data:\n",
    "            print(\"Data already in tree\")\n",
    "\n",
    "    def print_tree(self):\n",
    "        if self.data == None:\n",
    "            print(\"It's an empty tree\")\n",
    "        else:\n",
    "            print(self.data)\n",
    "\n",
    "root = Node(8)\n",
    "root.insert(3)\n",
    "root.insert(10)\n",
    "root.insert(1)\n",
    "root.insert(6)\n",
    "root.insert(4)\n",
    "root.insert(7)\n",
    "root.insert(14)\n",
    "root.insert(13)\n",
    "root.print_tree()"
   ]
  },
  {
   "cell_type": "markdown",
   "metadata": {},
   "source": [
    "## Find the node with minimum value in BST"
   ]
  },
  {
   "cell_type": "code",
   "execution_count": null,
   "metadata": {},
   "outputs": [],
   "source": [
    "class Node:\n",
    "    def __init__(self, key):\n",
    "        self.data = key\n",
    "        self.left = None\n",
    "        self.right = None\n",
    "\n",
    "\n",
    "def insert(node, data):\n",
    "    # 1. If the tree is empty, return a new single node\n",
    "    if node is None:\n",
    "        return (Node(data))\n",
    "\n",
    "    else:\n",
    "        # 2. Otherwise, recur down the tree\n",
    "        if data <= node.data:\n",
    "            node.left = insert(node.left, data)\n",
    "        else:\n",
    "            node.right = insert(node.right, data)\n",
    "\n",
    "        # Return the (unchanged) node pointer\n",
    "        return node\n",
    "\n",
    "\n",
    "def minValue(node):\n",
    "    current = node\n",
    "    while (current.left is not None):\n",
    "        current = current.left\n",
    "    return current.data\n",
    "\n",
    "\n",
    "# Driver program\n",
    "root = None\n",
    "root = insert(root, 4)\n",
    "insert(root, 2)\n",
    "insert(root, 1)\n",
    "insert(root, 3)\n",
    "insert(root, 6)\n",
    "insert(root, 5)\n",
    "\n",
    "print(minValue(root))"
   ]
  },
  {
   "cell_type": "markdown",
   "metadata": {},
   "source": [
    "# Kth Smallest Element in a BST\n",
    "https://leetcode.com/problems/kth-smallest-element-in-a-bst/"
   ]
  },
  {
   "cell_type": "markdown",
   "metadata": {},
   "source": [
    "```md\n",
    "You may assume k is always valid, 1 ≤ k ≤ BST's total elements.\n",
    "Input: root = [5,3,6,2,4,null,null,1], k = 3\n",
    "       5\n",
    "      / \\\n",
    "     3   6\n",
    "    / \\\n",
    "   2   4\n",
    "  /\n",
    " 1\n",
    "Output: 3\n",
    "Follow up:\n",
    "What if the BST is modified (insert/delete operations) often and you need to find the kth smallest frequently? How would you optimize the kthSmallest routine?  \n",
    "    \n",
    "```"
   ]
  },
  {
   "cell_type": "markdown",
   "metadata": {},
   "source": [
    "# Binary Tree traversal"
   ]
  },
  {
   "cell_type": "code",
   "execution_count": null,
   "metadata": {},
   "outputs": [],
   "source": [
    "class Node:\n",
    "\n",
    "    s = []\n",
    "    q = []\n",
    "\n",
    "    # Variable to traverse the reversed array\n",
    "    elements = 0\n",
    "\n",
    "    # A constructor for making a new node\n",
    "    def __init__(self, key):\n",
    "        self.data = key\n",
    "        self.left = None\n",
    "        self.right = None\n",
    "\n",
    "    def printSpecificLevelOrder(self, root):\n",
    "        self.s.append(root)\n",
    "        \n",
    "        prnt = self.s.pop(0)\n",
    "        self.q.append(prnt.data)\n",
    "        if prnt.right:\n",
    "            self.s.append(root.right)\n",
    "        if prnt.left:\n",
    "            self.s.append(root.left)\n",
    "\n",
    "        while (len(self.s) > 0):\n",
    "            first = self.s.pop(0)\n",
    "            self.q.append(first.data)\n",
    "            second = self.s.pop(0)\n",
    "            self.q.append(second.data)\n",
    "\n",
    "            if first.left and second.right and first.right and second.left:\n",
    "                self.s.append(first.left)\n",
    "                self.s.append(second.right)\n",
    "                self.s.append(first.right)\n",
    "                self.s.append(second.left)\n",
    "\n",
    "        for elements in reversed(self.q):\n",
    "            print(elements, end=\" \")\n",
    "\n",
    "\n",
    "root = Node(1)\n",
    "\n",
    "root.left = Node(2)\n",
    "root.right = Node(3)\n",
    "\n",
    "root.left.left = Node(4)\n",
    "root.left.right = Node(5)\n",
    "root.right.left = Node(6)\n",
    "root.right.right = Node(7)\n",
    "\n",
    "root.left.left.left = Node(8)\n",
    "root.left.left.right = Node(9)\n",
    "root.left.right.left = Node(10)\n",
    "root.left.right.right = Node(11)\n",
    "root.right.left.left = Node(12)\n",
    "root.right.left.right = Node(13)\n",
    "root.right.right.left = Node(14)\n",
    "root.right.right.right = Node(15)\n",
    "\n",
    "root.left.left.left.left = Node(16)\n",
    "root.left.left.left.right = Node(17)\n",
    "root.left.left.right.left = Node(18)\n",
    "root.left.left.right.right = Node(19)\n",
    "root.left.right.left.left = Node(20)\n",
    "root.left.right.left.right = Node(21)\n",
    "root.left.right.right.left = Node(22)\n",
    "root.left.right.right.right = Node(23)\n",
    "root.right.left.left.left = Node(24)\n",
    "root.right.left.left.right = Node(25)\n",
    "root.right.left.right.left = Node(26)\n",
    "root.right.left.right.right = Node(27)\n",
    "root.right.right.left.left = Node(28)\n",
    "root.right.right.left.right = Node(29)\n",
    "root.right.right.right.left = Node(30)\n",
    "root.right.right.right.right = Node(31)\n",
    "\n",
    "print(\"Specific Level Order traversal of \" \"binary tree is\")\n",
    "root.printSpecificLevelOrder(root)"
   ]
  },
  {
   "cell_type": "markdown",
   "metadata": {},
   "source": [
    "# balance binary tree\n",
    "https://www.geeksforgeeks.org/convert-normal-bst-balanced-bst/"
   ]
  },
  {
   "cell_type": "markdown",
   "metadata": {},
   "source": [
    "```md\n",
    "Input:\n",
    "       30\n",
    "      /\n",
    "     20\n",
    "    /\n",
    "   10\n",
    "Output:\n",
    "     20\n",
    "   /   \\\n",
    " 10     30\n",
    "\n",
    "\n",
    "Input:\n",
    "         4\n",
    "        /\n",
    "       3\n",
    "      /\n",
    "     2\n",
    "    /\n",
    "   1\n",
    "Output:\n",
    "      3            3           2\n",
    "    /  \\         /  \\        /  \\\n",
    "   1    4   OR  2    4  OR  1    3   OR ..\n",
    "    \\          /                   \\\n",
    "     2        1                     4 \n",
    "\n",
    "Input:\n",
    "          4\n",
    "        /   \\\n",
    "       3     5\n",
    "      /       \\\n",
    "     2         6 \n",
    "    /           \\\n",
    "   1             7\n",
    "Output:\n",
    "       4\n",
    "    /    \\\n",
    "   2      6\n",
    " /  \\    /  \\\n",
    "1    3  5    7\n",
    "```"
   ]
  },
  {
   "cell_type": "code",
   "execution_count": null,
   "metadata": {},
   "outputs": [],
   "source": [
    "import sys\n",
    "import math\n",
    "\n",
    "def storeBSTNodes(root, nodes):\n",
    "    if not root:\n",
    "        return\n",
    "\n",
    "    storeBSTNodes(root.left, nodes)\n",
    "    nodes.append(root)\n",
    "    storeBSTNodes(root.right, nodes)\n",
    "\n",
    "\n",
    "def buildTreeUtil(nodes, start, end):\n",
    "    if start > end:\n",
    "        return None\n",
    "\n",
    "    mid = (start + end) // 2\n",
    "    node = nodes[mid]\n",
    "    node.left = buildTreeUtil(nodes, start, mid - 1)\n",
    "    node.right = buildTreeUtil(nodes, mid + 1, end)\n",
    "    return node\n",
    "\n",
    "def buildTree(root):\n",
    "    nodes = []\n",
    "    storeBSTNodes(root, nodes)\n",
    "    n = len(nodes)\n",
    "    return buildTreeUtil(nodes, 0, n - 1)\n",
    "\n",
    "def preOrder(root):\n",
    "    if not root:\n",
    "        return\n",
    "    print(\"{} \".format(root.data), end=\"\")\n",
    "    preOrder(root.left)\n",
    "    preOrder(root.right)\n",
    "\n",
    "if __name__ == '__main__':\n",
    "    root = Node(10)\n",
    "    root.left = Node(8)\n",
    "    root.left.left = Node(7)\n",
    "    root.left.left.left = Node(6)\n",
    "    root.left.left.left.left = Node(5)\n",
    "    root = buildTree(root)\n",
    "    print(\"Preorder traversal of balanced BST is :\")\n",
    "    preOrder(root)"
   ]
  },
  {
   "cell_type": "markdown",
   "metadata": {},
   "source": [
    "# AVL Tree"
   ]
  },
  {
   "cell_type": "code",
   "execution_count": null,
   "metadata": {},
   "outputs": [],
   "source": [
    "# Python code to insert a node in AVL tree\n",
    "\n",
    "# Generic tree node class\n",
    "class TreeNode(object):\n",
    "    def __init__(self, val):\n",
    "        self.val = val\n",
    "        self.left = None\n",
    "        self.right = None\n",
    "        self.height = 1\n",
    "\n",
    "\n",
    "# AVL tree class which supports the\n",
    "# Insert operation\n",
    "class AVL_Tree(object):\n",
    "\n",
    "    # Recursive function to insert key in\n",
    "    # subtree rooted with node and returns\n",
    "    # new root of subtree.\n",
    "    def insert(self, root, key):\n",
    "\n",
    "        # Step 1 - Perform normal BST\n",
    "        if not root:\n",
    "            return TreeNode(key)\n",
    "        elif key < root.val:\n",
    "            root.left = self.insert(root.left, key)\n",
    "        else:\n",
    "            root.right = self.insert(root.right, key)\n",
    "\n",
    "        # Step 2 - Update the height of the\n",
    "        # ancestor node\n",
    "        root.height = 1 + max(\n",
    "            self.getHeight(root.left), self.getHeight(root.right))\n",
    "\n",
    "        # Step 3 - Get the balance factor\n",
    "        balance = self.getBalance(root)\n",
    "\n",
    "        # Step 4 - If the node is unbalanced,\n",
    "        # then try out the 4 cases\n",
    "        # Case 1 - Left Left\n",
    "        if balance > 1 and key < root.left.val:\n",
    "            return self.rightRotate(root)\n",
    "\n",
    "        # Case 2 - Right Right\n",
    "        if balance < -1 and key > root.right.val:\n",
    "            return self.leftRotate(root)\n",
    "\n",
    "        # Case 3 - Left Right\n",
    "        if balance > 1 and key > root.left.val:\n",
    "            root.left = self.leftRotate(root.left)\n",
    "            return self.rightRotate(root)\n",
    "\n",
    "        # Case 4 - Right Left\n",
    "        if balance < -1 and key < root.right.val:\n",
    "            root.right = self.rightRotate(root.right)\n",
    "            return self.leftRotate(root)\n",
    "\n",
    "        return root\n",
    "\n",
    "    def leftRotate(self, z):\n",
    "\n",
    "        y = z.right\n",
    "        T2 = y.left\n",
    "\n",
    "        # Perform rotation\n",
    "        y.left = z\n",
    "        z.right = T2\n",
    "\n",
    "        # Update heights\n",
    "        z.height = 1 + max(self.getHeight(z.left), self.getHeight(z.right))\n",
    "        y.height = 1 + max(self.getHeight(y.left), self.getHeight(y.right))\n",
    "\n",
    "        # Return the new root\n",
    "        return y\n",
    "\n",
    "    def rightRotate(self, z):\n",
    "\n",
    "        y = z.left\n",
    "        T3 = y.right\n",
    "\n",
    "        # Perform rotation\n",
    "        y.right = z\n",
    "        z.left = T3\n",
    "\n",
    "        # Update heights\n",
    "        z.height = 1 + max(self.getHeight(z.left), self.getHeight(z.right))\n",
    "        y.height = 1 + max(self.getHeight(y.left), self.getHeight(y.right))\n",
    "\n",
    "        # Return the new root\n",
    "        return y\n",
    "\n",
    "    def getHeight(self, root):\n",
    "        if not root:\n",
    "            return 0\n",
    "\n",
    "        return root.height\n",
    "\n",
    "    def getBalance(self, root):\n",
    "        if not root:\n",
    "            return 0\n",
    "\n",
    "        return self.getHeight(root.left) - self.getHeight(root.right)\n",
    "\n",
    "    def preOrder(self, root):\n",
    "\n",
    "        if not root:\n",
    "            return\n",
    "\n",
    "        print(\"{0} \".format(root.val), end=\"\")\n",
    "        self.preOrder(root.left)\n",
    "        self.preOrder(root.right)\n",
    "\n",
    "\n",
    "myTree = AVL_Tree()\n",
    "root = None\n",
    "\n",
    "root = myTree.insert(root, 10)\n",
    "root = myTree.insert(root, 20)\n",
    "root = myTree.insert(root, 30)\n",
    "root = myTree.insert(root, 40)\n",
    "root = myTree.insert(root, 50)\n",
    "root = myTree.insert(root, 25)\n",
    "\"\"\"The constructed AVL Tree would be \n",
    "        30 \n",
    "        / \\ \n",
    "       20 40 \n",
    "      / \\  \\ \n",
    "    10 25   50\"\"\"\n",
    "\n",
    "# Preorder Traversal\n",
    "print(\"Preorder traversal of the\", \"constructed AVL tree is\")\n",
    "myTree.preOrder(root)\n",
    "print()"
   ]
  }
 ],
 "metadata": {
  "hide_input": false,
  "kernelspec": {
   "display_name": "Python 3",
   "language": "python",
   "name": "python3"
  },
  "language_info": {
   "codemirror_mode": {
    "name": "ipython",
    "version": 3
   },
   "file_extension": ".py",
   "mimetype": "text/x-python",
   "name": "python",
   "nbconvert_exporter": "python",
   "pygments_lexer": "ipython3",
   "version": "3.7.4"
  },
  "toc": {
   "base_numbering": 1,
   "nav_menu": {},
   "number_sections": true,
   "sideBar": true,
   "skip_h1_title": false,
   "title_cell": "Table of Contents",
   "title_sidebar": "Contents",
   "toc_cell": false,
   "toc_position": {
    "height": "calc(100% - 180px)",
    "left": "10px",
    "top": "150px",
    "width": "284.390625px"
   },
   "toc_section_display": true,
   "toc_window_display": true
  },
  "varInspector": {
   "cols": {
    "lenName": 16,
    "lenType": 16,
    "lenVar": 40
   },
   "kernels_config": {
    "python": {
     "delete_cmd_postfix": "",
     "delete_cmd_prefix": "del ",
     "library": "var_list.py",
     "varRefreshCmd": "print(var_dic_list())"
    },
    "r": {
     "delete_cmd_postfix": ") ",
     "delete_cmd_prefix": "rm(",
     "library": "var_list.r",
     "varRefreshCmd": "cat(var_dic_list()) "
    }
   },
   "types_to_exclude": [
    "module",
    "function",
    "builtin_function_or_method",
    "instance",
    "_Feature"
   ],
   "window_display": false
  }
 },
 "nbformat": 4,
 "nbformat_minor": 2
}
