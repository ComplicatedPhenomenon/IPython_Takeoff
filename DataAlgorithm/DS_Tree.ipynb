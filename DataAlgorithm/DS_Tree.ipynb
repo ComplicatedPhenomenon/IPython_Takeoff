{
 "cells": [
  {
   "cell_type": "code",
   "execution_count": 1,
   "metadata": {},
   "outputs": [],
   "source": [
    "from IPython.core.interactiveshell import InteractiveShell\n",
    "InteractiveShell.ast_node_interactivity = \"all\""
   ]
  },
  {
   "cell_type": "markdown",
   "metadata": {},
   "source": [
    "# https://leetcode.com/problems/path-sum/"
   ]
  },
  {
   "cell_type": "markdown",
   "metadata": {},
   "source": [
    "```md\n",
    "      5\n",
    "     / \\\n",
    "    4   8\n",
    "   /   / \\\n",
    "  11  13  4\n",
    " /  \\      \\\n",
    "7    2      1\n",
    "```\n",
    "\n",
    "Given the above binary tree and sum = 22, return true, as there exist a root-to-leaf path 5->4->11->2 which sum is 22."
   ]
  },
  {
   "cell_type": "markdown",
   "metadata": {},
   "source": [
    "<span style=\"font-family:New York Times; font-size:1.2em; color:green;\">\n",
    "Key point is: Tree traversal"
   ]
  },
  {
   "cell_type": "code",
   "execution_count": 5,
   "metadata": {},
   "outputs": [
    {
     "name": "stdout",
     "output_type": "stream",
     "text": [
      "1\n",
      "3\n",
      "2\n"
     ]
    }
   ],
   "source": [
    "# https://www.codefellows.org/blog/implementing-a-singly-linked-list-in-python/\n",
    "class node(object):\n",
    "    def __init__(self, data=None, nextnode=None):\n",
    "        self.data = data\n",
    "        self.nextnode = nextnode\n",
    "    def get_data(self):\n",
    "        return self.data\n",
    "    def get_next(self):\n",
    "        return self.nextnode\n",
    "    # Prepare to add\n",
    "    def self_next(self, new_next):\n",
    "        self.nextnode = new_next\n",
    "        \n",
    "class linkedList(object):\n",
    "    def __init__(self, head = None):\n",
    "        self.head = head\n",
    "    def get_head(self):\n",
    "        return self.head\n",
    "    def insert(self, data):\n",
    "        new_node = node(data)\n",
    "        # Too abstract here, hard to understand\n",
    "        new_node.self_next(self.head)\n",
    "        self.head = new_node\n",
    "    def listprint(self):\n",
    "        printval = self.head\n",
    "        while printval is not None:\n",
    "            print (printval.data)\n",
    "            printval = printval.nextnode  \n",
    "            \n",
    "a = linkedList()\n",
    "a.insert(2)\n",
    "a.insert(3)\n",
    "a.insert(1)    \n",
    "a.listprint()\n",
    "    "
   ]
  },
  {
   "cell_type": "code",
   "execution_count": null,
   "metadata": {},
   "outputs": [],
   "source": [
    "class TreeNode:\n",
    "    def __init__(self, x):\n",
    "        self.val = x\n",
    "        self.left = None\n",
    "        self.right = None\n",
    "\n",
    "class Solution:\n",
    "    # @param root, a tree node\n",
    "    # @param sum, an integer\n",
    "    # @return a boolean\n",
    "    # 1:27\n",
    "    def hasPathSum(self, root, sumv):\n",
    "        if not root:\n",
    "            return False\n",
    "\n",
    "        if not root.left and not root.right and root.val == sumv:\n",
    "            return True\n",
    "        \n",
    "        sumv -= root.val\n",
    "\n",
    "        return self.hasPathSum(root.left, sumv) or self.hasPathSum(root.right, sumv)"
   ]
  },
  {
   "cell_type": "markdown",
   "metadata": {},
   "source": [
    "# Binary search tree "
   ]
  },
  {
   "cell_type": "code",
   "execution_count": 6,
   "metadata": {},
   "outputs": [
    {
     "name": "stdout",
     "output_type": "stream",
     "text": [
      "Specific Level Order traversal of binary tree is\n",
      "16 31 17 30 18 29 19 28 20 27 21 26 22 25 23 24 8 15 9 14 10 13 11 12 4 7 5 6 2 3 1 "
     ]
    }
   ],
   "source": [
    "# Python program for special order traversal\n",
    "\n",
    "\n",
    "# A binary tree ndoe\n",
    "class Node:\n",
    "\n",
    "    # Create queue and enqueue left\n",
    "    # and right child of root\n",
    "    s = []\n",
    "    q = []\n",
    "\n",
    "    # Variable to traverse the reversed array\n",
    "    elements = 0\n",
    "\n",
    "    # A constructor for making a new node\n",
    "    def __init__(self, key):\n",
    "        self.data = key\n",
    "        self.left = None\n",
    "        self.right = None\n",
    "\n",
    "    # Given a perfect binary tree print\n",
    "    # its node in specific order\n",
    "    def printSpecificLevelOrder(self, root):\n",
    "        self.s.append(root)\n",
    "\n",
    "        # Pop the element from the list\n",
    "        prnt = self.s.pop(0)\n",
    "        self.q.append(prnt.data)\n",
    "        if prnt.right:\n",
    "            self.s.append(root.right)\n",
    "        if prnt.left:\n",
    "            self.s.append(root.left)\n",
    "\n",
    "        # Traversal loop\n",
    "        while (len(self.s) > 0):\n",
    "\n",
    "            # Pop two items from queue\n",
    "            first = self.s.pop(0)\n",
    "            self.q.append(first.data)\n",
    "            second = self.s.pop(0)\n",
    "            self.q.append(second.data)\n",
    "\n",
    "            # Since it is perfect Binary tree,\n",
    "            # one of the node is needed to be checked\n",
    "            if first.left and second.right and first.right and second.left:\n",
    "\n",
    "                # If first and second have grandchildren,\n",
    "                # enqueue them in reverse order\n",
    "                self.s.append(first.left)\n",
    "                self.s.append(second.right)\n",
    "                self.s.append(first.right)\n",
    "                self.s.append(second.left)\n",
    "\n",
    "        # Give a perfect binary tree print\n",
    "        # its node in reverse order\n",
    "        for elements in reversed(self.q):\n",
    "            print(elements, end=\" \")\n",
    "\n",
    "\n",
    "# Driver Code\n",
    "root = Node(1)\n",
    "\n",
    "root.left = Node(2)\n",
    "root.right = Node(3)\n",
    "\n",
    "root.left.left = Node(4) \n",
    "root.left.right = Node(5) \n",
    "root.right.left = Node(6) \n",
    "root.right.right = Node(7) \n",
    "\n",
    "root.left.left.left = Node(8) \n",
    "root.left.left.right = Node(9) \n",
    "root.left.right.left = Node(10) \n",
    "root.left.right.right = Node(11) \n",
    "root.right.left.left = Node(12) \n",
    "root.right.left.right = Node(13) \n",
    "root.right.right.left = Node(14) \n",
    "root.right.right.right = Node(15) \n",
    "\n",
    "root.left.left.left.left = Node(16) \n",
    "root.left.left.left.right = Node(17) \n",
    "root.left.left.right.left = Node(18) \n",
    "root.left.left.right.right = Node(19) \n",
    "root.left.right.left.left = Node(20) \n",
    "root.left.right.left.right = Node(21) \n",
    "root.left.right.right.left = Node(22) \n",
    "root.left.right.right.right = Node(23) \n",
    "root.right.left.left.left = Node(24) \n",
    "root.right.left.left.right = Node(25) \n",
    "root.right.left.right.left = Node(26) \n",
    "root.right.left.right.right = Node(27) \n",
    "root.right.right.left.left = Node(28) \n",
    "root.right.right.left.right = Node(29) \n",
    "root.right.right.right.left = Node(30) \n",
    "root.right.right.right.right = Node(31) \n",
    "\n",
    "print(\"Specific Level Order traversal of \" \"binary tree is\")\n",
    "root.printSpecificLevelOrder(root)\n",
    "\n",
    "# This code is contributed by 'Vaibhav Kumar 12'"
   ]
  },
  {
   "cell_type": "code",
   "execution_count": null,
   "metadata": {},
   "outputs": [],
   "source": []
  }
 ],
 "metadata": {
  "hide_input": false,
  "kernelspec": {
   "display_name": "Python 3",
   "language": "python",
   "name": "python3"
  },
  "language_info": {
   "codemirror_mode": {
    "name": "ipython",
    "version": 3
   },
   "file_extension": ".py",
   "mimetype": "text/x-python",
   "name": "python",
   "nbconvert_exporter": "python",
   "pygments_lexer": "ipython3",
   "version": "3.7.2"
  },
  "toc": {
   "base_numbering": 1,
   "nav_menu": {},
   "number_sections": true,
   "sideBar": true,
   "skip_h1_title": false,
   "title_cell": "Table of Contents",
   "title_sidebar": "Contents",
   "toc_cell": false,
   "toc_position": {},
   "toc_section_display": true,
   "toc_window_display": false
  },
  "varInspector": {
   "cols": {
    "lenName": 16,
    "lenType": 16,
    "lenVar": 40
   },
   "kernels_config": {
    "python": {
     "delete_cmd_postfix": "",
     "delete_cmd_prefix": "del ",
     "library": "var_list.py",
     "varRefreshCmd": "print(var_dic_list())"
    },
    "r": {
     "delete_cmd_postfix": ") ",
     "delete_cmd_prefix": "rm(",
     "library": "var_list.r",
     "varRefreshCmd": "cat(var_dic_list()) "
    }
   },
   "types_to_exclude": [
    "module",
    "function",
    "builtin_function_or_method",
    "instance",
    "_Feature"
   ],
   "window_display": false
  }
 },
 "nbformat": 4,
 "nbformat_minor": 2
}
