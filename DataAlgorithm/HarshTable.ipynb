{
 "cells": [
  {
   "cell_type": "code",
   "execution_count": null,
   "metadata": {},
   "outputs": [],
   "source": [
    "from IPython.core.interactiveshell import InteractiveShell\n",
    "InteractiveShell.ast_node_interactivity = \"all\""
   ]
  },
  {
   "cell_type": "markdown",
   "metadata": {},
   "source": [
    "# Hash Table\n",
    "\n",
    "<span style=\"font-family:New York Times; font-size:1.2em; color:green;\">\n",
    "    \n",
    "* https://tutorialedge.net/compsci/data-structures/hash-tables-for-beginners/\n",
    "    \n",
    "  Good Hash Tables with minimal collisions allow you to perform inserts, finds and deletes in a constant amount of time, this can be expressed as O(1) in big-O notation.\n",
    "* https://www.hackerearth.com/zh/practice/data-structures/hash-tables/basics-of-hash-tables/tutorial/\n",
    "* https://www.go4expert.com/articles/hash-tables-tutorial-complete-beginners-t28993/"
   ]
  },
  {
   "cell_type": "markdown",
   "metadata": {},
   "source": [
    "# Two sum "
   ]
  },
  {
   "cell_type": "code",
   "execution_count": null,
   "metadata": {},
   "outputs": [],
   "source": [
    "A = [2, 2, 3, 5, 1, 6]\n",
    "HT = {}\n",
    "for i, v in enumerate(A):\n",
    "    if v not in HT:\n",
    "        HT[v] = i"
   ]
  },
  {
   "cell_type": "code",
   "execution_count": null,
   "metadata": {},
   "outputs": [],
   "source": [
    "HT\n",
    "0 in HT\n",
    "print([i for i in HT])"
   ]
  },
  {
   "cell_type": "code",
   "execution_count": null,
   "metadata": {},
   "outputs": [],
   "source": [
    "def twoSum(A:list, target:int):\n",
    "    HT = {}\n",
    "    for i, v in enumerate(A):\n",
    "        if v not in HT:\n",
    "            HT[v] = i\n",
    "    for i in HT:\n",
    "        if target-i in HT:\n",
    "            return [HT[i], HT[target-i]]\n",
    "        else:\n",
    "            return \n",
    "    "
   ]
  },
  {
   "cell_type": "code",
   "execution_count": null,
   "metadata": {},
   "outputs": [],
   "source": [
    "A = [2, 2, 3, 5, 1, 6] \n",
    "target = 5\n",
    "twoSum(A, target)"
   ]
  },
  {
   "cell_type": "code",
   "execution_count": null,
   "metadata": {},
   "outputs": [],
   "source": [
    "twoSum(A, 4)"
   ]
  },
  {
   "cell_type": "code",
   "execution_count": null,
   "metadata": {},
   "outputs": [],
   "source": [
    "class Solution(object):\n",
    "    def twoSum(self, nums, target):\n",
    "        \"\"\"\n",
    "        :type nums: List[int]\n",
    "        :type target: int\n",
    "        :rtype: List[int]\n",
    "        \"\"\"\n",
    "        dictionary = dict()\n",
    "        pos = 0\n",
    "        while pos < len(nums):\n",
    "            if (target - nums[pos]) not in dictionary:\n",
    "                dictionary[nums[pos]] = pos\n",
    "                pos += 1\n",
    "            else:\n",
    "                return [dictionary[target - nums[pos]], pos]"
   ]
  },
  {
   "cell_type": "code",
   "execution_count": null,
   "metadata": {},
   "outputs": [],
   "source": [
    "b = Solution()\n",
    "b.twoSum(A, 9)"
   ]
  },
  {
   "cell_type": "markdown",
   "metadata": {},
   "source": [
    "# https://leetcode.com/problems/single-number"
   ]
  },
  {
   "cell_type": "markdown",
   "metadata": {},
   "source": [
    "# https://leetcode.com/problems/happy-number/"
   ]
  },
  {
   "cell_type": "markdown",
   "metadata": {},
   "source": [
    "Write an algorithm to determine if a number is \"happy\".\n",
    "\n",
    "A happy number is a number defined by the following process: Starting with any positive integer, replace the number by the sum of the squares of its digits, and repeat the process until the number equals 1 (where it will stay), or it loops endlessly in a cycle which does not include 1. Those numbers for which this process ends in 1 are happy numbers.\n",
    "```md\n",
    "Example: \n",
    "\n",
    "Input: 19\n",
    "Output: true\n",
    "Explanation: \n",
    "12 + 92 = 82\n",
    "82 + 22 = 68\n",
    "62 + 82 = 100\n",
    "12 + 02 + 02 = 1\n",
    "```"
   ]
  },
  {
   "cell_type": "code",
   "execution_count": null,
   "metadata": {},
   "outputs": [],
   "source": [
    "123//100"
   ]
  },
  {
   "cell_type": "code",
   "execution_count": null,
   "metadata": {},
   "outputs": [],
   "source": [
    "x = list(str(123))\n",
    "int(x[1])\n",
    "a = x\n",
    "sum([int(a[i])**2 for i in range(len(a))])"
   ]
  },
  {
   "cell_type": "code",
   "execution_count": null,
   "metadata": {},
   "outputs": [],
   "source": [
    "def isHappyNumber(num:int)->bool:\n",
    "    a = list(str(num))\n",
    "    b = sum([int(a[i])**2 for i in range(len(a))])\n",
    "    sumRecords = {}\n",
    "    while b != 1:\n",
    "        a = list(str(b))\n",
    "        b = sum([int(a[i])**2 for i in range(len(a))])\n",
    "        if b not in sumRecords:\n",
    "            sumRecords[b] = 1\n",
    "        else:\n",
    "            return False\n",
    "    return True\n",
    "\n",
    "isHappyNumber(82)"
   ]
  },
  {
   "cell_type": "markdown",
   "metadata": {},
   "source": [
    "# https://leetcode.com/problems/count-primes/"
   ]
  },
  {
   "cell_type": "markdown",
   "metadata": {},
   "source": [
    "# https://leetcode.com/problems/isomorphic-strings/"
   ]
  },
  {
   "cell_type": "code",
   "execution_count": null,
   "metadata": {},
   "outputs": [],
   "source": [
    "class Solution:\n",
    "    def isIsomorphic(self, s: str, t: str) -> bool:       \n",
    "        if len(s)==len(t):\n",
    "            if len(s)==0:\n",
    "                return True\n",
    "            else:\n",
    "                if len(set(s))==len(set(t)):\n",
    "                    for i in range(len(s)):\n",
    "                        if s.find(s[i]) == t.find(t[i]):\n",
    "                            return True\n",
    "                        else:\n",
    "                            False\n",
    "                else:\n",
    "                    return False\n",
    "        else:\n",
    "            return False\n",
    "s = 'andd'\n",
    "t = 'cmoox'         \n",
    "# t = 'cmoo'   \n",
    "x = Solution()\n",
    "x.isIsomorphic(s, t)\n",
    "\n",
    "                "
   ]
  },
  {
   "cell_type": "code",
   "execution_count": null,
   "metadata": {},
   "outputs": [],
   "source": [
    "x.isIsomorphic(\"\", \"\")"
   ]
  },
  {
   "cell_type": "code",
   "execution_count": null,
   "metadata": {},
   "outputs": [],
   "source": [
    "x.isIsomorphic('ab', 'aa')"
   ]
  },
  {
   "cell_type": "code",
   "execution_count": null,
   "metadata": {},
   "outputs": [],
   "source": [
    "s = 'andd'\n",
    "[ i for i in s]\n",
    "s.find('d')\n",
    "x = {}\n",
    "for i, j in enumerate(s): \n",
    "    if j not in x:\n",
    "        x[j] = [i]\n",
    "    else:\n",
    "        m = x[j] \n",
    "        m.append(i)\n",
    "        x[j] = m \n",
    "    \n",
    "x \n",
    "x.values()\n",
    "m = [0]\n",
    "m.append(1)\n",
    "m"
   ]
  },
  {
   "cell_type": "code",
   "execution_count": null,
   "metadata": {},
   "outputs": [],
   "source": [
    "#Runtime: 52 ms, faster than 42.87% of Python3 online submissions for Isomorphic Strings.\n",
    "#Memory Usage: 15.7 MB, less than 5.03% of Python3 online submissions for Isomorphic Strings.\n",
    "# New x, y data structure need to be stored\n",
    "class Solution:\n",
    "    def isIsomorphic(self, s: str, t: str) -> bool: \n",
    "        if len(s)==len(t):\n",
    "            if len(s)==0:\n",
    "                return True\n",
    "            else:\n",
    "                x = {}\n",
    "                y = {}\n",
    "                for i, j in enumerate(s): \n",
    "                    if j not in x:\n",
    "                        x[j] = [i]\n",
    "                    else:\n",
    "                        m = x[j] \n",
    "                        m.append(i)\n",
    "                        x[j] = m \n",
    "                        \n",
    "                for i, j in enumerate(t):\n",
    "                    if j not in y:\n",
    "                        y[j] = [i]\n",
    "                    else:\n",
    "                        m = y[j] \n",
    "                        m.append(i)\n",
    "                        y[j] = m \n",
    "                \n",
    "                #print(x.values() == y.values())\n",
    "                print(x.values())\n",
    "                \n",
    "            \n",
    "                \n",
    "                if list(x.values()) == list(y.values()):\n",
    "                    return True\n",
    "                else:\n",
    "                    return False       \n",
    "        else:\n",
    "            return False\n",
    "s = 'andd'\n",
    "t = 'cmoo'         \n",
    "# t = 'cmoo'   \n",
    "x = Solution()\n",
    "x.isIsomorphic(s, t)\n",
    "\n",
    "\n",
    "    "
   ]
  },
  {
   "cell_type": "code",
   "execution_count": null,
   "metadata": {},
   "outputs": [],
   "source": [
    "class Solution:\n",
    "    def isIsomorphic(self, s: str, t: str) -> bool:\n",
    "        d={}\n",
    "        if len(set(s)) != len(set(t)): return False\n",
    "        for i in range(len(s)):\n",
    "            if s[i] in d:\n",
    "                if d[s[i]] == t[i]:\n",
    "                    continue\n",
    "                else:\n",
    "                    return False\n",
    "            d[s[i]] = t[i] # s[i] as key t[i] as corresponding value\n",
    "        return True"
   ]
  },
  {
   "cell_type": "code",
   "execution_count": null,
   "metadata": {},
   "outputs": [],
   "source": [
    "#Runtime: 64 ms, faster than 18.64% of Python3 online submissions for Isomorphic Strings.\n",
    "#Memory Usage: 13.6 MB, less than 21.81% of Python3 online submissions for Isomorphic Strings.\n",
    "class Solution:\n",
    "    def isIsomorphic(self, s: str, t: str) -> bool:\n",
    "        for i in range(len(s)):\n",
    "            if s.find(s[i])!=t.find(t[i]):\n",
    "                return False\n",
    "        return True"
   ]
  },
  {
   "cell_type": "markdown",
   "metadata": {},
   "source": [
    "# https://leetcode.com/problems/intersection-of-two-arrays/"
   ]
  },
  {
   "cell_type": "markdown",
   "metadata": {},
   "source": [
    "\n",
    "Given two arrays, write a function to compute their intersection.\n",
    "\n",
    "Example 1:\n",
    "```md\n",
    "Input: nums1 = [1,2,2,1], nums2 = [2,2]\n",
    "Output: [2]\n",
    "```\n",
    "Example 2:\n",
    "```md \n",
    "Input: nums1 = [4,9,5], nums2 = [9,4,9,8,4]\n",
    "Output: [9,4]\n",
    "```\n",
    "Note:\n",
    "\n",
    "Each element in the result must be unique.\n",
    "The result can be in any order.\n"
   ]
  },
  {
   "cell_type": "code",
   "execution_count": null,
   "metadata": {},
   "outputs": [],
   "source": [
    "#Runtime: 40 ms, faster than 75.53% of Python3 online submissions for Intersection of Two Arrays.\n",
    "#Memory Usage: 13.4 MB, less than 17.73% of Python3 online submissions for Intersection of Two Arrays.\n",
    "class Solution:\n",
    "    def intersection(self, nums1, nums2):\n",
    "        nums1 = set(nums1)\n",
    "        nums2 = set(nums2)\n",
    "        x = []\n",
    "        y = []\n",
    "        if len(nums1) > len(nums2):\n",
    "            for i in nums2:\n",
    "                if i in nums1:\n",
    "                    x.append(i)\n",
    "            return x \n",
    "        else:\n",
    "            for i in nums1:\n",
    "                if i in nums2:\n",
    "                    y.append(i)\n",
    "            return y\n",
    "        \n",
    "a = Solution()\n",
    "a.intersection([1,2,3],[2,4])"
   ]
  },
  {
   "cell_type": "code",
   "execution_count": null,
   "metadata": {},
   "outputs": [],
   "source": [
    "# Runtime: 32 ms, faster than 97.49% of Python3 online submissions for Intersection of Two Arrays.\n",
    "# Memory Usage: 13.2 MB, less than 72.84% of Python3 online submissions for Intersection of Two Arrays.\n",
    "class Solution:\n",
    "    def intersection(self, nums1, nums2):\n",
    "        nums1 = set(nums1)\n",
    "        nums2 = set(nums2)\n",
    "        x = []\n",
    "        y = []\n",
    "        if len(nums1) > len(nums2):\n",
    "            for i in nums2:\n",
    "                if i in nums1:\n",
    "                    x.append(i)\n",
    "            return x \n",
    "        else:\n",
    "            for i in nums1:\n",
    "                if i in nums2:\n",
    "                    y.append(i)\n",
    "            return y\n",
    "        \n",
    "a = Solution()\n",
    "a.intersection([1,2,3],[2,4])"
   ]
  },
  {
   "cell_type": "code",
   "execution_count": null,
   "metadata": {},
   "outputs": [],
   "source": [
    "a.intersection([4,9,5],[9,4,9,8,4])"
   ]
  },
  {
   "cell_type": "markdown",
   "metadata": {},
   "source": [
    "# https://leetcode.com/problems/group-anagrams/"
   ]
  },
  {
   "cell_type": "markdown",
   "metadata": {},
   "source": [
    "Given an array of strings, group anagrams together.\n",
    "\n",
    "Example:\n",
    "```md\n",
    "Input: [\"eat\", \"tea\", \"tan\", \"ate\", \"nat\", \"bat\"],\n",
    "Output:\n",
    "[\n",
    "  [\"ate\",\"eat\",\"tea\"],\n",
    "  [\"nat\",\"tan\"],\n",
    "  [\"bat\"]\n",
    "]\n",
    "```\n",
    "Note:\n",
    "\n",
    "* All inputs will be in lowercase.\n",
    "* The order of your output does not matter.\n"
   ]
  },
  {
   "cell_type": "code",
   "execution_count": null,
   "metadata": {},
   "outputs": [],
   "source": [
    "v = [\"eat\", \"tea\", \"tan\", \"ate\", \"nat\", \"bat\"]"
   ]
  },
  {
   "cell_type": "code",
   "execution_count": null,
   "metadata": {},
   "outputs": [],
   "source": [
    "x = [set(i) for i in v ]\n",
    "x \n",
    "x[1]\n",
    "j = ''\n",
    "for i in x[1]:\n",
    "    j=j + i\n",
    "j \n",
    "''+'a'+'e'+'t'"
   ]
  },
  {
   "cell_type": "code",
   "execution_count": null,
   "metadata": {},
   "outputs": [],
   "source": [
    "class Solution:\n",
    "    def groupAnagrams(self, strs):\n",
    "        x = {}\n",
    "        m = []\n",
    "        for i in strs:\n",
    "            for i in \n",
    "            x[set(i)] =  m.append(i)\n",
    "        return m \n",
    "\n",
    "        "
   ]
  },
  {
   "cell_type": "code",
   "execution_count": null,
   "metadata": {},
   "outputs": [],
   "source": [
    "a = Solution()\n",
    "c = [\"eat\", \"tea\", \"tan\", \"ate\", \"nat\", \"bat\"]\n",
    "a.groupAnagrams(c) "
   ]
  },
  {
   "cell_type": "code",
   "execution_count": null,
   "metadata": {},
   "outputs": [],
   "source": []
  }
 ],
 "metadata": {
  "hide_input": false,
  "kernelspec": {
   "display_name": "Python 3",
   "language": "python",
   "name": "python3"
  },
  "language_info": {
   "codemirror_mode": {
    "name": "ipython",
    "version": 3
   },
   "file_extension": ".py",
   "mimetype": "text/x-python",
   "name": "python",
   "nbconvert_exporter": "python",
   "pygments_lexer": "ipython3",
   "version": "3.7.2"
  },
  "toc": {
   "base_numbering": 1,
   "nav_menu": {},
   "number_sections": true,
   "sideBar": true,
   "skip_h1_title": false,
   "title_cell": "Table of Contents",
   "title_sidebar": "Contents",
   "toc_cell": false,
   "toc_position": {},
   "toc_section_display": true,
   "toc_window_display": false
  },
  "varInspector": {
   "cols": {
    "lenName": 16,
    "lenType": 16,
    "lenVar": 40
   },
   "kernels_config": {
    "python": {
     "delete_cmd_postfix": "",
     "delete_cmd_prefix": "del ",
     "library": "var_list.py",
     "varRefreshCmd": "print(var_dic_list())"
    },
    "r": {
     "delete_cmd_postfix": ") ",
     "delete_cmd_prefix": "rm(",
     "library": "var_list.r",
     "varRefreshCmd": "cat(var_dic_list()) "
    }
   },
   "types_to_exclude": [
    "module",
    "function",
    "builtin_function_or_method",
    "instance",
    "_Feature"
   ],
   "window_display": false
  }
 },
 "nbformat": 4,
 "nbformat_minor": 2
}
