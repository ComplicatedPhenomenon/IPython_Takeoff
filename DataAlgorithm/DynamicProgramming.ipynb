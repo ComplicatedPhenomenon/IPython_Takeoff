{
 "cells": [
  {
   "cell_type": "code",
   "execution_count": null,
   "metadata": {},
   "outputs": [],
   "source": [
    "from IPython.core.interactiveshell import InteractiveShell\n",
    "InteractiveShell.ast_node_interactivity = \"all\""
   ]
  },
  {
   "cell_type": "code",
   "execution_count": null,
   "metadata": {},
   "outputs": [],
   "source": [
    "import random\n",
    "import time "
   ]
  },
  {
   "cell_type": "code",
   "execution_count": null,
   "metadata": {},
   "outputs": [],
   "source": [
    "# https://leetcode-cn.com/problems/coin-change/solution/dong-tai-gui-hua-tao-lu-xiang-jie-by-wei-lai-bu-ke/"
   ]
  },
  {
   "cell_type": "markdown",
   "metadata": {},
   "source": [
    "# climbing-stairs\n",
    "https://leetcode.com/problems/climbing-stairs/"
   ]
  },
  {
   "cell_type": "code",
   "execution_count": null,
   "metadata": {},
   "outputs": [],
   "source": [
    "def f(n):\n",
    "    if n == 1:\n",
    "        return 1\n",
    "    elif n == 2:\n",
    "        return 2\n",
    "    else:\n",
    "        return f(n-1)+f(n-2)"
   ]
  },
  {
   "cell_type": "code",
   "execution_count": null,
   "metadata": {},
   "outputs": [],
   "source": [
    "f(35)"
   ]
  },
  {
   "cell_type": "markdown",
   "metadata": {},
   "source": [
    "```md\n",
    "f(n) = f(n-1)+f(n-2) \n",
    "     = f(n-2)+f(n-3)+f(n-3)+f(n-4)\n",
    "```\n",
    "\n",
    "![image.png](https://bucket-1257126549.cos.ap-guangzhou.myqcloud.com/20181225104357.png)\n",
    "\n",
    "1. 找到如何将大问题分解为小问题的规律\n",
    "2. 通过规律写出递推公式\n",
    "3. 通过递归公式的临界点推敲出终止条件\n",
    "4. 将递推公式和终止条件翻译成代码\n",
    "\n",
    "```c\n",
    "int f(int n) {\n",
    "    if (n == 1) return 1;\n",
    "    if (n == 2) return 2;\n",
    "    // a 保存倒数第二个子状态数据，b 保存倒数第一个子状态数据， temp 保存当前状态的数据\n",
    "    int a = 1, b = 2;\n",
    "    int temp = a + b;\n",
    "    for (int i = 3; i <= n; i++) {\n",
    "        temp = a + b;\n",
    "        a = b;\n",
    "        b = temp; \n",
    "    }\n",
    "    return temp; \n",
    "}\n",
    "```"
   ]
  },
  {
   "cell_type": "markdown",
   "metadata": {},
   "source": [
    "```cpp\n",
    "int fib(int N) {\n",
    "    if (N < 1) return 0;\n",
    "    // 备忘录全初始化为 0\n",
    "    vector<int> memo(N + 1, 0);\n",
    "    return helper(memo, N);\n",
    "}\n",
    "int helper(vector<int>& memo, int n) {\n",
    "    if (n == 1 || n == 2) return 1;\n",
    "    if (memo[n] != 0) return memo[n];\n",
    "    // 未被计算过\n",
    "    memo[n] = helper(memo, n - 1) + helper(memo, n - 2);\n",
    "    return memo[n];\n",
    "}\n",
    "```"
   ]
  },
  {
   "cell_type": "code",
   "execution_count": null,
   "metadata": {},
   "outputs": [],
   "source": [
    "# Runtime: 32 ms, faster than 86.69% of Python3 online submissions for Climbing Stairs.\n",
    "# Memory Usage: 13.2 MB, less than 46.67% of Python3 online submissions for Climbing Stairs.\n",
    "def f(n):\n",
    "    if n == 1:\n",
    "        return 1\n",
    "    elif n == 2:\n",
    "        return 2\n",
    "    else:\n",
    "        a = 1\n",
    "        b = 2\n",
    "        i = 3\n",
    "        while (i <= n):\n",
    "            temp = a +b \n",
    "            a, b = b, temp\n",
    "            i += 1\n",
    "        return temp"
   ]
  },
  {
   "cell_type": "code",
   "execution_count": null,
   "metadata": {},
   "outputs": [],
   "source": [
    "f(1000)"
   ]
  },
  {
   "cell_type": "code",
   "execution_count": null,
   "metadata": {},
   "outputs": [],
   "source": [
    "def find_number(n):\n",
    "    a, b = 1, 2\n",
    "    for _ in range(n-1):\n",
    "        a, b = b, a+b    \n",
    "    return a  \n",
    "find_number(1000)"
   ]
  },
  {
   "cell_type": "code",
   "execution_count": null,
   "metadata": {},
   "outputs": [],
   "source": [
    "from functools import lru_cache\n",
    "\n",
    "@lru_cache(maxsize=None)\n",
    "def f(n):\n",
    "    if n< 3:\n",
    "        return n\n",
    "    else:\n",
    "        i = 0\n",
    "        j = 2 \n",
    "        a = f(i)\n",
    "        b = f(j)\n",
    "        while (i <= n-3 and j<=n-1):\n",
    "            temp = a +b \n",
    "            i+=1\n",
    "            j+=1\n",
    "            a, b = f(i), temp\n",
    "        return temp"
   ]
  },
  {
   "cell_type": "code",
   "execution_count": null,
   "metadata": {},
   "outputs": [],
   "source": [
    "a = time.time()\n",
    "f(5000)\n",
    "print(time.time()-a) "
   ]
  },
  {
   "cell_type": "code",
   "execution_count": null,
   "metadata": {},
   "outputs": [],
   "source": [
    "a = time.time()\n",
    "f(50000)\n",
    "print(time.time()-a)  "
   ]
  },
  {
   "cell_type": "code",
   "execution_count": null,
   "metadata": {},
   "outputs": [],
   "source": [
    "@lru_cache(maxsize=None)\n",
    "def f(k):\n",
    "    if k < 3:\n",
    "        return k\n",
    "    return f(k-1) + f(k-3)\n",
    "f(1000)"
   ]
  },
  {
   "cell_type": "code",
   "execution_count": null,
   "metadata": {},
   "outputs": [],
   "source": [
    "def find_number(n):\n",
    "    a, b, c = 0, 1, 2\n",
    "    for _ in range(n):\n",
    "        a, b, c = b, c, a + c\n",
    "    return a \n",
    "find_number(5000)"
   ]
  },
  {
   "cell_type": "code",
   "execution_count": null,
   "metadata": {},
   "outputs": [],
   "source": [
    "def f(n):\n",
    "    if n< 3:\n",
    "        return n\n",
    "    elif n == 3:\n",
    "        return f(2)+f(0)\n",
    "    else:\n",
    "        i = 1\n",
    "        j = 3   \n",
    "        a = f(i)\n",
    "        b = f(j)\n",
    "        k = f(0)\n",
    "        while (i <= n-3 and j<=n-1):\n",
    "            # construct k->a->newa->b->temp(newb)\n",
    "            temp = a +b \n",
    "            p = a # save old a \n",
    "            a, b = b-k, temp\n",
    "            k = p #generate new k \n",
    "            i+=1\n",
    "            j+=1           \n",
    "        return temp\n",
    "f(5000)"
   ]
  },
  {
   "cell_type": "markdown",
   "metadata": {},
   "source": [
    "# longest-substring-without-repeating-characters\n",
    "https://leetcode.com/problems/longest-substring-without-repeating-characters/"
   ]
  },
  {
   "cell_type": "code",
   "execution_count": null,
   "metadata": {},
   "outputs": [],
   "source": [
    "s = 'asskajw'\n",
    "sList = list(s)"
   ]
  },
  {
   "cell_type": "code",
   "execution_count": null,
   "metadata": {},
   "outputs": [],
   "source": [
    "sList \n",
    "s[1]"
   ]
  },
  {
   "cell_type": "code",
   "execution_count": null,
   "metadata": {},
   "outputs": [],
   "source": [
    "sDict = {}\n",
    "start = 0\n",
    "for index, value in enumerate(sList): \n",
    "    if value not in sDict:\n",
    "        end = index\n",
    "        ans = end - start + 1  \n",
    "    else:\n",
    "        start = index\n",
    "        ans = max(end - start + 1, ans)\n",
    "    sDict[index] = value\n",
    "        \n",
    "sDict\n",
    "ans"
   ]
  },
  {
   "cell_type": "code",
   "execution_count": null,
   "metadata": {},
   "outputs": [],
   "source": [
    "'a'  in sDict.values()"
   ]
  },
  {
   "cell_type": "code",
   "execution_count": null,
   "metadata": {},
   "outputs": [],
   "source": [
    "sDict.values()"
   ]
  },
  {
   "cell_type": "markdown",
   "metadata": {},
   "source": [
    "\n",
    "* https://leetcode-cn.com/problems/longest-substring-without-repeating-characters/solution/hua-dong-chuang-kou-by-powcai/"
   ]
  },
  {
   "cell_type": "code",
   "execution_count": null,
   "metadata": {},
   "outputs": [],
   "source": [
    "# Runtime: 84 ms, faster than 43.32% of Python3 online submissions for Longest Substring Without Repeating Characters.\n",
    "# Memory Usage: 13.1 MB, less than 95.25% of Python3 online submissions for Longest Substring Without Repeating Characters.\n",
    "def lengthOfLongestSubstring( s: str) -> int: # the -> int just tells that f() returns an integer.\n",
    "    # : str tells people who read the program (and some third-party libraries/programs, e. g. pylint) \n",
    "    # that s should be a str\n",
    "    if not s:return 0\n",
    "    left = 0\n",
    "    lookup = set()\n",
    "    n = len(s)\n",
    "    max_len = 0\n",
    "    cur_len = 0\n",
    "    for i in range(n):\n",
    "        cur_len += 1\n",
    "        while s[i] in lookup:\n",
    "            lookup.remove(s[left])\n",
    "            left += 1\n",
    "            cur_len -= 1\n",
    "        if cur_len > max_len: max_len = cur_len\n",
    "        lookup.add(s[i]) \n",
    "        print(lookup)\n",
    "    return max_len\n",
    "lengthOfLongestSubstring('abcadefga')"
   ]
  },
  {
   "cell_type": "code",
   "execution_count": null,
   "metadata": {},
   "outputs": [],
   "source": [
    "a = set([1,2, 5, 3,4,1,3,5])\n",
    "a \n",
    "a.add('a')\n",
    "a\n",
    "a.add('c')\n",
    "a.add('b')\n",
    "a \n",
    "a.remove(1)\n",
    "a \n",
    "a = [2, 3, 4, 5, 'a', 'b', 'c']\n",
    "a.index(2)\n",
    "a.remove(1)"
   ]
  },
  {
   "cell_type": "code",
   "execution_count": null,
   "metadata": {},
   "outputs": [],
   "source": [
    "class Solution(object):\n",
    "    #此解法为进栈法\n",
    "    def lengthOfLongestSubstring(self, s):\n",
    "        \"\"\"\n",
    "        :type s: str\n",
    "        :rtype: int\n",
    "        \"\"\"\n",
    "        #获取字符串s对应的列表\n",
    "        s_to_list = list(s)\n",
    "        stack = []\n",
    "        max_length = 0\n",
    "        for value in s_to_list:\n",
    "            #如果stack栈中不包含index元素，则可以进栈           \n",
    "            if value not in stack:\n",
    "                stack.append(value)           \n",
    "                max_length = max(max_length, len(stack))\n",
    "            #如果stack栈中包含index元素，则要将前面index元素之前的数都得拿出栈\n",
    "            else:\n",
    "                start = stack.index(value)\n",
    "                # update stack\n",
    "                stack[:] = stack[start+1:]\n",
    "                #stack = stack[start+1:]\n",
    "                stack.append(value)\n",
    "            print('stack = {}'.format(stack))\n",
    "        return max_length\n",
    "\n",
    "\n",
    "if __name__ == \"__main__\":\n",
    "    s = \"abcabdcef\"\n",
    "    # s = \"abcab\"\n",
    "    max_str = Solution().lengthOfLongestSubstring(s)\n",
    "    print(max_str)"
   ]
  },
  {
   "cell_type": "markdown",
   "metadata": {},
   "source": [
    "* https://leetcode.com/problems/longest-substring-without-repeating-characters/discuss/307810/Python-O(n)-times-48ms-beat-99.86"
   ]
  },
  {
   "cell_type": "code",
   "execution_count": null,
   "metadata": {},
   "outputs": [],
   "source": [
    "class Solution():\n",
    "    def lengthOfLongestSubstring(self, s: str) -> int:\n",
    "        # Initialization\n",
    "        substring, length, max_len = \"\", 0, 0\n",
    "        # At the beginning, our substring is empty. Then \n",
    "        # we can iteratively add new characters to the substring. \n",
    "        for c in s:\n",
    "            # If duplicated characters appear, we have to cut off \n",
    "            # all the letters before the duplicated one, including \n",
    "            # the one that is duplicated, from our substring, in \n",
    "            # order to keep our substring continuous. \n",
    "            if c in substring:\n",
    "                index = substring.find(c)\n",
    "                substring = substring[(index + 1)::]\n",
    "            # Then we are able to add new character to our substring\n",
    "            # to make sure that there is no duplicated characters and \n",
    "            # the substring itself is continuous.\n",
    "            substring += c\n",
    "            # For every iteration, we compute the length of substring\n",
    "            length = len(substring)\n",
    "            # Leave the max value of length for returning\n",
    "            if length > max_len:\n",
    "                max_len = length\n",
    "\n",
    "        return max_len\n",
    "if __name__ == \"__main__\":\n",
    "    s = \"abcabdcef\"\n",
    "    # s = \"abcab\"\n",
    "    max_str = Solution().lengthOfLongestSubstring(s)\n",
    "    print(max_str)\n",
    "    "
   ]
  },
  {
   "cell_type": "code",
   "execution_count": null,
   "metadata": {},
   "outputs": [],
   "source": [
    "class Solution():\n",
    "    def lengthOfLongestSubstring(self, s: str) -> int:\n",
    "        substring, length, max_len = \"\", 0, 0\n",
    "        for c in s:\n",
    "            if c in substring:\n",
    "                index = substring.find(c)\n",
    "                substring = substring[(index + 1)::]\n",
    "            substring += c\n",
    "            length = len(substring)\n",
    "            if length > max_len:\n",
    "                max_len = length\n",
    "\n",
    "        return max_len\n",
    "if __name__ == \"__main__\":\n",
    "    s = \"abcdefa\"\n",
    "    # s = \"abcab\"\n",
    "    max_str = Solution().lengthOfLongestSubstring(s)\n",
    "    print(max_str)\n",
    "    "
   ]
  },
  {
   "cell_type": "code",
   "execution_count": null,
   "metadata": {},
   "outputs": [],
   "source": [
    "def lengthOfLongestSubstring(self, s):\n",
    "        \"\"\"\n",
    "        :type s: str\n",
    "        :rtype: int\n",
    "        \"\"\"\n",
    "        result = \"\"\n",
    "        result_temp = \"\"\n",
    "        for i in range(len(s)+1):\n",
    "            for j in range(i+1,len(s)+1):\n",
    "                if (len(result_temp) <= len(s[i:j])) and  (s[i:j][-1:] not in result_temp):\n",
    "                    result_temp = s[i:j]\n",
    "                else:\n",
    "                    result = result_temp if len(result) < len(result_temp) else result\n",
    "                    result_temp = \"\"\n",
    "                    break\n",
    "        result = result_temp if len(result) < len(result_temp) else result\n",
    "        return len(result)"
   ]
  },
  {
   "cell_type": "code",
   "execution_count": null,
   "metadata": {},
   "outputs": [],
   "source": [
    "s = \"abcabdcef\"\n",
    "s.find('a')\n",
    "s.find('b')"
   ]
  },
  {
   "cell_type": "markdown",
   "metadata": {},
   "source": [
    "#  ugly-number\n",
    "https://leetcode.com/problems/ugly-number/"
   ]
  },
  {
   "cell_type": "code",
   "execution_count": null,
   "metadata": {},
   "outputs": [],
   "source": [
    "class Solution(object):\n",
    "    def nthUglyNumber(self, n):\n",
    "        \"\"\"\n",
    "        :type n: int\n",
    "        :rtype: int\n",
    "        \"\"\"\n",
    "        res = [1]\n",
    "        idx2 = 0\n",
    "        idx3 = 0\n",
    "        idx5 = 0\n",
    "        for i in range(n-1):\n",
    "            res.append(min(res[idx2]*2,res[idx3]*3,res[idx5]*5))\n",
    "            if res[-1] == res[idx2]*2:\n",
    "                idx2 += 1\n",
    "            if res[-1] == res[idx3]*3:\n",
    "                idx3 += 1\n",
    "            if res[-1] == res[idx5]*5:\n",
    "                idx5 += 1\n",
    "        return res[-1]\n",
    "    \n",
    "a = Solution()\n",
    "a.nthUglyNumber(150)"
   ]
  },
  {
   "cell_type": "code",
   "execution_count": null,
   "metadata": {},
   "outputs": [],
   "source": [
    "from heapq import heappush, heappop\n",
    "\n",
    "# Renat Bekbolatov 2018\n",
    "class Solution:\n",
    "    def nthUglyNumber(self, n):\n",
    "        q, counted = [1], {1}\n",
    "        for i in range(n - 1):\n",
    "            m = heappop(q)\n",
    "            for mm in [2*m, 3*m, 5*m]:\n",
    "                if mm not in counted:\n",
    "                    heappush(q, mm)\n",
    "                    counted.add(mm)        \n",
    "        return heappop(q)\n",
    "a = Solution()\n",
    "a.nthUglyNumber(150)"
   ]
  },
  {
   "cell_type": "markdown",
   "metadata": {},
   "source": [
    "# search-insert-position\n",
    "https://leetcode.com/problems/search-insert-position/"
   ]
  },
  {
   "cell_type": "markdown",
   "metadata": {},
   "source": [
    "```md\n",
    "Example 1:\n",
    "\n",
    "Input: [1,3,5,6], 5\n",
    "Output: 2\n",
    "Example 2:\n",
    "\n",
    "Input: [1,3,5,6], 2\n",
    "Output: 1\n",
    "Example 3:\n",
    "\n",
    "Input: [1,3,5,6], 7\n",
    "Output: 4\n",
    "Example 4:\n",
    "\n",
    "Input: [1,3,5,6], 0\n",
    "Output: 0\n",
    "```"
   ]
  },
  {
   "cell_type": "code",
   "execution_count": null,
   "metadata": {},
   "outputs": [],
   "source": [
    "# 思路是：二分法查找某一个元素最终返回的定位值是最接近目标值的位置\n",
    "class Solution():\n",
    "    def searchInsert(self, nums, target: int) -> int: \n",
    "  \n",
    "        n = len(nums)\n",
    "        left = 0\n",
    "        right = n - 1\n",
    "        \n",
    "        if target < nums[0]:\n",
    "            return 0\n",
    "        elif target > nums[n-1]:\n",
    "            return n\n",
    "        else:\n",
    "            # Define the condition when the loop should be broken \n",
    "            while (left <= right):\n",
    "                mid = (left + right ) // 2\n",
    "\n",
    "                if nums[mid] == target:\n",
    "                    return mid\n",
    "\n",
    "                if nums[mid] < target:\n",
    "                    left = mid + 1 \n",
    "                else:\n",
    "                    right = mid - 1\n",
    "        \n",
    "     \n",
    "            if  nums[mid] < target:\n",
    "                #print(mid)\n",
    "                return mid + 1\n",
    "            else:\n",
    "                return mid \n",
    "        \n",
    "a = Solution()\n",
    "arr = [1,3,5,6, 9]\n",
    "a.searchInsert(arr, 4)\n",
    "        "
   ]
  },
  {
   "cell_type": "markdown",
   "metadata": {},
   "source": [
    "# linked-list-cycle\n",
    "https://leetcode.com/problems/linked-list-cycle"
   ]
  },
  {
   "cell_type": "code",
   "execution_count": null,
   "metadata": {},
   "outputs": [],
   "source": [
    "# 快指针速度是慢指针的两倍。终止条件是快指针指向None或者快慢指针相等\n",
    "class solution():\n",
    "    def linkedListHasCycle(self, head) -> bool:\n",
    "        \"\"\"\n",
    "        :type head: ListNode\n",
    "        :rtype: bool\n",
    "        \"\"\"\n",
    "        if head == None:\n",
    "            return False\n",
    "        s = head \n",
    "        f = head\n",
    "        while(f != None): # Will it cause s and f meet again and again?\n",
    "            if f.next == None:\n",
    "                return False\n",
    "            else:\n",
    "                f = f.next.next\n",
    "                s = s.next            \n",
    "            if f == s:\n",
    "                return True \n",
    "        #When f != None doesn't holds\n",
    "        return False\n",
    "        "
   ]
  },
  {
   "cell_type": "code",
   "execution_count": null,
   "metadata": {},
   "outputs": [],
   "source": [
    "class Solution(object):\n",
    "    def hasCycle(self, head):\n",
    "        \"\"\"\n",
    "        :type head: ListNode\n",
    "        :rtype: bool\n",
    "        \"\"\"\n",
    "        if not head: return False\n",
    "        slow, fast = head, head\n",
    "        while fast and fast.next:\n",
    "            slow = slow.next\n",
    "            fast = fast.next.next\n",
    "            if slow is fast:\n",
    "                return True\n",
    "        return False"
   ]
  },
  {
   "cell_type": "code",
   "execution_count": null,
   "metadata": {},
   "outputs": [],
   "source": [
    "# https://leetcode.com/problems/linked-list-cycle/discuss/301358/Python-O(1)-Space-Solution-(Python-36ms)\n",
    "def hasCycle(head):\n",
    "\tnode = head\n",
    "\twhile node:\n",
    "\t\tif node.next == None: return False\n",
    "\t\telif node.next == head: return True\n",
    "\t\ttmp = node.next\n",
    "\t\tnode.next = head\n",
    "\t\tnode = tmp\n",
    "\treturn False"
   ]
  },
  {
   "cell_type": "markdown",
   "metadata": {},
   "source": [
    "# house-robber\n",
    "https://leetcode.com/problems/house-robber/"
   ]
  },
  {
   "cell_type": "markdown",
   "metadata": {},
   "source": [
    "你是一个专业的小偷，计划偷窃沿街的房屋。每间房内都藏有一定的现金，影响你偷窃的唯一制约因素就是相邻的房屋装有相互连通的防盗系统，如果两间相邻的房屋在同一晚上被小偷闯入，系统会自动报警。\n",
    "\n",
    "给定一个代表每个房屋存放金额的非负整数数组，计算你在不触动警报装置的情况下，能够偷窃到的最高金额。\n",
    "\n",
    "示例 1:\n",
    "```md\n",
    "输入: [1,2,3,1]\n",
    "输出: 4\n",
    "解释: 偷窃 1 号房屋 (金额 = 1) ，然后偷窃 3 号房屋 (金额 = 3)。\n",
    "     偷窃到的最高金额 = 1 + 3 = 4 。\n",
    "```\n",
    "示例 2:\n",
    "```md\n",
    "输入: [2,7,9,3,1]\n",
    "输出: 12\n",
    "解释: 偷窃 1 号房屋 (金额 = 2), 偷窃 3 号房屋 (金额 = 9)，接着偷窃 5 号房屋 (金额 = 1)。\n",
    "     偷窃到的最高金额 = 2 + 9 + 1 = 12 。\n",
    "```"
   ]
  },
  {
   "cell_type": "code",
   "execution_count": null,
   "metadata": {},
   "outputs": [],
   "source": [
    "a = [1, 2, 3]\n",
    "len(a[:2])\n",
    "a[:0]"
   ]
  },
  {
   "cell_type": "code",
   "execution_count": null,
   "metadata": {},
   "outputs": [],
   "source": [
    "def rob(nums):\n",
    "    n = len(nums)\n",
    "    if n == 0:\n",
    "        return 0\n",
    "    elif n == 1:\n",
    "        return nums[0]\n",
    "    else:\n",
    "        #print(nums[n-1])\n",
    "        return max(nums[n-1] + rob(nums[:n-2]), rob(nums[:n-1]))\n",
    "nums = [2,7]\n",
    "rob(nums)"
   ]
  },
  {
   "cell_type": "code",
   "execution_count": null,
   "metadata": {},
   "outputs": [],
   "source": [
    "# Time Limit Exceeded\n",
    "class Solution:\n",
    "    def rob(self, nums) -> int:\n",
    "        n = len(nums)\n",
    "        if n == 0:\n",
    "            return 0\n",
    "        elif n == 1:\n",
    "            return nums[0]\n",
    "        else:\n",
    "            return max(nums[n-1] + Solution().rob(nums[:n-2]), Solution().rob(nums[:n-1]))\n",
    "a = Solution()\n",
    "nums = [2,7, 0, 9, 4]\n",
    "a.rob(nums) "
   ]
  },
  {
   "cell_type": "code",
   "execution_count": null,
   "metadata": {},
   "outputs": [],
   "source": [
    "# Time Limit Exceeded\n",
    "class Solution:\n",
    "    def rob(self, nums) -> int:\n",
    "        n = len(nums)\n",
    "        if n == 0:\n",
    "            return 0\n",
    "        elif n == 1:\n",
    "            return nums[0]\n",
    "        else:\n",
    "            a = 0\n",
    "            b = num[0]\n",
    "            i = 2\n",
    "            tem = 0\n",
    "            while (i <= n):\n",
    "                temp = max(tem, num[i])\n",
    "                a, b = b, temp\n",
    "                i += 1\n",
    "            return temp\n",
    "a = Solution()\n",
    "nums = [2,7]\n",
    "a.rob(nums) "
   ]
  },
  {
   "cell_type": "code",
   "execution_count": null,
   "metadata": {},
   "outputs": [],
   "source": [
    "#Runtime: 32 ms, faster than 89.31% of Python3 online submissions for House Robber.\n",
    "#Memory Usage: 13.3 MB, less than 26.55% of Python3 online submissions for House Robber.\n",
    "\n",
    "class Solution:\n",
    "    def rob(self, nums) -> int:\n",
    "        n = len(nums)\n",
    "        if n==0:\n",
    "            return 0\n",
    "        elif len(nums) <= 2:\n",
    "            return max(nums[:2])\n",
    "        cache = [0] * n\n",
    "        cache[0] = nums[0]\n",
    "        cache[1] = max(nums[:2])\n",
    "        \n",
    "        for i in range(2, n):\n",
    "            cache[i] = max(cache[i - 1], cache[i - 2] + nums[i])\n",
    "        \n",
    "        return cache[-1]\n",
    "    \n",
    "a = Solution()\n",
    "nums = [2,7, 2, 3, 6, 1]\n",
    "a.rob(nums) "
   ]
  },
  {
   "cell_type": "markdown",
   "metadata": {},
   "source": [
    "# best-time-to-buy-and-sell-stock\n",
    "https://leetcode.com/problems/best-time-to-buy-and-sell-stock/"
   ]
  },
  {
   "cell_type": "code",
   "execution_count": null,
   "metadata": {},
   "outputs": [],
   "source": [
    "# Time Limit Exceeded\n",
    "class Solution:\n",
    "    def maxProfit(self, prices) -> int:\n",
    "        n = len(prices)\n",
    "        a = 0\n",
    "        for i in range(n-1):\n",
    "            x = sorted(prices[i+1:])\n",
    "            a= max(x[-1]-prices[i], a) \n",
    "        \n",
    "        if a  > 0:\n",
    "            return a\n",
    "        else:\n",
    "            return 0\n",
    "        \n",
    "a = Solution()\n",
    "x = [7,1,5,3,6,4]\n",
    "#x=[7,6,4,3,1]\n",
    "a.maxProfit(x)"
   ]
  },
  {
   "cell_type": "code",
   "execution_count": null,
   "metadata": {},
   "outputs": [],
   "source": [
    "# Time Limit Exceeded\n",
    "class Solution:\n",
    "    def maxProfit(self, prices) -> int:\n",
    "        n = len(prices)\n",
    "        a = 0\n",
    "        x = sorted(prices)\n",
    "        for i in range(n-1):\n",
    "            for j in range(i+1, n):\n",
    "                a = max(prices[j]-prices[i], a)\n",
    "        \n",
    "        if a  > 0:\n",
    "            return a\n",
    "        else:\n",
    "            return 0\n",
    "\n",
    "a = Solution()\n",
    "#x = [7,1,5,3,6,4]\n",
    "x=[7,6,4,3,1]\n",
    "a.maxProfit(x)"
   ]
  },
  {
   "cell_type": "code",
   "execution_count": null,
   "metadata": {},
   "outputs": [],
   "source": [
    "class Solution(object):\n",
    "    def maxProfit(self, prices):\n",
    "        max = 0\n",
    "        lowest = 2 ** 31 - 1\n",
    "        for price in prices:\n",
    "            if price < lowest:\n",
    "                lowest = price\n",
    "            if price - lowest > max:\n",
    "                max = price - lowest\n",
    "        return max\n",
    "a = Solution()\n",
    "x = [7,1,5,3,6,4]\n",
    "#x=[7,6,4,3,1]\n",
    "a.maxProfit(x)"
   ]
  },
  {
   "cell_type": "code",
   "execution_count": null,
   "metadata": {},
   "outputs": [],
   "source": [
    "# Runtime: 56 ms, faster than 13.48% of Python3 online submissions for Best Time to Buy and Sell Stock.\n",
    "# Memory Usage: 14 MB, less than 32.89% of Python3 online submissions for Best Time to Buy and Sell Stock.\n",
    "   \n",
    "# Runtime: 28 ms, faster than 99.74% of Python3 online submissions for Best Time to Buy and Sell Stock.\n",
    "# Memory Usage: 14.1 MB, less than 19.02% of Python3 online submissions for Best Time to Buy and Sell Stock.\n",
    "class Solution:\n",
    "    def maxProfit(self, prices) -> int:\n",
    "        max = 0\n",
    "        # Using the implicit booleanness of the empty list is quite pythonic.\n",
    "        if prices:\n",
    "            _min = prices[0]\n",
    "        else:\n",
    "            return 0\n",
    "\n",
    "        for index, item in enumerate(prices):\n",
    "            if item < _min:\n",
    "                _min = item\n",
    "            elif item - _min > max:\n",
    "                max = item - _min        \n",
    "        return max"
   ]
  },
  {
   "cell_type": "code",
   "execution_count": null,
   "metadata": {},
   "outputs": [],
   "source": [
    "class Solution:\n",
    "    def maxProfit(self, prices) -> int:\n",
    "        max = 0\n",
    "        # Using the implicit booleanness of the empty list is quite pythonic.\n",
    "        if prices:\n",
    "            _min = prices[0]\n",
    "        else:\n",
    "            return 0\n",
    "\n",
    "        for index, item in enumerate(prices):\n",
    "            if item < _min:\n",
    "                _min = item\n",
    "                minIndex = index\n",
    "            elif item - _min > max:\n",
    "                max = item - _min\n",
    "                maxIndex = index\n",
    "        return (max, [minIndex, maxIndex])\n",
    "a = Solution()\n",
    "x = [7,1,5,3,6,4]\n",
    "#x=[7,6,4,3,1]\n",
    "a.maxProfit(x)"
   ]
  },
  {
   "cell_type": "markdown",
   "metadata": {},
   "source": [
    "# maximum-subarray\n",
    "https://leetcode.com/problems/maximum-subarray/"
   ]
  },
  {
   "cell_type": "markdown",
   "metadata": {},
   "source": [
    "```md\n",
    "Input: [-2,1,-3,4,-1,2,1,-5,4],\n",
    "Output: 6\n",
    "Explanation: [4,-1,2,1] has the largest sum = 6.\n",
    "```"
   ]
  },
  {
   "cell_type": "code",
   "execution_count": null,
   "metadata": {},
   "outputs": [],
   "source": [
    "nums=[1,2,2,1]\n",
    "nums[0:3]"
   ]
  },
  {
   "cell_type": "code",
   "execution_count": null,
   "metadata": {},
   "outputs": [],
   "source": [
    "class Solution:\n",
    "    def maxSubArray(self, nums):\n",
    "        min_sum = min(0, nums[0])\n",
    "        max_substr = nums[0]\n",
    "        sum = nums[0]\n",
    "        for i in range(1, len(nums)):\n",
    "            sum = sum + nums[i]\n",
    "            max_substr = max(sum - min_sum, max_substr)\n",
    "            min_sum = min(min_sum, sum)\n",
    "        return max_substr"
   ]
  },
  {
   "cell_type": "markdown",
   "metadata": {},
   "source": [
    "# word-break\n",
    "https://leetcode.com/problems/word-break/"
   ]
  },
  {
   "cell_type": "code",
   "execution_count": null,
   "metadata": {},
   "outputs": [],
   "source": [
    "class Solution:\n",
    "    def wordBreak(self, s: str, wordDict) -> bool:\n",
    "        "
   ]
  },
  {
   "cell_type": "markdown",
   "metadata": {},
   "source": [
    "```cpp\n",
    "class Solution {\n",
    "    public:\n",
    "        bool wordBreak(string_view s, vector<string>& wordDict) {\n",
    "            set<string_view> words = {move(wordDict.begin()), move(wordDict.end())};\n",
    "            return DFS(s, words);\n",
    "        }\n",
    "        bool DFS(const string_view s, const set<string_view>& wordDict) {\n",
    "            if (s.empty()) return true;\n",
    "            if ( (it_dp = dp.lower_bound(s) )->first == s ) return (*it_dp).second;\n",
    "            bool found = false;\n",
    "            for(int i = 1; i <= s.size() && !found; i++) {\n",
    "                /* I want use lower_bound. But leetcode do not agree/\n",
    "                   if u know, why lower_bound can't use here - pls write me :)\n",
    "                */\n",
    "               if( binary_search(wordDict.begin(), wordDict.end(), s.substr(0, i))  ) {\n",
    "                    found |= this->DFS(s.substr(i, s.size()-i), wordDict);\n",
    "                }\n",
    "            }\n",
    "            dp[s] = found;\n",
    "            return found;\n",
    "        }\n",
    "    private:\n",
    "        map<string_view, bool> dp;\n",
    "        map<string_view, bool>::iterator it_dp;\n",
    "};\n",
    "```              "
   ]
  },
  {
   "cell_type": "markdown",
   "metadata": {},
   "source": [
    "# coin-change\n",
    "https://leetcode.com/problems/coin-change/"
   ]
  },
  {
   "cell_type": "code",
   "execution_count": null,
   "metadata": {},
   "outputs": [],
   "source": [
    "class Solution:\n",
    "    def coinChange(self, coins, amount: int) -> int:\n",
    "        \n",
    "        "
   ]
  },
  {
   "cell_type": "markdown",
   "metadata": {},
   "source": [
    "# maximum-length-of-pair-chain\n",
    "https://leetcode-cn.com/problems/maximum-length-of-pair-chain"
   ]
  },
  {
   "cell_type": "code",
   "execution_count": null,
   "metadata": {},
   "outputs": [],
   "source": [
    "class Solution:\n",
    "    def findLongestChain(self, pairs: [[int]]) -> int:\n",
    "        a = sorted(pairs)\n",
    "        h = a[0]\n",
    "        ans = []\n",
    "        for block in a[1:]:\n",
    "            if h[1] < block[0]:\n",
    "                ans.append(h)\n",
    "                h = block\n",
    "            elif h[1] > block[1]:\n",
    "                h = block\n",
    "        return len(ans) + 1"
   ]
  },
  {
   "cell_type": "code",
   "execution_count": null,
   "metadata": {},
   "outputs": [],
   "source": [
    "def generateATestNestedList(m, n):\n",
    "    x = [i for i in range(m)]\n",
    "    y =[random.sample(x, 2) for _ in range(n)] \n",
    "    for i in y:\n",
    "        if i[0]> i[1]:\n",
    "            i[0], i[1]= i[1], i[0]   \n",
    "    return y \n",
    "\n",
    "pairs = generateATestNestedList(100, 20)\n",
    "\n"
   ]
  },
  {
   "cell_type": "code",
   "execution_count": null,
   "metadata": {},
   "outputs": [],
   "source": [
    "test=Solution()\n",
    "test.findLongestChain(pairs)"
   ]
  },
  {
   "cell_type": "markdown",
   "metadata": {},
   "source": [
    "# Max element of sublist "
   ]
  },
  {
   "cell_type": "code",
   "execution_count": null,
   "metadata": {},
   "outputs": [],
   "source": [
    "def windowMax(listi, m):\n",
    "    # the part of this list at positions >= qs is a deque\n",
    "    # with elements monotonically decreasing.  Each one\n",
    "    # may be the max in a window at some point\n",
    "    q = []\n",
    "    qs = 0\n",
    "\n",
    "    listo=[]\n",
    "    for i in range(len(listi)):\n",
    "\n",
    "        # remove items from the end of the q that are <= the new one\n",
    "        while len(q) > qs and listi[q[-1]] <= listi[i]:\n",
    "            del q[-1]\n",
    "\n",
    "        # add new item\n",
    "        q.append(i)\n",
    "        print('q is : {} qs is {}'.format(q, qs))\n",
    "\n",
    "        if i >= m-1:\n",
    "            listo.append(listi[q[qs]])\n",
    "            \n",
    "            # element falls off start of window\n",
    "            if i-q[qs] >= m-1:\n",
    "                qs+=1\n",
    "\n",
    "        # don't waste storage in q. This doesn't change the deque\n",
    "        if qs > m:\n",
    "            del q[0:m]\n",
    "            qs -= m\n",
    "    return listo"
   ]
  },
  {
   "cell_type": "code",
   "execution_count": null,
   "metadata": {},
   "outputs": [],
   "source": [
    "listi = [random.randint(1, 10) for _ in range(10)]\n",
    "listi "
   ]
  },
  {
   "cell_type": "code",
   "execution_count": null,
   "metadata": {},
   "outputs": [],
   "source": [
    "windowMax(listi,3)"
   ]
  },
  {
   "cell_type": "code",
   "execution_count": null,
   "metadata": {},
   "outputs": [],
   "source": [
    "def windowMax(listi, m):\n",
    "    q = []\n",
    "    qs = 0\n",
    "    listo = []\n",
    "    for i in range(len(listi)):\n",
    "        while len(q) > qs and listi[q[-1]] <= listi[i]:\n",
    "            del q[-1]\n",
    "        q.append(i)\n",
    "        if i >= m - 1:\n",
    "            listo.append(listi[q[qs]])\n",
    "            if i - q[qs] >= m - 1:\n",
    "                qs += 1\n",
    "        if qs > m:\n",
    "            del q[0:m]\n",
    "            qs -= m\n",
    "    return listo"
   ]
  },
  {
   "cell_type": "code",
   "execution_count": null,
   "metadata": {},
   "outputs": [],
   "source": [
    "import timeit\n",
    "\n",
    "setup = \"\"\"\n",
    "from random import randint\n",
    "listi = [randint(1,100) for _ in range(1000)]\n",
    "\n",
    "def convert(iterable, m):\n",
    "    t = [iterable[x:] for x in range(m)]\n",
    "    result = [max(combo) for combo in zip(*t)]\n",
    "    return result\"\"\"\n",
    "\n",
    "print (min(timeit.Timer('a=listi; convert(a,3)', setup=setup).repeat(7, 1000)))\n",
    "#0.250054761\n",
    "\n",
    "\n",
    "setup2 = \"\"\"\n",
    "from random import randint\n",
    "listi = [randint(1,100) for _ in range(1000)]\n",
    "\n",
    "def convert2(listi, m):\n",
    "    listo = []\n",
    "    n = len(listi)\n",
    "    for i in range(n-m+1):\n",
    "        listo.append(max(listi[i:3+i]))\n",
    "    return listo\"\"\"\n",
    "\n",
    "print (min(timeit.Timer('a=listi; convert2(a,3)', setup=setup2).repeat(7, 1000)))\n",
    "#0.400374625"
   ]
  },
  {
   "cell_type": "code",
   "execution_count": null,
   "metadata": {},
   "outputs": [],
   "source": [
    "a = np.random.rand(10,2,2)"
   ]
  },
  {
   "cell_type": "code",
   "execution_count": null,
   "metadata": {},
   "outputs": [],
   "source": [
    "a "
   ]
  },
  {
   "cell_type": "code",
   "execution_count": null,
   "metadata": {},
   "outputs": [],
   "source": [
    "def test(i):\n",
    "    return i.shape\n",
    "b  = np.array([test(i) for i in a])"
   ]
  },
  {
   "cell_type": "code",
   "execution_count": null,
   "metadata": {},
   "outputs": [],
   "source": [
    "b "
   ]
  },
  {
   "cell_type": "code",
   "execution_count": null,
   "metadata": {},
   "outputs": [],
   "source": [
    "a.shape"
   ]
  },
  {
   "cell_type": "code",
   "execution_count": null,
   "metadata": {},
   "outputs": [],
   "source": [
    "x = np.array([[[0.21249509, 0.37629464],\n",
    "        [0.74894616, 0.77877133]],\n",
    "\n",
    "       [[0.99693998, 0.37415176],\n",
    "        [0.98538893, 0.80730639],\n",
    "        [0.98538893, 0.80730639]]])"
   ]
  },
  {
   "cell_type": "code",
   "execution_count": null,
   "metadata": {},
   "outputs": [],
   "source": [
    "x.shape"
   ]
  },
  {
   "cell_type": "code",
   "execution_count": null,
   "metadata": {},
   "outputs": [],
   "source": [
    "import numpy as np\n",
    "\n",
    "class test_object:\n",
    "\n",
    "    def __init__(self, val=1):\n",
    "        self.value = val\n",
    "\n",
    "    @staticmethod\n",
    "    def generate(number=5):\n",
    "\n",
    "        # create list of test_objects\n",
    "        obj = [test_object(val=i) for i in range(number)]\n",
    "\n",
    "        return obj\n",
    "\n",
    "    def powers(self, pow=2):\n",
    "        return self.value**pow\n",
    "\n",
    "\n",
    "numbers = test_object.generate(number=10)\n",
    "\n",
    "array = np.zeros(len(numbers))\n",
    "\n",
    "for i in range(len(numbers)):\n",
    "    array[i] = numbers[i].powers()\n",
    "\n",
    "print(array)"
   ]
  },
  {
   "cell_type": "code",
   "execution_count": null,
   "metadata": {},
   "outputs": [],
   "source": [
    "np.power(np.array([1,2,3]),2)"
   ]
  },
  {
   "cell_type": "code",
   "execution_count": null,
   "metadata": {},
   "outputs": [],
   "source": [
    "import numpy as np\n",
    "\n",
    "class test_object:\n",
    "\n",
    "    def __init__(self, val=1):\n",
    "        self.value = val\n",
    "\n",
    "    @staticmethod\n",
    "    def generate(number=5):\n",
    "\n",
    "        # create list of test_objects\n",
    "        obj = [test_object(val=i) for i in range(number)]\n",
    "\n",
    "        return obj\n",
    "\n",
    "    def powers(self, pow=2):\n",
    "        return self.value**pow\n",
    "\n",
    "\n",
    "numbers = test_object.generate(number=10)\n",
    "\n",
    "array = np.zeros(len(numbers))\n",
    "\n",
    "for i in range(len(numbers)):\n",
    "    array[i] = numbers[i].powers()\n",
    "\n",
    "print(array)"
   ]
  },
  {
   "cell_type": "code",
   "execution_count": null,
   "metadata": {},
   "outputs": [],
   "source": [
    "def recursive_binary_search(arr, target):\n",
    "    # Divide array in half\n",
    "    mid_idx = len(arr) // 2\n",
    "    # Check if first element in new array is target\n",
    "    if arr[mid_idx] == target:\n",
    "        # If so, return that element's index\n",
    "        return mid_idx\n",
    "    else:\n",
    "        #   If target is greater than that element, return right side of array\n",
    "        if target > arr[mid_idx]:\n",
    "            return recursive_binary_search((arr[mid_idx:]), target)\n",
    "        else:\n",
    "            #   Otherwise, return left side of array\n",
    "            return recursive_binary_search((arr[:mid_idx]), target)"
   ]
  },
  {
   "cell_type": "code",
   "execution_count": null,
   "metadata": {},
   "outputs": [],
   "source": [
    "recursive_binary_search([1,2,4,5], 5)"
   ]
  },
  {
   "cell_type": "code",
   "execution_count": null,
   "metadata": {},
   "outputs": [],
   "source": [
    "def searchRange( nums, target):\n",
    "    n = len(nums)\n",
    "    left = 0\n",
    "    right = n - 1\n",
    "    while (left <= right):\n",
    "        mid = (left + right) // 2\n",
    "        if nums[mid] < target:\n",
    "            left = mid + 1\n",
    "        elif nums[mid] > target:\n",
    "            right = mid - 1\n",
    "        else:\n",
    "            p1 = mid\n",
    "            p2 = mid\n",
    "\n",
    "            while (p1 > -1 and nums[p1] == target):\n",
    "                p1 -= 1\n",
    "            while (p2 < n and nums[p2] == target):\n",
    "                p2 += 1\n",
    "            if p1 != mid and p2 != mid:\n",
    "                return [p1 + 1, p2 - 1]\n",
    "            elif p1 != mid and p2 == mid:\n",
    "                return [p1 + 1, p2]\n",
    "            elif p1 == mid and p2 != mid:\n",
    "                return [p1, p2 - 1]\n",
    "            else:\n",
    "                return [p1, p2]\n",
    "    return [-1, -1]"
   ]
  },
  {
   "cell_type": "code",
   "execution_count": null,
   "metadata": {},
   "outputs": [],
   "source": [
    "searchRange([1,2,4,5,6,6,6,7],6)"
   ]
  }
 ],
 "metadata": {
  "hide_input": false,
  "kernelspec": {
   "display_name": "Python 3",
   "language": "python",
   "name": "python3"
  },
  "language_info": {
   "codemirror_mode": {
    "name": "ipython",
    "version": 3
   },
   "file_extension": ".py",
   "mimetype": "text/x-python",
   "name": "python",
   "nbconvert_exporter": "python",
   "pygments_lexer": "ipython3",
   "version": "3.7.2"
  },
  "toc": {
   "base_numbering": 1,
   "nav_menu": {},
   "number_sections": true,
   "sideBar": true,
   "skip_h1_title": false,
   "title_cell": "Table of Contents",
   "title_sidebar": "Contents",
   "toc_cell": false,
   "toc_position": {
    "height": "calc(100% - 180px)",
    "left": "10px",
    "top": "150px",
    "width": "180.59375px"
   },
   "toc_section_display": true,
   "toc_window_display": true
  },
  "varInspector": {
   "cols": {
    "lenName": 16,
    "lenType": 16,
    "lenVar": 40
   },
   "kernels_config": {
    "python": {
     "delete_cmd_postfix": "",
     "delete_cmd_prefix": "del ",
     "library": "var_list.py",
     "varRefreshCmd": "print(var_dic_list())"
    },
    "r": {
     "delete_cmd_postfix": ") ",
     "delete_cmd_prefix": "rm(",
     "library": "var_list.r",
     "varRefreshCmd": "cat(var_dic_list()) "
    }
   },
   "types_to_exclude": [
    "module",
    "function",
    "builtin_function_or_method",
    "instance",
    "_Feature"
   ],
   "window_display": false
  }
 },
 "nbformat": 4,
 "nbformat_minor": 2
}
