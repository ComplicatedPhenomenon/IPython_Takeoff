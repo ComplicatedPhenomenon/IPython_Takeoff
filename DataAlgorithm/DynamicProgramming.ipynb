{
 "cells": [
  {
   "cell_type": "code",
   "execution_count": null,
   "metadata": {},
   "outputs": [],
   "source": [
    "from IPython.core.interactiveshell import InteractiveShell\n",
    "InteractiveShell.ast_node_interactivity = \"all\""
   ]
  },
  {
   "cell_type": "markdown",
   "metadata": {},
   "source": [
    "# Dynamical programming "
   ]
  },
  {
   "cell_type": "markdown",
   "metadata": {},
   "source": [
    "## Recursion https://cxyxiaowu.com/articles/2019/04/04/1554345266086.html"
   ]
  },
  {
   "cell_type": "code",
   "execution_count": null,
   "metadata": {},
   "outputs": [],
   "source": [
    "def f(n):\n",
    "    if n == 1:\n",
    "        return 1\n",
    "    elif n == 2:\n",
    "        return 2\n",
    "    else:\n",
    "        return f(n-1)+f(n-2)"
   ]
  },
  {
   "cell_type": "code",
   "execution_count": null,
   "metadata": {},
   "outputs": [],
   "source": [
    "f(35)"
   ]
  },
  {
   "attachments": {},
   "cell_type": "markdown",
   "metadata": {},
   "source": [
    "```md\n",
    "f(n) = f(n-1)+f(n-2) \n",
    "     = f(n-2)+f(n-3)+f(n-3)+f(n-4)\n",
    "```\n",
    "\n",
    "![image.png](attachment:image.png)\n",
    "\n",
    "1. 找到如何将大问题分解为小问题的规律\n",
    "2. 通过规律写出递推公式\n",
    "3. 通过递归公式的临界点推敲出终止条件\n",
    "4. 将递推公式和终止条件翻译成代码\n",
    "\n",
    "```c\n",
    "int f(int n) {\n",
    "    if (n == 1) return 1;\n",
    "    if (n == 2) return 2;\n",
    "    // a 保存倒数第二个子状态数据，b 保存倒数第一个子状态数据， temp 保存当前状态的数据\n",
    "    int a = 1, b = 2;\n",
    "    int temp = a + b;\n",
    "    for (int i = 3; i <= n; i++) {\n",
    "        temp = a + b;\n",
    "        a = b;\n",
    "        b = temp; \n",
    "    }\n",
    "    return temp; \n",
    "}\n",
    "```"
   ]
  },
  {
   "cell_type": "code",
   "execution_count": null,
   "metadata": {},
   "outputs": [],
   "source": [
    "def f(n):\n",
    "    if n == 1:\n",
    "        return 1\n",
    "    elif n == 2:\n",
    "        return 2\n",
    "\n",
    "    else:\n",
    "        a = 1\n",
    "        b = 2\n",
    "        i = 3\n",
    "        while (i <= n):\n",
    "            temp = a +b \n",
    "            a, b = b, temp\n",
    "            i += 1\n",
    "        return temp"
   ]
  },
  {
   "cell_type": "code",
   "execution_count": null,
   "metadata": {},
   "outputs": [],
   "source": [
    "f(100)"
   ]
  },
  {
   "cell_type": "markdown",
   "metadata": {},
   "source": [
    "# Longest unrepeated substring"
   ]
  },
  {
   "cell_type": "code",
   "execution_count": null,
   "metadata": {},
   "outputs": [],
   "source": [
    "s = 'asskajw'\n",
    "sList = list(s)"
   ]
  },
  {
   "cell_type": "code",
   "execution_count": null,
   "metadata": {},
   "outputs": [],
   "source": [
    "sList \n",
    "s[1]"
   ]
  },
  {
   "cell_type": "code",
   "execution_count": null,
   "metadata": {},
   "outputs": [],
   "source": [
    "sDict = {}\n",
    "start = 0\n",
    "for index, value in enumerate(sList): \n",
    "    if value not in sDict:\n",
    "        end = index\n",
    "        ans = end - start + 1  \n",
    "    else:\n",
    "        start = index\n",
    "        ans = max(end - start + 1, ans)\n",
    "    sDict[index] = value\n",
    "        \n",
    "sDict\n",
    "ans"
   ]
  },
  {
   "cell_type": "code",
   "execution_count": null,
   "metadata": {},
   "outputs": [],
   "source": [
    "'a'  in sDict.values()"
   ]
  },
  {
   "cell_type": "code",
   "execution_count": null,
   "metadata": {},
   "outputs": [],
   "source": [
    "sDict.values()"
   ]
  },
  {
   "cell_type": "markdown",
   "metadata": {},
   "source": [
    "## 滑动窗口\n",
    "* https://leetcode-cn.com/problems/longest-substring-without-repeating-characters/solution/hua-dong-chuang-kou-by-powcai/"
   ]
  },
  {
   "cell_type": "code",
   "execution_count": null,
   "metadata": {},
   "outputs": [],
   "source": [
    "def lengthOfLongestSubstring( s: str) -> int: # the -> int just tells that f() returns an integer.\n",
    "    # : str tells people who read the program (and some third-party libraries/programs, e. g. pylint) \n",
    "    # that s should be a str\n",
    "    if not s:return 0\n",
    "    left = 0\n",
    "    lookup = set()\n",
    "    n = len(s)\n",
    "    max_len = 0\n",
    "    cur_len = 0\n",
    "    for i in range(n):\n",
    "        cur_len += 1\n",
    "        #print('s[{}]={}'.format(i, s[i]))\n",
    "        while s[i] in lookup:\n",
    "            #print(\"s[{}]= {}\".format(left, s[left]))\n",
    "            lookup.remove(s[left])\n",
    "            \n",
    "            #print('lookup = {}'.format(lookup))\n",
    "            left += 1\n",
    "            cur_len -= 1\n",
    "        if cur_len > max_len: max_len = cur_len\n",
    "        lookup.add(s[i]) \n",
    "        print('lookup = {}'.format(lookup))\n",
    "    return max_len\n",
    "lengthOfLongestSubstring('abcadefga')"
   ]
  },
  {
   "cell_type": "code",
   "execution_count": null,
   "metadata": {},
   "outputs": [],
   "source": [
    "a = set([1,2, 5, 3,4,1,3,5])\n",
    "a \n",
    "a.add('a')\n",
    "a\n",
    "a.add('c')\n",
    "a.add('b')\n",
    "a \n",
    "a.remove(1)\n",
    "a \n",
    "a = [2, 3, 4, 5, 'a', 'b', 'c']\n",
    "a.index(2)\n",
    "a.remove(1)"
   ]
  },
  {
   "cell_type": "markdown",
   "metadata": {},
   "source": [
    "## 进栈法"
   ]
  },
  {
   "cell_type": "code",
   "execution_count": null,
   "metadata": {},
   "outputs": [],
   "source": [
    "class Solution(object):\n",
    "    #此解法为进栈法\n",
    "    def lengthOfLongestSubstring(self, s):\n",
    "        \"\"\"\n",
    "        :type s: str\n",
    "        :rtype: int\n",
    "        \"\"\"\n",
    "        #获取字符串s对应的列表\n",
    "        s_to_list = list(s)\n",
    "        stack = []\n",
    "        max_length = 0\n",
    "        for value in s_to_list:\n",
    "            #如果stack栈中不包含index元素，则可以进栈           \n",
    "            if value not in stack:\n",
    "                stack.append(value)           \n",
    "                max_length = max(max_length, len(stack))\n",
    "            #如果stack栈中包含index元素，则要将前面index元素之前的数都得拿出栈\n",
    "            else:\n",
    "                start = stack.index(value)\n",
    "                stack[:] = stack[start+1:]\n",
    "                #stack = stack[start+1:]\n",
    "                stack.append(value)\n",
    "            print('stack = {}'.format(stack))\n",
    "        return max_length\n",
    "\n",
    "\n",
    "if __name__ == \"__main__\":\n",
    "    s = \"abcabdcef\"\n",
    "    # s = \"abcab\"\n",
    "    max_str = Solution().lengthOfLongestSubstring(s)\n",
    "    print(max_str)"
   ]
  },
  {
   "cell_type": "markdown",
   "metadata": {},
   "source": [
    "* https://leetcode.com/problems/longest-substring-without-repeating-characters/discuss/307810/Python-O(n)-times-48ms-beat-99.86"
   ]
  },
  {
   "cell_type": "code",
   "execution_count": null,
   "metadata": {},
   "outputs": [],
   "source": [
    "class Solution():\n",
    "    def lengthOfLongestSubstring(self, s: str) -> int:\n",
    "        # Initialization\n",
    "        substring, length, max_len = \"\", 0, 0\n",
    "        # At the beginning, our substring is empty. Then \n",
    "        # we can iteratively add new characters to the substring. \n",
    "        for c in s:\n",
    "            # If duplicated characters appear, we have to cut off \n",
    "            # all the letters before the duplicated one, including \n",
    "            # the one that is duplicated, from our substring, in \n",
    "            # order to keep our substring continuous. \n",
    "            if c in substring:\n",
    "                index = substring.find(c)\n",
    "                substring = substring[(index + 1)::]\n",
    "            # Then we are able to add new character to our substring\n",
    "            # to make sure that there is no duplicated characters and \n",
    "            # the substring itself is continuous.\n",
    "            substring += c\n",
    "            # For every iteration, we compute the length of substring\n",
    "            length = len(substring)\n",
    "            # Leave the max value of length for returning\n",
    "            if length > max_len:\n",
    "                max_len = length\n",
    "\n",
    "        return max_len\n",
    "if __name__ == \"__main__\":\n",
    "    s = \"abcabdcef\"\n",
    "    # s = \"abcab\"\n",
    "    max_str = Solution().lengthOfLongestSubstring(s)\n",
    "    print(max_str)\n",
    "    "
   ]
  },
  {
   "cell_type": "code",
   "execution_count": null,
   "metadata": {},
   "outputs": [],
   "source": [
    "class Solution():\n",
    "    def lengthOfLongestSubstring(self, s: str) -> int:\n",
    "        substring, length, max_len = \"\", 0, 0\n",
    "        for c in s:\n",
    "            if c in substring:\n",
    "                index = substring.find(c)\n",
    "                substring = substring[(index + 1)::]\n",
    "            substring += c\n",
    "            length = len(substring)\n",
    "            if length > max_len:\n",
    "                max_len = length\n",
    "\n",
    "        return max_len\n",
    "if __name__ == \"__main__\":\n",
    "    s = \"abcdefa\"\n",
    "    # s = \"abcab\"\n",
    "    max_str = Solution().lengthOfLongestSubstring(s)\n",
    "    print(max_str)\n",
    "    "
   ]
  },
  {
   "cell_type": "code",
   "execution_count": null,
   "metadata": {},
   "outputs": [],
   "source": [
    "s = \"abcabdcef\"\n",
    "s.find('a')\n",
    "s.find('b')"
   ]
  },
  {
   "cell_type": "markdown",
   "metadata": {},
   "source": [
    "# Ugly number"
   ]
  },
  {
   "cell_type": "code",
   "execution_count": null,
   "metadata": {},
   "outputs": [],
   "source": [
    "class Solution(object):\n",
    "    def nthUglyNumber(self, n):\n",
    "        \"\"\"\n",
    "        :type n: int\n",
    "        :rtype: int\n",
    "        \"\"\"\n",
    "        res = [1]\n",
    "        idx2 = 0\n",
    "        idx3 = 0\n",
    "        idx5 = 0\n",
    "        for i in range(n-1):\n",
    "            res.append(min(res[idx2]*2,res[idx3]*3,res[idx5]*5))\n",
    "            if res[-1] == res[idx2]*2:\n",
    "                idx2 += 1\n",
    "            if res[-1] == res[idx3]*3:\n",
    "                idx3 += 1\n",
    "            if res[-1] == res[idx5]*5:\n",
    "                idx5 += 1\n",
    "        return res[-1]\n",
    "    \n",
    "a = Solution()\n",
    "a.nthUglyNumber(150)"
   ]
  },
  {
   "cell_type": "code",
   "execution_count": null,
   "metadata": {},
   "outputs": [],
   "source": [
    "from heapq import heappush, heappop\n",
    "\n",
    "# Renat Bekbolatov 2018\n",
    "class Solution:\n",
    "    def nthUglyNumber(self, n):\n",
    "        q, counted = [1], {1}\n",
    "        for i in range(n - 1):\n",
    "            m = heappop(q)\n",
    "            for mm in [2*m, 3*m, 5*m]:\n",
    "                if mm not in counted:\n",
    "                    heappush(q, mm)\n",
    "                    counted.add(mm)        \n",
    "        return heappop(q)\n",
    "a = Solution()\n",
    "a.nthUglyNumber(150)"
   ]
  },
  {
   "cell_type": "markdown",
   "metadata": {},
   "source": [
    "# https://leetcode.com/problems/search-insert-position/"
   ]
  },
  {
   "cell_type": "markdown",
   "metadata": {},
   "source": [
    "```md\n",
    "Example 1:\n",
    "\n",
    "Input: [1,3,5,6], 5\n",
    "Output: 2\n",
    "Example 2:\n",
    "\n",
    "Input: [1,3,5,6], 2\n",
    "Output: 1\n",
    "Example 3:\n",
    "\n",
    "Input: [1,3,5,6], 7\n",
    "Output: 4\n",
    "Example 4:\n",
    "\n",
    "Input: [1,3,5,6], 0\n",
    "Output: 0\n",
    "```"
   ]
  },
  {
   "cell_type": "code",
   "execution_count": null,
   "metadata": {},
   "outputs": [],
   "source": [
    "# 思路是：二分法查找某一个元素最终返回的定位值是最接近目标值的位置\n",
    "class Solution():\n",
    "    def searchInsert(self, nums, target: int) -> int: \n",
    "  \n",
    "        n = len(nums)\n",
    "        left = 0\n",
    "        right = n - 1\n",
    "        \n",
    "        if target < nums[0]:\n",
    "            return 0\n",
    "        elif target > nums[n-1]:\n",
    "            return n\n",
    "        else:\n",
    "            # Define the condition when the loop should be broken \n",
    "            while (left <= right):\n",
    "                mid = (left + right ) // 2\n",
    "\n",
    "                if nums[mid] == target:\n",
    "                    return mid\n",
    "\n",
    "                if nums[mid] < target:\n",
    "                    left = mid + 1 \n",
    "                else:\n",
    "                    right = mid - 1\n",
    "        \n",
    "     \n",
    "            if  nums[mid] < target:\n",
    "                #print(mid)\n",
    "                return mid + 1\n",
    "            else:\n",
    "                return mid \n",
    "        \n",
    "a = Solution()\n",
    "arr = [1,3,5,6, 9]\n",
    "a.searchInsert(arr, 4)\n",
    "        "
   ]
  },
  {
   "cell_type": "markdown",
   "metadata": {},
   "source": [
    "# https://leetcode.com/problems/linked-list-cycle"
   ]
  },
  {
   "cell_type": "code",
   "execution_count": null,
   "metadata": {},
   "outputs": [],
   "source": [
    "# 快指针速度是慢指针的两倍。终止条件是快指针指向None或者快慢指针相等\n",
    "class solution():\n",
    "    def linkedListHasCycle(self, head) -> bool:\n",
    "        \"\"\"\n",
    "        :type head: ListNode\n",
    "        :rtype: bool\n",
    "        \"\"\"\n",
    "        if head == None:\n",
    "            return False\n",
    "        s = head \n",
    "        f = head\n",
    "        while(f != None): # Will it cause s and f meet again and again?\n",
    "            if f.next == None:\n",
    "                return False\n",
    "            else:\n",
    "                f = f.next.next\n",
    "                s = s.next            \n",
    "            if f == s:\n",
    "                return True \n",
    "        #When f != None doesn't holds\n",
    "        return False\n",
    "        "
   ]
  },
  {
   "cell_type": "code",
   "execution_count": null,
   "metadata": {},
   "outputs": [],
   "source": [
    "class Solution(object):\n",
    "    def hasCycle(self, head):\n",
    "        \"\"\"\n",
    "        :type head: ListNode\n",
    "        :rtype: bool\n",
    "        \"\"\"\n",
    "        if not head: return False\n",
    "        slow, fast = head, head\n",
    "        while fast and fast.next:\n",
    "            slow = slow.next\n",
    "            fast = fast.next.next\n",
    "            if slow is fast:\n",
    "                return True\n",
    "        return False"
   ]
  },
  {
   "cell_type": "code",
   "execution_count": null,
   "metadata": {},
   "outputs": [],
   "source": [
    "# https://leetcode.com/problems/linked-list-cycle/discuss/301358/Python-O(1)-Space-Solution-(Python-36ms)\n",
    "def hasCycle(head):\n",
    "\tnode = head\n",
    "\twhile node:\n",
    "\t\tif node.next == None: return False\n",
    "\t\telif node.next == head: return True\n",
    "\t\ttmp = node.next\n",
    "\t\tnode.next = head\n",
    "\t\tnode = tmp\n",
    "\treturn False"
   ]
  },
  {
   "cell_type": "markdown",
   "metadata": {},
   "source": [
    "* Creation of Linked list\n",
    "* head\n",
    "* node\n",
    "* next"
   ]
  }
 ],
 "metadata": {
  "hide_input": false,
  "kernelspec": {
   "display_name": "Python 3",
   "language": "python",
   "name": "python3"
  },
  "language_info": {
   "codemirror_mode": {
    "name": "ipython",
    "version": 3
   },
   "file_extension": ".py",
   "mimetype": "text/x-python",
   "name": "python",
   "nbconvert_exporter": "python",
   "pygments_lexer": "ipython3",
   "version": "3.7.2"
  },
  "toc": {
   "base_numbering": 1,
   "nav_menu": {},
   "number_sections": true,
   "sideBar": true,
   "skip_h1_title": false,
   "title_cell": "Table of Contents",
   "title_sidebar": "Contents",
   "toc_cell": false,
   "toc_position": {
    "height": "calc(100% - 180px)",
    "left": "10px",
    "top": "150px",
    "width": "281.59375px"
   },
   "toc_section_display": true,
   "toc_window_display": true
  },
  "varInspector": {
   "cols": {
    "lenName": 16,
    "lenType": 16,
    "lenVar": 40
   },
   "kernels_config": {
    "python": {
     "delete_cmd_postfix": "",
     "delete_cmd_prefix": "del ",
     "library": "var_list.py",
     "varRefreshCmd": "print(var_dic_list())"
    },
    "r": {
     "delete_cmd_postfix": ") ",
     "delete_cmd_prefix": "rm(",
     "library": "var_list.r",
     "varRefreshCmd": "cat(var_dic_list()) "
    }
   },
   "types_to_exclude": [
    "module",
    "function",
    "builtin_function_or_method",
    "instance",
    "_Feature"
   ],
   "window_display": false
  }
 },
 "nbformat": 4,
 "nbformat_minor": 2
}
