{
 "cells": [
  {
   "cell_type": "code",
   "execution_count": null,
   "metadata": {},
   "outputs": [],
   "source": [
    "from IPython.core.interactiveshell import InteractiveShell\n",
    "InteractiveShell.ast_node_interactivity = \"all\""
   ]
  },
  {
   "cell_type": "markdown",
   "metadata": {},
   "source": [
    "[Explanation of this code snippet](https://stackoverflow.com/questions/46781420/if-not-found-and-item-value-in-python)\n",
    "\n",
    "What I can say? I am  so afraid to get an votedown that don't dare to ask very easily. "
   ]
  },
  {
   "cell_type": "code",
   "execution_count": null,
   "metadata": {},
   "outputs": [],
   "source": [
    "import re"
   ]
  },
  {
   "cell_type": "code",
   "execution_count": null,
   "metadata": {},
   "outputs": [],
   "source": [
    "x = ['2019-07:27 22:04:38.635317100 -0700',\n",
    "'2010/08/26',\n",
    "'2019-07-27_2313hr_19sec',\n",
    "'2019-07.27']\n",
    "for i in x:\n",
    "    #re.findall(r'\\d{4}-\\d{2}:\\d{2}|\\d{4}/\\d{2}/\\d{2}',i)\n",
    "    re.findall(r'\\d{4}[-/:._]\\d{2}[-/:._]?\\d{2}\\S*', i)"
   ]
  },
  {
   "cell_type": "code",
   "execution_count": null,
   "metadata": {},
   "outputs": [],
   "source": [
    "titles = [\"Harry Potter\", \"Fear and Lothing in Las Vegas\"]\n",
    "pages = [200, 350]\n",
    "firsts = [\"J.K.\", \"Hunter\"]\n",
    "lasts = [\"Rowling\", \"Thompson\"]\n",
    "locations = [\"NYC\", \"Aspen\"]\n",
    "def build_book_dict(titles, pages, firsts, lasts, locations):\n",
    "    inputs = zip(titles, pages, firsts, lasts, locations)\n",
    "    d = {}\n",
    "    for titles, pages, firsts, lasts, locations in inputs:\n",
    "        d.update({\n",
    "            titles : {\n",
    "                \"Pages\" : pages,\n",
    "                \"Author\" : {\n",
    "                    \"First\" : firsts,\n",
    "                    \"Last\" : lasts\n",
    "                            },\n",
    "                \"Publisher\" : {\n",
    "                    \"Location\" : locations\n",
    "                                },\n",
    "                        },\n",
    "                })\n",
    "\n",
    "    return d\n",
    "print(build_book_dict(titles, pages, firsts, lasts, locations))"
   ]
  },
  {
   "cell_type": "markdown",
   "metadata": {},
   "source": [
    "# Inner sum \n",
    "https://stackoverflow.com/questions/57074100/inner-sum-of-a-range-of-numbers#57074290"
   ]
  },
  {
   "cell_type": "code",
   "execution_count": null,
   "metadata": {},
   "outputs": [],
   "source": [
    "x = 'wm 25'"
   ]
  },
  {
   "cell_type": "code",
   "execution_count": null,
   "metadata": {},
   "outputs": [],
   "source": [
    "x.split()"
   ]
  },
  {
   "cell_type": "code",
   "execution_count": null,
   "metadata": {},
   "outputs": [],
   "source": [
    "sum(int(i) for i in \"12345\")"
   ]
  },
  {
   "cell_type": "code",
   "execution_count": null,
   "metadata": {},
   "outputs": [],
   "source": [
    "a, b = '1263','323531'\n",
    "a = int(a)\n",
    "b = int(b)\n",
    "s = 0\n",
    "for x in range(a, b+1):\n",
    "    t = str(x)\n",
    "    s = s + sum(int(i) for i in t)\n",
    "print(s)\n",
    " "
   ]
  },
  {
   "cell_type": "code",
   "execution_count": null,
   "metadata": {},
   "outputs": [],
   "source": [
    "l=[2,3,6,0,0,5,6,0,7]\n",
    "while l.index(0)\n",
    "l.remove(l[3])\n",
    "l \n",
    "l.index(0) "
   ]
  },
  {
   "cell_type": "code",
   "execution_count": null,
   "metadata": {},
   "outputs": [],
   "source": [
    "zero=[]\n",
    "l=[2,3,6,0,0,5,6,0,7]\n",
    "for i in l[:]:\n",
    "    if i==0:\n",
    "        \n",
    "        l.remove(i)\n",
    "        l \n",
    "        zero.append(i)\n",
    "print(l)\n",
    "print(zero)"
   ]
  },
  {
   "cell_type": "code",
   "execution_count": null,
   "metadata": {},
   "outputs": [],
   "source": [
    "zero=[]\n",
    "l=[2,3,6,0,0,5,6,0,7]\n",
    "for i in l[:]:\n",
    "    if i==0:\n",
    "        l.remove(i)\n",
    "        zero.append(i)\n",
    "print(l)\n",
    "print(zero)\n"
   ]
  },
  {
   "cell_type": "code",
   "execution_count": null,
   "metadata": {},
   "outputs": [],
   "source": [
    "y = [12, 13, 14, 15, 16, 17, 18]\n",
    "yy = [[j+i  for j in y] for i in range(1, 4)]\n",
    "yy"
   ]
  },
  {
   "cell_type": "code",
   "execution_count": null,
   "metadata": {},
   "outputs": [],
   "source": [
    "[[[k+i for k in j ] for j in yy ]for i in range(1,8)]"
   ]
  },
  {
   "cell_type": "markdown",
   "metadata": {},
   "source": [
    "# Remove an element from list "
   ]
  },
  {
   "cell_type": "code",
   "execution_count": null,
   "metadata": {},
   "outputs": [],
   "source": [
    "zero=[]\n",
    "l=[2,3,6,0,0,5,6,0,7]\n",
    "for index, i  in enumerate(l):\n",
    "# for i in l[:]:\n",
    "    index, i \n",
    "    if i==0:\n",
    "        l.remove(i)\n",
    "        l \n",
    "        zero.append(i)\n",
    "print(l)\n",
    "print(zero)\n",
    "\n",
    "\n"
   ]
  },
  {
   "cell_type": "code",
   "execution_count": null,
   "metadata": {},
   "outputs": [],
   "source": [
    "graph = {'A': ['B', 'C'],\n",
    "         'B': ['D', 'E'],\n",
    "         'C': ['F', 'G'],\n",
    "         'D': ['B'],\n",
    "         'E': ['B'],\n",
    "         'F': ['C'],\n",
    "         'G': ['C']}\n",
    "\n",
    "def BFS(graph, start, end):\n",
    "\n",
    "    nodes = [[start]]\n",
    "    explored = []\n",
    "\n",
    "    while nodes:\n",
    "        path = nodes.pop(0)\n",
    "        current = path[-1]\n",
    "        if current not in explored:\n",
    "            neighbour = graph[current]\n",
    "            for neighbour in neighbour:\n",
    "                new = list(path)\n",
    "                new.append(neighbour)\n",
    "                nodes.append(new)\n",
    "                if neighbour == end:\n",
    "                    return new\n",
    "            explored.append(nodes)\n",
    "        print(explored)\n",
    "    return \"Couldn't Find\"\n",
    "BFS(graph,'A','F')"
   ]
  },
  {
   "cell_type": "code",
   "execution_count": null,
   "metadata": {},
   "outputs": [],
   "source": [
    "texts = ['13007807', '13007779']\n",
    "print (*texts)"
   ]
  },
  {
   "cell_type": "markdown",
   "metadata": {},
   "source": [
    "# Advanced usage of list "
   ]
  },
  {
   "cell_type": "code",
   "execution_count": null,
   "metadata": {},
   "outputs": [],
   "source": [
    "from collections import deque"
   ]
  },
  {
   "cell_type": "code",
   "execution_count": null,
   "metadata": {},
   "outputs": [],
   "source": [
    "import random"
   ]
  },
  {
   "cell_type": "code",
   "execution_count": null,
   "metadata": {},
   "outputs": [],
   "source": [
    "s = 'abcecdefgh'\n",
    "n = 1\n",
    "string_l = ''\n",
    "string_s = str(s[0])\n",
    "\n",
    "for _ in range(0,(len(s)-1)):\n",
    "    if s[n]>s[n-1] and n+1 < (len(s)):     \n",
    "        string_s += str(s[n])\n",
    "        n +=1\n",
    "    else:\n",
    "\n",
    "        #string_s += str(s[n+1])\n",
    "        if len(string_s)> len(string_l):\n",
    "            string_l = string_s\n",
    "            string_s = str(s[n])\n",
    "            n += 1\n",
    "        else:\n",
    "            n += 1\n",
    "\n",
    "\n",
    "\n",
    "print(string_l)"
   ]
  },
  {
   "cell_type": "code",
   "execution_count": null,
   "metadata": {},
   "outputs": [],
   "source": [
    "'c'>'b'\n",
    "0.1 + 0.2 == 0.3 "
   ]
  },
  {
   "cell_type": "code",
   "execution_count": null,
   "metadata": {},
   "outputs": [],
   "source": [
    "shoping=[(\"orange\",5.26,8),(\"banana\",2.00,10)]\n"
   ]
  },
  {
   "cell_type": "code",
   "execution_count": null,
   "metadata": {},
   "outputs": [],
   "source": [
    "list(shoping[1])[1]*list(shoping[1])[2]"
   ]
  },
  {
   "cell_type": "code",
   "execution_count": null,
   "metadata": {},
   "outputs": [],
   "source": [
    "shoping = [list(i) for i in shoping ] \n",
    "shoping"
   ]
  },
  {
   "cell_type": "code",
   "execution_count": null,
   "metadata": {},
   "outputs": [],
   "source": [
    "\n",
    "shoping=[(\"orange\",5.26,8),(\"banana\",2.00,10)]\n",
    "shoping = [list(i) for i in shoping ] \n",
    "x = 0\n",
    "for i in shoping:\n",
    "    x += i[1]*i[2]\n",
    "x "
   ]
  },
  {
   "cell_type": "code",
   "execution_count": null,
   "metadata": {},
   "outputs": [],
   "source": [
    "def get_total_cost(shopping):\n",
    "    return sum(quantity * cost for _, cost, quantity in shopping)\n",
    "shoping=[(\"orange\",5.26,8),(\"banana\",2.00,10)]\n",
    "get_total_cost(shoping)"
   ]
  },
  {
   "cell_type": "code",
   "execution_count": null,
   "metadata": {},
   "outputs": [],
   "source": [
    "shoping=[(\"orange\",5.26,8),(\"banana\",2.00,10)]\n",
    "for a, b, c in shoping:\n",
    "    print(a, b, c) "
   ]
  },
  {
   "cell_type": "code",
   "execution_count": null,
   "metadata": {},
   "outputs": [],
   "source": [
    "l = [1,2,3]\n",
    "#l = l + (4,5)        #TypeError: can only concatenate list (not \"tuple\") to list\n",
    "l += (4,5) \n",
    "l += (9,0)\n",
    "l "
   ]
  },
  {
   "cell_type": "markdown",
   "metadata": {},
   "source": [
    "## `deque`"
   ]
  },
  {
   "cell_type": "code",
   "execution_count": null,
   "metadata": {},
   "outputs": [],
   "source": [
    "x = deque([1,2,3,4,5,5,6])\n",
    "x\n",
    "x.appendleft(3)\n",
    "x \n",
    "x.append(9)\n",
    "x \n",
    "x.pop()\n",
    "x \n",
    "x.popleft()\n",
    "x "
   ]
  },
  {
   "cell_type": "markdown",
   "metadata": {},
   "source": [
    "## Queue"
   ]
  },
  {
   "cell_type": "code",
   "execution_count": null,
   "metadata": {},
   "outputs": [],
   "source": [
    "class Queue(object):\n",
    "    \"\"\"Wrapper around collections.deque to provide the api consistent with\n",
    "    a Queue\"\"\"\n",
    "\n",
    "    def __init__(self):\n",
    "        self.items = deque()\n",
    "\n",
    "    def __str__(self):\n",
    "        return (\"Queue of size: %d\" % len(self.items))\n",
    "\n",
    "    def isEmpty(self):\n",
    "        return len(self.items) == 0\n",
    "\n",
    "    def enqueue(self, item):\n",
    "        self.items.append(item)\n",
    "\n",
    "    def dequeue(self):\n",
    "        return self.items.popleft()\n",
    "\n",
    "    def size(self):\n",
    "        return len(self.items)\n",
    "    "
   ]
  },
  {
   "cell_type": "code",
   "execution_count": null,
   "metadata": {},
   "outputs": [],
   "source": [
    "AIsQueue = Queue()"
   ]
  },
  {
   "cell_type": "code",
   "execution_count": null,
   "metadata": {},
   "outputs": [],
   "source": [
    "AIsQueue.isEmpty()"
   ]
  },
  {
   "cell_type": "markdown",
   "metadata": {},
   "source": [
    "## Single linked list"
   ]
  },
  {
   "cell_type": "code",
   "execution_count": null,
   "metadata": {},
   "outputs": [],
   "source": [
    "class Node(object):\n",
    "    def __init__(self, data=None):\n",
    "        self.data = data\n",
    "        self.next = None\n",
    "\n",
    "    def __repr__(self):\n",
    "        return str(self.data)\n",
    "\n",
    "class SinglyLinkedList(object):\n",
    "    def __init__(self, iterable=[]):\n",
    "        self.head = None\n",
    "        self.size = 0\n",
    "        for item in iterable: self.append(item)\n",
    "\n",
    "    def __repr__(self):\n",
    "        (current, nodes) = self.head, []\n",
    "        while current:\n",
    "            nodes.append(str(current))\n",
    "            current = current.next\n",
    "        return \"->\".join(nodes)\n",
    "\n",
    "    def __len__(self):\n",
    "        return self.size\n",
    "\n",
    "    def __iter__(self):\n",
    "        current = self.head\n",
    "        while current:\n",
    "            yield current\n",
    "            current = current.__next__\n",
    "        raise StopIteration\n",
    "\n",
    "    def __contains__(self, data):\n",
    "        tmp = self.head\n",
    "        found = False\n",
    "        while tmp and not found:\n",
    "            if data == tmp.data:\n",
    "                found = True\n",
    "            else:\n",
    "                tmp = tmp.next\n",
    "        return found\n",
    "\n",
    "    def append(self, data):\n",
    "        tmp = Node(data)\n",
    "        tmp.next = self.head\n",
    "        self.head = tmp\n",
    "        self.size += 1\n",
    "\n",
    "    def getHead(self):\n",
    "        return self.head\n",
    "\n",
    "    def getTail(self):\n",
    "        tmp = self.head\n",
    "        while tmp.next:\n",
    "            tmp = tmp.next\n",
    "        return tmp\n",
    "\n",
    "    def delete(self, data):\n",
    "        tmp = self.head\n",
    "        prev = None\n",
    "        found = False\n",
    "        while tmp and not found:\n",
    "            if data == tmp.data:\n",
    "                found = True\n",
    "            else:\n",
    "                prev = tmp\n",
    "                tmp = tmp.next\n",
    "        if found:\n",
    "            self.size -= 1\n",
    "            if prev == None:\n",
    "                self.head = self.head.next\n",
    "            else:\n",
    "                prev.next = tmp.next\n",
    "\n",
    "if __name__ == \"__main__\":\n",
    "    list1 = SinglyLinkedList(list(range(0, 100, 10)))\n",
    "    print(list1) # testing repr\n",
    "    print(50 in list1, 110 not in list1) # testing contains\n",
    "    list1.delete(50) # testing delete\n",
    "    print(len(list1) == 9, 50 not in list1) # testing size"
   ]
  },
  {
   "cell_type": "markdown",
   "metadata": {},
   "source": [
    "## min heap"
   ]
  },
  {
   "cell_type": "markdown",
   "metadata": {},
   "source": [
    "* [Refresh your knowledge on heap](https://towardsdatascience.com/data-structure-heap-23d4c78a6962)\n",
    "* [Full Binary Tree](http://www.cnblogs.com/gaochundong/p/binary_search_tree.html)"
   ]
  },
  {
   "cell_type": "code",
   "execution_count": null,
   "metadata": {},
   "outputs": [],
   "source": [
    "import math\n",
    "class minheap(object):\n",
    "    \"\"\"\n",
    "    Heap class - made of keys and items\n",
    "    methods: build_heap, heappush, heappop\n",
    "    \"\"\"\n",
    "\n",
    "    MIN_HEAP = True\n",
    "\n",
    "    def __init__(self, nums=None):\n",
    "        self.heap = []\n",
    "        if nums:\n",
    "            self.build_heap(nums)\n",
    "\n",
    "    def __str__(self):\n",
    "        return \"Min-heap with %s items\" % (len(self.heap))\n",
    "\n",
    "    def max_elements(self):\n",
    "        return len(self.heap)\n",
    "\n",
    "    def height(self):\n",
    "        return math.ceil(math.log(len(self.heap)) / math.log(2))\n",
    "\n",
    "    def is_leaf(self, i):\n",
    "        \"\"\" returns True if i is a leaf node \"\"\"\n",
    "        return i > int(math.ceil((len(self.heap) - 2) / 2.0))\n",
    "\n",
    "    def parent(self, i):\n",
    "        if i == 0:\n",
    "            return -1\n",
    "        elif i % 2 != 0: # odd\n",
    "            return (i - 1) // 2\n",
    "        return (i - 2) // 2\n",
    "\n",
    "    def leftchild(self, i):\n",
    "        return 2 * i + 1\n",
    "\n",
    "    def rightchild(self, i):\n",
    "        return 2 * i + 2\n",
    "\n",
    "    def heapify(self, i):\n",
    "        l = self.leftchild(i)\n",
    "        r = self.rightchild(i)\n",
    "        smallest = i\n",
    "        if l < self.max_elements() and self.heap[l] < self.heap[smallest]:\n",
    "            smallest = l\n",
    "        if r < self.max_elements() and self.heap[r] < self.heap[smallest]:\n",
    "            smallest = r\n",
    "        if smallest != i:\n",
    "            self.heap[i], self.heap[smallest] = self.heap[smallest], self.heap[i]\n",
    "            self.heapify(smallest)\n",
    "\n",
    "    def build_heap(self, elem):\n",
    "        \"\"\" transforms a list of elements into a heap\n",
    "        in linear time \"\"\"\n",
    "        self.heap = elem[:]\n",
    "        last_leaf = self.parent(len(self.heap))\n",
    "        for i in range(last_leaf, 0, -1):\n",
    "            self.heapify(i)\n",
    "\n",
    "    def heappush(self, x):\n",
    "        \"\"\" Adds a new item x in the heap\"\"\"\n",
    "        i = len(self.heap)\n",
    "        self.heap.append(x)\n",
    "        parent = self.parent(i)\n",
    "        while parent != -1 and self.heap[i] < self.heap[parent]:\n",
    "            self.heap[i], self.heap[parent] = self.heap[parent], self.heap[i]\n",
    "            i = parent\n",
    "            parent = self.parent(i)\n",
    "\n",
    "    def heappop(self):\n",
    "        \"\"\" extracts the root of the heap, min or max\n",
    "        depending on the kind of heap\"\"\"\n",
    "        if self.max_elements():\n",
    "            self.heap[0], self.heap[-1] = self.heap[-1], self.heap[0]\n",
    "            pop = self.heap.pop()\n",
    "            self.heapify(0)\n",
    "            return pop\n",
    "        raise Exception(\"Heap is empty\")"
   ]
  },
  {
   "cell_type": "code",
   "execution_count": null,
   "metadata": {},
   "outputs": [],
   "source": [
    "BIsAMinHeap = minheap()"
   ]
  },
  {
   "cell_type": "code",
   "execution_count": null,
   "metadata": {},
   "outputs": [],
   "source": [
    "x = [ random.randint(0, 100) for _ in range(10)]\n",
    "x "
   ]
  },
  {
   "cell_type": "code",
   "execution_count": null,
   "metadata": {},
   "outputs": [],
   "source": [
    "BIsAMinHeap.build_heap(x)"
   ]
  },
  {
   "cell_type": "code",
   "execution_count": null,
   "metadata": {},
   "outputs": [],
   "source": [
    "for i in range(50):\n",
    "    BIsAMinHeap.heappush(i)"
   ]
  },
  {
   "cell_type": "markdown",
   "metadata": {},
   "source": [
    "[I will understand heap via this post](https://medium.com/basecs/heapify-all-the-things-with-heap-sort-55ee1c93af82)\n",
    "\n",
    "![](https://cdn-images-1.medium.com/max/1600/1*LVcbTeL6zPLfDHiQ2w3Jtw.gif)"
   ]
  },
  {
   "cell_type": "code",
   "execution_count": null,
   "metadata": {},
   "outputs": [],
   "source": [
    "def min_heapify(array, i):\n",
    "    left = 2 * i + 1\n",
    "    right = 2 * i + 2\n",
    "    length = len(array) - 1\n",
    "    smallest = i\n",
    "    if left <= length and array[i] > array[left]:# check left is existed\n",
    "        smallest = left\n",
    "    if right <= length and array[smallest] > array[right]:\n",
    "        smallest = right\n",
    "    if smallest != i:\n",
    "        array[i], array[smallest] = array[smallest], array[i]\n",
    "        min_heapify(array, smallest)"
   ]
  },
  {
   "cell_type": "code",
   "execution_count": null,
   "metadata": {},
   "outputs": [],
   "source": [
    "houses = [\"Eric's house\", \"Kenny's house\", \"Kyle's house\", \"Stan's house\"]\n",
    "\n",
    "# Each function call represents an elf doing his work \n",
    "def deliver_presents_recursively(houses):\n",
    "    # Worker elf doing his work\n",
    "    if len(houses) == 1:\n",
    "        house = houses[0]\n",
    "        print(\"Delivering presents to\", house)\n",
    "\n",
    "    # Manager elf doing his work\n",
    "    else:\n",
    "        mid = len(houses) // 2\n",
    "        first_half = houses[:mid]\n",
    "        second_half = houses[mid:]\n",
    "\n",
    "        # Divides his work among two elves\n",
    "        deliver_presents_recursively(first_half)\n",
    "        deliver_presents_recursively(second_half)"
   ]
  },
  {
   "cell_type": "code",
   "execution_count": null,
   "metadata": {},
   "outputs": [],
   "source": [
    "deliver_presents_recursively(houses)"
   ]
  },
  {
   "cell_type": "code",
   "execution_count": null,
   "metadata": {},
   "outputs": [],
   "source": [
    "houses = [\"Eric's house\", \"Kenny's house\", \"Kyle's house\", \"Stan's house\"]\n",
    "\n",
    "def deliver_presents_directly(houses):   \n",
    "    for house in houses:\n",
    "        print(\"Delivering presents to\", house)"
   ]
  },
  {
   "cell_type": "code",
   "execution_count": null,
   "metadata": {},
   "outputs": [],
   "source": [
    "deliver_presents_directly(houses)"
   ]
  }
 ],
 "metadata": {
  "hide_input": false,
  "kernelspec": {
   "display_name": "Python 3",
   "language": "python",
   "name": "python3"
  },
  "language_info": {
   "codemirror_mode": {
    "name": "ipython",
    "version": 3
   },
   "file_extension": ".py",
   "mimetype": "text/x-python",
   "name": "python",
   "nbconvert_exporter": "python",
   "pygments_lexer": "ipython3",
   "version": "3.7.2"
  },
  "toc": {
   "base_numbering": 1,
   "nav_menu": {},
   "number_sections": true,
   "sideBar": true,
   "skip_h1_title": false,
   "title_cell": "Table of Contents",
   "title_sidebar": "Contents",
   "toc_cell": false,
   "toc_position": {},
   "toc_section_display": true,
   "toc_window_display": true
  },
  "varInspector": {
   "cols": {
    "lenName": 16,
    "lenType": 16,
    "lenVar": 40
   },
   "kernels_config": {
    "python": {
     "delete_cmd_postfix": "",
     "delete_cmd_prefix": "del ",
     "library": "var_list.py",
     "varRefreshCmd": "print(var_dic_list())"
    },
    "r": {
     "delete_cmd_postfix": ") ",
     "delete_cmd_prefix": "rm(",
     "library": "var_list.r",
     "varRefreshCmd": "cat(var_dic_list()) "
    }
   },
   "types_to_exclude": [
    "module",
    "function",
    "builtin_function_or_method",
    "instance",
    "_Feature"
   ],
   "window_display": false
  }
 },
 "nbformat": 4,
 "nbformat_minor": 2
}
