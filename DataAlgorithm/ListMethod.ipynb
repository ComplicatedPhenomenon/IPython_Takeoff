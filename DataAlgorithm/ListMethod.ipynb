{
 "cells": [
  {
   "cell_type": "code",
   "execution_count": 1,
   "metadata": {},
   "outputs": [],
   "source": [
    "from IPython.core.interactiveshell import InteractiveShell\n",
    "InteractiveShell.ast_node_interactivity = \"all\""
   ]
  },
  {
   "cell_type": "markdown",
   "metadata": {},
   "source": [
    "[Explanation of this code snippet](https://stackoverflow.com/questions/46781420/if-not-found-and-item-value-in-python)\n",
    "\n",
    "What I can say? I am  so afraid to get an votedown that don't dare to ask very easily. "
   ]
  },
  {
   "cell_type": "code",
   "execution_count": null,
   "metadata": {},
   "outputs": [],
   "source": [
    "def remove(items, value):\n",
    "    new_items = []\n",
    "    found = False\n",
    "    for item in items:\n",
    "        if not found and item == value:  # request `not found` and `item == value` both to be true\n",
    "            found = True\n",
    "            continue\n",
    "        new_items.append(item)\n",
    "    if not found :   # since item == value is False jump here. and found is true here.\n",
    "        raise ValueError('list.remove(x): x not in list')\n",
    "    return new_items\n",
    "\n",
    "lista = [1, 2, 3, 3, 4, 5, 5]\n",
    "lista=remove(lista,3)\n",
    "lista\n",
    "\n",
    "def remove(items, value):\n",
    "    new_items = []\n",
    "    for item in items:\n",
    "        if item == value :\n",
    "            continue\n",
    "        else :\n",
    "            new_items.append(item)\n",
    "    return new_items\n",
    "\n",
    "list1 = [1, 2, 4, 5, 3, 4,5]\n",
    "list1 = remove(list1, 4)\n",
    "list1\n",
    "list1 = remove(list1, 6) # will  might cause undefined behaviour which should be avoided.\n",
    "list1"
   ]
  },
  {
   "cell_type": "code",
   "execution_count": null,
   "metadata": {},
   "outputs": [],
   "source": [
    "def remove(items, value):\n",
    "    new_items = []\n",
    "    for item in items:\n",
    "        if item == value :\n",
    "            continue\n",
    "        else : \n",
    "            new_items.append(item)\n",
    "        if len(items) == len(new_items):\n",
    "            print(\"This value is not in the list\")\n",
    "    return new_items"
   ]
  }
 ],
 "metadata": {
  "hide_input": false,
  "kernelspec": {
   "display_name": "Python 3",
   "language": "python",
   "name": "python3"
  },
  "language_info": {
   "codemirror_mode": {
    "name": "ipython",
    "version": 3
   },
   "file_extension": ".py",
   "mimetype": "text/x-python",
   "name": "python",
   "nbconvert_exporter": "python",
   "pygments_lexer": "ipython3",
   "version": "3.7.2"
  },
  "toc": {
   "base_numbering": 1,
   "nav_menu": {},
   "number_sections": true,
   "sideBar": true,
   "skip_h1_title": false,
   "title_cell": "Table of Contents",
   "title_sidebar": "Contents",
   "toc_cell": false,
   "toc_position": {},
   "toc_section_display": true,
   "toc_window_display": false
  },
  "varInspector": {
   "cols": {
    "lenName": 16,
    "lenType": 16,
    "lenVar": 40
   },
   "kernels_config": {
    "python": {
     "delete_cmd_postfix": "",
     "delete_cmd_prefix": "del ",
     "library": "var_list.py",
     "varRefreshCmd": "print(var_dic_list())"
    },
    "r": {
     "delete_cmd_postfix": ") ",
     "delete_cmd_prefix": "rm(",
     "library": "var_list.r",
     "varRefreshCmd": "cat(var_dic_list()) "
    }
   },
   "types_to_exclude": [
    "module",
    "function",
    "builtin_function_or_method",
    "instance",
    "_Feature"
   ],
   "window_display": false
  }
 },
 "nbformat": 4,
 "nbformat_minor": 2
}
