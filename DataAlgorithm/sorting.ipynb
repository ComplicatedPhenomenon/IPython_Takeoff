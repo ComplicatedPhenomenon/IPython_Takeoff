{
 "cells": [
  {
   "cell_type": "code",
   "execution_count": null,
   "metadata": {},
   "outputs": [],
   "source": [
    "from IPython.core.interactiveshell import InteractiveShell\n",
    "InteractiveShell.ast_node_interactivity = \"all\""
   ]
  },
  {
   "cell_type": "code",
   "execution_count": null,
   "metadata": {},
   "outputs": [],
   "source": [
    "import random "
   ]
  },
  {
   "cell_type": "markdown",
   "metadata": {},
   "source": [
    "# Bubble sort"
   ]
  },
  {
   "cell_type": "markdown",
   "metadata": {},
   "source": [
    "![](https://media.giphy.com/media/sJqcl6rWaEEXS/giphy.gif)"
   ]
  },
  {
   "cell_type": "code",
   "execution_count": null,
   "metadata": {},
   "outputs": [],
   "source": [
    "def bubbleSort(array):\n",
    "    x = len(array)\n",
    "    while(x > 1): # decide by common sense, the code below make sense only there are at least 2 elments\n",
    "        for i in range(x-1): # maximum of i is x-2, the last element in arr is arr[x-1]\n",
    "            if array[i] > array[i+1]:\n",
    "                array[i], array[i+1] = array[i+1], array[i]\n",
    "        x -= 1\n",
    "    return array\n",
    "\n",
    "bubbleSort([2,3,1])"
   ]
  },
  {
   "cell_type": "code",
   "execution_count": null,
   "metadata": {},
   "outputs": [],
   "source": [
    "def test_sort(list_to_sort):\n",
    "    length = len(list_to_sort)\n",
    "    if length == 0:\n",
    "        return list_to_sort\n",
    "    for i in range(0, length - 1):\n",
    "        if list_to_sort[i] > list_to_sort[i + 1]:\n",
    "            (list_to_sort[i], list_to_sort[i + 1]) = (list_to_sort[i + 1], list_to_sort[i])\n",
    "    \n",
    "    list_to_sort[:length - 1] = test_sort(list_to_sort[:length - 1])\n",
    "   \n",
    "    return list_to_sort\n",
    "\n",
    "\n",
    "testlist = [\"4213\", \"4201\", \"4204\", \"4218\", \"4205\", \"Out\"]\n",
    "print(test_sort(testlist))"
   ]
  },
  {
   "cell_type": "markdown",
   "metadata": {},
   "source": [
    "# Select sort "
   ]
  },
  {
   "cell_type": "markdown",
   "metadata": {},
   "source": [
    "The time complexity of bubble sort is $O(n^2)$ in both worst and average cases\n",
    "\n",
    "$(N-1) + (N-2) +...+1 = N(N-1)/2$  comparisons and $N$ swaps "
   ]
  },
  {
   "cell_type": "code",
   "execution_count": null,
   "metadata": {},
   "outputs": [],
   "source": [
    "def selectSort(arr):\n",
    "    x = len(arr)\n",
    "    while(x > 1):\n",
    "        maxElemIndex = 0\n",
    "        # find the index of the maximum value in the remain unsorted array\n",
    "        # 找出未排序数组的最大值的索引\n",
    "        for i in range(1, x):\n",
    "            maxElemIndex = i if arr[maxElemIndex] < arr[i] else maxElemIndex\n",
    "        arr[maxElemIndex], arr[x - 1] =  arr[x-1], arr[maxElemIndex]\n",
    "        x -= 1\n",
    "    return arr    "
   ]
  },
  {
   "cell_type": "code",
   "execution_count": null,
   "metadata": {},
   "outputs": [],
   "source": [
    "selectSort([-2, -9, -3,- 5])\n",
    "selectSort([-9, 3, 2, 1, 5])"
   ]
  },
  {
   "cell_type": "markdown",
   "metadata": {},
   "source": [
    "# Quick sort\n",
    "* https://www.hackerearth.com/practice/algorithms/sorting/quick-sort/tutorial/\n",
    "* http://www.algolist.net/Algorithms/Sorting/Quicksort"
   ]
  },
  {
   "cell_type": "code",
   "execution_count": null,
   "metadata": {},
   "outputs": [],
   "source": [
    "indent = \"\"\n",
    "\n",
    "def quickSort(array, low, high):\n",
    "    global indent\n",
    "    # print(indent, \"quickSort ENTER\", low, high)\n",
    "    indent += \"  \"\n",
    "    if (low<high):\n",
    "        pivot = help(array, low, high)\n",
    "        print(low, high, pivot)\n",
    "        quickSort(array, low, pivot)\n",
    "        quickSort(array, pivot + 1, high)\n",
    " \n",
    "    indent = indent[2:]"
   ]
  },
  {
   "cell_type": "code",
   "execution_count": 2,
   "metadata": {},
   "outputs": [
    {
     "name": "stdout",
     "output_type": "stream",
     "text": [
      "[10, 8, 13, 5, 12, 7, 15, 19, 5, 3, 8, 18, 4, 10, 15, 6, 14, 15, 3, 6]\n",
      "[3, 3, 4, 5, 5, 6, 6, 7, 8, 8, 10, 10, 12, 13, 14, 15, 15, 15, 18, 19]\n"
     ]
    }
   ],
   "source": [
    "import random\n",
    "def QuickSort(array):\n",
    "    qsort(array, 0, len(array))\n",
    "\n",
    "\n",
    "def qsort(arr, left, right):\n",
    "    if ((right - left) < 2):\n",
    "        return\n",
    "    pivotIndex = choosePivot0(arr, left, right)\n",
    "    newPivotIndex = partition(arr, pivotIndex, left, right)\n",
    "    qsort(arr, left, newPivotIndex)\n",
    "    qsort(arr, newPivotIndex + 1, right)\n",
    "\n",
    "\n",
    "def partition(arr, pivotIndex, left, right):\n",
    "    arr[pivotIndex], arr[left] = arr[left], arr[pivotIndex]\n",
    "    pivot = arr[left]\n",
    "    i = left + 1\n",
    "    for j in range(left + 1, right):\n",
    "        if (arr[j] < pivot):\n",
    "            arr[i], arr[j] = arr[j], arr[i]\n",
    "            i = i + 1\n",
    "\n",
    "    arr[left], arr[i - 1] = arr[i - 1], arr[left]\n",
    "    return (i - 1)  #give back where the pivot resides\n",
    "\n",
    "\n",
    "def choosePivot0(array, left, right):\n",
    "    return random.randint(left, right - 1)  #random\n",
    "\n",
    "\n",
    "array = [random.randint(1, 20) for i in range(20)]\n",
    "print(array)\n",
    "QuickSort(array)\n",
    "print(array)"
   ]
  },
  {
   "cell_type": "markdown",
   "metadata": {},
   "source": [
    "https://stackoverflow.com/questions/18262306/quicksort-with-python"
   ]
  },
  {
   "cell_type": "markdown",
   "metadata": {},
   "source": [
    "快速排序在什么情况下速度最慢，为什么?\n",
    "\n",
    "这个得看pivot（基准元素或枢轴）的选择策略。\n",
    "\n",
    "如果选择最左面或最右面的元素作为基准元素，那最坏的情况就会在：\n",
    "\n",
    "数组已经是正序排过序的。\n",
    "数组已经是倒序排过序的。\n",
    "所有的元素都相同（1、2的特殊情况）。\n",
    "因为这些案例在用例中十分常见，所以这个问题可以通过要么选择一个随机的基准元素，或者选择一个分区中间的下标作为基准元素，或者（特别是对于相比更长的分区）选择分区的第一个、中间、最后一个元素的中值作为基准元素。\n",
    "\n",
    "有了这些修改，那快排的最差的情况就不那么容易出现了，但是如果输入的数组最大（或者最小元素）被选为基准元素，那最坏的情况就又来了。"
   ]
  },
  {
   "cell_type": "code",
   "execution_count": 16,
   "metadata": {},
   "outputs": [
    {
     "data": {
      "text/plain": [
       "[0, 1, 2, 3, 4, 5, 6, 7, 8, 9]"
      ]
     },
     "execution_count": 16,
     "metadata": {},
     "output_type": "execute_result"
    }
   ],
   "source": [
    "def quickSort(array=[12,4,5,6,7,3,1,15]):\n",
    "    \"\"\"Sort the array by using quicksort.\"\"\"\n",
    "    less = []\n",
    "    equal = []\n",
    "    greater = []\n",
    "\n",
    "    if len(array) > 1:\n",
    "        pivot = array[0]\n",
    "        for x in array:\n",
    "            if x < pivot:\n",
    "                less.append(x)\n",
    "                #print('less:', less )\n",
    "            elif x == pivot:\n",
    "                equal.append(x)\n",
    "                #print('equal:', equal )\n",
    "            elif x > pivot:\n",
    "                greater.append(x)\n",
    "                #print('greater', greater)\n",
    "                \n",
    "        #print('less = {}, equal = {}, greater = {}'.format(less, equal, greater))\n",
    "        # Don't forget to return something!\n",
    "        return quickSort(less)+equal+quickSort(greater)  \n",
    "    else:  # You need to handle the part at the end of the recursion - when you only have one element in your array, just return the array.\n",
    "        return array \n",
    "    \n",
    "#quickSort()\n",
    "\n",
    "quickSort(array=list(range(10)))"
   ]
  },
  {
   "cell_type": "code",
   "execution_count": null,
   "metadata": {},
   "outputs": [],
   "source": [
    "def quickSort(array=[12, 4]):\n",
    "    \"\"\"Sort the array by using quicksort.\"\"\"\n",
    "    n = len(array)\n",
    "    if n > 1:\n",
    "        print('array is', array)\n",
    "        pivot = array[0]\n",
    "        less = []\n",
    "        equal = []\n",
    "        greater = []\n",
    "\n",
    "        for i in range(n):\n",
    "            if array[i] > pivot:\n",
    "                greater.append(array[i])\n",
    "            elif array[i] == pivot:\n",
    "                equal.append(array[i])\n",
    "            else:\n",
    "                less.append(array[i])\n",
    "\n",
    "        return quickSort(less) + equal + quickSort(greater)\n",
    "    else:\n",
    "        return array\n",
    "\n",
    "\n",
    "quickSort()"
   ]
  },
  {
   "cell_type": "code",
   "execution_count": null,
   "metadata": {},
   "outputs": [],
   "source": [
    "def findClosetpair(arr0):\n",
    "    arr0s = sorted(arr0)\n",
    "    n = len(arr0)\n",
    "    z = []\n",
    "    x = 0 \n",
    "    while x<n-2:\n",
    "        if arr0s[x+1]-arr0s[x] < 20:\n",
    "            if arr0s[x+1]-arr0s[x] < arr0s[x+2]-arr0s[x+1]:\n",
    "                z.append([arr0s[x], arr0s[x+1]])\n",
    "                x+=2 \n",
    "            else:\n",
    "                z.append([arr0s[x+1], arr0s[x+2]])\n",
    "                x+=3\n",
    "        else:\n",
    "            x+=1 \n",
    "    # from value in z, find the corresponding index in arr0\n",
    "    result_indexes = [[arr0.index(i[0]), arr0.index(i[1])]  for i in z] \n",
    "    # Adjust the index order\n",
    "    for i, j in enumerate(result_indexes): \n",
    "        if j[0]>j[1]:\n",
    "            result_indexes[i] = [j[1], j[0]]\n",
    "            \n",
    "    result_value = [[arr0[i[0]], arr0[i[1]]] for i in result_indexes]\n",
    "    return (result_indexes,result_value )\n",
    "arr0 = [40, 55, 190, 80, 175, 187]\n",
    "findClosetpair(arr0)"
   ]
  },
  {
   "cell_type": "code",
   "execution_count": null,
   "metadata": {},
   "outputs": [],
   "source": [
    "import random \n",
    "import time \n",
    "numb_elements = 6000\n",
    "sortedarray = []\n",
    "for i in range (0,numb_elements):\n",
    "    sortedarray.append(i)\n",
    "\n",
    "notsortedarray = random.sample(range(0,numb_elements),numb_elements)\n",
    "\n",
    "copy1 = sortedarray.copy()\n",
    "before = time.time()\n",
    "copy1 = bubbleSort(copy1)\n",
    "after = time.time()\n",
    "total = after-before  \n",
    "print(\"Bubblesort sortiertes Array:\\t\\t\" + str(total))\n",
    "\n",
    "copy2 = notsortedarray.copy()\n",
    "before = time.time()\n",
    "copy2 = bubbleSort(copy2)\n",
    "after = time.time()\n",
    "total = after-before\n",
    "print(\"Bubblesort nicht sortiertes Array:\\t\" + str(total))\n",
    "\n",
    "copy3 = sortedarray.copy()\n",
    "before = time.time()\n",
    "quickSort(copy3, 0, len(copy3)-1)\n",
    "after = time.time()\n",
    "total = after-before\n",
    "print(\"QuickSort sortiertes Array:\\t\\t\\t\" + str(total))\n",
    "\n",
    "copy4 = notsortedarray.copy()\n",
    "before = time.time()\n",
    "quickSort(copy4, 0, len(copy4)-1)\n",
    "after = time.time()\n",
    "total = after-before\n",
    "print(\"QuickSort nicht sortiertes Array:\\t\" + str(total)+\"\\t (Worst Case)\")\n"
   ]
  },
  {
   "cell_type": "markdown",
   "metadata": {},
   "source": [
    "# [Merge sort](https://www.interviewbit.com/tutorial/merge-sort-algorithm/)"
   ]
  },
  {
   "cell_type": "code",
   "execution_count": null,
   "metadata": {},
   "outputs": [],
   "source": [
    "def mergeSort(arr):\n",
    "    if len(arr) > 1:\n",
    "        mid = len(arr) // 2  # Finding the mid of the array\n",
    "        L = arr[:mid]  # Dividing the array elements\n",
    "        R = arr[mid:]  # into 2 halves\n",
    "\n",
    "        mergeSort(L)  # Sorting the first half\n",
    "        mergeSort(R)  # Sorting the second half\n",
    "\n",
    "        i = j = k = 0\n",
    "\n",
    "        # Copy data to temp arrays L[] and R[]\n",
    "        while i < len(L) and j < len(R):\n",
    "            if L[i] < R[j]:\n",
    "                arr[k] = L[i]\n",
    "                i += 1\n",
    "            else:\n",
    "                arr[k] = R[j]\n",
    "                j += 1\n",
    "            k += 1\n",
    "\n",
    "        # Checking if any element was left\n",
    "        while i < len(L):\n",
    "            arr[k] = L[i]\n",
    "            i += 1\n",
    "            k += 1\n",
    "\n",
    "        while j < len(R):\n",
    "            arr[k] = R[j]\n",
    "            j += 1\n",
    "            k += 1\n",
    "\n",
    "\n",
    "# Code to print the list\n",
    "def printList(arr):\n",
    "    for i in range(len(arr)):\n",
    "        print(arr[i], end=\" \")\n",
    "    print()\n",
    "\n",
    "\n",
    "# driver code to test the above code\n",
    "if __name__ == '__main__':\n",
    "    arr = [11, 10, 9, 8, 7, 6, 5, 4, 3, 2, 1]\n",
    "    print(\"Given array is\", end=\"\\n\")\n",
    "    printList(arr)\n",
    "    mergeSort(arr)\n",
    "    print(\"Sorted array is: \", end=\"\\n\")\n",
    "    printList(arr)\n"
   ]
  },
  {
   "cell_type": "code",
   "execution_count": null,
   "metadata": {},
   "outputs": [],
   "source": [
    "def merge_sort(unsorted_list):\n",
    "    if len(unsorted_list) <= 1:\n",
    "        return unsorted_list\n",
    "\n",
    "    middle = len(unsorted_list) // 2\n",
    "    left_list = unsorted_list[:middle]\n",
    "    right_list = unsorted_list[middle:]\n",
    "    \n",
    "    left_list = merge_sort(left_list)\n",
    "    right_list = merge_sort(right_list)\n",
    "    \n",
    "    return merge(left_list, right_list)\n",
    "\n",
    "def merge(left_half,right_half):\n",
    "\n",
    "    res = []\n",
    "    while len(left_half) != 0 and len(right_half) != 0:\n",
    "        if left_half[0] < right_half[0]:\n",
    "            res.append(left_half[0])\n",
    "            left_half.remove(left_half[0])\n",
    "        else:\n",
    "            res.append(right_half[0])\n",
    "            right_half.remove(right_half[0])\n",
    "    if len(left_half) == 0:\n",
    "        res = res + right_half\n",
    "    else:\n",
    "        res = res + left_half\n",
    "    return res\n",
    "\n",
    "unsorted_list = [64, 34, 25, 12, 22, 11, 90]\n",
    "\n",
    "print(merge_sort(unsorted_list))"
   ]
  },
  {
   "cell_type": "code",
   "execution_count": null,
   "metadata": {},
   "outputs": [],
   "source": [
    "def mergeSort(alist):\n",
    "   \n",
    "    if len(alist)>1:\n",
    "        print(\"Splitting \",alist)\n",
    "        mid = len(alist)//2\n",
    "        lefthalf = alist[:mid]\n",
    "        righthalf = alist[mid:]\n",
    "        print('Lefthalf is ', lefthalf)\n",
    "        print('Righthalf is ', righthalf)\n",
    "\n",
    "        mergeSort(lefthalf)\n",
    "        mergeSort(righthalf)\n",
    "\n",
    "        i=0\n",
    "        j=0\n",
    "        k=0\n",
    "        \n",
    "        print('Check ')\n",
    "        print('lefthalf = {} righthalf = {}'.format(lefthalf, righthalf))\n",
    "        while i < len(lefthalf) and j < len(righthalf):\n",
    "            if lefthalf[i] < righthalf[j]:\n",
    "                alist[k]=lefthalf[i]\n",
    "                i=i+1\n",
    "            else:\n",
    "                alist[k]=righthalf[j]\n",
    "                j=j+1\n",
    "            k=k+1\n",
    "        print('alist is {}'.format(alist))\n",
    "\n",
    "        while i < len(lefthalf):\n",
    "            print('righthalf is empty')\n",
    "            alist[k]=lefthalf[i]\n",
    "            i=i+1\n",
    "            k=k+1\n",
    "\n",
    "        while j < len(righthalf):\n",
    "            print('lefthalf is empty')\n",
    "            alist[k]=righthalf[j]\n",
    "            j=j+1\n",
    "            k=k+1\n",
    "        print('Ok! alist is {}'.format(alist))\n",
    "\n",
    "\n",
    "    return alist\n",
    "\n",
    "alist = [54,26,93,17,77,31,44,55,20]\n",
    "mergeSort(alist)\n",
    "print(alist)\n",
    "alist = [54]\n",
    "mergeSort(alist)"
   ]
  },
  {
   "cell_type": "markdown",
   "metadata": {},
   "source": [
    "https://stackoverflow.com/questions/2036772/how-to-keep-count-in-a-recursive-function-python"
   ]
  },
  {
   "cell_type": "markdown",
   "metadata": {},
   "source": [
    "# [Heap sort ](https://www.interviewcake.com/concept/java/heapsort)"
   ]
  },
  {
   "cell_type": "code",
   "execution_count": null,
   "metadata": {},
   "outputs": [],
   "source": [
    "def heapify(nums, heap_size, root_index):\n",
    "    largest = root_index\n",
    "    left_child = (2 * root_index) + 1\n",
    "    right_child = (2 * root_index) + 2\n",
    "\n",
    "    if left_child < heap_size and nums[left_child] > nums[largest]:\n",
    "        largest = left_child\n",
    "\n",
    "    if right_child < heap_size and nums[right_child] > nums[largest]:\n",
    "        largest = right_child\n",
    "\n",
    "    if largest != root_index:\n",
    "        nums[root_index], nums[largest] = nums[largest], nums[root_index]\n",
    "        heapify(nums, heap_size, largest)\n",
    "\n",
    "\n",
    "def heap_sort(nums):\n",
    "    n = len(nums)\n",
    "    print(n)\n",
    "\n",
    "    for i in range(n//2-1, -1, -1):\n",
    "        heapify(nums, n, i)\n",
    "    for i in range(n - 1, 0, -1):\n",
    "        nums[i], nums[0] = nums[0], nums[i]\n",
    "        heapify(nums, i, 0)\n",
    "\n",
    "\n",
    "# Verify it works\n",
    "random_list_of_nums = [35, -1, 4, -2, -4,  35, 22, 32, 67, 9, 12, 43, 8, 51, 0, 32]\n",
    "heap_sort(random_list_of_nums)\n",
    "print(random_list_of_nums)"
   ]
  },
  {
   "cell_type": "code",
   "execution_count": null,
   "metadata": {},
   "outputs": [],
   "source": [
    "def swap(i, j):                    \n",
    "    sqc[i], sqc[j] = sqc[j], sqc[i] \n",
    "\n",
    "def heapify(end,i):   \n",
    "    l=2 * i + 1  \n",
    "    r=2 * (i + 1)   \n",
    "    maxInd=i   \n",
    "    if l < end and sqc[i] < sqc[l]:   \n",
    "        maxInd = l   \n",
    "    if r < end and sqc[maxInd] < sqc[r]:   \n",
    "        maxInd = r   \n",
    "    if maxInd != i:   \n",
    "        swap(i, maxInd)   \n",
    "        heapify(end, maxInd)   \n",
    "\n",
    "def heap_sort():     \n",
    "    end = len(sqc)   \n",
    "    start = end // 2 - 1 # use // instead of /\n",
    "    for i in range(start, -1, -1):   \n",
    "        heapify(end, i)   \n",
    "    for i in range(end-1, 0, -1):   \n",
    "        swap(i, 0)   \n",
    "        heapify(i, 0)   \n",
    "\n",
    "sqc = [2, 7, 1, -2, 56, 5, 3]\n",
    "heap_sort()\n",
    "print(sqc)"
   ]
  }
 ],
 "metadata": {
  "hide_input": false,
  "kernelspec": {
   "display_name": "Python 3",
   "language": "python",
   "name": "python3"
  },
  "language_info": {
   "codemirror_mode": {
    "name": "ipython",
    "version": 3
   },
   "file_extension": ".py",
   "mimetype": "text/x-python",
   "name": "python",
   "nbconvert_exporter": "python",
   "pygments_lexer": "ipython3",
   "version": "3.7.4"
  },
  "toc": {
   "base_numbering": 1,
   "nav_menu": {},
   "number_sections": true,
   "sideBar": true,
   "skip_h1_title": false,
   "title_cell": "Table of Contents",
   "title_sidebar": "Contents",
   "toc_cell": false,
   "toc_position": {
    "height": "calc(100% - 180px)",
    "left": "10px",
    "top": "150px",
    "width": "284.390625px"
   },
   "toc_section_display": true,
   "toc_window_display": true
  },
  "varInspector": {
   "cols": {
    "lenName": 16,
    "lenType": 16,
    "lenVar": 40
   },
   "kernels_config": {
    "python": {
     "delete_cmd_postfix": "",
     "delete_cmd_prefix": "del ",
     "library": "var_list.py",
     "varRefreshCmd": "print(var_dic_list())"
    },
    "r": {
     "delete_cmd_postfix": ") ",
     "delete_cmd_prefix": "rm(",
     "library": "var_list.r",
     "varRefreshCmd": "cat(var_dic_list()) "
    }
   },
   "types_to_exclude": [
    "module",
    "function",
    "builtin_function_or_method",
    "instance",
    "_Feature"
   ],
   "window_display": false
  }
 },
 "nbformat": 4,
 "nbformat_minor": 2
}
