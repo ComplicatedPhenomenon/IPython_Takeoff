{
 "cells": [
  {
   "cell_type": "code",
   "execution_count": null,
   "metadata": {},
   "outputs": [],
   "source": [
    "import random "
   ]
  },
  {
   "cell_type": "markdown",
   "metadata": {},
   "source": [
    "<span style=\"font-family:New York Times; font-size:1.2em; color:green;\">\n",
    "    \n",
    "* https://github.com/HuberTRoy/leetCode"
   ]
  },
  {
   "cell_type": "markdown",
   "metadata": {},
   "source": [
    "# https://leetcode.com/problems/container-with-most-water"
   ]
  },
  {
   "cell_type": "markdown",
   "metadata": {},
   "source": [
    "![](https://s3-lc-upload.s3.amazonaws.com/uploads/2018/07/17/question_11.jpg)"
   ]
  },
  {
   "cell_type": "markdown",
   "metadata": {},
   "source": [
    "```md\n",
    "Input: [1,8,6,2,5,4,8,3,7]\n",
    "Output: 49\n",
    "```"
   ]
  },
  {
   "cell_type": "markdown",
   "metadata": {},
   "source": [
    "## Brutal solution"
   ]
  },
  {
   "cell_type": "code",
   "execution_count": null,
   "metadata": {},
   "outputs": [],
   "source": [
    "possibleVolume = []\n",
    "input = [1,8,6,2,5,4,8,3,7]\n",
    "for i in range(len(input)):\n",
    "    for j in range(i+1, len(input)):\n",
    "        possibleVolume.append((j-i)*min([input[i], input[j]]))"
   ]
  },
  {
   "cell_type": "code",
   "execution_count": null,
   "metadata": {},
   "outputs": [],
   "source": [
    "max(possibleVolume)"
   ]
  },
  {
   "cell_type": "code",
   "execution_count": null,
   "metadata": {},
   "outputs": [],
   "source": [
    "def maxVolume(input):\n",
    "    possibleVolume = []\n",
    "    for i in range(len(input)):\n",
    "        for j in range(i+1, len(input)):\n",
    "            possibleVolume.append((j-i)*min([input[i], input[j]]))\n",
    "    return  max(possibleVolume)"
   ]
  },
  {
   "cell_type": "code",
   "execution_count": null,
   "metadata": {},
   "outputs": [],
   "source": [
    "input = [1,8,6,2,5,4,8,3,7, 11, 21, 21, 32, 15, 17, 19, 18, 20]\n",
    "maxVolume(input)"
   ]
  },
  {
   "cell_type": "code",
   "execution_count": null,
   "metadata": {},
   "outputs": [],
   "source": [
    "input = [random.randint(1, 200) for i in range(10000)]"
   ]
  },
  {
   "cell_type": "code",
   "execution_count": null,
   "metadata": {},
   "outputs": [],
   "source": [
    "%time\n",
    "for i in range(len(input)):\n",
    "    for j in range(i+1, len(input)):\n",
    "        possibleVolume.append((j-i)*min([input[i], input[j]]))"
   ]
  },
  {
   "cell_type": "code",
   "execution_count": null,
   "metadata": {},
   "outputs": [],
   "source": [
    "%time\n",
    "#sorted(possibleVolume);\n",
    "max(possibleVolume)"
   ]
  },
  {
   "cell_type": "markdown",
   "metadata": {},
   "source": [
    "## Wise solution"
   ]
  },
  {
   "cell_type": "markdown",
   "metadata": {},
   "source": [
    "<span style=\"font-family:New York Times; font-size:1.2em; color:green;\">\n",
    "    \n",
    "* Pick out the initial point from left, O\n",
    "* Find out the  the farthest one  more than O\n",
    "* Pick out the initial point from right"
   ]
  },
  {
   "cell_type": "code",
   "execution_count": null,
   "metadata": {},
   "outputs": [],
   "source": [
    "for index, i in enumerate([1,8,6,2,5,4,8,3,7]):\n",
    "    print(index, i)"
   ]
  },
  {
   "cell_type": "code",
   "execution_count": null,
   "metadata": {},
   "outputs": [],
   "source": [
    "input.pop()"
   ]
  },
  {
   "cell_type": "code",
   "execution_count": null,
   "metadata": {},
   "outputs": [],
   "source": [
    "input = [1,8,6,2,5,4,8,3,7]\n",
    "input[9::]\n",
    "len([])"
   ]
  },
  {
   "cell_type": "code",
   "execution_count": null,
   "metadata": {},
   "outputs": [],
   "source": [
    "input[:-1:]"
   ]
  },
  {
   "cell_type": "code",
   "execution_count": null,
   "metadata": {},
   "outputs": [],
   "source": [
    "# Now the complexity is O(n) not O(n!)\n",
    "def singleDirectionMax(input):\n",
    "    volume = []\n",
    "    a = []\n",
    "    for i in range(len(input)):\n",
    "        for j in range(i+1, len(input)):\n",
    "            # find out the farthest j from i satisfying j > i\n",
    "            if input[j] > input[i]:\n",
    "                a.append(j)\n",
    "        if len(a) != 0:\n",
    "            jmax = a.pop()\n",
    "        # find with a certain i, the biggest volume\n",
    "        volume.append((jmax-i)*input[i])\n",
    "        #print(volume)\n",
    "    return(max(volume))"
   ]
  },
  {
   "cell_type": "code",
   "execution_count": null,
   "metadata": {},
   "outputs": [],
   "source": [
    "singleDirectionMax(input = [1,8,6,2,5,4,8,3,7])"
   ]
  },
  {
   "cell_type": "code",
   "execution_count": null,
   "metadata": {},
   "outputs": [],
   "source": [
    "singleDirectionMax(input = list(reversed([1,8,6,2,5,4,8,3,7])))"
   ]
  },
  {
   "cell_type": "code",
   "execution_count": null,
   "metadata": {},
   "outputs": [],
   "source": [
    "def singleDirectionMax(input):\n",
    "    volume = []\n",
    "    a = []\n",
    "    for i in range(len(input)):\n",
    "        for j in range(i+1, len(input)):\n",
    "            if input[j] > input[i]:\n",
    "                a.append(j)\n",
    "        if len(a) != 0:\n",
    "            jmax = a.pop()\n",
    "        volume.append((jmax-i)*input[i])\n",
    "    return(max(volume))\n",
    "def doubleDirectionMax(input):\n",
    "    input1 = input \n",
    "    input2 = list(reversed(input))\n",
    "    a1 = singleDirectionMax(input1)\n",
    "    a2 = singleDirectionMax(input2)\n",
    "    return(max([a1, a2]))"
   ]
  },
  {
   "cell_type": "code",
   "execution_count": null,
   "metadata": {},
   "outputs": [],
   "source": [
    "input = [1,8,6,2,5,4,8,3,7]\n",
    "doubleDirectionMax(input)"
   ]
  },
  {
   "cell_type": "markdown",
   "metadata": {},
   "source": [
    "# https://leetcode.com/contest/weekly-contest-98/problems/fair-candy-swap/"
   ]
  },
  {
   "cell_type": "markdown",
   "metadata": {},
   "source": [
    "## Brutal solution"
   ]
  },
  {
   "cell_type": "code",
   "execution_count": null,
   "metadata": {},
   "outputs": [],
   "source": [
    "A = [1,2,5]\n",
    "B = [2,4]\n",
    "exchange = [5,4]"
   ]
  },
  {
   "cell_type": "code",
   "execution_count": null,
   "metadata": {},
   "outputs": [],
   "source": [
    "for i in A:\n",
    "    for j in B:\n",
    "        if sum(A) -i + j == sum(B) -j +i :\n",
    "            print(i, j)"
   ]
  },
  {
   "cell_type": "code",
   "execution_count": null,
   "metadata": {},
   "outputs": [],
   "source": [
    "def exchangeTheSizeOfThese2Candies(A, B):\n",
    "    for i in A:\n",
    "        for j in B:\n",
    "            if sum(A) -i + j == sum(B) -j +i :\n",
    "                return ([i, j])"
   ]
  },
  {
   "cell_type": "code",
   "execution_count": null,
   "metadata": {},
   "outputs": [],
   "source": [
    "A = [1,2,4,5]\n",
    "B = [2,3,6,7]\n",
    "exchangeTheSizeOfThese2Candies(A,B)"
   ]
  },
  {
   "cell_type": "markdown",
   "metadata": {},
   "source": [
    "## Elegant solution"
   ]
  },
  {
   "cell_type": "code",
   "execution_count": null,
   "metadata": {},
   "outputs": [],
   "source": [
    "def fairCandySwap(A, B):\n",
    "    x = (sum(A) - sum(B)) // 2\n",
    "    b = set(B)        \n",
    "    for i in A:\n",
    "        if i - x in b:\n",
    "            return ([i, i-x])\n",
    "        \n",
    "A = [1,2,4,5]\n",
    "B = [2,3,6,7]\n",
    "\n",
    "fairCandySwap(A, B)"
   ]
  },
  {
   "cell_type": "code",
   "execution_count": null,
   "metadata": {},
   "outputs": [],
   "source": [
    "(9-1) // 2"
   ]
  },
  {
   "cell_type": "markdown",
   "metadata": {},
   "source": [
    "# https://leetcode.com/problems/find-first-and-last-position-of-element-in-sorted-array "
   ]
  },
  {
   "cell_type": "markdown",
   "metadata": {},
   "source": [
    "Given an array of integers nums sorted in ascending order, find the starting and ending position of a given target value.\n",
    "\n",
    "Your algorithm's runtime complexity must be in the order of $O(log n)$.\n",
    "\n",
    "If the target is not found in the array, return [-1, -1].\n",
    "```md\n",
    "Example 1:\n",
    "\n",
    "Input: nums = [5,7,7,8,8,10], target = 8\n",
    "Output: [3,4]\n",
    "\n",
    "Example 2:\n",
    "\n",
    "Input: nums = [5,7,7,8,8,10], target = 6\n",
    "Output: [-1,-1]\n",
    "```\n"
   ]
  },
  {
   "cell_type": "markdown",
   "metadata": {},
   "source": [
    "## Brutal solution"
   ]
  },
  {
   "cell_type": "code",
   "execution_count": null,
   "metadata": {},
   "outputs": [],
   "source": [
    "nums = [5,7,7,8,8,8, 8, 10]\n",
    "target = 8\n",
    "a  = []\n",
    "for index, i in enumerate(nums):\n",
    "    if i == target:\n",
    "        a.append(index)\n",
    "print(a[0], a[-1])"
   ]
  },
  {
   "cell_type": "code",
   "execution_count": null,
   "metadata": {},
   "outputs": [],
   "source": [
    "def findPositionOfTarget(nums, target):\n",
    "    a  = []\n",
    "    for index, i in enumerate(nums):\n",
    "        if i == target:\n",
    "            a.append(index)\n",
    "    return (a[0], a[-1])"
   ]
  },
  {
   "cell_type": "markdown",
   "metadata": {},
   "source": [
    "## Elegant solution"
   ]
  },
  {
   "cell_type": "code",
   "execution_count": null,
   "metadata": {},
   "outputs": [],
   "source": [
    "3//2\n",
    "5//2\n",
    "1<=2"
   ]
  },
  {
   "cell_type": "code",
   "execution_count": null,
   "metadata": {},
   "outputs": [],
   "source": [
    "import math"
   ]
  },
  {
   "cell_type": "code",
   "execution_count": null,
   "metadata": {},
   "outputs": [],
   "source": [
    "math.log(math.e)"
   ]
  },
  {
   "cell_type": "code",
   "execution_count": null,
   "metadata": {},
   "outputs": [],
   "source": [
    "i1 = len(nums)//2\n",
    "if nums[i1]  < target: # Then target will be in nums[i1 + 1::]\n",
    "    \n",
    "i21 = (len(nums) + i1)//2\n",
    "i20 = i1 // 2\n",
    "    "
   ]
  },
  {
   "cell_type": "markdown",
   "metadata": {},
   "source": [
    "# https://leetcode.com/problems/find-minimum-in-rotated-sorted-array"
   ]
  },
  {
   "cell_type": "markdown",
   "metadata": {},
   "source": [
    "Suppose an array sorted in ascending order is rotated at some pivot unknown to you beforehand.\n",
    "\n",
    "(i.e.,  [0,1,2,4,5,6,7] might become  [4,5,6,7,0,1,2]).\n",
    "\n",
    "Find the minimum element.\n",
    "\n",
    "You may assume no duplicate exists in the array.\n",
    "```md\n",
    "Example 1:\n",
    "\n",
    "Input: [3,4,5,1,2] \n",
    "Output: 1\n",
    "\n",
    "Example 2:\n",
    "\n",
    "Input: [4,5,6,7,0,1,2]\n",
    "Output: 0\n",
    "```\n"
   ]
  },
  {
   "cell_type": "markdown",
   "metadata": {},
   "source": [
    "# Reverse a integer"
   ]
  },
  {
   "cell_type": "code",
   "execution_count": 2,
   "metadata": {},
   "outputs": [],
   "source": [
    "def reverse(x):\n",
    "\n",
    "    sign = -1 if x < 0 else 1  # preserve the sign first\n",
    "    x *= sign\n",
    "\n",
    "    # eliminated leading zero in the reversed integer\n",
    "    while x:\n",
    "        if x%10 == 0:\n",
    "            x /= 10\n",
    "        else:\n",
    "            break\n",
    "\n",
    "    # string manipulation\n",
    "    x = str(x)\n",
    "    lst = list(x)  # list('123') returns ['1', '2', '3']\n",
    "    lst.reverse()\n",
    "    x = \"\".join(lst)\n",
    "    x = int(x)\n",
    "    return sign*x"
   ]
  },
  {
   "cell_type": "code",
   "execution_count": 4,
   "metadata": {},
   "outputs": [
    {
     "data": {
      "text/plain": [
       "142321"
      ]
     },
     "execution_count": 4,
     "metadata": {},
     "output_type": "execute_result"
    }
   ],
   "source": [
    "reverse(123241)"
   ]
  },
  {
   "cell_type": "code",
   "execution_count": 5,
   "metadata": {},
   "outputs": [
    {
     "data": {
      "text/plain": [
       "'123'"
      ]
     },
     "execution_count": 5,
     "metadata": {},
     "output_type": "execute_result"
    }
   ],
   "source": [
    "str(123)"
   ]
  },
  {
   "cell_type": "code",
   "execution_count": 12,
   "metadata": {},
   "outputs": [],
   "source": [
    "lst = list('1223')\n",
    "lst.reverse()"
   ]
  },
  {
   "cell_type": "code",
   "execution_count": 13,
   "metadata": {},
   "outputs": [
    {
     "data": {
      "text/plain": [
       "'3221'"
      ]
     },
     "execution_count": 13,
     "metadata": {},
     "output_type": "execute_result"
    }
   ],
   "source": [
    "\"\".join(lst)"
   ]
  },
  {
   "cell_type": "markdown",
   "metadata": {},
   "source": [
    "# "
   ]
  },
  {
   "cell_type": "code",
   "execution_count": 14,
   "metadata": {},
   "outputs": [],
   "source": [
    "class Solution:\n",
    "    def atoi(self, str):\n",
    "        \"\"\"\n",
    "        Need to satisfy all the nuance requirements\n",
    "\n",
    "        :param str: string\n",
    "        :return: int\n",
    "        \"\"\"\n",
    "        INT_MAX = 2147483647\n",
    "        INT_MIN = -2147483648\n",
    "        # clean\n",
    "        str = str.strip()\n",
    "        if not str:\n",
    "            return 0\n",
    "\n",
    "        # clean up leading sign\n",
    "        sign = 1\n",
    "        if str[0] in (\"+\", \"-\"):\n",
    "            if str[0] == \"-\":\n",
    "                sign = -1\n",
    "            str = str[1:]\n",
    "\n",
    "        # check for leading digit\n",
    "        if not str[0].isdigit():\n",
    "            return 0\n",
    "\n",
    "        # ignore the non-digit appended behind\n",
    "        # The string can contain additional characters after those that form the integral number,\n",
    "        # which are ignored and have no effect on the behavior of this function\n",
    "        for ind, val in enumerate(str):  # find the 1st non-digit\n",
    "            if not val.isdigit():\n",
    "                str = str[:ind]\n",
    "                break\n",
    "\n",
    "\n",
    "\n",
    "\n",
    "        # convert char array to integer\n",
    "        sum = 0\n",
    "        scale = 1\n",
    "        for element in str[::-1]:\n",
    "            sum += scale*int(element)\n",
    "            scale *= 10\n",
    "\n",
    "        # return sign*sum, and pay attention to the C constraints\n",
    "        result = sign*sum\n",
    "        if result > INT_MAX:\n",
    "            return INT_MAX\n",
    "        if result < INT_MIN:\n",
    "            return INT_MIN\n",
    "        return result\n"
   ]
  },
  {
   "cell_type": "code",
   "execution_count": 16,
   "metadata": {},
   "outputs": [
    {
     "name": "stdout",
     "output_type": "stream",
     "text": [
      "(2, 3)\n"
     ]
    }
   ],
   "source": [
    "class Solution:\n",
    "    \"\"\"\n",
    "    def twoSum_TLE(self, num, target):\n",
    "        nums = num\n",
    "        for ind1, val in enumerate(nums):\n",
    "            try:\n",
    "                ind2 = nums.index(target - val)\n",
    "                return ind1+1, ind2+1\n",
    "            except ValueError:\n",
    "                continue\n",
    "\n",
    "    def twoSum_TLE_2(self, num, target):\n",
    "        nums = num\n",
    "        for ind1, val in enumerate(nums):\n",
    "            if target-val in nums:\n",
    "                return ind1+1, nums.index(target-val)+1\n",
    "    \"\"\"\n",
    "    def twoSum(self, num, target):\n",
    "        \"\"\"\n",
    "        Hash Map\n",
    "\n",
    "        :param num: list\n",
    "        :param target: int\n",
    "        :return: tuple, (index1, index2)\n",
    "        \"\"\"\n",
    "        hash_map = {}\n",
    "        for ind, val in enumerate(num):\n",
    "            hash_map[val] = ind\n",
    "\n",
    "        for ind1, val in enumerate(num):\n",
    "            if target-val in hash_map:\n",
    "                ind2 = hash_map[target-val]\n",
    "                if ind1!=ind2:\n",
    "                    return ind1+1, ind2+1\n",
    "\n",
    "\n",
    "if __name__==\"__main__\":\n",
    "    print(Solution().twoSum([3, 2, 4], 6))"
   ]
  },
  {
   "cell_type": "code",
   "execution_count": 7,
   "metadata": {},
   "outputs": [
    {
     "name": "stdout",
     "output_type": "stream",
     "text": [
      "0 1\n",
      "1 2\n",
      "2 32\n",
      "3 21\n",
      "4 24\n",
      "5 4\n",
      "6 2\n"
     ]
    }
   ],
   "source": [
    "hash_map={}\n",
    "num = [1, 2, 32, 21, 24, 4, 2]\n",
    "for ind, val in enumerate(num):\n",
    "    print(ind, val) \n",
    "    hash_map[val] = ind "
   ]
  },
  {
   "cell_type": "code",
   "execution_count": 8,
   "metadata": {},
   "outputs": [
    {
     "data": {
      "text/plain": [
       "{1: 0, 2: 6, 32: 2, 21: 3, 24: 4, 4: 5}"
      ]
     },
     "execution_count": 8,
     "metadata": {},
     "output_type": "execute_result"
    }
   ],
   "source": [
    "hash_map"
   ]
  },
  {
   "cell_type": "code",
   "execution_count": 11,
   "metadata": {},
   "outputs": [
    {
     "data": {
      "text/plain": [
       "2"
      ]
     },
     "execution_count": 11,
     "metadata": {},
     "output_type": "execute_result"
    }
   ],
   "source": [
    "hash_map[32]"
   ]
  },
  {
   "cell_type": "code",
   "execution_count": 12,
   "metadata": {},
   "outputs": [],
   "source": [
    "hash_map[32] = 7"
   ]
  },
  {
   "cell_type": "code",
   "execution_count": 13,
   "metadata": {},
   "outputs": [
    {
     "data": {
      "text/plain": [
       "{1: 0, 2: 6, 32: 7, 21: 3, 24: 4, 4: 5}"
      ]
     },
     "execution_count": 13,
     "metadata": {},
     "output_type": "execute_result"
    }
   ],
   "source": [
    "hash_map"
   ]
  },
  {
   "cell_type": "markdown",
   "metadata": {},
   "source": [
    "# https://leetcode.com/problems/ugly-number/"
   ]
  },
  {
   "cell_type": "markdown",
   "metadata": {},
   "source": []
  }
 ],
 "metadata": {
  "hide_input": false,
  "kernelspec": {
   "display_name": "Python 3",
   "language": "python",
   "name": "python3"
  },
  "language_info": {
   "codemirror_mode": {
    "name": "ipython",
    "version": 3
   },
   "file_extension": ".py",
   "mimetype": "text/x-python",
   "name": "python",
   "nbconvert_exporter": "python",
   "pygments_lexer": "ipython3",
   "version": "3.7.2"
  },
  "toc": {
   "base_numbering": 1,
   "nav_menu": {},
   "number_sections": true,
   "sideBar": true,
   "skip_h1_title": false,
   "title_cell": "Table of Contents",
   "title_sidebar": "Contents",
   "toc_cell": false,
   "toc_position": {},
   "toc_section_display": true,
   "toc_window_display": false
  },
  "varInspector": {
   "cols": {
    "lenName": 16,
    "lenType": 16,
    "lenVar": 40
   },
   "kernels_config": {
    "python": {
     "delete_cmd_postfix": "",
     "delete_cmd_prefix": "del ",
     "library": "var_list.py",
     "varRefreshCmd": "print(var_dic_list())"
    },
    "r": {
     "delete_cmd_postfix": ") ",
     "delete_cmd_prefix": "rm(",
     "library": "var_list.r",
     "varRefreshCmd": "cat(var_dic_list()) "
    }
   },
   "types_to_exclude": [
    "module",
    "function",
    "builtin_function_or_method",
    "instance",
    "_Feature"
   ],
   "window_display": false
  }
 },
 "nbformat": 4,
 "nbformat_minor": 2
}
