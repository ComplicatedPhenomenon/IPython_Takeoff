{
 "cells": [
  {
   "cell_type": "code",
   "execution_count": 1,
   "metadata": {},
   "outputs": [],
   "source": [
    "from IPython.core.interactiveshell import InteractiveShell\n",
    "InteractiveShell.ast_node_interactivity = \"all\""
   ]
  },
  {
   "cell_type": "code",
   "execution_count": null,
   "metadata": {},
   "outputs": [],
   "source": [
    "import random "
   ]
  },
  {
   "cell_type": "markdown",
   "metadata": {},
   "source": [
    "<span style=\"font-family:New York Times; font-size:1.2em; color:green;\">\n",
    "    \n",
    "* https://github.com/HuberTRoy/leetCode"
   ]
  },
  {
   "cell_type": "markdown",
   "metadata": {},
   "source": [
    "# https://leetcode.com/problems/container-with-most-water"
   ]
  },
  {
   "cell_type": "markdown",
   "metadata": {},
   "source": [
    "![](https://s3-lc-upload.s3.amazonaws.com/uploads/2018/07/17/question_11.jpg)"
   ]
  },
  {
   "cell_type": "markdown",
   "metadata": {},
   "source": [
    "```md\n",
    "Input: [1,8,6,2,5,4,8,3,7]\n",
    "Output: 49\n",
    "```"
   ]
  },
  {
   "cell_type": "markdown",
   "metadata": {},
   "source": [
    "## Brutal solution"
   ]
  },
  {
   "cell_type": "code",
   "execution_count": 59,
   "metadata": {},
   "outputs": [],
   "source": [
    "possibleVolume = []\n",
    "input = [1,8,6,2,5,4,8,3,7]\n",
    "for i in range(len(input)):\n",
    "    for j in range(i+1, len(input)):\n",
    "        possibleVolume.append((j-i)*min([input[i], input[j]]))"
   ]
  },
  {
   "cell_type": "code",
   "execution_count": 60,
   "metadata": {},
   "outputs": [
    {
     "data": {
      "text/plain": [
       "49"
      ]
     },
     "execution_count": 60,
     "metadata": {},
     "output_type": "execute_result"
    }
   ],
   "source": [
    "max(possibleVolume)"
   ]
  },
  {
   "cell_type": "code",
   "execution_count": 61,
   "metadata": {},
   "outputs": [],
   "source": [
    "def maxVolume(input):\n",
    "    possibleVolume = []\n",
    "    for i in range(len(input)):\n",
    "        for j in range(i+1, len(input)):\n",
    "            possibleVolume.append((j-i)*min([input[i], input[j]]))\n",
    "    return  max(possibleVolume)"
   ]
  },
  {
   "cell_type": "code",
   "execution_count": 62,
   "metadata": {},
   "outputs": [
    {
     "data": {
      "text/plain": [
       "17"
      ]
     },
     "execution_count": 62,
     "metadata": {},
     "output_type": "execute_result"
    }
   ],
   "source": [
    "input = [2,3,4,5,18,17,6]\n",
    "maxVolume(input)"
   ]
  },
  {
   "cell_type": "code",
   "execution_count": null,
   "metadata": {},
   "outputs": [],
   "source": [
    "input = [random.randint(1, 200) for i in range(10000)]"
   ]
  },
  {
   "cell_type": "code",
   "execution_count": null,
   "metadata": {},
   "outputs": [],
   "source": [
    "%time\n",
    "for i in range(len(input)):\n",
    "    for j in range(i+1, len(input)):\n",
    "        possibleVolume.append((j-i)*min([input[i], input[j]]))"
   ]
  },
  {
   "cell_type": "code",
   "execution_count": null,
   "metadata": {},
   "outputs": [],
   "source": [
    "%time\n",
    "#sorted(possibleVolume);\n",
    "max(possibleVolume)"
   ]
  },
  {
   "cell_type": "markdown",
   "metadata": {},
   "source": [
    "## Wise solution"
   ]
  },
  {
   "cell_type": "markdown",
   "metadata": {},
   "source": [
    "<span style=\"font-family:New York Times; font-size:1.2em; color:green;\">\n",
    "  \n",
    "* Pick out the initial point from left, O\n",
    "* Find out the  the farthest one  more than O\n",
    "* Pick out the initial point from right(Why? take input as [3, 1) for example)\n",
    "\n",
    "这个问题可以抽象为在一个数组中选两个数，它们的间隔乘以这两个数之间的最小值的结果最大。"
   ]
  },
  {
   "cell_type": "code",
   "execution_count": 44,
   "metadata": {},
   "outputs": [
    {
     "data": {
      "text/plain": [
       "49"
      ]
     },
     "execution_count": 44,
     "metadata": {},
     "output_type": "execute_result"
    }
   ],
   "source": [
    "def singleDirectionMax(nums):\n",
    "    volume = []\n",
    "    a = []\n",
    "    for i in range(len(nums)):\n",
    "        for j in range(i+1, len(nums)):\n",
    "            if nums[j] > nums[i]:\n",
    "                a.append(j)\n",
    "        if len(a) != 0:\n",
    "            jmax = a.pop()\n",
    "        volume.append((jmax-i)*nums[i])\n",
    "    return(max(volume))\n",
    "def doubleDirectionMax(nums):\n",
    "    nums1 = nums \n",
    "    nums2 = list(reversed(nums))\n",
    "    a1 = singleDirectionMax(nums1)\n",
    "    a2 = singleDirectionMax(nums2)\n",
    "    return(max([a1, a2]))\n",
    "\n",
    "input = [1,8,6,2,5,4,8,3,7]\n",
    "doubleDirectionMax(input)"
   ]
  },
  {
   "cell_type": "markdown",
   "metadata": {},
   "source": [
    "```md \n",
    "Input\n",
    "a.maxArea([2,3,4,5,18,17,6])\n",
    "Output\n",
    "18\n",
    "Expected\n",
    "17\n",
    "```"
   ]
  },
  {
   "cell_type": "code",
   "execution_count": 7,
   "metadata": {},
   "outputs": [
    {
     "data": {
      "text/plain": [
       "49"
      ]
     },
     "execution_count": 7,
     "metadata": {},
     "output_type": "execute_result"
    },
    {
     "data": {
      "text/plain": [
       "17"
      ]
     },
     "execution_count": 7,
     "metadata": {},
     "output_type": "execute_result"
    }
   ],
   "source": [
    "# Not robust, can't pass test\n",
    "# Time Limit Exceeded\n",
    "class Solution:\n",
    "    def maxArea(self, height) -> int:\n",
    "        n = len(height)\n",
    "        thgieh = list(reversed(height))\n",
    "        volume = []\n",
    "        for i in range(n):\n",
    "            a = []\n",
    "            for j in range(i+1, n):\n",
    "                if height[j] >= height[i]:\n",
    "                    a.append(j)\n",
    "            if len(a) != 0:\n",
    "                jmax = a.pop()\n",
    "                volume.append((jmax-i)*height[i])\n",
    "        \n",
    "        #volume.append((jmax-i)*height[i])\n",
    "        \n",
    "        for i in range(n):\n",
    "            a = []\n",
    "            for j in range(i+1, n):\n",
    "                if thgieh[j] >= thgieh[i]:\n",
    "                    a.append(j)\n",
    "            if len(a) != 0:\n",
    "                jmax = a.pop()\n",
    "                volume.append((jmax-i)*thgieh[i])\n",
    "                #print(jmax-i)\n",
    "                #print(volume)\n",
    "        return(max(volume))\n",
    "a = Solution()\n",
    "a.maxArea( [1,8,6,2,5,4,8,3,7])\n",
    "a.maxArea([2,3,4,5,18,17,6])\n",
    "\n"
   ]
  },
  {
   "cell_type": "code",
   "execution_count": 13,
   "metadata": {},
   "outputs": [
    {
     "name": "stdout",
     "output_type": "stream",
     "text": [
      "40\n"
     ]
    },
    {
     "data": {
      "text/plain": [
       "48"
      ]
     },
     "execution_count": 13,
     "metadata": {},
     "output_type": "execute_result"
    },
    {
     "name": "stdout",
     "output_type": "stream",
     "text": [
      "16\n"
     ]
    },
    {
     "data": {
      "text/plain": [
       "16"
      ]
     },
     "execution_count": 13,
     "metadata": {},
     "output_type": "execute_result"
    }
   ],
   "source": [
    "# Not robust, can't pass test\n",
    "# Time Limit Exceeded\n",
    "class Solution:\n",
    "    def maxArea(self, height) -> int:\n",
    "        n = len(height)\n",
    "        thgieh = list(reversed(height))\n",
    "        volume = 0\n",
    "        for i in range(n):\n",
    "            a = []\n",
    "            for j in range(i+1, n):\n",
    "                if height[j] >= height[i]:\n",
    "                    a.append(j)\n",
    "            if len(a) != 0:\n",
    "                jmax = a.pop()\n",
    "                new = (jmax-i)*height[i]\n",
    "                volume = max(volume, new)\n",
    "        \n",
    "        #volume.append((jmax-i)*height[i])\n",
    "        print(volume)\n",
    "        \n",
    "        for i in range(n):\n",
    "            a = []\n",
    "            for j in range(i+1, n):\n",
    "                if thgieh[j] >= thgieh[i]:\n",
    "                    a.append(j)\n",
    "            if len(a) != 0:\n",
    "                jmax = a.pop()\n",
    "                new = (jmax-i)*height[i]\n",
    "                volume = max(volume, new)\n",
    "                #print(jmax-i)\n",
    "                #print(volume)\n",
    "        return(volume)\n",
    "a = Solution()\n",
    "a.maxArea( [1,8,6,2,5,4,8,3,7])\n",
    "a.maxArea([2,3,4,5,18,17,6])\n",
    "\n",
    "\n"
   ]
  },
  {
   "cell_type": "code",
   "execution_count": 15,
   "metadata": {},
   "outputs": [
    {
     "data": {
      "text/plain": [
       "49"
      ]
     },
     "execution_count": 15,
     "metadata": {},
     "output_type": "execute_result"
    }
   ],
   "source": [
    "# 两个指针\n",
    "class Solution:\n",
    "\tdef maxArea(self, height) -> int:\n",
    "\t\tres=0\n",
    "\t\tstart=0\n",
    "\t\tend=len(height)-1\n",
    "\t\twhile start<end:\n",
    "\t\t\tarea=(end-start)*min(height[end],height[start])\n",
    "\t\t\tres=max(res,area)\n",
    "\t\t\tif height[end]>height[start]:\n",
    "\t\t\t\tstart+=1\n",
    "\t\t\telse:\n",
    "\t\t\t\tend-=1\n",
    "\t\treturn res\n",
    "a = Solution()\n",
    "a.maxArea( [1,8,6,2,5,4,8,3,7])"
   ]
  },
  {
   "cell_type": "code",
   "execution_count": 16,
   "metadata": {},
   "outputs": [
    {
     "data": {
      "text/plain": [
       "8"
      ]
     },
     "execution_count": 16,
     "metadata": {},
     "output_type": "execute_result"
    }
   ],
   "source": [
    "class Solution:\n",
    "\tdef maxArea(self, height) -> int:\n",
    "\t\tres=0\n",
    "\t\tstart=0\n",
    "\t\tend=len(height)-1\n",
    "\t\twhile start<end:\n",
    "\t\t\tarea=(end-start)*min(height[end],height[start])\n",
    "\t\t\tres=max(res,area)\n",
    "\t\t\tif height[end]<height[start]:        \n",
    "\t\t\t\tstart+=1\n",
    "                # area: uperlimit height[end]*(end-start-1)\n",
    "                #      lower limit res\n",
    "\t\t\telse:\n",
    "\t\t\t\tend-=1\n",
    "                \n",
    "\t\treturn res\n",
    "a = Solution()\n",
    "a.maxArea( [1,8,6,2,5,4,8,3,7])"
   ]
  },
  {
   "cell_type": "markdown",
   "metadata": {},
   "source": [
    "# https://leetcode.com/contest/weekly-contest-98/problems/fair-candy-swap/"
   ]
  },
  {
   "cell_type": "markdown",
   "metadata": {},
   "source": [
    "## Brutal solution"
   ]
  },
  {
   "cell_type": "code",
   "execution_count": null,
   "metadata": {},
   "outputs": [],
   "source": [
    "A = [1,2,5]\n",
    "B = [2,4]\n",
    "exchange = [5,4]"
   ]
  },
  {
   "cell_type": "code",
   "execution_count": null,
   "metadata": {},
   "outputs": [],
   "source": [
    "for i in A:dd\n",
    "    for j in B:\n",
    "        if sum(A) -i + j == sum(B) -j +i :\n",
    "            print(i, j)"
   ]
  },
  {
   "cell_type": "code",
   "execution_count": null,
   "metadata": {},
   "outputs": [],
   "source": [
    "def exchangeTheSizeOfThese2Candies(A, B):\n",
    "    for i in A:\n",
    "        for j in B:\n",
    "            if sum(A) -i + j == sum(B) -j +i :\n",
    "                return ([i, j])"
   ]
  },
  {
   "cell_type": "code",
   "execution_count": null,
   "metadata": {},
   "outputs": [],
   "source": [
    "A = [1,2,4,5]\n",
    "B = [2,3,6,7]\n",
    "exchangeTheSizeOfThese2Candies(A,B)"
   ]
  },
  {
   "cell_type": "markdown",
   "metadata": {},
   "source": [
    "## Elegant solution"
   ]
  },
  {
   "cell_type": "code",
   "execution_count": null,
   "metadata": {},
   "outputs": [],
   "source": [
    "def fairCandySwap(A, B):\n",
    "    x = (sum(A) - sum(B)) // 2\n",
    "    b = set(B)        \n",
    "    for i in A:\n",
    "        if i - x in b:\n",
    "            return ([i, i-x])\n",
    "        \n",
    "A = [1,2,4,5]\n",
    "B = [2,3,6,7]\n",
    "\n",
    "fairCandySwap(A, B)"
   ]
  },
  {
   "cell_type": "code",
   "execution_count": null,
   "metadata": {},
   "outputs": [],
   "source": [
    "(9-1) // 2"
   ]
  },
  {
   "cell_type": "markdown",
   "metadata": {},
   "source": [
    "# https://leetcode.com/problems/find-first-and-last-position-of-element-in-sorted-array "
   ]
  },
  {
   "cell_type": "markdown",
   "metadata": {},
   "source": [
    "Given an array of integers nums sorted in ascending order, find the starting and ending position of a given target value.\n",
    "\n",
    "Your algorithm's runtime complexity must be in the order of **$O(log n)$**.\n",
    "\n",
    "If the target is not found in the array, return [-1, -1].\n",
    "```md\n",
    "Example 1:\n",
    "\n",
    "Input: nums = [5,7,7,8,8,10], target = 8\n",
    "Output: [3,4]\n",
    "\n",
    "Example 2:\n",
    "\n",
    "Input: nums = [5,7,7,8,8,10], target = 6\n",
    "Output: [-1,-1]\n",
    "```\n"
   ]
  },
  {
   "cell_type": "markdown",
   "metadata": {},
   "source": [
    "## Brutal solution"
   ]
  },
  {
   "cell_type": "code",
   "execution_count": 12,
   "metadata": {},
   "outputs": [],
   "source": [
    "# Wrong time complexity\n",
    "def findPositionOfTarget(nums, target):\n",
    "    a  = [] # requiring new space\n",
    "    for i, val in enumerate(nums):\n",
    "        if val == target:\n",
    "              a.append(i)\n",
    "    if len(a)==0:\n",
    "        return [-1, -1]\n",
    "    else:\n",
    "        return (a[0], a[-1])"
   ]
  },
  {
   "cell_type": "code",
   "execution_count": 11,
   "metadata": {},
   "outputs": [
    {
     "data": {
      "text/plain": [
       "(4, 4)"
      ]
     },
     "execution_count": 11,
     "metadata": {},
     "output_type": "execute_result"
    }
   ],
   "source": [
    "findPositionOfTarget([5,7,8,8,10], 10)"
   ]
  },
  {
   "cell_type": "markdown",
   "metadata": {},
   "source": [
    "## Elegant solution"
   ]
  },
  {
   "cell_type": "code",
   "execution_count": 36,
   "metadata": {},
   "outputs": [
    {
     "data": {
      "text/plain": [
       "[-1, -1]"
      ]
     },
     "execution_count": 36,
     "metadata": {},
     "output_type": "execute_result"
    }
   ],
   "source": [
    "# Runtime: 40 ms, faster than 68.20% of Python3 online submissions for Find First and Last Position of Element in Sorted Array.\n",
    "# Memory Usage: 13.9 MB, less than 34.36% of Python3 online submissions for Find First and Last Position of Element in Sorted Array.\n",
    "class Solution:\n",
    "    def searchRange(self, nums, target):\n",
    "        n = len(nums)\n",
    "        left = 0\n",
    "        right = n-1\n",
    "        while(left <= right):\n",
    "            mid = (left+right)//2\n",
    "            if nums[mid] < target:\n",
    "                left = mid + 1\n",
    "            elif nums[mid] > target:\n",
    "                right = mid - 1\n",
    "            else:  \n",
    "                p1 = mid\n",
    "                p2 = mid \n",
    "                \n",
    "                while(p1>-1 and nums[p1] == target  ): p1-=1\n",
    "                while(p2 <n and nums[p2] == target ): p2+=1\n",
    "                if p1!=mid and p2!=mid:\n",
    "                    return [p1+1, p2-1]\n",
    "                elif p1!=mid and p2==mid:\n",
    "                    return[p1+1, p2]\n",
    "                elif p1==mid and p2!=mid:\n",
    "                    return[p1, p2-1]\n",
    "                else:\n",
    "                    return[p1,p2]        \n",
    "        return [-1, -1]\n",
    "a=Solution()\n",
    "a.searchRange([5,7,8,8,10], 3)\n",
    "    "
   ]
  },
  {
   "cell_type": "code",
   "execution_count": 24,
   "metadata": {},
   "outputs": [
    {
     "data": {
      "text/plain": [
       "2"
      ]
     },
     "execution_count": 24,
     "metadata": {},
     "output_type": "execute_result"
    }
   ],
   "source": [
    "p = 3\n",
    "p -=1\n",
    "p "
   ]
  },
  {
   "cell_type": "markdown",
   "metadata": {},
   "source": [
    "# https://leetcode.com/problems/find-minimum-in-rotated-sorted-array"
   ]
  },
  {
   "cell_type": "markdown",
   "metadata": {},
   "source": [
    "Suppose an array sorted in ascending order is rotated at some pivot unknown to you beforehand.\n",
    "\n",
    "(i.e.,  [0,1,2,4,5,6,7] might become  [4,5,6,7,0,1,2]).\n",
    "\n",
    "Find the minimum element.\n",
    "\n",
    "You may assume no duplicate exists in the array.\n",
    "```md\n",
    "Example 1:\n",
    "\n",
    "Input: [3,4,5,1,2] \n",
    "Output: 1\n",
    "\n",
    "Example 2:\n",
    "\n",
    "Input: [4,5,6,7,0,1,2]\n",
    "Output: 0\n",
    "```\n"
   ]
  },
  {
   "cell_type": "markdown",
   "metadata": {},
   "source": [
    "# Reverse an integer"
   ]
  },
  {
   "cell_type": "markdown",
   "metadata": {},
   "source": [
    "* https://realpython.com/python-exceptions/"
   ]
  },
  {
   "cell_type": "code",
   "execution_count": 61,
   "metadata": {},
   "outputs": [],
   "source": [
    "# Runtime: 40 ms, faster than 61.94% of Python3 online submissions for Reverse Integer.\n",
    "# Memory Usage: 13.3 MB, less than 38.06% of Python3 online submissions for Reverse Integer.\n",
    "def reverse(x):\n",
    "    try:\n",
    "        if isinstance(x, int) == True:\n",
    "            sign = -1 if x < 0 else 1  # preserve the sign first\n",
    "            x *= sign\n",
    "\n",
    "            # eliminated leading zero in the reversed integer\n",
    "            while x:\n",
    "                if x%10 == 0:\n",
    "                    x //= 10\n",
    "                else:\n",
    "                    break\n",
    "\n",
    "            # string manipulation\n",
    "            x = str(x)\n",
    "            lst = list(x)  # list('123') returns ['1', '2', '3']\n",
    "            lst.reverse()\n",
    "            x = \"\".join(lst)\n",
    "            x = int(x)\n",
    "            if pow(2, 31)-1 < x or x < -pow(2,31):\n",
    "                return 0\n",
    "            else: \n",
    "                return sign*x\n",
    "    except ValueError:\n",
    "        print(\"x should be integer\")"
   ]
  },
  {
   "cell_type": "code",
   "execution_count": 62,
   "metadata": {},
   "outputs": [
    {
     "data": {
      "text/plain": [
       "142321"
      ]
     },
     "execution_count": 62,
     "metadata": {},
     "output_type": "execute_result"
    },
    {
     "data": {
      "text/plain": [
       "21"
      ]
     },
     "execution_count": 62,
     "metadata": {},
     "output_type": "execute_result"
    },
    {
     "data": {
      "text/plain": [
       "0"
      ]
     },
     "execution_count": 62,
     "metadata": {},
     "output_type": "execute_result"
    }
   ],
   "source": [
    "reverse(123241)\n",
    "reverse(0.21)\n",
    "reverse(120)\n",
    "reverse(1534236469)\n"
   ]
  },
  {
   "cell_type": "code",
   "execution_count": 60,
   "metadata": {},
   "outputs": [],
   "source": [
    "# Runtime: 36 ms, faster than 82.69% of Python3 online submissions for Reverse Integer.\n",
    "# Memory Usage: 13.3 MB, less than 42.99% of Python3 online submissions for Reverse Integer.\n",
    "class Solution:\n",
    "    def reverse(self, x: int) -> int:\n",
    "        if isinstance(x, int) == True:\n",
    "            sign = -1 if x < 0 else 1  # preserve the sign first\n",
    "            x *= sign\n",
    "            # eliminated leading zero in the reversed integer\n",
    "            while x:\n",
    "                if x%10 == 0:\n",
    "                    x //= 10\n",
    "                else:\n",
    "                    break\n",
    "\n",
    "            # string manipulation\n",
    "            x = str(x)\n",
    "            lst = list(x)  # list('123') returns ['1', '2', '3']\n",
    "            lst.reverse()\n",
    "            x = \"\".join(lst)\n",
    "            x = int(x)\n",
    "            if pow(2, 31)-1 < x or x < -pow(2,31):\n",
    "                return 0\n",
    "            else: \n",
    "                return sign*x"
   ]
  },
  {
   "cell_type": "code",
   "execution_count": 14,
   "metadata": {},
   "outputs": [],
   "source": [
    "class Solution:\n",
    "    def atoi(self, str):\n",
    "        \"\"\"\n",
    "        Need to satisfy all the nuance requirements\n",
    "\n",
    "        :param str: string\n",
    "        :return: int\n",
    "        \"\"\"\n",
    "        INT_MAX = 2147483647\n",
    "        INT_MIN = -2147483648\n",
    "        # clean\n",
    "        str = str.strip()\n",
    "        if not str:\n",
    "            return 0\n",
    "\n",
    "        # clean up leading sign\n",
    "        sign = 1\n",
    "        if str[0] in (\"+\", \"-\"):\n",
    "            if str[0] == \"-\":\n",
    "                sign = -1\n",
    "            str = str[1:]\n",
    "\n",
    "        # check for leading digit\n",
    "        if not str[0].isdigit():\n",
    "            return 0\n",
    "\n",
    "        # ignore the non-digit appended behind\n",
    "        # The string can contain additional characters after those that form the integral number,\n",
    "        # which are ignored and have no effect on the behavior of this function\n",
    "        for ind, val in enumerate(str):  # find the 1st non-digit\n",
    "            if not val.isdigit():\n",
    "                str = str[:ind]\n",
    "                break\n",
    "\n",
    "\n",
    "\n",
    "\n",
    "        # convert char array to integer\n",
    "        sum = 0\n",
    "        scale = 1\n",
    "        for element in str[::-1]:\n",
    "            sum += scale*int(element)\n",
    "            scale *= 10\n",
    "\n",
    "        # return sign*sum, and pay attention to the C constraints\n",
    "        result = sign*sum\n",
    "        if result > INT_MAX:\n",
    "            return INT_MAX\n",
    "        if result < INT_MIN:\n",
    "            return INT_MIN\n",
    "        return result\n"
   ]
  }
 ],
 "metadata": {
  "hide_input": false,
  "kernelspec": {
   "display_name": "Python 3",
   "language": "python",
   "name": "python3"
  },
  "language_info": {
   "codemirror_mode": {
    "name": "ipython",
    "version": 3
   },
   "file_extension": ".py",
   "mimetype": "text/x-python",
   "name": "python",
   "nbconvert_exporter": "python",
   "pygments_lexer": "ipython3",
   "version": "3.7.2"
  },
  "toc": {
   "base_numbering": 1,
   "nav_menu": {},
   "number_sections": true,
   "sideBar": true,
   "skip_h1_title": false,
   "title_cell": "Table of Contents",
   "title_sidebar": "Contents",
   "toc_cell": false,
   "toc_position": {
    "height": "calc(100% - 180px)",
    "left": "10px",
    "top": "150px",
    "width": "281.59375px"
   },
   "toc_section_display": true,
   "toc_window_display": true
  },
  "varInspector": {
   "cols": {
    "lenName": 16,
    "lenType": 16,
    "lenVar": 40
   },
   "kernels_config": {
    "python": {
     "delete_cmd_postfix": "",
     "delete_cmd_prefix": "del ",
     "library": "var_list.py",
     "varRefreshCmd": "print(var_dic_list())"
    },
    "r": {
     "delete_cmd_postfix": ") ",
     "delete_cmd_prefix": "rm(",
     "library": "var_list.r",
     "varRefreshCmd": "cat(var_dic_list()) "
    }
   },
   "types_to_exclude": [
    "module",
    "function",
    "builtin_function_or_method",
    "instance",
    "_Feature"
   ],
   "window_display": false
  }
 },
 "nbformat": 4,
 "nbformat_minor": 2
}
