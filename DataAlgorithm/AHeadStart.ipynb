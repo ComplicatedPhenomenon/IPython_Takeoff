{
 "cells": [
  {
   "cell_type": "code",
   "execution_count": null,
   "metadata": {},
   "outputs": [],
   "source": [
    "from IPython.core.interactiveshell import InteractiveShell\n",
    "InteractiveShell.ast_node_interactivity = \"all\""
   ]
  },
  {
   "cell_type": "code",
   "execution_count": null,
   "metadata": {},
   "outputs": [],
   "source": [
    "import random \n",
    "import re "
   ]
  },
  {
   "cell_type": "markdown",
   "metadata": {},
   "source": [
    "<span style=\"font-family:New York Times; font-size:1.2em; color:green;\">\n",
    "    \n",
    "* https://github.com/HuberTRoy/leetCode"
   ]
  },
  {
   "cell_type": "markdown",
   "metadata": {},
   "source": [
    "# container with most water\n",
    "https://leetcode.com/problems/container-with-most-water"
   ]
  },
  {
   "cell_type": "markdown",
   "metadata": {},
   "source": [
    "![](https://s3-lc-upload.s3.amazonaws.com/uploads/2018/07/17/question_11.jpg)"
   ]
  },
  {
   "cell_type": "markdown",
   "metadata": {},
   "source": [
    "```md\n",
    "Input: [1,8,6,2,5,4,8,3,7]\n",
    "Output: 49\n",
    "```"
   ]
  },
  {
   "cell_type": "markdown",
   "metadata": {},
   "source": [
    "<span style=\"font-family:New York Times; font-size:1.2em; color:green;\">\n",
    "  \n",
    "* Pick out the initial point from left, O\n",
    "* Find out the  the farthest one  more than O\n",
    "* Pick out the initial point from right(Why? take input as [3, 1) for example)\n",
    "\n",
    "这个问题可以抽象为在一个数组中选两个数，它们的间隔乘以这两个数之间的最小值的结果最大。"
   ]
  },
  {
   "cell_type": "markdown",
   "metadata": {},
   "source": [
    "```md \n",
    "Input\n",
    "a.maxArea([2,3,4,5,18,17,6])\n",
    "Output\n",
    "18\n",
    "Expected\n",
    "17\n",
    "```"
   ]
  },
  {
   "cell_type": "code",
   "execution_count": null,
   "metadata": {},
   "outputs": [],
   "source": [
    "# 两个指针\n",
    "class Solution:\n",
    "    def maxArea(self, height: list) -> int:\n",
    "        res = 0\n",
    "        start = 0\n",
    "        end = len(height) - 1\n",
    "        while start < end:\n",
    "            area = (end - start) * min(height[end], height[start])\n",
    "            res = max(res, area)\n",
    "            if height[end] > height[start]:\n",
    "                start += 1\n",
    "            else:\n",
    "                end -= 1\n",
    "        return res\n",
    "\n",
    "\n",
    "a = Solution()\n",
    "a.maxArea([1, 8, 6, 2, 5, 4, 8, 3, 7])"
   ]
  },
  {
   "cell_type": "markdown",
   "metadata": {},
   "source": [
    "# trapping rain water \n",
    "https://leetcode.com/problems/trapping-rain-water/"
   ]
  },
  {
   "cell_type": "markdown",
   "metadata": {},
   "source": [
    "![](https://assets.leetcode.com/uploads/2018/10/22/rainwatertrap.png)\n",
    "```md \n",
    "Input: [0,1,0,2,1,0,1,3,2,1,2,1]\n",
    "Output: 6\n",
    "\n",
    "[[1,0,2],[2,1,0,1,3],[3,2,1,2]]\n",
    "```"
   ]
  },
  {
   "cell_type": "markdown",
   "metadata": {},
   "source": [
    "# fair candy swap\n",
    "https://leetcode.com/problems/fair-candy-swap/submissions/"
   ]
  },
  {
   "cell_type": "markdown",
   "metadata": {},
   "source": [
    "```md\n",
    "Input: A = [1,1], B = [2,2]\n",
    "Output: [1,2]\n",
    "\n",
    "Return an integer array ans where ans[0] is the size of the candy bar that Alice must exchange, and ans[1] is the size of the candy bar that Bob must exchange.\n",
    "```"
   ]
  },
  {
   "cell_type": "code",
   "execution_count": 2,
   "metadata": {},
   "outputs": [],
   "source": [
    "class Solution:\n",
    "    def fairCandySwap(self, A, B):\n",
    "        sumA, sumB = sum(A), sum(B)\n",
    "        setA, setB = set(A), set(B)\n",
    "        total = (sumA + sumB) // 2  # the final same total amount\n",
    "\n",
    "        for i in setA:\n",
    "            if total - (sumA - i) in setB:\n",
    "                return [i, total - (sumA - i)]"
   ]
  },
  {
   "cell_type": "code",
   "execution_count": 7,
   "metadata": {},
   "outputs": [],
   "source": [
    "class Solution:\n",
    "    def fairCandySwap(self, A, B):\n",
    "        x = (\n",
    "            sum(A) - sum(B)\n",
    "        ) // 2  #  sum(A) -x = sum(B) + x -> sum(A) -i + (i-x) =  sum(B) + i - (i-x) i in a and (i-x) in b\n",
    "        b = set(B)\n",
    "        for i in A:\n",
    "            if i - x in b:\n",
    "                return [i, i - x]"
   ]
  },
  {
   "cell_type": "markdown",
   "metadata": {},
   "source": [
    "# find first and last position of element in sorted array \n",
    "https://leetcode.com/problems/find-first-and-last-position-of-element-in-sorted-array "
   ]
  },
  {
   "cell_type": "markdown",
   "metadata": {},
   "source": [
    "Given an array of integers nums sorted in ascending order, find the starting and ending position of a given target value.\n",
    "\n",
    "Your algorithm's runtime complexity must be in the order of **$O(log n)$**.\n",
    "\n",
    "If the target is not found in the array, return [-1, -1].\n",
    "```md\n",
    "Example 1:\n",
    "\n",
    "Input: nums = [5,7,7,8,8,10], target = 8\n",
    "Output: [3,4]\n",
    "\n",
    "Example 2:\n",
    "\n",
    "Input: nums = [5,7,7,8,8,10], target = 6\n",
    "Output: [-1,-1]\n",
    "```\n"
   ]
  },
  {
   "cell_type": "code",
   "execution_count": null,
   "metadata": {},
   "outputs": [],
   "source": [
    "# Runtime: 40 ms, faster than 68.20% of Python3 online submissions for Find First and Last Position of Element in Sorted Array.\n",
    "# Memory Usage: 13.9 MB, less than 34.36% of Python3 online submissions for Find First and Last Position of Element in Sorted Array.\n",
    "class Solution:\n",
    "    def searchRange(self, nums, target):\n",
    "        n = len(nums)\n",
    "        left = 0\n",
    "        right = n-1\n",
    "        while(left <= right):\n",
    "            mid = (left+right)//2\n",
    "            if nums[mid] < target:\n",
    "                left = mid + 1\n",
    "            elif nums[mid] > target:\n",
    "                right = mid - 1\n",
    "            else:  \n",
    "                p1 = mid\n",
    "                p2 = mid \n",
    "                \n",
    "                while(p1>-1 and nums[p1] == target  ): p1-=1\n",
    "                while(p2 <n and nums[p2] == target ): p2+=1\n",
    "                if p1!=mid and p2!=mid:\n",
    "                    return [p1+1, p2-1]\n",
    "                elif p1!=mid and p2==mid:\n",
    "                    return[p1+1, p2]\n",
    "                elif p1==mid and p2!=mid:\n",
    "                    return[p1, p2-1]\n",
    "                else:\n",
    "                    return[p1,p2]        \n",
    "        return [-1, -1]\n",
    "a=Solution()\n",
    "a.searchRange([5,7,8,8,10], 3)\n",
    "    "
   ]
  },
  {
   "cell_type": "markdown",
   "metadata": {},
   "source": [
    "# reverse an integer\n",
    "https://leetcode.com/problems/reverse-integer/"
   ]
  },
  {
   "cell_type": "markdown",
   "metadata": {},
   "source": [
    "* https://realpython.com/python-exceptions/"
   ]
  },
  {
   "cell_type": "code",
   "execution_count": null,
   "metadata": {},
   "outputs": [],
   "source": [
    "# Runtime: 40 ms, faster than 61.94% of Python3 online submissions for Reverse Integer.\n",
    "# Memory Usage: 13.3 MB, less than 38.06% of Python3 online submissions for Reverse Integer.\n",
    "def reverse(x):\n",
    "    try:\n",
    "        if isinstance(x, int) == True:\n",
    "            sign = -1 if x < 0 else 1  # preserve the sign first\n",
    "            x *= sign\n",
    "\n",
    "            # eliminated leading zero in the reversed integer\n",
    "            while x:\n",
    "                if x%10 == 0:\n",
    "                    x //= 10\n",
    "                else:\n",
    "                    break\n",
    "\n",
    "            # string manipulation\n",
    "            x = str(x)\n",
    "            lst = list(x)  # list('123') returns ['1', '2', '3']\n",
    "            lst.reverse()\n",
    "            x = \"\".join(lst)\n",
    "            x = int(x)\n",
    "            if pow(2, 31)-1 < x or x < -pow(2,31):\n",
    "                return 0\n",
    "            else: \n",
    "                return sign*x\n",
    "    except ValueError:\n",
    "        print(\"x should be integer\")"
   ]
  },
  {
   "cell_type": "code",
   "execution_count": null,
   "metadata": {},
   "outputs": [],
   "source": [
    "# Runtime: 36 ms, faster than 82.69% of Python3 online submissions for Reverse Integer.\n",
    "# Memory Usage: 13.3 MB, less than 42.99% of Python3 online submissions for Reverse Integer.\n",
    "class Solution:\n",
    "    def reverse(self, x: int) -> int:\n",
    "        if isinstance(x, int) == True:\n",
    "            sign = -1 if x < 0 else 1  # preserve the sign first\n",
    "            x *= sign\n",
    "            # eliminated leading zero in the reversed integer\n",
    "            while x:\n",
    "                if x%10 == 0:\n",
    "                    x //= 10\n",
    "                else:\n",
    "                    break\n",
    "\n",
    "            # string manipulation\n",
    "            x = str(x)\n",
    "            lst = list(x)  # list('123') returns ['1', '2', '3']\n",
    "            lst.reverse()\n",
    "            x = \"\".join(lst)\n",
    "            x = int(x)\n",
    "            if pow(2, 31)-1 < x or x < -pow(2,31):\n",
    "                return 0\n",
    "            else: \n",
    "                return sign*x"
   ]
  },
  {
   "cell_type": "code",
   "execution_count": null,
   "metadata": {},
   "outputs": [],
   "source": [
    "class Solution:\n",
    "    def atoi(self, str):\n",
    "        \"\"\"\n",
    "        Need to satisfy all the nuance requirements\n",
    "\n",
    "        :param str: string\n",
    "        :return: int\n",
    "        \"\"\"\n",
    "        INT_MAX = 2147483647\n",
    "        INT_MIN = -2147483648\n",
    "        # clean\n",
    "        str = str.strip()\n",
    "        if not str:\n",
    "            return 0\n",
    "\n",
    "        # clean up leading sign\n",
    "        sign = 1\n",
    "        if str[0] in (\"+\", \"-\"):\n",
    "            if str[0] == \"-\":\n",
    "                sign = -1\n",
    "            str = str[1:]\n",
    "\n",
    "        # check for leading digit\n",
    "        if not str[0].isdigit():\n",
    "            return 0\n",
    "\n",
    "        # ignore the non-digit appended behind\n",
    "        # The string can contain additional characters after those that form the integral number,\n",
    "        # which are ignored and have no effect on the behavior of this function\n",
    "        for ind, val in enumerate(str):  # find the 1st non-digit\n",
    "            if not val.isdigit():\n",
    "                str = str[:ind]\n",
    "                break\n",
    "\n",
    "        # convert char array to integer\n",
    "        sum = 0\n",
    "        scale = 1\n",
    "        for element in str[::-1]:\n",
    "            sum += scale * int(element)\n",
    "            scale *= 10\n",
    "\n",
    "        # return sign*sum, and pay attention to the C constraints\n",
    "        result = sign * sum\n",
    "        if result > INT_MAX:\n",
    "            return INT_MAX\n",
    "        if result < INT_MIN:\n",
    "            return INT_MIN\n",
    "        return result"
   ]
  }
 ],
 "metadata": {
  "hide_input": false,
  "kernelspec": {
   "display_name": "Python 3",
   "language": "python",
   "name": "python3"
  },
  "language_info": {
   "codemirror_mode": {
    "name": "ipython",
    "version": 3
   },
   "file_extension": ".py",
   "mimetype": "text/x-python",
   "name": "python",
   "nbconvert_exporter": "python",
   "pygments_lexer": "ipython3",
   "version": "3.7.2"
  },
  "toc": {
   "base_numbering": 1,
   "nav_menu": {},
   "number_sections": true,
   "sideBar": true,
   "skip_h1_title": false,
   "title_cell": "Table of Contents",
   "title_sidebar": "Contents",
   "toc_cell": false,
   "toc_position": {
    "height": "calc(100% - 180px)",
    "left": "10px",
    "top": "150px",
    "width": "281.59375px"
   },
   "toc_section_display": true,
   "toc_window_display": true
  },
  "varInspector": {
   "cols": {
    "lenName": 16,
    "lenType": 16,
    "lenVar": 40
   },
   "kernels_config": {
    "python": {
     "delete_cmd_postfix": "",
     "delete_cmd_prefix": "del ",
     "library": "var_list.py",
     "varRefreshCmd": "print(var_dic_list())"
    },
    "r": {
     "delete_cmd_postfix": ") ",
     "delete_cmd_prefix": "rm(",
     "library": "var_list.r",
     "varRefreshCmd": "cat(var_dic_list()) "
    }
   },
   "types_to_exclude": [
    "module",
    "function",
    "builtin_function_or_method",
    "instance",
    "_Feature"
   ],
   "window_display": false
  }
 },
 "nbformat": 4,
 "nbformat_minor": 2
}
