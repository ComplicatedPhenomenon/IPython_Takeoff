{
 "cells": [
  {
   "cell_type": "code",
   "execution_count": null,
   "metadata": {},
   "outputs": [],
   "source": [
    "import random "
   ]
  },
  {
   "cell_type": "markdown",
   "metadata": {},
   "source": [
    "<span style=\"font-family:New York Times; font-size:1.2em; color:green;\">\n",
    "    \n",
    "* https://github.com/HuberTRoy/leetCode"
   ]
  },
  {
   "cell_type": "markdown",
   "metadata": {},
   "source": [
    "# https://leetcode.com/problems/container-with-most-water"
   ]
  },
  {
   "cell_type": "markdown",
   "metadata": {},
   "source": [
    "![](https://s3-lc-upload.s3.amazonaws.com/uploads/2018/07/17/question_11.jpg)"
   ]
  },
  {
   "cell_type": "markdown",
   "metadata": {},
   "source": [
    "```md\n",
    "Input: [1,8,6,2,5,4,8,3,7]\n",
    "Output: 49\n",
    "```"
   ]
  },
  {
   "cell_type": "markdown",
   "metadata": {},
   "source": [
    "## Brutal solution"
   ]
  },
  {
   "cell_type": "code",
   "execution_count": null,
   "metadata": {},
   "outputs": [],
   "source": [
    "possibleVolume = []\n",
    "input = [1,8,6,2,5,4,8,3,7]\n",
    "for i in range(len(input)):\n",
    "    for j in range(i+1, len(input)):\n",
    "        possibleVolume.append((j-i)*min([input[i], input[j]]))"
   ]
  },
  {
   "cell_type": "code",
   "execution_count": null,
   "metadata": {},
   "outputs": [],
   "source": [
    "max(possibleVolume)"
   ]
  },
  {
   "cell_type": "code",
   "execution_count": null,
   "metadata": {},
   "outputs": [],
   "source": [
    "def maxVolume(input):\n",
    "    possibleVolume = []\n",
    "    for i in range(len(input)):\n",
    "        for j in range(i+1, len(input)):\n",
    "            possibleVolume.append((j-i)*min([input[i], input[j]]))\n",
    "    return  max(possibleVolume)"
   ]
  },
  {
   "cell_type": "code",
   "execution_count": null,
   "metadata": {},
   "outputs": [],
   "source": [
    "input = [1,8,6,2,5,4,8,3,7, 11, 21, 21, 32, 15, 17, 19, 18, 20]\n",
    "maxVolume(input)"
   ]
  },
  {
   "cell_type": "code",
   "execution_count": null,
   "metadata": {},
   "outputs": [],
   "source": [
    "input = [random.randint(1, 200) for i in range(10000)]"
   ]
  },
  {
   "cell_type": "code",
   "execution_count": null,
   "metadata": {},
   "outputs": [],
   "source": [
    "%time\n",
    "for i in range(len(input)):\n",
    "    for j in range(i+1, len(input)):\n",
    "        possibleVolume.append((j-i)*min([input[i], input[j]]))"
   ]
  },
  {
   "cell_type": "code",
   "execution_count": null,
   "metadata": {},
   "outputs": [],
   "source": [
    "%time\n",
    "#sorted(possibleVolume);\n",
    "max(possibleVolume)"
   ]
  },
  {
   "cell_type": "markdown",
   "metadata": {},
   "source": [
    "## Wise solution"
   ]
  },
  {
   "cell_type": "markdown",
   "metadata": {},
   "source": [
    "<span style=\"font-family:New York Times; font-size:1.2em; color:green;\">\n",
    "    \n",
    "* Pick out the initial point from left, O\n",
    "* Find out the  the farthest one  more than O\n",
    "* Pick out the initial point from right"
   ]
  },
  {
   "cell_type": "code",
   "execution_count": null,
   "metadata": {},
   "outputs": [],
   "source": [
    "for index, i in enumerate([1,8,6,2,5,4,8,3,7]):\n",
    "    print(index, i)"
   ]
  },
  {
   "cell_type": "code",
   "execution_count": null,
   "metadata": {},
   "outputs": [],
   "source": [
    "input.pop()"
   ]
  },
  {
   "cell_type": "code",
   "execution_count": null,
   "metadata": {},
   "outputs": [],
   "source": [
    "input = [1,8,6,2,5,4,8,3,7]\n",
    "input[9::]\n",
    "len([])"
   ]
  },
  {
   "cell_type": "code",
   "execution_count": null,
   "metadata": {},
   "outputs": [],
   "source": [
    "input[:-1:]"
   ]
  },
  {
   "cell_type": "code",
   "execution_count": null,
   "metadata": {},
   "outputs": [],
   "source": [
    "# Now the complexity is O(n) not O(n!)\n",
    "def singleDirectionMax(input):\n",
    "    volume = []\n",
    "    a = []\n",
    "    for i in range(len(input)):\n",
    "        for j in range(i+1, len(input)):\n",
    "            # find out the farthest j from i satisfying j > i\n",
    "            if input[j] > input[i]:\n",
    "                a.append(j)\n",
    "        if len(a) != 0:\n",
    "            jmax = a.pop()\n",
    "        # find with a certain i, the biggest volume\n",
    "        volume.append((jmax-i)*input[i])\n",
    "        #print(volume)\n",
    "    return(max(volume))"
   ]
  },
  {
   "cell_type": "code",
   "execution_count": null,
   "metadata": {},
   "outputs": [],
   "source": [
    "singleDirectionMax(input = [1,8,6,2,5,4,8,3,7])"
   ]
  },
  {
   "cell_type": "code",
   "execution_count": null,
   "metadata": {},
   "outputs": [],
   "source": [
    "singleDirectionMax(input = list(reversed([1,8,6,2,5,4,8,3,7])))"
   ]
  },
  {
   "cell_type": "code",
   "execution_count": null,
   "metadata": {},
   "outputs": [],
   "source": [
    "def singleDirectionMax(input):\n",
    "    volume = []\n",
    "    a = []\n",
    "    for i in range(len(input)):\n",
    "        for j in range(i+1, len(input)):\n",
    "            if input[j] > input[i]:\n",
    "                a.append(j)\n",
    "        if len(a) != 0:\n",
    "            jmax = a.pop()\n",
    "        volume.append((jmax-i)*input[i])\n",
    "    return(max(volume))\n",
    "def doubleDirectionMax(input):\n",
    "    input1 = input \n",
    "    input2 = list(reversed(input))\n",
    "    a1 = singleDirectionMax(input1)\n",
    "    a2 = singleDirectionMax(input2)\n",
    "    return(max([a1, a2]))"
   ]
  },
  {
   "cell_type": "code",
   "execution_count": null,
   "metadata": {},
   "outputs": [],
   "source": [
    "input = [1,8,6,2,5,4,8,3,7]\n",
    "doubleDirectionMax(input)"
   ]
  },
  {
   "cell_type": "markdown",
   "metadata": {},
   "source": [
    "# https://leetcode.com/contest/weekly-contest-98/problems/fair-candy-swap/"
   ]
  },
  {
   "cell_type": "markdown",
   "metadata": {},
   "source": [
    "## Brutal solution"
   ]
  },
  {
   "cell_type": "code",
   "execution_count": null,
   "metadata": {},
   "outputs": [],
   "source": [
    "A = [1,2,5]\n",
    "B = [2,4]\n",
    "exchange = [5,4]"
   ]
  },
  {
   "cell_type": "code",
   "execution_count": null,
   "metadata": {},
   "outputs": [],
   "source": [
    "for i in A:\n",
    "    for j in B:\n",
    "        if sum(A) -i + j == sum(B) -j +i :\n",
    "            print(i, j)"
   ]
  },
  {
   "cell_type": "code",
   "execution_count": null,
   "metadata": {},
   "outputs": [],
   "source": [
    "def exchangeTheSizeOfThese2Candies(A, B):\n",
    "    for i in A:\n",
    "        for j in B:\n",
    "            if sum(A) -i + j == sum(B) -j +i :\n",
    "                return ([i, j])"
   ]
  },
  {
   "cell_type": "code",
   "execution_count": null,
   "metadata": {},
   "outputs": [],
   "source": [
    "A = [1,2,4,5]\n",
    "B = [2,3,6,7]\n",
    "exchangeTheSizeOfThese2Candies(A,B)"
   ]
  },
  {
   "cell_type": "markdown",
   "metadata": {},
   "source": [
    "## Elegant solution"
   ]
  },
  {
   "cell_type": "code",
   "execution_count": null,
   "metadata": {},
   "outputs": [],
   "source": [
    "def fairCandySwap(A, B):\n",
    "    x = (sum(A) - sum(B)) // 2\n",
    "    b = set(B)        \n",
    "    for i in A:\n",
    "        if i - x in b:\n",
    "            return ([i, i-x])\n",
    "        \n",
    "A = [1,2,4,5]\n",
    "B = [2,3,6,7]\n",
    "\n",
    "fairCandySwap(A, B)"
   ]
  },
  {
   "cell_type": "code",
   "execution_count": null,
   "metadata": {},
   "outputs": [],
   "source": [
    "(9-1) // 2"
   ]
  },
  {
   "cell_type": "markdown",
   "metadata": {},
   "source": [
    "# https://leetcode.com/problems/find-first-and-last-position-of-element-in-sorted-array "
   ]
  },
  {
   "cell_type": "markdown",
   "metadata": {},
   "source": [
    "Given an array of integers nums sorted in ascending order, find the starting and ending position of a given target value.\n",
    "\n",
    "Your algorithm's runtime complexity must be in the order of $O(log n)$.\n",
    "\n",
    "If the target is not found in the array, return [-1, -1].\n",
    "```md\n",
    "Example 1:\n",
    "\n",
    "Input: nums = [5,7,7,8,8,10], target = 8\n",
    "Output: [3,4]\n",
    "\n",
    "Example 2:\n",
    "\n",
    "Input: nums = [5,7,7,8,8,10], target = 6\n",
    "Output: [-1,-1]\n",
    "```\n"
   ]
  },
  {
   "cell_type": "markdown",
   "metadata": {},
   "source": [
    "## Brutal solution"
   ]
  },
  {
   "cell_type": "code",
   "execution_count": null,
   "metadata": {},
   "outputs": [],
   "source": [
    "nums = [5,7,7,8,8,8, 8, 10]\n",
    "target = 8\n",
    "a  = []\n",
    "for index, i in enumerate(nums):\n",
    "    if i == target:\n",
    "        a.append(index)\n",
    "print(a[0], a[-1])"
   ]
  },
  {
   "cell_type": "code",
   "execution_count": null,
   "metadata": {},
   "outputs": [],
   "source": [
    "def findPositionOfTarget(nums, target):\n",
    "    a  = []\n",
    "    for index, i in enumerate(nums):\n",
    "        if i == target:\n",
    "            a.append(index)\n",
    "    return (a[0], a[-1])"
   ]
  },
  {
   "cell_type": "markdown",
   "metadata": {},
   "source": [
    "## Elegant solution"
   ]
  },
  {
   "cell_type": "code",
   "execution_count": null,
   "metadata": {},
   "outputs": [],
   "source": [
    "3//2\n",
    "5//2\n",
    "1<=2"
   ]
  },
  {
   "cell_type": "code",
   "execution_count": null,
   "metadata": {},
   "outputs": [],
   "source": [
    "import math"
   ]
  },
  {
   "cell_type": "code",
   "execution_count": null,
   "metadata": {},
   "outputs": [],
   "source": [
    "math.log(math.e)"
   ]
  },
  {
   "cell_type": "code",
   "execution_count": null,
   "metadata": {},
   "outputs": [],
   "source": [
    "i1 = len(nums)//2\n",
    "if nums[i1]  < target: # Then target will be in nums[i1 + 1::]\n",
    "    \n",
    "i21 = (len(nums) + i1)//2\n",
    "i20 = i1 // 2\n",
    "    "
   ]
  },
  {
   "cell_type": "markdown",
   "metadata": {},
   "source": [
    "# https://leetcode.com/problems/find-minimum-in-rotated-sorted-array"
   ]
  },
  {
   "cell_type": "markdown",
   "metadata": {},
   "source": [
    "Suppose an array sorted in ascending order is rotated at some pivot unknown to you beforehand.\n",
    "\n",
    "(i.e.,  [0,1,2,4,5,6,7] might become  [4,5,6,7,0,1,2]).\n",
    "\n",
    "Find the minimum element.\n",
    "\n",
    "You may assume no duplicate exists in the array.\n",
    "```md\n",
    "Example 1:\n",
    "\n",
    "Input: [3,4,5,1,2] \n",
    "Output: 1\n",
    "\n",
    "Example 2:\n",
    "\n",
    "Input: [4,5,6,7,0,1,2]\n",
    "Output: 0\n",
    "```\n"
   ]
  },
  {
   "cell_type": "code",
   "execution_count": null,
   "metadata": {},
   "outputs": [],
   "source": []
  }
 ],
 "metadata": {
  "hide_input": false,
  "kernelspec": {
   "display_name": "Python 3",
   "language": "python",
   "name": "python3"
  },
  "language_info": {
   "codemirror_mode": {
    "name": "ipython",
    "version": 3
   },
   "file_extension": ".py",
   "mimetype": "text/x-python",
   "name": "python",
   "nbconvert_exporter": "python",
   "pygments_lexer": "ipython3",
   "version": "3.7.1"
  },
  "toc": {
   "base_numbering": 1,
   "nav_menu": {},
   "number_sections": true,
   "sideBar": true,
   "skip_h1_title": false,
   "title_cell": "Table of Contents",
   "title_sidebar": "Contents",
   "toc_cell": false,
   "toc_position": {},
   "toc_section_display": true,
   "toc_window_display": false
  },
  "varInspector": {
   "cols": {
    "lenName": 16,
    "lenType": 16,
    "lenVar": 40
   },
   "kernels_config": {
    "python": {
     "delete_cmd_postfix": "",
     "delete_cmd_prefix": "del ",
     "library": "var_list.py",
     "varRefreshCmd": "print(var_dic_list())"
    },
    "r": {
     "delete_cmd_postfix": ") ",
     "delete_cmd_prefix": "rm(",
     "library": "var_list.r",
     "varRefreshCmd": "cat(var_dic_list()) "
    }
   },
   "types_to_exclude": [
    "module",
    "function",
    "builtin_function_or_method",
    "instance",
    "_Feature"
   ],
   "window_display": false
  }
 },
 "nbformat": 4,
 "nbformat_minor": 2
}
