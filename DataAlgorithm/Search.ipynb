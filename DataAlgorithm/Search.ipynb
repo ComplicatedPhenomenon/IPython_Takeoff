{
 "cells": [
  {
   "cell_type": "code",
   "execution_count": null,
   "metadata": {},
   "outputs": [],
   "source": [
    "from IPython.core.interactiveshell import InteractiveShell\n",
    "InteractiveShell.ast_node_interactivity = \"all\""
   ]
  },
  {
   "cell_type": "code",
   "execution_count": null,
   "metadata": {},
   "outputs": [],
   "source": [
    "import random"
   ]
  },
  {
   "cell_type": "markdown",
   "metadata": {},
   "source": [
    "# Linear search $O(n)$"
   ]
  },
  {
   "cell_type": "markdown",
   "metadata": {},
   "source": [
    "# Binary seach  $O(log_2 n)$"
   ]
  },
  {
   "cell_type": "code",
   "execution_count": null,
   "metadata": {},
   "outputs": [],
   "source": [
    "a = []\n",
    "for _ in range(100):\n",
    "    a.append(random.randint(1,100))\n",
    "a = sorted(a)"
   ]
  },
  {
   "cell_type": "markdown",
   "metadata": {},
   "source": [
    "```c\n",
    "int binarySearch(int low,int high,int key)\n",
    "{\n",
    "   while(low<=high)\n",
    "   {\n",
    "     int mid=(low+high)/2;\n",
    "     if(a[mid]<key)\n",
    "     {\n",
    "         low=mid+1;\n",
    "     }\n",
    "     else if(a[mid]>key)\n",
    "     {\n",
    "         high=mid-1;\n",
    "     }\n",
    "     else\n",
    "     {\n",
    "         return mid;\n",
    "     }\n",
    "   }\n",
    "   return -1;                //key not found\n",
    " }\n",
    "```"
   ]
  },
  {
   "cell_type": "code",
   "execution_count": null,
   "metadata": {},
   "outputs": [],
   "source": [
    "def binary_search(arr, i):\n",
    "    \"\"\"Pure implementation of binary search algorithm in Python\n",
    "    Be careful collection must be ascending sorted, otherwise result will be\n",
    "    unpredictable\n",
    "    :param sorted_collection: some ascending sorted collection with comparable items\n",
    "    :param item: item value to search\n",
    "    :return: index of found item or None if item is not found\n",
    "    Examples:\n",
    "    >>> binary_search([0, 5, 7, 10, 15], 0)\n",
    "    0\n",
    "    >>> binary_search([0, 5, 7, 10, 15], 15)\n",
    "    4\n",
    "    >>> binary_search([0, 5, 7, 10, 15], 5)\n",
    "    1\n",
    "    >>> binary_search([0, 5, 7, 10, 15], 6)\n",
    "    \"\"\"\n",
    "    n = len(arr)\n",
    "    left = 0\n",
    "    right = n - 1\n",
    "\n",
    "    # Define the condition when the loop should be broken\n",
    "    while (left <= right): # Terminate when left == right+1,  instead of left == right\n",
    "        mid = left + (right - left) // 2\n",
    "        if arr[mid] == i:\n",
    "            return mid\n",
    "        elif arr[mid] < i:\n",
    "            left = mid + 1\n",
    "        else:\n",
    "            right = mid - 1\n",
    "    print(\"No element is {} in {}\".format(i, arr))\n",
    "\n",
    "\n",
    "binary_search([1, 2], 3)"
   ]
  },
  {
   "cell_type": "code",
   "execution_count": null,
   "metadata": {},
   "outputs": [],
   "source": [
    "def binary_search_by_recursion(arr, i, left, right):\n",
    "    mid = left + (right - left) // 2\n",
    "    if (right < left):\n",
    "        print(\"No element is {} in {}\".format(i, arr))\n",
    "    if(arr[mid] == i):\n",
    "        return mid\n",
    "    elif arr[mid] < i:\n",
    "        return binary_search_by_recursion(arr, i, mid+1, right)\n",
    "    else:\n",
    "        return binary_search_by_recursion(arr, i, left, mid - 1)\n",
    "\n",
    "binary_search_by_recursion([1, 2, 3, 4, 5, 6, 7], 6, 0, 6 )"
   ]
  },
  {
   "cell_type": "code",
   "execution_count": null,
   "metadata": {},
   "outputs": [],
   "source": [
    "import bisect\n",
    "def binary_search_std_lib(sorted_collection, item):\n",
    "    \"\"\"Pure implementation of binary search algorithm in Python using stdlib\n",
    "    Be careful collection must be ascending sorted, otherwise result will be\n",
    "    unpredictable\n",
    "    :param sorted_collection: some ascending sorted collection with comparable items\n",
    "    :param item: item value to search\n",
    "    :return: index of found item or None if item is not found\n",
    "    Examples:\n",
    "    >>> binary_search_std_lib([0, 5, 7, 10, 15], 0)\n",
    "    0\n",
    "    >>> binary_search_std_lib([0, 5, 7, 10, 15], 15)\n",
    "    4\n",
    "    >>> binary_search_std_lib([0, 5, 7, 10, 15], 5)\n",
    "    1\n",
    "    >>> binary_search_std_lib([0, 5, 7, 10, 15], 6)\n",
    "    \"\"\"\n",
    "    index = bisect.bisect_left(sorted_collection, item)\n",
    "    if index != len(sorted_collection) and sorted_collection[index] == item:\n",
    "        return index\n",
    "    return None"
   ]
  },
  {
   "cell_type": "markdown",
   "metadata": {},
   "source": [
    "## sqrt x\n",
    "https://leetcode.com/problems/sqrtx/"
   ]
  },
  {
   "cell_type": "markdown",
   "metadata": {},
   "source": [
    "```md \n",
    "Implement int sqrt(int x).\n",
    "\n",
    "Compute and return the square root of x, where x is guaranteed to be a non-negative integer.\n",
    "\n",
    "Since the return type is an integer, the decimal digits are truncated and only the integer part of the result is returned.\n",
    "```"
   ]
  },
  {
   "cell_type": "code",
   "execution_count": null,
   "metadata": {},
   "outputs": [],
   "source": [
    "\"\"\"\n",
    "Runtime: 40 ms, faster than 81.45% of Python3 online submissions for Sqrt(x).\n",
    "Memory Usage: 13.7 MB, less than 6.45% of Python3 online submissions for Sqrt(x).\n",
    "\"\"\"\n",
    "class Solution:\n",
    "    def mySqrt(self, x: int) -> int:\n",
    "        \n",
    "        if x ==0 or x==1 : return x\n",
    "        l = 1 \n",
    "        r = x //2\n",
    "        while l <= r:\n",
    "            mid = l + (r - l) // 2\n",
    "            tem = mid**2\n",
    "            if tem == x:\n",
    "                return mid\n",
    "            elif tem > x:\n",
    "                r = mid - 1\n",
    "            else:\n",
    "                l = mid + 1\n",
    "\n",
    "        return r\n",
    "\n",
    "test = Solution()\n",
    "test.mySqrt(9)"
   ]
  },
  {
   "cell_type": "markdown",
   "metadata": {},
   "source": [
    "```md\n",
    "非负实数 x 的平方根在 [0, x] 内一定存在，故退出 while (left < right) 循环以后，不必单独判断 left 或者 right 是否符合题意。\n",
    "```"
   ]
  },
  {
   "cell_type": "code",
   "execution_count": null,
   "metadata": {},
   "outputs": [],
   "source": [
    "\"\"\"\n",
    "Runtime: 52 ms, faster than 26.93% of Python3 online submissions for Sqrt(x).\n",
    "Memory Usage: 13.8 MB, less than 6.45% of Python3 online submissions for Sqrt(x).\n",
    "\"\"\"\n",
    "class Solution:\n",
    "    def mySqrt(self, x: int) -> int:  \n",
    "        if x == 0 or x == 1: return x\n",
    "        l = 1\n",
    "        r = x\n",
    "        while l < r:\n",
    "            mid = l + (r - l) // 2  # left bound \n",
    "            tem = mid**2\n",
    "            if tem == x:\n",
    "                return mid\n",
    "            elif tem > x:\n",
    "                r = mid  \n",
    "            else:\n",
    "                l = mid +1\n",
    "\n",
    "        return l-1\n",
    "\n",
    "test = Solution()\n",
    "test.mySqrt(9)\n",
    "test.mySqrt(6)"
   ]
  },
  {
   "cell_type": "markdown",
   "metadata": {},
   "source": [
    "## find the minimum in rotated array  \n",
    "https://leetcode.com/problems/find-minimum-in-rotated-sorted-array/"
   ]
  },
  {
   "cell_type": "markdown",
   "metadata": {},
   "source": [
    "```md \n",
    "Suppose an array sorted in ascending order is rotated at some pivot unknown to you beforehand.\n",
    "\n",
    "(i.e.,  [0,1,2,4,5,6,7] might become  [4,5,6,7,0,1,2]).\n",
    "\n",
    "Find the minimum element.\n",
    "\n",
    "You may assume no duplicate exists in the array.\n",
    "```"
   ]
  },
  {
   "cell_type": "code",
   "execution_count": null,
   "metadata": {},
   "outputs": [],
   "source": [
    "\"\"\"\n",
    "Runtime: 60 ms, faster than 6.50% of Python3 online submissions for Find Minimum in Rotated Sorted Array.\n",
    "Memory Usage: 13.8 MB, less than 6.00% of Python3 online submissions for Find Minimum in Rotated Sorted Array.\n",
    "\"\"\"\n",
    "\n",
    "# Lower the time complexity \n",
    "class Solution:\n",
    "    def findMin(self, nums: List[int]) -> int:\n",
    "        return min(nums)"
   ]
  },
  {
   "cell_type": "code",
   "execution_count": null,
   "metadata": {},
   "outputs": [],
   "source": [
    "\"\"\"\n",
    "Runtime: 40 ms, faster than 98.65% of Python3 online submissions for Find Minimum in Rotated Sorted Array.\n",
    "Memory Usage: 13.9 MB, less than 6.00% of Python3 online submissions for Find Minimum in Rotated Sorted Array.\n",
    "\"\"\"\n",
    "\n",
    "\n",
    "class Solution:\n",
    "    def findMin(self, nums) -> int:\n",
    "        l = 0\n",
    "        r = len(nums) - 1\n",
    "        while l < r:\n",
    "            if nums[l] < nums[r]:\n",
    "                return nums[l]\n",
    "            mid = l + (r - l) // 2\n",
    "            if nums[mid] >= nums[r]: # \n",
    "                l = mid + 1\n",
    "            else:\n",
    "                r = mid\n",
    "        return nums[l]\n",
    "\n",
    "\n",
    "test = Solution()\n",
    "nums = [4, 5, 6, 7, 8,  0, 1, 2, 3]\n",
    "test.findMin(nums)"
   ]
  },
  {
   "cell_type": "markdown",
   "metadata": {},
   "source": [
    "## search in rotated sorted array\n",
    "https://leetcode.com/problems/search-in-rotated-sorted-array/"
   ]
  },
  {
   "cell_type": "markdown",
   "metadata": {},
   "source": [
    "```md\n",
    "Input: nums = [4,5,6,7,0,1,2], target = 0\n",
    "Output: 4\n",
    "```"
   ]
  },
  {
   "cell_type": "code",
   "execution_count": null,
   "metadata": {},
   "outputs": [],
   "source": [
    "class Solution:\n",
    "    def search(self, nums, target: int) -> int:\n",
    "        n = len(nums)\n",
    "        l = 0\n",
    "        r = n - 1\n",
    "        while l <= r:\n",
    "            mid = l + (r - l) // 2\n",
    "            if nums[mid] == target:\n",
    "                return mid\n",
    "\n",
    "            # left part is in order\n",
    "            if nums[l] <= nums[mid]:\n",
    "                if nums[l] <= target < nums[mid]:  # target might drop in  a[l] to a[mid]\n",
    "                    r = mid - 1\n",
    "                else:\n",
    "                    l = mid + 1\n",
    "                    \n",
    "            # right part is in order\n",
    "            else:\n",
    "                if nums[mid] < target <= nums[r]:\n",
    "                    l = mid + 1\n",
    "                else:\n",
    "                    r = mid - 1\n",
    "        return -1\n",
    "\n",
    "\n",
    "test = Solution()\n",
    "nums = [3,1]\n",
    "test.search(nums, 1)"
   ]
  },
  {
   "cell_type": "markdown",
   "metadata": {},
   "source": [
    "## search in rotated sorted array II\n",
    "https://leetcode.com/problems/search-in-rotated-sorted-array-ii/"
   ]
  },
  {
   "cell_type": "markdown",
   "metadata": {},
   "source": [
    "```md\n",
    "Input: nums = [1,3,1,1,1], target = 3\n",
    "Output: true\n",
    "```"
   ]
  },
  {
   "cell_type": "code",
   "execution_count": null,
   "metadata": {},
   "outputs": [],
   "source": [
    "class Solution:\n",
    "    def search(self, nums, target: int) -> int:\n",
    "        n = len(nums)\n",
    "        l = 0\n",
    "        r = n - 1\n",
    "        while l <= r:\n",
    "            while l < r and nums[l] == nums[r]:#这样的目的是为了能准确判断mid位置，所以算法的最坏时间复杂度为O(n)\n",
    "                l += 1    \n",
    "            mid = l + (r - l) // 2\n",
    "            if nums[mid] == target:\n",
    "                return True\n",
    "\n",
    "            # left part is in order\n",
    "            if nums[l] <= nums[mid]:\n",
    "                if nums[l] <= target < nums[mid]:  # target might drop in  a[l] to a[mid]\n",
    "                    r = mid - 1\n",
    "                else:\n",
    "                    l = mid + 1\n",
    "                    \n",
    "            # right part is in order\n",
    "            else:\n",
    "                if nums[mid] < target <= nums[r]:\n",
    "                    l = mid + 1\n",
    "                else:\n",
    "                    r = mid - 1\n",
    "        return False \n",
    "test = Solution()\n",
    "nums = [1,3,1,1,1]\n",
    "test.search(nums, 3)"
   ]
  },
  {
   "cell_type": "markdown",
   "metadata": {},
   "source": [
    "## sqrt(2)"
   ]
  },
  {
   "cell_type": "code",
   "execution_count": null,
   "metadata": {},
   "outputs": [],
   "source": [
    "lower = 1.41\n",
    "higher = 1.42\n",
    "(lower+higher)/2"
   ]
  },
  {
   "cell_type": "code",
   "execution_count": null,
   "metadata": {},
   "outputs": [],
   "source": [
    "%timeit\n",
    "lower = 1.41\n",
    "higher = 1.42\n",
    "while(higher - lower > pow(10, -2)):\n",
    "    if pow(mid, 2) > 2:\n",
    "        higer = mid\n",
    "    else:\n",
    "        lower = mid \n",
    "    mid = (lower+higher)/2\n",
    "mid "
   ]
  },
  {
   "cell_type": "markdown",
   "metadata": {},
   "source": [
    "# Jump search $O(\\sqrt n)$"
   ]
  },
  {
   "cell_type": "code",
   "execution_count": null,
   "metadata": {
    "code_folding": []
   },
   "outputs": [],
   "source": [
    "from __future__ import print_function\n",
    "import math\n",
    "def jump_search(arr, x):\n",
    "    n = len(arr)\n",
    "    step = int(math.floor(math.sqrt(n)))\n",
    "    prev = 0\n",
    "    while arr[min(step, n)-1] < x:\n",
    "        prev = step\n",
    "        step += int(math.floor(math.sqrt(n)))\n",
    "        if prev >= n:\n",
    "            return -1\n",
    "\n",
    "    while arr[prev] < x:\n",
    "        prev = prev + 1\n",
    "        if prev == min(step, n):\n",
    "            return -1\n",
    "    if arr[prev] == x:\n",
    "        return prev\n",
    "    return -1\n",
    "\n",
    "\n",
    "\n",
    "arr = [ 0, 1, 1, 2, 3, 5, 8, 13, 21, 34, 55, 89, 144, 233, 377, 610]\n",
    "x = 55\n",
    "index = jump_search(arr, x)\n",
    "print(\"\\nNumber \" + str(x) +\" is at index \" + str(index));"
   ]
  }
 ],
 "metadata": {
  "hide_input": false,
  "kernelspec": {
   "display_name": "Python 3",
   "language": "python",
   "name": "python3"
  },
  "language_info": {
   "codemirror_mode": {
    "name": "ipython",
    "version": 3
   },
   "file_extension": ".py",
   "mimetype": "text/x-python",
   "name": "python",
   "nbconvert_exporter": "python",
   "pygments_lexer": "ipython3",
   "version": "3.7.2"
  },
  "toc": {
   "base_numbering": 1,
   "nav_menu": {},
   "number_sections": true,
   "sideBar": true,
   "skip_h1_title": false,
   "title_cell": "Table of Contents",
   "title_sidebar": "Contents",
   "toc_cell": false,
   "toc_position": {},
   "toc_section_display": true,
   "toc_window_display": true
  },
  "varInspector": {
   "cols": {
    "lenName": 16,
    "lenType": 16,
    "lenVar": 40
   },
   "kernels_config": {
    "python": {
     "delete_cmd_postfix": "",
     "delete_cmd_prefix": "del ",
     "library": "var_list.py",
     "varRefreshCmd": "print(var_dic_list())"
    },
    "r": {
     "delete_cmd_postfix": ") ",
     "delete_cmd_prefix": "rm(",
     "library": "var_list.r",
     "varRefreshCmd": "cat(var_dic_list()) "
    }
   },
   "types_to_exclude": [
    "module",
    "function",
    "builtin_function_or_method",
    "instance",
    "_Feature"
   ],
   "window_display": false
  }
 },
 "nbformat": 4,
 "nbformat_minor": 2
}
