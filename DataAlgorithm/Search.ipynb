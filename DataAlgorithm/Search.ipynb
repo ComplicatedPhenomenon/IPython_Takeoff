{
 "cells": [
  {
   "cell_type": "code",
   "execution_count": 8,
   "metadata": {},
   "outputs": [],
   "source": [
    "from IPython.core.interactiveshell import InteractiveShell\n",
    "InteractiveShell.ast_node_interactivity = \"all\""
   ]
  },
  {
   "cell_type": "code",
   "execution_count": 9,
   "metadata": {},
   "outputs": [],
   "source": [
    "import random"
   ]
  },
  {
   "cell_type": "markdown",
   "metadata": {},
   "source": [
    "# Linear search $O(n)$"
   ]
  },
  {
   "cell_type": "markdown",
   "metadata": {},
   "source": [
    "# Binary seach  $O(log_2 n)$"
   ]
  },
  {
   "cell_type": "code",
   "execution_count": 49,
   "metadata": {},
   "outputs": [],
   "source": [
    "a = []\n",
    "for _ in range(100):\n",
    "    a.append(random.randint(1,100))\n",
    "a = sorted(a)"
   ]
  },
  {
   "cell_type": "markdown",
   "metadata": {},
   "source": [
    "```c\n",
    "int binarySearch(int low,int high,int key)\n",
    "{\n",
    "   while(low<=high)\n",
    "   {\n",
    "     int mid=(low+high)/2;\n",
    "     if(a[mid]<key)\n",
    "     {\n",
    "         low=mid+1;\n",
    "     }\n",
    "     else if(a[mid]>key)\n",
    "     {\n",
    "         high=mid-1;\n",
    "     }\n",
    "     else\n",
    "     {\n",
    "         return mid;\n",
    "     }\n",
    "   }\n",
    "   return -1;                //key not found\n",
    " }\n",
    "```"
   ]
  },
  {
   "cell_type": "code",
   "execution_count": 66,
   "metadata": {},
   "outputs": [
    {
     "name": "stdout",
     "output_type": "stream",
     "text": [
      "No element is 3 in [1, 2]\n"
     ]
    }
   ],
   "source": [
    "def binary_search(arr, i):\n",
    "    \"\"\"Pure implementation of binary search algorithm in Python\n",
    "    Be careful collection must be ascending sorted, otherwise result will be\n",
    "    unpredictable\n",
    "    :param sorted_collection: some ascending sorted collection with comparable items\n",
    "    :param item: item value to search\n",
    "    :return: index of found item or None if item is not found\n",
    "    Examples:\n",
    "    >>> binary_search([0, 5, 7, 10, 15], 0)\n",
    "    0\n",
    "    >>> binary_search([0, 5, 7, 10, 15], 15)\n",
    "    4\n",
    "    >>> binary_search([0, 5, 7, 10, 15], 5)\n",
    "    1\n",
    "    >>> binary_search([0, 5, 7, 10, 15], 6)\n",
    "    \"\"\"\n",
    "    n = len(arr)\n",
    "    left = 0\n",
    "    right = n - 1\n",
    "    \n",
    "    # Define the condition when the loop should be broken \n",
    "    while (left <= right):\n",
    "        mid = (left + right ) // 2\n",
    "        if arr[mid] == i:\n",
    "            return mid\n",
    "        elif arr[mid] < i:\n",
    "            left = mid + 1 \n",
    "        else:\n",
    "            right = mid - 1\n",
    "    print(\"No element is {} in {}\".format(i, arr))\n",
    "        \n",
    "binary_search([1,2],  3)\n",
    "    "
   ]
  },
  {
   "cell_type": "code",
   "execution_count": 72,
   "metadata": {},
   "outputs": [
    {
     "data": {
      "text/plain": [
       "5"
      ]
     },
     "execution_count": 72,
     "metadata": {},
     "output_type": "execute_result"
    }
   ],
   "source": [
    "def binary_search_by_recursion(arr, i, left, right):\n",
    "    mid = (left + right ) // 2\n",
    "    if (right < left):\n",
    "        print(\"No element is {} in {}\".format(i, arr))\n",
    "    if(arr[mid] == i):\n",
    "        return mid\n",
    "    elif arr[mid] < i:\n",
    "        return binary_search_by_recursion(arr, i, mid+1, right)\n",
    "    else:\n",
    "        return binary_search_by_recursion(arr, i, left, mid - 1)\n",
    "\n",
    "binary_search_by_recursion([1, 2, 3, 4, 5, 6, 7], 6, 0, 6 )"
   ]
  },
  {
   "cell_type": "code",
   "execution_count": 50,
   "metadata": {},
   "outputs": [],
   "source": [
    "binary_search(a, 15)"
   ]
  },
  {
   "cell_type": "code",
   "execution_count": 73,
   "metadata": {},
   "outputs": [],
   "source": [
    "import bisect\n",
    "def binary_search_std_lib(sorted_collection, item):\n",
    "    \"\"\"Pure implementation of binary search algorithm in Python using stdlib\n",
    "    Be careful collection must be ascending sorted, otherwise result will be\n",
    "    unpredictable\n",
    "    :param sorted_collection: some ascending sorted collection with comparable items\n",
    "    :param item: item value to search\n",
    "    :return: index of found item or None if item is not found\n",
    "    Examples:\n",
    "    >>> binary_search_std_lib([0, 5, 7, 10, 15], 0)\n",
    "    0\n",
    "    >>> binary_search_std_lib([0, 5, 7, 10, 15], 15)\n",
    "    4\n",
    "    >>> binary_search_std_lib([0, 5, 7, 10, 15], 5)\n",
    "    1\n",
    "    >>> binary_search_std_lib([0, 5, 7, 10, 15], 6)\n",
    "    \"\"\"\n",
    "    index = bisect.bisect_left(sorted_collection, item)\n",
    "    if index != len(sorted_collection) and sorted_collection[index] == item:\n",
    "        return index\n",
    "    return None"
   ]
  },
  {
   "cell_type": "markdown",
   "metadata": {},
   "source": [
    "# Jump search $O(\\sqrt n)$"
   ]
  },
  {
   "cell_type": "code",
   "execution_count": 3,
   "metadata": {},
   "outputs": [
    {
     "name": "stdout",
     "output_type": "stream",
     "text": [
      "\n",
      "Number 55 is at index 10\n"
     ]
    }
   ],
   "source": [
    "from __future__ import print_function\n",
    "import math\n",
    "def jump_search(arr, x):\n",
    "    n = len(arr)\n",
    "    step = int(math.floor(math.sqrt(n)))\n",
    "    prev = 0\n",
    "    while arr[min(step, n)-1] < x:\n",
    "        prev = step\n",
    "        step += int(math.floor(math.sqrt(n)))\n",
    "        if prev >= n:\n",
    "            return -1\n",
    "\n",
    "    while arr[prev] < x:\n",
    "        prev = prev + 1\n",
    "        if prev == min(step, n):\n",
    "            return -1\n",
    "    if arr[prev] == x:\n",
    "        return prev\n",
    "    return -1\n",
    "\n",
    "\n",
    "\n",
    "arr = [ 0, 1, 1, 2, 3, 5, 8, 13, 21, 34, 55, 89, 144, 233, 377, 610]\n",
    "x = 55\n",
    "index = jump_search(arr, x)\n",
    "print(\"\\nNumber \" + str(x) +\" is at index \" + str(index));"
   ]
  },
  {
   "cell_type": "code",
   "execution_count": null,
   "metadata": {},
   "outputs": [],
   "source": [
    "math.floor(-121.11)"
   ]
  }
 ],
 "metadata": {
  "hide_input": false,
  "kernelspec": {
   "display_name": "Python 3",
   "language": "python",
   "name": "python3"
  },
  "language_info": {
   "codemirror_mode": {
    "name": "ipython",
    "version": 3
   },
   "file_extension": ".py",
   "mimetype": "text/x-python",
   "name": "python",
   "nbconvert_exporter": "python",
   "pygments_lexer": "ipython3",
   "version": "3.7.2"
  },
  "toc": {
   "base_numbering": 1,
   "nav_menu": {},
   "number_sections": true,
   "sideBar": true,
   "skip_h1_title": false,
   "title_cell": "Table of Contents",
   "title_sidebar": "Contents",
   "toc_cell": false,
   "toc_position": {},
   "toc_section_display": true,
   "toc_window_display": false
  },
  "varInspector": {
   "cols": {
    "lenName": 16,
    "lenType": 16,
    "lenVar": 40
   },
   "kernels_config": {
    "python": {
     "delete_cmd_postfix": "",
     "delete_cmd_prefix": "del ",
     "library": "var_list.py",
     "varRefreshCmd": "print(var_dic_list())"
    },
    "r": {
     "delete_cmd_postfix": ") ",
     "delete_cmd_prefix": "rm(",
     "library": "var_list.r",
     "varRefreshCmd": "cat(var_dic_list()) "
    }
   },
   "types_to_exclude": [
    "module",
    "function",
    "builtin_function_or_method",
    "instance",
    "_Feature"
   ],
   "window_display": false
  }
 },
 "nbformat": 4,
 "nbformat_minor": 2
}
