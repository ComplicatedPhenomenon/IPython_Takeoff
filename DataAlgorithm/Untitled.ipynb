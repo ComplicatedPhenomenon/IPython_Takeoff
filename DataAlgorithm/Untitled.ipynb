{
 "cells": [
  {
   "cell_type": "markdown",
   "metadata": {},
   "source": [
    "<span style= \"font-family: New Tork Times; Font-size: 2em; color: green\">\n",
    "Stacks and Queues \n",
    "</span>"
   ]
  },
  {
   "cell_type": "code",
   "execution_count": 1,
   "metadata": {},
   "outputs": [],
   "source": [
    "class StackNode(object):\n",
    "\n",
    "    def __init__(self, value, nxt):\n",
    "        self.value = value\n",
    "        self.next = nxt\n",
    "\n",
    "    def __repr__(self):\n",
    "        nval = self.next and self.next.value or None\n",
    "        return f\"[{self.value}:{repr(nval)}]\"\n",
    "        \n",
    "class Stack(object):\n",
    "\n",
    "    def __init__(self):\n",
    "        self.top = None\n",
    "\n",
    "    def push(self, obj):\n",
    "        \"\"\"Pushes a new value to the top of the stack.\"\"\"\n",
    "\n",
    "    def pop(self):\n",
    "        \"\"\"Pops the value that is currently on the top of the stack.\"\"\"\n",
    "\n",
    "    def top(self):\n",
    "        \"\"\"Returns a *reference* to the first item, does not remove.\"\"\"\n",
    "\n",
    "    def count(self):\n",
    "        \"\"\"Counts the number of elements in the stack.\"\"\"\n",
    "\n",
    "    def dump(self, mark=\"----\"):\n",
    "        \"\"\"Debugging function that dumps the contents of the stack.\"\"\""
   ]
  },
  {
   "cell_type": "code",
   "execution_count": null,
   "metadata": {},
   "outputs": [],
   "source": []
  }
 ],
 "metadata": {
  "kernelspec": {
   "display_name": "Python 3",
   "language": "python",
   "name": "python3"
  },
  "language_info": {
   "codemirror_mode": {
    "name": "ipython",
    "version": 3
   },
   "file_extension": ".py",
   "mimetype": "text/x-python",
   "name": "python",
   "nbconvert_exporter": "python",
   "pygments_lexer": "ipython3",
   "version": "3.6.6"
  }
 },
 "nbformat": 4,
 "nbformat_minor": 2
}
