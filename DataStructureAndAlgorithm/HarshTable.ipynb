{
 "cells": [
  {
   "cell_type": "code",
   "execution_count": null,
   "metadata": {},
   "outputs": [],
   "source": [
    "from IPython.core.interactiveshell import InteractiveShell\n",
    "InteractiveShell.ast_node_interactivity = \"all\""
   ]
  },
  {
   "cell_type": "markdown",
   "metadata": {},
   "source": [
    "# Hash Table\n",
    "\n",
    "[Hash Tables and Hash Functions](https://www.youtube.com/watch?v=KyUTuwz_b7Q)\n",
    "\n",
    "<span style=\"font-family:New York Times; font-size:1.2em; color:green;\">\n",
    "    \n",
    "* https://tutorialedge.net/compsci/data-structures/hash-tables-for-beginners/\n",
    "    \n",
    "  Good Hash Tables with minimal collisions allow you to perform inserts, finds and deletes in a constant amount of time, this can be expressed as O(1) in big-O notation.\n",
    "* https://www.hackerearth.com/zh/practice/data-structures/hash-tables/basics-of-hash-tables/tutorial/\n",
    "* https://www.go4expert.com/articles/hash-tables-tutorial-complete-beginners-t28993/\n",
    "\n",
    "Python 里的字典和集合对象都是基于 哈希表（Hash Table） 实现的。判断一个元素是不是在集合里的平均时间复杂度是 $O(1)$，这非常快。"
   ]
  },
  {
   "cell_type": "markdown",
   "metadata": {},
   "source": [
    "# single number \n",
    "https://leetcode.com/problems/single-number"
   ]
  },
  {
   "cell_type": "code",
   "execution_count": null,
   "metadata": {},
   "outputs": [],
   "source": [
    "\"\"\"\n",
    "Runtime: 100 ms, faster than 70.16% of Python3 online submissions for Single Number.\n",
    "Memory Usage: 16.1 MB, less than 6.56% of Python3 online submissions for Single Number.\n",
    "\"\"\"\n",
    "def singleNumber(nums):\n",
    "    tem = {}\n",
    "    for i in nums:\n",
    "        if i not in tem:\n",
    "            tem[i] = 1\n",
    "        else:\n",
    "            tem[i] = 2\n",
    "    return [k for k, v in tem.items() if v ==1][0]\n",
    "\n",
    "singleNumber([1,1,2])"
   ]
  },
  {
   "cell_type": "code",
   "execution_count": null,
   "metadata": {},
   "outputs": [],
   "source": [
    "\"\"\"\n",
    "Runtime: 1260 ms, faster than 5.57% of Python3 online submissions for Single Number.\n",
    "Memory Usage: 16.3 MB, less than 6.56% of Python3 online submissions for Single Number.\n",
    "\"\"\"\n",
    "def singleNumber(nums):\n",
    "    tem = []\n",
    "    for i in nums:\n",
    "        if i not in tem:\n",
    "            tem.append(i)\n",
    "        else:\n",
    "            tem.remove(i)\n",
    "    return tem[0]\n",
    "\n",
    "singleNumber([1,1,2])"
   ]
  },
  {
   "cell_type": "code",
   "execution_count": null,
   "metadata": {},
   "outputs": [],
   "source": [
    "\"\"\"\n",
    "Runtime: 100 ms, faster than 70.16% of Python3 online submissions for Single Number.\n",
    "Memory Usage: 16.4 MB, less than 6.56% of Python3 online submissions for Single Number.\n",
    "\"\"\"\n",
    "def singleNumber(nums):\n",
    "    tem = set()\n",
    "    for i in nums:\n",
    "        if i not in tem:\n",
    "            tem.add(i)\n",
    "        else:\n",
    "            tem.remove(i)\n",
    "    return tem.pop()\n",
    "\n",
    "singleNumber([1,1,2])"
   ]
  },
  {
   "cell_type": "markdown",
   "metadata": {},
   "source": [
    "# happy number\n",
    "https://leetcode.com/problems/happy-number/"
   ]
  },
  {
   "cell_type": "markdown",
   "metadata": {},
   "source": [
    "Write an algorithm to determine if a number is \"happy\".\n",
    "\n",
    "A happy number is a number defined by the following process: Starting with any positive integer, replace the number by the sum of the squares of its digits, and repeat the process until the number equals 1 (where it will stay), or it loops endlessly in a cycle which does not include 1. Those numbers for which this process ends in 1 are happy numbers.\n",
    "\n",
    "Example: \n",
    "```md\n",
    "Input: 19\n",
    "Output: true\n",
    "```\n",
    "Explanation: \n",
    "$$1^2 + 9^2 = 82$$\n",
    "$$8^2 + 2^2 = 68$$\n",
    "$$6^2 + 8^2 = 100$$\n",
    "$$1^2 + 0^2 + 0^2 = 1$$\n"
   ]
  },
  {
   "cell_type": "code",
   "execution_count": null,
   "metadata": {},
   "outputs": [],
   "source": [
    "def isHappyNumber(num:int)->bool:\n",
    "    a = list(str(num))\n",
    "    b = sum([int(a[i])**2 for i in range(len(a))])\n",
    "    sumRecords = set()\n",
    "    while b != 1:\n",
    "        a = list(str(b))\n",
    "        b = sum([int(a[i])**2 for i in range(len(a))])\n",
    "        if b not in sumRecords:\n",
    "            sumRecords.add(b)\n",
    "        else:\n",
    "            return False\n",
    "    return True\n",
    "\n",
    "isHappyNumber(1)"
   ]
  },
  {
   "cell_type": "code",
   "execution_count": null,
   "metadata": {},
   "outputs": [],
   "source": [
    "class Solution:\n",
    "    def isHappy(self, n: int) -> bool:\n",
    "        a = list(str(n))\n",
    "        b = sum([int(a[i])**2 for i in range(len(a))])\n",
    "        sumRecords = {}\n",
    "        while b != 1:\n",
    "            a = list(str(b))\n",
    "            b = sum([int(a[i])**2 for i in range(len(a))])\n",
    "            if b not in sumRecords:\n",
    "                sumRecords[b] = 1\n",
    "            else:\n",
    "                return False\n",
    "        return True"
   ]
  },
  {
   "cell_type": "markdown",
   "metadata": {},
   "source": [
    "# first unique character in a string\n",
    "https://leetcode.com/problems/first-unique-character-in-a-string/"
   ]
  },
  {
   "cell_type": "markdown",
   "metadata": {},
   "source": [
    "```md \n",
    "s = \"leetcode\"\n",
    "return 0.\n",
    "\n",
    "s = \"loveleetcode\",\n",
    "return 2.\n",
    "```"
   ]
  },
  {
   "cell_type": "code",
   "execution_count": null,
   "metadata": {},
   "outputs": [],
   "source": [
    "class Solution:\n",
    "    def firstUniqChar(self, s: str) -> int:\n",
    "        from collections import Counter\n",
    "\n",
    "        tem = dict(Counter(s))\n",
    "        for i, v in tem.items():\n",
    "            if v == 1:\n",
    "                return s.index(i)\n",
    "        return -1 \n",
    "            \n",
    "test = Solution()\n",
    "s = \"loveleetcode\"\n",
    "test.firstUniqChar(s)"
   ]
  },
  {
   "cell_type": "code",
   "execution_count": null,
   "metadata": {},
   "outputs": [],
   "source": [
    "from collections import Counter\n",
    "s = \"loveleetcode\"\n",
    "dict(Counter(\"\"))"
   ]
  },
  {
   "cell_type": "markdown",
   "metadata": {},
   "source": [
    "# find all anagrams in a string\n",
    "https://leetcode.com/problems/find-all-anagrams-in-a-string/"
   ]
  },
  {
   "cell_type": "markdown",
   "metadata": {},
   "source": [
    "```md\n",
    "Input:\n",
    "s: \"abab\" p: \"ab\"\n",
    "\n",
    "Output:\n",
    "[0, 1, 2]\n",
    "\n",
    "Explanation:\n",
    "The substring with start index = 0 is \"ab\", which is an anagram of \"ab\".\n",
    "The substring with start index = 1 is \"ba\", which is an anagram of \"ab\".\n",
    "The substring with start index = 2 is \"ab\", which is an anagram of \"ab\". \n",
    "```\n",
    "        "
   ]
  },
  {
   "cell_type": "markdown",
   "metadata": {},
   "source": [
    "# word pattern\n",
    "https://leetcode.com/problems/word-pattern/"
   ]
  },
  {
   "cell_type": "markdown",
   "metadata": {},
   "source": [
    "```md \n",
    "Input: pattern = \"abba\", str = \"dog cat cat dog\"\n",
    "Output: true\n",
    "```"
   ]
  },
  {
   "cell_type": "code",
   "execution_count": null,
   "metadata": {},
   "outputs": [],
   "source": [
    "class Solution:\n",
    "    def wordPattern(self, pattern: str, str: str) -> bool:\n",
    "           \n",
    "        string = str.split(' ')\n",
    "        rule = dict(zip(string, list(pattern)))\n",
    "        string = ''.join([rule[i] for i in string])\n",
    "        return string == pattern\n",
    "    \n",
    "test = Solution()\n",
    "pattern = \"abba\"\n",
    "string = \"dog cat cat fish\"\n",
    "test.wordPattern(pattern, string)"
   ]
  },
  {
   "cell_type": "code",
   "execution_count": null,
   "metadata": {},
   "outputs": [],
   "source": [
    "from collections import defaultdict\n",
    "class Solution:\n",
    "    def wordPattern(self, pattern: str, string: str) -> bool:\n",
    "        string_list = string.split(' ')\n",
    "        #if len(string_list) != len(pattern) : return False\n",
    "        \n",
    "        pattern_dict = defaultdict(list)\n",
    "        for i, v in enumerate(pattern):\n",
    "            pattern_dict[v].append(i)\n",
    "       \n",
    "\n",
    "        string_dict = defaultdict(list)\n",
    "        for i, v in enumerate(string_list):\n",
    "            string_dict[v].append(i)\n",
    "        \n",
    "        return list(pattern_dict.values())==list(string_dict.values())\n",
    "    \n",
    "test = Solution()\n",
    "pattern = \"abba\"\n",
    "string = \"\"\n",
    "test.wordPattern(pattern, string)"
   ]
  },
  {
   "cell_type": "markdown",
   "metadata": {},
   "source": [
    "# count primes\n",
    "https://leetcode.com/problems/count-primes/"
   ]
  },
  {
   "cell_type": "markdown",
   "metadata": {},
   "source": [
    "```md \n",
    "Input: 10\n",
    "Output: 4\n",
    "Explanation: There are 4 prime numbers less than 10, they are 2, 3, 5, 7. \n",
    "``` "
   ]
  },
  {
   "cell_type": "markdown",
   "metadata": {},
   "source": [
    "# isomorphic strings\n",
    "https://leetcode.com/problems/isomorphic-strings/"
   ]
  },
  {
   "cell_type": "markdown",
   "metadata": {},
   "source": [
    "```md \n",
    "Input: s = \"egg\", t = \"add\"\n",
    "Output: true \n",
    "```"
   ]
  },
  {
   "cell_type": "code",
   "execution_count": null,
   "metadata": {},
   "outputs": [],
   "source": [
    "class Solution:\n",
    "    def isIsomorphic(self, s: str, t: str) -> bool:\n",
    "        if len(s) == len(t):\n",
    "            if len(s) == 0:\n",
    "                return True\n",
    "            else:\n",
    "                if len(set(s)) == len(set(t)):\n",
    "                    for i in range(len(s)):\n",
    "                        if s.find(s[i]) == t.find(t[i]):\n",
    "                            return True\n",
    "                        else:\n",
    "                            False\n",
    "                else:\n",
    "                    return False\n",
    "        else:\n",
    "            return False\n",
    "\n",
    "\n",
    "s = 'andd'\n",
    "t = 'cmoox'\n",
    "# t = 'cmoo'\n",
    "x = Solution()\n",
    "x.isIsomorphic(s, t)"
   ]
  },
  {
   "cell_type": "code",
   "execution_count": null,
   "metadata": {},
   "outputs": [],
   "source": [
    "class Solution:\n",
    "    def isIsomorphic(self, s: str, t: str) -> bool:\n",
    "        if len(s) == len(t):\n",
    "            if len(s) == 0:\n",
    "                return True\n",
    "            else:\n",
    "                x = {}\n",
    "                y = {}\n",
    "                for i, j in enumerate(s):\n",
    "                    if j not in x:\n",
    "                        x[j] = [i]\n",
    "                    else:\n",
    "                        m = x[j]\n",
    "                        m.append(i)\n",
    "                        x[j] = m\n",
    "\n",
    "                for i, j in enumerate(t):\n",
    "                    if j not in y:\n",
    "                        y[j] = [i]\n",
    "                    else:\n",
    "                        m = y[j]\n",
    "                        m.append(i)\n",
    "                        y[j] = m\n",
    "\n",
    "                #print(x.values() == y.values())\n",
    "                print(x.values())\n",
    "\n",
    "                if list(x.values()) == list(y.values()):\n",
    "                    return True\n",
    "                else:\n",
    "                    return False\n",
    "        else:\n",
    "            return False\n",
    "\n",
    "\n",
    "s = 'andd'\n",
    "t = 'cmoo'\n",
    "# t = 'cmoo'\n",
    "x = Solution()\n",
    "x.isIsomorphic(s, t)"
   ]
  },
  {
   "cell_type": "code",
   "execution_count": null,
   "metadata": {},
   "outputs": [],
   "source": [
    "class Solution:\n",
    "    def isIsomorphic(self, s: str, t: str) -> bool:\n",
    "        d={}\n",
    "        if len(set(s)) != len(set(t)): return False\n",
    "        for i in range(len(s)):\n",
    "            if s[i] in d:\n",
    "                if d[s[i]] == t[i]:\n",
    "                    continue\n",
    "                else:\n",
    "                    return False\n",
    "            d[s[i]] = t[i] # s[i] as key t[i] as corresponding value\n",
    "        return True"
   ]
  },
  {
   "cell_type": "code",
   "execution_count": null,
   "metadata": {},
   "outputs": [],
   "source": [
    "class Solution:\n",
    "    def isIsomorphic(self, s: str, t: str) -> bool:\n",
    "        for i in range(len(s)):\n",
    "            if s.find(s[i])!=t.find(t[i]):\n",
    "                return False\n",
    "        return True"
   ]
  },
  {
   "cell_type": "markdown",
   "metadata": {},
   "source": [
    "# intersection of two arrays\n",
    "https://leetcode.com/problems/intersection-of-two-arrays/"
   ]
  },
  {
   "cell_type": "markdown",
   "metadata": {},
   "source": [
    "```md\n",
    "Given two arrays, write a function to compute their intersection.\n",
    "\n",
    "Example 1:\n",
    "\n",
    "Input: nums1 = [1,2,2,1], nums2 = [2,2]\n",
    "Output: [2]\n",
    "\n",
    "Example 2:\n",
    "\n",
    "Input: nums1 = [4,9,5], nums2 = [9,4,9,8,4]\n",
    "Output: [9,4]\n",
    "\n",
    "Note:\n",
    "\n",
    "Each element in the result must be unique.\n",
    "The result can be in any order.\n",
    "```"
   ]
  },
  {
   "cell_type": "code",
   "execution_count": null,
   "metadata": {},
   "outputs": [],
   "source": [
    "class Solution:\n",
    "    def intersection(self, nums1, nums2):\n",
    "        nums1 = set(nums1)\n",
    "        nums2 = set(nums2)\n",
    "        x = []\n",
    "        y = []\n",
    "        if len(nums1) > len(nums2):\n",
    "            for i in nums2:\n",
    "                if i in nums1:\n",
    "                    x.append(i)\n",
    "            return x \n",
    "        else:\n",
    "            for i in nums1:\n",
    "                if i in nums2:\n",
    "                    y.append(i)\n",
    "            return y\n",
    "        \n",
    "a = Solution()\n",
    "a.intersection([1,2,3],[2,4])"
   ]
  },
  {
   "cell_type": "code",
   "execution_count": null,
   "metadata": {},
   "outputs": [],
   "source": [
    "class Solution:\n",
    "    def intersection(self, nums1, nums2):\n",
    "        nums1 = set(nums1)\n",
    "        nums2 = set(nums2)\n",
    "        x = []\n",
    "        y = []\n",
    "        if len(nums1) > len(nums2):\n",
    "            for i in nums2:\n",
    "                if i in nums1:\n",
    "                    x.append(i)\n",
    "            return x \n",
    "        else:\n",
    "            for i in nums1:\n",
    "                if i in nums2:\n",
    "                    y.append(i)\n",
    "            return y\n",
    "        \n",
    "a = Solution()\n",
    "a.intersection([1,2,3],[2,4])"
   ]
  },
  {
   "cell_type": "code",
   "execution_count": null,
   "metadata": {},
   "outputs": [],
   "source": [
    "a.intersection([4,9,5],[9,4,9,8,4])"
   ]
  },
  {
   "cell_type": "markdown",
   "metadata": {},
   "source": [
    "# group anagrams\n",
    "https://leetcode.com/problems/group-anagrams/"
   ]
  },
  {
   "cell_type": "markdown",
   "metadata": {},
   "source": [
    "Given an array of strings, group anagrams together.\n",
    "\n",
    "Example:\n",
    "```md\n",
    "Input: [\"eat\", \"tea\", \"tan\", \"ate\", \"nat\", \"bat\"],\n",
    "Output:\n",
    "[\n",
    "  [\"ate\",\"eat\",\"tea\"],\n",
    "  [\"nat\",\"tan\"],\n",
    "  [\"bat\"]\n",
    "]\n",
    "```\n",
    "Note:\n",
    "\n",
    "* All inputs will be in lowercase.\n",
    "* The order of your output does not matter.\n"
   ]
  },
  {
   "cell_type": "code",
   "execution_count": null,
   "metadata": {},
   "outputs": [],
   "source": [
    "v = [\"eat\", \"tea\", \"tan\", \"ate\", \"nat\", \"bat\"]"
   ]
  },
  {
   "cell_type": "code",
   "execution_count": null,
   "metadata": {},
   "outputs": [],
   "source": [
    "x = [set(i) for i in v ]\n",
    "x \n",
    "x[1]\n",
    "j = ''\n",
    "for i in x[1]:\n",
    "    j=j + i\n",
    "j \n",
    "''+'a'+'e'+'t'"
   ]
  },
  {
   "cell_type": "code",
   "execution_count": null,
   "metadata": {},
   "outputs": [],
   "source": [
    "class Solution:\n",
    "    def groupAnagrams(self, strs):\n",
    "        x = {}\n",
    "        m = []\n",
    "        for i in strs:\n",
    "            print(frozenset(i))\n",
    "            x[frozenset(i)] =  m.append(i)\n",
    "        return list(x.values())  \n",
    "a = Solution()\n",
    "c = [\"eat\", \"tea\", \"tan\", \"ate\", \"nat\", \"bat\"]\n",
    "a.groupAnagrams(c ) "
   ]
  },
  {
   "cell_type": "code",
   "execution_count": null,
   "metadata": {},
   "outputs": [],
   "source": [
    "class Solution:\n",
    "    def groupAnagrams(self, strs):\n",
    "        x = {}\n",
    "        \n",
    "        for i in strs:\n",
    "          \n",
    "            x[i] =  i\n",
    "        return (x.keys(), x.values()) \n",
    "a = Solution()\n",
    "c = [\"eat\", \"tea\", \"tan\", \"ate\", \"nat\", \"bat\"]\n",
    "a.groupAnagrams(c ) "
   ]
  },
  {
   "cell_type": "code",
   "execution_count": null,
   "metadata": {},
   "outputs": [],
   "source": [
    "# Runtime: 144 ms, faster than 17.27% of Python3 online submissions for Group Anagrams.\n",
    "# Memory Usage: 18.3 MB, less than 5.05% of Python3 online submissions for Group Anagrams.\n",
    "\n",
    "import collections\n",
    "class Solution:\n",
    "    def groupAnagrams(self, strs):\n",
    "        ans = collections.defaultdict(list)\n",
    "        for s in strs:\n",
    "            count = [0] * 26\n",
    "            for c in s:\n",
    "                count[ord(c) - ord('a')] += 1\n",
    "            ans[tuple(count)].append(s)\n",
    "        return list(ans.values())\n",
    "\n",
    "a = Solution()\n",
    "#c = [\"eat\", \"tea\", \"tan\", \"ate\", \"nat\", \"bat\"]\n",
    "c = [\"eaat\", \"teaa\", \"taan\", \"aate\", \"naat\", \"baat\"]\n",
    "a.groupAnagrams(c)  "
   ]
  }
 ],
 "metadata": {
  "hide_input": false,
  "kernelspec": {
   "display_name": "Python 3",
   "language": "python",
   "name": "python3"
  },
  "language_info": {
   "codemirror_mode": {
    "name": "ipython",
    "version": 3
   },
   "file_extension": ".py",
   "mimetype": "text/x-python",
   "name": "python",
   "nbconvert_exporter": "python",
   "pygments_lexer": "ipython3",
   "version": "3.7.2"
  },
  "toc": {
   "base_numbering": 1,
   "nav_menu": {},
   "number_sections": true,
   "sideBar": true,
   "skip_h1_title": false,
   "title_cell": "Table of Contents",
   "title_sidebar": "Contents",
   "toc_cell": false,
   "toc_position": {
    "height": "calc(100% - 180px)",
    "left": "10px",
    "top": "150px",
    "width": "281.59375px"
   },
   "toc_section_display": true,
   "toc_window_display": true
  },
  "varInspector": {
   "cols": {
    "lenName": 16,
    "lenType": 16,
    "lenVar": 40
   },
   "kernels_config": {
    "python": {
     "delete_cmd_postfix": "",
     "delete_cmd_prefix": "del ",
     "library": "var_list.py",
     "varRefreshCmd": "print(var_dic_list())"
    },
    "r": {
     "delete_cmd_postfix": ") ",
     "delete_cmd_prefix": "rm(",
     "library": "var_list.r",
     "varRefreshCmd": "cat(var_dic_list()) "
    }
   },
   "types_to_exclude": [
    "module",
    "function",
    "builtin_function_or_method",
    "instance",
    "_Feature"
   ],
   "window_display": false
  }
 },
 "nbformat": 4,
 "nbformat_minor": 2
}
