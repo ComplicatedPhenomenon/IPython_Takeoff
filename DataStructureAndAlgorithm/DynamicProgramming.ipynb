{
 "cells": [
  {
   "cell_type": "code",
   "execution_count": null,
   "metadata": {
    "ExecuteTime": {
     "end_time": "2019-12-27T14:24:34.976060Z",
     "start_time": "2019-12-27T14:24:34.971804Z"
    }
   },
   "outputs": [],
   "source": [
    "from IPython.core.interactiveshell import InteractiveShell\n",
    "InteractiveShell.ast_node_interactivity = \"all\""
   ]
  },
  {
   "cell_type": "code",
   "execution_count": null,
   "metadata": {
    "ExecuteTime": {
     "end_time": "2019-12-27T14:24:35.793613Z",
     "start_time": "2019-12-27T14:24:35.789840Z"
    }
   },
   "outputs": [],
   "source": [
    "import random\n",
    "import time "
   ]
  },
  {
   "cell_type": "markdown",
   "metadata": {},
   "source": [
    "# climbing stairs\n",
    "https://leetcode.com/problems/climbing-stairs/"
   ]
  },
  {
   "cell_type": "markdown",
   "metadata": {
    "ExecuteTime": {
     "end_time": "2019-12-06T01:02:57.768632Z",
     "start_time": "2019-12-06T01:02:57.765561Z"
    }
   },
   "source": [
    "## recursive approach"
   ]
  },
  {
   "cell_type": "code",
   "execution_count": null,
   "metadata": {
    "ExecuteTime": {
     "end_time": "2019-12-06T02:37:15.623072Z",
     "start_time": "2019-12-06T02:37:15.616009Z"
    }
   },
   "outputs": [],
   "source": [
    "def f(n):\n",
    "    if n == 0:\n",
    "        return 0\n",
    "    elif n == 1:\n",
    "        return 1\n",
    "    else:\n",
    "        return f(n-1)+f(n-2)"
   ]
  },
  {
   "cell_type": "code",
   "execution_count": null,
   "metadata": {
    "ExecuteTime": {
     "end_time": "2019-12-06T03:00:31.340766Z",
     "start_time": "2019-12-06T03:00:31.325554Z"
    }
   },
   "outputs": [],
   "source": [
    "f(20)"
   ]
  },
  {
   "cell_type": "markdown",
   "metadata": {},
   "source": [
    "```md\n",
    "f(n) = f(n-1)+f(n-2) \n",
    "     = f(n-2)+f(n-3)+f(n-3)+f(n-4)\n",
    "```\n",
    "\n",
    "![image.png](../figure/xmind/f(n).png)\n",
    "\n",
    "1. 找到如何将大问题分解为小问题的规律\n",
    "2. 通过规律写出递推公式\n",
    "3. 通过递归公式的临界点推敲出终止条件\n",
    "4. 将递推公式和终止条件翻译成代码"
   ]
  },
  {
   "cell_type": "code",
   "execution_count": null,
   "metadata": {
    "ExecuteTime": {
     "end_time": "2019-12-06T04:02:37.518095Z",
     "start_time": "2019-12-06T04:02:37.513958Z"
    }
   },
   "outputs": [],
   "source": [
    "2**64//10**18"
   ]
  },
  {
   "cell_type": "markdown",
   "metadata": {},
   "source": [
    "## iterative approach"
   ]
  },
  {
   "cell_type": "code",
   "execution_count": null,
   "metadata": {
    "ExecuteTime": {
     "end_time": "2019-12-06T04:28:24.486254Z",
     "start_time": "2019-12-06T04:28:24.479908Z"
    }
   },
   "outputs": [],
   "source": [
    "a = 1\n",
    "b = 2\n",
    "a, b = b, a + b\n",
    "a, b"
   ]
  },
  {
   "cell_type": "code",
   "execution_count": null,
   "metadata": {
    "ExecuteTime": {
     "end_time": "2019-12-06T04:47:58.558668Z",
     "start_time": "2019-12-06T04:47:58.540878Z"
    }
   },
   "outputs": [],
   "source": [
    "def find_number(n):\n",
    "    a, b = 0, 1\n",
    "    for _ in range(n):\n",
    "        a, b = b, a + b\n",
    "    return a\n",
    "\n",
    "find_number(80)//10**16\n",
    "find_number(20)\n",
    "find_number(80)\n",
    "find_number(90)"
   ]
  },
  {
   "cell_type": "code",
   "execution_count": null,
   "metadata": {
    "ExecuteTime": {
     "end_time": "2019-12-05T02:22:33.823450Z",
     "start_time": "2019-12-05T02:22:33.819895Z"
    }
   },
   "outputs": [],
   "source": [
    "from functools import lru_cache"
   ]
  },
  {
   "cell_type": "code",
   "execution_count": null,
   "metadata": {
    "ExecuteTime": {
     "end_time": "2019-12-06T03:12:31.051692Z",
     "start_time": "2019-12-06T03:12:31.044110Z"
    }
   },
   "outputs": [],
   "source": [
    "@lru_cache(maxsize=None)\n",
    "def f(k):\n",
    "    if k < 3:\n",
    "        return k\n",
    "    return f(k-1) + f(k-3)\n",
    "f(1000)"
   ]
  },
  {
   "cell_type": "code",
   "execution_count": null,
   "metadata": {
    "ExecuteTime": {
     "end_time": "2019-12-06T03:38:32.783644Z",
     "start_time": "2019-12-06T03:38:32.777300Z"
    }
   },
   "outputs": [],
   "source": [
    "def find_number(n):\n",
    "    a, b, c = 0, 1, 2\n",
    "    for _ in range(n):\n",
    "        a, b, c = b, c, a + c\n",
    "    return a \n",
    "find_number(100)"
   ]
  },
  {
   "cell_type": "markdown",
   "metadata": {},
   "source": [
    "# longest palindromic substring\n",
    "https://leetcode.com/problems/longest-palindromic-substring/"
   ]
  },
  {
   "cell_type": "markdown",
   "metadata": {},
   "source": [
    "```md \n",
    "Input: \"babad\"\n",
    "Output: \"bab\"\n",
    "Note: \"aba\" is also a valid answer.\n",
    "```"
   ]
  },
  {
   "cell_type": "code",
   "execution_count": null,
   "metadata": {
    "ExecuteTime": {
     "end_time": "2019-12-13T02:35:56.707844Z",
     "start_time": "2019-12-13T02:35:56.689368Z"
    }
   },
   "outputs": [],
   "source": [
    "class Solution(object):\n",
    "    def longestPalindrome(self, s):\n",
    "        ans = ''\n",
    "        max_len = 0\n",
    "        n = len(s)\n",
    "        DP = [[0] * n for _ in range(n)]\n",
    "        for i in range(n):\n",
    "            DP[i][i] = True\n",
    "            max_len = 1\n",
    "            ans = s[i]\n",
    "\n",
    "        for i in range(n-1):\n",
    "            if s[i] == s[i+1]:\n",
    "                DP[i][i+1] = True\n",
    "                ans = s[i:i+2]\n",
    "                max_len = 2\n",
    "\n",
    "        for j in range(2, n):\n",
    "            for i in range(0, j-1):\n",
    "                if s[i] == s[j] and DP[i+1][j-1]:\n",
    "                    DP[i][j] = True\n",
    "                    if max_len < j - i + 1:\n",
    "                        ans = s[i:j+1]\n",
    "                        max_len = j - i + 1\n",
    "        return ans"
   ]
  },
  {
   "cell_type": "code",
   "execution_count": null,
   "metadata": {
    "ExecuteTime": {
     "end_time": "2019-12-13T02:35:47.408320Z",
     "start_time": "2019-12-13T02:35:47.399141Z"
    }
   },
   "outputs": [],
   "source": [
    "x = Solution()\n",
    "x.longestPalindrome('')\n",
    "x.longestPalindrome('a')\n",
    "x.longestPalindrome('aac')\n",
    "x.longestPalindrome('abdabc')"
   ]
  },
  {
   "cell_type": "markdown",
   "metadata": {},
   "source": [
    "# is subsequence\n",
    "https://leetcode.com/problems/is-subsequence/"
   ]
  },
  {
   "cell_type": "markdown",
   "metadata": {},
   "source": [
    "<span style=\"font-family:New York Times; font-size:1.2em; color:green;\">\n",
    "\n",
    "\n",
    "\"ace\" is a subsequence of \"abcde\" while \"aec\" is not"
   ]
  },
  {
   "cell_type": "code",
   "execution_count": null,
   "metadata": {
    "ExecuteTime": {
     "end_time": "2019-12-05T05:47:16.955307Z",
     "start_time": "2019-12-05T05:47:16.937114Z"
    }
   },
   "outputs": [],
   "source": [
    "class Solution:\n",
    "    def isSubsequence(self, s: str, t: str) -> bool:\n",
    "        tem = []\n",
    "        for i in s:\n",
    "            if i in t:\n",
    "                tem.append(t.index(i))\n",
    "            else:\n",
    "                return False\n",
    "        return tem == sorted(tem)\n",
    "x = Solution()  \n",
    "x.isSubsequence('ace', 'abcde')\n",
    "x.isSubsequence('ace', 'cabcde')"
   ]
  },
  {
   "cell_type": "code",
   "execution_count": null,
   "metadata": {
    "ExecuteTime": {
     "end_time": "2019-12-05T05:48:12.950450Z",
     "start_time": "2019-12-05T05:48:12.941794Z"
    }
   },
   "outputs": [],
   "source": [
    "'anc'.index('n')"
   ]
  },
  {
   "cell_type": "code",
   "execution_count": null,
   "metadata": {},
   "outputs": [],
   "source": [
    "class Solution:\n",
    "    def isSubsequence(self, s: str, t: str) -> bool:\n",
    "        if s == '': return True \n",
    "        if s[0] not in t: return False\n",
    "        tem = [t.index(s[0])]\n",
    "        for i in s[1:]:\n",
    "            try:\n",
    "                z = t.index(i, tem[-1]+1)\n",
    "                tem[-1] = z \n",
    "            except:\n",
    "                return False \n",
    "        return True\n",
    "\n",
    "x = Solution()\n",
    "x.isSubsequence('gce', 'abcde')\n",
    "x.isSubsequence('ace', 'cabcde')\n",
    "x.isSubsequence('', 'cabcde')\n",
    "x.isSubsequence('acce', 'cabcde')"
   ]
  },
  {
   "cell_type": "markdown",
   "metadata": {},
   "source": [
    "<span style=\"font-family:New York Times; font-size:1.2em; color:green;\">\n",
    "What my solution has something to do with DP?"
   ]
  },
  {
   "cell_type": "markdown",
   "metadata": {},
   "source": [
    "# perfect squares\n",
    "https://leetcode.com/problems/perfect-squares/"
   ]
  },
  {
   "cell_type": "markdown",
   "metadata": {},
   "source": [
    "<span style=\"font-family:New York Times; font-size:1.2em; color:green;\">\n",
    "Given a positive integer n, find the least number of perfect square numbers (for example, 1, 4, 9, 16, ...) which sum to n."
   ]
  },
  {
   "cell_type": "code",
   "execution_count": null,
   "metadata": {},
   "outputs": [],
   "source": [
    "class Solution:\n",
    "    def numSquares(self, n: int) -> int:\n",
    "        from math import sqrt\n",
    "\n",
    "        k = 0\n",
    "\n",
    "        while n != 0:\n",
    "            x = int(sqrt(n) // 1)\n",
    "            n -= x**2\n",
    "            k += 1\n",
    "        return k\n",
    "\n",
    "\n",
    "x = Solution()\n",
    "x.numSquares(12)"
   ]
  },
  {
   "cell_type": "code",
   "execution_count": null,
   "metadata": {
    "ExecuteTime": {
     "end_time": "2019-12-13T05:40:57.366964Z",
     "start_time": "2019-12-13T05:40:57.349147Z"
    }
   },
   "outputs": [],
   "source": [
    "class Solution:\n",
    "    def numSquares(self, n: int) -> int:\n",
    "        lst = []\n",
    "        i = 1\n",
    "        while i * i <= n:\n",
    "            lst.append(i * i)\n",
    "            i += 1\n",
    "\n",
    "\n",
    "        tocheck = {n}\n",
    "        cnt = 0\n",
    "        while tocheck:\n",
    "            cnt += 1\n",
    "            temp = set()\n",
    "            for x in tocheck:\n",
    "                for y in lst:\n",
    "                    if x == y:\n",
    "                        return cnt\n",
    "                    elif x < y:\n",
    "                        break\n",
    "                    else:\n",
    "                        temp.add(x - y)\n",
    "\n",
    "            tocheck = temp\n",
    "        #return cnt\n",
    "\n",
    "\n",
    "x = Solution()\n",
    "x.numSquares(12)"
   ]
  },
  {
   "cell_type": "markdown",
   "metadata": {},
   "source": [
    "# longest substring without repeating characters\n",
    "https://leetcode.com/problems/longest-substring-without-repeating-characters/"
   ]
  },
  {
   "cell_type": "markdown",
   "metadata": {},
   "source": [
    "\n",
    "* https://leetcode-cn.com/problems/longest-substring-without-repeating-characters/solution/hua-dong-chuang-kou-by-powcai/"
   ]
  },
  {
   "cell_type": "code",
   "execution_count": null,
   "metadata": {
    "ExecuteTime": {
     "end_time": "2019-12-13T05:35:18.347757Z",
     "start_time": "2019-12-13T05:35:18.333033Z"
    }
   },
   "outputs": [],
   "source": [
    "def lengthOfLongestSubstring( s: str) -> int: # the -> int just tells that f() returns an integer.\n",
    "    # : str tells people who read the program (and some third-party libraries/programs, e. g. pylint) \n",
    "    # that s should be a str\n",
    "    if not s:return 0\n",
    "    left = 0\n",
    "    lookup = set()\n",
    "    n = len(s)\n",
    "    max_len = 0\n",
    "    cur_len = 0\n",
    "    for i in range(n):\n",
    "        cur_len += 1\n",
    "        while s[i] in lookup:\n",
    "            lookup.remove(s[left]) # as lookup is not order determined\n",
    "            left += 1\n",
    "            cur_len -= 1\n",
    "        if cur_len > max_len: max_len = cur_len\n",
    "        lookup.add(s[i]) \n",
    "        #print(lookup)\n",
    "    return max_len\n",
    "lengthOfLongestSubstring('abcadefga')\n",
    "s = \"abcabdcef\"\n",
    "lengthOfLongestSubstring(s)"
   ]
  },
  {
   "cell_type": "code",
   "execution_count": null,
   "metadata": {
    "ExecuteTime": {
     "end_time": "2019-12-13T05:34:38.399944Z",
     "start_time": "2019-12-13T05:34:38.385251Z"
    }
   },
   "outputs": [],
   "source": [
    "class Solution(object):\n",
    "    #此解法为进栈法\n",
    "    def lengthOfLongestSubstring(self, s):\n",
    "        s_to_list = list(s)\n",
    "        stack = []\n",
    "        max_length = 0\n",
    "        for value in s_to_list:\n",
    "            #如果stack栈中不包含index元素，则可以进栈           \n",
    "            if value not in stack:\n",
    "                stack.append(value)           \n",
    "                max_length = max(max_length, len(stack))\n",
    "            else:\n",
    "                start = stack.index(value)\n",
    "                # update stack\n",
    "                stack[:] = stack[start+1:]\n",
    "                stack.append(value)\n",
    "            print('stack = {}'.format(stack))\n",
    "        return max_length\n",
    "\n",
    "\n",
    "if __name__ == \"__main__\":\n",
    "    s = \"abcabdcef\"\n",
    "    # s = \"abcab\"\n",
    "    max_str = Solution().lengthOfLongestSubstring(s)\n",
    "    print(max_str)"
   ]
  },
  {
   "cell_type": "markdown",
   "metadata": {},
   "source": [
    "* https://leetcode.com/problems/longest-substring-without-repeating-characters/discuss/307810/Python-O(n)-times-48ms-beat-99.86"
   ]
  },
  {
   "cell_type": "code",
   "execution_count": null,
   "metadata": {},
   "outputs": [],
   "source": [
    "class Solution():\n",
    "    def lengthOfLongestSubstring(self, s: str) -> int:\n",
    "        substring, length, max_len = \"\", 0, 0\n",
    "        for c in s:\n",
    "            if c in substring:\n",
    "                index = substring.find(c)\n",
    "                substring = substring[(index + 1)::]\n",
    "            substring += c\n",
    "            length = len(substring)\n",
    "            if length > max_len:\n",
    "                max_len = length\n",
    "\n",
    "        return max_len\n",
    "\n",
    "\n",
    "if __name__ == \"__main__\":\n",
    "    s = \"abcdefa\"\n",
    "    # s = \"abcab\"\n",
    "    max_str = Solution().lengthOfLongestSubstring(s)\n",
    "    print(max_str)"
   ]
  },
  {
   "cell_type": "code",
   "execution_count": null,
   "metadata": {
    "ExecuteTime": {
     "end_time": "2019-12-13T05:38:00.615350Z",
     "start_time": "2019-12-13T05:38:00.603051Z"
    }
   },
   "outputs": [],
   "source": [
    "def lengthOfLongestSubstring(s):\n",
    "        \"\"\"\n",
    "        :type s: str\n",
    "        :rtype: int\n",
    "        \"\"\"\n",
    "        result = \"\"\n",
    "        result_temp = \"\"\n",
    "        for i in range(len(s)+1):\n",
    "            for j in range(i+1,len(s)+1):\n",
    "                if (len(result_temp) <= len(s[i:j])) and  (s[i:j][-1:] not in result_temp):\n",
    "                    result_temp = s[i:j]\n",
    "                else:\n",
    "                    result = result_temp if len(result) < len(result_temp) else result\n",
    "                    result_temp = \"\"\n",
    "                    break\n",
    "        result = result_temp if len(result) < len(result_temp) else result\n",
    "        return result\n",
    "s = \"abcabdcef\"\n",
    "lengthOfLongestSubstring(s)"
   ]
  },
  {
   "cell_type": "markdown",
   "metadata": {},
   "source": [
    "# longest sub array"
   ]
  },
  {
   "cell_type": "code",
   "execution_count": null,
   "metadata": {},
   "outputs": [],
   "source": [
    "def checkList(listi, num):\n",
    "    k = [listi[0]]\n",
    "    nk = 0\n",
    "    listo = []\n",
    "    for v in listi[1:]:\n",
    "        if v == k[-1]:\n",
    "            k.append(v)\n",
    "        else:\n",
    "            if len(k) == num:\n",
    "                listo.append(k[-1])\n",
    "            k = [v]\n",
    "    if len(k) == num:\n",
    "            listo.append(k[-1])\n",
    "    return listo\n",
    "\n",
    "\n",
    "l = [1, 0, 4, 4,4, 4, 4, 4, 1,1,1,1,1,1]\n",
    "print(checkList(l, 6))\n"
   ]
  },
  {
   "cell_type": "code",
   "execution_count": null,
   "metadata": {},
   "outputs": [],
   "source": [
    "lst = [1, 1, 4, 4,1,1]\n",
    "print([v for i, v in enumerate(lst, 1) if {v} == set(lst[i:i+1])])"
   ]
  },
  {
   "cell_type": "markdown",
   "metadata": {},
   "source": [
    "#  ugly number\n",
    "https://leetcode.com/problems/ugly-number/"
   ]
  },
  {
   "cell_type": "markdown",
   "metadata": {
    "ExecuteTime": {
     "end_time": "2019-11-26T14:05:47.872917Z",
     "start_time": "2019-11-26T14:05:47.866706Z"
    }
   },
   "source": [
    "```md\n",
    "Ugly numbers are positive numbers whose prime factors only include 2, 3, 5.\n",
    "\n",
    "Input: 6\n",
    "Output: true\n",
    "Explanation: 6 = 2 × 3\n",
    "```"
   ]
  },
  {
   "cell_type": "code",
   "execution_count": null,
   "metadata": {},
   "outputs": [],
   "source": [
    "# Wrong example\n",
    "class Solution(object):\n",
    "    def nthUglyNumber(self, n):\n",
    "        \"\"\"\n",
    "        :type n: int\n",
    "        :rtype: int\n",
    "        \"\"\"\n",
    "        res = [1]\n",
    "\n",
    "        for i in range(n-1):\n",
    "            res.append(min(res[-1]*2,res[-1]*3,res[-1]*5))\n",
    "  \n",
    "        return res[-1]\n",
    "    \n",
    "a = Solution()\n",
    "a.nthUglyNumber(10)"
   ]
  },
  {
   "cell_type": "code",
   "execution_count": null,
   "metadata": {},
   "outputs": [],
   "source": [
    "class Solution(object):\n",
    "    def nthUglyNumber(self, n):\n",
    "        \"\"\"\n",
    "        :type n: int\n",
    "        :rtype: int\n",
    "        \"\"\"\n",
    "        res = [1]\n",
    "        idx2 = 0\n",
    "        idx3 = 0\n",
    "        idx5 = 0\n",
    "        for i in range(n-1):\n",
    "            res.append(min(res[idx2]*2,res[idx3]*3,res[idx5]*5))\n",
    "            if res[-1] == res[idx2]*2:\n",
    "                idx2 += 1\n",
    "            if res[-1] == res[idx3]*3:\n",
    "                idx3 += 1\n",
    "            if res[-1] == res[idx5]*5:\n",
    "                idx5 += 1\n",
    "        return res[-1]\n",
    "    \n",
    "a = Solution()\n",
    "a.nthUglyNumber(15000)"
   ]
  },
  {
   "cell_type": "code",
   "execution_count": null,
   "metadata": {},
   "outputs": [],
   "source": [
    "from heapq import heappush, heappop\n",
    "\n",
    "class Solution:\n",
    "    def nthUglyNumber(self, n):\n",
    "        q, counted = [1], {1}\n",
    "        for i in range(n - 1):\n",
    "            m = heappop(q)\n",
    "            for mm in [2*m, 3*m, 5*m]:\n",
    "                if mm not in counted:\n",
    "                    heappush(q, mm)\n",
    "                    #print('q',q)\n",
    "                    counted.add(mm)   \n",
    "                    #print('counted', counted)\n",
    "        #print(q)\n",
    "        #print(counted)\n",
    "        return heappop(q)\n",
    "a = Solution()\n",
    "a.nthUglyNumber(15000)"
   ]
  },
  {
   "cell_type": "code",
   "execution_count": null,
   "metadata": {},
   "outputs": [],
   "source": [
    "q = [1]\n",
    "heappop(q)\n",
    "heappush(q, 2)\n",
    "q "
   ]
  },
  {
   "cell_type": "markdown",
   "metadata": {},
   "source": [
    "因为不熟悉堆这种结构的应用，这种解法就很抽象。"
   ]
  },
  {
   "cell_type": "markdown",
   "metadata": {},
   "source": [
    "# search insert position\n",
    "https://leetcode.com/problems/search-insert-position/"
   ]
  },
  {
   "cell_type": "markdown",
   "metadata": {},
   "source": [
    "```md\n",
    "Example 1:\n",
    "\n",
    "Input: [1,3,5,6], 5\n",
    "Output: 2\n",
    "Example 2:\n",
    "\n",
    "Input: [1,3,5,6], 2\n",
    "Output: 1\n",
    "Example 3:\n",
    "\n",
    "Input: [1,3,5,6], 7\n",
    "Output: 4\n",
    "Example 4:\n",
    "\n",
    "Input: [1,3,5,6], 0\n",
    "Output: 0\n",
    "```"
   ]
  },
  {
   "cell_type": "code",
   "execution_count": null,
   "metadata": {},
   "outputs": [],
   "source": [
    "# 思路是：二分法查找某一个元素最终返回的定位值是最接近目标值的位置\n",
    "class Solution():\n",
    "    def searchInsert(self, nums, target: int) -> int: \n",
    "  \n",
    "        n = len(nums)\n",
    "        left = 0\n",
    "        right = n - 1\n",
    "        \n",
    "        if target < nums[0]:\n",
    "            return 0\n",
    "        elif target > nums[n-1]:\n",
    "            return n\n",
    "        else:\n",
    "            # Define the condition when the loop should be broken \n",
    "            while (left <= right):\n",
    "                mid = (left + right ) // 2\n",
    "\n",
    "                if nums[mid] == target:\n",
    "                    return mid\n",
    "\n",
    "                if nums[mid] < target:\n",
    "                    left = mid + 1 \n",
    "                else:\n",
    "                    right = mid - 1\n",
    "        \n",
    "     \n",
    "            if  nums[mid] < target:\n",
    "                #print(mid)\n",
    "                return mid + 1\n",
    "            else:\n",
    "                return mid \n",
    "        \n",
    "a = Solution()\n",
    "arr = [1,3,5,6, 9]\n",
    "a.searchInsert(arr, 4)\n",
    "        "
   ]
  },
  {
   "cell_type": "markdown",
   "metadata": {},
   "source": [
    "# linked list cycle\n",
    "https://leetcode.com/problems/linked-list-cycle"
   ]
  },
  {
   "cell_type": "code",
   "execution_count": null,
   "metadata": {},
   "outputs": [],
   "source": [
    "# 快指针速度是慢指针的两倍。终止条件是快指针指向None或者快慢指针相等\n",
    "class solution():\n",
    "    def linkedListHasCycle(self, head) -> bool:\n",
    "        \"\"\"\n",
    "        :type head: ListNode\n",
    "        :rtype: bool\n",
    "        \"\"\"\n",
    "        if head == None:\n",
    "            return False\n",
    "        s = head\n",
    "        f = head\n",
    "        while (f != None):  # Will it cause s and f meet again and again?\n",
    "            if f.next == None:\n",
    "                return False\n",
    "            else:\n",
    "                f = f.next.next\n",
    "                s = s.next\n",
    "            if f == s:\n",
    "                return True\n",
    "        #When f != None doesn't holds\n",
    "        return False"
   ]
  },
  {
   "cell_type": "code",
   "execution_count": null,
   "metadata": {},
   "outputs": [],
   "source": [
    "class Solution(object):\n",
    "    def hasCycle(self, head):\n",
    "        if not head: return False\n",
    "        slow, fast = head, head\n",
    "        while fast and fast.next:\n",
    "            slow = slow.next\n",
    "            fast = fast.next.next\n",
    "            if slow is fast:\n",
    "                return True\n",
    "        return False"
   ]
  },
  {
   "cell_type": "code",
   "execution_count": null,
   "metadata": {},
   "outputs": [],
   "source": [
    "def hasCycle(head):\n",
    "    node = head\n",
    "    while node:\n",
    "        if node.next == None: \n",
    "            return False\n",
    "        elif node.next == head: \n",
    "            return True\n",
    "        tmp = node.next\n",
    "        node.next = head\n",
    "        node = tmp\n",
    "    return False"
   ]
  },
  {
   "cell_type": "markdown",
   "metadata": {},
   "source": [
    "# house robber\n",
    "https://leetcode.com/problems/house-robber/"
   ]
  },
  {
   "cell_type": "markdown",
   "metadata": {},
   "source": [
    "你是一个专业的小偷，计划偷窃沿街的房屋。每间房内都藏有一定的现金，影响你偷窃的唯一制约因素就是相邻的房屋装有相互连通的防盗系统，如果两间相邻的房屋在同一晚上被小偷闯入，系统会自动报警。\n",
    "\n",
    "给定一个代表每个房屋存放金额的非负整数数组，计算你在不触动警报装置的情况下，能够偷窃到的最高金额。\n",
    "\n",
    "示例 1:\n",
    "```md\n",
    "输入: [1,2,3,1]\n",
    "输出: 4\n",
    "解释: 偷窃 1 号房屋 (金额 = 1) ，然后偷窃 3 号房屋 (金额 = 3)。\n",
    "     偷窃到的最高金额 = 1 + 3 = 4 。\n",
    "```\n",
    "示例 2:\n",
    "```md\n",
    "输入: [2,7,9,3,1]\n",
    "输出: 12\n",
    "解释: 偷窃 1 号房屋 (金额 = 2), 偷窃 3 号房屋 (金额 = 9)，接着偷窃 5 号房屋 (金额 = 1)。\n",
    "     偷窃到的最高金额 = 2 + 9 + 1 = 12 。\n",
    "```"
   ]
  },
  {
   "cell_type": "code",
   "execution_count": null,
   "metadata": {},
   "outputs": [],
   "source": [
    "# Time Limit Exceeded\n",
    "class Solution:\n",
    "    def rob(self, nums) -> int:\n",
    "        n = len(nums)\n",
    "        if n == 0:\n",
    "            return 0\n",
    "        elif n == 1:\n",
    "            return nums[0]\n",
    "        else:\n",
    "            return max(nums[n-1] + Solution().rob(nums[:n-2]), Solution().rob(nums[:n-1]))\n",
    "a = Solution()\n",
    "nums = [2,7, 0, 9, 4]\n",
    "a.rob(nums) "
   ]
  },
  {
   "cell_type": "code",
   "execution_count": null,
   "metadata": {},
   "outputs": [],
   "source": [
    "# Time Limit Exceeded\n",
    "class Solution:\n",
    "    def rob(self, nums) -> int:\n",
    "        n = len(nums)\n",
    "        if n == 0:\n",
    "            return 0\n",
    "        elif n == 1:\n",
    "            return nums[0]\n",
    "        else:\n",
    "            a = 0\n",
    "            b = num[0]\n",
    "            i = 2\n",
    "            tem = 0\n",
    "            while (i <= n):\n",
    "                temp = max(tem, num[i])\n",
    "                a, b = b, temp\n",
    "                i += 1\n",
    "            return temp\n",
    "a = Solution()\n",
    "nums = [2,7]\n",
    "a.rob(nums) "
   ]
  },
  {
   "cell_type": "code",
   "execution_count": null,
   "metadata": {},
   "outputs": [],
   "source": [
    "class Solution:\n",
    "    def rob(self, nums) -> int:\n",
    "        n = len(nums)\n",
    "        if n==0:\n",
    "            return 0\n",
    "        elif len(nums) <= 2:\n",
    "            return max(nums[:2])\n",
    "        cache = [0] * n\n",
    "        cache[0] = nums[0]\n",
    "        cache[1] = max(nums[:2])\n",
    "        \n",
    "        for i in range(2, n):\n",
    "            cache[i] = max(cache[i - 1], cache[i - 2] + nums[i])\n",
    "        \n",
    "        return cache[-1]\n",
    "    \n",
    "a = Solution()\n",
    "nums = [2,7, 2, 3, 6, 1, 9, 8]\n",
    "a.rob(nums) "
   ]
  },
  {
   "cell_type": "code",
   "execution_count": null,
   "metadata": {},
   "outputs": [],
   "source": [
    "class Solution:\n",
    "    def rob(self, nums) -> int:\n",
    "        n = len(nums)\n",
    "        if n == 0:\n",
    "            return 0\n",
    "        elif len(nums) <= 2:\n",
    "            return max(nums[:2])\n",
    "\n",
    "        a = nums[0]\n",
    "        b = max(nums[:2])\n",
    "        total = b \n",
    "\n",
    "        for i in range(2, n):\n",
    "            total = max(b, a + nums[i])\n",
    "            a = b\n",
    "            b = total\n",
    "        return total\n",
    "\n",
    "\n",
    "a = Solution()\n",
    "nums = [2, 7, 2, 3, 6, 1, 9, 8]\n",
    "a.rob(nums)"
   ]
  },
  {
   "cell_type": "markdown",
   "metadata": {},
   "source": [
    "# house robber II\n",
    "https://leetcode.com/problems/house-robber-ii/"
   ]
  },
  {
   "cell_type": "markdown",
   "metadata": {},
   "source": [
    "Suppose there are n houses, since house 0 and n - 1 are now neighbors, we cannot rob them together and thus the solution is now the maximum of\n",
    "\n",
    "* Rob houses 0 to n - 2;\n",
    "* Rob houses 1 to n - 1.\n",
    "\n",
    "Mind the bound condition"
   ]
  },
  {
   "cell_type": "code",
   "execution_count": null,
   "metadata": {},
   "outputs": [],
   "source": [
    "\"\"\"\n",
    "Runtime: 36 ms, faster than 82.58% of Python3 online submissions for House Robber II.\n",
    "Memory Usage: 13.9 MB, less than 5.56% of Python3 online submissions for House Robber II.\n",
    "\"\"\"\n",
    "class Solution:\n",
    "    def xrob(self, nums) -> int:\n",
    "        n = len(nums)\n",
    "        a = nums[0]\n",
    "        b = max(nums[:2])\n",
    "        total = b \n",
    "\n",
    "        for i in range(2, n):\n",
    "            total = max(b, a + nums[i])\n",
    "            a = b\n",
    "            b = total\n",
    "        return total \n",
    "    def rob(self, nums):\n",
    "        n = len(nums)\n",
    "        if n == 0:\n",
    "            return 0\n",
    "        elif len(nums) <= 2:\n",
    "            return max(nums[:2])\n",
    "        \n",
    "        return max(self.xrob(nums[0:n-1]), self.xrob(nums[1:n]))\n",
    "    \n",
    "\n",
    "a = Solution()\n",
    "nums = [1]\n",
    "a.rob(nums)"
   ]
  },
  {
   "cell_type": "markdown",
   "metadata": {},
   "source": [
    "# best time to buy and sell stock\n",
    "https://leetcode.com/problems/best-time-to-buy-and-sell-stock/"
   ]
  },
  {
   "cell_type": "code",
   "execution_count": null,
   "metadata": {},
   "outputs": [],
   "source": [
    "# Time Limit Exceeded\n",
    "class Solution:\n",
    "    def maxProfit(self, prices) -> int:\n",
    "        n = len(prices)\n",
    "        a = 0\n",
    "        for i in range(n-1):\n",
    "            x = sorted(prices[i+1:])\n",
    "            a= max(x[-1]-prices[i], a) \n",
    "        \n",
    "        if a  > 0:\n",
    "            return a\n",
    "        else:\n",
    "            return 0\n",
    "        \n",
    "a = Solution()\n",
    "x = [7,1,5,3,6,4]\n",
    "#x=[7,6,4,3,1]\n",
    "a.maxProfit(x)"
   ]
  },
  {
   "cell_type": "code",
   "execution_count": null,
   "metadata": {},
   "outputs": [],
   "source": [
    "# Time Limit Exceeded\n",
    "class Solution:\n",
    "    def maxProfit(self, prices) -> int:\n",
    "        n = len(prices)\n",
    "        a = 0\n",
    "        x = sorted(prices)\n",
    "        for i in range(n-1):\n",
    "            for j in range(i+1, n):\n",
    "                a = max(prices[j]-prices[i], a)\n",
    "        \n",
    "        if a  > 0:\n",
    "            return a\n",
    "        else:\n",
    "            return 0\n",
    "\n",
    "a = Solution()\n",
    "#x = [7,1,5,3,6,4]\n",
    "x=[7,6,4,3,1]\n",
    "a.maxProfit(x)"
   ]
  },
  {
   "cell_type": "code",
   "execution_count": null,
   "metadata": {},
   "outputs": [],
   "source": [
    "class Solution(object):\n",
    "    def maxProfit(self, prices):\n",
    "        max = 0\n",
    "        lowest = 2 ** 31 - 1\n",
    "        for price in prices:\n",
    "            if price < lowest:\n",
    "                lowest = price\n",
    "            if price - lowest > max:\n",
    "                max = price - lowest\n",
    "        return max\n",
    "a = Solution()\n",
    "x = [7,1,5,3,6,4]\n",
    "#x=[7,6,4,3,1]\n",
    "a.maxProfit(x)"
   ]
  },
  {
   "cell_type": "code",
   "execution_count": null,
   "metadata": {},
   "outputs": [],
   "source": [
    "class Solution:\n",
    "    def maxProfit(self, prices) -> int:\n",
    "        max = 0\n",
    "        # Using the implicit booleanness of the empty list is quite pythonic.\n",
    "        if prices:\n",
    "            _min = prices[0]\n",
    "        else:\n",
    "            return 0\n",
    "\n",
    "        for index, item in enumerate(prices):\n",
    "            if item < _min:\n",
    "                _min = item\n",
    "            elif item - _min > max:\n",
    "                max = item - _min        \n",
    "        return max"
   ]
  },
  {
   "cell_type": "markdown",
   "metadata": {},
   "source": [
    "# maximum subarray\n",
    "https://leetcode.com/problems/maximum-subarray/"
   ]
  },
  {
   "cell_type": "markdown",
   "metadata": {},
   "source": [
    "```md\n",
    "Input: [-2,1,-3,4,-1,2,1,-5,4],\n",
    "Output: 6\n",
    "Explanation: [4,-1,2,1] has the largest sum = 6.\n",
    "```"
   ]
  },
  {
   "cell_type": "code",
   "execution_count": null,
   "metadata": {
    "ExecuteTime": {
     "end_time": "2019-11-13T12:39:53.196297Z",
     "start_time": "2019-11-13T12:39:53.188831Z"
    }
   },
   "outputs": [],
   "source": [
    "class Solution:\n",
    "    def maxSubArray(self, nums):\n",
    "        for i in range(1, len(nums)):\n",
    "            if nums[i - 1] > 0:\n",
    "                nums[i] += nums[i - 1]\n",
    "        \n",
    "        return max(nums)\n",
    "\n",
    "nums = [-2, 1, -3, 4, -1, 2, 1, -5, 4]\n",
    "Solution().maxSubArray(nums)"
   ]
  },
  {
   "cell_type": "markdown",
   "metadata": {},
   "source": [
    "## k-concatenation maximum sum\n",
    "https://leetcode.com/problems/k-concatenation-maximum-sum/"
   ]
  },
  {
   "cell_type": "code",
   "execution_count": null,
   "metadata": {
    "ExecuteTime": {
     "end_time": "2019-11-13T12:59:51.283885Z",
     "start_time": "2019-11-13T12:59:51.271569Z"
    }
   },
   "outputs": [],
   "source": [
    "class Solution:\n",
    "    def kConcatenationMaxSum(self, arr, k: int) -> int:\n",
    "        print(arr)\n",
    "        if max(arr) < 0: return 0\n",
    "        nums = arr * k\n",
    "        print('ok')\n",
    "        \n",
    "        for i in range(1, len(nums)):\n",
    "            if nums[i - 1] > 0:\n",
    "                nums[i] += nums[i - 1]\n",
    "                \n",
    "        return max(nums) \n",
    "\n",
    "test = Solution()\n",
    "arr = [-5,4,-4,-3,5,-3]\n",
    "test.kConcatenationMaxSum(arr, 3)"
   ]
  },
  {
   "cell_type": "markdown",
   "metadata": {},
   "source": [
    "# word break\n",
    "https://leetcode.com/problems/word-break/"
   ]
  },
  {
   "cell_type": "markdown",
   "metadata": {},
   "source": [
    "```md \n",
    "Input: s = \"applepenapple\", wordDict = [\"apple\", \"pen\"]\n",
    "Output: true\n",
    "Explanation: Return true because \"applepenapple\" can be segmented as \"apple pen apple\".\n",
    "             Note that you are allowed to reuse a dictionary word.\n",
    "        \n",
    "Input: s = \"catsandog\", wordDict = [\"cats\", \"dog\", \"sand\", \"and\", \"cat\"]\n",
    "Output: false\n",
    "```"
   ]
  },
  {
   "cell_type": "code",
   "execution_count": null,
   "metadata": {
    "ExecuteTime": {
     "end_time": "2019-11-17T07:08:29.174301Z",
     "start_time": "2019-11-17T07:08:29.151363Z"
    }
   },
   "outputs": [],
   "source": [
    "s = \"applepenapple\"\n",
    "''.join(s.split(\"apple\")).split('pen')\n",
    "len(s)\n",
    "dp = [False]*len(s)\n",
    "dp[0] = True\n",
    "dp \n",
    "tem = [[1, 2, 3]]*2\n",
    "tem[1][1] = 4\n",
    "tem \n",
    "x =  ['a', 'b']\n",
    "'a' in x"
   ]
  },
  {
   "cell_type": "code",
   "execution_count": null,
   "metadata": {
    "ExecuteTime": {
     "end_time": "2019-11-17T07:19:38.975890Z",
     "start_time": "2019-11-17T07:19:38.949163Z"
    }
   },
   "outputs": [],
   "source": [
    "class Solution:\n",
    "    def wordBreak(self, s: str, wordDict) -> bool:\n",
    "        n = len(s)\n",
    "        dp = [False]* (n+1)\n",
    "        dp[0] = True\n",
    "        for i in range(1, n+1):\n",
    "            for j in range(i-1, -1, -1):\n",
    "                if dp[j]: # keypoint to reduce duplicated operation\n",
    "                    word = s[j: i]\n",
    "                    print(\"searing word: \", word)\n",
    "                    if word in wordDict:\n",
    "                        dp[i] = True\n",
    "                        print(\"ok\")\n",
    "                        break\n",
    "        return dp[n]\n",
    "s = \"applepenapple\"\n",
    "wordDict = [\"app\", \"apple\", \"lep\", \"pen\"]\n",
    "test = Solution()\n",
    "test.wordBreak(s, wordDict)"
   ]
  },
  {
   "cell_type": "markdown",
   "metadata": {},
   "source": [
    "# coin change\n",
    "https://leetcode.com/problems/coin-change/"
   ]
  },
  {
   "cell_type": "markdown",
   "metadata": {},
   "source": [
    "https://leetcode-cn.com/problems/coin-change/solution/dong-tai-gui-hua-tao-lu-xiang-jie-by-wei-lai-bu-ke/"
   ]
  },
  {
   "cell_type": "markdown",
   "metadata": {},
   "source": [
    "# triangle \n",
    "https://leetcode.com/problems/triangle/"
   ]
  },
  {
   "cell_type": "markdown",
   "metadata": {},
   "source": [
    "```md\n",
    "find the minimum path from top to bottom. each step you may move to the same index or next index of last index\n",
    "\n",
    "[\n",
    "     [2],\n",
    "    [3,4],\n",
    "   [6,5,7],\n",
    "  [4,1,8,3]\n",
    "]\n",
    "The minimum path sum from top to bottom is 11 (i.e., 2 + 3 + 5 + 1 = 11).\n",
    "```"
   ]
  },
  {
   "cell_type": "code",
   "execution_count": null,
   "metadata": {
    "ExecuteTime": {
     "end_time": "2019-11-13T09:18:58.703671Z",
     "start_time": "2019-11-13T09:18:58.686680Z"
    }
   },
   "outputs": [],
   "source": [
    "class Solution:\n",
    "    def minimumTotal(self, triangle) -> int:\n",
    "        i = 0\n",
    "        res = triangle[0][0]\n",
    "        for item in triangle[1:]:\n",
    "            i = i if item[i] < item[i+1] else i+1\n",
    "            res += item[i]\n",
    "        return res \n",
    "triangle = [\n",
    "     [2],\n",
    "    [3,4],\n",
    "   [6,5,7],\n",
    "  [4,8,3,1]\n",
    "]\n",
    "\n",
    "test = Solution()\n",
    "test.minimumTotal(triangle)\n",
    "triangle = [[-1],[2,3],[1,-1,-3]]\n",
    "test.minimumTotal(triangle)"
   ]
  },
  {
   "cell_type": "code",
   "execution_count": null,
   "metadata": {
    "ExecuteTime": {
     "end_time": "2019-11-13T11:30:04.138057Z",
     "start_time": "2019-11-13T11:30:04.119175Z"
    }
   },
   "outputs": [],
   "source": [
    "# bottom-up\n",
    "class Solution:\n",
    "    def minimumTotal(self, triangle) -> int:\n",
    "        res = triangle[-1]\n",
    "        for i in range(len(triangle)-2, -1, -1):\n",
    "            for j in range(len(triangle[i])):\n",
    "                res[j] = min(res[j], res[j+1]) + triangle[i][j]\n",
    "            res.pop()\n",
    "        return res[0]\n",
    "triangle = [\n",
    "     [2],\n",
    "    [3,4],\n",
    "   [6,5,7],\n",
    "  [4,1,8,-12]\n",
    "]\n",
    "\n",
    "test = Solution()\n",
    "test.minimumTotal(triangle)\n",
    "triangle = [[-1],[2,3],[1,-1,-3]]\n",
    "test.minimumTotal(triangle)"
   ]
  },
  {
   "cell_type": "markdown",
   "metadata": {},
   "source": [
    "# maximum length of pair chain\n",
    "https://leetcode-cn.com/problems/maximum-length-of-pair-chain"
   ]
  },
  {
   "cell_type": "markdown",
   "metadata": {},
   "source": [
    "```md \n",
    "You are given n pairs of numbers. In every pair, the first number is always smaller than the second number.\n",
    "\n",
    "Now, we define a pair (c, d) can follow another pair (a, b) if and only if b < c. Chain of pairs can be formed in this fashion.\n",
    "\n",
    "Given a set of pairs, find the length longest chain which can be formed. You needn't use up all the given pairs. You can select pairs in any order.\n",
    "\n",
    "Input: [[1,2], [2,3], [3,4]]\n",
    "Output: 2\n",
    "Explanation: The longest chain is [1,2] -> [3,4]\n",
    "```"
   ]
  },
  {
   "cell_type": "code",
   "execution_count": null,
   "metadata": {
    "ExecuteTime": {
     "end_time": "2019-12-10T11:44:55.327165Z",
     "start_time": "2019-12-10T11:44:55.307772Z"
    }
   },
   "outputs": [],
   "source": [
    "class Solution:\n",
    "    def findLongestChain(self, pairs) -> int:\n",
    "        pairs.sort(key=lambda x : x[1]) # fantastic, x[0] < x[1] always holds.\n",
    "        res = 0\n",
    "        prev = -1\n",
    "        for i in pairs:\n",
    "            if prev == -1 or i[0] > prev[1]:\n",
    "                res += 1\n",
    "                prev = i\n",
    "                print(prev)\n",
    "        return res\n",
    "    \n",
    "    \n",
    "test = Solution()\n",
    "pairs = [[1,2], [2,4], [2, 3], [2,5], [3,4]]\n",
    "test.findLongestChain(pairs)"
   ]
  },
  {
   "cell_type": "markdown",
   "metadata": {},
   "source": [
    "# merge intervals\n",
    "https://leetcode.com/problems/merge-intervals/"
   ]
  },
  {
   "cell_type": "markdown",
   "metadata": {},
   "source": [
    "```md \n",
    "Input: [[1,3],[2,6],[8,10],[15,18]]\n",
    "Output: [[1,6],[8,10],[15,18]]\n",
    "Explanation: Since intervals [1,3] and [2,6] overlaps, merge them into [1,6]. \n",
    "```"
   ]
  },
  {
   "cell_type": "code",
   "execution_count": null,
   "metadata": {},
   "outputs": [],
   "source": [
    "intervals = [[1,3],[8,10], [8,9], [8,11], [2,6],[15,18]]\n",
    "tem = sorted(intervals, key=lambda i:(i[0],i[1]))\n",
    "tem \n",
    "res = [tem[0]]\n",
    "i = 1\n",
    "for i in range(1, len(tem)):\n",
    "    if res[-1][-1] > tem[i][0]:\n",
    "        res[-1][-1] = tem[i][1]\n",
    "    else:\n",
    "        res.append(tem[i])\n",
    "res"
   ]
  },
  {
   "cell_type": "code",
   "execution_count": null,
   "metadata": {},
   "outputs": [],
   "source": [
    "class Solution:\n",
    "    def merge(self, intervals):\n",
    "        if len(intervals) < 2:\n",
    "            return intervals\n",
    "        else:\n",
    "            tem = sorted(intervals, key=lambda i: (i[0], i[1]))\n",
    "            res = [tem[0]]\n",
    "            i = 1\n",
    "            for i in range(1, len(tem)):\n",
    "                if res[-1][-1] >= tem[i][0] and res[-1][-1] < tem[i][1]:\n",
    "                    res[-1][-1] = tem[i][1]\n",
    "                elif res[-1][-1] >= tem[i][0]:\n",
    "                    continue\n",
    "                else:\n",
    "                    res.append(tem[i])\n",
    "            return res\n",
    "        \n",
    "test = Solution()\n",
    "intervals = [[1,3],[8,10], [8,9], [8,11], [2,6],[15,18]]\n",
    "test.merge(intervals)"
   ]
  },
  {
   "cell_type": "markdown",
   "metadata": {},
   "source": [
    "# edit distances\n",
    "https://leetcode.com/problems/edit-distance/"
   ]
  },
  {
   "cell_type": "markdown",
   "metadata": {},
   "source": [
    "# distinct subsequences\n",
    "https://leetcode.com/problems/distinct-subsequences/"
   ]
  },
  {
   "cell_type": "markdown",
   "metadata": {
    "ExecuteTime": {
     "end_time": "2019-11-18T05:18:53.805043Z",
     "start_time": "2019-11-18T05:18:53.799835Z"
    }
   },
   "source": [
    "```md\n",
    "Input: S = \"babgbag\", T = \"bag\"\n",
    "Output: 5\n",
    "Explanation:\n",
    "\n",
    "As shown below, there are 5 ways you can generate \"bag\" from S.\n",
    "(The caret symbol ^ means the chosen letters)\n",
    "\n",
    "babgbag\n",
    "^^ ^\n",
    "babgbag\n",
    "^^    ^\n",
    "babgbag\n",
    "^    ^^\n",
    "babgbag\n",
    "  ^  ^^\n",
    "babgbag\n",
    "    ^^^\n",
    "```"
   ]
  },
  {
   "cell_type": "code",
   "execution_count": null,
   "metadata": {
    "ExecuteTime": {
     "end_time": "2019-11-18T05:36:46.174240Z",
     "start_time": "2019-11-18T05:36:46.162140Z"
    }
   },
   "outputs": [],
   "source": [
    "s = 'abc'\n",
    "s.find('b',0)\n",
    "s.find('b',3)\n",
    "help(s.find)"
   ]
  },
  {
   "cell_type": "code",
   "execution_count": null,
   "metadata": {},
   "outputs": [],
   "source": [
    "from collections import defaultdict"
   ]
  },
  {
   "cell_type": "code",
   "execution_count": null,
   "metadata": {
    "ExecuteTime": {
     "end_time": "2019-11-18T06:00:50.863509Z",
     "start_time": "2019-11-18T06:00:50.855858Z"
    }
   },
   "outputs": [],
   "source": [
    "class Solution:\n",
    "    def numDistinct(self, s: str, t: str) -> int:\n",
    "        x = defaultdict(list)\n",
    "        for i in t:\n",
    "            x[i].extend([k for k, v in enumerate(s) if v == i])\n",
    "        tem = list(x.values())\n",
    "        for i in range(len(tem)):\n",
    "            \n",
    "        return x\n",
    "s = \"babgbag\"\n",
    "t = \"bag\"\n",
    "test = Solution()\n",
    "x = test.numDistinct(s, t)\n"
   ]
  },
  {
   "cell_type": "markdown",
   "metadata": {},
   "source": [
    "# minimum path\n",
    "https://leetcode.com/problems/minimum-path-sum/"
   ]
  },
  {
   "cell_type": "markdown",
   "metadata": {},
   "source": [
    "```md\n",
    "Input:\n",
    "[\n",
    "  [1,3,1],\n",
    "  [1,5,1],\n",
    "  [4,2,1]\n",
    "]\n",
    "Output: 7\n",
    "Explanation: Because the path 1→3→1→1→1 minimizes the sum.\n",
    "```"
   ]
  },
  {
   "cell_type": "code",
   "execution_count": null,
   "metadata": {
    "ExecuteTime": {
     "end_time": "2019-11-18T09:09:33.159149Z",
     "start_time": "2019-11-18T09:09:33.146432Z"
    }
   },
   "outputs": [],
   "source": [
    "class Solution:\n",
    "    def minPathSum(self, grid) -> int:\n",
    "        for i in range(len(grid)):\n",
    "            for j in range(len(grid[0])):\n",
    "                if i == 0 and j == 0: continue\n",
    "                elif i == 0: grid[0][j] += grid[0][j - 1]\n",
    "                elif j == 0: grid[i][0] += grid[i - 1][0]\n",
    "                else: grid[i][j] += min(grid[i - 1][j], grid[i][j - 1])\n",
    "        return grid[-1][-1]\n",
    "\n",
    "\n",
    "grid = [[1, 3, 1], [1, 5, 1], [4, 2, 1]]\n",
    "test = Solution()\n",
    "test.minPathSum(grid)"
   ]
  },
  {
   "cell_type": "markdown",
   "metadata": {},
   "source": [
    "# largest rectangle in historgram\n",
    "https://leetcode.com/problems/largest-rectangle-in-histogram/"
   ]
  },
  {
   "cell_type": "markdown",
   "metadata": {},
   "source": [
    "```md\n",
    "\n",
    "                     6          \n",
    "                   +---+        \n",
    "                5  |   |        \n",
    "               +-------|        \n",
    "               |-------|        \n",
    "               |-------|        \n",
    "               |-------|     3  \n",
    "               |-------|   +---+\n",
    "         2     |-------| 2 |   |\n",
    "       +---+   |-------|---+   |\n",
    "       |   | 1 |-------|   |   |\n",
    "       |   +---|-------|   |   |\n",
    "       |   |   |-------|   |   |\n",
    "       +---+---+---+---+---+---+\n",
    "       \n",
    "Input: [2,1,5,6,2,3]\n",
    "Output: 10\n",
    "```"
   ]
  },
  {
   "cell_type": "code",
   "execution_count": null,
   "metadata": {
    "ExecuteTime": {
     "end_time": "2019-11-18T12:30:08.597179Z",
     "start_time": "2019-11-18T12:30:08.581126Z"
    }
   },
   "outputs": [],
   "source": [
    "class Solution:\n",
    "    def largestRectangleArea(self, heights) -> int:\n",
    "        n = len(heights)\n",
    "        r = 0\n",
    "        res = 0\n",
    "        while r < n:\n",
    "            l = 0\n",
    "            while l <= r:\n",
    "\n",
    "                cur = min(heights[l:r + 1]) * (r - l + 1)\n",
    "                print(cur)\n",
    "                res = max(res, cur)\n",
    "\n",
    "                l += 1\n",
    "            r += 1\n",
    "        return res\n",
    "\n",
    "\n",
    "heights = [2]\n",
    "#heights = [2,1,5,6,2,3]\n",
    "test = Solution()\n",
    "test.largestRectangleArea(heights)"
   ]
  },
  {
   "cell_type": "markdown",
   "metadata": {},
   "source": [
    "https://leetcode-cn.com/problems/largest-rectangle-in-histogram/solution/zhu-zhuang-tu-zhong-zui-da-de-ju-xing-by-leetcode/"
   ]
  },
  {
   "cell_type": "code",
   "execution_count": null,
   "metadata": {
    "ExecuteTime": {
     "end_time": "2019-11-18T12:56:29.698098Z",
     "start_time": "2019-11-18T12:56:29.685117Z"
    }
   },
   "outputs": [],
   "source": [
    "class Solution:\n",
    "    def largestRectangleArea(self, heights) -> int:\n",
    "        n = len(heights)\n",
    "        tem = [-1]\n",
    "        res = 0\n",
    "        for i in range(n): \n",
    "            while tem[-1] != -1 and heights[tem[-1]] >= heights[i]:\n",
    "                res = max(res, heights[tem.pop()] * (i - tem[-1] - 1))\n",
    "            tem.append(i)\n",
    "        while tem[-1] != -1:\n",
    "            res = max(res, heights[tem.pop()] * (n - tem[-1] - 1))\n",
    "        return res\n",
    "\n",
    "\n",
    "#heights = [2]\n",
    "heights = [2,1,5,6,2,3]\n",
    "test = Solution()\n",
    "test.largestRectangleArea(heights)"
   ]
  },
  {
   "cell_type": "markdown",
   "metadata": {},
   "source": [
    "# maximal rectangle\n",
    "https://leetcode.com/problems/maximal-rectangle/"
   ]
  },
  {
   "cell_type": "markdown",
   "metadata": {},
   "source": [
    "```md\n",
    "Input:\n",
    "[\n",
    "  [\"1\",\"0\",\"1\",\"0\",\"0\"],\n",
    "  [\"1\",\"0\",\"1\",\"1\",\"1\"],\n",
    "  [\"1\",\"1\",\"1\",\"1\",\"1\"],\n",
    "  [\"1\",\"0\",\"0\",\"1\",\"0\"]\n",
    "]\n",
    "Output: 6\n",
    "```"
   ]
  },
  {
   "cell_type": "markdown",
   "metadata": {},
   "source": [
    "The problem can be convert to the problem - \"Largest Rectangle in Histogram\"\n",
    "1. we can take each row to calculate each row's histogram.\n",
    "2. using the algorithm of \"Largest Rectangle in Histogram\" to find the largest area histogram.\n",
    "3. tracking the maximal area.\n",
    "\n",
    "For the 1), it's easy. \n",
    "\n",
    "     heights[i][j] = 1,                     if (i==0)\n",
    "     heights[i][j] = heights[i-1][j] + 1;,  if (i>0)\n",
    "\n",
    "For the 2), please referr to \"Largest Rectangle in Histogram\"\n",
    " \n"
   ]
  },
  {
   "cell_type": "markdown",
   "metadata": {},
   "source": [
    "# maximal square\n",
    "https://leetcode.com/problems/maximal-square/"
   ]
  },
  {
   "cell_type": "markdown",
   "metadata": {},
   "source": [
    "```md\n",
    "Input: \n",
    "\n",
    "1 0 1 0 0\n",
    "1 0 1 1 1\n",
    "1 1 1 1 1\n",
    "1 0 0 1 0\n",
    "\n",
    "Output: 4\n",
    "```"
   ]
  },
  {
   "cell_type": "code",
   "execution_count": null,
   "metadata": {
    "ExecuteTime": {
     "end_time": "2019-11-26T09:02:10.980084Z",
     "start_time": "2019-11-26T09:02:10.970311Z"
    }
   },
   "outputs": [],
   "source": [
    "[0]*3\n",
    "[[0 for j in range(3)]for i in range(2)]"
   ]
  },
  {
   "cell_type": "markdown",
   "metadata": {},
   "source": [
    "https://leetcode-cn.com/problems/maximal-square/solution/zui-da-zheng-fang-xing-by-leetcode/"
   ]
  },
  {
   "cell_type": "code",
   "execution_count": null,
   "metadata": {
    "ExecuteTime": {
     "end_time": "2019-11-26T09:15:33.656277Z",
     "start_time": "2019-11-26T09:15:33.625039Z"
    }
   },
   "outputs": [],
   "source": [
    "class Solution:\n",
    "    def maximalSquare(self, matrix) -> int:\n",
    "        rows = len(matrix)\n",
    "        cols = 0 if rows == 0 else len(matrix[0])\n",
    "        dp = [[0 for c in range(cols + 1)] for r in range(rows + 1)]\n",
    "        sqlen = 0\n",
    "        for i in range(1, rows + 1):\n",
    "            for j in range(1, cols + 1):\n",
    "                if matrix[i - 1][j - 1] == 1:  #dp[i][j] 对角线上的元素必须为1\n",
    "                    dp[i][j] = min(dp[i - 1][j - 1], dp[i - 1][j],\n",
    "                                   dp[i][j - 1]) + 1\n",
    "                    sqlen = max(dp[i][j], sqlen)\n",
    "        print(dp)\n",
    "        return sqlen * sqlen\n",
    "\n",
    "\n",
    "matrix = [[1, 0, 1, 1, 0], [1, 0, 1, 1, 1], [1, 1, 1, 1, 1], [1, 0, 0, 1, 0]]\n",
    "#matrix = [[1]]\n",
    "test = Solution()\n",
    "test.maximalSquare(matrix)"
   ]
  },
  {
   "cell_type": "code",
   "execution_count": null,
   "metadata": {},
   "outputs": [],
   "source": []
  }
 ],
 "metadata": {
  "hide_input": false,
  "kernelspec": {
   "display_name": "Python 3",
   "language": "python",
   "name": "python3"
  },
  "language_info": {
   "codemirror_mode": {
    "name": "ipython",
    "version": 3
   },
   "file_extension": ".py",
   "mimetype": "text/x-python",
   "name": "python",
   "nbconvert_exporter": "python",
   "pygments_lexer": "ipython3",
   "version": "3.7.4"
  },
  "toc": {
   "base_numbering": 1,
   "nav_menu": {},
   "number_sections": true,
   "sideBar": true,
   "skip_h1_title": false,
   "title_cell": "Table of Contents",
   "title_sidebar": "Contents",
   "toc_cell": false,
   "toc_position": {
    "height": "calc(100% - 180px)",
    "left": "10px",
    "top": "150px",
    "width": "180.6px"
   },
   "toc_section_display": true,
   "toc_window_display": true
  },
  "varInspector": {
   "cols": {
    "lenName": 16,
    "lenType": 16,
    "lenVar": 40
   },
   "kernels_config": {
    "python": {
     "delete_cmd_postfix": "",
     "delete_cmd_prefix": "del ",
     "library": "var_list.py",
     "varRefreshCmd": "print(var_dic_list())"
    },
    "r": {
     "delete_cmd_postfix": ") ",
     "delete_cmd_prefix": "rm(",
     "library": "var_list.r",
     "varRefreshCmd": "cat(var_dic_list()) "
    }
   },
   "types_to_exclude": [
    "module",
    "function",
    "builtin_function_or_method",
    "instance",
    "_Feature"
   ],
   "window_display": false
  }
 },
 "nbformat": 4,
 "nbformat_minor": 2
}
