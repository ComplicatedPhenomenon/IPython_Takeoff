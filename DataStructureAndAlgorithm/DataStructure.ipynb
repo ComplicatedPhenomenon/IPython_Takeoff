{
 "cells": [
  {
   "cell_type": "code",
   "execution_count": null,
   "metadata": {
    "ExecuteTime": {
     "end_time": "2020-01-15T05:07:45.876856Z",
     "start_time": "2020-01-15T05:07:45.870442Z"
    }
   },
   "outputs": [],
   "source": [
    "from IPython.core.interactiveshell import InteractiveShell\n",
    "InteractiveShell.ast_node_interactivity = \"all\""
   ]
  },
  {
   "cell_type": "code",
   "execution_count": null,
   "metadata": {
    "ExecuteTime": {
     "end_time": "2020-01-15T05:07:46.365133Z",
     "start_time": "2020-01-15T05:07:46.361895Z"
    }
   },
   "outputs": [],
   "source": [
    "import random"
   ]
  },
  {
   "cell_type": "markdown",
   "metadata": {},
   "source": [
    "# implementation of a single linked list"
   ]
  },
  {
   "cell_type": "code",
   "execution_count": null,
   "metadata": {
    "ExecuteTime": {
     "end_time": "2020-01-15T05:07:46.523761Z",
     "start_time": "2020-01-15T05:07:46.507468Z"
    }
   },
   "outputs": [],
   "source": [
    "class list_node:\n",
    "    def __init__(self, value):\n",
    "        self.value = value\n",
    "        self.next = None\n",
    "\n",
    "class linked_list:\n",
    "    \n",
    "    def __init__(self, head = None):\n",
    "        \"\"\"\n",
    "        Initialization of single linked list\n",
    "        \"\"\"\n",
    "        self.head = head\n",
    "    \n",
    "    \n",
    "    def print_list(self):\n",
    "        \"\"\"\n",
    "        print the single linked list from head list_node to the last list_node\n",
    "        \"\"\"\n",
    "        current = self.head \n",
    "        while current is not None:\n",
    "            print (current.value)\n",
    "            current = current.next\n",
    "    \n",
    "    \n",
    "    def append(self, data):\n",
    "        \"\"\"\n",
    "        append a list_node at the end of the single linked list\n",
    "        \"\"\"\n",
    "        current = self.head\n",
    "        new_element = list_node(data)\n",
    "        if self.head:\n",
    "            while current.next:\n",
    "                current = current.next\n",
    "            current.next = new_element\n",
    "        else:\n",
    "            self.head = new_element\n",
    "    \n",
    "    \n",
    "    def get_position(self, position):\n",
    "        \"\"\"\n",
    "        get the list_node at a specified position\n",
    "        \"\"\"\n",
    "        current = self.head\n",
    "        current_pos = 1\n",
    "        while current_pos <= position:\n",
    "            if current_pos == position:\n",
    "                return current\n",
    "            current = current.next\n",
    "            current_pos += 1\n",
    "        return None\n",
    "    \n",
    "    \n",
    "    def insert_element(self, data, position):\n",
    "        \"\"\"\n",
    "        insert a list_node at a specified position\n",
    "        \"\"\"\n",
    "        \n",
    "        node = list_node(data)\n",
    "        if position == 1:\n",
    "            node.next = self.head\n",
    "            self.head = node\n",
    "        else:\n",
    "            try:\n",
    "                current = self.head\n",
    "                for i in range(position-2):\n",
    "                    current = current.next\n",
    "                node.next = current.next\n",
    "                current.next = node\n",
    "            except:\n",
    "                print(\"Illegal Index, choose another position.\")\n",
    "      \n",
    "            \n",
    "    def delete_element(self, value):\n",
    "        \"\"\"\n",
    "        delete a list_node which fits list_node.value = value\n",
    "        \"\"\" \n",
    "        if not self.head:\n",
    "            print(\"Failed of trying to delete from a empty linked list\")\n",
    "            return \n",
    "        \n",
    "        \n",
    "        # condition 1: delete the head list_node\n",
    "        while self.head.value == value:\n",
    "            self.head = self.head.next\n",
    "            \n",
    "        \n",
    "        # condition 2: delete the middle list_node\n",
    "        current = self.head\n",
    "        previous = current\n",
    "        \n",
    "        while current:\n",
    "            try:\n",
    "                current = current.next\n",
    "                if not current.next:   \n",
    "                    if current.value == value:\n",
    "                        previous.next = None\n",
    "                    \n",
    "                else:\n",
    "                    post_list_node = current.next\n",
    "                    if current.value == value:\n",
    "                        previous.next = post_list_node\n",
    "                    previous = current\n",
    "        \n",
    "            except AttributeError as e:\n",
    "                print(e)\n"
   ]
  },
  {
   "cell_type": "code",
   "execution_count": null,
   "metadata": {
    "ExecuteTime": {
     "end_time": "2020-01-15T05:07:46.658622Z",
     "start_time": "2020-01-15T05:07:46.566639Z"
    }
   },
   "outputs": [],
   "source": [
    "Avengers = linked_list()\n",
    "Avengers.append(\"Iron Man\")\n",
    "Avengers.append(\"Capitain America\")\n",
    "Avengers.append(\"Capitain America\")\n",
    "Avengers.append(\"Spider man\")\n",
    "\n",
    "Avengers.print_list()\n",
    "Avengers.head.value\n",
    "\n",
    "Avengers.insert_element(\"Rieder\", 1) # self.head has been altered\n",
    "Avengers.print_list()\n",
    "Avengers.head.value\n",
    "Avengers.head.next.value\n",
    "\n",
    "Avengers.delete_element(\"Iron x Man\")\n",
    "Avengers.print_list()\n",
    "Avengers.head.value"
   ]
  },
  {
   "cell_type": "code",
   "execution_count": null,
   "metadata": {},
   "outputs": [],
   "source": [
    "class Solution(object):\n",
    "    def merge(self, h1, h2):\n",
    "        dummy = tail = list_node(None)\n",
    "        while h1 and h2:\n",
    "            if h1.value < h2.value:\n",
    "                tail.next, tail, h1 = h1, h1, h1.next\n",
    "            else:\n",
    "                tail.next, tail, h2 = h2, h2, h2.next\n",
    "    \n",
    "        tail.next = h1 or h2\n",
    "        return dummy.next\n",
    "    \n",
    "    def sortList(self, head):\n",
    "        if not head or not head.next:\n",
    "            return head\n",
    "    \n",
    "        pre, slow, fast = None, head, head\n",
    "        while fast and fast.next:\n",
    "            pre, slow, fast = slow, slow.next, fast.next.next\n",
    "        pre.next = None\n",
    "\n",
    "        return self.merge(*map(self.sortList, (head, slow)))\n"
   ]
  },
  {
   "cell_type": "code",
   "execution_count": null,
   "metadata": {},
   "outputs": [],
   "source": [
    "ll = linked_list()\n",
    "a = [random.randint(1, 10) for _ in range(5)]\n",
    "a \n",
    "for i in a:\n",
    "    ll.append(i)   \n",
    "test = Solution()\n",
    "test.sortList(ll.head)\n",
    "ll.print_list()"
   ]
  },
  {
   "cell_type": "code",
   "execution_count": null,
   "metadata": {},
   "outputs": [],
   "source": [
    "class Solution(object):\n",
    "    def sortList(self, head):\n",
    "        bla, _ = self.sort(head)\n",
    "        return bla\n",
    "    \n",
    "    \n",
    "    def sort(self, head):\n",
    "        if not head or not head.next:\n",
    "            return head, head\n",
    "        \n",
    "        partition = head\n",
    "        partition_head = partition\n",
    "        left_head = list_node(0)\n",
    "        right_head = list_node(0)\n",
    "        left_node = left_head\n",
    "        right_node = right_head\n",
    "        node = partition\n",
    "        \n",
    "        while node.next:\n",
    "            node = node.next\n",
    "            if node.value< partition.value:\n",
    "                left_node.next = node\n",
    "                left_node = node\n",
    "            elif node.value>partition.value:\n",
    "                right_node.next = node\n",
    "                right_node = node\n",
    "            else:\n",
    "                partition.next = node\n",
    "                partition = node\n",
    "                \n",
    "        partition.next = None\n",
    "        left_node.next = None\n",
    "        right_node.next = None\n",
    "\n",
    "        left_head, left_tail = self.sort(left_head.next)\n",
    "\n",
    "        right_head, right_tail = self.sort(right_head.next)\n",
    "        \n",
    "        node = left_tail\n",
    "\n",
    "        if not node:\n",
    "            node = partition_head\n",
    "            left_head = partition_head\n",
    "        else:\n",
    "            node.next = partition_head\n",
    "        partition.next = right_head\n",
    "        \n",
    "        if not right_tail:\n",
    "            right_tail = partition\n",
    "        \n",
    "        return left_head, right_tail"
   ]
  },
  {
   "cell_type": "code",
   "execution_count": null,
   "metadata": {},
   "outputs": [],
   "source": [
    "ll = linked_list()\n",
    "a = [random.randint(1, 10) for _ in range(5)]\n",
    "a \n",
    "for i in a:\n",
    "    ll.append(i)\n",
    "    \n",
    "test = Solution()\n",
    "test.sortList(ll.head)\n",
    "ll.print_list()"
   ]
  },
  {
   "cell_type": "markdown",
   "metadata": {},
   "source": [
    "# Stacks and Queues \n"
   ]
  },
  {
   "cell_type": "code",
   "execution_count": null,
   "metadata": {
    "ExecuteTime": {
     "end_time": "2019-12-19T10:45:52.576357Z",
     "start_time": "2019-12-19T10:45:52.534415Z"
    },
    "code_folding": []
   },
   "outputs": [],
   "source": [
    "class Stack:\n",
    "    def __init__(self, capacity=5):\n",
    "        self.capacity = capacity\n",
    "        self.array = []  # Implement stack with array\n",
    "\n",
    "    def size(self):\n",
    "        return len(self.array)\n",
    "\n",
    "    def isEmpty(self):\n",
    "        return len(self.array) == 0\n",
    "\n",
    "    def isFull(self):\n",
    "        return len(self.array) == self.capacity\n",
    "\n",
    "    def peek(self):\n",
    "        if self.isEmpty():\n",
    "            return None\n",
    "        return self.array[self.size() - 1]\n",
    "\n",
    "    def pop(self):\n",
    "        if self.isEmpty():\n",
    "            print(\"Underflow\")\n",
    "            return None\n",
    "        data = self.array.pop()\n",
    "        return data\n",
    "\n",
    "    def push(self, data):\n",
    "        if self.isFull():\n",
    "            print(\"Overflow\")\n",
    "            return\n",
    "        self.array.append(data)"
   ]
  },
  {
   "cell_type": "code",
   "execution_count": null,
   "metadata": {},
   "outputs": [],
   "source": [
    "def testStack(stackCap):\n",
    "    stack = Stack(stackCap)\n",
    "    c = stackCap * 2\n",
    "    while (c):  #\n",
    "        data = random.randrange(1, 100)\n",
    "        print(\"Pushing \", data)\n",
    "        stack.push(data)\n",
    "        c -= 1\n",
    "    print(\"Stack size \", stack.size())\n",
    "    c = stackCap * 2\n",
    "    while (c):\n",
    "        print(\"Popping\", stack.pop())\n",
    "        c -= 1\n",
    "\n",
    "print(testStack(6))"
   ]
  },
  {
   "cell_type": "markdown",
   "metadata": {},
   "source": [
    "## built-in queue"
   ]
  },
  {
   "cell_type": "code",
   "execution_count": null,
   "metadata": {
    "ExecuteTime": {
     "end_time": "2020-01-06T11:39:21.611064Z",
     "start_time": "2020-01-06T11:39:21.607421Z"
    }
   },
   "outputs": [],
   "source": [
    "import queue"
   ]
  },
  {
   "cell_type": "code",
   "execution_count": null,
   "metadata": {
    "ExecuteTime": {
     "end_time": "2020-01-06T11:39:46.265147Z",
     "start_time": "2020-01-06T11:39:46.247033Z"
    }
   },
   "outputs": [],
   "source": [
    "dir(queue)"
   ]
  },
  {
   "cell_type": "code",
   "execution_count": null,
   "metadata": {
    "ExecuteTime": {
     "end_time": "2020-01-06T11:41:03.529077Z",
     "start_time": "2020-01-06T11:41:03.525342Z"
    }
   },
   "outputs": [],
   "source": [
    "family_members = queue.Queue(4)"
   ]
  },
  {
   "cell_type": "code",
   "execution_count": null,
   "metadata": {
    "ExecuteTime": {
     "end_time": "2020-01-06T11:41:20.688773Z",
     "start_time": "2020-01-06T11:41:20.685378Z"
    }
   },
   "outputs": [],
   "source": [
    "family_members.put('f')"
   ]
  },
  {
   "cell_type": "code",
   "execution_count": null,
   "metadata": {
    "ExecuteTime": {
     "end_time": "2020-01-06T11:41:32.818877Z",
     "start_time": "2020-01-06T11:41:32.812006Z"
    }
   },
   "outputs": [],
   "source": [
    "family_members.get()"
   ]
  },
  {
   "cell_type": "code",
   "execution_count": null,
   "metadata": {
    "ExecuteTime": {
     "end_time": "2020-01-06T11:42:22.222925Z",
     "start_time": "2020-01-06T11:42:22.219457Z"
    }
   },
   "outputs": [],
   "source": [
    "for i in ('Father', 'Mother', 'Brother'):\n",
    "    family_members.put(i)"
   ]
  },
  {
   "cell_type": "code",
   "execution_count": null,
   "metadata": {
    "ExecuteTime": {
     "end_time": "2020-01-06T11:42:55.349472Z",
     "start_time": "2020-01-06T11:42:55.340885Z"
    }
   },
   "outputs": [],
   "source": [
    "family_members.maxsize\n",
    "family_members.get()"
   ]
  },
  {
   "cell_type": "markdown",
   "metadata": {},
   "source": [
    "# BST to DLL"
   ]
  },
  {
   "cell_type": "markdown",
   "metadata": {
    "ExecuteTime": {
     "end_time": "2019-12-19T14:44:10.950920Z",
     "start_time": "2019-12-19T14:44:10.559842Z"
    }
   },
   "source": [
    "![](https://media.geeksforgeeks.org/wp-content/cdn-uploads/TreeToList.png)"
   ]
  },
  {
   "cell_type": "markdown",
   "metadata": {},
   "source": [
    "# Binary Search Tree"
   ]
  },
  {
   "cell_type": "markdown",
   "metadata": {
    "ExecuteTime": {
     "end_time": "2019-12-09T05:23:14.880266Z",
     "start_time": "2019-12-09T05:23:14.873839Z"
    }
   },
   "source": [
    "https://www.gohired.in/2017/04/17/handle-duplicates-binary-search-tree/"
   ]
  },
  {
   "cell_type": "code",
   "execution_count": null,
   "metadata": {},
   "outputs": [],
   "source": [
    "class node():\n",
    "    def __init__(self, value=None):\n",
    "        self.value = value\n",
    "        self.left_child = None\n",
    "        self.right_child = None\n",
    "\n",
    "class binary_search_tree:\n",
    "    def __init__(self):\n",
    "        self.root = None\n",
    "\n",
    "    def insert(self, value):\n",
    "        if self.root == None:\n",
    "            self.root = node(value)\n",
    "        # Otherwise\n",
    "        else:\n",
    "            self._insert(value, self.root)\n",
    "\n",
    "    def _insert(self, value, cur_node):\n",
    "        \n",
    "        if value < cur_node.value:\n",
    "            # we hope to place in the left child if current node got no left_child\n",
    "            if cur_node.left_child == None:\n",
    "                cur_node.left_child = node(value)\n",
    "            else:\n",
    "                self._insert(value, cur_node.left_child)\n",
    "        elif value > cur_node.value:\n",
    "\n",
    "            if cur_node.right_child == None:\n",
    "                cur_node.right_child = node(value)\n",
    "\n",
    "            else:\n",
    "                self._insert(value, cur_node.right_child)\n",
    "        else:\n",
    "\n",
    "            print(\"value already in tree\")\n",
    "\n",
    "    # Test insert function\n",
    "    def print_tree(self):\n",
    "        if self.root != None:\n",
    "            self._print_tree(self.root)\n",
    "\n",
    "    def _print_tree(self, cur_node):\n",
    "        if cur_node != None:\n",
    "            self._print_tree(cur_node.left_child)\n",
    "            print(str(cur_node.value))\n",
    "            self._print_tree(cur_node.right_child)\n",
    "\n",
    "\n",
    "from random import randint\n",
    "\n",
    "tree = binary_search_tree()\n",
    "tree.insert(18)\n",
    "tree.insert(15)\n",
    "tree.insert(7)\n",
    "tree.insert(89)\n",
    "tree.insert(32)\n",
    "tree.insert(randint(0, 100))\n",
    "tree.insert(randint(0, 100))\n",
    "tree.insert(randint(0, 100))\n",
    "tree.insert(randint(0, 100))\n",
    "tree.insert(randint(0, 100))\n",
    "tree.insert(randint(0, 100))\n",
    "tree.insert(randint(0, 100))\n",
    "tree.print_tree()"
   ]
  },
  {
   "cell_type": "markdown",
   "metadata": {},
   "source": [
    "# add two numbers \n",
    "https://leetcode.com/problems/add-two-numbers/"
   ]
  },
  {
   "cell_type": "markdown",
   "metadata": {},
   "source": [
    "```md \n",
    "You are given two non-empty linked lists representing two non-negative integers. The digits are stored in reverse order and each of their nodes contain a single digit. Add the two numbers and return it as a linked list.\n",
    "\n",
    "You may assume the two numbers do not contain any leading zero, except the number 0 itself.\n",
    "\n",
    "Input: (2 -> 4 -> 3) + (5 -> 6 -> 4)\n",
    "Output: 7 -> 0 -> 8\n",
    "Explanation: 342 + 465 = 807.\n",
    "\n",
    "```"
   ]
  },
  {
   "cell_type": "code",
   "execution_count": null,
   "metadata": {},
   "outputs": [],
   "source": [
    "class ListNode:\n",
    "    def __init__(self, x):\n",
    "        self.val = x\n",
    "        self.next = None\n",
    "\n",
    "\n",
    "sll_1 = ListNode(2)\n",
    "sll_1.next = ListNode(4)\n",
    "sll_1.next.next = ListNode(3)\n",
    "sll_2 = ListNode(5)\n",
    "sll_2.next = ListNode(6)\n",
    "sll_2.next.next = ListNode(4)\n",
    "\n",
    "\n",
    "class Solution:\n",
    "    def addTwoNumbers(self, l1: ListNode, l2: ListNode) -> ListNode:\n",
    "        tem1 = l1\n",
    "        tem2 = l2\n",
    "        x1 = []\n",
    "        x2 = []\n",
    "        while tem1 != None:\n",
    "            x1.append(tem1.val)\n",
    "            tem1 = tem1.next\n",
    "        while tem2 != None:\n",
    "            x2.append(tem2.val)\n",
    "            tem2 = tem2.next\n",
    "\n",
    "        x1 = int(''.join(map(str, x1[::-1])))\n",
    "        x2 = int(''.join(map(str, x2[::-1])))\n",
    "        tem = list(str(x1 + x2))[::-1]\n",
    "        tem = list(map(int, tem))\n",
    "\n",
    "        res = ListNode(tem[0])\n",
    "        node = res\n",
    "        for i in tem[1:]:\n",
    "            node.next = ListNode(i)\n",
    "            node = node.next\n",
    "      \n",
    "        node = res \n",
    "        i = 0\n",
    "        while node != None:\n",
    "            print('Node_{} val {}'.format(i, node.val))\n",
    "            i += 1\n",
    "            node = node.next \n",
    "   \n",
    "        return res\n",
    "\n",
    "\n",
    "test = Solution()\n",
    "test.addTwoNumbers(sll_1, sll_2)"
   ]
  },
  {
   "cell_type": "markdown",
   "metadata": {},
   "source": [
    "```md \n",
    "Input: (2 -> 4 -> 3) + (5 -> 6)\n",
    "Output: 7 -> 0 -> 4\n",
    "Explanation: 342 + 65 = 407\n",
    "```"
   ]
  },
  {
   "cell_type": "code",
   "execution_count": null,
   "metadata": {},
   "outputs": [],
   "source": [
    "class ListNode:\n",
    "    def __init__(self, x):\n",
    "        self.val = x\n",
    "        self.next = None\n",
    "\n",
    "\n",
    "class Solution:\n",
    "    def addTwoNumbers(self, l1: ListNode, l2: ListNode) -> ListNode:\n",
    "        a = l1\n",
    "        b = l2\n",
    "        tem = l1.val + l2.val\n",
    "        nv = tem % 10\n",
    "        c = tem // 10\n",
    "\n",
    "        head = ListNode(nv)\n",
    "        node = head\n",
    "        a = a.next\n",
    "        b = b.next\n",
    "        while a != None and b != None:\n",
    "            tem = a.val + b.val + c\n",
    "            nv = tem % 10\n",
    "            node.next = ListNode(nv)\n",
    "            c = tem // 10\n",
    "            node = node.next\n",
    "            a = a.next\n",
    "            b = b.next\n",
    "\n",
    "        while a != None:\n",
    "            tem = c + a.val\n",
    "            nv = tem % 10\n",
    "            node.next = ListNode(nv)\n",
    "            c = tem // 10\n",
    "            node = node.next\n",
    "            a = a.next\n",
    "\n",
    "        while b != None:\n",
    "            tem = c + b.val\n",
    "            nv = tem % 10\n",
    "            node.next = ListNode(nv)\n",
    "            c = tem // 10\n",
    "            node = node.next\n",
    "            b = b.next\n",
    "\n",
    "        if c != 0 and a == None and b == None:\n",
    "            node.next = ListNode(c)\n",
    "\n",
    "        node = head\n",
    "        while node != None:\n",
    "            print('Node {}'.format(node.val))\n",
    "            node = node.next\n",
    "\n",
    "        return head\n",
    "\n",
    "\n",
    "test = Solution()\n",
    "l1 = ListNode(2)\n",
    "l1.next = ListNode(4)\n",
    "l1.next.next = ListNode(3)\n",
    "\n",
    "l2 = ListNode(5)\n",
    "l2.next = ListNode(6)\n",
    "l2.next.next = ListNode(4)\n",
    "test.addTwoNumbers(l1, l2)"
   ]
  },
  {
   "cell_type": "markdown",
   "metadata": {},
   "source": [
    "https://leetcode.com/problems/add-binary/"
   ]
  },
  {
   "cell_type": "markdown",
   "metadata": {},
   "source": [
    "Note that if you are trying to do that operation often, especially in loops, a list is the wrong data structure.\n",
    "\n",
    "Lists are not optimized for modifications at the front, and somelist.insert(0, something) is an O(n) operation."
   ]
  },
  {
   "cell_type": "markdown",
   "metadata": {},
   "source": [
    "```md\n",
    "Input: a = \"11\", b = \"1\"\n",
    "Output: \"100\"\n",
    "```"
   ]
  },
  {
   "cell_type": "code",
   "execution_count": null,
   "metadata": {},
   "outputs": [],
   "source": [
    "class Solution:\n",
    "    def addBinary(self, a: str, b: str) -> str:\n",
    "        return '{:b}'.format(int(a,2) + int(b,2))\n",
    "test = Solution()\n",
    "test.addBinary('11','1')"
   ]
  },
  {
   "cell_type": "markdown",
   "metadata": {},
   "source": [
    "# add numbers ii\n",
    "https://leetcode.com/problems/add-two-numbers-ii/"
   ]
  },
  {
   "cell_type": "markdown",
   "metadata": {},
   "source": [
    "```md\n",
    "Input: (7 -> 2 -> 4 -> 3) + (5 -> 6 -> 4)\n",
    "Output: 7 -> 8 -> 0 -> 7\n",
    "\n",
    "What if you cannot modify the input lists? In other words, reversing the lists is not allowed.\n",
    "```"
   ]
  },
  {
   "cell_type": "code",
   "execution_count": null,
   "metadata": {},
   "outputs": [],
   "source": [
    "l1 = list_node(7)\n",
    "l1.next = list_node(2)\n",
    "l1.next.next = list_node(4)\n",
    "l1.next.next.next = list_node(3)\n",
    "l2 = list_node(5)\n",
    "l2.next = list_node(6)\n",
    "l2.next.next = list_node(4)"
   ]
  },
  {
   "cell_type": "code",
   "execution_count": null,
   "metadata": {},
   "outputs": [],
   "source": [
    "class Solution:\n",
    "    def addTwoNumbers(self, l1: ListNode, l2: ListNode) -> ListNode:\n",
    "        tem1 = l1\n",
    "        tem2 = l2\n",
    "        x1 = []\n",
    "        x2 = []\n",
    "        while tem1 != None:\n",
    "            x1.append(tem1.val)\n",
    "            tem1 = tem1.next\n",
    "        while tem2 != None:\n",
    "            x2.append(tem2.val)\n",
    "            tem2 = tem2.next\n",
    "\n",
    "        x1 = int(''.join(map(str, x1)))\n",
    "        x2 = int(''.join(map(str, x2)))\n",
    "        tem = list(str(x1 + x2))\n",
    "        tem = list(map(int, tem))\n",
    "\n",
    "\n",
    "        head = ListNode(tem[0])\n",
    "        node = head\n",
    "        for i in tem[1:]:\n",
    "            node.next = ListNode(i)\n",
    "            node = node.next\n",
    "        \"\"\"\n",
    "        node = head \n",
    "        i = 0\n",
    "        while node != None:\n",
    "            print('Node_{} val {}'.format(i, node.val))\n",
    "            node = node.next \n",
    "            i += 1\n",
    "        \"\"\"\n",
    "        return head\n",
    "        \n",
    "\n",
    "test = Solution()\n",
    "test.addTwoNumbers(l1, l2)        "
   ]
  },
  {
   "cell_type": "markdown",
   "metadata": {},
   "source": [
    "# rotate list \n",
    "https://leetcode.com/problems/rotate-list/"
   ]
  },
  {
   "cell_type": "markdown",
   "metadata": {},
   "source": [
    "```md\n",
    "Input: 1->2->3->4->5->NULL, k = 2\n",
    "Output: 4->5->1->2->3->NULL\n",
    "Explanation:\n",
    "rotate 1 steps to the right: 5->1->2->3->4->NULL\n",
    "rotate 2 steps to the right: 4->5->1->2->3->NULL\n",
    "```"
   ]
  },
  {
   "cell_type": "code",
   "execution_count": null,
   "metadata": {
    "ExecuteTime": {
     "end_time": "2019-11-18T13:54:31.014815Z",
     "start_time": "2019-11-18T13:54:30.997052Z"
    }
   },
   "outputs": [],
   "source": [
    "class Solution:\n",
    "    def rotateRight(self, head: ListNode, k: int) -> ListNode:\n",
    "        \"\"\"\n",
    "        rotate the linked list in the way \n",
    "        Input: 1->2->3->4->5->NULL, k = 2\n",
    "        Output: 4->5->1->2->3->NULL\n",
    "        \"\"\"\n",
    "        if head == None or head.next == None: return head\n",
    "        node = head\n",
    "        i = 0\n",
    "        while node != None:\n",
    "            #print('Node_{} val {}'.format(i, node.val))\n",
    "            node = node.next\n",
    "            i += 1\n",
    "\n",
    "        step = k % i\n",
    "        if step == 0: return head\n",
    "\n",
    "        j = i - step\n",
    "\n",
    "        node = head\n",
    "        t = 1\n",
    "        while t < j:\n",
    "            node = node.next\n",
    "            t += 1\n",
    "        newHead = node.next\n",
    "        node.next = None\n",
    "\n",
    "        node = newHead\n",
    "        while node.next != None:\n",
    "            node = node.next\n",
    "        node.next = head\n",
    "        \"\"\"\n",
    "        node = newHead\n",
    "        i = 0\n",
    "        while node != None:\n",
    "            print('Node_{} val {}'.format(i, node.val))\n",
    "            node = node.next\n",
    "            i += 1\n",
    "        \n",
    "        \"\"\"\n",
    "\n",
    "        return newHead\n",
    "\n",
    "\n",
    "test = Solution()\n",
    "test.rotateRight(head, 2)"
   ]
  },
  {
   "cell_type": "markdown",
   "metadata": {},
   "source": [
    "# reverse linked list \n",
    "https://leetcode.com/problems/reverse-linked-list-ii/"
   ]
  },
  {
   "cell_type": "markdown",
   "metadata": {},
   "source": [
    "```md \n",
    "Reverse a linked list from position m to n. Do it in one-pass.\n",
    "Note: 1 ≤ m ≤ n ≤ length of list.\n",
    "\n",
    "Input: 1->2->3->4->5->NULL, m = 2, n = 4\n",
    "Output: 1->4->3->2->5->NULL\n",
    "```"
   ]
  },
  {
   "cell_type": "code",
   "execution_count": null,
   "metadata": {},
   "outputs": [],
   "source": [
    "class Solution:\n",
    "    def reverseBetween(self, head: ListNode, m: int, n: int) -> ListNode:\n",
    "        \"\"\"\n",
    "        Reverse a linked list from position m to n. Do it in one-pass.\n",
    "        Note: 1 ≤ m ≤ n ≤ length of list.\n",
    "\n",
    "        Input: 1->2->3->4->5->NULL, m = 2, n = 4\n",
    "        Output: 1->4->3->2->5->NULL\n",
    "        \"\"\"\n",
    "        tem = head\n",
    "        i = 1\n",
    "        while i < m - 1:\n",
    "            i += 1\n",
    "            tem = tem.head\n",
    "        #print('To avoid dead loop, Not while fault')\n",
    "\n",
    "        c1 = tem\n",
    "        temtail = tem.next\n",
    "        \n",
    "        print('c1 is {}'.format(c1.val))\n",
    "        print('Reversion start at {}'.format(temtail.val))\n",
    "\n",
    "        temhead = tem.next\n",
    "        c = temhead.next\n",
    "        for i in range(m, n):\n",
    "            tail = temhead\n",
    "            temhead = c\n",
    "            c = temhead.next\n",
    "            temhead.next = tail\n",
    "\n",
    "\n",
    "        print(temhead.val)\n",
    "        print(c.val)\n",
    "\n",
    "        c1.next = temhead\n",
    "        temtail.next = c\n",
    "\n",
    "        node = head\n",
    "        i = 0\n",
    "        while node != None:\n",
    "            print('Node_{} val {}'.format(i, node.val))\n",
    "            node = node.next\n",
    "            i += 1\n",
    "        return head"
   ]
  },
  {
   "cell_type": "code",
   "execution_count": null,
   "metadata": {},
   "outputs": [],
   "source": [
    "head = list_node(1)\n",
    "x = [1, 2, 3, 4, 5]\n",
    "i = 1\n",
    "node = head\n",
    "while i < len(x):\n",
    "    node.next = list_node(x[i])\n",
    "    i += 1\n",
    "    node = node.next\n",
    "\n",
    "node = head\n",
    "i = 0\n",
    "while node != None:\n",
    "    print('Node_{} val {}'.format(i, node.value))\n",
    "    node = node.next\n",
    "    i += 1"
   ]
  },
  {
   "cell_type": "code",
   "execution_count": null,
   "metadata": {},
   "outputs": [],
   "source": [
    "\n",
    "test = Solution()\n",
    "head = ListNode(1)\n",
    "x = [1, 2, 3, 4, 5]\n",
    "i = 1\n",
    "node = head\n",
    "while i < len(x):\n",
    "    node.next = ListNode(x[i])\n",
    "    i += 1\n",
    "    node = node.next\n",
    "test.reverseBetween(head, 2, 4)\n",
    "\n",
    "\"\"\"\n",
    "# don't pass\n",
    "head = ListNode(1)\n",
    "test.reverseBetween(head, 1, 1)\n",
    "\n",
    "head = ListNode(3)\n",
    "head.next = ListNode(5)\n",
    "test.reverseBetween(head, 1, 2)\n",
    "\"\"\""
   ]
  },
  {
   "cell_type": "markdown",
   "metadata": {},
   "source": [
    "```md \n",
    "test.reverseBetween(head, 2, 4)\n",
    "\n",
    "dummy pre  cur  \n",
    " |    |    |\n",
    " 0 -> 5 -> 4 -> 3 -> 2 -> 1 -> NULL\n",
    "           |\n",
    "           temp\n",
    "     \n",
    "dummy pre      cur  \n",
    " |    |         |\n",
    " 0 -> 5 -> 3 -> 4 -> 2 -> 1 -> NULL\n",
    "           |\n",
    "           temp\n",
    "     \n",
    "dummy pre            cur  \n",
    " |    |              |\n",
    " 0 -> 5 -> 2 -> 3 -> 4 -> 1 -> NULL \n",
    "           |\n",
    "           temp\n",
    "```"
   ]
  },
  {
   "cell_type": "code",
   "execution_count": null,
   "metadata": {},
   "outputs": [],
   "source": [
    "class Solution:\n",
    "    def reverseBetween(self, head: list_node, m: int, n: int) -> list_node:\n",
    "        \"\"\"\n",
    "        Reverse a linked list from position m to n. Do it in one-pass.\n",
    "        Note: 1 ≤ m ≤ n ≤ length of list.\n",
    "\n",
    "        Input: 1->2->3->4->5->NULL, m = 2, n = 4\n",
    "        Output: 1->4->3->2->5->NULL\n",
    "        \"\"\"\n",
    "        dummy = list_node(0)\n",
    "        pre = dummy\n",
    "        dummy.next = head\n",
    "        for i in range(1, m):\n",
    "            pre = pre.next # i = 1 pre refer to 1st node\n",
    "        cur = pre.next # cur refer to mth node\n",
    "        for i in range(m, n):\n",
    "            temp = pre.next\n",
    "            pre.next = cur.next\n",
    "            cur.next = cur.next.next\n",
    "            pre.next.next = temp\n",
    "        \n",
    "        node = dummy.next\n",
    "        i = 0\n",
    "        while node != None:\n",
    "            print('Node_{} val {}'.format(i, node.value))\n",
    "            node = node.next\n",
    "            i += 1\n",
    "    \n",
    "        return dummy.next"
   ]
  },
  {
   "cell_type": "code",
   "execution_count": null,
   "metadata": {},
   "outputs": [],
   "source": [
    "test = Solution()\n",
    "head = list_node(1)\n",
    "x = [1, 2, 3, 4, 5]\n",
    "i = 1\n",
    "node = head\n",
    "while i < len(x):\n",
    "    node.next = list_node(x[i])\n",
    "    i += 1\n",
    "    node = node.next\n",
    "test.reverseBetween(head, 2, 4)\n",
    "\n",
    "head = list_node(1)\n",
    "test.reverseBetween(head, 1, 1)\n",
    "\n",
    "head = list_node(3)\n",
    "head.next = list_node(5)\n",
    "test.reverseBetween(head, 1, 2)"
   ]
  },
  {
   "cell_type": "markdown",
   "metadata": {},
   "source": [
    "链表翻转（递归与迭代两种实现）"
   ]
  },
  {
   "cell_type": "markdown",
   "metadata": {},
   "source": [
    "# Graph"
   ]
  },
  {
   "cell_type": "markdown",
   "metadata": {},
   "source": [
    "```md\n",
    "There are a total of n courses you have to take, labeled from 0 to n-1.\n",
    "\n",
    "Some courses may have prerequisites, for example to take course 0 you have to first take course 1, which is expressed as a pair: [0,1]\n",
    "\n",
    "Given the total number of courses and a list of prerequisite pairs, is it possible for you to finish all courses?\n",
    "```"
   ]
  },
  {
   "cell_type": "code",
   "execution_count": null,
   "metadata": {},
   "outputs": [],
   "source": [
    "def canFinish(self, numCourses, prerequisites):\n",
    "    graph = [[] for _ in xrange(numCourses)]\n",
    "    visit = [0 for _ in xrange(numCourses)]\n",
    "    for x, y in prerequisites:\n",
    "        graph[x].append(y)\n",
    "    def dfs(i):\n",
    "        if visit[i] == -1:\n",
    "            return False\n",
    "        if visit[i] == 1:\n",
    "            return True\n",
    "        visit[i] = -1\n",
    "        for j in graph[i]:\n",
    "            if not dfs(j):\n",
    "                return False\n",
    "        visit[i] = 1\n",
    "        return True\n",
    "    for i in xrange(numCourses):\n",
    "        if not dfs(i):\n",
    "            return False\n",
    "    return True"
   ]
  }
 ],
 "metadata": {
  "hide_input": false,
  "kernelspec": {
   "display_name": "Python 3",
   "language": "python",
   "name": "python3"
  },
  "language_info": {
   "codemirror_mode": {
    "name": "ipython",
    "version": 3
   },
   "file_extension": ".py",
   "mimetype": "text/x-python",
   "name": "python",
   "nbconvert_exporter": "python",
   "pygments_lexer": "ipython3",
   "version": "3.7.4"
  },
  "toc": {
   "base_numbering": 1,
   "nav_menu": {},
   "number_sections": true,
   "sideBar": true,
   "skip_h1_title": false,
   "title_cell": "Table of Contents",
   "title_sidebar": "Contents",
   "toc_cell": false,
   "toc_position": {
    "height": "calc(100% - 180px)",
    "left": "10px",
    "top": "150px",
    "width": "299px"
   },
   "toc_section_display": true,
   "toc_window_display": true
  },
  "varInspector": {
   "cols": {
    "lenName": 16,
    "lenType": 16,
    "lenVar": 40
   },
   "kernels_config": {
    "python": {
     "delete_cmd_postfix": "",
     "delete_cmd_prefix": "del ",
     "library": "var_list.py",
     "varRefreshCmd": "print(var_dic_list())"
    },
    "r": {
     "delete_cmd_postfix": ") ",
     "delete_cmd_prefix": "rm(",
     "library": "var_list.r",
     "varRefreshCmd": "cat(var_dic_list()) "
    }
   },
   "types_to_exclude": [
    "module",
    "function",
    "builtin_function_or_method",
    "instance",
    "_Feature"
   ],
   "window_display": false
  }
 },
 "nbformat": 4,
 "nbformat_minor": 2
}
