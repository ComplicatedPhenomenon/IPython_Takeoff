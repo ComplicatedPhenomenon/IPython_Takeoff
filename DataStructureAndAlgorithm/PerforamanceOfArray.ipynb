{
 "cells": [
  {
   "cell_type": "code",
   "execution_count": null,
   "metadata": {},
   "outputs": [],
   "source": [
    "from IPython.core.interactiveshell import InteractiveShell\n",
    "InteractiveShell.ast_node_interactivity = \"all\" "
   ]
  },
  {
   "cell_type": "code",
   "execution_count": null,
   "metadata": {},
   "outputs": [],
   "source": [
    "import random \n",
    "import time "
   ]
  },
  {
   "cell_type": "markdown",
   "metadata": {},
   "source": [
    "# Scale up"
   ]
  },
  {
   "cell_type": "markdown",
   "metadata": {},
   "source": [
    "https://stackoverflow.com/questions/57815143/how-to-reduce-the-size-of-a-character-separated-string/57815273?noredirect=1#57815143"
   ]
  },
  {
   "cell_type": "code",
   "execution_count": null,
   "metadata": {},
   "outputs": [],
   "source": [
    "x = '''\n",
    "-lorem-ipsum-dolor-sit-amet-consectetur-adipiscing_elit_sed_do_eiusmod_tempor\n",
    "-lorem-ipsum-dolor-sit-amet-consectetur-adipiscing_elit_sed_do_eiusmod_tempor\n",
    "'''\n",
    "\n",
    "startt = time.time()\n",
    "index = []\n",
    "for i, v in enumerate(x):\n",
    "    if v == '-' or v == '_':\n",
    "        index.append(i)\n",
    "        \n",
    "n = len(index)     \n",
    "res = [x[:index[i-1]+1] for i in range(n)]\n",
    "time.time() - startt \n",
    "\n",
    "def find_separator(text, num) :\n",
    "    for i in range(len(text)) :\n",
    "        if text[i] in '-_' :num -= 1\n",
    "        if num == 0 :\n",
    "            return i+1\n",
    "    return len(text)\n",
    "startt = time.time()\n",
    "res = [[x[:find_separator( x, i)]] for i in range(n)]\n",
    "time.time() - startt "
   ]
  },
  {
   "cell_type": "markdown",
   "metadata": {},
   "source": [
    "# `jit`"
   ]
  },
  {
   "cell_type": "code",
   "execution_count": 34,
   "metadata": {},
   "outputs": [
    {
     "data": {
      "text/plain": [
       "[('sku1', 'w-1'),\n",
       " ('sku2', 'k-2'),\n",
       " ('sku3', 'b-10'),\n",
       " ('sku4', 'b-1'),\n",
       " ('sku5', 'x-1'),\n",
       " ('sku6', 'x-2')]"
      ]
     },
     "execution_count": 34,
     "metadata": {},
     "output_type": "execute_result"
    },
    {
     "data": {
      "text/plain": [
       "[{'sku3': 'b-10', 'sku4': 'b-1'},\n",
       " {'sku2': 'k-2'},\n",
       " {'sku1': 'w-1'},\n",
       " {'sku5': 'x-1', 'sku6': 'x-2'}]"
      ]
     },
     "execution_count": 34,
     "metadata": {},
     "output_type": "execute_result"
    }
   ],
   "source": [
    "from random import random\n",
    "import time\n",
    "from numba import jit\n",
    "\n",
    "N = 1000000\n",
    "dic_test = {}\n",
    "for i in range(N):\n",
    "    dic_test[i] = (random()*100, random()*100)\n",
    "\n",
    "# for Python3.6 or later.\n",
    "start = time.time()\n",
    "\n",
    "@jit\n",
    "def convert(dic_test):\n",
    "    li_test = []\n",
    "    for xy in dic_test.values():\n",
    "        li_test.append(xy)\n",
    "    return li_test\n",
    "li_test = convert(dic_test)\n",
    "\n",
    "elapsed_time = time.time() - start\n",
    "print (\"elapsed_time:{0}\".format(elapsed_time) + \"[sec]\")\n"
   ]
  },
  {
   "cell_type": "markdown",
   "metadata": {},
   "source": [
    "# `np.sum` in loop  "
   ]
  },
  {
   "cell_type": "code",
   "execution_count": null,
   "metadata": {},
   "outputs": [],
   "source": [
    "import numpy as np\n",
    "import random \n",
    "import time\n",
    "from functools import reduce"
   ]
  },
  {
   "cell_type": "code",
   "execution_count": 32,
   "metadata": {},
   "outputs": [],
   "source": [
    "List_1 = [random.randint(1, 100) for _ in range(10000)]\n",
    "a = time.time()\n",
    "res = [\n",
    "    np.sum(List_1[:i + 1]) + np.prod(List_1[i + 1:])\n",
    "    for i, k in enumerate(List_1[:len(List_1) - 1])\n",
    "]\n",
    "time.time() - a\n",
    "\n",
    "a = time.time()\n",
    "res = [\n",
    "    sum(List_1[:i + 1]) + reduce(lambda x, y: x * y, List_1[i + 1:])\n",
    "    for i, k in enumerate(List_1[:len(List_1) - 1])\n",
    "]\n",
    "time.time() - a\n",
    "#42.752530097961426\n",
    "\n",
    "List_1 = [random.randint(1, 100) for _ in range(10000)]\n",
    "a = time.time()\n",
    "res = [\n",
    "    np.sum(List_1[:i + 1]) + np.prod(List_1[i + 1:])\n",
    "    for i, k in enumerate(List_1[:len(List_1) - 1])\n",
    "]\n",
    "time.time() - a\n",
    "\n",
    "List_1 = [np.random.randint(1, 100) for _ in range(1000)]\n",
    "a = time.time()\n",
    "res = [\n",
    "    np.sum(List_1[:i + 1]) + np.prod(List_1[i + 1:])\n",
    "    for i, k in enumerate(List_1[:len(List_1) - 1])\n",
    "]\n",
    "time.time() - a\n",
    "\n",
    "a = time.time()\n",
    "List_1 = [np.random.randint(1, 100) for _ in range(1000000)]\n",
    "m = np.prod(List_1[1:])\n",
    "res = [(List_1[0], m)]\n",
    "for i, k in enumerate(List_1[1:len(List_1) - 1]):\n",
    "    res.append((List_1[i] + res[-1][0], res[-1][1] / List_1[i]))\n",
    "res = [sum(x) for x in res]\n",
    "time.time() - a\n",
    "\n",
    "List_1 = [np.random.randint(1, 100) for _ in range(1100)]\n",
    "a = time.time()\n",
    "res = [\n",
    "    np.prod(List_1[:i + 1]) + np.prod(List_1[i + 1:])\n",
    "    for i, k in enumerate(List_1[:len(List_1) - 1])\n",
    "]\n",
    "time.time() - a\n",
    "\n",
    "a = time.time()\n",
    "List_1 = [np.random.randint(1, 100) for _ in range(1100)]\n",
    "m = np.prod(List_1[1:])\n",
    "res = [(List_1[0], m)]\n",
    "for i, k in enumerate(List_1[1:len(List_1) - 1]):\n",
    "    res.append((List_1[i] * res[-1][0], res[-1][1] / List_1[i]))\n",
    "res = [sum(x) for x in res]\n",
    "time.time() - a"
   ]
  }
 ],
 "metadata": {
  "hide_input": false,
  "kernelspec": {
   "display_name": "Python 3",
   "language": "python",
   "name": "python3"
  },
  "language_info": {
   "codemirror_mode": {
    "name": "ipython",
    "version": 3
   },
   "file_extension": ".py",
   "mimetype": "text/x-python",
   "name": "python",
   "nbconvert_exporter": "python",
   "pygments_lexer": "ipython3",
   "version": "3.7.2"
  },
  "toc": {
   "base_numbering": 1,
   "nav_menu": {},
   "number_sections": true,
   "sideBar": true,
   "skip_h1_title": false,
   "title_cell": "Table of Contents",
   "title_sidebar": "Contents",
   "toc_cell": false,
   "toc_position": {},
   "toc_section_display": true,
   "toc_window_display": false
  },
  "varInspector": {
   "cols": {
    "lenName": 16,
    "lenType": 16,
    "lenVar": 40
   },
   "kernels_config": {
    "python": {
     "delete_cmd_postfix": "",
     "delete_cmd_prefix": "del ",
     "library": "var_list.py",
     "varRefreshCmd": "print(var_dic_list())"
    },
    "r": {
     "delete_cmd_postfix": ") ",
     "delete_cmd_prefix": "rm(",
     "library": "var_list.r",
     "varRefreshCmd": "cat(var_dic_list()) "
    }
   },
   "types_to_exclude": [
    "module",
    "function",
    "builtin_function_or_method",
    "instance",
    "_Feature"
   ],
   "window_display": false
  }
 },
 "nbformat": 4,
 "nbformat_minor": 2
}
