{
 "cells": [
  {
   "cell_type": "code",
   "execution_count": null,
   "metadata": {},
   "outputs": [],
   "source": [
    "from IPython.core.interactiveshell import InteractiveShell\n",
    "InteractiveShell.ast_node_interactivity = \"all\""
   ]
  },
  {
   "cell_type": "markdown",
   "metadata": {},
   "source": [
    "# Advanced operation on dictionary "
   ]
  },
  {
   "cell_type": "markdown",
   "metadata": {},
   "source": [
    "https://stackoverflow.com/questions/57549675/a-non-recursive-function-follow-med-s-where-d-is-a-dictionary-and-s-is-a-stri/57549843#57549843"
   ]
  },
  {
   "cell_type": "code",
   "execution_count": null,
   "metadata": {},
   "outputs": [],
   "source": [
    "def follow_me(d, s):\n",
    "    if s not in d:\n",
    "        return s \n",
    "    else:\n",
    "        k = set() # save the chain keys\n",
    "        while (s in d):\n",
    "            if s in k:\n",
    "                return False \n",
    "            k.add(s)    \n",
    "            s = d[s]    \n",
    "        return s \n",
    "\n",
    "d = {'badger':'doe', 'doe':'fox', 'fox':'hen','hen':'flea',\n",
    "'sparrow':'spider', 'zebra':'lion', 'lion':'zebra'}\n",
    "print(follow_me(d, 'badger'))\n",
    "print(follow_me(d, 'fox'))\n",
    "print(follow_me(d, 'sparrow'))\n",
    "print(follow_me(d, 'zebra'))\n",
    "print(follow_me(d, 'aardvark'))"
   ]
  },
  {
   "cell_type": "markdown",
   "metadata": {},
   "source": [
    "https://stackoverflow.com/questions/57535523/is-there-a-more-efficent-way-to-extend-a-string/57535574#57535574"
   ]
  },
  {
   "cell_type": "code",
   "execution_count": null,
   "metadata": {},
   "outputs": [],
   "source": [
    "from itertools import islice, cycle\n",
    "\n",
    "key = 'fred'\n",
    "msg = 'plaintext'\n",
    "print(''.join(islice(cycle(key), len(msg))))"
   ]
  },
  {
   "cell_type": "code",
   "execution_count": null,
   "metadata": {},
   "outputs": [],
   "source": [
    "from collections import defaultdict, OrderedDict"
   ]
  },
  {
   "cell_type": "code",
   "execution_count": null,
   "metadata": {},
   "outputs": [],
   "source": [
    "dict1 = OrderedDict([('a', OrderedDict([('b', '20'),\n",
    "        ('c', '30'),('d', OrderedDict([('e', '40')]))]))])\n",
    "dict2 = OrderedDict([('a', OrderedDict([('b', '20'),\n",
    "        ('c', '30'),('d', OrderedDict([('e', '50')]))]))])\n",
    "dict1"
   ]
  },
  {
   "cell_type": "markdown",
   "metadata": {},
   "source": [
    "https://stackoverflow.com/questions/57568329/transform-the-data-in-a-dictionary-format/57569079#57569079"
   ]
  },
  {
   "cell_type": "code",
   "execution_count": null,
   "metadata": {},
   "outputs": [],
   "source": [
    "input_list = ['[\"Rich\",\"23\", {\"nationality\": [\"USA\", \"Chinese\"]},{\"children\":\"0\", \"home\":\"yes\"}]',\n",
    "'[\"Mary\",\"32\",{\"nationality\": [\"Canada\"]},{\"children\":\"1\"}]',\n",
    "'[\"Ronaldo\",\"17\",{\"nationality\": [\"Brazil\"]},{\"children\":\"0\",\"travel\":\"yes\"}]']\n",
    "\n",
    "from ast import literal_eval\n",
    "new_input_list = [literal_eval(i) for i in input_list]\n",
    "\n",
    "output_list = []\n",
    "for item in new_input_list:\n",
    "    dj = dict()\n",
    "    dj['name'] = item[0]\n",
    "    dj['age'] = item[1] \n",
    "    for k,  v in item[2].items():\n",
    "        dj[k] = ', '.join(v)\n",
    "    for k1,  v1 in item[3].items():\n",
    "        dj[k1] = v1\n",
    "    output_list.append(dj)\n",
    "        \n",
    "print(output_list)"
   ]
  },
  {
   "cell_type": "code",
   "execution_count": null,
   "metadata": {},
   "outputs": [],
   "source": [
    "input_list = ['[\"Rich\",\"23\", {\"nationality\": [\"USA\", \"Chinese\"]},{\"children\":\"0\", \"home\":\"yes\"}]',\n",
    "'[\"Mary\",\"32\",{\"nationality\": [\"Canada\"]},{\"children\":\"1\"}]',\n",
    "'[\"Ronaldo\",\"17\",{\"nationality\": [\"Brazil\"]},{\"children\":\"0\",\"travel\":\"yes\"}]']\n",
    "\n",
    "from ast import literal_eval\n",
    "v_list = [literal_eval(i) for i in input_list]\n",
    "key_list = ['name', 'age']\n",
    "part = [dict(zip(key_list, v[:2]), **v[2], **v[3] ) for v in v_list]\n",
    "for item in part:\n",
    "    item['nationality'] = ' ,'.join(item['nationality'])\n",
    "part "
   ]
  },
  {
   "cell_type": "markdown",
   "metadata": {},
   "source": [
    "https://stackoverflow.com/questions/57584924/convert-the-nested-json-into-a-dictionary-format-with-no-nested-objects#57585199"
   ]
  },
  {
   "cell_type": "code",
   "execution_count": null,
   "metadata": {},
   "outputs": [],
   "source": [
    "a ={'Name': 'Richard'}\n",
    "b = {'Age': '48'} \n",
    "dict(**a)\n",
    "{**a, **b}"
   ]
  },
  {
   "cell_type": "code",
   "execution_count": null,
   "metadata": {},
   "outputs": [],
   "source": [
    "data = [[u'Richard', u'48', [u'Josh', u'Beth'], {u'city': u'Seattle', u'Disability': u'no', u'enterprenuer': u'yes'}], [u'Bryan', u'32',[], {u'city': u'NY', u'enterprenuer': u'no', u'wfh': u'yes', u'disability': u'no', u'Visa': u'no'}]]\n",
    "key_list = [\"Name\", \"Age\", \"Children\", \"details\"]\n",
    "result = [{\"Name\":\"Richard\",\"Age\":\"48\",\"Children\":\"Josh,Beth\",\"city\":\"Seattle\",\"enterprenuer\":\"yes\",\"Disability\":\"no\"},{\"Name\":\"Bryan\",\"Age\":\"32\",\"Children\":\"\",\"Visa\":\"no\",\"city\":\"NY\",\"wfh\":\"yes\",\"enterprenuer\":\"no\",\"disability\":\"no\"}]\n",
    "[dict(zip(key_list[:2], e[:2]), **{key_list[2]: ','.join(e[2])}, **e[3]) for e in data]"
   ]
  },
  {
   "cell_type": "markdown",
   "metadata": {},
   "source": [
    "## construct dict from list "
   ]
  },
  {
   "cell_type": "code",
   "execution_count": null,
   "metadata": {},
   "outputs": [],
   "source": [
    "titles = [\"Harry Potter\", \"Fear and Lothing in Las Vegas\"]\n",
    "pages = [200, 350]\n",
    "firsts = [\"J.K.\", \"Hunter\"]\n",
    "lasts = [\"Rowling\", \"Thompson\"]\n",
    "locations = [\"NYC\", \"Aspen\"]\n",
    "\n",
    "\n",
    "def build_book_dict(titles, pages, firsts, lasts, locations):\n",
    "    inputs = zip(titles, pages, firsts, lasts, locations)\n",
    "    d = {}\n",
    "    for titles, pages, firsts, lasts, locations in inputs:\n",
    "        d.update({\n",
    "            titles: {\n",
    "                \"Pages\": pages,\n",
    "                \"Author\": {\n",
    "                    \"First\": firsts,\n",
    "                    \"Last\": lasts\n",
    "                },\n",
    "                \"Publisher\": {\n",
    "                    \"Location\": locations\n",
    "                },\n",
    "            },\n",
    "        })\n",
    "\n",
    "    return d\n",
    "\n",
    "\n",
    "print(build_book_dict(titles, pages, firsts, lasts, locations))"
   ]
  },
  {
   "cell_type": "code",
   "execution_count": null,
   "metadata": {},
   "outputs": [],
   "source": [
    "dict_list =[{'basket': 1, 'fruit': 'apple'},\n",
    "            {'basket': 1, 'fruit': 'orange'},\n",
    "            {'basket': 1, 'fruit': 'peach'},\n",
    "            {'basket': 2, 'fruit': 'kiwi'},\n",
    "            {'basket': 2, 'fruit': 'lemon'},\n",
    "            {'basket': 3, 'fruit': 'grape'}]\n",
    "\n",
    "def to_list(dlist):\n",
    "    full_d = defaultdict(list)\n",
    "    for d in dlist:\n",
    "        full_d[d['basket']].append(d['fruit'])\n",
    "    return list(full_d.values())\n",
    "\n",
    "to_list(dict_list)"
   ]
  },
  {
   "cell_type": "code",
   "execution_count": null,
   "metadata": {},
   "outputs": [],
   "source": [
    "dict_list[1].values()"
   ]
  },
  {
   "cell_type": "code",
   "execution_count": null,
   "metadata": {},
   "outputs": [],
   "source": [
    "x = [{list(x.values())[0]: list(x.values())[1]} for x in dict_list]\n",
    "y = []"
   ]
  },
  {
   "cell_type": "code",
   "execution_count": null,
   "metadata": {},
   "outputs": [],
   "source": [
    "a = {\n",
    "    'p_id': 254,\n",
    "    's_id': 1,\n",
    "    'object_cnt': 4,\n",
    "    'type0': 0,\n",
    "    'address0': 65500,\n",
    "    'size0': 2,\n",
    "    'value0': 23.4,\n",
    "    'type1': 1,\n",
    "    'address1': 65535,\n",
    "    'size1': 2,\n",
    "    'value1': 45.7,\n",
    "    'type2': 2,\n",
    "    'address2': 65,\n",
    "    'size2': 0,\n",
    "    'value2': 1,\n",
    "    'type3': 3,\n",
    "    'address3': 535,\n",
    "    'size3': 0,\n",
    "    'value3': 0,\n",
    "}\n",
    "n = a['object_cnt']\n",
    "new_dict = dict()\n",
    "for i in range(n):\n",
    "    new_dict[str(a['address{}'.format(i)])] = (a['size{}'.format(i)],\n",
    "                                               a['value{}'.format(i)])\n",
    "print(new_dict)"
   ]
  },
  {
   "cell_type": "markdown",
   "metadata": {},
   "source": [
    "## `string` to `list`"
   ]
  },
  {
   "cell_type": "code",
   "execution_count": null,
   "metadata": {},
   "outputs": [],
   "source": [
    "var = {\n",
    "    \"metadata\": {\n",
    "        \"deleted\":\n",
    "        \"false\",\n",
    "        \"low_manual\":\n",
    "        \"false\",\n",
    "        \"canceled\":\n",
    "        \"false\",\n",
    "        \"items\":\n",
    "        \"[{'descricao': 'ITEM1', 'amount': '200'}, {'amount': '3000', 'descricao': 'ITEm2'}]\"\n",
    "    }\n",
    "}\n",
    "\n",
    "from ast import literal_eval\n",
    "\n",
    "stringC = literal_eval(var['metadata']['items'])\n",
    "stringC"
   ]
  },
  {
   "cell_type": "markdown",
   "metadata": {},
   "source": [
    "# Inner sum \n",
    "https://stackoverflow.com/questions/57074100/inner-sum-of-a-range-of-numbers#57074290"
   ]
  },
  {
   "cell_type": "code",
   "execution_count": null,
   "metadata": {},
   "outputs": [],
   "source": [
    "sum(int(i) for i in \"12345\")"
   ]
  },
  {
   "cell_type": "code",
   "execution_count": null,
   "metadata": {},
   "outputs": [],
   "source": [
    "a, b = '1263','323531'\n",
    "a = int(a)\n",
    "b = int(b)\n",
    "s = 0\n",
    "for x in range(a, b+1):\n",
    "    t = str(x)\n",
    "    s = s + sum(int(i) for i in t)\n",
    "print(s)"
   ]
  },
  {
   "cell_type": "code",
   "execution_count": null,
   "metadata": {},
   "outputs": [],
   "source": [
    "l=[2,3,6,0,0,5,6,0,7]\n",
    "while l.index(0)\n",
    "l.remove(l[3])\n",
    "l \n",
    "l.index(0) "
   ]
  },
  {
   "cell_type": "code",
   "execution_count": null,
   "metadata": {},
   "outputs": [],
   "source": [
    "zero=[]\n",
    "l=[2,3,6,0,0,5,6,0,7]\n",
    "for i in l[:]:\n",
    "    if i==0:\n",
    "        \n",
    "        l.remove(i)\n",
    "        l \n",
    "        zero.append(i)\n",
    "print(l)\n",
    "print(zero)"
   ]
  },
  {
   "cell_type": "code",
   "execution_count": null,
   "metadata": {},
   "outputs": [],
   "source": [
    "zero=[]\n",
    "l=[2,3,6,0,0,5,6,0,7]\n",
    "for i in l[:]:\n",
    "    if i==0:\n",
    "        l.remove(i)\n",
    "        zero.append(i)\n",
    "print(l)\n",
    "print(zero)\n"
   ]
  },
  {
   "cell_type": "code",
   "execution_count": null,
   "metadata": {},
   "outputs": [],
   "source": [
    "y = [12, 13, 14, 15, 16, 17, 18]\n",
    "yy = [[j+i  for j in y] for i in range(1, 4)]\n",
    "yy"
   ]
  },
  {
   "cell_type": "code",
   "execution_count": null,
   "metadata": {},
   "outputs": [],
   "source": [
    "[[[k+i for k in j ] for j in yy ]for i in range(1,8)]"
   ]
  },
  {
   "cell_type": "markdown",
   "metadata": {},
   "source": [
    "# Remove an element from list "
   ]
  },
  {
   "cell_type": "code",
   "execution_count": null,
   "metadata": {},
   "outputs": [],
   "source": [
    "zero = []\n",
    "l = [2, 3, 6, 0, 0, 5, 6, 0, 7]\n",
    "for index, i in enumerate(l):\n",
    "    # for i in l[:]:\n",
    "    index, i\n",
    "    if i == 0:\n",
    "        l.remove(i)\n",
    "        l\n",
    "        zero.append(i)\n",
    "print(l)\n",
    "print(zero)"
   ]
  },
  {
   "cell_type": "code",
   "execution_count": null,
   "metadata": {},
   "outputs": [],
   "source": [
    "graph = {'A': ['B', 'C'],\n",
    "         'B': ['D', 'E'],\n",
    "         'C': ['F', 'G'],\n",
    "         'D': ['B'],\n",
    "         'E': ['B'],\n",
    "         'F': ['C'],\n",
    "         'G': ['C']}\n",
    "\n",
    "def BFS(graph, start, end):\n",
    "\n",
    "    nodes = [[start]]\n",
    "    explored = []\n",
    "\n",
    "    while nodes:\n",
    "        path = nodes.pop(0)\n",
    "        current = path[-1]\n",
    "        if current not in explored:\n",
    "            neighbour = graph[current]\n",
    "            for neighbour in neighbour:\n",
    "                new = list(path)\n",
    "                new.append(neighbour)\n",
    "                nodes.append(new)\n",
    "                if neighbour == end:\n",
    "                    return new\n",
    "            explored.append(nodes)\n",
    "        print(explored)\n",
    "    return \"Couldn't Find\"\n",
    "BFS(graph,'A','F')"
   ]
  },
  {
   "cell_type": "code",
   "execution_count": null,
   "metadata": {},
   "outputs": [],
   "source": [
    "texts = ['13007807', '13007779']\n",
    "print (*texts)"
   ]
  },
  {
   "cell_type": "markdown",
   "metadata": {},
   "source": [
    "# Advanced usage of list "
   ]
  },
  {
   "cell_type": "code",
   "execution_count": 3,
   "metadata": {},
   "outputs": [],
   "source": [
    "from collections import deque "
   ]
  },
  {
   "cell_type": "markdown",
   "metadata": {},
   "source": [
    "## Queue"
   ]
  },
  {
   "cell_type": "code",
   "execution_count": 4,
   "metadata": {},
   "outputs": [],
   "source": [
    "class Queue(object):\n",
    "    \"\"\"Wrapper around collections.deque to provide the api consistent with\n",
    "    a Queue\"\"\"\n",
    "\n",
    "    def __init__(self):\n",
    "        self.items = deque()\n",
    "\n",
    "    def __str__(self):\n",
    "        return (\"Queue of size: %d\" % len(self.items))\n",
    "\n",
    "    def isEmpty(self):\n",
    "        return len(self.items) == 0\n",
    "\n",
    "    def enqueue(self, item):\n",
    "        self.items.append(item)\n",
    "\n",
    "    def dequeue(self):\n",
    "        return self.items.popleft()\n",
    "\n",
    "    def size(self):\n",
    "        return len(self.items)\n",
    "AIsQueue = Queue()  \n",
    "AIsQueue.isEmpty()"
   ]
  },
  {
   "cell_type": "markdown",
   "metadata": {},
   "source": [
    "## Single linked list"
   ]
  },
  {
   "cell_type": "code",
   "execution_count": null,
   "metadata": {},
   "outputs": [],
   "source": [
    "class Node(object):\n",
    "    def __init__(self, data=None):\n",
    "        self.data = data\n",
    "        self.next = None\n",
    "\n",
    "    def __repr__(self):\n",
    "        return str(self.data)\n",
    "\n",
    "class SinglyLinkedList(object):\n",
    "    def __init__(self, iterable=[]):\n",
    "        self.head = None\n",
    "        self.size = 0\n",
    "        for item in iterable: self.append(item)\n",
    "\n",
    "    def __repr__(self):\n",
    "        (current, nodes) = self.head, []\n",
    "        while current:\n",
    "            nodes.append(str(current))\n",
    "            current = current.next\n",
    "        return \"->\".join(nodes)\n",
    "\n",
    "    def __len__(self):\n",
    "        return self.size\n",
    "\n",
    "    def __iter__(self):\n",
    "        current = self.head\n",
    "        while current:\n",
    "            yield current\n",
    "            current = current.__next__\n",
    "        raise StopIteration\n",
    "\n",
    "    def __contains__(self, data):\n",
    "        tmp = self.head\n",
    "        found = False\n",
    "        while tmp and not found:\n",
    "            if data == tmp.data:\n",
    "                found = True\n",
    "            else:\n",
    "                tmp = tmp.next\n",
    "        return found\n",
    "\n",
    "    def append(self, data):\n",
    "        tmp = Node(data)\n",
    "        tmp.next = self.head\n",
    "        self.head = tmp\n",
    "        self.size += 1\n",
    "\n",
    "    def getHead(self):\n",
    "        return self.head\n",
    "\n",
    "    def getTail(self):\n",
    "        tmp = self.head\n",
    "        while tmp.next:\n",
    "            tmp = tmp.next\n",
    "        return tmp\n",
    "\n",
    "    def delete(self, data):\n",
    "        tmp = self.head\n",
    "        prev = None\n",
    "        found = False\n",
    "        while tmp and not found:\n",
    "            if data == tmp.data:\n",
    "                found = True\n",
    "            else:\n",
    "                prev = tmp\n",
    "                tmp = tmp.next\n",
    "        if found:\n",
    "            self.size -= 1\n",
    "            if prev == None:\n",
    "                self.head = self.head.next\n",
    "            else:\n",
    "                prev.next = tmp.next\n",
    "\n",
    "if __name__ == \"__main__\":\n",
    "    list1 = SinglyLinkedList(list(range(0, 100, 10)))\n",
    "    print(list1) # testing repr\n",
    "    print(50 in list1, 110 not in list1) # testing contains\n",
    "    list1.delete(50) # testing delete\n",
    "    print(len(list1) == 9, 50 not in list1) # testing size"
   ]
  },
  {
   "cell_type": "markdown",
   "metadata": {},
   "source": [
    "## min heap"
   ]
  },
  {
   "cell_type": "markdown",
   "metadata": {},
   "source": [
    "* [Refresh your knowledge on heap](https://towardsdatascience.com/data-structure-heap-23d4c78a6962)\n",
    "* [Full Binary Tree](http://www.cnblogs.com/gaochundong/p/binary_search_tree.html)"
   ]
  },
  {
   "cell_type": "code",
   "execution_count": 10,
   "metadata": {},
   "outputs": [],
   "source": [
    "import math\n",
    "import random \n",
    "class minheap(object):\n",
    "    \"\"\"\n",
    "    Heap class - made of keys and items\n",
    "    methods: build_heap, heappush, heappop\n",
    "    \"\"\"\n",
    "\n",
    "    MIN_HEAP = True\n",
    "\n",
    "    def __init__(self, nums=None):\n",
    "        self.heap = []\n",
    "        if nums:\n",
    "            self.build_heap(nums)\n",
    "\n",
    "    def __str__(self):\n",
    "        return \"Min-heap with %s items\" % (len(self.heap))\n",
    "\n",
    "    def max_elements(self):\n",
    "        return len(self.heap)\n",
    "\n",
    "    def height(self):\n",
    "        return math.ceil(math.log(len(self.heap)) / math.log(2))\n",
    "\n",
    "    def is_leaf(self, i):\n",
    "        \"\"\" returns True if i is a leaf node \"\"\"\n",
    "        return i > int(math.ceil((len(self.heap) - 2) / 2.0))\n",
    "\n",
    "    def parent(self, i):\n",
    "        if i == 0:\n",
    "            return -1\n",
    "        elif i % 2 != 0: # odd\n",
    "            return (i - 1) // 2\n",
    "        return (i - 2) // 2\n",
    "\n",
    "    def leftchild(self, i):\n",
    "        return 2 * i + 1\n",
    "\n",
    "    def rightchild(self, i):\n",
    "        return 2 * i + 2\n",
    "\n",
    "    def heapify(self, i):\n",
    "        l = self.leftchild(i)\n",
    "        r = self.rightchild(i)\n",
    "        smallest = i\n",
    "        if l < self.max_elements() and self.heap[l] < self.heap[smallest]:\n",
    "            smallest = l\n",
    "        if r < self.max_elements() and self.heap[r] < self.heap[smallest]:\n",
    "            smallest = r\n",
    "        if smallest != i:\n",
    "            self.heap[i], self.heap[smallest] = self.heap[smallest], self.heap[i]\n",
    "            self.heapify(smallest)\n",
    "\n",
    "    def build_heap(self, elem):\n",
    "        \"\"\" transforms a list of elements into a heap\n",
    "        in linear time \"\"\"\n",
    "        self.heap = elem[:]\n",
    "        last_leaf = self.parent(len(self.heap))\n",
    "        for i in range(last_leaf, 0, -1):\n",
    "            self.heapify(i)\n",
    "\n",
    "    def heappush(self, x):\n",
    "        \"\"\" Adds a new item x in the heap\"\"\"\n",
    "        i = len(self.heap)\n",
    "        self.heap.append(x)\n",
    "        parent = self.parent(i)\n",
    "        while parent != -1 and self.heap[i] < self.heap[parent]:\n",
    "            self.heap[i], self.heap[parent] = self.heap[parent], self.heap[i]\n",
    "            i = parent\n",
    "            parent = self.parent(i)\n",
    "\n",
    "    def heappop(self):\n",
    "        \"\"\" extracts the root of the heap, min or max\n",
    "        depending on the kind of heap\"\"\"\n",
    "        if self.max_elements():\n",
    "            self.heap[0], self.heap[-1] = self.heap[-1], self.heap[0]\n",
    "            pop = self.heap.pop()\n",
    "            self.heapify(0)\n",
    "            return pop\n",
    "        raise Exception(\"Heap is empty\")"
   ]
  },
  {
   "cell_type": "code",
   "execution_count": 11,
   "metadata": {},
   "outputs": [],
   "source": [
    "BIsAMinHeap = minheap()\n",
    "x = [ random.randint(0, 100) for _ in range(10)]\n",
    "BIsAMinHeap.build_heap(x)\n",
    "for i in range(50):\n",
    "    BIsAMinHeap.heappush(i)"
   ]
  }
 ],
 "metadata": {
  "hide_input": false,
  "kernelspec": {
   "display_name": "Python 3",
   "language": "python",
   "name": "python3"
  },
  "language_info": {
   "codemirror_mode": {
    "name": "ipython",
    "version": 3
   },
   "file_extension": ".py",
   "mimetype": "text/x-python",
   "name": "python",
   "nbconvert_exporter": "python",
   "pygments_lexer": "ipython3",
   "version": "3.7.2"
  },
  "toc": {
   "base_numbering": 1,
   "nav_menu": {},
   "number_sections": true,
   "sideBar": true,
   "skip_h1_title": false,
   "title_cell": "Table of Contents",
   "title_sidebar": "Contents",
   "toc_cell": false,
   "toc_position": {
    "height": "calc(100% - 180px)",
    "left": "10px",
    "top": "150px",
    "width": "284.390625px"
   },
   "toc_section_display": true,
   "toc_window_display": true
  },
  "varInspector": {
   "cols": {
    "lenName": 16,
    "lenType": 16,
    "lenVar": 40
   },
   "kernels_config": {
    "python": {
     "delete_cmd_postfix": "",
     "delete_cmd_prefix": "del ",
     "library": "var_list.py",
     "varRefreshCmd": "print(var_dic_list())"
    },
    "r": {
     "delete_cmd_postfix": ") ",
     "delete_cmd_prefix": "rm(",
     "library": "var_list.r",
     "varRefreshCmd": "cat(var_dic_list()) "
    }
   },
   "types_to_exclude": [
    "module",
    "function",
    "builtin_function_or_method",
    "instance",
    "_Feature"
   ],
   "window_display": false
  }
 },
 "nbformat": 4,
 "nbformat_minor": 2
}
