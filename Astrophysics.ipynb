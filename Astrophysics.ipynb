{
 "cells": [
  {
   "cell_type": "markdown",
   "metadata": {},
   "source": [
    "## Astronomy Courses\n",
    "* Knowledgeble \n",
    "  * [Arxiv](https://arxiv.org/abs/0907.0869v1). To get an impression.\n",
    "* Efficiency of the relevant tools\n",
    "* Intuitive\n",
    "* Take the hands-on practise\n",
    "\n",
    "\n",
    "Search `Astrnomy` and `Astrophysics` in Github. Then you will get the most relevant materials. Meanwhile, you are able to find people who also involve in the projects.\n",
    "\n",
    "[Special Topics in Astrophysics: Statistical Methods](https://kipac.github.io/StatisticalMethods/)"
   ]
  },
  {
   "cell_type": "markdown",
   "metadata": {},
   "source": [
    "---\n",
    "### People contributing to great open-source software\n",
    "If you just look up the people contribuilting for `physics` in`sympy`. You are very likely to find the people whom you value very much. [`astropy` too](https://github.com/astropy/astropy)\n",
    "* [Mike Boyle](https://github.com/moble)\n",
    "* [Jonah Miller](https://github.com/Yurlungur)\n",
    "* [Vijay Varma](http://www.tapir.caltech.edu/~vvarma/)\n",
    "* [Jason K. Moore](https://github.com/moorepants?tab=repositories)\n",
    "* [Thomas Robitaille](https://github.com/astrofrog)\n",
    "\n",
    "The extensible feature makes it easy to collaborate. And the [`astropy-tutorial`](https://github.com/astropy/astropy-tutorials) Isn't the organizaton awesome?"
   ]
  },
  {
   "cell_type": "markdown",
   "metadata": {},
   "source": [
    "---\n",
    "[Software for working with LIGO data](https://losc.ligo.org/software/)\n",
    "\n",
    "[Working with LIGO Data Using C](https://losc.ligo.org/tutorial_gps/)"
   ]
  },
  {
   "cell_type": "code",
   "execution_count": 1,
   "metadata": {
    "collapsed": true
   },
   "outputs": [],
   "source": [
    "#-- SET ME   Tutorial should work with most binary black hole events\n",
    "#-- Default is no event selection; you MUST select one to proceed.\n",
    "eventname = ''\n",
    "eventname = 'GW150914' \n",
    "#eventname = 'GW151226' \n",
    "#eventname = 'LVT151012'\n",
    "#eventname = 'GW170104'\n",
    "\n",
    "# want plots?\n",
    "make_plots = 1\n",
    "plottype = \"png\"\n",
    "#plottype = \"pdf\"\n"
   ]
  },
  {
   "cell_type": "code",
   "execution_count": 3,
   "metadata": {},
   "outputs": [
    {
     "ename": "TabError",
     "evalue": "inconsistent use of tabs and spaces in indentation (readligo.py, line 426)",
     "output_type": "error",
     "traceback": [
      "Traceback \u001b[0;36m(most recent call last)\u001b[0m:\n",
      "  File \u001b[1;32m\"/usr/local/lib/python3.5/dist-packages/IPython/core/interactiveshell.py\"\u001b[0m, line \u001b[1;32m2910\u001b[0m, in \u001b[1;35mrun_code\u001b[0m\n    exec(code_obj, self.user_global_ns, self.user_ns)\n",
      "\u001b[0;36m  File \u001b[0;32m\"<ipython-input-3-33c57b147786>\"\u001b[0;36m, line \u001b[0;32m16\u001b[0;36m, in \u001b[0;35m<module>\u001b[0;36m\u001b[0m\n\u001b[0;31m    import readligo as rl\u001b[0m\n",
      "\u001b[0;36m  File \u001b[0;32m\"/home/wm/Playground/JN/readligo.py\"\u001b[0;36m, line \u001b[0;32m426\u001b[0m\n\u001b[0;31m    elif type(filename) is list:\u001b[0m\n\u001b[0m                                ^\u001b[0m\n\u001b[0;31mTabError\u001b[0m\u001b[0;31m:\u001b[0m inconsistent use of tabs and spaces in indentation\n"
     ]
    }
   ],
   "source": [
    "# Standard python numerical analysis imports:\n",
    "import numpy as np\n",
    "from scipy import signal\n",
    "from scipy.interpolate import interp1d\n",
    "from scipy.signal import butter, filtfilt, iirdesign, zpk2tf, freqz\n",
    "import h5py\n",
    "import json\n",
    "\n",
    "# the IPython magic below must be commented out in the .py file, since it doesn't work there.\n",
    "%matplotlib inline\n",
    "%config InlineBackend.figure_format = 'retina'\n",
    "import matplotlib.pyplot as plt\n",
    "import matplotlib.mlab as mlab\n",
    "\n",
    "# LIGO-specific readligo.py \n",
    "import readligo as rl\n",
    "\n",
    "# you might get a matplotlib warning here; you can ignore it."
   ]
  },
  {
   "cell_type": "markdown",
   "metadata": {},
   "source": [
    "有`readpy.ligo` 的源文件，怎么让`interpreter`找到。\n",
    "机器学习在天文学上的应用， 除了`statistics data mining machine learning in astronomy`之外， 在`Arxiv`上看最新进展，上次在哪个网站上找到关于天文学在机器学习， 大数据下的影响下的发展趋势了。 "
   ]
  },
  {
   "cell_type": "markdown",
   "metadata": {},
   "source": [
    "Image analysis \n",
    "\n",
    "Since we have a machine to produce huge amont of data.\n",
    "\n",
    "One of the largest astronmical surveys to date is [`SDSS`](http://www.sdss.org/). Each night, the SDSS telescope produces 200 Gbytes of data, and to this day close to a million field images have been acquired, in which more than 200 million galaxies, and even more stars, have been detected.\n",
    "\n",
    "What's it all about `Axion Like Particles` ?\n",
    "\n",
    "[Fermi Gamma-ray telescope](https://fermi.gsfc.nasa.gov)"
   ]
  },
  {
   "cell_type": "markdown",
   "metadata": {},
   "source": [
    "Machine learning could also influence how we interpret exoplanet signals. For example, we could train software with detailed physical models of a variety of exoplanet types, giving it the objective to predict the composition of planetary atmospheres. This could identify targets for more detailed modelling and follow-up observations. However, it will be a while before we have enough detailed observations of exoplanet atmospheres to require such a system.\n",
    "\n",
    "What are the challenges that machine learning presents in your field of research? [传送门](https://blogs.royalsociety.org/in-verba/2017/04/06/astronomy-and-machine-learning-written-in-the-stars/)\n",
    "* One is simply that many astronomers (myself included) are not formally trained in statistics and machine learning techniques, and this can mean there is a bit of reluctance to make use of machine learning, especially in areas where traditional techniques still appear to work.\n",
    "* Another is that, as well as requiring expertise outside of traditional astronomy, machine learning applied to large data sets requires large computational-resources, which can be difficult to access.\n",
    "* A final problem is to do with the interpretation of the results from machine learning. Complex deep-learning algorithms can outperform humans, which could give fascinating insights. But without understanding the connections made that lead to their results, what new physical insight do we learn in the process? What conclusions could we really draw?\n",
    "\n",
    "[What is the potential of machine learning over the next 5-10 years?](https://royalsociety.org/topics-policy/projects/machine-learning/)"
   ]
  },
  {
   "cell_type": "code",
   "execution_count": null,
   "metadata": {
    "collapsed": true
   },
   "outputs": [],
   "source": []
  }
 ],
 "metadata": {
  "kernelspec": {
   "display_name": "Python 3",
   "language": "python",
   "name": "python3"
  },
  "language_info": {
   "codemirror_mode": {
    "name": "ipython",
    "version": 3
   },
   "file_extension": ".py",
   "mimetype": "text/x-python",
   "name": "python",
   "nbconvert_exporter": "python",
   "pygments_lexer": "ipython3",
   "version": "3.6.3"
  },
  "latex_envs": {
   "LaTeX_envs_menu_present": true,
   "autocomplete": true,
   "bibliofile": "biblio.bib",
   "cite_by": "apalike",
   "current_citInitial": 1,
   "eqLabelWithNumbers": true,
   "eqNumInitial": 1,
   "hotkeys": {
    "equation": "Ctrl-E",
    "itemize": "Ctrl-I"
   },
   "labels_anchors": false,
   "latex_user_defs": false,
   "report_style_numbering": false,
   "user_envs_cfg": false
  }
 },
 "nbformat": 4,
 "nbformat_minor": 2
}
