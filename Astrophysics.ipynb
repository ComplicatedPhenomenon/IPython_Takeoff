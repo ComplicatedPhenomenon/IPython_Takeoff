{
 "cells": [
  {
   "cell_type": "markdown",
   "metadata": {},
   "source": [
    "## Astronomy Courses\n",
    "* Knowledgeble \n",
    "  * [Arxiv](https://arxiv.org/abs/0907.0869v1). To get an impression.\n",
    "* Efficiency of the relevant tools\n",
    "* Intuitive\n",
    "* Take the hands-on practise\n",
    "\n",
    "\n",
    "Search `Astrnomy` and `Astrophysics` in Github. Then you will get the most relevant materials. Meanwhile, you are able to find people who also involve in the projects.\n",
    "\n",
    "[Special Topics in Astrophysics: Statistical Methods](https://kipac.github.io/StatisticalMethods/)"
   ]
  },
  {
   "cell_type": "markdown",
   "metadata": {},
   "source": [
    "---\n",
    "### People contributing to great open-source software\n",
    "If you just look up the people contribuilting for `physics` in`sympy`. You are very likely to find the people whom you value very much. [`astropy` too](https://github.com/astropy/astropy)\n",
    "* [Mike Boyle](https://github.com/moble)\n",
    "* [Jonah Miller](https://github.com/Yurlungur)\n",
    "* [Vijay Varma](http://www.tapir.caltech.edu/~vvarma/)\n",
    "* [Jason K. Moore](https://github.com/moorepants?tab=repositories)\n",
    "* [Thomas Robitaille](https://github.com/astrofrog)\n",
    "\n",
    "The extensible feature makes it easy to collaborate. And the [`astropy-tutorial`](https://github.com/astropy/astropy-tutorials) Isn't the organizaton awesome?"
   ]
  },
  {
   "cell_type": "code",
   "execution_count": null,
   "metadata": {},
   "outputs": [],
   "source": []
  }
 ],
 "metadata": {
  "kernelspec": {
   "display_name": "Python 3",
   "language": "python",
   "name": "python3"
  },
  "language_info": {
   "codemirror_mode": {
    "name": "ipython",
    "version": 3
   },
   "file_extension": ".py",
   "mimetype": "text/x-python",
   "name": "python",
   "nbconvert_exporter": "python",
   "pygments_lexer": "ipython3",
   "version": "3.5.3"
  },
  "latex_envs": {
   "LaTeX_envs_menu_present": true,
   "autocomplete": true,
   "bibliofile": "biblio.bib",
   "cite_by": "apalike",
   "current_citInitial": 1,
   "eqLabelWithNumbers": true,
   "eqNumInitial": 1,
   "hotkeys": {
    "equation": "Ctrl-E",
    "itemize": "Ctrl-I"
   },
   "labels_anchors": false,
   "latex_user_defs": false,
   "report_style_numbering": false,
   "user_envs_cfg": false
  }
 },
 "nbformat": 4,
 "nbformat_minor": 2
}
