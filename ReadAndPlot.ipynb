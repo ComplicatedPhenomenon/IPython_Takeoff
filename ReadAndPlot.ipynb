{
 "cells": [
  {
   "cell_type": "markdown",
   "metadata": {
    "deletable": true,
    "editable": true
   },
   "source": [
    "### Write the output data into the file then make it as input to plot"
   ]
  },
  {
   "cell_type": "code",
   "execution_count": null,
   "metadata": {
    "collapsed": true,
    "deletable": true,
    "editable": true
   },
   "outputs": [],
   "source": [
    "open??"
   ]
  },
  {
   "cell_type": "code",
   "execution_count": null,
   "metadata": {
    "collapsed": true,
    "deletable": true,
    "editable": true
   },
   "outputs": [],
   "source": [
    "import math"
   ]
  },
  {
   "cell_type": "code",
   "execution_count": null,
<<<<<<< HEAD
   "metadata": {
    "collapsed": false,
    "deletable": true,
    "editable": true
   },
=======
   "metadata": {},
>>>>>>> 8ccdd320a944a181b759aa4f158c796288ce4d43
   "outputs": [],
   "source": [
    "dir(math)"
   ]
  },
  {
   "cell_type": "code",
   "execution_count": null,
<<<<<<< HEAD
   "metadata": {
    "collapsed": false,
    "deletable": true,
    "editable": true
   },
=======
   "metadata": {},
>>>>>>> 8ccdd320a944a181b759aa4f158c796288ce4d43
   "outputs": [],
   "source": [
    "print math.gamma(4)"
   ]
  },
  {
   "cell_type": "code",
   "execution_count": null,
   "metadata": {
    "collapsed": true,
    "deletable": true,
    "editable": true
   },
   "outputs": [],
   "source": [
    "datafile = open('data.dat','w+')#Open for reading and writing.\n",
    "def nextSquare():\n",
    "    i = 1\n",
    "    while True:\n",
    "        yield math.gamma(i)\n",
    "        i += 1  \n",
    "for num in nextSquare():\n",
    "    if num > 1000:\n",
    "        break\n",
    "    datafile.write(str(num)) \n",
    "    datafile.write('\\n')\n",
    "datafile.close()"
   ]
  },
  {
   "cell_type": "code",
   "execution_count": null,
<<<<<<< HEAD
   "metadata": {
    "collapsed": false,
    "deletable": true,
    "editable": true
   },
=======
   "metadata": {},
>>>>>>> 8ccdd320a944a181b759aa4f158c796288ce4d43
   "outputs": [],
   "source": [
    "%cat data.dat"
   ]
  },
  {
   "cell_type": "code",
   "execution_count": null,
   "metadata": {
    "collapsed": true,
    "deletable": true,
    "editable": true
   },
   "outputs": [],
   "source": [
    "%matplotlib inline\n",
    "import matplotlib.pyplot as plt"
   ]
  },
  {
   "cell_type": "code",
   "execution_count": null,
<<<<<<< HEAD
   "metadata": {
    "collapsed": false,
    "deletable": true,
    "editable": true
   },
=======
   "metadata": {},
>>>>>>> 8ccdd320a944a181b759aa4f158c796288ce4d43
   "outputs": [],
   "source": [
    "data=open('data.dat','r')\n",
    "content=data.readlines()\n",
    "print content"
   ]
  },
  {
   "cell_type": "markdown",
   "metadata": {
    "deletable": true,
    "editable": true
   },
   "source": [
    "### [Using numpy  loadtxt](http://docs.scipy.org/doc/numpy/reference/generated/numpy.loadtxt.html)"
   ]
  },
  {
   "cell_type": "code",
   "execution_count": null,
   "metadata": {
    "collapsed": true,
    "deletable": true,
    "editable": true
   },
   "outputs": [],
   "source": [
    "import numpy as np"
   ]
  },
  {
   "cell_type": "code",
   "execution_count": null,
<<<<<<< HEAD
   "metadata": {
    "collapsed": false,
    "deletable": true,
    "editable": true
   },
=======
   "metadata": {},
>>>>>>> 8ccdd320a944a181b759aa4f158c796288ce4d43
   "outputs": [],
   "source": [
    "np.loadtxt('data.dat')"
   ]
  }
 ],
 "metadata": {
  "kernelspec": {
   "display_name": "Python 3",
   "language": "python",
   "name": "python3"
  },
  "language_info": {
   "codemirror_mode": {
    "name": "ipython",
    "version": 3
   },
   "file_extension": ".py",
   "mimetype": "text/x-python",
   "name": "python",
   "nbconvert_exporter": "python",
   "pygments_lexer": "ipython3",
   "version": "3.5.2"
  }
 },
 "nbformat": 4,
 "nbformat_minor": 2
}
