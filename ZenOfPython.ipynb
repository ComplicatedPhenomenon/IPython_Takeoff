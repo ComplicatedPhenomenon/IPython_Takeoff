{
 "cells": [
  {
   "cell_type": "markdown",
   "metadata": {},
   "source": [
    "## Zen of Python\n",
    "### Explicit is better than implicit\n",
    "### Errors should never pass silently\n",
    "### ..."
   ]
  },
  {
   "cell_type": "markdown",
   "metadata": {},
   "source": [
    "[A real problem](https://stackoverflow.com/questions/46760847/check-if-a-string-is-all-unique-chars-except-for-spaces). \n",
    "\n",
    "Okay, If I only leave you with this nonsonse that you have to figure out what it is, It will drive you crazy, since it is piece of crap, poorly organized, with no description. \n",
    "\n",
    "What actually I want to say is I trace out a way for other newbies to follow.\n",
    "\n",
    "Oh, it is a hands-on code snippet given by a good programmer. \n",
    "\n",
    "**How can you tell that whether a string consists of different characters?**"
   ]
  },
  {
   "cell_type": "code",
   "execution_count": 3,
   "metadata": {},
   "outputs": [
    {
     "name": "stdout",
     "output_type": "stream",
     "text": [
      "True\n"
     ]
    },
    {
     "data": {
      "text/plain": [
       "False"
      ]
     },
     "execution_count": 3,
     "metadata": {},
     "output_type": "execute_result"
    }
   ],
   "source": [
    "import re\n",
    "def isunique(string):\n",
    "    pattern=r'\\w'\n",
    "    search=re.findall(pattern,string)\n",
    "    string=search\n",
    "    x = []\n",
    "    for i in string:\n",
    "        if i in x:\n",
    "            return False\n",
    "        else:\n",
    "            x.append(i)\n",
    "    return True\n",
    "print(isunique('I am J'))\n",
    "isunique('aaa')"
   ]
  },
  {
   "cell_type": "markdown",
   "metadata": {},
   "source": [
    "---\n",
    "## The F2PY project is created to unify the efforts of supporting easy connection between Fortran and Python languages.\n",
    "## [ctypes](https://docs.python.org/2/library/ctypes.html)\n",
    "\n"
   ]
  },
  {
   "cell_type": "code",
   "execution_count": null,
   "metadata": {},
   "outputs": [],
   "source": []
  }
 ],
 "metadata": {
  "kernelspec": {
   "display_name": "Python 3",
   "language": "python",
   "name": "python3"
  },
  "language_info": {
   "codemirror_mode": {
    "name": "ipython",
    "version": 3
   },
   "file_extension": ".py",
   "mimetype": "text/x-python",
   "name": "python",
   "nbconvert_exporter": "python",
   "pygments_lexer": "ipython3",
   "version": "3.5.3"
  },
  "latex_envs": {
   "LaTeX_envs_menu_present": true,
   "autocomplete": true,
   "bibliofile": "biblio.bib",
   "cite_by": "apalike",
   "current_citInitial": 1,
   "eqLabelWithNumbers": true,
   "eqNumInitial": 1,
   "hotkeys": {
    "equation": "Ctrl-E",
    "itemize": "Ctrl-I"
   },
   "labels_anchors": false,
   "latex_user_defs": false,
   "report_style_numbering": false,
   "user_envs_cfg": false
  }
 },
 "nbformat": 4,
 "nbformat_minor": 2
}
