{
 "cells": [
  {
   "cell_type": "code",
   "execution_count": 1,
   "metadata": {
    "collapsed": true
   },
   "outputs": [],
   "source": [
    "%matplotlib inline"
   ]
  },
  {
   "cell_type": "code",
   "execution_count": 2,
   "metadata": {},
   "outputs": [
    {
     "name": "stdout",
     "output_type": "stream",
     "text": [
      "exercise_1.ipynb\t  Lecture-python_intro.ipynb\r\n",
      "extra\t\t\t  Lecture-shell.ipynb\r\n",
      "hello-world-in-german.py  Lecture-version_control.ipynb\r\n",
      "img\t\t\t  Lecture-widgets.ipynb\r\n",
      "Lecture-astronomy.ipynb   LICENSE\r\n",
      "Lecture-notebook.ipynb\t  Project-requirements.ipynb\r\n",
      "Lecture-numpy.ipynb\t  README.md\r\n",
      "Lecture-packaging.ipynb   stockholm_td_adj.dat.bz2\r\n",
      "Lecture-plotting.ipynb\t  Untitled.ipynb\r\n"
     ]
    }
   ],
   "source": [
    "!ls"
   ]
  },
  {
   "cell_type": "code",
   "execution_count": null,
   "metadata": {
    "collapsed": true
   },
   "outputs": [],
   "source": [
    "?"
   ]
  },
  {
   "cell_type": "markdown",
   "metadata": {},
   "source": [
    "**Tips**    press `Esc` then enter `SH` then shortcut list appears"
   ]
  },
  {
   "cell_type": "code",
   "execution_count": 33,
   "metadata": {},
   "outputs": [],
   "source": [
    "import matplotlib.pyplot as plt\n",
    "import numpy as np"
   ]
  },
  {
   "cell_type": "markdown",
   "metadata": {},
   "source": [
    "Since we our do not have *SymPy*, we can't do **symbolic mathematics** this far. As example code shows, before use the variable give value to it first"
   ]
  },
  {
   "cell_type": "code",
   "execution_count": 34,
   "metadata": {},
   "outputs": [
    {
     "data": {
      "image/png": "[encoded data removed]",
      "text/plain": [
       "<matplotlib.figure.Figure at 0x7ff504bc82d0>"
      ]
     },
     "metadata": {},
     "output_type": "display_data"
    }
   ],
   "source": [
    "x = np.arange(0,1,0.1)\n",
    "ply.plot(x, x**2)\n",
    "ply.show()"
   ]
  },
  {
   "cell_type": "code",
   "execution_count": 35,
   "metadata": {},
   "outputs": [
    {
     "name": "stdout",
     "output_type": "stream",
     "text": [
      "[ 0.   0.1  0.2  0.3  0.4  0.5  0.6  0.7  0.8  0.9]\n"
     ]
    }
   ],
   "source": [
    "print np.arange(0,1,0.1)"
   ]
  },
  {
   "cell_type": "code",
   "execution_count": 36,
   "metadata": {},
   "outputs": [
    {
     "name": "stdout",
     "output_type": "stream",
     "text": [
      "Help on built-in function arange in module numpy.core.multiarray:\n",
      "\n",
      "arange(...)\n",
      "    arange([start,] stop[, step,], dtype=None)\n",
      "    \n",
      "    Return evenly spaced values within a given interval.\n",
      "    \n",
      "    Values are generated within the half-open interval ``[start, stop)``\n",
      "    (in other words, the interval including `start` but excluding `stop`).\n",
      "    For integer arguments the function is equivalent to the Python built-in\n",
      "    `range <http://docs.python.org/lib/built-in-funcs.html>`_ function,\n",
      "    but returns an ndarray rather than a list.\n",
      "    \n",
      "    When using a non-integer step, such as 0.1, the results will often not\n",
      "    be consistent.  It is better to use ``linspace`` for these cases.\n",
      "    \n",
      "    Parameters\n",
      "    ----------\n",
      "    start : number, optional\n",
      "        Start of interval.  The interval includes this value.  The default\n",
      "        start value is 0.\n",
      "    stop : number\n",
      "        End of interval.  The interval does not include this value, except\n",
      "        in some cases where `step` is not an integer and floating point\n",
      "        round-off affects the length of `out`.\n",
      "    step : number, optional\n",
      "        Spacing between values.  For any output `out`, this is the distance\n",
      "        between two adjacent values, ``out[i+1] - out[i]``.  The default\n",
      "        step size is 1.  If `step` is specified, `start` must also be given.\n",
      "    dtype : dtype\n",
      "        The type of the output array.  If `dtype` is not given, infer the data\n",
      "        type from the other input arguments.\n",
      "    \n",
      "    Returns\n",
      "    -------\n",
      "    arange : ndarray\n",
      "        Array of evenly spaced values.\n",
      "    \n",
      "        For floating point arguments, the length of the result is\n",
      "        ``ceil((stop - start)/step)``.  Because of floating point overflow,\n",
      "        this rule may result in the last element of `out` being greater\n",
      "        than `stop`.\n",
      "    \n",
      "    See Also\n",
      "    --------\n",
      "    linspace : Evenly spaced numbers with careful handling of endpoints.\n",
      "    ogrid: Arrays of evenly spaced numbers in N-dimensions.\n",
      "    mgrid: Grid-shaped arrays of evenly spaced numbers in N-dimensions.\n",
      "    \n",
      "    Examples\n",
      "    --------\n",
      "    >>> np.arange(3)\n",
      "    array([0, 1, 2])\n",
      "    >>> np.arange(3.0)\n",
      "    array([ 0.,  1.,  2.])\n",
      "    >>> np.arange(3,7)\n",
      "    array([3, 4, 5, 6])\n",
      "    >>> np.arange(3,7,2)\n",
      "    array([3, 5])\n",
      "\n"
     ]
    }
   ],
   "source": [
    "help(np.arange)"
   ]
  },
  {
   "cell_type": "code",
   "execution_count": 40,
   "metadata": {},
   "outputs": [
    {
     "data": {
      "image/png": "[encoded data removed]",
      "text/plain": [
       "<matplotlib.figure.Figure at 0x7ff50492b050>"
      ]
     },
     "metadata": {},
     "output_type": "display_data"
    }
   ],
   "source": [
    "x = np.arange(0,1,0.1)\n",
    "plt.plot(x, x**2,linestyle=':')\n",
    "plt.show()"
   ]
  },
  {
   "cell_type": "code",
   "execution_count": 42,
   "metadata": {},
   "outputs": [
    {
     "data": {
      "image/png": "[encoded data removed]",
      "text/plain": [
       "<matplotlib.figure.Figure at 0x7ff5047b3a50>"
      ]
     },
     "metadata": {},
     "output_type": "display_data"
    }
   ],
   "source": [
    "x = np.arange(0,1,0.1)\n",
    "plt.plot(x, x**2,linewidth = 2,linestyle=':',color=\"#FFDD44\",marker='*')\n",
    "plt.show()"
   ]
  },
  {
   "cell_type": "code",
   "execution_count": 27,
   "metadata": {},
   "outputs": [],
   "source": [
    "from random import *"
   ]
  },
  {
   "cell_type": "code",
   "execution_count": 29,
   "metadata": {},
   "outputs": [
    {
     "data": {
      "text/plain": [
       "0.35959911234014097"
      ]
     },
     "execution_count": 29,
     "metadata": {},
     "output_type": "execute_result"
    }
   ],
   "source": [
    "random()"
   ]
  },
  {
   "cell_type": "code",
   "execution_count": 31,
   "metadata": {},
   "outputs": [
    {
     "data": {
      "text/plain": [
       "1.6413441402108908"
      ]
     },
     "execution_count": 31,
     "metadata": {},
     "output_type": "execute_result"
    }
   ],
   "source": [
    "gauss(3,4)"
   ]
  },
  {
   "cell_type": "code",
   "execution_count": 67,
   "metadata": {},
   "outputs": [
    {
     "data": {
      "image/png": "[encoded data removed]",
      "text/plain": [
       "<matplotlib.figure.Figure at 0x7ff504904210>"
      ]
     },
     "metadata": {},
     "output_type": "display_data"
    }
   ],
   "source": [
    "x = np.arange(0,1,0.1)\n",
    "plt.errorbar(x, x**2,linewidth = 2,linestyle=':',color=\"#FFDD44\",marker='*',yerr=random() )\n",
    "plt.show()"
   ]
  },
  {
   "cell_type": "code",
   "execution_count": 53,
   "metadata": {},
   "outputs": [
    {
     "name": "stdout",
     "output_type": "stream",
     "text": [
      "Help on function errorbar in module matplotlib.pyplot:\n",
      "\n",
      "errorbar(x, y, yerr=None, xerr=None, fmt=u'', ecolor=None, elinewidth=None, capsize=None, barsabove=False, lolims=False, uplims=False, xlolims=False, xuplims=False, errorevery=1, capthick=None, hold=None, data=None, **kwargs)\n",
      "    Plot an errorbar graph.\n",
      "    \n",
      "    Plot x versus y with error deltas in yerr and xerr.\n",
      "    Vertical errorbars are plotted if yerr is not None.\n",
      "    Horizontal errorbars are plotted if xerr is not None.\n",
      "    \n",
      "    x, y, xerr, and yerr can all be scalars, which plots a\n",
      "    single error bar at x, y.\n",
      "    \n",
      "    Parameters\n",
      "    ----------\n",
      "    x : scalar or array-like\n",
      "    y : scalar or array-like\n",
      "    \n",
      "    xerr/yerr : scalar or array-like, shape(N,) or shape(2,N), optional\n",
      "        If a scalar number, len(N) array-like object, or a N-element\n",
      "        array-like object, errorbars are drawn at +/-value relative\n",
      "        to the data. Default is None.\n",
      "    \n",
      "        If a sequence of shape 2xN, errorbars are drawn at -row1\n",
      "        and +row2 relative to the data.\n",
      "    \n",
      "    fmt : plot format string, optional, default: None\n",
      "        The plot format symbol. If fmt is 'none' (case-insensitive),\n",
      "        only the errorbars are plotted.  This is used for adding\n",
      "        errorbars to a bar plot, for example.  Default is '',\n",
      "        an empty plot format string; properties are\n",
      "        then identical to the defaults for :meth:`plot`.\n",
      "    \n",
      "    ecolor : mpl color, optional, default: None\n",
      "        A matplotlib color arg which gives the color the errorbar lines;\n",
      "        if None, use the color of the line connecting the markers.\n",
      "    \n",
      "    elinewidth : scalar, optional, default: None\n",
      "        The linewidth of the errorbar lines. If None, use the linewidth.\n",
      "    \n",
      "    capsize : scalar, optional, default: None\n",
      "        The length of the error bar caps in points; if None, it will\n",
      "        take the value from ``errorbar.capsize``\n",
      "        :data:`rcParam<matplotlib.rcParams>`.\n",
      "    \n",
      "    capthick : scalar, optional, default: None\n",
      "        An alias kwarg to markeredgewidth (a.k.a. - mew). This\n",
      "        setting is a more sensible name for the property that\n",
      "        controls the thickness of the error bar cap in points. For\n",
      "        backwards compatibility, if mew or markeredgewidth are given,\n",
      "        then they will over-ride capthick. This may change in future\n",
      "        releases.\n",
      "    \n",
      "    barsabove : bool, optional, default: False\n",
      "        if True , will plot the errorbars above the plot\n",
      "        symbols. Default is below.\n",
      "    \n",
      "    lolims / uplims / xlolims / xuplims : bool, optional, default:None\n",
      "        These arguments can be used to indicate that a value gives\n",
      "        only upper/lower limits. In that case a caret symbol is\n",
      "        used to indicate this. lims-arguments may be of the same\n",
      "        type as *xerr* and *yerr*.  To use limits with inverted\n",
      "        axes, :meth:`set_xlim` or :meth:`set_ylim` must be called\n",
      "        before :meth:`errorbar`.\n",
      "    \n",
      "    errorevery : positive integer, optional, default:1\n",
      "        subsamples the errorbars. e.g., if errorevery=5, errorbars for\n",
      "        every 5-th datapoint will be plotted. The data plot itself still\n",
      "        shows all data points.\n",
      "    \n",
      "    Returns\n",
      "    -------\n",
      "    plotline : :class:`~matplotlib.lines.Line2D` instance\n",
      "        x, y plot markers and/or line\n",
      "    caplines : list of :class:`~matplotlib.lines.Line2D` instances\n",
      "        error bar cap\n",
      "    barlinecols : list of :class:`~matplotlib.collections.LineCollection`\n",
      "        horizontal and vertical error ranges.\n",
      "    \n",
      "    Other Parameters\n",
      "    ----------------\n",
      "    kwargs : All other keyword arguments are passed on to the plot\n",
      "        command for the markers. For example, this code makes big red\n",
      "        squares with thick green edges::\n",
      "    \n",
      "            x,y,yerr = rand(3,10)\n",
      "            errorbar(x, y, yerr, marker='s', mfc='red',\n",
      "                     mec='green', ms=20, mew=4)\n",
      "    \n",
      "        where mfc, mec, ms and mew are aliases for the longer\n",
      "        property names, markerfacecolor, markeredgecolor, markersize\n",
      "        and markeredgewidth.\n",
      "    \n",
      "        valid kwargs for the marker properties are\n",
      "    \n",
      "          agg_filter: unknown\n",
      "      alpha: float (0.0 transparent through 1.0 opaque) \n",
      "      animated: [True | False] \n",
      "      antialiased or aa: [True | False] \n",
      "      axes: an :class:`~matplotlib.axes.Axes` instance \n",
      "      clip_box: a :class:`matplotlib.transforms.Bbox` instance \n",
      "      clip_on: [True | False] \n",
      "      clip_path: [ (:class:`~matplotlib.path.Path`, :class:`~matplotlib.transforms.Transform`) | :class:`~matplotlib.patches.Patch` | None ] \n",
      "      color or c: any matplotlib color \n",
      "      contains: a callable function \n",
      "      dash_capstyle: ['butt' | 'round' | 'projecting'] \n",
      "      dash_joinstyle: ['miter' | 'round' | 'bevel'] \n",
      "      dashes: sequence of on/off ink in points \n",
      "      drawstyle: ['default' | 'steps' | 'steps-pre' | 'steps-mid' | 'steps-post'] \n",
      "      figure: a :class:`matplotlib.figure.Figure` instance \n",
      "      fillstyle: ['full' | 'left' | 'right' | 'bottom' | 'top' | 'none'] \n",
      "      gid: an id string \n",
      "      label: string or anything printable with '%s' conversion. \n",
      "      linestyle or ls: ['solid' | 'dashed', 'dashdot', 'dotted' | (offset, on-off-dash-seq) | ``'-'`` | ``'--'`` | ``'-.'`` | ``':'`` | ``'None'`` | ``' '`` | ``''``]\n",
      "      linewidth or lw: float value in points \n",
      "      marker: :mod:`A valid marker style <matplotlib.markers>`\n",
      "      markeredgecolor or mec: any matplotlib color \n",
      "      markeredgewidth or mew: float value in points \n",
      "      markerfacecolor or mfc: any matplotlib color \n",
      "      markerfacecoloralt or mfcalt: any matplotlib color \n",
      "      markersize or ms: float \n",
      "      markevery: [None | int | length-2 tuple of int | slice | list/array of int | float | length-2 tuple of float]\n",
      "      path_effects: unknown\n",
      "      picker: float distance in points or callable pick function ``fn(artist, event)`` \n",
      "      pickradius: float distance in points \n",
      "      rasterized: [True | False | None] \n",
      "      sketch_params: unknown\n",
      "      snap: unknown\n",
      "      solid_capstyle: ['butt' | 'round' |  'projecting'] \n",
      "      solid_joinstyle: ['miter' | 'round' | 'bevel'] \n",
      "      transform: a :class:`matplotlib.transforms.Transform` instance \n",
      "      url: a url string \n",
      "      visible: [True | False] \n",
      "      xdata: 1D array \n",
      "      ydata: 1D array \n",
      "      zorder: any number \n",
      "    \n",
      "    Examples\n",
      "    --------\n",
      "    .. plot:: mpl_examples/statistics/errorbar_demo.py\n",
      "    \n",
      "    .. note::\n",
      "        In addition to the above described arguments, this function can take a\n",
      "        **data** keyword argument. If such a **data** argument is given, the\n",
      "        following arguments are replaced by **data[<arg>]**:\n",
      "    \n",
      "        * All arguments with the following names: 'x', 'xerr', 'y', 'yerr'.\n",
      "\n"
     ]
    }
   ],
   "source": [
    "help(plt.errorbar)"
   ]
  },
  {
   "cell_type": "code",
   "execution_count": 75,
   "metadata": {},
   "outputs": [
    {
     "data": {
      "image/png": "[encoded data removed]",
      "text/plain": [
       "<matplotlib.figure.Figure at 0x7ff50513b390>"
      ]
     },
     "metadata": {},
     "output_type": "display_data"
    }
   ],
   "source": [
    "x = np.arange(0,1,0.1)\n",
    "plt.errorbar(x, x**2,linewidth = 2,linestyle=':',color=\"#FFDD44\",marker='$\\epsilon$',yerr=random(),fmt=u'o' )\n",
    "plt.show()"
   ]
  },
  {
   "cell_type": "code",
   "execution_count": 77,
   "metadata": {},
   "outputs": [
    {
     "data": {
      "text/plain": [
       "<matplotlib.figure.Figure at 0x7ff50513bb10>"
      ]
     },
     "metadata": {},
     "output_type": "display_data"
    }
   ],
   "source": [
    "plt.clf()"
   ]
  },
  {
   "cell_type": "code",
   "execution_count": 83,
   "metadata": {},
   "outputs": [
    {
     "data": {
      "image/png": "[encoded data removed]",
      "text/plain": [
       "<matplotlib.figure.Figure at 0x7ff504c77290>"
      ]
     },
     "metadata": {},
     "output_type": "display_data"
    }
   ],
   "source": [
    "x = np.arange(0,1,0.1)\n",
    "y = x**2\n",
    "fig = plt.figure()\n",
    "\n",
    "axes = fig.add_axes([0.1, 0.1, 0.8, 0.8]) # left, bottom, width, height (range 0 to 1)\n",
    "\n",
    "axes.plot(x, y, 'r')\n",
    "\n",
    "axes.set_xlabel('x')\n",
    "axes.set_ylabel('y')\n",
    "axes.set_title('title');\n"
   ]
  },
  {
   "cell_type": "code",
   "execution_count": 84,
   "metadata": {},
   "outputs": [
    {
     "data": {
      "image/png": "[encoded data removed]",
      "text/plain": [
       "<matplotlib.figure.Figure at 0x7ff5049c83d0>"
      ]
     },
     "metadata": {},
     "output_type": "display_data"
    }
   ],
   "source": [
    "fig = plt.figure()\n",
    "\n",
    "axes1 = fig.add_axes([0.1, 0.1, 0.8, 0.8]) # main axes\n",
    "axes2 = fig.add_axes([0.2, 0.5, 0.4, 0.3]) # inset axes\n",
    "\n",
    "# main figure\n",
    "axes1.plot(x, y, 'r')\n",
    "axes1.set_xlabel('x')\n",
    "axes1.set_ylabel('y')\n",
    "axes1.set_title('title')\n",
    "\n",
    "# insert\n",
    "axes2.plot(y, x, 'g')\n",
    "axes2.set_xlabel('y')\n",
    "axes2.set_ylabel('x')\n",
    "axes2.set_title('insert title');"
   ]
  },
  {
   "cell_type": "code",
   "execution_count": null,
   "metadata": {
    "collapsed": true
   },
   "outputs": [],
   "source": []
  }
 ],
 "metadata": {
  "kernelspec": {
   "display_name": "Python 2",
   "language": "python",
   "name": "python2"
  },
  "language_info": {
   "codemirror_mode": {
    "name": "ipython",
    "version": 2
   },
   "file_extension": ".py",
   "mimetype": "text/x-python",
   "name": "python",
   "nbconvert_exporter": "python",
   "pygments_lexer": "ipython2",
   "version": "2.7.12"
  }
 },
 "nbformat": 4,
 "nbformat_minor": 2
}
