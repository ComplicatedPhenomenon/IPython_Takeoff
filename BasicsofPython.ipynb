{
 "cells": [
  {
   "cell_type": "code",
   "execution_count": null,
   "metadata": {},
   "outputs": [],
   "source": [
    "# Just to know last time this was run:\n",
    "import time\n",
    "print (time.ctime())"
   ]
  },
  {
   "cell_type": "markdown",
   "metadata": {},
   "source": [
    "### Basic Python introduction"
   ]
  },
  {
   "cell_type": "markdown",
   "metadata": {},
   "source": [
    "Tricks\n",
    "\n",
    "From Quora\n",
    "> Start at a level you understand, and gradually increase the complexity of the problems you are solving and the systems you are building.\n",
    "\n",
    "> Don't let yourself distracted by all the vanity. If you get shit done and can find someone who will pay you for it, you're at the best level of programming as far as I'm concerning.\n",
    "\n",
    "**The concepts become more abstract,with architecture more complex, programming makes good efficiency and contain more deep condense intelligence, meanwhile, leaving a long way for newbies, it is far away from experience-thinking **\n",
    "\n",
    "#### Basic operations on Tuple, List, Dictionary"
   ]
  },
  {
   "cell_type": "markdown",
   "metadata": {},
   "source": [
    "### Read from a `txt` file"
   ]
  },
  {
   "cell_type": "code",
   "execution_count": null,
   "metadata": {},
   "outputs": [],
   "source": [
    "open?\n",
    "AS = open('Aaron_Swartz.txt')\n",
    "type(AS)\n",
    "AS.readlines()"
   ]
  },
  {
   "cell_type": "code",
   "execution_count": null,
   "metadata": {},
   "outputs": [],
   "source": [
    "def break_words(stuff):\n",
    "    \"\"\"This function will break up words for us.\"\"\"\n",
    "    words=stuff.split(' ')\n",
    "    return words\n",
    "print break_words('Too late to apologize')\n",
    "def sort_words(words):\n",
    "    \"\"\"sorts the words.\"\"\"\n",
    "    return sorted (words)\n",
    "print sort_words('wm')"
   ]
  },
  {
   "cell_type": "markdown",
   "metadata": {},
   "source": [
    "###  Dynamically-typed language and Statically-typed language\n",
    "\n",
    "Statically-typed language require variables to be explicitly declared, a Dynamically-typed language like Python skips this specification."
   ]
  },
  {
   "cell_type": "code",
   "execution_count": null,
   "metadata": {},
   "outputs": [],
   "source": [
    "x = []\n",
    "y = x\n",
    "y.append('wm')\n",
    "print (x)"
   ]
  },
  {
   "cell_type": "markdown",
   "metadata": {},
   "source": [
    "Think!"
   ]
  },
  {
   "cell_type": "code",
   "execution_count": null,
   "metadata": {},
   "outputs": [],
   "source": [
    "# create a mapping of states to abbreviation\n",
    "states={\n",
    "    'Oregon':'OR',\n",
    "    'Florida':'FL',\n",
    "    'California':'CA',\n",
    "    'New York':'NY',\n",
    "    'Michigan':'MI'\n",
    "}\n",
    "\n",
    "# creat a basic set of states and some cities in them\n",
    "cities={\n",
    "    'CA':'San Francisco',\n",
    "    'MI':'Detroit',\n",
    "    'FL':'Jacksonville'\n",
    "}\n",
    "\n",
    "print cities[states['Florida']]\n",
    "print states.get('Nee Jersy')"
   ]
  },
  {
   "cell_type": "code",
   "execution_count": null,
   "metadata": {},
   "outputs": [],
   "source": [
    "print states.get('A')"
   ]
  },
  {
   "cell_type": "code",
   "execution_count": null,
   "metadata": {},
   "outputs": [],
   "source": [
    "dict.get?"
   ]
  },
  {
   "cell_type": "code",
   "execution_count": null,
   "metadata": {},
   "outputs": [],
   "source": [
    "dict.copy?\n",
    "print dict.copy(cities)\n",
    "dict.viewvalues(states)"
   ]
  },
  {
   "cell_type": "code",
   "execution_count": null,
   "metadata": {},
   "outputs": [],
   "source": [
    "class song(object):\n",
    "    \n",
    "    def __init__(self,lyrics):\n",
    "        self.lyrics = lyrics\n",
    "    def sing_me_a_song(self):  \n",
    "        for line in self.lyrics:\n",
    "            print line\n",
    "\n",
    "happy_bday = song([\"Happy birthday to you\",\n",
    "                   \"I don't want to get sued\",\n",
    "                   \"So I will stop there\"])\n",
    "bulls_on_prade = song([\"They rally around the family\",\n",
    "                       \"With pockets full of shells\"])\n",
    "\n",
    "happy_bday.sing_me_a_song()\n",
    "bulls_on_prade.sing_me_a_song()\n",
    "print \"In python programming, I don't need to consider indent with the whole code, unlike FORTRAN\"\n",
    "print \"\"\"The statement above is wrong,\n",
    "because from Fortran90 and later on, \n",
    "no indent needed any more.\n",
    "\"\"\"\n",
    "print \"The language seems incredibly natural, I print the words just with a print, no need to say printf or add control formatter \" "
   ]
  },
  {
   "cell_type": "code",
   "execution_count": null,
   "metadata": {},
   "outputs": [],
   "source": [
    "from sys import exit\n",
    "\n",
    "def gold_room():\n",
    "    print \"This room is full of gold .how much do you take?\"\n",
    " \n",
    "    next = raw_input ('>')\n",
    "    if \"0\" in next or \"1\" in next :\n",
    "        how_much = int (next)\n",
    "\n",
    "    else:\n",
    "        dead(\"man ,learn to type a number.\")\n",
    "\n",
    "    if how_much < 50:\n",
    "       print\"Nice ,you're not greedy, you win!\"\n",
    "       exit(0)\n",
    "    else:\n",
    "       dead(\"You greedy bastard!\")\n",
    "\n",
    "def bear_room():\n",
    "    print \"There is a bear here.\"\n",
    "    print \"The bear has a bunch of honey.\"\n",
    "    print \"The fat bear is in front of another door.\"\n",
    "    print \"how are you going to move the bear?\"\n",
    "    bear_moved = False\n",
    "    \n",
    "    while True:\n",
    "       next = raw_input (\">\")\n",
    "    \n",
    "       if next == \"take honey\":\n",
    "           dead(\"The bear looks at you then slaps your face off.\")\n",
    "       elif next == \"taunt bear\" and not bear_moved:\n",
    "           print \"The bear has moved from the door.You go through it now.\"\n",
    "           bear_moved = True\n",
    "       elif next == \"taunt bear\" and bear_moved:\n",
    "            dead(\"The bear gets pissed off and chews your leg off.\")\n",
    "       elif next == \"open door\" and bear_moved:\n",
    "            gold_room()\n",
    "       else:\n",
    "           print \"I got no idea what that means.\"\n",
    "\n",
    "def cthulhu_room():\n",
    "    print \"Here you see the great evil Cthulhu.\"\n",
    "    print \"He, it, whatever stares at you and you go insane.\"\n",
    "    print \"Do you flee for your life or eat your head?\"\n",
    "    next = raw_input(\">\")\n",
    "\n",
    "    if \"flee\" in next:\n",
    "        start()\n",
    "    elif \"head\" in next:\n",
    "        dead(\"Well that was tasty!\")\n",
    "    else:\n",
    "        chulhu_room()\n",
    "def dead(why):\n",
    "    print why, \"Good job!\"\n",
    "    exit(0)\n",
    "\n",
    "def start():\n",
    "    print \"You are in a dark room.\"\n",
    "    print \"There is a door to your right and left\"\n",
    "    print \"Which one do you take\"\n",
    "\n",
    "    next = raw_input(\">\")\n",
    "\n",
    "    if next == \"left\":\n",
    "        bear_room()\n",
    "    elif next == \"right\":\n",
    "        cthulhu_room()\n",
    "    else:\n",
    "        dead(\"You stumble around the room until you starve.\")\n",
    "start()\n"
   ]
  },
  {
   "cell_type": "code",
   "execution_count": null,
   "metadata": {},
   "outputs": [],
   "source": [
    "import random\n",
    "from urllib import urlopen\n",
    "import sys\n",
    "WORD_URL = \"http://learncodethehardway.org/words.txt\"\n",
    "WORDS = []\n",
    "\n",
    "PHRASES = {\n",
    "\"class ###(###):\":\n",
    "\"Make a class named ### that is-a ###.\",\n",
    "\"class ###(object):\\n\\tdef __init__(self, ***)\" :\n",
    "\"class ### has-a __init__ that takes self and *** parameters.\",\n",
    "\"class ###(object):\\n\\tdef ***(self, @@@)\":\n",
    "\"class ### has-a function named *** that takes self and @@@ parameters.\",\n",
    "\"*** = ###()\":\n",
    "\"Set *** to an instance of class ###.\",\n",
    "\"***.***(@@@)\":\n",
    "\"From *** get the *** function, and call it with parameters self, @@@.\",\n",
    "\"***.*** = '***'\":\n",
    "\"From *** get the *** attribute and set it to '***'.\"\n",
    "}\n",
    "# do they want to drill phrases first\n",
    "PHRASE_FIRST = False\n",
    "if len(sys.argv) == 2 and sys.argv[1] == \"english\":\n",
    "    PHRASE_FIRST = True\n",
    "# load up the words from the website\n",
    "for word in urlopen(WORD_URL).readlines():\n",
    "    WORDS.append(word.strip())\n",
    "def convert(snippet, phrase):\n",
    "    class_names = [w.capitalize() for w in\n",
    "    random.sample(WORDS, snippet.count(\"###\"))]\n",
    "    other_names = random.sample(WORDS, snippet.count(\"***\"))\n",
    "    results = []\n",
    "    param_names = []\n",
    "\n",
    "    for sentence in snippet, phrase:\n",
    "        result = sentence[:]\n",
    "# fake class names\n",
    "    for word in class_names:\n",
    "        result = result.replace(\"###\", word, 1)\n",
    "# fake other names\n",
    "    for word in other_names:\n",
    "        result = result.replace(\"***\", word, 1)\n",
    "# fake parameter lists\n",
    "    for word in param_names:\n",
    "        result = result.replace(\"@@@\", word, 1)\n",
    "        results.append(result)\n",
    "    return results\n",
    "# keep going until they hit CTRL-D\n",
    "try:\n",
    "    while True:\n",
    "        snippets = PHRASES.keys()\n",
    "        random.shuffle(snippets)\n",
    "    for snippet in snippets:\n",
    "        phrase = PHRASES[snippet]\n",
    "        question, answer = convert(snippet, phrase)\n",
    "\n",
    "    if PHRASE_FIRST:\n",
    "        question, answer = answer, question\n",
    "    print question\n",
    "    raw_input(\"> \")\n",
    "    print \"ANSWER: %s\\n\\n\" % answer\n",
    "except EOFError:\n",
    "    print \"\\nBye\""
   ]
  },
  {
   "cell_type": "code",
   "execution_count": null,
   "metadata": {},
   "outputs": [],
   "source": [
    "class Pet(object):\n",
    "    \"A class about pet, including  name and species \"\n",
    "    def __init__(self, name, species):\n",
    "        self.name = name\n",
    "        self.species = species\n",
    "\n",
    "    def getName(self):\n",
    "        return self.name\n",
    "\n",
    "    def getSpecies(self):\n",
    "        return self.species\n",
    "\n",
    "    def __str__(self):\n",
    "        return \"%s is a %s\" % (self.name, self.species)\n",
    "class Dog(Pet):\n",
    "\n",
    "    def __init__(self, name, chases_cats):\n",
    "        Pet.__init__(self, name, \"Dog\")\n",
    "        self.chases_cats = chases_cats\n",
    "\n",
    "    def chasesCats(self):\n",
    "        return self.chases_cats\n",
    "# De = Dog('Dave',True) means De.chasesCats=True\n",
    "\n",
    "class Cat(Pet):\n",
    "    def __init__(self, name, hates_dogs):\n",
    "        Pet.__init__(self, name, 'Cats')\n",
    "        self.hates_dogs = hates_dogs\n",
    "\n",
    "    def hates_dogs(self):\n",
    "        return self.hates_dogs"
   ]
  },
  {
   "cell_type": "markdown",
   "metadata": {},
   "source": [
    "*After you can write code, then you need to know how to debug the python program\n",
    " `nose`\n"
   ]
  }
 ],
 "metadata": {
  "kernelspec": {
   "display_name": "Python 3",
   "language": "python",
   "name": "python3"
  },
  "language_info": {
   "codemirror_mode": {
    "name": "ipython",
    "version": 3
   },
   "file_extension": ".py",
   "mimetype": "text/x-python",
   "name": "python",
   "nbconvert_exporter": "python",
   "pygments_lexer": "ipython3",
   "version": "3.5.3"
  }
 },
 "nbformat": 4,
 "nbformat_minor": 2
}
