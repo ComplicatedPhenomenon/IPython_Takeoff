{
 "cells": [
  {
   "cell_type": "markdown",
   "metadata": {},
   "source": [
    "# Bayesian Data Analysis\n",
    "\n",
    "* Subjective vs Objective\n",
    "* Frequentism vs Bayesianism\n",
    "* P value vs subjective probabilities"
   ]
  },
  {
   "cell_type": "markdown",
   "metadata": {},
   "source": [
    "## case 1"
   ]
  },
  {
   "cell_type": "markdown",
   "metadata": {},
   "source": [
    "Thought experiment\n",
    "\n",
    "一种疾病在人群中的发病率为$0.1\\%$,已知这个病被检测出来的可信度为$99\\%$一个人在一家医院测试结果为阳性时，他真实患病的概率是多大？\n",
    "当他在去第二家医院依然被告知结果为阳性时，假设这家医院的可信度为$99\\%$.这时，他真实患病的概率是多大？"
   ]
  },
  {
   "cell_type": "markdown",
   "metadata": {},
   "source": [
    "$$P(A|B) = P(A)\\frac{P(B|A)}{P(B)} = P(A)\\frac{P(B|A)}{P(B|A)\\times P(A) + P(B|\\sim A)\\times P(\\sim A)} $$"
   ]
  },
  {
   "cell_type": "markdown",
   "metadata": {},
   "source": [
    "V指这个人\n",
    "* H是V患病的事件\n",
    "* E被检查出患病的事件\n",
    "\n",
    "$P(H|E)$指V在被检查出患病的条件下患病\n",
    "\n",
    "$P(H|E) = P(E|H)*P(H)/P(E) = 0.99*0.001 /(0.001*0.99+0.999*0.01)$ "
   ]
  },
  {
   "cell_type": "code",
   "execution_count": 14,
   "metadata": {},
   "outputs": [
    {
     "data": {
      "text/plain": [
       "0.09016393442622951"
      ]
     },
     "execution_count": 14,
     "metadata": {},
     "output_type": "execute_result"
    }
   ],
   "source": [
    "0.99*0.001 /(0.001*0.99+0.999*0.01)"
   ]
  },
  {
   "cell_type": "code",
   "execution_count": null,
   "metadata": {},
   "outputs": [],
   "source": [
    "一个直观解释：1000个人中，真实患病的只有一个人，但是这家医院可能会检测出11个人。所以真实患病的概率是1/11 "
   ]
  },
  {
   "cell_type": "markdown",
   "metadata": {},
   "source": [
    "当这个人第二次被检查出患病史时， 他真实患病的概率是多大？"
   ]
  },
  {
   "cell_type": "markdown",
   "metadata": {},
   "source": [
    "$P(H|E) = P(E|H)*P(H)/P(E) = 0.99*0.9 /(0.001*0.99+0.999*0.01)$"
   ]
  },
  {
   "cell_type": "code",
   "execution_count": 16,
   "metadata": {},
   "outputs": [
    {
     "data": {
      "text/plain": [
       "0.9073319755600815"
      ]
     },
     "execution_count": 16,
     "metadata": {},
     "output_type": "execute_result"
    }
   ],
   "source": [
    "0.99*0.09 /(0.09*0.99+0.91*0.01)"
   ]
  },
  {
   "cell_type": "markdown",
   "metadata": {},
   "source": [
    "$$\\overbrace{p(\\mu \\ |\\ Data)}^{\\text{posterior}} = \\dfrac{\\overbrace{p(Data \\ | \\ \\mu)}^{\\text{likelihood}} \\cdot \\overbrace{p(\\mu)}^{\\text{prior}}}{\\underbrace{p(Data)}_{\\text{marginal likelihood}}}$$\n",
    "\n",
    "**This formulated never resonated with me before!**"
   ]
  },
  {
   "cell_type": "markdown",
   "metadata": {},
   "source": [
    "## case 3"
   ]
  },
  {
   "cell_type": "markdown",
   "metadata": {},
   "source": [
    "某城市发生了一起汽车撞人逃跑事件，该城市只有两种颜色的车，蓝色$15\\%$，绿色$85\\%$，事发时有一个人在现场看见了，他指证是蓝车。但是根据专家在现场分析,当时那种条件能看正确的可能性是80%。那么,肇事的车是蓝车的概率到底是多少？\n",
    "\n",
    "令B是城市里车为蓝色的事件，G为车子是绿色的事件，E为观察到车子为蓝色的事件。则由已知条件可以得出$P(B)=0.15, P(G)=P(\\sim B)=0.85$，至于$P(E)$我们一会儿再说。\n",
    "\n",
    "好了，现在，如果没有证人看到肇事者车的话，那么我们只能盲猜，因此肇事者的车子为蓝色的概率只能是整个城市里面车为蓝色的概率，也就是先验概率$P(B)=0.15$，因为这时我们还没有其他证据介入，只能做个粗略的估算。\n",
    "\n",
    "接下来，当当当当，有证人了。证人说他看到了车子，并且说是蓝色的，注意，这分两种情况，…………重要的事情说两遍：**贝叶斯里面现象(新的证据)部分总是分两种情况出现的**：\n",
    "* 一是车子的确是蓝色的，并且证人也正确的分辨出车是蓝色的来了，概率为 $P(E,B)=P(B)\\times P(E|B)=0.15\\times 0.8=0.12$\n",
    "* 二是车子根本就是绿色的，只是证人看成蓝色的了，概率为$P(E,~B)=P(~B)\\times P(E|~B)=P(~B)\\times (1 - P(~E|~B))= 0.85\\times(1-0.8)=0.17$，所以$P(E)=P(E,B)+P(E,~B)=0.12+0.17=0.29$\n",
    "\n",
    "然后，我们要求解的其实是在有证人的条件下车子为蓝色的概率，也就是$P(B|E)=P(E|B)/P(E)\\times P(B)=0.12/0.29=0.41$\n",
    "\n",
    "你看，$P(B|E)$根本就是$P(B)$的加强版本，条件概率跟先验概率描述的根本就是同一件事。那么当当当当，又一个结论来了：当有新的证据出现时，$P(B|E)$会替代原来$P(B)$的角色。换句话说，现在警察找到了一个新的证人，他也觉得这辆肇事车是蓝色的，这时在新一轮的贝叶斯概率计算中，基础概率$P(B)=0.41$，而不是原先的$0.15$，大家可以算一下，新的$P(B|E)=0.73$，换句话说，当有两个人看见肇事车辆为蓝色的时候，对比只有一个人看到肇事车辆为蓝色的时候，该车实际为蓝色的概率大大增加"
   ]
  },
  {
   "cell_type": "code",
   "execution_count": 17,
   "metadata": {},
   "outputs": [
    {
     "data": {
      "text/plain": [
       "0.7354260089686099"
      ]
     },
     "execution_count": 17,
     "metadata": {},
     "output_type": "execute_result"
    }
   ],
   "source": [
    "0.8*0.41/(0.41*0.8+0.59*0.2)"
   ]
  },
  {
   "cell_type": "markdown",
   "metadata": {},
   "source": [
    "## case 3"
   ]
  },
  {
   "cell_type": "markdown",
   "metadata": {},
   "source": [
    "一所学校里面有 $60\\%$ 的男生，$40\\%$ 的女生。男生总是穿长裤，女生则一半穿长裤一半穿裙子。"
   ]
  },
  {
   "cell_type": "markdown",
   "metadata": {},
   "source": [
    "随机选取一个学生，他（她）穿长裤的概率和穿裙子的概率是多大?\n",
    "\n",
    "$0.6+0.4*0.5 = 0.8$"
   ]
  },
  {
   "cell_type": "markdown",
   "metadata": {},
   "source": [
    "假设你走在校园中，迎面走来一个穿长裤的学生（很不幸的是你高度近似，你只看得见他（她）穿的是否长裤，而无法确定他（她）的性别），你能够推断出他（她）是男生的概率是多大吗？"
   ]
  },
  {
   "cell_type": "markdown",
   "metadata": {},
   "source": [
    "* 穿长裤事件为B \n",
    "* 性别为男生为A\n",
    "\n",
    "$P(A|B) =0.6 /(0.6+0.4*0.5)$"
   ]
  },
  {
   "cell_type": "code",
   "execution_count": 23,
   "metadata": {},
   "outputs": [
    {
     "data": {
      "text/plain": [
       "0.7499999999999999"
      ]
     },
     "execution_count": 23,
     "metadata": {},
     "output_type": "execute_result"
    }
   ],
   "source": [
    "0.6 /(0.6+0.4*0.5)"
   ]
  },
  {
   "cell_type": "code",
   "execution_count": null,
   "metadata": {},
   "outputs": [],
   "source": []
  }
 ],
 "metadata": {
  "hide_input": false,
  "kernelspec": {
   "display_name": "Python 3",
   "language": "python",
   "name": "python3"
  },
  "language_info": {
   "codemirror_mode": {
    "name": "ipython",
    "version": 3
   },
   "file_extension": ".py",
   "mimetype": "text/x-python",
   "name": "python",
   "nbconvert_exporter": "python",
   "pygments_lexer": "ipython3",
   "version": "3.7.0"
  },
  "toc": {
   "base_numbering": 1,
   "nav_menu": {},
   "number_sections": true,
   "sideBar": true,
   "skip_h1_title": false,
   "title_cell": "Table of Contents",
   "title_sidebar": "Contents",
   "toc_cell": false,
   "toc_position": {},
   "toc_section_display": true,
   "toc_window_display": true
  },
  "varInspector": {
   "cols": {
    "lenName": 16,
    "lenType": 16,
    "lenVar": 40
   },
   "kernels_config": {
    "python": {
     "delete_cmd_postfix": "",
     "delete_cmd_prefix": "del ",
     "library": "var_list.py",
     "varRefreshCmd": "print(var_dic_list())"
    },
    "r": {
     "delete_cmd_postfix": ") ",
     "delete_cmd_prefix": "rm(",
     "library": "var_list.r",
     "varRefreshCmd": "cat(var_dic_list()) "
    }
   },
   "types_to_exclude": [
    "module",
    "function",
    "builtin_function_or_method",
    "instance",
    "_Feature"
   ],
   "window_display": false
  }
 },
 "nbformat": 4,
 "nbformat_minor": 2
}
