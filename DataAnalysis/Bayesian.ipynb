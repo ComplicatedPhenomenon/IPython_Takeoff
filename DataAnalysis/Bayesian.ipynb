{
 "cells": [
  {
   "cell_type": "markdown",
   "metadata": {},
   "source": [
    "# Bayesian Data Analysis\n",
    "\n",
    "* Subjective vs Objective\n",
    "* Frequentism vs Bayesianism\n",
    "* P value vs subjective probabilities"
   ]
  },
  {
   "cell_type": "markdown",
   "metadata": {},
   "source": [
    "Thought experiment\n",
    "\n",
    "一种疾病在人群中的发病率为$0.1%$,已知这个病被检测出来的可信度为$90\\%$一个人在一家医院测试结果为阳性时，他真实患病的概率是多大？\n",
    "当他在去第二家医院依然被告知结果为阳性时，假设这家医院的可信度为$91\\%$.这时，他真实患病的概率是多大？"
   ]
  },
  {
   "cell_type": "markdown",
   "metadata": {},
   "source": [
    "$$P(A|B) = P(A)\\frac{P(B|A)}{P(B)}$$\n",
    "* P(A) 是先验概率， 这里是人群中的发病率\n",
    "* $\\frac{P(B|A)}{P(B)}$ 是概率函数\n",
    "* P(B) 这个人真的患病的概率?"
   ]
  },
  {
   "cell_type": "markdown",
   "metadata": {},
   "source": [
    "1000个人中，真实患病的只有一个人，但是这家医院可能会检测出11个人。所以真实患病的概率是1/11 "
   ]
  },
  {
   "cell_type": "markdown",
   "metadata": {},
   "source": [
    "$$\\overbrace{p(\\mu \\ |\\ Data)}^{\\text{posterior}} = \\dfrac{\\overbrace{p(Data \\ | \\ \\mu)}^{\\text{likelihood}} \\cdot \\overbrace{p(\\mu)}^{\\text{prior}}}{\\underbrace{p(Data)}_{\\text{marginal likelihood}}}$$\n",
    "\n",
    "**This formulated never resonated with me!**"
   ]
  }
 ],
 "metadata": {
  "hide_input": false,
  "kernelspec": {
   "display_name": "Python 3",
   "language": "python",
   "name": "python3"
  },
  "language_info": {
   "codemirror_mode": {
    "name": "ipython",
    "version": 3
   },
   "file_extension": ".py",
   "mimetype": "text/x-python",
   "name": "python",
   "nbconvert_exporter": "python",
   "pygments_lexer": "ipython3",
   "version": "3.7.2"
  },
  "toc": {
   "base_numbering": 1,
   "nav_menu": {},
   "number_sections": true,
   "sideBar": true,
   "skip_h1_title": false,
   "title_cell": "Table of Contents",
   "title_sidebar": "Contents",
   "toc_cell": false,
   "toc_position": {},
   "toc_section_display": true,
   "toc_window_display": false
  },
  "varInspector": {
   "cols": {
    "lenName": 16,
    "lenType": 16,
    "lenVar": 40
   },
   "kernels_config": {
    "python": {
     "delete_cmd_postfix": "",
     "delete_cmd_prefix": "del ",
     "library": "var_list.py",
     "varRefreshCmd": "print(var_dic_list())"
    },
    "r": {
     "delete_cmd_postfix": ") ",
     "delete_cmd_prefix": "rm(",
     "library": "var_list.r",
     "varRefreshCmd": "cat(var_dic_list()) "
    }
   },
   "types_to_exclude": [
    "module",
    "function",
    "builtin_function_or_method",
    "instance",
    "_Feature"
   ],
   "window_display": false
  }
 },
 "nbformat": 4,
 "nbformat_minor": 2
}
