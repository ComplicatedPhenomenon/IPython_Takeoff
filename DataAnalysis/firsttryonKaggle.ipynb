{
 "cells": [
  {
   "cell_type": "markdown",
   "metadata": {},
   "source": [
    "Each row corresponds to one client, an instance, and columns are features of this instance.\n",
    "\n",
    "Row represents entries.\n",
    "\n",
    "Columns represents features of this entries.\n",
    "\n",
    "Usage:\n",
    "\n",
    "    train = pd.readcsv(\"train.csv\")\n",
    "    train[\"one_feature\"]."
   ]
  },
  {
   "cell_type": "code",
   "execution_count": null,
   "metadata": {},
   "outputs": [],
   "source": [
    "from IPython.core.interactiveshell import InteractiveShell\n",
    "InteractiveShell.ast_node_interactivity = \"all\""
   ]
  },
  {
   "cell_type": "code",
   "execution_count": null,
   "metadata": {},
   "outputs": [],
   "source": [
    "import pandas as pd"
   ]
  },
  {
   "cell_type": "code",
   "execution_count": null,
   "metadata": {},
   "outputs": [],
   "source": [
    "import matplotlib.pyplot as plt\n",
    "import seaborn as sns"
   ]
  },
  {
   "cell_type": "code",
   "execution_count": null,
   "metadata": {},
   "outputs": [],
   "source": [
    "%ls .."
   ]
  },
  {
   "cell_type": "code",
   "execution_count": null,
   "metadata": {},
   "outputs": [],
   "source": [
    "%ls ../data/"
   ]
  },
  {
   "cell_type": "code",
   "execution_count": null,
   "metadata": {},
   "outputs": [],
   "source": [
    "%pwd"
   ]
  },
  {
   "cell_type": "code",
   "execution_count": null,
   "metadata": {},
   "outputs": [],
   "source": [
    "atheletes_events = pd.read_csv(\"../data/athlete_events.csv\")"
   ]
  },
  {
   "cell_type": "code",
   "execution_count": null,
   "metadata": {},
   "outputs": [],
   "source": [
    "atheletes_events.info()"
   ]
  },
  {
   "cell_type": "code",
   "execution_count": null,
   "metadata": {},
   "outputs": [],
   "source": [
    "atheletes_events.describe()"
   ]
  },
  {
   "cell_type": "code",
   "execution_count": null,
   "metadata": {},
   "outputs": [],
   "source": [
    "atheletes_events.describe(include = ['object','bool'])"
   ]
  },
  {
   "cell_type": "markdown",
   "metadata": {},
   "source": [
    "NumPy arrays are stored as contiguous blocks of memory. They usually have a single datatype (e.g. integers, floats or fixed-length strings) and then the bits in memory are interpreted as values with that datatype.\n",
    "\n",
    "Creating an array with `dtype=object` is different. The memory taken by the array now is filled with *pointers* to Python objects which are being stored *elsewhere* in memory (much like a Python `list` is really just a list of pointers to objects, not the objects themselves).\n",
    "\n",
    "Arithmetic operators such as `*` don't work with arrays such as `ar1` which have a `string_` datatype (there are special functions instead - see below). NumPy is just treating the bits in memory as characters and the `*` operator doesn't make sense here. However, the line\n",
    "\n",
    "    np.array(['avinash','jay'], dtype=object) * 2\n",
    "\n",
    "works because now the array is an array of (pointers to) Python strings. The `*` operator is well defined for these Python string objects. New Python strings are created in memory and a new `object` array with references to the new strings is returned.\n",
    "\n",
    "\n",
    "----------\n",
    "\n",
    "\n",
    "If you have an array with `string_` or `unicode_` dtype and want to repeat each string, you can use `np.char.multiply`:\n",
    "\n",
    "    In [52]: np.char.multiply(ar1, 2)\n",
    "    Out[52]: array(['avinashavinash', 'jayjay'], \n",
    "          dtype='<U14')\n",
    "\n",
    "NumPy has many other [vectorised string methods](http://docs.scipy.org/doc/numpy/reference/generated/numpy.chararray.html) too."
   ]
  },
  {
   "cell_type": "code",
   "execution_count": null,
   "metadata": {},
   "outputs": [],
   "source": [
    "atheletes_events.head()"
   ]
  },
  {
   "cell_type": "code",
   "execution_count": null,
   "metadata": {},
   "outputs": [],
   "source": [
    "atheletes_events.shape\n",
    "atheletes_events.columns"
   ]
  },
  {
   "cell_type": "code",
   "execution_count": null,
   "metadata": {},
   "outputs": [],
   "source": [
    "atheletes_events.Sex.value_counts();"
   ]
  },
  {
   "cell_type": "code",
   "execution_count": null,
   "metadata": {},
   "outputs": [],
   "source": [
    "atheletes_events.Age.value_counts();"
   ]
  },
  {
   "cell_type": "code",
   "execution_count": null,
   "metadata": {},
   "outputs": [],
   "source": [
    "atheletes_events.sort_values(by = 'Age', ascending = True).head(1)"
   ]
  },
  {
   "cell_type": "code",
   "execution_count": null,
   "metadata": {},
   "outputs": [],
   "source": [
    "atheletes_events.sort_values(by = ['Age', 'Height'] , ascending = [True,True]).head()"
   ]
  },
  {
   "cell_type": "code",
   "execution_count": null,
   "metadata": {},
   "outputs": [],
   "source": [
    "atheletes_events.sort_values(by = ['Age', 'Sex'] , ascending = [True,True]).head()"
   ]
  },
  {
   "cell_type": "code",
   "execution_count": null,
   "metadata": {},
   "outputs": [],
   "source": [
    "atheletes_events['Year'];\n",
    "atheletes_events['Sex'].value_counts()"
   ]
  },
  {
   "cell_type": "code",
   "execution_count": null,
   "metadata": {},
   "outputs": [],
   "source": [
    "atheletes_events[atheletes_events['Year']==1996].sort_values(by = 'Age'  , ascending = True).head(2)"
   ]
  },
  {
   "cell_type": "code",
   "execution_count": null,
   "metadata": {},
   "outputs": [],
   "source": [
    "atheletes_events[atheletes_events['Year']==1996].Age.min()"
   ]
  },
  {
   "cell_type": "markdown",
   "metadata": {},
   "source": [
    "1.How old were the youngest male and female participants of the 1996 Olympics?  B\n",
    "* 16 and 15\n",
    "* 14 and 12\n",
    "* 16 and 12\n",
    "* 13 and 11"
   ]
  },
  {
   "cell_type": "code",
   "execution_count": null,
   "metadata": {},
   "outputs": [],
   "source": [
    "atheletes_events[atheletes_events['Year']==1996].sort_values(by = ['Sex','Age' ] , ascending = [False,True]).head(1)\n",
    "atheletes_events[atheletes_events['Year']==1996].sort_values(by = ['Sex','Age' ] , ascending = [True,True]).head(1)"
   ]
  },
  {
   "cell_type": "markdown",
   "metadata": {},
   "source": [
    "2.What was the percentage of male gymnasts among all the male participants of the 2000 Olympics? Round the answer to the first decimal.\n",
    "\n",
    "Hint: here and further if needed drop duplicated sportsmen to count only unique ones.\n",
    "\n",
    "* 0.2\n",
    "* 1.5\n",
    "* 2.5\n",
    "* 7.7"
   ]
  },
  {
   "cell_type": "code",
   "execution_count": null,
   "metadata": {},
   "outputs": [],
   "source": [
    "atheletes_events[[]]\n",
    "train_df[['Pclass', 'Survived']].groupby(['Pclass'], as_index=False).mean().sort_values(by='Survived', ascending=False)"
   ]
  },
  {
   "cell_type": "code",
   "execution_count": null,
   "metadata": {},
   "outputs": [],
   "source": [
    "atheletes_events[atheletes_events['Sex']=='M'].info()"
   ]
  },
  {
   "cell_type": "code",
   "execution_count": null,
   "metadata": {},
   "outputs": [],
   "source": [
    "sport_year = atheletes_events[atheletes_events['Season']=='Summer'].pivot_table(atheletes_events, index=['Year','Sport'], aggfunc=lambda x: len(x.unique())).reset_index()[['Year','Sport','Event']]\n",
    "sport_year = sport_year.pivot(\"Sport\", \"Year\", \"Event\")\n",
    "sport_year.fillna(0,inplace=True)\n",
    "sport_year = sport_year.reindex(sport_year.sort_values(by=2016, ascending=False).index)\n",
    "f, ax = plt.subplots(figsize=(20, 20))\n",
    "sns.heatmap(sport_year, annot=True, linewidths=0.05, ax=ax, cmap=\"RdYlGn\")\n",
    "ax.set_xlabel('Summer Game Year', size=14, color=\"green\")\n",
    "ax.set_ylabel('Sport', size=14, color=\"green\")\n",
    "ax.set_title('[Heatmap] Number of events in each sport over years', size=18, color=\"green\")\n",
    "plt.show()"
   ]
  },
  {
   "cell_type": "code",
   "execution_count": null,
   "metadata": {},
   "outputs": [],
   "source": []
  }
 ],
 "metadata": {
  "jupytext": {
   "formats": "ipynb,py"
  },
  "kernelspec": {
   "display_name": "Python 3",
   "language": "python",
   "name": "python3"
  },
  "language_info": {
   "codemirror_mode": {
    "name": "ipython",
    "version": 3
   },
   "file_extension": ".py",
   "mimetype": "text/x-python",
   "name": "python",
   "nbconvert_exporter": "python",
   "pygments_lexer": "ipython3",
   "version": "3.6.6"
  }
 },
 "nbformat": 4,
 "nbformat_minor": 2
}
