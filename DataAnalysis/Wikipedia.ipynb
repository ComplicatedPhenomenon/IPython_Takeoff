{
 "cells": [
  {
   "cell_type": "code",
   "execution_count": 1,
   "metadata": {},
   "outputs": [],
   "source": [
    "import wikipedia"
   ]
  },
  {
   "cell_type": "code",
   "execution_count": 2,
   "metadata": {},
   "outputs": [],
   "source": [
    "import requests"
   ]
  },
  {
   "cell_type": "markdown",
   "metadata": {},
   "source": [
    "* https://2.python-requests.org//en/master/user/advanced/#proxies"
   ]
  },
  {
   "cell_type": "markdown",
   "metadata": {},
   "source": [
    "The issue you’re seeing here is with your proxy rather than Requests. I’d suggest reviewing the proxy docs and debugging from there"
   ]
  },
  {
   "cell_type": "code",
   "execution_count": 8,
   "metadata": {},
   "outputs": [
    {
     "data": {
      "text/plain": [
       "'Since July 6, 2018, China and the United States have been engaged in a trade war involving the mutual placement of tariffs. The president of the United States, Donald Trump, has exercised authority granted by Congress in the Trade Act of 1974, to unilaterally impose tariffs on $250 billion of Chinese goods after the Office of the United States Trade Representative determined China\\'s trade practices were unfairly limiting U.S. exports. China’s Ministry of Commerce said in a statement that the United States \"has launched the biggest trade war in economic history so far\" and imposed retaliatory tariffs on U.S. goods of a similar value.\\nThe U.S. claims that Chinese policies put U.S. patent holders at a disadvantage in Chinese markets by encouraging foreign companies to engage in joint ventures with Chinese companies. This supposedly then gives Chinese companies access and permission to use, improve, copy or illegally develop their technologies. The Trump administration views the Made in China 2025 industrialization plan as a threat to the U.S. economy and national security. The White House has urged the Chinese to abandon the program. However, China argues it has strengthened intellectual property right (IPR) protections and that the U.S. has ignored the effort; that the U.S. has ignored WTO rules and ignored the calls of its own industries to reduce tariffs. China firmly opposes these U.S. trade practices, believing they represent \"unilateralism\" and \"protectionism\".'"
      ]
     },
     "execution_count": 8,
     "metadata": {},
     "output_type": "execute_result"
    }
   ],
   "source": [
    "wikipedia.summary(\"China–United States trade war\")"
   ]
  },
  {
   "cell_type": "code",
   "execution_count": 11,
   "metadata": {},
   "outputs": [],
   "source": [
    "wikipageobj = wikipedia.WikipediaPage(title=\"China–United States trade war\")"
   ]
  },
  {
   "cell_type": "code",
   "execution_count": 17,
   "metadata": {},
   "outputs": [
    {
     "data": {
      "text/plain": [
       "['2018 in American politics',\n",
       " '2018 in China',\n",
       " '2018 in economics',\n",
       " '2018 in international relations',\n",
       " 'All NPOV disputes',\n",
       " 'All Wikipedia articles in need of updating',\n",
       " 'All Wikipedia articles needing clarification',\n",
       " 'All Wikipedia articles written in American English',\n",
       " 'All articles lacking reliable references',\n",
       " 'All articles with unsourced statements',\n",
       " 'All articles with vague or ambiguous time',\n",
       " 'Articles lacking reliable references from May 2019',\n",
       " 'Articles with disproportional geographic scope from March 2019',\n",
       " 'Articles with limited geographic scope from March 2019',\n",
       " 'Articles with multiple maintenance issues',\n",
       " 'Articles with short description',\n",
       " 'Articles with unsourced statements from May 2019',\n",
       " 'CS1 Chinese-language sources (zh)',\n",
       " 'China–United States economic relations',\n",
       " 'NPOV disputes from May 2019',\n",
       " 'Pages with broken reference names',\n",
       " 'Pages with reference errors',\n",
       " 'Presidency of Donald Trump',\n",
       " 'Trade wars',\n",
       " 'USA-centric',\n",
       " 'Use American English from January 2019',\n",
       " 'Use mdy dates from January 2019',\n",
       " 'Vague or ambiguous time from September 2018',\n",
       " 'Wikipedia articles in need of updating from May 2019',\n",
       " 'Wikipedia articles needing clarification from September 2018']"
      ]
     },
     "execution_count": 17,
     "metadata": {},
     "output_type": "execute_result"
    }
   ],
   "source": [
    "wikipageobj.categories"
   ]
  },
  {
   "cell_type": "code",
   "execution_count": 18,
   "metadata": {},
   "outputs": [],
   "source": [
    "with open('Wiki/China–United Statestradewar.html', 'a') as the_file:\n",
    "    the_file.write(wikipageobj.html())"
   ]
  },
  {
   "cell_type": "code",
   "execution_count": 20,
   "metadata": {},
   "outputs": [],
   "source": [
    "with open('Wiki/China–United Statestradewar.txt', 'a') as the_file:\n",
    "    the_file.write(wikipageobj.content)"
   ]
  }
 ],
 "metadata": {
  "hide_input": false,
  "kernelspec": {
   "display_name": "Python 3",
   "language": "python",
   "name": "python3"
  },
  "language_info": {
   "codemirror_mode": {
    "name": "ipython",
    "version": 3
   },
   "file_extension": ".py",
   "mimetype": "text/x-python",
   "name": "python",
   "nbconvert_exporter": "python",
   "pygments_lexer": "ipython3",
   "version": "3.7.2"
  },
  "toc": {
   "base_numbering": 1,
   "nav_menu": {},
   "number_sections": true,
   "sideBar": true,
   "skip_h1_title": false,
   "title_cell": "Table of Contents",
   "title_sidebar": "Contents",
   "toc_cell": false,
   "toc_position": {},
   "toc_section_display": true,
   "toc_window_display": false
  },
  "varInspector": {
   "cols": {
    "lenName": 16,
    "lenType": 16,
    "lenVar": 40
   },
   "kernels_config": {
    "python": {
     "delete_cmd_postfix": "",
     "delete_cmd_prefix": "del ",
     "library": "var_list.py",
     "varRefreshCmd": "print(var_dic_list())"
    },
    "r": {
     "delete_cmd_postfix": ") ",
     "delete_cmd_prefix": "rm(",
     "library": "var_list.r",
     "varRefreshCmd": "cat(var_dic_list()) "
    }
   },
   "types_to_exclude": [
    "module",
    "function",
    "builtin_function_or_method",
    "instance",
    "_Feature"
   ],
   "window_display": false
  }
 },
 "nbformat": 4,
 "nbformat_minor": 2
}
