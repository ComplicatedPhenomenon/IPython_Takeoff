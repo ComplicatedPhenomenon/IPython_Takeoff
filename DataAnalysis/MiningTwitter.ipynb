{
 "cells": [
  {
   "cell_type": "markdown",
   "metadata": {},
   "source": [
    "2019-05-27 12:12:16 "
   ]
  },
  {
   "cell_type": "code",
   "execution_count": null,
   "metadata": {},
   "outputs": [],
   "source": [
    "from IPython.core.interactiveshell import InteractiveShell\n",
    "InteractiveShell.ast_node_interactivity = \"all\""
   ]
  },
  {
   "cell_type": "markdown",
   "metadata": {},
   "source": [
    "# Pass sensitive info through `configparser`"
   ]
  },
  {
   "cell_type": "code",
   "execution_count": 1,
   "metadata": {},
   "outputs": [],
   "source": [
    "import configparser"
   ]
  },
  {
   "cell_type": "code",
   "execution_count": 2,
   "metadata": {},
   "outputs": [
    {
     "data": {
      "text/plain": [
       "['config_twitter.ini']"
      ]
     },
     "execution_count": 2,
     "metadata": {},
     "output_type": "execute_result"
    }
   ],
   "source": [
    "CONFIG_PATH = 'config_twitter.ini'  # 按照实际情况修改位置\n",
    "CONFIG = configparser.RawConfigParser()\n",
    "CONFIG.read(CONFIG_PATH)"
   ]
  },
  {
   "cell_type": "code",
   "execution_count": null,
   "metadata": {},
   "outputs": [],
   "source": [
    "CONFIG_PATH = 'config_twitter.ini'  # 按照实际情况修改位置\n",
    "CONFIG = configparser.RawConfigParser()\n",
    "CONFIG.read(CONFIG_PATH)\n",
    "\"\"\"\n",
    "consumer_key = CONFIG.get('twitter', 'consumer_key')\n",
    "consumer_secret = CONFIG.get('twitter', 'consumer_secret')\n",
    "access_token = CONFIG.get('twitter', 'access_token')\n",
    "access_secret = CONFIG.get('twitter', 'access_token')\n",
    "\"\"\"\n",
    "# TweepError: [{'code': 32, 'message': 'Could not authenticate you.'}]"
   ]
  },
  {
   "cell_type": "markdown",
   "metadata": {},
   "source": [
    "# Mining twitter data with tweepy"
   ]
  },
  {
   "cell_type": "code",
   "execution_count": 12,
   "metadata": {},
   "outputs": [],
   "source": [
    "import tweepy\n",
    "from tweepy import OAuthHandler\n",
    "\n",
    "consumer_key = 'RN8c5NZgCMu3CjPZVpXNMzWlI'\n",
    "consumer_secret = 'MIEqrji2W3va1oX77X5U6v2ue2uez56W6CqPDjXlzPX7502BN3'\n",
    "access_token = '866207578581159937-maahL37v8WlNYln0QEOacZ9GZQSRezD'\n",
    "access_secret = 'M1paCafNWUtpCtGkvTrfAHGkpPX2fNLQXJFmcEGSfN51C'\n",
    "\n",
    "auth = OAuthHandler(consumer_key, consumer_secret)\n",
    "auth.set_access_token(access_token, access_secret)\n",
    " \n",
    "api = tweepy.API(auth)\n",
    "#api = tweepy.API(auth,proxy=\"http://127.0.0.1:10818\") #8123是polipo的默认端口"
   ]
  },
  {
   "cell_type": "code",
   "execution_count": null,
   "metadata": {},
   "outputs": [],
   "source": [
    "\"\"\"\n",
    "!export http_proxy=http://127.0.0.1:10818\n",
    "!export https_proxy=http://127.0.0.1:10818;\n",
    "\"\"\""
   ]
  },
  {
   "cell_type": "code",
   "execution_count": 25,
   "metadata": {},
   "outputs": [
    {
     "name": "stdout",
     "output_type": "stream",
     "text": [
      "SUSE 2011-08-28 22:45:21\n",
      "David W Hogg 2011-04-05 08:58:02\n",
      "Zed 2008-06-06 13:16:28\n",
      "WikiLeaks 2008-10-04 06:41:05\n",
      "WikiLeaks 2008-10-04 06:41:05\n",
      "WikiLeaks 2008-10-04 06:41:05\n",
      "WikiLeaks 2008-10-04 06:41:05\n",
      "WikiLeaks 2008-10-04 06:41:05\n",
      "WikiLeaks 2008-10-04 06:41:05\n",
      "WikiLeaks 2008-10-04 06:41:05\n",
      "WikiLeaks 2008-10-04 06:41:05\n",
      "WikiLeaks 2008-10-04 06:41:05\n",
      "WikiLeaks 2008-10-04 06:41:05\n",
      "WikiLeaks 2008-10-04 06:41:05\n",
      "Unsplash 2013-06-15 19:38:04\n",
      "Zed 2008-06-06 13:16:28\n",
      "Sir Cam 2010-01-16 01:16:37\n",
      "Unsplash 2013-06-15 19:38:04\n"
     ]
    }
   ],
   "source": [
    "tweets=api.home_timeline()\n",
    "type(tweets)\n",
    "for tweet in tweets:\n",
    "    print(tweet.author.name, tweet.author.created_at)\n",
    "   "
   ]
  },
  {
   "cell_type": "markdown",
   "metadata": {},
   "source": [
    "## Collect a real-time tweet "
   ]
  },
  {
   "cell_type": "code",
   "execution_count": 26,
   "metadata": {},
   "outputs": [
    {
     "name": "stdout",
     "output_type": "stream",
     "text": [
      "Awww! That’s wild. ❤️ https://t.co/S6qHOU918v\n",
      "[Article] SUSE Rolls Out New Software-defined Storage Solution https://t.co/dwbyRiuzCr https://t.co/Iuh3Hz1HQJ\n",
      "research post:\n",
      "- @LIGO housekeeping data and my hopes and dreams about it\n",
      "- new, hacky MCMC methods by @bffarr and… https://t.co/PQgRvxSqCH\n",
      "There’s a music comedy by Lonely Island about Mark McGwire and Jose Canseco that’s fucking brilliant:\n",
      "\n",
      "https://t.co/PxJwTVhbx0\n",
      "Un expert de l’ONU préoccupé par le comportement de l’Équateur dans les affaires Assange et Moreno\n",
      "https://t.co/iTqGNDEX6u\n"
     ]
    }
   ],
   "source": [
    "for status in tweepy.Cursor(api.home_timeline).items(5):\n",
    "    # Process a single status\n",
    "    print(status.text)"
   ]
  },
  {
   "cell_type": "markdown",
   "metadata": {},
   "source": [
    "## Tweets from a Specific User"
   ]
  },
  {
   "cell_type": "code",
   "execution_count": 16,
   "metadata": {},
   "outputs": [
    {
     "name": "stdout",
     "output_type": "stream",
     "text": [
      "2019-05-26 08:27:12 Stay alive to find something to live for again and always treat life with great virtue.\n",
      "2019-05-23 09:15:57 WeChat Revenue and Usage Statistics (2019) https://t.co/kTnGrVucec\n",
      "2019-05-23 01:40:45 The difference you know it and you know it very well\n",
      "How I'm able to  take notes in mathematics lectures using LaTe… https://t.co/T7R7VvKOGm\n",
      "2019-05-23 01:35:41 Share a book and remove this bookmarks\n",
      "Fundamentals of Data Visualization https://t.co/rx9lUtPS5i\n",
      "2019-05-21 06:20:51 Run a script in a newly cloned repo to change the git history, git push --force --tags origin 'refs/heads/*' done!\n",
      "https://t.co/NJR3EPgqMi\n",
      "2019-05-21 05:56:57 As an active user of Github, I lost my commits history on profile after changing my email address, It's uncomfortab… https://t.co/w3ua5NaI36\n",
      "2019-05-12 02:14:55 The Best Drawing Tablets 2019 – Our Most Recommended Graphics Tablets https://t.co/oh20QgOnas via @tabletinbudget\n",
      "2019-05-08 14:42:24 My behavior was horrible, they were 3 professors, I can not use the proper words to convey my meaning, it's all ran… https://t.co/WFBFFr05Eu\n",
      "2019-05-08 07:28:36 If it goes well, I will read textbooks for astrophysics,  if not, I will listen to the song called recovering, corr… https://t.co/F5sE6qpqaw\n",
      "2019-05-08 06:29:02 I'm scared to death for the interview 7 hours later, trying to ease my nerve\n",
      "When You're Scared to Death, Do Someth… https://t.co/4jyrnlRmmF\n",
      "2019-05-03 14:55:51 I just need to take it easy and introduce other people what I have done along the way and what do I expected\n",
      "2019-05-03 14:52:20 It is definately a big deal, I was ready to give up myself for 2 or 3 months, I guess I just begin to accept life i… https://t.co/MG9gENWxsp\n",
      "2019-05-03 14:46:18 I got one more chance to chase after my dream, no need to be panic, it's okay, even if I lose it, I will take all o… https://t.co/ZtZUcEmEMC\n",
      "2019-04-29 02:31:26 A typical case of knowing yourself as well as the enemy\n",
      "https://t.co/7z82AstiXJ\n",
      "2019-04-24 08:27:12 https://t.co/Dz8Pk4IsTZ\n",
      "2019-04-23 14:13:43 #welldone Lawrence Livermore National Laboratory \n",
      "https://t.co/S0Hwe2cRsv\n",
      "tutorials got tons of useful info\n",
      "2019-04-23 08:55:50 What a coincidence, somebody made a post about leaving footprints to the digital world.  \n",
      "https://t.co/7mUtQFS3Xr  \n",
      "人总想留下某种痕迹，证明自己活过\n",
      "2019-04-22 15:03:10 #problemsIgot I often set my goal and I put effort to achieve it. Yet I often fail to deliever a good work for my supervisor or boss. Why?\n",
      "2019-04-22 14:50:13 What if every piece of record produced by you got lost? Are you still you? It is devastating for me I guess. However, it shouldn't be so.\n",
      "2019-04-21 01:12:45 The happiness produced during mind processing of figuring out the essence of how something actually works is satisf… https://t.co/wRNb4ALTIE\n"
     ]
    }
   ],
   "source": [
    "# The Twitter user who we want to get tweets from\n",
    "name = \"czfzdxx\"\n",
    "# Number of tweets to pull\n",
    "tweetCount = 20\n",
    "\n",
    "# Calling the user_timeline function with our parameters\n",
    "results = api.user_timeline(id=name, count=tweetCount)\n",
    "\n",
    "# foreach through all tweets pulled\n",
    "for tweet in results:\n",
    "   # printing the text stored inside the tweet object\n",
    "   print (tweet.created_at,  tweet.text)"
   ]
  },
  {
   "cell_type": "code",
   "execution_count": 27,
   "metadata": {},
   "outputs": [
    {
     "name": "stdout",
     "output_type": "stream",
     "text": [
      "2019-05-27 05:52:47 Awww! That’s wild. ❤️ https://t.co/S6qHOU918v\n",
      "2019-05-24 13:54:20 RT @CozyEdwund: 8 year old me Calling Disney Channel Celebrities after googling their phone numbers on youtube https://t.co/Jh9os2XP3W\n",
      "2019-05-24 11:32:58 RT @_fagneto: my gay ass after successfully holding a conversation about sports https://t.co/OuBDQImnFa\n",
      "2019-05-23 23:46:00 RT @joannasiimon: brands who hire straight influencers to promote their pride/lgbtq+ collections, that ain’t it sis\n",
      "2019-05-23 06:54:13 I wish I was asleep. 🥀😔\n",
      "2019-05-22 00:02:56 Tonight! ❤️ https://t.co/N1YHINow38\n",
      "2019-05-18 23:40:24 Amen to @carlyraejepsen for blessing us all with a new album. Literally praise\n",
      "2019-05-18 05:32:01 RT @thequeendelila: Me when someone interrupts me watching @TrashyTiffany and @JessicaTayVlogs https://t.co/RFAR3Ao9Ar\n",
      "2019-05-17 22:40:02 RT @JessicaTayVlogs: New Tiff &amp; Jess video: “Reacting to Hayley Kiyoko’s Gayest Moments!” \n",
      "\n",
      "https://t.co/oWrdivJj2V https://t.co/wCP7UVEldg\n",
      "2019-05-17 15:07:43 RT @_SJPeace_: ALL OF THIS \n",
      "\n",
      "This kid is spitting straight facts. \n",
      "\n",
      "RETWEET THIS! https://t.co/5zA91WUZMn\n",
      "2019-05-16 22:36:30 RT @rocketmanmovie: Ready for the Rocketman Emoji Challenge? Tweet @RocketmanMovie + #Rocketman + any emoji to unlock special content and m…\n",
      "2019-05-15 17:35:28 This would be me as a mom. This is some big mom energy that I fucked with https://t.co/6GZYXffslD\n",
      "2019-05-13 23:33:21 Can’t wait for pride again! Meeting you guys is literally my favorite part. https://t.co/ZxCV0mFC4I\n",
      "2019-05-13 12:53:13 @ItsNatalieRosee Yay!!! Crossing fingers as well. Either way you are an incredible person who hustles hard. Proud of ya.\n",
      "2019-05-12 23:06:08 RT @Sgrate__: I hate when I make plans with somebody and they remember\n",
      "2019-05-12 11:59:11 RT @_SJPeace_: This is OUTRAGEOUS\n",
      " \n",
      "Lorenzo Clerkley, a 14 year old black kid who was with friends playing with a BB gun in broad daylight…\n",
      "2019-05-12 03:39:13 @MaryannBarrxx @DownloaderBot\n",
      "2019-05-12 03:37:28 I’m dead 😂😂😂 I love you guys. https://t.co/IYif9q4POt\n",
      "2019-05-12 02:19:47 New video - Reading Our Hate Comments! https://t.co/CMpxK0NolY Go show it some love babes 🖤 https://t.co/KXPsdIZMPk\n",
      "2019-05-08 04:56:38 Those are cute!!! https://t.co/tJPkkIh2fb\n"
     ]
    }
   ],
   "source": [
    "# The Twitter user who we want to get tweets from\n",
    "name = \"TrashyTiffany\"\n",
    "# Number of tweets to pull\n",
    "tweetCount = 20\n",
    "\n",
    "# Calling the user_timeline function with our parameters\n",
    "results = api.user_timeline(id=name, count=tweetCount)\n",
    "\n",
    "# foreach through all tweets pulled\n",
    "for tweet in results:\n",
    "   # printing the text stored inside the tweet object\n",
    "   print (tweet.created_at, tweet.text)"
   ]
  },
  {
   "cell_type": "markdown",
   "metadata": {},
   "source": [
    "## Finding Tweets Using a Keyword"
   ]
  },
  {
   "cell_type": "code",
   "execution_count": null,
   "metadata": {},
   "outputs": [],
   "source": [
    "# The search term you want to find\n",
    "query = \"rainbow\"\n",
    "# Language code (follows ISO 639-1 standards)\n",
    "language = \"en\"\n",
    "\n",
    "# Calling the user_timeline function with our parameters\n",
    "results = api.search(q=query, lang=language)\n",
    "\n",
    "# foreach through all tweets pulled\n",
    "for tweet in results:\n",
    "   # printing the text stored inside the tweet object\n",
    "   print (tweet.user.screen_name,\"Tweeted:\",tweet.text)"
   ]
  },
  {
   "cell_type": "markdown",
   "metadata": {},
   "source": [
    "# Mining twitter with [python-twitter](https://github.com/bear/python-twitter)"
   ]
  },
  {
   "cell_type": "markdown",
   "metadata": {},
   "source": [
    "# Using twitter with [TwitterSearch](https://github.com/ckoepp/TwitterSearch)"
   ]
  },
  {
   "cell_type": "code",
   "execution_count": 31,
   "metadata": {},
   "outputs": [
    {
     "name": "stdout",
     "output_type": "stream",
     "text": [
      "@_janeisklar_ tweeted: RT @somlu1968: Das Antwortpdf der @CDU auf das Video von #rezo ist ungefähr so sauber aufgebaut, wie die Doktorarbeit von Karl-Theodor zu G…\n",
      "@somlu1968 tweeted: Das Antwortpdf der @CDU auf das Video von #rezo ist ungefähr so sauber aufgebaut, wie die Doktorarbeit von Karl-The… https://t.co/apXkGgko6h\n",
      "@Rehlein_ms tweeted: @rahmstorf Kann man das Rezo Video auch den Leuten zur Verfügung stellen, die die zum Beispiel die \"DoktorArbeit\" e… https://t.co/nvF2MX3bQE\n",
      "@Andreas63576975 tweeted: Das Schweigen über Giffeys Doktorarbeit \n",
      "\"Fall\" von Guttenberg?  Der sitzt gemütlich in USA, verdient richtig Geld… https://t.co/BaQa1AAoI1\n",
      "@Ritter_Roter tweeted: Das Schweigen über #Giffey #SPD Doktorarbeit \n",
      "Guttenberg, Schavan, Koch-Mehrin waren ein  Skandal. Bei der Familien… https://t.co/gMC0GhRbgM\n",
      "@DriurKT1 tweeted: deren Doktorarbeit sich mehr Plagiate befinden sollen, als in der vom geschassten Freiherren zu Guttenberg, angefas… https://t.co/7EMiOIhf1e\n",
      "@trutzblut tweeted: @vestenotcer Ich hätte mich das Format Guttenberg/Leyen/Giffey nicht mal in Hausarbeiten getraut, geschweige denn i… https://t.co/ID72Loyz1X\n",
      "@TuringCompIete tweeted: RT @reneloch: Verständlich, dass CDU, CSU und FDP mit Leuten wie Greta und Rezo nicht diskutieren wollen, schließlich fehlen überall die Qu…\n",
      "@steuermann600 tweeted: RT @reneloch: Verständlich, dass CDU, CSU und FDP mit Leuten wie Greta und Rezo nicht diskutieren wollen, schließlich fehlen überall die Qu…\n",
      "@De_Gi_ tweeted: RT @reneloch: Verständlich, dass CDU, CSU und FDP mit Leuten wie Greta und Rezo nicht diskutieren wollen, schließlich fehlen überall die Qu…\n",
      "@The_Nazgul tweeted: RT @reneloch: Verständlich, dass CDU, CSU und FDP mit Leuten wie Greta und Rezo nicht diskutieren wollen, schließlich fehlen überall die Qu…\n",
      "@jojoclub tweeted: RT @reneloch: Verständlich, dass CDU, CSU und FDP mit Leuten wie Greta und Rezo nicht diskutieren wollen, schließlich fehlen überall die Qu…\n",
      "@CommunismLove tweeted: RT @reneloch: Verständlich, dass CDU, CSU und FDP mit Leuten wie Greta und Rezo nicht diskutieren wollen, schließlich fehlen überall die Qu…\n",
      "@GodCoder tweeted: RT @reneloch: Verständlich, dass CDU, CSU und FDP mit Leuten wie Greta und Rezo nicht diskutieren wollen, schließlich fehlen überall die Qu…\n",
      "@KayKlatscht tweeted: RT @reneloch: Verständlich, dass CDU, CSU und FDP mit Leuten wie Greta und Rezo nicht diskutieren wollen, schließlich fehlen überall die Qu…\n",
      "@cs42 tweeted: RT @reneloch: Verständlich, dass CDU, CSU und FDP mit Leuten wie Greta und Rezo nicht diskutieren wollen, schließlich fehlen überall die Qu…\n",
      "@trollofix tweeted: RT @reneloch: Verständlich, dass CDU, CSU und FDP mit Leuten wie Greta und Rezo nicht diskutieren wollen, schließlich fehlen überall die Qu…\n",
      "@anaspanisch tweeted: RT @reneloch: Verständlich, dass CDU, CSU und FDP mit Leuten wie Greta und Rezo nicht diskutieren wollen, schließlich fehlen überall die Qu…\n",
      "@herrfritzsche tweeted: RT @reneloch: Verständlich, dass CDU, CSU und FDP mit Leuten wie Greta und Rezo nicht diskutieren wollen, schließlich fehlen überall die Qu…\n",
      "@FeingeistProlet tweeted: RT @reneloch: Verständlich, dass CDU, CSU und FDP mit Leuten wie Greta und Rezo nicht diskutieren wollen, schließlich fehlen überall die Qu…\n",
      "@reneloch tweeted: Verständlich, dass CDU, CSU und FDP mit Leuten wie Greta und Rezo nicht diskutieren wollen, schließlich fehlen über… https://t.co/6o2Rm64vj1\n",
      "@ak22233606 tweeted: RT @ArnoldSchiller: Ich würde ja so manchem Journalisten mal ein Blick in die Quellen von #rezo empfehlen https://t.co/F0bloinG2T dagegen i…\n",
      "@SocialGroner tweeted: RT @ArnoldSchiller: Ich würde ja so manchem Journalisten mal ein Blick in die Quellen von #rezo empfehlen https://t.co/F0bloinG2T dagegen i…\n",
      "@MoSchaefer66 tweeted: RT @ArnoldSchiller: Ich würde ja so manchem Journalisten mal ein Blick in die Quellen von #rezo empfehlen https://t.co/F0bloinG2T dagegen i…\n",
      "@BuddyBudsen tweeted: RT @ArnoldSchiller: Ich würde ja so manchem Journalisten mal ein Blick in die Quellen von #rezo empfehlen https://t.co/F0bloinG2T dagegen i…\n",
      "@ArnoldSchiller tweeted: @jotefes Das Geile an https://t.co/CZioc1lt23 ist, das es trotz des flapsigen Stils höhere Qualität hat als irgende… https://t.co/3uSmyKkh6i\n",
      "@GmbHProbleme tweeted: RT @ArnoldSchiller: Ich würde ja so manchem Journalisten mal ein Blick in die Quellen von #rezo empfehlen https://t.co/F0bloinG2T dagegen i…\n",
      "@ArnoldSchiller tweeted: Ich würde ja so manchem Journalisten mal ein Blick in die Quellen von #rezo empfehlen https://t.co/F0bloinG2T dageg… https://t.co/SBaCPC019L\n",
      "@czsystuvx tweeted: @hostettlerma @Mueller_M63 @brenntr @PresseratDE @DerSPIEGEL @SZ 5) Ich habe keinerlei Mitleid, dass Herr von zu Gu… https://t.co/oiZTQFYMmk\n",
      "@C_Holler tweeted: Dachte zuerst, das wäre vielleicht die Doktorarbeit von Kalle-Theo zu Guttenberg https://t.co/x0rUmQHEW9\n"
     ]
    }
   ],
   "source": [
    "from TwitterSearch import *\n",
    "try:\n",
    "    tso = TwitterSearchOrder() # create a TwitterSearchOrder object\n",
    "    tso.set_keywords(['Guttenberg', 'Doktorarbeit']) # let's define all words we would like to have a look for\n",
    "    tso.set_language('de') # we want to see German tweets only\n",
    "    tso.set_include_entities(False) # and don't give us all those entity information\n",
    "\n",
    "    # it's about time to create a TwitterSearch object with our secret tokens\n",
    "    ts = TwitterSearch(\n",
    "        consumer_key = 'RN8c5NZgCMu3CjPZVpXNMzWlI',\n",
    "        consumer_secret = 'MIEqrji2W3va1oX77X5U6v2ue2uez56W6CqPDjXlzPX7502BN3',\n",
    "        access_token = '866207578581159937-maahL37v8WlNYln0QEOacZ9GZQSRezD',\n",
    "        access_token_secret = 'M1paCafNWUtpCtGkvTrfAHGkpPX2fNLQXJFmcEGSfN51C'\n",
    "     )\n",
    "\n",
    "     # this is where the fun actually starts :)\n",
    "    for tweet in ts.search_tweets_iterable(tso):\n",
    "        print( '@%s tweeted: %s' % ( tweet['user']['screen_name'], tweet['text'] ) )\n",
    "\n",
    "except TwitterSearchException as e: # take care of all those ugly errors if there are some\n",
    "    print(e)"
   ]
  },
  {
   "cell_type": "code",
   "execution_count": null,
   "metadata": {},
   "outputs": [],
   "source": []
  }
 ],
 "metadata": {
  "hide_input": false,
  "kernelspec": {
   "display_name": "Python 3",
   "language": "python",
   "name": "python3"
  },
  "language_info": {
   "codemirror_mode": {
    "name": "ipython",
    "version": 3
   },
   "file_extension": ".py",
   "mimetype": "text/x-python",
   "name": "python",
   "nbconvert_exporter": "python",
   "pygments_lexer": "ipython3",
   "version": "3.7.2"
  },
  "toc": {
   "base_numbering": 1,
   "nav_menu": {},
   "number_sections": true,
   "sideBar": true,
   "skip_h1_title": false,
   "title_cell": "Table of Contents",
   "title_sidebar": "Contents",
   "toc_cell": false,
   "toc_position": {},
   "toc_section_display": true,
   "toc_window_display": false
  },
  "varInspector": {
   "cols": {
    "lenName": 16,
    "lenType": 16,
    "lenVar": 40
   },
   "kernels_config": {
    "python": {
     "delete_cmd_postfix": "",
     "delete_cmd_prefix": "del ",
     "library": "var_list.py",
     "varRefreshCmd": "print(var_dic_list())"
    },
    "r": {
     "delete_cmd_postfix": ") ",
     "delete_cmd_prefix": "rm(",
     "library": "var_list.r",
     "varRefreshCmd": "cat(var_dic_list()) "
    }
   },
   "types_to_exclude": [
    "module",
    "function",
    "builtin_function_or_method",
    "instance",
    "_Feature"
   ],
   "window_display": false
  }
 },
 "nbformat": 4,
 "nbformat_minor": 2
}
