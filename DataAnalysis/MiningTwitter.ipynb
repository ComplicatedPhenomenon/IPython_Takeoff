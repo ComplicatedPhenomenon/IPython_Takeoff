{
 "cells": [
  {
   "cell_type": "markdown",
   "metadata": {},
   "source": [
    "# Mining twitter data with tweepy"
   ]
  },
  {
   "cell_type": "code",
   "execution_count": null,
   "metadata": {},
   "outputs": [],
   "source": [
    "import tweepy\n",
    "from tweepy import OAuthHandler\n",
    " \n",
    "consumer_key = 'RN8c5NZgCMu3CjPZVpXNMzWlI'\n",
    "consumer_secret = 'MIEqrji2W3va1oX77X5U6v2ue2uez56W6CqPDjXlzPX7502BN3'\n",
    "access_token = '866207578581159937-maahL37v8WlNYln0QEOacZ9GZQSRezD'\n",
    "access_secret = 'M1paCafNWUtpCtGkvTrfAHGkpPX2fNLQXJFmcEGSfN51C'\n",
    " \n",
    "    \n",
    "auth = OAuthHandler(consumer_key, consumer_secret)\n",
    "auth.set_access_token(access_token, access_secret)\n",
    " \n",
    "#api = tweepy.API(auth)\n",
    "api = tweepy.API(auth,proxy=\"127.0.0.1:1087\") #8123是polipo的默认端口\n",
    "\n"
   ]
  },
  {
   "cell_type": "code",
   "execution_count": null,
   "metadata": {},
   "outputs": [],
   "source": [
    "tweets=api.home_timeline()\n",
    "for tweet in tweets:\n",
    "    print(tweet)"
   ]
  },
  {
   "cell_type": "markdown",
   "metadata": {},
   "source": [
    "## Collect a real-time tweet "
   ]
  },
  {
   "cell_type": "code",
   "execution_count": 16,
   "metadata": {},
   "outputs": [
    {
     "name": "stdout",
     "output_type": "stream",
     "text": [
      "🇨🇦Canada, the home of Perimeter Institute, has been ranked the number-one country on Earth for quality of life:… https://t.co/xER498ULu2\n",
      "Legal claim for @jguaido to declare himself President is article 233 of the Venezuelan constitution, which permits… https://t.co/FxjwWHA9gy\n",
      "RT @DataSciSalon: \"We want a 50:50 ratio of women to men in our engineering team, absolutely &amp; #Montreal is a g8 place to hire that talent.…\n",
      "#SUSECON Pre-Conference Training Workshops are incredible opportunities to have technology experts guide you throug… https://t.co/6fkAheZhJQ\n",
      "UK pollster YouGov: Arbitrarily detained @WikiLeaks publisher Julian Assange is the 7th most popular world figure i… https://t.co/aafxzPCp9y\n"
     ]
    }
   ],
   "source": [
    "for status in tweepy.Cursor(api.home_timeline).items(5):\n",
    "    # Process a single status\n",
    "    print(status.text)"
   ]
  },
  {
   "cell_type": "markdown",
   "metadata": {},
   "source": [
    "## Tweets from a Specific User"
   ]
  },
  {
   "cell_type": "code",
   "execution_count": 9,
   "metadata": {},
   "outputs": [
    {
     "name": "stdout",
     "output_type": "stream",
     "text": [
      "RT @JeffreeStar: MOOD: I see it, I like.. I want it, I got it 💯 https://t.co/EhfNXQYrZK\n",
      "@Okbabyyt @JessicaTayVlogs Definitely not going to have the best time ever eating a bunch of amazing food. Omg, als… https://t.co/5aPrEij6Uh\n",
      "The moon looks HUGE right now omg\n",
      "Just went to the Ellen show! It’s was everything and more! I’m shook.\n",
      "Hahahahaha\n",
      "RT @abbiejones_vlog: Only 999 to go!! Omg so close but it’s 2am so I have to sleep 😭 @JessicaTayVlogs @TrashyTiffany https://t.co/ALuMQ8kBx3\n",
      "New video! “Did I know she was going to propose to me?” https://t.co/S7cR35B8h5 💍❤️ https://t.co/c6BZDzVWqV\n",
      "YAAAAAAS! #Kamala2020 https://t.co/iBmSIFuImr\n",
      "@Okbabyyt Right haha\n",
      "Y’all ever seen a sky titty before? https://t.co/rEJp8Lxu6H\n",
      "We don’t trust you Dump. Why would we negotiate something you tried to repeal? We want DACA recipients to have perm… https://t.co/lL3oRY7g7u\n",
      "RT @Dezydgamez1016: Me watching @TrashyTiffany and @JessicaTayVlogs  for the had me like ⬇️⬇️ https://t.co/WnLMTKHLqy\n",
      "@BrittanyJoyal Rightttt! Lol\n",
      "Sonia really out here roasting me. 😂😂 Oh Sonia, you do crack me up. https://t.co/W9EwQ98s3s\n",
      "I think tomorrow is the day we might hit 100,000 subscribers. I can’t believe it.... This means so much to us. ❤️  https://t.co/qmKum1ARhG\n",
      "Guys I’m so sad! So for the last few months or so I’ve been getting terrible acne breakouts. I haven’t done anythin… https://t.co/DGQFVFnv7r\n",
      "RT @cmgibson98: I hope everyone’s happy with the same episodes of Friends y’all couldn’t live without https://t.co/bf2FLhKsAF\n",
      "Sex is great and all, but have y’all ever eaten perfectly seasoned crawfish?\n",
      "Damn you guys always catch me slipping! https://t.co/VTU4vtvkIO\n",
      "It’s been raining so much!!\n"
     ]
    }
   ],
   "source": [
    "# The Twitter user who we want to get tweets from\n",
    "name = \"TrashyTiffany\"\n",
    "# Number of tweets to pull\n",
    "tweetCount = 20\n",
    "\n",
    "# Calling the user_timeline function with our parameters\n",
    "results = api.user_timeline(id=name, count=tweetCount)\n",
    "\n",
    "# foreach through all tweets pulled\n",
    "for tweet in results:\n",
    "   # printing the text stored inside the tweet object\n",
    "   print (tweet.text)"
   ]
  },
  {
   "cell_type": "markdown",
   "metadata": {},
   "source": [
    "## Finding Tweets Using a Keyword"
   ]
  },
  {
   "cell_type": "code",
   "execution_count": 13,
   "metadata": {},
   "outputs": [
    {
     "name": "stdout",
     "output_type": "stream",
     "text": [
      "silvana_gaona13 Tweeted: RT @BallStreet: Neymar destroys Moataz Zemzemi with a rainbow flick after being kicked by him three times in a row. https://t.co/qIg0DAC6w1\n",
      "AnthonyDamascen Tweeted: I liked a @YouTube video https://t.co/bLKEmWkaui Funniest Pro Rainbow Six Siege Game EVER!!!\n",
      "harrymart1n Tweeted: RT @BallStreet: Neymar destroys Moataz Zemzemi with a rainbow flick after being kicked by him three times in a row. https://t.co/qIg0DAC6w1\n",
      "LeedsLGBTInfo Tweeted: RT @wyqueerstories: Queer crafting from 11am-3pm at our LGBT History Month celebration at @LeedsCityMuseum on Sat 9th Feb and it's all FREE…\n",
      "Muhsin_mcr Tweeted: RT @BallStreet: Neymar destroys Moataz Zemzemi with a rainbow flick after being kicked by him three times in a row. https://t.co/qIg0DAC6w1\n",
      "milli_ace Tweeted: RT @BallStreet: Neymar destroys Moataz Zemzemi with a rainbow flick after being kicked by him three times in a row. https://t.co/qIg0DAC6w1\n",
      "Jonoscarfe Tweeted: RT @BallStreet: Neymar destroys Moataz Zemzemi with a rainbow flick after being kicked by him three times in a row. https://t.co/qIg0DAC6w1\n",
      "Fahim_Pudding Tweeted: RT @BallStreet: Neymar destroys Moataz Zemzemi with a rainbow flick after being kicked by him three times in a row. https://t.co/qIg0DAC6w1\n",
      "xoxoNazi Tweeted: RT @BallStreet: Neymar destroys Moataz Zemzemi with a rainbow flick after being kicked by him three times in a row. https://t.co/qIg0DAC6w1\n",
      "afxqazxzi Tweeted: RT @BallStreet: Neymar destroys Moataz Zemzemi with a rainbow flick after being kicked by him three times in a row. https://t.co/qIg0DAC6w1\n",
      "CurtisOnlinee Tweeted: RT @BallStreet: Neymar destroys Moataz Zemzemi with a rainbow flick after being kicked by him three times in a row. https://t.co/qIg0DAC6w1\n",
      "Dhanuu9 Tweeted: RT @BallStreet: Neymar destroys Moataz Zemzemi with a rainbow flick after being kicked by him three times in a row. https://t.co/qIg0DAC6w1\n",
      "JMehat Tweeted: RT @BallStreet: Neymar destroys Moataz Zemzemi with a rainbow flick after being kicked by him three times in a row. https://t.co/qIg0DAC6w1\n",
      "LewisKiddell Tweeted: RT @BallStreet: Neymar destroys Moataz Zemzemi with a rainbow flick after being kicked by him three times in a row. https://t.co/qIg0DAC6w1\n"
     ]
    }
   ],
   "source": [
    "# The search term you want to find\n",
    "query = \"rainbow\"\n",
    "# Language code (follows ISO 639-1 standards)\n",
    "language = \"en\"\n",
    "\n",
    "# Calling the user_timeline function with our parameters\n",
    "results = api.search(q=query, lang=language)\n",
    "\n",
    "# foreach through all tweets pulled\n",
    "for tweet in results:\n",
    "   # printing the text stored inside the tweet object\n",
    "   print (tweet.user.screen_name,\"Tweeted:\",tweet.text)"
   ]
  },
  {
   "cell_type": "markdown",
   "metadata": {},
   "source": [
    "# Mining twitter with [python-twitter](https://github.com/bear/python-twitter)"
   ]
  },
  {
   "cell_type": "code",
   "execution_count": null,
   "metadata": {},
   "outputs": [],
   "source": [
    "import twitter\n",
    " \n",
    "consumer_key = 'RN8c5NZgCMu3CjPZVpXNMzWlI'\n",
    "consumer_secret = 'MIEqrji2W3va1oX77X5U6v2ue2uez56W6CqPDjXlzPX7502BN3'\n",
    "access_token = '866207578581159937-maahL37v8WlNYln0QEOacZ9GZQSRezD'\n",
    "access_secret = 'M1paCafNWUtpCtGkvTrfAHGkpPX2fNLQXJFmcEGSfN51C'\n",
    "\n",
    "api = twitter.api(consumer_key='consumer_key',\n",
    "                      consumer_secret='consumer_secret',\n",
    "                      access_token_key='access_token',\n",
    "                      access_token_secret='access_secret')"
   ]
  },
  {
   "cell_type": "markdown",
   "metadata": {},
   "source": [
    "# Using twitter with [TwitterSearch](https://github.com/ckoepp/TwitterSearch)"
   ]
  },
  {
   "cell_type": "code",
   "execution_count": null,
   "metadata": {},
   "outputs": [],
   "source": [
    "from TwitterSearch import *\n",
    "try:\n",
    "    tso = TwitterSearchOrder() # create a TwitterSearchOrder object\n",
    "    tso.set_keywords(['Guttenberg', 'Doktorarbeit']) # let's define all words we would like to have a look for\n",
    "    tso.set_language('de') # we want to see German tweets only\n",
    "    tso.set_include_entities(False) # and don't give us all those entity information\n",
    "\n",
    "    # it's about time to create a TwitterSearch object with our secret tokens\n",
    "    ts = TwitterSearch(\n",
    "        consumer_key = 'RN8c5NZgCMu3CjPZVpXNMzWlI',\n",
    "        consumer_secret = 'MIEqrji2W3va1oX77X5U6v2ue2uez56W6CqPDjXlzPX7502BN3',\n",
    "        access_token = '866207578581159937-maahL37v8WlNYln0QEOacZ9GZQSRezD',\n",
    "        access_token_secret = 'M1paCafNWUtpCtGkvTrfAHGkpPX2fNLQXJFmcEGSfN51C'\n",
    "     )\n",
    "\n",
    "     # this is where the fun actually starts :)\n",
    "    for tweet in ts.search_tweets_iterable(tso):\n",
    "        print( '@%s tweeted: %s' % ( tweet['user']['screen_name'], tweet['text'] ) )\n",
    "\n",
    "except TwitterSearchException as e: # take care of all those ugly errors if there are some\n",
    "    print(e)"
   ]
  }
 ],
 "metadata": {
  "hide_input": false,
  "kernelspec": {
   "display_name": "Python 3",
   "language": "python",
   "name": "python3"
  },
  "language_info": {
   "codemirror_mode": {
    "name": "ipython",
    "version": 3
   },
   "file_extension": ".py",
   "mimetype": "text/x-python",
   "name": "python",
   "nbconvert_exporter": "python",
   "pygments_lexer": "ipython3",
   "version": "3.7.0"
  },
  "toc": {
   "base_numbering": 1,
   "nav_menu": {},
   "number_sections": true,
   "sideBar": true,
   "skip_h1_title": false,
   "title_cell": "Table of Contents",
   "title_sidebar": "Contents",
   "toc_cell": false,
   "toc_position": {},
   "toc_section_display": true,
   "toc_window_display": false
  },
  "varInspector": {
   "cols": {
    "lenName": 16,
    "lenType": 16,
    "lenVar": 40
   },
   "kernels_config": {
    "python": {
     "delete_cmd_postfix": "",
     "delete_cmd_prefix": "del ",
     "library": "var_list.py",
     "varRefreshCmd": "print(var_dic_list())"
    },
    "r": {
     "delete_cmd_postfix": ") ",
     "delete_cmd_prefix": "rm(",
     "library": "var_list.r",
     "varRefreshCmd": "cat(var_dic_list()) "
    }
   },
   "types_to_exclude": [
    "module",
    "function",
    "builtin_function_or_method",
    "instance",
    "_Feature"
   ],
   "window_display": false
  }
 },
 "nbformat": 4,
 "nbformat_minor": 2
}
