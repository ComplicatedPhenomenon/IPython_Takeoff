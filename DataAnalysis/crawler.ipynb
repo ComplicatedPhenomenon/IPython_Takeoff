{
 "cells": [
  {
   "cell_type": "code",
   "execution_count": 5,
   "metadata": {},
   "outputs": [],
   "source": [
    "from IPython.core.interactiveshell import InteractiveShell\n",
    "InteractiveShell.ast_node_interactivity = \"all\""
   ]
  },
  {
   "cell_type": "markdown",
   "metadata": {},
   "source": [
    "# Zhihu"
   ]
  },
  {
   "cell_type": "code",
   "execution_count": 6,
   "metadata": {},
   "outputs": [],
   "source": [
    "import json\n",
    "import pandas as pd"
   ]
  },
  {
   "cell_type": "code",
   "execution_count": null,
   "metadata": {},
   "outputs": [],
   "source": [
    "%cd /Users/kylewong/Playground/GL/CollectionsofScripts/"
   ]
  },
  {
   "cell_type": "code",
   "execution_count": null,
   "metadata": {},
   "outputs": [],
   "source": [
    "from zhihu_oauth import ZhihuClient, Answer, Article\n",
    "client = ZhihuClient()\n",
    "client.login_in_terminal(username=None, password=None, use_getpass=True, captcha_filename=None)"
   ]
  },
  {
   "cell_type": "code",
   "execution_count": null,
   "metadata": {},
   "outputs": [],
   "source": [
    "q2 = client.question(43454328)\n",
    "i = 1\n",
    "for q in q2.answers:\n",
    "    if i < 4: # define the number of answers you want to print\n",
    "        print (q.content)\n",
    "        print (q.author.name)\n",
    "        print (\"---------------------\")\n",
    "        print (\"|     DIVID LINE    |\")\n",
    "        print (\"---------------------\")\n",
    "        for c in  q.comments:\n",
    "            print (c.author.name)\n",
    "            print (c.content)\n",
    "            print (\"---------------------\")\n",
    "            print (\"---------------------\")\n",
    "        i = i+1\n",
    "    else:\n",
    "        exit()"
   ]
  },
  {
   "cell_type": "markdown",
   "metadata": {},
   "source": [
    "# QQ zone"
   ]
  },
  {
   "cell_type": "markdown",
   "metadata": {},
   "source": [
    "## Prepare the data"
   ]
  },
  {
   "cell_type": "code",
   "execution_count": null,
   "metadata": {},
   "outputs": [],
   "source": [
    "%cp -r /Users/wangmiao/Playground/Crawler/QzoneExporter/825217399/ ."
   ]
  },
  {
   "cell_type": "code",
   "execution_count": null,
   "metadata": {},
   "outputs": [],
   "source": [
    "%ls"
   ]
  },
  {
   "cell_type": "code",
   "execution_count": null,
   "metadata": {},
   "outputs": [],
   "source": [
    "%ls shuoshuo/"
   ]
  },
  {
   "cell_type": "code",
   "execution_count": null,
   "metadata": {},
   "outputs": [],
   "source": [
    "main_info = pd.read_json(\"825217399_main_page.json\")"
   ]
  },
  {
   "cell_type": "markdown",
   "metadata": {},
   "source": [
    "https://stackoverflow.com/questions/49505872/read-json-to-pandas-dataframe-valueerror-mixing-dicts-with-non-series-may-lea"
   ]
  },
  {
   "cell_type": "markdown",
   "metadata": {},
   "source": [
    "## Import json data"
   ]
  },
  {
   "cell_type": "code",
   "execution_count": 36,
   "metadata": {},
   "outputs": [
    {
     "data": {
      "text/plain": [
       "2"
      ]
     },
     "execution_count": 36,
     "metadata": {},
     "output_type": "execute_result"
    }
   ],
   "source": [
    "a = [1, 2]\n",
    "a[1]"
   ]
  },
  {
   "cell_type": "markdown",
   "metadata": {},
   "source": [
    "https://www.datacamp.com/community/tutorials/python-list-comprehension"
   ]
  },
  {
   "cell_type": "code",
   "execution_count": 34,
   "metadata": {},
   "outputs": [
    {
     "ename": "IndexError",
     "evalue": "list assignment index out of range",
     "output_type": "error",
     "traceback": [
      "\u001b[0;31m---------------------------------------------------------------------------\u001b[0m",
      "\u001b[0;31mIndexError\u001b[0m                                Traceback (most recent call last)",
      "\u001b[0;32m<ipython-input-34-802345d89c6c>\u001b[0m in \u001b[0;36m<module>\u001b[0;34m()\u001b[0m\n\u001b[1;32m      1\u001b[0m \u001b[0mshuoshuo\u001b[0m \u001b[0;34m=\u001b[0m \u001b[0;34m[\u001b[0m\u001b[0;34m]\u001b[0m\u001b[0;34m\u001b[0m\u001b[0m\n\u001b[0;32m----> 2\u001b[0;31m \u001b[0mshuoshuo\u001b[0m\u001b[0;34m[\u001b[0m\u001b[0;36m0\u001b[0m\u001b[0;34m]\u001b[0m \u001b[0;34m=\u001b[0m \u001b[0mjson\u001b[0m\u001b[0;34m.\u001b[0m\u001b[0mload\u001b[0m\u001b[0;34m(\u001b[0m\u001b[0mopen\u001b[0m\u001b[0;34m(\u001b[0m\u001b[0;34m\"shuoshuo/shuoshuo_00000-00038.json\"\u001b[0m\u001b[0;34m)\u001b[0m\u001b[0;34m)\u001b[0m\u001b[0;34m\u001b[0m\u001b[0m\n\u001b[0m\u001b[1;32m      3\u001b[0m \u001b[0mshuoshuo\u001b[0m\u001b[0;34m[\u001b[0m\u001b[0;36m1\u001b[0m\u001b[0;34m]\u001b[0m \u001b[0;34m=\u001b[0m \u001b[0mjson\u001b[0m\u001b[0;34m.\u001b[0m\u001b[0mload\u001b[0m\u001b[0;34m(\u001b[0m\u001b[0mopen\u001b[0m\u001b[0;34m(\u001b[0m\u001b[0;34m\"shuoshuo/shuoshuo_00040-00079.json\"\u001b[0m\u001b[0;34m)\u001b[0m\u001b[0;34m)\u001b[0m\u001b[0;34m\u001b[0m\u001b[0m\n\u001b[1;32m      4\u001b[0m \u001b[0mshuoshuo\u001b[0m\u001b[0;34m[\u001b[0m\u001b[0;36m2\u001b[0m\u001b[0;34m]\u001b[0m\u001b[0;34m=\u001b[0m \u001b[0mjson\u001b[0m\u001b[0;34m.\u001b[0m\u001b[0mload\u001b[0m\u001b[0;34m(\u001b[0m\u001b[0mopen\u001b[0m\u001b[0;34m(\u001b[0m\u001b[0;34m\"shuoshuo/shuoshuo_00080-00119.json\"\u001b[0m\u001b[0;34m)\u001b[0m\u001b[0;34m)\u001b[0m\u001b[0;34m\u001b[0m\u001b[0m\n\u001b[1;32m      5\u001b[0m \u001b[0mshuoshuo\u001b[0m\u001b[0;34m[\u001b[0m\u001b[0;36m3\u001b[0m\u001b[0;34m]\u001b[0m\u001b[0;34m=\u001b[0m \u001b[0mjson\u001b[0m\u001b[0;34m.\u001b[0m\u001b[0mload\u001b[0m\u001b[0;34m(\u001b[0m\u001b[0mopen\u001b[0m\u001b[0;34m(\u001b[0m\u001b[0;34m\"shuoshuo/shuoshuo_00120-00159.json\"\u001b[0m\u001b[0;34m)\u001b[0m\u001b[0;34m)\u001b[0m\u001b[0;34m\u001b[0m\u001b[0m\n",
      "\u001b[0;31mIndexError\u001b[0m: list assignment index out of range"
     ]
    }
   ],
   "source": [
    "shuoshuo = []\n",
    "shuoshuo[0] = json.load(open(\"shuoshuo/shuoshuo_00000-00038.json\"))\n",
    "shuoshuo[1] = json.load(open(\"shuoshuo/shuoshuo_00040-00079.json\"))\n",
    "shuoshuo[2]= json.load(open(\"shuoshuo/shuoshuo_00080-00119.json\"))\n",
    "shuoshuo[3]= json.load(open(\"shuoshuo/shuoshuo_00120-00159.json\"))\n",
    "shuoshuo[4]= json.load(open(\"shuoshuo/shuoshuo_00160-00199.json\"))\n",
    "shuoshuo[5]= json.load(open(\"shuoshuo/shuoshuo_00200-00239.json\"))"
   ]
  },
  {
   "cell_type": "code",
   "execution_count": 14,
   "metadata": {},
   "outputs": [
    {
     "name": "stdout",
     "output_type": "stream",
     "text": [
      "{\r\n",
      "    \"auth_flag\": 0,\r\n",
      "    \"censor_count\": 0,\r\n",
      "    \"censor_flag\": 0,\r\n",
      "    \"censor_total\": 0,\r\n",
      "    \"cginame\": 2,\r\n",
      "    \"code\": 0,\r\n",
      "    \"logininfo\": {\r\n",
      "        \"name\": \"王妙\",\r\n",
      "        \"uin\": 1083088454\r\n",
      "    },\r\n",
      "    \"message\": \"\",\r\n",
      "    \"msglist\": [\r\n",
      "        {\r\n",
      "            \"certified\": 0,\r\n",
      "            \"cmtnum\": 2,\r\n",
      "            \"commentlist\": [\r\n",
      "                {\r\n",
      "                    \"IsPasswordLuckyMoneyCmtRight\": \"\",\r\n",
      "                    \"abledel\": 0,\r\n",
      "                    \"content\": \"什么开心的事\",\r\n",
      "                    \"createTime\": \"2018年12月08日\",\r\n",
      "                    \"createTime2\": \"2018-12-08 20:56:59\",\r\n",
      "                    \"create_time\": 1544273819,\r\n",
      "                    \"list_3\": [\r\n",
      "                        {\r\n",
      "                            \"abledel\": 0,\r\n",
      "                            \"content\": \"@{uin:523481504,nick:因为有你,who:1,auto:1}[em]e400851[/em][em]e400823[/em]\",\r\n",
      "                            \"createTime\": \"2018年12月09日\",\r\n",
      "                            \"createTime2\": \"2018-12-09 08:22:09\",\r\n",
      "                            \"create_time\": 1544314929,\r\n",
      "                            \"name\": \"冯雯\",\r\n",
      "                            \"source_name\": \"\",\r\n",
      "                            \"source_url\": \"\",\r\n",
      "                            \"t3_source\": 1,\r\n",
      "                            \"t3_subtype\": 2,\r\n",
      "                            \"t3_termtype\": 2,\r\n",
      "                            \"tid\": 1,\r\n",
      "                            \"uin\": 825217399\r\n",
      "                        }\r\n",
      "                    ],\r\n",
      "                    \"name\": \"因为有你\",\r\n",
      "                    \"private\": 0,\r\n",
      "                    \"reply_num\": 1,\r\n",
      "                    \"source_name\": \"\",\r\n",
      "                    \"source_url\": \"\",\r\n",
      "                    \"t2_source\": 1,\r\n",
      "                    \"t2_subtype\": 2,\r\n",
      "                    \"t2_termtype\": 2,\r\n",
      "                    \"tid\": 1,\r\n",
      "                    \"uin\": 523481504\r\n",
      "                },\r\n",
      "                {\r\n",
      "                    \"IsPasswordLuckyMoneyCmtRight\": \"\",\r\n",
      "                    \"abledel\": 0,\r\n",
      "                    \"content\": \"你还喜欢发说说\",\r\n",
      "                    \"createTime\": \"2018年12月08日\",\r\n",
      "                    \"createTime2\": \"2018-12-08 22:19:43\",\r\n",
      "                    \"create_time\": 1544278783,\r\n",
      "                    \"list_3\": [\r\n",
      "                        {\r\n",
      "                            \"abledel\": 0,\r\n",
      "                            \"content\": \"@{uin:1421361970,nick:花开不败,who:1,auto:1}记录心情[em]e400832[/em]\",\r\n",
      "                            \"createTime\": \"2018年12月09日\",\r\n",
      "                            \"createTime2\": \"2018-12-09 08:22:01\",\r\n",
      "                            \"create_time\": 1544314921,\r\n",
      "                            \"name\": \"冯雯\",\r\n",
      "                            \"source_name\": \"\",\r\n",
      "                            \"source_url\": \"\",\r\n",
      "                            \"t3_source\": 1,\r\n",
      "                            \"t3_subtype\": 2,\r\n",
      "                            \"t3_termtype\": 2,\r\n",
      "                            \"tid\": 1,\r\n",
      "                            \"uin\": 825217399\r\n",
      "                        }\r\n",
      "                    ],\r\n",
      "                    \"name\": \"花开不败\",\r\n",
      "                    \"private\": 0,\r\n",
      "                    \"reply_num\": 1,\r\n",
      "                    \"source_name\": \"\",\r\n",
      "                    \"source_url\": \"\",\r\n",
      "                    \"t2_source\": 1,\r\n",
      "                    \"t2_subtype\": 2,\r\n",
      "                    \"t2_termtype\": 2,\r\n",
      "                    \"tid\": 2,\r\n",
      "                    \"uin\": 1421361970\r\n",
      "                }\r\n",
      "            ],\r\n",
      "            \"conlist\": [\r\n",
      "                {\r\n",
      "                    \"con\": \"开心，希望这个开心不要太早。[em]e400824[/em]\",\r\n",
      "                    \"type\": 2\r\n",
      "                }\r\n",
      "            ],\r\n",
      "            \"content\": \"开心，希望这个开心不要太早。[em]e400824[/em]\",\r\n",
      "            \"createTime\": \"2018年12月08日\",\r\n",
      "            \"created_time\": 1544272221,\r\n",
      "            \"editMask\": 4294967294,\r\n",
      "            \"fwdnum\": 0,\r\n",
      "            \"has_more_con\": 0,\r\n",
      "            \"isEditable\": 1,\r\n",
      "            \"issigin\": 0,\r\n",
      "            \"lbs\": {\r\n",
      "                \"id\": \"\",\r\n",
      "                \"idname\": \"\",\r\n",
      "                \"name\": \"\",\r\n",
      "                \"pos_x\": \"\",\r\n",
      "                \"pos_y\": \"\"\r\n",
      "            },\r\n",
      "            \"name\": \"冯雯\",\r\n",
      "            \"pic_template\": \"\",\r\n",
      "            \"right\": 1,\r\n",
      "            \"rt_sum\": 0,\r\n",
      "            \"secret\": 0,\r\n",
      "            \"source_appid\": \"\",\r\n",
      "            \"source_name\": \"\",\r\n",
      "            \"source_url\": \"\",\r\n",
      "            \"t1_source\": 1,\r\n",
      "            \"t1_subtype\": 2,\r\n",
      "            \"t1_termtype\": 4,\r\n",
      "            \"tid\": \"77d12f315db90b5c61fe0b00\",\r\n",
      "            \"ugc_right\": 1,\r\n",
      "            \"uin\": 825217399,\r\n",
      "            \"wbid\": 0\r\n",
      "        },\r\n",
      "        {\r\n",
      "            \"certified\": 0,\r\n",
      "            \"cmtnum\": 0,\r\n",
      "            \"commentlist\": null,\r\n",
      "            \"conlist\": [\r\n",
      "                {\r\n",
      "                    \"con\": \"向楠同学的告别宴。\",\r\n",
      "                    \"type\": 2\r\n",
      "                }\r\n",
      "            ],\r\n",
      "            \"content\": \"向楠同学的告别宴。\",\r\n",
      "            \"createTime\": \"2018年11月10日\",\r\n",
      "            \"created_time\": 1541846221,\r\n",
      "            \"editMask\": 4294967294,\r\n",
      "            \"fwdnum\": 0,\r\n",
      "            \"has_more_con\": 0,\r\n",
      "            \"isEditable\": 1,\r\n",
      "            \"issigin\": 0,\r\n",
      "            \"lbs\": {\r\n",
      "                \"id\": \"\",\r\n",
      "                \"idname\": \"\",\r\n",
      "                \"name\": \"\",\r\n",
      "                \"pos_x\": \"\",\r\n",
      "                \"pos_y\": \"\"\r\n",
      "            },\r\n",
      "            \"name\": \"冯雯\",\r\n",
      "            \"pic\": [\r\n",
      "                {\r\n",
      "                    \"absolute_position\": 0,\r\n",
      "                    \"b_height\": 0,\r\n",
      "                    \"b_width\": 0,\r\n",
      "                    \"curlikekey\": \"http://user.qzone.qq.com/825217399/mood/77d12f31cdb4e65baa330700.1^||^http://b19.photo.store.qq.com/psb?/V10X95Vr2kg6Uv/0wl4QE.RUShGv.bJHqh3R0IjZY3x7NfsQCWmQxpJCUE!/b/dBMAAAAAAAAA&bo=QAZVCEAGVQgRIBc!^||^0\",\r\n",
      "                    \"height\": 2133,\r\n",
      "                    \"pic_id\": \"http://b19.photo.store.qq.com/psb?/V10X95Vr2kg6Uv/0wl4QE.RUShGv.bJHqh3R0IjZY3x7NfsQCWmQxpJCUE!/b/dBMAAAAAAAAA&bo=QAZVCEAGVQgRIBc!\",\r\n",
      "                    \"pictype\": 0,\r\n",
      "                    \"richsubtype\": 10000,\r\n",
      "                    \"smallurl\": \"http://b19.photo.store.qq.com/psb?/V10X95Vr2kg6Uv/0wl4QE.RUShGv.bJHqh3R0IjZY3x7NfsQCWmQxpJCUE!/b/dBMAAAAAAAAA&bo=QAZVCEAGVQgRIBc!\",\r\n",
      "                    \"unilikekey\": \"http://user.qzone.qq.com/825217399/mood/77d12f31cdb4e65baa330700.1^||^http://b19.photo.store.qq.com/psb?/V10X95Vr2kg6Uv/0wl4QE.RUShGv.bJHqh3R0IjZY3x7NfsQCWmQxpJCUE!/b/dBMAAAAAAAAA&bo=QAZVCEAGVQgRIBc!^||^0\",\r\n",
      "                    \"url1\": \"http://b19.photo.store.qq.com/psb?/V10X95Vr2kg6Uv/0wl4QE.RUShGv.bJHqh3R0IjZY3x7NfsQCWmQxpJCUE!/b/dBMAAAAAAAAA&bo=QAZVCEAGVQgRIBc!\",\r\n",
      "                    \"url2\": \"http://b19.photo.store.qq.com/psb?/V10X95Vr2kg6Uv/0wl4QE.RUShGv.bJHqh3R0IjZY3x7NfsQCWmQxpJCUE!/b/dBMAAAAAAAAA&bo=QAZVCEAGVQgRIBc!\",\r\n",
      "                    \"url3\": \"http://b19.photo.store.qq.com/psb?/V10X95Vr2kg6Uv/0wl4QE.RUShGv.bJHqh3R0IjZY3x7NfsQCWmQxpJCUE!/b/dBMAAAAAAAAA&bo=QAZVCEAGVQgRIBc!\",\r\n",
      "                    \"who\": 2,\r\n",
      "                    \"width\": 1600\r\n",
      "                }\r\n",
      "            ],\r\n",
      "            \"pic_template\": \"\",\r\n",
      "            \"pictotal\": 1,\r\n",
      "            \"right\": 1,\r\n",
      "            \"rt_sum\": 0,\r\n",
      "            \"secret\": 0,\r\n",
      "            \"source_appid\": \"\",\r\n",
      "            \"source_name\": \"\",\r\n",
      "            \"source_url\": \"\",\r\n",
      "            \"t1_source\": 1,\r\n",
      "            \"t1_subtype\": 2,\r\n",
      "            \"t1_termtype\": 4,\r\n",
      "            \"tid\": \"77d12f31cdb4e65baa330700\",\r\n",
      "            \"ugc_right\": 1,\r\n",
      "            \"uin\": 825217399,\r\n",
      "            \"wbid\": 0\r\n",
      "        },\r\n",
      "        {\r\n",
      "            \"certified\": 0,\r\n",
      "            \"cmtnum\": 0,\r\n",
      "            \"commentlist\": null,\r\n",
      "            \"conlist\": [\r\n",
      "                {\r\n",
      "                    \"con\": \"悲伤那么大，人生果然就是一场别离。[em]e400867[/em]\",\r\n",
      "                    \"type\": 2\r\n",
      "                }\r\n",
      "            ],\r\n",
      "            \"content\": \"悲伤那么大，人生果然就是一场别离。[em]e400867[/em]\",\r\n",
      "            \"createTime\": \"2018年11月05日\",\r\n",
      "            \"created_time\": 1541428568,\r\n",
      "            \"editMask\": 4294967294,\r\n",
      "            \"fwdnum\": 0,\r\n",
      "            \"has_more_con\": 0,\r\n",
      "            \"isEditable\": 1,\r\n",
      "            \"issigin\": 0,\r\n",
      "            \"lbs\": {\r\n",
      "                \"id\": \"\",\r\n",
      "                \"idname\": \"\",\r\n",
      "                \"name\": \"\",\r\n",
      "                \"pos_x\": \"\",\r\n",
      "                \"pos_y\": \"\"\r\n",
      "            },\r\n",
      "            \"name\": \"冯雯\",\r\n",
      "            \"pic\": [\r\n",
      "                {\r\n",
      "                    \"absolute_position\": 0,\r\n",
      "                    \"b_height\": 0,\r\n",
      "                    \"b_width\": 0,\r\n",
      "                    \"curlikekey\": \"http://user.qzone.qq.com/825217399/mood/77d12f315855e05b17dd0d00.1^||^http://b81.photo.store.qq.com/psb?/V10X95Vr2kg6Uv/8wOcIc7u*RT8ei59NIjpToLjRF7mggTVLuO..6bAJYg!/b/dFEAAAAAAAAA&bo=OASABzgEgAcRECc!^||^0\",\r\n",
      "                    \"height\": 1920,\r\n",
      "                    \"pic_id\": \"http://b81.photo.store.qq.com/psb?/V10X95Vr2kg6Uv/8wOcIc7u*RT8ei59NIjpToLjRF7mggTVLuO..6bAJYg!/b/dFEAAAAAAAAA&bo=OASABzgEgAcRECc!\",\r\n",
      "                    \"pictype\": 0,\r\n",
      "                    \"richsubtype\": 10000,\r\n",
      "                    \"smallurl\": \"http://b81.photo.store.qq.com/psb?/V10X95Vr2kg6Uv/8wOcIc7u*RT8ei59NIjpToLjRF7mggTVLuO..6bAJYg!/b/dFEAAAAAAAAA&bo=OASABzgEgAcRECc!\",\r\n",
      "                    \"unilikekey\": \"http://user.qzone.qq.com/825217399/mood/77d12f315855e05b17dd0d00.1^||^http://b81.photo.store.qq.com/psb?/V10X95Vr2kg6Uv/8wOcIc7u*RT8ei59NIjpToLjRF7mggTVLuO..6bAJYg!/b/dFEAAAAAAAAA&bo=OASABzgEgAcRECc!^||^0\",\r\n",
      "                    \"url1\": \"http://b81.photo.store.qq.com/psb?/V10X95Vr2kg6Uv/8wOcIc7u*RT8ei59NIjpToLjRF7mggTVLuO..6bAJYg!/b/dFEAAAAAAAAA&bo=OASABzgEgAcRECc!\",\r\n",
      "                    \"url2\": \"http://b81.photo.store.qq.com/psb?/V10X95Vr2kg6Uv/8wOcIc7u*RT8ei59NIjpToLjRF7mggTVLuO..6bAJYg!/b/dFEAAAAAAAAA&bo=OASABzgEgAcRECc!\",\r\n",
      "                    \"url3\": \"http://b81.photo.store.qq.com/psb?/V10X95Vr2kg6Uv/8wOcIc7u*RT8ei59NIjpToLjRF7mggTVLuO..6bAJYg!/b/dFEAAAAAAAAA&bo=OASABzgEgAcRECc!\",\r\n",
      "                    \"who\": 2,\r\n",
      "                    \"width\": 1080\r\n",
      "                }\r\n",
      "            ],\r\n",
      "            \"pic_template\": \"\",\r\n",
      "            \"pictotal\": 1,\r\n",
      "            \"right\": 1,\r\n",
      "            \"rt_sum\": 0,\r\n",
      "            \"secret\": 0,\r\n",
      "            \"source_appid\": \"\",\r\n",
      "      "
     ]
    },
    {
     "data": {
      "text/html": [
       "<b>limit_output extension: Maximum message size of 10000 exceeded with 214085 characters</b>"
      ]
     },
     "metadata": {},
     "output_type": "display_data"
    }
   ],
   "source": [
    "%cat shuoshuo/shuoshuo_00000-00038.json"
   ]
  },
  {
   "cell_type": "markdown",
   "metadata": {},
   "source": [
    "## Overview of the data"
   ]
  },
  {
   "cell_type": "code",
   "execution_count": null,
   "metadata": {},
   "outputs": [],
   "source": [
    "shuoshuo_1.items()"
   ]
  },
  {
   "cell_type": "code",
   "execution_count": 16,
   "metadata": {},
   "outputs": [
    {
     "data": {
      "text/plain": [
       "dict"
      ]
     },
     "execution_count": 16,
     "metadata": {},
     "output_type": "execute_result"
    },
    {
     "data": {
      "text/plain": [
       "list"
      ]
     },
     "execution_count": 16,
     "metadata": {},
     "output_type": "execute_result"
    }
   ],
   "source": [
    "type(shuoshuo_1)\n",
    "type(shuoshuo_1[\"msglist\"])"
   ]
  },
  {
   "cell_type": "code",
   "execution_count": 17,
   "metadata": {},
   "outputs": [],
   "source": [
    "shuoshuo_1_msglist = pd.DataFrame(shuoshuo_1[\"msglist\"])"
   ]
  },
  {
   "cell_type": "code",
   "execution_count": 20,
   "metadata": {},
   "outputs": [
    {
     "data": {
      "text/plain": [
       "Index(['certified', 'cmtnum', 'commentlist', 'conlist', 'content',\n",
       "       'createTime', 'created_time', 'editMask', 'fwdnum', 'has_more_con',\n",
       "       'isEditable', 'issigin', 'lbs', 'name', 'pic', 'pic_template',\n",
       "       'pictotal', 'right', 'rt_sum', 'secret', 'source_appid', 'source_name',\n",
       "       'source_url', 'story_info', 't1_source', 't1_subtype', 't1_termtype',\n",
       "       'tid', 'ugc_right', 'uin', 'wbid'],\n",
       "      dtype='object')"
      ]
     },
     "execution_count": 20,
     "metadata": {},
     "output_type": "execute_result"
    }
   ],
   "source": [
    "shuoshuo_1_msglist.columns"
   ]
  },
  {
   "cell_type": "code",
   "execution_count": 21,
   "metadata": {},
   "outputs": [
    {
     "name": "stdout",
     "output_type": "stream",
     "text": [
      "<class 'pandas.core.frame.DataFrame'>\n",
      "RangeIndex: 39 entries, 0 to 38\n",
      "Data columns (total 31 columns):\n",
      "certified       39 non-null int64\n",
      "cmtnum          39 non-null int64\n",
      "commentlist     32 non-null object\n",
      "conlist         39 non-null object\n",
      "content         39 non-null object\n",
      "createTime      39 non-null object\n",
      "created_time    39 non-null int64\n",
      "editMask        39 non-null int64\n",
      "fwdnum          39 non-null int64\n",
      "has_more_con    39 non-null int64\n",
      "isEditable      39 non-null int64\n",
      "issigin         39 non-null int64\n",
      "lbs             39 non-null object\n",
      "name            39 non-null object\n",
      "pic             21 non-null object\n",
      "pic_template    39 non-null object\n",
      "pictotal        21 non-null float64\n",
      "right           39 non-null int64\n",
      "rt_sum          39 non-null int64\n",
      "secret          39 non-null int64\n",
      "source_appid    39 non-null object\n",
      "source_name     39 non-null object\n",
      "source_url      39 non-null object\n",
      "story_info      1 non-null object\n",
      "t1_source       39 non-null int64\n",
      "t1_subtype      39 non-null int64\n",
      "t1_termtype     39 non-null int64\n",
      "tid             39 non-null object\n",
      "ugc_right       39 non-null int64\n",
      "uin             39 non-null int64\n",
      "wbid            39 non-null int64\n",
      "dtypes: float64(1), int64(17), object(13)\n",
      "memory usage: 9.5+ KB\n"
     ]
    }
   ],
   "source": [
    "shuoshuo_1_msglist.info()"
   ]
  },
  {
   "cell_type": "code",
   "execution_count": 22,
   "metadata": {},
   "outputs": [
    {
     "data": {
      "text/html": [
       "<div>\n",
       "<style scoped>\n",
       "    .dataframe tbody tr th:only-of-type {\n",
       "        vertical-align: middle;\n",
       "    }\n",
       "\n",
       "    .dataframe tbody tr th {\n",
       "        vertical-align: top;\n",
       "    }\n",
       "\n",
       "    .dataframe thead th {\n",
       "        text-align: right;\n",
       "    }\n",
       "</style>\n",
       "<table border=\"1\" class=\"dataframe\">\n",
       "  <thead>\n",
       "    <tr style=\"text-align: right;\">\n",
       "      <th></th>\n",
       "      <th>certified</th>\n",
       "      <th>cmtnum</th>\n",
       "      <th>commentlist</th>\n",
       "      <th>conlist</th>\n",
       "      <th>content</th>\n",
       "      <th>createTime</th>\n",
       "      <th>created_time</th>\n",
       "      <th>editMask</th>\n",
       "      <th>fwdnum</th>\n",
       "      <th>has_more_con</th>\n",
       "      <th>...</th>\n",
       "      <th>source_name</th>\n",
       "      <th>source_url</th>\n",
       "      <th>story_info</th>\n",
       "      <th>t1_source</th>\n",
       "      <th>t1_subtype</th>\n",
       "      <th>t1_termtype</th>\n",
       "      <th>tid</th>\n",
       "      <th>ugc_right</th>\n",
       "      <th>uin</th>\n",
       "      <th>wbid</th>\n",
       "    </tr>\n",
       "  </thead>\n",
       "  <tbody>\n",
       "    <tr>\n",
       "      <th>0</th>\n",
       "      <td>0</td>\n",
       "      <td>2</td>\n",
       "      <td>[{'IsPasswordLuckyMoneyCmtRight': '', 'abledel...</td>\n",
       "      <td>[{'con': '开心，希望这个开心不要太早。[em]e400824[/em]', 'ty...</td>\n",
       "      <td>开心，希望这个开心不要太早。[em]e400824[/em]</td>\n",
       "      <td>2018年12月08日</td>\n",
       "      <td>1544272221</td>\n",
       "      <td>4294967294</td>\n",
       "      <td>0</td>\n",
       "      <td>0</td>\n",
       "      <td>...</td>\n",
       "      <td></td>\n",
       "      <td></td>\n",
       "      <td>NaN</td>\n",
       "      <td>1</td>\n",
       "      <td>2</td>\n",
       "      <td>4</td>\n",
       "      <td>77d12f315db90b5c61fe0b00</td>\n",
       "      <td>1</td>\n",
       "      <td>825217399</td>\n",
       "      <td>0</td>\n",
       "    </tr>\n",
       "    <tr>\n",
       "      <th>1</th>\n",
       "      <td>0</td>\n",
       "      <td>0</td>\n",
       "      <td>None</td>\n",
       "      <td>[{'con': '向楠同学的告别宴。', 'type': 2}]</td>\n",
       "      <td>向楠同学的告别宴。</td>\n",
       "      <td>2018年11月10日</td>\n",
       "      <td>1541846221</td>\n",
       "      <td>4294967294</td>\n",
       "      <td>0</td>\n",
       "      <td>0</td>\n",
       "      <td>...</td>\n",
       "      <td></td>\n",
       "      <td></td>\n",
       "      <td>NaN</td>\n",
       "      <td>1</td>\n",
       "      <td>2</td>\n",
       "      <td>4</td>\n",
       "      <td>77d12f31cdb4e65baa330700</td>\n",
       "      <td>1</td>\n",
       "      <td>825217399</td>\n",
       "      <td>0</td>\n",
       "    </tr>\n",
       "    <tr>\n",
       "      <th>2</th>\n",
       "      <td>0</td>\n",
       "      <td>0</td>\n",
       "      <td>None</td>\n",
       "      <td>[{'con': '悲伤那么大，人生果然就是一场别离。[em]e400867[/em]', ...</td>\n",
       "      <td>悲伤那么大，人生果然就是一场别离。[em]e400867[/em]</td>\n",
       "      <td>2018年11月05日</td>\n",
       "      <td>1541428568</td>\n",
       "      <td>4294967294</td>\n",
       "      <td>0</td>\n",
       "      <td>0</td>\n",
       "      <td>...</td>\n",
       "      <td></td>\n",
       "      <td></td>\n",
       "      <td>NaN</td>\n",
       "      <td>1</td>\n",
       "      <td>2</td>\n",
       "      <td>4</td>\n",
       "      <td>77d12f315855e05b17dd0d00</td>\n",
       "      <td>1</td>\n",
       "      <td>825217399</td>\n",
       "      <td>0</td>\n",
       "    </tr>\n",
       "    <tr>\n",
       "      <th>3</th>\n",
       "      <td>0</td>\n",
       "      <td>1</td>\n",
       "      <td>[{'IsPasswordLuckyMoneyCmtRight': '', 'abledel...</td>\n",
       "      <td>[{'con': '纪念第一次独立自主地吃到鸡，非常激动了。[em]e104[/em]', ...</td>\n",
       "      <td>纪念第一次独立自主地吃到鸡，非常激动了。[em]e104[/em]</td>\n",
       "      <td>2018年11月03日</td>\n",
       "      <td>1541244884</td>\n",
       "      <td>4294967294</td>\n",
       "      <td>0</td>\n",
       "      <td>0</td>\n",
       "      <td>...</td>\n",
       "      <td></td>\n",
       "      <td></td>\n",
       "      <td>NaN</td>\n",
       "      <td>1</td>\n",
       "      <td>2</td>\n",
       "      <td>4</td>\n",
       "      <td>77d12f31d487dd5b13e50000</td>\n",
       "      <td>1</td>\n",
       "      <td>825217399</td>\n",
       "      <td>0</td>\n",
       "    </tr>\n",
       "    <tr>\n",
       "      <th>4</th>\n",
       "      <td>0</td>\n",
       "      <td>1</td>\n",
       "      <td>[{'IsPasswordLuckyMoneyCmtRight': '', 'abledel...</td>\n",
       "      <td>[{'con': '聚沙成塔。[em]e400097[/em][em]e400098[/em...</td>\n",
       "      <td>聚沙成塔。[em]e400097[/em][em]e400098[/em][em]e4000...</td>\n",
       "      <td>2018年09月06日</td>\n",
       "      <td>1536235430</td>\n",
       "      <td>4294967294</td>\n",
       "      <td>0</td>\n",
       "      <td>0</td>\n",
       "      <td>...</td>\n",
       "      <td></td>\n",
       "      <td></td>\n",
       "      <td>NaN</td>\n",
       "      <td>1</td>\n",
       "      <td>2</td>\n",
       "      <td>4</td>\n",
       "      <td>77d12f31a617915b9bc40100</td>\n",
       "      <td>1</td>\n",
       "      <td>825217399</td>\n",
       "      <td>0</td>\n",
       "    </tr>\n",
       "  </tbody>\n",
       "</table>\n",
       "<p>5 rows × 31 columns</p>\n",
       "</div>"
      ],
      "text/plain": [
       "   certified  cmtnum                                        commentlist  \\\n",
       "0          0       2  [{'IsPasswordLuckyMoneyCmtRight': '', 'abledel...   \n",
       "1          0       0                                               None   \n",
       "2          0       0                                               None   \n",
       "3          0       1  [{'IsPasswordLuckyMoneyCmtRight': '', 'abledel...   \n",
       "4          0       1  [{'IsPasswordLuckyMoneyCmtRight': '', 'abledel...   \n",
       "\n",
       "                                             conlist  \\\n",
       "0  [{'con': '开心，希望这个开心不要太早。[em]e400824[/em]', 'ty...   \n",
       "1                  [{'con': '向楠同学的告别宴。', 'type': 2}]   \n",
       "2  [{'con': '悲伤那么大，人生果然就是一场别离。[em]e400867[/em]', ...   \n",
       "3  [{'con': '纪念第一次独立自主地吃到鸡，非常激动了。[em]e104[/em]', ...   \n",
       "4  [{'con': '聚沙成塔。[em]e400097[/em][em]e400098[/em...   \n",
       "\n",
       "                                             content   createTime  \\\n",
       "0                     开心，希望这个开心不要太早。[em]e400824[/em]  2018年12月08日   \n",
       "1                                          向楠同学的告别宴。  2018年11月10日   \n",
       "2                  悲伤那么大，人生果然就是一场别离。[em]e400867[/em]  2018年11月05日   \n",
       "3                  纪念第一次独立自主地吃到鸡，非常激动了。[em]e104[/em]  2018年11月03日   \n",
       "4  聚沙成塔。[em]e400097[/em][em]e400098[/em][em]e4000...  2018年09月06日   \n",
       "\n",
       "   created_time    editMask  fwdnum  has_more_con  ...   source_name  \\\n",
       "0    1544272221  4294967294       0             0  ...                 \n",
       "1    1541846221  4294967294       0             0  ...                 \n",
       "2    1541428568  4294967294       0             0  ...                 \n",
       "3    1541244884  4294967294       0             0  ...                 \n",
       "4    1536235430  4294967294       0             0  ...                 \n",
       "\n",
       "   source_url story_info t1_source t1_subtype t1_termtype  \\\n",
       "0                    NaN         1          2           4   \n",
       "1                    NaN         1          2           4   \n",
       "2                    NaN         1          2           4   \n",
       "3                    NaN         1          2           4   \n",
       "4                    NaN         1          2           4   \n",
       "\n",
       "                        tid  ugc_right        uin  wbid  \n",
       "0  77d12f315db90b5c61fe0b00          1  825217399     0  \n",
       "1  77d12f31cdb4e65baa330700          1  825217399     0  \n",
       "2  77d12f315855e05b17dd0d00          1  825217399     0  \n",
       "3  77d12f31d487dd5b13e50000          1  825217399     0  \n",
       "4  77d12f31a617915b9bc40100          1  825217399     0  \n",
       "\n",
       "[5 rows x 31 columns]"
      ]
     },
     "execution_count": 22,
     "metadata": {},
     "output_type": "execute_result"
    }
   ],
   "source": [
    "shuoshuo_1_msglist.head()"
   ]
  },
  {
   "cell_type": "code",
   "execution_count": 23,
   "metadata": {},
   "outputs": [],
   "source": [
    "shuoshuo_1_content = shuoshuo_1_msglist[\"content\"]"
   ]
  },
  {
   "cell_type": "code",
   "execution_count": 25,
   "metadata": {},
   "outputs": [
    {
     "data": {
      "text/plain": [
       "pandas.core.series.Series"
      ]
     },
     "execution_count": 25,
     "metadata": {},
     "output_type": "execute_result"
    },
    {
     "data": {
      "text/plain": [
       "0                       开心，希望这个开心不要太早。[em]e400824[/em]\n",
       "1                                            向楠同学的告别宴。\n",
       "2                    悲伤那么大，人生果然就是一场别离。[em]e400867[/em]\n",
       "3                    纪念第一次独立自主地吃到鸡，非常激动了。[em]e104[/em]\n",
       "4    聚沙成塔。[em]e400097[/em][em]e400098[/em][em]e4000...\n",
       "Name: content, dtype: object"
      ]
     },
     "execution_count": 25,
     "metadata": {},
     "output_type": "execute_result"
    }
   ],
   "source": [
    "type(shuoshuo_1_content)\n",
    "shuoshuo_1_content.head()"
   ]
  },
  {
   "cell_type": "code",
   "execution_count": null,
   "metadata": {},
   "outputs": [],
   "source": [
    "shuoshuo_long = shuoshuo_1_content[3]"
   ]
  },
  {
   "cell_type": "code",
   "execution_count": null,
   "metadata": {},
   "outputs": [],
   "source": [
    "type(shuoshuo_long)"
   ]
  },
  {
   "cell_type": "code",
   "execution_count": null,
   "metadata": {},
   "outputs": [],
   "source": [
    "shuoshuo_long"
   ]
  },
  {
   "cell_type": "code",
   "execution_count": null,
   "metadata": {},
   "outputs": [],
   "source": [
    "print(shuoshuo_long)"
   ]
  },
  {
   "cell_type": "markdown",
   "metadata": {},
   "source": [
    "## Specific columns"
   ]
  },
  {
   "cell_type": "code",
   "execution_count": null,
   "metadata": {},
   "outputs": [],
   "source": [
    "for ct in shuoshuo_1_content:\n",
    "    print (\"-\" * 110)\n",
    "    print (ct)\n",
    "    "
   ]
  },
  {
   "cell_type": "markdown",
   "metadata": {},
   "source": [
    "<span style = \"font-family: New York Times; color: green\">\n",
    "Now the problem is we need more meaningful description, every piece of information, we hope there is time tag attached, showing when it was created.       \n",
    "</span>"
   ]
  },
  {
   "cell_type": "code",
   "execution_count": null,
   "metadata": {},
   "outputs": [],
   "source": [
    "shuoshuo_1_msglist[\"content\"]"
   ]
  },
  {
   "cell_type": "code",
   "execution_count": 26,
   "metadata": {},
   "outputs": [],
   "source": [
    "shuoshuo_1st_group = shuoshuo_1_msglist[[\"content\",\"createTime\"]]# choose multiple columns in pandas"
   ]
  },
  {
   "cell_type": "code",
   "execution_count": 27,
   "metadata": {},
   "outputs": [
    {
     "name": "stdout",
     "output_type": "stream",
     "text": [
      "                                              content   createTime\n",
      "0                      开心，希望这个开心不要太早。[em]e400824[/em]  2018年12月08日\n",
      "1                                           向楠同学的告别宴。  2018年11月10日\n",
      "2                   悲伤那么大，人生果然就是一场别离。[em]e400867[/em]  2018年11月05日\n",
      "3                   纪念第一次独立自主地吃到鸡，非常激动了。[em]e104[/em]  2018年11月03日\n",
      "4   聚沙成塔。[em]e400097[/em][em]e400098[/em][em]e4000...  2018年09月06日\n",
      "5                   以后要体验更晚更黑的下班路，心有猛虎，喵[em]e263[/em]  2018年08月29日\n",
      "6                          我，永远没有好消息。[em]e400875[/em]  2018年08月19日\n",
      "7   坐在回家的车上细细一算，磊比，妙妙，静静，鹏狗子都认识十年了，吴大炮都认识十五年了，时间真的...  2018年08月03日\n",
      "8   体温和气温一个样。[em]e401191[/em][em]e401191[/em][em]e...  2018年07月21日\n",
      "9                                               活着真累。  2018年07月09日\n",
      "10                                            有了质的飞跃～  2018年06月28日\n",
      "11                              如果人人都虚情假意，世界将变成美好的人间。  2018年06月21日\n",
      "12                                      无法改变的事，你只能接受。  2018年06月10日\n",
      "13  此时此刻，特别想回到过去。[em]e175[/em][em]e175[/em][em]e17...  2018年05月31日\n",
      "14                        我的荤菜首秀——清蒸一家人。[em]e100[/em]  2018年05月27日\n",
      "15                                              神经崩盘。  2018年05月21日\n",
      "16                            那些放飞自我的人生如有神助啊，就是让人羡慕呐。  2018年05月15日\n",
      "17                                           我妈长得真好看。  2018年05月13日\n",
      "18                                               戏精本精  2018年05月08日\n",
      "19                  一个神清气爽的早晨，要是不感冒不咳嗽不来大姨妈也是个舒服的周末呐。  2018年05月05日\n",
      "20  此刻心情真的超级好哇，早上在行里跟个不讲理的客户大骂了一架，下午买东西投诉个店员，原来当个“...  2018年04月27日\n",
      "21                                           一个头，两个大。  2018年04月25日\n",
      "22                                 我的人生第一包，手艺慢慢向李师靠拢。  2018年04月22日\n",
      "23                                   此时此刻，十分想念李师的牙签肉。  2018年04月17日\n",
      "24                                    我的水晶匕首和狼牙棒，怕不怕？  2018年04月14日\n",
      "25                                               再见啦。  2018年04月01日\n",
      "26                  有心者有所累，无心者无所谓。\\n耶[em]e401210[/em]  2018年03月29日\n",
      "27        这是一个孤独的周末，找不到人吃烤肉也找不到人踏春，只能默默地烩上一锅可以吃两天的麻食。  2018年03月24日\n",
      "28                                     生活是碎片，连起来可以扎人。  2018年03月18日\n",
      "29                      终于有一颗完整的荷包蛋了。[em]e400562[/em]  2018年03月17日\n",
      "30  我的帽子和吴大炮的丝巾。[em]e112[/em][em]e112[/em][em]e112...  2018年03月15日\n",
      "31  新的一年新的烦恼，人啊，只会烦恼越来越多，事也越来越多。所以啊，及时行乐啊兄弟姐妹们。[em...  2018年03月04日\n",
      "32                 谢谢李师做的道别宴，铁三角要分开了。[em]e400867[/em]  2018年02月27日\n",
      "33                          我真的是太勤快了。[em]e400823[/em]  2018年02月25日\n",
      "34                              这个西红柿炒蛋炒得太好吃了，表扬一下自己。  2018年02月12日\n",
      "35                                       再一次被李师的厨艺折服。  2018年01月28日\n",
      "36             看着你们走过七年，如今这般，以后再遇到的人怕也只能是陪自己度过余生的人了吧。  2018年01月20日\n",
      "37                                        我爸堆的雪人，哈哈哈。  2018年01月08日\n",
      "38         生活需要仪式感，重要的日子需要鲜花，美酒或者美食，可以只有一样，但是不能一样都没有。  2018年01月07日\n"
     ]
    }
   ],
   "source": [
    "print(shuoshuo_1st_group)"
   ]
  },
  {
   "cell_type": "code",
   "execution_count": 28,
   "metadata": {},
   "outputs": [
    {
     "data": {
      "text/plain": [
       "0                        开心，希望这个开心不要太早。[em]e400824[/em]\n",
       "1                                             向楠同学的告别宴。\n",
       "2                     悲伤那么大，人生果然就是一场别离。[em]e400867[/em]\n",
       "3                     纪念第一次独立自主地吃到鸡，非常激动了。[em]e104[/em]\n",
       "4     聚沙成塔。[em]e400097[/em][em]e400098[/em][em]e4000...\n",
       "5                     以后要体验更晚更黑的下班路，心有猛虎，喵[em]e263[/em]\n",
       "6                            我，永远没有好消息。[em]e400875[/em]\n",
       "7     坐在回家的车上细细一算，磊比，妙妙，静静，鹏狗子都认识十年了，吴大炮都认识十五年了，时间真的...\n",
       "8     体温和气温一个样。[em]e401191[/em][em]e401191[/em][em]e...\n",
       "9                                                 活着真累。\n",
       "10                                              有了质的飞跃～\n",
       "11                                如果人人都虚情假意，世界将变成美好的人间。\n",
       "12                                        无法改变的事，你只能接受。\n",
       "13    此时此刻，特别想回到过去。[em]e175[/em][em]e175[/em][em]e17...\n",
       "14                          我的荤菜首秀——清蒸一家人。[em]e100[/em]\n",
       "15                                                神经崩盘。\n",
       "16                              那些放飞自我的人生如有神助啊，就是让人羡慕呐。\n",
       "17                                             我妈长得真好看。\n",
       "18                                                 戏精本精\n",
       "19                    一个神清气爽的早晨，要是不感冒不咳嗽不来大姨妈也是个舒服的周末呐。\n",
       "20    此刻心情真的超级好哇，早上在行里跟个不讲理的客户大骂了一架，下午买东西投诉个店员，原来当个“...\n",
       "21                                             一个头，两个大。\n",
       "22                                   我的人生第一包，手艺慢慢向李师靠拢。\n",
       "23                                     此时此刻，十分想念李师的牙签肉。\n",
       "24                                      我的水晶匕首和狼牙棒，怕不怕？\n",
       "25                                                 再见啦。\n",
       "26                    有心者有所累，无心者无所谓。\\n耶[em]e401210[/em]\n",
       "27          这是一个孤独的周末，找不到人吃烤肉也找不到人踏春，只能默默地烩上一锅可以吃两天的麻食。\n",
       "28                                       生活是碎片，连起来可以扎人。\n",
       "29                        终于有一颗完整的荷包蛋了。[em]e400562[/em]\n",
       "30    我的帽子和吴大炮的丝巾。[em]e112[/em][em]e112[/em][em]e112...\n",
       "31    新的一年新的烦恼，人啊，只会烦恼越来越多，事也越来越多。所以啊，及时行乐啊兄弟姐妹们。[em...\n",
       "32                   谢谢李师做的道别宴，铁三角要分开了。[em]e400867[/em]\n",
       "33                            我真的是太勤快了。[em]e400823[/em]\n",
       "34                                这个西红柿炒蛋炒得太好吃了，表扬一下自己。\n",
       "35                                         再一次被李师的厨艺折服。\n",
       "36               看着你们走过七年，如今这般，以后再遇到的人怕也只能是陪自己度过余生的人了吧。\n",
       "37                                          我爸堆的雪人，哈哈哈。\n",
       "38           生活需要仪式感，重要的日子需要鲜花，美酒或者美食，可以只有一样，但是不能一样都没有。\n",
       "Name: content, dtype: object"
      ]
     },
     "execution_count": 28,
     "metadata": {},
     "output_type": "execute_result"
    }
   ],
   "source": [
    "shuoshuo_1st_group[\"content\"] "
   ]
  },
  {
   "cell_type": "code",
   "execution_count": 31,
   "metadata": {},
   "outputs": [
    {
     "name": "stdout",
     "output_type": "stream",
     "text": [
      "--------------------------------------------------------------------------------------------------------------\n",
      "Published on : 2018年12月08日\n",
      "开心，希望这个开心不要太早。[em]e400824[/em]\n",
      "--------------------------------------------------------------------------------------------------------------\n",
      "Published on : 2018年11月10日\n",
      "向楠同学的告别宴。\n",
      "--------------------------------------------------------------------------------------------------------------\n",
      "Published on : 2018年11月05日\n",
      "悲伤那么大，人生果然就是一场别离。[em]e400867[/em]\n",
      "--------------------------------------------------------------------------------------------------------------\n",
      "Published on : 2018年11月03日\n",
      "纪念第一次独立自主地吃到鸡，非常激动了。[em]e104[/em]\n",
      "--------------------------------------------------------------------------------------------------------------\n",
      "Published on : 2018年09月06日\n",
      "聚沙成塔。[em]e400097[/em][em]e400098[/em][em]e400099[/em][em]e400092[/em][em]e400101[/em]\n",
      "--------------------------------------------------------------------------------------------------------------\n",
      "Published on : 2018年08月29日\n",
      "以后要体验更晚更黑的下班路，心有猛虎，喵[em]e263[/em]\n",
      "--------------------------------------------------------------------------------------------------------------\n",
      "Published on : 2018年08月19日\n",
      "我，永远没有好消息。[em]e400875[/em]\n",
      "--------------------------------------------------------------------------------------------------------------\n",
      "Published on : 2018年08月03日\n",
      "坐在回家的车上细细一算，磊比，妙妙，静静，鹏狗子都认识十年了，吴大炮都认识十五年了，时间真的是嗖嗖嗖\n",
      "--------------------------------------------------------------------------------------------------------------\n",
      "Published on : 2018年07月21日\n",
      "体温和气温一个样。[em]e401191[/em][em]e401191[/em][em]e401191[/em]\n",
      "--------------------------------------------------------------------------------------------------------------\n",
      "Published on : 2018年07月09日\n",
      "活着真累。\n",
      "--------------------------------------------------------------------------------------------------------------\n",
      "Published on : 2018年06月28日\n",
      "有了质的飞跃～\n",
      "--------------------------------------------------------------------------------------------------------------\n",
      "Published on : 2018年06月21日\n",
      "如果人人都虚情假意，世界将变成美好的人间。\n",
      "--------------------------------------------------------------------------------------------------------------\n",
      "Published on : 2018年06月10日\n",
      "无法改变的事，你只能接受。\n",
      "--------------------------------------------------------------------------------------------------------------\n",
      "Published on : 2018年05月31日\n",
      "此时此刻，特别想回到过去。[em]e175[/em][em]e175[/em][em]e175[/em]\n",
      "--------------------------------------------------------------------------------------------------------------\n",
      "Published on : 2018年05月27日\n",
      "我的荤菜首秀——清蒸一家人。[em]e100[/em]\n",
      "--------------------------------------------------------------------------------------------------------------\n",
      "Published on : 2018年05月21日\n",
      "神经崩盘。\n",
      "--------------------------------------------------------------------------------------------------------------\n",
      "Published on : 2018年05月15日\n",
      "那些放飞自我的人生如有神助啊，就是让人羡慕呐。\n",
      "--------------------------------------------------------------------------------------------------------------\n",
      "Published on : 2018年05月13日\n",
      "我妈长得真好看。\n",
      "--------------------------------------------------------------------------------------------------------------\n",
      "Published on : 2018年05月08日\n",
      "戏精本精\n",
      "--------------------------------------------------------------------------------------------------------------\n",
      "Published on : 2018年05月05日\n",
      "一个神清气爽的早晨，要是不感冒不咳嗽不来大姨妈也是个舒服的周末呐。\n",
      "--------------------------------------------------------------------------------------------------------------\n",
      "Published on : 2018年04月27日\n",
      "此刻心情真的超级好哇，早上在行里跟个不讲理的客户大骂了一架，下午买东西投诉个店员，原来当个“不好说话”的人居然这么爽啊，哇咔咔，看来以后不能再做老好人了。\n",
      "--------------------------------------------------------------------------------------------------------------\n",
      "Published on : 2018年04月25日\n",
      "一个头，两个大。\n",
      "--------------------------------------------------------------------------------------------------------------\n",
      "Published on : 2018年04月22日\n",
      "我的人生第一包，手艺慢慢向李师靠拢。\n",
      "--------------------------------------------------------------------------------------------------------------\n",
      "Published on : 2018年04月17日\n",
      "此时此刻，十分想念李师的牙签肉。\n",
      "--------------------------------------------------------------------------------------------------------------\n",
      "Published on : 2018年04月14日\n",
      "我的水晶匕首和狼牙棒，怕不怕？\n",
      "--------------------------------------------------------------------------------------------------------------\n",
      "Published on : 2018年04月01日\n",
      "再见啦。\n",
      "--------------------------------------------------------------------------------------------------------------\n",
      "Published on : 2018年03月29日\n",
      "有心者有所累，无心者无所谓。\n",
      "耶[em]e401210[/em]\n",
      "--------------------------------------------------------------------------------------------------------------\n",
      "Published on : 2018年03月24日\n",
      "这是一个孤独的周末，找不到人吃烤肉也找不到人踏春，只能默默地烩上一锅可以吃两天的麻食。\n",
      "--------------------------------------------------------------------------------------------------------------\n",
      "Published on : 2018年03月18日\n",
      "生活是碎片，连起来可以扎人。\n",
      "--------------------------------------------------------------------------------------------------------------\n",
      "Published on : 2018年03月17日\n",
      "终于有一颗完整的荷包蛋了。[em]e400562[/em]\n",
      "--------------------------------------------------------------------------------------------------------------\n",
      "Published on : 2018年03月15日\n",
      "我的帽子和吴大炮的丝巾。[em]e112[/em][em]e112[/em][em]e112[/em]\n",
      "--------------------------------------------------------------------------------------------------------------\n",
      "Published on : 2018年03月04日\n",
      "新的一年新的烦恼，人啊，只会烦恼越来越多，事也越来越多。所以啊，及时行乐啊兄弟姐妹们。[em]e401263[/em][em]e401263[/em][em]e401263[/em]\n",
      "--------------------------------------------------------------------------------------------------------------\n",
      "Published on : 2018年02月27日\n",
      "谢谢李师做的道别宴，铁三角要分开了。[em]e400867[/em]\n",
      "--------------------------------------------------------------------------------------------------------------\n",
      "Published on : 2018年02月25日\n",
      "我真的是太勤快了。[em]e400823[/em]\n",
      "--------------------------------------------------------------------------------------------------------------\n",
      "Published on : 2018年02月12日\n",
      "这个西红柿炒蛋炒得太好吃了，表扬一下自己。\n",
      "--------------------------------------------------------------------------------------------------------------\n",
      "Published on : 2018年01月28日\n",
      "再一次被李师的厨艺折服。\n",
      "--------------------------------------------------------------------------------------------------------------\n",
      "Published on : 2018年01月20日\n",
      "看着你们走过七年，如今这般，以后再遇到的人怕也只能是陪自己度过余生的人了吧。\n",
      "--------------------------------------------------------------------------------------------------------------\n",
      "Published on : 2018年01月08日\n",
      "我爸堆的雪人，哈哈哈。\n",
      "--------------------------------------------------------------------------------------------------------------\n",
      "Published on : 2018年01月07日\n",
      "生活需要仪式感，重要的日子需要鲜花，美酒或者美食，可以只有一样，但是不能一样都没有。\n"
     ]
    }
   ],
   "source": [
    "# key problem is find the right index        \n",
    "for i in range(0,39):\n",
    "    print(\"-\"*110)\n",
    "    print(\"Published on : \" + shuoshuo_1st_group[\"createTime\"][i])\n",
    "    print(shuoshuo_1st_group[\"content\"][i])\n"
   ]
  },
  {
   "cell_type": "code",
   "execution_count": null,
   "metadata": {},
   "outputs": [],
   "source": []
  }
 ],
 "metadata": {
  "hide_input": false,
  "kernelspec": {
   "display_name": "Python 3",
   "language": "python",
   "name": "python3"
  },
  "language_info": {
   "codemirror_mode": {
    "name": "ipython",
    "version": 3
   },
   "file_extension": ".py",
   "mimetype": "text/x-python",
   "name": "python",
   "nbconvert_exporter": "python",
   "pygments_lexer": "ipython3",
   "version": "3.7.0"
  },
  "toc": {
   "base_numbering": 1,
   "nav_menu": {},
   "number_sections": true,
   "sideBar": true,
   "skip_h1_title": false,
   "title_cell": "Table of Contents",
   "title_sidebar": "Contents",
   "toc_cell": false,
   "toc_position": {},
   "toc_section_display": true,
   "toc_window_display": true
  },
  "varInspector": {
   "cols": {
    "lenName": 16,
    "lenType": 16,
    "lenVar": 40
   },
   "kernels_config": {
    "python": {
     "delete_cmd_postfix": "",
     "delete_cmd_prefix": "del ",
     "library": "var_list.py",
     "varRefreshCmd": "print(var_dic_list())"
    },
    "r": {
     "delete_cmd_postfix": ") ",
     "delete_cmd_prefix": "rm(",
     "library": "var_list.r",
     "varRefreshCmd": "cat(var_dic_list()) "
    }
   },
   "types_to_exclude": [
    "module",
    "function",
    "builtin_function_or_method",
    "instance",
    "_Feature"
   ],
   "window_display": false
  }
 },
 "nbformat": 4,
 "nbformat_minor": 2
}
