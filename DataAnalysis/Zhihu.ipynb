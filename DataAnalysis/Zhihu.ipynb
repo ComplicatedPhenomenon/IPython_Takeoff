{
 "cells": [
  {
   "cell_type": "code",
   "execution_count": null,
   "metadata": {},
   "outputs": [],
   "source": [
    "from IPython.core.interactiveshell import InteractiveShell\n",
    "InteractiveShell.ast_node_interactivity = \"all\""
   ]
  },
  {
   "cell_type": "code",
   "execution_count": null,
   "metadata": {},
   "outputs": [],
   "source": [
    "import time "
   ]
  },
  {
   "cell_type": "code",
   "execution_count": null,
   "metadata": {},
   "outputs": [],
   "source": [
    "import urllib"
   ]
  },
  {
   "cell_type": "code",
   "execution_count": null,
   "metadata": {},
   "outputs": [],
   "source": [
    "from zhihu_oauth import ZhihuClient, Answer, Article\n",
    "client = ZhihuClient()\n",
    "client.login_in_terminal(username=None, password=None, use_getpass=True, captcha_filename=None)"
   ]
  },
  {
   "cell_type": "markdown",
   "metadata": {},
   "source": [
    "## Access all the answers to a question"
   ]
  },
  {
   "cell_type": "code",
   "execution_count": null,
   "metadata": {},
   "outputs": [],
   "source": [
    "!mkdir suicideHK"
   ]
  },
  {
   "cell_type": "code",
   "execution_count": null,
   "metadata": {},
   "outputs": [],
   "source": [
    "SmartPeople = client.question(28870460)\n",
    "with open('Zhihu/FallInLove.html', 'a') as the_file:\n",
    "    the_file.write('<span style=\"font-family:New York Times; font-size:1.5em; color:green;\">' + SmartPeople .excerpt + '</span>')\n",
    "    for answer in SmartPeople.answers:    \n",
    "        the_file.write(answer.author.name + \":\" + answer.content )\n",
    "        the_file.write('<span style=\"font-family:New York Times; font-size:1.5em; color:green;\">' +\\\n",
    "                       str(answer.created_time) + '</span>')"
   ]
  },
  {
   "cell_type": "code",
   "execution_count": null,
   "metadata": {},
   "outputs": [],
   "source": [
    "AwefulFact = client.question(344140281)\n",
    "with open('Zhihu/chenzeming.html', 'a') as the_file:\n",
    "    the_file.write('<span style=\"font-family:New York Times; font-size:1.5em; color:green;\">' + AwefulFact.excerpt + '</span>')\n",
    "    for answer in AwefulFact.answers:    \n",
    "        the_file.write(answer.author.name + \":\" + answer.content )"
   ]
  },
  {
   "cell_type": "code",
   "execution_count": null,
   "metadata": {},
   "outputs": [],
   "source": [
    "AwefulFact = client.question(320459897)\n",
    "with open('ScaryFact100.html', 'a') as the_file:\n",
    "    the_file.write('<span style=\"font-family:New York Times; font-size:1.5em; color:red;\">' + AwefulFact.excerpt + '</span>')\n",
    "    for answer in Aweful.answers:    \n",
    "        if answer.voteup_count > 100:\n",
    "            the_file.write(answer.author.name + \":\" + answer.content )"
   ]
  },
  {
   "cell_type": "code",
   "execution_count": null,
   "metadata": {},
   "outputs": [],
   "source": [
    "q2 = client.question(43454328)\n",
    "i = 1\n",
    "for q in q2.answers:\n",
    "    if i < 4: # define the number of answers you want to print\n",
    "        print (q.content)\n",
    "        print (q.author.name)\n",
    "        print (\"---------------------\")\n",
    "        print (\"|     DIVID LINE    |\")\n",
    "        print (\"---------------------\")\n",
    "        for c in  q.comments:\n",
    "            print (c.author.name)\n",
    "            print (c.content)\n",
    "            print (\"---------------------\")\n",
    "            print (\"---------------------\")\n",
    "        i = i+1\n",
    "    else:\n",
    "        exit()"
   ]
  },
  {
   "cell_type": "markdown",
   "metadata": {},
   "source": [
    "## Access my info"
   ]
  },
  {
   "cell_type": "code",
   "execution_count": null,
   "metadata": {},
   "outputs": [],
   "source": [
    "me = client.me()\n",
    "me.name\n",
    "me.email\n",
    "me.avatar_url"
   ]
  },
  {
   "cell_type": "code",
   "execution_count": null,
   "metadata": {},
   "outputs": [],
   "source": [
    "type(me.activities)"
   ]
  },
  {
   "cell_type": "markdown",
   "metadata": {},
   "source": [
    "##  Access to a particular answer"
   ]
  },
  {
   "cell_type": "code",
   "execution_count": null,
   "metadata": {},
   "outputs": [],
   "source": [
    "ASpecifAnswer = client.answer(713315228)\n",
    "ASpecifAnswer.author.name\n",
    "ASpecifAnswer.author.id\n",
    "ASpecifAnswer.question.title"
   ]
  },
  {
   "cell_type": "code",
   "execution_count": null,
   "metadata": {},
   "outputs": [],
   "source": [
    "ASpecifAnswer.author.employments\n",
    "ASpecifAnswer.author.answer_count"
   ]
  },
  {
   "cell_type": "code",
   "execution_count": null,
   "metadata": {},
   "outputs": [],
   "source": [
    "with open('Zhihu/YouShouldKnowBeforeDivingIntoPhyiscs.html', 'a', encoding='utf-8') as the_file:\n",
    "    the_file.write(ASpecifAnswer.content ) "
   ]
  },
  {
   "cell_type": "markdown",
   "metadata": {},
   "source": [
    "## Access all the answers by an author"
   ]
  },
  {
   "cell_type": "code",
   "execution_count": null,
   "metadata": {},
   "outputs": [],
   "source": [
    "ACPPDev = client.people('herongwei')\n",
    "ACPPDev.name\n",
    "ACPPDev.answer_count"
   ]
  },
  {
   "cell_type": "code",
   "execution_count": null,
   "metadata": {},
   "outputs": [],
   "source": [
    "x = ACPPDev.articles\n",
    "a = next(x)"
   ]
  },
  {
   "cell_type": "code",
   "execution_count": null,
   "metadata": {},
   "outputs": [],
   "source": [
    "ACPPDev = client.people('herongwei')\n",
    "x = ACPPDev.articles\n",
    "for i in range(ACPPDev.answer_count):\n",
    "    z = next(x)\n",
    "    with open('Zhihu/herongwei.html', 'a') as the_file:\n",
    "        the_file.write('<span style=\"font-family:New York Times; font-size:1.5em; color:green;\">' +\\\n",
    "                       z.title + '</span>')\n",
    "        the_file.write(z.content)"
   ]
  },
  {
   "cell_type": "code",
   "execution_count": null,
   "metadata": {},
   "outputs": [],
   "source": [
    "a.title\n",
    "a.content"
   ]
  },
  {
   "cell_type": "code",
   "execution_count": null,
   "metadata": {},
   "outputs": [],
   "source": [
    "ACPPDev = client.people('11275cdedcdc7011d17004765b515b0f')\n",
    "x = ACPPDev.answers\n",
    "for i in range(ASpecifAnswer.author.answer_count):\n",
    "    z = next(x)\n",
    "    with open('FanLi.html', 'a') as the_file:\n",
    "        the_file.write(z.question.detail)\n",
    "        the_file.write('<span style=\"font-family:New York Times; font-size:1.5em; color:green;\">' +\\\n",
    "                       z.question.detail+ '</span>')\n",
    "        the_file.write(z.content)"
   ]
  },
  {
   "cell_type": "markdown",
   "metadata": {},
   "source": [
    "## Play with generator"
   ]
  },
  {
   "cell_type": "code",
   "execution_count": null,
   "metadata": {},
   "outputs": [],
   "source": [
    "Q = client.question(35554294)"
   ]
  },
  {
   "cell_type": "code",
   "execution_count": null,
   "metadata": {},
   "outputs": [],
   "source": [
    "Q.answer_count\n",
    "Q.excerpt\n",
    "Q.detail"
   ]
  },
  {
   "cell_type": "code",
   "execution_count": null,
   "metadata": {},
   "outputs": [],
   "source": [
    "x = Q.answers.order_by(what=time) "
   ]
  },
  {
   "cell_type": "code",
   "execution_count": null,
   "metadata": {},
   "outputs": [],
   "source": [
    "next(x)"
   ]
  },
  {
   "cell_type": "code",
   "execution_count": null,
   "metadata": {},
   "outputs": [],
   "source": [
    "AnAnswer = next(x)"
   ]
  },
  {
   "cell_type": "code",
   "execution_count": null,
   "metadata": {},
   "outputs": [],
   "source": [
    "AnAnswer.comment_count\n",
    "AnAnswer.created_time\n",
    "AuthorToThisAnswer = AnAnswer.author\n",
    "AuthorToThisAnswer.name\n",
    "CommentsToThisAnswer = AnAnswer.comments\n",
    "time.ctime(AnAnswer.created_time)\n",
    "AnAnswer.voteup_count \n",
    "VotersToThisAnswer = AnAnswer.voters\n",
    "AnAnswer.excerpt\n",
    "AnAnswer.content"
   ]
  },
  {
   "cell_type": "code",
   "execution_count": null,
   "metadata": {},
   "outputs": [],
   "source": [
    "xx = {'author':next(x).author.name,'voteup_count': next(x).voteup_count, 'excerpt' : next(x).excerpt,\\\n",
    "      'content': next(x).content, 'date': next(x).created_time}\n",
    "xx "
   ]
  },
  {
   "cell_type": "code",
   "execution_count": null,
   "metadata": {},
   "outputs": [],
   "source": [
    "Q = client.question(35554294)\n",
    "x = Q.answers.order_by(what=time) \n",
    "data = []\n",
    "for i in range(10):\n",
    "    xx = {'author':next(x).author.name,'voteup_count': next(x).voteup_count, 'excerpt' : next(x).excerpt, 'content': next(x).content}\n",
    "    data.append(xx)\n",
    "data[7]['content']"
   ]
  },
  {
   "cell_type": "code",
   "execution_count": null,
   "metadata": {},
   "outputs": [],
   "source": [
    "Q = client.question(35554294)\n",
    "x = Q.answers.order_by(what=time) \n",
    "with open('ZhihuUnrequitedLove.html', 'a') as the_file:\n",
    "    the_file.write(Q.excerpt)\n",
    "    for answer in x:    \n",
    "        the_file.write(answer.content )\n",
    "        the_file.write('------')"
   ]
  }
 ],
 "metadata": {
  "hide_input": false,
  "kernelspec": {
   "display_name": "Python 3",
   "language": "python",
   "name": "python3"
  },
  "language_info": {
   "codemirror_mode": {
    "name": "ipython",
    "version": 3
   },
   "file_extension": ".py",
   "mimetype": "text/x-python",
   "name": "python",
   "nbconvert_exporter": "python",
   "pygments_lexer": "ipython3",
   "version": "3.7.0"
  },
  "toc": {
   "base_numbering": 1,
   "nav_menu": {},
   "number_sections": true,
   "sideBar": true,
   "skip_h1_title": false,
   "title_cell": "Table of Contents",
   "title_sidebar": "Contents",
   "toc_cell": false,
   "toc_position": {},
   "toc_section_display": true,
   "toc_window_display": true
  },
  "varInspector": {
   "cols": {
    "lenName": 16,
    "lenType": 16,
    "lenVar": 40
   },
   "kernels_config": {
    "python": {
     "delete_cmd_postfix": "",
     "delete_cmd_prefix": "del ",
     "library": "var_list.py",
     "varRefreshCmd": "print(var_dic_list())"
    },
    "r": {
     "delete_cmd_postfix": ") ",
     "delete_cmd_prefix": "rm(",
     "library": "var_list.r",
     "varRefreshCmd": "cat(var_dic_list()) "
    }
   },
   "types_to_exclude": [
    "module",
    "function",
    "builtin_function_or_method",
    "instance",
    "_Feature"
   ],
   "window_display": false
  }
 },
 "nbformat": 4,
 "nbformat_minor": 2
}
