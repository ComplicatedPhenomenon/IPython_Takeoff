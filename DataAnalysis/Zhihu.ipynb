{
 "cells": [
  {
   "cell_type": "code",
   "execution_count": null,
   "metadata": {},
   "outputs": [],
   "source": [
    "from IPython.core.interactiveshell import InteractiveShell\n",
    "InteractiveShell.ast_node_interactivity = \"all\""
   ]
  },
  {
   "cell_type": "code",
   "execution_count": null,
   "metadata": {},
   "outputs": [],
   "source": [
    "import time "
   ]
  },
  {
   "cell_type": "code",
   "execution_count": null,
   "metadata": {},
   "outputs": [],
   "source": [
    "import urllib"
   ]
  },
  {
   "cell_type": "code",
   "execution_count": null,
   "metadata": {},
   "outputs": [],
   "source": [
    "from zhihu_oauth import ZhihuClient, Answer, Article\n",
    "client = ZhihuClient()\n",
    "client.login_in_terminal(username=None, password=None, use_getpass=True, captcha_filename=None)"
   ]
  },
  {
   "cell_type": "markdown",
   "metadata": {},
   "source": [
    "## Access all the answers to a question"
   ]
  },
  {
   "cell_type": "code",
   "execution_count": null,
   "metadata": {},
   "outputs": [],
   "source": [
    "SmartPeople = client.question(286925266)\n",
    "with open('Zhihu/AlgorithmHiring.html', 'a') as the_file:\n",
    "    the_file.write(\n",
    "        '<span style=\"font-family:New York Times; font-size:1.5em; color:green;\">'\n",
    "        + SmartPeople.excerpt + '</span>')\n",
    "    for answer in SmartPeople.answers:\n",
    "        if answer.voteup_count > 100:\n",
    "            the_file.write(answer.author.name + \":\" + answer.content)\n",
    "            the_file.write(\n",
    "                '<span style=\"font-family:New York Times; font-size:1.5em; color:green;\">'\n",
    "                + str(answer.created_time) + '</span>')"
   ]
  },
  {
   "cell_type": "code",
   "execution_count": null,
   "metadata": {},
   "outputs": [],
   "source": [
    "q2 = client.question(43454328)\n",
    "i = 1\n",
    "for q in q2.answers:\n",
    "    if i < 4: # define the number of answers you want to print\n",
    "        print (q.content)\n",
    "        print (q.author.name)\n",
    "        print (\"---------------------\")\n",
    "        print (\"|     DIVID LINE    |\")\n",
    "        print (\"---------------------\")\n",
    "        for c in  q.comments:\n",
    "            print (c.author.name)\n",
    "            print (c.content)\n",
    "            print (\"---------------------\")\n",
    "            print (\"---------------------\")\n",
    "        i = i+1\n",
    "    else:\n",
    "        exit()"
   ]
  },
  {
   "cell_type": "markdown",
   "metadata": {},
   "source": [
    "## Access my info"
   ]
  },
  {
   "cell_type": "code",
   "execution_count": null,
   "metadata": {},
   "outputs": [],
   "source": [
    "me = client.me()\n",
    "me.name\n",
    "me.email\n",
    "me.avatar_url"
   ]
  },
  {
   "cell_type": "markdown",
   "metadata": {},
   "source": [
    "##  Access to a particular answer"
   ]
  },
  {
   "cell_type": "code",
   "execution_count": null,
   "metadata": {},
   "outputs": [],
   "source": [
    "ASpecifAnswer = client.answer(713315228)\n",
    "ASpecifAnswer.author.name\n",
    "ASpecifAnswer.author.id\n",
    "ASpecifAnswer.question.title"
   ]
  },
  {
   "cell_type": "code",
   "execution_count": null,
   "metadata": {},
   "outputs": [],
   "source": [
    "ASpecifAnswer.author.employments\n",
    "ASpecifAnswer.author.answer_count"
   ]
  },
  {
   "cell_type": "code",
   "execution_count": null,
   "metadata": {},
   "outputs": [],
   "source": [
    "with open('Zhihu/YouShouldKnowBeforeDivingIntoPhyiscs.html', 'a', encoding='utf-8') as the_file:\n",
    "    the_file.write(ASpecifAnswer.content ) "
   ]
  },
  {
   "cell_type": "markdown",
   "metadata": {},
   "source": [
    "## Access all the answers by an author"
   ]
  },
  {
   "cell_type": "code",
   "execution_count": null,
   "metadata": {},
   "outputs": [],
   "source": [
    "an_author = client.people('wang-zhe-58')\n",
    "articles_from_an_author = an_author.articles\n",
    "with open('Zhihu/wangzhe.html', 'a') as the_file:\n",
    "    for i in articles_from_an_author:\n",
    "        the_file.write('<span style=\"font-family:New York Times; font-size:1.5em; color:green;\">' +\\\n",
    "                       i.title + '</span>')\n",
    "        the_file.write(i.content)"
   ]
  },
  {
   "cell_type": "code",
   "execution_count": null,
   "metadata": {},
   "outputs": [],
   "source": [
    "an_author = client.people('yinset')\n",
    "answers_from_an_author = an_author.answers\n",
    "with open('Zhihu/yinset.html', 'a') as the_file:\n",
    "    for i in answers_from_an_author:\n",
    "        the_file.write('<span style=\"font-family:New York Times; font-size:1.5em; color:green;\">' +\\\n",
    "                       i.question.title + '</span>')\n",
    "        the_file.write(i.content)"
   ]
  },
  {
   "cell_type": "markdown",
   "metadata": {},
   "source": [
    "## Play with generator"
   ]
  },
  {
   "cell_type": "code",
   "execution_count": null,
   "metadata": {},
   "outputs": [],
   "source": [
    "Q = client.question(35554294)"
   ]
  },
  {
   "cell_type": "code",
   "execution_count": null,
   "metadata": {},
   "outputs": [],
   "source": [
    "x = Q.answers.order_by(what=time)\n",
    "{\n",
    "    'author': next(x).author.name,\n",
    "    'voteup_count': next(x).voteup_count,\n",
    "    'excerpt': next(x).excerpt,\n",
    "    'content': next(x).content,\n",
    "    'date': next(x).created_time\n",
    "}"
   ]
  },
  {
   "cell_type": "code",
   "execution_count": null,
   "metadata": {},
   "outputs": [],
   "source": [
    "Q = client.question(35554294)\n",
    "x = Q.answers.order_by(what=time) \n",
    "data = []\n",
    "while True:\n",
    "    try:\n",
    "        xx = {'author':next(x).author.name,'voteup_count': next(x).voteup_count, 'excerpt' : next(x).excerpt, 'content': next(x).content}\n",
    "        data.append(xx)\n",
    "    except StopIteration:\n",
    "        break\n",
    "data[7]['content']"
   ]
  }
 ],
 "metadata": {
  "hide_input": false,
  "kernelspec": {
   "display_name": "Python 3",
   "language": "python",
   "name": "python3"
  },
  "language_info": {
   "codemirror_mode": {
    "name": "ipython",
    "version": 3
   },
   "file_extension": ".py",
   "mimetype": "text/x-python",
   "name": "python",
   "nbconvert_exporter": "python",
   "pygments_lexer": "ipython3",
   "version": "3.7.4"
  },
  "toc": {
   "base_numbering": 1,
   "nav_menu": {},
   "number_sections": true,
   "sideBar": true,
   "skip_h1_title": false,
   "title_cell": "Table of Contents",
   "title_sidebar": "Contents",
   "toc_cell": false,
   "toc_position": {},
   "toc_section_display": true,
   "toc_window_display": true
  },
  "varInspector": {
   "cols": {
    "lenName": 16,
    "lenType": 16,
    "lenVar": 40
   },
   "kernels_config": {
    "python": {
     "delete_cmd_postfix": "",
     "delete_cmd_prefix": "del ",
     "library": "var_list.py",
     "varRefreshCmd": "print(var_dic_list())"
    },
    "r": {
     "delete_cmd_postfix": ") ",
     "delete_cmd_prefix": "rm(",
     "library": "var_list.r",
     "varRefreshCmd": "cat(var_dic_list()) "
    }
   },
   "types_to_exclude": [
    "module",
    "function",
    "builtin_function_or_method",
    "instance",
    "_Feature"
   ],
   "window_display": false
  }
 },
 "nbformat": 4,
 "nbformat_minor": 2
}
