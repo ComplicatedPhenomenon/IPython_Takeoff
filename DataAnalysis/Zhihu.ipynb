{
 "cells": [
  {
   "cell_type": "code",
   "execution_count": 1,
   "metadata": {},
   "outputs": [],
   "source": [
    "from IPython.core.interactiveshell import InteractiveShell\n",
    "InteractiveShell.ast_node_interactivity = \"all\""
   ]
  },
  {
   "cell_type": "code",
   "execution_count": 2,
   "metadata": {},
   "outputs": [],
   "source": [
    "import time "
   ]
  },
  {
   "cell_type": "code",
   "execution_count": 3,
   "metadata": {},
   "outputs": [],
   "source": [
    "import urllib"
   ]
  },
  {
   "cell_type": "code",
   "execution_count": 4,
   "metadata": {},
   "outputs": [
    {
     "name": "stdout",
     "output_type": "stream",
     "text": [
      "----- Zhihu OAuth Login -----\n",
      "使用手机号登录的时候请在手机号前加上 +86\n",
      "email/phone: +8615210311877\n",
      "password: ········\n",
      "Need for a captcha, getting it......\n",
      "Please open /Users/wangmiao/Playground/GH/IPython_training/DataAnalysis/captcha.gif for captcha\n",
      "captcha: puhe\n",
      "Login success.\n"
     ]
    },
    {
     "data": {
      "text/plain": [
       "(True, '')"
      ]
     },
     "execution_count": 4,
     "metadata": {},
     "output_type": "execute_result"
    }
   ],
   "source": [
    "from zhihu_oauth import ZhihuClient, Answer, Article\n",
    "client = ZhihuClient()\n",
    "client.login_in_terminal(username=None, password=None, use_getpass=True, captcha_filename=None)"
   ]
  },
  {
   "cell_type": "markdown",
   "metadata": {},
   "source": [
    "# Proxy setup"
   ]
  },
  {
   "cell_type": "code",
   "execution_count": 9,
   "metadata": {},
   "outputs": [],
   "source": [
    "\"\"\" # Shadowsocks enable http proxy\n",
    "!export http_proxy=http://127.0.0.1:10818;\n",
    "!export https_proxy=http://127.0.0.1:10818;\n",
    "\"\"\""
   ]
  },
  {
   "cell_type": "code",
   "execution_count": 12,
   "metadata": {},
   "outputs": [
    {
     "data": {
      "text/plain": [
       "('./logo.png', <http.client.HTTPMessage at 0x116cf92e8>)"
      ]
     },
     "execution_count": 12,
     "metadata": {},
     "output_type": "execute_result"
    }
   ],
   "source": [
    "url = \"https://www.google.com/images/branding/googlelogo/2x/googlelogo_color_272x92dp.png\"\n",
    "urllib.request.urlretrieve(url, './logo.png')"
   ]
  },
  {
   "cell_type": "markdown",
   "metadata": {},
   "source": [
    "<span style=\"font-family:New York Times; font-size:1em; color: green\">\n",
    "The urllib.request module is used to open or download a file over HTTP."
   ]
  },
  {
   "cell_type": "markdown",
   "metadata": {},
   "source": [
    "## Access all the answers to a question"
   ]
  },
  {
   "cell_type": "code",
   "execution_count": null,
   "metadata": {},
   "outputs": [],
   "source": [
    "SmartPeople = client.question(28484672)\n",
    "with open('RecongnizeSmartPeople.html', 'a') as the_file:\n",
    "    the_file.write('<span style=\"font-family:New York Times; font-size:1.5em; color:red;\">' + AwefulFact.excerpt + '</span>')\n",
    "    for answer in SmartPeople.answers:    \n",
    "        if answer.voteup_count > 100:\n",
    "            the_file.write(answer.author.name + \":\" + answer.content )"
   ]
  },
  {
   "cell_type": "code",
   "execution_count": null,
   "metadata": {},
   "outputs": [],
   "source": [
    "AwefulFact = client.question(320459897)\n",
    "with open('ScaryFact100.html', 'a') as the_file:\n",
    "    the_file.write('<span style=\"font-family:New York Times; font-size:1.5em; color:red;\">' + AwefulFact.excerpt + '</span>')\n",
    "    for answer in Aweful.answers:    \n",
    "        if answer.voteup_count > 100:\n",
    "            the_file.write(answer.author.name + \":\" + answer.content )\n",
    "        "
   ]
  },
  {
   "cell_type": "code",
   "execution_count": null,
   "metadata": {},
   "outputs": [],
   "source": [
    "q2 = client.question(43454328)\n",
    "i = 1\n",
    "for q in q2.answers:\n",
    "    if i < 4: # define the number of answers you want to print\n",
    "        print (q.content)\n",
    "        print (q.author.name)\n",
    "        print (\"---------------------\")\n",
    "        print (\"|     DIVID LINE    |\")\n",
    "        print (\"---------------------\")\n",
    "        for c in  q.comments:\n",
    "            print (c.author.name)\n",
    "            print (c.content)\n",
    "            print (\"---------------------\")\n",
    "            print (\"---------------------\")\n",
    "        i = i+1\n",
    "    else:\n",
    "        exit()"
   ]
  },
  {
   "cell_type": "markdown",
   "metadata": {},
   "source": [
    "## Access my info"
   ]
  },
  {
   "cell_type": "code",
   "execution_count": 13,
   "metadata": {},
   "outputs": [
    {
     "data": {
      "text/plain": [
       "'czfzdxx'"
      ]
     },
     "execution_count": 13,
     "metadata": {},
     "output_type": "execute_result"
    },
    {
     "data": {
      "text/plain": [
       "''"
      ]
     },
     "execution_count": 13,
     "metadata": {},
     "output_type": "execute_result"
    },
    {
     "data": {
      "text/plain": [
       "'https://pic1.zhimg.com/v2-563367a66942116b59c9b2a9bf4137b3_s.jpg'"
      ]
     },
     "execution_count": 13,
     "metadata": {},
     "output_type": "execute_result"
    }
   ],
   "source": [
    "me = client.me()\n",
    "me.name\n",
    "me.email\n",
    "me.avatar_url"
   ]
  },
  {
   "cell_type": "code",
   "execution_count": 21,
   "metadata": {},
   "outputs": [],
   "source": [
    "x = me.activities"
   ]
  },
  {
   "cell_type": "code",
   "execution_count": 22,
   "metadata": {},
   "outputs": [
    {
     "data": {
      "text/plain": [
       "zhihu_oauth.zhcls.generator.ActivityGenerator"
      ]
     },
     "execution_count": 22,
     "metadata": {},
     "output_type": "execute_result"
    }
   ],
   "source": [
    "type(x)"
   ]
  },
  {
   "cell_type": "code",
   "execution_count": 33,
   "metadata": {},
   "outputs": [
    {
     "data": {
      "text/plain": [
       "True"
      ]
     },
     "execution_count": 33,
     "metadata": {},
     "output_type": "execute_result"
    },
    {
     "data": {
      "text/plain": [
       "[]"
      ]
     },
     "execution_count": 33,
     "metadata": {},
     "output_type": "execute_result"
    }
   ],
   "source": [
    "me.is_active\n",
    "me.locations\n",
    "?me.vote"
   ]
  },
  {
   "cell_type": "code",
   "execution_count": 43,
   "metadata": {},
   "outputs": [],
   "source": [
    "#me.vote(what=any, op='up')    "
   ]
  },
  {
   "cell_type": "code",
   "execution_count": 39,
   "metadata": {},
   "outputs": [],
   "source": [
    "?me.vote"
   ]
  },
  {
   "cell_type": "markdown",
   "metadata": {},
   "source": [
    "##  Access to a particular answer"
   ]
  },
  {
   "cell_type": "code",
   "execution_count": 5,
   "metadata": {},
   "outputs": [
    {
     "data": {
      "text/plain": [
       "'Batman'"
      ]
     },
     "execution_count": 5,
     "metadata": {},
     "output_type": "execute_result"
    },
    {
     "data": {
      "text/plain": [
       "'489e12ff13036e757129f3d3db4eb255'"
      ]
     },
     "execution_count": 5,
     "metadata": {},
     "output_type": "execute_result"
    },
    {
     "data": {
      "text/plain": [
       "'如何看待任正非在 5 月 26 日央视「面对面」的采访？这次专访有哪些细节让人印象深刻？'"
      ]
     },
     "execution_count": 5,
     "metadata": {},
     "output_type": "execute_result"
    }
   ],
   "source": [
    "ASpecifAnswer = client.answer(696679975)\n",
    "ASpecifAnswer.author.name\n",
    "ASpecifAnswer.author.id\n",
    "ASpecifAnswer.question.title"
   ]
  },
  {
   "cell_type": "code",
   "execution_count": null,
   "metadata": {},
   "outputs": [],
   "source": [
    "ASpecifAnswer.author.employments\n",
    "ASpecifAnswer.author.answer_count"
   ]
  },
  {
   "cell_type": "code",
   "execution_count": 6,
   "metadata": {},
   "outputs": [
    {
     "data": {
      "text/plain": [
       "6008"
      ]
     },
     "execution_count": 6,
     "metadata": {},
     "output_type": "execute_result"
    }
   ],
   "source": [
    "with open('Zhihu/RZF20190526.html', 'a', encoding='utf-8') as the_file:\n",
    "    the_file.write(ASpecifAnswer.content ) \n",
    "        "
   ]
  },
  {
   "cell_type": "markdown",
   "metadata": {},
   "source": [
    "## Access all the answers by an author"
   ]
  },
  {
   "cell_type": "code",
   "execution_count": null,
   "metadata": {},
   "outputs": [],
   "source": [
    "ACPPDev = client.people('11275cdedcdc7011d17004765b515b0f')\n",
    "x = ACPPDev.answers\n",
    "for i in range(ASpecifAnswer.author.answer_count):\n",
    "    z = next(x)\n",
    "    with open('FanLi.html', 'a') as the_file:\n",
    "        the_file.write(z.question.detail)\n",
    "        the_file.write('<span style=\"font-family:New York Times; font-size:1.5em; color:green;\">' +\\\n",
    "                       z.question.detail+ '</span>')\n",
    "        the_file.write(z.content)"
   ]
  },
  {
   "cell_type": "markdown",
   "metadata": {},
   "source": [
    "## Play with generator"
   ]
  },
  {
   "cell_type": "code",
   "execution_count": null,
   "metadata": {},
   "outputs": [],
   "source": [
    "Q = client.question(594483417)"
   ]
  },
  {
   "cell_type": "code",
   "execution_count": null,
   "metadata": {},
   "outputs": [],
   "source": [
    "Q.answer_count\n",
    "Q.excerpt\n",
    "Q.detail"
   ]
  },
  {
   "cell_type": "code",
   "execution_count": null,
   "metadata": {},
   "outputs": [],
   "source": [
    "x = Q.answers.order_by(what=time) \n",
    "type(x) "
   ]
  },
  {
   "cell_type": "code",
   "execution_count": null,
   "metadata": {},
   "outputs": [],
   "source": [
    "dir(next(x))"
   ]
  },
  {
   "cell_type": "code",
   "execution_count": null,
   "metadata": {},
   "outputs": [],
   "source": [
    "AnAnswer = next(x)"
   ]
  },
  {
   "cell_type": "code",
   "execution_count": null,
   "metadata": {},
   "outputs": [],
   "source": [
    "AnAnswer.comment_count\n",
    "AuthorToThisAnswer = AnAnswer.author\n",
    "AuthorToThisAnswer.name\n",
    "CommentsToThisAnswer = AnAnswer.comments\n",
    "time.ctime(AnAnswer.created_time)\n",
    "AnAnswer.voteup_count \n",
    "VotersToThisAnswer = AnAnswer.voters\n",
    "AnAnswer.excerpt\n",
    "AnAnswer.content"
   ]
  },
  {
   "cell_type": "code",
   "execution_count": null,
   "metadata": {},
   "outputs": [],
   "source": [
    "xx = {'author':next(x).author.name,'voteup_count': next(x).voteup_count, 'excerpt' : next(x).excerpt,\\\n",
    "      'content': next(x).content}"
   ]
  },
  {
   "cell_type": "code",
   "execution_count": null,
   "metadata": {},
   "outputs": [],
   "source": [
    "Q = client.question(35554294)\n",
    "x = Q.answers \n",
    "data = []\n",
    "for i in range(10):\n",
    "    xx = {'author':next(x).author.name,'voteup_count': next(x).voteup_count, 'excerpt' : next(x).excerpt, 'content': next(x).content}\n",
    "    data.append(xx)\n",
    "data[7]['content']"
   ]
  },
  {
   "cell_type": "code",
   "execution_count": null,
   "metadata": {},
   "outputs": [],
   "source": [
    "with open('UnrequitedLove.html', 'a') as the_file:\n",
    "    the_file.write(Q.excerpt)\n",
    "    for answer in Q.answers:    \n",
    "        the_file.write(answer.content )\n",
    "        the_file.write('------')"
   ]
  }
 ],
 "metadata": {
  "hide_input": false,
  "kernelspec": {
   "display_name": "Python 3",
   "language": "python",
   "name": "python3"
  },
  "language_info": {
   "codemirror_mode": {
    "name": "ipython",
    "version": 3
   },
   "file_extension": ".py",
   "mimetype": "text/x-python",
   "name": "python",
   "nbconvert_exporter": "python",
   "pygments_lexer": "ipython3",
   "version": "3.7.2"
  },
  "toc": {
   "base_numbering": 1,
   "nav_menu": {},
   "number_sections": true,
   "sideBar": true,
   "skip_h1_title": false,
   "title_cell": "Table of Contents",
   "title_sidebar": "Contents",
   "toc_cell": false,
   "toc_position": {},
   "toc_section_display": true,
   "toc_window_display": false
  },
  "varInspector": {
   "cols": {
    "lenName": 16,
    "lenType": 16,
    "lenVar": 40
   },
   "kernels_config": {
    "python": {
     "delete_cmd_postfix": "",
     "delete_cmd_prefix": "del ",
     "library": "var_list.py",
     "varRefreshCmd": "print(var_dic_list())"
    },
    "r": {
     "delete_cmd_postfix": ") ",
     "delete_cmd_prefix": "rm(",
     "library": "var_list.r",
     "varRefreshCmd": "cat(var_dic_list()) "
    }
   },
   "types_to_exclude": [
    "module",
    "function",
    "builtin_function_or_method",
    "instance",
    "_Feature"
   ],
   "window_display": false
  }
 },
 "nbformat": 4,
 "nbformat_minor": 2
}
