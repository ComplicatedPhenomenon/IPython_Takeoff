{
 "cells": [
  {
   "cell_type": "code",
   "execution_count": 1,
   "metadata": {},
   "outputs": [],
   "source": [
    "from IPython.core.interactiveshell import InteractiveShell\n",
    "InteractiveShell.ast_node_interactivity = \"all\""
   ]
  },
  {
   "cell_type": "code",
   "execution_count": 2,
   "metadata": {},
   "outputs": [],
   "source": [
    "import re  "
   ]
  },
  {
   "cell_type": "markdown",
   "metadata": {},
   "source": [
    "# Basic usage of `re`"
   ]
  },
  {
   "cell_type": "markdown",
   "metadata": {},
   "source": [
    "## `re.match`"
   ]
  },
  {
   "cell_type": "markdown",
   "metadata": {},
   "source": [
    "<span style=\"font-family:New York Times; font-size:1em; color:green;\">\n",
    "    \n",
    "* [Using regex for text manipulation in python](https://stackabuse.com/using-regex-for-text-manipulation-in-python/)\n",
    "* [An introduction to regex in python](https://scotch.io/tutorials/an-introduction-to-regex-in-python)\n",
    "\n",
    "The purpose of the compile method is to compile the `regex` pattern which will be used for matching later."
   ]
  },
  {
   "cell_type": "markdown",
   "metadata": {
    "cell_style": "center"
   },
   "source": [
    "<table>\n",
    "<tbody><tr>\n",
    "<th>Element</th>\n",
    "<th>Description</th>\n",
    "</tr>\n",
    "<tr>\n",
    "<td><strong>.</strong></td>\n",
    "<td>This element matches any character except \\n</td>\n",
    "</tr>\n",
    "<tr>\n",
    "<td><strong>\\d</strong></td>\n",
    "<td>This matches any digit [0-9]</td>\n",
    "</tr>\n",
    "<tr>\n",
    "<td><strong>\\D</strong></td>\n",
    "<td>This matches non-digit characters [^0-9]</td>\n",
    "</tr>\n",
    "<tr>\n",
    "<td><strong>\\s</strong></td>\n",
    "<td>This matches whitespace character [ \\t\\n\\r\\f\\v]</td>\n",
    "</tr>\n",
    "<tr>\n",
    "<td><strong>\\S</strong></td>\n",
    "<td>This matches non-whitespace character [^ \\t\\n\\r\\f\\v]</td>\n",
    "</tr>\n",
    "<tr>\n",
    "<td><strong>\\w</strong></td>\n",
    "<td>This matches alphanumeric character [a-zA-Z0-9_]</td>\n",
    "</tr>\n",
    "<tr>\n",
    "<td><strong>\\W</strong></td>\n",
    "<td>This matches any non-alphanumeric character [^a-zA-Z0-9]</td>\n",
    "</tr>\n",
    "</tbody></table>\n",
    "<table>\n",
    "<tbody><tr>\n",
    "<th>Quantifier</th>\n",
    "<th>Description</th>\n",
    "<th>Example</th>\n",
    "<th>Sample match</th>\n",
    "</tr>\n",
    "<tr>\n",
    "<td>+</td>\n",
    "<td>one or more</td>\n",
    "<td>\\w+</td>\n",
    "<td>ABCDEF097</td>\n",
    "</tr>\n",
    "<tr>\n",
    "<td>{2}</td>\n",
    "<td>exactly 2 times</td>\n",
    "<td>\\d{2}</td>\n",
    "<td>01</td>\n",
    "</tr>\n",
    "<tr>\n",
    "<td>{1,}</td>\n",
    "<td>one or more times</td>\n",
    "<td>\\w{1,}</td>\n",
    "<td>smiling</td>\n",
    "</tr>\n",
    "<tr>\n",
    "<td>{2,4}</td>\n",
    "<td>2, 3 or 4 times</td>\n",
    "<td>\\w{2,4}</td>\n",
    "<td>1234</td>\n",
    "</tr>\n",
    "<tr>\n",
    "<td>*</td>\n",
    "<td>0 or more times</td>\n",
    "<td>A*B</td>\n",
    "<td>AAAAB</td>\n",
    "</tr>\n",
    "<tr>\n",
    "<td>?</td>\n",
    "<td>once or none(lazy)</td>\n",
    "<td>\\d+?</td>\n",
    "<td>1 in 12345</td>\n",
    "</tr>\n",
    "</tbody></table>"
   ]
  },
  {
   "cell_type": "code",
   "execution_count": 25,
   "metadata": {},
   "outputs": [
    {
     "name": "stdout",
     "output_type": "stream",
     "text": [
      "\n",
      " \t  1 \r",
      " 2 \r",
      " 3 \f",
      " 4 \u000b",
      " 5\n"
     ]
    }
   ],
   "source": [
    "print(\"\\n \\t  1 \\r 2 \\r 3 \\f 4 \\v 5\") "
   ]
  },
  {
   "cell_type": "code",
   "execution_count": 12,
   "metadata": {},
   "outputs": [
    {
     "data": {
      "text/plain": [
       "<re.Match object; span=(0, 6), match='hello '>"
      ]
     },
     "execution_count": 12,
     "metadata": {},
     "output_type": "execute_result"
    }
   ],
   "source": [
    "re.match('hello ', 'hello world ok')"
   ]
  },
  {
   "cell_type": "markdown",
   "metadata": {},
   "source": [
    "### When to escape"
   ]
  },
  {
   "cell_type": "markdown",
   "metadata": {},
   "source": [
    "<span style=\"font-family:New York Times; font-size:1em; color:green;\">\n",
    "    \n",
    "There are 12 characters with special meanings: \n",
    "* the backslash `\\`\n",
    "* the caret `^`\n",
    "* the dollar sign `$`\n",
    "* the period or dot `.`\n",
    "* the vertical bar or pipe symbol `|`\n",
    "* the question mark `?`\n",
    "* the asterisk or star `*`\n",
    "* the plus sign `+`\n",
    "* the opening parenthesis `(`\n",
    "* the closing parenthesis `)`\n",
    "* the opening square bracket `[`\n",
    "* the opening curly brace `{`\n",
    "\n",
    "he `r` means the the following is a \"raw string\", ie. backslash characters are treated literally instead of signifying special treatment of the following character \n",
    "\n",
    "so `\\n` is a single newline\n",
    "and `r'\\n'` is two characters - a backslash and the letter `'n'`\n",
    "another way to write it would be `'\\\\n'` because the first backslash escapes the second"
   ]
  },
  {
   "cell_type": "code",
   "execution_count": 59,
   "metadata": {},
   "outputs": [
    {
     "data": {
      "text/plain": [
       "'\\\\n'"
      ]
     },
     "execution_count": 59,
     "metadata": {},
     "output_type": "execute_result"
    },
    {
     "data": {
      "text/plain": [
       "'\\n'"
      ]
     },
     "execution_count": 59,
     "metadata": {},
     "output_type": "execute_result"
    },
    {
     "name": "stdout",
     "output_type": "stream",
     "text": [
      "\n",
      " a\n",
      "\\n a\n"
     ]
    }
   ],
   "source": [
    "r'\\n'\n",
    "'\\n'\n",
    "print('\\n a')\n",
    "print(r'\\n a')"
   ]
  },
  {
   "cell_type": "code",
   "execution_count": 64,
   "metadata": {},
   "outputs": [
    {
     "data": {
      "text/plain": [
       "'\\\\^a\\\\.\\\\*\\\\$\\\\+\\\\{\\\\}\\\\(\\\\)\\\\[\\\\\\\\e\\\\]\\\\+\\\\&b%'"
      ]
     },
     "execution_count": 64,
     "metadata": {},
     "output_type": "execute_result"
    }
   ],
   "source": [
    "#\n",
    "re.escape('^a.*$+{}()[\\e]+&b%')"
   ]
  },
  {
   "cell_type": "code",
   "execution_count": 63,
   "metadata": {},
   "outputs": [
    {
     "data": {
      "text/plain": [
       "'\\\\'"
      ]
     },
     "execution_count": 63,
     "metadata": {},
     "output_type": "execute_result"
    }
   ],
   "source": [
    "# re.compile separate definition of the regex from its use.\n",
    "pattern = re.compile('\\\\\\\\')\n",
    "result = pattern.match(\"\\\\author\")\n",
    "result.group()   "
   ]
  },
  {
   "cell_type": "code",
   "execution_count": null,
   "metadata": {},
   "outputs": [],
   "source": [
    "pattern = re.compile(r\"\\+\") # match alphanumeric characters followed by a + character\n",
    "result = pattern.search(\"file+\")#\n",
    "result.group()"
   ]
  },
  {
   "cell_type": "code",
   "execution_count": null,
   "metadata": {},
   "outputs": [],
   "source": [
    "string = '[em]e400824[/em]'\n",
    "pattern = re.compile(r'^\\[\\w{2}\\]\\w+\\d+\\[\\/\\w{2}\\]')\n",
    "x = pattern.match(string)\n",
    "x.group()"
   ]
  },
  {
   "cell_type": "code",
   "execution_count": 35,
   "metadata": {
    "cell_style": "center"
   },
   "outputs": [
    {
     "name": "stdout",
     "output_type": "stream",
     "text": [
      "r\n",
      "regex\n",
      "regex i\n",
      "regex is awesome\n",
      "r\n",
      "regex\n",
      "regex i\n",
      "regex is awesomeHoly\n"
     ]
    }
   ],
   "source": [
    "pattern = []\n",
    "pattern.append(re.compile(r\"\\w\"))\n",
    "pattern.append(re.compile(r\"\\w+\"))\n",
    "pattern.append(re.compile(r\"\\w+\\s\\w\"))\n",
    "pattern.append(re.compile(r\"\\w+\\s\\w+\\s\\w+\"))\n",
    "\n",
    "# Let's feed in some strings to match\n",
    "string = \"regex is awesome!\"\n",
    "string2 = \"regex is awesome\\\n",
    "Holy grail\"\n",
    "# Then call a matching method to match our pattern\n",
    "for i in pattern:\n",
    "    #match ⇒ find something at the beginning of the string and return a match object.\n",
    "    result = i.match(string)\n",
    "    #print(type(result))\n",
    "    print(result.group()) \n",
    "    \n",
    "for i in pattern:\n",
    "    #search ⇒ find something anywhere in the string and return a match object.\n",
    "    result = i.search(string2)\n",
    "    print(result.group())"
   ]
  },
  {
   "cell_type": "code",
   "execution_count": 13,
   "metadata": {},
   "outputs": [
    {
     "data": {
      "text/plain": [
       "'007'"
      ]
     },
     "execution_count": 13,
     "metadata": {},
     "output_type": "execute_result"
    }
   ],
   "source": [
    "def regex(string):\n",
    "    \"\"\"This function returns at least one matching digit.\"\"\"\n",
    "    pattern = re.compile(r\"\\d{1,}\") # For brevity, this is the same as r\"\\d+\"\n",
    "    result = pattern.match(string)\n",
    "    if result:\n",
    "        return  result.group()\n",
    "    return None\n",
    "\n",
    "# Call our function, passing in our string\n",
    "regex(\"007 James Bond\")"
   ]
  },
  {
   "cell_type": "code",
   "execution_count": 14,
   "metadata": {},
   "outputs": [
    {
     "name": "stdout",
     "output_type": "stream",
     "text": [
      "<re.Match object; span=(0, 1), match='d'>\n"
     ]
    },
    {
     "data": {
      "text/plain": [
       "'d'"
      ]
     },
     "execution_count": 14,
     "metadata": {},
     "output_type": "execute_result"
    }
   ],
   "source": [
    "line = \"dance more\"\n",
    "result = re.match(r\"[^\\d+]\", line)\n",
    "print(result)     # Prints out 'dance'\n",
    "result.group()"
   ]
  },
  {
   "cell_type": "code",
   "execution_count": 15,
   "metadata": {},
   "outputs": [
    {
     "data": {
      "text/plain": [
       "False"
      ]
     },
     "execution_count": 15,
     "metadata": {},
     "output_type": "execute_result"
    }
   ],
   "source": [
    "ass2 = 6\n",
    "lisx = []\n",
    "ass2 == True \n",
    "if lisx: \n",
    "    print(\"WTF\")"
   ]
  },
  {
   "cell_type": "markdown",
   "metadata": {},
   "source": [
    "## `re.search`"
   ]
  },
  {
   "cell_type": "markdown",
   "metadata": {},
   "source": [
    " ## `re.split`"
   ]
  },
  {
   "cell_type": "code",
   "execution_count": 16,
   "metadata": {},
   "outputs": [
    {
     "name": "stdout",
     "output_type": "stream",
     "text": [
      "['John Doe    Jane Doe    Jin Du    Chin Doe']\n"
     ]
    }
   ],
   "source": [
    "text = \"John Doe\\\n",
    "    Jane Doe\\\n",
    "    Jin Du\\\n",
    "    Chin Doe\"\n",
    "results = re.split(r\"\\n+\", text)\n",
    "print(results)"
   ]
  },
  {
   "cell_type": "markdown",
   "metadata": {},
   "source": [
    "## `re.findall`"
   ]
  },
  {
   "cell_type": "code",
   "execution_count": 96,
   "metadata": {},
   "outputs": [
    {
     "data": {
      "text/plain": [
       "['finding', 'dory']"
      ]
     },
     "execution_count": 96,
     "metadata": {},
     "output_type": "execute_result"
    }
   ],
   "source": [
    "def finder(string):\n",
    "    \"\"\"This function finds all the words in a given string.\"\"\"\n",
    "    result_list = re.findall(r\"\\w+\", string)\n",
    "    return result_list\n",
    "\n",
    "finder(\"finding dory\")"
   ]
  },
  {
   "cell_type": "code",
   "execution_count": 18,
   "metadata": {},
   "outputs": [
    {
     "name": "stdout",
     "output_type": "stream",
     "text": [
      "['120000', '140000', '10000', '1000', '200']\n"
     ]
    }
   ],
   "source": [
    "salaries = \"120000   140000   10000   1000   200\"\n",
    "\n",
    "result_list = re.findall(r\"\\d{2,6}\", salaries)\n",
    "print(result_list)     "
   ]
  },
  {
   "cell_type": "markdown",
   "metadata": {},
   "source": [
    "## `re.sub`"
   ]
  },
  {
   "cell_type": "code",
   "execution_count": 95,
   "metadata": {},
   "outputs": [
    {
     "name": "stdout",
     "output_type": "stream",
     "text": [
      "there is only __ thing __ do\n"
     ]
    }
   ],
   "source": [
    "# Substitutions\n",
    "pattern = re.compile(r\"[0-9]+\")\n",
    "result = pattern.sub(\"__\", \"there is only 12 thing 23 do\")\n",
    "print(result)"
   ]
  },
  {
   "cell_type": "markdown",
   "metadata": {},
   "source": [
    "## `?=`"
   ]
  },
  {
   "cell_type": "code",
   "execution_count": 93,
   "metadata": {},
   "outputs": [
    {
     "name": "stdout",
     "output_type": "stream",
     "text": [
      "brown\n"
     ]
    }
   ],
   "source": [
    "# Instead of matching from the start of the string, match an entity that's followed by the pattern\n",
    "pattern = re.compile(r'\\w+(?=\\sfox)')\n",
    "result = pattern.search(\"The quick brown fox\")\n",
    "print(result.group()) "
   ]
  },
  {
   "cell_type": "code",
   "execution_count": null,
   "metadata": {},
   "outputs": [],
   "source": [
    "number = eval(input(\"Enter your number\\n\"))\n",
    "\n",
    "\n",
    "def monetizer(number):\n",
    "    \"\"\"This function adds a thousands separator using comma characters.\"\"\"\n",
    "    number = str(number)\n",
    "    try:\n",
    "        if type(int(number)) == int:\n",
    "            # Format into groups of three from the right to the left\n",
    "            pattern = re.compile(r'\\d{1,3}(?=(\\d{3})+(?!\\d))')\n",
    "            # substitute with a comma then return\n",
    "            return pattern.sub(r'\\g<0>,', number)\n",
    "    except:\n",
    "        return \"Not a Number\"\n",
    "\n",
    "# Function call, passing in number as an argument\n",
    "print(monetizer(number))"
   ]
  },
  {
   "cell_type": "markdown",
   "metadata": {},
   "source": [
    "# Apply in real situation"
   ]
  },
  {
   "cell_type": "code",
   "execution_count": 12,
   "metadata": {},
   "outputs": [],
   "source": [
    "infile = \"FW.txt\"\n",
    "outfile = \"FW_noemoji.txt\"\n",
    "\n",
    "pattern = re.compile(r'\\[\\w{2}\\]\\w+\\d+\\[\\/\\w{2}\\]')\n",
    "inContent = open(infile).read()\n",
    "emoji = re.findall(pattern, inContent)\n",
    "output = pattern.sub(\"\", inContent)\n",
    "output;"
   ]
  },
  {
   "cell_type": "code",
   "execution_count": 13,
   "metadata": {},
   "outputs": [],
   "source": [
    "?re.escape(string)"
   ]
  },
  {
   "cell_type": "markdown",
   "metadata": {},
   "source": [
    " > re.escape(string)\n",
    "\n",
    " > Return string with all non-alphanumerics backslashed; this is useful if you want to match an arbitrary literal string that may have regular expression metacharacters in"
   ]
  },
  {
   "cell_type": "code",
   "execution_count": null,
   "metadata": {},
   "outputs": [],
   "source": [
    "re.escape(r'\\n')\n",
    "re.escape(r'\\\\')"
   ]
  },
  {
   "cell_type": "code",
   "execution_count": null,
   "metadata": {},
   "outputs": [],
   "source": [
    "pattern2 = re.compile(r'\\n')\n",
    "newLineSymbol = re.findall(pattern2, output)\n",
    "noNewLineSymbol = pattern2.sub('',output) \n",
    "noNewLineSymbol"
   ]
  },
  {
   "cell_type": "code",
   "execution_count": null,
   "metadata": {},
   "outputs": [],
   "source": [
    "pattern3 = re.compile(r'\\@\\{\\w{3}\\:\\d+\\,\\w+\\:\\w+\\,\\w+\\:\\d\\}')\n",
    "atuin = re.findall(pattern2, output)\n",
    "noatuin = pattern3.sub('', noNewLineSymbol)\n",
    "noatuin"
   ]
  },
  {
   "cell_type": "markdown",
   "metadata": {},
   "source": [
    "# Regular expression in action"
   ]
  },
  {
   "cell_type": "markdown",
   "metadata": {},
   "source": [
    "For instance, if I have a vector `[\"2\", \"3\", \"0\", \"1\"]`, I would like to obtain something like `[\"aa\", \"aaa\", \"\", \"a\"]`"
   ]
  },
  {
   "cell_type": "code",
   "execution_count": null,
   "metadata": {},
   "outputs": [],
   "source": [
    "\n",
    "\n",
    "a = tf.Variable([\"2\", \"3\", \"0\", \"1\"], dtype=tf.dtypes.string)\n",
    "res = tf.strings.regex_replace(a, \"([0-9]+)\", r\"a\" * int(\"\\\\1\"))\n",
    "\n",
    "with tf.Session() as sess:\n",
    "    sess.run(tf.global_variables_initializer())\n",
    "    print(sess.run(res)) # It should show [\"aa\", \"aaa\", \"\", \"a\"]"
   ]
  },
  {
   "cell_type": "code",
   "execution_count": 52,
   "metadata": {},
   "outputs": [
    {
     "data": {
      "text/plain": [
       "['aa', 'aaa', '', 'a']"
      ]
     },
     "execution_count": 52,
     "metadata": {},
     "output_type": "execute_result"
    }
   ],
   "source": [
    "x = [\"2\", \"3\", \"0\", \"1\"]\n",
    "for i in range(len(x)):\n",
    "    x[i]=int(x[i])*\"a\" \n",
    "x "
   ]
  },
  {
   "cell_type": "code",
   "execution_count": 46,
   "metadata": {},
   "outputs": [
    {
     "data": {
      "text/plain": [
       "['aa', 'aaa', '', 'a']"
      ]
     },
     "execution_count": 46,
     "metadata": {},
     "output_type": "execute_result"
    }
   ],
   "source": [
    "x = [\"2\", \"3\", \"0\", \"1\"]\n",
    "[int(i)*'a' for i in x]"
   ]
  },
  {
   "cell_type": "markdown",
   "metadata": {},
   "source": [
    "## find words occuring before `xx`"
   ]
  },
  {
   "cell_type": "code",
   "execution_count": 104,
   "metadata": {},
   "outputs": [
    {
     "data": {
      "text/plain": [
       "()"
      ]
     },
     "execution_count": 104,
     "metadata": {},
     "output_type": "execute_result"
    }
   ],
   "source": [
    "text=\"the women marathon unknown introduced at the summer olympics los angeles usa and unknown won\"  \n",
    "items=re.finditer('unknown',text)  #as there are 2 unknown\n",
    "#items.groups()\n",
    "pattern = re.compile(r'\\w+(?=\\sunknown)')\n",
    "result = pattern.search(text)\n",
    "\n",
    "result.groups()"
   ]
  },
  {
   "cell_type": "code",
   "execution_count": 55,
   "metadata": {},
   "outputs": [
    {
     "name": "stdout",
     "output_type": "stream",
     "text": [
      "Match 1 was found at 0-26: the women marathon unknown\n",
      "Group 1 found at 0-19: the women marathon \n",
      "Group 2 found at 19-26: unknown\n",
      "Match 2 was found at 26-88:  introduced at the summer olympics los angeles usa and unknown\n",
      "Group 1 found at 26-81:  introduced at the summer olympics los angeles usa and \n",
      "Group 2 found at 81-88: unknown\n"
     ]
    }
   ],
   "source": [
    "regex = r\"([\\s\\S]*?)(unknown)\"\n",
    "test_str = \"the women marathon unknown introduced at the summer olympics los angeles usa and unknown won\"\n",
    "matches = re.finditer(regex, test_str, re.MULTILINE)\n",
    "for matchNum, match in enumerate(matches, start=1):\n",
    "    print (\"Match {matchNum} was found at {start}-{end}: {match}\".format(matchNum = matchNum, start = match.start(), end = match.end(), match = match.group()))\n",
    "    for groupNum in range(0, len(match.groups())):\n",
    "        groupNum = groupNum + 1\n",
    "        print (\"Group {groupNum} found at {start}-{end}: {group}\".format(groupNum = groupNum, start = match.start(groupNum), end = match.end(groupNum), group = match.group(groupNum)))"
   ]
  },
  {
   "cell_type": "code",
   "execution_count": null,
   "metadata": {},
   "outputs": [],
   "source": []
  }
 ],
 "metadata": {
  "hide_input": false,
  "kernelspec": {
   "display_name": "Python 3",
   "language": "python",
   "name": "python3"
  },
  "language_info": {
   "codemirror_mode": {
    "name": "ipython",
    "version": 3
   },
   "file_extension": ".py",
   "mimetype": "text/x-python",
   "name": "python",
   "nbconvert_exporter": "python",
   "pygments_lexer": "ipython3",
   "version": "3.7.2"
  },
  "toc": {
   "base_numbering": 1,
   "nav_menu": {},
   "number_sections": true,
   "sideBar": true,
   "skip_h1_title": false,
   "title_cell": "Table of Contents",
   "title_sidebar": "Contents",
   "toc_cell": false,
   "toc_position": {},
   "toc_section_display": true,
   "toc_window_display": true
  },
  "varInspector": {
   "cols": {
    "lenName": 16,
    "lenType": 16,
    "lenVar": 40
   },
   "kernels_config": {
    "python": {
     "delete_cmd_postfix": "",
     "delete_cmd_prefix": "del ",
     "library": "var_list.py",
     "varRefreshCmd": "print(var_dic_list())"
    },
    "r": {
     "delete_cmd_postfix": ") ",
     "delete_cmd_prefix": "rm(",
     "library": "var_list.r",
     "varRefreshCmd": "cat(var_dic_list()) "
    }
   },
   "types_to_exclude": [
    "module",
    "function",
    "builtin_function_or_method",
    "instance",
    "_Feature"
   ],
   "window_display": false
  }
 },
 "nbformat": 4,
 "nbformat_minor": 2
}
