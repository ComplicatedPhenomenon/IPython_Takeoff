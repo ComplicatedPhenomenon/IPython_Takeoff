{
 "cells": [
  {
   "cell_type": "code",
   "execution_count": null,
   "metadata": {
    "ExecuteTime": {
     "end_time": "2019-12-08T09:51:26.146921Z",
     "start_time": "2019-12-08T09:51:26.143593Z"
    }
   },
   "outputs": [],
   "source": [
    "from IPython.core.interactiveshell import InteractiveShell\n",
    "InteractiveShell.ast_node_interactivity = \"all\""
   ]
  },
  {
   "cell_type": "code",
   "execution_count": null,
   "metadata": {
    "ExecuteTime": {
     "end_time": "2019-12-08T09:51:26.912326Z",
     "start_time": "2019-12-08T09:51:26.909768Z"
    }
   },
   "outputs": [],
   "source": [
    "import re "
   ]
  },
  {
   "cell_type": "code",
   "execution_count": null,
   "metadata": {
    "ExecuteTime": {
     "end_time": "2019-12-08T09:51:34.169946Z",
     "start_time": "2019-12-08T09:51:27.354516Z"
    }
   },
   "outputs": [],
   "source": [
    "import pandas as pd "
   ]
  },
  {
   "cell_type": "markdown",
   "metadata": {},
   "source": [
    "https://regex101.com/"
   ]
  },
  {
   "cell_type": "markdown",
   "metadata": {},
   "source": [
    "# Learn by doing \n",
    "* https://regexr.com/"
   ]
  },
  {
   "cell_type": "markdown",
   "metadata": {
    "ExecuteTime": {
     "end_time": "2019-12-08T10:42:52.750891Z",
     "start_time": "2019-12-08T10:42:52.745474Z"
    }
   },
   "source": [
    "<span style=\"font-family:New York Times; font-size:1em; color:green;\">\n",
    "    \n",
    "* [Using regex for text manipulation in python](https://stackabuse.com/using-regex-for-text-manipulation-in-python/)\n",
    "* [An introduction to regex in python](https://scotch.io/tutorials/an-introduction-to-regex-in-python)"
   ]
  },
  {
   "cell_type": "markdown",
   "metadata": {},
   "source": [
    "## `re.match`"
   ]
  },
  {
   "cell_type": "markdown",
   "metadata": {
    "cell_style": "center"
   },
   "source": [
    "<table>\n",
    "<tbody><tr>\n",
    "<th>Element</th>\n",
    "<th>Description</th>\n",
    "</tr>\n",
    "<tr>\n",
    "<td><strong>.</strong></td>\n",
    "<td>This element matches any character except \\n</td>\n",
    "</tr>\n",
    "<tr>\n",
    "<td><strong>\\d</strong></td>\n",
    "<td>This matches any digit [0-9]</td>\n",
    "</tr>\n",
    "<tr>\n",
    "<td><strong>\\D</strong></td>\n",
    "<td>This matches non-digit characters [^0-9]</td>\n",
    "</tr>\n",
    "<tr>\n",
    "<td><strong>\\s</strong></td>\n",
    "<td>This matches whitespace character [ \\t\\n\\r\\f\\v]</td>\n",
    "</tr>\n",
    "<tr>\n",
    "<td><strong>\\S</strong></td>\n",
    "<td>This matches non-whitespace character [^ \\t\\n\\r\\f\\v]</td>\n",
    "</tr>\n",
    "<tr>\n",
    "<td><strong>\\w</strong></td>\n",
    "<td>This matches alphanumeric character [a-zA-Z0-9_]</td>\n",
    "</tr>\n",
    "<tr>\n",
    "<td><strong>\\W</strong></td>\n",
    "<td>This matches any non-alphanumeric character [^a-zA-Z0-9]</td>\n",
    "</tr>\n",
    "</tbody></table>\n",
    "<table>\n",
    "<tbody><tr>\n",
    "<th>Quantifier</th>\n",
    "<th>Description</th>\n",
    "<th>Example</th>\n",
    "<th>Sample match</th>\n",
    "</tr>\n",
    "<tr>\n",
    "<td>+</td>\n",
    "<td>one or more</td>\n",
    "<td>\\w+</td>\n",
    "<td>ABCDEF097</td>\n",
    "</tr>\n",
    "<tr>\n",
    "<td>{2}</td>\n",
    "<td>exactly 2 times</td>\n",
    "<td>\\d{2}</td>\n",
    "<td>01</td>\n",
    "</tr>\n",
    "<tr>\n",
    "<td>{1,}</td>\n",
    "<td>one or more times</td>\n",
    "<td>\\w{1,}</td>\n",
    "<td>smiling</td>\n",
    "</tr>\n",
    "<tr>\n",
    "<td>{2,4}</td>\n",
    "<td>2, 3 or 4 times</td>\n",
    "<td>\\w{2,4}</td>\n",
    "<td>1234</td>\n",
    "</tr>\n",
    "<tr>\n",
    "<td>*</td>\n",
    "<td>0 or more times</td>\n",
    "<td>A*B</td>\n",
    "<td>AAAAB</td>\n",
    "</tr>\n",
    "<tr>\n",
    "<td>?</td>\n",
    "<td>once or none(lazy)</td>\n",
    "<td>\\d+?</td>\n",
    "<td>1 in 12345</td>\n",
    "</tr>\n",
    "</tbody></table>"
   ]
  },
  {
   "cell_type": "markdown",
   "metadata": {},
   "source": [
    "### When to escape"
   ]
  },
  {
   "cell_type": "markdown",
   "metadata": {},
   "source": [
    "<span style=\"font-family:New York Times; font-size:1em; color:green;\">\n",
    "    \n",
    "There are 12 characters with special meanings: \n",
    "* the backslash `\\`\n",
    "* the caret `^`\n",
    "* the dollar sign `$`\n",
    "* the period or dot `.`\n",
    "* the vertical bar or pipe symbol `|`\n",
    "* the question mark `?`\n",
    "* the asterisk or star `*`\n",
    "* the plus sign `+`\n",
    "* the opening parenthesis `(`\n",
    "* the closing parenthesis `)`\n",
    "* the opening square bracket `[`\n",
    "* the opening curly brace `{`"
   ]
  },
  {
   "cell_type": "code",
   "execution_count": null,
   "metadata": {
    "ExecuteTime": {
     "end_time": "2019-12-08T09:51:38.392769Z",
     "start_time": "2019-12-08T09:51:38.369267Z"
    }
   },
   "outputs": [],
   "source": [
    "re.escape('^a.*$+{}()[\\e]+&b%\\n')"
   ]
  },
  {
   "cell_type": "code",
   "execution_count": null,
   "metadata": {},
   "outputs": [],
   "source": [
    "# re.compile separate definition of the regex from its use.\n",
    "pattern = re.compile('\\\\\\\\')\n",
    "result = pattern.match(\"\\\\author\")\n",
    "result.group()   "
   ]
  },
  {
   "cell_type": "code",
   "execution_count": null,
   "metadata": {},
   "outputs": [],
   "source": [
    "def regex(string):\n",
    "    \"\"\"This function returns at least one matching digit.\"\"\"\n",
    "    pattern = re.compile(r\"\\d{1,}\") # For brevity, this is the same as r\"\\d+\"\n",
    "    result = pattern.match(string)\n",
    "    if result:\n",
    "        return  result.group()\n",
    "    return None\n",
    "\n",
    "regex(\"007 James Bond\")"
   ]
  },
  {
   "cell_type": "markdown",
   "metadata": {},
   "source": [
    " ## `re.split`"
   ]
  },
  {
   "cell_type": "code",
   "execution_count": null,
   "metadata": {
    "ExecuteTime": {
     "end_time": "2019-12-08T09:58:58.204143Z",
     "start_time": "2019-12-08T09:58:58.200423Z"
    }
   },
   "outputs": [],
   "source": [
    "text = \"John Doe\\\n",
    "    Jane Doe\\\n",
    "    Jin Du\\\n",
    "    Chin Doe\"\n",
    "\n",
    "results = re.split(r\"\\n+\", text)\n",
    "print(results)"
   ]
  },
  {
   "cell_type": "markdown",
   "metadata": {},
   "source": [
    "## `re.findall`"
   ]
  },
  {
   "cell_type": "code",
   "execution_count": null,
   "metadata": {
    "ExecuteTime": {
     "end_time": "2019-12-08T09:59:06.443673Z",
     "start_time": "2019-12-08T09:59:06.433598Z"
    }
   },
   "outputs": [],
   "source": [
    "def finder(string):\n",
    "    \"\"\"This function finds all the words in a given string.\"\"\"\n",
    "    result_list = re.findall(r\"\\w+\", string)\n",
    "    return result_list\n",
    "\n",
    "finder(\"finding dory\")"
   ]
  },
  {
   "cell_type": "code",
   "execution_count": null,
   "metadata": {
    "ExecuteTime": {
     "end_time": "2019-12-08T09:59:34.162673Z",
     "start_time": "2019-12-08T09:59:34.158412Z"
    }
   },
   "outputs": [],
   "source": [
    "salaries = \"120000   140000   10000   1000   200\"\n",
    "result_list = re.findall(r\"\\d{2,6}\", salaries)\n",
    "print(result_list)     "
   ]
  },
  {
   "cell_type": "markdown",
   "metadata": {},
   "source": [
    "### Find the part before a certain string "
   ]
  },
  {
   "cell_type": "markdown",
   "metadata": {},
   "source": [
    "https://regex101.com/r/8fY3CF/1"
   ]
  },
  {
   "cell_type": "code",
   "execution_count": null,
   "metadata": {
    "ExecuteTime": {
     "end_time": "2019-12-08T10:59:29.769468Z",
     "start_time": "2019-12-08T10:59:29.757732Z"
    }
   },
   "outputs": [],
   "source": [
    "s = '''aa1 !=5\n",
    "bb1 >=1\n",
    "cc1 ==1\n",
    "dd2 <= 2\n",
    "e3 <2'''\n",
    "\n",
    "rgx = '([a-zA-Z0-9]+)\\s*(!=|==|<=|>=|>|<)\\s*([a-zA-Z0-9]+)'\n",
    "re.findall(rgx, s)\n",
    "# re.findall('.+(?=>=|==|<=|!=|<|>)', s)\n",
    "\n",
    "list2 = []\n",
    "for m in re.findall(rgx, s):\n",
    "    list2.append(m[2])\n",
    "\n",
    "print(list2)"
   ]
  },
  {
   "cell_type": "markdown",
   "metadata": {},
   "source": [
    "## `?=`"
   ]
  },
  {
   "cell_type": "code",
   "execution_count": null,
   "metadata": {},
   "outputs": [],
   "source": [
    "# Instead of matching from the start of the string, match an entity that's followed by the pattern\n",
    "pattern = re.compile(r'\\w+(?=\\sfox)')\n",
    "result = pattern.search(\"The quick brown fox\")\n",
    "print(result.group()) "
   ]
  },
  {
   "cell_type": "markdown",
   "metadata": {},
   "source": [
    "https://stackoverflow.com/questions/58020385/extracting-strings-using-regular-expression/58020544#58020544"
   ]
  },
  {
   "cell_type": "code",
   "execution_count": null,
   "metadata": {
    "ExecuteTime": {
     "end_time": "2019-12-08T10:53:27.718900Z",
     "start_time": "2019-12-08T10:53:27.708580Z"
    }
   },
   "outputs": [],
   "source": [
    "s = '''LOW QUALITY PROTEIN: cysteine proteinase 5-like  [Solanum pennellii]\n",
    "PREDICTED: LOW QUALITY PROTEIN: uncharacterized protein LOC107059219 [Solanum pennellii]\n",
    "XP_019244624.1 PREDICTED: peroxidase 40-like [Nicotiana attenuata]\n",
    "RVW92024.1 Retrovirus-related Pol polyprotein from transposon TNT 1-94 [Vitis vinifera]\n",
    "hypothetical protein VITISV_035070 [Vitis vinifera]'''\n",
    "\n",
    "rgx = '(:?)\\s([\\w\\s-]+)\\s(\\[.+\\])'\n",
    "\n",
    "list1 = []\n",
    "for m in re.findall(rgx, s):\n",
    "    list1.append(m[1])\n",
    "\n",
    "list1\n",
    "\n",
    "s = \"hypothetical protein VITISV_035070 [Vitis vinifera]\"\n",
    "for m in re.findall(r'([\\w\\s-]+)\\s(\\[.+\\])', s):\n",
    "    print(m[0])"
   ]
  },
  {
   "cell_type": "markdown",
   "metadata": {},
   "source": [
    "## `re.sub`"
   ]
  },
  {
   "cell_type": "code",
   "execution_count": null,
   "metadata": {},
   "outputs": [],
   "source": [
    "https://stackoverflow.com/q/57764825"
   ]
  },
  {
   "cell_type": "code",
   "execution_count": null,
   "metadata": {},
   "outputs": [],
   "source": [
    "print(re.sub(r\"\\\\m{|}\", '', 'The fat \\m{cat sat} on \\m{the} mat.'))"
   ]
  },
  {
   "cell_type": "code",
   "execution_count": null,
   "metadata": {
    "ExecuteTime": {
     "end_time": "2019-12-08T10:26:36.551074Z",
     "start_time": "2019-12-08T10:26:36.545469Z"
    }
   },
   "outputs": [],
   "source": [
    "pattern = re.compile(r\"[0-9]+\")\n",
    "result = pattern.sub(\"__\", \"there is only 12 thing 23 do\")\n",
    "print(result)"
   ]
  },
  {
   "cell_type": "code",
   "execution_count": null,
   "metadata": {
    "ExecuteTime": {
     "end_time": "2019-12-08T10:26:52.510034Z",
     "start_time": "2019-12-08T10:26:52.501607Z"
    }
   },
   "outputs": [],
   "source": [
    "re.sub(r'[^@.]', 'x', 'hello@gmail.com')"
   ]
  },
  {
   "cell_type": "markdown",
   "metadata": {},
   "source": [
    "https://stackoverflow.com/questions/57721563/how-to-write-a-regular-expression-to-match-some-below-string-using-python/57721705#57721705"
   ]
  },
  {
   "cell_type": "code",
   "execution_count": null,
   "metadata": {
    "ExecuteTime": {
     "end_time": "2019-12-08T10:27:57.494247Z",
     "start_time": "2019-12-08T10:27:57.489391Z"
    }
   },
   "outputs": [],
   "source": [
    "s = \"\"\"\n",
    "[ 1.1 ] 1. A method of providing a master\n",
    "[ 12.1 ] 12. An apparatus for providing\n",
    "[ 39.3 ] b. one or more control point applications\n",
    "[ 39.8 ] iv. a server application programming interface\n",
    "[ 30.2 ] a. a client application programming\n",
    "\"\"\"\n",
    "print(re.sub(r'\\]\\s\\w{1,2}\\.', '] ', s))"
   ]
  },
  {
   "cell_type": "markdown",
   "metadata": {},
   "source": [
    "https://stackoverflow.com/questions/57838472/replace-all-occurrences-of-character-between-two-specific-characters#57838489"
   ]
  },
  {
   "cell_type": "code",
   "execution_count": null,
   "metadata": {},
   "outputs": [],
   "source": [
    "def repl(m):\n",
    "    str = m.group(0)\n",
    "    return str.replace(\",\", \";\")\n",
    "\n",
    "\n",
    "inp = \"Hello World blah, blah, §Rd, Vasai - East, Thane§ also Goodbye, world!\"\n",
    "print(inp)\n",
    "print(re.sub('§.*?§', repl, inp))"
   ]
  },
  {
   "cell_type": "markdown",
   "metadata": {},
   "source": [
    "# Regular expression in action"
   ]
  },
  {
   "cell_type": "markdown",
   "metadata": {},
   "source": [
    "## find words occuring before `xx`"
   ]
  },
  {
   "cell_type": "code",
   "execution_count": null,
   "metadata": {
    "ExecuteTime": {
     "end_time": "2019-12-08T10:35:55.325300Z",
     "start_time": "2019-12-08T10:35:55.316796Z"
    }
   },
   "outputs": [],
   "source": [
    "regex = r\"([\\s\\S]*?)(unknown)\"\n",
    "test_str = \"the women marathon unknown introduced at the summer olympics los angeles usa and unknown won\"\n",
    "matches = re.finditer(regex, test_str, re.MULTILINE)\n",
    "for matchNum, match in enumerate(matches, start=1):\n",
    "    print(\"Match {matchNum} was found at {start}-{end}: {match}\".format(\n",
    "        matchNum=matchNum,\n",
    "        start=match.start(),\n",
    "        end=match.end(),\n",
    "        match=match.group()))\n",
    "    for groupNum in range(0, len(match.groups())):\n",
    "        groupNum = groupNum + 1\n",
    "        print(\"Group {groupNum} found at {start}-{end}: {group}\".format(\n",
    "            groupNum=groupNum,\n",
    "            start=match.start(groupNum),\n",
    "            end=match.end(groupNum),\n",
    "            group=match.group(groupNum)))"
   ]
  },
  {
   "cell_type": "markdown",
   "metadata": {},
   "source": [
    "## Match sequence after a specified character\n",
    "* https://stackoverflow.com/questions/10768924/match-sequence-using-regex-after-a-specified-character"
   ]
  },
  {
   "cell_type": "markdown",
   "metadata": {},
   "source": [
    "## Sort according to name of the file"
   ]
  },
  {
   "cell_type": "code",
   "execution_count": null,
   "metadata": {
    "ExecuteTime": {
     "end_time": "2019-12-08T10:37:47.471505Z",
     "start_time": "2019-12-08T10:37:47.468096Z"
    }
   },
   "outputs": [],
   "source": [
    "my_list = ['Time:  1.00000E+01 h', 'Time:  1.00000E+02 h', 'Time:  1.50000E+01 h']"
   ]
  },
  {
   "cell_type": "code",
   "execution_count": null,
   "metadata": {
    "ExecuteTime": {
     "end_time": "2019-12-08T10:37:47.742380Z",
     "start_time": "2019-12-08T10:37:47.735516Z"
    }
   },
   "outputs": [],
   "source": [
    "pattern = re.compile(r\"\\d\\.\\d+E\\+\\d+\")\n",
    "sorted(my_list, key = lambda m : float(pattern.findall(m)[0]))"
   ]
  },
  {
   "cell_type": "code",
   "execution_count": null,
   "metadata": {
    "ExecuteTime": {
     "end_time": "2019-12-08T10:37:59.356037Z",
     "start_time": "2019-12-08T10:37:59.350198Z"
    }
   },
   "outputs": [],
   "source": [
    "my_list.sort(key=lambda x: float(x.split()[1]))\n",
    "print(my_list)"
   ]
  },
  {
   "cell_type": "code",
   "execution_count": null,
   "metadata": {},
   "outputs": [],
   "source": [
    "internal_list = [\" 1001 Support \", \"1021 Training\", \"1022\", \"1023\", \"1033 Procedures\"]\n",
    "[re.findall(r\"\\d{4}\", i)[0] for i in internal_list]\n",
    "print([ i.split()[0] for i in internal_list])\n",
    "internal_list=[ i.split()[0] for i in internal_list]"
   ]
  },
  {
   "cell_type": "code",
   "execution_count": null,
   "metadata": {
    "ExecuteTime": {
     "end_time": "2019-12-08T10:38:23.292262Z",
     "start_time": "2019-12-08T10:38:23.280715Z"
    }
   },
   "outputs": [],
   "source": [
    "pattern = re.compile(r\"\\d+\")\n",
    "m = [\n",
    "    'paketone0.dump.xlsx', 'paketone100000.dump.xlsx',\n",
    "    'paketone1000000.dump.xlsx', 'paketone1004000.dump.xlsx',\n",
    "    'paketone1008000.dump.xlsx', 'paketone1012000.dump.xlsx',\n",
    "    'paketone1016000.dump.xlsx', 'paketone1020000.dump.xlsx',\n",
    "    'paketone1024000.dump.xlsx', 'paketone1028000.dump.xlsx',\n",
    "    'paketone1032000.dump.xlsx', 'paketone1036000.dump.xlsx',\n",
    "    'paketone104000.dump.xlsx', 'paketone1040000.dump.xlsx'\n",
    "]\n",
    "sorted(m, key=lambda m: pattern.findall(m)[0])"
   ]
  },
  {
   "cell_type": "markdown",
   "metadata": {},
   "source": [
    "## Slice a string beween \n",
    "* https://stackoverflow.com/questions/57087310/i-would-like-to-slice-a-string-bounded-between-and"
   ]
  },
  {
   "cell_type": "code",
   "execution_count": null,
   "metadata": {},
   "outputs": [],
   "source": [
    "pattern = re.compile(r\"\\(1\\)\")\n",
    "pattern.findall(\"(1)Basking Ridge,(1) NJ\")\n",
    "pattern.sub('', \"(1)Basking Ridge, NJ\")"
   ]
  },
  {
   "cell_type": "code",
   "execution_count": null,
   "metadata": {},
   "outputs": [],
   "source": [
    "x = \"(1)Basking Ridge,(1) NJ\"\n",
    "#x.split(\"(1)\")\n",
    "\"\".join(x.split(\"(1)\"))\n",
    "y"
   ]
  },
  {
   "cell_type": "markdown",
   "metadata": {},
   "source": [
    "# Find a string\n",
    "https://stackoverflow.com/questions/57060369/python-split-a-string-by-a-word-which-contains-a-substring#57060573"
   ]
  },
  {
   "cell_type": "code",
   "execution_count": null,
   "metadata": {},
   "outputs": [],
   "source": [
    "meetingStrings = [\n",
    "    \"appointment\",\n",
    "    \"meet\",\n",
    "    \"interview\"\n",
    "]\n",
    "text = \"Fix me a meeting in 2 days\"\n",
    "for x in meetingStrings:\n",
    "    if x in text.lower(): \n",
    "        txt = text.split(x, 1)[1]\n",
    "        print(txt)"
   ]
  },
  {
   "cell_type": "code",
   "execution_count": null,
   "metadata": {},
   "outputs": [],
   "source": [
    "text = \"Fix me a meeting in 2 days\"\n",
    "print(re.split(\"({})\\\\w*\".format(\"|\".join(meetingStrings)), text))\n",
    "print(re.split(\"({})\\\\w*\".format(\"|\".join(meetingStrings)), text)[-1].strip())"
   ]
  },
  {
   "cell_type": "code",
   "execution_count": null,
   "metadata": {},
   "outputs": [],
   "source": [
    "pattern = re.compile(\"meet\"+\"\\w+\")\n",
    "text = \"Fix me a meeting in 2 days\"\n",
    "pattern.findall(text)"
   ]
  },
  {
   "cell_type": "code",
   "execution_count": null,
   "metadata": {},
   "outputs": [],
   "source": [
    "l=text.split()\n",
    "for i in meetingStrings:\n",
    "    for idx, j in enumerate(l):\n",
    "        if i in j:\n",
    "            l=l[idx+1:] \n",
    "' '.join(l)"
   ]
  },
  {
   "cell_type": "code",
   "execution_count": null,
   "metadata": {},
   "outputs": [],
   "source": [
    "s = \"\"\"Today is Mar 4, 2014 and tomorrow will be 2014-03-05\n",
    "       and yesterday was 03/03/2014 and now it is currently 2014-03-04 02:02:03\"\"\"\n",
    "ACCEPTABLE_REGEX_DATETIME_PATTERNS = [\n",
    "    r'\\d{4}\\-\\d{1,2}\\-\\d{1,2}\\s\\d{1,2}\\:\\d{1,2}\\:\\d{1,2}',\n",
    "    r'\\d{4}\\-\\d{1,2}\\-\\d{1,2}',\n",
    "    r'\\d{1,2}\\/\\d{1,2}\\/\\d{2,4}',\n",
    "    r'[a-zA-Z]{1,3}\\.?\\s\\d{1,2}\\,?\\s\\d{2,4}'\n",
    "]\n",
    "dt_regex = re.compile( '|'.join( ACCEPTABLE_REGEX_DATETIME_PATTERNS) )\n",
    "re.findall(dt_regex, s)\n",
    "\n",
    "# https://regex101.com/r/PpcUKi/1"
   ]
  },
  {
   "cell_type": "markdown",
   "metadata": {},
   "source": [
    "# Eliminate number between quote "
   ]
  },
  {
   "cell_type": "markdown",
   "metadata": {},
   "source": [
    "```md\n",
    "2 persons goes to watch \"Adam 2\"\n",
    "persons goes to watch \"Adam 2\"\n",
    "```"
   ]
  },
  {
   "cell_type": "code",
   "execution_count": null,
   "metadata": {},
   "outputs": [],
   "source": [
    "x = '2  3 persons \"Adam  3\" goes to watch \"Adam  2\"'\n",
    "pattern = re.compile(r'\\d[^$\"]')\n",
    "pattern.sub(\"\", x)\n",
    "print(pattern.sub(\"\", x))"
   ]
  },
  {
   "cell_type": "code",
   "execution_count": null,
   "metadata": {},
   "outputs": [],
   "source": [
    "text = 'Hello, \"find.me-_/\\\\\" please help with python regex'\n",
    "pattern = r'\"([A-Za-z0-9_\\./\\\\-]*)\"'\n",
    "m = re.search(pattern, text)\n",
    "\n",
    "print (m.group())"
   ]
  },
  {
   "cell_type": "markdown",
   "metadata": {},
   "source": [
    "# Process text \n",
    "https://regex101.com/r/PpcUKi/3"
   ]
  },
  {
   "cell_type": "code",
   "execution_count": null,
   "metadata": {},
   "outputs": [],
   "source": [
    "test_str = \"\"\"\n",
    "\n",
    "ASDF\n",
    "wqer rtre 34 $^&% fsfa\n",
    "DDwrgd 43 er 1. ewrtfg\n",
    "324rfegf 4gfgre\n",
    "\n",
    "QWE\n",
    "pritoy Fbhfg 45345 )*9\n",
    "tret 345 gret54\n",
    "retre 56 gre ger\n",
    "retgrh 546ttre\n",
    "\n",
    "PIIPUU\n",
    "gre tt HKH rre345 \n",
    "sdrfetre\n",
    "ewrewrqwr werfewrt34vds\n",
    "\n",
    "ret\n",
    "gre\n",
    "wretretertettre\n",
    "\n",
    "MMNNBMB\n",
    "aserew Sfjlkjf\n",
    "gdf\n",
    "rerettyrdfv re HFGHFFHF er\n",
    "ergre ret retre \n",
    "ret retretret \n",
    "\n",
    "reg regrtgh rertgre tret\n",
    "\n",
    "\"\"\"\n",
    "\n",
    "matches = re.findall(r'(?:^|\\n\\n)([A-Z]{3,}.*?)(?=\\n\\n[A-Z]{3,}\\n|$)',\n",
    "                     test_str,\n",
    "                     flags=re.DOTALL)\n",
    "print(matches)"
   ]
  },
  {
   "cell_type": "code",
   "execution_count": null,
   "metadata": {},
   "outputs": [],
   "source": [
    "lines = [\n",
    "    'ASDF\\n', 'wqer rtre 34 $^&% fsfa\\n', 'DDwrgd 43 er 1. ewrtfg\\n',\n",
    "    '324rfegf 4gfgre\\n', '\\n', 'QWE\\n', 'pritoy Fbhfg 45345 )*9\\n',\n",
    "    'tret 345 gret54\\n', 'retre 56 gre ger\\n', 'retgrh 546ttre\\n', '\\n',\n",
    "    'PIIPUU\\n', 'gre tt HKH rre345 \\n', 'sdrfetre\\n',\n",
    "    'ewrewrqwr werfewrt34vds\\n', '\\n', 'ret\\n', 'gre\\n', 'wretretertettre\\n',\n",
    "    '\\n', 'MMNNBMB\\n', 'aserew Sfjlkjf\\n', 'gdf\\n',\n",
    "    'rerettyrdfv re HFGHFFHF er\\n', 'ergre ret retre \\n', 'ret retretret \\n',\n",
    "    '\\n', 'reg regrtgh rertgre tret'\n",
    "]\n",
    "pattern = re.compile(r'[A-Z]+')\n",
    "for i, v in enumerate(lines):\n",
    "    try:\n",
    "        if pattern.findall(v)[0] == v[:-1]:\n",
    "            print(i)\n",
    "    except:\n",
    "        pass"
   ]
  },
  {
   "cell_type": "markdown",
   "metadata": {},
   "source": [
    "* https://stackoverflow.com/questions/57175334/need-to-append-inbetween-text-in-python/57176530#57176530"
   ]
  },
  {
   "cell_type": "code",
   "execution_count": null,
   "metadata": {},
   "outputs": [],
   "source": [
    "raw_location = {\n",
    "    \"Raynham, MA Topsham, ME\", \"Savannah, GA Cary, NC\",\n",
    "    \"Irvine, CA Bradenton, FL\"\n",
    "}\n",
    "pattern = re.compile(r'\\w+\\s\\w+')\n",
    "newset = set()\n",
    "for i in raw_location:\n",
    "    # find the part to further process\n",
    "    x = pattern.findall(i)\n",
    "    y = x[0].split(' ')\n",
    "    # replace this specific part with new form\n",
    "    newi = pattern.sub(y[0] + '/' + y[1], i)\n",
    "    newset.add(newi)\n",
    "print(newset)"
   ]
  },
  {
   "cell_type": "code",
   "execution_count": null,
   "metadata": {},
   "outputs": [],
   "source": [
    "raw_location = {\n",
    "    \"Raynham, MA Topsham, ME\", \"Savannah, GA Cary, NC\",\n",
    "    \"Irvine, CA Bradenton, FL\"\n",
    "}\n",
    "pattern = re.compile(r'\\w+\\s\\w+')\n",
    "newset = set()\n",
    "for i in raw_location:\n",
    "    # find the part to further process\n",
    "    x = pattern.findall(i)\n",
    "    y = x[0].split(' ')\n",
    "    # replace this speciiic part with new form\n",
    "    newi = pattern.sub(y[0] + '/' + y[1], i)\n",
    "    newset.add(newi)\n",
    "print(newset)"
   ]
  },
  {
   "cell_type": "code",
   "execution_count": null,
   "metadata": {},
   "outputs": [],
   "source": [
    "a_raw_location = \"Raynham, MA Topsham, ME\"\n",
    "pattern.findall(a_raw_location)"
   ]
  },
  {
   "cell_type": "code",
   "execution_count": null,
   "metadata": {},
   "outputs": [],
   "source": [
    "raw_location = {\n",
    "    \"Raynham, MA Topsham, ME\", \"Savannah, GA  Cary, NC\",\n",
    "    \"Irvine, CA Bradenton, FL\"\n",
    "}\n",
    "pattern = re.compile(r'\\w+\\s+\\w+')\n",
    "newset = set()\n",
    "for i in raw_location:\n",
    "    x = pattern.findall(i.split(',')[1])\n",
    "    y = x[0].split(' ')\n",
    "    newi = i.split(',')[0] + ',' + pattern.sub(\n",
    "        y[0] + '/' + y[1],\n",
    "        i.split(',')[1]) + ',' + i.split(',')[2]\n",
    "    newset.add(newi)\n",
    "print(newset)"
   ]
  },
  {
   "cell_type": "code",
   "execution_count": null,
   "metadata": {},
   "outputs": [],
   "source": [
    "raw_location = {\n",
    "    \"Raynham ok  , MA Topsham, ME\", \"Savannah, GA  Cary, NC\",\n",
    "    \"Irvine, CA Bradenton, FL\"\n",
    "}\n",
    "pattern = re.compile(r'\\w+\\s+\\w+')\n",
    "newset = set()\n",
    "\n",
    "newset = set()\n",
    "for i in raw_location:\n",
    "    tem = i.split(',')\n",
    "    x = tem[1].strip().split()\n",
    "    newi = tem[0].strip() + ', ' + x[0] + '/' + x[1] + ', ' + tem[1].strip()\n",
    "    newset.add(newi)\n",
    "newset"
   ]
  },
  {
   "cell_type": "code",
   "execution_count": null,
   "metadata": {},
   "outputs": [],
   "source": [
    "content = \"\"\"\n",
    "id-HTRY098WE\n",
    "id-KNGT371WE?witkl\n",
    "id-ZXV555NQE?phnu\n",
    "eh-VCBG075LK\n",
    "\"\"\"\n",
    "for item in re.findall(r'id-([A-Z0-9]+)', content):\n",
    "    print(item)"
   ]
  }
 ],
 "metadata": {
  "hide_input": false,
  "kernelspec": {
   "display_name": "Python 3",
   "language": "python",
   "name": "python3"
  },
  "language_info": {
   "codemirror_mode": {
    "name": "ipython",
    "version": 3
   },
   "file_extension": ".py",
   "mimetype": "text/x-python",
   "name": "python",
   "nbconvert_exporter": "python",
   "pygments_lexer": "ipython3",
   "version": "3.7.4"
  },
  "toc": {
   "base_numbering": 1,
   "nav_menu": {},
   "number_sections": true,
   "sideBar": true,
   "skip_h1_title": false,
   "title_cell": "Table of Contents",
   "title_sidebar": "Contents",
   "toc_cell": false,
   "toc_position": {
    "height": "calc(100% - 180px)",
    "left": "10px",
    "top": "150px",
    "width": "281.59375px"
   },
   "toc_section_display": true,
   "toc_window_display": true
  },
  "varInspector": {
   "cols": {
    "lenName": 16,
    "lenType": 16,
    "lenVar": 40
   },
   "kernels_config": {
    "python": {
     "delete_cmd_postfix": "",
     "delete_cmd_prefix": "del ",
     "library": "var_list.py",
     "varRefreshCmd": "print(var_dic_list())"
    },
    "r": {
     "delete_cmd_postfix": ") ",
     "delete_cmd_prefix": "rm(",
     "library": "var_list.r",
     "varRefreshCmd": "cat(var_dic_list()) "
    }
   },
   "types_to_exclude": [
    "module",
    "function",
    "builtin_function_or_method",
    "instance",
    "_Feature"
   ],
   "window_display": false
  }
 },
 "nbformat": 4,
 "nbformat_minor": 2
}
