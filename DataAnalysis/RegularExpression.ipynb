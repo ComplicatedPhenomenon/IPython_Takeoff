{
 "cells": [
  {
   "cell_type": "code",
   "execution_count": null,
   "metadata": {},
   "outputs": [],
   "source": [
    "from IPython.core.interactiveshell import InteractiveShell\n",
    "InteractiveShell.ast_node_interactivity = \"all\""
   ]
  },
  {
   "cell_type": "markdown",
   "metadata": {},
   "source": []
  },
  {
   "cell_type": "code",
   "execution_count": null,
   "metadata": {},
   "outputs": [],
   "source": [
    "import re  "
   ]
  },
  {
   "cell_type": "markdown",
   "metadata": {},
   "source": [
    "# Basic usage of `re`"
   ]
  },
  {
   "cell_type": "markdown",
   "metadata": {},
   "source": [
    "## `re.match`"
   ]
  },
  {
   "cell_type": "markdown",
   "metadata": {},
   "source": [
    "* [Using regex for text manipulation in python](https://stackabuse.com/using-regex-for-text-manipulation-in-python/)\n",
    "* [An introduction to regex in python](https://scotch.io/tutorials/an-introduction-to-regex-in-python)\n",
    "\n",
    "The purpose of the compile method is to compile the `regex` pattern which will be used for matching later."
   ]
  },
  {
   "cell_type": "markdown",
   "metadata": {
    "cell_style": "center"
   },
   "source": [
    "<table>\n",
    "<tbody><tr>\n",
    "<th>Element</th>\n",
    "<th>Description</th>\n",
    "</tr>\n",
    "<tr>\n",
    "<td><strong>.</strong></td>\n",
    "<td>This element matches any character except \\n</td>\n",
    "</tr>\n",
    "<tr>\n",
    "<td><strong>\\d</strong></td>\n",
    "<td>This matches any digit [0-9]</td>\n",
    "</tr>\n",
    "<tr>\n",
    "<td><strong>\\D</strong></td>\n",
    "<td>This matches non-digit characters [^0-9]</td>\n",
    "</tr>\n",
    "<tr>\n",
    "<td><strong>\\s</strong></td>\n",
    "<td>This matches whitespace character [ \\t\\n\\r\\f\\v]</td>\n",
    "</tr>\n",
    "<tr>\n",
    "<td><strong>\\S</strong></td>\n",
    "<td>This matches non-whitespace character [^ \\t\\n\\r\\f\\v]</td>\n",
    "</tr>\n",
    "<tr>\n",
    "<td><strong>\\w</strong></td>\n",
    "<td>This matches alphanumeric character [a-zA-Z0-9_]</td>\n",
    "</tr>\n",
    "<tr>\n",
    "<td><strong>\\W</strong></td>\n",
    "<td>This matches any non-alphanumeric character [^a-zA-Z0-9]</td>\n",
    "</tr>\n",
    "</tbody></table>\n",
    "\n",
    "<table>\n",
    "<tbody><tr>\n",
    "<th>Quantifier</th>\n",
    "<th>Description</th>\n",
    "<th>Example</th>\n",
    "<th>Sample match</th>\n",
    "</tr>\n",
    "<tr>\n",
    "<td>+</td>\n",
    "<td>one or more</td>\n",
    "<td>\\w+</td>\n",
    "<td>ABCDEF097</td>\n",
    "</tr>\n",
    "<tr>\n",
    "<td>{2}</td>\n",
    "<td>exactly 2 times</td>\n",
    "<td>\\d{2}</td>\n",
    "<td>01</td>\n",
    "</tr>\n",
    "<tr>\n",
    "<td>{1,}</td>\n",
    "<td>one or more times</td>\n",
    "<td>\\w{1,}</td>\n",
    "<td>smiling</td>\n",
    "</tr>\n",
    "<tr>\n",
    "<td>{2,4}</td>\n",
    "<td>2, 3 or 4 times</td>\n",
    "<td>\\w{2,4}</td>\n",
    "<td>1234</td>\n",
    "</tr>\n",
    "<tr>\n",
    "<td>*</td>\n",
    "<td>0 or more times</td>\n",
    "<td>A*B</td>\n",
    "<td>AAAAB</td>\n",
    "</tr>\n",
    "<tr>\n",
    "<td>?</td>\n",
    "<td>once or none(lazy)</td>\n",
    "<td>\\d+?</td>\n",
    "<td>1 in 12345</td>\n",
    "</tr>\n",
    "</tbody></table>"
   ]
  },
  {
   "cell_type": "markdown",
   "metadata": {},
   "source": [
    "### When to escape"
   ]
  },
  {
   "cell_type": "markdown",
   "metadata": {},
   "source": [
    "There are 12 characters with special meanings: the backslash `\\`, the caret `^`, the dollar sign `$`, the period or dot `.`, the vertical bar or pipe symbol `|`, the question mark `?`, the asterisk or star `*`, the plus sign `+`, the opening parenthesis `(`, the closing parenthesis `)`, the opening square bracket `[`, and the opening curly brace `{`, These special characters are often called \"metacharacters\". Most of them are errors when used alone."
   ]
  },
  {
   "cell_type": "code",
   "execution_count": null,
   "metadata": {},
   "outputs": [],
   "source": [
    "re.escape('^a.*$+{}()[\\e]')"
   ]
  },
  {
   "cell_type": "code",
   "execution_count": null,
   "metadata": {},
   "outputs": [],
   "source": [
    "pattern = re.compile('\\\\\\\\')\n",
    "result = pattern.match(\"\\\\author\")\n",
    "print(result.group())   "
   ]
  },
  {
   "cell_type": "code",
   "execution_count": null,
   "metadata": {},
   "outputs": [],
   "source": [
    "pattern = re.compile(r\"\\+\") # match alphanumeric characters followed by a + character\n",
    "result = pattern.search(\"file+\")\n",
    "print(result.group())"
   ]
  },
  {
   "cell_type": "code",
   "execution_count": null,
   "metadata": {},
   "outputs": [],
   "source": [
    "string = '[em]e400824[/em]'\n",
    "pattern = re.compile(r'^\\[\\w{2}\\]\\w+\\d+\\[\\/\\w{2}\\]')\n",
    "x = pattern.match(string)\n",
    "x.group()"
   ]
  },
  {
   "cell_type": "code",
   "execution_count": null,
   "metadata": {
    "cell_style": "center"
   },
   "outputs": [],
   "source": [
    "pattern = []\n",
    "pattern.append(re.compile(r\"\\w\"))\n",
    "pattern.append(re.compile(r\"\\w+\"))\n",
    "pattern.append(re.compile(r\"\\w+\\s\\w\"))\n",
    "pattern.append(re.compile(r\"\\w+\\s\\w+\\s\\w+\"))\n",
    "\n",
    "# Let's feed in some strings to match\n",
    "string = \"regex is awesome!\"\n",
    "# Then call a matching method to match our pattern\n",
    "for i in pattern:\n",
    "    result = i.match(string)\n",
    "    print(type(result))\n",
    "    print(result.group()) "
   ]
  },
  {
   "cell_type": "code",
   "execution_count": null,
   "metadata": {},
   "outputs": [],
   "source": [
    "def regex(string):\n",
    "    \"\"\"This function returns at least one matching digit.\"\"\"\n",
    "    pattern = re.compile(r\"\\d{1,}\") # For brevity, this is the same as r\"\\d+\"\n",
    "    result = pattern.match(string)\n",
    "    if result:\n",
    "        return  result.group()\n",
    "    return None\n",
    "\n",
    "# Call our function, passing in our string\n",
    "regex(\"007 James Bond\")"
   ]
  },
  {
   "cell_type": "code",
   "execution_count": null,
   "metadata": {},
   "outputs": [],
   "source": [
    "line = \"dance more\"\n",
    "result = re.match(r\"[^\\d+]\", line)\n",
    "print(result)     # Prints out 'dance'\n",
    "result.group()"
   ]
  },
  {
   "cell_type": "code",
   "execution_count": null,
   "metadata": {},
   "outputs": [],
   "source": [
    "ass2 = 6\n",
    "lisx = []\n",
    "ass2 == True \n",
    "if ass2: \n",
    "    print(\"WTF\")"
   ]
  },
  {
   "cell_type": "markdown",
   "metadata": {},
   "source": [
    "## `re.search`"
   ]
  },
  {
   "cell_type": "markdown",
   "metadata": {},
   "source": [
    " ## `re.split`"
   ]
  },
  {
   "cell_type": "code",
   "execution_count": null,
   "metadata": {},
   "outputs": [],
   "source": [
    "text = \"John Doe\\\n",
    "    Jane Doe\\\n",
    "    Jin Du\\\n",
    "    Chin Doe\"\n",
    "results = re.split(r\"\\n+\", text)\n",
    "print(results)"
   ]
  },
  {
   "cell_type": "markdown",
   "metadata": {},
   "source": [
    "## `re.findall`"
   ]
  },
  {
   "cell_type": "code",
   "execution_count": null,
   "metadata": {},
   "outputs": [],
   "source": [
    "def finder(string):\n",
    "    \"\"\"This function finds all the words in a given string.\"\"\"\n",
    "    result_list = re.findall(r\"\\w+\", string)\n",
    "    return result_list\n",
    "\n",
    "finder(\"finding dory\")"
   ]
  },
  {
   "cell_type": "code",
   "execution_count": null,
   "metadata": {},
   "outputs": [],
   "source": [
    "salaries = \"120000   140000   10000   1000   200\"\n",
    "\n",
    "result_list = re.findall(r\"\\d{2,6}\", salaries)\n",
    "print(result_list)     "
   ]
  },
  {
   "cell_type": "markdown",
   "metadata": {},
   "source": [
    "## `re.sub`"
   ]
  },
  {
   "cell_type": "code",
   "execution_count": null,
   "metadata": {},
   "outputs": [],
   "source": [
    "pattern = re.compile(r\"[0-9]+\")\n",
    "result = pattern.sub(\"__\", \"there is only 12 thing 23 do\")\n",
    "print(result)"
   ]
  },
  {
   "cell_type": "markdown",
   "metadata": {},
   "source": [
    "## `?=`"
   ]
  },
  {
   "cell_type": "markdown",
   "metadata": {},
   "source": [
    "Instead of matching from the start of the string, match an entity that's followed by the pattern"
   ]
  },
  {
   "cell_type": "code",
   "execution_count": null,
   "metadata": {},
   "outputs": [],
   "source": [
    "pattern = re.compile(r'\\w+(?=\\sfox)')\n",
    "result = pattern.search(\"The quick brown fox\")\n",
    "print(result.group()) "
   ]
  },
  {
   "cell_type": "code",
   "execution_count": null,
   "metadata": {},
   "outputs": [],
   "source": [
    "number = eval(input(\"Enter your number\\n\"))\n",
    "\n",
    "\n",
    "def monetizer(number):\n",
    "    \"\"\"This function adds a thousands separator using comma characters.\"\"\"\n",
    "    number = str(number)\n",
    "    try:\n",
    "        if type(int(number)) == int:\n",
    "            # Format into groups of three from the right to the left\n",
    "            pattern = re.compile(r'\\d{1,3}(?=(\\d{3})+(?!\\d))')\n",
    "            # substitute with a comma then return\n",
    "            return pattern.sub(r'\\g<0>,', number)\n",
    "    except:\n",
    "        return \"Not a Number\"\n",
    "\n",
    "# Function call, passing in number as an argument\n",
    "print(monetizer(number))"
   ]
  },
  {
   "cell_type": "markdown",
   "metadata": {},
   "source": [
    "## Apply in real situation"
   ]
  },
  {
   "cell_type": "code",
   "execution_count": null,
   "metadata": {},
   "outputs": [],
   "source": [
    "infile = \"FW.txt\"\n",
    "outfile = \"FW_noemoji.txt\"\n",
    "\n",
    "pattern = re.compile(r'\\[\\w{2}\\]\\w+\\d+\\[\\/\\w{2}\\]')\n",
    "inContent = open(infile).read()\n",
    "emoji = re.findall(pattern, inContent)\n",
    "output = pattern.sub(\"\", inContent)\n",
    "output"
   ]
  },
  {
   "cell_type": "markdown",
   "metadata": {},
   "source": [
    " > re.escape(string)\n",
    "\n",
    " > Return string with all non-alphanumerics backslashed; this is useful if you want to match an arbitrary literal string that may have regular expression metacharacters inm"
   ]
  },
  {
   "cell_type": "code",
   "execution_count": null,
   "metadata": {},
   "outputs": [],
   "source": [
    "re.escape(r'\\n')\n",
    "re.escape(r'\\\\')"
   ]
  },
  {
   "cell_type": "code",
   "execution_count": null,
   "metadata": {},
   "outputs": [],
   "source": [
    "pattern2 = re.compile(r'\\n')\n",
    "newLineSymbol = re.findall(pattern2, output)\n",
    "noNewLineSymbol = pattern2.sub('',output) \n",
    "noNewLineSymbol"
   ]
  },
  {
   "cell_type": "code",
   "execution_count": null,
   "metadata": {},
   "outputs": [],
   "source": [
    "pattern3 = re.compile(r'\\@\\{\\w{3}\\:\\d+\\,\\w+\\:\\w+\\,\\w+\\:\\d\\}')\n",
    "atuin = re.findall(pattern2, output)\n",
    "noatuin = pattern3.sub('', noNewLineSymbol)\n",
    "noatuin"
   ]
  }
 ],
 "metadata": {
  "hide_input": false,
  "kernelspec": {
   "display_name": "Python 3",
   "language": "python",
   "name": "python3"
  },
  "language_info": {
   "codemirror_mode": {
    "name": "ipython",
    "version": 3
   },
   "file_extension": ".py",
   "mimetype": "text/x-python",
   "name": "python",
   "nbconvert_exporter": "python",
   "pygments_lexer": "ipython3",
   "version": "3.7.2"
  },
  "toc": {
   "base_numbering": 1,
   "nav_menu": {},
   "number_sections": true,
   "sideBar": true,
   "skip_h1_title": false,
   "title_cell": "Table of Contents",
   "title_sidebar": "Contents",
   "toc_cell": false,
   "toc_position": {},
   "toc_section_display": true,
   "toc_window_display": true
  },
  "varInspector": {
   "cols": {
    "lenName": 16,
    "lenType": 16,
    "lenVar": 40
   },
   "kernels_config": {
    "python": {
     "delete_cmd_postfix": "",
     "delete_cmd_prefix": "del ",
     "library": "var_list.py",
     "varRefreshCmd": "print(var_dic_list())"
    },
    "r": {
     "delete_cmd_postfix": ") ",
     "delete_cmd_prefix": "rm(",
     "library": "var_list.r",
     "varRefreshCmd": "cat(var_dic_list()) "
    }
   },
   "types_to_exclude": [
    "module",
    "function",
    "builtin_function_or_method",
    "instance",
    "_Feature"
   ],
   "window_display": false
  }
 },
 "nbformat": 4,
 "nbformat_minor": 2
}
