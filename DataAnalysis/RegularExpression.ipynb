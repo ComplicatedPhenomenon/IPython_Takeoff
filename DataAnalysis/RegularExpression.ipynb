{
 "cells": [
  {
   "cell_type": "code",
   "execution_count": 1,
   "metadata": {},
   "outputs": [],
   "source": [
    "from IPython.core.interactiveshell import InteractiveShell\n",
    "InteractiveShell.ast_node_interactivity = \"all\""
   ]
  },
  {
   "cell_type": "code",
   "execution_count": 2,
   "metadata": {},
   "outputs": [],
   "source": [
    "import re  "
   ]
  },
  {
   "cell_type": "code",
   "execution_count": 44,
   "metadata": {},
   "outputs": [
    {
     "data": {
      "text/plain": [
       "'HHHH'"
      ]
     },
     "execution_count": 44,
     "metadata": {},
     "output_type": "execute_result"
    }
   ],
   "source": [
    "x = 'CH4'\n",
    "y = x[1]*int(x[2])\n",
    "y"
   ]
  },
  {
   "cell_type": "code",
   "execution_count": 53,
   "metadata": {},
   "outputs": [
    {
     "ename": "NameError",
     "evalue": "name 'NaN' is not defined",
     "output_type": "error",
     "traceback": [
      "\u001b[0;31m---------------------------------------------------------------------------\u001b[0m",
      "\u001b[0;31mNameError\u001b[0m                                 Traceback (most recent call last)",
      "\u001b[0;32m<ipython-input-53-bc8988cfebd8>\u001b[0m in \u001b[0;36m<module>\u001b[0;34m()\u001b[0m\n\u001b[1;32m      1\u001b[0m df = pd.DataFrame({\n\u001b[0;32m----> 2\u001b[0;31m                     'Emp_id': [NaN,321,451,121,\n\u001b[0m\u001b[1;32m      3\u001b[0m                                451,451,321,755],\n\u001b[1;32m      4\u001b[0m                     'TimeStamp': ['29-07-2019 08:55:55','29-07-2019 09:02:55','29-07-2019 09:05:50','29-07-2019 10:05:50',\n\u001b[1;32m      5\u001b[0m                                   '29-07-2019 10:07:50','29-07-2019 10:10:10','29-07-2019 10:20:10','29-07-2019 11:00:00'],\n",
      "\u001b[0;31mNameError\u001b[0m: name 'NaN' is not defined"
     ]
    }
   ],
   "source": [
    "df = pd.DataFrame({\n",
    "                    'Emp_id': [NaN,321,451,121,\n",
    "                               451,451,321,755],\n",
    "                    'TimeStamp': ['29-07-2019 08:55:55','29-07-2019 09:02:55','29-07-2019 09:05:50','29-07-2019 10:05:50',\n",
    "                                  '29-07-2019 10:07:50','29-07-2019 10:10:10','29-07-2019 10:20:10','29-07-2019 11:00:00'],\n",
    "                    'Status': ['IN','IN','IN','OUT','OUT','IN','OUT','IN']\n",
    "})\n",
    "df[df['Emp_id']==121]\n",
    "print(df.to_string(index=False))"
   ]
  },
  {
   "cell_type": "markdown",
   "metadata": {},
   "source": [
    "# Split a column \n",
    "https://stackoverflow.com/questions/57253539/parse-phone-number-and-string-into-new-columns-in-pandas-dataframe#57253539"
   ]
  },
  {
   "cell_type": "code",
   "execution_count": 11,
   "metadata": {},
   "outputs": [],
   "source": [
    " x= {'address':[\"Arnie Morton's of Chicago 435 S. La Cienega Blvd. Los Angeles 310-246-1501 Steakhouses\",\\\n",
    "                \"Art's Deli 12224 Ventura Blvd. Studio City 818-762-1221 Delis\",\\\n",
    "                \"Bel-Air Hotel 701 Stone Canyon Rd. Bel Air 310-472-1211 French Bistro\"]}"
   ]
  },
  {
   "cell_type": "code",
   "execution_count": 22,
   "metadata": {},
   "outputs": [
    {
     "data": {
      "text/plain": [
       "{'a': 300, 'b': 200, 'c': 300, 'd': 400}"
      ]
     },
     "execution_count": 22,
     "metadata": {},
     "output_type": "execute_result"
    }
   ],
   "source": [
    "d1 = {'a': 100, 'b': 200, 'c':300}\n",
    "d2 = {'a': 300, 'b': 200, 'd':400}\n",
    "{**d1, **d2}"
   ]
  },
  {
   "cell_type": "code",
   "execution_count": 12,
   "metadata": {},
   "outputs": [],
   "source": [
    "import pandas as pd "
   ]
  },
  {
   "cell_type": "code",
   "execution_count": 13,
   "metadata": {},
   "outputs": [],
   "source": [
    "df = pd.DataFrame(x)"
   ]
  },
  {
   "cell_type": "code",
   "execution_count": 20,
   "metadata": {},
   "outputs": [
    {
     "data": {
      "text/plain": [
       "[\"Art's Deli 12224 Ventura Blvd. Studio City 818\", '762', '1221 Delis']"
      ]
     },
     "execution_count": 20,
     "metadata": {},
     "output_type": "execute_result"
    }
   ],
   "source": [
    "df['address'].str.split('-')[1]"
   ]
  },
  {
   "cell_type": "code",
   "execution_count": 21,
   "metadata": {},
   "outputs": [
    {
     "name": "stdout",
     "output_type": "stream",
     "text": [
      "                                             address  phone_number  \\\n",
      "0  Arnie Morton's of Chicago 435 S. La Cienega Bl...  310-246-1501   \n",
      "1        Art's Deli 12224 Ventura Blvd. Studio City   818-762-1221   \n",
      "2        Bel-Air Hotel 701 Stone Canyon Rd. Bel Air   310-472-1211   \n",
      "\n",
      "         category  \n",
      "0     Steakhouses  \n",
      "1           Delis  \n",
      "2   French Bistro  \n"
     ]
    }
   ],
   "source": [
    "df = pd.DataFrame({'address':[\"Arnie Morton's of Chicago 435 S. La Cienega Blvd. Los Angeles 310-246-1501 Steakhouses\", \n",
    "                              \"Art's Deli 12224 Ventura Blvd. Studio City 818-762-1221 Delis\",\n",
    "                              \"Bel-Air Hotel 701 Stone Canyon Rd. Bel Air 310-472-1211 French Bistro\"]})\n",
    "df[[\"address\", \"phone_number\", \"category\"]] = df[\"address\"].str.extract(r\"(?P<address>.*?)(?P<phone_number>\\b\\d{3}\\-\\d{3}\\-\\d{4}\\b)(?P<category>.*$)\")\n",
    "print(df)"
   ]
  },
  {
   "cell_type": "markdown",
   "metadata": {},
   "source": [
    "# Learn by doing \n",
    "* https://regexr.com/"
   ]
  },
  {
   "cell_type": "markdown",
   "metadata": {},
   "source": [
    "# Basic usage of `re`"
   ]
  },
  {
   "cell_type": "markdown",
   "metadata": {},
   "source": [
    "## `re.match`"
   ]
  },
  {
   "cell_type": "markdown",
   "metadata": {},
   "source": [
    "<span style=\"font-family:New York Times; font-size:1em; color:green;\">\n",
    "    \n",
    "* [Using regex for text manipulation in python](https://stackabuse.com/using-regex-for-text-manipulation-in-python/)\n",
    "* [An introduction to regex in python](https://scotch.io/tutorials/an-introduction-to-regex-in-python)\n",
    "\n",
    "The purpose of the compile method is to compile the `regex` pattern which will be used for matching later."
   ]
  },
  {
   "cell_type": "markdown",
   "metadata": {
    "cell_style": "center"
   },
   "source": [
    "<table>\n",
    "<tbody><tr>\n",
    "<th>Element</th>\n",
    "<th>Description</th>\n",
    "</tr>\n",
    "<tr>\n",
    "<td><strong>.</strong></td>\n",
    "<td>This element matches any character except \\n</td>\n",
    "</tr>\n",
    "<tr>\n",
    "<td><strong>\\d</strong></td>\n",
    "<td>This matches any digit [0-9]</td>\n",
    "</tr>\n",
    "<tr>\n",
    "<td><strong>\\D</strong></td>\n",
    "<td>This matches non-digit characters [^0-9]</td>\n",
    "</tr>\n",
    "<tr>\n",
    "<td><strong>\\s</strong></td>\n",
    "<td>This matches whitespace character [ \\t\\n\\r\\f\\v]</td>\n",
    "</tr>\n",
    "<tr>\n",
    "<td><strong>\\S</strong></td>\n",
    "<td>This matches non-whitespace character [^ \\t\\n\\r\\f\\v]</td>\n",
    "</tr>\n",
    "<tr>\n",
    "<td><strong>\\w</strong></td>\n",
    "<td>This matches alphanumeric character [a-zA-Z0-9_]</td>\n",
    "</tr>\n",
    "<tr>\n",
    "<td><strong>\\W</strong></td>\n",
    "<td>This matches any non-alphanumeric character [^a-zA-Z0-9]</td>\n",
    "</tr>\n",
    "</tbody></table>\n",
    "<table>\n",
    "<tbody><tr>\n",
    "<th>Quantifier</th>\n",
    "<th>Description</th>\n",
    "<th>Example</th>\n",
    "<th>Sample match</th>\n",
    "</tr>\n",
    "<tr>\n",
    "<td>+</td>\n",
    "<td>one or more</td>\n",
    "<td>\\w+</td>\n",
    "<td>ABCDEF097</td>\n",
    "</tr>\n",
    "<tr>\n",
    "<td>{2}</td>\n",
    "<td>exactly 2 times</td>\n",
    "<td>\\d{2}</td>\n",
    "<td>01</td>\n",
    "</tr>\n",
    "<tr>\n",
    "<td>{1,}</td>\n",
    "<td>one or more times</td>\n",
    "<td>\\w{1,}</td>\n",
    "<td>smiling</td>\n",
    "</tr>\n",
    "<tr>\n",
    "<td>{2,4}</td>\n",
    "<td>2, 3 or 4 times</td>\n",
    "<td>\\w{2,4}</td>\n",
    "<td>1234</td>\n",
    "</tr>\n",
    "<tr>\n",
    "<td>*</td>\n",
    "<td>0 or more times</td>\n",
    "<td>A*B</td>\n",
    "<td>AAAAB</td>\n",
    "</tr>\n",
    "<tr>\n",
    "<td>?</td>\n",
    "<td>once or none(lazy)</td>\n",
    "<td>\\d+?</td>\n",
    "<td>1 in 12345</td>\n",
    "</tr>\n",
    "</tbody></table>"
   ]
  },
  {
   "cell_type": "markdown",
   "metadata": {},
   "source": [
    "### When to escape"
   ]
  },
  {
   "cell_type": "markdown",
   "metadata": {},
   "source": [
    "<span style=\"font-family:New York Times; font-size:1em; color:green;\">\n",
    "    \n",
    "There are 12 characters with special meanings: \n",
    "* the backslash `\\`\n",
    "* the caret `^`\n",
    "* the dollar sign `$`\n",
    "* the period or dot `.`\n",
    "* the vertical bar or pipe symbol `|`\n",
    "* the question mark `?`\n",
    "* the asterisk or star `*`\n",
    "* the plus sign `+`\n",
    "* the opening parenthesis `(`\n",
    "* the closing parenthesis `)`\n",
    "* the opening square bracket `[`\n",
    "* the opening curly brace `{`\n",
    "\n",
    "he `r` means the the following is a \"raw string\", ie. backslash characters are treated literally instead of signifying special treatment of the following character \n",
    "\n",
    "so `\\n` is a single newline\n",
    "and `r'\\n'` is two characters - a backslash and the letter `'n'`\n",
    "another way to write it would be `'\\\\n'` because the first backslash escapes the second"
   ]
  },
  {
   "cell_type": "code",
   "execution_count": null,
   "metadata": {},
   "outputs": [],
   "source": [
    "r'\\n'\n",
    "'\\n'\n",
    "print('\\n a')\n",
    "print(r'\\n a')"
   ]
  },
  {
   "cell_type": "code",
   "execution_count": null,
   "metadata": {},
   "outputs": [],
   "source": [
    "#\n",
    "re.escape('^a.*$+{}()[\\e]+&b%')"
   ]
  },
  {
   "cell_type": "code",
   "execution_count": null,
   "metadata": {},
   "outputs": [],
   "source": [
    "# re.compile separate definition of the regex from its use.\n",
    "pattern = re.compile('\\\\\\\\')\n",
    "result = pattern.match(\"\\\\author\")\n",
    "result.group()   "
   ]
  },
  {
   "cell_type": "code",
   "execution_count": null,
   "metadata": {},
   "outputs": [],
   "source": [
    "pattern = re.compile(r\"\\+\") # match alphanumeric characters followed by a + character\n",
    "result = pattern.search(\"file+\")#\n",
    "result.group()"
   ]
  },
  {
   "cell_type": "code",
   "execution_count": null,
   "metadata": {},
   "outputs": [],
   "source": [
    "string = '[em]e400824[/em]'\n",
    "pattern = re.compile(r'^\\[\\w{2}\\]\\w+\\d+\\[\\/\\w{2}\\]')\n",
    "x = pattern.match(string)\n",
    "x.group()"
   ]
  },
  {
   "cell_type": "code",
   "execution_count": null,
   "metadata": {
    "cell_style": "center"
   },
   "outputs": [],
   "source": [
    "pattern = []\n",
    "pattern.append(re.compile(r\"\\w\"))\n",
    "pattern.append(re.compile(r\"\\w+\"))\n",
    "pattern.append(re.compile(r\"\\w+\\s\\w\"))\n",
    "pattern.append(re.compile(r\"\\w+\\s\\w+\\s\\w+\"))\n",
    "\n",
    "# Let's feed in some strings to match\n",
    "string = \"regex is awesome!\"\n",
    "string2 = \"regex is awesome\\\n",
    "Holy grail\"\n",
    "# Then call a matching method to match our pattern\n",
    "for i in pattern:\n",
    "    #match ⇒ find something at the beginning of the string and return a match object.\n",
    "    result = i.match(string)\n",
    "    #print(type(result))\n",
    "    print(result.group()) \n",
    "    \n",
    "for i in pattern:\n",
    "    #search ⇒ find something anywhere in the string and return a match object.\n",
    "    result = i.search(string2)\n",
    "    print(result.group())"
   ]
  },
  {
   "cell_type": "code",
   "execution_count": null,
   "metadata": {},
   "outputs": [],
   "source": [
    "def regex(string):\n",
    "    \"\"\"This function returns at least one matching digit.\"\"\"\n",
    "    pattern = re.compile(r\"\\d{1,}\") # For brevity, this is the same as r\"\\d+\"\n",
    "    result = pattern.match(string)\n",
    "    if result:\n",
    "        return  result.group()\n",
    "    return None\n",
    "\n",
    "# Call our function, passing in our string\n",
    "regex(\"007 James Bond\")"
   ]
  },
  {
   "cell_type": "code",
   "execution_count": null,
   "metadata": {},
   "outputs": [],
   "source": [
    "line = \"dance more\"\n",
    "result = re.match(r\"[^\\d+]\", line)\n",
    "print(result)     # Prints out 'dance'\n",
    "result.group()"
   ]
  },
  {
   "cell_type": "code",
   "execution_count": null,
   "metadata": {},
   "outputs": [],
   "source": [
    "ass2 = 6\n",
    "lisx = []\n",
    "ass2 == True \n",
    "if lisx: \n",
    "    print(\"WTF\")"
   ]
  },
  {
   "cell_type": "markdown",
   "metadata": {},
   "source": [
    "## `re.search`"
   ]
  },
  {
   "cell_type": "markdown",
   "metadata": {},
   "source": [
    " ## `re.split`"
   ]
  },
  {
   "cell_type": "code",
   "execution_count": null,
   "metadata": {},
   "outputs": [],
   "source": [
    "text = \"John Doe\\\n",
    "    Jane Doe\\\n",
    "    Jin Du\\\n",
    "    Chin Doe\"\n",
    "results = re.split(r\"\\n+\", text)\n",
    "print(results)"
   ]
  },
  {
   "cell_type": "markdown",
   "metadata": {},
   "source": [
    "## `re.findall`"
   ]
  },
  {
   "cell_type": "code",
   "execution_count": null,
   "metadata": {},
   "outputs": [],
   "source": [
    "def finder(string):\n",
    "    \"\"\"This function finds all the words in a given string.\"\"\"\n",
    "    result_list = re.findall(r\"\\w+\", string)\n",
    "    return result_list\n",
    "\n",
    "finder(\"finding dory\")"
   ]
  },
  {
   "cell_type": "code",
   "execution_count": null,
   "metadata": {},
   "outputs": [],
   "source": [
    "salaries = \"120000   140000   10000   1000   200\"\n",
    "\n",
    "result_list = re.findall(r\"\\d{2,6}\", salaries)\n",
    "print(result_list)     "
   ]
  },
  {
   "cell_type": "markdown",
   "metadata": {},
   "source": [
    "## `re.sub`"
   ]
  },
  {
   "cell_type": "code",
   "execution_count": null,
   "metadata": {},
   "outputs": [],
   "source": [
    "# Substitutions\n",
    "pattern = re.compile(r\"[0-9]+\")\n",
    "result = pattern.sub(\"__\", \"there is only 12 thing 23 do\")\n",
    "print(result)"
   ]
  },
  {
   "cell_type": "markdown",
   "metadata": {},
   "source": [
    "## `?=`"
   ]
  },
  {
   "cell_type": "code",
   "execution_count": null,
   "metadata": {},
   "outputs": [],
   "source": [
    "# Instead of matching from the start of the string, match an entity that's followed by the pattern\n",
    "pattern = re.compile(r'\\w+(?=\\sfox)')\n",
    "result = pattern.search(\"The quick brown fox\")\n",
    "print(result.group()) "
   ]
  },
  {
   "cell_type": "code",
   "execution_count": null,
   "metadata": {},
   "outputs": [],
   "source": [
    "number = eval(input(\"Enter your number\\n\"))\n",
    "\n",
    "\n",
    "def monetizer(number):\n",
    "    \"\"\"This function adds a thousands separator using comma characters.\"\"\"\n",
    "    number = str(number)\n",
    "    try:\n",
    "        if type(int(number)) == int:\n",
    "            # Format into groups of three from the right to the left\n",
    "            pattern = re.compile(r'\\d{1,3}(?=(\\d{3})+(?!\\d))')\n",
    "            # substitute with a comma then return\n",
    "            return pattern.sub(r'\\g<0>,', number)\n",
    "    except:\n",
    "        return \"Not a Number\"\n",
    "\n",
    "# Function call, passing in number as an argument\n",
    "print(monetizer(number))"
   ]
  },
  {
   "cell_type": "markdown",
   "metadata": {},
   "source": [
    "# Apply in real situation"
   ]
  },
  {
   "cell_type": "code",
   "execution_count": null,
   "metadata": {},
   "outputs": [],
   "source": [
    "infile = \"FW.txt\"\n",
    "outfile = \"FW_noemoji.txt\"\n",
    "\n",
    "pattern = re.compile(r'\\[\\w{2}\\]\\w+\\d+\\[\\/\\w{2}\\]')\n",
    "inContent = open(infile).read()\n",
    "emoji = re.findall(pattern, inContent)\n",
    "output = pattern.sub(\"\", inContent)\n",
    "output;"
   ]
  },
  {
   "cell_type": "code",
   "execution_count": null,
   "metadata": {},
   "outputs": [],
   "source": [
    "?re.escape(string)"
   ]
  },
  {
   "cell_type": "markdown",
   "metadata": {},
   "source": [
    " > re.escape(string)\n",
    "\n",
    " > Return string with all non-alphanumerics backslashed; this is useful if you want to match an arbitrary literal string that may have regular expression metacharacters in"
   ]
  },
  {
   "cell_type": "code",
   "execution_count": null,
   "metadata": {},
   "outputs": [],
   "source": [
    "re.escape(r'\\n')\n",
    "re.escape(r'\\\\')"
   ]
  },
  {
   "cell_type": "code",
   "execution_count": null,
   "metadata": {},
   "outputs": [],
   "source": [
    "pattern2 = re.compile(r'\\n')\n",
    "newLineSymbol = re.findall(pattern2, output)\n",
    "noNewLineSymbol = pattern2.sub('',output) \n",
    "noNewLineSymbol"
   ]
  },
  {
   "cell_type": "code",
   "execution_count": null,
   "metadata": {},
   "outputs": [],
   "source": [
    "pattern3 = re.compile(r'\\@\\{\\w{3}\\:\\d+\\,\\w+\\:\\w+\\,\\w+\\:\\d\\}')\n",
    "atuin = re.findall(pattern2, output)\n",
    "noatuin = pattern3.sub('', noNewLineSymbol)\n",
    "noatuin"
   ]
  },
  {
   "cell_type": "markdown",
   "metadata": {},
   "source": [
    "# Regular expression in action"
   ]
  },
  {
   "cell_type": "markdown",
   "metadata": {},
   "source": [
    "For instance, if I have a vector `[\"2\", \"3\", \"0\", \"1\"]`, I would like to obtain something like `[\"aa\", \"aaa\", \"\", \"a\"]`"
   ]
  },
  {
   "cell_type": "code",
   "execution_count": null,
   "metadata": {},
   "outputs": [],
   "source": [
    "\n",
    "\n",
    "a = tf.Variable([\"2\", \"3\", \"0\", \"1\"], dtype=tf.dtypes.string)\n",
    "res = tf.strings.regex_replace(a, \"([0-9]+)\", r\"a\" * int(\"\\\\1\"))\n",
    "\n",
    "with tf.Session() as sess:\n",
    "    sess.run(tf.global_variables_initializer())\n",
    "    print(sess.run(res)) # It should show [\"aa\", \"aaa\", \"\", \"a\"]"
   ]
  },
  {
   "cell_type": "code",
   "execution_count": null,
   "metadata": {},
   "outputs": [],
   "source": [
    "x = [\"2\", \"3\", \"0\", \"1\"]\n",
    "for i in range(len(x)):\n",
    "    x[i]=int(x[i])*\"a\" \n",
    "x "
   ]
  },
  {
   "cell_type": "code",
   "execution_count": null,
   "metadata": {},
   "outputs": [],
   "source": [
    "x = [\"2\", \"3\", \"0\", \"1\"]\n",
    "[int(i)*'a' for i in x]"
   ]
  },
  {
   "cell_type": "markdown",
   "metadata": {},
   "source": [
    "## find words occuring before `xx`"
   ]
  },
  {
   "cell_type": "code",
   "execution_count": null,
   "metadata": {},
   "outputs": [],
   "source": [
    "text=\"the women marathon unknown introduced at the summer olympics los angeles usa and unknown won\"  \n",
    "items=re.finditer('unknown',text)  #as there are 2 unknown\n",
    "#items.groups()\n",
    "pattern = re.compile(r'\\w+(?=\\sunknown)')\n",
    "result = pattern.search(text)\n",
    "\n",
    "result.groups()"
   ]
  },
  {
   "cell_type": "code",
   "execution_count": null,
   "metadata": {},
   "outputs": [],
   "source": [
    "regex = r\"([\\s\\S]*?)(unknown)\"\n",
    "test_str = \"the women marathon unknown introduced at the summer olympics los angeles usa and unknown won\"\n",
    "matches = re.finditer(regex, test_str, re.MULTILINE)\n",
    "for matchNum, match in enumerate(matches, start=1):\n",
    "    print (\"Match {matchNum} was found at {start}-{end}: {match}\".format(matchNum = matchNum, start = match.start(), end = match.end(), match = match.group()))\n",
    "    for groupNum in range(0, len(match.groups())):\n",
    "        groupNum = groupNum + 1\n",
    "        print (\"Group {groupNum} found at {start}-{end}: {group}\".format(groupNum = groupNum, start = match.start(groupNum), end = match.end(groupNum), group = match.group(groupNum)))"
   ]
  },
  {
   "cell_type": "markdown",
   "metadata": {},
   "source": [
    "## Match sequence after a specified character\n",
    "* https://stackoverflow.com/questions/10768924/match-sequence-using-regex-after-a-specified-character"
   ]
  },
  {
   "cell_type": "markdown",
   "metadata": {},
   "source": [
    "## Sort according to name of the file"
   ]
  },
  {
   "cell_type": "code",
   "execution_count": null,
   "metadata": {},
   "outputs": [],
   "source": [
    "pattern = re.compile(r\"\\d\\.\\d+E\\+\\d+\")\n",
    "my_list = ['Time:  1.00000E+01 h', 'Time:  1.00000E+02 h', 'Time:  1.50000E+01 h']\n",
    "sorted(my_list, key = lambda m : float(pattern.findall(m)[0]))"
   ]
  },
  {
   "cell_type": "code",
   "execution_count": null,
   "metadata": {},
   "outputs": [],
   "source": [
    "my_list = ['Time:  1.00000E+01 h', 'Time:  1.00000E+02 h', 'Time:  1.50000E+01 h']\n",
    "my_list.sort(key=lambda x: float(x.split()[1]))\n",
    "print(my_list)"
   ]
  },
  {
   "cell_type": "code",
   "execution_count": null,
   "metadata": {},
   "outputs": [],
   "source": [
    "pattern = re.compile(r\"\\d+\")\n",
    "m= ['paketone0.dump.xlsx', 'paketone100000.dump.xlsx', 'paketone1000000.dump.xlsx', 'paketone1004000.dump.xlsx', 'paketone1008000.dump.xlsx', 'paketone1012000.dump.xlsx', 'paketone1016000.dump.xlsx', 'paketone1020000.dump.xlsx', 'paketone1024000.dump.xlsx', 'paketone1028000.dump.xlsx', 'paketone1032000.dump.xlsx', 'paketone1036000.dump.xlsx', 'paketone104000.dump.xlsx', 'paketone1040000.dump.xlsx']\n",
    "sorted(m, key = lambda m : pattern.findall(m)[0])"
   ]
  },
  {
   "cell_type": "markdown",
   "metadata": {},
   "source": [
    "## Slice a string beween \n",
    "* https://stackoverflow.com/questions/57087310/i-would-like-to-slice-a-string-bounded-between-and"
   ]
  },
  {
   "cell_type": "code",
   "execution_count": null,
   "metadata": {},
   "outputs": [],
   "source": [
    "pattern=re.compile(r\"\\(1\\)\")\n",
    "pattern.findall(\"(1)Basking Ridge,(1) NJ\")\n",
    "pattern.sub('', \"(1)Basking Ridge, NJ\")"
   ]
  },
  {
   "cell_type": "code",
   "execution_count": null,
   "metadata": {},
   "outputs": [],
   "source": [
    "x=\"(1)Basking Ridge,(1) NJ\"\n",
    "#x.split(\"(1)\")\n",
    "\"\".join(x.split(\"(1)\"))\n",
    "y "
   ]
  },
  {
   "cell_type": "markdown",
   "metadata": {},
   "source": [
    "# Convert number array to alpha array "
   ]
  },
  {
   "cell_type": "code",
   "execution_count": null,
   "metadata": {},
   "outputs": [],
   "source": [
    "array([['A', 'A', 'A', 'U'],\n",
    "       ['A', 'A', 'A', 'V'],\n",
    "       ['F', 'I', 'S', 'P'],\n",
    "       ['F', 'I', 'S', 'Q'],\n",
    "       ['S', 'Y', 'A', 'Y'],\n",
    "       ['S', 'Y', 'B', 'V'],\n",
    "       ['Y', 'M', 'Y', 'Y'],\n",
    "       ['Y', 'N', 'Q', 'Y'],\n",
    "       ['Y', 'N', 'T', 'Y'],\n",
    "       ['Y', 'O', 'V', 'Y'],\n",
    "       ['Y', 'O', 'Y', 'Y'],\n",
    "       ['Y', 'Q', 'Q', 'Y'],\n",
    "       ['Y', 'Q', 'Q', 'Y']], dtype='<U1')"
   ]
  },
  {
   "cell_type": "code",
   "execution_count": null,
   "metadata": {},
   "outputs": [],
   "source": [
    "a = '001' '001' '001' '021'"
   ]
  },
  {
   "cell_type": "code",
   "execution_count": null,
   "metadata": {},
   "outputs": [],
   "source": [
    "int(a[0:3])"
   ]
  },
  {
   "cell_type": "code",
   "execution_count": null,
   "metadata": {},
   "outputs": [],
   "source": [
    "u'A''B'"
   ]
  },
  {
   "cell_type": "code",
   "execution_count": null,
   "metadata": {},
   "outputs": [],
   "source": [
    "A =[['001' '001' '001' '021'],\n",
    "['001' '001' '001' '022'],\n",
    "['006' '009' '019' '016'],\n",
    "['006' '009' '019' '017'],\n",
    "['019' '025' '001' '025'],\n",
    "['019' '025' '002' '022'],\n",
    "['025' '013' '025' '025'],\n",
    "['025' '014' '017' '025'],\n",
    "['025' '014' '020' '025'],\n",
    "['025' '015' '022' '025'],\n",
    "['025' '015' '025' '025'],\n",
    "['025' '017' '017' '025'],\n",
    "['025' '017' '017' '025']]"
   ]
  },
  {
   "cell_type": "code",
   "execution_count": null,
   "metadata": {},
   "outputs": [],
   "source": [
    "d "
   ]
  },
  {
   "cell_type": "code",
   "execution_count": null,
   "metadata": {},
   "outputs": [],
   "source": [
    "a = [[]]*3\n",
    "a \n",
    "a[1].append(2)\n",
    "a \n",
    "a[1].append(3)\n",
    "a \n"
   ]
  },
  {
   "cell_type": "code",
   "execution_count": null,
   "metadata": {},
   "outputs": [],
   "source": [
    "A[0][0]"
   ]
  },
  {
   "cell_type": "code",
   "execution_count": null,
   "metadata": {},
   "outputs": [],
   "source": [
    "m = []\n",
    "for i in range(len(A)):\n",
    "    for j in range(len(A[0])//3):\n",
    "        m.append(d[int(A[i][0][3*j:3+3*j])]) "
   ]
  },
  {
   "cell_type": "code",
   "execution_count": null,
   "metadata": {},
   "outputs": [],
   "source": [
    "#m ;\n",
    "m[0:3]"
   ]
  },
  {
   "cell_type": "code",
   "execution_count": null,
   "metadata": {},
   "outputs": [],
   "source": [
    "H = []\n",
    "for i in range(len(A)):\n",
    "    H.append([''])\n",
    "    H+\n",
    "H "
   ]
  },
  {
   "cell_type": "markdown",
   "metadata": {},
   "source": [
    "# Element in a tuple"
   ]
  },
  {
   "cell_type": "code",
   "execution_count": null,
   "metadata": {},
   "outputs": [],
   "source": [
    "import string\n",
    "import itertools\n",
    "\n",
    "#Generate the letter list\n",
    "Alist=list(string.ascii_lowercase)\n",
    "#Generate the number list\n",
    "Nlist=list(range(30))\n",
    "\n",
    "#Combine them in order to get \"ABA\"\n",
    "CombinedList=(list((itertools.product(Nlist, Alist, Nlist))))\n",
    "\n",
    "#print(CombinedList)\n",
    "CombinedList[0]"
   ]
  },
  {
   "cell_type": "code",
   "execution_count": null,
   "metadata": {},
   "outputs": [],
   "source": [
    "type(CombinedList[0])"
   ]
  },
  {
   "cell_type": "code",
   "execution_count": null,
   "metadata": {},
   "outputs": [],
   "source": [
    "for i in CombinedList:\n",
    "    print('http://www.geo.ma/'+str(i[0])+i[1]+str(i[2])+'.txt')"
   ]
  },
  {
   "cell_type": "markdown",
   "metadata": {},
   "source": [
    "# Find a string\n",
    "https://stackoverflow.com/questions/57060369/python-split-a-string-by-a-word-which-contains-a-substring#57060573"
   ]
  },
  {
   "cell_type": "code",
   "execution_count": null,
   "metadata": {},
   "outputs": [],
   "source": [
    "meetingStrings = [\n",
    "    \"appointment\",\n",
    "    \"meet\",\n",
    "    \"interview\"\n",
    "]\n",
    "text = \"Fix me a meeting in 2 days\"\n",
    "for x in meetingStrings:\n",
    "    if x in text.lower(): \n",
    "        txt = text.split(x, 1)[1]\n",
    "        print(txt)"
   ]
  },
  {
   "cell_type": "code",
   "execution_count": null,
   "metadata": {},
   "outputs": [],
   "source": [
    "text = \"Fix me a meeting in 2 days\"\n",
    "print(re.split(\"({})\\\\w*\".format(\"|\".join(meetingStrings)), text))\n",
    "print(re.split(\"({})\\\\w*\".format(\"|\".join(meetingStrings)), text)[-1].strip())"
   ]
  },
  {
   "cell_type": "code",
   "execution_count": null,
   "metadata": {},
   "outputs": [],
   "source": [
    "pattern = re.compile(\"meet\"+\"\\w+\")"
   ]
  },
  {
   "cell_type": "code",
   "execution_count": null,
   "metadata": {},
   "outputs": [],
   "source": [
    "text = \"Fix me a meeting in 2 days\"\n",
    "pattern.findall(text)"
   ]
  },
  {
   "cell_type": "code",
   "execution_count": null,
   "metadata": {},
   "outputs": [],
   "source": [
    "l=text.split()\n",
    "for i in meetingStrings:\n",
    "    for idx, j in enumerate(l):\n",
    "        if i in j:\n",
    "            l=l[idx+1:] \n",
    "' '.join(l)"
   ]
  },
  {
   "cell_type": "markdown",
   "metadata": {},
   "source": [
    "# Eliminate number between quote "
   ]
  },
  {
   "cell_type": "markdown",
   "metadata": {},
   "source": [
    "```md\n",
    "2 persons goes to watch \"Adam 2\"\n",
    "persons goes to watch \"Adam 2\"\n",
    "```"
   ]
  },
  {
   "cell_type": "code",
   "execution_count": null,
   "metadata": {},
   "outputs": [],
   "source": [
    "x ='2  3 persons \"Adam  3\" goes to watch \"Adam  2\"' \n",
    "pattern = re.compile(r'\\d[^$\"]')\n",
    "pattern.sub(\"\", x) \n",
    "print(pattern.sub(\"\", x))\n"
   ]
  },
  {
   "cell_type": "code",
   "execution_count": null,
   "metadata": {},
   "outputs": [],
   "source": [
    "x.split(\" \")"
   ]
  },
  {
   "cell_type": "code",
   "execution_count": null,
   "metadata": {},
   "outputs": [],
   "source": [
    "import re\n",
    "\n",
    "text = 'Hello, \"find.me-_/\\\\\" please help with python regex'\n",
    "pattern = r'\"([A-Za-z0-9_\\./\\\\-]*)\"'\n",
    "m = re.search(pattern, text)\n",
    "\n",
    "print (m.group())"
   ]
  },
  {
   "cell_type": "markdown",
   "metadata": {},
   "source": [
    "# Split text "
   ]
  },
  {
   "cell_type": "code",
   "execution_count": null,
   "metadata": {},
   "outputs": [],
   "source": [
    "test_str = \"\"\"\n",
    "\n",
    "ASDF\n",
    "wqer rtre 34 $^&% fsfa\n",
    "DDwrgd 43 er 1. ewrtfg\n",
    "324rfegf 4gfgre\n",
    "\n",
    "QWE\n",
    "pritoy Fbhfg 45345 )*9\n",
    "tret 345 gret54\n",
    "retre 56 gre ger\n",
    "retgrh 546ttre\n",
    "\n",
    "PIIPUU\n",
    "gre tt HKH rre345 \n",
    "sdrfetre\n",
    "ewrewrqwr werfewrt34vds\n",
    "\n",
    "ret\n",
    "gre\n",
    "wretretertettre\n",
    "\n",
    "MMNNBMB\n",
    "aserew Sfjlkjf\n",
    "gdf\n",
    "rerettyrdfv re HFGHFFHF er\n",
    "ergre ret retre \n",
    "ret retretret \n",
    "\n",
    "reg regrtgh rertgre tret\n",
    "\n",
    "\"\"\"\n",
    "\n",
    "matches = re.findall(r'(?:^|\\n\\n)([A-Z]{3,}.*?)(?=\\n\\n[A-Z]{3,}\\n|$)', test_str, flags=re.DOTALL)\n",
    "print(matches)\n"
   ]
  },
  {
   "cell_type": "code",
   "execution_count": null,
   "metadata": {},
   "outputs": [],
   "source": [
    "print(matches[0])"
   ]
  },
  {
   "cell_type": "code",
   "execution_count": null,
   "metadata": {},
   "outputs": [],
   "source": [
    "lines = ['ASDF\\n', 'wqer rtre 34 $^&% fsfa\\n', 'DDwrgd 43 er 1. ewrtfg\\n', '324rfegf 4gfgre\\n', '\\n', 'QWE\\n', 'pritoy Fbhfg 45345 )*9\\n', 'tret 345 gret54\\n', 'retre 56 gre ger\\n', 'retgrh 546ttre\\n', '\\n', 'PIIPUU\\n', 'gre tt HKH rre345 \\n', 'sdrfetre\\n', 'ewrewrqwr werfewrt34vds\\n', '\\n', 'ret\\n', 'gre\\n', 'wretretertettre\\n', '\\n', 'MMNNBMB\\n', 'aserew Sfjlkjf\\n', 'gdf\\n', 'rerettyrdfv re HFGHFFHF er\\n', 'ergre ret retre \\n', 'ret retretret \\n', '\\n', 'reg regrtgh rertgre tret']\n",
    "pattern = re.compile(r'[A-Z]+')\n",
    "for i, v in enumerate(lines):\n",
    "    try:\n",
    "        if pattern.findall(v)[0] == v[:-1]:\n",
    "            print(i)\n",
    "    except:\n",
    "        pass "
   ]
  },
  {
   "cell_type": "markdown",
   "metadata": {},
   "source": [
    "* https://stackoverflow.com/questions/57175334/need-to-append-inbetween-text-in-python/57176530#57176530"
   ]
  },
  {
   "cell_type": "code",
   "execution_count": null,
   "metadata": {},
   "outputs": [],
   "source": [
    "raw_location = {\"Raynham, MA Topsham, ME\",\n",
    "\"Savannah, GA Cary, NC\",\n",
    " \"Irvine, CA Bradenton, FL\"}\n",
    "pattern = re.compile(r'\\w+\\s\\w+')\n",
    "newset = set()\n",
    "for i in raw_location:\n",
    "    # find the part to further process\n",
    "    x = pattern.findall(i)\n",
    "    y = x[0].split(' ')\n",
    "    # replace this specific part with new form\n",
    "    newi = pattern.sub(y[0]+'/'+y[1], i)\n",
    "    newset.add(newi)\n",
    "print (newset)"
   ]
  },
  {
   "cell_type": "code",
   "execution_count": null,
   "metadata": {},
   "outputs": [],
   "source": [
    "raw_location = {\"Raynham, MA Topsham, ME\",\n",
    "\"Savannah, GA Cary, NC\",\n",
    " \"Irvine, CA Bradenton, FL\"}\n",
    "pattern = re.compile(r'\\w+\\s\\w+')\n",
    "newset = set()\n",
    "for i in raw_location:\n",
    "    # find the part to further process\n",
    "    x = pattern.findall(i)\n",
    "    y = x[0].split(' ')\n",
    "    # replace this speciiic part with new form\n",
    "    newi = pattern.sub(y[0]+'/'+y[1], i)\n",
    "    newset.add(newi)\n",
    "print (newset)"
   ]
  },
  {
   "cell_type": "code",
   "execution_count": null,
   "metadata": {},
   "outputs": [],
   "source": [
    "a_raw_location = \"Raynham, MA Topsham, ME\"\n",
    "pattern.findall(a_raw_location)"
   ]
  },
  {
   "cell_type": "code",
   "execution_count": null,
   "metadata": {},
   "outputs": [],
   "source": [
    "import re \n",
    "raw_location = {\"Raynham, MA Topsham, ME\",\n",
    "\"Savannah, GA  Cary, NC\",\n",
    " \"Irvine, CA Bradenton, FL\"}\n",
    "pattern = re.compile(r'\\w+\\s+\\w+')\n",
    "newset = set()\n",
    "for i in raw_location:\n",
    "    # find the part to further process\n",
    "    x = pattern.findall(i.split(',')[1])\n",
    "    y = x[0].split(' ')\n",
    "    # replace this specific part with new form\n",
    "    newi = i.split(',')[0]+',' + pattern.sub(y[0]+'/'+y[1], i.split(',')[1]) + ',' + i.split(',')[2]\n",
    "    newset.add(newi )\n",
    "print (newset)"
   ]
  },
  {
   "cell_type": "code",
   "execution_count": null,
   "metadata": {},
   "outputs": [],
   "source": [
    "\" m n  %save\".strip(' m')"
   ]
  },
  {
   "cell_type": "code",
   "execution_count": null,
   "metadata": {},
   "outputs": [],
   "source": [
    "\"   Raynham,       MA    Topsham, ME  \".strip()"
   ]
  },
  {
   "cell_type": "code",
   "execution_count": null,
   "metadata": {},
   "outputs": [],
   "source": [
    "tem = \"Raynham, MA Topsham, ME\".split(',')\n",
    "tem "
   ]
  },
  {
   "cell_type": "code",
   "execution_count": null,
   "metadata": {},
   "outputs": [],
   "source": [
    "raw_location = {\"Raynham ok  , MA Topsham, ME\",\n",
    "\"Savannah, GA  Cary, NC\",\n",
    " \"Irvine, CA Bradenton, FL\"}\n",
    "pattern = re.compile(r'\\w+\\s+\\w+')\n",
    "newset = set()\n",
    "\n",
    "newset = set() \n",
    "for i in raw_location:\n",
    "    tem = i.split(',')\n",
    "    x = tem[1].strip().split()\n",
    "    newi = tem[0].strip() + ', ' + x[0]+'/'+x[1] + ', ' + tem[1].strip()\n",
    "    newset.add(newi )\n",
    "newset   \n",
    "    "
   ]
  },
  {
   "cell_type": "code",
   "execution_count": null,
   "metadata": {},
   "outputs": [],
   "source": [
    "content = \"\"\"\n",
    "id-HTRY098WE\n",
    "id-KNGT371WE?witkl\n",
    "id-ZXV555NQE?phnu\n",
    "eh-VCBG075LK\n",
    "\"\"\"\n",
    "for item in re.findall(r'id-([A-Z0-9]+)',content):\n",
    "    print(item)"
   ]
  }
 ],
 "metadata": {
  "hide_input": false,
  "kernelspec": {
   "display_name": "Python 3",
   "language": "python",
   "name": "python3"
  },
  "language_info": {
   "codemirror_mode": {
    "name": "ipython",
    "version": 3
   },
   "file_extension": ".py",
   "mimetype": "text/x-python",
   "name": "python",
   "nbconvert_exporter": "python",
   "pygments_lexer": "ipython3",
   "version": "3.7.2"
  },
  "toc": {
   "base_numbering": 1,
   "nav_menu": {},
   "number_sections": true,
   "sideBar": true,
   "skip_h1_title": false,
   "title_cell": "Table of Contents",
   "title_sidebar": "Contents",
   "toc_cell": false,
   "toc_position": {
    "height": "calc(100% - 180px)",
    "left": "10px",
    "top": "150px",
    "width": "281.59375px"
   },
   "toc_section_display": true,
   "toc_window_display": true
  },
  "varInspector": {
   "cols": {
    "lenName": 16,
    "lenType": 16,
    "lenVar": 40
   },
   "kernels_config": {
    "python": {
     "delete_cmd_postfix": "",
     "delete_cmd_prefix": "del ",
     "library": "var_list.py",
     "varRefreshCmd": "print(var_dic_list())"
    },
    "r": {
     "delete_cmd_postfix": ") ",
     "delete_cmd_prefix": "rm(",
     "library": "var_list.r",
     "varRefreshCmd": "cat(var_dic_list()) "
    }
   },
   "types_to_exclude": [
    "module",
    "function",
    "builtin_function_or_method",
    "instance",
    "_Feature"
   ],
   "window_display": false
  }
 },
 "nbformat": 4,
 "nbformat_minor": 2
}
