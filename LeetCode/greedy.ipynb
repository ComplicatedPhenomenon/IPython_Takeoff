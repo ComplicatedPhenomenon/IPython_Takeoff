{
 "cells": [
  {
   "cell_type": "markdown",
   "metadata": {},
   "source": [
    "# queue reconstruction by height\n",
    "https://leetcode.com/problems/queue-reconstruction-by-height/"
   ]
  },
  {
   "cell_type": "markdown",
   "metadata": {},
   "source": [
    "```md\n",
    "Suppose you have a random list of people standing in a queue. Each person is described by a pair of integers (h, k), where h is the height of the person and k is the number of people in front of this person who have a height greater than or equal to h. Write an algorithm to reconstruct the queue.\n",
    "\n",
    "Note:\n",
    "The number of people is less than 1,100.\n",
    "\n",
    "Input:\n",
    "[[7,0], [4,4], [7,1], [5,0], [6,1], [5,2]]\n",
    "\n",
    "Output:\n",
    "[[5,0], [7,0], [5,2], [6,1], [4,4], [7,1]]\n",
    "```"
   ]
  },
  {
   "cell_type": "code",
   "execution_count": 17,
   "metadata": {},
   "outputs": [
    {
     "name": "stdout",
     "output_type": "stream",
     "text": [
      "[[7, 0], [5, 0], [8, 0], [7, 1], [6, 1], [8, 1], [5, 2], [4, 4]]\n",
      "[[8, 0], [8, 1], [7, 0], [7, 1], [6, 1], [5, 0], [5, 2], [4, 4]]\n"
     ]
    },
    {
     "data": {
      "text/plain": [
       "[[5, 0], [7, 0], [5, 2], [6, 1], [4, 4], [7, 1], [8, 0], [8, 1]]"
      ]
     },
     "execution_count": 17,
     "metadata": {},
     "output_type": "execute_result"
    }
   ],
   "source": [
    "\"\"\"\n",
    "Runtime: 100 ms, faster than 99.78% of Python3 online submissions for Queue Reconstruction by Height.\n",
    "Memory Usage: 13.3 MB, less than 100.00% of Python3 online submissions for Queue Reconstruction by Height.\n",
    "\"\"\"\n",
    "class Solution:\n",
    "    def reconstructQueue(self, people):\n",
    "        if not people: return []\n",
    "        people.sort(key=lambda x: x[1])\n",
    "        print(people)\n",
    "        people.sort(key=lambda x: x[0],reverse=True)\n",
    "        print(people)\n",
    "        res=[]\n",
    "        for i in people:\n",
    "            res.insert(i[1],i)\n",
    "        return res\n",
    "\n",
    "people = [[7,1], [4,4], [7,0], [5,0], [6,1], [5,2], [8, 0], [8,1]]\n",
    "test = Solution()\n",
    "test.reconstructQueue(people)"
   ]
  },
  {
   "cell_type": "markdown",
   "metadata": {},
   "source": [
    "Why?"
   ]
  },
  {
   "cell_type": "code",
   "execution_count": null,
   "metadata": {},
   "outputs": [],
   "source": []
  }
 ],
 "metadata": {
  "hide_input": false,
  "kernelspec": {
   "display_name": "Python 3",
   "language": "python",
   "name": "python3"
  },
  "language_info": {
   "codemirror_mode": {
    "name": "ipython",
    "version": 3
   },
   "file_extension": ".py",
   "mimetype": "text/x-python",
   "name": "python",
   "nbconvert_exporter": "python",
   "pygments_lexer": "ipython3",
   "version": "3.7.2"
  },
  "toc": {
   "base_numbering": 1,
   "nav_menu": {},
   "number_sections": true,
   "sideBar": true,
   "skip_h1_title": false,
   "title_cell": "Table of Contents",
   "title_sidebar": "Contents",
   "toc_cell": false,
   "toc_position": {},
   "toc_section_display": true,
   "toc_window_display": false
  },
  "varInspector": {
   "cols": {
    "lenName": 16,
    "lenType": 16,
    "lenVar": 40
   },
   "kernels_config": {
    "python": {
     "delete_cmd_postfix": "",
     "delete_cmd_prefix": "del ",
     "library": "var_list.py",
     "varRefreshCmd": "print(var_dic_list())"
    },
    "r": {
     "delete_cmd_postfix": ") ",
     "delete_cmd_prefix": "rm(",
     "library": "var_list.r",
     "varRefreshCmd": "cat(var_dic_list()) "
    }
   },
   "types_to_exclude": [
    "module",
    "function",
    "builtin_function_or_method",
    "instance",
    "_Feature"
   ],
   "window_display": false
  }
 },
 "nbformat": 4,
 "nbformat_minor": 2
}
