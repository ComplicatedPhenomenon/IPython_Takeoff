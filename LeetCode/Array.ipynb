{
 "cells": [
  {
   "cell_type": "code",
   "execution_count": null,
   "metadata": {},
   "outputs": [],
   "source": [
    "from IPython.core.interactiveshell import InteractiveShell\n",
    "InteractiveShell.ast_node_interactivity = \"all\""
   ]
  },
  {
   "cell_type": "markdown",
   "metadata": {},
   "source": [
    "# Jump Game II\n",
    "https://leetcode.com/problems/jump-game-ii/"
   ]
  },
  {
   "cell_type": "markdown",
   "metadata": {},
   "source": [
    "```md\n",
    "Input: [2,3,1,1,4]\n",
    "Output: 2\n",
    "Explanation: The minimum number of jumps to reach the last index is 2.\n",
    "    Jump 1 step from index 0 to 1, then 3 steps to the last index.\n",
    "```"
   ]
  },
  {
   "cell_type": "markdown",
   "metadata": {},
   "source": [
    "```java \n",
    "public int jump(int[] A) {\n",
    "    int sc = 0;\n",
    "    int e = 0;\n",
    "    int max = 0;\n",
    "    for(int i=0; i<A.length-1; i++) {\n",
    "        max = Math.max(max, i+A[i]);\n",
    "        if( i == e ) {\n",
    "            sc++;\n",
    "            e = max;\n",
    "        } \n",
    "    }\n",
    "    return sc;\n",
    "}\n",
    "```"
   ]
  },
  {
   "cell_type": "code",
   "execution_count": null,
   "metadata": {},
   "outputs": [],
   "source": [
    "class Solution(object):\n",
    "    def jump(self, nums):\n",
    "        \"\"\"\n",
    "        :type nums: List[int]\n",
    "        :rtype: int\n",
    "        \"\"\"\n",
    "        "
   ]
  },
  {
   "cell_type": "markdown",
   "metadata": {},
   "source": [
    "# spiral matrix\n",
    "https://leetcode.com/problems/spiral-matrix/"
   ]
  },
  {
   "cell_type": "markdown",
   "metadata": {},
   "source": [
    "```md \n",
    "Input:\n",
    "[\n",
    " [ 1, 2, 3 ],\n",
    " [ 4, 5, 6 ],\n",
    " [ 7, 8, 9 ]\n",
    "]\n",
    "Output: [1,2,3,6,9,8,7,4,5]\n",
    "\n",
    "Here's how the matrix changes by always extracting the first row and rotating the remaining matrix counter-clockwise:\n",
    "\n",
    "\n",
    " |1 2 3|      |6 9|      |8 7|      |4|  =>  |5|  =>  ||\n",
    " |4 5 6|  =>  |5 8|  =>  |5 4|  =>  |5|\n",
    " |7 8 9|      |4 7|\n",
    " \n",
    "Now look at the first rows we extracted: \n",
    " \n",
    " |1 2 3|      |6 9|      |8 7|      |4|      |5|\n",
    "```"
   ]
  },
  {
   "cell_type": "code",
   "execution_count": null,
   "metadata": {},
   "outputs": [],
   "source": [
    "x = [\n",
    " [ 1, 2, 3 ],\n",
    " [ 4, 5, 6 ],\n",
    " [ 7, 8, 9 ]\n",
    "]\n",
    "#x.pop(0)\n",
    "print([*x.pop(0)]) \n",
    "[*zip(*x)][::-1]\n",
    "[*zip(*x)][::-1].pop(0)\n",
    "[*[*zip(*x)][::-1].pop(0)]"
   ]
  },
  {
   "cell_type": "code",
   "execution_count": null,
   "metadata": {},
   "outputs": [],
   "source": [
    "class Solution:\n",
    "    def spiralOrder(self, matrix):\n",
    "        return matrix and [*matrix.pop(0)] + self.spiralOrder([*zip(*matrix)][::-1])\n",
    "    \n",
    "x = Solution()\n",
    "\n",
    "matrix = [\n",
    " [ 1, 2, 3 ],\n",
    " [ 4, 5, 6 ],\n",
    " [ 7, 8, 9 ]\n",
    "]\n",
    "x.spiralOrder(matrix)"
   ]
  },
  {
   "cell_type": "code",
   "execution_count": null,
   "metadata": {},
   "outputs": [],
   "source": [
    "\"\"\"\n",
    "Runtime: 24 ms, faster than 99.87% of Python3 online submissions for Spiral Matrix.\n",
    "Memory Usage: 13.9 MB, less than 8.70% of Python3 online submissions for Spiral Matrix.\n",
    "\"\"\"\n",
    "class Solution:\n",
    "    def spiralOrder(self, matrix):\n",
    "        try:\n",
    "            return  [*matrix.pop(0)] + self.spiralOrder([*zip(*matrix)][::-1])\n",
    "        except:\n",
    "            return []\n",
    "            \n",
    "    \n",
    "x = Solution()\n",
    "\n",
    "matrix = [\n",
    " [ 1, 2, 3 ],\n",
    " [ 4, 5, 6 ],\n",
    " [ 7, 8, 9 ]\n",
    "]\n",
    "x.spiralOrder(matrix)"
   ]
  },
  {
   "cell_type": "markdown",
   "metadata": {},
   "source": [
    "# letter case permutation\n",
    "https://leetcode.com/problems/letter-case-permutation/"
   ]
  },
  {
   "cell_type": "markdown",
   "metadata": {},
   "source": [
    "```md \n",
    "Examples:\n",
    "Input: S = \"a1b2\"\n",
    "Output: [\"a1b2\", \"a1B2\", \"A1b2\", \"A1B2\"]\n",
    "\n",
    "Input: S = \"3z4\"\n",
    "Output: [\"3z4\", \"3Z4\"]\n",
    "\n",
    "Input: S = \"12345\"\n",
    "Output: [\"12345\"]\n",
    "```"
   ]
  },
  {
   "cell_type": "code",
   "execution_count": null,
   "metadata": {},
   "outputs": [],
   "source": [
    "[1] * 2\n",
    "s = '3z2'\n",
    "for i in s:\n",
    "    i.isalpha()"
   ]
  },
  {
   "cell_type": "code",
   "execution_count": null,
   "metadata": {},
   "outputs": [],
   "source": [
    "class Solution:\n",
    "    def letterCasePermutation(self, S: str):\n",
    "        res = ['']\n",
    "        for ch in S:\n",
    "            if ch.isalpha():\n",
    "                res = [i + j for i in res for j in [ch.upper(), ch.lower()]]\n",
    "            else:\n",
    "                res = [i + ch for i in res]\n",
    "        return res\n",
    "\n",
    "\n",
    "test = Solution()\n",
    "test.letterCasePermutation('2Z3ef')"
   ]
  },
  {
   "cell_type": "markdown",
   "metadata": {},
   "source": [
    "# sort colors\n",
    "https://leetcode.com/problems/sort-colors/"
   ]
  },
  {
   "cell_type": "markdown",
   "metadata": {},
   "source": [
    "```md \n",
    "Input: [2,0,2,1,1,0]\n",
    "Output: [0,0,1,1,2,2]\n",
    "```"
   ]
  },
  {
   "cell_type": "code",
   "execution_count": null,
   "metadata": {},
   "outputs": [],
   "source": [
    "from collections import defaultdict\n",
    "x = defaultdict(list)\n",
    "x['a'].append(2)\n",
    "x['a'].append(2)\n",
    "dict(x) "
   ]
  },
  {
   "cell_type": "code",
   "execution_count": null,
   "metadata": {},
   "outputs": [],
   "source": [
    "class Solution:\n",
    "    def sortColors(self, nums) -> None:\n",
    "        \"\"\"\n",
    "        Do not return anything, modify nums in-place instead.\n",
    "        \"\"\"\n",
    "\n",
    "        n = len(nums)\n",
    "        start = 0\n",
    "        while start < n - 1:\n",
    "            i = start + 1\n",
    "            j = start + 1\n",
    "            while i < n:\n",
    "                if nums[i] == nums[start]:\n",
    "                    nums[i], nums[j] = nums[j], nums[i]\n",
    "                    j += 1\n",
    "                i += 1\n",
    "            \n",
    "            start = j \n",
    "\n",
    "\n",
    "x = Solution()\n",
    "nums = [0, 1, 2,0,2,1,1,0, 0, 1, 2, 1]\n",
    "x.sortColors(nums)\n",
    "nums"
   ]
  },
  {
   "cell_type": "code",
   "execution_count": null,
   "metadata": {},
   "outputs": [],
   "source": [
    "\"\"\"\n",
    "Runtime: 36 ms, faster than 91.03% of Python3 online submissions for Sort Colors.\n",
    "Memory Usage: 13.8 MB, less than 6.25% of Python3 online submissions for Sort Colors.\n",
    "\"\"\"\n",
    "\n",
    "class Solution:\n",
    "    def sortColors(self, nums) -> None:\n",
    "        \"\"\"\n",
    "        Do not return anything, modify nums in-place instead.\n",
    "        \"\"\"\n",
    "        n = len(nums)\n",
    "\n",
    "        x = [0, 1]\n",
    "\n",
    "        start = 0\n",
    "        for item in x:\n",
    "            i = 0\n",
    "            while i < n:\n",
    "                if nums[i] == item:\n",
    "                    nums[i], nums[start] = nums[start], nums[i]\n",
    "                    start += 1\n",
    "                i += 1\n",
    "\n",
    "\n",
    "x = Solution()\n",
    "nums = [0]\n",
    "x.sortColors(nums)\n",
    "nums"
   ]
  },
  {
   "cell_type": "markdown",
   "metadata": {},
   "source": [
    "# triangle\n",
    "https://leetcode.com/problems/triangle/"
   ]
  },
  {
   "cell_type": "markdown",
   "metadata": {},
   "source": [
    "```md \n",
    "[\n",
    "     [2],\n",
    "    [3,4],\n",
    "   [6,5,7],\n",
    "  [4,1,8,3]\n",
    "]\n",
    "\n",
    "Given a triangle, find the minimum path sum from top to bottom. Each step you may move to adjacent numbers on the row below.\n",
    "The minimum path sum from top to bottom is 11 (i.e., 2 + 3 + 5 + 1 = 11).\n",
    "```"
   ]
  },
  {
   "cell_type": "code",
   "execution_count": null,
   "metadata": {},
   "outputs": [],
   "source": [
    "class Solution:\n",
    "    def minimumTotal(self, triangle):\n",
    "        f = [0] * (len(triangle) + 1)\n",
    "        for row in triangle[::-1]:\n",
    "            for i in range(len(row)):\n",
    "                f[i] = row[i] + min(f[i], f[i + 1])\n",
    "        return f[0]\n",
    "\n",
    "x = Solution()\n",
    "triangle = [[2], [3, 4], [6, 5, 7], [4, 1, 8, 3],[0, 1, 8, 0, 9]]\n",
    "x.minimumTotal(triangle)"
   ]
  },
  {
   "cell_type": "markdown",
   "metadata": {},
   "source": [
    "# array nesting\n",
    "https://leetcode.com/problems/array-nesting/"
   ]
  },
  {
   "cell_type": "markdown",
   "metadata": {},
   "source": [
    "```md \n",
    "Input: A = [5,4,0,3,1,6,2]\n",
    "Output: 4\n",
    "Explanation: \n",
    "A[0] = 5, A[1] = 4, A[2] = 0, A[3] = 3, A[4] = 1, A[5] = 6, A[6] = 2.\n",
    "\n",
    "One of the longest S[K]:\n",
    "S[0] = {A[0], A[5], A[6], A[2]} = {5, 6, 2, 0}\n",
    "```"
   ]
  },
  {
   "cell_type": "code",
   "execution_count": null,
   "metadata": {},
   "outputs": [],
   "source": [
    "class Solution:\n",
    "    def arrayNesting(self, nums) -> int:\n",
    "        n = len(nums)      \n",
    "        i = 0\n",
    "        res = set()\n",
    "        while i < n:\n",
    "            i = nums[i]\n",
    "            if i not in res:\n",
    "                res.add(i)\n",
    "            else:\n",
    "                break\n",
    "        return len(res)\n",
    "\n",
    "x = Solution()\n",
    "nums = [0,2,1]\n",
    "x.arrayNesting(nums)"
   ]
  },
  {
   "cell_type": "code",
   "execution_count": null,
   "metadata": {},
   "outputs": [],
   "source": [
    "\"\"\"\n",
    "Runtime: 136 ms, faster than 61.35% of Python3 online submissions for Array Nesting.\n",
    "Memory Usage: 16.2 MB, less than 12.50% of Python3 online submissions for Array Nesting.\n",
    "\"\"\"\n",
    "class Solution:\n",
    "    def arrayNesting(self, nums):\n",
    "        seen, res = [0] * len(nums), 0\n",
    "        for i in nums:\n",
    "            count, j = 0, i\n",
    "            while not seen[j]: #The condition may be any expression, and true is any non-zero value. \n",
    "                seen[j], count, j = 1, count + 1, nums[j]\n",
    "            res = max(res, count)\n",
    "        return res\n",
    "\n",
    "\n",
    "x = Solution()\n",
    "nums = [0, 2, 1]\n",
    "x.arrayNesting(nums)\n",
    "nums = [5, 4, 0, 3, 1, 6, 2]\n",
    "x.arrayNesting(nums)"
   ]
  },
  {
   "cell_type": "code",
   "execution_count": null,
   "metadata": {},
   "outputs": [],
   "source": [
    "\"\"\"\n",
    "Runtime: 128 ms, faster than 90.64% of Python3 online submissions for Array Nesting.\n",
    "Memory Usage: 16.4 MB, less than 12.50% of Python3 online submissions for Array Nesting.\n",
    "\"\"\"\n",
    "class Solution:\n",
    "    def arrayNesting(self, nums):\n",
    "        seen, res = [0] * len(nums), 0\n",
    "        for i in nums:\n",
    "            if seen[i] == 1:\n",
    "                continue \n",
    "            count, j = 0, i\n",
    "            while not seen[j]: #The condition may be any expression, and true is any non-zero value. \n",
    "                seen[j], count, j = 1, count + 1, nums[j]\n",
    "            res = max(res, count)\n",
    "            \n",
    "        return res\n",
    "\n",
    "\n",
    "x = Solution()\n",
    "nums = [0, 2, 1]\n",
    "x.arrayNesting(nums)\n",
    "nums = [5, 4, 0, 3, 1, 6, 2]\n",
    "x.arrayNesting(nums)"
   ]
  },
  {
   "cell_type": "markdown",
   "metadata": {},
   "source": [
    "# summary ranges\n",
    "https://leetcode.com/problems/summary-ranges/"
   ]
  },
  {
   "cell_type": "markdown",
   "metadata": {},
   "source": [
    "```md \n",
    "Input:  [0,1,2,4,5,7]\n",
    "Output: [\"0->2\",\"4->5\",\"7\"]\n",
    "Explanation: 0,1,2 form a continuous range; 4,5 form a continuous range. \n",
    "```"
   ]
  },
  {
   "cell_type": "code",
   "execution_count": null,
   "metadata": {},
   "outputs": [],
   "source": [
    "a  = [[0,2],[4,5],[7]]\n",
    "[ '->'.join(map(str, item))  if len(item)==2 else str(item[0]) for item in a]"
   ]
  },
  {
   "cell_type": "code",
   "execution_count": null,
   "metadata": {},
   "outputs": [],
   "source": [
    "nums = [0,1,2,4,5,7, 8, 9]\n",
    "n = len(nums)\n",
    "i = 0\n",
    "res = []\n",
    "while i < n-1: \n",
    "    s = i \n",
    "    if nums[i] + 1 != nums[i + 1]:\n",
    "        res.append([nums[s]])       \n",
    "        i+=1\n",
    "    \n",
    "        \n",
    "    else:\n",
    "        while i < n-1 and nums[i] + 1 == nums[i+1]:\n",
    "            i += 1 \n",
    "        e = i \n",
    "        res.append([nums[s], nums[e]])\n",
    "        i +=1\n",
    "\n",
    "        \n",
    "if i==n-1:\n",
    "    res.append([nums[n-1]])\n",
    "    \n",
    "res \n",
    "    \n",
    "    "
   ]
  },
  {
   "cell_type": "code",
   "execution_count": null,
   "metadata": {},
   "outputs": [],
   "source": [
    "\"\"\"\n",
    "Runtime: 16 ms, faster than 70.31% of Python online submissions for Summary Ranges.\n",
    "Memory Usage: 11.7 MB, less than 94.12% of Python online submissions for Summary Ranges.\n",
    "\"\"\"\n",
    "\n",
    "\n",
    "class Solution(object):\n",
    "    def summaryRanges(self, nums):\n",
    "        \"\"\"\n",
    "        :type nums: List[int]\n",
    "        :rtype: List[str]\n",
    "        \"\"\"\n",
    "        n = len(nums)\n",
    "        i = 0\n",
    "        res = []\n",
    "        while i < n - 1:\n",
    "            s = i\n",
    "            if nums[i] + 1 != nums[i + 1]:\n",
    "                res.append([nums[s]])\n",
    "                i += 1\n",
    "\n",
    "            else:\n",
    "                while i < n - 1 and nums[i] + 1 == nums[i + 1]:\n",
    "                    i += 1\n",
    "                e = i\n",
    "                res.append([nums[s], nums[e]])\n",
    "                i += 1\n",
    "        if i == n - 1:\n",
    "            res.append([nums[n - 1]])\n",
    "\n",
    "        return [\n",
    "            '->'.join(map(str, item)) if len(item) == 2 else str(item[0])\n",
    "            for item in res\n",
    "        ]\n",
    "\n",
    "\n",
    "x = Solution()\n",
    "nums = [0, 1, 2, 4, 5, 7, 8, 9]\n",
    "x.summaryRanges(nums)"
   ]
  },
  {
   "cell_type": "markdown",
   "metadata": {},
   "source": [
    "# flatten nested list iterator\n",
    "https://leetcode.com/problems/flatten-nested-list-iterator/"
   ]
  },
  {
   "cell_type": "markdown",
   "metadata": {},
   "source": [
    "```md \n",
    "Input: [[1,1],2,[1,1]]\n",
    "Output: [1,1,2,1,1]\n",
    "Explanation: By calling next repeatedly until hasNext returns false, \n",
    "             the order of elements returned by next should be: [1,1,2,1,1]. \n",
    "```"
   ]
  },
  {
   "cell_type": "code",
   "execution_count": null,
   "metadata": {},
   "outputs": [],
   "source": [
    "# \"\"\"\n",
    "# This is the interface that allows for creating nested lists.\n",
    "# You should not implement it, or speculate about its implementation\n",
    "# \"\"\"\n",
    "#class NestedInteger(object):\n",
    "#    def isInteger(self):\n",
    "#        \"\"\"\n",
    "#        @return True if this NestedInteger holds a single integer, rather than a nested list.\n",
    "#        :rtype bool\n",
    "#        \"\"\"\n",
    "#\n",
    "#    def getInteger(self):\n",
    "#        \"\"\"\n",
    "#        @return the single integer that this NestedInteger holds, if it holds a single integer\n",
    "#        Return None if this NestedInteger holds a nested list\n",
    "#        :rtype int\n",
    "#        \"\"\"\n",
    "#\n",
    "#    def getList(self):\n",
    "#        \"\"\"\n",
    "#        @return the nested list that this NestedInteger holds, if it holds a nested list\n",
    "#        Return None if this NestedInteger holds a single integer\n",
    "#        :rtype List[NestedInteger]\n",
    "#        \"\"\"\n",
    "\n",
    "class NestedIterator(object):\n",
    "\n",
    "    def __init__(self, nestedList):\n",
    "        \"\"\"\n",
    "        Initialize your data structure here.\n",
    "        :type nestedList: List[NestedInteger]\n",
    "        \"\"\"\n",
    "        self.stack = nestedList[::-1]\n",
    "        \n",
    "    def next(self):\n",
    "        \"\"\"\n",
    "        :rtype: int\n",
    "        \"\"\"\n",
    "        return self.stack.pop().getInteger()\n",
    "        \n",
    "    def hasNext(self):\n",
    "        \"\"\"\n",
    "        :rtype: bool\n",
    "        \"\"\"\n",
    "        while self.stack:\n",
    "            top = self.stack[-1]\n",
    "            if top.isInteger():\n",
    "                return True\n",
    "            self.stack = self.stack[:-1] + top.getList()[::-1]\n",
    "        return False\n",
    "\n",
    "# Your NestedIterator object will be instantiated and called as such:\n",
    "# i, v = NestedIterator(nestedList), []\n",
    "# while i.hasNext(): v.append(i.next())\n",
    "\n",
    "nestedList = [[1,1],2,[1,1]]\n",
    "i, v = NestedIterator(nestedList), []\n",
    "while i.hasNext(): v.append(i.next())"
   ]
  },
  {
   "cell_type": "markdown",
   "metadata": {},
   "source": [
    "# majority element ii\n",
    "https://leetcode.com/problems/majority-element-ii/"
   ]
  },
  {
   "cell_type": "markdown",
   "metadata": {},
   "source": [
    "Given an integer array of size n, find all elements that appear more than ⌊ n/3 ⌋ times.\n",
    "\n",
    "Note: The algorithm should run in linear time and in O(1) space.\n",
    "\n",
    "```md \n",
    "Input: [1,1,1,3,3,2,2,2]\n",
    "Output: [1,2]\n",
    "```"
   ]
  },
  {
   "cell_type": "code",
   "execution_count": null,
   "metadata": {},
   "outputs": [],
   "source": [
    "class Solution(object):\n",
    "    def majorityElement(self, nums):\n",
    "        \"\"\"\n",
    "        :type nums: List[int]\n",
    "        :rtype: List[int]\n",
    "        \"\"\"\n"
   ]
  },
  {
   "cell_type": "code",
   "execution_count": null,
   "metadata": {},
   "outputs": [],
   "source": [
    "from collections import defaultdict"
   ]
  },
  {
   "cell_type": "code",
   "execution_count": null,
   "metadata": {},
   "outputs": [],
   "source": [
    "nums = [1,1,1,3,3,2,2,2]\n",
    "defaultdict(list)\n",
    "for i in nums:"
   ]
  },
  {
   "cell_type": "markdown",
   "metadata": {},
   "source": [
    "# unique paths\n",
    "https://leetcode.com/problems/unique-paths/"
   ]
  },
  {
   "cell_type": "markdown",
   "metadata": {},
   "source": [
    "```java \n",
    "public int uniquePaths(int m, int n) {\n",
    "    int N = n + m - 2; \n",
    "    int k = m - 1;  \n",
    "    long res = 1; \n",
    "    for (int i = 1; i <= k; i++)\n",
    "        res = res * (N - k + i) / i;\n",
    "    return (int) res; \n",
    "}\n",
    "```"
   ]
  },
  {
   "cell_type": "markdown",
   "metadata": {},
   "source": [
    "$$C^k_n = n!/(k!(n-k)!)=(n*(n-1)*...(n-k+1)/k!$$\n"
   ]
  },
  {
   "cell_type": "markdown",
   "metadata": {},
   "source": [
    "R R R D D\n",
    "\n",
    "R R D D R\n",
    "\n",
    "R D R D R\n",
    "\n",
    "...\n",
    "\n",
    "从左上角，到右下角，总会是 3 个 R，2 个 D，只是出现的顺序不一样。所以求解法，本质上是求了组合数，N = m + n - 2，也就是总共走的步数。 k = m - 1，也就是向下的步数，D 的个数。"
   ]
  },
  {
   "cell_type": "code",
   "execution_count": null,
   "metadata": {},
   "outputs": [],
   "source": [
    "\"\"\"\n",
    "Runtime: 8 ms, faster than 99.02% of Python online submissions for Unique Paths.\n",
    "Memory Usage: 11.6 MB, less than 100.00% of Python online submissions for Unique Paths.\n",
    "\"\"\"\n",
    "class Solution(object):\n",
    "    def uniquePaths(self, m, n):\n",
    "        \"\"\"\n",
    "        :type m: int\n",
    "        :type n: int\n",
    "        :rtype: int\n",
    "        \"\"\"\n",
    "        total = n + m - 2\n",
    "        k = m -1\n",
    "        res = 1\n",
    "        i = 1 \n",
    "        while i < k + 1: \n",
    "            res = res*(total-k+i)//i\n",
    "            i += 1\n",
    "        return res\n",
    "    \n",
    "x = Solution()\n",
    "m = 7\n",
    "n = 3\n",
    "print(x.uniquePaths(m, n))\n",
    "        "
   ]
  },
  {
   "cell_type": "markdown",
   "metadata": {},
   "source": [
    "# unique paths ii\n",
    "https://leetcode.com/problems/unique-paths-ii/"
   ]
  },
  {
   "cell_type": "markdown",
   "metadata": {},
   "source": [
    "# 2 sum "
   ]
  },
  {
   "cell_type": "code",
   "execution_count": null,
   "metadata": {},
   "outputs": [],
   "source": [
    "def twoSum(nums, target):\n",
    "    d = dict()\n",
    "    for i, v in enumerate(nums):\n",
    "        if v in d: \n",
    "            return [d[v], i]\n",
    "        d[target-v] = i \n",
    "    \n",
    "\n",
    "nums = [3, 3, 2, 4, 2]\n",
    "twoSum(nums, 6) "
   ]
  },
  {
   "cell_type": "markdown",
   "metadata": {},
   "source": [
    "# 3 Sum "
   ]
  },
  {
   "cell_type": "markdown",
   "metadata": {},
   "source": [
    "https://leetcode.com/problems/3sum/"
   ]
  },
  {
   "cell_type": "markdown",
   "metadata": {},
   "source": [
    "```md \n",
    "Given array nums = [-1, 0, 1, 2, -1, -4], Find all unique triplets in the array which gives the sum of zero.\n",
    "\n",
    "A solution set is:\n",
    "[\n",
    "  [-1, 0, 1],\n",
    "  [-1, -1, 2]\n",
    "]\n",
    "```"
   ]
  },
  {
   "cell_type": "markdown",
   "metadata": {},
   "source": [
    "Time complexity "
   ]
  },
  {
   "cell_type": "code",
   "execution_count": null,
   "metadata": {},
   "outputs": [],
   "source": [
    "def threeSum(nums):\n",
    "    res = []\n",
    "    for i, n in enumerate(nums):\n",
    "        tem = []\n",
    "        dic = {}\n",
    "        for i2, n2 in enumerate(nums[i + 1:-1]):\n",
    "            if n2 in dic:\n",
    "                tem.append([dic[n2] + i + 1, i2 + i + 1])\n",
    "            dic[-n - n2] = i2\n",
    "\n",
    "        if tem != []:\n",
    "            res += [[nums[i]] + [nums[e] for e in item] for item in tem]\n",
    "\n",
    "    final = []\n",
    "    for i in res:\n",
    "        if set(i) not in map(set, final):\n",
    "            final.append(i)\n",
    "    return final\n",
    "\n",
    "\n",
    "nums = [-1, 0, 1, 2, -1, -4]\n",
    "threeSum(nums)\n",
    "# Expected [[-1,-1,2],[-1,0,1]]\n",
    "\n",
    "nums = [0, 0, 0]\n",
    "threeSum(nums)\n",
    "# [[0,0,0]]"
   ]
  },
  {
   "cell_type": "code",
   "execution_count": null,
   "metadata": {},
   "outputs": [],
   "source": [
    "\"\"\"\n",
    "Time Limit Exceeded\n",
    "\n",
    "\"\"\"\n",
    "def threeSum(nums):\n",
    "    res = []\n",
    "    for i, n in enumerate(nums):\n",
    "        tem = []\n",
    "        dic = {}\n",
    "        for i2, n2 in enumerate(nums[i + 1: ]):\n",
    "            if n2 in dic:\n",
    "                tem.append([dic[n2] + i + 1, i2 + i + 1])\n",
    "            dic[-n - n2] = i2\n",
    "            \n",
    "     \n",
    "        if tem != []:\n",
    "            res += [[nums[i]] + [nums[e] for e in item] for item in tem]\n",
    "            \n",
    "    result = []\n",
    "    for i in res: \n",
    "        if not sorted(i) in [sorted(i) for i in result]:\n",
    "            result.append(i)\n",
    "            \n",
    "            \n",
    "    return result \n",
    "\n",
    "nums = [-4,-2,1,-5,-4,-4,4,-2,0,4,0,-2,3,1,-5,0]\n",
    "threeSum(nums)\n"
   ]
  },
  {
   "cell_type": "code",
   "execution_count": null,
   "metadata": {},
   "outputs": [],
   "source": [
    "'''\n",
    "Runtime: 756 ms, faster than 81.75% of Python3 online submissions for 3Sum.\n",
    "Memory Usage: 17.1 MB, less than 25.00% of Python3 online submissions for 3Sum.\n",
    "''' \n",
    "\n",
    "# Sort nums in order\n",
    "# Skip the duplicated members\n",
    "\n",
    "class Solution(object):\n",
    "    def threeSum(self, nums):\n",
    "        \"\"\"\n",
    "        :type nums: List[int]\n",
    "        :rtype: List[List[int]]\n",
    "        \"\"\"\n",
    "        res = []\n",
    "        n = len(nums)\n",
    "        nums = sorted(nums)\n",
    "        for i in range(n-2): # Determine the bound\n",
    "            if i > 0 and nums[i] == nums[i-1]:\n",
    "                continue\n",
    "            j = i+1\n",
    "            k = n-1\n",
    "            new_target = -nums[i]\n",
    "            while j < k:\n",
    "                summ = nums[j] + nums[k]\n",
    "                if summ < new_target:\n",
    "                    j += 1\n",
    "                elif summ > new_target:\n",
    "                    k -= 1\n",
    "                else:\n",
    "                    res.append([nums[i], nums[j], nums[k]])\n",
    "                    while j < k and nums[j+1] == nums[j]:\n",
    "                        j += 1\n",
    "                    j += 1\n",
    "                    while k > j and nums[k-1] == nums[k]:\n",
    "                        k -= 1\n",
    "                    k -= 1\n",
    "        return res\n",
    "    \n",
    "x = Solution()\n",
    "nums = [-4,-2,1,-5,-4,-4,4,-2,0,4,0,-2,3,1,-5,0]\n",
    "x.threeSum(nums)"
   ]
  },
  {
   "cell_type": "markdown",
   "metadata": {},
   "source": [
    "# 3 sum closet \n",
    "https://leetcode.com/problems/3sum-closest/"
   ]
  },
  {
   "cell_type": "markdown",
   "metadata": {},
   "source": [
    "```md \n",
    "Given array nums = [-1, 2, 1, -4], and target = 1.\n",
    "\n",
    "The sum that is closest to the target is 2. (-1 + 2 + 1 = 2). \n",
    "```"
   ]
  },
  {
   "cell_type": "code",
   "execution_count": null,
   "metadata": {},
   "outputs": [],
   "source": [
    "\"\"\"\n",
    "Runtime: 144 ms, faster than 50.99% of Python3 online submissions for 3Sum Closest.\n",
    "Memory Usage: 13.8 MB, less than 5.41% of Python3 online submissions for 3Sum Closest.\n",
    "\"\"\"\n",
    "\n",
    "# It's not efficient when num.sort() num = [-4, -1, 1, 2, 6] target = -5\n",
    "class Solution:\n",
    "    def threeSumClosest(self, nums, target: int) -> int:\n",
    "        nums.sort()\n",
    "        n = len(nums) \n",
    "        result = nums[0] + nums[1] + nums[2]\n",
    "        for i in range(n - 2):\n",
    "            l, r = i+1, n - 1\n",
    "            while l < r:\n",
    "                sum3 = nums[i] + nums[l] + nums[r]\n",
    "                if sum3 == target:\n",
    "                    return sum3\n",
    "                \n",
    "                if abs(sum3 - target) < abs(result - target): # which one is near from target, result or sum3\n",
    "                    result = sum3\n",
    "                \n",
    "                if sum3 < target:\n",
    "                    l += 1\n",
    "                if sum3 > target:\n",
    "                    r -= 1\n",
    "           \n",
    "            \n",
    "        return result\n",
    "        \n",
    "    \n",
    "num = [-1, 2, 1, -4, 5]\n",
    "test = Solution()\n",
    "test.threeSumClosest(num, 1)"
   ]
  },
  {
   "cell_type": "markdown",
   "metadata": {},
   "source": [
    "# 4sum "
   ]
  },
  {
   "cell_type": "code",
   "execution_count": null,
   "metadata": {},
   "outputs": [],
   "source": [
    "class Solution:\n",
    "    def fourSum(self, nums, target):\n",
    "        \"\"\"\n",
    "        :type nums: List[int]\n",
    "        :type target: int\n",
    "        :rtype: List[List[int]]\n",
    "        \"\"\"\n",
    "        d = dict()\n",
    "        for i in range(len(nums)):\n",
    "            for j in range(i+1,len(nums)):\n",
    "                sum2 = nums[i]+nums[j]\n",
    "                if sum2 in d:\n",
    "                    d[sum2].append((i,j))\n",
    "                else:\n",
    "                    d[sum2] = [(i,j)]\n",
    "        \n",
    "        result = set()\n",
    "        for key in d:\n",
    "            value = target - key\n",
    "            if value in d:\n",
    "                list1 = d[key]\n",
    "                list2 = d[value]\n",
    "                for (i,j) in list1:\n",
    "                    for (k,l) in list2:\n",
    "                        if i!=k and i!=l and j!=k and j!=l:\n",
    "                            flist = [nums[i],nums[j],nums[k],nums[l]]\n",
    "                            flist.sort()\n",
    "                            result.add(tuple(flist))\n",
    "        return list(result)\n",
    "    \n",
    "nums = [1, 0, -1, 0, -2, 2]\n",
    "x = Solution()\n",
    "x.fourSum(nums, 0)\n",
    "x.fourSum(nums, 1)"
   ]
  },
  {
   "cell_type": "code",
   "execution_count": null,
   "metadata": {},
   "outputs": [],
   "source": [
    "class Solution(object):\n",
    "def fourSum(self, nums, target):\n",
    "    \"\"\"\n",
    "    :type nums: List[int]\n",
    "    :type target: int\n",
    "    :rtype: List[List[int]]\n",
    "    \"\"\"\n",
    "    result=[]\n",
    "    length=len(nums)\n",
    "    nums.sort()\n",
    "    for i in range(0,length-3):\n",
    "        if i!=0 and nums[i]==nums[i-1]:\n",
    "            continue\n",
    "        if nums[i]*4>target:\n",
    "            break\n",
    "        for j in range(length-1,i+2,-1):\n",
    "            if j!=length-1 and nums[j]==nums[j+1]:\n",
    "                continue\n",
    "            if nums[j]*4<target:\n",
    "                break\n",
    "            sub2=target-nums[i]-nums[j]\n",
    "            low,high=i+1,j-1\n",
    "            while low<high:\n",
    "                sum2=nums[low]+nums[high]\n",
    "                if sum2>sub2:\n",
    "                    high-=1\n",
    "                elif sum2<sub2:\n",
    "                    low+=1\n",
    "                else:\n",
    "                    ans = [nums[i],nums[low],nums[high],nums[j]]\n",
    "                    ans.sort()\n",
    "                    result.append(ans)\n",
    "                    while low<high and nums[low+1]==nums[low]:\n",
    "                        low+=1\n",
    "                    while low<high and nums[high-1]==nums[high]:\n",
    "                        high-=1\n",
    "                    high,low=high-1,low+1\n",
    "    return result"
   ]
  },
  {
   "cell_type": "markdown",
   "metadata": {},
   "source": [
    "# [x] intersection of two arrays II\n",
    "https://leetcode.com/problems/intersection-of-two-arrays-ii/"
   ]
  },
  {
   "cell_type": "markdown",
   "metadata": {},
   "source": [
    "```md \n",
    "Input: nums1 = [1,2,2,1], nums2 = [2,2]\n",
    "Output: [2,2]\n",
    "```"
   ]
  },
  {
   "cell_type": "code",
   "execution_count": null,
   "metadata": {},
   "outputs": [],
   "source": [
    "\"\"\"\n",
    "Runtime: 80 ms, faster than 12.13% of Python3 online submissions for Intersection of Two Arrays II.\n",
    "Memory Usage: 13.9 MB, less than 5.72% of Python3 online submissions for Intersection of Two Arrays II.\n",
    "\"\"\"\n",
    "class Solution:\n",
    "    def intersect(self, nums1: List[int], nums2: List[int]) -> List[int]:\n",
    "        temp = set(nums1) & set(nums2)\n",
    "        return sum([[i] * min(nums1.count(i), nums2.count(i)) for i in temp], [])"
   ]
  },
  {
   "cell_type": "markdown",
   "metadata": {},
   "source": [
    "# find common characters\n",
    "https://leetcode.com/problems/find-common-characters/"
   ]
  },
  {
   "cell_type": "markdown",
   "metadata": {},
   "source": [
    "```md \n",
    "Input: [\"bella\",\"label\",\"roller\"]\n",
    "Output: [\"e\",\"l\",\"l\"]\n",
    "``` "
   ]
  },
  {
   "cell_type": "code",
   "execution_count": null,
   "metadata": {},
   "outputs": [],
   "source": [
    "A = [\"bella\", \"label\", \"roller\"]\n",
    "n = len(A)\n",
    "d = [dict() for i in range(n)]\n",
    "for item in range(n):\n",
    "    tem = A[item]\n",
    "    for i in set(tem):\n",
    "        d[item][i] = tem.count(i)\n",
    "\n",
    "res = set(A[0])\n",
    "for i in A[1:]:\n",
    "    res = res & set(i)\n",
    "res\n",
    "\n",
    "sum([list(i * min(m.count(i) for m in A)) for i in res], [])"
   ]
  },
  {
   "cell_type": "code",
   "execution_count": null,
   "metadata": {},
   "outputs": [],
   "source": [
    "\"\"\"\n",
    "Runtime: 44 ms, faster than 98.55% of Python3 online submissions for Find Common Characters.\n",
    "Memory Usage: 14 MB, less than 5.55% of Python3 online submissions for Find Common Characters.\n",
    "\"\"\"\n",
    "class Solution:\n",
    "    def commonChars(self, A):\n",
    "        tem = set(A[0])\n",
    "        for i in A[1:]:\n",
    "            tem = tem & set(i)\n",
    "        res = sum([list(i * min(m.count(i) for m in A)) for i in tem], [])\n",
    "        return res              "
   ]
  },
  {
   "cell_type": "markdown",
   "metadata": {},
   "source": [
    "#  subsets \n",
    "https://leetcode.com/problems/subsets/"
   ]
  },
  {
   "cell_type": "markdown",
   "metadata": {},
   "source": [
    "```md \n",
    "Given a set of distinct integers, nums, return all possible subsets (the power set).\n",
    "Note: The solution set must not contain duplicate subsets.\n",
    "    \n",
    "Input: nums = [1,2,3]\n",
    "Output:\n",
    "[\n",
    "  [3],\n",
    "  [1],\n",
    "  [2],\n",
    "  [1,2,3],\n",
    "  [1,3],\n",
    "  [2,3],\n",
    "  [1,2],\n",
    "  []\n",
    "]\n",
    "```"
   ]
  },
  {
   "cell_type": "code",
   "execution_count": null,
   "metadata": {},
   "outputs": [],
   "source": [
    "initialValue = [[]]\n",
    "initialValue += [[0] + i for i in initialValue]\n",
    "initialValue\n",
    "initialValue += [[1] + i for i in initialValue]\n",
    "initialValue"
   ]
  },
  {
   "cell_type": "code",
   "execution_count": null,
   "metadata": {},
   "outputs": [],
   "source": [
    "class Solution:\n",
    "    def subsets(self, nums):\n",
    "        res = [[]]\n",
    "        nums.sort()\n",
    "        for num in nums: \n",
    "            res += [ i + [num] for i in res]\n",
    "        return res\n",
    "            \n",
    "test = Solution()\n",
    "nums = [1,2,3]\n",
    "test.subsets(nums )"
   ]
  },
  {
   "cell_type": "markdown",
   "metadata": {},
   "source": [
    "# subsets II\n",
    "https://leetcode.com/problems/subsets-ii/"
   ]
  },
  {
   "cell_type": "markdown",
   "metadata": {},
   "source": [
    "````md \n",
    "Given a collection of integers that might contain duplicates, nums, return all possible subsets (the power set).\n",
    "\n",
    "Note: The solution set must not contain duplicate subsets.\n",
    "\n",
    "Input: [1,2,2]\n",
    "Output:\n",
    "[\n",
    "  [2],\n",
    "  [1],\n",
    "  [1,2,2],\n",
    "  [2,2],\n",
    "  [1,2],\n",
    "  []\n",
    "]\n",
    "```"
   ]
  },
  {
   "cell_type": "code",
   "execution_count": null,
   "metadata": {},
   "outputs": [],
   "source": [
    "class Solution:\n",
    "    def subsetsWithDup(self, nums):\n",
    "        res = [[]]\n",
    "        nums.sort()\n",
    "        for num in nums: \n",
    "            res += [ i + [num] for i in res if i+[num] not in res]\n",
    "        return res\n",
    "test = Solution()\n",
    "nums = [1,2,2]\n",
    "test.subsetsWithDup(nums)      "
   ]
  },
  {
   "cell_type": "markdown",
   "metadata": {},
   "source": [
    "# largest number\n",
    "https://leetcode.com/problems/largest-number/"
   ]
  },
  {
   "cell_type": "markdown",
   "metadata": {},
   "source": [
    "````md \n",
    "Input: [3,30,34,5,9]\n",
    "Output: \"9534330\"\n",
    "````"
   ]
  },
  {
   "cell_type": "code",
   "execution_count": null,
   "metadata": {},
   "outputs": [],
   "source": [
    "nums = [3,30,34,5,9]\n",
    "nums = list(map(int, list(''.join(list(map(str, nums))))))\n",
    "nums.sort(reverse=True)\n",
    "''.join(list(map(str, nums)))"
   ]
  },
  {
   "cell_type": "markdown",
   "metadata": {},
   "source": [
    "greedy algorithm"
   ]
  },
  {
   "cell_type": "code",
   "execution_count": null,
   "metadata": {},
   "outputs": [],
   "source": [
    "class Solution:\n",
    "    def largestNumber(self, nums: List[int]) -> str:"
   ]
  },
  {
   "cell_type": "markdown",
   "metadata": {},
   "source": [
    "# minimum size subarray sum\n",
    "https://leetcode.com/problems/minimum-size-subarray-sum/"
   ]
  },
  {
   "cell_type": "markdown",
   "metadata": {},
   "source": [
    "# maximum subarray \n",
    "https://leetcode.com/problems/maximum-subarray/"
   ]
  },
  {
   "cell_type": "markdown",
   "metadata": {},
   "source": [
    "```md\n",
    "Given an integer array nums, find the contiguous subarray (containing at least one number) which has the largest sum and return its sum.\n",
    "\n",
    "Input: [-2,1,-3,4,-1,2,1,-5,4],\n",
    "Output: 6\n",
    "Explanation: [4,-1,2,1] has the largest sum = 6.\n",
    "```"
   ]
  },
  {
   "cell_type": "code",
   "execution_count": null,
   "metadata": {},
   "outputs": [],
   "source": [
    "def maxSubArray(nums):\n",
    "    max_sub, fn = nums[0], 0\n",
    "    for i in nums:\n",
    "        fn = max([i, fn + i])\n",
    "        print('fn is :', fn)\n",
    "        max_sub = max(max_sub, fn)\n",
    "        print('max_sub:', max_sub)\n",
    "    return max_sub\n",
    "\n",
    "\n",
    "nums = [-2, 1, -3, 4, -1, 2, 1, -5, 4]\n",
    "maxSubArray(nums)"
   ]
  },
  {
   "cell_type": "code",
   "execution_count": null,
   "metadata": {},
   "outputs": [],
   "source": [
    "def maxSubArray(nums):\n",
    "    for i in range(1, len(nums)):\n",
    "        if nums[i - 1] > 0:\n",
    "            nums[i] += nums[i - 1]\n",
    "    print(nums)\n",
    "    return max(nums)\n",
    "\n",
    "\n",
    "nums = [-2, 1, -3, 4, -1, 2, 1, -5, 4]\n",
    "maxSubArray(nums)"
   ]
  },
  {
   "cell_type": "markdown",
   "metadata": {},
   "source": [
    "# contains duplicate \n",
    "https://leetcode.com/problems/contains-duplicate/"
   ]
  },
  {
   "cell_type": "code",
   "execution_count": null,
   "metadata": {},
   "outputs": [],
   "source": [
    "def containsDuplicate(nums):\n",
    "    return len(set(nums)) < len(nums)\n",
    "\n",
    "nums = [1,2,3,1]\n",
    "containsDuplicate(nums)\n",
    "set(nums)"
   ]
  },
  {
   "cell_type": "markdown",
   "metadata": {},
   "source": [
    "# rotate array "
   ]
  },
  {
   "cell_type": "markdown",
   "metadata": {},
   "source": [
    "```md\n",
    "Input: [1,2,3,4,5,6,7] and k = 3\n",
    "Output: [5,6,7,1,2,3,4]\n",
    "```"
   ]
  },
  {
   "cell_type": "code",
   "execution_count": null,
   "metadata": {},
   "outputs": [],
   "source": [
    "x = [1,2,3,4,5,6,7] \n",
    "tem = x[-1]  \n",
    "x[1:] = x[:-1]\n",
    "x[0] =  tem\n",
    "x "
   ]
  },
  {
   "cell_type": "code",
   "execution_count": null,
   "metadata": {},
   "outputs": [],
   "source": [
    "def rotate(nums, k):\n",
    "    i = 0\n",
    "    while i < k:\n",
    "        nums = [nums[-1]] + nums[:-1]\n",
    "        i += 1\n",
    "    #return nums \n",
    "\n",
    "\n",
    "nums = [1, 2, 3, 4, 5, 6, 7]\n",
    "rotate(nums, 3)"
   ]
  },
  {
   "cell_type": "code",
   "execution_count": null,
   "metadata": {},
   "outputs": [],
   "source": [
    "def rotate(nums, k):\n",
    "    i = 0\n",
    "    while i < k:\n",
    "        tem = nums[-1]\n",
    "        nums[1:] = nums[:-1]\n",
    "        nums[0] = tem\n",
    "        i += 1\n",
    "\n",
    "\n",
    "nums = [1, 2, 3, 4, 5, 6, 7]\n",
    "rotate(nums, 3)\n",
    "nums"
   ]
  },
  {
   "cell_type": "code",
   "execution_count": null,
   "metadata": {},
   "outputs": [],
   "source": [
    "def rotate(nums, k):\n",
    "    k = k % len(nums)\n",
    "    nums[:] = nums[-k:] + nums[:-k]\n",
    "    \n",
    "nums = [1, 2, 3, 4, 5, 6, 7]\n",
    "rotate(nums, 3)\n",
    "nums"
   ]
  },
  {
   "cell_type": "markdown",
   "metadata": {},
   "source": [
    "# median of 2 sorted arrays\n",
    "https://leetcode.com/problems/median-of-two-sorted-arrays/"
   ]
  },
  {
   "cell_type": "code",
   "execution_count": null,
   "metadata": {},
   "outputs": [],
   "source": [
    "nums1 = [1, 3]\n",
    "nums2 = [2]\n",
    "nums1.pop()\n",
    "(5+2)%2\n",
    "(5+2)//2"
   ]
  },
  {
   "cell_type": "code",
   "execution_count": null,
   "metadata": {},
   "outputs": [],
   "source": [
    "def findMedianSortedArrays(nums1, nums2):\n",
    "    n = len(nums1) + len(nums2)\n",
    "    flag = n % 2\n",
    "\n",
    "    i = 0\n",
    "    med = n // 2\n",
    "    \n",
    "    while i < med:\n",
    "        if nums1 != [] and nums2 != []:\n",
    "            res = nums2.pop() if nums1[-1] < nums2[-1] else nums1.pop()\n",
    "            print(res)\n",
    "        elif nums1 == []:\n",
    "            res = nums2.pop()\n",
    "        else:\n",
    "            res = nums1.pop()\n",
    "\n",
    "    if flag == 0:\n",
    "        return res\n",
    "    \n",
    "    \n",
    "nums1 = [1, 3]\n",
    "nums2 = [2, 2]\n",
    "findMedianSortedArrays(nums1, nums2)"
   ]
  },
  {
   "cell_type": "markdown",
   "metadata": {},
   "source": [
    "# Remove duplication in array"
   ]
  },
  {
   "cell_type": "markdown",
   "metadata": {},
   "source": [
    "```md\n",
    "In: nums = [1,1,2,2,3]\n",
    "Out: 3 [1,2,3]\n",
    "```\n",
    "\n",
    "对于一般处理数组的算法问题，我们要尽可能只对数组尾部的元素进行操作，以避免额外的时间复杂度。"
   ]
  },
  {
   "cell_type": "code",
   "execution_count": null,
   "metadata": {},
   "outputs": [],
   "source": [
    "set([1,1,2,2,3])"
   ]
  },
  {
   "cell_type": "markdown",
   "metadata": {},
   "source": [
    "```cpp\n",
    "int removeDuplicates(int nums[]):\n",
    "    int n = nums.length;\n",
    "    if (n == 0) return 0;\n",
    "    int slow = 0, fast = 1;\n",
    "    while(fast < n){\n",
    "        if (nums[fast] != nums[slow]){\n",
    "            slow++;\n",
    "            nums[slow] = nums[fast];\n",
    "        }\n",
    "        fast++;\n",
    "        \n",
    "    }\n",
    "    return slow+1;\n",
    "```"
   ]
  },
  {
   "cell_type": "code",
   "execution_count": null,
   "metadata": {},
   "outputs": [],
   "source": [
    "def removeDuplicates(nums):\n",
    "    n = len(nums)\n",
    "    if n == 0: return 0\n",
    "    slow = 0\n",
    "    fast = 1\n",
    "    while(fast < n):\n",
    "        \n",
    "        if nums[fast] != nums[slow]:\n",
    "            slow += 1\n",
    "            nums[slow] = nums[fast]\n",
    "        fast += 1\n",
    "    print(nums[:slow+1]) # the list with no duplicated element\n",
    "    return slow + 1\n",
    "removeDuplicates([1,1,1,2,2,3])   "
   ]
  }
 ],
 "metadata": {
  "hide_input": false,
  "kernelspec": {
   "display_name": "Python 3",
   "language": "python",
   "name": "python3"
  },
  "language_info": {
   "codemirror_mode": {
    "name": "ipython",
    "version": 3
   },
   "file_extension": ".py",
   "mimetype": "text/x-python",
   "name": "python",
   "nbconvert_exporter": "python",
   "pygments_lexer": "ipython3",
   "version": "3.7.2"
  },
  "toc": {
   "base_numbering": 1,
   "nav_menu": {},
   "number_sections": true,
   "sideBar": true,
   "skip_h1_title": false,
   "title_cell": "Table of Contents",
   "title_sidebar": "Contents",
   "toc_cell": false,
   "toc_position": {},
   "toc_section_display": true,
   "toc_window_display": true
  },
  "varInspector": {
   "cols": {
    "lenName": 16,
    "lenType": 16,
    "lenVar": 40
   },
   "kernels_config": {
    "python": {
     "delete_cmd_postfix": "",
     "delete_cmd_prefix": "del ",
     "library": "var_list.py",
     "varRefreshCmd": "print(var_dic_list())"
    },
    "r": {
     "delete_cmd_postfix": ") ",
     "delete_cmd_prefix": "rm(",
     "library": "var_list.r",
     "varRefreshCmd": "cat(var_dic_list()) "
    }
   },
   "types_to_exclude": [
    "module",
    "function",
    "builtin_function_or_method",
    "instance",
    "_Feature"
   ],
   "window_display": false
  }
 },
 "nbformat": 4,
 "nbformat_minor": 2
}
