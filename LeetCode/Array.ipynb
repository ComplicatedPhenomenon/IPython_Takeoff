{
 "cells": [
  {
   "cell_type": "code",
   "execution_count": null,
   "metadata": {},
   "outputs": [],
   "source": [
    "from IPython.core.interactiveshell import InteractiveShell\n",
    "InteractiveShell.ast_node_interactivity = \"all\""
   ]
  },
  {
   "cell_type": "code",
   "execution_count": null,
   "metadata": {},
   "outputs": [],
   "source": [
    "import re "
   ]
  },
  {
   "cell_type": "markdown",
   "metadata": {},
   "source": [
    "# spiral matrix\n",
    "https://leetcode.com/problems/spiral-matrix/"
   ]
  },
  {
   "cell_type": "markdown",
   "metadata": {},
   "source": [
    "```md \n",
    "Input:\n",
    "[\n",
    " [ 1, 2, 3 ],\n",
    " [ 4, 5, 6 ],\n",
    " [ 7, 8, 9 ]\n",
    "]\n",
    "Output: [1,2,3,6,9,8,7,4,5]\n",
    "\n",
    "Here's how the matrix changes by always extracting the first row and rotating the remaining matrix counter-clockwise:\n",
    "\n",
    "\n",
    " |1 2 3|      |6 9|      |8 7|      |4|  =>  |5|  =>  ||\n",
    " |4 5 6|  =>  |5 8|  =>  |5 4|  =>  |5|\n",
    " |7 8 9|      |4 7|\n",
    " \n",
    "Now look at the first rows we extracted: \n",
    " \n",
    " |1 2 3|      |6 9|      |8 7|      |4|      |5|\n",
    "```"
   ]
  },
  {
   "cell_type": "code",
   "execution_count": null,
   "metadata": {},
   "outputs": [],
   "source": [
    "x = [\n",
    " [ 1, 2, 3 ],\n",
    " [ 4, 5, 6 ],\n",
    " [ 7, 8, 9 ]\n",
    "]\n",
    "#x.pop(0)\n",
    "print([*x.pop(0)]) \n",
    "[*zip(*x)][::-1]\n",
    "[*zip(*x)][::-1].pop(0)\n",
    "[*[*zip(*x)][::-1].pop(0)]"
   ]
  },
  {
   "cell_type": "code",
   "execution_count": null,
   "metadata": {},
   "outputs": [],
   "source": [
    "class Solution:\n",
    "    def spiralOrder(self, matrix):\n",
    "        return matrix and [*matrix.pop(0)] + self.spiralOrder([*zip(*matrix)][::-1])\n",
    "    \n",
    "x = Solution()\n",
    "\n",
    "matrix = [\n",
    " [ 1, 2, 3 ],\n",
    " [ 4, 5, 6 ],\n",
    " [ 7, 8, 9 ]\n",
    "]\n",
    "x.spiralOrder(matrix)"
   ]
  },
  {
   "cell_type": "code",
   "execution_count": null,
   "metadata": {},
   "outputs": [],
   "source": [
    "\"\"\"\n",
    "Runtime: 24 ms, faster than 99.87% of Python3 online submissions for Spiral Matrix.\n",
    "Memory Usage: 13.9 MB, less than 8.70% of Python3 online submissions for Spiral Matrix.\n",
    "\"\"\"\n",
    "class Solution:\n",
    "    def spiralOrder(self, matrix):\n",
    "        try:\n",
    "            return  [*matrix.pop(0)] + self.spiralOrder([*zip(*matrix)][::-1])\n",
    "        except:\n",
    "            return []\n",
    "            \n",
    "    \n",
    "x = Solution()\n",
    "\n",
    "matrix = [\n",
    " [ 1, 2, 3 ],\n",
    " [ 4, 5, 6 ],\n",
    " [ 7, 8, 9 ]\n",
    "]\n",
    "x.spiralOrder(matrix)"
   ]
  },
  {
   "cell_type": "code",
   "execution_count": null,
   "metadata": {},
   "outputs": [],
   "source": [
    "[1] != None \n",
    "[] != None \n",
    "[] and 1 \n",
    "[1] and []\n"
   ]
  },
  {
   "cell_type": "markdown",
   "metadata": {},
   "source": [
    "# sort colors\n",
    "https://leetcode.com/problems/sort-colors/"
   ]
  },
  {
   "cell_type": "markdown",
   "metadata": {},
   "source": [
    "```md \n",
    "Input: [2,0,2,1,1,0]\n",
    "Output: [0,0,1,1,2,2]\n",
    "```"
   ]
  },
  {
   "cell_type": "code",
   "execution_count": null,
   "metadata": {},
   "outputs": [],
   "source": [
    "from collections import defaultdict\n",
    "x = defaultdict(list)\n",
    "x['a'].append(2)\n",
    "x['a'].append(2)\n",
    "dict(x) "
   ]
  },
  {
   "cell_type": "code",
   "execution_count": null,
   "metadata": {},
   "outputs": [],
   "source": [
    "class Solution:\n",
    "    def sortColors(self, nums) -> None:\n",
    "        \"\"\"\n",
    "        Do not return anything, modify nums in-place instead.\n",
    "        \"\"\"\n",
    "\n",
    "        n = len(nums)\n",
    "        start = 0\n",
    "        while start < n - 1:\n",
    "            i = start + 1\n",
    "            j = start + 1\n",
    "            while i < n:\n",
    "                if nums[i] == nums[start]:\n",
    "                    nums[i], nums[j] = nums[j], nums[i]\n",
    "                    j += 1\n",
    "                i += 1\n",
    "            \n",
    "            start = j \n",
    "\n",
    "\n",
    "x = Solution()\n",
    "nums = [0, 1, 2,0,2,1,1,0, 0, 1, 2, 1]\n",
    "x.sortColors(nums)\n",
    "nums"
   ]
  },
  {
   "cell_type": "code",
   "execution_count": null,
   "metadata": {},
   "outputs": [],
   "source": [
    "\"\"\"\n",
    "Runtime: 36 ms, faster than 91.03% of Python3 online submissions for Sort Colors.\n",
    "Memory Usage: 13.8 MB, less than 6.25% of Python3 online submissions for Sort Colors.\n",
    "\"\"\"\n",
    "\n",
    "class Solution:\n",
    "    def sortColors(self, nums) -> None:\n",
    "        \"\"\"\n",
    "        Do not return anything, modify nums in-place instead.\n",
    "        \"\"\"\n",
    "        n = len(nums)\n",
    "\n",
    "        x = [0, 1]\n",
    "\n",
    "        start = 0\n",
    "        for item in x:\n",
    "            i = 0\n",
    "            while i < n:\n",
    "                if nums[i] == item:\n",
    "                    nums[i], nums[start] = nums[start], nums[i]\n",
    "                    start += 1\n",
    "                i += 1\n",
    "\n",
    "\n",
    "x = Solution()\n",
    "nums = [0]\n",
    "x.sortColors(nums)\n",
    "nums"
   ]
  },
  {
   "cell_type": "markdown",
   "metadata": {},
   "source": [
    "# triangle\n",
    "https://leetcode.com/problems/triangle/"
   ]
  },
  {
   "cell_type": "markdown",
   "metadata": {},
   "source": [
    "```md \n",
    "[\n",
    "     [2],\n",
    "    [3,4],\n",
    "   [6,5,7],\n",
    "  [4,1,8,3]\n",
    "]\n",
    "\n",
    "Given a triangle, find the minimum path sum from top to bottom. Each step you may move to adjacent numbers on the row below.\n",
    "The minimum path sum from top to bottom is 11 (i.e., 2 + 3 + 5 + 1 = 11).\n",
    "```"
   ]
  },
  {
   "cell_type": "code",
   "execution_count": null,
   "metadata": {},
   "outputs": [],
   "source": [
    "class Solution:\n",
    "    def minimumTotal(self, triangle):\n",
    "        f = [0] * (len(triangle) + 1)\n",
    "        for row in triangle[::-1]:\n",
    "            for i in range(len(row)):\n",
    "                f[i] = row[i] + min(f[i], f[i + 1])\n",
    "        return f[0]\n",
    "\n",
    "x = Solution()\n",
    "triangle = [[2], [3, 4], [6, 5, 7], [4, 1, 8, 3],[0, 1, 8, 0, 9]]\n",
    "x.minimumTotal(triangle)"
   ]
  },
  {
   "cell_type": "markdown",
   "metadata": {},
   "source": [
    "# 2 sum "
   ]
  },
  {
   "cell_type": "code",
   "execution_count": null,
   "metadata": {},
   "outputs": [],
   "source": [
    "nums = [2, 7, 11, 15, 7]"
   ]
  },
  {
   "cell_type": "code",
   "execution_count": null,
   "metadata": {},
   "outputs": [],
   "source": [
    "for i, v1 in enumerate(nums):\n",
    "    for j, v2 in enumerate(nums[i+1:], i+1):\n",
    "        i, v1\n",
    "        j, v2\n",
    "       "
   ]
  },
  {
   "cell_type": "code",
   "execution_count": null,
   "metadata": {},
   "outputs": [],
   "source": [
    "def twoSum(nums, target):\n",
    "    for i, v1 in enumerate(nums):\n",
    "        for j, v2 in enumerate(nums[i + 1:], i + 1):\n",
    "            if v1 + v2 == target:\n",
    "                return [i, j]\n",
    "\n",
    "nums = [3,2,4]\n",
    "twoSum(nums, 6)"
   ]
  },
  {
   "cell_type": "code",
   "execution_count": null,
   "metadata": {},
   "outputs": [],
   "source": [
    "def twoSum(nums, target):\n",
    "    for i, v1 in enumerate(nums):\n",
    "        if target - v1 in (nums[i+1:]):\n",
    "            return [i, nums.index(target-v1, i+1)]\n",
    "nums = [3, 3, 2,4]\n",
    "twoSum(nums, 6)            "
   ]
  },
  {
   "cell_type": "code",
   "execution_count": null,
   "metadata": {},
   "outputs": [],
   "source": [
    "def twoSum(nums, target):\n",
    "    d = dict()\n",
    "    for i, n in enumerate(nums):\n",
    "        if n in d: \n",
    "            return [d[n], i]\n",
    "        d[target-n] = i \n",
    "        print(d)\n",
    "\n",
    "nums = [3, 3, 2, 4, 2]\n",
    "twoSum(nums, 6) "
   ]
  },
  {
   "cell_type": "code",
   "execution_count": null,
   "metadata": {},
   "outputs": [],
   "source": [
    "def twoSum(nums, target):\n",
    "    d = dict()\n",
    "    k = []\n",
    "    for i, n in enumerate(nums):\n",
    "        if n in d: \n",
    "            k.append([d[n], i])\n",
    "        d[target-n] = i \n",
    "        print(d)\n",
    "    return k \n",
    "\n",
    "nums = [3, 3, 2, 4, 2]\n",
    "twoSum(nums, 6)            "
   ]
  },
  {
   "cell_type": "code",
   "execution_count": null,
   "metadata": {},
   "outputs": [],
   "source": [
    "def twoSum(nums, target):\n",
    "    dic = {}\n",
    "    for i, n in enumerate(nums): \n",
    "        if n in dic:\n",
    "            return [dic[n], i]\n",
    "        dic[target-n] = i"
   ]
  },
  {
   "cell_type": "markdown",
   "metadata": {},
   "source": [
    "# 3 Sum "
   ]
  },
  {
   "cell_type": "markdown",
   "metadata": {},
   "source": [
    "Time complexity "
   ]
  },
  {
   "cell_type": "code",
   "execution_count": null,
   "metadata": {},
   "outputs": [],
   "source": [
    "def twoSum(nums, target):\n",
    "    dic = {}\n",
    "    for i, n in enumerate(nums): \n",
    "        if n in dic:\n",
    "            return [dic[n], i]\n",
    "        dic[target-n] = i\n",
    "        \n",
    "def threeSum(nums):\n",
    "    res = []\n",
    "    for i, n in enumerate(nums):\n",
    "        ap = twoSum(nums[i+1:], -n)\n",
    "        if ap != None:\n",
    "            ap = [x+i+1 for x in ap]\n",
    "            res.append([i]+ ap)\n",
    "    return res \n",
    "nums = [-1, 0, 1, 2, -1, -4]\n",
    "threeSum(nums)            "
   ]
  },
  {
   "cell_type": "code",
   "execution_count": null,
   "metadata": {},
   "outputs": [],
   "source": [
    "def threeSum(nums):\n",
    "    res = []\n",
    "    for i, n in enumerate(nums):\n",
    "        tem = []\n",
    "        dic = {}\n",
    "        for i2, n2 in enumerate(nums[i + 1:-1]):\n",
    "            if n2 in dic:\n",
    "                tem.append([dic[n2] + i + 1, i2 + i + 1])\n",
    "            dic[-n - n2] = i2\n",
    "        #print([[nums(i) for i in item] for item in tem])\n",
    "        if tem != []:\n",
    "            print([[nums[i]] + [nums[e] for e in item] for item in tem])\n",
    "            res += [[nums[i]] + [nums[e] for e in item] for item in tem]\n",
    "    return res \n",
    "\n",
    "\n",
    "nums = [-1, 0, 1, 2, -1, -4]\n",
    "threeSum(nums)"
   ]
  },
  {
   "cell_type": "code",
   "execution_count": null,
   "metadata": {},
   "outputs": [],
   "source": [
    "def threeSum(nums):\n",
    "    res = []\n",
    "    for i, n in enumerate(nums):\n",
    "        tem = []\n",
    "        dic = {}\n",
    "        for i2, n2 in enumerate(nums[i + 1: ]):\n",
    "            if n2 in dic:\n",
    "                tem.append([dic[n2] + i + 1, i2 + i + 1])\n",
    "            dic[-n - n2] = i2\n",
    "            \n",
    "     \n",
    "        if tem != []:\n",
    "            res += [[nums[i]] + [nums[e] for e in item] for item in tem]\n",
    "            \n",
    "    result = []\n",
    "    for i in res: \n",
    "        if not sorted(i) in [sorted(i) for i in result]:\n",
    "            result.append(i)\n",
    "            \n",
    "            \n",
    "    return result \n",
    "\n",
    "nums = [-4,-2,1,-5,-4,-4,4,-2,0,4,0,-2,3,1,-5,0]\n",
    "threeSum(nums)\n"
   ]
  },
  {
   "cell_type": "code",
   "execution_count": null,
   "metadata": {},
   "outputs": [],
   "source": [
    "'''\n",
    "Runtime: 756 ms, faster than 81.75% of Python3 online submissions for 3Sum.\n",
    "Memory Usage: 17.1 MB, less than 25.00% of Python3 online submissions for 3Sum.\n",
    "''' \n",
    "class Solution(object):\n",
    "    def threeSum(self, nums):\n",
    "        \"\"\"\n",
    "        :type nums: List[int]\n",
    "        :rtype: List[List[int]]\n",
    "        \"\"\"\n",
    "        res = []\n",
    "        n = len(nums)\n",
    "        nums = sorted(nums)\n",
    "        for i in range(n-2):\n",
    "            if i > 0 and nums[i] == nums[i-1]:\n",
    "                continue\n",
    "            j = i+1\n",
    "            k = n-1\n",
    "            new_target = -nums[i]\n",
    "            while j < k:\n",
    "                summ = nums[j] + nums[k]\n",
    "                if summ < new_target:\n",
    "                    j += 1\n",
    "                elif summ > new_target:\n",
    "                    k -= 1\n",
    "                else:\n",
    "                    res.append([nums[i], nums[j], nums[k]])\n",
    "                    while j < k and nums[j+1] == nums[j]:\n",
    "                        j += 1\n",
    "                    j += 1\n",
    "                    while k > j and nums[k-1] == nums[k]:\n",
    "                        k -= 1\n",
    "                    k -= 1\n",
    "        return res\n",
    "    \n",
    "x = Solution()\n",
    "nums = [-4,-2,1,-5,-4,-4,4,-2,0,4,0,-2,3,1,-5,0]\n",
    "x.threeSum(nums)"
   ]
  },
  {
   "cell_type": "markdown",
   "metadata": {},
   "source": [
    "# 4sum "
   ]
  },
  {
   "cell_type": "code",
   "execution_count": null,
   "metadata": {},
   "outputs": [],
   "source": [
    "class Solution:\n",
    "    def fourSum(self, nums, target):\n",
    "        \"\"\"\n",
    "        :type nums: List[int]\n",
    "        :type target: int\n",
    "        :rtype: List[List[int]]\n",
    "        \"\"\"\n",
    "        d = dict()\n",
    "        for i in range(len(nums)):\n",
    "            for j in range(i+1,len(nums)):\n",
    "                sum2 = nums[i]+nums[j]\n",
    "                if sum2 in d:\n",
    "                    d[sum2].append((i,j))\n",
    "                else:\n",
    "                    d[sum2] = [(i,j)]\n",
    "        \n",
    "        result = set()\n",
    "        for key in d:\n",
    "            value = target - key\n",
    "            if value in d:\n",
    "                list1 = d[key]\n",
    "                list2 = d[value]\n",
    "                for (i,j) in list1:\n",
    "                    for (k,l) in list2:\n",
    "                        if i!=k and i!=l and j!=k and j!=l:\n",
    "                            flist = [nums[i],nums[j],nums[k],nums[l]]\n",
    "                            flist.sort()\n",
    "                            result.add(tuple(flist))\n",
    "        return list(result)\n",
    "    \n",
    "nums = [1, 0, -1, 0, -2, 2]\n",
    "x = Solution()\n",
    "x.fourSum(nums, 0)\n",
    "x.fourSum(nums, 1)"
   ]
  },
  {
   "cell_type": "code",
   "execution_count": null,
   "metadata": {},
   "outputs": [],
   "source": [
    "class Solution(object):\n",
    "def fourSum(self, nums, target):\n",
    "    \"\"\"\n",
    "    :type nums: List[int]\n",
    "    :type target: int\n",
    "    :rtype: List[List[int]]\n",
    "    \"\"\"\n",
    "    result=[]\n",
    "    length=len(nums)\n",
    "    nums.sort()\n",
    "    for i in range(0,length-3):\n",
    "        if i!=0 and nums[i]==nums[i-1]:\n",
    "            continue\n",
    "        if nums[i]*4>target:\n",
    "            break\n",
    "        for j in range(length-1,i+2,-1):\n",
    "            if j!=length-1 and nums[j]==nums[j+1]:\n",
    "                continue\n",
    "            if nums[j]*4<target:\n",
    "                break\n",
    "            sub2=target-nums[i]-nums[j]\n",
    "            low,high=i+1,j-1\n",
    "            while low<high:\n",
    "                sum2=nums[low]+nums[high]\n",
    "                if sum2>sub2:\n",
    "                    high-=1\n",
    "                elif sum2<sub2:\n",
    "                    low+=1\n",
    "                else:\n",
    "                    ans = [nums[i],nums[low],nums[high],nums[j]]\n",
    "                    ans.sort()\n",
    "                    result.append(ans)\n",
    "                    while low<high and nums[low+1]==nums[low]:\n",
    "                        low+=1\n",
    "                    while low<high and nums[high-1]==nums[high]:\n",
    "                        high-=1\n",
    "                    high,low=high-1,low+1\n",
    "    return result"
   ]
  },
  {
   "cell_type": "markdown",
   "metadata": {},
   "source": [
    "# maximum subarray \n",
    "https://leetcode.com/problems/maximum-subarray/"
   ]
  },
  {
   "cell_type": "markdown",
   "metadata": {},
   "source": [
    "```md\n",
    "Given an integer array nums, find the contiguous subarray (containing at least one number) which has the largest sum and return its sum.\n",
    "\n",
    "Input: [-2,1,-3,4,-1,2,1,-5,4],\n",
    "Output: 6\n",
    "Explanation: [4,-1,2,1] has the largest sum = 6.\n",
    "```"
   ]
  },
  {
   "cell_type": "code",
   "execution_count": null,
   "metadata": {},
   "outputs": [],
   "source": [
    "def maxSubArray(nums):\n",
    "    max_sub, fn = nums[0], 0\n",
    "    for i in nums:\n",
    "        fn = max([i, fn + i])\n",
    "        print('fn is :', fn)\n",
    "        max_sub = max(max_sub, fn)\n",
    "        print('max_sub:', max_sub)\n",
    "    return max_sub\n",
    "\n",
    "\n",
    "nums = [-2, 1, -3, 4, -1, 2, 1, -5, 4]\n",
    "maxSubArray(nums)"
   ]
  },
  {
   "cell_type": "code",
   "execution_count": null,
   "metadata": {},
   "outputs": [],
   "source": [
    "def maxSubArray(nums):\n",
    "    for i in range(1, len(nums)):\n",
    "        if nums[i - 1] > 0:\n",
    "            nums[i] += nums[i - 1]\n",
    "    print(nums)\n",
    "    return max(nums)\n",
    "\n",
    "\n",
    "nums = [-2, 1, -3, 4, -1, 2, 1, -5, 4]\n",
    "maxSubArray(nums)"
   ]
  },
  {
   "cell_type": "markdown",
   "metadata": {},
   "source": [
    "# contains duplicate \n",
    "https://leetcode.com/problems/contains-duplicate/"
   ]
  },
  {
   "cell_type": "code",
   "execution_count": null,
   "metadata": {},
   "outputs": [],
   "source": [
    "def containsDuplicate(nums):\n",
    "    return len(set(nums)) < len(nums)\n",
    "\n",
    "nums = [1,2,3,1]\n",
    "containsDuplicate(nums)\n",
    "set(nums)"
   ]
  },
  {
   "cell_type": "markdown",
   "metadata": {},
   "source": [
    "# rotate array "
   ]
  },
  {
   "cell_type": "markdown",
   "metadata": {},
   "source": [
    "```md\n",
    "Input: [1,2,3,4,5,6,7] and k = 3\n",
    "Output: [5,6,7,1,2,3,4]\n",
    "```"
   ]
  },
  {
   "cell_type": "code",
   "execution_count": null,
   "metadata": {},
   "outputs": [],
   "source": [
    "x = [1,2,3,4,5,6,7] \n",
    "tem = x[-1]  \n",
    "x[1:] = x[:-1]\n",
    "x[0] =  tem\n",
    "x "
   ]
  },
  {
   "cell_type": "code",
   "execution_count": null,
   "metadata": {},
   "outputs": [],
   "source": [
    "def rotate(nums, k):\n",
    "    i = 0\n",
    "    while i < k:\n",
    "        nums = [nums[-1]] + nums[:-1]\n",
    "        i += 1\n",
    "    #return nums \n",
    "\n",
    "\n",
    "nums = [1, 2, 3, 4, 5, 6, 7]\n",
    "rotate(nums, 3)"
   ]
  },
  {
   "cell_type": "code",
   "execution_count": null,
   "metadata": {},
   "outputs": [],
   "source": [
    "def rotate(nums, k):\n",
    "    i = 0\n",
    "    while i < k:\n",
    "        tem = nums[-1]\n",
    "        nums[1:] = nums[:-1]\n",
    "        nums[0] = tem\n",
    "        i += 1\n",
    "\n",
    "\n",
    "nums = [1, 2, 3, 4, 5, 6, 7]\n",
    "rotate(nums, 3)\n",
    "nums"
   ]
  },
  {
   "cell_type": "code",
   "execution_count": null,
   "metadata": {},
   "outputs": [],
   "source": [
    "def rotate(nums, k):\n",
    "    k = k % len(nums)\n",
    "    nums[:] = nums[-k:] + nums[:-k]\n",
    "    \n",
    "nums = [1, 2, 3, 4, 5, 6, 7]\n",
    "rotate(nums, 3)\n",
    "nums"
   ]
  },
  {
   "cell_type": "markdown",
   "metadata": {},
   "source": [
    "# median of 2 sorted arrays\n",
    "https://leetcode.com/problems/median-of-two-sorted-arrays/"
   ]
  },
  {
   "cell_type": "code",
   "execution_count": null,
   "metadata": {},
   "outputs": [],
   "source": [
    "nums1 = [1, 3]\n",
    "nums2 = [2]\n",
    "nums1.pop()\n",
    "(5+2)%2\n",
    "(5+2)//2"
   ]
  },
  {
   "cell_type": "code",
   "execution_count": null,
   "metadata": {},
   "outputs": [],
   "source": [
    "def findMedianSortedArrays(nums1, nums2):\n",
    "    n = len(nums1) + len(nums2)\n",
    "    flag = n % 2\n",
    "\n",
    "    i = 0\n",
    "    med = n // 2\n",
    "    \n",
    "    while i < med:\n",
    "        if nums1 != [] and nums2 != []:\n",
    "            res = nums2.pop() if nums1[-1] < nums2[-1] else nums1.pop()\n",
    "            print(res)\n",
    "        elif nums1 == []:\n",
    "            res = nums2.pop()\n",
    "        else:\n",
    "            res = nums1.pop()\n",
    "\n",
    "    if flag == 0:\n",
    "        return res\n",
    "    \n",
    "    \n",
    "nums1 = [1, 3]\n",
    "nums2 = [2, 2]\n",
    "findMedianSortedArrays(nums1, nums2)"
   ]
  },
  {
   "cell_type": "markdown",
   "metadata": {},
   "source": [
    "# Remove duplication in array"
   ]
  },
  {
   "cell_type": "markdown",
   "metadata": {},
   "source": [
    "```md\n",
    "In: nums = [1,1,2,2,3]\n",
    "Out: 3 [1,2,3]\n",
    "```\n",
    "\n",
    "对于一般处理数组的算法问题，我们要尽可能只对数组尾部的元素进行操作，以避免额外的时间复杂度。"
   ]
  },
  {
   "cell_type": "code",
   "execution_count": null,
   "metadata": {},
   "outputs": [],
   "source": [
    "set([1,1,2,2,3])"
   ]
  },
  {
   "cell_type": "markdown",
   "metadata": {},
   "source": [
    "```cpp\n",
    "int removeDuplicates(int nums[]):\n",
    "    int n = nums.length;\n",
    "    if (n == 0) return 0;\n",
    "    int slow = 0, fast = 1;\n",
    "    while(fast < n){\n",
    "        if (nums[fast] != nums[slow]){\n",
    "            slow++;\n",
    "            nums[slow] = nums[fast];\n",
    "        }\n",
    "        fast++;\n",
    "        \n",
    "    }\n",
    "    return slow+1;\n",
    "```"
   ]
  },
  {
   "cell_type": "code",
   "execution_count": null,
   "metadata": {},
   "outputs": [],
   "source": [
    "def removeDuplicates(nums):\n",
    "    n = len(nums)\n",
    "    if n == 0: return 0\n",
    "    slow = 0\n",
    "    fast = 1\n",
    "    while(fast < n):\n",
    "        \n",
    "        if nums[fast] != nums[slow]:\n",
    "            slow += 1\n",
    "            nums[slow] = nums[fast]\n",
    "        fast += 1\n",
    "    print(nums[:slow+1]) # the list with no duplicated element\n",
    "    return slow + 1\n",
    "removeDuplicates([1,1,1,2,2,3])   "
   ]
  }
 ],
 "metadata": {
  "hide_input": false,
  "kernelspec": {
   "display_name": "Python 3",
   "language": "python",
   "name": "python3"
  },
  "language_info": {
   "codemirror_mode": {
    "name": "ipython",
    "version": 3
   },
   "file_extension": ".py",
   "mimetype": "text/x-python",
   "name": "python",
   "nbconvert_exporter": "python",
   "pygments_lexer": "ipython3",
   "version": "3.7.2"
  },
  "toc": {
   "base_numbering": 1,
   "nav_menu": {},
   "number_sections": true,
   "sideBar": true,
   "skip_h1_title": false,
   "title_cell": "Table of Contents",
   "title_sidebar": "Contents",
   "toc_cell": false,
   "toc_position": {},
   "toc_section_display": true,
   "toc_window_display": true
  },
  "varInspector": {
   "cols": {
    "lenName": 16,
    "lenType": 16,
    "lenVar": 40
   },
   "kernels_config": {
    "python": {
     "delete_cmd_postfix": "",
     "delete_cmd_prefix": "del ",
     "library": "var_list.py",
     "varRefreshCmd": "print(var_dic_list())"
    },
    "r": {
     "delete_cmd_postfix": ") ",
     "delete_cmd_prefix": "rm(",
     "library": "var_list.r",
     "varRefreshCmd": "cat(var_dic_list()) "
    }
   },
   "types_to_exclude": [
    "module",
    "function",
    "builtin_function_or_method",
    "instance",
    "_Feature"
   ],
   "window_display": false
  }
 },
 "nbformat": 4,
 "nbformat_minor": 2
}
