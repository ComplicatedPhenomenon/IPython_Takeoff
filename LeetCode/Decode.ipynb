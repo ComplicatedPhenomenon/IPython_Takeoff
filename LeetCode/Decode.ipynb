{
 "cells": [
  {
   "cell_type": "code",
   "execution_count": null,
   "metadata": {},
   "outputs": [],
   "source": [
    "def how_many_ways(digitarray):\n",
    "    x = str(digitarray)\n",
    "    num_digits = len(x)\n",
    "    ways = pow(2,num_digits)\n",
    "    for i in range(0,num_digits-1):\n",
    "        if int(x[i:i+2]) < 27:\n",
    "            ways += pow(2, (num_digits-1))\n",
    "    return ways\n",
    "    \n",
    "def recursive_how_many_ways(digitalarray):\n",
    "    x = str(digitalarray)\n",
    "    num_digits = len(x)\n",
    "    if num_digits == 1:\n",
    "        ways = pow(2,1)\n",
    "    \n",
    "    else:\n",
    "        tem = list(x)\n",
    "        tem.remove(tem[0])\n",
    "        ystr = ''.join(tem)\n",
    "        yint = int(ystr)\n",
    "        if int(x[0:2])<27:\n",
    "            ways = recursive_how_many_ways(yint)*2+pow(2,num_digits-1)\n",
    "            \n",
    "        else:\n",
    "            ways =  recursive_how_many_ways(yint)*2\n",
    "\n",
    "    return ways\n",
    "\n"
   ]
  },
  {
   "cell_type": "code",
   "execution_count": null,
   "metadata": {},
   "outputs": [],
   "source": [
    "s = 'adseesdap'\n",
    "s[1]"
   ]
  },
  {
   "cell_type": "code",
   "execution_count": null,
   "metadata": {},
   "outputs": [],
   "source": [
    "sdict = {}\n",
    "sdict['a'] = 1\n",
    "sdict\n",
    "sdict['a'] = 2\n",
    "sdict "
   ]
  },
  {
   "cell_type": "code",
   "execution_count": null,
   "metadata": {},
   "outputs": [],
   "source": [
    "if len(a)+len(b)!=len(c):\n",
    "    print(False)"
   ]
  },
  {
   "cell_type": "code",
   "execution_count": null,
   "metadata": {},
   "outputs": [],
   "source": [
    "s = {1:'a'}s[2]='b' \n",
    "s[2]='b' \n",
    "s"
   ]
  },
  {
   "cell_type": "code",
   "execution_count": null,
   "metadata": {},
   "outputs": [],
   "source": [
    "s = 'sdeswfesde'\n",
    "sdict = {}\n",
    "for i in range(0, len(s)):\n",
    "    sdict[i]=s[i]\n",
    "sdict "
   ]
  },
  {
   "cell_type": "code",
   "execution_count": null,
   "metadata": {},
   "outputs": [],
   "source": [
    "keys=list(sdict.keys())  \n",
    "values=list(sdict.values())\n",
    "#keys[values.index('e')] \n",
    "keys[values.index('e')] "
   ]
  },
  {
   "cell_type": "code",
   "execution_count": null,
   "metadata": {},
   "outputs": [],
   "source": [
    "def strToDict(s):\n",
    "    sdict={}\n",
    "    for i in range(0, len(s)):\n",
    "        sdict[i]=s[i]\n",
    "    return sdict"
   ]
  }
 ],
 "metadata": {
  "hide_input": false,
  "kernelspec": {
   "display_name": "Python 3",
   "language": "python",
   "name": "python3"
  },
  "language_info": {
   "codemirror_mode": {
    "name": "ipython",
    "version": 3
   },
   "file_extension": ".py",
   "mimetype": "text/x-python",
   "name": "python",
   "nbconvert_exporter": "python",
   "pygments_lexer": "ipython3",
   "version": "3.7.2"
  },
  "toc": {
   "base_numbering": 1,
   "nav_menu": {},
   "number_sections": true,
   "sideBar": true,
   "skip_h1_title": false,
   "title_cell": "Table of Contents",
   "title_sidebar": "Contents",
   "toc_cell": false,
   "toc_position": {},
   "toc_section_display": true,
   "toc_window_display": false
  },
  "varInspector": {
   "cols": {
    "lenName": 16,
    "lenType": 16,
    "lenVar": 40
   },
   "kernels_config": {
    "python": {
     "delete_cmd_postfix": "",
     "delete_cmd_prefix": "del ",
     "library": "var_list.py",
     "varRefreshCmd": "print(var_dic_list())"
    },
    "r": {
     "delete_cmd_postfix": ") ",
     "delete_cmd_prefix": "rm(",
     "library": "var_list.r",
     "varRefreshCmd": "cat(var_dic_list()) "
    }
   },
   "types_to_exclude": [
    "module",
    "function",
    "builtin_function_or_method",
    "instance",
    "_Feature"
   ],
   "window_display": false
  }
 },
 "nbformat": 4,
 "nbformat_minor": 2
}
