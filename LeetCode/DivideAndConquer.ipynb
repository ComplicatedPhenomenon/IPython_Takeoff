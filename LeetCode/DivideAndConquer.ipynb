{
 "cells": [
  {
   "cell_type": "markdown",
   "metadata": {},
   "source": [
    "# kth largest element in an array\n",
    "https://leetcode.com/problems/kth-largest-element-in-an-array/"
   ]
  },
  {
   "cell_type": "markdown",
   "metadata": {},
   "source": [
    "```md \n",
    "Input: [3,2,1,5,6,4] and k = 2\n",
    "Output: 5\n",
    "\n",
    "\n",
    "Input: [3,2,3,1,2,4,5,5,6] and k = 4\n",
    "Output: 4\n",
    "```"
   ]
  },
  {
   "cell_type": "markdown",
   "metadata": {},
   "source": [
    "* Maintain a max heap, size is k\n",
    "* Maintain an array, size is k"
   ]
  },
  {
   "cell_type": "code",
   "execution_count": null,
   "metadata": {},
   "outputs": [],
   "source": [
    "\"\"\"\n",
    "Runtime: 76 ms, faster than 82.07% of Python3 online submissions for Kth Largest Element in an Array.\n",
    "Memory Usage: 13.5 MB, less than 100.00% of Python3 online submissions for Kth Largest Element in an Array.\n",
    "\"\"\"\n",
    "class Solution:\n",
    "        \n",
    "    def findKthLargest(self, nums, k):\n",
    "        n = len(nums)\n",
    "        tem = nums[:k]\n",
    "        tem.sort()\n",
    "        for i in range(k, n):\n",
    "            if nums[i] <= tem[0]:\n",
    "                continue\n",
    "            else:\n",
    "                j = 0\n",
    "                tem.pop(0)\n",
    "                tem.append(nums[i])\n",
    "                tem.sort()\n",
    "        return tem[0]\n",
    "    \n",
    "test = Solution()\n",
    "nums = [3,2,3,1,2,4,5,5,6] \n",
    "k = 4\n",
    "test.findKthLargest(nums, k)                    "
   ]
  },
  {
   "cell_type": "markdown",
   "metadata": {},
   "source": [
    "# Median of two sorted Array \n",
    "https://leetcode.com/problems/median-of-two-sorted-arrays/"
   ]
  },
  {
   "cell_type": "markdown",
   "metadata": {},
   "source": [
    "```md\n",
    "Find the median of the two sorted arrays. The overall run time complexity should be O(log (m+n)).\n",
    "\n",
    "You may assume nums1 and nums2 cannot be both empty.\n",
    "\n",
    "nums1 = [1, 3]\n",
    "nums2 = [2]\n",
    "\n",
    "The median is 2.0\n",
    "\n",
    "nums1 = [1, 2]\n",
    "nums2 = [3, 4]\n",
    "\n",
    "The median is (2 + 3)/2 = 2.5\n",
    "```"
   ]
  },
  {
   "cell_type": "code",
   "execution_count": null,
   "metadata": {},
   "outputs": [],
   "source": [
    "\"\"\"\n",
    "Runtime: 96 ms, faster than 98.82% of Python3 online submissions for Median of Two Sorted Arrays.\n",
    "Memory Usage: 12.8 MB, less than 100.00% of Python3 online submissions for Median of Two Sorted Arrays.\n",
    "\"\"\"\n",
    "class Solution:\n",
    "    def findMedianSortedArrays(self, nums1, nums2) -> float:\n",
    "        n1 = len(nums1)\n",
    "        n2 = len(nums2)\n",
    "        n = n1 + n2\n",
    "        med = (n1 + n2 - 1) // 2\n",
    "        i = 0\n",
    "        j = 0\n",
    "        k = 0\n",
    "        while (k < med and i < n1 and j < n2):\n",
    "            if nums1[i] < nums2[j]:\n",
    "                i += 1\n",
    "            else:\n",
    "                j += 1\n",
    "            k += 1\n",
    "\n",
    "        while (k < med and i == n1):\n",
    "            j += 1\n",
    "            k += 1\n",
    "        while (k < med and j == n2):\n",
    "            i += 1\n",
    "            k += 1\n",
    "\n",
    "        print(\"i = {}, j = {}\".format(i, j))\n",
    "        if (n1 + n2 - 1) % 2 == 0:\n",
    "            #print(\"odd\")\n",
    "            if i < n1 and j < n2:\n",
    "                res = nums1[i] if nums1[i] < nums2[j] else nums2[j]\n",
    "            if i == n1:\n",
    "                res = nums2[j]\n",
    "            if j == n2:\n",
    "                res = nums1[i]\n",
    "   \n",
    "        else:\n",
    "            #print(\"even\")\n",
    "            if i < n1 and j < n2:\n",
    "                if nums1[i] < nums2[j]:\n",
    "                    lm = nums1[i]\n",
    "                    i += 1\n",
    "                else:\n",
    "                    lm = nums2[j]\n",
    "                    j += 1\n",
    "                #print('i = {}, j = {} lm = {}'.format(i, j, lm))\n",
    "                \n",
    "                if i < n1 and j < n2:\n",
    "                    rm = nums1[i] if nums1[i] < nums2[j] else nums2[j]\n",
    "                elif i == n1:\n",
    "                    rm = nums2[j]\n",
    "                elif j == n2:\n",
    "                    rm = nums1[i]\n",
    "                res = (lm + rm) / 2\n",
    "     \n",
    "            elif i == n1:\n",
    "                res = (nums2[j] + nums2[j + 1]) / 2\n",
    "  \n",
    "            elif j == n2:\n",
    "                res = (nums1[i] + nums1[i + 1]) / 2\n",
    "                \n",
    "        return res\n",
    "        \n",
    "\n",
    "nums1 = []\n",
    "nums2 = [0, 0]\n",
    "test = Solution()\n",
    "test.findMedianSortedArrays(nums1, nums2)"
   ]
  },
  {
   "cell_type": "markdown",
   "metadata": {},
   "source": [
    "# minimum size subarray sum\n",
    "https://leetcode.com/problems/minimum-size-subarray-sum/"
   ]
  },
  {
   "cell_type": "markdown",
   "metadata": {},
   "source": [
    "```md\n",
    "Given an array of **n positive integers** and a positive integer s, find the minimal length of a contiguous subarray of which the sum ≥ s. If there isn't one, return 0 instead.\n",
    "Input: s = 7, nums = [2,3,1,2,4,3]\n",
    "Output: 2\n",
    "Explanation: the subarray [4,3] has the minimal length under the problem constraint.\n",
    "```"
   ]
  },
  {
   "cell_type": "code",
   "execution_count": null,
   "metadata": {},
   "outputs": [],
   "source": [
    "# good case for sliding window \n",
    "class Solution:\n",
    "    def minSubArrayLen(self, s: int, nums):\n",
    "        n = len(nums)\n",
    "        l = 0\n",
    "        r = 0\n",
    "        min_len = n + 1\n",
    "        total = 0\n",
    "        while(r < n):\n",
    "            while(r < n and total < s):\n",
    "                total += nums[r]\n",
    "                r += 1\n",
    "                #print('r = {}'.format(r))\n",
    "                \n",
    "            # narrow down the interval \n",
    "            while(l < n and total >= s):\n",
    "                total -= nums[l]\n",
    "                l += 1\n",
    "                \n",
    "            min_len = min(min_len, r-l+1)\n",
    "        if min_len == n+1:\n",
    "            return 0\n",
    "        else:\n",
    "            return min_len\n",
    "        \n",
    "    \n",
    "s =  7 \n",
    "nums = [2,3,1,2,4,3]\n",
    "test = Solution()\n",
    "test.minSubArrayLen(s, nums)"
   ]
  },
  {
   "cell_type": "markdown",
   "metadata": {},
   "source": [
    "# minimus window substring \n",
    "https://leetcode.com/problems/minimum-window-substring/"
   ]
  },
  {
   "cell_type": "markdown",
   "metadata": {},
   "source": [
    "```md \n",
    "Given a string S and a string T, find the minimum window in S which will contain all the characters in T in complexity O(n).\n",
    "\n",
    "Input: S = \"ADOBECODEBANC\", T = \"ABC\"\n",
    "Output: \"BANC\"\n",
    "```"
   ]
  },
  {
   "cell_type": "markdown",
   "metadata": {},
   "source": [
    "# Maximum Length of Repeated Subarray\n",
    "https://leetcode.com/problems/maximum-length-of-repeated-subarray/"
   ]
  },
  {
   "cell_type": "markdown",
   "metadata": {},
   "source": [
    "```md\n",
    "Given two integer arrays A and B, return the maximum length of an subarray that appears in both arrays.\n",
    "Input:\n",
    "A: [1,2,3,2,1]\n",
    "B: [3,2,1,4,7]\n",
    "Output: 3\n",
    "Explanation: \n",
    "The repeated subarray with maximum length is [3, 2, 1].\n",
    "\n",
    "Note\n",
    "* 1 <= len(A), len(B) <= 1000\n",
    "* 0 <= A[i], B[i] < 100\n",
    "```"
   ]
  },
  {
   "cell_type": "code",
   "execution_count": null,
   "metadata": {},
   "outputs": [],
   "source": [
    "class Solution:\n",
    "    def findLength(self, A, B) -> int:\n",
    "        dp = [[0 for _ in range(len(B) + 1)] for _ in range(len(A) + 1)]\n",
    "        for i in range(1, len(A) + 1):\n",
    "            for j in range(1, len(B) + 1):\n",
    "                if A[i - 1] == B[j - 1]:\n",
    "                    dp[i][j] = dp[i - 1][j - 1] + 1\n",
    "        return max(max(row) for row in dp)\n",
    "A = [1,2,3,2,1]\n",
    "B = [3,2,1,4,7]\n",
    "test = Solution()\n",
    "test.findLength(A, B)\n",
    "        "
   ]
  },
  {
   "cell_type": "markdown",
   "metadata": {},
   "source": [
    "# Minimum Window Substring\n",
    "https://leetcode.com/problems/minimum-window-substring/"
   ]
  },
  {
   "cell_type": "markdown",
   "metadata": {},
   "source": [
    "```md \n",
    "Given a string S and a string T, find the minimum window in S which will contain all the characters in T in complexity O(n).\n",
    "Input: S = \"ADOBECODEBANC\", T = \"ABC\"\n",
    "Output: \"BANC\"\n",
    "\n",
    "Note\n",
    "If there is no such window in S that covers all characters in T, return the empty string \"\".\n",
    "If there is such window, you are guaranteed that there will always be only one unique minimum window in S.\n",
    "```"
   ]
  },
  {
   "cell_type": "code",
   "execution_count": null,
   "metadata": {},
   "outputs": [],
   "source": [
    "class Solution:\n",
    "    def minWindow(self, s: str, t: str) -> str:"
   ]
  }
 ],
 "metadata": {
  "hide_input": false,
  "kernelspec": {
   "display_name": "Python 3",
   "language": "python",
   "name": "python3"
  },
  "language_info": {
   "codemirror_mode": {
    "name": "ipython",
    "version": 3
   },
   "file_extension": ".py",
   "mimetype": "text/x-python",
   "name": "python",
   "nbconvert_exporter": "python",
   "pygments_lexer": "ipython3",
   "version": "3.7.2"
  },
  "toc": {
   "base_numbering": 1,
   "nav_menu": {},
   "number_sections": true,
   "sideBar": true,
   "skip_h1_title": false,
   "title_cell": "Table of Contents",
   "title_sidebar": "Contents",
   "toc_cell": false,
   "toc_position": {},
   "toc_section_display": true,
   "toc_window_display": true
  },
  "varInspector": {
   "cols": {
    "lenName": 16,
    "lenType": 16,
    "lenVar": 40
   },
   "kernels_config": {
    "python": {
     "delete_cmd_postfix": "",
     "delete_cmd_prefix": "del ",
     "library": "var_list.py",
     "varRefreshCmd": "print(var_dic_list())"
    },
    "r": {
     "delete_cmd_postfix": ") ",
     "delete_cmd_prefix": "rm(",
     "library": "var_list.r",
     "varRefreshCmd": "cat(var_dic_list()) "
    }
   },
   "types_to_exclude": [
    "module",
    "function",
    "builtin_function_or_method",
    "instance",
    "_Feature"
   ],
   "window_display": false
  }
 },
 "nbformat": 4,
 "nbformat_minor": 2
}
