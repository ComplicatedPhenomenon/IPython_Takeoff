{
 "cells": [
  {
   "cell_type": "code",
   "execution_count": null,
   "metadata": {},
   "outputs": [],
   "source": [
    "from IPython.core.interactiveshell import InteractiveShell\n",
    "InteractiveShell.ast_node_interactivity = \"all\""
   ]
  },
  {
   "cell_type": "markdown",
   "metadata": {},
   "source": [
    "https://leetcode.com/problems/longest-palindromic-substring/"
   ]
  },
  {
   "cell_type": "code",
   "execution_count": null,
   "metadata": {},
   "outputs": [],
   "source": [
    "def longestPalindrome(s) -> str:\n",
    "    k = list()\n",
    "    for i in s: \n",
    "        if i not in k: \n",
    "            k.append(i)\n",
    "        else:\n",
    "            k.append(i)\n",
    "            return ''.join(k)\n",
    "s = \"ca bad\"\n",
    "longestPalindrome(s)       "
   ]
  },
  {
   "cell_type": "code",
   "execution_count": null,
   "metadata": {},
   "outputs": [],
   "source": [
    "def longestPalindrome(s) -> str:\n",
    "    if s == \"\":\n",
    "        return s\n",
    "\n",
    "    else:\n",
    "        k = list()\n",
    "        for i in s: \n",
    "            if i not in k: \n",
    "                k.append(i)\n",
    "            else:\n",
    "                if k[-1] == i:  \n",
    "                k.append(i)\n",
    "                 \n",
    "                return ''.join(k[k.index(i):])\n",
    "        return k[0]\n",
    "s = \"ccc\"\n",
    "longestPalindrome(s)       "
   ]
  },
  {
   "cell_type": "code",
   "execution_count": null,
   "metadata": {},
   "outputs": [],
   "source": [
    "x = ['a','b']\n",
    "x.index('b')"
   ]
  },
  {
   "cell_type": "markdown",
   "metadata": {},
   "source": [
    "https://leetcode.com/problems/multiply-strings/"
   ]
  },
  {
   "cell_type": "markdown",
   "metadata": {},
   "source": [
    "```md \n",
    "Input: num1 = \"2\", num2 = \"3\"\n",
    "Output: \"6\"\n",
    "\n",
    "You must not use any built-in BigInteger library or convert the inputs to integer directly.\n",
    "```"
   ]
  },
  {
   "cell_type": "code",
   "execution_count": null,
   "metadata": {},
   "outputs": [],
   "source": [
    "def multiply(num1, num2):\n",
    "    return str(int(num1)*int(num2))\n",
    "\n",
    "num1 = \"123\"\n",
    "num2 = \"456\"\n",
    "multiply(num1, num2)"
   ]
  },
  {
   "cell_type": "code",
   "execution_count": null,
   "metadata": {},
   "outputs": [],
   "source": [
    "def multiply(num1, num2):\n",
    "    return str(int(num1)*int(num2))\n",
    "\n",
    "num1 = \"123\"\n",
    "num2 = \"456\"\n",
    "multiply(num1, num2)"
   ]
  },
  {
   "cell_type": "code",
   "execution_count": null,
   "metadata": {},
   "outputs": [],
   "source": [
    "def solve(string):\n",
    "    return max(map(len, ''.join(i if i in 'aeiou' else ' ' for i in string).split()))\n",
    "\n",
    "solve('elephant')"
   ]
  },
  {
   "cell_type": "code",
   "execution_count": null,
   "metadata": {},
   "outputs": [],
   "source": [
    "[i if i in 'aeiou' else ' ' for i in 'elephant']\n",
    "''.join([i if i in 'aeiou' else ' ' for i in 'elephant']).split()"
   ]
  },
  {
   "cell_type": "markdown",
   "metadata": {},
   "source": [
    "```md \n",
    "Input: \"()[]{}\"\n",
    "Output: true\n",
    "```"
   ]
  },
  {
   "cell_type": "code",
   "execution_count": null,
   "metadata": {},
   "outputs": [],
   "source": [
    "1%2\n",
    "\n",
    "s = \"()[]{}\"\n",
    "s = \"{[]}\"\n",
    "m = len(s)//2\n",
    "m \n",
    "s[1::2] "
   ]
  },
  {
   "cell_type": "code",
   "execution_count": null,
   "metadata": {},
   "outputs": [],
   "source": [
    "def isValid(s):\n",
    "    ref = {'(': ')', '[': ']', '{': '}'}\n",
    "    if len(s) % 2 == 0:\n",
    "        if s[1::2] == [ref[x] for x in s[0::2]]:\n",
    "            return True\n",
    "        elif s[len(s) // 2:] == [ref[x] for x in s[:len(s) // 2]][::-1]:\n",
    "            return True\n",
    "\n",
    "    return False\n",
    "\n",
    "\n",
    "isValid(\"{[]}\")"
   ]
  },
  {
   "cell_type": "code",
   "execution_count": null,
   "metadata": {},
   "outputs": [],
   "source": [
    "x = {'(':')','[':']','{':'}'}"
   ]
  },
  {
   "cell_type": "code",
   "execution_count": null,
   "metadata": {},
   "outputs": [],
   "source": [
    "def isValid(s):\n",
    "    ref = {'(': ')', '[': ']', '{': '}'}\n",
    "    n = len(s)\n",
    "    if n % 2 == 0:\n",
    "        s = list(s)\n",
    "        fp = s[:n // 2]\n",
    "        sp = s[n // 2:]\n",
    "        \n",
    "        i = 0\n",
    "        while i < n//2:\n",
    "            if sp.pop(0) != ref[fp.pop()]:\n",
    "                return False\n",
    "            i += 1\n",
    "        return True \n",
    "\n",
    "    return False\n",
    "\n",
    "\n",
    "isValid(\"(){[]}\")"
   ]
  },
  {
   "cell_type": "code",
   "execution_count": null,
   "metadata": {},
   "outputs": [],
   "source": [
    "list(\"{[]}\")"
   ]
  },
  {
   "cell_type": "raw",
   "metadata": {},
   "source": [
    "def isValid(s):\n",
    "    ref = {'(': ')', '[': ']', '{': '}'}\n",
    "    n = len(s)\n",
    "    \n",
    "    if n== 0 : return True\n",
    "    elif n % 2 == 0 and n!=0:\n",
    "        s = list(s)\n",
    "        i = 1\n",
    "        tem = [s.pop()]\n",
    "        while i < n:\n",
    "            t = s.pop()\n",
    "            \n",
    "            if t in ')]}':\n",
    "                tem.append(t)\n",
    "            else:\n",
    "                if ref[t] == tem[-1]:\n",
    "                    tem.pop()\n",
    "                else:\n",
    "                    return False\n",
    "            i += 1\n",
    "            \n",
    "        return True \n",
    "    else: return False\n",
    "\n",
    "\n",
    "isValid(\"){\")"
   ]
  },
  {
   "cell_type": "code",
   "execution_count": null,
   "metadata": {},
   "outputs": [],
   "source": [
    "['s'][0]"
   ]
  },
  {
   "cell_type": "code",
   "execution_count": null,
   "metadata": {},
   "outputs": [],
   "source": [
    "'a' in 'aed'"
   ]
  },
  {
   "cell_type": "code",
   "execution_count": null,
   "metadata": {},
   "outputs": [],
   "source": [
    "class Solution:\n",
    "    # @return a boolean\n",
    "    def isValid(self, s):\n",
    "        stack = []\n",
    "        dict = {\"]\":\"[\", \"}\":\"{\", \")\":\"(\"}\n",
    "        for char in s:\n",
    "            if char in dict.values():\n",
    "                stack.append(char)\n",
    "            elif char in dict.keys():\n",
    "                if stack == [] or dict[char] != stack.pop():\n",
    "                    return False\n",
    "            else:\n",
    "                return False\n",
    "        return stack == []"
   ]
  }
 ],
 "metadata": {
  "hide_input": false,
  "kernelspec": {
   "display_name": "Python 3",
   "language": "python",
   "name": "python3"
  },
  "language_info": {
   "codemirror_mode": {
    "name": "ipython",
    "version": 3
   },
   "file_extension": ".py",
   "mimetype": "text/x-python",
   "name": "python",
   "nbconvert_exporter": "python",
   "pygments_lexer": "ipython3",
   "version": "3.7.2"
  },
  "toc": {
   "base_numbering": 1,
   "nav_menu": {},
   "number_sections": true,
   "sideBar": true,
   "skip_h1_title": false,
   "title_cell": "Table of Contents",
   "title_sidebar": "Contents",
   "toc_cell": false,
   "toc_position": {},
   "toc_section_display": true,
   "toc_window_display": false
  },
  "varInspector": {
   "cols": {
    "lenName": 16,
    "lenType": 16,
    "lenVar": 40
   },
   "kernels_config": {
    "python": {
     "delete_cmd_postfix": "",
     "delete_cmd_prefix": "del ",
     "library": "var_list.py",
     "varRefreshCmd": "print(var_dic_list())"
    },
    "r": {
     "delete_cmd_postfix": ") ",
     "delete_cmd_prefix": "rm(",
     "library": "var_list.r",
     "varRefreshCmd": "cat(var_dic_list()) "
    }
   },
   "types_to_exclude": [
    "module",
    "function",
    "builtin_function_or_method",
    "instance",
    "_Feature"
   ],
   "window_display": false
  }
 },
 "nbformat": 4,
 "nbformat_minor": 2
}
