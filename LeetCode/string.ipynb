{
 "cells": [
  {
   "cell_type": "code",
   "execution_count": null,
   "metadata": {
    "ExecuteTime": {
     "end_time": "2019-12-19T11:00:50.409810Z",
     "start_time": "2019-12-19T11:00:50.404346Z"
    }
   },
   "outputs": [],
   "source": [
    "from IPython.core.interactiveshell import InteractiveShell\n",
    "InteractiveShell.ast_node_interactivity = \"all\""
   ]
  },
  {
   "cell_type": "markdown",
   "metadata": {},
   "source": [
    "# decode string"
   ]
  },
  {
   "cell_type": "markdown",
   "metadata": {},
   "source": [
    "https://leetcode.com/problems/decode-string/"
   ]
  },
  {
   "cell_type": "markdown",
   "metadata": {},
   "source": [
    "```md\n",
    "s = \"3[a]2[bc]\", return \"aaabcbc\".\n",
    "s = \"3[a2[c]]\", return \"accaccacc\".\n",
    "s = \"2[abc]3[cd]ef\", return \"abcabccdcdcdef\".\n",
    "```"
   ]
  },
  {
   "cell_type": "markdown",
   "metadata": {},
   "source": [
    "Depth first searching"
   ]
  },
  {
   "cell_type": "code",
   "execution_count": null,
   "metadata": {
    "ExecuteTime": {
     "end_time": "2019-12-19T12:13:50.276258Z",
     "start_time": "2019-12-19T12:13:50.269816Z"
    }
   },
   "outputs": [],
   "source": [
    "import re"
   ]
  },
  {
   "cell_type": "code",
   "execution_count": null,
   "metadata": {
    "ExecuteTime": {
     "end_time": "2019-12-19T12:14:15.332675Z",
     "start_time": "2019-12-19T12:14:15.316907Z"
    }
   },
   "outputs": [],
   "source": [
    "class Solution:\n",
    "    def decodeString(self, s: str) -> str:\n",
    "        while '[' in s:\n",
    "            s = re.sub(r'(\\d+)\\[([a-z]*)\\]', lambda m: int(m.group(1)) * m.group(2), s)\n",
    "        return s\n",
    "test = Solution()\n",
    "test.decodeString(\"3[a2[c]]\")"
   ]
  },
  {
   "cell_type": "markdown",
   "metadata": {},
   "source": [
    "# roman to integer"
   ]
  },
  {
   "cell_type": "markdown",
   "metadata": {},
   "source": [
    "https://leetcode.com/problems/roman-to-integer/"
   ]
  },
  {
   "cell_type": "code",
   "execution_count": null,
   "metadata": {},
   "outputs": [],
   "source": [
    "I can be placed before V (5) and X (10) to make 4 and 9. \n",
    "X can be placed before L (50) and C (100) to make 40 and 90. \n",
    "C can be placed before D (500) and M (1000) to make 400 and 900."
   ]
  },
  {
   "cell_type": "code",
   "execution_count": null,
   "metadata": {
    "ExecuteTime": {
     "end_time": "2019-12-19T11:16:28.131530Z",
     "start_time": "2019-12-19T11:16:28.104029Z"
    }
   },
   "outputs": [],
   "source": [
    "class Solution:\n",
    "    def romanToInt(self, s: str) -> int:\n",
    "        table = {'I' : 1, 'IV' : 4, 'IX' : 9, \n",
    "                'V' : 5,\n",
    "                'X' : 10, 'XL': 40, 'XC' : 90,\n",
    "                'L' : 50,\n",
    "                'C' : 100, 'CD' : 400, 'CM' : 900,\n",
    "                'D' : 500, \n",
    "                'M' : 1000}\n",
    "                       \n",
    "        res = 0\n",
    "        for i, v in enumerate(s):\n",
    "            if v in ['I', 'X', 'C'] and i+1 < len(s):\n",
    "                if s[i:i+2] in table:\n",
    "                    res += table[s[i:i+2]]\n",
    "                    res -= table[s[i+1]]\n",
    "                else:\n",
    "                    res += table[v]\n",
    "            else:\n",
    "                res += table[v]\n",
    "        return res\n",
    "test = Solution()\n",
    "test.romanToInt('III')\n",
    "test.romanToInt(\"MCMXCIV\")\n",
    "test.romanToInt(\"LVIII\")       "
   ]
  },
  {
   "cell_type": "markdown",
   "metadata": {},
   "source": [
    "# longest palindromic substring\n",
    "https://leetcode.com/problems/longest-palindromic-substring/"
   ]
  },
  {
   "cell_type": "code",
   "execution_count": null,
   "metadata": {},
   "outputs": [],
   "source": [
    "def longestPalindrome(s) -> str:\n",
    "    if s == \"\":\n",
    "        return s\n",
    "\n",
    "    else:\n",
    "        k = list()\n",
    "        for i in s:\n",
    "            if i not in k:\n",
    "                k.append(i)\n",
    "            else:\n",
    "                if k[-1] == i:\n",
    "                    k.append(i)\n",
    "\n",
    "                return ''.join(k[k.index(i):])\n",
    "        return k[0]\n",
    "\n",
    "\n",
    "s = \"ccabbac\"\n",
    "longestPalindrome(s)"
   ]
  },
  {
   "cell_type": "code",
   "execution_count": null,
   "metadata": {},
   "outputs": [],
   "source": [
    "def expandAroundCenter(s, left, right):\n",
    "    l = left\n",
    "    r = right\n",
    "    while (l >= 0 and r < len(s) and s[l] == s[r]):\n",
    "        l -= 1\n",
    "        r += 1\n",
    "    return r - l - 1\n",
    "\n",
    "\n",
    "def longestPalindrome(s) -> str:\n",
    "    n = len(s)\n",
    "    if n == 0: return \"\"\n",
    "    start = 0\n",
    "    end = 0\n",
    "    for i in range(n):\n",
    "        len1 = expandAroundCenter(s, i, i)\n",
    "       # print(len1)\n",
    "        len2 = expandAroundCenter(s, i, i + 1)\n",
    "       # print(len2)\n",
    "        maxlen = max(len1, len2)\n",
    "        if maxlen > end - start:\n",
    "            start = i - (maxlen - 1) // 2\n",
    "            end = i + maxlen // 2\n",
    "        print(s[start:end + 1])\n",
    "    return s[start:end + 1]\n",
    "\n",
    "\n",
    "s = \"ccabbac\"\n",
    "longestPalindrome(s)"
   ]
  },
  {
   "cell_type": "code",
   "execution_count": null,
   "metadata": {},
   "outputs": [],
   "source": [
    "9//2"
   ]
  },
  {
   "cell_type": "markdown",
   "metadata": {},
   "source": [
    "https://leetcode-cn.com/problems/longest-palindromic-substring/solution/xiang-xi-tong-su-de-si-lu-fen-xi-duo-jie-fa-bao-gu/"
   ]
  },
  {
   "cell_type": "markdown",
   "metadata": {
    "code_folding": [
     0
    ]
   },
   "source": [
    "```java \n",
    "public String longestPalindrome(String s) {\n",
    "    if (s == null || s.length() < 1) return \"\";\n",
    "    int start = 0, end = 0;\n",
    "    for (int i = 0; i < s.length(); i++) {\n",
    "        int len1 = expandAroundCenter(s, i, i);\n",
    "        int len2 = expandAroundCenter(s, i, i + 1);\n",
    "        int len = Math.max(len1, len2);\n",
    "        if (len > end - start) {\n",
    "            start = i - (len - 1) / 2;\n",
    "            end = i + len / 2;\n",
    "        }\n",
    "    }\n",
    "    return s.substring(start, end + 1);\n",
    "}\n",
    "\n",
    "private int expandAroundCenter(String s, int left, int right) {\n",
    "    int L = left, R = right;\n",
    "    while (L >= 0 && R < s.length() && s.charAt(L) == s.charAt(R)) {\n",
    "        L--;\n",
    "        R++;\n",
    "    }\n",
    "    return R - L - 1;\n",
    "}\n",
    "```\n"
   ]
  },
  {
   "cell_type": "markdown",
   "metadata": {},
   "source": [
    "# multiply strings\n",
    "https://leetcode.com/problems/multiply-strings/"
   ]
  },
  {
   "cell_type": "markdown",
   "metadata": {},
   "source": [
    "```md \n",
    "Input: num1 = \"2\", num2 = \"3\"\n",
    "Output: \"6\"\n",
    "\n",
    "You must not use any built-in BigInteger library or convert the inputs to integer directly.\n",
    "```"
   ]
  },
  {
   "cell_type": "code",
   "execution_count": null,
   "metadata": {},
   "outputs": [],
   "source": [
    "def multiply(num1, num2):\n",
    "    return str(int(num1)*int(num2))\n",
    "\n",
    "num1 = \"123\"\n",
    "num2 = \"456\"\n",
    "multiply(num1, num2)"
   ]
  },
  {
   "cell_type": "code",
   "execution_count": null,
   "metadata": {},
   "outputs": [],
   "source": [
    "def multiply(num1, num2):\n",
    "    return str(int(num1)*int(num2))\n",
    "\n",
    "num1 = \"123\"\n",
    "num2 = \"456\"\n",
    "multiply(num1, num2)"
   ]
  },
  {
   "cell_type": "markdown",
   "metadata": {},
   "source": [
    "# valid parentheses\n",
    "https://leetcode.com/problems/valid-parentheses/"
   ]
  },
  {
   "cell_type": "markdown",
   "metadata": {},
   "source": [
    "```md \n",
    "Input: \"()[]{}\"\n",
    "Output: true\n",
    "```"
   ]
  },
  {
   "cell_type": "markdown",
   "metadata": {},
   "source": [
    "<span style=\"font-family:New York Times; font-size:1.2em; color:green;\">\n",
    "\n",
    "遍历输入字符串\n",
    "\n",
    "如果当前字符为左半边括号时，则将其压入栈中\n",
    "\n",
    "如果遇到右半边括号时，分类讨论：\n",
    "\n",
    "1）如栈不为空且为对应的左半边括号，则取出栈顶元素，继续循环\n",
    "\n",
    "2）若此时栈为空，则直接返回false\n",
    "\n",
    "3）若不为对应的左半边括号，反之返回false"
   ]
  },
  {
   "cell_type": "code",
   "execution_count": null,
   "metadata": {},
   "outputs": [],
   "source": [
    "class Solution:\n",
    "    # @return a boolean\n",
    "    def isValid(self, s):\n",
    "        stack = []\n",
    "        d = {\"]\":\"[\", \"}\":\"{\", \")\":\"(\"}\n",
    "        for char in s:\n",
    "            if char in d.values():\n",
    "                stack.append(char)\n",
    "            elif char in d.keys():\n",
    "                if stack == [] or d[char] != stack.pop():\n",
    "                    return False\n",
    "            else:\n",
    "                return False\n",
    "        return stack == []\n",
    "    \n",
    "x = Solution()\n",
    "x.isValid(\"\")\n",
    "x.isValid(\"){\")\n",
    "x.isValid(\"(){[]}\")"
   ]
  },
  {
   "cell_type": "markdown",
   "metadata": {},
   "source": [
    "# shortest palindrome\n",
    "https://leetcode.com/problems/shortest-palindrome/"
   ]
  }
 ],
 "metadata": {
  "hide_input": false,
  "kernelspec": {
   "display_name": "Python 3",
   "language": "python",
   "name": "python3"
  },
  "language_info": {
   "codemirror_mode": {
    "name": "ipython",
    "version": 3
   },
   "file_extension": ".py",
   "mimetype": "text/x-python",
   "name": "python",
   "nbconvert_exporter": "python",
   "pygments_lexer": "ipython3",
   "version": "3.7.4"
  },
  "toc": {
   "base_numbering": 1,
   "nav_menu": {},
   "number_sections": true,
   "sideBar": true,
   "skip_h1_title": false,
   "title_cell": "Table of Contents",
   "title_sidebar": "Contents",
   "toc_cell": false,
   "toc_position": {},
   "toc_section_display": true,
   "toc_window_display": true
  },
  "varInspector": {
   "cols": {
    "lenName": 16,
    "lenType": 16,
    "lenVar": 40
   },
   "kernels_config": {
    "python": {
     "delete_cmd_postfix": "",
     "delete_cmd_prefix": "del ",
     "library": "var_list.py",
     "varRefreshCmd": "print(var_dic_list())"
    },
    "r": {
     "delete_cmd_postfix": ") ",
     "delete_cmd_prefix": "rm(",
     "library": "var_list.r",
     "varRefreshCmd": "cat(var_dic_list()) "
    }
   },
   "types_to_exclude": [
    "module",
    "function",
    "builtin_function_or_method",
    "instance",
    "_Feature"
   ],
   "window_display": false
  }
 },
 "nbformat": 4,
 "nbformat_minor": 2
}
