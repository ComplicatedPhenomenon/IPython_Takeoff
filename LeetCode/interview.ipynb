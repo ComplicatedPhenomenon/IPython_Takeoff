{
 "cells": [
  {
   "cell_type": "code",
   "execution_count": 3,
   "metadata": {},
   "outputs": [],
   "source": [
    "from IPython.core.interactiveshell import InteractiveShell\n",
    "InteractiveShell.ast_node_interactivity = 'all'"
   ]
  },
  {
   "cell_type": "markdown",
   "metadata": {},
   "source": [
    "# deep copy and shallow copy"
   ]
  },
  {
   "cell_type": "code",
   "execution_count": null,
   "metadata": {},
   "outputs": [],
   "source": [
    "from ast import literal_eval\n",
    "k = literal_eval('[1,2,3]')\n",
    "type(k) "
   ]
  },
  {
   "cell_type": "code",
   "execution_count": 12,
   "metadata": {},
   "outputs": [
    {
     "data": {
      "text/plain": [
       "4460359880"
      ]
     },
     "execution_count": 12,
     "metadata": {},
     "output_type": "execute_result"
    },
    {
     "data": {
      "text/plain": [
       "4460359880"
      ]
     },
     "execution_count": 12,
     "metadata": {},
     "output_type": "execute_result"
    },
    {
     "name": "stdout",
     "output_type": "stream",
     "text": [
      "[3, 5, 7]\n"
     ]
    }
   ],
   "source": [
    "a = [1, 3, 5]\n",
    "id(a)\n",
    "b = a\n",
    "a[:] = [x + 2 for x in a]\n",
    "id(a)\n",
    "print(b)"
   ]
  },
  {
   "cell_type": "markdown",
   "metadata": {},
   "source": [
    "https://realpython.com/copying-python-objects/"
   ]
  },
  {
   "cell_type": "code",
   "execution_count": 14,
   "metadata": {},
   "outputs": [],
   "source": [
    "import copy"
   ]
  },
  {
   "cell_type": "code",
   "execution_count": 15,
   "metadata": {},
   "outputs": [
    {
     "data": {
      "text/plain": [
       "([1, 2, 3, 4], [1, 2, 3, 4])"
      ]
     },
     "execution_count": 15,
     "metadata": {},
     "output_type": "execute_result"
    },
    {
     "data": {
      "text/plain": [
       "('0x109d8c148', '0x109d78448')"
      ]
     },
     "execution_count": 15,
     "metadata": {},
     "output_type": "execute_result"
    },
    {
     "data": {
      "text/plain": [
       "False"
      ]
     },
     "execution_count": 15,
     "metadata": {},
     "output_type": "execute_result"
    },
    {
     "data": {
      "text/plain": [
       "True"
      ]
     },
     "execution_count": 15,
     "metadata": {},
     "output_type": "execute_result"
    },
    {
     "data": {
      "text/plain": [
       "([1, 2, 3, 4, {'a': 'A'}], [1, 2, 3, 4, {'a': 'A'}], [1, 2, 3, 4, {'a': 'A'}])"
      ]
     },
     "execution_count": 15,
     "metadata": {},
     "output_type": "execute_result"
    },
    {
     "data": {
      "text/plain": [
       "True"
      ]
     },
     "execution_count": 15,
     "metadata": {},
     "output_type": "execute_result"
    },
    {
     "data": {
      "text/plain": [
       "False"
      ]
     },
     "execution_count": 15,
     "metadata": {},
     "output_type": "execute_result"
    },
    {
     "data": {
      "text/plain": [
       "('0x109d78388', '0x109d78448')"
      ]
     },
     "execution_count": 15,
     "metadata": {},
     "output_type": "execute_result"
    },
    {
     "data": {
      "text/plain": [
       "([1, 2, 3, 4, {'a': 'A'}, 5],\n",
       " [1, 2, 3, 4, {'a': 'A'}, 5],\n",
       " [1, 2, 3, 4, {'a': 'A'}],\n",
       " [1, 2, 3, 4, {'a': 'A'}])"
      ]
     },
     "execution_count": 15,
     "metadata": {},
     "output_type": "execute_result"
    }
   ],
   "source": [
    "a = [1, 2, 3]\n",
    "b = a\n",
    "a.append(4)\n",
    "a, b\n",
    "\n",
    "a.append({'a': 'A'})\n",
    "c = copy.copy(a)\n",
    "hex(id(c)), hex(id(a))\n",
    "c is a\n",
    "c == a\n",
    "a, b, c\n",
    "\n",
    "d = copy.deepcopy(a)\n",
    "d == a\n",
    "d is a\n",
    "hex(id(d)), hex(id(a))\n",
    "a.append(5)\n",
    "a, b, c, d"
   ]
  },
  {
   "cell_type": "markdown",
   "metadata": {},
   "source": [
    "<span style=\"font-family:New York Times; font-size:1em; color:green;\">\n",
    "    \n",
    "* Flat list using `copy`\n",
    "* Flat list using `deepcopy`\n",
    "* Nested list using `copy`\n",
    "* Nested list using `deepcopy`"
   ]
  },
  {
   "cell_type": "code",
   "execution_count": 19,
   "metadata": {},
   "outputs": [
    {
     "data": {
      "text/plain": [
       "[1, 2, 3, 4]"
      ]
     },
     "execution_count": 19,
     "metadata": {},
     "output_type": "execute_result"
    },
    {
     "data": {
      "text/plain": [
       "True"
      ]
     },
     "execution_count": 19,
     "metadata": {},
     "output_type": "execute_result"
    },
    {
     "data": {
      "text/plain": [
       "[1, 2, 3, 4]"
      ]
     },
     "execution_count": 19,
     "metadata": {},
     "output_type": "execute_result"
    },
    {
     "data": {
      "text/plain": [
       "[1, 2, 3, [4, 5, 6]]"
      ]
     },
     "execution_count": 19,
     "metadata": {},
     "output_type": "execute_result"
    },
    {
     "data": {
      "text/plain": [
       "[1, 2, 3, [4, 5]]"
      ]
     },
     "execution_count": 19,
     "metadata": {},
     "output_type": "execute_result"
    }
   ],
   "source": [
    "i = [1,2,3,4]\n",
    "j = copy.copy(i)\n",
    "i[3]= 5\n",
    "j\n",
    "\n",
    "i = [1,2,3,4] \n",
    "j = copy.deepcopy(i)\n",
    "hex(id(i[3])) == hex(id(j[3]))\n",
    "i[3]= 5\n",
    "j \n",
    "\n",
    "i = [1,2,3,[4,5]]\n",
    "j = copy.copy(i)\n",
    "i[3].append(6)\n",
    "j\n",
    "\n",
    "i = [1,2,3,[4,5]] \n",
    "j = copy.deepcopy(i)\n",
    "i[3].append(6)\n",
    "j "
   ]
  },
  {
   "cell_type": "code",
   "execution_count": 22,
   "metadata": {},
   "outputs": [
    {
     "data": {
      "text/plain": [
       "([1, 2, 3, [4, 5, 4]], [1, 2, [4, 5]])"
      ]
     },
     "execution_count": 22,
     "metadata": {},
     "output_type": "execute_result"
    }
   ],
   "source": [
    "i = [1,2,3,[4,5]] \n",
    "j = i[:2] + [i[3][:]]\n",
    "i[3].append(4)\n",
    "i, j "
   ]
  },
  {
   "cell_type": "code",
   "execution_count": 23,
   "metadata": {},
   "outputs": [
    {
     "data": {
      "text/plain": [
       "'0x109dd4788'"
      ]
     },
     "execution_count": 23,
     "metadata": {},
     "output_type": "execute_result"
    },
    {
     "data": {
      "text/plain": [
       "'0x109dc2d48'"
      ]
     },
     "execution_count": 23,
     "metadata": {},
     "output_type": "execute_result"
    },
    {
     "data": {
      "text/plain": [
       "'0x109dc2d48'"
      ]
     },
     "execution_count": 23,
     "metadata": {},
     "output_type": "execute_result"
    }
   ],
   "source": [
    "listdemo = [[]]*5\n",
    "hex(id(listdemo))\n",
    "hex(id(listdemo[0]))\n",
    "hex(id(listdemo[1]))\n",
    "listdemo[0].append(1)\n",
    "listdemo[2].append(2)\n",
    "listdemo"
   ]
  },
  {
   "cell_type": "markdown",
   "metadata": {},
   "source": [
    "# Copying Arbitrary Python Objects"
   ]
  },
  {
   "cell_type": "code",
   "execution_count": 91,
   "metadata": {},
   "outputs": [],
   "source": [
    "class Point:\n",
    "    def __init__(self, x, y):\n",
    "        self.x = x\n",
    "        self.y = y\n",
    "    def __repr__(self):\n",
    "        return 'Point(%r, %r)' % (self.x, self.y)"
   ]
  },
  {
   "cell_type": "code",
   "execution_count": 92,
   "metadata": {},
   "outputs": [],
   "source": [
    "a = Point(23, 42)\n",
    "b = copy.copy(a)"
   ]
  },
  {
   "cell_type": "code",
   "execution_count": 93,
   "metadata": {},
   "outputs": [
    {
     "data": {
      "text/plain": [
       "Point(23, 42)"
      ]
     },
     "execution_count": 93,
     "metadata": {},
     "output_type": "execute_result"
    }
   ],
   "source": [
    "b "
   ]
  },
  {
   "cell_type": "markdown",
   "metadata": {},
   "source": [
    "# Interesting Problems from SO"
   ]
  },
  {
   "cell_type": "code",
   "execution_count": 2,
   "metadata": {},
   "outputs": [
    {
     "data": {
      "text/plain": [
       "{'0-1': 0, '1-2': 0, '2-3': 0, '3-4': 0, '4-5': 0}"
      ]
     },
     "execution_count": 2,
     "metadata": {},
     "output_type": "execute_result"
    }
   ],
   "source": [
    "{str(2*i)+'-'+str(2*i+1):0 for i in range(5)}\n",
    "\n",
    "{'{}-{}'.format(i, i+1):0 for i in range(5)}"
   ]
  },
  {
   "cell_type": "code",
   "execution_count": 32,
   "metadata": {},
   "outputs": [
    {
     "data": {
      "text/plain": [
       "['a', 'c', 'b', 'a']"
      ]
     },
     "execution_count": 32,
     "metadata": {},
     "output_type": "execute_result"
    },
    {
     "data": {
      "text/plain": [
       "'naM ehT'"
      ]
     },
     "execution_count": 32,
     "metadata": {},
     "output_type": "execute_result"
    }
   ],
   "source": [
    "x = ['a', 'b', 'c', 'a']\n",
    "x.reverse()\n",
    "x\n",
    "\n",
    "ex = 'The Man'\n",
    "ex[::-1]"
   ]
  },
  {
   "cell_type": "code",
   "execution_count": 39,
   "metadata": {},
   "outputs": [
    {
     "name": "stdout",
     "output_type": "stream",
     "text": [
      "01011100\n",
      "92\n"
     ]
    }
   ],
   "source": [
    "def convert(my_list):\n",
    "    string = ''.join(str(e) for e in my_list)\n",
    "    print(string)\n",
    "    return int(string, 2)\n",
    "my_list = [0,1,0,1,1,1,0,0]\n",
    "result = convert(my_list)\n",
    "print(result)"
   ]
  },
  {
   "cell_type": "code",
   "execution_count": 44,
   "metadata": {},
   "outputs": [
    {
     "data": {
      "text/plain": [
       "1518496"
      ]
     },
     "execution_count": 44,
     "metadata": {},
     "output_type": "execute_result"
    },
    {
     "data": {
      "text/plain": [
       "0.0050389766693115234"
      ]
     },
     "execution_count": 44,
     "metadata": {},
     "output_type": "execute_result"
    }
   ],
   "source": [
    "import time \n",
    "a = time.time()\n",
    "my_list = [0,1,0,1,1,1,0,0,1,0,1,0,1,1,1,0,1,0,0,0,0,0]\n",
    "def convert(my_list):\n",
    "    n = len(my_list)\n",
    "    x = 0\n",
    "    for i, e in enumerate(my_list):\n",
    "        x+=e*pow(2, n-i-1)\n",
    "    return x \n",
    "convert(my_list)\n",
    "\n",
    "\n",
    "b = time.time()\n",
    "b - a"
   ]
  },
  {
   "cell_type": "code",
   "execution_count": null,
   "metadata": {},
   "outputs": [],
   "source": [
    "a = time.time()\n",
    "my_list = [0,1,0,1,1,1,0,0,1,0,1,0,1,1,1,0,1,0,0,0,0,0]\n",
    "def convert(my_list):\n",
    "    string = ''.join(str(e) for e in my_list)\n",
    "    return int(string, 2)\n",
    "convert(my_list)\n",
    "\n",
    "\n",
    "b = time.time()\n",
    "b - a"
   ]
  },
  {
   "cell_type": "code",
   "execution_count": null,
   "metadata": {},
   "outputs": [],
   "source": [
    "# initialise the input with a non-empty list - Do NOT change the next line\n",
    "temperatures = [4.7, 3, 4.8]\n",
    "# set best_position to 0\n",
    "best_position = 0\n",
    "maxtemp = temperatures[0]\n",
    "# for each position from 1 to length of list – 1:\n",
    "for i in temperatures:\n",
    "    # if the item at position is better than the item at best_position: \n",
    "    if maxtemp<i:\n",
    "        maxtemp = i\n",
    "        # set best_position to position\n",
    "        best_position =\n",
    "# print best_position\n",
    "print(best_position, \": 00\")"
   ]
  },
  {
   "cell_type": "markdown",
   "metadata": {},
   "source": [
    "# Generate mixed string"
   ]
  },
  {
   "cell_type": "markdown",
   "metadata": {},
   "source": [
    "## Experiment: from bottom to up "
   ]
  },
  {
   "cell_type": "code",
   "execution_count": null,
   "metadata": {},
   "outputs": [],
   "source": [
    "import random\n",
    "a=list('asde')\n",
    "b=list('sxy')\n",
    "y = ''\n",
    "# only len(a)=0 and len(b)=0 makes the condition len(a)!=0 or len(b)!=0 false\n",
    "while len(a)!=0 or len(b)!=0:\n",
    "    x = random.choice([0,1])    \n",
    "    if x == 0:\n",
    "        if len(a) == 0:\n",
    "            pass\n",
    "        else:\n",
    "            y += a.pop()\n",
    "    else:\n",
    "        if len(b) == 0:\n",
    "            pass \n",
    "        else:\n",
    "            y += b.pop()\n",
    "y \n"
   ]
  },
  {
   "cell_type": "code",
   "execution_count": null,
   "metadata": {},
   "outputs": [],
   "source": [
    "x ='Instachat 😜'\n",
    "z=x.split()\n",
    "ord(z[1])"
   ]
  },
  {
   "cell_type": "markdown",
   "metadata": {},
   "source": [
    "## Abstraction: from top to bottom "
   ]
  },
  {
   "cell_type": "code",
   "execution_count": null,
   "metadata": {},
   "outputs": [],
   "source": [
    "def generateARandomMixedString(a, b):\n",
    "    a = list(a)\n",
    "    b = list(b)\n",
    "    y = ''\n",
    "    # only len(a)=0 and len(b)=0 makes the condition len(a)!=0 or len(b)!=0 false\n",
    "    while len(a)!=0 or len(b)!=0:\n",
    "        x = random.choice([0,1])    \n",
    "        if x == 0:\n",
    "            if len(a) == 0:\n",
    "                pass\n",
    "            else:\n",
    "                y += a.pop()\n",
    "        else:\n",
    "            if len(b) == 0:\n",
    "                pass \n",
    "            else:\n",
    "                y += b.pop()\n",
    "    return y[::-1]"
   ]
  },
  {
   "cell_type": "code",
   "execution_count": null,
   "metadata": {},
   "outputs": [],
   "source": [
    "a = 'dsdlkedlwks'\n",
    "b = 'kxsdjqjaqwaaw'\n",
    "generateARandomMixedString(a, b)"
   ]
  },
  {
   "cell_type": "code",
   "execution_count": null,
   "metadata": {},
   "outputs": [],
   "source": [
    "generateARandomMixedString(a, b)"
   ]
  },
  {
   "cell_type": "code",
   "execution_count": null,
   "metadata": {},
   "outputs": [],
   "source": [
    "generateARandomMixedString(a, b)"
   ]
  },
  {
   "cell_type": "markdown",
   "metadata": {},
   "source": [
    "After make statistics of the outcome, can you say the process of generating mixed string is truly random? "
   ]
  },
  {
   "cell_type": "code",
   "execution_count": null,
   "metadata": {},
   "outputs": [],
   "source": [
    "from itertools import combinations\n",
    "\n",
    "numbers = [1,2,3,4]\n",
    "string = ['a', 'b', 'c', 'd']\n",
    "for item in combinations(numbers, 4):\n",
    "    print(sorted(item))\n",
    "\n",
    "for item in combinations(string, 3):\n",
    "    print(sorted(item))"
   ]
  },
  {
   "cell_type": "code",
   "execution_count": null,
   "metadata": {},
   "outputs": [],
   "source": [
    "y + pop(a)+pop(a)+pop(a) + pop(b)+pop(b)"
   ]
  },
  {
   "cell_type": "code",
   "execution_count": null,
   "metadata": {},
   "outputs": [],
   "source": [
    "from itertools import product\n",
    "for i in product([0,1], repeat=5): \n",
    "    print(i)"
   ]
  },
  {
   "cell_type": "code",
   "execution_count": null,
   "metadata": {},
   "outputs": [],
   "source": [
    "a=list('asde')\n",
    "b=list('sxy')\n",
    "a.reverse()\n",
    "b.reverse()"
   ]
  },
  {
   "cell_type": "markdown",
   "metadata": {},
   "source": [
    "# [Heap sort ](https://www.interviewcake.com/concept/java/heapsort)\n",
    "* https://www.cs.princeton.edu/~wayne/kleinberg-tardos/pdf/DemoHeapify.pdf"
   ]
  },
  {
   "cell_type": "code",
   "execution_count": null,
   "metadata": {},
   "outputs": [],
   "source": [
    "def heapify(nums, heap_size, root_index):  \n",
    "    # Assume the index of the largest element is the root index\n",
    "    largest = root_index\n",
    "    left_child = (2 * root_index) + 1\n",
    "    right_child = (2 * root_index) + 2\n",
    "\n",
    "    # If the left child of the root is a valid index, and the element is greater\n",
    "    # than the current largest element, then update the largest element\n",
    "    if left_child < heap_size and nums[left_child] > nums[largest]:\n",
    "        largest = left_child\n",
    "\n",
    "    # Do the same for the right child of the root\n",
    "    if right_child < heap_size and nums[right_child] > nums[largest]:\n",
    "        largest = right_child\n",
    "\n",
    "    # If the largest element is no longer the root element, swap them\n",
    "    if largest != root_index:\n",
    "        nums[root_index], nums[largest] = nums[largest], nums[root_index]\n",
    "        # Heapify the new root element to ensure it's the largest\n",
    "        # After the swap, make sure the node has been replaced by a new value fit the rule of a heap \n",
    "        #heapify(nums, heap_size, largest)\n",
    "\n",
    "\n",
    "def heap_sort(nums):  \n",
    "    n = len(nums)\n",
    "\n",
    "    # Create a Max Heap from the list\n",
    "    # The 2nd argument of range means we stop at the element before -1 i.e.\n",
    "    # the first element of the list.\n",
    "    # The 3rd argument of range means we iterate backwards, reducing the count\n",
    "    # of i by 1\n",
    "    for i in range(n-5, -1, -1):\n",
    "    #for i in range(n, -1, -1):\n",
    "    #for i in range(n):\n",
    "        heapify(nums, n, i)# Responsible for the element in the beginning root_index until it were placed in right position\n",
    "        # Repeate tom ake sure that every element is in the right spot.\n",
    "    # Move the root of the max heap to the end of the list \n",
    "    for i in range(n - 1, 0, -1):\n",
    "        nums[i], nums[0] = nums[0], nums[i]\n",
    "        heapify(nums, i, 0)\n",
    "\n",
    "\n",
    "# Verify it works\n",
    "random_list_of_nums = [35, 4, 35, 67, 9, 12, 43, 8, 51]  \n",
    "random_list_of_nums_1 = [i for i in range(7, 1, -1)]\n",
    "heap_sort(random_list_of_nums)  \n",
    "heap_sort(random_list_of_nums_1)\n",
    "print(random_list_of_nums)\n",
    "print(random_list_of_nums_1)"
   ]
  },
  {
   "cell_type": "code",
   "execution_count": null,
   "metadata": {},
   "outputs": [],
   "source": [
    "random_list_of_nums = [17,16,13,15,14,11,9,14,13,13,11]  \n",
    "heap_sort(random_list_of_nums)  \n",
    "print(random_list_of_nums)"
   ]
  },
  {
   "cell_type": "code",
   "execution_count": null,
   "metadata": {},
   "outputs": [],
   "source": [
    "f = lambda: [i for i in range(3,-1,-1)]\n",
    "f() \n",
    "len(f())"
   ]
  },
  {
   "cell_type": "code",
   "execution_count": null,
   "metadata": {},
   "outputs": [],
   "source": [
    "def swap(i, j):                    \n",
    "    sqc[i], sqc[j] = sqc[j], sqc[i] \n",
    "\n",
    "def heapify(end,i):   \n",
    "    l=2 * i + 1  \n",
    "    r=2 * (i + 1)   \n",
    "    max=i   \n",
    "    if l < end and sqc[i] < sqc[l]:   \n",
    "        max = l   \n",
    "    if r < end and sqc[max] < sqc[r]:   \n",
    "        max = r   \n",
    "    if max != i:   \n",
    "        swap(i, max)   \n",
    "        heapify(end, max)   \n",
    "\n",
    "def heap_sort():     \n",
    "    end = len(sqc)   \n",
    "    start = end // 2 - 1 # use // instead of /\n",
    "    for i in range(start, -1, -1):   \n",
    "        heapify(end, i)   \n",
    "    for i in range(end-1, 0, -1):   \n",
    "        swap(i, 0)   \n",
    "        heapify(i, 0)   \n",
    "\n",
    "sqc = [2, 7, 1, -2, 56, 5, 3]\n",
    "heap_sort()\n",
    "print(sqc)"
   ]
  }
 ],
 "metadata": {
  "hide_input": false,
  "kernelspec": {
   "display_name": "Python 3",
   "language": "python",
   "name": "python3"
  },
  "language_info": {
   "codemirror_mode": {
    "name": "ipython",
    "version": 3
   },
   "file_extension": ".py",
   "mimetype": "text/x-python",
   "name": "python",
   "nbconvert_exporter": "python",
   "pygments_lexer": "ipython3",
   "version": "3.7.2"
  },
  "toc": {
   "base_numbering": 1,
   "nav_menu": {},
   "number_sections": true,
   "sideBar": true,
   "skip_h1_title": false,
   "title_cell": "Table of Contents",
   "title_sidebar": "Contents",
   "toc_cell": false,
   "toc_position": {
    "height": "calc(100% - 180px)",
    "left": "10px",
    "top": "150px",
    "width": "284.390625px"
   },
   "toc_section_display": true,
   "toc_window_display": true
  },
  "varInspector": {
   "cols": {
    "lenName": 16,
    "lenType": 16,
    "lenVar": 40
   },
   "kernels_config": {
    "python": {
     "delete_cmd_postfix": "",
     "delete_cmd_prefix": "del ",
     "library": "var_list.py",
     "varRefreshCmd": "print(var_dic_list())"
    },
    "r": {
     "delete_cmd_postfix": ") ",
     "delete_cmd_prefix": "rm(",
     "library": "var_list.r",
     "varRefreshCmd": "cat(var_dic_list()) "
    }
   },
   "types_to_exclude": [
    "module",
    "function",
    "builtin_function_or_method",
    "instance",
    "_Feature"
   ],
   "window_display": false
  }
 },
 "nbformat": 4,
 "nbformat_minor": 2
}
