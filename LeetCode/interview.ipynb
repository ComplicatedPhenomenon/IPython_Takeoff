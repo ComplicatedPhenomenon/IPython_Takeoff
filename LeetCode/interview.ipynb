{
 "cells": [
  {
   "cell_type": "code",
   "execution_count": null,
   "metadata": {
    "ExecuteTime": {
     "end_time": "2019-11-19T09:14:18.688393Z",
     "start_time": "2019-11-19T09:14:18.683227Z"
    }
   },
   "outputs": [],
   "source": [
    "from IPython.core.interactiveshell import InteractiveShell\n",
    "InteractiveShell.ast_node_interactivity = 'all'"
   ]
  },
  {
   "cell_type": "markdown",
   "metadata": {},
   "source": [
    "Are variables passed by reference or value in python?\n",
    "\n",
    "May I suggest that if you don't know the answer to it, it matters."
   ]
  },
  {
   "cell_type": "markdown",
   "metadata": {},
   "source": [
    "# deep copy and shallow copy\n",
    "https://medium.com/@thawsitt/assignment-vs-shallow-copy-vs-deep-copy-in-python-f70c2f0ebd86"
   ]
  },
  {
   "cell_type": "markdown",
   "metadata": {},
   "source": [
    "https://realpython.com/copying-python-objects/"
   ]
  },
  {
   "cell_type": "markdown",
   "metadata": {},
   "source": [
    "https://morioh.com/p/095c00a10d95"
   ]
  },
  {
   "cell_type": "markdown",
   "metadata": {
    "ExecuteTime": {
     "end_time": "2019-11-21T00:31:50.616234Z",
     "start_time": "2019-11-21T00:31:50.592441Z"
    }
   },
   "source": [
    "还差用自己的话来讲"
   ]
  },
  {
   "cell_type": "code",
   "execution_count": null,
   "metadata": {
    "ExecuteTime": {
     "end_time": "2019-11-20T15:45:06.471380Z",
     "start_time": "2019-11-20T15:45:06.468423Z"
    }
   },
   "outputs": [],
   "source": [
    "import copy"
   ]
  },
  {
   "cell_type": "markdown",
   "metadata": {},
   "source": [
    "Does pointer exists in python?"
   ]
  },
  {
   "cell_type": "code",
   "execution_count": null,
   "metadata": {
    "ExecuteTime": {
     "end_time": "2019-11-20T15:45:07.839071Z",
     "start_time": "2019-11-20T15:45:07.821729Z"
    }
   },
   "outputs": [],
   "source": [
    "a = 1\n",
    "b = a\n",
    "a = 2\n",
    "print('a = ', a) \n",
    "print('b = ', b)\n",
    "\n",
    "print('------------------------------')\n",
    "\n",
    "a = [1, 2, 3]\n",
    "b = a\n",
    "b.append(4)\n",
    "print('a = ', a) \n",
    "print('b = ', b)\n",
    "\n",
    "print('------------------------------')\n",
    "\n",
    "\n",
    "c = copy.copy(a)\n",
    "c.append({'a': 'A'})\n",
    "print('hex(id(c)) == hex(id(a))', hex(id(c)) == hex(id(a)))\n",
    "print('a = ', a) \n",
    "print('b = ', b)\n",
    "print('c = ', c) \n",
    "print('------------------------------')\n",
    "\n",
    "d = copy.deepcopy(a)\n",
    "d.append(5)\n",
    "print('a = ', a) \n",
    "print('b = ', b)\n",
    "print('c = ', c) \n",
    "print('d = ', d)"
   ]
  },
  {
   "cell_type": "markdown",
   "metadata": {},
   "source": [
    "<span style=\"font-family:New York Times; font-size:1em; color:green;\">\n",
    "\n",
    "For simple lists such as a list of integers:\n",
    "* Use assignment = if you want the new changes to affect the original list.\n",
    "* Use shallow copy [:] if you don’t want the new changes to affect the original list.\n",
    "\n",
    "For compound objects (e.g. a list of lists):\n",
    "* Use assignment = if you want the new changes to affect the original list.\n",
    "* Use deep copy if you don’t want the new changes to affect the original list.\n",
    "\n",
    "Remember: deep copy makes sure that the newly copied object is not referenced to the original object in any way."
   ]
  },
  {
   "cell_type": "code",
   "execution_count": null,
   "metadata": {},
   "outputs": [],
   "source": [
    "i = [1,2,3,4]\n",
    "j = copy.copy(i)\n",
    "i[3]= 5\n",
    "j\n",
    "\n",
    "i = [1,2,3,4]\n",
    "j = i[:]\n",
    "i[3]= 5\n",
    "j\n",
    "\n",
    "\n",
    "\n",
    "i = [1,2,3,[4,5]]\n",
    "j = copy.copy(i)\n",
    "i[3].append(6)\n",
    "j\n",
    "\n",
    "i = [1,2,3,[4,5]] \n",
    "j = copy.deepcopy(i)\n",
    "i[3].append(6)\n",
    "j "
   ]
  },
  {
   "cell_type": "markdown",
   "metadata": {},
   "source": [
    "## Copying Arbitrary Python Objects"
   ]
  },
  {
   "cell_type": "code",
   "execution_count": null,
   "metadata": {},
   "outputs": [],
   "source": [
    "class Point:\n",
    "    def __init__(self, x, y):\n",
    "        self.x = x\n",
    "        self.y = y\n",
    "    def __repr__(self):\n",
    "        return 'Point(%r, %r)' % (self.x, self.y)"
   ]
  },
  {
   "cell_type": "code",
   "execution_count": null,
   "metadata": {},
   "outputs": [],
   "source": [
    "a = Point(23, 42)\n",
    "b = copy.copy(a)"
   ]
  },
  {
   "cell_type": "markdown",
   "metadata": {},
   "source": [
    "# pass a var by reference"
   ]
  },
  {
   "cell_type": "markdown",
   "metadata": {},
   "source": [
    "https://stackoverflow.com/questions/986006/how-do-i-pass-a-variable-by-reference\n",
    "* If you pass a mutable object into a method, the method gets a reference to that same object and you can mutate it to your heart's delight, but if you rebind the reference in the method, the outer scope will know nothing about it, and after you're done, the outer reference will still point at the original object.\n",
    "\n",
    "* If you pass an immutable object to a method, you still can't rebind the outer reference, and you can't even mutate the object."
   ]
  },
  {
   "cell_type": "code",
   "execution_count": null,
   "metadata": {
    "ExecuteTime": {
     "end_time": "2019-11-21T10:23:57.419615Z",
     "start_time": "2019-11-21T10:23:57.400060Z"
    }
   },
   "outputs": [],
   "source": [
    "student_dict = {'Archana': 28, 'krishna': 25}\n",
    "var_str = 'Give me great strength'\n",
    "\n",
    "def test1(student_dict, var_str):\n",
    "    new = {'alok': 30, 'Nevadan': 28}\n",
    "    student_dict.update(new)\n",
    "    var_str = \"As I feel shamed of my weakness\"\n",
    "    print(\"Inside : \", student_dict)\n",
    "    print(\"Inside : \", var_str)\n",
    "    return\n",
    "\n",
    "test1(student_dict, var_str)\n",
    "print(\"Outside : :\", student_dict)\n",
    "print(\"Outside : : \", var_str)\n",
    "\n",
    "\n",
    "student_dict = {'Archana': 28, 'krishna': 25}\n",
    "var_str = 'Give me great strength'\n",
    "\n",
    "def test2(student_dict, var_str):\n",
    "    tem = student_dict\n",
    "    new = {'alok': 30, 'Nevadan': 28}\n",
    "    tem.update(new)\n",
    "    tem2 = var_str\n",
    "    tem2 = \"As I feel shamed of my weakness\"\n",
    "    print(\"Inside : \", student_dict)\n",
    "    print(\"Inside : \", var_str)\n",
    "    return\n",
    "\n",
    "test2(student_dict, var_str)\n",
    "print(\"Outside : :\", student_dict)\n",
    "print(\"Outside : : \", var_str)"
   ]
  },
  {
   "cell_type": "markdown",
   "metadata": {},
   "source": [
    "# mutable vs immutable "
   ]
  },
  {
   "cell_type": "code",
   "execution_count": null,
   "metadata": {},
   "outputs": [],
   "source": [
    "x = set([1, 2, 3])\n",
    "y = x\n",
    "\n",
    "y |= set([4, 5, 6])\n",
    "y.__ior__({8})\n",
    "\n",
    "x is y \n",
    "x == y\n",
    "print(x)\n",
    "print(y)\n",
    "\n",
    "x = frozenset([1, 2, 3])\n",
    "y = x\n",
    "\n",
    "y |= set([4, 5, 6])\n",
    "\n",
    "x is y \n",
    "x == y\n",
    "print(x)\n",
    "print(y)"
   ]
  },
  {
   "cell_type": "markdown",
   "metadata": {},
   "source": [
    "http://www.pythonlearn.com/html-009/book011.html\n",
    "\n",
    "> Because tuples are hashable and lists are not, if we want to create a composite key to use in a dictionary we must use a tuple as the key.\n"
   ]
  },
  {
   "cell_type": "markdown",
   "metadata": {},
   "source": [
    "# Generate mixed string"
   ]
  },
  {
   "cell_type": "markdown",
   "metadata": {},
   "source": [
    "## Experiment: from bottom to up "
   ]
  },
  {
   "cell_type": "code",
   "execution_count": null,
   "metadata": {},
   "outputs": [],
   "source": [
    "import random\n",
    "a=list('asde')\n",
    "b=list('sxy')\n",
    "y = ''\n",
    "# only len(a)=0 and len(b)=0 makes the condition len(a)!=0 or len(b)!=0 false\n",
    "while len(a)!=0 or len(b)!=0:\n",
    "    x = random.choice([0,1])    \n",
    "    if x == 0:\n",
    "        if len(a) == 0:\n",
    "            pass\n",
    "        else:\n",
    "            y += a.pop()\n",
    "    else:\n",
    "        if len(b) == 0:\n",
    "            pass \n",
    "        else:\n",
    "            y += b.pop()\n",
    "y \n"
   ]
  },
  {
   "cell_type": "code",
   "execution_count": null,
   "metadata": {},
   "outputs": [],
   "source": [
    "x ='Instachat 😜'\n",
    "z=x.split()\n",
    "ord(z[1])"
   ]
  },
  {
   "cell_type": "markdown",
   "metadata": {},
   "source": [
    "## Abstraction: from top to bottom "
   ]
  },
  {
   "cell_type": "code",
   "execution_count": null,
   "metadata": {},
   "outputs": [],
   "source": [
    "def generateARandomMixedString(a, b):\n",
    "    a = list(a)\n",
    "    b = list(b)\n",
    "    y = ''\n",
    "    # only len(a)=0 and len(b)=0 makes the condition len(a)!=0 or len(b)!=0 false\n",
    "    while len(a)!=0 or len(b)!=0:\n",
    "        x = random.choice([0,1])    \n",
    "        if x == 0:\n",
    "            if len(a) == 0:\n",
    "                pass\n",
    "            else:\n",
    "                y += a.pop()\n",
    "        else:\n",
    "            if len(b) == 0:\n",
    "                pass \n",
    "            else:\n",
    "                y += b.pop()\n",
    "    return y[::-1]"
   ]
  },
  {
   "cell_type": "code",
   "execution_count": null,
   "metadata": {},
   "outputs": [],
   "source": [
    "a = 'dsdlkedlwks'\n",
    "b = 'kxsdjqjaqwaaw'\n",
    "generateARandomMixedString(a, b)"
   ]
  }
 ],
 "metadata": {
  "hide_input": false,
  "kernelspec": {
   "display_name": "Python 3",
   "language": "python",
   "name": "python3"
  },
  "language_info": {
   "codemirror_mode": {
    "name": "ipython",
    "version": 3
   },
   "file_extension": ".py",
   "mimetype": "text/x-python",
   "name": "python",
   "nbconvert_exporter": "python",
   "pygments_lexer": "ipython3",
   "version": "3.7.0"
  },
  "toc": {
   "base_numbering": 1,
   "nav_menu": {},
   "number_sections": true,
   "sideBar": true,
   "skip_h1_title": false,
   "title_cell": "Table of Contents",
   "title_sidebar": "Contents",
   "toc_cell": false,
   "toc_position": {
    "height": "calc(100% - 180px)",
    "left": "10px",
    "top": "150px",
    "width": "284.390625px"
   },
   "toc_section_display": true,
   "toc_window_display": true
  },
  "varInspector": {
   "cols": {
    "lenName": 16,
    "lenType": 16,
    "lenVar": 40
   },
   "kernels_config": {
    "python": {
     "delete_cmd_postfix": "",
     "delete_cmd_prefix": "del ",
     "library": "var_list.py",
     "varRefreshCmd": "print(var_dic_list())"
    },
    "r": {
     "delete_cmd_postfix": ") ",
     "delete_cmd_prefix": "rm(",
     "library": "var_list.r",
     "varRefreshCmd": "cat(var_dic_list()) "
    }
   },
   "types_to_exclude": [
    "module",
    "function",
    "builtin_function_or_method",
    "instance",
    "_Feature"
   ],
   "window_display": false
  }
 },
 "nbformat": 4,
 "nbformat_minor": 2
}
