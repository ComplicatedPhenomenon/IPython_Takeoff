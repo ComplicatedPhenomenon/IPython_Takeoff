{
 "cells": [
  {
   "cell_type": "code",
   "execution_count": null,
   "metadata": {},
   "outputs": [],
   "source": [
    "from IPython.core.interactiveshell import InteractiveShell\n",
    "InteractiveShell.ast_node_interactivity = 'all'"
   ]
  },
  {
   "cell_type": "markdown",
   "metadata": {},
   "source": [
    "# deep copy and shallow copy\n",
    "https://medium.com/@thawsitt/assignment-vs-shallow-copy-vs-deep-copy-in-python-f70c2f0ebd86"
   ]
  },
  {
   "cell_type": "markdown",
   "metadata": {},
   "source": [
    "https://realpython.com/copying-python-objects/"
   ]
  },
  {
   "cell_type": "code",
   "execution_count": null,
   "metadata": {},
   "outputs": [],
   "source": [
    "import copy"
   ]
  },
  {
   "cell_type": "code",
   "execution_count": null,
   "metadata": {},
   "outputs": [],
   "source": [
    "a = [1, 2, 3]\n",
    "b = a\n",
    "b.append(4)\n",
    "print('a = ', a) \n",
    "print('b = ', b)\n",
    "\n",
    "print('------------------------------')\n",
    "\n",
    "\n",
    "c = copy.copy(a)\n",
    "c.append({'a': 'A'})\n",
    "print('hex(id(c)) == hex(id(a))', hex(id(c)) == hex(id(a)))\n",
    "print('a = ', a) \n",
    "print('b = ', b)\n",
    "print('c = ', c) \n",
    "print('------------------------------')\n",
    "\n",
    "d = copy.deepcopy(a)\n",
    "d.append(5)\n",
    "print('a = ', a) \n",
    "print('b = ', b)\n",
    "print('c = ', c) \n",
    "print('d = ', d)"
   ]
  },
  {
   "cell_type": "markdown",
   "metadata": {},
   "source": [
    "<span style=\"font-family:New York Times; font-size:1em; color:green;\">\n",
    "\n",
    "For simple lists such as a list of integers:\n",
    "* Use assignment = if you want the new changes to affect the original list.\n",
    "* Use shallow copy [:] if you don’t want the new changes to affect the original list.\n",
    "\n",
    "For compound objects (e.g. a list of lists):\n",
    "* Use assignment = if you want the new changes to affect the original list.\n",
    "* Use deep copy if you don’t want the new changes to affect the original list.\n",
    "\n",
    "Remember: deep copy makes sure that the newly copied object is not referenced to the original object in any way."
   ]
  },
  {
   "cell_type": "code",
   "execution_count": null,
   "metadata": {},
   "outputs": [],
   "source": [
    "i = [1,2,3,4]\n",
    "j = copy.copy(i)\n",
    "i[3]= 5\n",
    "j\n",
    "\n",
    "i = [1,2,3,4]\n",
    "j = i[:]\n",
    "i[3]= 5\n",
    "j\n",
    "\n",
    "\n",
    "\n",
    "i = [1,2,3,[4,5]]\n",
    "j = copy.copy(i)\n",
    "i[3].append(6)\n",
    "j\n",
    "\n",
    "i = [1,2,3,[4,5]] \n",
    "j = copy.deepcopy(i)\n",
    "i[3].append(6)\n",
    "j "
   ]
  },
  {
   "cell_type": "markdown",
   "metadata": {},
   "source": [
    "## Copying Arbitrary Python Objects"
   ]
  },
  {
   "cell_type": "code",
   "execution_count": null,
   "metadata": {},
   "outputs": [],
   "source": [
    "class Point:\n",
    "    def __init__(self, x, y):\n",
    "        self.x = x\n",
    "        self.y = y\n",
    "    def __repr__(self):\n",
    "        return 'Point(%r, %r)' % (self.x, self.y)"
   ]
  },
  {
   "cell_type": "code",
   "execution_count": null,
   "metadata": {},
   "outputs": [],
   "source": [
    "a = Point(23, 42)\n",
    "b = copy.copy(a)"
   ]
  },
  {
   "cell_type": "markdown",
   "metadata": {},
   "source": [
    "# pass a var by reference\n",
    "https://stackoverflow.com/questions/986006/how-do-i-pass-a-variable-by-reference"
   ]
  },
  {
   "cell_type": "markdown",
   "metadata": {},
   "source": [
    "# mutable vs immutable "
   ]
  },
  {
   "cell_type": "markdown",
   "metadata": {},
   "source": [
    "<span style=\"font-family:New York Times; font-size:1em; color:green;\">\n",
    "When to use a dictionary vs tuple?"
   ]
  },
  {
   "cell_type": "code",
   "execution_count": null,
   "metadata": {},
   "outputs": [],
   "source": [
    "x = (1,2)"
   ]
  },
  {
   "cell_type": "markdown",
   "metadata": {},
   "source": [
    "http://www.pythonlearn.com/html-009/book011.html\n",
    "\n",
    "> Because tuples are hashable and lists are not, if we want to create a composite key to use in a dictionary we must use a tuple as the key.\n"
   ]
  },
  {
   "cell_type": "markdown",
   "metadata": {},
   "source": [
    "# Generate mixed string"
   ]
  },
  {
   "cell_type": "markdown",
   "metadata": {},
   "source": [
    "## Experiment: from bottom to up "
   ]
  },
  {
   "cell_type": "code",
   "execution_count": null,
   "metadata": {},
   "outputs": [],
   "source": [
    "import random\n",
    "a=list('asde')\n",
    "b=list('sxy')\n",
    "y = ''\n",
    "# only len(a)=0 and len(b)=0 makes the condition len(a)!=0 or len(b)!=0 false\n",
    "while len(a)!=0 or len(b)!=0:\n",
    "    x = random.choice([0,1])    \n",
    "    if x == 0:\n",
    "        if len(a) == 0:\n",
    "            pass\n",
    "        else:\n",
    "            y += a.pop()\n",
    "    else:\n",
    "        if len(b) == 0:\n",
    "            pass \n",
    "        else:\n",
    "            y += b.pop()\n",
    "y \n"
   ]
  },
  {
   "cell_type": "code",
   "execution_count": null,
   "metadata": {},
   "outputs": [],
   "source": [
    "x ='Instachat 😜'\n",
    "z=x.split()\n",
    "ord(z[1])"
   ]
  },
  {
   "cell_type": "markdown",
   "metadata": {},
   "source": [
    "## Abstraction: from top to bottom "
   ]
  },
  {
   "cell_type": "code",
   "execution_count": null,
   "metadata": {},
   "outputs": [],
   "source": [
    "def generateARandomMixedString(a, b):\n",
    "    a = list(a)\n",
    "    b = list(b)\n",
    "    y = ''\n",
    "    # only len(a)=0 and len(b)=0 makes the condition len(a)!=0 or len(b)!=0 false\n",
    "    while len(a)!=0 or len(b)!=0:\n",
    "        x = random.choice([0,1])    \n",
    "        if x == 0:\n",
    "            if len(a) == 0:\n",
    "                pass\n",
    "            else:\n",
    "                y += a.pop()\n",
    "        else:\n",
    "            if len(b) == 0:\n",
    "                pass \n",
    "            else:\n",
    "                y += b.pop()\n",
    "    return y[::-1]"
   ]
  },
  {
   "cell_type": "code",
   "execution_count": null,
   "metadata": {},
   "outputs": [],
   "source": [
    "a = 'dsdlkedlwks'\n",
    "b = 'kxsdjqjaqwaaw'\n",
    "generateARandomMixedString(a, b)"
   ]
  }
 ],
 "metadata": {
  "hide_input": false,
  "kernelspec": {
   "display_name": "Python 3",
   "language": "python",
   "name": "python3"
  },
  "language_info": {
   "codemirror_mode": {
    "name": "ipython",
    "version": 3
   },
   "file_extension": ".py",
   "mimetype": "text/x-python",
   "name": "python",
   "nbconvert_exporter": "python",
   "pygments_lexer": "ipython3",
   "version": "3.7.2"
  },
  "toc": {
   "base_numbering": 1,
   "nav_menu": {},
   "number_sections": true,
   "sideBar": true,
   "skip_h1_title": false,
   "title_cell": "Table of Contents",
   "title_sidebar": "Contents",
   "toc_cell": false,
   "toc_position": {
    "height": "calc(100% - 180px)",
    "left": "10px",
    "top": "150px",
    "width": "284.390625px"
   },
   "toc_section_display": true,
   "toc_window_display": true
  },
  "varInspector": {
   "cols": {
    "lenName": 16,
    "lenType": 16,
    "lenVar": 40
   },
   "kernels_config": {
    "python": {
     "delete_cmd_postfix": "",
     "delete_cmd_prefix": "del ",
     "library": "var_list.py",
     "varRefreshCmd": "print(var_dic_list())"
    },
    "r": {
     "delete_cmd_postfix": ") ",
     "delete_cmd_prefix": "rm(",
     "library": "var_list.r",
     "varRefreshCmd": "cat(var_dic_list()) "
    }
   },
   "types_to_exclude": [
    "module",
    "function",
    "builtin_function_or_method",
    "instance",
    "_Feature"
   ],
   "window_display": false
  }
 },
 "nbformat": 4,
 "nbformat_minor": 2
}
