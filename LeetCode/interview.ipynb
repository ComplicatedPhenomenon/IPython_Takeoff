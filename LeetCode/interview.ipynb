{
 "cells": [
  {
   "cell_type": "code",
   "execution_count": 16,
   "metadata": {},
   "outputs": [],
   "source": [
    "from IPython.core.interactiveshell import InteractiveShell\n",
    "InteractiveShell.ast_node_interactivity = 'all'"
   ]
  },
  {
   "cell_type": "code",
   "execution_count": 2,
   "metadata": {},
   "outputs": [
    {
     "data": {
      "text/plain": [
       "['X', 'X', 'X', 'A', 'X', 'X', 'X']"
      ]
     },
     "execution_count": 2,
     "metadata": {},
     "output_type": "execute_result"
    }
   ],
   "source": [
    "newlist = ['X', 'X', 'A', 'X', 'X', 'X', 'X']\n",
    "n = len(newlist)\n",
    "x = 0\n",
    "while x < n - 1:\n",
    "    if newlist[x] == 'A':\n",
    "        newlist[x] = 'X'\n",
    "        newlist[x + 1] = 'A'\n",
    "        x += 2\n",
    "    else:\n",
    "        x += 1\n",
    "newlist"
   ]
  },
  {
   "cell_type": "code",
   "execution_count": 20,
   "metadata": {},
   "outputs": [
    {
     "data": {
      "text/plain": [
       "[['g', 0], ['r', 1], ['o', 2], ['c', 3], ['e', 4], ['r', 5], ['y', 6]]"
      ]
     },
     "execution_count": 20,
     "metadata": {},
     "output_type": "execute_result"
    },
    {
     "data": {
      "text/plain": [
       "[0, 1, 2, 3, 4, 5, 6]"
      ]
     },
     "execution_count": 20,
     "metadata": {},
     "output_type": "execute_result"
    }
   ],
   "source": [
    "indexList = []  #list of stored indexes\n",
    "word = \"grocery\"  #could be any string, just using \"grocery\" as an example\n",
    "for i, char in enumerate(word):\n",
    "    indexList.append([char, i]) \n",
    "indexList \n",
    "\n",
    "indexList = [] \n",
    "for i, letter in enumerate(word):\n",
    "    index = word.find(letter, i)\n",
    "    indexList.append(index) \n",
    "indexList "
   ]
  },
  {
   "cell_type": "markdown",
   "metadata": {},
   "source": [
    "# deep copy and shallow copy"
   ]
  },
  {
   "cell_type": "code",
   "execution_count": null,
   "metadata": {},
   "outputs": [],
   "source": [
    "import copy"
   ]
  },
  {
   "cell_type": "code",
   "execution_count": null,
   "metadata": {},
   "outputs": [],
   "source": [
    "a = [1, 2, 3]\n",
    "b = a\n",
    "a.append(4)\n",
    "a, b\n",
    "hex(id(a))== hex(id(b)) \n",
    "a is b \n",
    "\n",
    "a.append({'a':'A'})\n",
    "c = copy.copy(a)\n",
    "hex(id(c)), hex(id(a)) \n",
    "c is a \n",
    "c == a \n",
    "a,b,c \n",
    "\n",
    "\n",
    "d = copy.deepcopy(a)\n",
    "d == a\n",
    "d is a \n",
    "hex(id(d)), hex(id(a))\n",
    "a.append(5)\n",
    "a,b,c,d "
   ]
  },
  {
   "cell_type": "markdown",
   "metadata": {},
   "source": [
    "<span style=\"font-family:New York Times; font-size:1em; color:green;\">\n",
    "    \n",
    "* Flat list using `copy`\n",
    "* Flat list using `deepcopy`\n",
    "* Nested list using `copy`\n",
    "* Nested list using `deepcopy`"
   ]
  },
  {
   "cell_type": "code",
   "execution_count": null,
   "metadata": {},
   "outputs": [],
   "source": [
    "i = [1,2,3,4]\n",
    "j = copy.copy(i)\n",
    "hex(id(i)), hex(id(j))\n",
    "hex(id(i[3])), hex(id(j[3]))\n",
    "i[3]= 5\n",
    "j\n",
    "i = [1,2,3,4] \n",
    "j = copy.deepcopy(i)\n",
    "hex(id(i)), hex(id(j))\n",
    "hex(id(i[3])), hex(id(j[3]))\n",
    "i[3]= 5\n",
    "j \n",
    "\n",
    "i = [1,2,3,[4,5]]\n",
    "j = copy.copy(i)\n",
    "hex(id(i)), hex(id(j))\n",
    "hex(id(i[3])), hex(id(j[3]))\n",
    "i[3].append(6)\n",
    "j\n",
    "i = [1,2,3,[4,5]] \n",
    "j = copy.deepcopy(i)\n",
    "hex(id(i)), hex(id(j))\n",
    "hex(id(i[3])), hex(id(j[3]))\n",
    "hex(id(i[2])), hex(id(j[2]))\n",
    "i[3].append(6)\n",
    "j "
   ]
  },
  {
   "cell_type": "code",
   "execution_count": null,
   "metadata": {},
   "outputs": [],
   "source": [
    "listdemo = [[]]*5\n",
    "hex(id(listdemo))\n",
    "hex(id(listdemo[0]))\n",
    "hex(id(listdemo[1]))"
   ]
  },
  {
   "cell_type": "code",
   "execution_count": null,
   "metadata": {},
   "outputs": [],
   "source": [
    "listdemo[0].append(1)\n",
    "listdemo\n",
    "hex(id(listdemo[0]))\n",
    "hex(id(listdemo[1]))"
   ]
  },
  {
   "cell_type": "code",
   "execution_count": null,
   "metadata": {},
   "outputs": [],
   "source": [
    "listdemo[2].append(2)\n",
    "listdemo\n",
    "hex(id(listdemo[0]))\n",
    "hex(id(listdemo[1]))\n",
    "hex(id(listdemo[0][0]))\n",
    "hex(id(listdemo[0][1]))"
   ]
  },
  {
   "cell_type": "code",
   "execution_count": null,
   "metadata": {},
   "outputs": [],
   "source": [
    "a = 7 if 4>5 else 8\n",
    "a "
   ]
  },
  {
   "cell_type": "code",
   "execution_count": null,
   "metadata": {},
   "outputs": [],
   "source": [
    "xlist = [0,1,2,3]\n",
    "xlist"
   ]
  },
  {
   "cell_type": "code",
   "execution_count": null,
   "metadata": {},
   "outputs": [],
   "source": [
    "xlist[0:2:3]"
   ]
  },
  {
   "cell_type": "code",
   "execution_count": null,
   "metadata": {},
   "outputs": [],
   "source": [
    "# Explanation on this!\n",
    "xlist[0:0]\n",
    "xlist[10::1] \n",
    "xlist[10:12:1] \n",
    "xlist[10::]\n",
    "xlist[::]\n",
    "xlist[-3:]\n",
    "xlist[-4:]"
   ]
  },
  {
   "cell_type": "code",
   "execution_count": null,
   "metadata": {},
   "outputs": [],
   "source": [
    "list_1 =[[600,700], [500,200], [100,250], [300,100]]\n",
    "list_2 = [[600,700,\"A\"], [500,600,\"B\"], [100,250,\"C\"]]"
   ]
  },
  {
   "cell_type": "code",
   "execution_count": null,
   "metadata": {},
   "outputs": [],
   "source": [
    "list_new = []\n",
    "for i in list_2:\n",
    "    for m in list_1:\n",
    "\n",
    "        if i[0]==m[0] and i[1]==m[1]:\n",
    "            list_new.append(i[2])\n",
    "            list_new.append(False)\n",
    "list_new"
   ]
  },
  {
   "cell_type": "markdown",
   "metadata": {},
   "source": [
    "# Interesting Problems from SO"
   ]
  },
  {
   "cell_type": "code",
   "execution_count": null,
   "metadata": {},
   "outputs": [],
   "source": [
    "{str(2*i)+'-'+str(2*i+1):0 for i in range(5)}"
   ]
  },
  {
   "cell_type": "code",
   "execution_count": null,
   "metadata": {},
   "outputs": [],
   "source": [
    "list1 = [[1,2,3],[4,5,6],[7,8,9],[10,11,12,13]]\n",
    "print([list(x) for x in zip(*list1)])\n",
    "len(list1)"
   ]
  },
  {
   "cell_type": "code",
   "execution_count": null,
   "metadata": {},
   "outputs": [],
   "source": [
    "list1 = [[1,2,3, 5],[4,5,6],[7,8,9,12],[10,11,12,5]]\n",
    "x = min([len(list1[i]) for i in range(len(list1))])    \n",
    "[[i[j] for i in list1] for j in range(x)]"
   ]
  },
  {
   "cell_type": "code",
   "execution_count": null,
   "metadata": {},
   "outputs": [],
   "source": [
    "x = ['a', 'b', 'c', 'a']\n",
    "x.reverse()\n",
    "x\n",
    "\n",
    "ex='The Man'\n",
    "reverse = ex[-1::-1]\n",
    "reverse"
   ]
  },
  {
   "cell_type": "code",
   "execution_count": null,
   "metadata": {},
   "outputs": [],
   "source": [
    "def convert(my_list):\n",
    "    string = ''.join(str(e) for e in my_list)\n",
    "    return int(string, 2)\n",
    "my_list = [0,1,0,1,1,1,0,0]\n",
    "result = convert(my_list)\n",
    "print(result)\n"
   ]
  },
  {
   "cell_type": "code",
   "execution_count": null,
   "metadata": {},
   "outputs": [],
   "source": [
    "\n",
    "my_list = [0,1,0,1,1,1,0,0]\n",
    "n = len(my_list)\n",
    "for i, e in enumerate(my_list):\n",
    "    x+=e*pow(2, n-i)\n",
    "x "
   ]
  },
  {
   "cell_type": "code",
   "execution_count": null,
   "metadata": {},
   "outputs": [],
   "source": [
    "\n",
    "a = time.time()\n",
    "my_list = [0,1,0,1,1,1,0,0]\n",
    "n = len(my_list)\n",
    "x = 0\n",
    "for i, e in enumerate(my_list):\n",
    "    x+=e*pow(2, n-i-1)\n",
    "x \n",
    "b = time.time()"
   ]
  },
  {
   "cell_type": "code",
   "execution_count": null,
   "metadata": {},
   "outputs": [],
   "source": [
    "import time \n",
    "a = time.time()\n",
    "my_list = [0,1,0,1,1,1,0,0,1,0,1,0,1,1,1,0,1,0,0,0,0,0]\n",
    "def convert(my_list):\n",
    "    n = len(my_list)\n",
    "    x = 0\n",
    "    for i, e in enumerate(my_list):\n",
    "        x+=e*pow(2, n-i-1)\n",
    "    return x \n",
    "convert(my_list)\n",
    "\n",
    "\n",
    "b = time.time()\n",
    "b - a"
   ]
  },
  {
   "cell_type": "code",
   "execution_count": null,
   "metadata": {},
   "outputs": [],
   "source": [
    "a = time.time()\n",
    "my_list = [0,1,0,1,1,1,0,0,1,0,1,0,1,1,1,0,1,0,0,0,0,0]\n",
    "def convert(my_list):\n",
    "    string = ''.join(str(e) for e in my_list)\n",
    "    return int(string, 2)\n",
    "convert(my_list)\n",
    "\n",
    "\n",
    "b = time.time()\n",
    "b - a"
   ]
  },
  {
   "cell_type": "code",
   "execution_count": null,
   "metadata": {},
   "outputs": [],
   "source": [
    "def anagram(a, b):\n",
    "    \n",
    "    a = ''.join(e for e in a if e.isalpha()).lower()\n",
    "    b = ''.join(e for e in b if e.isalpha()).lower()\n",
    "    return True if(sorted(a)==sorted(b)) else False\n",
    "a = \"Tom Cruise\"\n",
    "b = \"So I'm cuter\"\n",
    "anagram(a,b)\n"
   ]
  },
  {
   "cell_type": "code",
   "execution_count": null,
   "metadata": {},
   "outputs": [],
   "source": [
    "import re\n",
    "regex = re.compile('[^a-zA-Z]')\n",
    "return sorted(regex.sub('', a).lower()) == sorted(regex.sub('', b).lower())"
   ]
  },
  {
   "cell_type": "code",
   "execution_count": null,
   "metadata": {},
   "outputs": [],
   "source": [
    "# initialise the input with a non-empty list - Do NOT change the next line\n",
    "temperatures = [4.7, 3, 4.8]\n",
    "# set best_position to 0\n",
    "best_position = 0\n",
    "maxtemp = temperatures[0]\n",
    "# for each position from 1 to length of list – 1:\n",
    "for i in temperatures:\n",
    "    # if the item at position is better than the item at best_position: \n",
    "    if maxtemp<i:\n",
    "        maxtemp = i\n",
    "        # set best_position to position\n",
    "        best_position =\n",
    "# print best_position\n",
    "print(best_position, \": 00\")"
   ]
  },
  {
   "cell_type": "markdown",
   "metadata": {},
   "source": [
    "# Generate mixed string"
   ]
  },
  {
   "cell_type": "markdown",
   "metadata": {},
   "source": [
    "## Experiment: from bottom to up "
   ]
  },
  {
   "cell_type": "code",
   "execution_count": null,
   "metadata": {},
   "outputs": [],
   "source": [
    "import random\n",
    "a=list('asde')\n",
    "b=list('sxy')\n",
    "y = ''\n",
    "# only len(a)=0 and len(b)=0 makes the condition len(a)!=0 or len(b)!=0 false\n",
    "while len(a)!=0 or len(b)!=0:\n",
    "    x = random.choice([0,1])    \n",
    "    if x == 0:\n",
    "        if len(a) == 0:\n",
    "            pass\n",
    "        else:\n",
    "            y += a.pop()\n",
    "    else:\n",
    "        if len(b) == 0:\n",
    "            pass \n",
    "        else:\n",
    "            y += b.pop()\n",
    "y \n"
   ]
  },
  {
   "cell_type": "code",
   "execution_count": null,
   "metadata": {},
   "outputs": [],
   "source": [
    "x ='Instachat 😜'\n",
    "z=x.split()\n",
    "ord(z[1])\n",
    "\n"
   ]
  },
  {
   "cell_type": "markdown",
   "metadata": {},
   "source": [
    "## Abstraction: from top to bottom "
   ]
  },
  {
   "cell_type": "code",
   "execution_count": null,
   "metadata": {},
   "outputs": [],
   "source": [
    "def generateARandomMixedString(a, b):\n",
    "    a = list(a)\n",
    "    b = list(b)\n",
    "    y = ''\n",
    "    # only len(a)=0 and len(b)=0 makes the condition len(a)!=0 or len(b)!=0 false\n",
    "    while len(a)!=0 or len(b)!=0:\n",
    "        x = random.choice([0,1])    \n",
    "        if x == 0:\n",
    "            if len(a) == 0:\n",
    "                pass\n",
    "            else:\n",
    "                y += a.pop()\n",
    "        else:\n",
    "            if len(b) == 0:\n",
    "                pass \n",
    "            else:\n",
    "                y += b.pop()\n",
    "    return y[::-1]"
   ]
  },
  {
   "cell_type": "code",
   "execution_count": null,
   "metadata": {},
   "outputs": [],
   "source": [
    "a = 'dsdlkedlwks'\n",
    "b = 'kxsdjqjaqwaaw'\n",
    "generateARandomMixedString(a, b)"
   ]
  },
  {
   "cell_type": "code",
   "execution_count": null,
   "metadata": {},
   "outputs": [],
   "source": [
    "generateARandomMixedString(a, b)"
   ]
  },
  {
   "cell_type": "code",
   "execution_count": null,
   "metadata": {},
   "outputs": [],
   "source": [
    "generateARandomMixedString(a, b)"
   ]
  },
  {
   "cell_type": "markdown",
   "metadata": {},
   "source": [
    "After make statistics of the outcome, can you say the process of generating mixed string is truly random? "
   ]
  },
  {
   "cell_type": "markdown",
   "metadata": {},
   "source": [
    "List all the possibilities of a string coming out of 2 other string."
   ]
  },
  {
   "cell_type": "code",
   "execution_count": null,
   "metadata": {},
   "outputs": [],
   "source": [
    "a=list('asde')\n",
    "b=list('sxy')\n",
    "a.reverse()\n",
    "a \n",
    "b.reverse()\n",
    "b \n",
    "y = ''"
   ]
  },
  {
   "cell_type": "code",
   "execution_count": null,
   "metadata": {},
   "outputs": [],
   "source": [
    "y+a[0]+a[1]+a[2]+a[3]+b[0]+b[1]+b[2]\n",
    "y+a[0]+a[1]+b[2]+b[0]+a[3]+b[1]+b[2]\n",
    "y+a[0]+a[1]+b[2]+b[0]+b[1]+a[3]+b[2]"
   ]
  },
  {
   "cell_type": "markdown",
   "metadata": {},
   "source": [
    "List all the possibilities of combinations of characters."
   ]
  },
  {
   "cell_type": "code",
   "execution_count": null,
   "metadata": {},
   "outputs": [],
   "source": [
    "from itertools import combinations\n",
    "\n",
    "numbers = [1,2,3,4]\n",
    "string = ['a', 'b', 'c', 'd']\n",
    "for item in combinations(numbers, 4):\n",
    "    print(sorted(item))\n",
    "\n",
    "for item in combinations(string, 3):\n",
    "    print(sorted(item))"
   ]
  },
  {
   "cell_type": "code",
   "execution_count": null,
   "metadata": {},
   "outputs": [],
   "source": [
    "y + pop(a)+pop(a)+pop(a) + pop(b)+pop(b)"
   ]
  },
  {
   "cell_type": "code",
   "execution_count": null,
   "metadata": {},
   "outputs": [],
   "source": [
    "from itertools import product\n",
    "for i in product([0,1], repeat=5): \n",
    "    print(i)"
   ]
  },
  {
   "cell_type": "code",
   "execution_count": null,
   "metadata": {},
   "outputs": [],
   "source": [
    "a=list('asde')\n",
    "b=list('sxy')\n",
    "a.reverse()\n",
    "b.reverse()"
   ]
  },
  {
   "cell_type": "markdown",
   "metadata": {},
   "source": [
    "# [Heap sort ](https://www.interviewcake.com/concept/java/heapsort)\n",
    "* https://www.cs.princeton.edu/~wayne/kleinberg-tardos/pdf/DemoHeapify.pdf|"
   ]
  },
  {
   "cell_type": "code",
   "execution_count": null,
   "metadata": {},
   "outputs": [],
   "source": [
    "def heapify(nums, heap_size, root_index):  \n",
    "    # Assume the index of the largest element is the root index\n",
    "    largest = root_index\n",
    "    left_child = (2 * root_index) + 1\n",
    "    right_child = (2 * root_index) + 2\n",
    "\n",
    "    # If the left child of the root is a valid index, and the element is greater\n",
    "    # than the current largest element, then update the largest element\n",
    "    if left_child < heap_size and nums[left_child] > nums[largest]:\n",
    "        largest = left_child\n",
    "\n",
    "    # Do the same for the right child of the root\n",
    "    if right_child < heap_size and nums[right_child] > nums[largest]:\n",
    "        largest = right_child\n",
    "\n",
    "    # If the largest element is no longer the root element, swap them\n",
    "    if largest != root_index:\n",
    "        nums[root_index], nums[largest] = nums[largest], nums[root_index]\n",
    "        # Heapify the new root element to ensure it's the largest\n",
    "        # After the swap, make sure the node has been replaced by a new value fit the rule of a heap \n",
    "        #heapify(nums, heap_size, largest)\n",
    "\n",
    "\n",
    "def heap_sort(nums):  \n",
    "    n = len(nums)\n",
    "\n",
    "    # Create a Max Heap from the list\n",
    "    # The 2nd argument of range means we stop at the element before -1 i.e.\n",
    "    # the first element of the list.\n",
    "    # The 3rd argument of range means we iterate backwards, reducing the count\n",
    "    # of i by 1\n",
    "    for i in range(n-5, -1, -1):\n",
    "    #for i in range(n, -1, -1):\n",
    "    #for i in range(n):\n",
    "        heapify(nums, n, i)# Responsible for the element in the beginning root_index until it were placed in right position\n",
    "        # Repeate tom ake sure that every element is in the right spot.\n",
    "    # Move the root of the max heap to the end of the list \n",
    "    for i in range(n - 1, 0, -1):\n",
    "        nums[i], nums[0] = nums[0], nums[i]\n",
    "        heapify(nums, i, 0)\n",
    "\n",
    "\n",
    "# Verify it works\n",
    "random_list_of_nums = [35, 4, 35, 67, 9, 12, 43, 8, 51]  \n",
    "random_list_of_nums_1 = [i for i in range(7, 1, -1)]\n",
    "heap_sort(random_list_of_nums)  \n",
    "heap_sort(random_list_of_nums_1)\n",
    "print(random_list_of_nums)\n",
    "print(random_list_of_nums_1)"
   ]
  },
  {
   "cell_type": "code",
   "execution_count": null,
   "metadata": {},
   "outputs": [],
   "source": [
    "[i for i in range(7, 1, -1)]"
   ]
  },
  {
   "cell_type": "code",
   "execution_count": null,
   "metadata": {},
   "outputs": [],
   "source": [
    "random_list_of_nums = [17,16,13,15,14,11,9,14,13,13,11]  \n",
    "heap_sort(random_list_of_nums)  \n",
    "print(random_list_of_nums)"
   ]
  },
  {
   "cell_type": "code",
   "execution_count": null,
   "metadata": {},
   "outputs": [],
   "source": [
    "f = lambda: [i for i in range(3,-1,-1)]\n",
    "f() \n",
    "len(f())"
   ]
  },
  {
   "cell_type": "code",
   "execution_count": null,
   "metadata": {},
   "outputs": [],
   "source": [
    "def swap(i, j):                    \n",
    "    sqc[i], sqc[j] = sqc[j], sqc[i] \n",
    "\n",
    "def heapify(end,i):   \n",
    "    l=2 * i + 1  \n",
    "    r=2 * (i + 1)   \n",
    "    max=i   \n",
    "    if l < end and sqc[i] < sqc[l]:   \n",
    "        max = l   \n",
    "    if r < end and sqc[max] < sqc[r]:   \n",
    "        max = r   \n",
    "    if max != i:   \n",
    "        swap(i, max)   \n",
    "        heapify(end, max)   \n",
    "\n",
    "def heap_sort():     \n",
    "    end = len(sqc)   \n",
    "    start = end // 2 - 1 # use // instead of /\n",
    "    for i in range(start, -1, -1):   \n",
    "        heapify(end, i)   \n",
    "    for i in range(end-1, 0, -1):   \n",
    "        swap(i, 0)   \n",
    "        heapify(i, 0)   \n",
    "\n",
    "sqc = [2, 7, 1, -2, 56, 5, 3]\n",
    "heap_sort()\n",
    "print(sqc)"
   ]
  },
  {
   "cell_type": "code",
   "execution_count": 50,
   "metadata": {},
   "outputs": [],
   "source": []
  }
 ],
 "metadata": {
  "hide_input": false,
  "kernelspec": {
   "display_name": "Python 3",
   "language": "python",
   "name": "python3"
  },
  "language_info": {
   "codemirror_mode": {
    "name": "ipython",
    "version": 3
   },
   "file_extension": ".py",
   "mimetype": "text/x-python",
   "name": "python",
   "nbconvert_exporter": "python",
   "pygments_lexer": "ipython3",
   "version": "3.7.2"
  },
  "toc": {
   "base_numbering": 1,
   "nav_menu": {},
   "number_sections": true,
   "sideBar": true,
   "skip_h1_title": false,
   "title_cell": "Table of Contents",
   "title_sidebar": "Contents",
   "toc_cell": false,
   "toc_position": {},
   "toc_section_display": true,
   "toc_window_display": true
  },
  "varInspector": {
   "cols": {
    "lenName": 16,
    "lenType": 16,
    "lenVar": 40
   },
   "kernels_config": {
    "python": {
     "delete_cmd_postfix": "",
     "delete_cmd_prefix": "del ",
     "library": "var_list.py",
     "varRefreshCmd": "print(var_dic_list())"
    },
    "r": {
     "delete_cmd_postfix": ") ",
     "delete_cmd_prefix": "rm(",
     "library": "var_list.r",
     "varRefreshCmd": "cat(var_dic_list()) "
    }
   },
   "types_to_exclude": [
    "module",
    "function",
    "builtin_function_or_method",
    "instance",
    "_Feature"
   ],
   "window_display": false
  }
 },
 "nbformat": 4,
 "nbformat_minor": 2
}
