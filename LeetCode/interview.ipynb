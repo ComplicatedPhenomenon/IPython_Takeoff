{
 "cells": [
  {
   "cell_type": "code",
   "execution_count": 3,
   "metadata": {},
   "outputs": [],
   "source": [
    "from IPython.core.interactiveshell import InteractiveShell\n",
    "InteractiveShell.ast_node_interactivity = 'all'"
   ]
  },
  {
   "cell_type": "code",
   "execution_count": null,
   "metadata": {},
   "outputs": [],
   "source": [
    "def sortedSquares( A):\n",
    "    return list(sorted([pow(a,2) for a in A if a%2==0]))"
   ]
  },
  {
   "cell_type": "code",
   "execution_count": null,
   "metadata": {},
   "outputs": [],
   "source": [
    "sortedSquares([-4,-1,0,3,10])"
   ]
  },
  {
   "cell_type": "code",
   "execution_count": null,
   "metadata": {},
   "outputs": [],
   "source": [
    "def largestPerimeter( A):\n",
    "    A.sort()\n",
    "    n = len(A)\n",
    "    for i in range(1, n - 1):\n",
    "        if A[n - i - 2] + A[n - i - 1] > A[n - i]:\n",
    "            return A[n - i - 2] + A[n - i - 1] + A[n - i]\n",
    "    return 0"
   ]
  },
  {
   "cell_type": "code",
   "execution_count": null,
   "metadata": {},
   "outputs": [],
   "source": [
    "largestPerimeter([-4,-1,1,3,10,13])"
   ]
  },
  {
   "cell_type": "code",
   "execution_count": null,
   "metadata": {},
   "outputs": [],
   "source": [
    "1.2-1==0.2 # why?"
   ]
  },
  {
   "cell_type": "markdown",
   "metadata": {},
   "source": [
    "# deep copy and shallow copy"
   ]
  },
  {
   "cell_type": "code",
   "execution_count": null,
   "metadata": {},
   "outputs": [],
   "source": [
    "import copy"
   ]
  },
  {
   "cell_type": "code",
   "execution_count": null,
   "metadata": {},
   "outputs": [],
   "source": [
    "a = [1, 2, 3]\n",
    "b = a\n",
    "a.append(4)\n",
    "hex(id(a)), hex(id(b))  \n",
    "a, b\n",
    "\n",
    "a.append({'a':'A'})\n",
    "c = copy.copy(a)\n",
    "d == a\n",
    "hex(id(d)), hex(id(c)) \n",
    "c == a \n",
    "a,b,c \n",
    "\n",
    "\n",
    "d = copy.deepcopy(a)\n",
    "d == a\n",
    "hex(id(d)), hex(id(a))\n",
    "a.append(5)\n",
    "a,b,c,d "
   ]
  },
  {
   "cell_type": "markdown",
   "metadata": {},
   "source": [
    "<span style=\"font-family:New York Times; font-size:1em; color:green;\">\n",
    "    \n",
    "* Flat list using `copy`\n",
    "* Flat list using `deepcopy`\n",
    "* Nested list using `copy`\n",
    "* Nested list using `deepcopy`"
   ]
  },
  {
   "cell_type": "code",
   "execution_count": null,
   "metadata": {},
   "outputs": [],
   "source": [
    "i = [1,2,3,4]\n",
    "j = copy.copy(i)\n",
    "hex(id(i)), hex(id(j))\n",
    "hex(id(i[3])), hex(id(j[3]))\n",
    "i[3]= 5\n",
    "j\n",
    "i = [1,2,3,4] \n",
    "j = copy.deepcopy(i)\n",
    "hex(id(i)), hex(id(j))\n",
    "hex(id(i[3])), hex(id(j[3]))\n",
    "i[3]= 5\n",
    "j \n",
    "\n",
    "i = [1,2,3,[4,5]]\n",
    "j = copy.copy(i)\n",
    "hex(id(i)), hex(id(j))\n",
    "hex(id(i[3])), hex(id(j[3]))\n",
    "i[3].append(6)\n",
    "j\n",
    "i = [1,2,3,[4,5]] \n",
    "j = copy.deepcopy(i)\n",
    "hex(id(i)), hex(id(j))\n",
    "hex(id(i[3])), hex(id(j[3]))\n",
    "hex(id(i[2])), hex(id(j[2]))\n",
    "i[3].append(6)\n",
    "j "
   ]
  },
  {
   "cell_type": "code",
   "execution_count": null,
   "metadata": {},
   "outputs": [],
   "source": [
    "listdemo = [[]]*5\n",
    "hex(id(listdemo))\n",
    "hex(id(listdemo[0]))\n",
    "hex(id(listdemo[1]))"
   ]
  },
  {
   "cell_type": "code",
   "execution_count": null,
   "metadata": {},
   "outputs": [],
   "source": [
    "listdemo[0].append(1)\n",
    "listdemo\n",
    "hex(id(listdemo[0]))\n",
    "hex(id(listdemo[1]))"
   ]
  },
  {
   "cell_type": "code",
   "execution_count": null,
   "metadata": {},
   "outputs": [],
   "source": [
    "listdemo[2].append(2)\n",
    "listdemo\n",
    "hex(id(listdemo[0][0]))\n",
    "hex(id(listdemo[0][1]))"
   ]
  },
  {
   "cell_type": "code",
   "execution_count": null,
   "metadata": {},
   "outputs": [],
   "source": [
    "a = 7 if 4>5 else 8\n",
    "a "
   ]
  },
  {
   "cell_type": "code",
   "execution_count": null,
   "metadata": {},
   "outputs": [],
   "source": [
    "xlist = [0,1,2,3]\n",
    "xlist"
   ]
  },
  {
   "cell_type": "code",
   "execution_count": null,
   "metadata": {},
   "outputs": [],
   "source": [
    "xlist[0:2:3]"
   ]
  },
  {
   "cell_type": "code",
   "execution_count": null,
   "metadata": {},
   "outputs": [],
   "source": [
    "# Explanation on this!\n",
    "xlist[0:0]\n",
    "xlist[10::1] \n",
    "xlist[10:12:1] \n",
    "xlist[10::]\n",
    "xlist[::]\n",
    "xlist[-3:]\n",
    "xlist[-4:]"
   ]
  },
  {
   "cell_type": "markdown",
   "metadata": {},
   "source": [
    "## string to list "
   ]
  },
  {
   "cell_type": "code",
   "execution_count": null,
   "metadata": {},
   "outputs": [],
   "source": [
    "x = list('asd')\n",
    "x.pop()\n",
    "x"
   ]
  },
  {
   "cell_type": "code",
   "execution_count": null,
   "metadata": {},
   "outputs": [],
   "source": [
    "for i in x"
   ]
  },
  {
   "cell_type": "code",
   "execution_count": null,
   "metadata": {},
   "outputs": [],
   "source": [
    "def strlist(x):\n",
    "    z = ''\n",
    "    for i in x:\n",
    "        z += i\n",
    "    return z "
   ]
  },
  {
   "cell_type": "code",
   "execution_count": null,
   "metadata": {},
   "outputs": [],
   "source": [
    "a='asde'\n",
    "b='sxy'\n",
    "s='assxdye'\n",
    "s[0:2]\n",
    "s[0:1] == s[0]   "
   ]
  },
  {
   "cell_type": "markdown",
   "metadata": {},
   "source": [
    "if true\n",
    "* s[0] = a[0] or b[0]\n",
    "* s[0:n] = a[0:m] + b[n-m+1]\n",
    "* s[0:n+1] = s[0:n]+a[m] or s[0:n] + b[n-m+2]"
   ]
  },
  {
   "cell_type": "code",
   "execution_count": null,
   "metadata": {},
   "outputs": [],
   "source": [
    "def fakefunc(a,b,s):\n",
    "    if s[0:1] == a[0:1]:\n",
    "    "
   ]
  },
  {
   "cell_type": "code",
   "execution_count": null,
   "metadata": {},
   "outputs": [],
   "source": [
    "import random"
   ]
  },
  {
   "cell_type": "code",
   "execution_count": null,
   "metadata": {},
   "outputs": [],
   "source": [
    "random.choice([a,b])"
   ]
  },
  {
   "cell_type": "code",
   "execution_count": null,
   "metadata": {},
   "outputs": [],
   "source": [
    "random.choice([0,1])"
   ]
  },
  {
   "cell_type": "markdown",
   "metadata": {},
   "source": [
    "## Reverse a list"
   ]
  },
  {
   "cell_type": "markdown",
   "metadata": {},
   "source": [
    "### Advanced function"
   ]
  },
  {
   "cell_type": "code",
   "execution_count": null,
   "metadata": {},
   "outputs": [],
   "source": [
    "x = ['a', 'b', 'c', 'a']\n",
    "x.reverse()\n",
    "x\n",
    "x[-1:-5:-1]\n",
    "x[-1: :-1]"
   ]
  },
  {
   "cell_type": "markdown",
   "metadata": {},
   "source": [
    "### More lower level function"
   ]
  },
  {
   "cell_type": "code",
   "execution_count": null,
   "metadata": {},
   "outputs": [],
   "source": [
    "x "
   ]
  },
  {
   "cell_type": "code",
   "execution_count": null,
   "metadata": {},
   "outputs": [],
   "source": [
    "x[0]"
   ]
  },
  {
   "cell_type": "markdown",
   "metadata": {},
   "source": [
    "## Experiment: from bottom to up "
   ]
  },
  {
   "cell_type": "code",
   "execution_count": null,
   "metadata": {},
   "outputs": [],
   "source": [
    "a=list('asde')\n",
    "b=list('sxy')\n",
    "y = ''\n",
    "# only len(a)=0 and len(b)=0 makes the condition len(a)!=0 or len(b)!=0 false\n",
    "while len(a)!=0 or len(b)!=0:\n",
    "    x = random.choice([0,1])    \n",
    "    if x == 0:\n",
    "        if len(a) == 0:\n",
    "            pass\n",
    "        else:\n",
    "            y += a.pop()\n",
    "    else:\n",
    "        if len(b) == 0:\n",
    "            pass \n",
    "        else:\n",
    "            y += b.pop()\n",
    "y \n"
   ]
  },
  {
   "cell_type": "markdown",
   "metadata": {},
   "source": [
    "## Abstraction: from top to bottom "
   ]
  },
  {
   "cell_type": "code",
   "execution_count": null,
   "metadata": {},
   "outputs": [],
   "source": [
    "def generateARandomMixedString(a, b):\n",
    "    a = list(a)\n",
    "    b = list(b)\n",
    "    y = ''\n",
    "    # only len(a)=0 and len(b)=0 makes the condition len(a)!=0 or len(b)!=0 false\n",
    "    while len(a)!=0 or len(b)!=0:\n",
    "        x = random.choice([0,1])    \n",
    "        if x == 0:\n",
    "            if len(a) == 0:\n",
    "                pass\n",
    "            else:\n",
    "                y += a.pop()\n",
    "        else:\n",
    "            if len(b) == 0:\n",
    "                pass \n",
    "            else:\n",
    "                y += b.pop()\n",
    "    return y[::-1]"
   ]
  },
  {
   "cell_type": "code",
   "execution_count": null,
   "metadata": {},
   "outputs": [],
   "source": [
    "a = 'dsdlkedlwks'\n",
    "b = 'kxsdjqjaqwaaw'\n",
    "generateARandomMixedString(a, b)"
   ]
  },
  {
   "cell_type": "code",
   "execution_count": null,
   "metadata": {},
   "outputs": [],
   "source": [
    "generateARandomMixedString(a, b)"
   ]
  },
  {
   "cell_type": "code",
   "execution_count": null,
   "metadata": {},
   "outputs": [],
   "source": [
    "generateARandomMixedString(a, b)"
   ]
  },
  {
   "cell_type": "markdown",
   "metadata": {},
   "source": [
    "After make statistics of the outcome, can you say the process of generating mixed string is truly random? "
   ]
  },
  {
   "cell_type": "markdown",
   "metadata": {},
   "source": [
    "List all the possibilities of a string coming out of 2 other string."
   ]
  },
  {
   "cell_type": "code",
   "execution_count": null,
   "metadata": {},
   "outputs": [],
   "source": [
    "a=list('asde')\n",
    "b=list('sxy')\n",
    "a.reverse()\n",
    "a \n",
    "b.reverse()\n",
    "b \n",
    "y = ''"
   ]
  },
  {
   "cell_type": "code",
   "execution_count": null,
   "metadata": {},
   "outputs": [],
   "source": [
    "y+a[0]+a[1]+a[2]+a[3]+b[0]+b[1]+b[2]\n",
    "y+a[0]+a[1]+b[2]+b[0]+a[3]+b[1]+b[2]\n",
    "y+a[0]+a[1]+b[2]+b[0]+b[1]+a[3]+b[2]"
   ]
  },
  {
   "cell_type": "markdown",
   "metadata": {},
   "source": [
    "List all the possibilities of combinations of characters."
   ]
  },
  {
   "cell_type": "code",
   "execution_count": null,
   "metadata": {},
   "outputs": [],
   "source": [
    "[1,2,3]+['a','b','c']\n",
    "        "
   ]
  },
  {
   "cell_type": "code",
   "execution_count": null,
   "metadata": {},
   "outputs": [],
   "source": [
    "from itertools import combinations\n",
    "\n",
    "numbers = [1,2,3,4]\n",
    "string = ['a', 'b', 'c', 'd']\n",
    "for item in combinations(numbers, 4):\n",
    "    print(sorted(item))\n",
    "\n",
    "for item in combinations(string, 3):\n",
    "    print(sorted(item))"
   ]
  },
  {
   "cell_type": "code",
   "execution_count": null,
   "metadata": {},
   "outputs": [],
   "source": [
    "y + pop(a)+pop(a)+pop(a) + pop(b)+pop(b)"
   ]
  },
  {
   "cell_type": "code",
   "execution_count": null,
   "metadata": {},
   "outputs": [],
   "source": [
    "from itertools import product\n",
    "for i in product([0,1], repeat=5): \n",
    "    print(i)"
   ]
  },
  {
   "cell_type": "code",
   "execution_count": null,
   "metadata": {},
   "outputs": [],
   "source": [
    "a=list('asde')\n",
    "b=list('sxy')\n",
    "a.reverse()\n",
    "b.reverse()"
   ]
  },
  {
   "cell_type": "markdown",
   "metadata": {},
   "source": [
    "## Default parameters"
   ]
  },
  {
   "cell_type": "code",
   "execution_count": null,
   "metadata": {},
   "outputs": [],
   "source": [
    "def xx(x,lista =[]):\n",
    "    lista."
   ]
  },
  {
   "cell_type": "code",
   "execution_count": null,
   "metadata": {},
   "outputs": [],
   "source": [
    "a = []\n",
    "a.append(2)"
   ]
  },
  {
   "cell_type": "code",
   "execution_count": null,
   "metadata": {},
   "outputs": [],
   "source": [
    "a "
   ]
  },
  {
   "cell_type": "code",
   "execution_count": null,
   "metadata": {},
   "outputs": [],
   "source": [
    "[[]]*5"
   ]
  },
  {
   "cell_type": "code",
   "execution_count": null,
   "metadata": {},
   "outputs": [],
   "source": [
    "'a' * 5"
   ]
  },
  {
   "cell_type": "markdown",
   "metadata": {},
   "source": [
    "# Bubble sort"
   ]
  },
  {
   "cell_type": "code",
   "execution_count": null,
   "metadata": {},
   "outputs": [],
   "source": [
    "def bubble_sort(nums):  \n",
    "    # We set swapped to True so the loop looks runs at least once\n",
    "    swapped = True\n",
    "    while swapped:\n",
    "        swapped = False\n",
    "        for i in range(len(nums) - 1):\n",
    "            if nums[i] > nums[i + 1]:\n",
    "                # Swap the elements\n",
    "                nums[i], nums[i + 1] = nums[i + 1], nums[i]\n",
    "                # Set the flag to True so we'll loop again\n",
    "                swapped = True\n",
    "\n",
    "\n",
    "# Verify it works\n",
    "random_list_of_nums = [5, 2, 1, 8, 4]  \n",
    "bubble_sort(random_list_of_nums)  \n",
    "print(random_list_of_nums) "
   ]
  },
  {
   "cell_type": "code",
   "execution_count": null,
   "metadata": {},
   "outputs": [],
   "source": [
    "waitingList = [1,2,2,97832,23,3,2]\n",
    "bubble_sort(waitingList)\n",
    "waitingList"
   ]
  },
  {
   "cell_type": "markdown",
   "metadata": {},
   "source": [
    "## Time complexity for bubble sort "
   ]
  },
  {
   "cell_type": "markdown",
   "metadata": {},
   "source": [
    "In the worst case scenario (when the list is in reverse order)\n",
    "\n"
   ]
  },
  {
   "cell_type": "markdown",
   "metadata": {},
   "source": [
    "## Space complexity for bubble sort "
   ]
  },
  {
   "cell_type": "code",
   "execution_count": null,
   "metadata": {},
   "outputs": [],
   "source": [
    "def selection_sort(nums):  \n",
    "    # This value of i corresponds to how many values were sorted\n",
    "    for i in range(len(nums)):\n",
    "        # We assume that the first item of the unsorted segment is the smallest\n",
    "        lowest_value_index = i\n",
    "        # This loop iterates over the unsorted items\n",
    "        for j in range(i + 1, len(nums)):\n",
    "            if nums[j] < nums[lowest_value_index]:\n",
    "                lowest_value_index = j\n",
    "        # Swap values of the lowest unsorted element with the first unsorted\n",
    "        # element\n",
    "        nums[i], nums[lowest_value_index] = nums[lowest_value_index], nums[i]\n",
    "\n",
    "\n",
    "# Verify it works\n",
    "random_list_of_nums = [12, 8, 3, 20, 11]  \n",
    "selection_sort(random_list_of_nums)  \n",
    "print(random_list_of_nums)  "
   ]
  },
  {
   "cell_type": "markdown",
   "metadata": {},
   "source": [
    "The amount of comparisons are $(n - 1) + (n - 2) + ... + 1$, which gives the Selection Sort a time complexity of $O(n^2)$."
   ]
  },
  {
   "cell_type": "markdown",
   "metadata": {},
   "source": [
    "# [Heap sort ](https://www.interviewcake.com/concept/java/heapsort)"
   ]
  },
  {
   "cell_type": "code",
   "execution_count": null,
   "metadata": {},
   "outputs": [],
   "source": [
    "def heapify(nums, heap_size, root_index):  \n",
    "    # Assume the index of the largest element is the root index\n",
    "    largest = root_index\n",
    "    left_child = (2 * root_index) + 1\n",
    "    right_child = (2 * root_index) + 2\n",
    "\n",
    "    # If the left child of the root is a valid index, and the element is greater\n",
    "    # than the current largest element, then update the largest element\n",
    "    if left_child < heap_size and nums[left_child] > nums[largest]:\n",
    "        largest = left_child\n",
    "\n",
    "    # Do the same for the right child of the root\n",
    "    if right_child < heap_size and nums[right_child] > nums[largest]:\n",
    "        largest = right_child\n",
    "\n",
    "    # If the largest element is no longer the root element, swap them\n",
    "    if largest != root_index:\n",
    "        nums[root_index], nums[largest] = nums[largest], nums[root_index]\n",
    "        # Heapify the new root element to ensure it's the largest\n",
    "        # After the swap, make sure the node has been replaced by a new value fit the rule of a heap \n",
    "        heapify(nums, heap_size, largest)\n",
    "\n",
    "\n",
    "def heap_sort(nums):  \n",
    "    n = len(nums)\n",
    "\n",
    "    # Create a Max Heap from the list\n",
    "    # The 2nd argument of range means we stop at the element before -1 i.e.\n",
    "    # the first element of the list.\n",
    "    # The 3rd argument of range means we iterate backwards, reducing the count\n",
    "    # of i by 1\n",
    "    for i in range(n, -1, -1):\n",
    "    #for i in range(n):\n",
    "        heapify(nums, n, i)\n",
    "\n",
    "    # Move the root of the max heap to the end of the list \n",
    "    for i in range(n - 1, 0, -1):\n",
    "        nums[i], nums[0] = nums[0], nums[i]\n",
    "        heapify(nums, i, 0)\n",
    "\n",
    "\n",
    "# Verify it works\n",
    "random_list_of_nums = [35, 4, 35, 67, 9, 12, 43, 8, 51]  \n",
    "heap_sort(random_list_of_nums)  \n",
    "print(random_list_of_nums)"
   ]
  },
  {
   "cell_type": "code",
   "execution_count": null,
   "metadata": {},
   "outputs": [],
   "source": [
    "random_list_of_nums = [17,16,13,15,14,11,9,14,13,13,11]  \n",
    "heap_sort(random_list_of_nums)  \n",
    "print(random_list_of_nums)"
   ]
  },
  {
   "cell_type": "code",
   "execution_count": null,
   "metadata": {},
   "outputs": [],
   "source": [
    "f = lambda: [i for i in range(3,-1,-1)]\n",
    "f() "
   ]
  },
  {
   "cell_type": "code",
   "execution_count": null,
   "metadata": {},
   "outputs": [],
   "source": [
    "f = lambda: (i for i in range(3,-1,-1))"
   ]
  },
  {
   "cell_type": "code",
   "execution_count": null,
   "metadata": {},
   "outputs": [],
   "source": [
    "f()"
   ]
  },
  {
   "cell_type": "code",
   "execution_count": null,
   "metadata": {},
   "outputs": [],
   "source": []
  }
 ],
 "metadata": {
  "hide_input": false,
  "kernelspec": {
   "display_name": "Python 3",
   "language": "python",
   "name": "python3"
  },
  "language_info": {
   "codemirror_mode": {
    "name": "ipython",
    "version": 3
   },
   "file_extension": ".py",
   "mimetype": "text/x-python",
   "name": "python",
   "nbconvert_exporter": "python",
   "pygments_lexer": "ipython3",
   "version": "3.7.2"
  },
  "toc": {
   "base_numbering": 1,
   "nav_menu": {},
   "number_sections": true,
   "sideBar": true,
   "skip_h1_title": false,
   "title_cell": "Table of Contents",
   "title_sidebar": "Contents",
   "toc_cell": false,
   "toc_position": {},
   "toc_section_display": true,
   "toc_window_display": false
  },
  "varInspector": {
   "cols": {
    "lenName": 16,
    "lenType": 16,
    "lenVar": 40
   },
   "kernels_config": {
    "python": {
     "delete_cmd_postfix": "",
     "delete_cmd_prefix": "del ",
     "library": "var_list.py",
     "varRefreshCmd": "print(var_dic_list())"
    },
    "r": {
     "delete_cmd_postfix": ") ",
     "delete_cmd_prefix": "rm(",
     "library": "var_list.r",
     "varRefreshCmd": "cat(var_dic_list()) "
    }
   },
   "types_to_exclude": [
    "module",
    "function",
    "builtin_function_or_method",
    "instance",
    "_Feature"
   ],
   "window_display": false
  }
 },
 "nbformat": 4,
 "nbformat_minor": 2
}
