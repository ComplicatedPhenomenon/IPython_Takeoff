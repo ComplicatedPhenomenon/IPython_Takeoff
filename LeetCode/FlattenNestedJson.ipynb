{
 "cells": [
  {
   "cell_type": "code",
   "execution_count": null,
   "metadata": {},
   "outputs": [],
   "source": [
    "from IPython.core.interactiveshell import InteractiveShell\n",
    "InteractiveShell.ast_node_interactivity = \"all\""
   ]
  },
  {
   "cell_type": "markdown",
   "metadata": {},
   "source": [
    "# `json`"
   ]
  },
  {
   "cell_type": "markdown",
   "metadata": {},
   "source": [
    "https://stackoverflow.com/questions/57556028/fetch-all-dictionary-if-given-key-and-value-matches-in-from-a-list-of-dictionary/57556281#57556281"
   ]
  },
  {
   "cell_type": "code",
   "execution_count": null,
   "metadata": {},
   "outputs": [],
   "source": [
    "x = \"\"\" [{\n",
    "    \"sqlFile\":\n",
    "    \"test.sql\",\n",
    "    \"noOfStatements\":\n",
    "    3,\n",
    "    \"allQueries\":\n",
    "    \"queries\",\n",
    "    \"sqlOperations\": [{\n",
    "        \"type\": \"CreateTable\",\n",
    "        \"objectName\": \"objectname1\",\n",
    "        \"schemaName\": null\n",
    "    }, {\n",
    "        \"type\": \"CreateTable\",\n",
    "        \"objectName\": \"objectname2\",\n",
    "        \"schemaName\": null\n",
    "    }, {\n",
    "        \"type\": \"DROP\",\n",
    "        \"objectName\": \"objectname3\",\n",
    "        \"schemaName\": null\n",
    "    }]\n",
    "}]\"\"\"\n",
    "import json\n",
    "x = json.loads(x)\n",
    "a = x[0][\"sqlOperations\"][0:2]\n",
    "print(json.dumps(a, indent=4))"
   ]
  },
  {
   "cell_type": "markdown",
   "metadata": {},
   "source": [
    "https://stackoverflow.com/questions/57747206/pythonflask-vary-hard-sort-clothing-sort"
   ]
  },
  {
   "cell_type": "code",
   "execution_count": null,
   "metadata": {},
   "outputs": [],
   "source": [
    "x = '''[\n",
    "    {\n",
    "        \"product_variants\": [\n",
    "            {\n",
    "                \"id\": 1669,\n",
    "\"attributes\": [\n",
    "                    {\n",
    "                        \"name\": \"size\",\n",
    "                        \"value\": \"XXS\"\n",
    "                    },\n",
    "                    {\n",
    "                        \"name\": \"color\",\n",
    "                        \"value\": \"Pink\"\n",
    "                    }\n",
    "                ]\n",
    "    },{\n",
    "                \"id\": 1670,\n",
    "\"attributes\": [\n",
    "                    {\n",
    "                        \"name\": \"size\",\n",
    "                        \"value\": \"XS\"\n",
    "                    },\n",
    "                    {\n",
    "                        \"name\": \"color\",\n",
    "                        \"value\": \"Black\"\n",
    "                    }\n",
    "                ]\n",
    "    }]}]'''\n",
    "x = json.loads(x)\n",
    "sort_order = ['XXXS', 'XXS', 'XS', 'S', 'M', 'L', 'XL', '2XL', '3XL', '4XL', '5XL', '6XL']\n",
    "order = dict(zip(sort_order, list(range(len(sort_order)))))\n",
    "p = x[0]['product_variants']\n",
    "sorted(p, key=lambda item: order[item['attributes'][0]['value']])"
   ]
  },
  {
   "cell_type": "code",
   "execution_count": null,
   "metadata": {},
   "outputs": [],
   "source": [
    "import json\n",
    "with open('path_to_file/xx.json') as f:\n",
    "    x = json.load(f)\n",
    "p = x[0]['product_variants']\n",
    "sort_order = ['XXXS', 'XXS', 'XS', 'S', 'M', 'L', 'XL', '2XL', '3XL', '4XL', '5XL', '6XL']\n",
    "order = dict(zip(sort_order, list(range(len(sort_order)))))\n",
    "sorted(p, key=lambda item: order[item['attributes'][0]['value']])"
   ]
  },
  {
   "cell_type": "code",
   "execution_count": null,
   "metadata": {},
   "outputs": [],
   "source": [
    "x = \"\"\"{\n",
    "    \"name\": \"gaming_companies\",\n",
    "    \"columns\": [{\n",
    "            \"name\": \"publisher\",\n",
    "            \"type\": \"string\",\n",
    "            \"cleansing\": [\"clean_string\"]\n",
    "        },\n",
    "        {\n",
    "            \"name\": \"genre\",\n",
    "            \"type\": \"string\",\n",
    "            \"cleansing\": [\"match_genre\", \"clean_string\"]\n",
    "        },\n",
    "        {\n",
    "            \"name\": \"sales\",\n",
    "            \"type\": \"int\",\n",
    "            \"cleansing\": []\n",
    "        }\n",
    "    ]\n",
    "}\"\"\"\n",
    "x = json.loads(x)\n",
    "for i in x['columns']:\n",
    "    print(i['name'])\n",
    "    print(\"cleansing:\")\n",
    "    for j in i[\"cleansing\"]:\n",
    "        print(j)\n",
    "    print('\\n')\n",
    "\"\"\"\n",
    "publisher\n",
    "cleansing:\n",
    "clean_string\n",
    "\n",
    "\n",
    "genre\n",
    "cleansing:\n",
    "match_genre\n",
    "clean_string\n",
    "\n",
    "\n",
    "sales\n",
    "cleansing:\n",
    "\"\"\""
   ]
  },
  {
   "cell_type": "code",
   "execution_count": null,
   "metadata": {},
   "outputs": [],
   "source": [
    "x =  {'date': {'s': '2019-04-20'},\n",
    " 'name': {'s': 'www.mywebsite.com'},\n",
    " 'products': {'m': {'13128': {'m': {'quantity': {'s': '1'},\n",
    "     'price': {'n': '799'}}}}}}\n",
    "\n",
    "\n",
    "def convert(x):\n",
    "    k = list(x.keys())[0]\n",
    "    if k in ['s', 'm', 'n']: \n",
    "        return x[k]\n",
    "    else:\n",
    "        return x\n",
    "\n",
    "for i, v in x.items():\n",
    "    x[i] = convert(v) \n",
    "\n",
    "for i, v in x['products'].items():\n",
    "    x['products'][i] = convert(v)\n",
    "\n",
    "for _, v in x['products'].items():\n",
    "    for i1, v1 in v.items():\n",
    "        v[i1] = convert(v1)\n",
    "x "
   ]
  },
  {
   "cell_type": "markdown",
   "metadata": {},
   "source": [
    "# Manipulation on a data structure "
   ]
  },
  {
   "cell_type": "code",
   "execution_count": null,
   "metadata": {},
   "outputs": [],
   "source": [
    "def flatDL(dictlist):\n",
    "    x = {}\n",
    "    for index, item in dictlist.items():\n",
    "        for o,  a in enumerate(item):\n",
    "            x[str(index)+str(o)]=a \n",
    "    return x "
   ]
  },
  {
   "cell_type": "markdown",
   "metadata": {},
   "source": [
    "```json\n",
    "nested_json = {\n",
    "    \"a\": 1,\n",
    "    \"b\": [35, 26],\n",
    "    \"c\": [{\"d\": [2, 3, 4], \"e\": [{\"f\": 1,\"g\": 2}]}],\n",
    "    \"h\": {}\n",
    "    }\n",
    "flatten_json=\n",
    "{'a': 1,\n",
    " 'b.0': 35,\n",
    " 'b.1': 26,\n",
    " 'c.0.d.0': 2,\n",
    " 'c.0.d.1': 3,\n",
    " 'c.0.d.2': 4,\n",
    " 'c.0.e.0.f': 1,\n",
    " 'c.0.e.0.g': 2,\n",
    " 'h': {}\n",
    "}\n",
    "```"
   ]
  },
  {
   "cell_type": "code",
   "execution_count": null,
   "metadata": {},
   "outputs": [],
   "source": [
    "nested_json = {\n",
    "    \"a\": 1,\n",
    "    \"b\": [35, 26],\n",
    "    \"c\": [{\"d\": [2, 3, 4], \"e\": [{\"f\": 1,\"g\": 2}]}],\n",
    "    \"h\": {}\n",
    "    } \n",
    "def flatten_dict(nested_json):\n",
    "    flattened_json = {}\n",
    "    for i0, v in nested_json.items():\n",
    "        # 'a': 1,\n",
    "        if type(v)== type(0):\n",
    "            flattened_json[i0] = v\n",
    "\n",
    "        if type(v)== type({}):\n",
    "            # 'h': {}\n",
    "            if len(v) == 0:\n",
    "                flattened_json[i0] = {}\n",
    "        # 'b': [35, 26]\n",
    "        elif type(v)== type([]):\n",
    "            if len(v) == 0:\n",
    "                flattened_json[i0] == []\n",
    "            else:\n",
    "                for ilist, listItem in enumerate(v):\n",
    "                    if type(listItem) == type(0):\n",
    "                        flattened_json[i0+'.'+str(ilist)] = listItem\n",
    "                    #'c': []\n",
    "                    elif type(listItem) == type({}):\n",
    "                        if len(listItem) == 0:\n",
    "                            flattened_json[i0+'.'+str(ilist)] = {}\n",
    "                        else:\n",
    "                            for key, value in listItem.items():\n",
    "                                # c': [{'d': 2}]\n",
    "                                if type(value) == type(0):\n",
    "                                    flattened_json[i0+'.'+str(ilist)+'.'+ key] = value\n",
    "                                #'c': [{'d': [2, 3, 4]}]\n",
    "                                elif type(value) == type([]):\n",
    "                                    if len(value) ==0:\n",
    "                                        flattened_json[i0+'.'+str(ilist)+'.'+ key] = []\n",
    "                                    else:\n",
    "                                        for ki, ik in enumerate(value):\n",
    "                                            if type(ik) == type(0):\n",
    "                                                flattened_json[i0+'.'+str(ilist)+'.'+ key + '.' + str(ki) ] = ik\n",
    "                                            elif type(ik) == type({}):\n",
    "                                                if len(ik) == 0:\n",
    "                                                    flattened_json[i0+'.'+str(ilist)+'.'+ key + '.' + str(ki) ] = {}\n",
    "                                                else:\n",
    "                                                    for kk1, vv1 in ik.items():\n",
    "                                                        flattened_json[i0+'.'+str(ilist)+'.'+ key + '.' + str(ki)+'.'+kk1 ] = vv1\n",
    "\n",
    "                                            elif type(ik) == type([]):\n",
    "                                                if len(ik) == 0:\n",
    "                                                    flattened_json[i0+'.'+str(ilist)+'.'+ key + '.' + str(ki) ] = []\n",
    "                                                else:\n",
    "                                                    for hu, uh in ik:\n",
    "                                                        flattened_json[i0+'.'+str(ilist)+'.'+ key + '.' + str(ki) + '.' + str(hu)]= uh\n",
    "\n",
    "                                else:\n",
    "                                    print(\"Not supported so far\")\n",
    "                    #  \"b\": [35, 26]       \n",
    "                    elif type(listItem) == type([]):\n",
    "                        if len(listItem) == 0:\n",
    "                            flattened_json[i0+'.'+str(ilist)] = []\n",
    "                        else:\n",
    "                            for i2, value in enumerate(listItem):\n",
    "                                if type(value) == type(0):\n",
    "                                    flattened_json[i0+'.'+str(ilist)+'.'+str(i2)] = value\n",
    "                                else:\n",
    "                                    print(\"Not supported so far\")\n",
    "\n",
    "\n",
    "    \n",
    "\n",
    "    return dict(flattened_json)\n"
   ]
  },
  {
   "cell_type": "code",
   "execution_count": null,
   "metadata": {},
   "outputs": [],
   "source": [
    "nested_json = {\n",
    "    \"a\": 1,\n",
    "    \"b\": [35, 26],\n",
    "    \"c\": [{\"d\": [2, 3, 4], \"e\": [{\"f\": 1,\"g\": 2}]}],\n",
    "    \"h\": {}\n",
    "    }\n",
    "flatten_dict(nested_json)"
   ]
  },
  {
   "cell_type": "code",
   "execution_count": null,
   "metadata": {},
   "outputs": [],
   "source": [
    "def flatten_dict(d):\n",
    "    items = []\n",
    "    for k, v in d.items():\n",
    "        try:\n",
    "            if(type(v)==type([])): \n",
    "                for l in v: items.extend(flatten_dict(l).items())\n",
    "            else: \n",
    "                items.extend(flatten_dict(v).items())\n",
    "        except AttributeError:\n",
    "            items.append((k, v))\n",
    "    return dict(items)\n",
    "    #return items\n"
   ]
  },
  {
   "cell_type": "code",
   "execution_count": null,
   "metadata": {},
   "outputs": [],
   "source": [
    "nested_json = {\n",
    "    \"a\": 1,\n",
    "    \"b\": [35, 26],\n",
    "    \"c\": [{\"d\": [2, 3, 4], \"e\": [{\"f\": 1,\"g\":2}]}],\n",
    "    \"h\": {}\n",
    "    }\n",
    "flatten_dict(nested_json)"
   ]
  },
  {
   "cell_type": "code",
   "execution_count": null,
   "metadata": {},
   "outputs": [],
   "source": [
    "def flatten_dict(d):\n",
    "    items = []\n",
    "    for k, v in d.items():\n",
    "        try:\n",
    "            if(type(v)==type([])): \n",
    "                for l in v: items.extend(flatten_dict(l).items())\n",
    "            else: \n",
    "                items.extend(flatten_dict(v).items())\n",
    "        except AttributeError:\n",
    "            items.append((k, v))\n",
    "    return dict(items)"
   ]
  },
  {
   "cell_type": "code",
   "execution_count": null,
   "metadata": {},
   "outputs": [],
   "source": [
    "demo = {'d': [2, 3, 4]}"
   ]
  }
 ],
 "metadata": {
  "hide_input": false,
  "kernelspec": {
   "display_name": "Python 3",
   "language": "python",
   "name": "python3"
  },
  "language_info": {
   "codemirror_mode": {
    "name": "ipython",
    "version": 3
   },
   "file_extension": ".py",
   "mimetype": "text/x-python",
   "name": "python",
   "nbconvert_exporter": "python",
   "pygments_lexer": "ipython3",
   "version": "3.7.2"
  },
  "toc": {
   "base_numbering": 1,
   "nav_menu": {},
   "number_sections": true,
   "sideBar": true,
   "skip_h1_title": false,
   "title_cell": "Table of Contents",
   "title_sidebar": "Contents",
   "toc_cell": false,
   "toc_position": {},
   "toc_section_display": true,
   "toc_window_display": true
  },
  "varInspector": {
   "cols": {
    "lenName": 16,
    "lenType": 16,
    "lenVar": 40
   },
   "kernels_config": {
    "python": {
     "delete_cmd_postfix": "",
     "delete_cmd_prefix": "del ",
     "library": "var_list.py",
     "varRefreshCmd": "print(var_dic_list())"
    },
    "r": {
     "delete_cmd_postfix": ") ",
     "delete_cmd_prefix": "rm(",
     "library": "var_list.r",
     "varRefreshCmd": "cat(var_dic_list()) "
    }
   },
   "types_to_exclude": [
    "module",
    "function",
    "builtin_function_or_method",
    "instance",
    "_Feature"
   ],
   "window_display": false
  }
 },
 "nbformat": 4,
 "nbformat_minor": 2
}
