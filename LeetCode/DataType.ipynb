{
 "cells": [
  {
   "cell_type": "code",
   "execution_count": null,
   "metadata": {},
   "outputs": [],
   "source": [
    "from IPython.core.interactiveshell import InteractiveShell\n",
    "InteractiveShell.ast_node_interactivity = \"all\""
   ]
  },
  {
   "cell_type": "markdown",
   "metadata": {},
   "source": [
    "# Basic data types  "
   ]
  },
  {
   "cell_type": "markdown",
   "metadata": {},
   "source": [
    "<span style = \"font-family: CosMic Sans MS; font-size: 1.0em; color:red\">\n",
    "  \n",
    "    \n",
    "* Numbers（数字）\n",
    "\n",
    "   http://www.laurentluce.com/posts/python-integer-objects-implementation/\n",
    "* String（字符串）\n",
    "* List（列表）\n",
    "* Tuple（元组）\n",
    "* Sets（集合）\n",
    "* Dictionaries（字典）"
   ]
  },
  {
   "cell_type": "markdown",
   "metadata": {},
   "source": [
    "To avoid allocating a new integer object each time a new integer object is needed, Python allocates a block of free unused integer objects in advance."
   ]
  },
  {
   "cell_type": "markdown",
   "metadata": {
    "ExecuteTime": {
     "end_time": "2019-12-09T02:38:09.349727Z",
     "start_time": "2019-12-09T02:38:09.345283Z"
    }
   },
   "source": [
    "## reference in python"
   ]
  },
  {
   "cell_type": "markdown",
   "metadata": {},
   "source": [
    "There are no variables in Python. The key to understanding parameter passing is to stop thinking about `variables`. There are names and objects in Python and together they appear like variables, but it is useful to always distinguish the three.\n",
    "\n",
    "* Python has names and objects.\n",
    "* Assignment binds a name to an object.\n",
    "* Passing an argument into a function also binds a name (the parameter name of the function) to an object.\n",
    "\n",
    "<span style = \"font-family: CosMic Sans MS; font-size: 2em; color: red;\">\n",
    " What???"
   ]
  },
  {
   "cell_type": "markdown",
   "metadata": {},
   "source": [
    "* How `list` is implemented?\n",
    "  ```c\n",
    "  typedef struct {\n",
    "      int ob_refcnt;              //列表对象引用计数\n",
    "      struct _typeobject *ob_type;// 列表类型对象 \n",
    "      int ob_size;                // 列表元素的长度\n",
    "      PyObject **ob_item;         // 真正存放列表元素容器的指针，list[0] 就是 ob_item[0]\n",
    "      Py_ssize_t allocated;       // 当前列表可容纳的元素大小\n",
    "  } PyListObject;\n",
    "  ```\n",
    "  * https://www.laurentluce.com/posts/python-list-implementation/\n",
    "* How `set` is implemented?\n",
    "* How `dict` is implemented?\n",
    "* How `balanced binary search tree` is implemented?\n",
    "* How `black red tree` is implemented?\n",
    "* `list` vs `tuple`\n",
    "\n",
    "  https://foofish.net/list-different-with-tuple.html"
   ]
  },
  {
   "cell_type": "markdown",
   "metadata": {},
   "source": [
    "# When to use which data type "
   ]
  },
  {
   "cell_type": "markdown",
   "metadata": {},
   "source": [
    "<span style = \"font-family: CosMic Sans MS; font-size: 1.0em; color:red\">\n",
    "tuple 用于存储异构(heterogeneous)数据，当做没有字段名的记录来用，比如用 tuple 来记录一个人的身高、体重、年龄\n",
    "    \n",
    "而列表一般用于存储同构数据(homogenous)，同构数据就是具有相同意义的数据，比如下面的都是字符串类型"
   ]
  },
  {
   "cell_type": "markdown",
   "metadata": {
    "ExecuteTime": {
     "end_time": "2019-12-09T02:14:36.158025Z",
     "start_time": "2019-12-09T02:14:36.148607Z"
    }
   },
   "source": [
    "一个对象在其生命周期内，如果保持不变，就是 hashable（可哈希的）。\n",
    "\n",
    "在Python中：tuple和string是不可变的，只可以做复制或者切片等操作，所以它们就是可哈希的。"
   ]
  },
  {
   "cell_type": "code",
   "execution_count": null,
   "metadata": {
    "ExecuteTime": {
     "end_time": "2019-12-08T10:10:09.085421Z",
     "start_time": "2019-12-08T10:10:09.079409Z"
    }
   },
   "outputs": [],
   "source": [
    "print(list.__hash__)\n",
    "print(set.__hash__)\n",
    "print(dict.__hash__)\n",
    "print(tuple.__hash__)\n",
    "print(str.__hash__)"
   ]
  },
  {
   "cell_type": "markdown",
   "metadata": {},
   "source": [
    "## list and tuple"
   ]
  },
  {
   "cell_type": "markdown",
   "metadata": {},
   "source": [
    "https://stackoverflow.com/q/24854139/7583919\n",
    "\n",
    "same\n",
    "* both are subscriptable\n",
    "* both are ordered collections\n",
    "\n",
    "difference\n",
    "* list is mutable\n",
    "* tuple is inmutable"
   ]
  },
  {
   "cell_type": "code",
   "execution_count": null,
   "metadata": {
    "ExecuteTime": {
     "end_time": "2019-12-09T02:13:43.386391Z",
     "start_time": "2019-12-09T02:13:43.379519Z"
    }
   },
   "outputs": [],
   "source": [
    "t1 = ('aa1', '!=', '5')\n",
    "#t1[1] = '2'"
   ]
  },
  {
   "cell_type": "markdown",
   "metadata": {},
   "source": [
    "https://stackoverflow.com/q/56880060/7583919"
   ]
  },
  {
   "cell_type": "code",
   "execution_count": null,
   "metadata": {
    "ExecuteTime": {
     "end_time": "2019-12-09T02:27:21.840674Z",
     "start_time": "2019-12-09T02:27:21.831552Z"
    }
   },
   "outputs": [],
   "source": [
    "x = set('a')\n",
    "x  \n",
    "x.add('b')\n",
    "x\n",
    "x == {'b', 'a'}"
   ]
  },
  {
   "cell_type": "code",
   "execution_count": null,
   "metadata": {},
   "outputs": [],
   "source": [
    "foo = (1,(2,3))\n",
    "d = {foo: 1}\n",
    "d "
   ]
  },
  {
   "cell_type": "code",
   "execution_count": null,
   "metadata": {},
   "outputs": [],
   "source": [
    "foo = tuple(range(1000))\n",
    "bar = list(range(1000))\n",
    "foo.__sizeof__()\n",
    "bar.__sizeof__()"
   ]
  },
  {
   "cell_type": "markdown",
   "metadata": {},
   "source": [
    "# Reference\n",
    "https://foofish.net"
   ]
  }
 ],
 "metadata": {
  "hide_input": false,
  "kernelspec": {
   "display_name": "Python 3",
   "language": "python",
   "name": "python3"
  },
  "language_info": {
   "codemirror_mode": {
    "name": "ipython",
    "version": 3
   },
   "file_extension": ".py",
   "mimetype": "text/x-python",
   "name": "python",
   "nbconvert_exporter": "python",
   "pygments_lexer": "ipython3",
   "version": "3.7.4"
  },
  "toc": {
   "base_numbering": 1,
   "nav_menu": {},
   "number_sections": true,
   "sideBar": true,
   "skip_h1_title": false,
   "title_cell": "Table of Contents",
   "title_sidebar": "Contents",
   "toc_cell": false,
   "toc_position": {},
   "toc_section_display": true,
   "toc_window_display": true
  },
  "varInspector": {
   "cols": {
    "lenName": 16,
    "lenType": 16,
    "lenVar": 40
   },
   "kernels_config": {
    "python": {
     "delete_cmd_postfix": "",
     "delete_cmd_prefix": "del ",
     "library": "var_list.py",
     "varRefreshCmd": "print(var_dic_list())"
    },
    "r": {
     "delete_cmd_postfix": ") ",
     "delete_cmd_prefix": "rm(",
     "library": "var_list.r",
     "varRefreshCmd": "cat(var_dic_list()) "
    }
   },
   "types_to_exclude": [
    "module",
    "function",
    "builtin_function_or_method",
    "instance",
    "_Feature"
   ],
   "window_display": false
  }
 },
 "nbformat": 4,
 "nbformat_minor": 2
}
