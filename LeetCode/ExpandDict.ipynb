{
 "cells": [
  {
   "cell_type": "code",
   "execution_count": null,
   "metadata": {},
   "outputs": [],
   "source": [
    "from IPython.core.interactiveshell import InteractiveShell\n",
    "InteractiveShell.ast_node_interactivity = \"all\""
   ]
  },
  {
   "cell_type": "markdown",
   "metadata": {},
   "source": [
    "# key function in sort"
   ]
  },
  {
   "cell_type": "markdown",
   "metadata": {},
   "source": [
    "```md\n",
    "输入：(9, 2), (3, 7), (7, 8), (3, 5), (1, 9)\n",
    "输出：(1, 9), (3, 7), (3, 5), (7, 8), (9, 2)\n",
    "```"
   ]
  },
  {
   "cell_type": "code",
   "execution_count": null,
   "metadata": {},
   "outputs": [],
   "source": [
    "def sort(a):\n",
    "    alist = [list(i) for i in a]\n",
    "    alist.sort(key=lambda k: (k[0], -k[1]), reverse=False)\n",
    "    atuple = tuple(tuple(i) for i in alist)\n",
    "    return atuple\n",
    "    #return alist"
   ]
  },
  {
   "cell_type": "code",
   "execution_count": null,
   "metadata": {},
   "outputs": [],
   "source": [
    "a = (9, 2), (3, 7), (7, 8), (3, 5), (1, 9)\n",
    "sort(a)"
   ]
  },
  {
   "cell_type": "code",
   "execution_count": 22,
   "metadata": {},
   "outputs": [
    {
     "data": {
      "text/plain": [
       "[3, 0, 1, 2]"
      ]
     },
     "execution_count": 22,
     "metadata": {},
     "output_type": "execute_result"
    }
   ],
   "source": [
    "a = [13, 15, 81, 4]\n",
    "b = [0, 1, 2, 3]\n",
    "b.sort(key = lambda x:a[x])\n",
    "b \n",
    "#b = [3, 0, 1, 2]"
   ]
  },
  {
   "cell_type": "markdown",
   "metadata": {},
   "source": [
    "<span style=\"font-family:New York Times; font-size:1em; color:green;\">\n",
    "It sorts `b` as if each element in `b` had the value of the corresponding value in `a`. It might help to see what happens if you sort tuples consisting of each value.\n",
    "    \n",
    "    >> sorted(zip(a, b))\n",
    "    [(4, 3), (13, 0), (15, 1), (81, 2)]\n",
    "    \n",
    "Notice the second element of each tuple, where they are sorted in the order of their first elements.\n",
    "\n"
   ]
  },
  {
   "cell_type": "code",
   "execution_count": 23,
   "metadata": {},
   "outputs": [
    {
     "data": {
      "text/plain": [
       "{'992832': 89.0, '823482': 80.0, '214123': 75.0}"
      ]
     },
     "execution_count": 23,
     "metadata": {},
     "output_type": "execute_result"
    }
   ],
   "source": [
    "d = {\"214123\" : 75.0,\n",
    " \"153525\" : 60.0,\n",
    " \"734829\" : 40.0,\n",
    " \"992832\" : 89.0,\n",
    " \"823482\" : 80.0}\n",
    "dict(sorted(list(d.items()), key=lambda p: p[1], reverse=True)[:3])"
   ]
  },
  {
   "cell_type": "code",
   "execution_count": null,
   "metadata": {},
   "outputs": [],
   "source": [
    "def last(n): \n",
    "    return n[m]   \n",
    "   \n",
    "# function to sort the tuple    \n",
    "def sort(tuples): \n",
    "  \n",
    "    # We pass used defined function last \n",
    "    # as a parameter.  \n",
    "    return sorted(tuples, key = last) \n",
    "   \n",
    "# driver code   \n",
    "a = [(23, 45, 20), (25, 44, 39), (89, 40, 23)] \n",
    "m = 2\n",
    "sort(a)"
   ]
  },
  {
   "cell_type": "markdown",
   "metadata": {},
   "source": [
    "# Manipulation on a data structure "
   ]
  },
  {
   "cell_type": "code",
   "execution_count": null,
   "metadata": {},
   "outputs": [],
   "source": [
    "def flatDL(dictlist):\n",
    "    x = {}\n",
    "    for index, item in dictlist.items():\n",
    "        for o,  a in enumerate(item):\n",
    "            x[str(index)+str(o)]=a \n",
    "    return x "
   ]
  },
  {
   "cell_type": "code",
   "execution_count": null,
   "metadata": {},
   "outputs": [],
   "source": [
    "nested_json = {\n",
    "    \"a\": 1,\n",
    "    \"b\": [35, 26],\n",
    "    \"c\": [{\"d\": [2, 3, 4], \"e\": [{\"f\": 1,\"g\": 2}]}],\n",
    "    \"h\": {}\n",
    "    } \n",
    "def flatten_dict(nested_json):\n",
    "    flattened_json = {}\n",
    "    for i0, v in nested_json.items():\n",
    "        # 'a': 1,\n",
    "        if type(v)== type(0):\n",
    "            flattened_json[i0] = v\n",
    "\n",
    "        if type(v)== type({}):\n",
    "            # 'h': {}\n",
    "            if len(v) == 0:\n",
    "                flattened_json[i0] = {}\n",
    "        # 'b': [35, 26]\n",
    "        elif type(v)== type([]):\n",
    "            if len(v) == 0:\n",
    "                flattened_json[i0] == []\n",
    "            else:\n",
    "                for ilist, listItem in enumerate(v):\n",
    "                    if type(listItem) == type(0):\n",
    "                        flattened_json[i0+'.'+str(ilist)] = listItem\n",
    "                    #'c': []\n",
    "                    elif type(listItem) == type({}):\n",
    "                        if len(listItem) == 0:\n",
    "                            flattened_json[i0+'.'+str(ilist)] = {}\n",
    "                        else:\n",
    "                            for key, value in listItem.items():\n",
    "                                # c': [{'d': 2}]\n",
    "                                if type(value) == type(0):\n",
    "                                    flattened_json[i0+'.'+str(ilist)+'.'+ key] = value\n",
    "                                #'c': [{'d': [2, 3, 4]}]\n",
    "                                elif type(value) == type([]):\n",
    "                                    if len(value) ==0:\n",
    "                                        flattened_json[i0+'.'+str(ilist)+'.'+ key] = []\n",
    "                                    else:\n",
    "                                        for ki, ik in enumerate(value):\n",
    "                                            if type(ik) == type(0):\n",
    "                                                flattened_json[i0+'.'+str(ilist)+'.'+ key + '.' + str(ki) ] = ik\n",
    "                                            elif type(ik) == type({}):\n",
    "                                                if len(ik) == 0:\n",
    "                                                    flattened_json[i0+'.'+str(ilist)+'.'+ key + '.' + str(ki) ] = {}\n",
    "                                                else:\n",
    "                                                    for kk1, vv1 in ik.items():\n",
    "                                                        flattened_json[i0+'.'+str(ilist)+'.'+ key + '.' + str(ki)+'.'+kk1 ] = vv1\n",
    "\n",
    "                                            elif type(ik) == type([]):\n",
    "                                                if len(ik) == 0:\n",
    "                                                    flattened_json[i0+'.'+str(ilist)+'.'+ key + '.' + str(ki) ] = []\n",
    "                                                else:\n",
    "                                                    for hu, uh in ik:\n",
    "                                                        flattened_json[i0+'.'+str(ilist)+'.'+ key + '.' + str(ki) + '.' + str(hu)]= uh\n",
    "\n",
    "                                else:\n",
    "                                    print(\"Not supported so far\")\n",
    "                    #  \"b\": [35, 26]       \n",
    "                    elif type(listItem) == type([]):\n",
    "                        if len(listItem) == 0:\n",
    "                            flattened_json[i0+'.'+str(ilist)] = []\n",
    "                        else:\n",
    "                            for i2, value in enumerate(listItem):\n",
    "                                if type(value) == type(0):\n",
    "                                    flattened_json[i0+'.'+str(ilist)+'.'+str(i2)] = value\n",
    "                                else:\n",
    "                                    print(\"Not supported so far\")\n",
    "\n",
    "\n",
    "    \n",
    "\n",
    "    return dict(flattened_json)\n"
   ]
  },
  {
   "cell_type": "code",
   "execution_count": null,
   "metadata": {},
   "outputs": [],
   "source": [
    "flatten_dict(nested_json)"
   ]
  },
  {
   "cell_type": "code",
   "execution_count": null,
   "metadata": {},
   "outputs": [],
   "source": [
    "nested_json = {\n",
    "    \"a\": 1,\n",
    "    \"b\": [35, 26],\n",
    "    \"c\": [{\"d\": [2, 3, 4], \"e\": [{\"f\": 1,\"g\": 2}]}],\n",
    "    \"h\": {}\n",
    "    }\n",
    "nested_json\n",
    "{'a': 1,\n",
    " 'b.0': 35,\n",
    " 'b.1': 26,\n",
    " 'c.0.d.0': 2,\n",
    " 'c.0.d.1': 3,\n",
    " 'c.0.d.2': 4,\n",
    " 'c.0.e.0.f': 1,\n",
    " 'c.0.e.0.g': 2,\n",
    " 'h': {}\n",
    "}"
   ]
  },
  {
   "cell_type": "code",
   "execution_count": null,
   "metadata": {},
   "outputs": [],
   "source": [
    "def flatten_dict(d):\n",
    "    items = []\n",
    "    for k, v in d.items():\n",
    "        try:\n",
    "            if(type(v)==type([])): \n",
    "                for l in v: items.extend(flatten_dict(l).items())\n",
    "            else: \n",
    "                items.extend(flatten_dict(v).items())\n",
    "        except AttributeError:\n",
    "            items.append((k, v))\n",
    "    return dict(items)\n",
    "    #return items\n"
   ]
  },
  {
   "cell_type": "code",
   "execution_count": null,
   "metadata": {},
   "outputs": [],
   "source": [
    "nested_json = {\n",
    "    \"a\": 1,\n",
    "    \"b\": [35, 26],\n",
    "    \"c\": [{\"d\": [2, 3, 4], \"e\": [{\"f\": 1,\"g\":2}]}],\n",
    "    \"h\": {}\n",
    "    }\n",
    "flatten_dict(nested_json)"
   ]
  },
  {
   "cell_type": "code",
   "execution_count": null,
   "metadata": {},
   "outputs": [],
   "source": [
    "def flatten_dict(d):\n",
    "    items = []\n",
    "    for k, v in d.items():\n",
    "        try:\n",
    "            if(type(v)==type([])): \n",
    "                for l in v: items.extend(flatten_dict(l).items())\n",
    "            else: \n",
    "                items.extend(flatten_dict(v).items())\n",
    "        except AttributeError:\n",
    "            items.append((k, v))\n",
    "    return dict(items)"
   ]
  },
  {
   "cell_type": "code",
   "execution_count": null,
   "metadata": {},
   "outputs": [],
   "source": [
    "demo = {'d': [2, 3, 4]}"
   ]
  }
 ],
 "metadata": {
  "hide_input": false,
  "kernelspec": {
   "display_name": "Python 3",
   "language": "python",
   "name": "python3"
  },
  "language_info": {
   "codemirror_mode": {
    "name": "ipython",
    "version": 3
   },
   "file_extension": ".py",
   "mimetype": "text/x-python",
   "name": "python",
   "nbconvert_exporter": "python",
   "pygments_lexer": "ipython3",
   "version": "3.7.2"
  },
  "toc": {
   "base_numbering": 1,
   "nav_menu": {},
   "number_sections": true,
   "sideBar": true,
   "skip_h1_title": false,
   "title_cell": "Table of Contents",
   "title_sidebar": "Contents",
   "toc_cell": false,
   "toc_position": {},
   "toc_section_display": true,
   "toc_window_display": true
  },
  "varInspector": {
   "cols": {
    "lenName": 16,
    "lenType": 16,
    "lenVar": 40
   },
   "kernels_config": {
    "python": {
     "delete_cmd_postfix": "",
     "delete_cmd_prefix": "del ",
     "library": "var_list.py",
     "varRefreshCmd": "print(var_dic_list())"
    },
    "r": {
     "delete_cmd_postfix": ") ",
     "delete_cmd_prefix": "rm(",
     "library": "var_list.r",
     "varRefreshCmd": "cat(var_dic_list()) "
    }
   },
   "types_to_exclude": [
    "module",
    "function",
    "builtin_function_or_method",
    "instance",
    "_Feature"
   ],
   "window_display": false
  }
 },
 "nbformat": 4,
 "nbformat_minor": 2
}
