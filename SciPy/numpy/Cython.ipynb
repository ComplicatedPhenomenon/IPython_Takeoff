{
 "cells": [
  {
   "cell_type": "code",
   "execution_count": 1,
   "metadata": {},
   "outputs": [],
   "source": [
    "from IPython.core.interactiveshell import InteractiveShell\n",
    "InteractiveShell.ast_node_interactivity = \"all\""
   ]
  },
  {
   "cell_type": "code",
   "execution_count": 2,
   "metadata": {},
   "outputs": [],
   "source": [
    "import numpy as np"
   ]
  },
  {
   "cell_type": "code",
   "execution_count": 3,
   "metadata": {},
   "outputs": [
    {
     "data": {
      "text/plain": [
       "'1.16.2'"
      ]
     },
     "execution_count": 3,
     "metadata": {},
     "output_type": "execute_result"
    }
   ],
   "source": [
    "np.__version__"
   ]
  },
  {
   "cell_type": "markdown",
   "metadata": {},
   "source": [
    "# 理解数据结构与算法"
   ]
  },
  {
   "cell_type": "markdown",
   "metadata": {},
   "source": [
    "算法与数据结构是运算中两个最基本的概念。它们是构造复杂软件的基石。理解了这些基本概念对软件设计有巨大的帮助，关于怎么理解这些基本概念涉及到下面三个特征：\n",
    "\n",
    "* 算法是如何操作数据结构所包含信息的\n",
    "* 数据在内存中是怎么组织的\n",
    "* 特定数据结构的表现性能的特征\n",
    "在这本书里，我们会从几个角度来审视这个主题。首先，我们会从数据结构和算法的角度阅览一下编程语言Python的基础。接下来，很重要的一点，我们要有正确的数学工具。我们需要理解计算科学中的一些基本概念，源于此，我们需要一些数学。通过采取启发式的方法，发展出一些指导原则一般意味着我们不需要比高中数学更多的东西来理解这些关键思想原则。\n",
    "\n",
    "另外一个重要方面是评估。衡量算法的表现涉及：理解数据大小的每次增加如何影响算法该数据的操作。 当我们处理大型数据集或者事实应用时，高效的算法和数据结构是很重要的。\n",
    "\n",
    "最后，我们需要一个完善的实验设计策略。欲能够概念性的把显示世界中的问题翻译为编程语言里的算法和数据结构，这涉及有能力来理解问题的重要组成和把这些组成映射到程序结构的方法。"
   ]
  },
  {
   "cell_type": "markdown",
   "metadata": {},
   "source": [
    "# 变量和表达式\n",
    "\n",
    "可以这么理解变量，它是贴在对象上面的标签，它不是对象本身，亦不是对象的容器。变量不包含对象，而是充当对象的指针或引用。"
   ]
  },
  {
   "cell_type": "code",
   "execution_count": null,
   "metadata": {},
   "outputs": [],
   "source": [
    "a = [2, 3, 4]\n",
    "b = a\n",
    "a.append(5)\n",
    "b"
   ]
  },
  {
   "cell_type": "markdown",
   "metadata": {},
   "source": [
    "Python是动态类型语言。变量名在程序执行中可以绑在不同值和类型上。每个值都是一种类型,比如字符串，整型。但是，变量名本身并没有一个类型，这一点与另外的诸如C和Java等大多数语言不同，后者变量名代表一个固定大小。"
   ]
  },
  {
   "cell_type": "markdown",
   "metadata": {},
   "source": [
    "# Uniquness of numpy data type compared with Python data type"
   ]
  },
  {
   "cell_type": "code",
   "execution_count": null,
   "metadata": {},
   "outputs": [],
   "source": [
    "arr = np.arange(10000000)\n",
    "listarr = arr.tolist()\n",
    "def scalar_multiple(alist, scalar):\n",
    "   for i, val in enumerate(alist):\n",
    "       alist[i] = val * scalar\n",
    "   return alist\n",
    "# Using IPython's magic timeit command\n",
    "%timeit (arr * 2.4)\n",
    "%timeit (scalar_multiple(listarr, 2.4))"
   ]
  },
  {
   "cell_type": "markdown",
   "metadata": {},
   "source": [
    "# Cython"
   ]
  },
  {
   "cell_type": "code",
   "execution_count": null,
   "metadata": {
    "cell_style": "center"
   },
   "outputs": [],
   "source": [
    "%load_ext Cython"
   ]
  },
  {
   "cell_type": "code",
   "execution_count": null,
   "metadata": {
    "cell_style": "center"
   },
   "outputs": [],
   "source": [
    "%%cython\n",
    "cdef int a = 0\n",
    "for i in range(10):\n",
    "    a += i\n",
    "print(a)"
   ]
  },
  {
   "cell_type": "code",
   "execution_count": null,
   "metadata": {},
   "outputs": [],
   "source": [
    "def f(x):\n",
    "    return x ** 2 - x\n",
    "%timeit f(100)"
   ]
  },
  {
   "cell_type": "code",
   "execution_count": null,
   "metadata": {
    "code_folding": []
   },
   "outputs": [],
   "source": [
    "%%cython\n",
    "from time import time\n",
    "\n",
    "def f1(x):\n",
    "    return x ** 2 - x\n",
    "\n",
    "n = 10000000\n",
    "start = time()\n",
    "for _ in range(n):\n",
    "    f1(100)\n",
    "end = time()\n",
    "run_time = (end - start) / n * 1000 * 1000 * 1000\n",
    "print(\"%.1f ns\" % run_time)\n",
    "%timeit f1(100)"
   ]
  },
  {
   "cell_type": "code",
   "execution_count": null,
   "metadata": {},
   "outputs": [],
   "source": [
    "%%cython\n",
    "from time import time\n",
    "\n",
    "cpdef long f2(long x):\n",
    "    return x ** 2 - x\n",
    "\n",
    "n = 10000000\n",
    "start = time()\n",
    "for _ in range(n):\n",
    "    f2(100)\n",
    "end = time()\n",
    "run_time = (end - start) / n * 1000 * 1000 * 1000\n",
    "print(\"%.1f ns\" % run_time)\n",
    "%timeit f2(100)"
   ]
  },
  {
   "cell_type": "code",
   "execution_count": null,
   "metadata": {},
   "outputs": [],
   "source": [
    "%%cython\n",
    "from time import time\n",
    "\n",
    "cdef long f3(long x):\n",
    "    return x ** 2 - x\n",
    "\n",
    "n = 10000000\n",
    "start = time()\n",
    "for _ in range(n):\n",
    "    f3(100)\n",
    "end = time()\n",
    "run_time = (end - start) / n * 1000 * 1000 * 1000\n",
    "print(\"%.1f ns\" % run_time)"
   ]
  },
  {
   "cell_type": "code",
   "execution_count": null,
   "metadata": {},
   "outputs": [],
   "source": [
    "A = list(range(10000))\n",
    "def sum_list(A):\n",
    "    ret = 0\n",
    "    for x in A:\n",
    "        ret += x\n",
    "    return ret\n",
    "%timeit sum_list(A)\n",
    "%timeit sum(A)"
   ]
  },
  {
   "cell_type": "markdown",
   "metadata": {},
   "source": [
    "## Compare the usual, internal, cython function"
   ]
  },
  {
   "cell_type": "code",
   "execution_count": null,
   "metadata": {},
   "outputs": [],
   "source": [
    "%%cython\n",
    "cpdef int sum_list_cython(A):\n",
    "    cdef int ret, x\n",
    "    for x in A:\n",
    "        ret += x\n",
    "    return ret\n",
    "%timeit sum_list_cython(A)"
   ]
  }
 ],
 "metadata": {
  "hide_input": false,
  "kernelspec": {
   "display_name": "Python 3",
   "language": "python",
   "name": "python3"
  },
  "language_info": {
   "codemirror_mode": {
    "name": "ipython",
    "version": 3
   },
   "file_extension": ".py",
   "mimetype": "text/x-python",
   "name": "python",
   "nbconvert_exporter": "python",
   "pygments_lexer": "ipython3",
   "version": "3.7.4"
  },
  "toc": {
   "base_numbering": 1,
   "nav_menu": {},
   "number_sections": true,
   "sideBar": true,
   "skip_h1_title": false,
   "title_cell": "Table of Contents",
   "title_sidebar": "Contents",
   "toc_cell": false,
   "toc_position": {
    "height": "134.717px",
    "left": "60px",
    "top": "67.1333px",
    "width": "165px"
   },
   "toc_section_display": true,
   "toc_window_display": true
  },
  "varInspector": {
   "cols": {
    "lenName": 16,
    "lenType": 16,
    "lenVar": 40
   },
   "kernels_config": {
    "python": {
     "delete_cmd_postfix": "",
     "delete_cmd_prefix": "del ",
     "library": "var_list.py",
     "varRefreshCmd": "print(var_dic_list())"
    },
    "r": {
     "delete_cmd_postfix": ") ",
     "delete_cmd_prefix": "rm(",
     "library": "var_list.r",
     "varRefreshCmd": "cat(var_dic_list()) "
    }
   },
   "types_to_exclude": [
    "module",
    "function",
    "builtin_function_or_method",
    "instance",
    "_Feature"
   ],
   "window_display": false
  }
 },
 "nbformat": 4,
 "nbformat_minor": 2
}
