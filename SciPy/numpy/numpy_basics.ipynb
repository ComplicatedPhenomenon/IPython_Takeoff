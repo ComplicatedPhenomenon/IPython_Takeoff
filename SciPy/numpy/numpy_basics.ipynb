{
 "cells": [
  {
   "cell_type": "code",
   "execution_count": 1,
   "metadata": {
    "ExecuteTime": {
     "end_time": "2019-11-22T14:31:42.178980Z",
     "start_time": "2019-11-22T14:31:42.175803Z"
    }
   },
   "outputs": [],
   "source": [
    "from IPython.core.interactiveshell import InteractiveShell\n",
    "InteractiveShell.ast_node_interactivity = \"all\" "
   ]
  },
  {
   "cell_type": "code",
   "execution_count": 2,
   "metadata": {
    "ExecuteTime": {
     "end_time": "2019-11-22T14:31:43.089008Z",
     "start_time": "2019-11-22T14:31:42.376811Z"
    }
   },
   "outputs": [],
   "source": [
    "%matplotlib inline"
   ]
  },
  {
   "cell_type": "code",
   "execution_count": 3,
   "metadata": {
    "ExecuteTime": {
     "end_time": "2019-11-22T14:31:43.095630Z",
     "start_time": "2019-11-22T14:31:43.091861Z"
    }
   },
   "outputs": [],
   "source": [
    "import time\n",
    "import math"
   ]
  },
  {
   "cell_type": "code",
   "execution_count": 4,
   "metadata": {
    "ExecuteTime": {
     "end_time": "2019-11-22T14:31:43.445681Z",
     "start_time": "2019-11-22T14:31:43.098810Z"
    }
   },
   "outputs": [],
   "source": [
    "import numpy as np\n",
    "import pandas as pd \n",
    "import matplotlib.pyplot as plt"
   ]
  },
  {
   "cell_type": "markdown",
   "metadata": {},
   "source": [
    "# `np.sum` "
   ]
  },
  {
   "cell_type": "markdown",
   "metadata": {},
   "source": [
    "https://realpython.com/numpy-array-programming/"
   ]
  },
  {
   "cell_type": "code",
   "execution_count": null,
   "metadata": {},
   "outputs": [],
   "source": [
    "array = np.array([[[[2, -3], [3, 2]], [[-4, -1], [-5, 1]], [[-7, -5], [-1, 6]],\n",
    "                   [[-5, 0], [-4, 2]]],\n",
    "                  [[[-1, 4], [6, 1]], [[-2, -3], [-5, 5]], [[-2, -8], [-1, 7]],\n",
    "                   [[-1, 8], [-4, 2]]]])\n",
    "array.shape\n",
    "np.sum(array, axis=3)"
   ]
  },
  {
   "cell_type": "markdown",
   "metadata": {},
   "source": [
    "https://stackoverflow.com/questions/57830433/how-to-get-the-euclid-distance-from-specified-array-in-numpy#57830445"
   ]
  },
  {
   "cell_type": "code",
   "execution_count": null,
   "metadata": {},
   "outputs": [],
   "source": [
    "def find_eucledian_distances(a_points, b_points):\n",
    "    return np.sqrt(np.sum((a_points - b_points)**2, axis=-1))\n",
    "\n",
    "\n",
    "a = np.array([[3.0, 4.0], [-3.0, -6.0], [-2.5, 6.3]])\n",
    "b = np.array([[0.0, 0.0], [2.0, 6.0], [4.5, -8.3]])\n",
    "(a - b) ** 2\n",
    "np.sqrt(np.sum((a - b)**2, axis=-1))"
   ]
  },
  {
   "cell_type": "markdown",
   "metadata": {},
   "source": [
    "<span style=\"font-family: New York Times; font-size: 1em; color: green;\">\n",
    "    \n",
    "you should `np.sum` along the last axis. if you don't specific the axis=-1, the `np.sum()` will sum all of the elements."
   ]
  },
  {
   "cell_type": "markdown",
   "metadata": {},
   "source": [
    "# arithmetic between np.array"
   ]
  },
  {
   "cell_type": "markdown",
   "metadata": {},
   "source": [
    "https://stackoverflow.com/questions/57806304/numpy-elementwise-multiplication-with-multiple-columns#57806420"
   ]
  },
  {
   "cell_type": "code",
   "execution_count": null,
   "metadata": {},
   "outputs": [],
   "source": [
    "a = np.array([[1, 2, 3], [4, 5, 6]])\n",
    "b = np.array([[7, 8, 9, 10], [11, 12, 13, 14]])\n",
    "c = np.zeros((2, 4, 3))\n",
    "\n",
    "for i, row in enumerate(b):\n",
    "    for j, col in enumerate(row):\n",
    "        print('Mult:', a[i, :], '*', col)\n",
    "        c[i, j, :] = a[i, :] * col\n",
    "\n",
    "print(c[0, :, :])\n",
    "print(c[1, :, :])"
   ]
  },
  {
   "cell_type": "code",
   "execution_count": null,
   "metadata": {},
   "outputs": [],
   "source": [
    "a = np.array([[1, 2, 3], [4, 5, 6]])\n",
    "b = np.array([[7, 8, 9, 10], [11, 12, 13, 14]])\n",
    "print([item * k for item in a for k in b.ravel()])"
   ]
  },
  {
   "cell_type": "code",
   "execution_count": null,
   "metadata": {},
   "outputs": [],
   "source": [
    "a = np.array([[1, 2, 3], [4, 5, 6]])\n",
    "b = np.array([[7, 8, 9, 10], [11, 12, 13, 14]])\n",
    "a[:,None,:] * b[:,:,None]"
   ]
  },
  {
   "cell_type": "markdown",
   "metadata": {},
   "source": [
    "https://stackoverflow.com/questions/57843027/add-small-np-array-to-larger-np-array#57843046"
   ]
  },
  {
   "cell_type": "code",
   "execution_count": null,
   "metadata": {},
   "outputs": [],
   "source": [
    "import numpy as np\n",
    "a = np.arange(1, 11)\n",
    "b = np.arange(1,3)\n",
    "print('a:',a)\n",
    "print('b:',b)\n",
    "a[0::2] += b[0]\n",
    "a[1::2] += b[1]\n",
    "print('a:',a)"
   ]
  },
  {
   "cell_type": "code",
   "execution_count": null,
   "metadata": {},
   "outputs": [],
   "source": [
    "a = np.arange(1, 11)\n",
    "b = np.arange(1,3)\n",
    "a.reshape(-1, len(b)) \n",
    "a.reshape(-1, len(b)) + b \n",
    "(a.reshape(-1, len(b)) + b).ravel()"
   ]
  },
  {
   "cell_type": "markdown",
   "metadata": {},
   "source": [
    "# `np.reshape`"
   ]
  },
  {
   "cell_type": "markdown",
   "metadata": {},
   "source": [
    "https://docs.scipy.org/doc/numpy/reference/generated/numpy.reshape.html#numpy.reshape"
   ]
  },
  {
   "cell_type": "code",
   "execution_count": null,
   "metadata": {},
   "outputs": [],
   "source": [
    "a = np.array([[1,2,3, 4], [5,6,7,8]])\n",
    "print(np.reshape(a, (-2)) )\n",
    "print(\"___________________________________\")\n",
    "print(np.reshape(a, (2, 2,-2)) )\n",
    "print(\"___________________________________\")\n",
    "print(np.reshape(a, (2, -1,4)) )"
   ]
  },
  {
   "cell_type": "markdown",
   "metadata": {},
   "source": [
    "# `np.array.tolist`"
   ]
  },
  {
   "cell_type": "code",
   "execution_count": null,
   "metadata": {},
   "outputs": [],
   "source": [
    "arr = np.array([[1, 1, 1, 1], [2, 2, 2, 2], [3, 3, 3, 3], [4, 4, 4, 4]])\n",
    "lens = [1, 2, 3, 4]\n",
    "[a[:i].tolist() for a, i in zip(arr, lens)]"
   ]
  },
  {
   "cell_type": "code",
   "execution_count": null,
   "metadata": {},
   "outputs": [],
   "source": [
    "num1 = [2, 2, 0]\n",
    "num2 = [1, 0]\n",
    "list(str( int(''.join(map(str, num1))) * int(''.join(map(str, num2)))))"
   ]
  },
  {
   "cell_type": "code",
   "execution_count": null,
   "metadata": {},
   "outputs": [],
   "source": [
    "def multiply(num1, num2):\n",
    "    if num1 == [0] or num2 == [0]:\n",
    "        return [0]\n",
    "    sign = -1 if (num1[0] < 0) ^ (num2[0] < 0) else 1\n",
    "    num1[0] = abs(num1[0])\n",
    "    num2[0] = abs(num2[0])\n",
    "    res = [0] * (len(num1) + len(num2) + 1) # space O(n + m)\n",
    "    for i in range(len(num1) - 1, -1, -1):\n",
    "        for j in range(len(num2) - 1, -1, -1):\n",
    "            res[i + j + 1] += num1[i] * num2[j]\n",
    "            res[i + j] += res[i + j + 1] // 10\n",
    "            res[i + j + 1] %= 10\n",
    "    res[0] *= sign\n",
    "\n",
    "    #res = res[next((i for i, x in enumerate(res) if x != 0), len(res)):] or [0]\n",
    "    return res\n",
    "\n",
    "multiply(num1, num2)"
   ]
  },
  {
   "cell_type": "markdown",
   "metadata": {},
   "source": [
    "# Large array "
   ]
  },
  {
   "cell_type": "markdown",
   "metadata": {},
   "source": [
    "https://stackoverflow.com/questions/57565758/efficient-way-to-write-a-list-to-file-in-python/57565815#57565815"
   ]
  },
  {
   "cell_type": "code",
   "execution_count": null,
   "metadata": {},
   "outputs": [],
   "source": [
    "import numpy as np\n",
    "mylist = np.arange(1,n+1)\n",
    "list_to_write = func(mylist)\n",
    "np.savetxt('test.out', x, delimiter=',') "
   ]
  },
  {
   "cell_type": "markdown",
   "metadata": {},
   "source": [
    "# `np.mean`"
   ]
  },
  {
   "cell_type": "markdown",
   "metadata": {},
   "source": [
    "https://stackoverflow.com/questions/53178018/average-of-elements-in-a-subarray\n",
    "\n",
    "https://stackoverflow.com/questions/57814566/get-average-of-the-numpy-ndarray"
   ]
  },
  {
   "cell_type": "code",
   "execution_count": null,
   "metadata": {},
   "outputs": [],
   "source": [
    "m = np.array([[[0, 1, 2], [3, 4, 5], [6, 7, 8]],\n",
    "              [[9, 10, 11], [12, 13, 14], [15, 16, 17]],\n",
    "              [[18, 19, 20], [21, 22, 23], [24, 25, 26]]])"
   ]
  },
  {
   "cell_type": "code",
   "execution_count": null,
   "metadata": {},
   "outputs": [],
   "source": [
    "m.shape\n",
    "np.mean(m, axis=0)\n",
    "np.mean(m, axis=(0,1))\n",
    "np.mean(m, axis=2)\n",
    "m[0]"
   ]
  },
  {
   "cell_type": "code",
   "execution_count": null,
   "metadata": {},
   "outputs": [],
   "source": [
    "[np.mean(m[i]) for i in range(m.shape[0])]\n",
    "list(map(np.mean, m))\n",
    "np.mean(m, (1, 2))"
   ]
  },
  {
   "cell_type": "markdown",
   "metadata": {},
   "source": [
    "# `np.where`"
   ]
  },
  {
   "cell_type": "code",
   "execution_count": null,
   "metadata": {},
   "outputs": [],
   "source": [
    "m = np.array([[[0, 1, 2], [3, 4, 5], [6, 7, 8]],\n",
    "              [[9, 10, 11], [12, 13, 14], [15, 16, 17]],\n",
    "              [[18, 19, 20], [21, 22, 23], [24, 25, 26]]])"
   ]
  },
  {
   "cell_type": "code",
   "execution_count": null,
   "metadata": {},
   "outputs": [],
   "source": [
    "np.where(m == np.amax(m)) "
   ]
  },
  {
   "cell_type": "code",
   "execution_count": null,
   "metadata": {},
   "outputs": [],
   "source": [
    "a = np.array([1,2,3,4])\n",
    "x, = np.where(a==a.max())\n",
    "print(x)"
   ]
  },
  {
   "cell_type": "code",
   "execution_count": null,
   "metadata": {},
   "outputs": [],
   "source": [
    "data = [[0.4, 1.5, 2.6],\n",
    "        [3.4, 0.2, 0.0],\n",
    "        [np.nan, 3.2, 1.0],\n",
    "        [1.0, 4.6, np.nan]]"
   ]
  },
  {
   "cell_type": "code",
   "execution_count": null,
   "metadata": {},
   "outputs": [],
   "source": [
    "np.where(np.isnan(data))"
   ]
  },
  {
   "cell_type": "code",
   "execution_count": null,
   "metadata": {},
   "outputs": [],
   "source": [
    "x = np.array(data)\n",
    "np.isnan(x) "
   ]
  },
  {
   "cell_type": "code",
   "execution_count": null,
   "metadata": {},
   "outputs": [],
   "source": [
    "import warnings\n",
    "warnings.filterwarnings('ignore')\n",
    "data = [[0.4, 1.5, 2.6],\n",
    "        [3.4, 0.2, 0.0],\n",
    "        [np.nan, 3.2, 1.0],\n",
    "        [1.0, 4.6, np.nan]]\n",
    "x = np.array(data) \n",
    "i, j = np.where(x > 1 )\n",
    "warnings.filterwarnings('ignore')\n",
    "for a, b in zip(i, j):\n",
    "    print('lon: {} lat: {} value: {}'.format(a, b, x[a,b]))"
   ]
  },
  {
   "cell_type": "code",
   "execution_count": null,
   "metadata": {},
   "outputs": [],
   "source": [
    "array= np.array([[1, 2, 3],[np.nan, np.nan, np.nan], [3, 4, 5]])\n",
    "np.nan_to_num(array)"
   ]
  },
  {
   "cell_type": "code",
   "execution_count": null,
   "metadata": {},
   "outputs": [],
   "source": [
    "A = np.array([[ 0.57383254,  0.10132767,  0.86211639,  0.35402222],\n",
    "       [ 0.20238346,  0.93204519,  0.84563318,  0.68373515],\n",
    "       [ 0.5795946 ,  0.24307856,  0.56676058,  0.08502582],\n",
    "       [ 0.27188428,  0.0630682 ,  0.9762359 ,  0.50456657],\n",
    "       [ 0.6522969 ,  0.85018875,  0.22728716,  0.82851854]]) \n",
    "target = np.array([ 0.57959463 ,  0.24307856,  0.56676058,  0.08502582])"
   ]
  },
  {
   "cell_type": "code",
   "execution_count": null,
   "metadata": {},
   "outputs": [],
   "source": [
    "np.where(A==target)[0]"
   ]
  },
  {
   "cell_type": "code",
   "execution_count": null,
   "metadata": {},
   "outputs": [],
   "source": [
    "result, = np.where(np.all(A == target, axis=1))\n",
    "print(result)"
   ]
  },
  {
   "cell_type": "markdown",
   "metadata": {},
   "source": [
    "https://stackoverflow.com/questions/57833856/how-to-convert-ax-y-z-to-x0-xn-y0-yn-z0-zn"
   ]
  },
  {
   "cell_type": "code",
   "execution_count": null,
   "metadata": {},
   "outputs": [],
   "source": [
    "A = np.ones((1,2))\n",
    "np.where(A)[0]\n",
    "np.where(A)[1]\n",
    "np.ravel(A)"
   ]
  },
  {
   "cell_type": "markdown",
   "metadata": {},
   "source": [
    "# `np.rotate`"
   ]
  },
  {
   "cell_type": "code",
   "execution_count": null,
   "metadata": {},
   "outputs": [],
   "source": [
    "x = np.arange(25).reshape(5, -1) \n",
    "rotate(x, angle=45, reshape=False)"
   ]
  },
  {
   "cell_type": "code",
   "execution_count": null,
   "metadata": {},
   "outputs": [],
   "source": [
    "def switch1(s):\n",
    "    s = list(s)\n",
    "    for i in range(len(s)):\n",
    "        if s[i] == 'a':\n",
    "            s[i] = 'b'\n",
    "        if s[i] == 'b':\n",
    "            s[i] = 'a'\n",
    "    return s\n",
    "\n",
    "def switch2(s):\n",
    "    s = list(s)\n",
    "    for i in range(len(s)):\n",
    "        if s[i] == 'a':\n",
    "            s[i] = 'b'\n",
    "        elif s[i] == 'b':\n",
    "            s[i] = 'a'\n",
    "    return s\n",
    "\n",
    "switch1('abab')\n",
    "switch2('abab')"
   ]
  },
  {
   "cell_type": "markdown",
   "metadata": {},
   "source": [
    "# `np.searchsorted`"
   ]
  },
  {
   "cell_type": "markdown",
   "metadata": {},
   "source": [
    "* https://stackoverflow.com/questions/57121825/vectorized-approach-to-extract-the-rows-of-the-end-point-array-that-contains-the"
   ]
  },
  {
   "cell_type": "code",
   "execution_count": null,
   "metadata": {},
   "outputs": [],
   "source": [
    "np.random.seed(0)\n",
    "\n",
    "size = 32000\n",
    "base_arr = np.arange(size)*10\n",
    "base_arr\n",
    "t1 = np.random.randint(0,6, size)+base_arr\n",
    "t2 = np.random.randint(5,10, size)+base_arr\n",
    "\n",
    "A = np.vstack((t1,t2)).T\n",
    "V = np.sort(np.random.randint(0,10,3*size)+np.repeat(base_arr,3))"
   ]
  },
  {
   "cell_type": "code",
   "execution_count": null,
   "metadata": {},
   "outputs": [],
   "source": [
    "A[np.searchsorted(v,A[:,0],'left')!=np.searchsorted(v,A[:,1],'right')]"
   ]
  },
  {
   "cell_type": "code",
   "execution_count": null,
   "metadata": {},
   "outputs": [],
   "source": [
    "def find_bounding_intervals(A, v):\n",
    "    rows = []\n",
    "    i = 0\n",
    "    for row in A:\n",
    "        while all(v[i] < row):\n",
    "            i += 1\n",
    "        if row[0] <= v[i] <= row[1]:\n",
    "            rows.append(row)\n",
    "    return np.array(rows)\n",
    "find_bounding_intervals(A, V)"
   ]
  },
  {
   "cell_type": "markdown",
   "metadata": {},
   "source": [
    "# `np.consum`"
   ]
  },
  {
   "cell_type": "code",
   "execution_count": null,
   "metadata": {},
   "outputs": [],
   "source": [
    "x = np.array([[np.nan, np.nan, np.nan, np.nan, np.nan],\n",
    "       [np.nan, np.nan, np.nan, np.nan, np.nan],\n",
    "       [ 0., np.nan, np.nan, np.nan, np.nan],\n",
    "       [ 0., np.nan,  0., np.nan,  0.],\n",
    "       [ 0.,  0.,  0.,  0.,  0.],\n",
    "       [ 0.,  0.,  0.,  0.,  0.],\n",
    "       [np.nan,  0.,  0.,  0.,  0.]])\n",
    "x.T\n",
    "np.isnan(x)\n",
    "np.nonzero(x)\n",
    "np.where(np.isnan(x))\n",
    "\n",
    "x[np.nonzero(x)] = 2 \n",
    "x "
   ]
  },
  {
   "cell_type": "code",
   "execution_count": null,
   "metadata": {},
   "outputs": [],
   "source": [
    "x = np.array([[5.72756493, 0.        , 0.        ],\n",
    "          [2.86378246, 4.96021673, 0.        ],\n",
    "          [5.72756493, 3.30681115, 2.33826859]])"
   ]
  },
  {
   "cell_type": "markdown",
   "metadata": {},
   "source": [
    "https://stackoverflow.com/questions/57966043/replace-zeros-in-an-array-with-a-continuous-sequence-of-integers\n"
   ]
  },
  {
   "cell_type": "code",
   "execution_count": null,
   "metadata": {},
   "outputs": [],
   "source": [
    "arr = np.array([[np.nan, np.nan, np.nan, np.nan, np.nan],\n",
    "       [np.nan, np.nan, np.nan, np.nan, np.nan],\n",
    "       [ 0., np.nan, np.nan, np.nan, np.nan],\n",
    "       [ 0., np.nan,  0., np.nan,  0.],\n",
    "       [ 0.,  0.,  0.,  0.,  0.],\n",
    "       [ 0.,  0.,  0.,  0.,  0.],\n",
    "       [np.nan,  0.,  0.,  0.,  0.]])\n",
    "\n",
    "mask = ~np.isnan(arr)\n",
    "np.nan_to_num(arr + 1).ravel('F')\n",
    "np.nan_to_num(arr + 1).ravel('F').cumsum()\n",
    "# Applying ravel function in F-style ordering\n",
    "\n",
    "arr[mask] = np.nan_to_num(arr + 1).ravel('F').cumsum().reshape(arr.shape, order='F')[mask]\n",
    "arr "
   ]
  },
  {
   "cell_type": "markdown",
   "metadata": {},
   "source": [
    "# generate a random array "
   ]
  },
  {
   "cell_type": "markdown",
   "metadata": {},
   "source": [
    "https://stackoverflow.com/questions/57814566/get-average-of-the-numpy-ndarray/57814708#57814708"
   ]
  },
  {
   "cell_type": "code",
   "execution_count": 14,
   "metadata": {
    "ExecuteTime": {
     "end_time": "2019-11-22T14:33:44.502963Z",
     "start_time": "2019-11-22T14:33:44.489398Z"
    }
   },
   "outputs": [
    {
     "data": {
      "text/plain": [
       "3"
      ]
     },
     "execution_count": 14,
     "metadata": {},
     "output_type": "execute_result"
    },
    {
     "data": {
      "text/plain": [
       "array([[0.94090967, 0.69684863, 0.24142066],\n",
       "       [0.79673834, 0.75326164, 0.48490091],\n",
       "       [0.63579227, 0.48572782, 0.05323919]])"
      ]
     },
     "execution_count": 14,
     "metadata": {},
     "output_type": "execute_result"
    },
    {
     "data": {
      "text/plain": [
       "array([[0.67543962, 0.01132504],\n",
       "       [0.99036466, 0.88944142]])"
      ]
     },
     "execution_count": 14,
     "metadata": {},
     "output_type": "execute_result"
    }
   ],
   "source": [
    "np.random.randint(1,10)\n",
    "np.random.random((3, 3))\n",
    "np.random.random_sample((2,2))"
   ]
  },
  {
   "cell_type": "code",
   "execution_count": 24,
   "metadata": {
    "ExecuteTime": {
     "end_time": "2019-11-22T14:39:13.530750Z",
     "start_time": "2019-11-22T14:39:13.521159Z"
    }
   },
   "outputs": [
    {
     "data": {
      "text/plain": [
       "array([[6],\n",
       "       [8]])"
      ]
     },
     "execution_count": 24,
     "metadata": {},
     "output_type": "execute_result"
    }
   ],
   "source": [
    "ShapeOfX = (2,1)\n",
    "X = np.random.randint(1,10,(ShapeOfX))\n",
    "X "
   ]
  },
  {
   "cell_type": "code",
   "execution_count": 28,
   "metadata": {
    "ExecuteTime": {
     "end_time": "2019-11-22T14:39:56.187180Z",
     "start_time": "2019-11-22T14:39:56.181764Z"
    }
   },
   "outputs": [],
   "source": [
    "A = np.random.randint(1, 10, [2,3])"
   ]
  },
  {
   "cell_type": "code",
   "execution_count": null,
   "metadata": {},
   "outputs": [],
   "source": []
  }
 ],
 "metadata": {
  "hide_input": false,
  "kernelspec": {
   "display_name": "Python 3",
   "language": "python",
   "name": "python3"
  },
  "language_info": {
   "codemirror_mode": {
    "name": "ipython",
    "version": 3
   },
   "file_extension": ".py",
   "mimetype": "text/x-python",
   "name": "python",
   "nbconvert_exporter": "python",
   "pygments_lexer": "ipython3",
   "version": "3.7.4"
  },
  "toc": {
   "base_numbering": 1,
   "nav_menu": {},
   "number_sections": true,
   "sideBar": true,
   "skip_h1_title": false,
   "title_cell": "Table of Contents",
   "title_sidebar": "Contents",
   "toc_cell": false,
   "toc_position": {},
   "toc_section_display": true,
   "toc_window_display": true
  },
  "varInspector": {
   "cols": {
    "lenName": 16,
    "lenType": 16,
    "lenVar": 40
   },
   "kernels_config": {
    "python": {
     "delete_cmd_postfix": "",
     "delete_cmd_prefix": "del ",
     "library": "var_list.py",
     "varRefreshCmd": "print(var_dic_list())"
    },
    "r": {
     "delete_cmd_postfix": ") ",
     "delete_cmd_prefix": "rm(",
     "library": "var_list.r",
     "varRefreshCmd": "cat(var_dic_list()) "
    }
   },
   "types_to_exclude": [
    "module",
    "function",
    "builtin_function_or_method",
    "instance",
    "_Feature"
   ],
   "window_display": false
  }
 },
 "nbformat": 4,
 "nbformat_minor": 2
}
