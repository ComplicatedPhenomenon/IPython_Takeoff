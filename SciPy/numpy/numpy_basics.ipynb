{
 "cells": [
  {
   "cell_type": "code",
   "execution_count": null,
   "metadata": {},
   "outputs": [],
   "source": [
    "from IPython.core.interactiveshell import InteractiveShell\n",
    "InteractiveShell.ast_node_interactivity = \"all\" "
   ]
  },
  {
   "cell_type": "code",
   "execution_count": null,
   "metadata": {},
   "outputs": [],
   "source": [
    "%matplotlib inline"
   ]
  },
  {
   "cell_type": "code",
   "execution_count": null,
   "metadata": {},
   "outputs": [],
   "source": [
    "import time\n",
    "import math"
   ]
  },
  {
   "cell_type": "code",
   "execution_count": null,
   "metadata": {},
   "outputs": [],
   "source": [
    "import numpy as np\n",
    "import pandas as pd \n",
    "import matplotlib.pyplot as plt"
   ]
  },
  {
   "cell_type": "markdown",
   "metadata": {},
   "source": [
    "# `np.sum` "
   ]
  },
  {
   "cell_type": "markdown",
   "metadata": {},
   "source": [
    "https://realpython.com/numpy-array-programming/"
   ]
  },
  {
   "cell_type": "code",
   "execution_count": null,
   "metadata": {},
   "outputs": [],
   "source": [
    "array = np.array([[[[2, -3], [3, 2]], [[-4, -1], [-5, 1]], [[-7, -5], [-1, 6]],\n",
    "                   [[-5, 0], [-4, 2]]],\n",
    "                  [[[-1, 4], [6, 1]], [[-2, -3], [-5, 5]], [[-2, -8], [-1, 7]],\n",
    "                   [[-1, 8], [-4, 2]]]])\n",
    "array.shape\n",
    "np.sum(array, axis=3)"
   ]
  },
  {
   "cell_type": "markdown",
   "metadata": {},
   "source": [
    "# Multiplication"
   ]
  },
  {
   "cell_type": "markdown",
   "metadata": {},
   "source": [
    "https://stackoverflow.com/questions/57806304/numpy-elementwise-multiplication-with-multiple-columns#57806420"
   ]
  },
  {
   "cell_type": "code",
   "execution_count": null,
   "metadata": {},
   "outputs": [],
   "source": [
    "a = np.array([[1, 2, 3], [4, 5, 6]])\n",
    "b = np.array([[7, 8, 9, 10], [11, 12, 13, 14]])\n",
    "c = np.zeros((2, 4, 3))\n",
    "\n",
    "for i, row in enumerate(b):\n",
    "    for j, col in enumerate(row):\n",
    "        print('Mult:', a[i, :], '*', col)\n",
    "        c[i, j, :] = a[i, :] * col\n",
    "\n",
    "print(c[0, :, :])\n",
    "print(c[1, :, :])"
   ]
  },
  {
   "cell_type": "code",
   "execution_count": null,
   "metadata": {},
   "outputs": [],
   "source": [
    "a = np.array([[1, 2, 3], [4, 5, 6]])\n",
    "b = np.array([[7, 8, 9, 10], [11, 12, 13, 14]])\n",
    "print([item * k for item in a for k in b.ravel()])"
   ]
  },
  {
   "cell_type": "code",
   "execution_count": null,
   "metadata": {},
   "outputs": [],
   "source": [
    "a = np.array([[1, 2, 3], [4, 5, 6]])\n",
    "b = np.array([[7, 8, 9, 10], [11, 12, 13, 14]])\n",
    "a[:,None,:] * b[:,:,None]"
   ]
  },
  {
   "cell_type": "markdown",
   "metadata": {},
   "source": [
    "# `np.reshape`"
   ]
  },
  {
   "cell_type": "markdown",
   "metadata": {},
   "source": [
    "https://docs.scipy.org/doc/numpy/reference/generated/numpy.reshape.html#numpy.reshape"
   ]
  },
  {
   "cell_type": "code",
   "execution_count": null,
   "metadata": {},
   "outputs": [],
   "source": [
    "a = np.array([[1,2,3, 4], [5,6,7,8]])\n",
    "print(np.reshape(a, (-2)) )\n",
    "print(\"___________________________________\")\n",
    "print(np.reshape(a, (2, 2,-2)) )\n",
    "print(\"___________________________________\")\n",
    "print(np.reshape(a, (2, -1,-2)) )"
   ]
  },
  {
   "cell_type": "markdown",
   "metadata": {},
   "source": [
    "# `np.array. tolist`"
   ]
  },
  {
   "cell_type": "code",
   "execution_count": null,
   "metadata": {},
   "outputs": [],
   "source": [
    "arr = np.array([[1, 1, 1, 1], [2, 2, 2, 2], [3, 3, 3, 3], [4, 4, 4, 4]])\n",
    "lens = [1, 2, 3, 4]\n",
    "[a[:i].tolist() for a, i in zip(arr, lens)]"
   ]
  },
  {
   "cell_type": "code",
   "execution_count": null,
   "metadata": {},
   "outputs": [],
   "source": [
    "num1 = [2, 2, 0]\n",
    "num2 = [1, 0]\n",
    "list(str( int(''.join(map(str, num1))) * int(''.join(map(str, num2)))))"
   ]
  },
  {
   "cell_type": "code",
   "execution_count": null,
   "metadata": {},
   "outputs": [],
   "source": [
    "def multiply(num1, num2):\n",
    "    if num1 == [0] or num2 == [0]:\n",
    "        return [0]\n",
    "    sign = -1 if (num1[0] < 0) ^ (num2[0] < 0) else 1\n",
    "    num1[0] = abs(num1[0])\n",
    "    num2[0] = abs(num2[0])\n",
    "    res = [0] * (len(num1) + len(num2) + 1) # space O(n + m)\n",
    "    for i in range(len(num1) - 1, -1, -1):\n",
    "        for j in range(len(num2) - 1, -1, -1):\n",
    "            res[i + j + 1] += num1[i] * num2[j]\n",
    "            res[i + j] += res[i + j + 1] // 10\n",
    "            res[i + j + 1] %= 10\n",
    "    res[0] *= sign\n",
    "\n",
    "    #res = res[next((i for i, x in enumerate(res) if x != 0), len(res)):] or [0]\n",
    "    return res\n",
    "\n",
    "multiply(num1, num2)"
   ]
  },
  {
   "cell_type": "markdown",
   "metadata": {},
   "source": [
    "# Large array "
   ]
  },
  {
   "cell_type": "markdown",
   "metadata": {},
   "source": [
    "https://stackoverflow.com/questions/57565758/efficient-way-to-write-a-list-to-file-in-python/57565815#57565815"
   ]
  },
  {
   "cell_type": "code",
   "execution_count": null,
   "metadata": {},
   "outputs": [],
   "source": [
    "import numpy as np\n",
    "mylist = np.arange(1,n+1)\n",
    "list_to_write = func(mylist)\n",
    "np.savetxt('test.out', x, delimiter=',') "
   ]
  },
  {
   "cell_type": "markdown",
   "metadata": {},
   "source": [
    "# `np.mean`"
   ]
  },
  {
   "cell_type": "markdown",
   "metadata": {},
   "source": [
    "https://stackoverflow.com/questions/53178018/average-of-elements-in-a-subarray\n",
    "\n",
    "https://stackoverflow.com/questions/57814566/get-average-of-the-numpy-ndarray"
   ]
  },
  {
   "cell_type": "code",
   "execution_count": null,
   "metadata": {},
   "outputs": [],
   "source": [
    "m = np.array([[[0, 1, 2], [3, 4, 5], [6, 7, 8]],\n",
    "              [[9, 10, 11], [12, 13, 14], [15, 16, 17]],\n",
    "              [[18, 19, 20], [21, 22, 23], [24, 25, 26]]])"
   ]
  },
  {
   "cell_type": "code",
   "execution_count": null,
   "metadata": {},
   "outputs": [],
   "source": [
    "m.shape\n",
    "np.mean(m, axis=0)\n",
    "np.mean(m, axis=(0,1))\n",
    "np.mean(m, axis=2)\n",
    "m[0]"
   ]
  },
  {
   "cell_type": "code",
   "execution_count": null,
   "metadata": {},
   "outputs": [],
   "source": [
    "[np.mean(m[i]) for i in range(m.shape[0])]\n",
    "list(map(np.mean, m))\n",
    "np.mean(m, (1, 2))"
   ]
  },
  {
   "cell_type": "markdown",
   "metadata": {},
   "source": [
    "## `np.where`"
   ]
  },
  {
   "cell_type": "code",
   "execution_count": null,
   "metadata": {},
   "outputs": [],
   "source": [
    "m = np.array([[[0, 1, 2], [3, 4, 5], [6, 7, 8]],\n",
    "              [[9, 10, 11], [12, 13, 14], [15, 16, 17]],\n",
    "              [[18, 19, 20], [21, 22, 23], [24, 25, 26]]])"
   ]
  },
  {
   "cell_type": "code",
   "execution_count": null,
   "metadata": {},
   "outputs": [],
   "source": [
    "np.where(m == np.amax(m)) "
   ]
  },
  {
   "cell_type": "code",
   "execution_count": null,
   "metadata": {},
   "outputs": [],
   "source": [
    "a = np.array([1,2,3,4])\n",
    "x, = np.where(a==a.max())\n",
    "print(x)"
   ]
  },
  {
   "cell_type": "code",
   "execution_count": null,
   "metadata": {},
   "outputs": [],
   "source": [
    "data = [[0.4, 1.5, 2.6],\n",
    "        [3.4, 0.2, 0.0],\n",
    "        [np.nan, 3.2, 1.0],\n",
    "        [1.0, 4.6, np.nan]]"
   ]
  },
  {
   "cell_type": "code",
   "execution_count": null,
   "metadata": {},
   "outputs": [],
   "source": [
    "np.where(np.isnan(x) )"
   ]
  },
  {
   "cell_type": "code",
   "execution_count": null,
   "metadata": {},
   "outputs": [],
   "source": [
    "x = np.array(data)\n",
    "np.isnan(x) "
   ]
  },
  {
   "cell_type": "code",
   "execution_count": null,
   "metadata": {},
   "outputs": [],
   "source": [
    "import warnings\n",
    "warnings.filterwarnings('ignore')\n",
    "data = [[0.4, 1.5, 2.6],\n",
    "        [3.4, 0.2, 0.0],\n",
    "        [np.nan, 3.2, 1.0],\n",
    "        [1.0, 4.6, np.nan]]\n",
    "x = np.array(data) \n",
    "i, j = np.where(x > 1 )\n",
    "warnings.filterwarnings('ignore')\n",
    "for a, b in zip(i, j):\n",
    "    print('lon: {} lat: {} value: {}'.format(a, b, x[a,b]))"
   ]
  },
  {
   "cell_type": "code",
   "execution_count": null,
   "metadata": {},
   "outputs": [],
   "source": [
    "array= np.array([[1, 2, 3],[np.nan, np.nan, np.nan], [3, 4, 5]])\n",
    "np.nan_to_num(array)"
   ]
  },
  {
   "cell_type": "markdown",
   "metadata": {},
   "source": [
    "# `np.rotate`"
   ]
  },
  {
   "cell_type": "code",
   "execution_count": null,
   "metadata": {},
   "outputs": [],
   "source": [
    "x = np.arange(25).reshape(5, -1) \n",
    "rotate(x, angle=45, reshape=False)"
   ]
  },
  {
   "cell_type": "code",
   "execution_count": null,
   "metadata": {},
   "outputs": [],
   "source": [
    "def switch1(s):\n",
    "    s = list(s)\n",
    "    for i in range(len(s)):\n",
    "        if s[i] == 'a':\n",
    "            s[i] = 'b'\n",
    "        if s[i] == 'b':\n",
    "            s[i] = 'a'\n",
    "    return s\n",
    "\n",
    "def switch2(s):\n",
    "    s = list(s)\n",
    "    for i in range(len(s)):\n",
    "        if s[i] == 'a':\n",
    "            s[i] = 'b'\n",
    "        elif s[i] == 'b':\n",
    "            s[i] = 'a'\n",
    "    return s\n",
    "\n",
    "switch1('abab')\n",
    "switch2('abab')"
   ]
  },
  {
   "cell_type": "markdown",
   "metadata": {},
   "source": [
    "# `np.searchsorted`"
   ]
  },
  {
   "cell_type": "markdown",
   "metadata": {},
   "source": [
    "* https://stackoverflow.com/questions/57121825/vectorized-approach-to-extract-the-rows-of-the-end-point-array-that-contains-the"
   ]
  },
  {
   "cell_type": "code",
   "execution_count": null,
   "metadata": {},
   "outputs": [],
   "source": [
    "np.random.seed(0)\n",
    "\n",
    "size = 32000\n",
    "base_arr = np.arange(size)*10\n",
    "base_arr\n",
    "t1 = np.random.randint(0,6, size)+base_arr\n",
    "t2 = np.random.randint(5,10, size)+base_arr\n",
    "\n",
    "A = np.vstack((t1,t2)).T\n",
    "V = np.sort(np.random.randint(0,10,3*size)+np.repeat(base_arr,3))"
   ]
  },
  {
   "cell_type": "code",
   "execution_count": null,
   "metadata": {},
   "outputs": [],
   "source": [
    "A[np.searchsorted(v,A[:,0],'left')!=np.searchsorted(v,A[:,1],'right')]"
   ]
  },
  {
   "cell_type": "code",
   "execution_count": null,
   "metadata": {},
   "outputs": [],
   "source": [
    "def find_bounding_intervals(A, v):\n",
    "    rows = []\n",
    "    i = 0\n",
    "    for row in A:\n",
    "        while all(v[i] < row):\n",
    "            i += 1\n",
    "        if row[0] <= v[i] <= row[1]:\n",
    "            rows.append(row)\n",
    "    return np.array(rows)\n",
    "find_bounding_intervals(A, V)"
   ]
  },
  {
   "cell_type": "markdown",
   "metadata": {},
   "source": [
    "# Create an array "
   ]
  },
  {
   "cell_type": "markdown",
   "metadata": {},
   "source": [
    "https://stackoverflow.com/questions/57814566/get-average-of-the-numpy-ndarray/57814708#57814708"
   ]
  },
  {
   "cell_type": "code",
   "execution_count": null,
   "metadata": {},
   "outputs": [],
   "source": [
    "np.random.randint(1,10)"
   ]
  },
  {
   "cell_type": "code",
   "execution_count": null,
   "metadata": {},
   "outputs": [],
   "source": [
    "np.random.random((3, 3))"
   ]
  },
  {
   "cell_type": "code",
   "execution_count": null,
   "metadata": {},
   "outputs": [],
   "source": [
    "A = (8, 64, 64, 64, 1)"
   ]
  },
  {
   "cell_type": "code",
   "execution_count": null,
   "metadata": {},
   "outputs": [],
   "source": [
    "X = np.random.randint(1,10,(A))"
   ]
  },
  {
   "cell_type": "code",
   "execution_count": null,
   "metadata": {},
   "outputs": [],
   "source": [
    "np.mean(X, (1, 2, 3, 4))"
   ]
  },
  {
   "cell_type": "code",
   "execution_count": null,
   "metadata": {},
   "outputs": [],
   "source": [
    "list(map(np.mean, X))"
   ]
  },
  {
   "cell_type": "code",
   "execution_count": null,
   "metadata": {},
   "outputs": [],
   "source": []
  }
 ],
 "metadata": {
  "hide_input": false,
  "kernelspec": {
   "display_name": "Python 3",
   "language": "python",
   "name": "python3"
  },
  "language_info": {
   "codemirror_mode": {
    "name": "ipython",
    "version": 3
   },
   "file_extension": ".py",
   "mimetype": "text/x-python",
   "name": "python",
   "nbconvert_exporter": "python",
   "pygments_lexer": "ipython3",
   "version": "3.7.2"
  },
  "toc": {
   "base_numbering": 1,
   "nav_menu": {},
   "number_sections": true,
   "sideBar": true,
   "skip_h1_title": false,
   "title_cell": "Table of Contents",
   "title_sidebar": "Contents",
   "toc_cell": false,
   "toc_position": {},
   "toc_section_display": true,
   "toc_window_display": true
  },
  "varInspector": {
   "cols": {
    "lenName": 16,
    "lenType": 16,
    "lenVar": 40
   },
   "kernels_config": {
    "python": {
     "delete_cmd_postfix": "",
     "delete_cmd_prefix": "del ",
     "library": "var_list.py",
     "varRefreshCmd": "print(var_dic_list())"
    },
    "r": {
     "delete_cmd_postfix": ") ",
     "delete_cmd_prefix": "rm(",
     "library": "var_list.r",
     "varRefreshCmd": "cat(var_dic_list()) "
    }
   },
   "types_to_exclude": [
    "module",
    "function",
    "builtin_function_or_method",
    "instance",
    "_Feature"
   ],
   "window_display": false
  }
 },
 "nbformat": 4,
 "nbformat_minor": 2
}
