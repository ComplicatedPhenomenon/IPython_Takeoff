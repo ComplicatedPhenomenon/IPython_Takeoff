{
 "cells": [
  {
   "cell_type": "code",
   "execution_count": null,
   "metadata": {},
   "outputs": [],
   "source": [
    "from IPython.core.interactiveshell import InteractiveShell\n",
    "InteractiveShell.ast_node_interactivity = \"all\" "
   ]
  },
  {
   "cell_type": "code",
   "execution_count": null,
   "metadata": {},
   "outputs": [],
   "source": [
    "import math"
   ]
  },
  {
   "cell_type": "code",
   "execution_count": null,
   "metadata": {},
   "outputs": [],
   "source": [
    "import numpy as np"
   ]
  },
  {
   "cell_type": "code",
   "execution_count": null,
   "metadata": {},
   "outputs": [],
   "source": [
    "import pandas as pd "
   ]
  },
  {
   "cell_type": "code",
   "execution_count": null,
   "metadata": {},
   "outputs": [],
   "source": [
    "from scipy.ndimage.interpolation import rotate"
   ]
  },
  {
   "cell_type": "markdown",
   "metadata": {},
   "source": [
    "https://realpython.com/numpy-array-programming/"
   ]
  },
  {
   "cell_type": "code",
   "execution_count": null,
   "metadata": {},
   "outputs": [],
   "source": [
    "array = np.array([[[[ 2, -3],[ 3,  2]],[[-4, -1],[-5,  1]],\n",
    "                [[-7, -5],[-1,  6]],[[-5,  0],[-4,  2]]],\n",
    "               [[[-1,  4],[ 6,  1]],[[-2, -3],[-5,  5]],\n",
    "                [[-2, -8],[-1,  7]],[[-1,  8],[-4,  2]]]])\n",
    "np.sum(array, axis=3)"
   ]
  },
  {
   "cell_type": "code",
   "execution_count": null,
   "metadata": {},
   "outputs": [],
   "source": [
    "list_in_dict = list(range(0, 10))\n",
    "test_dict = {\"A\" : list_in_dict , \"B\": list_in_dict , \"C\": list_in_dict}\n",
    "delete_index_list = [1,5,7]"
   ]
  },
  {
   "cell_type": "code",
   "execution_count": null,
   "metadata": {},
   "outputs": [],
   "source": [
    "k = ['A','B','C']\n",
    "delete_index_list = [1,5,7]\n",
    "e = [i for i in range(10) if i not in delete_index_list]\n",
    "v = [e, e, e]\n",
    "dict(zip(k, v))"
   ]
  },
  {
   "cell_type": "code",
   "execution_count": null,
   "metadata": {},
   "outputs": [],
   "source": [
    "[e]*3"
   ]
  },
  {
   "cell_type": "code",
   "execution_count": null,
   "metadata": {},
   "outputs": [],
   "source": [
    "import ctypes\n",
    "a = \"hello world\"\n",
    "x = ctypes.cast(id(a), ctypes.py_object).value\n",
    "x \n",
    "a = 'm'\n",
    "x = ctypes.cast(id(a), ctypes.py_object).value\n",
    "x "
   ]
  },
  {
   "cell_type": "code",
   "execution_count": null,
   "metadata": {},
   "outputs": [],
   "source": [
    "mm = \"hello world\"\n",
    "n = mm\n",
    "mm = 'm'\n",
    "n "
   ]
  },
  {
   "cell_type": "markdown",
   "metadata": {},
   "source": [
    "https://stackoverflow.com/questions/1145722/simulating-pointers-in-python"
   ]
  },
  {
   "cell_type": "code",
   "execution_count": null,
   "metadata": {},
   "outputs": [],
   "source": [
    "class ref:\n",
    "    def __init__(self, obj):\n",
    "        self.obj = obj\n",
    "\n",
    "    def get(self):\n",
    "        return self.obj\n",
    "\n",
    "    def sets(self, obj):\n",
    "        self.obj = obj\n",
    "\n",
    "\n",
    "\n",
    "a = ref(\"Hello\")\n",
    "b = a\n",
    "b.sets('World')\n",
    "a.get() \n",
    "a.sets('MM')\n",
    "b.get() "
   ]
  },
  {
   "cell_type": "code",
   "execution_count": null,
   "metadata": {},
   "outputs": [],
   "source": [
    "a = ref(\"Results/Job_test/Output/\")\n",
    "miscellaneous = {'output_dir': a}\n",
    "\n",
    "\n",
    "x = a \n",
    "a.sets(\"I_made_it/\")\n",
    "x.get() "
   ]
  },
  {
   "cell_type": "markdown",
   "metadata": {},
   "source": [
    "https://stackoverflow.com/questions/57712609/dictionary-with-values-dependent-on-linked-to-values-of-another-dictionary-in"
   ]
  },
  {
   "cell_type": "code",
   "execution_count": null,
   "metadata": {},
   "outputs": [],
   "source": [
    "class MyOutputDir(object):\n",
    "    outputDir = \"\"\n",
    "\n",
    "outputDirInstance = MyOutputDir()\n",
    "outputDirInstance.outputDir = \"This is one value\"\n",
    "\n",
    "d1 = {\"o1\": outputDirInstance}\n",
    "\n",
    "d2 = {\"o1\": d1[\"o1\"]}\n",
    "\n",
    "print(d2[\"o1\"].outputDir)\n",
    "# prints: 'This is one value'\n",
    "\n",
    "d2[\"o1\"].outputDir = \"Another, newer value\"\n",
    "\n",
    "print(d1[\"o1\"].outputDir)\n",
    "# prints: 'Another, newer value'"
   ]
  },
  {
   "cell_type": "code",
   "execution_count": null,
   "metadata": {},
   "outputs": [],
   "source": [
    "class MyOutputDir(object):\n",
    "    outputDir = \"\"\n",
    "\n",
    "outputDirInstance = MyOutputDir()\n",
    "outputDirInstance.outputDir = \"Results/Job_test/Output/\"\n",
    "\n",
    "d1 = {\"output_dir\": outputDirInstance}\n",
    "\n",
    "d2 = {\"output_dir\": d1[\"output_dir\"]}\n",
    "\n",
    "print(d2[\"output_dir\"].outputDir)\n",
    "# prints: 'This is one value'\n",
    "\n",
    "d2[\"output_dir\"].outputDir = \"I_made_it/\"\n",
    "\n",
    "print(d1[\"output_dir\"].outputDir)\n",
    "# prints: 'Another, newer value'"
   ]
  },
  {
   "cell_type": "code",
   "execution_count": null,
   "metadata": {},
   "outputs": [],
   "source": [
    "# Build data\n",
    "list_in_dict = list(range(1, 10))\n",
    "test_dict = {\"A\" : list_in_dict , \"B\": list_in_dict , \"C\": list_in_dict}\n",
    "\n",
    "# Index to remve\n",
    "delete_index_list = [1,5,7]\n",
    "\n",
    "out = {k:[elt for elt in v if elt not in delete_index_list] for k,v in test_dict.items() }\n",
    "print(out)\n",
    "# {'A': [0, 2, 3, 4, 6, 8, 9],\n",
    "#  'B': [0, 2, 3, 4, 6, 8, 9],\n",
    "#  'C': [0, 2, 3, 4, 6, 8, 9]}"
   ]
  },
  {
   "cell_type": "markdown",
   "metadata": {},
   "source": [
    "# `np.array` to list"
   ]
  },
  {
   "cell_type": "code",
   "execution_count": null,
   "metadata": {},
   "outputs": [],
   "source": [
    "x = 'pbaynatnahproarnsm'\n",
    "' '.join(x[::3])\n",
    "arr = np.array([[1,1,1,1], [2,2,2,2], [3,3,3,3], [4,4,4,4]])\n",
    "lens = [1,2,3,4] \n",
    "[a[:i].tolist() for a, i in zip(arr, lens)]"
   ]
  },
  {
   "cell_type": "code",
   "execution_count": null,
   "metadata": {},
   "outputs": [],
   "source": [
    "num1 = [2, 2, 0]\n",
    "num2 = [1, 0]\n",
    "list(str( int(''.join(map(str, num1))) * int(''.join(map(str, num2)))))"
   ]
  },
  {
   "cell_type": "code",
   "execution_count": null,
   "metadata": {},
   "outputs": [],
   "source": [
    "def multiply(num1, num2):\n",
    "    if num1 == [0] or num2 == [0]:\n",
    "        return [0]\n",
    "    sign = -1 if (num1[0] < 0) ^ (num2[0] < 0) else 1\n",
    "    num1[0] = abs(num1[0])\n",
    "    num2[0] = abs(num2[0])\n",
    "    res = [0] * (len(num1) + len(num2) + 1) # space O(n + m)\n",
    "    for i in range(len(num1) - 1, -1, -1):\n",
    "        for j in range(len(num2) - 1, -1, -1):\n",
    "            res[i + j + 1] += num1[i] * num2[j]\n",
    "            res[i + j] += res[i + j + 1] // 10\n",
    "            res[i + j + 1] %= 10\n",
    "    res[0] *= sign\n",
    "\n",
    "    #res = res[next((i for i, x in enumerate(res) if x != 0), len(res)):] or [0]\n",
    "    return res\n",
    "\n",
    "multiply(num1, num2)"
   ]
  },
  {
   "cell_type": "code",
   "execution_count": 73,
   "metadata": {},
   "outputs": [
    {
     "data": {
      "text/plain": [
       "4"
      ]
     },
     "execution_count": 73,
     "metadata": {},
     "output_type": "execute_result"
    }
   ],
   "source": [
    "3 if 4>5 ^ 6> 5 else 4"
   ]
  },
  {
   "cell_type": "markdown",
   "metadata": {},
   "source": [
    "# Large array "
   ]
  },
  {
   "cell_type": "markdown",
   "metadata": {},
   "source": [
    "https://stackoverflow.com/questions/57565758/efficient-way-to-write-a-list-to-file-in-python/57565815#57565815"
   ]
  },
  {
   "cell_type": "code",
   "execution_count": null,
   "metadata": {},
   "outputs": [],
   "source": [
    "import numpy as np\n",
    "mylist = np.arange(1,n+1)\n",
    "list_to_write = func(mylist)\n",
    "np.savetxt('test.out', x, delimiter=',') "
   ]
  },
  {
   "cell_type": "markdown",
   "metadata": {},
   "source": [
    "# Largest element"
   ]
  },
  {
   "cell_type": "code",
   "execution_count": null,
   "metadata": {},
   "outputs": [],
   "source": [
    "m = np.array([[[ 0,  1,  2], \n",
    "               [ 3,  4,  5],  \n",
    "               [ 6,  7,  8]],\n",
    "\n",
    "              [[ 9, 10, 11],\n",
    "               [12, 13, 14],\n",
    "               [15, 16, 17]],\n",
    "\n",
    "              [[18, 19, 20],\n",
    "               [21, 22, 23],\n",
    "               [24, 25, 26]]])"
   ]
  },
  {
   "cell_type": "code",
   "execution_count": null,
   "metadata": {},
   "outputs": [],
   "source": [
    "m[1,1,2]"
   ]
  },
  {
   "cell_type": "code",
   "execution_count": null,
   "metadata": {},
   "outputs": [],
   "source": [
    "m.shape"
   ]
  },
  {
   "cell_type": "code",
   "execution_count": null,
   "metadata": {},
   "outputs": [],
   "source": [
    "pos = np.where(m == np.amax(m)) "
   ]
  },
  {
   "cell_type": "code",
   "execution_count": null,
   "metadata": {},
   "outputs": [],
   "source": [
    "a = np.array([1,2,3,4])\n",
    "x, = np.where(a==a.max())\n",
    "print(x)"
   ]
  },
  {
   "cell_type": "code",
   "execution_count": null,
   "metadata": {},
   "outputs": [],
   "source": [
    "data = [[0.4, 1.5, 2.6],\n",
    "        [3.4, 0.2, 0.0],\n",
    "        [np.nan, 3.2, 1.0],\n",
    "        [1.0, 4.6, np.nan]]"
   ]
  },
  {
   "cell_type": "code",
   "execution_count": null,
   "metadata": {},
   "outputs": [],
   "source": [
    "np.where(np.isnan(x) )"
   ]
  },
  {
   "cell_type": "code",
   "execution_count": null,
   "metadata": {},
   "outputs": [],
   "source": [
    "x = np.array(data)\n",
    "np.isnan(x) "
   ]
  },
  {
   "cell_type": "code",
   "execution_count": null,
   "metadata": {},
   "outputs": [],
   "source": [
    "import warnings\n",
    "warnings.filterwarnings('ignore')\n",
    "data = [[0.4, 1.5, 2.6],\n",
    "        [3.4, 0.2, 0.0],\n",
    "        [np.nan, 3.2, 1.0],\n",
    "        [1.0, 4.6, np.nan]]\n",
    "x = np.array(data) \n",
    "i, j = np.where(x > 1 )\n",
    "warnings.filterwarnings('ignore')\n",
    "for a, b in zip(i, j):\n",
    "    print('lon: {} lat: {} value: {}'.format(a, b, x[a,b]))"
   ]
  },
  {
   "cell_type": "markdown",
   "metadata": {},
   "source": [
    "# Rotate array "
   ]
  },
  {
   "cell_type": "code",
   "execution_count": null,
   "metadata": {},
   "outputs": [],
   "source": [
    "x = np.arange(25).reshape(5, -1) \n",
    "rotate(x, angle=45, reshape=False)"
   ]
  },
  {
   "cell_type": "code",
   "execution_count": null,
   "metadata": {},
   "outputs": [],
   "source": [
    "def switch1(s):\n",
    "    s = list(s)\n",
    "    for i in range(len(s)):\n",
    "        if s[i] == 'a':\n",
    "            s[i] = 'b'\n",
    "        if s[i] == 'b':\n",
    "            s[i] = 'a'\n",
    "    return s\n",
    "\n",
    "def switch2(s):\n",
    "    s = list(s)\n",
    "    for i in range(len(s)):\n",
    "        if s[i] == 'a':\n",
    "            s[i] = 'b'\n",
    "        elif s[i] == 'b':\n",
    "            s[i] = 'a'\n",
    "    return s\n",
    "\n",
    "switch1('abab')\n",
    "switch2('abab')"
   ]
  },
  {
   "cell_type": "markdown",
   "metadata": {},
   "source": [
    "# Problem: end-pin array\n",
    "* https://stackoverflow.com/questions/57121825/vectorized-approach-to-extract-the-rows-of-the-end-point-array-that-contains-the"
   ]
  },
  {
   "cell_type": "code",
   "execution_count": null,
   "metadata": {},
   "outputs": [],
   "source": [
    "np.random.seed(0)\n",
    "\n",
    "size = 32000\n",
    "base_arr = np.arange(size)*10\n",
    "\n",
    "t1 = np.random.randint(0,6, size)+base_arr\n",
    "t2 = np.random.randint(5,10, size)+base_arr\n",
    "\n",
    "A = np.vstack((t1,t2)).T\n",
    "V = np.sort(np.random.randint(0,10,3*size)+np.repeat(base_arr,3))\n"
   ]
  },
  {
   "cell_type": "code",
   "execution_count": null,
   "metadata": {},
   "outputs": [],
   "source": [
    "A[1][1]"
   ]
  },
  {
   "cell_type": "code",
   "execution_count": null,
   "metadata": {},
   "outputs": [],
   "source": [
    "A[np.searchsorted(v,A[:,0],'left')!=np.searchsorted(v,A[:,1],'right')]"
   ]
  },
  {
   "cell_type": "code",
   "execution_count": null,
   "metadata": {},
   "outputs": [],
   "source": [
    "def find_bounding_intervals(A, v):\n",
    "    rows = []\n",
    "    i = 0\n",
    "    for row in A:\n",
    "        while all(v[i] < row):\n",
    "            i += 1\n",
    "        if row[0] <= v[i] <= row[1]:\n",
    "            rows.append(row)\n",
    "    return np.array(rows)\n",
    "find_bounding_intervals(A, V)"
   ]
  },
  {
   "cell_type": "markdown",
   "metadata": {},
   "source": [
    "# tem"
   ]
  },
  {
   "cell_type": "code",
   "execution_count": null,
   "metadata": {},
   "outputs": [],
   "source": [
    "all(2 <np.array([3,11]))"
   ]
  },
  {
   "cell_type": "code",
   "execution_count": null,
   "metadata": {},
   "outputs": [],
   "source": [
    "all(2<np.array([0,1]))"
   ]
  },
  {
   "cell_type": "code",
   "execution_count": null,
   "metadata": {},
   "outputs": [],
   "source": [
    "np.random.choice()"
   ]
  },
  {
   "cell_type": "code",
   "execution_count": null,
   "metadata": {},
   "outputs": [],
   "source": [
    "import random "
   ]
  },
  {
   "cell_type": "code",
   "execution_count": null,
   "metadata": {},
   "outputs": [],
   "source": [
    "random.choice([3,2 ])"
   ]
  },
  {
   "cell_type": "markdown",
   "metadata": {},
   "source": [
    "$$ \\sin(n) \\cdot 2 ^ {(-n \\cdot factor)}$$"
   ]
  },
  {
   "cell_type": "code",
   "execution_count": null,
   "metadata": {},
   "outputs": [],
   "source": [
    "n = np.arange(start,end ,np.power(10,6)) \n",
    "np.dot(np.sin(n),np.power(2, np.dot(n, factor)))"
   ]
  },
  {
   "cell_type": "code",
   "execution_count": null,
   "metadata": {},
   "outputs": [],
   "source": [
    "np.linspace(1,10,12)"
   ]
  },
  {
   "cell_type": "code",
   "execution_count": null,
   "metadata": {},
   "outputs": [],
   "source": [
    "np.arange(1,10, 9/12)"
   ]
  }
 ],
 "metadata": {
  "hide_input": false,
  "kernelspec": {
   "display_name": "Python 3",
   "language": "python",
   "name": "python3"
  },
  "language_info": {
   "codemirror_mode": {
    "name": "ipython",
    "version": 3
   },
   "file_extension": ".py",
   "mimetype": "text/x-python",
   "name": "python",
   "nbconvert_exporter": "python",
   "pygments_lexer": "ipython3",
   "version": "3.7.2"
  },
  "toc": {
   "base_numbering": 1,
   "nav_menu": {},
   "number_sections": true,
   "sideBar": true,
   "skip_h1_title": false,
   "title_cell": "Table of Contents",
   "title_sidebar": "Contents",
   "toc_cell": false,
   "toc_position": {},
   "toc_section_display": true,
   "toc_window_display": true
  },
  "varInspector": {
   "cols": {
    "lenName": 16,
    "lenType": 16,
    "lenVar": 40
   },
   "kernels_config": {
    "python": {
     "delete_cmd_postfix": "",
     "delete_cmd_prefix": "del ",
     "library": "var_list.py",
     "varRefreshCmd": "print(var_dic_list())"
    },
    "r": {
     "delete_cmd_postfix": ") ",
     "delete_cmd_prefix": "rm(",
     "library": "var_list.r",
     "varRefreshCmd": "cat(var_dic_list()) "
    }
   },
   "types_to_exclude": [
    "module",
    "function",
    "builtin_function_or_method",
    "instance",
    "_Feature"
   ],
   "window_display": false
  }
 },
 "nbformat": 4,
 "nbformat_minor": 2
}
