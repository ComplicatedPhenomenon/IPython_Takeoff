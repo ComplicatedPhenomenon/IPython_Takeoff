{
 "cells": [
  {
   "cell_type": "code",
   "execution_count": null,
   "metadata": {},
   "outputs": [],
   "source": [
    "from IPython.core.interactiveshell import InteractiveShell\n",
    "InteractiveShell.ast_node_interactivity = \"all\" "
   ]
  },
  {
   "cell_type": "code",
   "execution_count": null,
   "metadata": {},
   "outputs": [],
   "source": [
    "import math"
   ]
  },
  {
   "cell_type": "code",
   "execution_count": null,
   "metadata": {},
   "outputs": [],
   "source": [
    "import numpy as np"
   ]
  },
  {
   "cell_type": "code",
   "execution_count": null,
   "metadata": {},
   "outputs": [],
   "source": [
    "from numpy import arange\n",
    "from timeit import Timer\n",
    "\n",
    "Nelements = 10000\n",
    "Ntimeits = 10000\n",
    "\n",
    "x = arange(Nelements)\n",
    "y = range(Nelements)\n",
    "\n",
    "t_numpy = Timer(\"x.sum()\", \"from __main__ import x\")\n",
    "t_list = Timer(\"sum(y)\", \"from __main__ import y\")\n",
    "print(\"numpy: %.3e\" % (t_numpy.timeit(Ntimeits)/Ntimeits,))\n",
    "print(\"list:  %.3e\" % (t_list.timeit(Ntimeits)/Ntimeits,))"
   ]
  },
  {
   "cell_type": "markdown",
   "metadata": {},
   "source": [
    "# Pick out unique rows"
   ]
  },
  {
   "cell_type": "code",
   "execution_count": null,
   "metadata": {},
   "outputs": [],
   "source": [
    "x = np.array([[1, 1, 1, 0, 0, 0],\n",
    "       [0, 1, 1, 1, 0, 0],\n",
    "       [0, 1, 1, 1, 0, 0],\n",
    "       [1, 1, 1, 0, 0, 0],\n",
    "       [1, 1, 1, 1, 1, 0]])"
   ]
  },
  {
   "cell_type": "code",
   "execution_count": null,
   "metadata": {},
   "outputs": [],
   "source": [
    "np.unique(x, axis=0)\n",
    "np.unique(x)\n",
    "np.unique(x, axis = 1)"
   ]
  },
  {
   "cell_type": "code",
   "execution_count": null,
   "metadata": {},
   "outputs": [],
   "source": [
    "x.shape"
   ]
  },
  {
   "cell_type": "code",
   "execution_count": null,
   "metadata": {},
   "outputs": [],
   "source": [
    "y = np.array([[1],[2],[3],[4],[5],[6]])"
   ]
  },
  {
   "cell_type": "code",
   "execution_count": null,
   "metadata": {},
   "outputs": [],
   "source": [
    "y.shape"
   ]
  },
  {
   "cell_type": "code",
   "execution_count": null,
   "metadata": {},
   "outputs": [],
   "source": [
    "z = np.dot(x, y)\n",
    "z.shape"
   ]
  },
  {
   "cell_type": "code",
   "execution_count": null,
   "metadata": {},
   "outputs": [],
   "source": [
    "np.sin(np.pi)"
   ]
  },
  {
   "cell_type": "code",
   "execution_count": null,
   "metadata": {},
   "outputs": [],
   "source": [
    "np.sin(1.5707963267948966)"
   ]
  },
  {
   "cell_type": "code",
   "execution_count": null,
   "metadata": {},
   "outputs": [],
   "source": [
    "np.arcsin(1)"
   ]
  },
  {
   "cell_type": "code",
   "execution_count": null,
   "metadata": {},
   "outputs": [],
   "source": [
    "np.pi"
   ]
  },
  {
   "cell_type": "code",
   "execution_count": null,
   "metadata": {},
   "outputs": [],
   "source": [
    "np.sin(0)\n",
    "np.sin(2*np.pi)"
   ]
  },
  {
   "cell_type": "markdown",
   "metadata": {},
   "source": [
    "<span style=\"font-family: Cosmic Sans MS; font-size:2em; color: #808000\">\n",
    "$$\n",
    "P ( N ) = \\left( \\begin{array} { c } { n } \\\\ { N } \\end{array} \\right) p ^ { N } ( 1 - p ) ^ { n - N }\n",
    "$$\n",
    "    \n",
    "binomial(n, p, size=None)"
   ]
  },
  {
   "cell_type": "code",
   "execution_count": null,
   "metadata": {},
   "outputs": [],
   "source": [
    "np.random.binomial(2,0.3)"
   ]
  },
  {
   "cell_type": "code",
   "execution_count": null,
   "metadata": {},
   "outputs": [],
   "source": [
    "np.random.binomial(2,0.1, size=300)"
   ]
  },
  {
   "cell_type": "code",
   "execution_count": null,
   "metadata": {},
   "outputs": [],
   "source": [
    "np.random.chisquare()"
   ]
  },
  {
   "cell_type": "code",
   "execution_count": null,
   "metadata": {},
   "outputs": [],
   "source": [
    "math.log(10)"
   ]
  },
  {
   "cell_type": "code",
   "execution_count": null,
   "metadata": {},
   "outputs": [],
   "source": [
    "def Pkernel(x):\n",
    "    \"\"\"Kernel function from Biteau & Williams (2015), Eq. (7)\"\"\"\n",
    "\n",
    "    m = (x < 0.) & (x >= 1.)\n",
    "    x[x < 0.] = np.zeros(np.sum(x < 0.))\n",
    "    x[x >= 1.] = np.zeros(np.sum(x >= 1.))\n",
    "    x = np.sqrt(x)\n",
    "\n",
    "    result = np.log(2.) * np.log(2.)  - np.pi *np.pi / 6. \\\n",
    "\t    + 2. * spence(0.5 + 0.5 * x) - (x + x*x*x) / (1. - x*x) \\\n",
    "\t    + (np.log(1. + x) - 2. * np.log(2.)) * np.log(1. - x) \\\n",
    "\t    + 0.5 * (np.log(1. - x) * np.log(1. - x) - np.log(1. + x) * np.log(1. + x)) \\\n",
    "\t    + 0.5 * (1. + x*x*x*x) / (1. - x*x) * (np.log(1. + x) - np.log(1. - x))\n",
    "    result[x <= 0.] = np.zeros(np.sum(x <= 0.))\n",
    "    result[x >= 1.] = np.zeros(np.sum(x >= 1.))\n",
    "    return result"
   ]
  },
  {
   "cell_type": "code",
   "execution_count": null,
   "metadata": {},
   "outputs": [],
   "source": [
    "np.log10(1e4)"
   ]
  },
  {
   "cell_type": "code",
   "execution_count": null,
   "metadata": {},
   "outputs": [],
   "source": [
    "3e4"
   ]
  },
  {
   "cell_type": "code",
   "execution_count": null,
   "metadata": {},
   "outputs": [],
   "source": [
    "np.zeros([3,4], dtype='int')\n",
    "np.ones([3,4], dtype='int') \n",
    "np.linspace(-7, 2, 10, 0) "
   ]
  },
  {
   "cell_type": "code",
   "execution_count": null,
   "metadata": {},
   "outputs": [],
   "source": [
    "ar2d = np.array([[1, 2, 3], [11, 12, 13], [10, 20, 40]], dtype='uint8', order='C')"
   ]
  },
  {
   "cell_type": "code",
   "execution_count": null,
   "metadata": {},
   "outputs": [],
   "source": [
    "ar2df = np.array([[1, 2, 3], [11, 12, 13], [10, 20, 40]], dtype='uint8', order='F')"
   ]
  },
  {
   "cell_type": "code",
   "execution_count": null,
   "metadata": {},
   "outputs": [],
   "source": [
    "\"\"\"\n",
    "===================================\n",
    "Shaded & power normalized rendering\n",
    "===================================\n",
    "\n",
    "The Mandelbrot set rendering can be improved by using a normalized recount\n",
    "associated with a power normalized colormap (gamma=0.3). Rendering can be\n",
    "further enhanced thanks to shading.\n",
    "\n",
    "The `maxiter` gives the precision of the computation. `maxiter=200` should\n",
    "take a few seconds on most modern laptops.\n",
    "\"\"\"\n",
    "import numpy as np\n",
    "\n",
    "\n",
    "def mandelbrot_set(xmin, xmax, ymin, ymax, xn, yn, maxiter, horizon=2.0):\n",
    "    X = np.linspace(xmin, xmax, xn, dtype=np.float32)\n",
    "    Y = np.linspace(ymin, ymax, yn, dtype=np.float32)\n",
    "    C = X + Y[:, None]*1j\n",
    "    N = np.zeros(C.shape, dtype=int)\n",
    "    Z = np.zeros(C.shape, np.complex64)\n",
    "    for n in range(maxiter):\n",
    "        I = np.less(abs(Z), horizon)\n",
    "        N[I] = n\n",
    "        Z[I] = Z[I]**2 + C[I]\n",
    "    N[N == maxiter-1] = 0\n",
    "    return Z, N\n",
    "\n",
    "\n",
    "if __name__ == '__main__':\n",
    "    import time\n",
    "    import matplotlib\n",
    "    from matplotlib import colors\n",
    "    import matplotlib.pyplot as plt\n",
    "\n",
    "    xmin, xmax, xn = -2.25, +0.75, 3000/2\n",
    "    ymin, ymax, yn = -1.25, +1.25, 2500/2\n",
    "    maxiter = 200\n",
    "    horizon = 2.0 ** 40\n",
    "    log_horizon = np.log(np.log(horizon))/np.log(2)\n",
    "    Z, N = mandelbrot_set(xmin, xmax, ymin, ymax, xn, yn, maxiter, horizon)\n",
    "\n",
    "    # Normalized recount as explained in:\n",
    "    # https://linas.org/art-gallery/escape/smooth.html\n",
    "    # https://www.ibm.com/developerworks/community/blogs/jfp/entry/My_Christmas_Gift\n",
    "\n",
    "    # This line will generate warnings for null values but it is faster to\n",
    "    # process them afterwards using the nan_to_num\n",
    "    with np.errstate(invalid='ignore'):\n",
    "        M = np.nan_to_num(N + 1 -\n",
    "                          np.log(np.log(abs(Z)))/np.log(2) +\n",
    "                          log_horizon)\n",
    "\n",
    "    dpi = 72\n",
    "    width = 10\n",
    "    height = 10*yn/xn\n",
    "    fig = plt.figure(figsize=(width, height), dpi=dpi)\n",
    "    ax = fig.add_axes([0.0, 0.0, 1.0, 1.0], frameon=False, aspect=1)\n",
    "\n",
    "    # Shaded rendering\n",
    "    light = colors.LightSource(azdeg=315, altdeg=10)\n",
    "    M = light.shade(M, cmap=plt.cm.hot, vert_exag=1.5,\n",
    "                    norm=colors.PowerNorm(0.3), blend_mode='hsv')\n",
    "    plt.imshow(M, extent=[xmin, xmax, ymin, ymax], interpolation=\"bicubic\")\n",
    "    ax.set_xticks([])\n",
    "    ax.set_yticks([])\n",
    "\n",
    "    # Some advertisement for matplotlib\n",
    "    year = time.strftime(\"%Y\")\n",
    "    major, minor, micro = matplotlib.__version__.split('.', 2)\n",
    "    text = (\"The Mandelbrot fractal set\\n\"\n",
    "            \"Rendered with matplotlib %s.%s, %s - http://matplotlib.org\"\n",
    "            % (major, minor, year))\n",
    "    ax.text(xmin+.025, ymin+.025, text, color=\"white\", fontsize=12, alpha=0.5)\n",
    "\n",
    "    plt.show()"
   ]
  },
  {
   "cell_type": "code",
   "execution_count": null,
   "metadata": {},
   "outputs": [],
   "source": []
  }
 ],
 "metadata": {
  "hide_input": false,
  "kernelspec": {
   "display_name": "Python 3",
   "language": "python",
   "name": "python3"
  },
  "language_info": {
   "codemirror_mode": {
    "name": "ipython",
    "version": 3
   },
   "file_extension": ".py",
   "mimetype": "text/x-python",
   "name": "python",
   "nbconvert_exporter": "python",
   "pygments_lexer": "ipython3",
   "version": "3.7.2"
  },
  "toc": {
   "base_numbering": 1,
   "nav_menu": {},
   "number_sections": true,
   "sideBar": true,
   "skip_h1_title": false,
   "title_cell": "Table of Contents",
   "title_sidebar": "Contents",
   "toc_cell": false,
   "toc_position": {},
   "toc_section_display": true,
   "toc_window_display": false
  },
  "varInspector": {
   "cols": {
    "lenName": 16,
    "lenType": 16,
    "lenVar": 40
   },
   "kernels_config": {
    "python": {
     "delete_cmd_postfix": "",
     "delete_cmd_prefix": "del ",
     "library": "var_list.py",
     "varRefreshCmd": "print(var_dic_list())"
    },
    "r": {
     "delete_cmd_postfix": ") ",
     "delete_cmd_prefix": "rm(",
     "library": "var_list.r",
     "varRefreshCmd": "cat(var_dic_list()) "
    }
   },
   "types_to_exclude": [
    "module",
    "function",
    "builtin_function_or_method",
    "instance",
    "_Feature"
   ],
   "window_display": false
  }
 },
 "nbformat": 4,
 "nbformat_minor": 2
}
