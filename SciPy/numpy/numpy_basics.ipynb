{
 "cells": [
  {
   "cell_type": "code",
   "execution_count": null,
   "metadata": {
    "ExecuteTime": {
     "end_time": "2020-03-20T03:08:51.602592Z",
     "start_time": "2020-03-20T03:08:51.599365Z"
    }
   },
   "outputs": [],
   "source": [
    "from IPython.core.interactiveshell import InteractiveShell\n",
    "InteractiveShell.ast_node_interactivity = \"all\" "
   ]
  },
  {
   "cell_type": "code",
   "execution_count": null,
   "metadata": {
    "ExecuteTime": {
     "end_time": "2020-03-20T03:08:52.101033Z",
     "start_time": "2020-03-20T03:08:52.098108Z"
    }
   },
   "outputs": [],
   "source": [
    "import time\n",
    "import math"
   ]
  },
  {
   "cell_type": "code",
   "execution_count": null,
   "metadata": {
    "ExecuteTime": {
     "end_time": "2020-03-20T03:08:53.057446Z",
     "start_time": "2020-03-20T03:08:52.181567Z"
    }
   },
   "outputs": [],
   "source": [
    "%matplotlib inline "
   ]
  },
  {
   "cell_type": "code",
   "execution_count": null,
   "metadata": {
    "ExecuteTime": {
     "end_time": "2020-03-20T03:08:53.856700Z",
     "start_time": "2020-03-20T03:08:53.059591Z"
    }
   },
   "outputs": [],
   "source": [
    "import numpy as np\n",
    "import pandas as pd \n",
    "import matplotlib.pyplot as plt"
   ]
  },
  {
   "cell_type": "markdown",
   "metadata": {},
   "source": [
    "# generate specific distribution"
   ]
  },
  {
   "cell_type": "code",
   "execution_count": null,
   "metadata": {
    "ExecuteTime": {
     "end_time": "2020-03-04T03:57:56.901326Z",
     "start_time": "2020-03-04T03:57:56.311675Z"
    }
   },
   "outputs": [],
   "source": [
    "num_samples = 10000\n",
    "num_bins = 200\n",
    "\n",
    "samples = np.random.random(size=num_samples)\n",
    "\n",
    "_ = plt.hist(samples, num_bins)\n",
    "plt.show()"
   ]
  },
  {
   "cell_type": "code",
   "execution_count": null,
   "metadata": {
    "ExecuteTime": {
     "end_time": "2020-03-04T04:01:12.261547Z",
     "start_time": "2020-03-04T04:01:12.244733Z"
    }
   },
   "outputs": [],
   "source": [
    "print(*dir(np.random))"
   ]
  },
  {
   "cell_type": "markdown",
   "metadata": {
    "ExecuteTime": {
     "end_time": "2020-03-04T08:21:55.389860Z",
     "start_time": "2020-03-04T08:21:55.385734Z"
    }
   },
   "source": [
    "**lognormal**\n",
    "$$p(x) = \\frac{1}{\\sigma x \\sqrt{2\\pi}} e^{(-\\frac{(ln(x)-\\mu)^2}{2\\sigma^2})}$$"
   ]
  },
  {
   "cell_type": "markdown",
   "metadata": {
    "ExecuteTime": {
     "end_time": "2020-03-04T06:09:18.368162Z",
     "start_time": "2020-03-04T06:09:18.363293Z"
    }
   },
   "source": [
    "$$f(x; a,b) = \\frac{1}{B(\\alpha, \\beta)} x^{\\alpha - 1} (1 - x)^{\\beta - 1}$$"
   ]
  },
  {
   "cell_type": "markdown",
   "metadata": {},
   "source": [
    "$$B(\\alpha, \\beta) = \\int_0^1 t^{\\alpha - 1}(1 - t)^{\\beta - 1} dt$$"
   ]
  },
  {
   "cell_type": "code",
   "execution_count": null,
   "metadata": {
    "ExecuteTime": {
     "end_time": "2020-03-05T08:39:17.645330Z",
     "start_time": "2020-03-05T08:39:17.436049Z"
    }
   },
   "outputs": [],
   "source": [
    "samples = np.random.beta(a = 1, b = 2, size = 1000)\n",
    "_ = plt.scatter(np.arange(len(samples)), samples)"
   ]
  },
  {
   "cell_type": "code",
   "execution_count": null,
   "metadata": {},
   "outputs": [],
   "source": [
    "x = [{\"index\": 15, \"kind\": 1}, {\"index\": 11, \"kind\": 2}]\n",
    "for i in x}"
   ]
  },
  {
   "cell_type": "code",
   "execution_count": null,
   "metadata": {
    "ExecuteTime": {
     "end_time": "2020-03-05T08:36:24.962884Z",
     "start_time": "2020-03-05T08:36:24.956578Z"
    }
   },
   "outputs": [],
   "source": [
    "any(np.random.gamma(shape = 1, scale = 0.1, size = 1000) < 0)"
   ]
  },
  {
   "cell_type": "code",
   "execution_count": null,
   "metadata": {
    "ExecuteTime": {
     "end_time": "2020-03-05T08:38:27.868931Z",
     "start_time": "2020-03-05T08:38:27.626897Z"
    }
   },
   "outputs": [],
   "source": [
    "samples = np.random.gamma(shape = 1, scale = 0.1, size = 1000) \n",
    "_ = plt.scatter(np.arange(len(samples)), samples)"
   ]
  },
  {
   "cell_type": "code",
   "execution_count": null,
   "metadata": {
    "ExecuteTime": {
     "end_time": "2020-03-04T06:14:23.486372Z",
     "start_time": "2020-03-04T06:14:23.267290Z"
    }
   },
   "outputs": [],
   "source": [
    "samples = np.random.uniform(low = -1, high = 1, size = 1000)\n",
    "_ = plt.scatter(np.arange(len(samples)), samples)"
   ]
  },
  {
   "cell_type": "code",
   "execution_count": null,
   "metadata": {
    "ExecuteTime": {
     "end_time": "2020-03-04T06:06:34.794756Z",
     "start_time": "2020-03-04T06:06:34.582931Z"
    }
   },
   "outputs": [],
   "source": [
    "samples = np.random.standard_normal(1000)\n",
    "_ = plt.plot(samples)"
   ]
  },
  {
   "cell_type": "code",
   "execution_count": null,
   "metadata": {
    "ExecuteTime": {
     "end_time": "2020-03-05T08:20:16.121329Z",
     "start_time": "2020-03-05T08:20:15.697690Z"
    }
   },
   "outputs": [],
   "source": [
    "samples = np.random.standard_normal(size = 1000)\n",
    "_ = plt.scatter(np.arange(len(samples)), samples)"
   ]
  },
  {
   "cell_type": "code",
   "execution_count": null,
   "metadata": {},
   "outputs": [],
   "source": []
  },
  {
   "cell_type": "code",
   "execution_count": null,
   "metadata": {
    "ExecuteTime": {
     "end_time": "2020-03-05T08:20:59.966091Z",
     "start_time": "2020-03-05T08:20:59.960993Z"
    }
   },
   "outputs": [],
   "source": [
    "np.random.poisson(lam = 2, size = 15)"
   ]
  },
  {
   "cell_type": "code",
   "execution_count": null,
   "metadata": {
    "ExecuteTime": {
     "end_time": "2020-03-05T08:20:41.762747Z",
     "start_time": "2020-03-05T08:20:41.561274Z"
    }
   },
   "outputs": [],
   "source": [
    "samples = np.random.poisson(lam = 2, size = 1000)\n",
    "_ = plt.scatter(np.arange(len(samples)), samples)"
   ]
  },
  {
   "cell_type": "code",
   "execution_count": null,
   "metadata": {
    "ExecuteTime": {
     "end_time": "2020-03-04T06:37:03.425315Z",
     "start_time": "2020-03-04T06:37:03.415086Z"
    }
   },
   "outputs": [],
   "source": [
    "?np.random.normal"
   ]
  },
  {
   "cell_type": "code",
   "execution_count": null,
   "metadata": {
    "ExecuteTime": {
     "end_time": "2020-03-04T06:41:36.434216Z",
     "start_time": "2020-03-04T06:41:36.425748Z"
    }
   },
   "outputs": [],
   "source": [
    "distr = {\n",
    "    \"norm\":\n",
    "    lambda loc, scale, size: np.random.normal(\n",
    "        loc=loc, scale=scale, size=size),\n",
    "    \"beta\":\n",
    "    lambda a, b, size: np.random.beta(a = a, b = b, size = size)\n",
    "}\n",
    "par = (\"norm\", 3, 1)\n",
    "par[1:]\n",
    "distr[par[0]](*par[1:], 10)"
   ]
  },
  {
   "cell_type": "code",
   "execution_count": null,
   "metadata": {
    "ExecuteTime": {
     "end_time": "2020-03-05T06:40:50.092899Z",
     "start_time": "2020-03-05T06:40:50.078129Z"
    }
   },
   "outputs": [],
   "source": [
    "class tem():\n",
    "    def __init__(self):\n",
    "        self._distr =  {\"norm\":lambda loc, scale, size: np.random.normal(loc=loc, scale=scale, size=size),\n",
    "                        \"beta\":lambda a, b, size: np.random.beta(a = a, b = b, size = size)}\n",
    "    def get_samples(self, par):\n",
    "        print(self._distr[par[0]](*par[1:], size = 10))\n",
    "\n",
    "x = tem()\n",
    "x.get_samples((\"norm\", 3, 1))\n",
    "x.get_samples((\"beta\", 2, 4))"
   ]
  },
  {
   "cell_type": "code",
   "execution_count": null,
   "metadata": {
    "ExecuteTime": {
     "end_time": "2020-03-05T08:57:55.454725Z",
     "start_time": "2020-03-05T08:57:55.445983Z"
    }
   },
   "outputs": [],
   "source": [
    "np.random.uniform(4, size = 2)*10\n",
    "[1,2,3]*2"
   ]
  },
  {
   "cell_type": "code",
   "execution_count": null,
   "metadata": {
    "ExecuteTime": {
     "end_time": "2020-03-05T08:35:04.122429Z",
     "start_time": "2020-03-05T08:35:03.889412Z"
    }
   },
   "outputs": [],
   "source": [
    "mean = 3600\n",
    "std = 1600\n",
    "num_samples = 1000\n",
    "samples = np.random.normal(loc = 0.5, scale = 0.1, size=num_samples)\n",
    "_ = plt.scatter(np.arange(len(samples)), samples)"
   ]
  },
  {
   "cell_type": "code",
   "execution_count": null,
   "metadata": {
    "ExecuteTime": {
     "end_time": "2020-03-04T06:04:30.445716Z",
     "start_time": "2020-03-04T06:04:30.438145Z"
    }
   },
   "outputs": [],
   "source": [
    "np.random.random(size = 30000).mean()"
   ]
  },
  {
   "cell_type": "code",
   "execution_count": null,
   "metadata": {
    "ExecuteTime": {
     "end_time": "2020-03-04T05:36:41.117366Z",
     "start_time": "2020-03-04T05:36:41.101978Z"
    }
   },
   "outputs": [],
   "source": [
    "np.arange(10) +np.arange(10)"
   ]
  },
  {
   "cell_type": "markdown",
   "metadata": {},
   "source": [
    "# `np.random`"
   ]
  },
  {
   "cell_type": "code",
   "execution_count": null,
   "metadata": {
    "ExecuteTime": {
     "end_time": "2020-03-20T03:12:09.336246Z",
     "start_time": "2020-03-20T03:12:09.332293Z"
    }
   },
   "outputs": [],
   "source": [
    "?np.random.randint"
   ]
  },
  {
   "cell_type": "code",
   "execution_count": null,
   "metadata": {
    "ExecuteTime": {
     "end_time": "2020-03-20T03:32:01.500912Z",
     "start_time": "2020-03-20T03:32:01.492451Z"
    }
   },
   "outputs": [],
   "source": [
    "x = np.random.randint(low = 1, high = 10, size = (3,3))\n",
    "x\n",
    "x[1,2]"
   ]
  },
  {
   "cell_type": "code",
   "execution_count": null,
   "metadata": {
    "ExecuteTime": {
     "end_time": "2020-03-20T03:12:39.829540Z",
     "start_time": "2020-03-20T03:12:39.809657Z"
    }
   },
   "outputs": [],
   "source": [
    "np.random.randint(low = 1, high = 10, size = 5)\n",
    "np.random.random(size = (3, 3))\n",
    "np.random.random_sample(size = (1,3))\n",
    "np.random.choice(a = 60, size = 10)"
   ]
  },
  {
   "cell_type": "code",
   "execution_count": null,
   "metadata": {},
   "outputs": [],
   "source": [
    "def corr2d(X, K):\n",
    "    \"\"\"Compute 2D cross-correlation.\"\"\"\n",
    "    h, w = K.shape\n",
    "    Y = np.zeros((X.shape[0] - h + 1, X.shape[1] - w + 1))\n",
    "    for i in range(Y.shape[0]):\n",
    "        for j in range(Y.shape[1]):\n",
    "            Y[i, j] = (X[i: i + h, j: j + w] * K).sum()\n",
    "    return Y\n",
    "\n",
    "X = np.random.randint(1, 10, [3, 3])\n",
    "K = np.random.randint(1, 10, [2, 2])\n",
    "corr2d(X, K)\n",
    "\n",
    "X = np.random.randint(1, 10, [4, 4])\n",
    "K = np.random.randint(1, 10, [2, 2])\n",
    "corr2d(X, K)"
   ]
  },
  {
   "cell_type": "code",
   "execution_count": null,
   "metadata": {
    "ExecuteTime": {
     "end_time": "2020-03-20T03:14:23.077093Z",
     "start_time": "2020-03-20T03:14:23.072201Z"
    }
   },
   "outputs": [],
   "source": [
    "?np.random.randn"
   ]
  },
  {
   "cell_type": "code",
   "execution_count": null,
   "metadata": {
    "ExecuteTime": {
     "end_time": "2020-03-20T03:30:43.579849Z",
     "start_time": "2020-03-20T03:30:43.569206Z"
    }
   },
   "outputs": [],
   "source": [
    "x = list(map(np.random.randn, [10**i for i in range(1, 5)]))\n",
    "[(i.mean(), i.var()) for i in x]"
   ]
  },
  {
   "cell_type": "markdown",
   "metadata": {},
   "source": [
    "A new array holding the result is returned unless out is specified, in which case it is returned."
   ]
  },
  {
   "cell_type": "code",
   "execution_count": null,
   "metadata": {
    "ExecuteTime": {
     "end_time": "2020-03-20T03:30:20.895693Z",
     "start_time": "2020-03-20T03:30:20.891945Z"
    }
   },
   "outputs": [],
   "source": [
    "?np.random.rand"
   ]
  },
  {
   "cell_type": "code",
   "execution_count": null,
   "metadata": {
    "ExecuteTime": {
     "end_time": "2020-02-11T09:21:01.791044Z",
     "start_time": "2020-02-11T09:21:01.773852Z"
    }
   },
   "outputs": [],
   "source": [
    "x = 2 * np.random.rand(10)\n",
    "x\n",
    "x.cumsum()"
   ]
  },
  {
   "cell_type": "code",
   "execution_count": null,
   "metadata": {
    "ExecuteTime": {
     "end_time": "2020-02-11T09:28:29.659452Z",
     "start_time": "2020-02-11T09:28:29.433120Z"
    }
   },
   "outputs": [],
   "source": [
    "nt = 10\n",
    "t = 2 * np.random.rand(10 ).cumsum()\n",
    "t.max() \n",
    "x = np.random.randn(nt)\n",
    "x.max()\n",
    "_ = plt.scatter(t, x)"
   ]
  },
  {
   "cell_type": "code",
   "execution_count": null,
   "metadata": {
    "ExecuteTime": {
     "end_time": "2020-02-11T09:43:08.919184Z",
     "start_time": "2020-02-11T09:43:08.912871Z"
    }
   },
   "outputs": [],
   "source": [
    "t\n",
    "tnew"
   ]
  },
  {
   "cell_type": "code",
   "execution_count": null,
   "metadata": {
    "ExecuteTime": {
     "end_time": "2020-02-11T09:28:36.149047Z",
     "start_time": "2020-02-11T09:28:35.964743Z"
    }
   },
   "outputs": [],
   "source": [
    "# Make a uniform grid, with the same number of points:\n",
    "tnew = np.linspace(t.min(), t.max(), nt)\n",
    "xnew = np.interp(tnew, t, x)\n",
    "\n",
    "_ = plt.scatter(tnew, xnew)\n",
    "print(\"standard deviations: \", x.std(), xnew.std())"
   ]
  },
  {
   "cell_type": "code",
   "execution_count": null,
   "metadata": {
    "ExecuteTime": {
     "end_time": "2020-02-12T01:54:37.904667Z",
     "start_time": "2020-02-12T01:54:31.197858Z"
    }
   },
   "outputs": [],
   "source": [
    "import os\n",
    "import pandas_datareader.data as web\n",
    "import seaborn as sns\n",
    "sns.set(style='ticks', context='talk')\n",
    "\n",
    "if int(os.environ.get(\"MODERN_PANDAS_EPUB\", 0)):\n",
    "    import prep # noqa"
   ]
  },
  {
   "cell_type": "code",
   "execution_count": null,
   "metadata": {
    "ExecuteTime": {
     "end_time": "2020-02-12T01:55:15.671182Z",
     "start_time": "2020-02-12T01:55:13.175294Z"
    }
   },
   "outputs": [],
   "source": [
    "gs = web.DataReader(\"GS\", data_source='yahoo', start='2006-01-01',\n",
    "                    end='2010-01-01')\n",
    "gs.head().round(2)"
   ]
  },
  {
   "cell_type": "code",
   "execution_count": null,
   "metadata": {
    "ExecuteTime": {
     "end_time": "2020-02-12T01:55:34.580659Z",
     "start_time": "2020-02-12T01:55:34.570142Z"
    }
   },
   "outputs": [],
   "source": [
    "type(gs)"
   ]
  },
  {
   "cell_type": "code",
   "execution_count": null,
   "metadata": {
    "ExecuteTime": {
     "end_time": "2020-02-12T01:56:11.889161Z",
     "start_time": "2020-02-12T01:56:11.564863Z"
    }
   },
   "outputs": [],
   "source": [
    "gs.resample(\"5d\").mean().head()"
   ]
  },
  {
   "cell_type": "markdown",
   "metadata": {
    "ExecuteTime": {
     "end_time": "2020-03-17T09:29:58.068447Z",
     "start_time": "2020-03-17T09:29:58.065137Z"
    }
   },
   "source": [
    "# `np.zeros`"
   ]
  },
  {
   "cell_type": "code",
   "execution_count": null,
   "metadata": {
    "ExecuteTime": {
     "end_time": "2020-03-18T03:29:36.348548Z",
     "start_time": "2020-03-18T03:29:36.334937Z"
    }
   },
   "outputs": [],
   "source": [
    "np.argmin([1, 2, 0, 3, -2])"
   ]
  },
  {
   "cell_type": "code",
   "execution_count": null,
   "metadata": {
    "ExecuteTime": {
     "end_time": "2020-03-17T09:30:31.569745Z",
     "start_time": "2020-03-17T09:30:31.562453Z"
    }
   },
   "outputs": [],
   "source": [
    "?np.zeros"
   ]
  },
  {
   "cell_type": "code",
   "execution_count": null,
   "metadata": {
    "ExecuteTime": {
     "end_time": "2020-03-17T09:32:29.264574Z",
     "start_time": "2020-03-17T09:32:29.261288Z"
    }
   },
   "outputs": [],
   "source": [
    "matrix = np.zeros(shape = (3,4))"
   ]
  },
  {
   "cell_type": "code",
   "execution_count": null,
   "metadata": {
    "ExecuteTime": {
     "end_time": "2020-03-18T02:45:04.189151Z",
     "start_time": "2020-03-18T02:45:04.183793Z"
    }
   },
   "outputs": [],
   "source": [
    "np.inf >= np.inf + 1"
   ]
  },
  {
   "cell_type": "code",
   "execution_count": null,
   "metadata": {
    "ExecuteTime": {
     "end_time": "2020-03-17T09:32:49.875602Z",
     "start_time": "2020-03-17T09:32:49.845847Z"
    }
   },
   "outputs": [],
   "source": [
    "matrix[0,:] = np.inf \n",
    "matrix"
   ]
  },
  {
   "cell_type": "code",
   "execution_count": null,
   "metadata": {
    "ExecuteTime": {
     "end_time": "2020-03-17T11:44:01.713929Z",
     "start_time": "2020-03-17T11:44:01.697282Z"
    }
   },
   "outputs": [],
   "source": [
    "def dtw(series_1, series_2, norm_func = np.linalg.norm):\n",
    "\tmatrix = np.zeros((len(series_1) + 1, len(series_2) + 1))\n",
    "\tmatrix[0,:] = np.inf\n",
    "\tmatrix[:,0] = np.inf\n",
    "\tmatrix[0,0] = 0\n",
    "\tfor i, vec1 in enumerate(series_1):\n",
    "\t\tfor j, vec2 in enumerate(series_2):\n",
    "\t\t\tcost = norm_func(vec1 - vec2)\n",
    "\t\t\tmatrix[i + 1, j + 1] = cost + min(matrix[i, j + 1], matrix[i + 1, j], matrix[i, j])\n",
    "\tmatrix = matrix[1:,1:]\n",
    "\ti = matrix.shape[0] - 1\n",
    "\tj = matrix.shape[1] - 1\n",
    "\tmatches = []\n",
    "\tmappings_series_1 = [list() for v in range(matrix.shape[0])]\n",
    "\tmappings_series_2 = [list() for v in range(matrix.shape[1])]\n",
    "\twhile i > 0 or j > 0:\n",
    "\t\tmatches.append((i, j))\n",
    "\t\tmappings_series_1[i].append(j)\n",
    "\t\tmappings_series_2[j].append(i)\n",
    "\t\toption_diag = matrix[i - 1, j - 1] if i > 0 and j > 0 else np.inf\n",
    "\t\toption_up = matrix[i - 1, j] if i > 0 else np.inf\n",
    "\t\toption_left = matrix[i, j - 1] if j > 0 else np.inf\n",
    "\t\tmove = np.argmin([option_diag, option_up, option_left])\n",
    "\t\tif move == 0:\n",
    "\t\t\ti -= 1\n",
    "\t\t\tj -= 1\n",
    "\t\telif move == 1:\n",
    "\t\t\ti -= 1\n",
    "\t\telse:\n",
    "\t\t\tj -= 1\n",
    "\tmatches.append((0, 0))\n",
    "\tmappings_series_1[0].append(0)\n",
    "\tmappings_series_2[0].append(0)\n",
    "\tmatches.reverse()\n",
    "\tfor mp in mappings_series_1:\n",
    "\t\tmp.reverse()\n",
    "\tfor mp in mappings_series_2:\n",
    "\t\tmp.reverse()\n",
    "\t\n",
    "\treturn matches, matrix[-1, -1], mappings_series_1, mappings_series_2, matrix\n"
   ]
  },
  {
   "cell_type": "code",
   "execution_count": null,
   "metadata": {
    "ExecuteTime": {
     "end_time": "2020-03-17T11:46:21.081588Z",
     "start_time": "2020-03-17T11:46:21.068472Z"
    }
   },
   "outputs": [],
   "source": [
    "np.linalg.norm(x = [10,12])\n",
    "dtw(series_1=[1,1,2],series_2=[1,1,2,3])"
   ]
  },
  {
   "cell_type": "markdown",
   "metadata": {},
   "source": [
    "# `np.sum` "
   ]
  },
  {
   "cell_type": "code",
   "execution_count": null,
   "metadata": {
    "ExecuteTime": {
     "end_time": "2019-12-17T06:50:50.062064Z",
     "start_time": "2019-12-17T06:50:50.039859Z"
    }
   },
   "outputs": [],
   "source": [
    "x = np.random.randint(1, 10, (2, 2))\n",
    "x \n",
    "np.sum(x, axis = 1)\n",
    "np.sum(x, axis = 0)"
   ]
  },
  {
   "cell_type": "markdown",
   "metadata": {},
   "source": [
    "https://realpython.com/numpy-array-programming/"
   ]
  },
  {
   "cell_type": "code",
   "execution_count": null,
   "metadata": {
    "ExecuteTime": {
     "end_time": "2019-12-17T07:14:53.588136Z",
     "start_time": "2019-12-17T07:14:53.575858Z"
    }
   },
   "outputs": [],
   "source": [
    "array = np.random.randint(1, 10, (2, 4, 3))\n",
    "array\n",
    "for i in range(len(array.shape)):\n",
    "    print(\"along axis_{} the sum is: \\n {}\".format(i, np.sum(array, axis=i)))\n",
    "    print(\" ---------------------------\")"
   ]
  },
  {
   "cell_type": "markdown",
   "metadata": {},
   "source": [
    "# built-in elementwise functions"
   ]
  },
  {
   "cell_type": "code",
   "execution_count": null,
   "metadata": {
    "ExecuteTime": {
     "end_time": "2019-12-17T05:39:47.935327Z",
     "start_time": "2019-12-17T05:39:47.912468Z"
    }
   },
   "outputs": [],
   "source": [
    "arr = np.random.randint(1, 10, 2)\n",
    "arr\n",
    "np.exp2(arr)\n",
    "np.sqrt(arr)\n",
    "np.log(arr)"
   ]
  },
  {
   "cell_type": "markdown",
   "metadata": {},
   "source": [
    "https://stackoverflow.com/questions/57830433/how-to-get-the-euclid-distance-from-specified-array-in-numpy#57830445"
   ]
  },
  {
   "cell_type": "code",
   "execution_count": null,
   "metadata": {
    "ExecuteTime": {
     "end_time": "2019-12-17T05:41:13.844872Z",
     "start_time": "2019-12-17T05:41:13.834771Z"
    }
   },
   "outputs": [],
   "source": [
    "def find_eucledian_distances(a_points, b_points):\n",
    "    return np.sqrt(np.sum((a_points - b_points)**2, axis=-1))\n",
    "\n",
    "\n",
    "a = np.array([[3.0, 4.0], [-3.0, -6.0], [-2.5, 6.3]])\n",
    "b = np.array([[0.0, 0.0], [2.0, 6.0], [4.5, -8.3]])\n",
    "find_eucledian_distances(a, b)"
   ]
  },
  {
   "cell_type": "markdown",
   "metadata": {},
   "source": [
    "<span style=\"font-family: New York Times; font-size: 1em; color: green;\">\n",
    "    \n",
    "you should `np.sum` along the last axis. if you don't specific the axis=-1, the `np.sum()` will sum all of the elements."
   ]
  },
  {
   "cell_type": "markdown",
   "metadata": {},
   "source": [
    "# arithmetic between numpy array"
   ]
  },
  {
   "cell_type": "markdown",
   "metadata": {},
   "source": [
    "https://stackoverflow.com/questions/57806304/numpy-elementwise-multiplication-with-multiple-columns#57806420"
   ]
  },
  {
   "cell_type": "code",
   "execution_count": null,
   "metadata": {},
   "outputs": [],
   "source": [
    "a = np.array([[1, 2, 3], [4, 5, 6]])\n",
    "b = np.array([[7, 8, 9, 10], [11, 12, 13, 14]])\n",
    "c = np.zeros((2, 4, 3))\n",
    "\n",
    "for i, row in enumerate(b):\n",
    "    for j, col in enumerate(row):\n",
    "        print('Mult:', a[i, :], '*', col)\n",
    "        c[i, j, :] = a[i, :] * col\n",
    "\n",
    "print(c[0, :, :])\n",
    "print(c[1, :, :])"
   ]
  },
  {
   "cell_type": "code",
   "execution_count": null,
   "metadata": {},
   "outputs": [],
   "source": [
    "a = np.array([[1, 2, 3], [4, 5, 6]])\n",
    "b = np.array([[7, 8, 9, 10], [11, 12, 13, 14]])\n",
    "print([item * k for item in a for k in b.ravel()])"
   ]
  },
  {
   "cell_type": "code",
   "execution_count": null,
   "metadata": {},
   "outputs": [],
   "source": [
    "a = np.array([[1, 2, 3], [4, 5, 6]])\n",
    "b = np.array([[7, 8, 9, 10], [11, 12, 13, 14]])\n",
    "a[:,None,:] * b[:,:,None]"
   ]
  },
  {
   "cell_type": "markdown",
   "metadata": {},
   "source": [
    "https://stackoverflow.com/questions/57843027/add-small-np-array-to-larger-np-array#57843046"
   ]
  },
  {
   "cell_type": "code",
   "execution_count": null,
   "metadata": {},
   "outputs": [],
   "source": [
    "import numpy as np\n",
    "a = np.arange(1, 11)\n",
    "b = np.arange(1,3)\n",
    "print('a:',a)\n",
    "print('b:',b)\n",
    "a[0::2] += b[0]\n",
    "a[1::2] += b[1]\n",
    "print('a:',a)"
   ]
  },
  {
   "cell_type": "code",
   "execution_count": null,
   "metadata": {},
   "outputs": [],
   "source": [
    "a = np.arange(1, 11)\n",
    "b = np.arange(1,3)\n",
    "a.reshape(-1, len(b)) \n",
    "a.reshape(-1, len(b)) + b \n",
    "(a.reshape(-1, len(b)) + b).ravel()"
   ]
  },
  {
   "cell_type": "markdown",
   "metadata": {},
   "source": [
    "# `np.reshape`"
   ]
  },
  {
   "cell_type": "markdown",
   "metadata": {},
   "source": [
    "https://docs.scipy.org/doc/numpy/reference/generated/numpy.reshape.html#numpy.reshape"
   ]
  },
  {
   "cell_type": "code",
   "execution_count": null,
   "metadata": {
    "ExecuteTime": {
     "end_time": "2020-02-19T13:51:26.640711Z",
     "start_time": "2020-02-19T13:51:26.622437Z"
    }
   },
   "outputs": [],
   "source": [
    "a = np.array([[1,2,3, 4], [5,6,7,8]])\n",
    "print(np.reshape(a, (-2)) )\n",
    "print(\"___________________________________\")\n",
    "print(np.reshape(a, (2, 2,-2)) )\n",
    "print(\"___________________________________\")\n",
    "print(np.reshape(a, (2, -1,4)) )\n",
    "np.reshape(a,(1,-1))"
   ]
  },
  {
   "cell_type": "markdown",
   "metadata": {},
   "source": [
    "# `np.array.tolist`"
   ]
  },
  {
   "cell_type": "code",
   "execution_count": null,
   "metadata": {},
   "outputs": [],
   "source": [
    "arr = np.array([[1, 1, 1, 1], [2, 2, 2, 2], [3, 3, 3, 3], [4, 4, 4, 4]])\n",
    "lens = [1, 2, 3, 4]\n",
    "[a[:i].tolist() for a, i in zip(arr, lens)]"
   ]
  },
  {
   "cell_type": "code",
   "execution_count": null,
   "metadata": {},
   "outputs": [],
   "source": [
    "num1 = [2, 2, 0]\n",
    "num2 = [1, 0]\n",
    "list(str( int(''.join(map(str, num1))) * int(''.join(map(str, num2)))))"
   ]
  },
  {
   "cell_type": "code",
   "execution_count": null,
   "metadata": {},
   "outputs": [],
   "source": [
    "def multiply(num1, num2):\n",
    "    if num1 == [0] or num2 == [0]:\n",
    "        return [0]\n",
    "    sign = -1 if (num1[0] < 0) ^ (num2[0] < 0) else 1\n",
    "    num1[0] = abs(num1[0])\n",
    "    num2[0] = abs(num2[0])\n",
    "    res = [0] * (len(num1) + len(num2) + 1) # space O(n + m)\n",
    "    for i in range(len(num1) - 1, -1, -1):\n",
    "        for j in range(len(num2) - 1, -1, -1):\n",
    "            res[i + j + 1] += num1[i] * num2[j]\n",
    "            res[i + j] += res[i + j + 1] // 10\n",
    "            res[i + j + 1] %= 10\n",
    "    res[0] *= sign\n",
    "\n",
    "    #res = res[next((i for i, x in enumerate(res) if x != 0), len(res)):] or [0]\n",
    "    return res\n",
    "\n",
    "multiply(num1, num2)"
   ]
  },
  {
   "cell_type": "markdown",
   "metadata": {},
   "source": [
    "# `np.mean`"
   ]
  },
  {
   "cell_type": "markdown",
   "metadata": {},
   "source": [
    "https://stackoverflow.com/questions/53178018/average-of-elements-in-a-subarray\n",
    "\n",
    "https://stackoverflow.com/questions/57814566/get-average-of-the-numpy-ndarray"
   ]
  },
  {
   "cell_type": "code",
   "execution_count": null,
   "metadata": {},
   "outputs": [],
   "source": [
    "m = np.array([[[0, 1, 2], [3, 4, 5], [6, 7, 8]],\n",
    "              [[9, 10, 11], [12, 13, 14], [15, 16, 17]],\n",
    "              [[18, 19, 20], [21, 22, 23], [24, 25, 26]]])"
   ]
  },
  {
   "cell_type": "code",
   "execution_count": null,
   "metadata": {},
   "outputs": [],
   "source": [
    "m.shape\n",
    "np.mean(m, axis=0)\n",
    "np.mean(m, axis=(0,1))\n",
    "np.mean(m, axis=2)\n",
    "m[0]"
   ]
  },
  {
   "cell_type": "code",
   "execution_count": null,
   "metadata": {},
   "outputs": [],
   "source": [
    "[np.mean(m[i]) for i in range(m.shape[0])]\n",
    "list(map(np.mean, m))\n",
    "np.mean(m, (1, 2))"
   ]
  },
  {
   "cell_type": "code",
   "execution_count": null,
   "metadata": {},
   "outputs": [],
   "source": []
  },
  {
   "cell_type": "code",
   "execution_count": null,
   "metadata": {
    "ExecuteTime": {
     "end_time": "2020-03-06T07:37:38.748893Z",
     "start_time": "2020-03-06T07:37:38.686115Z"
    }
   },
   "outputs": [],
   "source": [
    "np.ones(shape = (2,1), order = \"F\")\n",
    "np.ones(shape = (2,1), order = \"C\", dtype = int)"
   ]
  },
  {
   "cell_type": "code",
   "execution_count": null,
   "metadata": {
    "ExecuteTime": {
     "end_time": "2020-03-06T07:37:12.133796Z",
     "start_time": "2020-03-06T07:37:12.126577Z"
    }
   },
   "outputs": [],
   "source": [
    "?np.ones"
   ]
  },
  {
   "cell_type": "markdown",
   "metadata": {},
   "source": [
    "# `np.where`"
   ]
  },
  {
   "cell_type": "code",
   "execution_count": null,
   "metadata": {
    "ExecuteTime": {
     "end_time": "2019-11-26T15:23:05.774242Z",
     "start_time": "2019-11-26T15:23:05.766007Z"
    }
   },
   "outputs": [],
   "source": [
    "shape = (3,3,3)\n",
    "m = np.random.randint(1,10,(shape))"
   ]
  },
  {
   "cell_type": "code",
   "execution_count": null,
   "metadata": {
    "ExecuteTime": {
     "end_time": "2019-11-26T15:23:07.115641Z",
     "start_time": "2019-11-26T15:23:07.108207Z"
    }
   },
   "outputs": [],
   "source": [
    "np.where(m == np.amax(m)) "
   ]
  },
  {
   "cell_type": "code",
   "execution_count": null,
   "metadata": {
    "ExecuteTime": {
     "end_time": "2019-11-26T15:23:07.818730Z",
     "start_time": "2019-11-26T15:23:07.803141Z"
    }
   },
   "outputs": [],
   "source": [
    "a = np.array([1,2,3,4])\n",
    "x, = np.where(a==a.max())\n",
    "print(x)"
   ]
  },
  {
   "cell_type": "code",
   "execution_count": null,
   "metadata": {
    "ExecuteTime": {
     "end_time": "2019-11-26T15:23:08.807786Z",
     "start_time": "2019-11-26T15:23:08.801370Z"
    }
   },
   "outputs": [],
   "source": [
    "data = [[0.4, 1.5, 2.6],\n",
    "        [3.4, 0.2, 0.0],\n",
    "        [np.nan, 3.2, 1.0],\n",
    "        [1.0, 4.6, np.nan]]"
   ]
  },
  {
   "cell_type": "code",
   "execution_count": null,
   "metadata": {},
   "outputs": [],
   "source": [
    "np.where(np.isnan(data))"
   ]
  },
  {
   "cell_type": "code",
   "execution_count": null,
   "metadata": {},
   "outputs": [],
   "source": [
    "x = np.array(data)\n",
    "np.isnan(x) "
   ]
  },
  {
   "cell_type": "code",
   "execution_count": null,
   "metadata": {},
   "outputs": [],
   "source": [
    "import warnings\n",
    "warnings.filterwarnings('ignore')\n",
    "data = [[0.4, 1.5, 2.6],\n",
    "        [3.4, 0.2, 0.0],\n",
    "        [np.nan, 3.2, 1.0],\n",
    "        [1.0, 4.6, np.nan]]\n",
    "x = np.array(data) \n",
    "i, j = np.where(x > 1 )\n",
    "warnings.filterwarnings('ignore')\n",
    "for a, b in zip(i, j):\n",
    "    print('lon: {} lat: {} value: {}'.format(a, b, x[a,b]))"
   ]
  },
  {
   "cell_type": "code",
   "execution_count": null,
   "metadata": {},
   "outputs": [],
   "source": [
    "array= np.array([[1, 2, 3],[np.nan, np.nan, np.nan], [3, 4, 5]])\n",
    "np.nan_to_num(array)"
   ]
  },
  {
   "cell_type": "code",
   "execution_count": null,
   "metadata": {},
   "outputs": [],
   "source": [
    "A = np.array([[ 0.57383254,  0.10132767,  0.86211639,  0.35402222],\n",
    "       [ 0.20238346,  0.93204519,  0.84563318,  0.68373515],\n",
    "       [ 0.5795946 ,  0.24307856,  0.56676058,  0.08502582],\n",
    "       [ 0.27188428,  0.0630682 ,  0.9762359 ,  0.50456657],\n",
    "       [ 0.6522969 ,  0.85018875,  0.22728716,  0.82851854]]) \n",
    "target = np.array([ 0.57959463 ,  0.24307856,  0.56676058,  0.08502582])"
   ]
  },
  {
   "cell_type": "code",
   "execution_count": null,
   "metadata": {},
   "outputs": [],
   "source": [
    "np.where(A==target)[0]"
   ]
  },
  {
   "cell_type": "code",
   "execution_count": null,
   "metadata": {},
   "outputs": [],
   "source": [
    "result, = np.where(np.all(A == target, axis=1))\n",
    "print(result)"
   ]
  },
  {
   "cell_type": "markdown",
   "metadata": {},
   "source": [
    "https://stackoverflow.com/questions/57833856/how-to-convert-ax-y-z-to-x0-xn-y0-yn-z0-zn"
   ]
  },
  {
   "cell_type": "code",
   "execution_count": null,
   "metadata": {},
   "outputs": [],
   "source": [
    "A = np.ones((1,2))\n",
    "np.where(A)[0]\n",
    "np.where(A)[1]\n",
    "np.ravel(A)"
   ]
  },
  {
   "cell_type": "markdown",
   "metadata": {},
   "source": [
    "# `np.rotate`"
   ]
  },
  {
   "cell_type": "code",
   "execution_count": null,
   "metadata": {},
   "outputs": [],
   "source": [
    "x = np.arange(25).reshape(5, -1) \n",
    "rotate(x, angle=45, reshape=False)"
   ]
  },
  {
   "cell_type": "code",
   "execution_count": null,
   "metadata": {},
   "outputs": [],
   "source": [
    "def switch1(s):\n",
    "    s = list(s)\n",
    "    for i in range(len(s)):\n",
    "        if s[i] == 'a':\n",
    "            s[i] = 'b'\n",
    "        if s[i] == 'b':\n",
    "            s[i] = 'a'\n",
    "    return s\n",
    "\n",
    "def switch2(s):\n",
    "    s = list(s)\n",
    "    for i in range(len(s)):\n",
    "        if s[i] == 'a':\n",
    "            s[i] = 'b'\n",
    "        elif s[i] == 'b':\n",
    "            s[i] = 'a'\n",
    "    return s\n",
    "\n",
    "switch1('abab')\n",
    "switch2('abab')"
   ]
  },
  {
   "cell_type": "markdown",
   "metadata": {},
   "source": [
    "# `np.searchsorted`"
   ]
  },
  {
   "cell_type": "markdown",
   "metadata": {},
   "source": [
    "* https://stackoverflow.com/questions/57121825/vectorized-approach-to-extract-the-rows-of-the-end-point-array-that-contains-the"
   ]
  },
  {
   "cell_type": "code",
   "execution_count": null,
   "metadata": {},
   "outputs": [],
   "source": [
    "np.random.seed(0)\n",
    "\n",
    "size = 32000\n",
    "base_arr = np.arange(size)*10\n",
    "base_arr\n",
    "t1 = np.random.randint(0,6, size)+base_arr\n",
    "t2 = np.random.randint(5,10, size)+base_arr\n",
    "\n",
    "A = np.vstack((t1,t2)).T\n",
    "V = np.sort(np.random.randint(0,10,3*size)+np.repeat(base_arr,3))"
   ]
  },
  {
   "cell_type": "code",
   "execution_count": null,
   "metadata": {},
   "outputs": [],
   "source": [
    "A[np.searchsorted(v,A[:,0],'left')!=np.searchsorted(v,A[:,1],'right')]"
   ]
  },
  {
   "cell_type": "code",
   "execution_count": null,
   "metadata": {},
   "outputs": [],
   "source": [
    "def find_bounding_intervals(A, v):\n",
    "    rows = []\n",
    "    i = 0\n",
    "    for row in A:\n",
    "        while all(v[i] < row):\n",
    "            i += 1\n",
    "        if row[0] <= v[i] <= row[1]:\n",
    "            rows.append(row)\n",
    "    return np.array(rows)\n",
    "find_bounding_intervals(A, V)"
   ]
  },
  {
   "cell_type": "markdown",
   "metadata": {},
   "source": [
    "# `np.consum`"
   ]
  },
  {
   "cell_type": "code",
   "execution_count": null,
   "metadata": {
    "ExecuteTime": {
     "end_time": "2019-11-26T15:27:21.851466Z",
     "start_time": "2019-11-26T15:27:21.802794Z"
    }
   },
   "outputs": [],
   "source": [
    "x = np.array([[np.nan, np.nan, np.nan, np.nan, np.nan],\n",
    "       [np.nan, np.nan, np.nan, np.nan, np.nan],\n",
    "       [ 0., np.nan, np.nan, np.nan, np.nan],\n",
    "       [ 0., np.nan,  0., np.nan,  0.],\n",
    "       [ 0.,  0.,  0.,  0.,  0.],\n",
    "       [ 0.,  0.,  0.,  0.,  0.],\n",
    "       [np.nan,  0.,  0.,  0.,  0.]])\n",
    "x.T\n",
    "np.isnan(x)\n",
    "np.nonzero(x)\n",
    "np.where(np.isnan(x))\n",
    "\n",
    "x[np.nonzero(x)] = 2 \n",
    "x "
   ]
  },
  {
   "cell_type": "code",
   "execution_count": null,
   "metadata": {},
   "outputs": [],
   "source": [
    "x = np.array([[5.72756493, 0.        , 0.        ],\n",
    "          [2.86378246, 4.96021673, 0.        ],\n",
    "          [5.72756493, 3.30681115, 2.33826859]])"
   ]
  },
  {
   "cell_type": "markdown",
   "metadata": {},
   "source": [
    "https://stackoverflow.com/questions/57966043/replace-zeros-in-an-array-with-a-continuous-sequence-of-integers\n"
   ]
  },
  {
   "cell_type": "code",
   "execution_count": null,
   "metadata": {},
   "outputs": [],
   "source": [
    "arr = np.array([[np.nan, np.nan, np.nan, np.nan, np.nan],\n",
    "       [np.nan, np.nan, np.nan, np.nan, np.nan],\n",
    "       [ 0., np.nan, np.nan, np.nan, np.nan],\n",
    "       [ 0., np.nan,  0., np.nan,  0.],\n",
    "       [ 0.,  0.,  0.,  0.,  0.],\n",
    "       [ 0.,  0.,  0.,  0.,  0.],\n",
    "       [np.nan,  0.,  0.,  0.,  0.]])\n",
    "\n",
    "mask = ~np.isnan(arr)\n",
    "np.nan_to_num(arr + 1).ravel('F')\n",
    "np.nan_to_num(arr + 1).ravel('F').cumsum()\n",
    "# Applying ravel function in F-style ordering\n",
    "`b\n",
    "arr[mask] = np.nan_to_num(arr + 1).ravel('F').cumsum().reshape(arr.shape, order='F')[mask]\n",
    "arr "
   ]
  },
  {
   "cell_type": "markdown",
   "metadata": {},
   "source": [
    "# statistical value "
   ]
  },
  {
   "cell_type": "code",
   "execution_count": null,
   "metadata": {
    "ExecuteTime": {
     "end_time": "2020-02-20T00:49:14.875870Z",
     "start_time": "2020-02-20T00:49:14.855601Z"
    }
   },
   "outputs": [],
   "source": [
    "x = np.arange(6)\n",
    "print(\"\\nOriginal array:\")\n",
    "print(x)\n",
    "r1 = np.mean(x)\n",
    "r2 = np.average(x)\n",
    "assert np.allclose(r1, r2)\n",
    "print(\"\\nMean: \", r1)\n",
    "r1 = np.std(x)\n",
    "r2 = np.sqrt(np.mean((x - np.mean(x)) ** 2 ))\n",
    "assert np.allclose(r1, r2)\n",
    "print(\"\\nstd: \", 1)\n",
    "r1= np.var(x)\n",
    "r2 = np.mean((x - np.mean(x)) ** 2 )\n",
    "assert np.allclose(r1, r2)\n",
    "print(\"\\nvariance: \", r1)"
   ]
  },
  {
   "cell_type": "code",
   "execution_count": null,
   "metadata": {},
   "outputs": [],
   "source": []
  }
 ],
 "metadata": {
  "hide_input": false,
  "kernelspec": {
   "display_name": "Python 3",
   "language": "python",
   "name": "python3"
  },
  "language_info": {
   "codemirror_mode": {
    "name": "ipython",
    "version": 3
   },
   "file_extension": ".py",
   "mimetype": "text/x-python",
   "name": "python",
   "nbconvert_exporter": "python",
   "pygments_lexer": "ipython3",
   "version": "3.7.4"
  },
  "toc": {
   "base_numbering": 1,
   "nav_menu": {},
   "number_sections": true,
   "sideBar": true,
   "skip_h1_title": false,
   "title_cell": "Table of Contents",
   "title_sidebar": "Contents",
   "toc_cell": false,
   "toc_position": {
    "height": "358px",
    "left": "140px",
    "top": "67.1333px",
    "width": "165px"
   },
   "toc_section_display": true,
   "toc_window_display": true
  },
  "varInspector": {
   "cols": {
    "lenName": 16,
    "lenType": 16,
    "lenVar": 40
   },
   "kernels_config": {
    "python": {
     "delete_cmd_postfix": "",
     "delete_cmd_prefix": "del ",
     "library": "var_list.py",
     "varRefreshCmd": "print(var_dic_list())"
    },
    "r": {
     "delete_cmd_postfix": ") ",
     "delete_cmd_prefix": "rm(",
     "library": "var_list.r",
     "varRefreshCmd": "cat(var_dic_list()) "
    }
   },
   "types_to_exclude": [
    "module",
    "function",
    "builtin_function_or_method",
    "instance",
    "_Feature"
   ],
   "window_display": false
  }
 },
 "nbformat": 4,
 "nbformat_minor": 2
}
