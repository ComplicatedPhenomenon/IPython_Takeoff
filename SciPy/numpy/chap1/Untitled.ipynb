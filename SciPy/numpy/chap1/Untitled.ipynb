{
 "cells": [
  {
   "cell_type": "code",
   "execution_count": 5,
   "metadata": {},
   "outputs": [],
   "source": [
    "from IPython.core.interactiveshell import InteractiveShell\n",
    "InteractiveShell.ast_node_interactivity = \"all\""
   ]
  },
  {
   "cell_type": "markdown",
   "metadata": {},
   "source": [
    "# 理解数据结构与算法"
   ]
  },
  {
   "cell_type": "markdown",
   "metadata": {},
   "source": [
    "算法与数据结构是运算中两个最基本的概念。它们是构造复杂软件的基石。理解了这些基本概念对软件设计有巨大的帮助，关于怎么理解这些基本概念涉及到下面三个特征：\n",
    "\n",
    "* 算法是如何操作数据结构所包含信息的\n",
    "* 数据在内存中是怎么组织的\n",
    "* 特定数据结构的表现性能的特征\n",
    "在这本书里，我们会从几个角度来审视这个主题。首先，我们会从数据结构和算法的角度阅览一下编程语言Python的基础。接下来，很重要的一点，我们要有正确的数学工具。我们需要理解计算科学中的一些基本概念，源于此，我们需要一些数学。通过采取启发式的方法，发展出一些指导原则一般意味着我们不需要比高中数学更多的东西来理解这些关键思想原则。\n",
    "\n",
    "另外一个重要方面是评估。衡量算法的表现涉及：理解数据大小的每次增加如何影响算法该数据的操作。 当我们处理大型数据集或者事实应用时，高效的算法和数据结构是很重要的。\n",
    "\n",
    "最后，我们需要一个完善的实验设计策略。欲能够概念性的把显示世界中的问题翻译为编程语言里的算法和数据结构，这涉及有能力来理解问题的重要组成和把这些组成映射到程序结构的方法。"
   ]
  },
  {
   "cell_type": "markdown",
   "metadata": {},
   "source": [
    "# 变量和表达式\n",
    "\n",
    "可以这么理解变量，它是贴在对象上面的标签，它不是对象本身，亦不是对象的容器。变量不包含对象，而是充当对象的指针或引用。"
   ]
  },
  {
   "cell_type": "code",
   "execution_count": 1,
   "metadata": {},
   "outputs": [
    {
     "data": {
      "text/plain": [
       "[2, 3, 4, 5]"
      ]
     },
     "execution_count": 1,
     "metadata": {},
     "output_type": "execute_result"
    }
   ],
   "source": [
    "a = [2, 3, 4]\n",
    "b = a\n",
    "a.append(5)\n",
    "b"
   ]
  },
  {
   "cell_type": "markdown",
   "metadata": {},
   "source": [
    "Python是动态类型语言。变量名在程序执行中可以绑在不同值和类型上。每个值都是一种类型,比如字符串，整型。但是，变量名本身并没有一个类型，这一点与另外的诸如C和Java等大多数语言不同，后者变量名代表一个固定大小。"
   ]
  },
  {
   "cell_type": "markdown",
   "metadata": {},
   "source": [
    "# 字符串"
   ]
  },
  {
   "cell_type": "code",
   "execution_count": 3,
   "metadata": {},
   "outputs": [],
   "source": [
    "greet = 'hello world'"
   ]
  },
  {
   "cell_type": "code",
   "execution_count": 8,
   "metadata": {},
   "outputs": [
    {
     "name": "stdout",
     "output_type": "stream",
     "text": [
      "(0, 'h')\n",
      "(1, 'e')\n",
      "(2, 'l')\n",
      "(3, 'l')\n",
      "(4, 'o')\n"
     ]
    }
   ],
   "source": [
    "for i in enumerate(greet[0:5]): print(i)"
   ]
  },
  {
   "cell_type": "code",
   "execution_count": 18,
   "metadata": {},
   "outputs": [],
   "source": [
    "enum = enumerate('a sequence, an iterator, or objects that supports iteration')"
   ]
  },
  {
   "cell_type": "code",
   "execution_count": 15,
   "metadata": {},
   "outputs": [
    {
     "data": {
      "text/plain": [
       "str"
      ]
     },
     "execution_count": 15,
     "metadata": {},
     "output_type": "execute_result"
    }
   ],
   "source": [
    "type(greet[0:5])"
   ]
  },
  {
   "cell_type": "code",
   "execution_count": 20,
   "metadata": {},
   "outputs": [
    {
     "data": {
      "text/plain": [
       "enumerate"
      ]
     },
     "execution_count": 20,
     "metadata": {},
     "output_type": "execute_result"
    }
   ],
   "source": [
    "type(enum)"
   ]
  },
  {
   "cell_type": "code",
   "execution_count": null,
   "metadata": {},
   "outputs": [],
   "source": []
  }
 ],
 "metadata": {
  "kernelspec": {
   "display_name": "Python 3",
   "language": "python",
   "name": "python3"
  },
  "language_info": {
   "codemirror_mode": {
    "name": "ipython",
    "version": 3
   },
   "file_extension": ".py",
   "mimetype": "text/x-python",
   "name": "python",
   "nbconvert_exporter": "python",
   "pygments_lexer": "ipython3",
   "version": "3.6.6"
  }
 },
 "nbformat": 4,
 "nbformat_minor": 2
}
