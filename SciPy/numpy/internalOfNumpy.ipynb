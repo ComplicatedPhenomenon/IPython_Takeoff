{
 "cells": [
  {
   "cell_type": "code",
   "execution_count": null,
   "metadata": {
    "ExecuteTime": {
     "end_time": "2019-11-23T00:46:19.525779Z",
     "start_time": "2019-11-23T00:46:19.520762Z"
    }
   },
   "outputs": [],
   "source": [
    "from IPython.core.interactiveshell import InteractiveShell\n",
    "InteractiveShell.ast_node_interactivity = \"all\""
   ]
  },
  {
   "cell_type": "code",
   "execution_count": null,
   "metadata": {
    "ExecuteTime": {
     "end_time": "2019-11-23T00:39:11.053341Z",
     "start_time": "2019-11-23T00:39:10.931991Z"
    }
   },
   "outputs": [],
   "source": [
    "import numpy as np "
   ]
  },
  {
   "cell_type": "markdown",
   "metadata": {
    "ExecuteTime": {
     "end_time": "2019-11-23T02:18:37.331961Z",
     "start_time": "2019-11-23T02:18:37.282720Z"
    }
   },
   "source": [
    "# Vectorization and Broadcasting"
   ]
  },
  {
   "cell_type": "markdown",
   "metadata": {},
   "source": [
    "Vectorization is the absence of explicit loop during the development of the code "
   ]
  },
  {
   "cell_type": "code",
   "execution_count": null,
   "metadata": {
    "ExecuteTime": {
     "end_time": "2019-11-23T02:41:01.404475Z",
     "start_time": "2019-11-23T02:41:01.369908Z"
    }
   },
   "outputs": [],
   "source": [
    "np.random.randint(1, 10, (1, 2)) * np.random.randint(1, 10, (2, 1))\n",
    "\n",
    "X = lambda x, y: np.random.randint(1, 10, (x, y))\n",
    "X(1, 2) * X(2, 1)\n",
    "np.dot(X(1, 2), X(2,1))\n",
    "X(1, 2) * X(3, 1)\n",
    "#np.dot(X(1, 2), X(3, 1))"
   ]
  },
  {
   "cell_type": "markdown",
   "metadata": {},
   "source": [
    "Broadcasting allows an operator or a function to ..."
   ]
  },
  {
   "cell_type": "code",
   "execution_count": null,
   "metadata": {
    "ExecuteTime": {
     "end_time": "2019-11-23T02:44:01.274682Z",
     "start_time": "2019-11-23T02:44:01.262992Z"
    }
   },
   "outputs": [],
   "source": [
    "A = np.arange(16).reshape(4,4)\n",
    "b = np.arange(4)\n",
    "A\n",
    "b "
   ]
  },
  {
   "cell_type": "code",
   "execution_count": null,
   "metadata": {
    "ExecuteTime": {
     "end_time": "2019-11-23T02:43:56.599659Z",
     "start_time": "2019-11-23T02:43:56.593015Z"
    }
   },
   "outputs": [],
   "source": [
    "A + b  "
   ]
  },
  {
   "cell_type": "code",
   "execution_count": null,
   "metadata": {
    "ExecuteTime": {
     "end_time": "2019-11-23T02:46:21.721328Z",
     "start_time": "2019-11-23T02:46:21.705851Z"
    }
   },
   "outputs": [],
   "source": [
    "m = np.arange(6).reshape(3, 1, 2)\n",
    "n = np.arange(6).reshape(3, 2, 1)\n",
    "m\n",
    "n "
   ]
  },
  {
   "cell_type": "code",
   "execution_count": null,
   "metadata": {
    "ExecuteTime": {
     "end_time": "2019-11-23T02:46:29.455047Z",
     "start_time": "2019-11-23T02:46:29.449524Z"
    }
   },
   "outputs": [],
   "source": [
    "m + n"
   ]
  },
  {
   "cell_type": "code",
   "execution_count": null,
   "metadata": {
    "ExecuteTime": {
     "end_time": "2019-11-23T00:40:04.325661Z",
     "start_time": "2019-11-23T00:40:04.317868Z"
    }
   },
   "outputs": [],
   "source": [
    "?np.random.randint"
   ]
  },
  {
   "cell_type": "code",
   "execution_count": null,
   "metadata": {
    "ExecuteTime": {
     "end_time": "2019-11-23T02:41:38.283945Z",
     "start_time": "2019-11-23T02:41:38.277574Z"
    }
   },
   "outputs": [],
   "source": [
    "type(np.arange(10))"
   ]
  },
  {
   "cell_type": "markdown",
   "metadata": {
    "ExecuteTime": {
     "end_time": "2019-11-23T02:23:12.533628Z",
     "start_time": "2019-11-23T02:23:12.525399Z"
    }
   },
   "source": [
    "# Array vs list"
   ]
  },
  {
   "cell_type": "markdown",
   "metadata": {
    "ExecuteTime": {
     "end_time": "2019-11-23T02:23:12.533628Z",
     "start_time": "2019-11-23T02:23:12.525399Z"
    }
   },
   "source": [
    "* Faster in time and less memory space\n",
    "    * datatype of every element in the array is identical\n",
    "* convinent in usage"
   ]
  },
  {
   "cell_type": "markdown",
   "metadata": {},
   "source": [
    "<span style=\"font-family:New York Times; font-size:1em; color:red;\">\n",
    "\n",
    "\n",
    "Explanation needed here! "
   ]
  },
  {
   "cell_type": "code",
   "execution_count": null,
   "metadata": {
    "ExecuteTime": {
     "end_time": "2019-11-23T08:32:30.928685Z",
     "start_time": "2019-11-23T08:32:30.922847Z"
    }
   },
   "outputs": [],
   "source": [
    "import sys "
   ]
  },
  {
   "cell_type": "markdown",
   "metadata": {},
   "source": [
    "[`sys.getsizeof()`](https://docs.python.org/3/library/sys.html#sys.getsizeof)\n",
    "\n",
    "> Return the size of an object in bytes. The object can be any type of object.\n",
    "\n",
    "> Only the memory consumption directly attributed to the object is accounted for, not the memory consumption of objects it refers to.\n",
    "\n",
    "> If given, default will be returned if the object does not provide means to retrieve the size. Otherwise a TypeError will be raised.\n",
    "\n",
    "> getsizeof() calls the object’s __sizeof__ method and adds an additional garbage collector overhead if the object is managed by the garbage collector."
   ]
  },
  {
   "cell_type": "code",
   "execution_count": null,
   "metadata": {
    "ExecuteTime": {
     "end_time": "2019-11-23T08:23:07.627629Z",
     "start_time": "2019-11-23T08:23:07.592228Z"
    }
   },
   "outputs": [],
   "source": [
    "# By itself, the builtin function sys.getsizeof() is not helpful \n",
    "# determining the size of a container and all of its contents\n",
    "\n",
    "from __future__ import print_function\n",
    "from sys import getsizeof, stderr\n",
    "from itertools import chain\n",
    "from collections import deque\n",
    "try:\n",
    "    from reprlib import repr\n",
    "except ImportError:\n",
    "    pass\n",
    "\n",
    "def total_size(o, handlers={}, verbose=False):\n",
    "    \"\"\" Returns the approximate memory footprint an object and all of its contents.\n",
    "\n",
    "    Automatically finds the contents of the following builtin containers and\n",
    "    their subclasses:  tuple, list, deque, dict, set and frozenset.\n",
    "    To search other containers, add handlers to iterate over their contents:\n",
    "\n",
    "        handlers = {SomeContainerClass: iter,\n",
    "                    OtherContainerClass: OtherContainerClass.get_elements}\n",
    "\n",
    "    \"\"\"\n",
    "    dict_handler = lambda d: chain.from_iterable(d.items())\n",
    "    all_handlers = {tuple: iter,\n",
    "                    list: iter,\n",
    "                    deque: iter,\n",
    "                    dict: dict_handler,\n",
    "                    set: iter,\n",
    "                    frozenset: iter,\n",
    "                   }\n",
    "    all_handlers.update(handlers)     # user handlers take precedence\n",
    "    seen = set()                      # track which object id's have already been seen\n",
    "    default_size = getsizeof(0)       # estimate sizeof object without __sizeof__\n",
    "\n",
    "    def sizeof(o):\n",
    "        if id(o) in seen:       # do not double count the same object\n",
    "            return 0\n",
    "        seen.add(id(o))\n",
    "        s = getsizeof(o, default_size)\n",
    "\n",
    "        if verbose:\n",
    "            print(s, type(o), repr(o), file=stderr)\n",
    "\n",
    "        for typ, handler in all_handlers.items():\n",
    "            if isinstance(o, typ):\n",
    "                s += sum(map(sizeof, handler(o)))\n",
    "                break\n",
    "        return s\n",
    "\n",
    "    return sizeof(o)\n",
    "\n",
    "\n",
    "##### Example call #####\n",
    "if __name__ == '__main__':\n",
    "    d = dict(a=1, b=2, c=3, d=[4,5,6,7], e='a string of chars')\n",
    "    print(total_size(d, verbose=True))"
   ]
  },
  {
   "cell_type": "code",
   "execution_count": null,
   "metadata": {
    "ExecuteTime": {
     "end_time": "2019-11-23T08:13:00.353562Z",
     "start_time": "2019-11-23T08:13:00.329286Z"
    }
   },
   "outputs": [],
   "source": [
    "x = (int, float, bool, list, set, tuple, dict)\n",
    "n = len(x)\n",
    "type(x)\n",
    "x = x.__iter__()\n",
    "i = 0\n",
    "while i < n:\n",
    "    sys.getsizeof(next(x))\n",
    "    i += 1"
   ]
  },
  {
   "cell_type": "code",
   "execution_count": null,
   "metadata": {
    "ExecuteTime": {
     "end_time": "2019-11-23T08:31:10.552172Z",
     "start_time": "2019-11-23T08:31:10.534848Z"
    }
   },
   "outputs": [],
   "source": [
    "A = np.random.randint(1, 10, (20, 30))\n",
    "sys.getsizeof(A)\n",
    "sys.getsizeof(list(A))\n",
    "\n",
    "B = list(range(10))\n",
    "sys.getsizeof(B)\n",
    "sys.getsizeof(np.array(B))"
   ]
  },
  {
   "cell_type": "code",
   "execution_count": null,
   "metadata": {
    "ExecuteTime": {
     "end_time": "2019-11-23T02:19:23.484199Z",
     "start_time": "2019-11-23T02:19:23.468010Z"
    }
   },
   "outputs": [],
   "source": [
    "A = np.random.randint(1, 10, (20, 30))\n",
    "A.__len__()\n",
    "A.shape"
   ]
  },
  {
   "cell_type": "code",
   "execution_count": null,
   "metadata": {
    "ExecuteTime": {
     "end_time": "2019-11-23T00:43:44.490044Z",
     "start_time": "2019-11-23T00:43:44.486875Z"
    }
   },
   "outputs": [],
   "source": [
    "AList = [[3, 5, 7], [1, 7, 5]]"
   ]
  },
  {
   "cell_type": "code",
   "execution_count": null,
   "metadata": {
    "ExecuteTime": {
     "end_time": "2019-11-23T00:44:31.987688Z",
     "start_time": "2019-11-23T00:44:31.981654Z"
    }
   },
   "outputs": [],
   "source": [
    "sys.getsizeof(AList)"
   ]
  },
  {
   "cell_type": "markdown",
   "metadata": {},
   "source": [
    "when new item is added to a list, two things happen\n",
    "* The extra item fit into spare space.(It is a seems a waste when the list is small)\n",
    "* No extra space, so a new list is created and the content copied across, then extra item is added. (It cost too much)"
   ]
  },
  {
   "cell_type": "markdown",
   "metadata": {},
   "source": [
    "Enough memory is allocated (to save memory in these common cases)"
   ]
  },
  {
   "cell_type": "code",
   "execution_count": null,
   "metadata": {
    "ExecuteTime": {
     "end_time": "2019-11-23T08:03:04.095710Z",
     "start_time": "2019-11-23T08:03:04.056556Z"
    }
   },
   "outputs": [],
   "source": [
    "sys.getsizeof([])\n",
    "sys.getsizeof([1])\n",
    "sys.getsizeof(2)\n",
    "sys.getsizeof(np.array([1]))\n",
    "sys.getsizeof([1, 2])\n",
    "sys.getsizeof((list(range(1))))\n",
    "sys.getsizeof([[1],[]])\n",
    "sys.getsizeof([[1],[2]])"
   ]
  },
  {
   "cell_type": "markdown",
   "metadata": {},
   "source": [
    "## Incresement pattern of the size of array "
   ]
  },
  {
   "cell_type": "markdown",
   "metadata": {},
   "source": [
    "![](https://www.laurentluce.com/images/blog/list/list_insert.png)"
   ]
  },
  {
   "cell_type": "markdown",
   "metadata": {},
   "source": [
    "# `np.sin` vs `math.sin`"
   ]
  },
  {
   "cell_type": "markdown",
   "metadata": {},
   "source": [
    "https://stackoverflow.com/questions/57124500/numpy-create-sine-wave-with-exponential-decay/57124613#comment100767313_57124613"
   ]
  },
  {
   "cell_type": "markdown",
   "metadata": {},
   "source": [
    "Calculate \n",
    "$$\\sin(n) \\cdot 2^{-n\\cdot\\mathrm{factor}}$$"
   ]
  },
  {
   "cell_type": "code",
   "execution_count": null,
   "metadata": {
    "ExecuteTime": {
     "end_time": "2019-11-23T05:54:08.466343Z",
     "start_time": "2019-11-23T05:54:08.145756Z"
    }
   },
   "outputs": [],
   "source": [
    "import numexpr as ne"
   ]
  },
  {
   "cell_type": "markdown",
   "metadata": {},
   "source": [
    "> `NumExpr` is a fast numerical expression evaluator for NumPy. With it, expressions that operate on arrays (like `3*a+4*b`) are accelerated and use less memory than doing the same calculation in Python."
   ]
  },
  {
   "cell_type": "code",
   "execution_count": null,
   "metadata": {
    "ExecuteTime": {
     "end_time": "2019-11-23T05:54:33.769627Z",
     "start_time": "2019-11-23T05:54:33.754339Z"
    }
   },
   "outputs": [],
   "source": [
    "def orig(n_max, factor):\n",
    "    n = np.arange(n_max)\n",
    "    return np.sin(n) * 2**(-n * factor)\n",
    "\n",
    "\n",
    "#Rory Daulton's solution\n",
    "def mod(n_max, factor):\n",
    "    n = np.arange(n_max)\n",
    "    newfactor = -np.log(2) * factor\n",
    "    return np.sin(n) * np.exp(newfactor * n)\n",
    "\n",
    "\n",
    "def mod_2(n_max, factor):\n",
    "    n = np.arange(n_max)\n",
    "    return ne.evaluate(\"sin(n) * 2**(-n * factor)\")\n",
    "\n",
    "\n",
    "#Rory Daulton's solution using Numexpr\n",
    "def mod_3(n_max, factor):\n",
    "    n = np.arange(n_max)\n",
    "    newfactor = -np.log(2) * factor\n",
    "    return ne.evaluate(\"sin(n) * exp(newfactor * n)\")"
   ]
  },
  {
   "cell_type": "code",
   "execution_count": null,
   "metadata": {
    "ExecuteTime": {
     "end_time": "2019-11-23T05:55:08.066407Z",
     "start_time": "2019-11-23T05:55:07.454484Z"
    }
   },
   "outputs": [],
   "source": [
    "_ = orig(1e6, 0.5)"
   ]
  },
  {
   "cell_type": "code",
   "execution_count": null,
   "metadata": {
    "ExecuteTime": {
     "end_time": "2019-11-23T06:15:08.007491Z",
     "start_time": "2019-11-23T06:14:59.329984Z"
    }
   },
   "outputs": [],
   "source": [
    "%timeit _=orig(1e6, 0.5)"
   ]
  },
  {
   "cell_type": "code",
   "execution_count": null,
   "metadata": {
    "ExecuteTime": {
     "end_time": "2019-11-23T06:15:09.649652Z",
     "start_time": "2019-11-23T06:15:08.010505Z"
    }
   },
   "outputs": [],
   "source": [
    "%timeit _ = mod(1e5, 0.5)"
   ]
  },
  {
   "cell_type": "code",
   "execution_count": null,
   "metadata": {
    "ExecuteTime": {
     "end_time": "2019-11-23T06:15:12.628081Z",
     "start_time": "2019-11-23T06:15:09.652909Z"
    }
   },
   "outputs": [],
   "source": [
    "%timeit _ =  mod_2(1e5, 0.5)"
   ]
  },
  {
   "cell_type": "code",
   "execution_count": null,
   "metadata": {
    "ExecuteTime": {
     "end_time": "2019-11-23T06:15:18.560883Z",
     "start_time": "2019-11-23T06:15:12.630960Z"
    }
   },
   "outputs": [],
   "source": [
    "%timeit _ = mod_3(1e5, 0.5)"
   ]
  },
  {
   "cell_type": "markdown",
   "metadata": {},
   "source": [
    "## vectorized function"
   ]
  },
  {
   "cell_type": "code",
   "execution_count": null,
   "metadata": {
    "ExecuteTime": {
     "end_time": "2019-11-23T11:41:59.673283Z",
     "start_time": "2019-11-23T11:41:58.441488Z"
    }
   },
   "outputs": [],
   "source": [
    "x = np.linspace(-1, 2, 1e7)\n",
    "y = np.sin(np.pi * x)\n",
    "y "
   ]
  },
  {
   "cell_type": "code",
   "execution_count": null,
   "metadata": {
    "ExecuteTime": {
     "end_time": "2019-11-23T11:49:34.963162Z",
     "start_time": "2019-11-23T11:49:34.791001Z"
    }
   },
   "outputs": [],
   "source": [
    "x = np.linspace(-1, 2, 1e7)\n",
    "pi = np.pi\n",
    "y = ne.evaluate(\"sin(pi * x)\")\n",
    "y "
   ]
  },
  {
   "cell_type": "code",
   "execution_count": null,
   "metadata": {
    "ExecuteTime": {
     "end_time": "2019-11-23T11:37:36.483923Z",
     "start_time": "2019-11-23T11:37:36.480983Z"
    }
   },
   "outputs": [],
   "source": [
    "import math"
   ]
  },
  {
   "cell_type": "code",
   "execution_count": null,
   "metadata": {
    "ExecuteTime": {
     "end_time": "2019-11-23T11:42:45.815652Z",
     "start_time": "2019-11-23T11:42:41.253457Z"
    }
   },
   "outputs": [],
   "source": [
    "x = np.linspace(-1, 2, 1e7)\n",
    "_ = [math.sin(math.pi * i) for i in x]"
   ]
  }
 ],
 "metadata": {
  "kernelspec": {
   "display_name": "Python 3",
   "language": "python",
   "name": "python3"
  },
  "language_info": {
   "codemirror_mode": {
    "name": "ipython",
    "version": 3
   },
   "file_extension": ".py",
   "mimetype": "text/x-python",
   "name": "python",
   "nbconvert_exporter": "python",
   "pygments_lexer": "ipython3",
   "version": "3.7.4"
  },
  "toc": {
   "base_numbering": 1,
   "nav_menu": {},
   "number_sections": true,
   "sideBar": true,
   "skip_h1_title": false,
   "title_cell": "Table of Contents",
   "title_sidebar": "Contents",
   "toc_cell": false,
   "toc_position": {},
   "toc_section_display": true,
   "toc_window_display": true
  }
 },
 "nbformat": 4,
 "nbformat_minor": 2
}
