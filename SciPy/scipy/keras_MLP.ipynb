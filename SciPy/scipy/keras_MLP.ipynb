{
 "cells": [
  {
   "cell_type": "code",
   "execution_count": 1,
   "metadata": {
    "ExecuteTime": {
     "end_time": "2020-02-28T07:18:36.323386Z",
     "start_time": "2020-02-28T07:18:36.312167Z"
    }
   },
   "outputs": [],
   "source": [
    "from IPython.core.interactiveshell import InteractiveShell\n",
    "InteractiveShell.ast_node_interactivity = \"all\""
   ]
  },
  {
   "cell_type": "code",
   "execution_count": 2,
   "metadata": {
    "ExecuteTime": {
     "end_time": "2020-02-28T07:18:37.216106Z",
     "start_time": "2020-02-28T07:18:36.694711Z"
    }
   },
   "outputs": [],
   "source": [
    "import numpy as np\n",
    "import pandas as pd"
   ]
  },
  {
   "cell_type": "code",
   "execution_count": 3,
   "metadata": {
    "ExecuteTime": {
     "end_time": "2020-02-28T07:18:37.485543Z",
     "start_time": "2020-02-28T07:18:37.218252Z"
    }
   },
   "outputs": [],
   "source": [
    "%matplotlib inline\n",
    "import matplotlib.pylab as plt"
   ]
  },
  {
   "cell_type": "code",
   "execution_count": 4,
   "metadata": {
    "ExecuteTime": {
     "end_time": "2020-02-28T07:18:38.724016Z",
     "start_time": "2020-02-28T07:18:38.720131Z"
    }
   },
   "outputs": [],
   "source": [
    "data_path = \"/home/wm/Playground/IdealOps/batch_jobs/data/\""
   ]
  },
  {
   "cell_type": "code",
   "execution_count": 5,
   "metadata": {
    "ExecuteTime": {
     "end_time": "2020-02-28T07:18:39.425076Z",
     "start_time": "2020-02-28T07:18:39.134166Z"
    }
   },
   "outputs": [
    {
     "data": {
      "text/plain": [
       "[<matplotlib.lines.Line2D at 0x7f563dadbe10>]"
      ]
     },
     "execution_count": 5,
     "metadata": {},
     "output_type": "execute_result"
    },
    {
     "data": {
      "image/png": "[encoded data removed]",
      "text/plain": [
       "<Figure size 432x288 with 1 Axes>"
      ]
     },
     "metadata": {
      "needs_background": "light"
     },
     "output_type": "display_data"
    }
   ],
   "source": [
    "df = pd.read_csv(data_path + 'international-airline-passengers.csv', sep = \";\")\n",
    "plt.plot(np.arange(df.shape[0]), df[\"Passengers\"])\n",
    "plt.show()"
   ]
  },
  {
   "cell_type": "code",
   "execution_count": 43,
   "metadata": {
    "ExecuteTime": {
     "end_time": "2020-02-28T06:08:17.427837Z",
     "start_time": "2020-02-28T06:08:17.423687Z"
    }
   },
   "outputs": [],
   "source": [
    "import os\n",
    "from itertools import combinations"
   ]
  },
  {
   "cell_type": "code",
   "execution_count": 14,
   "metadata": {
    "ExecuteTime": {
     "end_time": "2020-02-28T07:38:01.131977Z",
     "start_time": "2020-02-28T07:38:01.092981Z"
    }
   },
   "outputs": [],
   "source": [
    "def preprocess_raw_data(file_path:str)->dict:\n",
    "    '''\n",
    "    Parameters\n",
    "    ---------------\n",
    "    file path to file\n",
    "\n",
    "    Returns\n",
    "    --------------\n",
    "    data_standard_api: data format as we defined\n",
    "    '''\n",
    "    df = pd.read_json(file_path, \\\n",
    "                  encoding=\"utf-8\", \\\n",
    "                  orient='records')\n",
    "\n",
    "    data_standard_api = dict()\n",
    "    dg = df.groupby([\"系统名称\", \"任务名称\"])\n",
    "    system = df[\"系统名称\"].unique()\n",
    "    for system_id in system:\n",
    "        task_list = df[df[\"系统名称\"] == system_id][\"任务名称\"].unique()\n",
    "        for task_id in task_list:\n",
    "            tem = dg.get_group((system_id, task_id))\n",
    "            data_standard_api[\"{}_{}\".format(system_id, task_id)] = list(zip(tem[\"开始时间\"].tolist(),\\\n",
    "                                                                tem[\"完成时间\"].tolist()))\n",
    "    return data_standard_api\n",
    "\n",
    "class data_processing():\n",
    "    def __init__(self, data_standard_api, aimed_ts):\n",
    "        self.ts = data_standard_api\n",
    "        self.color_option = [\"r\", \"g\", \"b\", \"y\", \"m\", \"k\"]\n",
    "        self.aimed_ts = aimed_ts\n",
    "\n",
    "\n",
    "    def extract_time_series(self)->dict:\n",
    "        ts_dict = dict()\n",
    "        for k, v in data_standard_api.items():\n",
    "            tem = pd.Series([pd.to_datetime(i[1]) - pd.to_datetime(i[0])\n",
    "                             for i in v]).dt.total_seconds() / 60\n",
    "            tem.index = [pd.to_datetime(i[0]) for i in v]\n",
    "            ts_dict[k] = tem\n",
    "            \n",
    "        return ts_dict\n",
    "\n",
    "        \n",
    "    def visualize_time_series(self, figure_dir, ts_dict:dict, filename:str):\n",
    "        '''\n",
    "        Parameters \n",
    "        -------\n",
    "        ts_list: a list of time series which should be the return of extract_time_series\n",
    "        filename: specify the file name to save the figure\n",
    "\n",
    "        Returns \n",
    "        -------\n",
    "        None\n",
    "        '''\n",
    "        # sample ts \n",
    "        fig, ax_array = plt.subplots(6, sharex=True)\n",
    "        fig.set_size_inches(10, 6, 9)\n",
    "        fig.subplots_adjust(hspace=0.4)\n",
    "        color = iter([\"r\", \"g\", \"b\", \"y\", \"m\", \"k\"])\n",
    "        i = 0\n",
    "        for key, value in ts_dict.items():\n",
    "            if i > 5:\n",
    "                break\n",
    "            else:\n",
    "                _ = value.plot(ax=ax_array[i], color = next(color))\n",
    "                _ = ax_array[i].set_title('{}'.format(key))\n",
    "                _ = ax_array[i].set_ylabel('Min')\n",
    "                _ = ax_array[i].set_xlabel('start time')\n",
    "                i += 1\n",
    "\n",
    "        plt.savefig('{}{}.png'.format(figure_dir, filename), format='png', dpi=300)\n",
    "        plt.close()\n",
    "\n",
    "\n",
    "    def resample_unevenly_distributed_time_series(self, ts_dict:dict)->list:\n",
    "        '''\n",
    "        Parameters:\n",
    "        ------------\n",
    "        ts_list: a list of unevenly sampled time series\n",
    "        \n",
    "        Returns\n",
    "        --------------\n",
    "        ts_dict_new: a list of evenly sampled time series\n",
    "        '''\n",
    "        #make all the ts have equal length as ts indexed as ts_index\n",
    "\n",
    "        \n",
    "        # throw away the shorter ones than ts indexed as ts_index\n",
    "        #interval = 1664 = 1day plus 3 h and 44 min drove me nuts\n",
    "        tem_len = ts_dict[self.aimed_ts].shape[0]\n",
    "\n",
    "        preserved_ts_dict = {k: v for k, v in ts_dict.items() if (v.shape[0] / tem_len > 0.8)}\n",
    "\n",
    "        inteval = int(preserved_ts_dict[self.aimed_ts].max()) + 1\n",
    "\n",
    "        ts_dict_tem = {k: v.resample(\"{} Min\".format(inteval)).mean() \\\n",
    "                       for k, v in preserved_ts_dict.items()}\n",
    "\n",
    "        ts_dict_new_len = ts_dict_tem[self.aimed_ts].shape[0]\n",
    "        ts_dict_tem_1 = {k: v[:ts_dict_new_len] for k, v in ts_dict_tem.items()}\n",
    "\n",
    "        for k, v in ts_dict_tem_1.items():\n",
    "            if v.shape[0] < ts_dict_new_len:\n",
    "                ps_len = ts_dict_new_len - v.shape[0]\n",
    "                tem_ps = pd.Series([np.nan] * ps_len)\n",
    "                tem_ps.index = ts_dict_tem_1[self.aimed_ts].index[-ps_len:]\n",
    "                ts_dict_tem_1[k] = ts_dict_tem_1[k].combine(tem_ps, max)\n",
    "\n",
    "        ts_dict_new = {k: v.ffill() for k, v in ts_dict_tem_1.items()}        \n",
    "        return ts_dict_new"
   ]
  },
  {
   "cell_type": "code",
   "execution_count": 15,
   "metadata": {
    "ExecuteTime": {
     "end_time": "2020-02-28T07:38:02.039717Z",
     "start_time": "2020-02-28T07:38:02.035178Z"
    }
   },
   "outputs": [
    {
     "data": {
      "text/plain": [
       "'/home/wm/Playground/IdealOps/batch_jobs/data/data_sample/'"
      ]
     },
     "execution_count": 15,
     "metadata": {},
     "output_type": "execute_result"
    }
   ],
   "source": [
    "data_path"
   ]
  },
  {
   "cell_type": "code",
   "execution_count": 16,
   "metadata": {
    "ExecuteTime": {
     "end_time": "2020-02-28T07:38:02.925094Z",
     "start_time": "2020-02-28T07:38:02.648234Z"
    }
   },
   "outputs": [
    {
     "name": "stdout",
     "output_type": "stream",
     "text": [
      "beta_abrupt_change.json              norm_trend_abrupt_change.json\r\n",
      "beta_cycle_abrupt_change.json        norm_trend.json\r\n",
      "beta_cycle_trend_abrupt_change.json  norm_with_noise.json\r\n",
      "beta_cycle_trend.json                powerlog_abrupt_change.json\r\n",
      "beta_trend_abrupt_change.json        powerlog_cycle_abrupt_change.json\r\n",
      "beta_trend.json                      powerlog_cycle_trend_abrupt_change.json\r\n",
      "beta_with_noise.json                 powerlog_cycle_trend.json\r\n",
      "norm_abrupt_change.json              powerlog_trend_abrupt_change.json\r\n",
      "norm_cycle_abrupt_change.json        powerlog_trend.json\r\n",
      "norm_cycle_trend_abrupt_change.json  powerlog_with_noise.json\r\n",
      "norm_cycle_trend.json\r\n"
     ]
    }
   ],
   "source": [
    "ls /home/wm/Playground/IdealOps/batch_jobs/data/data_sample/"
   ]
  },
  {
   "cell_type": "code",
   "execution_count": 17,
   "metadata": {
    "ExecuteTime": {
     "end_time": "2020-02-28T07:38:03.818743Z",
     "start_time": "2020-02-28T07:38:03.602168Z"
    }
   },
   "outputs": [],
   "source": [
    "data_path = \"/home/wm/Playground/IdealOps/batch_jobs/data/data_sample/\"\n",
    "file = \"norm_cycle_trend.json\"\n",
    "data_standard_api = preprocess_raw_data(data_path + file)"
   ]
  },
  {
   "cell_type": "code",
   "execution_count": 20,
   "metadata": {
    "ExecuteTime": {
     "end_time": "2020-02-28T07:38:52.545657Z",
     "start_time": "2020-02-28T07:38:44.086171Z"
    }
   },
   "outputs": [],
   "source": [
    "aimed_ts = \"system_01_task_04\"\n",
    "dp = data_processing(data_standard_api, aimed_ts)\n",
    "ts_dict = dp.extract_time_series()\n",
    "ts_dict_new = dp.resample_unevenly_distributed_time_series(ts_dict)  "
   ]
  },
  {
   "cell_type": "code",
   "execution_count": 21,
   "metadata": {
    "ExecuteTime": {
     "end_time": "2020-02-28T07:38:52.552169Z",
     "start_time": "2020-02-28T07:38:52.548526Z"
    }
   },
   "outputs": [],
   "source": [
    "dataset = ts_dict_new[aimed_ts].values.astype('float32')"
   ]
  },
  {
   "cell_type": "code",
   "execution_count": 22,
   "metadata": {
    "ExecuteTime": {
     "end_time": "2020-02-28T07:38:53.927569Z",
     "start_time": "2020-02-28T07:38:53.919365Z"
    }
   },
   "outputs": [
    {
     "data": {
      "text/plain": [
       "(125, 1)"
      ]
     },
     "execution_count": 22,
     "metadata": {},
     "output_type": "execute_result"
    }
   ],
   "source": [
    "dataset = dataset.reshape(-1, 1);\n",
    "dataset.shape"
   ]
  },
  {
   "cell_type": "code",
   "execution_count": 51,
   "metadata": {
    "ExecuteTime": {
     "end_time": "2020-02-28T08:51:17.182750Z",
     "start_time": "2020-02-28T08:51:10.225365Z"
    }
   },
   "outputs": [
    {
     "name": "stdout",
     "output_type": "stream",
     "text": [
      "83 42\n"
     ]
    },
    {
     "name": "stderr",
     "output_type": "stream",
     "text": [
      "/home/wm/anaconda3/lib/python3.7/site-packages/ipykernel_launcher.py:16: UserWarning: The `nb_epoch` argument in `fit` has been renamed `epochs`.\n",
      "  app.launch_new_instance()\n"
     ]
    },
    {
     "data": {
      "text/plain": [
       "<keras.callbacks.callbacks.History at 0x7f55defb8b10>"
      ]
     },
     "execution_count": 51,
     "metadata": {},
     "output_type": "execute_result"
    },
    {
     "name": "stdout",
     "output_type": "stream",
     "text": [
      "Train Score:  1315.872341579861\n",
      "Test Score:  6756.073046875\n"
     ]
    }
   ],
   "source": [
    "train_size = int(len(dataset) * 0.67)\n",
    "test_size = len(dataset) - train_size\n",
    "train, test = dataset[0:train_size,:], dataset[train_size:len(dataset),:]\n",
    "print(len(train), len(test))\n",
    "\n",
    "# reshape into X=t and Y=t+1\n",
    "look_back = 1\n",
    "trainX, trainY = create_dataset(train, look_back)\n",
    "testX, testY = create_dataset(test, look_back)\n",
    "\n",
    "# create and fit Multilayer Perceptron model\n",
    "model = Sequential()\n",
    "model.add(Dense(8, input_dim=look_back, activation='relu'))\n",
    "model.add(Dense(1))\n",
    "model.compile(loss='mean_squared_error', optimizer='adam')\n",
    "model.fit(trainX, trainY, nb_epoch=200, batch_size=2, verbose=0)\n",
    "\n",
    "# Estimate model performance\n",
    "trainScore = model.evaluate(trainX, trainY, verbose=0)\n",
    "print('Train Score: ', trainScore)\n",
    "testScore = model.evaluate(testX, testY, verbose=0)\n",
    "print('Test Score: ', testScore)"
   ]
  },
  {
   "cell_type": "code",
   "execution_count": 31,
   "metadata": {
    "ExecuteTime": {
     "end_time": "2020-02-28T07:41:28.614640Z",
     "start_time": "2020-02-28T07:41:28.602289Z"
    }
   },
   "outputs": [
    {
     "data": {
      "text/plain": [
       "(40, 1)"
      ]
     },
     "execution_count": 31,
     "metadata": {},
     "output_type": "execute_result"
    }
   ],
   "source": [
    "testPredictPlot = np.empty_like(dataset)\n",
    "testPredictPlot[:, :] = np.nan\n",
    "testPredict.shape"
   ]
  },
  {
   "cell_type": "code",
   "execution_count": 40,
   "metadata": {
    "ExecuteTime": {
     "end_time": "2020-02-28T08:22:23.557704Z",
     "start_time": "2020-02-28T08:22:23.551719Z"
    }
   },
   "outputs": [
    {
     "data": {
      "text/plain": [
       "array([[220.35443],\n",
       "       [185.48523],\n",
       "       [219.755  ],\n",
       "       [239.18968]], dtype=float32)"
      ]
     },
     "execution_count": 40,
     "metadata": {},
     "output_type": "execute_result"
    }
   ],
   "source": [
    "dataset[:4]"
   ]
  },
  {
   "cell_type": "code",
   "execution_count": 50,
   "metadata": {
    "ExecuteTime": {
     "end_time": "2020-02-28T08:25:47.401344Z",
     "start_time": "2020-02-28T08:25:47.387663Z"
    }
   },
   "outputs": [
    {
     "data": {
      "text/plain": [
       "array([[226.02643],\n",
       "       [190.69409],\n",
       "       [225.41902],\n",
       "       [245.11182]], dtype=float32)"
      ]
     },
     "execution_count": 50,
     "metadata": {},
     "output_type": "execute_result"
    },
    {
     "data": {
      "text/plain": [
       "array([[      nan],\n",
       "       [226.02643],\n",
       "       [190.69409],\n",
       "       [225.41902]], dtype=float32)"
      ]
     },
     "execution_count": 50,
     "metadata": {},
     "output_type": "execute_result"
    },
    {
     "data": {
      "text/plain": [
       "array([[1381.8208],\n",
       "       [1373.3617],\n",
       "       [1470.0538],\n",
       "       [1500.6836],\n",
       "       [1545.4447]], dtype=float32)"
      ]
     },
     "execution_count": 50,
     "metadata": {},
     "output_type": "execute_result"
    }
   ],
   "source": [
    "trainPredict[:4]\n",
    "trainPredictPlot[:4]\n",
    "testPredict[:5]"
   ]
  },
  {
   "cell_type": "code",
   "execution_count": 47,
   "metadata": {
    "ExecuteTime": {
     "end_time": "2020-02-28T08:24:49.230279Z",
     "start_time": "2020-02-28T08:24:48.966310Z"
    }
   },
   "outputs": [
    {
     "data": {
      "text/plain": [
       "<Figure size 1080x360 with 0 Axes>"
      ]
     },
     "execution_count": 47,
     "metadata": {},
     "output_type": "execute_result"
    },
    {
     "data": {
      "image/png": "[encoded data removed]",
      "text/plain": [
       "<Figure size 1080x360 with 1 Axes>"
      ]
     },
     "metadata": {
      "needs_background": "light"
     },
     "output_type": "display_data"
    }
   ],
   "source": [
    "# generate predictions for training\n",
    "trainPredict = model.predict(trainX)\n",
    "testPredict = model.predict(testX)\n",
    "\n",
    "# shift train predictions for plotting\n",
    "trainPredictPlot = np.empty_like(dataset)\n",
    "trainPredictPlot[:, :] = np.nan\n",
    "trainPredictPlot[look_back:len(trainPredict)+look_back, :] = trainPredict\n",
    "\n",
    "# shift test predictions for plotting\n",
    "testPredictPlot = np.empty_like(dataset)\n",
    "testPredictPlot[:, :] = np.nan\n",
    "testPredictPlot[len(trainPredict)+(look_back*2)+1:len(dataset)-1, :] = testPredict\n",
    "plt.figure(figsize=(15,5))\n",
    "# plot baseline and predictions\n",
    "_ = plt.plot(dataset, label = \"original\", marker = \".\", markersize=5)\n",
    "_ = plt.plot(trainPredictPlot, label = \"train_predicted\", marker = \".\", markersize = 5)\n",
    "_ = plt.plot(testPredictPlot, label = \"test_predicted\", marker = \".\", markersize=5)\n",
    "_ = plt.title(aimed_ts)\n",
    "_ = plt.legend()\n",
    "_ = plt.show()   "
   ]
  },
  {
   "cell_type": "code",
   "execution_count": 52,
   "metadata": {
    "ExecuteTime": {
     "end_time": "2020-02-28T09:03:47.345131Z",
     "start_time": "2020-02-28T09:03:47.339350Z"
    }
   },
   "outputs": [],
   "source": [
    "# convert an array of values into a dataset matrix\n",
    "def create_dataset(dataset, look_back=1):\n",
    "    dataX, dataY = [], [ ] \n",
    "    for i in range(len(dataset)-look_back-1):\n",
    "        a = dataset[i:(i+look_back), 0]\n",
    "        dataX.append(a)\n",
    "        dataY.append(dataset[i + look_back, 0])\n",
    "    return np.array(dataX), np.array(dataY)\n",
    "\n",
    "np.random.seed(7)"
   ]
  },
  {
   "cell_type": "code",
   "execution_count": 91,
   "metadata": {
    "ExecuteTime": {
     "end_time": "2020-02-28T09:48:41.272538Z",
     "start_time": "2020-02-28T09:48:41.242134Z"
    }
   },
   "outputs": [
    {
     "data": {
      "text/plain": [
       "array([118., 132.], dtype=float32)"
      ]
     },
     "execution_count": 91,
     "metadata": {},
     "output_type": "execute_result"
    },
    {
     "data": {
      "text/plain": [
       "array([[112.],\n",
       "       [118.],\n",
       "       [132.]], dtype=float32)"
      ]
     },
     "execution_count": 91,
     "metadata": {},
     "output_type": "execute_result"
    },
    {
     "data": {
      "text/plain": [
       "array([[112.],\n",
       "       [118.],\n",
       "       [132.],\n",
       "       [129.]], dtype=float32)"
      ]
     },
     "execution_count": 91,
     "metadata": {},
     "output_type": "execute_result"
    },
    {
     "data": {
      "text/plain": [
       "array([118., 132., 129., 121., 135., 148., 148., 136., 119., 104., 118.,\n",
       "       115., 126., 141., 135., 125., 149., 170., 170., 158., 133., 114.,\n",
       "       140., 145., 150., 178., 163., 172., 178., 199., 199., 184., 162.,\n",
       "       146., 166., 171., 180., 193., 181., 183., 218., 230., 242., 209.,\n",
       "       191., 172., 194., 196., 196., 236., 235., 229., 243., 264., 272.,\n",
       "       237., 211., 180., 201., 204., 188., 235., 227., 234., 264., 302.,\n",
       "       293., 259., 229., 203., 229., 242., 233., 267., 269., 270., 315.,\n",
       "       364., 347., 312., 274., 237., 278., 284., 277., 317., 313., 318.,\n",
       "       374., 413., 405., 355., 306., 271.], dtype=float32)"
      ]
     },
     "execution_count": 91,
     "metadata": {},
     "output_type": "execute_result"
    },
    {
     "data": {
      "text/plain": [
       "array([[306.],\n",
       "       [271.],\n",
       "       [306.]], dtype=float32)"
      ]
     },
     "execution_count": 91,
     "metadata": {},
     "output_type": "execute_result"
    },
    {
     "data": {
      "text/plain": [
       "array([[405.],\n",
       "       [355.],\n",
       "       [306.]], dtype=float32)"
      ]
     },
     "execution_count": 91,
     "metadata": {},
     "output_type": "execute_result"
    }
   ],
   "source": [
    "dataset[1:3,0]\n",
    "train[:3]\n",
    "trainX[:4]\n",
    "trainY[:]\n",
    "train[-3:]\n",
    "trainX[-3:]"
   ]
  },
  {
   "cell_type": "code",
   "execution_count": 75,
   "metadata": {
    "ExecuteTime": {
     "end_time": "2020-02-28T09:17:21.602097Z",
     "start_time": "2020-02-28T09:17:21.580134Z"
    }
   },
   "outputs": [
    {
     "data": {
      "text/plain": [
       "(96, 1)"
      ]
     },
     "execution_count": 75,
     "metadata": {},
     "output_type": "execute_result"
    },
    {
     "data": {
      "text/plain": [
       "(94, 1)"
      ]
     },
     "execution_count": 75,
     "metadata": {},
     "output_type": "execute_result"
    },
    {
     "data": {
      "text/plain": [
       "(94,)"
      ]
     },
     "execution_count": 75,
     "metadata": {},
     "output_type": "execute_result"
    },
    {
     "data": {
      "text/plain": [
       "(48, 1)"
      ]
     },
     "execution_count": 75,
     "metadata": {},
     "output_type": "execute_result"
    },
    {
     "data": {
      "text/plain": [
       "(46, 1)"
      ]
     },
     "execution_count": 75,
     "metadata": {},
     "output_type": "execute_result"
    },
    {
     "data": {
      "text/plain": [
       "(46,)"
      ]
     },
     "execution_count": 75,
     "metadata": {},
     "output_type": "execute_result"
    }
   ],
   "source": [
    "train.shape\n",
    "trainX.shape\n",
    "trainY.shape\n",
    "test.shape\n",
    "testX.shape\n",
    "testY.shape"
   ]
  },
  {
   "cell_type": "code",
   "execution_count": 101,
   "metadata": {
    "ExecuteTime": {
     "end_time": "2020-02-28T10:53:17.386835Z",
     "start_time": "2020-02-28T10:53:17.334209Z"
    }
   },
   "outputs": [
    {
     "name": "stdout",
     "output_type": "stream",
     "text": [
      "[112.] [118.] [132.] [129.] [121.] [135.] [148.] [148.] [136.] [119.] [104.] [118.] [115.] [126.] [141.] [135.] [125.] [149.] [170.] [170.] [158.] [133.] [114.] [140.] [145.] [150.] [178.] [163.] [172.] [178.] [199.] [199.] [184.] [162.] [146.] [166.] [171.] [180.] [193.] [181.] [183.] [218.] [230.] [242.] [209.] [191.] [172.] [194.] [196.] [196.] [236.] [235.] [229.] [243.] [264.] [272.] [237.] [211.] [180.] [201.] [204.] [188.] [235.] [227.] [234.] [264.] [302.] [293.] [259.] [229.] [203.] [229.] [242.] [233.] [267.] [269.] [270.] [315.] [364.] [347.] [312.] [274.] [237.] [278.] [284.] [277.] [317.] [313.] [318.] [374.] [413.] [405.] [355.] [306.] [271.] [306.] [315.] [301.] [356.] [348.] [355.] [422.] [465.] [467.] [404.] [347.] [305.] [336.] [340.] [318.] [362.] [348.] [363.] [435.] [491.] [505.] [404.] [359.] [310.] [337.] [360.] [342.] [406.] [396.] [420.] [472.] [548.] [559.] [463.] [407.] [362.] [405.] [417.] [391.] [419.] [461.] [472.] [535.] [622.] [606.] [508.] [461.] [390.] [432.]\n"
     ]
    }
   ],
   "source": [
    "print(*dataset)"
   ]
  },
  {
   "cell_type": "code",
   "execution_count": 99,
   "metadata": {
    "ExecuteTime": {
     "end_time": "2020-02-28T10:50:48.920003Z",
     "start_time": "2020-02-28T10:50:48.902353Z"
    }
   },
   "outputs": [
    {
     "data": {
      "text/html": [
       "<div>\n",
       "<style scoped>\n",
       "    .dataframe tbody tr th:only-of-type {\n",
       "        vertical-align: middle;\n",
       "    }\n",
       "\n",
       "    .dataframe tbody tr th {\n",
       "        vertical-align: top;\n",
       "    }\n",
       "\n",
       "    .dataframe thead th {\n",
       "        text-align: right;\n",
       "    }\n",
       "</style>\n",
       "<table border=\"1\" class=\"dataframe\">\n",
       "  <thead>\n",
       "    <tr style=\"text-align: right;\">\n",
       "      <th></th>\n",
       "      <th>testX</th>\n",
       "      <th>testY</th>\n",
       "    </tr>\n",
       "  </thead>\n",
       "  <tbody>\n",
       "    <tr>\n",
       "      <td>0</td>\n",
       "      <td>315.0</td>\n",
       "      <td>301.0</td>\n",
       "    </tr>\n",
       "    <tr>\n",
       "      <td>1</td>\n",
       "      <td>301.0</td>\n",
       "      <td>356.0</td>\n",
       "    </tr>\n",
       "    <tr>\n",
       "      <td>2</td>\n",
       "      <td>356.0</td>\n",
       "      <td>348.0</td>\n",
       "    </tr>\n",
       "    <tr>\n",
       "      <td>3</td>\n",
       "      <td>348.0</td>\n",
       "      <td>355.0</td>\n",
       "    </tr>\n",
       "    <tr>\n",
       "      <td>4</td>\n",
       "      <td>355.0</td>\n",
       "      <td>422.0</td>\n",
       "    </tr>\n",
       "    <tr>\n",
       "      <td>5</td>\n",
       "      <td>422.0</td>\n",
       "      <td>465.0</td>\n",
       "    </tr>\n",
       "    <tr>\n",
       "      <td>6</td>\n",
       "      <td>465.0</td>\n",
       "      <td>467.0</td>\n",
       "    </tr>\n",
       "    <tr>\n",
       "      <td>7</td>\n",
       "      <td>467.0</td>\n",
       "      <td>404.0</td>\n",
       "    </tr>\n",
       "    <tr>\n",
       "      <td>8</td>\n",
       "      <td>404.0</td>\n",
       "      <td>347.0</td>\n",
       "    </tr>\n",
       "    <tr>\n",
       "      <td>9</td>\n",
       "      <td>347.0</td>\n",
       "      <td>305.0</td>\n",
       "    </tr>\n",
       "    <tr>\n",
       "      <td>10</td>\n",
       "      <td>305.0</td>\n",
       "      <td>336.0</td>\n",
       "    </tr>\n",
       "    <tr>\n",
       "      <td>11</td>\n",
       "      <td>336.0</td>\n",
       "      <td>340.0</td>\n",
       "    </tr>\n",
       "    <tr>\n",
       "      <td>12</td>\n",
       "      <td>340.0</td>\n",
       "      <td>318.0</td>\n",
       "    </tr>\n",
       "    <tr>\n",
       "      <td>13</td>\n",
       "      <td>318.0</td>\n",
       "      <td>362.0</td>\n",
       "    </tr>\n",
       "    <tr>\n",
       "      <td>14</td>\n",
       "      <td>362.0</td>\n",
       "      <td>348.0</td>\n",
       "    </tr>\n",
       "    <tr>\n",
       "      <td>15</td>\n",
       "      <td>348.0</td>\n",
       "      <td>363.0</td>\n",
       "    </tr>\n",
       "    <tr>\n",
       "      <td>16</td>\n",
       "      <td>363.0</td>\n",
       "      <td>435.0</td>\n",
       "    </tr>\n",
       "    <tr>\n",
       "      <td>17</td>\n",
       "      <td>435.0</td>\n",
       "      <td>491.0</td>\n",
       "    </tr>\n",
       "    <tr>\n",
       "      <td>18</td>\n",
       "      <td>491.0</td>\n",
       "      <td>505.0</td>\n",
       "    </tr>\n",
       "    <tr>\n",
       "      <td>19</td>\n",
       "      <td>505.0</td>\n",
       "      <td>404.0</td>\n",
       "    </tr>\n",
       "    <tr>\n",
       "      <td>20</td>\n",
       "      <td>404.0</td>\n",
       "      <td>359.0</td>\n",
       "    </tr>\n",
       "    <tr>\n",
       "      <td>21</td>\n",
       "      <td>359.0</td>\n",
       "      <td>310.0</td>\n",
       "    </tr>\n",
       "    <tr>\n",
       "      <td>22</td>\n",
       "      <td>310.0</td>\n",
       "      <td>337.0</td>\n",
       "    </tr>\n",
       "    <tr>\n",
       "      <td>23</td>\n",
       "      <td>337.0</td>\n",
       "      <td>360.0</td>\n",
       "    </tr>\n",
       "    <tr>\n",
       "      <td>24</td>\n",
       "      <td>360.0</td>\n",
       "      <td>342.0</td>\n",
       "    </tr>\n",
       "    <tr>\n",
       "      <td>25</td>\n",
       "      <td>342.0</td>\n",
       "      <td>406.0</td>\n",
       "    </tr>\n",
       "    <tr>\n",
       "      <td>26</td>\n",
       "      <td>406.0</td>\n",
       "      <td>396.0</td>\n",
       "    </tr>\n",
       "    <tr>\n",
       "      <td>27</td>\n",
       "      <td>396.0</td>\n",
       "      <td>420.0</td>\n",
       "    </tr>\n",
       "    <tr>\n",
       "      <td>28</td>\n",
       "      <td>420.0</td>\n",
       "      <td>472.0</td>\n",
       "    </tr>\n",
       "    <tr>\n",
       "      <td>29</td>\n",
       "      <td>472.0</td>\n",
       "      <td>548.0</td>\n",
       "    </tr>\n",
       "    <tr>\n",
       "      <td>30</td>\n",
       "      <td>548.0</td>\n",
       "      <td>559.0</td>\n",
       "    </tr>\n",
       "    <tr>\n",
       "      <td>31</td>\n",
       "      <td>559.0</td>\n",
       "      <td>463.0</td>\n",
       "    </tr>\n",
       "    <tr>\n",
       "      <td>32</td>\n",
       "      <td>463.0</td>\n",
       "      <td>407.0</td>\n",
       "    </tr>\n",
       "    <tr>\n",
       "      <td>33</td>\n",
       "      <td>407.0</td>\n",
       "      <td>362.0</td>\n",
       "    </tr>\n",
       "    <tr>\n",
       "      <td>34</td>\n",
       "      <td>362.0</td>\n",
       "      <td>405.0</td>\n",
       "    </tr>\n",
       "    <tr>\n",
       "      <td>35</td>\n",
       "      <td>405.0</td>\n",
       "      <td>417.0</td>\n",
       "    </tr>\n",
       "    <tr>\n",
       "      <td>36</td>\n",
       "      <td>417.0</td>\n",
       "      <td>391.0</td>\n",
       "    </tr>\n",
       "    <tr>\n",
       "      <td>37</td>\n",
       "      <td>391.0</td>\n",
       "      <td>419.0</td>\n",
       "    </tr>\n",
       "    <tr>\n",
       "      <td>38</td>\n",
       "      <td>419.0</td>\n",
       "      <td>461.0</td>\n",
       "    </tr>\n",
       "    <tr>\n",
       "      <td>39</td>\n",
       "      <td>461.0</td>\n",
       "      <td>472.0</td>\n",
       "    </tr>\n",
       "    <tr>\n",
       "      <td>40</td>\n",
       "      <td>472.0</td>\n",
       "      <td>535.0</td>\n",
       "    </tr>\n",
       "    <tr>\n",
       "      <td>41</td>\n",
       "      <td>535.0</td>\n",
       "      <td>622.0</td>\n",
       "    </tr>\n",
       "    <tr>\n",
       "      <td>42</td>\n",
       "      <td>622.0</td>\n",
       "      <td>606.0</td>\n",
       "    </tr>\n",
       "    <tr>\n",
       "      <td>43</td>\n",
       "      <td>606.0</td>\n",
       "      <td>508.0</td>\n",
       "    </tr>\n",
       "    <tr>\n",
       "      <td>44</td>\n",
       "      <td>508.0</td>\n",
       "      <td>461.0</td>\n",
       "    </tr>\n",
       "    <tr>\n",
       "      <td>45</td>\n",
       "      <td>461.0</td>\n",
       "      <td>390.0</td>\n",
       "    </tr>\n",
       "  </tbody>\n",
       "</table>\n",
       "</div>"
      ],
      "text/plain": [
       "    testX  testY\n",
       "0   315.0  301.0\n",
       "1   301.0  356.0\n",
       "2   356.0  348.0\n",
       "3   348.0  355.0\n",
       "4   355.0  422.0\n",
       "5   422.0  465.0\n",
       "6   465.0  467.0\n",
       "7   467.0  404.0\n",
       "8   404.0  347.0\n",
       "9   347.0  305.0\n",
       "10  305.0  336.0\n",
       "11  336.0  340.0\n",
       "12  340.0  318.0\n",
       "13  318.0  362.0\n",
       "14  362.0  348.0\n",
       "15  348.0  363.0\n",
       "16  363.0  435.0\n",
       "17  435.0  491.0\n",
       "18  491.0  505.0\n",
       "19  505.0  404.0\n",
       "20  404.0  359.0\n",
       "21  359.0  310.0\n",
       "22  310.0  337.0\n",
       "23  337.0  360.0\n",
       "24  360.0  342.0\n",
       "25  342.0  406.0\n",
       "26  406.0  396.0\n",
       "27  396.0  420.0\n",
       "28  420.0  472.0\n",
       "29  472.0  548.0\n",
       "30  548.0  559.0\n",
       "31  559.0  463.0\n",
       "32  463.0  407.0\n",
       "33  407.0  362.0\n",
       "34  362.0  405.0\n",
       "35  405.0  417.0\n",
       "36  417.0  391.0\n",
       "37  391.0  419.0\n",
       "38  419.0  461.0\n",
       "39  461.0  472.0\n",
       "40  472.0  535.0\n",
       "41  535.0  622.0\n",
       "42  622.0  606.0\n",
       "43  606.0  508.0\n",
       "44  508.0  461.0\n",
       "45  461.0  390.0"
      ]
     },
     "execution_count": 99,
     "metadata": {},
     "output_type": "execute_result"
    }
   ],
   "source": [
    "pd.DataFrame({\"testX\":testX.reshape(-1), \"testY\": testY})"
   ]
  },
  {
   "cell_type": "code",
   "execution_count": 97,
   "metadata": {
    "ExecuteTime": {
     "end_time": "2020-02-28T10:50:01.986011Z",
     "start_time": "2020-02-28T10:50:01.967396Z"
    }
   },
   "outputs": [
    {
     "data": {
      "text/html": [
       "<div>\n",
       "<style scoped>\n",
       "    .dataframe tbody tr th:only-of-type {\n",
       "        vertical-align: middle;\n",
       "    }\n",
       "\n",
       "    .dataframe tbody tr th {\n",
       "        vertical-align: top;\n",
       "    }\n",
       "\n",
       "    .dataframe thead th {\n",
       "        text-align: right;\n",
       "    }\n",
       "</style>\n",
       "<table border=\"1\" class=\"dataframe\">\n",
       "  <thead>\n",
       "    <tr style=\"text-align: right;\">\n",
       "      <th></th>\n",
       "      <th>X</th>\n",
       "      <th>Y</th>\n",
       "    </tr>\n",
       "  </thead>\n",
       "  <tbody>\n",
       "    <tr>\n",
       "      <td>0</td>\n",
       "      <td>112.0</td>\n",
       "      <td>118.0</td>\n",
       "    </tr>\n",
       "    <tr>\n",
       "      <td>1</td>\n",
       "      <td>118.0</td>\n",
       "      <td>132.0</td>\n",
       "    </tr>\n",
       "    <tr>\n",
       "      <td>2</td>\n",
       "      <td>132.0</td>\n",
       "      <td>129.0</td>\n",
       "    </tr>\n",
       "    <tr>\n",
       "      <td>3</td>\n",
       "      <td>129.0</td>\n",
       "      <td>121.0</td>\n",
       "    </tr>\n",
       "    <tr>\n",
       "      <td>4</td>\n",
       "      <td>121.0</td>\n",
       "      <td>135.0</td>\n",
       "    </tr>\n",
       "    <tr>\n",
       "      <td>...</td>\n",
       "      <td>...</td>\n",
       "      <td>...</td>\n",
       "    </tr>\n",
       "    <tr>\n",
       "      <td>89</td>\n",
       "      <td>374.0</td>\n",
       "      <td>413.0</td>\n",
       "    </tr>\n",
       "    <tr>\n",
       "      <td>90</td>\n",
       "      <td>413.0</td>\n",
       "      <td>405.0</td>\n",
       "    </tr>\n",
       "    <tr>\n",
       "      <td>91</td>\n",
       "      <td>405.0</td>\n",
       "      <td>355.0</td>\n",
       "    </tr>\n",
       "    <tr>\n",
       "      <td>92</td>\n",
       "      <td>355.0</td>\n",
       "      <td>306.0</td>\n",
       "    </tr>\n",
       "    <tr>\n",
       "      <td>93</td>\n",
       "      <td>306.0</td>\n",
       "      <td>271.0</td>\n",
       "    </tr>\n",
       "  </tbody>\n",
       "</table>\n",
       "<p>94 rows × 2 columns</p>\n",
       "</div>"
      ],
      "text/plain": [
       "        X      Y\n",
       "0   112.0  118.0\n",
       "1   118.0  132.0\n",
       "2   132.0  129.0\n",
       "3   129.0  121.0\n",
       "4   121.0  135.0\n",
       "..    ...    ...\n",
       "89  374.0  413.0\n",
       "90  413.0  405.0\n",
       "91  405.0  355.0\n",
       "92  355.0  306.0\n",
       "93  306.0  271.0\n",
       "\n",
       "[94 rows x 2 columns]"
      ]
     },
     "execution_count": 97,
     "metadata": {},
     "output_type": "execute_result"
    }
   ],
   "source": [
    "pd.DataFrame({\"X\":trainX.reshape(-1), \"Y\": trainY})"
   ]
  },
  {
   "cell_type": "code",
   "execution_count": 54,
   "metadata": {
    "ExecuteTime": {
     "end_time": "2020-02-28T09:05:57.602520Z",
     "start_time": "2020-02-28T09:05:57.592410Z"
    }
   },
   "outputs": [],
   "source": [
    "data_path = \"/home/wm/Playground/IdealOps/batch_jobs/data/\"\n",
    "df = pd.read_csv(data_path + 'international-airline-passengers.csv',\n",
    "                 sep=\";\",\n",
    "                 usecols=[1],\n",
    "                 engine='python')"
   ]
  },
  {
   "cell_type": "code",
   "execution_count": 87,
   "metadata": {
    "ExecuteTime": {
     "end_time": "2020-02-28T09:47:55.008834Z",
     "start_time": "2020-02-28T09:47:55.000816Z"
    }
   },
   "outputs": [
    {
     "data": {
      "text/plain": [
       "array([118.], dtype=float32)"
      ]
     },
     "execution_count": 87,
     "metadata": {},
     "output_type": "execute_result"
    }
   ],
   "source": []
  },
  {
   "cell_type": "code",
   "execution_count": 55,
   "metadata": {
    "ExecuteTime": {
     "end_time": "2020-02-28T09:05:59.893349Z",
     "start_time": "2020-02-28T09:05:59.883649Z"
    }
   },
   "outputs": [
    {
     "data": {
      "text/plain": [
       "numpy.ndarray"
      ]
     },
     "execution_count": 55,
     "metadata": {},
     "output_type": "execute_result"
    },
    {
     "data": {
      "text/plain": [
       "numpy.ndarray"
      ]
     },
     "execution_count": 55,
     "metadata": {},
     "output_type": "execute_result"
    }
   ],
   "source": [
    "dataset = df.values\n",
    "type(dataset)\n",
    "dataset = dataset.astype('float32')\n",
    "type(dataset)"
   ]
  },
  {
   "cell_type": "code",
   "execution_count": 56,
   "metadata": {
    "ExecuteTime": {
     "end_time": "2020-02-28T09:06:02.113899Z",
     "start_time": "2020-02-28T09:06:02.107036Z"
    }
   },
   "outputs": [
    {
     "data": {
      "text/plain": [
       "(144, 1)"
      ]
     },
     "execution_count": 56,
     "metadata": {},
     "output_type": "execute_result"
    }
   ],
   "source": [
    "dataset.shape"
   ]
  },
  {
   "cell_type": "code",
   "execution_count": 57,
   "metadata": {
    "ExecuteTime": {
     "end_time": "2020-02-28T09:06:04.338753Z",
     "start_time": "2020-02-28T09:06:04.334827Z"
    }
   },
   "outputs": [],
   "source": [
    "from keras.models import Sequential\n",
    "from keras.layers import Dense"
   ]
  },
  {
   "cell_type": "code",
   "execution_count": 65,
   "metadata": {
    "ExecuteTime": {
     "end_time": "2020-02-28T09:09:38.137121Z",
     "start_time": "2020-02-28T09:09:29.063742Z"
    }
   },
   "outputs": [
    {
     "name": "stdout",
     "output_type": "stream",
     "text": [
      "96 48\n"
     ]
    },
    {
     "name": "stderr",
     "output_type": "stream",
     "text": [
      "/home/wm/anaconda3/lib/python3.7/site-packages/ipykernel_launcher.py:18: UserWarning: The `nb_epoch` argument in `fit` has been renamed `epochs`.\n"
     ]
    },
    {
     "data": {
      "text/plain": [
       "<keras.callbacks.callbacks.History at 0x7f55dd82b450>"
      ]
     },
     "execution_count": 65,
     "metadata": {},
     "output_type": "execute_result"
    },
    {
     "name": "stdout",
     "output_type": "stream",
     "text": [
      "Train Score:  533.0702345827792\n",
      "Test Score:  2360.265433933424\n"
     ]
    }
   ],
   "source": [
    "dataset = df.values.astype('float32')\n",
    "\n",
    "train_size = int(len(dataset) * 0.67)\n",
    "test_size = len(dataset) - train_size\n",
    "train, test = dataset[0:train_size,:], dataset[train_size:len(dataset),:]\n",
    "print(len(train), len(test))\n",
    "\n",
    "# reshape into X=t and Y=t+1\n",
    "look_back = 1\n",
    "trainX, trainY = create_dataset(train, look_back)\n",
    "testX, testY = create_dataset(test, look_back)\n",
    "\n",
    "# create and fit Multilayer Perceptron model\n",
    "model = Sequential()\n",
    "model.add(Dense(8, input_dim=look_back, activation='relu'))\n",
    "model.add(Dense(1))\n",
    "model.compile(loss='mean_squared_error', optimizer='adam')\n",
    "model.fit(trainX, trainY, nb_epoch=200, batch_size=2, verbose=0)\n",
    "\n",
    "# Estimate model performance\n",
    "trainScore = model.evaluate(trainX, trainY, verbose=0)\n",
    "print('Train Score: ', trainScore)\n",
    "testScore = model.evaluate(testX, testY, verbose=0)\n",
    "print('Test Score: ', testScore)"
   ]
  },
  {
   "cell_type": "code",
   "execution_count": 66,
   "metadata": {
    "ExecuteTime": {
     "end_time": "2020-02-28T09:09:44.939361Z",
     "start_time": "2020-02-28T09:09:44.651289Z"
    }
   },
   "outputs": [
    {
     "data": {
      "image/png": "[encoded data removed]",
      "text/plain": [
       "<Figure size 432x288 with 1 Axes>"
      ]
     },
     "metadata": {
      "needs_background": "light"
     },
     "output_type": "display_data"
    }
   ],
   "source": [
    "# generate predictions for training\n",
    "trainPredict = model.predict(trainX)\n",
    "testPredict = model.predict(testX)\n",
    "\n",
    "# shift train predictions for plotting\n",
    "trainPredictPlot = np.empty_like(dataset)\n",
    "trainPredictPlot[:, :] = np.nan\n",
    "trainPredictPlot[look_back:len(trainPredict)+look_back, :] = trainPredict\n",
    "\n",
    "# shift test predictions for plotting\n",
    "testPredictPlot = np.empty_like(dataset)\n",
    "testPredictPlot[:, :] = np.nan\n",
    "testPredictPlot[len(trainPredict)+(look_back*2)+1:len(dataset)-1, :] = testPredict\n",
    "\n",
    "# plot baseline and predictions\n",
    "_ = plt.plot(dataset, label = \"original\", marker = \".\")\n",
    "_ = plt.plot(trainPredictPlot, label = \"train_predicted\", marker = \".\")\n",
    "_ = plt.plot(testPredictPlot, label = \"test_predicted\")\n",
    "_ = plt.legend()\n",
    "_ = plt.show()"
   ]
  },
  {
   "cell_type": "code",
   "execution_count": null,
   "metadata": {},
   "outputs": [],
   "source": []
  }
 ],
 "metadata": {
  "kernelspec": {
   "display_name": "Python 3",
   "language": "python",
   "name": "python3"
  },
  "language_info": {
   "codemirror_mode": {
    "name": "ipython",
    "version": 3
   },
   "file_extension": ".py",
   "mimetype": "text/x-python",
   "name": "python",
   "nbconvert_exporter": "python",
   "pygments_lexer": "ipython3",
   "version": "3.7.4"
  },
  "toc": {
   "base_numbering": 1,
   "nav_menu": {},
   "number_sections": true,
   "sideBar": true,
   "skip_h1_title": false,
   "title_cell": "Table of Contents",
   "title_sidebar": "Contents",
   "toc_cell": false,
   "toc_position": {},
   "toc_section_display": true,
   "toc_window_display": false
  }
 },
 "nbformat": 4,
 "nbformat_minor": 2
}
