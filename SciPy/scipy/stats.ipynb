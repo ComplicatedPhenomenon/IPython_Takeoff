{
 "cells": [
  {
   "cell_type": "code",
   "execution_count": null,
   "metadata": {
    "ExecuteTime": {
     "end_time": "2020-03-18T04:47:57.114402Z",
     "start_time": "2020-03-18T04:47:57.110635Z"
    }
   },
   "outputs": [],
   "source": [
    "from IPython.core.interactiveshell import InteractiveShell\n",
    "InteractiveShell.ast_node_interactivity = \"all\""
   ]
  },
  {
   "cell_type": "code",
   "execution_count": null,
   "metadata": {
    "ExecuteTime": {
     "end_time": "2020-03-18T04:47:57.891931Z",
     "start_time": "2020-03-18T04:47:57.202456Z"
    }
   },
   "outputs": [],
   "source": [
    "import numpy as np\n",
    "import pandas as pd"
   ]
  },
  {
   "cell_type": "code",
   "execution_count": null,
   "metadata": {
    "ExecuteTime": {
     "end_time": "2020-03-18T04:47:58.057833Z",
     "start_time": "2020-03-18T04:47:57.894130Z"
    }
   },
   "outputs": [],
   "source": [
    "%matplotlib inline\n",
    "import matplotlib.pylab as plt"
   ]
  },
  {
   "cell_type": "code",
   "execution_count": null,
   "metadata": {
    "ExecuteTime": {
     "end_time": "2020-03-18T04:48:01.623822Z",
     "start_time": "2020-03-18T04:47:58.066997Z"
    }
   },
   "outputs": [],
   "source": [
    "import seaborn as sns"
   ]
  },
  {
   "cell_type": "code",
   "execution_count": null,
   "metadata": {
    "ExecuteTime": {
     "end_time": "2020-03-18T04:48:03.846849Z",
     "start_time": "2020-03-18T04:48:01.629244Z"
    }
   },
   "outputs": [],
   "source": [
    "from sklearn.neural_network import MLPRegressor\n",
    "from sklearn import datasets\n",
    "from sklearn import metrics\n",
    "from sklearn.model_selection import train_test_split"
   ]
  },
  {
   "cell_type": "code",
   "execution_count": null,
   "metadata": {
    "ExecuteTime": {
     "end_time": "2020-03-18T04:48:04.431283Z",
     "start_time": "2020-03-18T04:48:03.851940Z"
    }
   },
   "outputs": [],
   "source": [
    "from scipy import stats\n",
    "from scipy import signal"
   ]
  },
  {
   "cell_type": "code",
   "execution_count": null,
   "metadata": {
    "ExecuteTime": {
     "end_time": "2020-03-18T04:48:04.441455Z",
     "start_time": "2020-03-18T04:48:04.435240Z"
    }
   },
   "outputs": [],
   "source": [
    "import os\n",
    "from os import listdir"
   ]
  },
  {
   "cell_type": "code",
   "execution_count": null,
   "metadata": {
    "ExecuteTime": {
     "end_time": "2020-03-18T04:48:04.563306Z",
     "start_time": "2020-03-18T04:48:04.444386Z"
    }
   },
   "outputs": [],
   "source": [
    "from itertools import combinations"
   ]
  },
  {
   "cell_type": "markdown",
   "metadata": {},
   "source": [
    "# similarity "
   ]
  },
  {
   "cell_type": "code",
   "execution_count": null,
   "metadata": {
    "ExecuteTime": {
     "end_time": "2020-03-18T04:48:06.899667Z",
     "start_time": "2020-03-18T04:48:06.312661Z"
    }
   },
   "outputs": [],
   "source": [
    "from dtw import dtw"
   ]
  },
  {
   "cell_type": "code",
   "execution_count": null,
   "metadata": {
    "ExecuteTime": {
     "end_time": "2020-03-18T04:48:13.264344Z",
     "start_time": "2020-03-18T04:48:13.226467Z"
    }
   },
   "outputs": [],
   "source": [
    "x = np.array([2, 0, 1, 1, 2, 4, 2, 1, 2, 0]).reshape(-1, 1)\n",
    "y = np.array([1, 1, 2, 4, 2, 1, 2, 0]).reshape(-1, 1)\n",
    "z = np.array([2, 0, 1, 1, 2, 4, 2, 1]).reshape(-1, 1)\n",
    "manhattan_distance = lambda m, n: np.abs(m - n)\n",
    "res1 = dtw(x, y, dist=manhattan_distance)\n",
    "res2 = dtw(z, y, dist=manhattan_distance)"
   ]
  },
  {
   "cell_type": "code",
   "execution_count": null,
   "metadata": {
    "ExecuteTime": {
     "end_time": "2020-03-18T04:58:23.138311Z",
     "start_time": "2020-03-18T04:58:22.934443Z"
    }
   },
   "outputs": [],
   "source": [
    "x = np.array([2, 0, 1, 1, 2, 4, 2, 1, 2, 0]).reshape(-1, 1)\n",
    "y = np.array([1, 1, 2, 4, 2, 1, 2, 0]).reshape(-1, 1)\n",
    "manhattan_distance = lambda x, y: np.abs(x - y)\n",
    "d, cost_matrix, acc_cost_matrix, path = dtw(x, y, dist=manhattan_distance)\n",
    "\n",
    "d\n",
    "cost_matrix \n",
    "acc_cost_matrix \n",
    "path\n",
    "\n",
    "_ = plt.imshow(acc_cost_matrix.T, origin='lower', cmap='gray', interpolation='nearest')\n",
    "_ = plt.plot(path[0], path[1], 'w')\n",
    "_ = plt.show()"
   ]
  },
  {
   "cell_type": "markdown",
   "metadata": {},
   "source": [
    "# correlation"
   ]
  },
  {
   "cell_type": "markdown",
   "metadata": {},
   "source": [
    "Pearson相关性系数（Pearson Correlation）是衡量向量相似度的一种方法\n",
    "$$\n",
    "\\rho(X, Y)=\\frac{E\\left[\\left(X-\\mu_{X}\\right)\\left(Y-\\mu_{Y}\\right)\\right]}{\\sigma_{X} \\sigma_{Y}}=\\frac{E\\left[\\left(X-\\mu_{X}\\right)\\left(Y-\\mu_{Y}\\right)\\right]}{\\sqrt{\\sum_{i=1}^{n}\\left(X_{i}-\\mu_{X}\\right)^{2}} \\sqrt{\\sum_{i=1}^{n}\\left(Y_{i}-\\mu_{Y}\\right)^{2}}}\n",
    "$$"
   ]
  },
  {
   "cell_type": "markdown",
   "metadata": {},
   "source": [
    "Variance\n",
    "$$\n",
    "\\sigma^{2}=\\frac{\\sum(x-\\mu)^{2}}{n}\n",
    "$$"
   ]
  },
  {
   "cell_type": "markdown",
   "metadata": {},
   "source": [
    "Standard error\n",
    "$$\n",
    "s^{2}=\\frac{\\sum_{i=1}^{n}\\left(x_{i}-\\bar{x}\\right)^{2}}{n-1}\n",
    "$$"
   ]
  },
  {
   "cell_type": "code",
   "execution_count": null,
   "metadata": {
    "ExecuteTime": {
     "end_time": "2020-02-20T01:19:00.218943Z",
     "start_time": "2020-02-20T01:18:59.945471Z"
    }
   },
   "outputs": [],
   "source": [
    "np.arange(3)/2\n",
    "np.cov(np.arange(3)/2)\n",
    "np.std(np.arange(3)/2)\n",
    "np.var(np.arange(3)/2)\n",
    "?np.var"
   ]
  },
  {
   "cell_type": "code",
   "execution_count": null,
   "metadata": {
    "ExecuteTime": {
     "end_time": "2020-02-20T01:18:10.929634Z",
     "start_time": "2020-02-20T01:18:10.894674Z"
    }
   },
   "outputs": [],
   "source": [
    "# Covariance\n",
    "def cov(x, y):\n",
    "    xbar, ybar = x.mean(), y.mean()\n",
    "    return np.sum((x - xbar)*(y - ybar))/(len(x) - 1)\n",
    "\n",
    "# Covariance matrix\n",
    "def cov_mat(X):\n",
    "    return np.array([[cov(X[0], X[0]), cov(X[0], X[1])], \\\n",
    "                     [cov(X[1], X[0]), cov(X[1], X[1])]])\n",
    "\n",
    "# pearson correlation matrix\n",
    "def pearson_mat(X):\n",
    "    return np.array([[cov(X[0], X[0]), cov(X[0], X[1])], \\\n",
    "                     [cov(X[1], X[0]), cov(X[1], X[1])]])/( np.std(X[0])*np.std(X[1]))\n",
    "\n",
    "\n",
    "x = np.array([-2.1, -1,  4.3])\n",
    "y = np.array([3,  1.1,  0.12])\n",
    "\n",
    "X = np.stack((x, y), axis=0)\n",
    "\n",
    "cov(x, y)\n",
    "cov_mat(X)\n",
    "pearson_mat(X)"
   ]
  },
  {
   "cell_type": "markdown",
   "metadata": {},
   "source": [
    "## `np.cov`"
   ]
  },
  {
   "cell_type": "code",
   "execution_count": null,
   "metadata": {
    "ExecuteTime": {
     "end_time": "2020-02-18T09:59:33.814284Z",
     "start_time": "2020-02-18T09:59:33.793698Z"
    }
   },
   "outputs": [],
   "source": [
    "x = [-2.1, -1,  4.3]\n",
    "y = [3,  1.1,  0.12]\n",
    "z = [3,  1.1,  0.12]\n",
    "X = np.stack((x, y, z), axis=0)\n",
    "np.cov(X)\n",
    "np.cov(x, y)\n",
    "np.cov(x)\n",
    "\n",
    "res = np.corrcoef(X)\n",
    "res"
   ]
  },
  {
   "cell_type": "code",
   "execution_count": null,
   "metadata": {},
   "outputs": [],
   "source": [
    "from itertools import combinations"
   ]
  },
  {
   "cell_type": "code",
   "execution_count": null,
   "metadata": {
    "ExecuteTime": {
     "end_time": "2020-02-18T10:01:25.211431Z",
     "start_time": "2020-02-18T10:01:25.206150Z"
    }
   },
   "outputs": [],
   "source": [
    "res.shape[0]"
   ]
  },
  {
   "cell_type": "code",
   "execution_count": null,
   "metadata": {
    "ExecuteTime": {
     "end_time": "2020-02-18T09:59:49.166968Z",
     "start_time": "2020-02-18T09:59:49.158105Z"
    }
   },
   "outputs": [],
   "source": [
    "index = list(combinations(range(3),2))\n",
    "index\n",
    "[res[i1][i2] for i1, i2 in index]"
   ]
  },
  {
   "cell_type": "code",
   "execution_count": null,
   "metadata": {
    "ExecuteTime": {
     "end_time": "2020-02-18T09:54:18.764388Z",
     "start_time": "2020-02-18T09:54:18.527267Z"
    }
   },
   "outputs": [],
   "source": [
    "np.random.seed(1)\n",
    "x = np.random.randint(0, 50, 1000)\n",
    "# Positive Correlation with some noise\n",
    "y = x + np.random.normal(0, 10, 1000)\n",
    "np.corrcoef(x, y)\n",
    "_ = plt.scatter(x, y)\n",
    "_ = plt.show()"
   ]
  },
  {
   "cell_type": "code",
   "execution_count": null,
   "metadata": {},
   "outputs": [],
   "source": [
    "d, cost_matrix, acc_cost_matrix, path = dtw(x, y, dist=manhattan_distance)"
   ]
  },
  {
   "cell_type": "code",
   "execution_count": null,
   "metadata": {
    "ExecuteTime": {
     "end_time": "2020-02-11T03:34:48.698900Z",
     "start_time": "2020-02-11T03:34:48.443242Z"
    }
   },
   "outputs": [],
   "source": [
    "x = np.array([[0, 2], [1, 1], [2, 0]]).T\n",
    "np.cov(x)"
   ]
  },
  {
   "cell_type": "code",
   "execution_count": null,
   "metadata": {
    "ExecuteTime": {
     "end_time": "2020-02-18T09:54:14.454520Z",
     "start_time": "2020-02-18T09:54:14.175975Z"
    }
   },
   "outputs": [],
   "source": [
    "x = stats.norm.rvs(size=10000, loc=4, scale=1)\n",
    "y = stats.norm.rvs(size=10000, loc=4, scale=1)\n",
    "np.corrcoef(x, y)\n",
    "\n",
    "_ = plt.scatter(x, y)\n",
    "_ = plt.show()"
   ]
  },
  {
   "cell_type": "code",
   "execution_count": null,
   "metadata": {
    "ExecuteTime": {
     "end_time": "2020-02-10T03:40:33.743922Z",
     "start_time": "2020-02-10T03:40:33.548878Z"
    }
   },
   "outputs": [],
   "source": [
    "np.random.seed(1)\n",
    "# prepare data\n",
    "data1 = 20 * np.random.randn(1000) + 100\n",
    "data2 = data1 + (10 * np.random.randn(1000) + 50)\n",
    "# summarize\n",
    "print('data1: mean=%.3f stdv=%.3f' % (np.mean(data1), np.std(data1)))\n",
    "print('data2: mean=%.3f stdv=%.3f' % (np.mean(data2), np.std(data2)))\n",
    "# plot\n",
    "_ = plt.scatter(data1, data2)\n",
    "_ = plt.show()"
   ]
  },
  {
   "cell_type": "markdown",
   "metadata": {},
   "source": [
    "# cross correlation"
   ]
  },
  {
   "cell_type": "markdown",
   "metadata": {},
   "source": [
    "https://en.wikipedia.org/wiki/Cross-correlation#Time_series_analysis\n",
    "\n",
    "> If ${\\displaystyle X}$ and ${\\displaystyle Y}$ are two independent random variables with probability density functions ${\\displaystyle f}$ and ${\\displaystyle g}$, respectively, then the probability density of the difference ${\\displaystyle Y-X}$ is formally given by the cross-correlation (in the signal-processing sense) ${\\displaystyle f\\star g}$; however, this terminology is not used in probability and statistics. In contrast, the convolution ${\\displaystyle f*g}$ (equivalent to the cross-correlation of ${\\displaystyle f(t)}$ and ${\\displaystyle g(-t)}$) gives the probability density function of the sum ${\\displaystyle X+Y}$."
   ]
  },
  {
   "cell_type": "markdown",
   "metadata": {},
   "source": [
    "## `scipy.signal.correlate`"
   ]
  },
  {
   "cell_type": "markdown",
   "metadata": {
    "ExecuteTime": {
     "end_time": "2020-02-11T06:16:36.328794Z",
     "start_time": "2020-02-11T06:16:36.323107Z"
    }
   },
   "source": [
    "`np.random.randn`\n",
    "Return a sample (or samples) from the \"standard normal\" distribution."
   ]
  },
  {
   "cell_type": "code",
   "execution_count": null,
   "metadata": {
    "ExecuteTime": {
     "end_time": "2020-02-14T12:56:55.429373Z",
     "start_time": "2020-02-14T12:56:55.417564Z"
    }
   },
   "outputs": [],
   "source": [
    "sig = np.repeat([0., 1., 1., 0., 1., 0., 0., 1.], 128)\n",
    "sig_noise = sig + np.random.randn(len(sig)) # judge what distribution the noise follows\n",
    "corr = signal.correlate(sig_noise, np.ones(128), mode='same') / 128"
   ]
  },
  {
   "cell_type": "code",
   "execution_count": null,
   "metadata": {
    "ExecuteTime": {
     "end_time": "2020-02-14T13:05:50.243801Z",
     "start_time": "2020-02-14T13:05:49.497915Z"
    }
   },
   "outputs": [],
   "source": [
    "clock = np.arange(64, len(sig), 128)\n",
    "fig, (ax_orig, ax_noise, ax_corr) = plt.subplots(3, 1, sharex=True)\n",
    "_ = ax_orig.plot(sig)\n",
    "_ = ax_orig.plot(clock, sig[clock], 'ro')\n",
    "_ = ax_orig.set_title('Original signal')\n",
    "_ = ax_noise.plot(sig_noise)\n",
    "_ = ax_noise.set_title('Signal with noise')\n",
    "_ = ax_corr.plot(corr)\n",
    "_ = ax_corr.plot(clock, corr[clock], 'ro')\n",
    "_ = ax_corr.axhline(0.5, ls=':')\n",
    "_ = ax_corr.set_title('Cross-correlated with rectangular pulse')\n",
    "_ = ax_orig.margins(0, 0.1)\n",
    "_ = fig.tight_layout()"
   ]
  },
  {
   "cell_type": "code",
   "execution_count": null,
   "metadata": {
    "ExecuteTime": {
     "end_time": "2020-02-14T15:54:28.175826Z",
     "start_time": "2020-02-14T15:54:28.164538Z"
    }
   },
   "outputs": [],
   "source": [
    "def cross_correlation(x_value_list:list, y1_value_list:list, y2_value_list:list):\n",
    "    n = len(x_value_list)\n",
    "    lags = np.arange(-n+ 1, n)\n",
    "    ccov = np.correlate(y1_value_list - y1_value_list.mean(), y2_value_list - y2_value_list.mean(), mode='full')\n",
    "    ccor = ccov / (n * y1_value_list.std() * y2_value_list.std())\n",
    "    return (lags, ccor)\n",
    "lags, ccor = cross_correlation(x, y1, y2)"
   ]
  },
  {
   "cell_type": "code",
   "execution_count": null,
   "metadata": {
    "ExecuteTime": {
     "end_time": "2020-02-14T15:54:28.781227Z",
     "start_time": "2020-02-14T15:54:28.398705Z"
    }
   },
   "outputs": [],
   "source": [
    "npts = 500\n",
    "x = np.linspace(0, 50, npts)\n",
    "y1 = 5 * np.sin(x/2) + np.random.randn(npts)\n",
    "y2 = 5 * np.cos(x/2) + np.random.randn(npts)\n",
    "fig, axs = plt.subplots(nrows=2)\n",
    "fig.subplots_adjust(hspace=0.4)\n",
    "\n",
    "ax = axs[0]\n",
    "_ = ax.plot(x, y1, 'b', label='y1')\n",
    "_ = ax.plot(x, y2, 'r', label='y2')\n",
    "_ = ax.set_ylim(-10, 10)\n",
    "_ = ax.legend(loc='upper right', fontsize='small', ncol=2)\n",
    "\n",
    "_ = ax = axs[1]\n",
    "_ = ax.plot(lags, ccor)\n",
    "_ = ax.set_ylim(-1.1, 1.1)\n",
    "_ = ax.set_ylabel('cross-correlation')\n",
    "_ = ax.set_xlabel('lag of y1 relative to y2')\n",
    "maxlag = lags[np.argmax(ccor)]\n",
    "print(\"max correlation is at lag %d\" % maxlag)"
   ]
  },
  {
   "cell_type": "markdown",
   "metadata": {},
   "source": [
    "### auto correlation"
   ]
  },
  {
   "cell_type": "code",
   "execution_count": null,
   "metadata": {
    "ExecuteTime": {
     "end_time": "2020-02-14T15:52:01.748358Z",
     "start_time": "2020-02-14T15:52:01.135382Z"
    }
   },
   "outputs": [],
   "source": [
    "def autocorr(x, twosided=False, tapered=True):\n",
    "    \"\"\"\n",
    "    Return (lags, ac), where ac is the estimated autocorrelation \n",
    "    function for x, at the full set of possible lags.\n",
    "    \n",
    "    If twosided is True, all lags will be included;\n",
    "    otherwise (default), only non-negative lags will be included.\n",
    "\n",
    "    If tapered is True (default), the low-MSE estimate, linearly\n",
    "    tapered to zero for large lags, is returned.\n",
    "    \"\"\"\n",
    "    nx = len(x)\n",
    "    xdm = x - x.mean()\n",
    "    ac = np.correlate(xdm, xdm, mode='full')\n",
    "    ac /= ac[nx - 1]\n",
    "    lags = np.arange(-nx + 1, nx)\n",
    "    if not tapered:  # undo the built-in taper\n",
    "        taper = 1 - np.abs(lags) / float(nx)\n",
    "        ac /= taper\n",
    "    if twosided:\n",
    "        return lags, ac\n",
    "    else:\n",
    "        return lags[nx-1:], ac[nx-1:]\n",
    "    \n",
    "nx = 200\n",
    "t = np.arange(nx)\n",
    "x = np.random.randn(nx)\n",
    "xc = np.convolve(x, np.ones(5) / 5.0, mode='same')\n",
    "\n",
    "fig, (ax0, ax1) = plt.subplots(2)\n",
    "fig.subplots_adjust(hspace=0.4)\n",
    "_ = ax0.plot(t, x, 'b', t, xc, 'r')\n",
    "_ = ax0.set_xlabel('time')\n",
    "_ = ax0.set_ylabel('random data')\n",
    "\n",
    "lags, auto_x = autocorr(x)\n",
    "lags, auto_xc = autocorr(xc)\n",
    "_ = ax1.plot(lags, auto_x, 'b', lags, auto_xc, 'r')\n",
    "_ = ax1.set_xlabel('lag')\n",
    "_ = ax1.set_ylabel('correlation')\n",
    "\n",
    "for ax in (ax0, ax1):\n",
    "    ax.locator_params(axis='y', nbins=4)"
   ]
  },
  {
   "cell_type": "markdown",
   "metadata": {},
   "source": [
    "### cross correlation"
   ]
  },
  {
   "cell_type": "markdown",
   "metadata": {
    "ExecuteTime": {
     "end_time": "2020-02-11T06:47:24.749833Z",
     "start_time": "2020-02-11T06:47:24.705278Z"
    }
   },
   "source": [
    "刻画什么的？\n",
    "\n",
    "> 自相关函数表达了同一过程不同时刻的相互依赖关系，而互相关函数表示不同过程的某一时刻的相互依赖关系。\n",
    "\n",
    "https://www.jianshu.com/p/6e6cdbfadb48"
   ]
  },
  {
   "cell_type": "code",
   "execution_count": null,
   "metadata": {
    "ExecuteTime": {
     "end_time": "2020-02-11T07:21:07.307771Z",
     "start_time": "2020-02-11T07:21:05.738603Z"
    }
   },
   "outputs": [],
   "source": [
    "npts = 500\n",
    "x = np.linspace(0, 50, npts)\n",
    "y1 = 5 * np.sin(x/2) + np.random.randn(npts)\n",
    "y2 = 5 * np.cos(x/2) + np.random.randn(npts)\n",
    "\n",
    "lags = np.arange(-npts + 1, npts)\n",
    "ccov = np.correlate(y1 - y1.mean(), y2 - y2.mean(), mode='full')\n",
    "ccor = ccov / (npts * y1.std() * y2.std())\n",
    "corr\n",
    "\n",
    "fig, axs = plt.subplots(nrows=3)\n",
    "fig.subplots_adjust(hspace=0.4)\n",
    "ax = axs[0]\n",
    "_ = ax.plot(x, y1, 'b', label='y1')\n",
    "_ = ax.plot(x, y2, 'r', label='y2')\n",
    "_ = ax.set_ylim(-10, 10)\n",
    "_ = ax.legend(loc='upper right', fontsize='small', ncol=2)\n",
    "\n",
    "ax = axs[2]\n",
    "_ = ax.plot(lags, ccov)\n",
    "\n",
    "ax = axs[1]\n",
    "_ = ax.plot(lags, ccor)\n",
    "_ = ax.set_ylim(-1.1, 1.1)\n",
    "_ = ax.set_ylabel('cross-correlation')\n",
    "_ = ax.set_xlabel('lag of y1 relative to y2')\n",
    "\n",
    "maxlag = lags[np.argmax(ccor)]\n",
    "print(\"max correlation is at lag %d\" % maxlag)"
   ]
  },
  {
   "cell_type": "markdown",
   "metadata": {},
   "source": [
    "implement np.corr manually so you know what's it describing"
   ]
  },
  {
   "cell_type": "markdown",
   "metadata": {},
   "source": [
    "# raw data process"
   ]
  },
  {
   "cell_type": "code",
   "execution_count": null,
   "metadata": {
    "ExecuteTime": {
     "end_time": "2020-03-02T11:44:08.315853Z",
     "start_time": "2020-03-02T11:44:08.312629Z"
    }
   },
   "outputs": [],
   "source": [
    "data_path = \"/home/wm/Playground/IdealOps/batch_jobs/data/output/\""
   ]
  },
  {
   "cell_type": "markdown",
   "metadata": {},
   "source": [
    "## compare 2 curves"
   ]
  },
  {
   "cell_type": "code",
   "execution_count": null,
   "metadata": {
    "ExecuteTime": {
     "end_time": "2020-03-02T11:44:27.226825Z",
     "start_time": "2020-03-02T11:44:27.213106Z"
    }
   },
   "outputs": [],
   "source": [
    "data_files = listdir(data_path)\n",
    "data_files"
   ]
  },
  {
   "cell_type": "code",
   "execution_count": null,
   "metadata": {
    "ExecuteTime": {
     "end_time": "2020-03-02T11:41:13.597033Z",
     "start_time": "2020-03-02T11:41:13.494071Z"
    }
   },
   "outputs": [],
   "source": [
    "df = pd.read_json(data_path + 'norm_trend.json',\n",
    "                  encoding=\"utf-8\",\n",
    "                  orient='records')\n",
    "\n",
    "data_standard_api = dict()\n",
    "# to handle tasks are executed one by one \n",
    "n = len(df[\"系统名称\"].unique())\n",
    "for system_id in range(1, 1+n):\n",
    "    tem = df[df[\"系统名称\"] == \"system_{:02}\".format(system_id)]\n",
    "    data_standard_api[\"system_{:02}\".format(system_id)] = \\\n",
    "    list(zip(tem[\"开始时间\"].tolist(), tem[\"完成时间\"].tolist()))"
   ]
  },
  {
   "cell_type": "code",
   "execution_count": null,
   "metadata": {
    "ExecuteTime": {
     "end_time": "2020-02-27T08:56:15.024929Z",
     "start_time": "2020-02-27T08:56:15.007994Z"
    }
   },
   "outputs": [],
   "source": [
    "df[\"系统名称\"].unique()\n",
    "df[[\"系统名称\", \"任务名称\"]].shape"
   ]
  },
  {
   "cell_type": "code",
   "execution_count": null,
   "metadata": {
    "ExecuteTime": {
     "end_time": "2020-02-27T08:56:18.381451Z",
     "start_time": "2020-02-27T08:56:18.359327Z"
    }
   },
   "outputs": [],
   "source": [
    "#print the first entries in all the groups formed.\n",
    "df.groupby([\"系统名称\", \"任务名称\"]).first();"
   ]
  },
  {
   "cell_type": "code",
   "execution_count": null,
   "metadata": {
    "ExecuteTime": {
     "end_time": "2020-02-27T08:56:18.667810Z",
     "start_time": "2020-02-27T08:56:18.657837Z"
    }
   },
   "outputs": [],
   "source": [
    "#df.groupby([\"系统名称\", \"任务名称\"]).head()\n",
    "df[df[\"系统名称\"] == \"system_01\"][\"任务名称\"].unique()"
   ]
  },
  {
   "cell_type": "code",
   "execution_count": null,
   "metadata": {
    "ExecuteTime": {
     "end_time": "2020-02-27T08:56:18.981662Z",
     "start_time": "2020-02-27T08:56:18.851233Z"
    }
   },
   "outputs": [],
   "source": [
    "\"\"\"\n",
    "df.groupby([\"系统名称\", \"任务名称\"])\n",
    "dir(df.groupby([\"系统名称\", \"任务名称\"]));\n",
    "df.groupby([\"系统名称\"]).nunique()\n",
    "df.groupby([\"系统名称\", \"任务名称\"]).get_group((\"system_03\", \"task_17\"))\n",
    "\"\"\""
   ]
  },
  {
   "cell_type": "code",
   "execution_count": null,
   "metadata": {
    "ExecuteTime": {
     "end_time": "2020-02-27T08:56:19.160755Z",
     "start_time": "2020-02-27T08:56:19.082782Z"
    }
   },
   "outputs": [],
   "source": [
    "# to handle tasks are executed in parallel\n",
    "data_standard_api = dict()\n",
    "dg = df.groupby([\"系统名称\", \"任务名称\"])\n",
    "system = df[\"系统名称\"].unique()\n",
    "for system_id in system:\n",
    "    task_list = df[df[\"系统名称\"] == system_id][\"任务名称\"].unique()\n",
    "\n",
    "    for task_id in task_list:\n",
    "        tem = dg.get_group((system_id, task_id))\n",
    "\n",
    "        data_standard_api[\"{}_{}\".format(system_id, task_id)] = list(zip(tem[\"开始时间\"].tolist(),\\\n",
    "                                                            tem[\"完成时间\"].tolist()))"
   ]
  },
  {
   "cell_type": "code",
   "execution_count": null,
   "metadata": {
    "ExecuteTime": {
     "end_time": "2020-02-27T08:56:19.346237Z",
     "start_time": "2020-02-27T08:56:19.343613Z"
    }
   },
   "outputs": [],
   "source": [
    "#df = pd.DataFrame.from_dict(data_standard_api, orient='index')\n",
    "#df = df.transpose()"
   ]
  },
  {
   "cell_type": "code",
   "execution_count": null,
   "metadata": {
    "ExecuteTime": {
     "end_time": "2020-02-27T08:56:29.016585Z",
     "start_time": "2020-02-27T08:56:21.486962Z"
    }
   },
   "outputs": [],
   "source": [
    "ts_list = list()\n",
    "for _, v in data_standard_api.items():\n",
    "    tem = pd.Series([pd.to_datetime(i[1])-pd.to_datetime(i[0]) for i in v])\n",
    "    tem.index = [pd.to_datetime(i[0]) for i in v]\n",
    "    ts_list.append(tem)\n",
    "\n",
    "ts_list;"
   ]
  },
  {
   "cell_type": "code",
   "execution_count": null,
   "metadata": {
    "ExecuteTime": {
     "end_time": "2020-02-27T08:56:29.027064Z",
     "start_time": "2020-02-27T08:56:29.019205Z"
    }
   },
   "outputs": [],
   "source": [
    "len(ts_list)"
   ]
  },
  {
   "cell_type": "markdown",
   "metadata": {},
   "source": [
    "* constrcuct `{id: []}"
   ]
  },
  {
   "cell_type": "code",
   "execution_count": null,
   "metadata": {
    "ExecuteTime": {
     "end_time": "2020-02-26T12:14:07.348109Z",
     "start_time": "2020-02-26T12:14:07.340064Z"
    }
   },
   "outputs": [],
   "source": [
    "df[[\"系统名称\", \"任务名称\"]];"
   ]
  },
  {
   "cell_type": "code",
   "execution_count": null,
   "metadata": {
    "ExecuteTime": {
     "end_time": "2020-02-27T08:56:36.795654Z",
     "start_time": "2020-02-27T08:56:29.030658Z"
    }
   },
   "outputs": [],
   "source": [
    "res = []\n",
    "for _, v in data_standard_api.items():\n",
    "    tem = pd.Series([pd.to_datetime(i[1])-pd.to_datetime(i[0]) for i in v])\n",
    "    tem.index = [pd.to_datetime(i[0]) for i in v]\n",
    "    res.append(tem)\n",
    "    \n",
    "ts =  [i.dt.total_seconds()/60 for i in res]"
   ]
  },
  {
   "cell_type": "code",
   "execution_count": null,
   "metadata": {
    "ExecuteTime": {
     "end_time": "2020-02-27T08:56:37.157099Z",
     "start_time": "2020-02-27T08:56:36.813293Z"
    }
   },
   "outputs": [],
   "source": [
    "resample_interval = int(max([i.max() for i in ts])//60)+1\n",
    "ts_new = [i.resample(\"{} H\".format(resample_interval)).mean() for i in ts]\n",
    "tem = pd.concat(ts_new, axis = 1)\n",
    "tem.columns = [\"ts_{}\".format(i) for i in range(1, 1+len(ts_new))]\n",
    "res = tem.corr(method='pearson')\n",
    "ts_index_combinations = list(combinations(range(res.shape[0]), 2))   "
   ]
  },
  {
   "cell_type": "code",
   "execution_count": null,
   "metadata": {
    "ExecuteTime": {
     "end_time": "2020-02-27T08:56:37.442606Z",
     "start_time": "2020-02-27T08:56:37.160732Z"
    }
   },
   "outputs": [],
   "source": [
    "peason_info = [((i1, i2), res.iloc[i1][i2]) for i1, i2 in ts_index_combinations]"
   ]
  },
  {
   "cell_type": "code",
   "execution_count": null,
   "metadata": {
    "ExecuteTime": {
     "end_time": "2020-02-27T08:56:37.715100Z",
     "start_time": "2020-02-27T08:56:37.445066Z"
    }
   },
   "outputs": [],
   "source": [
    "relation_table = [(i1, i2) for i1, i2 in ts_index_combinations if  res.iloc[i1][i2] > 0.99]"
   ]
  },
  {
   "cell_type": "code",
   "execution_count": null,
   "metadata": {
    "ExecuteTime": {
     "end_time": "2020-02-27T08:56:37.723175Z",
     "start_time": "2020-02-27T08:56:37.717351Z"
    }
   },
   "outputs": [],
   "source": [
    "[k for i in relation_table if 11 in i  for k in i if k != 11];"
   ]
  },
  {
   "cell_type": "code",
   "execution_count": null,
   "metadata": {
    "ExecuteTime": {
     "end_time": "2020-02-27T08:56:40.138633Z",
     "start_time": "2020-02-27T08:56:37.726248Z"
    }
   },
   "outputs": [],
   "source": [
    "n = len(ts_new[:6])\n",
    "fig, ax_array = plt.subplots(n, sharex=True)\n",
    "fig.set_size_inches(5.5, 5,5)\n",
    "for i in range(n):\n",
    "    _ = ts_new[i].plot(ax=ax_array[i], color = 'b')\n",
    "    _ = ax_array[i].set_title('time series <{}>'.format(i))"
   ]
  },
  {
   "cell_type": "code",
   "execution_count": null,
   "metadata": {
    "ExecuteTime": {
     "end_time": "2020-02-26T07:07:01.343455Z",
     "start_time": "2020-02-26T07:07:00.839520Z"
    }
   },
   "outputs": [],
   "source": [
    "def cross_correlation(length_of_ts_list:int, y1_value_list:list, y2_value_list:list):\n",
    "    n = length_of_ts_list\n",
    "    lags = np.arange(-n+ 1, n)\n",
    "    ccov = np.correlate(y1_value_list - y1_value_list.mean(), y2_value_list - y2_value_list.mean(), mode='full')\n",
    "    ccor = ccov / (n * y1_value_list.std() * y2_value_list.std())\n",
    "    return (lags, ccor)\n",
    "\n",
    "\n",
    "n = min([i.shape[0] for i in ts_new])\n",
    "(lags, ccor) = cross_correlation(n, ts_new[1][:n].values, ts_new[2][:n].values)\n",
    "\n",
    "fig, axs = plt.subplots(nrows=2)\n",
    "fig.subplots_adjust(hspace=0.8)\n",
    "\n",
    "#ax.plot(ts[1].index[:n],ts[1].values[:n] , 'b', label='y1')\n",
    "ts_new[1].plot(ax=axs[0], color = 'r')\n",
    "ts_new[2].plot(ax=axs[0], color = 'b')\n",
    "#ax.plot(ts[2].index[:n],ts[2].values[:n] , 'r', label='y2')\n",
    "#ax.set_ylim(-10, 10)\n",
    "#ax.legend(loc='upper right', fontsize='small', ncol=2)\n",
    "\n",
    "ax = axs[1]\n",
    "ax.plot(lags, ccor)\n",
    "#ax.set_ylim(-1.1, 1.1)\n",
    "ax.set_ylabel('cross-correlation')\n",
    "ax.set_xlabel('lag of y1 relative to y2')\n",
    "maxlag = lags[np.argmax(ccor)]"
   ]
  },
  {
   "cell_type": "code",
   "execution_count": null,
   "metadata": {
    "ExecuteTime": {
     "end_time": "2020-02-26T07:08:02.896442Z",
     "start_time": "2020-02-26T07:08:02.870099Z"
    }
   },
   "outputs": [],
   "source": [
    "def visualize_cross_corrlation(ts_new):\n",
    "    '''\n",
    "    Parameters\n",
    "    -----------\n",
    "    ts_new: a list of time series which should be the return of extract_time_series\n",
    "\n",
    "    Returns\n",
    "    ---------\n",
    "    None\n",
    "    '''\n",
    "    \n",
    "    n = min([i.shape[0] for i in ts_new])\n",
    "    ts_index_combinations = list(combinations(range(len(ts_new)), 2))\n",
    "    ts_combinations = list()\n",
    "    \n",
    "    print(ts_index_combinations)\n",
    "    for i1, i2 in ts_index_combinations:\n",
    "        ts[1][:n].values, ts[2][:n].values\n",
    "        (lags, ccor) = cross_correlation(n, ts_new[i1][:n].values, ts_new[i2][:n].values)\n",
    "        ts_combinations.append((lags, ccor))\n",
    "\n",
    "    pair = len(ts_index_combinations)\n",
    "    fig, axs = plt.subplots(nrows= 1 + pair)\n",
    "    fig.subplots_adjust(hspace=1)\n",
    "\n",
    "    color_option = iter([\"r\", \"g\", \"b\", \"y\", \"m\", \"k\"])\n",
    "    for i in range(len(ts_new)):\n",
    "        ts_new[i][:n].plot(ax=axs[0])\n",
    "\n",
    "    tem = iter(ts_index_combinations)\n",
    "    for i, (lags, ccor) in enumerate(ts_combinations, 1):\n",
    "        axs[i].plot(lags, ccor)\n",
    "        a, b  = next(tem)\n",
    "        axs[i].set_xlabel('lag of time_series[{}] to time_series [{}]'.format(a, b))"
   ]
  },
  {
   "cell_type": "code",
   "execution_count": null,
   "metadata": {
    "ExecuteTime": {
     "end_time": "2020-02-26T07:08:05.979809Z",
     "start_time": "2020-02-26T07:08:03.612819Z"
    }
   },
   "outputs": [],
   "source": [
    "visualize_cross_corrlation(ts_new[:6])"
   ]
  },
  {
   "cell_type": "code",
   "execution_count": null,
   "metadata": {
    "ExecuteTime": {
     "end_time": "2020-02-27T08:56:55.711984Z",
     "start_time": "2020-02-27T08:56:55.702302Z"
    }
   },
   "outputs": [],
   "source": [
    "np.stack([[1,2],[2,3]])"
   ]
  },
  {
   "cell_type": "code",
   "execution_count": null,
   "metadata": {
    "ExecuteTime": {
     "end_time": "2020-02-27T08:56:56.975762Z",
     "start_time": "2020-02-27T08:56:56.969123Z"
    }
   },
   "outputs": [],
   "source": [
    "size = min(map(len, ts_new))\n",
    "x = np.arange(size).reshape(-1,1)\n",
    "y= np.stack(ts_new[1].values[:size]).reshape(-1,1)\n",
    "X_train, X_test, y_train, y_test = train_test_split(x, y, test_size=0.15)"
   ]
  },
  {
   "cell_type": "code",
   "execution_count": null,
   "metadata": {
    "ExecuteTime": {
     "end_time": "2020-02-27T08:57:08.680500Z",
     "start_time": "2020-02-27T08:57:08.443607Z"
    }
   },
   "outputs": [],
   "source": [
    "plt.figure(figsize=(15,5))\n",
    "plt.plot(x,  y)"
   ]
  },
  {
   "cell_type": "code",
   "execution_count": null,
   "metadata": {
    "ExecuteTime": {
     "end_time": "2020-02-27T08:57:15.739008Z",
     "start_time": "2020-02-27T08:57:15.735968Z"
    }
   },
   "outputs": [],
   "source": [
    "#ts_new[1].values[:size][:3]"
   ]
  },
  {
   "cell_type": "code",
   "execution_count": null,
   "metadata": {
    "ExecuteTime": {
     "end_time": "2020-02-21T09:24:20.570033Z",
     "start_time": "2020-02-21T09:24:20.541994Z"
    }
   },
   "outputs": [],
   "source": [
    "num = min(map(len, ts_new))\n",
    "x = np.arange(num).reshape(-1, 1)\n",
    "n = len(ts_new)\n",
    "\n",
    "y = np.stack(ts_new[1].values[:num]).reshape(-1, 1)\n",
    "X_train, X_test, y_train, y_test = train_test_split(x, y, test_size=0.15)\n",
    "x.shape\n",
    "x[-10:].shape\n",
    "x[:-10].shape\n",
    "X_train.shape\n",
    "X_test.shape"
   ]
  },
  {
   "cell_type": "code",
   "execution_count": null,
   "metadata": {
    "ExecuteTime": {
     "end_time": "2020-02-21T09:34:56.085825Z",
     "start_time": "2020-02-21T09:34:56.068284Z"
    }
   },
   "outputs": [],
   "source": [
    "def single_ts_MLP_predict(ts_new):\n",
    "    num = min(map(len, ts_new))\n",
    "    x = np.arange(num).reshape(-1, 1)\n",
    "    n = len(ts_new)\n",
    "    fig, ax_array = plt.subplots(n, sharex=True)\n",
    "    color = iter([\"r\", \"g\", \"b\", \"y\", \"m\", \"k\"])\n",
    "    for i in range(n):\n",
    "        y = np.stack(ts_new[i].values[:num]).reshape(-1, 1)\n",
    "        X_train, X_test, y_train, y_test = train_test_split(x,\n",
    "                                                            y,\n",
    "                                                            test_size=0.15)\n",
    "        model = MLPRegressor(max_iter=9000)\n",
    "        _ = model.fit(X_train, y_train.ravel())\n",
    "        predicted_y = model.predict(X_test)\n",
    "        size = y_test.shape[0]\n",
    "\n",
    "        ax_array[i].plot(x.reshape(-1)[-size:],\n",
    "                         predicted_y.reshape(-1),\n",
    "                         color=next(color),\n",
    "                         label=\"predict\")\n",
    "        ax_array[i].plot(x.reshape(-1)[-size:],\n",
    "                         y_test.reshape(-1),\n",
    "                         color=next(color),\n",
    "                         label=\"original\")\n",
    "        r2_score = metrics.r2_score(y_test, predicted_y)\n",
    "        variance_score = metrics.explained_variance_score(y_test, predicted_y)\n",
    "        ax_array[i].set_title(\n",
    "            \"r2_score: {0:.2f}, variance_score: {0:.2f}\".format(\n",
    "                r2_score, variance_score))\n",
    "\n",
    "    plt.legend()"
   ]
  },
  {
   "cell_type": "code",
   "execution_count": null,
   "metadata": {
    "ExecuteTime": {
     "end_time": "2020-02-21T09:35:06.958280Z",
     "start_time": "2020-02-21T09:34:56.808269Z"
    }
   },
   "outputs": [],
   "source": [
    "single_ts_MLP_predict(ts_new)"
   ]
  },
  {
   "cell_type": "code",
   "execution_count": null,
   "metadata": {
    "ExecuteTime": {
     "end_time": "2020-02-21T10:18:05.482782Z",
     "start_time": "2020-02-21T10:18:05.471191Z"
    }
   },
   "outputs": [],
   "source": [
    "def single_ts_MLP_predict(ts_new):\n",
    "    num = min(map(len, ts_new))\n",
    "    x = np.arange(num).reshape(-1, 1)\n",
    "    n = len(ts_new)\n",
    "    fig, ax_array = plt.subplots(n, sharex=True)\n",
    "    color = iter([\"r\", \"g\", \"b\", \"y\", \"m\", \"k\"])\n",
    "    for i in range(n):\n",
    "        y = np.stack(ts_new[i].values[:num]).reshape(-1, 1)\n",
    "        X_train, X_test, y_train, y_test = x[:-10],x[-10:],y[:-10], y[-10:]\n",
    "        \n",
    "        model = MLPRegressor(max_iter=9000)\n",
    "        _ = model.fit(X_train, y_train.ravel())\n",
    "        predicted_y = model.predict(X_test)\n",
    "        size = y_test.shape[0]\n",
    "\n",
    "        ax_array[i].plot(X_test.reshape(-1),\n",
    "                         predicted_y.reshape(-1),\n",
    "                         color=next(color),\n",
    "                         label=\"predict\")\n",
    "        ax_array[i].plot(X_test.reshape(-1),\n",
    "                         y_test.reshape(-1),\n",
    "                         color=next(color),\n",
    "                         label=\"original\")\n",
    "        r2_score = metrics.r2_score(y_test, predicted_y)\n",
    "        variance_score = metrics.explained_variance_score(y_test, predicted_y)\n",
    "        ax_array[i].set_title(\n",
    "            \"r2_score: {0:.2f}, variance_score: {0:.2f}\".format(\n",
    "                r2_score, variance_score))\n",
    "\n",
    "    plt.legend()"
   ]
  },
  {
   "cell_type": "code",
   "execution_count": null,
   "metadata": {
    "ExecuteTime": {
     "end_time": "2020-02-21T10:18:17.887802Z",
     "start_time": "2020-02-21T10:18:06.359593Z"
    }
   },
   "outputs": [],
   "source": [
    "single_ts_MLP_predict(ts_new)"
   ]
  },
  {
   "cell_type": "code",
   "execution_count": null,
   "metadata": {
    "ExecuteTime": {
     "end_time": "2020-02-27T09:13:25.059934Z",
     "start_time": "2020-02-27T09:13:25.049142Z"
    }
   },
   "outputs": [],
   "source": [
    "?MLPRegressor"
   ]
  },
  {
   "cell_type": "code",
   "execution_count": null,
   "metadata": {
    "ExecuteTime": {
     "end_time": "2020-02-27T08:57:32.953436Z",
     "start_time": "2020-02-27T08:57:27.989673Z"
    }
   },
   "outputs": [],
   "source": [
    "num = min(map(len, ts_new))\n",
    "x = np.arange(num).reshape(-1,1)\n",
    "y = np.stack(ts_new[1].values[:num]).reshape(-1,1)\n",
    "X_train, X_test, y_train, y_test = train_test_split(x, y, test_size=0.15)\n",
    "\n",
    "model = MLPRegressor(max_iter=15000)\n",
    "_ =model.fit(X_train, y_train.ravel())\n",
    "\n",
    "\n",
    "expected_y  = y_test\n",
    "predicted_y = model.predict(X_test)\n",
    "plt.figure(figsize=(15,5))\n",
    "size = y_test.shape[0]\n",
    "plt.plot(x.reshape(-1)[-size:], predicted_y.reshape(-1),'r', label = \"predict\")\n",
    "plt.plot(x.reshape(-1)[-size:], y_test.reshape(-1), label = \"original\")\n",
    "plt.legend()"
   ]
  },
  {
   "cell_type": "code",
   "execution_count": null,
   "metadata": {
    "ExecuteTime": {
     "end_time": "2020-02-20T11:55:42.527697Z",
     "start_time": "2020-02-20T11:55:42.514508Z"
    }
   },
   "outputs": [],
   "source": [
    "num_of_sample = min(map(len, ts_new))\n",
    "tem = np.arange(num_of_sample)\n",
    "x = np.stack([tem for _ in range(len(ts_new))]).reshape(-1,3)\n",
    "y= np.stack([i[:num_of_sample]for i in ts_new]).reshape(-1,3)\n",
    "X_train, X_test, y_train, y_test = train_test_split(x, y, test_size=0.15)"
   ]
  },
  {
   "cell_type": "code",
   "execution_count": null,
   "metadata": {
    "ExecuteTime": {
     "end_time": "2020-02-20T11:55:47.944143Z",
     "start_time": "2020-02-20T11:55:47.937509Z"
    }
   },
   "outputs": [],
   "source": [
    "x.shape\n",
    "y.shape"
   ]
  },
  {
   "cell_type": "code",
   "execution_count": null,
   "metadata": {
    "ExecuteTime": {
     "end_time": "2020-02-20T11:55:52.630621Z",
     "start_time": "2020-02-20T11:55:52.623905Z"
    }
   },
   "outputs": [],
   "source": [
    "y_test.shape"
   ]
  },
  {
   "cell_type": "code",
   "execution_count": null,
   "metadata": {
    "ExecuteTime": {
     "end_time": "2020-02-20T11:55:53.156318Z",
     "start_time": "2020-02-20T11:55:53.149582Z"
    }
   },
   "outputs": [],
   "source": [
    "predicted_y.shape"
   ]
  },
  {
   "cell_type": "code",
   "execution_count": null,
   "metadata": {},
   "outputs": [],
   "source": [
    "test = [[1,\"a\"],[2:\"b\"]]\n",
    "sorted(test, )"
   ]
  },
  {
   "cell_type": "code",
   "execution_count": null,
   "metadata": {
    "ExecuteTime": {
     "end_time": "2020-02-26T12:18:24.458857Z",
     "start_time": "2020-02-26T12:18:19.221895Z"
    }
   },
   "outputs": [],
   "source": [
    "def MLP_predict(ts_new:list):\n",
    "    num_of_sample = min(map(len, ts_new))\n",
    "    tem = np.arange(num_of_sample) \n",
    "    num_of_ts = len(ts_new)\n",
    "    x = np.stack([tem for _ in range(num_of_ts)]).reshape(-1,num_of_ts)\n",
    "    y= np.stack([i[:num_of_sample]for i in ts_new]).reshape(-1,num_of_ts)\n",
    "    \n",
    "    X_train, X_test, y_train, y_test = train_test_split(x, y, test_size=0.15)\n",
    "    #X_train, X_test, y_train, y_test = x[:-10],x[-10:],y[:-10], y[-10:]\n",
    "    model = MLPRegressor(max_iter=14000)\n",
    "    _ =model.fit(X_train, y_train)\n",
    "    predicted_y = model.predict(X_test)\n",
    "\n",
    "    cycle = y_test.shape[0]\n",
    "    x = x.reshape(-1)[-cycle:]\n",
    "    predicted_y = predicted_y.reshape(-1)\n",
    "    predicted = [predicted_y[i * cycle : (i+1) * cycle] for i in range(num_of_ts)]\n",
    "    y_test = y_test.reshape(-1)\n",
    "    expected = [ y_test[i*cycle: (i+1) * cycle] for i in range(num_of_ts)]\n",
    "    \"\"\"\n",
    "    for i in range(num_of_ts):\n",
    "        print(metrics.r2_score(expected[i], predicted[i]))\n",
    "        print(metrics.explained_variance_score(expected[i], predicted[i]))\n",
    "    \"\"\"\n",
    "    return (num_of_ts, x, expected, predicted)\n",
    "\n",
    "return_of_MLP_predict = MLP_predict(ts_new[:6])\n",
    "\n",
    "def visualize_MLP_result(return_of_MLP_predict):\n",
    "    n = return_of_MLP_predict[0]\n",
    "    x = return_of_MLP_predict[1]\n",
    "    predicted = return_of_MLP_predict[2]\n",
    "    expected = return_of_MLP_predict[3]\n",
    "\n",
    "    fig, ax_array = plt.subplots(n, sharex=True)\n",
    "    fig.set_size_inches(5.5, 5,5)\n",
    "    fig.subplots_adjust(hspace=0.4)\n",
    "    color = iter([\"r\", \"g\", \"b\", \"y\", \"m\", \"k\"])\n",
    "    for i in range(n):\n",
    "        ax_array[i].plot(x, predicted[i])\n",
    "        ax_array[i].plot(x, expected[i])\n",
    "        r2_score = metrics.r2_score(expected[i], predicted[i])\n",
    "        variance_score = metrics.explained_variance_score(expected[i], predicted[i])\n",
    "        ax_array[i].set_title(\"r2_score: {0:.3f}, variance_score: {0:.3f}\".format(r2_score, variance_score))\n",
    "            \n",
    "        \n",
    "visualize_MLP_result(return_of_MLP_predict)"
   ]
  },
  {
   "cell_type": "code",
   "execution_count": null,
   "metadata": {
    "ExecuteTime": {
     "end_time": "2020-02-27T09:04:28.633067Z",
     "start_time": "2020-02-27T09:04:28.623517Z"
    }
   },
   "outputs": [],
   "source": [
    "num_of_sample = min(map(len, ts_new[:6]))\n",
    "tem = np.arange(num_of_sample) \n",
    "num_of_ts = len(ts_new[:6])\n",
    "tem\n",
    "num_of_ts"
   ]
  },
  {
   "cell_type": "code",
   "execution_count": null,
   "metadata": {
    "ExecuteTime": {
     "end_time": "2020-02-27T09:18:06.691056Z",
     "start_time": "2020-02-27T09:18:05.729724Z"
    }
   },
   "outputs": [],
   "source": [
    "x = np.stack([tem for _ in range(num_of_ts)])\n",
    "y = np.stack([i[:num_of_sample] for i in ts_new[:6]])\n",
    "\n",
    "X_train = np.stack([tem[:-10] for _ in range(num_of_ts)])\n",
    "X_test = np.stack([tem[-10:] for _ in range(num_of_ts)])\n",
    "\n",
    "y_train = np.stack([i[:num_of_sample][:-10] for i in ts_new[:6]])\n",
    "y_test = np.stack([i[:num_of_sample][-10:] for i in ts_new[:6]])\n",
    "#X_train, X_test, y_train, y_test = train_test_split(x, y, test_size=0.15)\n",
    "#X_train, X_test, y_train, y_test = x[:-10],x[-10:],y[:-10], y[-10:]\n",
    "\n",
    "X_train.shape\n",
    "y_train.shape\n",
    "X_test.shape\n",
    "y_test.shape\n",
    "\n",
    "model = MLPRegressor(hidden_layer_sizes=(100, 100, 100, 100,\n",
    "                                         100, 100),\n",
    "                     activation=\"relu\",\n",
    "                     max_iter=14000)\n",
    "_ = model.fit(X_train.transpose(), y_train.transpose())\n",
    "predicted_y = model.predict(X_test.transpose())"
   ]
  },
  {
   "cell_type": "code",
   "execution_count": null,
   "metadata": {
    "ExecuteTime": {
     "end_time": "2020-02-27T09:18:06.699303Z",
     "start_time": "2020-02-27T09:18:06.693163Z"
    }
   },
   "outputs": [],
   "source": [
    "x =  np.arange(3)\n",
    "x.transpose()"
   ]
  },
  {
   "cell_type": "code",
   "execution_count": null,
   "metadata": {
    "ExecuteTime": {
     "end_time": "2020-02-27T09:18:07.346269Z",
     "start_time": "2020-02-27T09:18:07.337136Z"
    }
   },
   "outputs": [],
   "source": [
    "predicted_y.transpose()[1]\n",
    "y_test[1]"
   ]
  },
  {
   "cell_type": "code",
   "execution_count": null,
   "metadata": {
    "ExecuteTime": {
     "end_time": "2020-02-27T09:18:07.947579Z",
     "start_time": "2020-02-27T09:18:07.944443Z"
    }
   },
   "outputs": [],
   "source": [
    "py = predicted_y.transpose()[1]\n",
    "ey = y_test[1]"
   ]
  },
  {
   "cell_type": "code",
   "execution_count": null,
   "metadata": {
    "ExecuteTime": {
     "end_time": "2020-02-27T09:18:08.863116Z",
     "start_time": "2020-02-27T09:18:08.623692Z"
    }
   },
   "outputs": [],
   "source": [
    "plt.plot(X_test[1], py, label = \"predicted\")\n",
    "plt.plot(X_test[1], ey)\n",
    "plt.legend()"
   ]
  },
  {
   "cell_type": "code",
   "execution_count": null,
   "metadata": {
    "ExecuteTime": {
     "end_time": "2020-02-27T09:16:43.685867Z",
     "start_time": "2020-02-27T09:16:43.679630Z"
    }
   },
   "outputs": [],
   "source": [
    "X_test.transpose()"
   ]
  },
  {
   "cell_type": "code",
   "execution_count": null,
   "metadata": {
    "ExecuteTime": {
     "end_time": "2020-02-26T12:36:47.580525Z",
     "start_time": "2020-02-26T12:36:47.567869Z"
    }
   },
   "outputs": [],
   "source": [
    "np.stack([range(10) for _ in range(3)]);\n",
    "np.stack([range(10) for _ in range(3)]).reshape(-1, 3);\n",
    "np.stack([range(10) for _ in range(3)]).reshape(-1, 3)[-2:];"
   ]
  },
  {
   "cell_type": "code",
   "execution_count": null,
   "metadata": {
    "ExecuteTime": {
     "end_time": "2020-02-26T12:40:16.469038Z",
     "start_time": "2020-02-26T12:40:15.897693Z"
    }
   },
   "outputs": [],
   "source": [
    "_ =model.fit(X_train, y_train)\n",
    "predicted_y1 = model.predict(X_train)\n",
    "_ =model.fit(X_train, y_train)\n",
    "predicted_y2 = model.predict(X_train)"
   ]
  },
  {
   "cell_type": "code",
   "execution_count": null,
   "metadata": {
    "ExecuteTime": {
     "end_time": "2020-02-26T12:44:33.028647Z",
     "start_time": "2020-02-26T12:44:33.020968Z"
    }
   },
   "outputs": [],
   "source": [
    "predicted_y1[1][3]\n",
    "predicted_y2[1][3]"
   ]
  },
  {
   "cell_type": "code",
   "execution_count": null,
   "metadata": {
    "ExecuteTime": {
     "end_time": "2020-02-26T12:43:30.437981Z",
     "start_time": "2020-02-26T12:43:30.187291Z"
    },
    "scrolled": true
   },
   "outputs": [],
   "source": [
    "len(predicted_y[1])\n",
    "_ = plt.plot(range(101), predicted_y1[1], label = \"predicted1\")\n",
    "_ = plt.plot(range(101), predicted_y2[1], label = \"predicted2\", marker = \".\")\n",
    "_ = plt.plot(range(101), y_train[1], label = \"original\")\n",
    "_ = plt.legend()"
   ]
  },
  {
   "cell_type": "code",
   "execution_count": null,
   "metadata": {
    "ExecuteTime": {
     "end_time": "2020-02-26T12:41:16.580122Z",
     "start_time": "2020-02-26T12:41:11.395318Z"
    }
   },
   "outputs": [],
   "source": [
    "def MLP_predict(ts_new:list):\n",
    "    num_of_sample = min(map(len, ts_new))\n",
    "    tem = np.arange(num_of_sample) \n",
    "    num_of_ts = len(ts_new)\n",
    "    x = np.stack([tem for _ in range(num_of_ts)]).reshape(-1,num_of_ts)\n",
    "    y= np.stack([i[:num_of_sample]for i in ts_new]).reshape(-1,num_of_ts)\n",
    "    \n",
    "    #X_train, X_test, y_train, y_test = train_test_split(x, y, test_size=0.15)\n",
    "    X_train, X_test, y_train, y_test = x[:-10],x[-10:],y[:-10], y[-10:]\n",
    "    model = MLPRegressor(max_iter=14000)\n",
    "    _ =model.fit(X_train, y_train)\n",
    "    predicted_y = model.predict(X_test)\n",
    "\n",
    "    cycle = y_test.shape[0]\n",
    "    print(cycle)\n",
    "    x = X_test.reshape(-1)\n",
    "    x = [x[-cycle:] for i in range(num_of_ts)]\n",
    "    predicted_y = predicted_y.reshape(-1)\n",
    "    predicted = [predicted_y[i * cycle : (i+1) * cycle] for i in range(num_of_ts)]\n",
    "    y_test = y_test.reshape(-1)\n",
    "    expected = [ y_test[i*cycle: (i+1) * cycle] for i in range(num_of_ts)]\n",
    "    \"\"\"\n",
    "    for i in range(num_of_ts):\n",
    "        print(metrics.r2_score(expected[i], predicted[i]))\n",
    "        print(metrics.explained_variance_score(expected[i], predicted[i]))\n",
    "    \"\"\"\n",
    "    return (num_of_ts, x, expected, predicted)\n",
    "\n",
    "return_of_MLP_predict = MLP_predict(ts_new[:6])\n",
    "\n",
    "def visualize_MLP_result(return_of_MLP_predict):\n",
    "    n = return_of_MLP_predict[0]\n",
    "    x = return_of_MLP_predict[1]\n",
    "    predicted = return_of_MLP_predict[2]\n",
    "    expected = return_of_MLP_predict[3]\n",
    "\n",
    "    fig, ax_array = plt.subplots(n, sharex=True)\n",
    "    fig.set_size_inches(5.5, 5,5)\n",
    "    fig.subplots_adjust(hspace=0.4)\n",
    "    \n",
    "    for i in range(n):\n",
    "        ax_array[i].plot(x[i], predicted[i], marker = \".\", label = \"predicted\")\n",
    "        ax_array[i].plot(x[i], expected[i], marker = \"*\", label = \"expected\")\n",
    "        r2_score = metrics.r2_score(expected[i], predicted[i])\n",
    "        variance_score = metrics.explained_variance_score(expected[i], predicted[i])\n",
    "        ax_array[i].set_title(\"r2_score: {0:.3f}, variance_score: {0:.3f}\".format(r2_score, variance_score))\n",
    "        ax_array[i].legend()\n",
    "        \n",
    "visualize_MLP_result(return_of_MLP_predict)"
   ]
  },
  {
   "cell_type": "code",
   "execution_count": null,
   "metadata": {
    "ExecuteTime": {
     "end_time": "2020-02-20T11:55:58.462340Z",
     "start_time": "2020-02-20T11:55:58.447866Z"
    }
   },
   "outputs": [],
   "source": [
    "z = [1,2,3,1,2,3]\n",
    "for i in range(2):\n",
    "    z[i*3:i*3+3]"
   ]
  },
  {
   "cell_type": "code",
   "execution_count": null,
   "metadata": {
    "ExecuteTime": {
     "end_time": "2020-02-20T12:00:20.855816Z",
     "start_time": "2020-02-20T12:00:18.836774Z"
    }
   },
   "outputs": [],
   "source": [
    "model = MLPRegressor(max_iter=2500)\n",
    "_ =model.fit(X_train, y_train)\n",
    "predicted_y = model.predict(X_test)\n",
    "cycle = y_test.shape[0]"
   ]
  },
  {
   "cell_type": "code",
   "execution_count": null,
   "metadata": {
    "ExecuteTime": {
     "end_time": "2020-02-20T11:56:03.362428Z",
     "start_time": "2020-02-20T11:56:03.357165Z"
    }
   },
   "outputs": [],
   "source": [
    "x.reshape(-1)[-28:]"
   ]
  },
  {
   "cell_type": "code",
   "execution_count": null,
   "metadata": {
    "ExecuteTime": {
     "end_time": "2020-02-20T11:56:04.695556Z",
     "start_time": "2020-02-20T11:56:04.690902Z"
    }
   },
   "outputs": [],
   "source": [
    "#x.reshape(-1)[-28:]\n",
    "predicted_y = predicted_y.reshape(-1)\n",
    "predicted = [ predicted_y[i*cycle: (i+1) * cycle] for i in range(3)]\n",
    "y_test = y_test.reshape(-1)\n",
    "expected = [ y_test[i*cycle: (i+1) * cycle] for i in range(3)]"
   ]
  },
  {
   "cell_type": "code",
   "execution_count": null,
   "metadata": {
    "ExecuteTime": {
     "end_time": "2020-02-20T11:56:05.310399Z",
     "start_time": "2020-02-20T11:56:05.303944Z"
    }
   },
   "outputs": [],
   "source": [
    "predicted[1]"
   ]
  },
  {
   "cell_type": "code",
   "execution_count": null,
   "metadata": {
    "ExecuteTime": {
     "end_time": "2020-02-20T11:56:08.358603Z",
     "start_time": "2020-02-20T11:56:07.552785Z"
    }
   },
   "outputs": [],
   "source": [
    "plt.figure(figsize=(15,5))\n",
    "plt.plot(x.reshape(-1)[-28:], predicted[1],'r', label = \"predict_1\")\n",
    "plt.plot(x.reshape(-1)[-28:], expected[1], label = \"original_1\")\n",
    "plt.plot(x.reshape(-1)[-28:], predicted[2],'g', label = \"predict_2\")\n",
    "plt.plot(x.reshape(-1)[-28:], expected[2], 'y', label = \"original_2\")\n",
    "plt.legend()\n",
    "plt.savefig('twots.png', dpi=300)"
   ]
  },
  {
   "cell_type": "code",
   "execution_count": null,
   "metadata": {
    "ExecuteTime": {
     "end_time": "2020-02-20T09:38:01.979233Z",
     "start_time": "2020-02-20T09:38:01.962319Z"
    }
   },
   "outputs": [],
   "source": [
    "plt.figure(figsize=(15,5))\n",
    "size = y_test.shape[0]\n",
    "plt.plot(x.reshape(-1)[-size:], predicted_y.reshape(-1),'r', label = \"predict\")\n",
    "plt.plot(x.reshape(-1)[-size:], y_test.reshape(-1), label = \"original\")\n",
    "plt.legend()"
   ]
  },
  {
   "cell_type": "code",
   "execution_count": null,
   "metadata": {
    "ExecuteTime": {
     "end_time": "2020-02-20T09:38:26.037912Z",
     "start_time": "2020-02-20T09:38:25.780854Z"
    }
   },
   "outputs": [],
   "source": [
    "plt.plot(x.reshape(-1)[-45:], predicted_y.reshape(-1))\n",
    "plt.plot(x.reshape(-1)[-45:], y_test.reshape(-1))\n"
   ]
  },
  {
   "cell_type": "code",
   "execution_count": null,
   "metadata": {
    "ExecuteTime": {
     "end_time": "2020-02-20T09:33:44.979142Z",
     "start_time": "2020-02-20T09:33:44.786795Z"
    }
   },
   "outputs": [],
   "source": [
    "expected_y = expected_y.reshape(-1)\n",
    "predicted_y = predicted_y.reshape(-1)\n",
    "plt.plot(expected_y, predicted_y.reshape(-1), '.')"
   ]
  },
  {
   "cell_type": "code",
   "execution_count": null,
   "metadata": {
    "ExecuteTime": {
     "end_time": "2020-02-20T09:26:20.417109Z",
     "start_time": "2020-02-20T09:26:20.000213Z"
    }
   },
   "outputs": [],
   "source": [
    "plt.figure(figsize=(10,10))   \n",
    "sns.regplot(expected_y, predicted_y)"
   ]
  },
  {
   "cell_type": "code",
   "execution_count": null,
   "metadata": {
    "ExecuteTime": {
     "end_time": "2020-02-20T09:01:37.821797Z",
     "start_time": "2020-02-20T09:01:37.811755Z"
    }
   },
   "outputs": [],
   "source": [
    "execution_time = ts_new[1]\n",
    "x = np.arange(len(execution_time)).reshape(1,-1)\n",
    "y = execution_time.values.reshape(1,-1)\n",
    "knn = MLPRegressor(verbose=False, max_iter=500)"
   ]
  },
  {
   "cell_type": "code",
   "execution_count": null,
   "metadata": {
    "ExecuteTime": {
     "end_time": "2020-02-20T09:01:38.720996Z",
     "start_time": "2020-02-20T09:01:38.116366Z"
    }
   },
   "outputs": [],
   "source": [
    "_ = knn.fit(x,y);\n",
    "K_pred = knn.predict(x)\n",
    "_ = plt.plot(x.reshape(-1), K_pred[0],color = 'black')\n",
    "_ = plt.plot(x.reshape(-1), execution_time, color = 'yellow')"
   ]
  },
  {
   "cell_type": "code",
   "execution_count": null,
   "metadata": {
    "ExecuteTime": {
     "end_time": "2020-02-20T07:48:44.868076Z",
     "start_time": "2020-02-20T07:48:44.851880Z"
    }
   },
   "outputs": [],
   "source": [
    "type(dataset)\n",
    "type(dataset.data)\n",
    "type(dataset.target)\n",
    "dataset.data.shape\n",
    "dataset.target.shape\n",
    "np.arange(3).shape"
   ]
  },
  {
   "cell_type": "code",
   "execution_count": null,
   "metadata": {
    "ExecuteTime": {
     "end_time": "2020-02-20T10:57:36.207530Z",
     "start_time": "2020-02-20T10:57:34.974515Z"
    }
   },
   "outputs": [],
   "source": [
    "dataset = datasets.load_boston()\n",
    "X = dataset.data; y = dataset.target\n",
    "print(\"X.shape: {}, y.shape: {}\".format(X.shape, y.shape))\n",
    "X_train, X_test, y_train, y_test = train_test_split(X, y, test_size=0.25)\n",
    "\n",
    "# fit a CART model to the data\n",
    "model = MLPRegressor(max_iter=1000)\n",
    "model.fit(X_train, y_train)\n",
    "#print(); print(model)\n",
    "\n",
    "# make predictions\n",
    "expected_y  = y_test\n",
    "predicted_y = model.predict(X_test)\n",
    "\n",
    "# summarize the fit of the model\n",
    "print(); print(metrics.r2_score(expected_y, predicted_y))\n",
    "print(); print(metrics.mean_squared_log_error(expected_y, predicted_y))"
   ]
  },
  {
   "cell_type": "code",
   "execution_count": null,
   "metadata": {
    "ExecuteTime": {
     "end_time": "2020-02-20T09:16:21.694976Z",
     "start_time": "2020-02-20T09:16:21.181973Z"
    }
   },
   "outputs": [],
   "source": [
    "plt.figure(figsize=(10,10))     \n",
    "sns.regplot(expected_y, predicted_y, fit_reg=True, scatter_kws={\"s\": 100})"
   ]
  },
  {
   "cell_type": "code",
   "execution_count": null,
   "metadata": {},
   "outputs": [],
   "source": [
    "print(x[:-50].reshape(1,-1).shape)\n",
    "print(x[50:].reshape(1,-1).shape)\n",
    "K_pred = knn.predict(x[50:].reshape(1,-1))\n",
    "plt.plot(x[-50:], K_pred[0][-50:],'o-',color = 'red')\n",
    "plt.plot(x[-50:], execution_time[-50:],'o-')\n",
    "#plt.plot(K_pred[0][-50:],'o-',execution_time[-50:],'o-')\n",
    "plt.show()"
   ]
  },
  {
   "cell_type": "markdown",
   "metadata": {},
   "source": [
    "## data process snippet"
   ]
  },
  {
   "cell_type": "code",
   "execution_count": null,
   "metadata": {
    "ExecuteTime": {
     "end_time": "2020-02-07T07:06:31.455733Z",
     "start_time": "2020-02-07T07:06:31.261874Z"
    }
   },
   "outputs": [],
   "source": [
    "import json"
   ]
  },
  {
   "cell_type": "code",
   "execution_count": null,
   "metadata": {
    "ExecuteTime": {
     "end_time": "2020-02-07T07:06:31.567826Z",
     "start_time": "2020-02-07T07:06:31.460124Z"
    }
   },
   "outputs": [],
   "source": [
    "with open(data_path + \"norm.json\") as f:\n",
    "    data = json.loads(f.read())\n",
    "ds = pd.Series(data)\n",
    "ds.index"
   ]
  },
  {
   "cell_type": "code",
   "execution_count": null,
   "metadata": {
    "ExecuteTime": {
     "end_time": "2020-02-07T07:06:31.883186Z",
     "start_time": "2020-02-07T07:06:31.778616Z"
    }
   },
   "outputs": [],
   "source": [
    "ds[:3]"
   ]
  },
  {
   "cell_type": "code",
   "execution_count": null,
   "metadata": {
    "ExecuteTime": {
     "end_time": "2020-02-07T07:06:32.008300Z",
     "start_time": "2020-02-07T07:06:31.885621Z"
    }
   },
   "outputs": [],
   "source": [
    "ds.apply(lambda row: {'实例名' : row['实例名']})"
   ]
  },
  {
   "cell_type": "markdown",
   "metadata": {},
   "source": [
    "<span style=\"font-family: New York Times; font-size:1em; color: red\">\n",
    "    \n",
    "convert `Series` to `DataFrame`"
   ]
  },
  {
   "cell_type": "code",
   "execution_count": null,
   "metadata": {
    "ExecuteTime": {
     "end_time": "2020-02-07T07:06:32.296060Z",
     "start_time": "2020-02-07T07:06:32.153599Z"
    }
   },
   "outputs": [],
   "source": [
    "df = pd.DataFrame({\n",
    "    '实例名': [item['实例名'] for item in data],\n",
    "    '开始时间': [item['开始时间'] for item in data],\n",
    "    '完成时间': [item['完成时间'] for item in data]\n",
    "})"
   ]
  },
  {
   "cell_type": "code",
   "execution_count": null,
   "metadata": {
    "ExecuteTime": {
     "end_time": "2020-02-07T07:06:32.545548Z",
     "start_time": "2020-02-07T07:06:32.300389Z"
    }
   },
   "outputs": [],
   "source": [
    "df.head(5)"
   ]
  },
  {
   "cell_type": "code",
   "execution_count": null,
   "metadata": {
    "ExecuteTime": {
     "end_time": "2020-02-07T07:06:32.658772Z",
     "start_time": "2020-02-07T07:06:32.549833Z"
    }
   },
   "outputs": [],
   "source": [
    "#df[\"time_interval\"] = df['完成时间'].to_datetime(errors='coerce') - df['开始时间'].to_datetime(errors='coerce')\n",
    "df[\"time_interval\"] = pd.to_datetime(df['完成时间'], errors='coerce') - \\\n",
    "                      pd.to_datetime(df['开始时间'], errors='coerce')"
   ]
  },
  {
   "cell_type": "code",
   "execution_count": null,
   "metadata": {
    "ExecuteTime": {
     "end_time": "2020-02-07T07:06:32.785820Z",
     "start_time": "2020-02-07T07:06:32.660737Z"
    },
    "scrolled": true
   },
   "outputs": [],
   "source": [
    "df[\"time_interval\"].diff()[:2]\n",
    "df[\"time_interval\"].dt.total_seconds()"
   ]
  }
 ],
 "metadata": {
  "kernelspec": {
   "display_name": "Python 3",
   "language": "python",
   "name": "python3"
  },
  "language_info": {
   "codemirror_mode": {
    "name": "ipython",
    "version": 3
   },
   "file_extension": ".py",
   "mimetype": "text/x-python",
   "name": "python",
   "nbconvert_exporter": "python",
   "pygments_lexer": "ipython3",
   "version": "3.7.4"
  },
  "toc": {
   "base_numbering": 1,
   "nav_menu": {},
   "number_sections": true,
   "sideBar": true,
   "skip_h1_title": false,
   "title_cell": "Table of Contents",
   "title_sidebar": "Contents",
   "toc_cell": false,
   "toc_position": {
    "height": "calc(100% - 180px)",
    "left": "10px",
    "top": "150px",
    "width": "165px"
   },
   "toc_section_display": true,
   "toc_window_display": true
  }
 },
 "nbformat": 4,
 "nbformat_minor": 2
}
