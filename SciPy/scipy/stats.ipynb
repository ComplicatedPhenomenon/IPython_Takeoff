{
 "cells": [
  {
   "cell_type": "code",
   "execution_count": null,
   "metadata": {
    "ExecuteTime": {
     "end_time": "2020-02-07T07:06:23.337790Z",
     "start_time": "2020-02-07T07:06:23.331727Z"
    }
   },
   "outputs": [],
   "source": [
    "from IPython.core.interactiveshell import InteractiveShell\n",
    "InteractiveShell.ast_node_interactivity = \"all\""
   ]
  },
  {
   "cell_type": "code",
   "execution_count": null,
   "metadata": {
    "ExecuteTime": {
     "end_time": "2020-02-07T07:06:30.344336Z",
     "start_time": "2020-02-07T07:06:23.828786Z"
    }
   },
   "outputs": [],
   "source": [
    "import numpy as np\n",
    "import pandas as pd"
   ]
  },
  {
   "cell_type": "code",
   "execution_count": null,
   "metadata": {
    "ExecuteTime": {
     "end_time": "2020-02-07T07:06:31.251294Z",
     "start_time": "2020-02-07T07:06:30.348594Z"
    }
   },
   "outputs": [],
   "source": [
    "%matplotlib inline\n",
    "import matplotlib.pyplot as plt"
   ]
  },
  {
   "cell_type": "code",
   "execution_count": null,
   "metadata": {
    "ExecuteTime": {
     "end_time": "2020-02-07T07:06:31.258078Z",
     "start_time": "2020-02-07T07:06:31.254257Z"
    }
   },
   "outputs": [],
   "source": [
    "path = \"xx/data/data_sample/\""
   ]
  },
  {
   "cell_type": "code",
   "execution_count": null,
   "metadata": {
    "ExecuteTime": {
     "end_time": "2020-02-07T07:06:31.455733Z",
     "start_time": "2020-02-07T07:06:31.261874Z"
    }
   },
   "outputs": [],
   "source": [
    "import json"
   ]
  },
  {
   "cell_type": "code",
   "execution_count": null,
   "metadata": {
    "ExecuteTime": {
     "end_time": "2020-02-07T07:06:31.567826Z",
     "start_time": "2020-02-07T07:06:31.460124Z"
    }
   },
   "outputs": [],
   "source": [
    "with open(path + \"norm.json\") as f:\n",
    "    data = json.loads(f.read())\n",
    "ds = pd.Series(data)\n",
    "ds.index"
   ]
  },
  {
   "cell_type": "code",
   "execution_count": null,
   "metadata": {
    "ExecuteTime": {
     "end_time": "2020-02-07T07:06:31.883186Z",
     "start_time": "2020-02-07T07:06:31.778616Z"
    }
   },
   "outputs": [],
   "source": [
    "ds[:3]"
   ]
  },
  {
   "cell_type": "code",
   "execution_count": null,
   "metadata": {
    "ExecuteTime": {
     "end_time": "2020-02-07T07:06:32.008300Z",
     "start_time": "2020-02-07T07:06:31.885621Z"
    }
   },
   "outputs": [],
   "source": [
    "ds.apply(lambda row: {'实例名' : row['实例名']})"
   ]
  },
  {
   "cell_type": "markdown",
   "metadata": {},
   "source": [
    "<span style=\"font-family: New York Times; font-size:1em; color: red\">\n",
    "    \n",
    "convert `Series` to `DataFrame`"
   ]
  },
  {
   "cell_type": "code",
   "execution_count": null,
   "metadata": {
    "ExecuteTime": {
     "end_time": "2020-02-07T07:06:32.296060Z",
     "start_time": "2020-02-07T07:06:32.153599Z"
    }
   },
   "outputs": [],
   "source": [
    "df = pd.DataFrame({\n",
    "    '实例名': [item['实例名'] for item in data],\n",
    "    '开始时间': [item['开始时间'] for item in data],\n",
    "    '完成时间': [item['完成时间'] for item in data]\n",
    "})"
   ]
  },
  {
   "cell_type": "code",
   "execution_count": null,
   "metadata": {
    "ExecuteTime": {
     "end_time": "2020-02-07T07:06:32.545548Z",
     "start_time": "2020-02-07T07:06:32.300389Z"
    }
   },
   "outputs": [],
   "source": [
    "df.head(5)"
   ]
  },
  {
   "cell_type": "code",
   "execution_count": null,
   "metadata": {
    "ExecuteTime": {
     "end_time": "2020-02-07T07:06:32.658772Z",
     "start_time": "2020-02-07T07:06:32.549833Z"
    }
   },
   "outputs": [],
   "source": [
    "#df[\"time_interval\"] = df['完成时间'].to_datetime(errors='coerce') - df['开始时间'].to_datetime(errors='coerce')\n",
    "df[\"time_interval\"] = pd.to_datetime(df['完成时间'], errors='coerce') - \\\n",
    "                      pd.to_datetime(df['开始时间'], errors='coerce')"
   ]
  },
  {
   "cell_type": "code",
   "execution_count": null,
   "metadata": {
    "ExecuteTime": {
     "end_time": "2020-02-07T07:06:32.785820Z",
     "start_time": "2020-02-07T07:06:32.660737Z"
    },
    "scrolled": true
   },
   "outputs": [],
   "source": [
    "df[\"time_interval\"].diff()[:2]\n",
    "df[\"time_interval\"].dt.total_seconds()"
   ]
  },
  {
   "cell_type": "code",
   "execution_count": null,
   "metadata": {
    "ExecuteTime": {
     "end_time": "2020-02-07T07:06:41.648636Z",
     "start_time": "2020-02-07T07:06:32.788098Z"
    }
   },
   "outputs": [],
   "source": [
    "import statsmodels.api as sm"
   ]
  },
  {
   "cell_type": "code",
   "execution_count": null,
   "metadata": {
    "ExecuteTime": {
     "end_time": "2020-01-09T09:18:13.754995Z",
     "start_time": "2020-01-09T09:18:13.749012Z"
    }
   },
   "outputs": [],
   "source": [
    "import statsmodels.formula.api as smf"
   ]
  },
  {
   "cell_type": "code",
   "execution_count": null,
   "metadata": {
    "ExecuteTime": {
     "end_time": "2020-01-09T09:37:53.094448Z",
     "start_time": "2020-01-09T09:37:51.753663Z"
    }
   },
   "outputs": [],
   "source": [
    "nobs = 100\n",
    "X = np.random.random((nobs, 2))\n",
    "X = sm.add_constant(X)\n",
    "beta = [1, .1, .5]\n",
    "e = np.random.random(nobs)\n",
    "y = np.dot(X, beta) + e\n",
    "\n",
    "# Fit regression model\n",
    "results = sm.OLS(y, X).fit()\n",
    "\n",
    "# Inspect the results\n",
    "print(results.summary())"
   ]
  },
  {
   "cell_type": "code",
   "execution_count": null,
   "metadata": {
    "ExecuteTime": {
     "end_time": "2020-01-09T12:21:44.373626Z",
     "start_time": "2020-01-09T12:21:43.775957Z"
    }
   },
   "outputs": [],
   "source": [
    "data = sm.datasets.scotland.load(as_pandas=False)\n",
    "data.exog = sm.add_constant(data.exog)\n",
    "\n",
    "# Instantiate a gamma family model with the default link function.\n",
    "gamma_model = sm.GLM(data.endog, data.exog, family=sm.families.Gamma())\n",
    "\n",
    "gamma_results = gamma_model.fit()\n",
    "\n",
    "print(gamma_results.summary())"
   ]
  }
 ],
 "metadata": {
  "kernelspec": {
   "display_name": "Python 3",
   "language": "python",
   "name": "python3"
  },
  "language_info": {
   "codemirror_mode": {
    "name": "ipython",
    "version": 3
   },
   "file_extension": ".py",
   "mimetype": "text/x-python",
   "name": "python",
   "nbconvert_exporter": "python",
   "pygments_lexer": "ipython3",
   "version": "3.7.4"
  },
  "toc": {
   "base_numbering": 1,
   "nav_menu": {},
   "number_sections": true,
   "sideBar": true,
   "skip_h1_title": false,
   "title_cell": "Table of Contents",
   "title_sidebar": "Contents",
   "toc_cell": false,
   "toc_position": {},
   "toc_section_display": true,
   "toc_window_display": false
  }
 },
 "nbformat": 4,
 "nbformat_minor": 2
}
