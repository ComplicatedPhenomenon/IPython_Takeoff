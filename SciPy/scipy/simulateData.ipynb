{
 "cells": [
  {
   "cell_type": "code",
   "execution_count": null,
   "metadata": {
    "ExecuteTime": {
     "end_time": "2020-02-04T06:23:08.397477Z",
     "start_time": "2020-02-04T06:23:08.394394Z"
    }
   },
   "outputs": [],
   "source": [
    "from IPython.core.interactiveshell import InteractiveShell\n",
    "InteractiveShell.ast_node_interactivity = \"all\""
   ]
  },
  {
   "cell_type": "code",
   "execution_count": null,
   "metadata": {
    "ExecuteTime": {
     "end_time": "2020-02-04T06:23:15.189453Z",
     "start_time": "2020-02-04T06:23:09.026098Z"
    }
   },
   "outputs": [],
   "source": [
    "import random \n",
    "from json import dump\n",
    "import datetime\n",
    "from scipy import stats\n",
    "import numpy as np"
   ]
  },
  {
   "cell_type": "code",
   "execution_count": null,
   "metadata": {
    "ExecuteTime": {
     "end_time": "2020-02-04T10:23:00.180183Z",
     "start_time": "2020-02-04T10:23:00.154200Z"
    }
   },
   "outputs": [],
   "source": [
    "def generate_events_time_stamp(task_number_per_system: list):\n",
    "    \"\"\"\n",
    "    time_cost_model: norm, norm plus linear, norm plus linear plus cycle\n",
    "    task_number_per_system: type as list, which contains the number of tasks in each system\n",
    "    \"\"\"\n",
    "    \n",
    "    # time scale is at hour level\n",
    "    time_scale = 3000\n",
    "    origin_norm_distribution = time_scale * stats.norm.rvs(size=10000, loc=4, scale=1)\n",
    "    \n",
    "    models = [\"norm\", \"norm_linear\"]\n",
    "    \n",
    "    # for different type of dustrubution\n",
    "    time_consumption_for_sevel_models = list()\n",
    "    \n",
    "    # case 1 : norm \n",
    "    time_cost_norm = [random.sample(origin_norm_distribution.tolist(), i) \n",
    "                      for i in task_number_per_system]\n",
    "    \n",
    "    \n",
    "    time_consumption_for_sevel_models.append(time_cost_norm)\n",
    "    \n",
    "    # case 2: norm plus linear\n",
    "    derived_linear_norm_distribution = origin_norm_distribution\n",
    "    \n",
    "    select_index = random.sample(range(10000), 5000)\n",
    "    coefficient = 0.5\n",
    "    for i in select_index:\n",
    "        derived_linear_norm_distribution[i] += coefficient * origin_norm_distribution[i] \n",
    "        \n",
    "    time_cost_linear_norm= [random.sample(derived_linear_norm_distribution.tolist(), i) \n",
    "                            for i in task_number_per_system]\n",
    "    \n",
    "    time_consumption_for_sevel_models.append(time_cost_linear_norm)\n",
    "    \n",
    "\n",
    "    for i, time_consumption_for_specific_model in enumerate(time_consumption_for_sevel_models):\n",
    "        system_id = 1\n",
    "        res = []\n",
    "        for per_system_time_consumtion in time_consumption_for_specific_model:\n",
    "            time_init = datetime.datetime(2019, 2, 25, 9, 3, 0)\n",
    "            task_begin_at_time = time_init\n",
    "\n",
    "            task_id = 1\n",
    "            for per_task_time_consumption in per_system_time_consumtion:\n",
    "\n",
    "                task_end_at_time = task_begin_at_time + datetime.timedelta(0, per_task_time_consumption)\n",
    "                tem = task_begin_at_time\n",
    "\n",
    "                task_begin_at_time = task_end_at_time + datetime.timedelta(0, random.randint(1, 10))\n",
    "\n",
    "                res.append({\n",
    "                    \"system_id\": \"system_{:02}\".format(system_id),\n",
    "                    \"task_id  \": \"task_{:02}\".format(task_id),\n",
    "                    \"begin_at \": datetime.datetime.strftime(tem, \"%m/%d/%Y, %H:%M:%S\"),\n",
    "                    \"end_at   \": datetime.datetime.strftime(task_end_at_time,\n",
    "                                 \"%m/%d/%Y, %H:%M:%S\")\n",
    "                })\n",
    "\n",
    "                task_id += 1\n",
    "            system_id += 1\n",
    "        with open(\"{}\".format(models[i]) + \".json\", 'w') as f:\n",
    "            dump(res, f, indent=4)\n",
    "        print(\"{}\".format(models[i]) + \".json\" + \" is completed\")\n",
    "            "
   ]
  },
  {
   "cell_type": "code",
   "execution_count": null,
   "metadata": {},
   "outputs": [],
   "source": [
    "generate_events_time_stamp([29, 32, 36, 31, 19])"
   ]
  },
  {
   "cell_type": "code",
   "execution_count": null,
   "metadata": {
    "ExecuteTime": {
     "end_time": "2020-02-04T14:02:17.559377Z",
     "start_time": "2020-02-04T14:02:17.536279Z"
    }
   },
   "outputs": [],
   "source": [
    "x = [1, 8, 9, 2]\n",
    "res = list()\n",
    "z = iter(x)\n",
    "for _  in range(10):\n",
    "    try:      \n",
    "        res.append(next(z))\n",
    "        \n",
    "    except StopIteration as e:\n",
    "        z = iter(x)\n",
    "        res.append(next(z))\n",
    "        \n",
    "        #next(z)\n",
    "res "
   ]
  },
  {
   "cell_type": "code",
   "execution_count": null,
   "metadata": {
    "ExecuteTime": {
     "end_time": "2020-02-04T14:18:07.583024Z",
     "start_time": "2020-02-04T14:18:07.545619Z"
    }
   },
   "outputs": [],
   "source": [
    "def generate_events_time_stamp_cycle(task_number_per_system: list):\n",
    "    \"\"\"\n",
    "    time_cost_model: norm, norm plus linear, norm plus linear plus cycle\n",
    "    task_number_per_system: type as list, which contains the number of tasks in each system\n",
    "    \"\"\"\n",
    "    # time scale is at hour level\n",
    "    time_scale = 3000\n",
    "    origin_norm_distribution = time_scale * stats.norm.rvs(size=10000, loc=4, scale=1)\n",
    "    time_cost_norm = [random.sample(origin_norm_distribution.tolist(), i) \n",
    "                      for i in task_number_per_system]\n",
    "\n",
    "    system_id = 1\n",
    "    res = []\n",
    "    for per_system_time_consumtion in time_cost_norm:\n",
    "        time_init = datetime.datetime(2019, 2, 25, 9, 3, 0)\n",
    "        task_begin_at_time = time_init\n",
    "\n",
    "        task_id = 1\n",
    "        counter_clock = datetime.timedelta(0, 0)\n",
    "        tem_time_interval = list()\n",
    "        for per_task_time_consumption in per_system_time_consumtion:\n",
    "                \n",
    "            week_number = counter_clock.total_seconds()//(24*3600)\n",
    "            print(week_number)\n",
    "            if week_number < 1:\n",
    "                task_end_at_time = task_begin_at_time + datetime.timedelta(0, per_task_time_consumption)\n",
    "                tem = task_begin_at_time\n",
    "\n",
    "                task_begin_at_time = task_end_at_time + datetime.timedelta(0, random.randint(1, 10))\n",
    "\n",
    "                res.append({\n",
    "                    \"system_id\": \"system_{:02}\".format(system_id),\n",
    "                    \"task_id  \": \"task_{:02}\".format(task_id),\n",
    "                    \"begin_at \": datetime.datetime.strftime(tem, \"%m/%d/%Y, %H:%M:%S\"),\n",
    "                    \"end_at   \": datetime.datetime.strftime(task_end_at_time,\n",
    "                                 \"%m/%d/%Y, %H:%M:%S\")\n",
    "                })\n",
    "\n",
    "                counter_clock += datetime.timedelta(0, per_task_time_consumption)\n",
    "                tem_time_interval.append(datetime.timedelta(0, per_task_time_consumption))\n",
    "\n",
    "            else:\n",
    "                #print(\"Cycle occurs\")\n",
    "                tem_1 = iter(tem_time_interval)\n",
    "                try:\n",
    "                    tem_1_0 = next(tem_1)\n",
    "                    task_end_at_time = task_begin_at_time + tem_1_0\n",
    "                    tem = task_begin_at_time\n",
    "                    task_begin_at_time = task_end_at_time + datetime.timedelta(0, random.randint(1, 10))\n",
    "                    res.append({\n",
    "                        \"system_id\": \"system_{:02}\".format(system_id),\n",
    "                        \"task_id  \": \"task_{:02}\".format(task_id),\n",
    "                        \"begin_at \": datetime.datetime.strftime(tem, \"%m/%d/%Y, %H:%M:%S\"),\n",
    "                        \"end_at   \": datetime.datetime.strftime(task_end_at_time,\n",
    "                                     \"%m/%d/%Y, %H:%M:%S\")\n",
    "                    })\n",
    "                    counter_clock += tem_1_0 \n",
    "                            \n",
    "                except StopIteration as e:\n",
    "                    tem_1 = iter(tem_time_interval)\n",
    "                    tem_1_0 = next(tem_1)\n",
    "                    task_end_at_time = task_begin_at_time + next(tem_1)\n",
    "                    tem = task_begin_at_time\n",
    "                    task_begin_at_time = task_end_at_time + datetime.timedelta(0, random.randint(1, 10))\n",
    "                    res.append({\n",
    "                        \"system_id\": \"system_{:02}\".format(system_id),\n",
    "                        \"task_id  \": \"task_{:02}\".format(task_id),\n",
    "                        \"begin_at \": datetime.datetime.strftime(tem, \"%m/%d/%Y, %H:%M:%S\"),\n",
    "                        \"end_at   \": datetime.datetime.strftime(task_end_at_time,\n",
    "                                     \"%m/%d/%Y, %H:%M:%S\")\n",
    "                    })\n",
    "                    counter_clock += tem_1_0 \n",
    "                        \n",
    "                    \n",
    "                    \n",
    "            task_id += 1\n",
    "                \n",
    "        system_id += 1\n",
    "        \n",
    "    with open(\"norm_cycle.json\", 'w') as f:\n",
    "        dump(res, f, indent=4)\n",
    "    print(\"done!\")"
   ]
  },
  {
   "cell_type": "code",
   "execution_count": null,
   "metadata": {
    "ExecuteTime": {
     "end_time": "2020-02-04T14:18:08.054346Z",
     "start_time": "2020-02-04T14:18:08.020224Z"
    }
   },
   "outputs": [],
   "source": [
    "generate_events_time_stamp_cycle([29, 32, 36, 31, 19])"
   ]
  }
 ],
 "metadata": {
  "kernelspec": {
   "display_name": "Python 3",
   "language": "python",
   "name": "python3"
  },
  "language_info": {
   "codemirror_mode": {
    "name": "ipython",
    "version": 3
   },
   "file_extension": ".py",
   "mimetype": "text/x-python",
   "name": "python",
   "nbconvert_exporter": "python",
   "pygments_lexer": "ipython3",
   "version": "3.7.4"
  },
  "toc": {
   "base_numbering": 1,
   "nav_menu": {},
   "number_sections": true,
   "sideBar": true,
   "skip_h1_title": false,
   "title_cell": "Table of Contents",
   "title_sidebar": "Contents",
   "toc_cell": false,
   "toc_position": {},
   "toc_section_display": true,
   "toc_window_display": false
  }
 },
 "nbformat": 4,
 "nbformat_minor": 2
}
