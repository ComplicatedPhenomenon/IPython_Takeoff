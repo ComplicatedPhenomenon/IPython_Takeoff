{
 "cells": [
  {
   "cell_type": "code",
   "execution_count": null,
   "metadata": {},
   "outputs": [],
   "source": [
    "2018-12-27 16:00:29 2019-04-28 20:27:46 "
   ]
  },
  {
   "cell_type": "code",
   "execution_count": 1,
   "metadata": {},
   "outputs": [],
   "source": [
    "from IPython.core.interactiveshell import InteractiveShell\n",
    "InteractiveShell.ast_node_interactivity = \"all\""
   ]
  },
  {
   "cell_type": "code",
   "execution_count": 2,
   "metadata": {},
   "outputs": [],
   "source": [
    "# for inline plots in jupyter\n",
    "%matplotlib inline\n",
    "# import matplotlib\n",
    "import matplotlib.pyplot as plt\n",
    "# for latex equations\n",
    "from IPython.display import Math, Latex\n",
    "# for displaying images\n",
    "from IPython.core.display import Image"
   ]
  },
  {
   "cell_type": "code",
   "execution_count": 3,
   "metadata": {},
   "outputs": [],
   "source": [
    "# import seaborn\n",
    "import seaborn as sns\n",
    "# settings for seaborn plotting style\n",
    "sns.set(color_codes=True)\n",
    "# settings for seaborn plot sizes\n",
    "sns.set(rc={'figure.figsize':(5,5)})"
   ]
  },
  {
   "cell_type": "code",
   "execution_count": 4,
   "metadata": {},
   "outputs": [],
   "source": [
    "# import uniform distribution\n",
    "from scipy import stats"
   ]
  },
  {
   "cell_type": "code",
   "execution_count": 5,
   "metadata": {},
   "outputs": [],
   "source": [
    "import pandas as pd"
   ]
  },
  {
   "cell_type": "code",
   "execution_count": 6,
   "metadata": {},
   "outputs": [
    {
     "name": "stdout",
     "output_type": "stream",
     "text": [
      "['__all__', '__builtins__', '__cached__', '__doc__', '__file__', '__loader__', '__name__', '__package__', '__path__', '__spec__', '_binned_statistic', '_constants', '_continuous_distns', '_discrete_distns', '_distn_infrastructure', '_distr_params', '_multivariate', '_stats', '_stats_mstats_common', '_tukeylambda_stats', 'absolute_import', 'alpha', 'anderson', 'anderson_ksamp', 'anglit', 'ansari', 'arcsine', 'argus', 'bartlett', 'bayes_mvs', 'bernoulli', 'beta', 'betaprime', 'binned_statistic', 'binned_statistic_2d', 'binned_statistic_dd', 'binom', 'binom_test', 'boltzmann', 'boxcox', 'boxcox_llf', 'boxcox_normmax', 'boxcox_normplot', 'bradford', 'burr', 'burr12', 'cauchy', 'chi', 'chi2', 'chi2_contingency', 'chisquare', 'circmean', 'circstd', 'circvar', 'combine_pvalues', 'contingency', 'cosine', 'crystalball', 'cumfreq', 'describe', 'dgamma', 'dirichlet', 'distributions', 'division', 'dlaplace', 'dweibull', 'energy_distance', 'entropy', 'erlang', 'expon', 'exponnorm', 'exponpow', 'exponweib', 'f', 'f_oneway', 'fatiguelife', 'find_repeats', 'fisher_exact', 'fisk', 'fligner', 'foldcauchy', 'foldnorm', 'frechet_l', 'frechet_r', 'friedmanchisquare', 'gamma', 'gausshyper', 'gaussian_kde', 'genexpon', 'genextreme', 'gengamma', 'genhalflogistic', 'genlogistic', 'gennorm', 'genpareto', 'geom', 'gilbrat', 'gmean', 'gompertz', 'gumbel_l', 'gumbel_r', 'halfcauchy', 'halfgennorm', 'halflogistic', 'halfnorm', 'hmean', 'hypergeom', 'hypsecant', 'invgamma', 'invgauss', 'invweibull', 'invwishart', 'iqr', 'itemfreq', 'jarque_bera', 'johnsonsb', 'johnsonsu', 'kappa3', 'kappa4', 'kde', 'kendalltau', 'kruskal', 'ks_2samp', 'ksone', 'kstat', 'kstatvar', 'kstest', 'kstwobign', 'kurtosis', 'kurtosistest', 'laplace', 'levene', 'levy', 'levy_l', 'levy_stable', 'linregress', 'loggamma', 'logistic', 'loglaplace', 'lognorm', 'logser', 'lomax', 'mannwhitneyu', 'matrix_normal', 'maxwell', 'median_test', 'mielke', 'mode', 'moment', 'mood', 'morestats', 'moyal', 'mstats', 'mstats_basic', 'mstats_extras', 'multinomial', 'multivariate_normal', 'mvn', 'mvsdist', 'nakagami', 'nbinom', 'ncf', 'nct', 'ncx2', 'norm', 'normaltest', 'norminvgauss', 'obrientransform', 'ortho_group', 'pareto', 'pearson3', 'pearsonr', 'percentileofscore', 'planck', 'pointbiserialr', 'poisson', 'power_divergence', 'powerlaw', 'powerlognorm', 'powernorm', 'ppcc_max', 'ppcc_plot', 'print_function', 'probplot', 'randint', 'random_correlation', 'rankdata', 'ranksums', 'rayleigh', 'rdist', 'recipinvgauss', 'reciprocal', 'relfreq', 'rice', 'rv_continuous', 'rv_discrete', 'rv_histogram', 'scoreatpercentile', 'sem', 'semicircular', 'shapiro', 'sigmaclip', 'skellam', 'skew', 'skewnorm', 'skewtest', 'spearmanr', 'special_ortho_group', 'statlib', 'stats', 't', 'test', 'theilslopes', 'tiecorrect', 'tmax', 'tmean', 'tmin', 'trapz', 'triang', 'trim1', 'trim_mean', 'trimboth', 'truncexpon', 'truncnorm', 'tsem', 'tstd', 'ttest_1samp', 'ttest_ind', 'ttest_ind_from_stats', 'ttest_rel', 'tukeylambda', 'tvar', 'uniform', 'unitary_group', 'variation', 'vonmises', 'vonmises_line', 'wald', 'wasserstein_distance', 'weibull_max', 'weibull_min', 'weightedtau', 'wilcoxon', 'wishart', 'wrapcauchy', 'zipf', 'zmap', 'zscore']\n"
     ]
    },
    {
     "data": {
      "text/plain": [
       "0                    __all__\n",
       "1               __builtins__\n",
       "2                 __cached__\n",
       "3                    __doc__\n",
       "4                   __file__\n",
       "5                 __loader__\n",
       "6                   __name__\n",
       "7                __package__\n",
       "8                   __path__\n",
       "9                   __spec__\n",
       "10         _binned_statistic\n",
       "11                _constants\n",
       "12        _continuous_distns\n",
       "13          _discrete_distns\n",
       "14     _distn_infrastructure\n",
       "15             _distr_params\n",
       "16             _multivariate\n",
       "17                    _stats\n",
       "18      _stats_mstats_common\n",
       "19        _tukeylambda_stats\n",
       "20           absolute_import\n",
       "21                     alpha\n",
       "22                  anderson\n",
       "23            anderson_ksamp\n",
       "24                    anglit\n",
       "25                    ansari\n",
       "26                   arcsine\n",
       "27                     argus\n",
       "28                  bartlett\n",
       "29                 bayes_mvs\n",
       "               ...          \n",
       "218                   triang\n",
       "219                    trim1\n",
       "220                trim_mean\n",
       "221                 trimboth\n",
       "222               truncexpon\n",
       "223                truncnorm\n",
       "224                     tsem\n",
       "225                     tstd\n",
       "226              ttest_1samp\n",
       "227                ttest_ind\n",
       "228     ttest_ind_from_stats\n",
       "229                ttest_rel\n",
       "230              tukeylambda\n",
       "231                     tvar\n",
       "232                  uniform\n",
       "233            unitary_group\n",
       "234                variation\n",
       "235                 vonmises\n",
       "236            vonmises_line\n",
       "237                     wald\n",
       "238     wasserstein_distance\n",
       "239              weibull_max\n",
       "240              weibull_min\n",
       "241              weightedtau\n",
       "242                 wilcoxon\n",
       "243                  wishart\n",
       "244               wrapcauchy\n",
       "245                     zipf\n",
       "246                     zmap\n",
       "247                   zscore\n",
       "Name: 0, Length: 248, dtype: object"
      ]
     },
     "execution_count": 6,
     "metadata": {},
     "output_type": "execute_result"
    },
    {
     "data": {
      "text/plain": [
       "RangeIndex(start=0, stop=1, step=1)"
      ]
     },
     "execution_count": 6,
     "metadata": {},
     "output_type": "execute_result"
    },
    {
     "name": "stdout",
     "output_type": "stream",
     "text": [
      "<class 'pandas.core.frame.DataFrame'>\n",
      "RangeIndex: 248 entries, 0 to 247\n",
      "Data columns (total 1 columns):\n",
      "0    248 non-null object\n",
      "dtypes: object(1)\n",
      "memory usage: 2.0+ KB\n"
     ]
    },
    {
     "data": {
      "text/plain": [
       "123"
      ]
     },
     "execution_count": 6,
     "metadata": {},
     "output_type": "execute_result"
    },
    {
     "name": "stdout",
     "output_type": "stream",
     "text": [
      "__all__\n",
      "__builtins__\n",
      "__cached__\n",
      "__doc__\n",
      "__file__\n",
      "__loader__\n",
      "__name__\n",
      "__package__\n",
      "__path__\n",
      "__spec__\n",
      "_binned_statistic\n",
      "_constants\n",
      "_continuous_distns\n",
      "_discrete_distns\n",
      "_distn_infrastructure\n",
      "_distr_params\n",
      "_multivariate\n",
      "_stats\n",
      "_stats_mstats_common\n",
      "_tukeylambda_stats\n",
      "absolute_import\n",
      "alpha\n",
      "anderson\n",
      "anderson_ksamp\n",
      "anglit\n",
      "ansari\n",
      "arcsine\n",
      "argus\n",
      "bartlett\n",
      "bayes_mvs\n",
      "bernoulli\n",
      "beta\n",
      "betaprime\n",
      "binned_statistic\n",
      "binned_statistic_2d\n",
      "binned_statistic_dd\n",
      "binom\n",
      "binom_test\n",
      "boltzmann\n",
      "boxcox\n",
      "boxcox_llf\n",
      "boxcox_normmax\n",
      "boxcox_normplot\n",
      "bradford\n",
      "burr\n",
      "burr12\n",
      "cauchy\n",
      "chi\n",
      "chi2\n",
      "chi2_contingency\n",
      "chisquare\n",
      "circmean\n",
      "circstd\n",
      "circvar\n",
      "combine_pvalues\n",
      "contingency\n",
      "cosine\n",
      "crystalball\n",
      "cumfreq\n",
      "describe\n",
      "dgamma\n",
      "dirichlet\n",
      "distributions\n",
      "division\n",
      "dlaplace\n",
      "dweibull\n",
      "energy_distance\n",
      "entropy\n",
      "erlang\n",
      "expon\n",
      "exponnorm\n",
      "exponpow\n",
      "exponweib\n",
      "f\n",
      "f_oneway\n",
      "fatiguelife\n",
      "find_repeats\n",
      "fisher_exact\n",
      "fisk\n",
      "fligner\n",
      "foldcauchy\n",
      "foldnorm\n",
      "frechet_l\n",
      "frechet_r\n",
      "friedmanchisquare\n",
      "gamma\n",
      "gausshyper\n",
      "gaussian_kde\n",
      "genexpon\n",
      "genextreme\n",
      "gengamma\n",
      "genhalflogistic\n",
      "genlogistic\n",
      "gennorm\n",
      "genpareto\n",
      "geom\n",
      "gilbrat\n",
      "gmean\n",
      "gompertz\n",
      "gumbel_l\n",
      "gumbel_r\n",
      "halfcauchy\n",
      "halfgennorm\n",
      "halflogistic\n",
      "halfnorm\n",
      "hmean\n",
      "hypergeom\n",
      "hypsecant\n",
      "invgamma\n",
      "invgauss\n",
      "invweibull\n",
      "invwishart\n",
      "iqr\n",
      "itemfreq\n",
      "jarque_bera\n",
      "johnsonsb\n",
      "johnsonsu\n",
      "kappa3\n",
      "kappa4\n",
      "kde\n",
      "kendalltau\n",
      "kruskal\n",
      "ks_2samp\n",
      "ksone\n",
      "kstat\n",
      "kstatvar\n",
      "kstest\n",
      "kstwobign\n",
      "kurtosis\n",
      "kurtosistest\n",
      "laplace\n",
      "levene\n",
      "levy\n",
      "levy_l\n",
      "levy_stable\n",
      "linregress\n",
      "loggamma\n",
      "logistic\n",
      "loglaplace\n",
      "lognorm\n",
      "logser\n",
      "lomax\n",
      "mannwhitneyu\n",
      "matrix_normal\n",
      "maxwell\n",
      "median_test\n",
      "mielke\n",
      "mode\n",
      "moment\n",
      "mood\n",
      "morestats\n",
      "moyal\n",
      "mstats\n",
      "mstats_basic\n",
      "mstats_extras\n",
      "multinomial\n",
      "multivariate_normal\n",
      "mvn\n",
      "mvsdist\n",
      "nakagami\n",
      "nbinom\n",
      "ncf\n",
      "nct\n",
      "ncx2\n",
      "norm\n",
      "normaltest\n",
      "norminvgauss\n",
      "obrientransform\n",
      "ortho_group\n",
      "pareto\n",
      "pearson3\n",
      "pearsonr\n",
      "percentileofscore\n",
      "planck\n",
      "pointbiserialr\n",
      "poisson\n",
      "power_divergence\n",
      "powerlaw\n",
      "powerlognorm\n",
      "powernorm\n",
      "ppcc_max\n",
      "ppcc_plot\n",
      "print_function\n",
      "probplot\n",
      "randint\n",
      "random_correlation\n",
      "rankdata\n",
      "ranksums\n",
      "rayleigh\n",
      "rdist\n",
      "recipinvgauss\n",
      "reciprocal\n",
      "relfreq\n",
      "rice\n",
      "rv_continuous\n",
      "rv_discrete\n",
      "rv_histogram\n",
      "scoreatpercentile\n",
      "sem\n",
      "semicircular\n",
      "shapiro\n",
      "sigmaclip\n",
      "skellam\n",
      "skew\n",
      "skewnorm\n",
      "skewtest\n",
      "spearmanr\n",
      "special_ortho_group\n",
      "statlib\n",
      "stats\n",
      "t\n",
      "test\n",
      "theilslopes\n",
      "tiecorrect\n",
      "tmax\n",
      "tmean\n",
      "tmin\n",
      "trapz\n",
      "triang\n",
      "trim1\n",
      "trim_mean\n",
      "trimboth\n",
      "truncexpon\n",
      "truncnorm\n",
      "tsem\n",
      "tstd\n",
      "ttest_1samp\n",
      "ttest_ind\n",
      "ttest_ind_from_stats\n",
      "ttest_rel\n",
      "tukeylambda\n",
      "tvar\n",
      "uniform\n",
      "unitary_group\n",
      "variation\n",
      "vonmises\n",
      "vonmises_line\n",
      "wald\n",
      "wasserstein_distance\n",
      "weibull_max\n",
      "weibull_min\n",
      "weightedtau\n",
      "wilcoxon\n",
      "wishart\n",
      "wrapcauchy\n",
      "zipf\n",
      "zmap\n",
      "zscore\n"
     ]
    },
    {
     "data": {
      "text/plain": [
       "0                    __all__\n",
       "1               __builtins__\n",
       "2                 __cached__\n",
       "3                    __doc__\n",
       "4                   __file__\n",
       "5                 __loader__\n",
       "6                   __name__\n",
       "7                __package__\n",
       "8                   __path__\n",
       "9                   __spec__\n",
       "10         _binned_statistic\n",
       "11                _constants\n",
       "12        _continuous_distns\n",
       "13          _discrete_distns\n",
       "14     _distn_infrastructure\n",
       "15             _distr_params\n",
       "16             _multivariate\n",
       "17                    _stats\n",
       "18      _stats_mstats_common\n",
       "19        _tukeylambda_stats\n",
       "20           absolute_import\n",
       "21                     alpha\n",
       "22                  anderson\n",
       "23            anderson_ksamp\n",
       "24                    anglit\n",
       "25                    ansari\n",
       "26                   arcsine\n",
       "27                     argus\n",
       "28                  bartlett\n",
       "29                 bayes_mvs\n",
       "               ...          \n",
       "218                   triang\n",
       "219                    trim1\n",
       "220                trim_mean\n",
       "221                 trimboth\n",
       "222               truncexpon\n",
       "223                truncnorm\n",
       "224                     tsem\n",
       "225                     tstd\n",
       "226              ttest_1samp\n",
       "227                ttest_ind\n",
       "228     ttest_ind_from_stats\n",
       "229                ttest_rel\n",
       "230              tukeylambda\n",
       "231                     tvar\n",
       "232                  uniform\n",
       "233            unitary_group\n",
       "234                variation\n",
       "235                 vonmises\n",
       "236            vonmises_line\n",
       "237                     wald\n",
       "238     wasserstein_distance\n",
       "239              weibull_max\n",
       "240              weibull_min\n",
       "241              weightedtau\n",
       "242                 wilcoxon\n",
       "243                  wishart\n",
       "244               wrapcauchy\n",
       "245                     zipf\n",
       "246                     zmap\n",
       "247                   zscore\n",
       "Name: 0, Length: 248, dtype: object"
      ]
     },
     "execution_count": 6,
     "metadata": {},
     "output_type": "execute_result"
    },
    {
     "data": {
      "text/plain": [
       "module"
      ]
     },
     "execution_count": 6,
     "metadata": {},
     "output_type": "execute_result"
    },
    {
     "data": {
      "text/plain": [
       "scipy.stats._discrete_distns.binom_gen"
      ]
     },
     "execution_count": 6,
     "metadata": {},
     "output_type": "execute_result"
    },
    {
     "data": {
      "text/plain": [
       "'n, p'"
      ]
     },
     "execution_count": 6,
     "metadata": {},
     "output_type": "execute_result"
    }
   ],
   "source": [
    "# I can't use this scipy library\n",
    "print(dir(stats))\n",
    "statsDF = pd.DataFrame(dir(stats))\n",
    "\n",
    "statsDF[0]\n",
    "\n",
    "statsDF.columns\n",
    "\n",
    "statsDF.info()\n",
    "\n",
    "statsDF.index[123]\n",
    "\n",
    "for item in statsDF[0]:\n",
    "    print(item)\n",
    "\n",
    "statdisplay = statsDF[0]\n",
    "\n",
    "statdisplay\n",
    "\n",
    "a = stats.distributions\n",
    "\n",
    "type(a)\n",
    "\n",
    "type(a.binom)\n",
    "\n",
    "a.binom.shapes"
   ]
  },
  {
   "cell_type": "code",
   "execution_count": null,
   "metadata": {},
   "outputs": [],
   "source": [
    "# random numbers from uniform distribution\n",
    "n = 10000\n",
    "start = 10\n",
    "width = 20\n",
    "data_uniform = stats.uniform.rvs(size=n, loc = start, scale=width)"
   ]
  },
  {
   "cell_type": "code",
   "execution_count": null,
   "metadata": {},
   "outputs": [],
   "source": [
    "ax = sns.distplot(data_uniform,\n",
    "                  bins=100,\n",
    "                  kde=True,\n",
    "                  color='skyblue',\n",
    "                  hist_kws={\"linewidth\": 15,'alpha':1})\n",
    "ax.set(xlabel='Uniform Distribution ', ylabel='Frequency')"
   ]
  },
  {
   "cell_type": "markdown",
   "metadata": {},
   "source": [
    "# The Gauss Distribution"
   ]
  },
  {
   "cell_type": "markdown",
   "metadata": {},
   "source": [
    "<span style=\"font-family: Cosmic Sans MS; font-size:2em\">\n",
    "$$f(x;\\mu,\\sigma)=\\frac{1}{\\sqrt{2\\pi}\\sigma}e^{\\frac{-(x-\\mu)^2}{2\\sigma^2}}$$\n",
    "</span>\n",
    "\n",
    "The scipy.stats.norm usage https://blog.csdn.net/claroja/article/details/72830515"
   ]
  },
  {
   "cell_type": "code",
   "execution_count": 7,
   "metadata": {},
   "outputs": [],
   "source": [
    "# generate random numbers from N(0,1)\n",
    "data_normal = stats.norm.rvs(size=10000,loc=0,scale=1)# 一个连续的正态分布,loc代表了均值,scale代表标准差"
   ]
  },
  {
   "cell_type": "code",
   "execution_count": 8,
   "metadata": {},
   "outputs": [
    {
     "name": "stderr",
     "output_type": "stream",
     "text": [
      "/Users/wangmiao/anaconda3/lib/python3.7/site-packages/scipy/stats/stats.py:1713: FutureWarning: Using a non-tuple sequence for multidimensional indexing is deprecated; use `arr[tuple(seq)]` instead of `arr[seq]`. In the future this will be interpreted as an array index, `arr[np.array(seq)]`, which will result either in an error or a different result.\n",
      "  return np.add.reduce(sorted[indexer] * weights, axis=axis) / sumval\n"
     ]
    },
    {
     "data": {
      "text/plain": [
       "[Text(0, 0.5, 'Frequency'), Text(0.5, 0, 'Normal Distribution')]"
      ]
     },
     "execution_count": 8,
     "metadata": {},
     "output_type": "execute_result"
    },
    {
     "data": {
      "image/png": "[encoded data removed]",
      "text/plain": [
       "<Figure size 360x360 with 1 Axes>"
      ]
     },
     "metadata": {},
     "output_type": "display_data"
    }
   ],
   "source": [
    "ax = sns.distplot(data_normal,\n",
    "                  bins=100,\n",
    "                  kde=True,\n",
    "                  color='skyblue',\n",
    "                  hist_kws={\"linewidth\": 15,'alpha':1})\n",
    "ax.set(xlabel='Normal Distribution', ylabel='Frequency')"
   ]
  },
  {
   "cell_type": "code",
   "execution_count": null,
   "metadata": {},
   "outputs": [],
   "source": [
    "normal_expression = stats.norm.pdf(0, loc = 0, scale =1)\n",
    "normal_expression"
   ]
  },
  {
   "cell_type": "markdown",
   "metadata": {},
   "source": [
    "> Python's warning system makes it difficult to tell exactly where the problematic code is, but that's a numpy warning and if it's coming from scipy then nothing seaborn can do about it."
   ]
  },
  {
   "cell_type": "code",
   "execution_count": null,
   "metadata": {},
   "outputs": [],
   "source": [
    "# Disable warning message\n",
    "from IPython.display import HTML\n",
    "import warnings\n",
    "warnings.filterwarnings('ignore')"
   ]
  },
  {
   "cell_type": "markdown",
   "metadata": {},
   "source": [
    "\n",
    "# The Boltzman distribution\n",
    "<span style=\"font-family: Cosmic Sans MS; font-size:2em\">\n",
    "\n",
    "   \n",
    "</span>"
   ]
  },
  {
   "cell_type": "markdown",
   "metadata": {},
   "source": [
    "# The possion Distribution"
   ]
  },
  {
   "cell_type": "markdown",
   "metadata": {},
   "source": [
    "<span style=\"font-family: Cosmic Sans MS; font-size:2em\">\n",
    "\n",
    "    \n",
    "$$f(n;\\nu)=\\frac{\\nu^n}{n!}e^{-\\nu}$$\n",
    "</span>"
   ]
  },
  {
   "cell_type": "code",
   "execution_count": null,
   "metadata": {},
   "outputs": [],
   "source": [
    "import scipy, numpy, math         \n",
    "scipy.math.factorial, numpy.math.factorial, math.factorial  #scipy.math.factorial and numpy.math.factorial seem to simply be aliases/references for/to math.factorial"
   ]
  },
  {
   "cell_type": "code",
   "execution_count": null,
   "metadata": {},
   "outputs": [],
   "source": [
    "math.exp(2)"
   ]
  },
  {
   "cell_type": "code",
   "execution_count": null,
   "metadata": {},
   "outputs": [],
   "source": [
    "def PossionDistribution(m,n):\n",
    "    return m ** n/ math.factorial(n) * e **(-m)\n",
    "    "
   ]
  },
  {
   "cell_type": "markdown",
   "metadata": {},
   "source": [
    "<span style=\"font-family: New York Times; font-size:1.5em; color: red\">\n",
    "\n",
    "$m$ and $n$ are discrete numbers, how to place this condition in the expression?"
   ]
  },
  {
   "cell_type": "code",
   "execution_count": null,
   "metadata": {},
   "outputs": [],
   "source": [
    "import numpy as np\n",
    "import matplotlib.pyplot as plt\n",
    "from scipy.special import factorial"
   ]
  },
  {
   "cell_type": "code",
   "execution_count": null,
   "metadata": {},
   "outputs": [],
   "source": [
    "print(dir(plt))"
   ]
  },
  {
   "cell_type": "code",
   "execution_count": null,
   "metadata": {},
   "outputs": [],
   "source": [
    "print(dir(np))"
   ]
  },
  {
   "cell_type": "code",
   "execution_count": null,
   "metadata": {},
   "outputs": [],
   "source": [
    "print(dir(np.random))"
   ]
  },
  {
   "cell_type": "code",
   "execution_count": null,
   "metadata": {},
   "outputs": [],
   "source": [
    "print(dir(np.random.gamma))"
   ]
  },
  {
   "cell_type": "code",
   "execution_count": null,
   "metadata": {},
   "outputs": [],
   "source": [
    "np.random.gamma(0,1000)"
   ]
  },
  {
   "cell_type": "code",
   "execution_count": null,
   "metadata": {},
   "outputs": [],
   "source": [
    "t = np.arange(0, 20, 0.1)\n",
    "d = np.exp(-5)*np.power(5, t)/factorial(t)\n",
    "plt.plot(t, d, 'bs')\n",
    "plt.show()"
   ]
  },
  {
   "cell_type": "code",
   "execution_count": null,
   "metadata": {},
   "outputs": [],
   "source": [
    "s = np.random.poisson(5, 10000)\n",
    "count, bins, ignored = plt.hist(s, 14, density=True)\n",
    "plt.show()"
   ]
  },
  {
   "cell_type": "code",
   "execution_count": null,
   "metadata": {},
   "outputs": [],
   "source": [
    "# Author: Jake VanderPlas\n",
    "# License: BSD\n",
    "#   The figure produced by this code is published in the textbook\n",
    "#   \"Statistics, Data Mining, and Machine Learning in Astronomy\" (2013)\n",
    "#   For more information, see http://astroML.github.com\n",
    "#   To report a bug or issue, use the following forum:\n",
    "#    https://groups.google.com/forum/#!forum/astroml-general\n",
    "from scipy.stats import poisson\n",
    "\n",
    "\n",
    "#----------------------------------------------------------------------\n",
    "# This function adjusts matplotlib settings for a uniform feel in the textbook.\n",
    "# Note that with usetex=True, fonts are rendered with LaTeX.  This may\n",
    "# result in an error if LaTeX is not installed on your system.  In that case,\n",
    "# you can set usetex to False.\n",
    "from astroML.plotting import setup_text_plots\n",
    "setup_text_plots(fontsize=8, usetex=True)\n",
    "\n",
    "#------------------------------------------------------------\n",
    "# Define the distribution parameters to be plotted\n",
    "mu_values = [1, 5, 15]\n",
    "linestyles = ['-', '--', ':']\n",
    "\n",
    "#------------------------------------------------------------\n",
    "# plot the distributions\n",
    "#   we generate it using scipy.stats.poisson().  Once the distribution\n",
    "#   object is created, we have many options: for example\n",
    "#   - dist.pmf(x) evaluates the probability mass function in the case of\n",
    "#     discrete distributions.\n",
    "#   - dist.pdf(x) evaluates the probability density function for\n",
    "#   evaluates\n",
    "fig, ax = plt.subplots(figsize=(5, 3.75))\n",
    "\n",
    "for mu, ls in zip(mu_values, linestyles):\n",
    "    # create a poisson distribution\n",
    "    # we could generate a random sample from this distribution using, e.g.\n",
    "    #   rand = dist.rvs(1000)\n",
    "    dist = poisson(mu)\n",
    "    x = np.arange(-1, 200)\n",
    "\n",
    "    plt.plot(x, dist.pmf(x), ls=ls, color='black',\n",
    "             label=r'$\\mu=%i$' % mu, linestyle='steps-mid')\n",
    "\n",
    "plt.xlim(-0.5, 30)\n",
    "plt.ylim(0, 0.4)\n",
    "\n",
    "plt.xlabel('$x$')\n",
    "plt.ylabel(r'$p(x|\\mu)$')\n",
    "plt.title('Poisson Distribution')\n",
    "\n",
    "plt.legend()\n",
    "plt.show()\n"
   ]
  },
  {
   "cell_type": "markdown",
   "metadata": {},
   "source": [
    "# The Binomal Distribution"
   ]
  },
  {
   "cell_type": "markdown",
   "metadata": {},
   "source": [
    "<span style=\"font-size:2em\">    \n",
    "$$f(r;N,p)=\\frac{N!}{r!(N-r)!}p^{r}(1-p)^{n-r}$$"
   ]
  },
  {
   "cell_type": "markdown",
   "metadata": {},
   "source": [
    "# The Caucy, or Breit-weigner, or Lorentizian Distribution\n",
    "<span style=\"font-family: Cosmic Sans MS; font-size:2em\">"
   ]
  },
  {
   "cell_type": "markdown",
   "metadata": {},
   "source": [
    "<span style=\"font-size:2em\">     \n",
    "$$f(E;M,\\Gamma)=\\frac{1}{2\\pi}\\frac{\\Gamma}{(E-M)^2+(\\Gamma/2)^2}$$"
   ]
  },
  {
   "cell_type": "markdown",
   "metadata": {},
   "source": [
    "# The Landau Distribution\n"
   ]
  },
  {
   "cell_type": "markdown",
   "metadata": {},
   "source": [
    "<span style=\" font-size:2em\">\n",
    "$$f(\\lambda)=\\frac{1}{\\pi}\\int_{0}^{\\infty}e^{-u\\ln u -\\lambda u} \\sin(\\pi u) du$$\n",
    "</span>"
   ]
  },
  {
   "cell_type": "markdown",
   "metadata": {},
   "source": [
    "# The Negative Binomial Distribution"
   ]
  },
  {
   "cell_type": "markdown",
   "metadata": {},
   "source": [
    "<span style=\"font-size:2em\"> \n",
    "$$f(r; k, p)=\\frac{(k+r-1)!}{r!(k-1)!}q^kp^r$$"
   ]
  },
  {
   "cell_type": "markdown",
   "metadata": {},
   "source": [
    "# Gamma Distribution"
   ]
  },
  {
   "cell_type": "markdown",
   "metadata": {},
   "source": [
    "## Characterization using shape α and rate β"
   ]
  },
  {
   "cell_type": "markdown",
   "metadata": {
    "cell_style": "center"
   },
   "source": [
    "A random variable X that is gamma-distributed with shape α and rate β is denoted \n",
    "$X \\sim \\Gamma ( \\alpha , \\beta ) \\equiv \\operatorname { Gamma } ( \\alpha , \\beta )$\n",
    "\n",
    "The corresponding probability density function in the shape-rate parametrization is    \n",
    "$$\n",
    "f ( x ; \\alpha , \\beta ) = \\frac { \\beta ^ { \\alpha } x ^ { \\alpha - 1 } e ^ { - \\beta x } } { \\Gamma ( \\alpha ) } \\quad \\text { for } x > 0 \\text { and } \\alpha , \\beta > 0\n",
    "$$"
   ]
  },
  {
   "cell_type": "markdown",
   "metadata": {},
   "source": [
    "## Characterization using shape k and scale θ"
   ]
  },
  {
   "cell_type": "markdown",
   "metadata": {
    "cell_style": "center"
   },
   "source": [
    "A random variable X that is gamma-distributed with shape α and rate β is denoted \n",
    "$X \\sim \\Gamma ( k , \\theta ) \\equiv \\operatorname { Gamma } ( k , \\theta )$\n",
    "\n",
    "The corresponding probability density function in the shape-rate parametrization is    \n",
    "$$\n",
    "f ( x ; k , \\theta ) = \\frac { x ^ { k - 1 } e ^ { - \\frac { x } { \\theta } } } { \\theta ^ { k } \\Gamma ( k ) } \\quad \\text { for } x > 0 \\text { and } k , \\theta > 0\n",
    "$$\n"
   ]
  },
  {
   "cell_type": "markdown",
   "metadata": {
    "cell_style": "center"
   },
   "source": [
    "<img src=\"https://upload.wikimedia.org/wikipedia/commons/e/e6/Gamma_distribution_pdf.svg\" style=\"width: 50%; height: 50%\"/>"
   ]
  },
  {
   "cell_type": "code",
   "execution_count": 42,
   "metadata": {},
   "outputs": [
    {
     "data": {
      "image/png": "[encoded data removed]",
      "text/plain": [
       "<Figure size 432x288 with 1 Axes>"
      ]
     },
     "metadata": {
      "needs_background": "light"
     },
     "output_type": "display_data"
    }
   ],
   "source": [
    "import numpy as np\n",
    "import scipy.stats as stats \n",
    "from matplotlib import pyplot as plt\n",
    "\n",
    "\n",
    "font = {'family': 'serif',\n",
    "        'color':  'darkred',\n",
    "        'weight': 'normal',\n",
    "        'size': 16,\n",
    "        }\n",
    "\n",
    "x = np.linspace (0, 100, 200) \n",
    "y1 = stats.gamma.pdf(x, a=5, scale=1) # a = k, scale = 1/ theta\n",
    "y2 = stats.gamma.pdf(x, a=3, scale=0.5)\n",
    "y3 = stats.gamma.pdf(x, a=7.5, scale=1)\n",
    "\n",
    "plt.plot(x, y1, label=(r'$k=5, \\theta=1$')) \n",
    "plt.plot(x, y2, label=(r'$k=3, \\theta=2$')) \n",
    "plt.plot(x, y3, label=(r'$k=7.5, \\theta=1$'))\n",
    "\n",
    "plt.xlabel(\"x\",fontdict = font)\n",
    "plt.ylabel(\"pdf $f(x;α,β)$ \",fontdict = font)\n",
    "plt.legend()\n",
    "\n",
    "plt.ylim([0,0.5])\n",
    "plt.xlim([0,20])\n",
    "plt.show()"
   ]
  }
 ],
 "metadata": {
  "hide_input": false,
  "kernelspec": {
   "display_name": "Python 3",
   "language": "python",
   "name": "python3"
  },
  "language_info": {
   "codemirror_mode": {
    "name": "ipython",
    "version": 3
   },
   "file_extension": ".py",
   "mimetype": "text/x-python",
   "name": "python",
   "nbconvert_exporter": "python",
   "pygments_lexer": "ipython3",
   "version": "3.7.2"
  },
  "toc": {
   "base_numbering": 1,
   "nav_menu": {},
   "number_sections": true,
   "sideBar": true,
   "skip_h1_title": false,
   "title_cell": "Table of Contents",
   "title_sidebar": "Contents",
   "toc_cell": false,
   "toc_position": {},
   "toc_section_display": true,
   "toc_window_display": true
  },
  "varInspector": {
   "cols": {
    "lenName": 16,
    "lenType": 16,
    "lenVar": 40
   },
   "kernels_config": {
    "python": {
     "delete_cmd_postfix": "",
     "delete_cmd_prefix": "del ",
     "library": "var_list.py",
     "varRefreshCmd": "print(var_dic_list())"
    },
    "r": {
     "delete_cmd_postfix": ") ",
     "delete_cmd_prefix": "rm(",
     "library": "var_list.r",
     "varRefreshCmd": "cat(var_dic_list()) "
    }
   },
   "types_to_exclude": [
    "module",
    "function",
    "builtin_function_or_method",
    "instance",
    "_Feature"
   ],
   "window_display": false
  }
 },
 "nbformat": 4,
 "nbformat_minor": 2
}
