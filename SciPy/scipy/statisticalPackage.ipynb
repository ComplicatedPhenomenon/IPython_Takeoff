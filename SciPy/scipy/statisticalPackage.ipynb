{
 "cells": [
  {
   "cell_type": "markdown",
   "metadata": {},
   "source": [
    "2018-12-27 16:00:29 \n",
    "2019-04-28 20:27:46 \n",
    "2019-05-21 09:49:44 \n",
    "2019-05-29 10:14:16 \n",
    "2019-06-01 18:42:26 "
   ]
  },
  {
   "cell_type": "code",
   "execution_count": null,
   "metadata": {},
   "outputs": [],
   "source": [
    "#from IPython.core.interactiveshell import InteractiveShell\n",
    "#InteractiveShell.ast_node_interactivity = \"all\""
   ]
  },
  {
   "cell_type": "code",
   "execution_count": 1,
   "metadata": {},
   "outputs": [],
   "source": [
    "%matplotlib inline\n",
    "import matplotlib.pyplot as plt"
   ]
  },
  {
   "cell_type": "code",
   "execution_count": 2,
   "metadata": {},
   "outputs": [],
   "source": [
    "import plotly # (*) To communicate with Plotly's server, sign in with credentials file\n",
    "import plotly.plotly as py  # (*) Useful Python/Plotly tools\n",
    "import plotly.tools as tls   # (*) Graph objects to piece together plots\n",
    "from plotly.graph_objs import *"
   ]
  },
  {
   "cell_type": "code",
   "execution_count": null,
   "metadata": {},
   "outputs": [],
   "source": [
    "import plotly.graph_objs as go"
   ]
  },
  {
   "cell_type": "code",
   "execution_count": null,
   "metadata": {},
   "outputs": [],
   "source": [
    "import seaborn as sns"
   ]
  },
  {
   "cell_type": "code",
   "execution_count": null,
   "metadata": {},
   "outputs": [],
   "source": [
    "#from IPython.display import HTML"
   ]
  },
  {
   "cell_type": "code",
   "execution_count": null,
   "metadata": {},
   "outputs": [],
   "source": [
    "# Disable warning message\n",
    "#import warnings\n",
    "#warnings.filterwarnings('ignore')"
   ]
  },
  {
   "cell_type": "code",
   "execution_count": 3,
   "metadata": {},
   "outputs": [],
   "source": [
    "import numpy as np\n",
    "import pandas as pd"
   ]
  },
  {
   "cell_type": "code",
   "execution_count": 4,
   "metadata": {},
   "outputs": [],
   "source": [
    "import math\n",
    "import random"
   ]
  },
  {
   "cell_type": "code",
   "execution_count": 5,
   "metadata": {},
   "outputs": [],
   "source": [
    "import scipy\n",
    "from scipy import stats, integrate\n",
    "from scipy.integrate import quad\n",
    "from scipy.special import factorial\n",
    "from scipy.stats import poisson"
   ]
  },
  {
   "cell_type": "code",
   "execution_count": null,
   "metadata": {},
   "outputs": [],
   "source": [
    "dir(stats);"
   ]
  },
  {
   "cell_type": "code",
   "execution_count": null,
   "metadata": {},
   "outputs": [],
   "source": [
    "statsDF = pd.DataFrame(dir(stats))\n",
    "statsDF.columns\n",
    "statsDF.info()"
   ]
  },
  {
   "cell_type": "code",
   "execution_count": null,
   "metadata": {},
   "outputs": [],
   "source": [
    "statsDF[0][23]"
   ]
  },
  {
   "cell_type": "code",
   "execution_count": null,
   "metadata": {},
   "outputs": [],
   "source": [
    "dir(stats.distributions);"
   ]
  },
  {
   "cell_type": "code",
   "execution_count": null,
   "metadata": {},
   "outputs": [],
   "source": [
    "type(dir(stats.distributions))"
   ]
  },
  {
   "cell_type": "code",
   "execution_count": null,
   "metadata": {},
   "outputs": [],
   "source": [
    "type(stats.distributions)"
   ]
  },
  {
   "cell_type": "code",
   "execution_count": null,
   "metadata": {},
   "outputs": [],
   "source": [
    "#?stats.describe"
   ]
  },
  {
   "cell_type": "code",
   "execution_count": null,
   "metadata": {},
   "outputs": [],
   "source": [
    "stats.describe([1,2,4,6])"
   ]
  },
  {
   "cell_type": "code",
   "execution_count": null,
   "metadata": {},
   "outputs": [],
   "source": [
    "pd.DataFrame(dir(stats.distributions));"
   ]
  },
  {
   "cell_type": "markdown",
   "metadata": {},
   "source": [
    "# Compare examples with the source code"
   ]
  },
  {
   "cell_type": "markdown",
   "metadata": {},
   "source": [
    "## How to inspect the construction  of code as a user"
   ]
  },
  {
   "cell_type": "code",
   "execution_count": null,
   "metadata": {},
   "outputs": [],
   "source": [
    "\n",
    "type(poisson)"
   ]
  },
  {
   "cell_type": "markdown",
   "metadata": {},
   "source": [
    "# Frequent distributions"
   ]
  },
  {
   "cell_type": "code",
   "execution_count": null,
   "metadata": {},
   "outputs": [],
   "source": [
    "font = {'family': 'serif',\n",
    "        'color':  'darkred',\n",
    "        'weight': 'normal',\n",
    "        'size': 16,}"
   ]
  },
  {
   "cell_type": "markdown",
   "metadata": {},
   "source": [
    "## The Gauss Distribution"
   ]
  },
  {
   "cell_type": "markdown",
   "metadata": {},
   "source": [
    "<span style=\"font-family: New York Times; font-size:1em; color:green;\">\n",
    "https://www.mathsisfun.com/data/standard-normal-distribution.html"
   ]
  },
  {
   "cell_type": "markdown",
   "metadata": {},
   "source": [
    "<span style=\"font-family: Cosmic Sans MS; font-size:2em; color: #808000\">\n",
    "$$f(x;\\mu,\\sigma)=\\frac{1}{\\sqrt{2\\pi}\\sigma}e^{\\frac{-(x-\\mu)^2}{2\\sigma^2}}$$\n",
    "</span>\n",
    "\n",
    "The scipy.stats.norm usage https://blog.csdn.net/claroja/article/details/72830515"
   ]
  },
  {
   "cell_type": "code",
   "execution_count": null,
   "metadata": {},
   "outputs": [],
   "source": [
    "x = np.linspace(start=stats.norm.ppf(0.01),\n",
    "                stop=stats.norm.ppf(0.99), num=250)\n",
    "y = stats.norm.pdf(x)\n",
    "plt.plot(x, y)\n",
    "plt.show() "
   ]
  },
  {
   "cell_type": "code",
   "execution_count": null,
   "metadata": {},
   "outputs": [],
   "source": [
    "# An object representing the \"frozen\" analytical distribution\n",
    "# Defaults to the standard normal distribution, N~(0, 1)\n",
    "dist = stats.norm()\n",
    "\n",
    "# Draw random samples from the population you built above.\n",
    "# This is just a sample, so the mean and std. deviation should\n",
    "# be close to (1, 0).\n",
    "samp = dist.rvs(size=1000)\n",
    "\n",
    "# `ppf()`: percent point function (inverse of cdf — percentiles).\n",
    "x = np.linspace(start=stats.norm.ppf(0.01),\n",
    "                stop=stats.norm.ppf(0.99), num=250)\n",
    "gkde = stats.gaussian_kde(dataset=samp)\n",
    "\n",
    "# `gkde.evaluate()` estimates the PDF itself.\n",
    "fig, ax = plt.subplots()\n",
    "ax.plot(x, dist.pdf(x), linestyle='solid', c='red', lw=3,\n",
    "        alpha=0.8, label='Analytical (True) PDF')\n",
    "ax.plot(x, gkde.evaluate(x), linestyle='dashed', c='black', lw=2,\n",
    "        label='PDF Estimated via KDE')\n",
    "ax.legend(loc='best', frameon=False)\n",
    "ax.set_title('Analytical vs. Estimated PDF')\n",
    "ax.set_ylabel('Probability')\n",
    "ax.text(-2., 0.35, r'$f(x) = \\frac{\\exp(-x^2/2)}{\\sqrt{2*\\pi}}$',\n",
    "        fontsize=12)"
   ]
  },
  {
   "cell_type": "code",
   "execution_count": null,
   "metadata": {},
   "outputs": [],
   "source": [
    "# generate random numbersfrom N(0,1)\n",
    "data_normal = stats.norm.rvs(size=10000,loc=0,scale=1)\n",
    "ax = sns.distplot(data_normal,\n",
    "                  bins=100,\n",
    "                  kde=False,\n",
    "                  color='skyblue',\n",
    "                  hist_kws={\"linewidth\": 15,'alpha':1})\n",
    "ax.set(xlabel='Normal', ylabel='Frequency')"
   ]
  },
  {
   "cell_type": "markdown",
   "metadata": {},
   "source": [
    "### Plot the pdf  for Gauss distribution"
   ]
  },
  {
   "cell_type": "code",
   "execution_count": null,
   "metadata": {},
   "outputs": [],
   "source": [
    "x = np.linspace (0, 100, 11000) \n",
    "y1 = stats.norm.pdf(x, loc=1, scale=1) # loc代表了均值,scale代表标准差\n",
    "y2 = stats.norm.pdf(x, loc=2, scale=2)\n",
    "y3 = stats.norm.pdf(x, loc=0, scale=2)\n",
    "\n",
    "plt.plot(x, y1, label=(r'$\\mu=1, \\sigma= 1$')) \n",
    "plt.plot(x, y2, label=(r'$\\mu=2, \\sigma= 2$')) \n",
    "plt.plot(x, y3, label=(r'$\\mu=0, \\sigma= 2$'))\n",
    "\n",
    "plt.xlabel(\"x\",fontdict = font)\n",
    "plt.ylabel(\"pdf $f(x;\\mu,\\sigma)$ \",fontdict = font)\n",
    "plt.legend()\n",
    "\n",
    "plt.ylim([0,0.5])\n",
    "plt.xlim([0,12])\n",
    "plt.show()\n"
   ]
  },
  {
   "cell_type": "code",
   "execution_count": null,
   "metadata": {},
   "outputs": [],
   "source": [
    "?py.iplot"
   ]
  },
  {
   "cell_type": "code",
   "execution_count": null,
   "metadata": {},
   "outputs": [],
   "source": [
    "x = np.linspace (0, 100, 11000) \n",
    "y1 = stats.norm.pdf(x, loc=1, scale=1) # loc代表了均值,scale代表标准差\n",
    "y2 = stats.norm.pdf(x, loc=2, scale=2)\n",
    "y3 = stats.norm.pdf(x, loc=0, scale=2)\n",
    "\n",
    "\n",
    "trace1 = go.Scatter(x = x, y = y1)\n",
    "trace2 = go.Scatter(x = x, y = y2)\n",
    "trace3 = go.Scatter(x = x, y = y3) \n",
    "data=[trace1, trace2, trace3]\n",
    "layout = go.Layout(height = 550, width = 550, xaxis=dict(range=[0, 12], title = 'x'), \n",
    "                   yaxis=dict(range=[0, 0.5], title = 'pdf $f(x;\\mu,\\sigma)$'))\n",
    "figure=go.Figure(data=data,layout=layout)\n",
    "py.iplot(figure, filename='pyguide_1')"
   ]
  },
  {
   "cell_type": "markdown",
   "metadata": {},
   "source": [
    "### Simulate Gauss distribution"
   ]
  },
  {
   "cell_type": "code",
   "execution_count": null,
   "metadata": {},
   "outputs": [],
   "source": [
    "mean1 = 5 \n",
    "sd1 = 2\n",
    "# generate 3000 points which satisfy Gauss distribution\n",
    "c = np.random.normal(mean1, sd1, 30000) \n",
    "w1, x1, z1 = plt.hist(c, bins=100, density=True) \n",
    "plt.ylabel('Probability');"
   ]
  },
  {
   "cell_type": "code",
   "execution_count": null,
   "metadata": {},
   "outputs": [],
   "source": [
    "def f(x):\n",
    "    return 1/ math.sqrt(2* math.pi)* math.exp(- math.pow(x, 2)/2)"
   ]
  },
  {
   "cell_type": "code",
   "execution_count": null,
   "metadata": {},
   "outputs": [],
   "source": [
    "f = lambda x: 1/ math.sqrt(2* math.pi)* math.exp(- math.pow(x, 2)/2)"
   ]
  },
  {
   "cell_type": "code",
   "execution_count": null,
   "metadata": {},
   "outputs": [],
   "source": [
    "[f(i) for i in range(2)] "
   ]
  },
  {
   "cell_type": "code",
   "execution_count": null,
   "metadata": {},
   "outputs": [],
   "source": [
    "[f(i) for i in [1, 2]]"
   ]
  },
  {
   "cell_type": "code",
   "execution_count": null,
   "metadata": {},
   "outputs": [],
   "source": [
    "def evenlyDistributedPoints(lower_limit, upper_limit, num):\n",
    "    z = []\n",
    "    interval = (upper_limit - lower_limit)/num\n",
    "    for i in range(0, num+1):\n",
    "        a = lower_limit + interval*i  \n",
    "        z.append(a)\n",
    "    return z\n",
    "# the function is same as the np.linespace"
   ]
  },
  {
   "cell_type": "code",
   "execution_count": null,
   "metadata": {},
   "outputs": [],
   "source": [
    "evenlyDistributedPoints(1, 2, 10)"
   ]
  },
  {
   "cell_type": "code",
   "execution_count": null,
   "metadata": {},
   "outputs": [],
   "source": [
    "x  =  evenlyDistributedPoints(-4, 4, 400)\n",
    "y = [f(i) for i in x]\n",
    "plt.plot(x, y, label=r'$ \\frac{\\exp(-x^2/2)}{\\sqrt{2*\\pi}}$')\n",
    "plt.xlabel('x', fontdict=font)\n",
    "plt.ylabel(r'$f(x) = \\frac{\\exp(-x^2/2)}{\\sqrt{2*\\pi}}$', fontdict=font)\n",
    "plt.legend() \n",
    "plt.show()"
   ]
  },
  {
   "cell_type": "markdown",
   "metadata": {},
   "source": [
    "### Demo of the histogram (hist) function with a few features"
   ]
  },
  {
   "cell_type": "code",
   "execution_count": null,
   "metadata": {},
   "outputs": [],
   "source": [
    "np.random.seed(19680801)\n",
    "# example data\n",
    "mu = 100  # mean of distribution\n",
    "sigma = 15  # standard deviation of distribution\n",
    "x = mu + sigma * np.random.randn(437)\n",
    "\n",
    "num_bins = 50\n",
    "fig, ax = plt.subplots()\n",
    "\n",
    "# the histogram of the data\n",
    "n, bins, patches = ax.hist(x, num_bins, density=1)\n",
    "# add a 'best fit' line\n",
    "y = ((1 / (np.sqrt(2 * np.pi) * sigma)) *\n",
    "     np.exp(-0.5 * (1 / sigma * (bins - mu))**2))\n",
    "ax.plot(bins, y, '--')\n",
    "ax.set_xlabel('Smarts')\n",
    "ax.set_ylabel('Probability density')\n",
    "ax.set_title(r'Histogram of IQ: $\\mu=100$, $\\sigma=15$')\n",
    "\n",
    "# Tweak spacing to prevent clipping of ylabel\n",
    "fig.tight_layout()\n",
    "plt.show()"
   ]
  },
  {
   "cell_type": "code",
   "execution_count": null,
   "metadata": {},
   "outputs": [],
   "source": [
    "from scipy.integrate import quad\n",
    "import scipy.stats\n",
    "\n",
    "#----------------------------------------------------------------------------------------#\n",
    "# Normal Distribution\n",
    "\n",
    "x_min = 0.0\n",
    "x_max = 16.0\n",
    "\n",
    "mean = 8.0 \n",
    "std = 3.0\n",
    "\n",
    "x = np.linspace(x_min, x_max, 100)\n",
    "y = scipy.stats.norm.pdf(x,mean,std)\n",
    "plt.plot(x,y, color='black')\n",
    "\n",
    "#----------------------------------------------------------------------------------------#\n",
    "# integration between x1 and x1\n",
    "\n",
    "def normal_distribution_function(x):\n",
    "    value = scipy.stats.norm.pdf(x,mean,std)\n",
    "    return value\n",
    "\n",
    "x1 = mean + std\n",
    "x2 = mean + 2.0 * std\n",
    "res, err = quad(normal_distribution_function, x1, x2)\n",
    "\n",
    "print('Normal Distribution (mean,std):',mean,std)\n",
    "print('Integration bewteen {} and {} --> '.format(x1,x2),res)\n",
    "\n",
    "#----------------------------------------------------------------------------------------#\n",
    "# plot integration surface\n",
    "\n",
    "ptx = np.linspace(x1, x2, 10)\n",
    "pty = scipy.stats.norm.pdf(ptx,mean,std)\n",
    "plt.fill_between(ptx, pty, color='#0b559f', alpha='1.0')\n",
    "\n",
    "#----------------------------------------------------------------------------------------#\n",
    "\n",
    "plt.grid()\n",
    "\n",
    "plt.xlim(x_min,x_max)\n",
    "plt.ylim(0,0.25)\n",
    "plt.title('How to integrate a normal distribution in python?',fontdict = font)\n",
    "plt.xlabel('x')\n",
    "plt.ylabel('Normal Distribution')\n",
    "plt.savefig(\"integrate_normal_distribution.png\")\n",
    "plt.show()"
   ]
  },
  {
   "cell_type": "markdown",
   "metadata": {},
   "source": [
    "## The possion Distribution"
   ]
  },
  {
   "cell_type": "markdown",
   "metadata": {},
   "source": [
    "<span style=\"font-family: Cosmic Sans MS; font-size:2em; color: #808000\">\n",
    "$$f(n;\\nu)=\\frac{\\nu^n}{n!}e^{-\\nu}$$"
   ]
  },
  {
   "cell_type": "markdown",
   "metadata": {},
   "source": [
    "### Plot the pdf for Possion distribution"
   ]
  },
  {
   "cell_type": "code",
   "execution_count": null,
   "metadata": {},
   "outputs": [],
   "source": [
    "math.exp(2)\n",
    "np.math.factorial(0)\n",
    "np.exp(2)\n",
    "np.exp2(2)"
   ]
  },
  {
   "cell_type": "code",
   "execution_count": null,
   "metadata": {},
   "outputs": [],
   "source": [
    "def PossionDistribution(m,n):\n",
    "    formulaExpression = np.power(m,n)/np.math.factorial(n) * np.exp(-m)\n",
    "    return formulaExpression"
   ]
  },
  {
   "cell_type": "code",
   "execution_count": null,
   "metadata": {},
   "outputs": [],
   "source": [
    "PossionDistribution(1,1)"
   ]
  },
  {
   "cell_type": "code",
   "execution_count": null,
   "metadata": {},
   "outputs": [],
   "source": [
    "f = lambda m, n:  np.power(m,n)/np.math.factorial(n) * np.exp(-m)\n",
    "plt.figure(num=None, figsize=(10, 8), dpi=80, facecolor='w', edgecolor='k') \n",
    "x = range(6)\n",
    "y = [f(0.5, i) for i in x]\n",
    "plt.subplot(321)\n",
    "plt.plot(x, y, '.')\n",
    "#plt.show()\n",
    "\n",
    "y = [f(1, i) for i in x]\n",
    "plt.subplot(322)\n",
    "plt.plot(x, y, '.')\n",
    "\n",
    "y = [f(2.5, i) for i in x]\n",
    "plt.subplot(323)\n",
    "plt.plot(x, y, '.')\n",
    "\n",
    "\n",
    "x = range(11)\n",
    "y = [f(5, i) for i in x]\n",
    "plt.subplot(324)\n",
    "plt.plot(x, y, '.')\n",
    "\n",
    "plt.subplot(325)\n",
    "x = range(21)\n",
    "y = [f(10, i) for i in x]\n",
    "plt.plot(x, y, '.')\n",
    "\n",
    "plt.subplot(326)\n",
    "x = range(41)\n",
    "y = [f(25, i) for i in x]\n",
    "plt.plot(x, y, '.')\n",
    "plt.show()"
   ]
  },
  {
   "cell_type": "markdown",
   "metadata": {},
   "source": [
    "### Simulate Possion distribution"
   ]
  },
  {
   "cell_type": "code",
   "execution_count": null,
   "metadata": {},
   "outputs": [],
   "source": [
    "#?np.random.poisson"
   ]
  },
  {
   "cell_type": "code",
   "execution_count": null,
   "metadata": {},
   "outputs": [],
   "source": [
    "c = np.random.poisson(lam=(100, 500), size=(100, 2))\n",
    "w1, x1, z1 = plt.hist(c, bins=12, density=True) \n",
    "plt.ylabel('Probability');"
   ]
  },
  {
   "cell_type": "code",
   "execution_count": null,
   "metadata": {},
   "outputs": [],
   "source": [
    "?stats.poisson.rvs"
   ]
  },
  {
   "cell_type": "code",
   "execution_count": null,
   "metadata": {},
   "outputs": [],
   "source": [
    "data_normal = stats.poisson.rvs(mu=3, size=10000)\n",
    "ax = sns.distplot(data_normal,\n",
    "                  bins=100,\n",
    "                  kde=False,\n",
    "                  color='skyblue',\n",
    "                  hist_kws={\"linewidth\": 15,'alpha':1})\n",
    "ax.set(xlabel='Normal', ylabel='Frequency')"
   ]
  },
  {
   "cell_type": "markdown",
   "metadata": {},
   "source": [
    "## [The Binomal Distribution](https://en.wikipedia.org/wiki/Binomial_distribution)"
   ]
  },
  {
   "cell_type": "markdown",
   "metadata": {},
   "source": [
    "<span style=\"font-family: Cosmic Sans MS; font-size:2em; color: #808000\"> \n",
    "$$f(r;N,p)=\\frac{N!}{r!(N-r)!}p^{r}(1-p)^{n-r}$$"
   ]
  },
  {
   "cell_type": "markdown",
   "metadata": {},
   "source": [
    "### Plot the pdf for Binormal  distribution"
   ]
  },
  {
   "cell_type": "code",
   "execution_count": null,
   "metadata": {},
   "outputs": [],
   "source": [
    "#  returns a list of samples from a binomial distribution based on the inputted parameters \n",
    "np.random.binomial(100, 0.3, 5000)"
   ]
  },
  {
   "cell_type": "code",
   "execution_count": null,
   "metadata": {},
   "outputs": [],
   "source": [
    "bn = np.random.binomial(10, 0.1, 500)"
   ]
  },
  {
   "cell_type": "code",
   "execution_count": null,
   "metadata": {},
   "outputs": [],
   "source": [
    "plt.plot(bn)"
   ]
  },
  {
   "cell_type": "markdown",
   "metadata": {},
   "source": [
    "## The Landau Distribution\n"
   ]
  },
  {
   "cell_type": "markdown",
   "metadata": {},
   "source": [
    "<span style=\"font-family: Cosmic Sans MS; font-size:2em; color: #808000\">\n",
    "$$f(\\lambda)=\\frac{1}{\\pi}\\int_{0}^{\\infty}e^{-u\\ln u -\\lambda u} \\sin(\\pi u) du = \\int_{0}^{\\infty} g(\\lambda, u) du$$\n",
    "</span>"
   ]
  },
  {
   "cell_type": "code",
   "execution_count": null,
   "metadata": {},
   "outputs": [],
   "source": [
    "invexp = lambda x: np.exp(-x)\n",
    "integrate.quad(invexp, 0, np.inf) \n",
    "integrate.quad(lambda x: scipy.special.jv(2.5,x), 0, 4.5)"
   ]
  },
  {
   "cell_type": "code",
   "execution_count": null,
   "metadata": {},
   "outputs": [],
   "source": [
    "f = lambda l,u: 1/np.pi *np.exp(-u*np.log(u)-l*u)*np.sin(np.pi*u)"
   ]
  },
  {
   "cell_type": "code",
   "execution_count": null,
   "metadata": {},
   "outputs": [],
   "source": [
    "def zzz(llist):\n",
    "    x = []\n",
    "    for l in llist:\n",
    "        yy = integrate.quad(lambda u: f(l, u), 0, np.inf)[0] \n",
    "        x.append(yy)\n",
    "    return x "
   ]
  },
  {
   "cell_type": "code",
   "execution_count": null,
   "metadata": {},
   "outputs": [],
   "source": [
    "x = np.linspace(-2, 10, 100)\n",
    "y = zzz(x)\n",
    "plt.plot(x, y)\n",
    "plt.text(1.2, 0.15, r'$f(\\lambda)=\\frac{1}{\\pi}\\int_{0}^{\\infty}e^{-u\\ln u -\\lambda u} \\sin(\\pi u) du$', fontdict= font)\n",
    "plt.xlabel('$\\lambda$', fontdict= font)\n",
    "plt.ylabel('$f(\\lambda)$', fontdict= font)\n",
    "plt.show()"
   ]
  },
  {
   "cell_type": "markdown",
   "metadata": {},
   "source": [
    "## The Negative Binomial Distribution"
   ]
  },
  {
   "cell_type": "markdown",
   "metadata": {},
   "source": [
    "<span style=\"font-family: Cosmic Sans MS; font-size:2em; color: #808000\">\n",
    "$$f(r; k, p)=\\frac{(k+r-1)!}{r!(k-1)!}q^kp^r$$"
   ]
  },
  {
   "cell_type": "code",
   "execution_count": null,
   "metadata": {},
   "outputs": [],
   "source": [
    "import warnings\n",
    "warnings.filterwarnings('ignore')\n",
    "data_nbinom = stats.nbinom.rvs(10, 0.5, size=10000)\n",
    "ax = sns.distplot(data_nbinom,\n",
    "                  kde=False,\n",
    "                  color='skyblue',\n",
    "                  hist_kws={\"linewidth\": 15,'alpha':1})\n",
    "ax.set(xlabel='Negative Binomial', ylabel='Frequency')"
   ]
  },
  {
   "cell_type": "markdown",
   "metadata": {},
   "source": [
    "## Gamma Distribution"
   ]
  },
  {
   "cell_type": "markdown",
   "metadata": {},
   "source": [
    "### Characterization using shape α and rate β"
   ]
  },
  {
   "cell_type": "markdown",
   "metadata": {
    "cell_style": "center"
   },
   "source": [
    "A random variable X that is gamma-distributed with shape α and rate β is denoted \n",
    "$X \\sim \\Gamma ( \\alpha , \\beta ) \\equiv \\operatorname { Gamma } ( \\alpha , \\beta )$\n",
    "\n",
    "The corresponding probability density function in the shape-rate parametrization is    \n",
    "<span style=\"font-family: Cosmic Sans MS; font-size:2em; color: #808000\">\n",
    "$$\n",
    "f ( x ; \\alpha , \\beta ) = \\frac { \\beta ^ { \\alpha } x ^ { \\alpha - 1 } e ^ { - \\beta x } } { \\Gamma ( \\alpha ) } \\quad \\text { for } x > 0 \\text { and } \\alpha , \\beta > 0\n",
    "$$"
   ]
  },
  {
   "cell_type": "markdown",
   "metadata": {},
   "source": [
    "### Characterization using shape k and scale θ"
   ]
  },
  {
   "cell_type": "markdown",
   "metadata": {
    "cell_style": "center"
   },
   "source": [
    "A random variable X that is gamma-distributed with shape α and rate β is denoted \n",
    "$X \\sim \\Gamma ( k , \\theta ) \\equiv \\operatorname { Gamma } ( k , \\theta )$\n",
    "\n",
    "The corresponding probability density function in the shape-rate parametrization is   \n",
    "<span style=\"font-family: Cosmic Sans MS; font-size:2em; color: #808000\">\n",
    "$$\n",
    "f ( x ; k , \\theta ) = \\frac { x ^ { k - 1 } e ^ { - \\frac { x } { \\theta } } } { \\theta ^ { k } \\Gamma ( k ) } \\quad \\text { for } x > 0 \\text { and } k , \\theta > 0\n",
    "$$\n"
   ]
  },
  {
   "cell_type": "markdown",
   "metadata": {
    "cell_style": "center"
   },
   "source": [
    "<img src=\"https://upload.wikimedia.org/wikipedia/commons/e/e6/Gamma_distribution_pdf.svg\" style=\"width: 50%; height: 50%\"/>"
   ]
  },
  {
   "cell_type": "markdown",
   "metadata": {},
   "source": [
    "#### Self defined pdf "
   ]
  },
  {
   "cell_type": "code",
   "execution_count": null,
   "metadata": {},
   "outputs": [],
   "source": [
    "np.math.gamma(2)"
   ]
  },
  {
   "cell_type": "code",
   "execution_count": 6,
   "metadata": {},
   "outputs": [],
   "source": [
    "f = lambda x, k, m: np.power(x, k-1)*np.exp(-x/m)/(np.power(m, k)*np.math.gamma(k)) "
   ]
  },
  {
   "cell_type": "code",
   "execution_count": 7,
   "metadata": {},
   "outputs": [
    {
     "data": {
      "image/png": "[encoded data removed]",
      "text/plain": [
       "<Figure size 432x288 with 1 Axes>"
      ]
     },
     "metadata": {
      "needs_background": "light"
     },
     "output_type": "display_data"
    }
   ],
   "source": [
    "x = np.linspace(0.1, 21, 200)\n",
    "klist = [1, 2, 3, 5, 9, 7.5, 0.5]\n",
    "mlist = [2, 2, 2, 1, 0.5, 1, 1]\n",
    "\n",
    "for i in range(7): \n",
    "    y = [f(j, klist[i], mlist[i]) for j in x] \n",
    "    plt.plot(x, y, label=(r'k='+ str(klist[i]))+ r', $\\theta$='+str(mlist[i]))\n",
    "    plt.ylim(0, 0.5) \n",
    "plt.legend() \n",
    "plt.grid() \n",
    "plt.show() "
   ]
  },
  {
   "cell_type": "code",
   "execution_count": 9,
   "metadata": {},
   "outputs": [
    {
     "data": {
      "text/plain": [
       "[1, 2, 3, 4, 5, 6, 7]"
      ]
     },
     "execution_count": 9,
     "metadata": {},
     "output_type": "execute_result"
    }
   ],
   "source": [
    "blist = [ i for i in range(1,8)]\n",
    "blist"
   ]
  },
  {
   "cell_type": "code",
   "execution_count": null,
   "metadata": {},
   "outputs": [],
   "source": [
    "x = np.linspace(0.1, 21, 200)\n",
    "klist = [2, 3, 5, 7, 9, 7.5, 0.5]\n",
    "mlist = [2, 2, 2, 1, 0.5, 1, 1]\n",
    "\n",
    "for i in range(7): \n",
    "    y = [f(j, klist[i], mlist[i]) for j in x] \n",
    "    plt.plot(x, y, label=(r'k='+ str(klist[i]))+ r', $\\theta$='+str(mlist[i]))\n",
    "    plt.ylim(0, 0.5) \n",
    "mpl_fig1 = plt.gcf()\n",
    "py.iplot_mpl(mpl_fig1, filename='Gamma Distribution')"
   ]
  },
  {
   "cell_type": "markdown",
   "metadata": {},
   "source": [
    "#### Built in pdf"
   ]
  },
  {
   "cell_type": "code",
   "execution_count": null,
   "metadata": {},
   "outputs": [],
   "source": [
    "font = {'family': 'serif',\n",
    "        'color':  'darkred',\n",
    "        'weight': 'normal',\n",
    "        'size': 16,\n",
    "        }\n",
    "\n",
    "x = np.linspace (0.1, 21, 200) \n",
    "y1 = stats.gamma.pdf(x, a=5, scale=1) # a = k, scale = 1/ theta\n",
    "y2 = stats.gamma.pdf(x, a=3, scale=1)\n",
    "y3 = stats.gamma.pdf(x, a=7.5, scale=1)\n",
    "\n",
    "plt.plot(x, y1, label=(r'$k=5, \\theta=1$')) \n",
    "plt.plot(x, y2, label=(r'$k=3, \\theta=1$')) \n",
    "plt.plot(x, y3, label=(r'$k=7.5, \\theta=1$'))\n",
    "\n",
    "plt.xlabel(\"x\",fontdict = font)\n",
    "plt.ylabel(\"pdf f(x)\",fontdict = font)\n",
    "plt.legend()\n",
    "\n",
    "plt.ylim([0,0.3])\n",
    "plt.xlim([0,20])\n",
    "plt.show()"
   ]
  },
  {
   "cell_type": "markdown",
   "metadata": {},
   "source": [
    "# Reference\n",
    "* http://cmdlinetips.com/2018/03/probability-distributions-in-python/"
   ]
  }
 ],
 "metadata": {
  "hide_input": false,
  "kernelspec": {
   "display_name": "Python 3",
   "language": "python",
   "name": "python3"
  },
  "language_info": {
   "codemirror_mode": {
    "name": "ipython",
    "version": 3
   },
   "file_extension": ".py",
   "mimetype": "text/x-python",
   "name": "python",
   "nbconvert_exporter": "python",
   "pygments_lexer": "ipython3",
   "version": "3.7.2"
  },
  "toc": {
   "base_numbering": 1,
   "nav_menu": {},
   "number_sections": true,
   "sideBar": true,
   "skip_h1_title": false,
   "title_cell": "Table of Contents",
   "title_sidebar": "Contents",
   "toc_cell": false,
   "toc_position": {},
   "toc_section_display": true,
   "toc_window_display": true
  },
  "varInspector": {
   "cols": {
    "lenName": 16,
    "lenType": 16,
    "lenVar": 40
   },
   "kernels_config": {
    "python": {
     "delete_cmd_postfix": "",
     "delete_cmd_prefix": "del ",
     "library": "var_list.py",
     "varRefreshCmd": "print(var_dic_list())"
    },
    "r": {
     "delete_cmd_postfix": ") ",
     "delete_cmd_prefix": "rm(",
     "library": "var_list.r",
     "varRefreshCmd": "cat(var_dic_list()) "
    }
   },
   "types_to_exclude": [
    "module",
    "function",
    "builtin_function_or_method",
    "instance",
    "_Feature"
   ],
   "window_display": false
  }
 },
 "nbformat": 4,
 "nbformat_minor": 2
}
