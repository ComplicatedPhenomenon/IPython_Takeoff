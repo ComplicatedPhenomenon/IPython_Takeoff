{
 "cells": [
  {
   "cell_type": "code",
   "execution_count": null,
   "metadata": {
    "ExecuteTime": {
     "end_time": "2019-11-23T12:29:43.799712Z",
     "start_time": "2019-11-23T12:29:43.792670Z"
    }
   },
   "outputs": [],
   "source": [
    "from IPython.core.interactiveshell import InteractiveShell\n",
    "InteractiveShell.ast_node_interactivity = \"all\""
   ]
  },
  {
   "cell_type": "code",
   "execution_count": null,
   "metadata": {
    "ExecuteTime": {
     "end_time": "2019-11-23T12:29:45.216408Z",
     "start_time": "2019-11-23T12:29:44.900311Z"
    }
   },
   "outputs": [],
   "source": [
    "%matplotlib inline\n",
    "import matplotlib.pyplot as plt"
   ]
  },
  {
   "cell_type": "code",
   "execution_count": null,
   "metadata": {
    "ExecuteTime": {
     "end_time": "2019-11-23T12:29:47.163825Z",
     "start_time": "2019-11-23T12:29:46.421659Z"
    }
   },
   "outputs": [],
   "source": [
    "import plotly\n",
    "from plotly.offline import plot \n",
    "import chart_studio.plotly as py  \n",
    "import chart_studio.tools as tls   \n",
    "from plotly import graph_objs as go # https://stackoverflow.com/a/57112843/7583919"
   ]
  },
  {
   "cell_type": "code",
   "execution_count": null,
   "metadata": {
    "ExecuteTime": {
     "end_time": "2019-11-23T12:29:52.998851Z",
     "start_time": "2019-11-23T12:29:49.234390Z"
    }
   },
   "outputs": [],
   "source": [
    "import seaborn as sns"
   ]
  },
  {
   "cell_type": "code",
   "execution_count": null,
   "metadata": {
    "ExecuteTime": {
     "end_time": "2019-11-23T12:29:53.007619Z",
     "start_time": "2019-11-23T12:29:53.003382Z"
    }
   },
   "outputs": [],
   "source": [
    "# Disable warning message\n",
    "# import warnings\n",
    "# warnings.filterwarnings('ignore')"
   ]
  },
  {
   "cell_type": "code",
   "execution_count": null,
   "metadata": {
    "ExecuteTime": {
     "end_time": "2019-11-23T12:29:53.190835Z",
     "start_time": "2019-11-23T12:29:53.011540Z"
    }
   },
   "outputs": [],
   "source": [
    "import numpy as np\n",
    "import pandas as pd"
   ]
  },
  {
   "cell_type": "code",
   "execution_count": null,
   "metadata": {
    "ExecuteTime": {
     "end_time": "2019-11-23T12:29:53.356804Z",
     "start_time": "2019-11-23T12:29:53.194972Z"
    }
   },
   "outputs": [],
   "source": [
    "import math\n",
    "import random"
   ]
  },
  {
   "cell_type": "code",
   "execution_count": null,
   "metadata": {
    "ExecuteTime": {
     "end_time": "2019-11-23T12:29:53.481220Z",
     "start_time": "2019-11-23T12:29:53.359066Z"
    }
   },
   "outputs": [],
   "source": [
    "import scipy\n",
    "from scipy import stats, integrate\n",
    "from scipy.integrate import quad\n",
    "from scipy.special import factorial\n",
    "from scipy.stats import poisson"
   ]
  },
  {
   "cell_type": "code",
   "execution_count": null,
   "metadata": {
    "ExecuteTime": {
     "end_time": "2019-11-23T12:29:53.601500Z",
     "start_time": "2019-11-23T12:29:53.484275Z"
    }
   },
   "outputs": [],
   "source": [
    "plt.style.use('bmh')\n",
    "colors = ['#348ABD', '#A60628', '#7A68A6', '#467821', '#D55E00', \n",
    "          '#CC79A7', '#56B4E9', '#009E73', '#F0E442', '#0072B2']\n",
    "font = {'family': 'serif',\n",
    "        'color':  'darkred',\n",
    "        'weight': 'normal',\n",
    "        'size': 16}"
   ]
  },
  {
   "cell_type": "code",
   "execution_count": null,
   "metadata": {
    "ExecuteTime": {
     "end_time": "2019-11-23T12:29:54.495585Z",
     "start_time": "2019-11-23T12:29:54.226822Z"
    }
   },
   "outputs": [],
   "source": [
    "statsDF = pd.DataFrame(dir(stats))\n",
    "statsDF.columns\n",
    "statsDF.info()"
   ]
  },
  {
   "cell_type": "code",
   "execution_count": null,
   "metadata": {
    "ExecuteTime": {
     "end_time": "2019-11-23T12:29:56.117921Z",
     "start_time": "2019-11-23T12:29:56.098270Z"
    }
   },
   "outputs": [],
   "source": [
    "stats.describe([1,2,4,6])"
   ]
  },
  {
   "cell_type": "markdown",
   "metadata": {},
   "source": [
    "# Frequent distributions"
   ]
  },
  {
   "cell_type": "markdown",
   "metadata": {},
   "source": [
    "## The Gauss Distribution"
   ]
  },
  {
   "cell_type": "markdown",
   "metadata": {},
   "source": [
    "https://www.mathsisfun.com/data/standard-normal-distribution.html"
   ]
  },
  {
   "cell_type": "markdown",
   "metadata": {},
   "source": [
    "<span style=\"font-family: Cosmic Sans MS; font-size:2em; color: #467821\">\n",
    "$$f(x;\\mu,\\sigma)=\\frac{1}{\\sqrt{2\\pi}\\sigma}e^{\\frac{-(x-\\mu)^2}{2\\sigma^2}}$$\n",
    "</span>\n",
    "\n",
    "The scipy.stats.norm usage https://blog.csdn.net/claroja/article/details/72830515"
   ]
  },
  {
   "cell_type": "code",
   "execution_count": null,
   "metadata": {
    "ExecuteTime": {
     "end_time": "2019-11-23T12:30:01.890511Z",
     "start_time": "2019-11-23T12:30:01.358076Z"
    }
   },
   "outputs": [],
   "source": [
    "x = np.linspace(start=stats.norm.ppf(0.01),\n",
    "                stop=stats.norm.ppf(0.99), num=250)\n",
    "y = stats.norm.pdf(x)\n",
    "_ = plt.plot(x, y)\n",
    "plt.show() "
   ]
  },
  {
   "cell_type": "code",
   "execution_count": null,
   "metadata": {
    "ExecuteTime": {
     "end_time": "2019-11-23T12:30:03.062787Z",
     "start_time": "2019-11-23T12:30:02.089530Z"
    }
   },
   "outputs": [],
   "source": [
    "# An object representing the \"frozen\" analytical distribution\n",
    "# Defaults to the standard normal distribution, N~(0, 1)\n",
    "dist = stats.norm()\n",
    "\n",
    "# Draw random samples from the population you built above.\n",
    "# This is just a sample, so the mean and std. deviation should\n",
    "# be close to (1, 0).\n",
    "samp = dist.rvs(size=1000)\n",
    "\n",
    "# `ppf()`: percent point function (inverse of cdf — percentiles).\n",
    "x = np.linspace(start=stats.norm.ppf(0.01),\n",
    "                stop=stats.norm.ppf(0.99), num=250)\n",
    "gkde = stats.gaussian_kde(dataset=samp)\n",
    "\n",
    "# `gkde.evaluate()` estimates the PDF itself.\n",
    "fig, ax = plt.subplots()\n",
    "_ = ax.plot(x, dist.pdf(x), linestyle='solid', c='red', lw=3,\n",
    "        alpha=0.8, label='Analytical (True) PDF')\n",
    "_ = ax.plot(x, gkde.evaluate(x), linestyle='dashed', c='black', lw=2,\n",
    "        label='PDF Estimated via KDE')\n",
    "_ = ax.legend(loc='best', frameon=False)\n",
    "_ = ax.set_title('Analytical vs. Estimated PDF')\n",
    "_ = ax.set_ylabel('Probability')\n",
    "_ = ax.text(-2., 0.35, r'$f(x) = \\frac{\\exp(-x^2/2)}{\\sqrt{2*\\pi}}$',\n",
    "        fontsize=12)"
   ]
  },
  {
   "cell_type": "code",
   "execution_count": null,
   "metadata": {
    "ExecuteTime": {
     "end_time": "2019-11-23T12:30:06.256883Z",
     "start_time": "2019-11-23T12:30:05.719205Z"
    }
   },
   "outputs": [],
   "source": [
    "# generate random numbersfrom N(0,1)\n",
    "data_normal = stats.norm.rvs(size=10000,loc=0,scale=1)\n",
    "ax = sns.distplot(data_normal,\n",
    "                  bins=100,\n",
    "                  kde=False,\n",
    "                  color='skyblue',\n",
    "                  hist_kws={\"linewidth\": 15,'alpha':1})\n",
    "_ = ax.set(xlabel='Normal', ylabel='Frequency')"
   ]
  },
  {
   "cell_type": "markdown",
   "metadata": {},
   "source": [
    "### Plot the pdf  for Gauss distribution"
   ]
  },
  {
   "cell_type": "code",
   "execution_count": null,
   "metadata": {
    "ExecuteTime": {
     "end_time": "2019-11-23T12:30:09.013277Z",
     "start_time": "2019-11-23T12:30:08.201763Z"
    }
   },
   "outputs": [],
   "source": [
    "x = np.linspace (0, 100, 11000) \n",
    "y1 = stats.norm.pdf(x, loc=1, scale=1) # loc代表了均值,scale代表标准差\n",
    "y2 = stats.norm.pdf(x, loc=2, scale=2)\n",
    "y3 = stats.norm.pdf(x, loc=0, scale=2)\n",
    "\n",
    "_ = plt.plot(x, y1, label=(r'$\\mu=1, \\sigma= 1$')) \n",
    "_ = plt.plot(x, y2, label=(r'$\\mu=2, \\sigma= 2$')) \n",
    "_ = plt.plot(x, y3, label=(r'$\\mu=0, \\sigma= 2$'))\n",
    "\n",
    "_ = plt.xlabel(\"x\",fontdict = font)\n",
    "_ = plt.ylabel(\"pdf $f(x;\\mu,\\sigma)$ \",fontdict = font)\n",
    "_ = plt.legend()\n",
    "\n",
    "_ = plt.ylim([0,0.5])\n",
    "_ = plt.xlim([0,12])\n",
    "_ = plt.show()"
   ]
  },
  {
   "cell_type": "code",
   "execution_count": null,
   "metadata": {
    "ExecuteTime": {
     "end_time": "2019-11-23T12:33:47.816745Z",
     "start_time": "2019-11-23T12:32:54.748261Z"
    }
   },
   "outputs": [],
   "source": [
    "x = np.linspace (0, 100, 11000) \n",
    "y1 = stats.norm.pdf(x, loc=1, scale=1) # loc代表了均值,scale代表标准差\n",
    "y2 = stats.norm.pdf(x, loc=2, scale=2)\n",
    "y3 = stats.norm.pdf(x, loc=0, scale=2)\n",
    "\n",
    "\n",
    "trace1 = go.Scatter(x = x, y = y1)\n",
    "trace2 = go.Scatter(x = x, y = y2)\n",
    "trace3 = go.Scatter(x = x, y = y3) \n",
    "data=[trace1, trace2, trace3]\n",
    "layout = go.Layout(height = 550, width = 550, xaxis=dict(range=[0, 12], title = 'x'), \n",
    "                   yaxis=dict(range=[0, 0.5], title = 'pdf $f(x;\\mu,\\sigma)$'))\n",
    "figure=go.Figure(data=data,layout=layout)\n",
    "py.iplot(figure, filename='pyguide_1')"
   ]
  },
  {
   "cell_type": "markdown",
   "metadata": {},
   "source": [
    "### Simulate Gauss distribution"
   ]
  },
  {
   "cell_type": "code",
   "execution_count": null,
   "metadata": {
    "ExecuteTime": {
     "end_time": "2019-11-23T12:34:28.203677Z",
     "start_time": "2019-11-23T12:34:27.741670Z"
    }
   },
   "outputs": [],
   "source": [
    "mean1 = 5 \n",
    "sd1 = 2\n",
    "c = np.random.normal(mean1, sd1, 30000) \n",
    "w1, x1, z1 = plt.hist(c, bins=100, density=True) \n",
    "plt.ylabel('Probability');"
   ]
  },
  {
   "cell_type": "code",
   "execution_count": null,
   "metadata": {
    "ExecuteTime": {
     "end_time": "2019-11-23T12:43:24.589463Z",
     "start_time": "2019-11-23T12:43:24.051878Z"
    }
   },
   "outputs": [],
   "source": [
    "f = lambda x: 1 / math.sqrt(2 * math.pi) * math.exp(-math.pow(x, 2) / 2)\n",
    "\n",
    "\n",
    "def evenlyDistributedPoints(lower_limit, upper_limit, num):\n",
    "    z = []\n",
    "    interval = (upper_limit - lower_limit) / num\n",
    "    for i in range(0, num + 1):\n",
    "        a = lower_limit + interval * i\n",
    "        z.append(a)\n",
    "    return z\n",
    "\n",
    "\n",
    "# the function is same as the np.linespace\n",
    "x = evenlyDistributedPoints(-4, 4, int(1e5))\n",
    "y = [f(i) for i in x]\n",
    "_ = plt.plot(x, y, label=r'$ \\frac{\\exp(-x^2/2)}{\\sqrt{2*\\pi}}$')\n",
    "_ = plt.xlabel('x', fontdict=font)\n",
    "_ = plt.ylabel(r'$f(x) = \\frac{\\exp(-x^2/2)}{\\sqrt{2*\\pi}}$', fontdict=font)\n",
    "_ = plt.legend()"
   ]
  },
  {
   "cell_type": "code",
   "execution_count": null,
   "metadata": {
    "ExecuteTime": {
     "end_time": "2019-11-23T12:42:06.042939Z",
     "start_time": "2019-11-23T12:42:05.619156Z"
    }
   },
   "outputs": [],
   "source": [
    "f = lambda x: 1 / np.sqrt(2 * math.pi) * np.exp(-np.power(x, 2) / 2)\n",
    "\n",
    "x = np.linspace(-4, 4, 1e5)\n",
    "y = f(x)\n",
    "_ = plt.plot(x, y, label=r'$ \\frac{\\exp(-x^2/2)}{\\sqrt{2*\\pi}}$')\n",
    "_ = plt.xlabel('x', fontdict=font)\n",
    "_ = plt.ylabel(r'$f(x) = \\frac{\\exp(-x^2/2)}{\\sqrt{2*\\pi}}$', fontdict=font)\n",
    "_ = plt.legend()"
   ]
  },
  {
   "cell_type": "markdown",
   "metadata": {},
   "source": [
    "### Demo of the histogram (hist) function with a few features"
   ]
  },
  {
   "cell_type": "code",
   "execution_count": null,
   "metadata": {
    "ExecuteTime": {
     "end_time": "2019-11-23T13:13:57.719421Z",
     "start_time": "2019-11-23T13:13:57.365413Z"
    }
   },
   "outputs": [],
   "source": [
    "np.random.seed(19680801)\n",
    "# example data\n",
    "mu = 100  # mean of distribution\n",
    "sigma = 15  # standard deviation of distribution\n",
    "x = mu + sigma * np.random.randn(437)\n",
    "\n",
    "num_bins = 50\n",
    "fig, ax = plt.subplots()\n",
    "\n",
    "# the histogram of the data\n",
    "n, bins, patches = ax.hist(x, num_bins, density=1)\n",
    "# add a 'best fit' line\n",
    "y = ((1 / (np.sqrt(2 * np.pi) * sigma)) *\n",
    "     np.exp(-0.5 * (1 / sigma * (bins - mu))**2))\n",
    "_ = ax.plot(bins, y, '--')\n",
    "_ = ax.set_xlabel('Smarts')\n",
    "_ = ax.set_ylabel('Probability density')\n",
    "_ = ax.set_title(r'Histogram of IQ: $\\mu=100$, $\\sigma=15$')\n",
    "\n",
    "# Tweak spacing to prevent clipping of ylabel\n",
    "fig.tight_layout()\n",
    "plt.show()"
   ]
  },
  {
   "cell_type": "code",
   "execution_count": null,
   "metadata": {
    "ExecuteTime": {
     "end_time": "2019-11-23T13:14:02.178779Z",
     "start_time": "2019-11-23T13:14:01.690320Z"
    }
   },
   "outputs": [],
   "source": [
    "from scipy.integrate import quad\n",
    "import scipy.stats\n",
    "\n",
    "#----------------------------------------------------------------------------------------#\n",
    "# Normal Distribution\n",
    "\n",
    "x_min = 0.0\n",
    "x_max = 16.0\n",
    "\n",
    "mean = 8.0 \n",
    "std = 3.0\n",
    "\n",
    "x = np.linspace(x_min, x_max, 100)\n",
    "y = scipy.stats.norm.pdf(x,mean,std)\n",
    "_ = plt.plot(x,y, color='black')\n",
    "\n",
    "#----------------------------------------------------------------------------------------#\n",
    "# integration between x1 and x1\n",
    "\n",
    "def normal_distribution_function(x):\n",
    "    value = scipy.stats.norm.pdf(x,mean,std)\n",
    "    return value\n",
    "\n",
    "x1 = mean + std\n",
    "x2 = mean + 2.0 * std\n",
    "res, err = quad(normal_distribution_function, x1, x2)\n",
    "\n",
    "print('Normal Distribution (mean,std):',mean,std)\n",
    "print('Integration bewteen {} and {} --> '.format(x1,x2),res)\n",
    "\n",
    "#----------------------------------------------------------------------------------------#\n",
    "# plot integration surface\n",
    "\n",
    "ptx = np.linspace(x1, x2, 10)\n",
    "pty = scipy.stats.norm.pdf(ptx,mean,std)\n",
    "_ = plt.fill_between(ptx, pty, color='#0b559f', alpha='1.0')\n",
    "\n",
    "#----------------------------------------------------------------------------------------#\n",
    "\n",
    "_ = plt.grid()\n",
    "\n",
    "_ = plt.xlim(x_min,x_max)\n",
    "_ = plt.ylim(0,0.25)\n",
    "_ = plt.title('How to integrate a normal distribution in python?',fontdict = font)\n",
    "_ = plt.xlabel('x')\n",
    "_ = plt.ylabel('Normal Distribution')\n",
    "_ = plt.savefig(\"integrate_normal_distribution.png\")\n",
    "_ = plt.show()"
   ]
  },
  {
   "cell_type": "markdown",
   "metadata": {},
   "source": [
    "## The possion Distribution"
   ]
  },
  {
   "cell_type": "markdown",
   "metadata": {},
   "source": [
    "<span style=\"font-family: Cosmic Sans MS; font-size:2em; color: #348ABD'\">\n",
    "$$f(n;\\nu)=\\frac{\\nu^n}{n!}e^{-\\nu}$$"
   ]
  },
  {
   "cell_type": "code",
   "execution_count": null,
   "metadata": {
    "ExecuteTime": {
     "end_time": "2019-11-23T12:43:49.607871Z",
     "start_time": "2019-11-23T12:43:48.495241Z"
    }
   },
   "outputs": [],
   "source": [
    "fig = plt.figure(figsize=(11,3))\n",
    "ax = fig.add_subplot(111)\n",
    "x_lim = 60\n",
    "mu = [5, 20, 40]\n",
    "for i in np.arange(x_lim): \n",
    "    _ = plt.bar(i, stats.poisson.pmf(mu[0], i), color=colors[3])\n",
    "    _ = plt.bar(i, stats.poisson.pmf(mu[1], i), color=colors[4])\n",
    "    _ = plt.bar(i, stats.poisson.pmf(mu[2], i), color=colors[5])\n",
    "    \n",
    "_ = ax.set_xlim(0, x_lim)\n",
    "_ = ax.set_ylim(0, 0.2)\n",
    "_ = ax.set_ylabel('Probability mass')\n",
    "_ = ax.set_title('Poisson distribution')\n",
    "_ = plt.legend(['$\\mu$ = %s' % mu[0], '$\\mu$ = %s' % mu[1], '$\\mu$ = %s' % mu[2]])"
   ]
  },
  {
   "cell_type": "code",
   "execution_count": null,
   "metadata": {
    "ExecuteTime": {
     "end_time": "2019-11-23T12:43:50.111075Z",
     "start_time": "2019-11-23T12:43:49.610429Z"
    }
   },
   "outputs": [],
   "source": [
    "for i in np.arange(x_lim): \n",
    "    _ = plt.bar(i, stats.poisson.pmf(50, i), color=colors[0])\n",
    "_ = ax.set_xlim(20, 80)\n",
    "_ = ax.set_ylabel('Probability mass')"
   ]
  },
  {
   "cell_type": "code",
   "execution_count": null,
   "metadata": {
    "ExecuteTime": {
     "end_time": "2019-11-23T12:43:53.863993Z",
     "start_time": "2019-11-23T12:43:51.611607Z"
    }
   },
   "outputs": [],
   "source": [
    "fig = plt.figure(figsize=(10,5))\n",
    "_ = fig.add_subplot(211)\n",
    "x_lim = 70\n",
    "mu = [15, 40]\n",
    "for i in np.arange(x_lim):\n",
    "    _ = plt.bar(i, stats.poisson.pmf(mu[0], i), color=colors[3])\n",
    "    _ = plt.bar(i, stats.poisson.pmf(mu[1], i), color=colors[4])\n",
    "    \n",
    "_ = plt.xlim(1, x_lim)\n",
    "_ = plt.xlabel('Response time in seconds')\n",
    "_ = plt.ylabel('Probability mass')\n",
    "_ = plt.title('Poisson distribution')\n",
    "_ = plt.legend(['$\\lambda$ = %s' % mu[0],\n",
    "                '$\\lambda$ = %s' % mu[1]])\n",
    "\n",
    "# Scipy takes parameters n & p, not mu & alpha\n",
    "def get_n(mu, alpha):\n",
    "    return 1. / alpha * mu\n",
    "\n",
    "def get_p(mu, alpha):\n",
    "    return get_n(mu, alpha) / (get_n(mu, alpha) + mu)\n",
    "\n",
    "_ = fig.add_subplot(212)\n",
    "\n",
    "a = [2, 4]\n",
    "\n",
    "for i in np.arange(x_lim):\n",
    "    _ = plt.bar(i, stats.nbinom.pmf(i, n=get_n(mu[0], a[0]), p=get_p(mu[0], a[0])), color=colors[3])\n",
    "    _ = plt.bar(i, stats.nbinom.pmf(i, n=get_n(mu[1], a[1]), p=get_p(mu[1], a[1])), color=colors[4])\n",
    "\n",
    "_ = plt.xlabel('Response time in seconds')\n",
    "_ = plt.ylabel('Probability mass')\n",
    "_ = plt.title('Negative Binomial distribution')\n",
    "_ = plt.legend(['$\\\\mu = %s, \\/ \\\\beta = %s$' % (mu[0], a[0]),\n",
    "                '$\\\\mu = %s, \\/ \\\\beta = %s$' % (mu[1], a[1])])\n",
    "\n",
    "plt.tight_layout()"
   ]
  },
  {
   "cell_type": "markdown",
   "metadata": {},
   "source": [
    "### Plot the pdf for Possion distribution"
   ]
  },
  {
   "cell_type": "code",
   "execution_count": null,
   "metadata": {
    "ExecuteTime": {
     "end_time": "2019-11-23T13:14:20.946278Z",
     "start_time": "2019-11-23T13:14:20.926469Z"
    }
   },
   "outputs": [],
   "source": [
    "math.exp(2)\n",
    "np.math.factorial(0)\n",
    "np.exp(2)\n",
    "np.exp2(2)"
   ]
  },
  {
   "cell_type": "code",
   "execution_count": null,
   "metadata": {
    "ExecuteTime": {
     "end_time": "2019-11-23T13:14:21.615966Z",
     "start_time": "2019-11-23T13:14:21.611738Z"
    }
   },
   "outputs": [],
   "source": [
    "def PossionDistribution(m, n):\n",
    "    formulaExpression = np.power(m, n) / np.math.factorial(n) * np.exp(-m)\n",
    "    return formulaExpression"
   ]
  },
  {
   "cell_type": "code",
   "execution_count": null,
   "metadata": {
    "ExecuteTime": {
     "end_time": "2019-11-23T13:14:23.376175Z",
     "start_time": "2019-11-23T13:14:23.370722Z"
    }
   },
   "outputs": [],
   "source": [
    "PossionDistribution(1,1)"
   ]
  },
  {
   "cell_type": "code",
   "execution_count": null,
   "metadata": {
    "ExecuteTime": {
     "end_time": "2019-11-23T13:14:25.670645Z",
     "start_time": "2019-11-23T13:14:24.803588Z"
    },
    "scrolled": true
   },
   "outputs": [],
   "source": [
    "f = lambda m, n: np.power(m, n) / np.math.factorial(n) * np.exp(-m)\n",
    "f = np.vectorize(f)\n",
    "\n",
    "_ = plt.figure(num=None, figsize=(10, 8), dpi=80, facecolor='w', edgecolor='k')\n",
    "x = np.arange(6)\n",
    "y = f(0.5, x)\n",
    "_ = plt.subplot(321)\n",
    "_ = plt.plot(x, y, '.')\n",
    "\n",
    "y = f(1, x)\n",
    "_ = plt.subplot(322)\n",
    "_ = plt.plot(x, y, '.')\n",
    "\n",
    "y = f(2.5, x)\n",
    "_ = plt.subplot(323)\n",
    "_ = plt.plot(x, y, '.')\n",
    "\n",
    "x = np.arange(11)\n",
    "y = f(5, x)\n",
    "_ = plt.subplot(324)\n",
    "_ = plt.plot(x, y, '.')\n",
    "\n",
    "_ = plt.subplot(325)\n",
    "x = np.arange(21)\n",
    "y = f(10, x)\n",
    "_ = plt.plot(x, y, '.')\n",
    "\n",
    "_ = plt.subplot(326)\n",
    "x = np.arange(41)\n",
    "y = f(25, x)\n",
    "_ = plt.plot(x, y, '.')\n",
    "_ = plt.show()"
   ]
  },
  {
   "cell_type": "markdown",
   "metadata": {},
   "source": [
    "### Simulate Possion distribution"
   ]
  },
  {
   "cell_type": "code",
   "execution_count": null,
   "metadata": {},
   "outputs": [],
   "source": [
    "c = np.random.poisson(lam=(100, 500), size=(100, 2))\n",
    "w1, x1, z1 = plt.hist(c, bins=12, density=True) \n",
    "_ = plt.ylabel('Probability');"
   ]
  },
  {
   "cell_type": "code",
   "execution_count": null,
   "metadata": {},
   "outputs": [],
   "source": [
    "data_normal = stats.poisson.rvs(mu=3, size=10000)\n",
    "ax = sns.distplot(data_normal,\n",
    "                  bins=100,\n",
    "                  kde=False,\n",
    "                  color='skyblue',\n",
    "                  hist_kws={\"linewidth\": 15,'alpha':1})\n",
    "_ = ax.set(xlabel='Normal', ylabel='Frequency')"
   ]
  },
  {
   "cell_type": "markdown",
   "metadata": {},
   "source": [
    "## [The Binomal Distribution](https://en.wikipedia.org/wiki/Binomial_distribution)"
   ]
  },
  {
   "cell_type": "markdown",
   "metadata": {},
   "source": [
    "<span style=\"font-family: Cosmic Sans MS; font-size:2em; color: #009E73\"> \n",
    "$$f(r;N,p)=\\frac{N!}{r!(N-r)!}p^{r}(1-p)^{n-r}$$"
   ]
  },
  {
   "cell_type": "markdown",
   "metadata": {},
   "source": [
    "### Plot the pdf for Binormal  distribution"
   ]
  },
  {
   "cell_type": "code",
   "execution_count": null,
   "metadata": {},
   "outputs": [],
   "source": [
    "#  returns a list of samples from a binomial distribution based on the inputted parameters \n",
    "bn = np.random.binomial(10, 0.1, 500)\n",
    "_ = plt.plot(bn)"
   ]
  },
  {
   "cell_type": "markdown",
   "metadata": {},
   "source": [
    "## The Negative Binomial Distribution"
   ]
  },
  {
   "cell_type": "markdown",
   "metadata": {},
   "source": [
    "<span style=\"font-family: Cosmic Sans MS; font-size:2em; color: #009E73\">\n",
    "$$f(r; k, p)=\\frac{(k+r-1)!}{r!(k-1)!}q^kp^r$$"
   ]
  },
  {
   "cell_type": "code",
   "execution_count": null,
   "metadata": {},
   "outputs": [],
   "source": [
    "import warnings\n",
    "warnings.filterwarnings('ignore')\n",
    "data_nbinom = stats.nbinom.rvs(10, 0.5, size=10000)\n",
    "ax = sns.distplot(data_nbinom,\n",
    "                  kde=False,\n",
    "                  color='skyblue',\n",
    "                  hist_kws={\"linewidth\": 15,'alpha':1})\n",
    "_ = ax.set(xlabel='Negative Binomial', ylabel='Frequency')"
   ]
  },
  {
   "cell_type": "markdown",
   "metadata": {},
   "source": [
    "## The Landau Distribution\n"
   ]
  },
  {
   "cell_type": "markdown",
   "metadata": {},
   "source": [
    "<span style=\"font-family: Cosmic Sans MS; font-size:2em; color: #009E73\">\n",
    "$$f(\\lambda)=\\frac{1}{\\pi}\\int_{0}^{\\infty}e^{-u\\ln u -\\lambda u} \\sin(\\pi u) du = \\int_{0}^{\\infty} g(\\lambda, u) du$$\n",
    "</span>"
   ]
  },
  {
   "cell_type": "code",
   "execution_count": null,
   "metadata": {
    "ExecuteTime": {
     "end_time": "2019-11-23T12:48:20.492904Z",
     "start_time": "2019-11-23T12:48:20.386677Z"
    }
   },
   "outputs": [],
   "source": [
    "invexp = lambda x: np.exp(-x)\n",
    "integrate.quad(invexp, 0, np.inf) \n",
    "integrate.quad(lambda x: scipy.special.jv(2.5,x), 0, 4.5)"
   ]
  },
  {
   "cell_type": "code",
   "execution_count": null,
   "metadata": {
    "ExecuteTime": {
     "end_time": "2019-11-23T12:48:21.230569Z",
     "start_time": "2019-11-23T12:48:21.220541Z"
    }
   },
   "outputs": [],
   "source": [
    "f = lambda l,u: 1/np.pi *np.exp(-u*np.log(u)-l*u)*np.sin(np.pi*u)\n",
    "def zzz(llist):\n",
    "    x = []\n",
    "    for l in llist:\n",
    "        yy = integrate.quad(lambda u: f(l, u), 0, np.inf)[0] \n",
    "        x.append(yy)\n",
    "    return x "
   ]
  },
  {
   "cell_type": "code",
   "execution_count": null,
   "metadata": {
    "ExecuteTime": {
     "end_time": "2019-11-23T12:48:24.548370Z",
     "start_time": "2019-11-23T12:48:24.153915Z"
    }
   },
   "outputs": [],
   "source": [
    "x = np.linspace(-2, 10, 100)\n",
    "y = zzz(x)\n",
    "_ = plt.plot(x, y)\n",
    "_ = plt.text(1.2, 0.15, r'$f(\\lambda)=\\frac{1}{\\pi}\\int_{0}^{\\infty}e^{-u\\ln u -\\lambda u} \\sin(\\pi u) du$', fontdict= font)\n",
    "_ = plt.xlabel('$\\lambda$', fontdict= font)\n",
    "_ = plt.ylabel('$f(\\lambda)$', fontdict= font)"
   ]
  },
  {
   "cell_type": "markdown",
   "metadata": {},
   "source": [
    "## Gamma Distribution"
   ]
  },
  {
   "cell_type": "markdown",
   "metadata": {},
   "source": [
    "### Characterization using shape α and rate β"
   ]
  },
  {
   "cell_type": "markdown",
   "metadata": {
    "cell_style": "center"
   },
   "source": [
    "A random variable X that is gamma-distributed with shape α and rate β is denoted \n",
    "$X \\sim \\Gamma ( \\alpha , \\beta ) \\equiv \\operatorname { Gamma } ( \\alpha , \\beta )$\n",
    "\n",
    "The corresponding probability density function in the shape-rate parametrization is  \n",
    "\n",
    "<span style=\"font-family: Cosmic Sans MS; font-size:2em; color: #009E73\">\n",
    "$$\n",
    "f ( x ; \\alpha , \\beta ) = \\frac { \\beta ^ { \\alpha } x ^ { \\alpha - 1 } e ^ { - \\beta x } } { \\Gamma ( \\alpha ) } \\quad \\text { for } x > 0 \\text { and } \\alpha , \\beta > 0\n",
    "$$"
   ]
  },
  {
   "cell_type": "markdown",
   "metadata": {},
   "source": [
    "### Characterization using shape k and scale θ"
   ]
  },
  {
   "cell_type": "markdown",
   "metadata": {
    "cell_style": "center"
   },
   "source": [
    "A random variable X that is gamma-distributed with shape α and rate β is denoted \n",
    "$X \\sim \\Gamma ( k , \\theta ) \\equiv \\operatorname { Gamma } ( k , \\theta )$\n",
    "\n",
    "The corresponding probability density function in the shape-rate parametrization is   \n",
    "<span style=\"font-family: Cosmic Sans MS; font-size:2em; color: #009E73\">\n",
    "$$\n",
    "f ( x ; k , \\theta ) = \\frac { x ^ { k - 1 } e ^ { - \\frac { x } { \\theta } } } { \\theta ^ { k } \\Gamma ( k ) } \\quad \\text { for } x > 0 \\text { and } k , \\theta > 0\n",
    "$$\n"
   ]
  },
  {
   "cell_type": "markdown",
   "metadata": {
    "cell_style": "center"
   },
   "source": [
    "<img src=\"https://upload.wikimedia.org/wikipedia/commons/e/e6/Gamma_distribution_pdf.svg\" style=\"width: 50%; height: 50%\"/>"
   ]
  },
  {
   "cell_type": "markdown",
   "metadata": {},
   "source": [
    "#### Self defined pdf "
   ]
  },
  {
   "cell_type": "code",
   "execution_count": null,
   "metadata": {
    "ExecuteTime": {
     "end_time": "2019-11-23T12:08:06.480487Z",
     "start_time": "2019-11-23T12:08:04.715307Z"
    }
   },
   "outputs": [],
   "source": [
    "f = lambda x, k, m: np.power(x, k-1)*np.exp(-x/m)/(np.power(m, k)*np.math.gamma(k)) \n",
    "x = np.linspace(0.1, 21, 200)\n",
    "klist = [1, 2, 3, 5, 9, 7.5, 0.5]\n",
    "mlist = [2, 2, 2, 1, 0.5, 1, 1]\n",
    "\n",
    "for i in range(7): \n",
    "    y = [f(j, klist[i], mlist[i]) for j in x] \n",
    "    _ = plt.plot(x, y, label=(r'k='+ str(klist[i]))+ r', $\\theta$='+str(mlist[i]))\n",
    "    _ = plt.ylim(0, 0.5) \n",
    "_ = plt.legend() \n",
    "_ = plt.grid() "
   ]
  },
  {
   "cell_type": "code",
   "execution_count": null,
   "metadata": {
    "ExecuteTime": {
     "end_time": "2019-11-23T13:14:44.724083Z",
     "start_time": "2019-11-23T13:14:44.388119Z"
    }
   },
   "outputs": [],
   "source": [
    "f = lambda x, k, m: np.power(x, k-1)*np.exp(-x/m)/(np.power(m, k)*np.math.gamma(k)) \n",
    "x = np.linspace(0.1, 21, 200)\n",
    "klist = [1, 2, 3, 5, 9, 7.5, 0.5]\n",
    "mlist = [2, 2, 2, 1, 0.5, 1, 1]\n",
    "\n",
    "# Using np.vectorize the scalar f function can be converted into a\n",
    "# vectorized function that works with NumPy arrays as input:\n",
    "f = np.vectorize(f)\n",
    "for i in range(7): \n",
    "    y = f(x, klist[i], mlist[i]) \n",
    "    _ = plt.plot(x, y, label=(r'k='+ str(klist[i]))+ r', $\\theta$='+str(mlist[i]))\n",
    "    _ = plt.ylim(0, 0.5) \n",
    "_ = plt.legend() \n",
    "_ = plt.grid() "
   ]
  },
  {
   "cell_type": "code",
   "execution_count": null,
   "metadata": {
    "ExecuteTime": {
     "end_time": "2019-11-23T12:19:09.117653Z",
     "start_time": "2019-11-23T12:19:09.114346Z"
    }
   },
   "outputs": [],
   "source": [
    " from plotly.offline import plot "
   ]
  },
  {
   "cell_type": "code",
   "execution_count": null,
   "metadata": {
    "ExecuteTime": {
     "end_time": "2019-11-23T13:14:56.685601Z",
     "start_time": "2019-11-23T13:14:47.039817Z"
    }
   },
   "outputs": [],
   "source": [
    "x = np.linspace(0.1, 21, 200)\n",
    "klist = [2, 3, 5, 7, 9, 7.5, 0.5]\n",
    "mlist = [2, 2, 2, 1, 0.5, 1, 1]\n",
    "\n",
    "f = np.vectorize(f)\n",
    "for i in range(7): \n",
    "    y = f(x, klist[i], mlist[i]) \n",
    "    _ = plt.plot(x, y, label=(r'k='+ str(klist[i]))+ r', $\\theta$='+str(mlist[i]))\n",
    "    _ = plt.ylim(0, 0.5) \n",
    "mpl_fig1 = plt.gcf()\n",
    "py.iplot_mpl(mpl_fig1, filename='Gamma Distribution')"
   ]
  },
  {
   "cell_type": "markdown",
   "metadata": {},
   "source": [
    "#### Built in pdf"
   ]
  },
  {
   "cell_type": "code",
   "execution_count": null,
   "metadata": {},
   "outputs": [],
   "source": [
    "font = {'family': 'serif',\n",
    "        'color':  'darkred',\n",
    "        'weight': 'normal',\n",
    "        'size': 16,\n",
    "        }\n",
    "\n",
    "x = np.linspace (0.1, 21, 200) \n",
    "y1 = stats.gamma.pdf(x, a=5, scale=1) # a = k, scale = 1/ theta\n",
    "y2 = stats.gamma.pdf(x, a=3, scale=1)\n",
    "y3 = stats.gamma.pdf(x, a=7.5, scale=1)\n",
    "\n",
    "_ = plt.plot(x, y1, label=(r'$k=5, \\theta=1$')) \n",
    "_ = plt.plot(x, y2, label=(r'$k=3, \\theta=1$')) \n",
    "_ = plt.plot(x, y3, label=(r'$k=7.5, \\theta=1$'))\n",
    "\n",
    "_ = plt.xlabel(\"x\",fontdict = font)\n",
    "_ = plt.ylabel(\"pdf f(x)\",fontdict = font)\n",
    "_ = plt.legend()\n",
    "\n",
    "_ = plt.ylim([0,0.3])\n",
    "_ = plt.xlim([0,20])"
   ]
  },
  {
   "cell_type": "markdown",
   "metadata": {},
   "source": [
    "# Reference\n",
    "* http://cmdlinetips.com/2018/03/probability-distributions-in-python/"
   ]
  }
 ],
 "metadata": {
  "hide_input": false,
  "kernelspec": {
   "display_name": "Python 3",
   "language": "python",
   "name": "python3"
  },
  "language_info": {
   "codemirror_mode": {
    "name": "ipython",
    "version": 3
   },
   "file_extension": ".py",
   "mimetype": "text/x-python",
   "name": "python",
   "nbconvert_exporter": "python",
   "pygments_lexer": "ipython3",
   "version": "3.7.4"
  },
  "toc": {
   "base_numbering": 1,
   "nav_menu": {},
   "number_sections": true,
   "sideBar": true,
   "skip_h1_title": false,
   "title_cell": "Table of Contents",
   "title_sidebar": "Contents",
   "toc_cell": false,
   "toc_position": {},
   "toc_section_display": true,
   "toc_window_display": true
  },
  "varInspector": {
   "cols": {
    "lenName": 16,
    "lenType": 16,
    "lenVar": 40
   },
   "kernels_config": {
    "python": {
     "delete_cmd_postfix": "",
     "delete_cmd_prefix": "del ",
     "library": "var_list.py",
     "varRefreshCmd": "print(var_dic_list())"
    },
    "r": {
     "delete_cmd_postfix": ") ",
     "delete_cmd_prefix": "rm(",
     "library": "var_list.r",
     "varRefreshCmd": "cat(var_dic_list()) "
    }
   },
   "types_to_exclude": [
    "module",
    "function",
    "builtin_function_or_method",
    "instance",
    "_Feature"
   ],
   "window_display": false
  }
 },
 "nbformat": 4,
 "nbformat_minor": 2
}
