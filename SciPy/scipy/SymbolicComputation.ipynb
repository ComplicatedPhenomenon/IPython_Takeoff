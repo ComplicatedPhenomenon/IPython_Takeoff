{
 "cells": [
  {
   "cell_type": "code",
   "execution_count": 1,
   "metadata": {
    "ExecuteTime": {
     "end_time": "2019-12-30T07:07:49.919992Z",
     "start_time": "2019-12-30T07:07:49.915177Z"
    }
   },
   "outputs": [],
   "source": [
    "from IPython.core.interactiveshell import InteractiveShell\n",
    "InteractiveShell.ast_node_interactivity = \"all\" "
   ]
  },
  {
   "cell_type": "code",
   "execution_count": 2,
   "metadata": {
    "ExecuteTime": {
     "end_time": "2019-12-30T07:07:50.478811Z",
     "start_time": "2019-12-30T07:07:50.358494Z"
    }
   },
   "outputs": [],
   "source": [
    "import numpy as np "
   ]
  },
  {
   "cell_type": "code",
   "execution_count": 3,
   "metadata": {
    "ExecuteTime": {
     "end_time": "2019-12-30T07:07:51.220489Z",
     "start_time": "2019-12-30T07:07:50.480725Z"
    }
   },
   "outputs": [],
   "source": [
    "import sympy \n",
    "import scipy"
   ]
  },
  {
   "cell_type": "code",
   "execution_count": 4,
   "metadata": {
    "ExecuteTime": {
     "end_time": "2019-12-30T07:07:52.043030Z",
     "start_time": "2019-12-30T07:07:51.223000Z"
    }
   },
   "outputs": [],
   "source": [
    "sympy.init_printing() # it will ensure that formulas are presented in a graphical wa"
   ]
  },
  {
   "cell_type": "code",
   "execution_count": 5,
   "metadata": {
    "ExecuteTime": {
     "end_time": "2019-12-30T07:07:55.027086Z",
     "start_time": "2019-12-30T07:07:52.045971Z"
    }
   },
   "outputs": [],
   "source": [
    "from scipy.integrate import quad"
   ]
  },
  {
   "cell_type": "code",
   "execution_count": 6,
   "metadata": {
    "ExecuteTime": {
     "end_time": "2019-12-30T07:07:55.042937Z",
     "start_time": "2019-12-30T07:07:55.029579Z"
    }
   },
   "outputs": [],
   "source": [
    "from sympy import abc "
   ]
  },
  {
   "cell_type": "code",
   "execution_count": 7,
   "metadata": {
    "ExecuteTime": {
     "end_time": "2019-12-30T07:07:55.170232Z",
     "start_time": "2019-12-30T07:07:55.045858Z"
    }
   },
   "outputs": [],
   "source": [
    "from sympy import var, symbols, Derivative, diff, integrate"
   ]
  },
  {
   "cell_type": "code",
   "execution_count": 8,
   "metadata": {
    "ExecuteTime": {
     "end_time": "2019-12-30T07:07:55.364217Z",
     "start_time": "2019-12-30T07:07:55.173340Z"
    }
   },
   "outputs": [],
   "source": [
    "from sympy import Lambda, Function, sin, cos, exp"
   ]
  },
  {
   "cell_type": "markdown",
   "metadata": {},
   "source": [
    "* Official documentation for `sympy`\n",
    "\n",
    "    https://docs.sympy.org/latest/index.html\n",
    "    \n",
    "    * Shocked by the design of getting source code of a function by clicking "
   ]
  },
  {
   "cell_type": "code",
   "execution_count": 9,
   "metadata": {
    "ExecuteTime": {
     "end_time": "2019-12-30T07:07:55.462562Z",
     "start_time": "2019-12-30T07:07:55.367030Z"
    }
   },
   "outputs": [],
   "source": [
    "a = var(\"a\")\n",
    "# 'a' now points to symbol a"
   ]
  },
  {
   "cell_type": "code",
   "execution_count": 10,
   "metadata": {
    "ExecuteTime": {
     "end_time": "2019-12-30T07:07:58.851516Z",
     "start_time": "2019-12-30T07:07:55.464650Z"
    }
   },
   "outputs": [
    {
     "data": {
      "image/png": "[encoded data removed]",
      "text/latex": [
       "$\\displaystyle 4$"
      ],
      "text/plain": [
       "4"
      ]
     },
     "execution_count": 10,
     "metadata": {},
     "output_type": "execute_result"
    },
    {
     "data": {
      "image/png": "[encoded data removed]",
      "text/latex": [
       "$\\displaystyle a + 1$"
      ],
      "text/plain": [
       "a + 1"
      ]
     },
     "execution_count": 10,
     "metadata": {},
     "output_type": "execute_result"
    }
   ],
   "source": [
    "b = a + 1\n",
    "a  = 4 \n",
    "a \n",
    "b "
   ]
  },
  {
   "cell_type": "code",
   "execution_count": 11,
   "metadata": {
    "ExecuteTime": {
     "end_time": "2019-12-30T07:07:59.041718Z",
     "start_time": "2019-12-30T07:07:58.854907Z"
    }
   },
   "outputs": [
    {
     "data": {
      "text/plain": [
       "False"
      ]
     },
     "execution_count": 11,
     "metadata": {},
     "output_type": "execute_result"
    },
    {
     "data": {
      "image/png": "[encoded data removed]",
      "text/latex": [
       "$\\displaystyle \\text{True}$"
      ],
      "text/plain": [
       "True"
      ]
     },
     "execution_count": 11,
     "metadata": {},
     "output_type": "execute_result"
    }
   ],
   "source": [
    "sympy.numbers.EulerGamma > 0\n",
    "sympy.S.EulerGamma > 0"
   ]
  },
  {
   "cell_type": "code",
   "execution_count": 12,
   "metadata": {
    "ExecuteTime": {
     "end_time": "2019-12-30T07:07:59.342482Z",
     "start_time": "2019-12-30T07:07:59.046047Z"
    }
   },
   "outputs": [
    {
     "data": {
      "image/png": "[encoded data removed]",
      "text/latex": [
       "$\\displaystyle \\frac{1}{3} + \\frac{\\sqrt[3]{19 - 3 \\sqrt{33}}}{3} + \\frac{\\sqrt[3]{3 \\sqrt{33} + 19}}{3}$"
      ],
      "text/plain": [
       "    3 ____________   3 ____________\n",
       "1   ╲╱ 19 - 3⋅√33    ╲╱ 3⋅√33 + 19 \n",
       "─ + ────────────── + ──────────────\n",
       "3         3                3       "
      ]
     },
     "execution_count": 12,
     "metadata": {},
     "output_type": "execute_result"
    }
   ],
   "source": [
    "sympy.S.TribonacciConstant.expand(func=True)"
   ]
  },
  {
   "cell_type": "markdown",
   "metadata": {},
   "source": [
    "# Symbolic computation for integration"
   ]
  },
  {
   "cell_type": "code",
   "execution_count": 13,
   "metadata": {
    "ExecuteTime": {
     "end_time": "2019-12-30T07:07:59.357675Z",
     "start_time": "2019-12-30T07:07:59.348312Z"
    }
   },
   "outputs": [],
   "source": [
    "x = symbols('x')\n",
    "f = Lambda(x, 1/(x**2 + x + 1))"
   ]
  },
  {
   "cell_type": "code",
   "execution_count": 14,
   "metadata": {
    "ExecuteTime": {
     "end_time": "2019-12-30T07:07:59.982454Z",
     "start_time": "2019-12-30T07:07:59.361532Z"
    }
   },
   "outputs": [
    {
     "data": {
      "image/png": "[encoded data removed]",
      "text/latex": [
       "$\\displaystyle \\frac{2 \\sqrt{3} \\operatorname{atan}{\\left(\\frac{2 \\sqrt{3} x}{3} + \\frac{\\sqrt{3}}{3} \\right)}}{3}$"
      ],
      "text/plain": [
       "         ⎛2⋅√3⋅x   √3⎞\n",
       "2⋅√3⋅atan⎜────── + ──⎟\n",
       "         ⎝  3      3 ⎠\n",
       "──────────────────────\n",
       "          3           "
      ]
     },
     "execution_count": 14,
     "metadata": {},
     "output_type": "execute_result"
    }
   ],
   "source": [
    "integrate(f(x),x)"
   ]
  },
  {
   "cell_type": "code",
   "execution_count": 15,
   "metadata": {
    "ExecuteTime": {
     "end_time": "2019-12-30T07:08:00.214974Z",
     "start_time": "2019-12-30T07:07:59.984936Z"
    }
   },
   "outputs": [
    {
     "data": {
      "image/png": "[encoded data removed]",
      "text/latex": [
       "$\\displaystyle \\frac{- 2 x - 1}{\\left(x^{2} + x + 1\\right)^{2}}$"
      ],
      "text/plain": [
       "   -2⋅x - 1  \n",
       "─────────────\n",
       "            2\n",
       "⎛ 2        ⎞ \n",
       "⎝x  + x + 1⎠ "
      ]
     },
     "execution_count": 15,
     "metadata": {},
     "output_type": "execute_result"
    }
   ],
   "source": [
    "diff(f(x), x)"
   ]
  },
  {
   "cell_type": "markdown",
   "metadata": {},
   "source": [
    "# differentiation"
   ]
  },
  {
   "cell_type": "code",
   "execution_count": 16,
   "metadata": {
    "ExecuteTime": {
     "end_time": "2019-12-30T07:08:00.407332Z",
     "start_time": "2019-12-30T07:08:00.218781Z"
    }
   },
   "outputs": [
    {
     "data": {
      "image/png": "[encoded data removed]",
      "text/latex": [
       "$\\displaystyle \\left[ 1, \\  3\\right]$"
      ],
      "text/plain": [
       "[1, 3]"
      ]
     },
     "execution_count": 16,
     "metadata": {},
     "output_type": "execute_result"
    }
   ],
   "source": [
    "x = [1, 2, 3]\n",
    "del x[1]\n",
    "x "
   ]
  },
  {
   "cell_type": "code",
   "execution_count": 17,
   "metadata": {
    "ExecuteTime": {
     "end_time": "2019-12-30T07:08:00.822530Z",
     "start_time": "2019-12-30T07:08:00.411820Z"
    }
   },
   "outputs": [
    {
     "data": {
      "image/png": "[encoded data removed]",
      "text/latex": [
       "$\\displaystyle \\cos{\\left(x \\right)}$"
      ],
      "text/plain": [
       "cos(x)"
      ]
     },
     "execution_count": 17,
     "metadata": {},
     "output_type": "execute_result"
    },
    {
     "data": {
      "image/png": "[encoded data removed]",
      "text/latex": [
       "$\\displaystyle \\sin{\\left(x \\right)} \\cos{\\left(y \\right)}$"
      ],
      "text/plain": [
       "sin(x)⋅cos(y)"
      ]
     },
     "execution_count": 17,
     "metadata": {},
     "output_type": "execute_result"
    }
   ],
   "source": [
    "x, y = symbols('x y')\n",
    "diff(sin(x), x)\n",
    "diff(sin(x) * cos(y), x, 2, y, 2)"
   ]
  },
  {
   "cell_type": "code",
   "execution_count": 23,
   "metadata": {
    "ExecuteTime": {
     "end_time": "2019-12-30T07:34:59.703948Z",
     "start_time": "2019-12-30T07:34:59.696682Z"
    }
   },
   "outputs": [],
   "source": [
    "from sympy.solvers.solveset import linsolve"
   ]
  },
  {
   "cell_type": "code",
   "execution_count": 28,
   "metadata": {
    "ExecuteTime": {
     "end_time": "2019-12-30T07:36:45.524679Z",
     "start_time": "2019-12-30T07:36:45.347348Z"
    }
   },
   "outputs": [
    {
     "data": {
      "image/png": "[encoded data removed]",
      "text/latex": [
       "$\\displaystyle \\left\\{\\left( - \\frac{z}{2}, \\  - \\frac{z}{2}, \\  z\\right)\\right\\}$"
      ],
      "text/plain": [
       "⎧⎛-z   -z    ⎞⎫\n",
       "⎨⎜───, ───, z⎟⎬\n",
       "⎩⎝ 2    2    ⎠⎭"
      ]
     },
     "execution_count": 28,
     "metadata": {},
     "output_type": "execute_result"
    }
   ],
   "source": [
    "x, y, z = symbols('x y z')\n",
    "linsolve([x + y + z, x - y ], (x, y, z))"
   ]
  },
  {
   "cell_type": "markdown",
   "metadata": {},
   "source": [
    "## sigmoid function"
   ]
  },
  {
   "cell_type": "code",
   "execution_count": 33,
   "metadata": {
    "ExecuteTime": {
     "end_time": "2019-12-30T07:37:54.614474Z",
     "start_time": "2019-12-30T07:37:53.715451Z"
    }
   },
   "outputs": [
    {
     "data": {
      "image/png": "[encoded data removed]",
      "text/latex": [
       "$\\displaystyle \\left( x \\mapsto \\frac{1}{1 + e^{- x}} \\right)$"
      ],
      "text/plain": [
       "       1   \n",
       "x ↦ ───────\n",
       "         -x\n",
       "    1 + ℯ  "
      ]
     },
     "execution_count": 33,
     "metadata": {},
     "output_type": "execute_result"
    },
    {
     "data": {
      "image/png": "[encoded data removed]",
      "text/latex": [
       "$\\displaystyle \\frac{d}{d x} \\left( x \\mapsto \\frac{1}{1 + e^{- x}} \\right)$"
      ],
      "text/plain": [
       "d ⎛       1   ⎞\n",
       "──⎜x ↦ ───────⎟\n",
       "dx⎜         -x⎟\n",
       "  ⎝    1 + ℯ  ⎠"
      ]
     },
     "execution_count": 33,
     "metadata": {},
     "output_type": "execute_result"
    },
    {
     "data": {
      "image/png": "[encoded data removed]",
      "text/latex": [
       "$\\displaystyle \\frac{e^{- x}}{\\left(1 + e^{- x}\\right)^{2}}$"
      ],
      "text/plain": [
       "    -x    \n",
       "   ℯ      \n",
       "──────────\n",
       "         2\n",
       "⎛     -x⎞ \n",
       "⎝1 + ℯ  ⎠ "
      ]
     },
     "execution_count": 33,
     "metadata": {},
     "output_type": "execute_result"
    },
    {
     "data": {
      "image/png": "[encoded data removed]",
      "text/latex": [
       "$\\displaystyle \\frac{1}{4}$"
      ],
      "text/plain": [
       "1/4"
      ]
     },
     "execution_count": 33,
     "metadata": {},
     "output_type": "execute_result"
    },
    {
     "data": {
      "image/png": "[encoded data removed]",
      "text/latex": [
       "$\\displaystyle \\left(1 + e^{- \\left( x \\mapsto \\frac{1}{1 + e^{- x}} \\right)}\\right)^{-2} e^{- \\left( x \\mapsto \\frac{1}{1 + e^{- x}} \\right)}$"
      ],
      "text/plain": [
       "                     -2                \n",
       "⎛      ⎛       1   ⎞⎞     ⎛       1   ⎞\n",
       "⎜     -⎜x ↦ ───────⎟⎟    -⎜x ↦ ───────⎟\n",
       "⎜      ⎜         -x⎟⎟     ⎜         -x⎟\n",
       "⎜      ⎝    1 + ℯ  ⎠⎟     ⎝    1 + ℯ  ⎠\n",
       "⎝1 + ℯ              ⎠  ⋅ℯ              "
      ]
     },
     "execution_count": 33,
     "metadata": {},
     "output_type": "execute_result"
    }
   ],
   "source": [
    "sigmoid = Lambda(abc.x, 1 / (1 + exp(-abc.x)))\n",
    "sigmoid\n",
    "Derivative(sigmoid, abc.x)\n",
    "diff(sigmoid(abc.x), abc.x)\n",
    "diff(sigmoid(abc.x), abc.x).subs({abc.x : 0})\n",
    "diff(sigmoid(abc.x), abc.x).subs({abc.x : sigmoid})"
   ]
  },
  {
   "cell_type": "markdown",
   "metadata": {},
   "source": [
    "https://stackoverflow.com/q/59526722/7583919"
   ]
  },
  {
   "cell_type": "code",
   "execution_count": null,
   "metadata": {},
   "outputs": [],
   "source": [
    "x = sympy.Symbol('x')\n",
    "sigmoid = 1/(1 + sympy.exp(-x))\n",
    "sigmoid_deriv = sigmoid.diff(x)\n",
    "\n",
    "# define symbol X\n",
    "X = sympy.Symbol('X')\n",
    "\n",
    "# solve inverse sigmoid function\n",
    "eq = sympy.Eq(sigmoid, X)\n",
    "eq\n",
    "x_lst = sympy.solve(eq, x)\n",
    "x_lst\n",
    "\n",
    "# unpack result\n",
    "x2 = x_lst[0]\n",
    "\n",
    "# substitute x as x2\n",
    "sigmoid_deriv2 = sigmoid_deriv.subs({x: x2})\n",
    "sigmoid_deriv2\n",
    "\n",
    "# simplify `sigmoid_deriv2`\n",
    "sigmoid_deriv3 = sympy.simplify(sigmoid_deriv2)\n",
    "\n",
    "# print simplified sigmoid_deriv\n",
    "sigmoid_deriv3"
   ]
  },
  {
   "cell_type": "code",
   "execution_count": null,
   "metadata": {
    "ExecuteTime": {
     "end_time": "2019-12-14T12:23:06.327836Z",
     "start_time": "2019-12-14T12:23:06.173404Z"
    }
   },
   "outputs": [],
   "source": [
    "dot = lambda w, x, bias: w[0] * x[0] + w[1] * x[1] + bias\n",
    "\n",
    "#dot([1,2], [3,4], 0)\n",
    "\n",
    "sigmoid = Lambda(abc.x, 1 / (1 + sympy.exp(-abc.x)))\n",
    "\n",
    "#sigmoid(11)\n",
    "sigmoid(0).evalf()\n",
    "\n",
    "dsig = Lambda(abc.x, diff(sigmoid(abc.x), abc.x))\n",
    "#dsig(2).evalf()\n",
    "\n",
    "ww = sympy.Array([abc.a, abc.b])\n",
    "xx = sympy.Array([abc.m, abc.n])\n",
    "bias = abc.kappa\n",
    "\n",
    "dot(ww, xx, bias)\n",
    "dot(ww, xx, bias).subs({ww[0]:1})\n",
    "sigmoid(dot(ww, xx, bias))\n",
    "\n",
    "table = sympy.derive_by_array(dot(ww,xx, bias), [ww[0], ww[1], xx[0], xx[1], bias])\n",
    "table\n",
    "table[0].subs({abc.m:2})"
   ]
  },
  {
   "cell_type": "code",
   "execution_count": null,
   "metadata": {
    "ExecuteTime": {
     "end_time": "2019-12-13T12:00:12.988101Z",
     "start_time": "2019-12-13T12:00:12.740670Z"
    }
   },
   "outputs": [],
   "source": [
    "f = Function('f')\n",
    "sympy.dsolve(Derivative(f(x), x, x) + 9*f(x), f(x))"
   ]
  },
  {
   "cell_type": "code",
   "execution_count": null,
   "metadata": {
    "ExecuteTime": {
     "end_time": "2019-12-13T12:04:11.334205Z",
     "start_time": "2019-12-13T12:04:11.317399Z"
    }
   },
   "outputs": [],
   "source": [
    "sympy.S.Pi"
   ]
  },
  {
   "cell_type": "code",
   "execution_count": null,
   "metadata": {
    "ExecuteTime": {
     "end_time": "2019-12-13T12:08:07.483522Z",
     "start_time": "2019-12-13T12:08:07.438916Z"
    }
   },
   "outputs": [],
   "source": [
    "sympy.sqrt(4)\n",
    "sympy.sqrt(abc.a**2)"
   ]
  },
  {
   "cell_type": "markdown",
   "metadata": {},
   "source": [
    "## gauss distribution"
   ]
  },
  {
   "cell_type": "code",
   "execution_count": null,
   "metadata": {
    "ExecuteTime": {
     "end_time": "2019-12-13T13:06:53.119046Z",
     "start_time": "2019-12-13T13:06:53.114729Z"
    }
   },
   "outputs": [],
   "source": [
    "f = Lambda((abc.x, abc.sigma, abc.mu),\n",
    "           1 / sympy.sqrt(2 * sympy.S.Pi * abc.sigma) *\n",
    "           exp(-(abc.x - abc.mu)**2 / (2 * abc.sigma**2)))"
   ]
  },
  {
   "cell_type": "code",
   "execution_count": null,
   "metadata": {
    "ExecuteTime": {
     "end_time": "2019-12-13T13:06:54.323139Z",
     "start_time": "2019-12-13T13:06:54.217054Z"
    }
   },
   "outputs": [],
   "source": [
    "integrate(f, abc.x)\n",
    "#integrate(f, (abc.x, -sympy.oo, sympy.oo))"
   ]
  },
  {
   "cell_type": "code",
   "execution_count": null,
   "metadata": {
    "ExecuteTime": {
     "end_time": "2019-12-13T13:05:38.707484Z",
     "start_time": "2019-12-13T13:05:38.683874Z"
    }
   },
   "outputs": [],
   "source": [
    "sympy.oo\n",
    "-sympy.oo"
   ]
  },
  {
   "cell_type": "code",
   "execution_count": null,
   "metadata": {
    "ExecuteTime": {
     "end_time": "2019-12-13T13:05:39.841519Z",
     "start_time": "2019-12-13T13:05:39.816182Z"
    }
   },
   "outputs": [],
   "source": [
    "integrate(x)\n",
    "integrate(x, (x, 1, 2))"
   ]
  },
  {
   "cell_type": "code",
   "execution_count": null,
   "metadata": {
    "ExecuteTime": {
     "end_time": "2019-12-13T12:33:23.986627Z",
     "start_time": "2019-12-13T12:33:23.957067Z"
    }
   },
   "outputs": [],
   "source": [
    "abc.a**2 % abc.b\n",
    "_.subs({abc.a:5, abc.b:6})"
   ]
  },
  {
   "cell_type": "code",
   "execution_count": null,
   "metadata": {
    "ExecuteTime": {
     "end_time": "2019-12-13T12:27:56.310928Z",
     "start_time": "2019-12-13T12:27:56.304483Z"
    }
   },
   "outputs": [],
   "source": [
    "try:\n",
    "    sympy.sympify(\"x***2\")\n",
    "except sympy.SympifyError as e:\n",
    "    print(e)"
   ]
  },
  {
   "cell_type": "markdown",
   "metadata": {},
   "source": [
    "# Symbolic matrices"
   ]
  },
  {
   "cell_type": "code",
   "execution_count": null,
   "metadata": {
    "ExecuteTime": {
     "end_time": "2019-12-14T05:19:11.139560Z",
     "start_time": "2019-12-14T05:19:11.113488Z"
    }
   },
   "outputs": [],
   "source": [
    "sympy.Array([abc.phi, abc.psi])\n",
    "abc.phi = 2\n",
    "sympy.Array([abc.phi, abc.psi]).subs({abc.phi: 2})"
   ]
  },
  {
   "cell_type": "code",
   "execution_count": null,
   "metadata": {
    "ExecuteTime": {
     "end_time": "2019-12-14T05:18:49.080205Z",
     "start_time": "2019-12-14T05:18:49.054959Z"
    }
   },
   "outputs": [],
   "source": [
    "sympy.derive_by_array(sin(abc.x * abc.y), [abc.x, abc.y, abc.z])"
   ]
  },
  {
   "cell_type": "code",
   "execution_count": null,
   "metadata": {
    "ExecuteTime": {
     "end_time": "2019-12-13T11:30:04.981840Z",
     "start_time": "2019-12-13T11:30:04.958750Z"
    }
   },
   "outputs": [],
   "source": [
    "phi = sympy.symbols('phi')\n",
    "rotation = sympy.Matrix([[sympy.cos(phi), -sympy.sin(phi)], [sympy.sin(phi), sympy.cos(phi)]])\n",
    "rotation"
   ]
  },
  {
   "cell_type": "code",
   "execution_count": null,
   "metadata": {
    "ExecuteTime": {
     "end_time": "2019-11-28T08:31:24.484382Z",
     "start_time": "2019-11-28T08:31:24.225526Z"
    }
   },
   "outputs": [],
   "source": [
    "sympy.simplify(rotation.T*rotation -sympy.eye(2))\n",
    "rotation.inv()\n",
    "sympy.simplify(rotation.inv())"
   ]
  },
  {
   "cell_type": "markdown",
   "metadata": {},
   "source": [
    "## An example of rotation matrix \n",
    "$$\n",
    "\\mathbf{q}=\\left(\\begin{array}{l}{r \\cos (\\theta+\\phi)} \\\\ {r \\sin (\\theta+\\phi)}\\end{array}\\right)=\\left(\\begin{array}{l}{r(\\cos \\theta \\cos \\phi-\\sin \\theta \\sin \\phi)} \\\\ {r(\\sin \\theta \\cos \\phi+\\cos \\theta \\sin \\phi)}\\end{array}\\right)\n",
    "$$\n",
    "$$\n",
    "=\\left(\\begin{array}{cc}{\\cos \\phi} & {-\\sin \\phi} \\\\ {\\sin \\phi} & {\\cos \\phi}\\end{array}\\right)\\left(\\begin{array}{c}{r \\cos \\theta} \\\\ {r \\sin \\theta}\\end{array}\\right)\n",
    "$$"
   ]
  },
  {
   "cell_type": "code",
   "execution_count": null,
   "metadata": {
    "ExecuteTime": {
     "end_time": "2019-11-28T08:31:27.693411Z",
     "start_time": "2019-11-28T08:31:27.667851Z"
    }
   },
   "outputs": [],
   "source": [
    "r, theta, phi = sympy.symbols('r theta phi')\n",
    "q = sympy.Matrix([[r * sympy.cos(theta + phi)], [r * sympy.sin(theta + phi)]])\n",
    "q"
   ]
  },
  {
   "cell_type": "code",
   "execution_count": null,
   "metadata": {
    "ExecuteTime": {
     "end_time": "2019-11-28T08:31:27.925739Z",
     "start_time": "2019-11-28T08:31:27.900179Z"
    }
   },
   "outputs": [],
   "source": [
    "sympy.expand(q)\n",
    "q = sympy.expand_trig(q)\n",
    "# use q*Origin_V.inv() to get rotation matrix"
   ]
  },
  {
   "cell_type": "code",
   "execution_count": null,
   "metadata": {
    "ExecuteTime": {
     "end_time": "2019-11-28T08:31:28.165425Z",
     "start_time": "2019-11-28T08:31:28.145855Z"
    }
   },
   "outputs": [],
   "source": [
    "Origin_v = sympy.Matrix([[r*sympy.cos(theta)], [r*sympy.sin(theta)]])\n",
    "Origin_v"
   ]
  },
  {
   "cell_type": "code",
   "execution_count": null,
   "metadata": {
    "ExecuteTime": {
     "end_time": "2019-11-28T08:31:30.750790Z",
     "start_time": "2019-11-28T08:31:30.739682Z"
    }
   },
   "outputs": [],
   "source": [
    "Origin_v.T"
   ]
  },
  {
   "cell_type": "code",
   "execution_count": null,
   "metadata": {
    "ExecuteTime": {
     "end_time": "2019-11-28T08:31:31.067372Z",
     "start_time": "2019-11-28T08:31:30.991462Z"
    }
   },
   "outputs": [],
   "source": [
    "ß = sympy.symbols('ß')\n",
    "sympy.expand((ß+1)**2)"
   ]
  },
  {
   "cell_type": "code",
   "execution_count": null,
   "metadata": {
    "ExecuteTime": {
     "end_time": "2019-11-28T08:31:31.230974Z",
     "start_time": "2019-11-28T08:31:31.212049Z"
    }
   },
   "outputs": [],
   "source": [
    "A = sympy.Matrix([[5, 3, 1], [1, 0, -2], [1, 2, 5]])\n",
    "A.inv()"
   ]
  },
  {
   "cell_type": "code",
   "execution_count": null,
   "metadata": {
    "ExecuteTime": {
     "end_time": "2019-11-28T08:31:31.496315Z",
     "start_time": "2019-11-28T08:31:31.452033Z"
    }
   },
   "outputs": [],
   "source": [
    "x, y = sympy.symbols('x y')\n",
    "sympy.expand_log(sympy.log(x * y), force=True)"
   ]
  },
  {
   "cell_type": "markdown",
   "metadata": {},
   "source": [
    "# Anonymous function in symbolic computation "
   ]
  },
  {
   "cell_type": "code",
   "execution_count": null,
   "metadata": {
    "ExecuteTime": {
     "end_time": "2019-11-28T08:31:34.753995Z",
     "start_time": "2019-11-28T08:31:34.663737Z"
    }
   },
   "outputs": [],
   "source": [
    "x,i,n = sympy.symbols(\"x i n\")\n",
    "sympy.Sum(sympy.Indexed('x',i),(i,1,3)) \n",
    "sympy.Sum(sympy.Indexed('x',i),(i,1,3)).doit()"
   ]
  },
  {
   "cell_type": "code",
   "execution_count": null,
   "metadata": {
    "ExecuteTime": {
     "end_time": "2019-11-28T08:31:35.292388Z",
     "start_time": "2019-11-28T08:31:35.192434Z"
    }
   },
   "outputs": [],
   "source": [
    "from sympy import Symbol, cos, series\n",
    "x = Symbol('x')\n",
    "series(cos(x),x)"
   ]
  },
  {
   "cell_type": "markdown",
   "metadata": {},
   "source": [
    "# Bessel function "
   ]
  },
  {
   "cell_type": "markdown",
   "metadata": {},
   "source": [
    "https://en.wikipedia.org/wiki/Bessel_function\n",
    "<span style=\"font-family: Cosmic Sans MS; font-size:2em; color: #808000\">\n",
    "   \n",
    "$$\n",
    "x^{2} \\frac{d^{2} y}{d x^{2}}+x \\frac{d y}{d x}+\\left(x^{2}-\\alpha^{2}\\right) y=0\n",
    "$$"
   ]
  },
  {
   "cell_type": "markdown",
   "metadata": {},
   "source": [
    "First kind \n",
    "$$\n",
    "J_{\\alpha}(x)=\\sum_{m=0}^{\\infty} \\frac{(-1)^{m}}{m ! \\Gamma(m+\\alpha+1)}\\left(\\frac{x}{2}\\right)^{2 m+\\alpha}\n",
    "$$\n",
    "\n",
    "Second kind\n",
    "$$\n",
    "Y_{\\alpha}(x)=\\frac{J_{\\alpha}(x) \\cos (\\alpha \\pi)-J_{-\\alpha}(x)}{\\sin (\\alpha \\pi)}\n",
    "$$"
   ]
  },
  {
   "cell_type": "markdown",
   "metadata": {},
   "source": [
    "https://docs.scipy.org/doc/scipy/reference/special.html"
   ]
  },
  {
   "cell_type": "code",
   "execution_count": null,
   "metadata": {
    "ExecuteTime": {
     "end_time": "2019-11-28T08:31:39.812990Z",
     "start_time": "2019-11-28T08:31:39.749657Z"
    }
   },
   "outputs": [],
   "source": [
    "scipy.special.jv(2,3)"
   ]
  },
  {
   "cell_type": "code",
   "execution_count": null,
   "metadata": {
    "ExecuteTime": {
     "end_time": "2019-11-28T08:31:40.188861Z",
     "start_time": "2019-11-28T08:31:40.179554Z"
    }
   },
   "outputs": [],
   "source": [
    "from sympy import Eq, E, Function, pde_separate_add, Derivative as D\n",
    "from sympy.abc import x, t\n",
    "u, X, T = map(Function, 'uXT')"
   ]
  },
  {
   "cell_type": "code",
   "execution_count": null,
   "metadata": {
    "ExecuteTime": {
     "end_time": "2019-11-28T08:33:57.229155Z",
     "start_time": "2019-11-28T08:33:57.130008Z"
    }
   },
   "outputs": [],
   "source": [
    "eq = Eq(D(u(x, t), x), E**(u(x, t))*D(u(x, t), t))\n",
    "pde_separate_add(eq, u(x, t), [X(x), T(t)])"
   ]
  },
  {
   "cell_type": "markdown",
   "metadata": {},
   "source": [
    "## Plot of Bessel function \n",
    "Plot of Bessel function of the first kind, Jα(x), for integer orders α = 0, 1, 2"
   ]
  },
  {
   "cell_type": "markdown",
   "metadata": {},
   "source": [
    "# Eigen(Characteristic) vector"
   ]
  },
  {
   "cell_type": "markdown",
   "metadata": {
    "ExecuteTime": {
     "end_time": "2019-11-22T14:03:34.579391Z",
     "start_time": "2019-11-22T14:03:34.574223Z"
    }
   },
   "source": [
    "http://mathworld.wolfram.com/Eigenvector.html"
   ]
  },
  {
   "cell_type": "markdown",
   "metadata": {},
   "source": [
    "```md\n",
    "Eigen vector and Eigen value of Matrix.(矩阵的特征值和特征向量)\n",
    "特征向量是方向\n",
    "特征值是缩放因子。\n",
    "```"
   ]
  },
  {
   "cell_type": "code",
   "execution_count": null,
   "metadata": {
    "ExecuteTime": {
     "end_time": "2019-11-28T08:33:14.942638Z",
     "start_time": "2019-11-28T08:33:14.920557Z"
    }
   },
   "outputs": [],
   "source": [
    "A = sympy.Matrix(np.random.randint(1,10, (2,2)))\n",
    "A"
   ]
  },
  {
   "cell_type": "code",
   "execution_count": null,
   "metadata": {
    "ExecuteTime": {
     "end_time": "2019-11-28T08:33:15.569539Z",
     "start_time": "2019-11-28T08:33:15.523140Z"
    }
   },
   "outputs": [],
   "source": [
    "type(A.eigenvals())\n",
    "A.eigenvals()\n",
    "np.array(list(A.eigenvals().keys()))"
   ]
  },
  {
   "cell_type": "code",
   "execution_count": null,
   "metadata": {
    "ExecuteTime": {
     "end_time": "2019-11-28T08:33:17.883549Z",
     "start_time": "2019-11-28T08:33:17.843854Z"
    }
   },
   "outputs": [],
   "source": [
    "A.eigenvects()"
   ]
  },
  {
   "cell_type": "code",
   "execution_count": null,
   "metadata": {
    "ExecuteTime": {
     "end_time": "2019-11-28T08:33:18.080136Z",
     "start_time": "2019-11-28T08:33:18.068579Z"
    }
   },
   "outputs": [],
   "source": [
    "np.dot(A, np.array(list(A.eigenvals().keys())))"
   ]
  }
 ],
 "metadata": {
  "hide_input": false,
  "kernelspec": {
   "display_name": "Python 3",
   "language": "python",
   "name": "python3"
  },
  "language_info": {
   "codemirror_mode": {
    "name": "ipython",
    "version": 3
   },
   "file_extension": ".py",
   "mimetype": "text/x-python",
   "name": "python",
   "nbconvert_exporter": "python",
   "pygments_lexer": "ipython3",
   "version": "3.7.4"
  },
  "toc": {
   "base_numbering": 1,
   "nav_menu": {},
   "number_sections": true,
   "sideBar": true,
   "skip_h1_title": false,
   "title_cell": "Table of Contents",
   "title_sidebar": "Contents",
   "toc_cell": false,
   "toc_position": {},
   "toc_section_display": true,
   "toc_window_display": true
  },
  "varInspector": {
   "cols": {
    "lenName": 16,
    "lenType": 16,
    "lenVar": 40
   },
   "kernels_config": {
    "python": {
     "delete_cmd_postfix": "",
     "delete_cmd_prefix": "del ",
     "library": "var_list.py",
     "varRefreshCmd": "print(var_dic_list())"
    },
    "r": {
     "delete_cmd_postfix": ") ",
     "delete_cmd_prefix": "rm(",
     "library": "var_list.r",
     "varRefreshCmd": "cat(var_dic_list()) "
    }
   },
   "types_to_exclude": [
    "module",
    "function",
    "builtin_function_or_method",
    "instance",
    "_Feature"
   ],
   "window_display": false
  }
 },
 "nbformat": 4,
 "nbformat_minor": 2
}
