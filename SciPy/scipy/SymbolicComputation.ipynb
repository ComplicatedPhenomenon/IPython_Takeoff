{
 "cells": [
  {
   "cell_type": "code",
   "execution_count": null,
   "metadata": {
    "ExecuteTime": {
     "end_time": "2019-11-28T08:31:10.672171Z",
     "start_time": "2019-11-28T08:31:10.667384Z"
    }
   },
   "outputs": [],
   "source": [
    "from IPython.core.interactiveshell import InteractiveShell\n",
    "InteractiveShell.ast_node_interactivity = \"all\" "
   ]
  },
  {
   "cell_type": "code",
   "execution_count": null,
   "metadata": {
    "ExecuteTime": {
     "end_time": "2019-11-28T08:31:11.468358Z",
     "start_time": "2019-11-28T08:31:11.336433Z"
    }
   },
   "outputs": [],
   "source": [
    "import numpy as np "
   ]
  },
  {
   "cell_type": "code",
   "execution_count": null,
   "metadata": {
    "ExecuteTime": {
     "end_time": "2019-11-28T08:31:16.465278Z",
     "start_time": "2019-11-28T08:31:11.866341Z"
    }
   },
   "outputs": [],
   "source": [
    "import sympy \n",
    "import scipy"
   ]
  },
  {
   "cell_type": "code",
   "execution_count": null,
   "metadata": {
    "ExecuteTime": {
     "end_time": "2019-11-28T08:31:17.146365Z",
     "start_time": "2019-11-28T08:31:16.468236Z"
    }
   },
   "outputs": [],
   "source": [
    "sympy.init_printing() # it will ensure that formulas are presented in a graphical wa"
   ]
  },
  {
   "cell_type": "code",
   "execution_count": null,
   "metadata": {
    "ExecuteTime": {
     "end_time": "2019-11-28T08:31:20.073753Z",
     "start_time": "2019-11-28T08:31:17.149142Z"
    }
   },
   "outputs": [],
   "source": [
    "from scipy.integrate import quad"
   ]
  },
  {
   "cell_type": "markdown",
   "metadata": {},
   "source": [
    "* Official documentation for `sympy`\n",
    "\n",
    "    https://docs.sympy.org/latest/index.html\n",
    "    \n",
    "    * Shocked by the design of getting source code of a function by clicking "
   ]
  },
  {
   "cell_type": "markdown",
   "metadata": {},
   "source": [
    "# Symbolic computation for integration"
   ]
  },
  {
   "cell_type": "code",
   "execution_count": null,
   "metadata": {
    "ExecuteTime": {
     "end_time": "2019-11-28T08:31:20.082443Z",
     "start_time": "2019-11-28T08:31:20.077016Z"
    }
   },
   "outputs": [],
   "source": [
    "x = sympy.symbols('x')\n",
    "f = sympy.Lambda(x, 1/(x**2 + x + 1))"
   ]
  },
  {
   "cell_type": "code",
   "execution_count": null,
   "metadata": {
    "ExecuteTime": {
     "end_time": "2019-11-28T08:31:21.184012Z",
     "start_time": "2019-11-28T08:31:20.084508Z"
    }
   },
   "outputs": [],
   "source": [
    "sympy.integrate(f(x),x)"
   ]
  },
  {
   "cell_type": "markdown",
   "metadata": {},
   "source": [
    "# Symbolic matrices"
   ]
  },
  {
   "cell_type": "code",
   "execution_count": null,
   "metadata": {
    "ExecuteTime": {
     "end_time": "2019-11-28T08:31:23.427105Z",
     "start_time": "2019-11-28T08:31:23.410551Z"
    }
   },
   "outputs": [],
   "source": [
    "phi = sympy.symbols('phi')\n",
    "rotation = sympy.Matrix([[sympy.cos(phi), -sympy.sin(phi)], [sympy.sin(phi), sympy.cos(phi)]])\n",
    "rotation"
   ]
  },
  {
   "cell_type": "code",
   "execution_count": null,
   "metadata": {
    "ExecuteTime": {
     "end_time": "2019-11-28T08:31:24.484382Z",
     "start_time": "2019-11-28T08:31:24.225526Z"
    }
   },
   "outputs": [],
   "source": [
    "sympy.simplify(rotation.T*rotation -sympy.eye(2))\n",
    "rotation.inv()\n",
    "sympy.simplify(rotation.inv())"
   ]
  },
  {
   "cell_type": "markdown",
   "metadata": {},
   "source": [
    "## An example of rotation matrix \n",
    "$$\n",
    "\\mathbf{q}=\\left(\\begin{array}{l}{r \\cos (\\theta+\\phi)} \\\\ {r \\sin (\\theta+\\phi)}\\end{array}\\right)=\\left(\\begin{array}{l}{r(\\cos \\theta \\cos \\phi-\\sin \\theta \\sin \\phi)} \\\\ {r(\\sin \\theta \\cos \\phi+\\cos \\theta \\sin \\phi)}\\end{array}\\right)\n",
    "$$\n",
    "$$\n",
    "=\\left(\\begin{array}{cc}{\\cos \\phi} & {-\\sin \\phi} \\\\ {\\sin \\phi} & {\\cos \\phi}\\end{array}\\right)\\left(\\begin{array}{c}{r \\cos \\theta} \\\\ {r \\sin \\theta}\\end{array}\\right)\n",
    "$$"
   ]
  },
  {
   "cell_type": "code",
   "execution_count": null,
   "metadata": {
    "ExecuteTime": {
     "end_time": "2019-11-28T08:31:27.693411Z",
     "start_time": "2019-11-28T08:31:27.667851Z"
    }
   },
   "outputs": [],
   "source": [
    "r, theta, phi = sympy.symbols('r theta phi')\n",
    "q = sympy.Matrix([[r * sympy.cos(theta + phi)], [r * sympy.sin(theta + phi)]])\n",
    "q"
   ]
  },
  {
   "cell_type": "code",
   "execution_count": null,
   "metadata": {
    "ExecuteTime": {
     "end_time": "2019-11-28T08:31:27.925739Z",
     "start_time": "2019-11-28T08:31:27.900179Z"
    }
   },
   "outputs": [],
   "source": [
    "sympy.expand(q)\n",
    "q = sympy.expand_trig(q)\n",
    "# use q*Origin_V.inv() to get rotation matrix"
   ]
  },
  {
   "cell_type": "code",
   "execution_count": null,
   "metadata": {
    "ExecuteTime": {
     "end_time": "2019-11-28T08:31:28.165425Z",
     "start_time": "2019-11-28T08:31:28.145855Z"
    }
   },
   "outputs": [],
   "source": [
    "Origin_v = sympy.Matrix([[r*sympy.cos(theta)], [r*sympy.sin(theta)]])\n",
    "Origin_v"
   ]
  },
  {
   "cell_type": "code",
   "execution_count": null,
   "metadata": {
    "ExecuteTime": {
     "end_time": "2019-11-28T08:31:30.750790Z",
     "start_time": "2019-11-28T08:31:30.739682Z"
    }
   },
   "outputs": [],
   "source": [
    "Origin_v.T"
   ]
  },
  {
   "cell_type": "code",
   "execution_count": null,
   "metadata": {
    "ExecuteTime": {
     "end_time": "2019-11-28T08:31:31.067372Z",
     "start_time": "2019-11-28T08:31:30.991462Z"
    }
   },
   "outputs": [],
   "source": [
    "ß = sympy.symbols('ß')\n",
    "sympy.expand((ß+1)**2)"
   ]
  },
  {
   "cell_type": "code",
   "execution_count": null,
   "metadata": {
    "ExecuteTime": {
     "end_time": "2019-11-28T08:31:31.230974Z",
     "start_time": "2019-11-28T08:31:31.212049Z"
    }
   },
   "outputs": [],
   "source": [
    "A = sympy.Matrix([[5, 3, 1], [1, 0, -2], [1, 2, 5]])\n",
    "A.inv()"
   ]
  },
  {
   "cell_type": "code",
   "execution_count": null,
   "metadata": {
    "ExecuteTime": {
     "end_time": "2019-11-28T08:31:31.496315Z",
     "start_time": "2019-11-28T08:31:31.452033Z"
    }
   },
   "outputs": [],
   "source": [
    "x, y = sympy.symbols('x y')\n",
    "sympy.expand_log(sympy.log(x * y), force=True)"
   ]
  },
  {
   "cell_type": "markdown",
   "metadata": {},
   "source": [
    "# Anonymous function in symbolic computation "
   ]
  },
  {
   "cell_type": "code",
   "execution_count": null,
   "metadata": {
    "ExecuteTime": {
     "end_time": "2019-11-28T08:31:34.753995Z",
     "start_time": "2019-11-28T08:31:34.663737Z"
    }
   },
   "outputs": [],
   "source": [
    "x,i,n = sympy.symbols(\"x i n\")\n",
    "sympy.Sum(sympy.Indexed('x',i),(i,1,3)) \n",
    "sympy.Sum(sympy.Indexed('x',i),(i,1,3)).doit()"
   ]
  },
  {
   "cell_type": "code",
   "execution_count": null,
   "metadata": {
    "ExecuteTime": {
     "end_time": "2019-11-28T08:31:35.292388Z",
     "start_time": "2019-11-28T08:31:35.192434Z"
    }
   },
   "outputs": [],
   "source": [
    "from sympy import Symbol, cos, series\n",
    "x = Symbol('x')\n",
    "series(cos(x),x)"
   ]
  },
  {
   "cell_type": "markdown",
   "metadata": {},
   "source": [
    "# Bessel function "
   ]
  },
  {
   "cell_type": "markdown",
   "metadata": {},
   "source": [
    "https://en.wikipedia.org/wiki/Bessel_function\n",
    "<span style=\"font-family: Cosmic Sans MS; font-size:2em; color: #808000\">\n",
    "   \n",
    "$$\n",
    "x^{2} \\frac{d^{2} y}{d x^{2}}+x \\frac{d y}{d x}+\\left(x^{2}-\\alpha^{2}\\right) y=0\n",
    "$$"
   ]
  },
  {
   "cell_type": "markdown",
   "metadata": {},
   "source": [
    "First kind \n",
    "$$\n",
    "J_{\\alpha}(x)=\\sum_{m=0}^{\\infty} \\frac{(-1)^{m}}{m ! \\Gamma(m+\\alpha+1)}\\left(\\frac{x}{2}\\right)^{2 m+\\alpha}\n",
    "$$\n",
    "\n",
    "Second kind\n",
    "$$\n",
    "Y_{\\alpha}(x)=\\frac{J_{\\alpha}(x) \\cos (\\alpha \\pi)-J_{-\\alpha}(x)}{\\sin (\\alpha \\pi)}\n",
    "$$"
   ]
  },
  {
   "cell_type": "markdown",
   "metadata": {},
   "source": [
    "https://docs.scipy.org/doc/scipy/reference/special.html"
   ]
  },
  {
   "cell_type": "code",
   "execution_count": null,
   "metadata": {
    "ExecuteTime": {
     "end_time": "2019-11-28T08:31:39.812990Z",
     "start_time": "2019-11-28T08:31:39.749657Z"
    }
   },
   "outputs": [],
   "source": [
    "scipy.special.jv(2,3)"
   ]
  },
  {
   "cell_type": "code",
   "execution_count": null,
   "metadata": {
    "ExecuteTime": {
     "end_time": "2019-11-28T08:31:40.188861Z",
     "start_time": "2019-11-28T08:31:40.179554Z"
    }
   },
   "outputs": [],
   "source": [
    "from sympy import Eq, E, Function, pde_separate_add, Derivative as D\n",
    "from sympy.abc import x, t\n",
    "u, X, T = map(Function, 'uXT')"
   ]
  },
  {
   "cell_type": "code",
   "execution_count": null,
   "metadata": {
    "ExecuteTime": {
     "end_time": "2019-11-28T08:33:57.229155Z",
     "start_time": "2019-11-28T08:33:57.130008Z"
    }
   },
   "outputs": [],
   "source": [
    "eq = Eq(D(u(x, t), x), E**(u(x, t))*D(u(x, t), t))\n",
    "pde_separate_add(eq, u(x, t), [X(x), T(t)])"
   ]
  },
  {
   "cell_type": "markdown",
   "metadata": {},
   "source": [
    "## Plot of Bessel function \n",
    "Plot of Bessel function of the first kind, Jα(x), for integer orders α = 0, 1, 2"
   ]
  },
  {
   "cell_type": "markdown",
   "metadata": {},
   "source": [
    "# Eigen(Characteristic) vector"
   ]
  },
  {
   "cell_type": "markdown",
   "metadata": {
    "ExecuteTime": {
     "end_time": "2019-11-22T14:03:34.579391Z",
     "start_time": "2019-11-22T14:03:34.574223Z"
    }
   },
   "source": [
    "http://mathworld.wolfram.com/Eigenvector.html"
   ]
  },
  {
   "cell_type": "markdown",
   "metadata": {},
   "source": [
    "```md\n",
    "Eigen vector and Eigen value of Matrix.(矩阵的特征值和特征向量)\n",
    "特征向量是方向\n",
    "特征值是缩放因子。\n",
    "```"
   ]
  },
  {
   "cell_type": "code",
   "execution_count": null,
   "metadata": {
    "ExecuteTime": {
     "end_time": "2019-11-28T08:33:14.942638Z",
     "start_time": "2019-11-28T08:33:14.920557Z"
    }
   },
   "outputs": [],
   "source": [
    "A = sympy.Matrix(np.random.randint(1,10, (2,2)))\n",
    "A"
   ]
  },
  {
   "cell_type": "code",
   "execution_count": null,
   "metadata": {
    "ExecuteTime": {
     "end_time": "2019-11-28T08:33:15.569539Z",
     "start_time": "2019-11-28T08:33:15.523140Z"
    }
   },
   "outputs": [],
   "source": [
    "type(A.eigenvals())\n",
    "A.eigenvals()\n",
    "np.array(list(A.eigenvals().keys()))"
   ]
  },
  {
   "cell_type": "code",
   "execution_count": null,
   "metadata": {
    "ExecuteTime": {
     "end_time": "2019-11-28T08:33:17.883549Z",
     "start_time": "2019-11-28T08:33:17.843854Z"
    }
   },
   "outputs": [],
   "source": [
    "A.eigenvects()"
   ]
  },
  {
   "cell_type": "code",
   "execution_count": null,
   "metadata": {
    "ExecuteTime": {
     "end_time": "2019-11-28T08:33:18.080136Z",
     "start_time": "2019-11-28T08:33:18.068579Z"
    }
   },
   "outputs": [],
   "source": [
    "np.dot(A, np.array(list(A.eigenvals().keys())))"
   ]
  }
 ],
 "metadata": {
  "hide_input": false,
  "kernelspec": {
   "display_name": "Python 3",
   "language": "python",
   "name": "python3"
  },
  "language_info": {
   "codemirror_mode": {
    "name": "ipython",
    "version": 3
   },
   "file_extension": ".py",
   "mimetype": "text/x-python",
   "name": "python",
   "nbconvert_exporter": "python",
   "pygments_lexer": "ipython3",
   "version": "3.7.4"
  },
  "toc": {
   "base_numbering": 1,
   "nav_menu": {},
   "number_sections": true,
   "sideBar": true,
   "skip_h1_title": false,
   "title_cell": "Table of Contents",
   "title_sidebar": "Contents",
   "toc_cell": false,
   "toc_position": {},
   "toc_section_display": true,
   "toc_window_display": true
  },
  "varInspector": {
   "cols": {
    "lenName": 16,
    "lenType": 16,
    "lenVar": 40
   },
   "kernels_config": {
    "python": {
     "delete_cmd_postfix": "",
     "delete_cmd_prefix": "del ",
     "library": "var_list.py",
     "varRefreshCmd": "print(var_dic_list())"
    },
    "r": {
     "delete_cmd_postfix": ") ",
     "delete_cmd_prefix": "rm(",
     "library": "var_list.r",
     "varRefreshCmd": "cat(var_dic_list()) "
    }
   },
   "types_to_exclude": [
    "module",
    "function",
    "builtin_function_or_method",
    "instance",
    "_Feature"
   ],
   "window_display": false
  }
 },
 "nbformat": 4,
 "nbformat_minor": 2
}
