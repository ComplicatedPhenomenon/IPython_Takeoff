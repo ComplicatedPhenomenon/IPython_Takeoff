{
 "cells": [
  {
   "cell_type": "markdown",
   "metadata": {},
   "source": [
    "# Polynomials "
   ]
  },
  {
   "cell_type": "code",
   "execution_count": null,
   "metadata": {},
   "outputs": [],
   "source": [
    "import scipy as sp"
   ]
  },
  {
   "cell_type": "markdown",
   "metadata": {},
   "source": [
    "\\begin{array} { l } { \\left( 3 x ^ { 3 } + 4 x ^ { 2 } + 5 x + 5 \\right) \\left( 4 x ^ { 3 } + x ^ { 2 } - 3 x + 3 \\right) } \\\\ { = \\left( 12 x ^ { 6 } + 9 x ^ { 5 } + 15 x ^ { 4 } + 22 x ^ { 3 } + 2 x ^ { 2 } + 15 \\right) } \\end{array}"
   ]
  },
  {
   "cell_type": "code",
   "execution_count": null,
   "metadata": {},
   "outputs": [],
   "source": [
    "#function that multiplies 2 polynomials\n",
    "def multiplyPoly():\n",
    "    # cubic1 has coefficents 3, 4, 5 and 5\n",
    "    cubic1 = sp.poly1d([3, 4, 5, 5])\n",
    "    \n",
    "    #cubic2 has coefficients 4, 1, -3 and 3\n",
    "    cubic2 = sp.poly1d([4, 1, -3, 3])\n",
    "    print (cubic1)\n",
    "    print (cubic2)\n",
    "    print ('-' * 36)\n",
    "    #print results of polynomial multiplication\n",
    "    print (cubic1 * cubic2)\n",
    "multiplyPoly()  # produces the following result"
   ]
  },
  {
   "cell_type": "markdown",
   "metadata": {},
   "source": [
    "$$\n",
    "\\frac { d } { d x } \\left( \\frac { 1 } { 1 + \\cos ^ { 2 } ( x ) } \\right) = \\frac { \\sin 2 x } { \\left( 1 + \\cos ^ { 2 } x \\right) ^ { 2 } }\n",
    "$$"
   ]
  },
  {
   "cell_type": "markdown",
   "metadata": {},
   "source": [
    "# Derivative "
   ]
  },
  {
   "cell_type": "code",
   "execution_count": null,
   "metadata": {},
   "outputs": [],
   "source": [
    "import numpy as np\n",
    "import matplotlib.pyplot as plt\n",
    "%matplotlib inline"
   ]
  },
  {
   "cell_type": "code",
   "execution_count": null,
   "metadata": {},
   "outputs": [],
   "source": [
    "x = np.linspace(-np.pi/2, np.pi/2, 44)\n",
    "y = 1/(1+np.cos(x)*np.cos(x))\n",
    "dy_actual = np.sin(2*x)/(1+np.cos(x)*np.cos(x))**2\n",
    "fig = plt.figure(figsize=(10,10))\n",
    "ax=fig.add_subplot(111,facecolor='white')\n",
    "# we need to specify the size of dy ahead because diff returns\n",
    "dy = np.zeros(y.shape, np.float) #we know it will be this size\n",
    "dy[0:-1] = np.diff(y) / np.diff(x)\n",
    "dy[-1] = (y[-1] - y[-2]) / (x[-1] - x[-2])\n",
    "plt.plot(x,y, linewidth=3, color='b', label='actual function')\n",
    "plt.plot(x,dy_actual,label='actual derivative', linewidth=2,\n",
    "color='r')\n",
    "plt.plot(x,dy,label='forward diff', linewidth=2, color='g')\n",
    "plt.legend(loc='upper center')\n",
    "plt.show()"
   ]
  }
 ],
 "metadata": {
  "hide_input": false,
  "kernelspec": {
   "display_name": "Python 3",
   "language": "python",
   "name": "python3"
  },
  "language_info": {
   "codemirror_mode": {
    "name": "ipython",
    "version": 3
   },
   "file_extension": ".py",
   "mimetype": "text/x-python",
   "name": "python",
   "nbconvert_exporter": "python",
   "pygments_lexer": "ipython3",
   "version": "3.7.2"
  },
  "toc": {
   "base_numbering": 1,
   "nav_menu": {},
   "number_sections": true,
   "sideBar": true,
   "skip_h1_title": false,
   "title_cell": "Table of Contents",
   "title_sidebar": "Contents",
   "toc_cell": false,
   "toc_position": {},
   "toc_section_display": true,
   "toc_window_display": false
  },
  "varInspector": {
   "cols": {
    "lenName": 16,
    "lenType": 16,
    "lenVar": 40
   },
   "kernels_config": {
    "python": {
     "delete_cmd_postfix": "",
     "delete_cmd_prefix": "del ",
     "library": "var_list.py",
     "varRefreshCmd": "print(var_dic_list())"
    },
    "r": {
     "delete_cmd_postfix": ") ",
     "delete_cmd_prefix": "rm(",
     "library": "var_list.r",
     "varRefreshCmd": "cat(var_dic_list()) "
    }
   },
   "types_to_exclude": [
    "module",
    "function",
    "builtin_function_or_method",
    "instance",
    "_Feature"
   ],
   "window_display": false
  }
 },
 "nbformat": 4,
 "nbformat_minor": 2
}
