{
 "cells": [
  {
   "cell_type": "code",
   "execution_count": null,
   "metadata": {
    "ExecuteTime": {
     "end_time": "2019-12-15T14:41:41.269047Z",
     "start_time": "2019-12-15T14:41:41.255885Z"
    }
   },
   "outputs": [],
   "source": [
    "from IPython.core.interactiveshell import InteractiveShell\n",
    "InteractiveShell.ast_node_interactivity = \"all\" "
   ]
  },
  {
   "cell_type": "code",
   "execution_count": null,
   "metadata": {
    "ExecuteTime": {
     "end_time": "2019-12-15T14:41:44.343893Z",
     "start_time": "2019-12-15T14:41:42.515383Z"
    }
   },
   "outputs": [],
   "source": [
    "%matplotlib inline\n",
    "import matplotlib.pyplot as plt"
   ]
  },
  {
   "cell_type": "code",
   "execution_count": null,
   "metadata": {
    "ExecuteTime": {
     "end_time": "2019-12-15T15:29:08.811445Z",
     "start_time": "2019-12-15T15:29:02.087894Z"
    }
   },
   "outputs": [],
   "source": [
    "import seaborn as sns"
   ]
  },
  {
   "cell_type": "code",
   "execution_count": null,
   "metadata": {
    "ExecuteTime": {
     "end_time": "2019-12-15T14:41:44.353448Z",
     "start_time": "2019-12-15T14:41:44.346876Z"
    }
   },
   "outputs": [],
   "source": [
    "import numpy as np"
   ]
  },
  {
   "cell_type": "code",
   "execution_count": null,
   "metadata": {
    "ExecuteTime": {
     "end_time": "2019-12-15T14:41:44.723853Z",
     "start_time": "2019-12-15T14:41:44.356251Z"
    }
   },
   "outputs": [],
   "source": [
    "import scipy "
   ]
  },
  {
   "cell_type": "code",
   "execution_count": null,
   "metadata": {
    "ExecuteTime": {
     "end_time": "2019-12-15T14:41:46.647410Z",
     "start_time": "2019-12-15T14:41:44.726596Z"
    }
   },
   "outputs": [],
   "source": [
    "from sympy import * "
   ]
  },
  {
   "cell_type": "code",
   "execution_count": null,
   "metadata": {
    "ExecuteTime": {
     "end_time": "2019-12-15T14:41:46.652597Z",
     "start_time": "2019-12-15T14:41:46.649251Z"
    }
   },
   "outputs": [],
   "source": [
    "from sympy import var, plot_implicit"
   ]
  },
  {
   "cell_type": "markdown",
   "metadata": {},
   "source": [
    "# Polynomials "
   ]
  },
  {
   "cell_type": "markdown",
   "metadata": {},
   "source": [
    "\\begin{array} { l } { \\left( 3 x ^ { 3 } + 4 x ^ { 2 } + 5 x + 5 \\right) \\left( 4 x ^ { 3 } + x ^ { 2 } - 3 x + 3 \\right) } \\\\ { = \\left( 12 x ^ { 6 } + 9 x ^ { 5 } + 15 x ^ { 4 } + 22 x ^ { 3 } + 2 x ^ { 2 } + 15 \\right) } \\end{array}"
   ]
  },
  {
   "cell_type": "code",
   "execution_count": null,
   "metadata": {
    "ExecuteTime": {
     "end_time": "2019-12-15T14:35:05.001770Z",
     "start_time": "2019-12-15T14:35:04.994559Z"
    }
   },
   "outputs": [],
   "source": [
    "multiply_polynomials = lambda p1, p2: p1 * p2\n",
    "p1 = scipy.poly1d([3, 4, 5, 5])  \n",
    "p2 = scipy.poly1d([4, 1, -3, 3])\n",
    "print(multiply_polynomials(p1, p2))"
   ]
  },
  {
   "cell_type": "markdown",
   "metadata": {},
   "source": [
    "# Derivative "
   ]
  },
  {
   "cell_type": "markdown",
   "metadata": {},
   "source": [
    "$$\n",
    "\\frac { d } { d x } \\left( \\frac { 1 } { 1 + \\cos ^ { 2 } ( x ) } \\right) = \\frac { \\sin 2 x } { \\left( 1 + \\cos ^ { 2 } x \\right) ^ { 2 } }\n",
    "$$"
   ]
  },
  {
   "cell_type": "markdown",
   "metadata": {},
   "source": [
    "# Tayler series visualization"
   ]
  },
  {
   "cell_type": "markdown",
   "metadata": {},
   "source": [
    "$$\\exp(x) = \\sum_{n=0}^\\infty\\frac{1}{n!}x^n= \\sum_{n=0}^\\infty f(n, x) $$"
   ]
  },
  {
   "cell_type": "code",
   "execution_count": null,
   "metadata": {
    "ExecuteTime": {
     "end_time": "2019-12-15T14:50:13.458144Z",
     "start_time": "2019-12-15T14:50:13.446062Z"
    }
   },
   "outputs": [],
   "source": [
    "f = lambda n, x: 1 / (np.math.factorial(n)) * np.power(x, n)\n",
    "sum([f(n, 3) for n in range(0, 100)])\n",
    "zz = lambda x, y: sum([f(n, x) for n in range(0, y)]) "
   ]
  },
  {
   "cell_type": "code",
   "execution_count": null,
   "metadata": {
    "ExecuteTime": {
     "end_time": "2019-12-15T15:12:43.759476Z",
     "start_time": "2019-12-15T15:12:43.566064Z"
    }
   },
   "outputs": [],
   "source": [
    "x = np.linspace(-2,2,100)\n",
    "_ = plt.plot(x, np.exp(x),'.')\n",
    "_ = plt.plot(x, zz(x, 1), x, zz(x, 2), x, zz(x, 3), x, zz(x, 4))\n",
    "_ = plt.show() "
   ]
  },
  {
   "cell_type": "code",
   "execution_count": null,
   "metadata": {
    "ExecuteTime": {
     "end_time": "2019-12-15T14:38:14.147733Z",
     "start_time": "2019-12-15T14:38:12.465082Z"
    }
   },
   "outputs": [],
   "source": [
    "var('x y')\n",
    "plot_implicit(x * y**3 - y * x**3)"
   ]
  },
  {
   "cell_type": "markdown",
   "metadata": {},
   "source": [
    "# `scipy.stats`"
   ]
  },
  {
   "cell_type": "code",
   "execution_count": null,
   "metadata": {
    "ExecuteTime": {
     "end_time": "2019-12-15T14:45:04.060441Z",
     "start_time": "2019-12-15T14:45:03.857377Z"
    }
   },
   "outputs": [],
   "source": [
    "from scipy import stats"
   ]
  },
  {
   "cell_type": "code",
   "execution_count": null,
   "metadata": {
    "ExecuteTime": {
     "end_time": "2019-12-15T14:51:54.386438Z",
     "start_time": "2019-12-15T14:51:54.366742Z"
    }
   },
   "outputs": [],
   "source": [
    "print(*[i for i in dir(stats.norm) if not i.startswith('_')])"
   ]
  },
  {
   "cell_type": "code",
   "execution_count": null,
   "metadata": {
    "ExecuteTime": {
     "end_time": "2019-12-15T14:53:13.710319Z",
     "start_time": "2019-12-15T14:53:13.699178Z"
    }
   },
   "outputs": [],
   "source": [
    "stats.describe([1,2,4,6])"
   ]
  },
  {
   "cell_type": "code",
   "execution_count": null,
   "metadata": {
    "ExecuteTime": {
     "end_time": "2019-12-15T15:30:21.271391Z",
     "start_time": "2019-12-15T15:30:20.841546Z"
    }
   },
   "outputs": [],
   "source": [
    "sample = stats.norm.rvs(size = 1000)\n",
    "\n",
    "ax = sns.distplot(sample,\n",
    "                  bins=100,\n",
    "                  kde=False,\n",
    "                  color='skyblue',\n",
    "                  hist_kws={\n",
    "                      \"linewidth\": 15,\n",
    "                      'alpha': 1\n",
    "                  })\n",
    "_ = ax.set(xlabel='Normal', ylabel='Frequency')"
   ]
  }
 ],
 "metadata": {
  "hide_input": false,
  "kernelspec": {
   "display_name": "Python 3",
   "language": "python",
   "name": "python3"
  },
  "language_info": {
   "codemirror_mode": {
    "name": "ipython",
    "version": 3
   },
   "file_extension": ".py",
   "mimetype": "text/x-python",
   "name": "python",
   "nbconvert_exporter": "python",
   "pygments_lexer": "ipython3",
   "version": "3.7.4"
  },
  "toc": {
   "base_numbering": 1,
   "nav_menu": {},
   "number_sections": true,
   "sideBar": true,
   "skip_h1_title": false,
   "title_cell": "Table of Contents",
   "title_sidebar": "Contents",
   "toc_cell": false,
   "toc_position": {},
   "toc_section_display": true,
   "toc_window_display": false
  },
  "varInspector": {
   "cols": {
    "lenName": 16,
    "lenType": 16,
    "lenVar": 40
   },
   "kernels_config": {
    "python": {
     "delete_cmd_postfix": "",
     "delete_cmd_prefix": "del ",
     "library": "var_list.py",
     "varRefreshCmd": "print(var_dic_list())"
    },
    "r": {
     "delete_cmd_postfix": ") ",
     "delete_cmd_prefix": "rm(",
     "library": "var_list.r",
     "varRefreshCmd": "cat(var_dic_list()) "
    }
   },
   "types_to_exclude": [
    "module",
    "function",
    "builtin_function_or_method",
    "instance",
    "_Feature"
   ],
   "window_display": false
  }
 },
 "nbformat": 4,
 "nbformat_minor": 2
}
