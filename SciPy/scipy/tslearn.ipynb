{
 "cells": [
  {
   "cell_type": "code",
   "execution_count": 1,
   "metadata": {
    "ExecuteTime": {
     "end_time": "2020-02-20T05:41:51.712679Z",
     "start_time": "2020-02-20T05:41:51.707437Z"
    }
   },
   "outputs": [],
   "source": [
    "from IPython.core.interactiveshell import InteractiveShell\n",
    "InteractiveShell.ast_node_interactivity = \"all\""
   ]
  },
  {
   "cell_type": "code",
   "execution_count": 2,
   "metadata": {
    "ExecuteTime": {
     "end_time": "2020-02-17T05:31:35.797159Z",
     "start_time": "2020-02-17T05:31:35.351800Z"
    }
   },
   "outputs": [],
   "source": [
    "import numpy as np\n",
    "import pandas as pd"
   ]
  },
  {
   "cell_type": "code",
   "execution_count": 3,
   "metadata": {
    "ExecuteTime": {
     "end_time": "2020-02-17T05:31:35.949434Z",
     "start_time": "2020-02-17T05:31:35.799691Z"
    }
   },
   "outputs": [],
   "source": [
    "%matplotlib inline\n",
    "import matplotlib.pylab as plt"
   ]
  },
  {
   "cell_type": "code",
   "execution_count": 2,
   "metadata": {
    "ExecuteTime": {
     "end_time": "2020-02-20T05:42:14.770204Z",
     "start_time": "2020-02-20T05:41:56.024808Z"
    }
   },
   "outputs": [
    {
     "data": {
      "text/plain": [
       "KNeighborsTimeSeries(metric='dtw', metric_params=None, n_jobs=None,\n",
       "                     n_neighbors=3, verbose=0)"
      ]
     },
     "execution_count": 2,
     "metadata": {},
     "output_type": "execute_result"
    },
    {
     "name": "stdout",
     "output_type": "stream",
     "text": [
      "1. Nearest neighbour search\n",
      "Computed nearest neighbor indices (wrt DTW)\n",
      " [[10 12  2]\n",
      " [ 0 13  5]\n",
      " [ 0  1 13]\n",
      " [ 0 11  5]\n",
      " [16 18 12]\n",
      " [ 3 17  9]\n",
      " [12  2 16]\n",
      " [ 7  3 17]\n",
      " [12  2 10]\n",
      " [12  2 18]\n",
      " [12  8  2]\n",
      " [ 3 17  7]\n",
      " [18 19  2]\n",
      " [ 0 17 13]\n",
      " [ 9  3  7]\n",
      " [12  2  8]\n",
      " [ 3  7  9]\n",
      " [ 0  1 13]\n",
      " [18 10  2]\n",
      " [10 12  2]]\n",
      "First nearest neighbor class: [0 0 0 0 1 1 0 1 0 0 0 1 0 0 0 0 1 0 0 0]\n"
     ]
    },
    {
     "data": {
      "text/plain": [
       "KNeighborsTimeSeriesClassifier(metric='dtw', metric_params=None, n_jobs=None,\n",
       "                               n_neighbors=3, verbose=0, weights='uniform')"
      ]
     },
     "execution_count": 2,
     "metadata": {},
     "output_type": "execute_result"
    },
    {
     "name": "stdout",
     "output_type": "stream",
     "text": [
      "\n",
      "2. Nearest neighbor classification using DTW\n",
      "Correct classification rate: 1.0\n"
     ]
    },
    {
     "data": {
      "text/plain": [
       "KNeighborsTimeSeriesClassifier(metric='euclidean', metric_params=None,\n",
       "                               n_jobs=None, n_neighbors=3, verbose=0,\n",
       "                               weights='uniform')"
      ]
     },
     "execution_count": 2,
     "metadata": {},
     "output_type": "execute_result"
    },
    {
     "name": "stdout",
     "output_type": "stream",
     "text": [
      "\n",
      "3. Nearest neighbor classification using L2\n",
      "Correct classification rate: 1.0\n"
     ]
    },
    {
     "data": {
      "text/plain": [
       "Pipeline(memory=None,\n",
       "         steps=[('sax',\n",
       "                 <tslearn.piecewise.SymbolicAggregateApproximation object at 0x7f35130ee950>),\n",
       "                ('knn',\n",
       "                 KNeighborsTimeSeriesClassifier(metric='euclidean',\n",
       "                                                metric_params=None, n_jobs=None,\n",
       "                                                n_neighbors=3, verbose=0,\n",
       "                                                weights='uniform'))],\n",
       "         verbose=False)"
      ]
     },
     "execution_count": 2,
     "metadata": {},
     "output_type": "execute_result"
    },
    {
     "name": "stdout",
     "output_type": "stream",
     "text": [
      "\n",
      "4. Nearest neighbor classification using SAX+MINDIST\n",
      "Correct classification rate: 1.0\n"
     ]
    }
   ],
   "source": [
    "from __future__ import print_function\n",
    "import numpy\n",
    "from sklearn.metrics import accuracy_score\n",
    "from sklearn.pipeline import Pipeline\n",
    "\n",
    "from tslearn.generators import random_walk_blobs\n",
    "from tslearn.preprocessing import TimeSeriesScalerMinMax\n",
    "from tslearn.neighbors import KNeighborsTimeSeriesClassifier, \\\n",
    "    KNeighborsTimeSeries\n",
    "from tslearn.piecewise import SymbolicAggregateApproximation\n",
    "\n",
    "numpy.random.seed(0)\n",
    "n_ts_per_blob, sz, d, n_blobs = 20, 100, 1, 2\n",
    "\n",
    "# Prepare data\n",
    "X, y = random_walk_blobs(n_ts_per_blob=n_ts_per_blob,\n",
    "                         sz=sz,\n",
    "                         d=d,\n",
    "                         n_blobs=n_blobs)\n",
    "scaler = TimeSeriesScalerMinMax(value_range=(0., 1.))  # Rescale time series\n",
    "X_scaled = scaler.fit_transform(X)\n",
    "\n",
    "indices_shuffle = numpy.random.permutation(n_ts_per_blob * n_blobs)\n",
    "X_shuffle = X_scaled[indices_shuffle]\n",
    "y_shuffle = y[indices_shuffle]\n",
    "\n",
    "X_train = X_shuffle[:n_ts_per_blob * n_blobs // 2]\n",
    "X_test = X_shuffle[n_ts_per_blob * n_blobs // 2:]\n",
    "y_train = y_shuffle[:n_ts_per_blob * n_blobs // 2]\n",
    "y_test = y_shuffle[n_ts_per_blob * n_blobs // 2:]\n",
    "\n",
    "# Nearest neighbor search\n",
    "knn = KNeighborsTimeSeries(n_neighbors=3, metric=\"dtw\")\n",
    "knn.fit(X_train, y_train)\n",
    "dists, ind = knn.kneighbors(X_test)\n",
    "print(\"1. Nearest neighbour search\")\n",
    "print(\"Computed nearest neighbor indices (wrt DTW)\\n\", ind)\n",
    "print(\"First nearest neighbor class:\", y_test[ind[:, 0]])\n",
    "\n",
    "# Nearest neighbor classification\n",
    "knn_clf = KNeighborsTimeSeriesClassifier(n_neighbors=3, metric=\"dtw\")\n",
    "knn_clf.fit(X_train, y_train)\n",
    "predicted_labels = knn_clf.predict(X_test)\n",
    "print(\"\\n2. Nearest neighbor classification using DTW\")\n",
    "print(\"Correct classification rate:\", accuracy_score(y_test, predicted_labels))\n",
    "\n",
    "# Nearest neighbor classification with a different metric (Euclidean distance)\n",
    "knn_clf = KNeighborsTimeSeriesClassifier(n_neighbors=3, metric=\"euclidean\")\n",
    "knn_clf.fit(X_train, y_train)\n",
    "predicted_labels = knn_clf.predict(X_test)\n",
    "print(\"\\n3. Nearest neighbor classification using L2\")\n",
    "print(\"Correct classification rate:\", accuracy_score(y_test, predicted_labels))\n",
    "\n",
    "# Nearest neighbor classification  based on SAX representation\n",
    "sax_trans = SymbolicAggregateApproximation(n_segments=10, alphabet_size_avg=5)\n",
    "knn_clf = KNeighborsTimeSeriesClassifier(n_neighbors=3, metric=\"euclidean\")\n",
    "pipeline_model = Pipeline(steps=[('sax', sax_trans), ('knn', knn_clf)])\n",
    "pipeline_model.fit(X_train, y_train)\n",
    "predicted_labels = pipeline_model.predict(X_test)\n",
    "print(\"\\n4. Nearest neighbor classification using SAX+MINDIST\")\n",
    "print(\"Correct classification rate:\", accuracy_score(y_test, predicted_labels))\n"
   ]
  },
  {
   "cell_type": "code",
   "execution_count": null,
   "metadata": {},
   "outputs": [],
   "source": []
  }
 ],
 "metadata": {
  "kernelspec": {
   "display_name": "Python 3",
   "language": "python",
   "name": "python3"
  },
  "language_info": {
   "codemirror_mode": {
    "name": "ipython",
    "version": 3
   },
   "file_extension": ".py",
   "mimetype": "text/x-python",
   "name": "python",
   "nbconvert_exporter": "python",
   "pygments_lexer": "ipython3",
   "version": "3.7.4"
  },
  "toc": {
   "base_numbering": 1,
   "nav_menu": {},
   "number_sections": true,
   "sideBar": true,
   "skip_h1_title": false,
   "title_cell": "Table of Contents",
   "title_sidebar": "Contents",
   "toc_cell": false,
   "toc_position": {},
   "toc_section_display": true,
   "toc_window_display": false
  }
 },
 "nbformat": 4,
 "nbformat_minor": 2
}
