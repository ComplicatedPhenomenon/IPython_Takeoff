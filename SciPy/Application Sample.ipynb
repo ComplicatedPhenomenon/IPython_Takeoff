{
 "cells": [
  {
   "cell_type": "markdown",
   "metadata": {},
   "source": [
    "2018-12-27 17:01:51 "
   ]
  },
  {
   "cell_type": "code",
   "execution_count": null,
   "metadata": {},
   "outputs": [],
   "source": [
    "%matplotlib inline\n",
    "\n",
    "import matplotlib.pyplot as plt\n",
    "import numpy as np\n",
    "import pandas as pd\n",
    "import scipy.stats as st"
   ]
  },
  {
   "cell_type": "code",
   "execution_count": null,
   "metadata": {},
   "outputs": [],
   "source": [
    "import os\n",
    "\n",
    "plt.style.use(os.path.join(os.getcwd(), 'mystyle.mplstyle'))"
   ]
  },
  {
   "cell_type": "markdown",
   "metadata": {},
   "source": [
    "# Get the data"
   ]
  },
  {
   "cell_type": "code",
   "execution_count": null,
   "metadata": {},
   "outputs": [],
   "source": [
    "import urllib.request\n",
    "suicide_rate_url = 'http://apps.who.int/gho/athena/data/xmart.csv?target=GHO/MH_12&profile=crosstable&filter=COUNTRY:*;REGION:*&x-sideaxis=COUNTRY&x-topaxis=GHO;YEAR;SEX'\n",
    "local_filename, headers = urllib.request.urlretrieve(suicide_rate_url, filename='who_suicide_rates.csv')\n",
    "#local_filename, headers = urllib.request.urlretrieve(sucide_rate_url)"
   ]
  },
  {
   "cell_type": "code",
   "execution_count": null,
   "metadata": {},
   "outputs": [],
   "source": [
    "local_filename = 'who_suicide_rates.csv'\n",
    "import pandas \n",
    "from pandas_datareader import data\n",
    "rates = pandas.read_csv(local_filename, names=['Country','Both', 'Female', 'Male'], skiprows=3)\n",
    "rates.head(10)"
   ]
  },
  {
   "cell_type": "code",
   "execution_count": null,
   "metadata": {},
   "outputs": [],
   "source": [
    "rates.plot.hist(stacked=True,y=['Male', 'Female'],\n",
    "                bins=30, color=['Coral', 'Green'])\n",
    "plt.xlabel('Rate');"
   ]
  },
  {
   "cell_type": "code",
   "execution_count": null,
   "metadata": {},
   "outputs": [],
   "source": [
    "print(rates['Male'].mean(), rates['Female'].mean())"
   ]
  },
  {
   "cell_type": "code",
   "execution_count": null,
   "metadata": {},
   "outputs": [],
   "source": [
    "rates.boxplot(['Both', 'Male','Female']);"
   ]
  },
  {
   "cell_type": "code",
   "execution_count": null,
   "metadata": {},
   "outputs": [],
   "source": [
    "print(rates[rates['Both']>40])"
   ]
  },
  {
   "cell_type": "code",
   "execution_count": null,
   "metadata": {},
   "outputs": [],
   "source": [
    "def plot_cdf(data, plot_range=None, scale_to=None, nbins=False, **kwargs):\n",
    "    if not nbins:\n",
    "        nbins= len(data)\n",
    "    sorted_data = np.array(sorted(data), dtype=np.float64)\n",
    "    data_range = sorted_data[-1] - sorted_data[0]\n",
    "    counts, bin_edges = np.histogram(sorted_data, bins=nbins)\n",
    "    xvalues = bin_edges[1:]\n",
    "    yvalues = np.cumsum(counts)\n",
    "    if plot_range is None:\n",
    "        xmin = xvalues[0]\n",
    "        xmax = xvalues[-1]\n",
    "    else:\n",
    "        xmin, xmax = plot_range\n",
    "    # pad the arrays\n",
    "    xvalues = np.concatenate([[xmin, xvalues[0]], xvalues, [xmax]])\n",
    "    yvalues = np.concatenate([[0.0, 0.0],        yvalues, [yvalues.max()]])\n",
    "    if scale_to:\n",
    "        yvalues = yvalues / len(data) * scale_to\n",
    "    plt.axis([xmin, xmax, 0, yvalues.max()])\n",
    "    return plt.step(xvalues, yvalues, **kwargs)"
   ]
  },
  {
   "cell_type": "code",
   "execution_count": null,
   "metadata": {},
   "outputs": [],
   "source": [
    "plot_cdf(rates['Both'], nbins=50, plot_range=[-5, 70])"
   ]
  },
  {
   "cell_type": "code",
   "execution_count": null,
   "metadata": {},
   "outputs": [],
   "source": [
    "st.probplot(rates['Both'], dist='norm', plot=plt);"
   ]
  },
  {
   "cell_type": "code",
   "execution_count": null,
   "metadata": {},
   "outputs": [],
   "source": [
    "eta = 1.\n",
    "beta = 1.5\n",
    "rvweib = st.weibull_min(beta, scale=eta)\n",
    "results = st.probplot(rates['Both'], dist=rvweib, plot=plt)"
   ]
  },
  {
   "cell_type": "code",
   "execution_count": null,
   "metadata": {},
   "outputs": [],
   "source": [
    "st.weibull_min.fit?"
   ]
  },
  {
   "cell_type": "code",
   "execution_count": null,
   "metadata": {},
   "outputs": [],
   "source": [
    "beta, loc, eta = st.weibull_min.fit(rates['Both'], floc=0, scale = 12)\n",
    "print(beta, loc, eta)"
   ]
  },
  {
   "cell_type": "code",
   "execution_count": null,
   "metadata": {},
   "outputs": [],
   "source": [
    "rates['Both'].hist(bins=30)\n",
    "np.random.seed(1100)\n",
    "rvweib = st.weibull_min(beta, scale=eta)\n",
    "plt.hist(rvweib.rvs(size=len(rates.Both)),bins=30, alpha=0.5);"
   ]
  },
  {
   "cell_type": "code",
   "execution_count": null,
   "metadata": {},
   "outputs": [],
   "source": [
    "plot_cdf(rates['Both'], nbins=50,scale_to=1)\n",
    "np.random.seed(1100)\n",
    "plot_cdf(rvweib.rvs(size=50),scale_to=1)\n",
    "plt.xlim((-2,50));"
   ]
  },
  {
   "cell_type": "code",
   "execution_count": null,
   "metadata": {},
   "outputs": [],
   "source": [
    "coords = pandas.read_csv('data/country_centroids/country_centroids_primary.csv', sep='\\t')\n",
    "coords.keys()"
   ]
  },
  {
   "cell_type": "code",
   "execution_count": null,
   "metadata": {},
   "outputs": [],
   "source": [
    "coords.head()"
   ]
  },
  {
   "cell_type": "code",
   "execution_count": null,
   "metadata": {},
   "outputs": [],
   "source": [
    "rates['Lat'] = ''\n",
    "rates['Lon'] = ''\n",
    "for i in coords.index:\n",
    "    ind = rates.Country.isin([coords.SHORT_NAME[i]])\n",
    "    val = coords.loc[i, ['LAT', 'LONG']].values.astype('float')\n",
    "    rates.loc[ind, ['Lat', 'Lon'] ] = list(val)"
   ]
  },
  {
   "cell_type": "code",
   "execution_count": null,
   "metadata": {},
   "outputs": [],
   "source": [
    "rates.head()"
   ]
  },
  {
   "cell_type": "code",
   "execution_count": null,
   "metadata": {},
   "outputs": [],
   "source": [
    "rates.loc[rates.Lat.isin(['']), ['Lat']] = np.nan\n",
    "rates.loc[rates.Lon.isin(['']), ['Lon']] = np.nan\n",
    "rates[['Lat', 'Lon']] = rates[['Lat', 'Lon']].astype('float')"
   ]
  },
  {
   "cell_type": "code",
   "execution_count": null,
   "metadata": {},
   "outputs": [],
   "source": [
    "rates['DFE'] = ''\n",
    "rates['DFE'] = abs(rates.Lat)\n",
    "rates['DFE'] = rates['DFE'].astype('float')"
   ]
  },
  {
   "cell_type": "code",
   "execution_count": null,
   "metadata": {},
   "outputs": [],
   "source": [
    "import matplotlib.patches as patches\n",
    "import matplotlib.transforms as transforms\n",
    "\n",
    "fig = plt.figure()\n",
    "ax = fig.add_subplot(111)\n",
    "ax.plot(rates.DFE, rates.Both, '.')\n",
    "\n",
    "trans = transforms.blended_transform_factory(\n",
    "    ax.transData, ax.transAxes)\n",
    "\n",
    "rect = patches.Rectangle((0,0), width=23.5, height=1,\n",
    "                         transform=trans, color='yellow',\n",
    "                         alpha=0.5)\n",
    "ax.set_xlabel('DFE')\n",
    "ax.set_ylabel('Both')\n",
    "ax.add_patch(rect);"
   ]
  },
  {
   "cell_type": "code",
   "execution_count": null,
   "metadata": {},
   "outputs": [],
   "source": [
    "rates.DFE.hist(bins=13)\n",
    "plt.xlabel('DFE')\n",
    "plt.ylabel('Counts');"
   ]
  },
  {
   "cell_type": "code",
   "execution_count": null,
   "metadata": {},
   "outputs": [],
   "source": [
    "bins = np.arange(23.5, 65+1,10, dtype='float')\n",
    "bins = np.linspace(23.5, 65,11, dtype='float')\n",
    "# now group the data into the bins\n",
    "groups_rates = rates.groupby(np.digitize(rates.DFE, bins))"
   ]
  },
  {
   "cell_type": "code",
   "execution_count": null,
   "metadata": {},
   "outputs": [],
   "source": [
    "import matplotlib.patches as patches\n",
    "import matplotlib.transforms as transforms\n",
    "\n",
    "fig = plt.figure()\n",
    "ax = fig.add_subplot(111)\n",
    "ax.errorbar(groups_rates.mean().DFE, \n",
    "            groups_rates.mean().Both, \n",
    "            yerr=np.array(groups_rates.std().Both),\n",
    "            marker='.', \n",
    "            ls='None',\n",
    "            lw=1.5,\n",
    "            color='Green', \n",
    "            ms=1)\n",
    "ax.plot(rates.DFE, rates.Both, '.', color='SteelBlue', ms=6)\n",
    "trans = transforms.blended_transform_factory(\n",
    "    ax.transData, ax.transAxes)\n",
    "\n",
    "rect = patches.Rectangle((0,0), width=23.5, height=1,\n",
    "                         transform=trans, color='Yellow',\n",
    "                         alpha=0.5)\n",
    "ax.add_patch(rect)\n",
    "ax.set_xlabel('DFE')\n",
    "ax.set_ylabel('Both');"
   ]
  },
  {
   "cell_type": "markdown",
   "metadata": {
    "heading_collapsed": true
   },
   "source": [
    "# Linear regression"
   ]
  },
  {
   "cell_type": "code",
   "execution_count": null,
   "metadata": {
    "hidden": true
   },
   "outputs": [],
   "source": [
    "from scipy.stats import linregress\n",
    "mindfe = 30.\n",
    "selection = ~rates.DFE.isnull() * rates.DFE>mindfe\n",
    "rv = rates[selection].as_matrix(columns=['DFE','Both'])\n",
    "a, b, r, p, stderr = linregress(rv.T)\n",
    "print('slope:{0:.4f}\\nintercept:{1:.4f}\\nrvalue:{2:.4f}\\npvalue:{3:.4f}\\nstderr:{4:.4f}'.format(a, b, r, p, stderr))"
   ]
  },
  {
   "cell_type": "code",
   "execution_count": null,
   "metadata": {
    "hidden": true
   },
   "outputs": [],
   "source": [
    "fig = plt.figure()\n",
    "ax = fig.add_subplot(111)\n",
    "rates.plot(kind='scatter', x='DFE', y='Both', ax=ax)\n",
    "xdata = rates['DFE']\n",
    "xmin, xmax = min(xdata), max(xdata)\n",
    "xvalues = np.linspace(mindfe, xmax, 200)\n",
    "yvalues = a * xvalues + b\n",
    "ax.plot(xvalues, yvalues, color='red', lw=1.5)\n",
    "ax.grid(lw=1, ls='dashed');\n",
    "\n",
    "\n",
    "ax.errorbar(groups_rates.mean().DFE, \n",
    "            groups_rates.mean().Both, \n",
    "            yerr=np.array(groups_rates.std().Both),\n",
    "            #xerr=,\n",
    "            marker='.', \n",
    "            ls='None',\n",
    "            lw=1.5,\n",
    "            color='g', \n",
    "            ms=1)\n",
    "\n",
    "trans = transforms.blended_transform_factory(\n",
    "    ax.transData, ax.transAxes)\n",
    "\n",
    "rect = patches.Rectangle((0,0), width=mindfe, height=1,\n",
    "                         transform=trans, color='yellow',\n",
    "                         alpha=0.5)\n",
    "\n",
    "ax.add_patch(rect);\n",
    "ax.set_xlim((xmin,xmax+3));"
   ]
  },
  {
   "cell_type": "code",
   "execution_count": null,
   "metadata": {
    "hidden": true
   },
   "outputs": [],
   "source": []
  },
  {
   "cell_type": "code",
   "execution_count": null,
   "metadata": {
    "hidden": true
   },
   "outputs": [],
   "source": [
    "import statsmodels.formula.api as smf\n",
    "mod = smf.ols(\"Both ~ DFE\", rates[selection]).fit()\n",
    "print(mod.summary())"
   ]
  },
  {
   "cell_type": "code",
   "execution_count": null,
   "metadata": {
    "hidden": true
   },
   "outputs": [],
   "source": [
    "from statsmodels.sandbox.regression.predstd import wls_prediction_std\n",
    "prstd, iv_l, iv_u = wls_prediction_std(mod)\n",
    "\n",
    "fig = plt.figure()\n",
    "ax = fig.add_subplot(111)\n",
    "rates.plot(kind='scatter', x='DFE', y='Both', ax=ax)\n",
    "\n",
    "xmin, xmax = min(rates['DFE']), max(rates['DFE'])\n",
    "\n",
    "ax.plot([mindfe, xmax], [mod.fittedvalues.min(), mod.fittedvalues.max()], \n",
    "        'IndianRed', lw=1.5)\n",
    "ax.plot([mindfe, xmax], [iv_u.min(), iv_u.max()], 'r--', lw=1.5)\n",
    "ax.plot([mindfe, xmax], [iv_l.min(), iv_l.max()], 'r--', lw=1.5)\n",
    "\n",
    "ax.errorbar(groups_rates.mean().DFE, \n",
    "            groups_rates.mean().Both, \n",
    "            yerr=np.array(groups_rates.std().Both),\n",
    "            ls='None',\n",
    "            lw=1.5,\n",
    "            color='Green')\n",
    "\n",
    "trans = transforms.blended_transform_factory(\n",
    "    ax.transData, ax.transAxes)\n",
    "\n",
    "rect = patches.Rectangle((0,0), width=mindfe, height=1,\n",
    "                         transform=trans, color='Yellow',\n",
    "                         alpha=0.5)\n",
    "\n",
    "ax.add_patch(rect)\n",
    "ax.grid(lw=1, ls='dashed')\n",
    "ax.set_xlim((xmin,xmax+3));\n"
   ]
  },
  {
   "cell_type": "code",
   "execution_count": null,
   "metadata": {
    "hidden": true
   },
   "outputs": [],
   "source": [
    "from pandas.io import data, wb"
   ]
  },
  {
   "cell_type": "code",
   "execution_count": null,
   "metadata": {
    "hidden": true
   },
   "outputs": [],
   "source": [
    "wb.search('gdp.*capita.*').iloc[:,:2].head(10)"
   ]
  },
  {
   "cell_type": "code",
   "execution_count": null,
   "metadata": {
    "hidden": true
   },
   "outputs": [],
   "source": [
    "dat = wb.download(indicator='NY.GDP.PCAP.PP.CD', country='all', start=2014, end=2014)\n",
    "#dat = wb.download(indicator='NY.GDP.PCAP.PP.KD', country='all', start=2014, end=2014)\n",
    "dat.head()"
   ]
  },
  {
   "cell_type": "code",
   "execution_count": null,
   "metadata": {
    "hidden": true
   },
   "outputs": [],
   "source": [
    "country = np.array(dat.index.tolist())[:,0]\n",
    "gdp = np.array(np.array(dat['NY.GDP.PCAP.PP.CD']))\n",
    "data = pd.DataFrame(data=np.array([country,gdp]).T, columns=['country', 'gdp'])\n",
    "print(dat['NY.GDP.PCAP.PP.CD'].head())\n",
    "print(data.head())"
   ]
  },
  {
   "cell_type": "code",
   "execution_count": null,
   "metadata": {
    "hidden": true
   },
   "outputs": [],
   "source": [
    "rates['GDP_CD'] = ''\n",
    "for i in np.arange(len(data)):\n",
    "    rates.loc[rates.Country.isin([data.country[i]]), ['GDP_CD'] ] = data.loc[i, ['gdp']].values.astype('float')\n",
    "rates.loc[rates.GDP_CD.isin(['']), ['GDP_CD']] = np.nan"
   ]
  },
  {
   "cell_type": "code",
   "execution_count": null,
   "metadata": {
    "hidden": true
   },
   "outputs": [],
   "source": [
    "print(rates[rates.Country=='Sweden'])\n",
    "print(data[data.country=='Sweden'])\n",
    "print(data.loc[218, ['gdp']].values.astype('float'))\n",
    "rates.loc[rates.Country.isin(['Sweden'])]"
   ]
  },
  {
   "cell_type": "code",
   "execution_count": null,
   "metadata": {
    "hidden": true
   },
   "outputs": [],
   "source": [
    "selection = ~rates.DFE.isnull() * rates.DFE>mindfe\n",
    "selection *=  ~rates.GDP_CD.isnull()"
   ]
  },
  {
   "cell_type": "code",
   "execution_count": null,
   "metadata": {
    "hidden": true
   },
   "outputs": [],
   "source": [
    "plt.plot(rates[selection].Both.values, rates[selection].GDP_CD.values/1000, '.', ms=10)\n",
    "plt.ylabel('GDP/1000')\n",
    "plt.xlabel('Suicide rate');"
   ]
  },
  {
   "cell_type": "code",
   "execution_count": null,
   "metadata": {
    "hidden": true
   },
   "outputs": [],
   "source": [
    "plt.scatter(rates[selection].DFE.values, rates[selection].GDP_CD.values/1000, s=rates[selection].Both.values**1.5)\n",
    "plt.ylabel('GDP/1000')\n",
    "plt.xlabel('DFE');"
   ]
  },
  {
   "cell_type": "code",
   "execution_count": null,
   "metadata": {
    "hidden": true
   },
   "outputs": [],
   "source": [
    "import statsmodels.api as sm\n",
    "\n",
    "A = rates[selection][['DFE', 'GDP_CD']].astype('float')\n",
    "A['GDP_CD'] = A['GDP_CD']/1000\n",
    "b = rates[selection]['Both'].astype('float')\n",
    "A = sm.add_constant(A)\n",
    "est = sm.OLS(b, A).fit()"
   ]
  },
  {
   "cell_type": "code",
   "execution_count": null,
   "metadata": {
    "hidden": true
   },
   "outputs": [],
   "source": [
    "from mpl_toolkits.mplot3d import Axes3D\n",
    "X, Y = np.meshgrid(np.linspace(A.DFE.min(), A.DFE.max(), 100), \n",
    "                       np.linspace(A.GDP_CD.min(), A.GDP_CD.max(), 100))\n",
    "Z = est.params[0] + est.params[1] * X + est.params[2] * Y\n",
    "\n",
    "\n",
    "fig = plt.figure(figsize=(7, 5))\n",
    "ax = Axes3D(fig, azim=-135, elev=15)\n",
    "\n",
    "surf = ax.plot_surface(X, Y, Z, cmap=plt.cm.RdBu, alpha=0.6, linewidth=0)\n",
    "\n",
    "\n",
    "resid = b - est.predict(A)\n",
    "ax.scatter(A.DFE, A.GDP_CD, b,  alpha=1.0)\n",
    "\n",
    "ax.set_xlabel('DFE')\n",
    "ax.set_ylabel('GDP_CD/1000')\n",
    "ax.set_zlabel('Both');"
   ]
  },
  {
   "cell_type": "code",
   "execution_count": null,
   "metadata": {
    "hidden": true,
    "scrolled": false
   },
   "outputs": [],
   "source": [
    "print(est.summary())"
   ]
  },
  {
   "cell_type": "code",
   "execution_count": null,
   "metadata": {
    "hidden": true
   },
   "outputs": [],
   "source": [
    "# now plot the whole distribution, show that it is not really easy. Intersting to identify clusters\n",
    "# save datafram for next chapter. \n",
    "# also, test 3D plot with %matplotlib notebook\n",
    "# for interactive plots.\n",
    "%matplotlib notebook\n",
    "selection2 = ~rates.DFE.isnull()\n",
    "\n",
    "plt.scatter(rates[selection2].GDP_CD.values/1000, rates[selection2].DFE.values, s=rates[selection2].Both.values**1.5)\n",
    "plt.xlabel('GDP/1000')\n",
    "plt.ylabel('DFE');"
   ]
  },
  {
   "cell_type": "code",
   "execution_count": null,
   "metadata": {
    "hidden": true
   },
   "outputs": [],
   "source": [
    "data = pd.DataFrame(data=rates[['Country','Both','Male','Female','GDP_CD', 'DFE']][~rates.DFE.isnull()])\n",
    "data.head()"
   ]
  },
  {
   "cell_type": "code",
   "execution_count": null,
   "metadata": {
    "hidden": true
   },
   "outputs": [],
   "source": [
    "TABLE_FILE = 'data_ch4.h5'\n",
    "data.to_hdf(TABLE_FILE, 'ch4data', mode='w', table=True)"
   ]
  },
  {
   "cell_type": "code",
   "execution_count": null,
   "metadata": {
    "hidden": true
   },
   "outputs": [],
   "source": [
    "d2 = pd.read_hdf(TABLE_FILE)\n",
    "d2.head()"
   ]
  },
  {
   "cell_type": "markdown",
   "metadata": {
    "heading_collapsed": true
   },
   "source": [
    "# Logistic regression"
   ]
  },
  {
   "cell_type": "code",
   "execution_count": null,
   "metadata": {
    "hidden": true
   },
   "outputs": [],
   "source": [
    "k = 1.\n",
    "m = -5.\n",
    "\n",
    "y = lambda x: k*x + m\n",
    "#p = lambda x: np.exp(k*x+m) / (1+np.exp(k*x+m))\n",
    "p = lambda x: 1 / (1+np.exp(-1*(k*x+m)))"
   ]
  },
  {
   "cell_type": "code",
   "execution_count": null,
   "metadata": {
    "hidden": true
   },
   "outputs": [],
   "source": [
    "xx = np.linspace(0,10)\n",
    "plt.plot(xx,y(xx), label='linear')\n",
    "plt.plot(xx,p(xx), label='logistic')\n",
    "plt.plot([0,abs(m)], [0.5,0.5], dashes=(4,4), color='.7')\n",
    "plt.plot([abs(m),abs(m)], [-.1,.5], dashes=(4,4), color='.7')\n",
    "\n",
    "# limits, legends and labels\n",
    "plt.ylim((-.1,1.1))\n",
    "plt.legend(loc=2)\n",
    "plt.ylabel('P')\n",
    "plt.xlabel('xx');"
   ]
  },
  {
   "cell_type": "code",
   "execution_count": null,
   "metadata": {
    "hidden": true
   },
   "outputs": [],
   "source": [
    "studytime = [0,0,1.5,2,2.5,3,3.5,4,4,4,5.5,6,6.5,7,7,8.5,9,9,9,10.5,10.5,12,12,12,12.5,13,14,15,16,18]\n",
    "passed = [0,0,0,0,0,0,0,0,0,0,0,1,0,1,1,0,1,1,0,1,1,1,1,1,1,1,1,1,1,1]\n",
    "data = pd.DataFrame(data=np.array([studytime,passed]).T, columns=['Time', 'Pass'])"
   ]
  },
  {
   "cell_type": "code",
   "execution_count": null,
   "metadata": {
    "hidden": true
   },
   "outputs": [],
   "source": [
    "data.Time.hist(bins=6)\n",
    "plt.xlabel('Time')\n",
    "plt.ylabel('No. students');"
   ]
  },
  {
   "cell_type": "code",
   "execution_count": null,
   "metadata": {
    "hidden": true
   },
   "outputs": [],
   "source": [
    "plt.plot(data.Time, data.Pass,'o', mew=0, ms=7,)\n",
    "plt.ylim(-.1,1.1)\n",
    "plt.xlim(-0.2,16.2)\n",
    "plt.xlabel('Time studied')\n",
    "plt.ylabel('Pass? (0=no, 1=yes)');"
   ]
  },
  {
   "cell_type": "code",
   "execution_count": null,
   "metadata": {
    "hidden": true
   },
   "outputs": [],
   "source": [
    "import statsmodels.api as sm\n",
    "probfit = sm.Logit(data.Pass, sm.add_constant(data.Time, prepend=True))"
   ]
  },
  {
   "cell_type": "code",
   "execution_count": null,
   "metadata": {
    "hidden": true
   },
   "outputs": [],
   "source": [
    "fit_results = probfit.fit()"
   ]
  },
  {
   "cell_type": "code",
   "execution_count": null,
   "metadata": {
    "hidden": true
   },
   "outputs": [],
   "source": [
    "print(fit_results.summary())"
   ]
  },
  {
   "cell_type": "code",
   "execution_count": null,
   "metadata": {
    "hidden": true
   },
   "outputs": [],
   "source": [
    "logit_pars = fit_results.params\n",
    "intercept_err, slope_err = np.diag(fit_results.cov_params())**.5\n",
    "fit_results.cov_params()"
   ]
  },
  {
   "cell_type": "code",
   "execution_count": null,
   "metadata": {
    "hidden": true
   },
   "outputs": [],
   "source": [
    "intercept = logit_pars['const']\n",
    "slope = logit_pars['Time']\n",
    "print(intercept,slope)"
   ]
  },
  {
   "cell_type": "code",
   "execution_count": null,
   "metadata": {
    "hidden": true
   },
   "outputs": [],
   "source": [
    "fit_results.conf_int()"
   ]
  },
  {
   "cell_type": "code",
   "execution_count": null,
   "metadata": {
    "hidden": true
   },
   "outputs": [],
   "source": [
    "plt.plot(data.Time, data.Pass,'o', mew=0, ms=7, label='Data')\n",
    "p = lambda x,k,m: 1 / (1+np.exp(-1*(k*x+m)))\n",
    "xx = np.linspace(0,data.Time.max())\n",
    "l1 = plt.plot(xx, p(xx,slope,intercept), label='Fit')\n",
    "plt.fill_between(xx,\n",
    "    p(xx,slope+slope_err**2, intercept+intercept_err),\n",
    "    p(xx,slope-slope_err**2, intercept-intercept_err), \n",
    "    alpha=0.15,\n",
    "    color=l1[0].get_color())\n",
    "plt.ylim(-.1,1.1)\n",
    "plt.xlim(-0.2,16.2)\n",
    "plt.xlabel('Time studied')\n",
    "plt.ylabel('Pass? (0=no, 1=yes)')\n",
    "plt.legend(loc=2, numpoints=1);"
   ]
  },
  {
   "cell_type": "code",
   "execution_count": null,
   "metadata": {
    "hidden": true
   },
   "outputs": [],
   "source": [
    "target=0.5\n",
    "x_prob = lambda p,k,m: (np.log(p/(1-p))-m)/k\n",
    "T_max = x_prob(target, slope-slope_err, intercept-intercept_err)\n",
    "T_min = x_prob(target, slope+slope_err, intercept+intercept_err)\n",
    "T_best = x_prob(target, slope, intercept)\n",
    "print('{0}% sucess rate: {1:.1f} +{2:.1f}/-{3:.1f}'.format(int(target*100),T_best,T_max-T_best,T_best-T_min))"
   ]
  },
  {
   "cell_type": "code",
   "execution_count": null,
   "metadata": {
    "hidden": true
   },
   "outputs": [],
   "source": []
  }
 ],
 "metadata": {
  "hide_input": false,
  "kernelspec": {
   "display_name": "Python 3",
   "language": "python",
   "name": "python3"
  },
  "language_info": {
   "codemirror_mode": {
    "name": "ipython",
    "version": 3
   },
   "file_extension": ".py",
   "mimetype": "text/x-python",
   "name": "python",
   "nbconvert_exporter": "python",
   "pygments_lexer": "ipython3",
   "version": "3.7.0"
  },
  "toc": {
   "base_numbering": 1,
   "nav_menu": {},
   "number_sections": true,
   "sideBar": true,
   "skip_h1_title": false,
   "title_cell": "Table of Contents",
   "title_sidebar": "Contents",
   "toc_cell": false,
   "toc_position": {},
   "toc_section_display": true,
   "toc_window_display": false
  },
  "varInspector": {
   "cols": {
    "lenName": 16,
    "lenType": 16,
    "lenVar": 40
   },
   "kernels_config": {
    "python": {
     "delete_cmd_postfix": "",
     "delete_cmd_prefix": "del ",
     "library": "var_list.py",
     "varRefreshCmd": "print(var_dic_list())"
    },
    "r": {
     "delete_cmd_postfix": ") ",
     "delete_cmd_prefix": "rm(",
     "library": "var_list.r",
     "varRefreshCmd": "cat(var_dic_list()) "
    }
   },
   "types_to_exclude": [
    "module",
    "function",
    "builtin_function_or_method",
    "instance",
    "_Feature"
   ],
   "window_display": false
  }
 },
 "nbformat": 4,
 "nbformat_minor": 1
}
