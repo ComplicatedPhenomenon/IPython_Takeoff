{
 "cells": [
  {
   "cell_type": "code",
   "execution_count": null,
   "metadata": {
    "ExecuteTime": {
     "end_time": "2019-12-30T11:50:09.853550Z",
     "start_time": "2019-12-30T11:50:09.849244Z"
    }
   },
   "outputs": [],
   "source": [
    "from IPython.core.interactiveshell import InteractiveShell\n",
    "InteractiveShell.ast_node_interactivity = \"all\""
   ]
  },
  {
   "cell_type": "code",
   "execution_count": null,
   "metadata": {
    "ExecuteTime": {
     "end_time": "2019-12-30T11:50:10.351205Z",
     "start_time": "2019-12-30T11:50:10.344396Z"
    }
   },
   "outputs": [],
   "source": [
    "import time "
   ]
  },
  {
   "cell_type": "code",
   "execution_count": null,
   "metadata": {
    "ExecuteTime": {
     "end_time": "2019-12-30T11:50:17.449334Z",
     "start_time": "2019-12-30T11:50:10.414267Z"
    }
   },
   "outputs": [],
   "source": [
    "import pandas as pd "
   ]
  },
  {
   "cell_type": "code",
   "execution_count": null,
   "metadata": {
    "ExecuteTime": {
     "end_time": "2019-12-30T11:50:17.461313Z",
     "start_time": "2019-12-30T11:50:17.455310Z"
    }
   },
   "outputs": [],
   "source": [
    "import numpy as np"
   ]
  },
  {
   "cell_type": "code",
   "execution_count": null,
   "metadata": {
    "ExecuteTime": {
     "end_time": "2019-12-30T11:50:18.463585Z",
     "start_time": "2019-12-30T11:50:17.464817Z"
    }
   },
   "outputs": [],
   "source": [
    "%matplotlib inline"
   ]
  },
  {
   "cell_type": "code",
   "execution_count": null,
   "metadata": {
    "ExecuteTime": {
     "end_time": "2019-12-30T12:14:40.882859Z",
     "start_time": "2019-12-30T12:14:38.977439Z"
    }
   },
   "outputs": [],
   "source": [
    "import bs4\n",
    "import requests"
   ]
  },
  {
   "cell_type": "code",
   "execution_count": null,
   "metadata": {
    "ExecuteTime": {
     "end_time": "2019-12-30T12:15:02.189232Z",
     "start_time": "2019-12-30T12:15:02.172051Z"
    }
   },
   "outputs": [],
   "source": [
    "from bs4 import BeautifulSoup"
   ]
  },
  {
   "cell_type": "code",
   "execution_count": null,
   "metadata": {
    "ExecuteTime": {
     "end_time": "2019-12-30T11:50:18.469642Z",
     "start_time": "2019-12-30T11:50:18.466056Z"
    }
   },
   "outputs": [],
   "source": [
    "import csv"
   ]
  },
  {
   "cell_type": "code",
   "execution_count": null,
   "metadata": {
    "ExecuteTime": {
     "end_time": "2019-12-30T11:50:54.840014Z",
     "start_time": "2019-12-30T11:50:54.697466Z"
    }
   },
   "outputs": [],
   "source": [
    "df = pd.read_csv('../../data/Github/github.csv')"
   ]
  },
  {
   "cell_type": "code",
   "execution_count": null,
   "metadata": {
    "ExecuteTime": {
     "end_time": "2019-12-30T11:51:54.582459Z",
     "start_time": "2019-12-30T11:51:54.562611Z"
    }
   },
   "outputs": [],
   "source": [
    "df[df['company'] == \"Google\"].count(axis = 0)"
   ]
  },
  {
   "cell_type": "code",
   "execution_count": null,
   "metadata": {
    "ExecuteTime": {
     "end_time": "2019-12-30T11:50:58.150287Z",
     "start_time": "2019-12-30T11:50:58.071779Z"
    }
   },
   "outputs": [],
   "source": [
    "df.head()"
   ]
  },
  {
   "cell_type": "code",
   "execution_count": null,
   "metadata": {
    "ExecuteTime": {
     "end_time": "2019-12-30T11:51:02.024170Z",
     "start_time": "2019-12-30T11:51:02.009932Z"
    }
   },
   "outputs": [],
   "source": [
    "df.set_index('ID', inplace=True)"
   ]
  },
  {
   "cell_type": "code",
   "execution_count": null,
   "metadata": {
    "ExecuteTime": {
     "end_time": "2019-12-30T11:51:03.669856Z",
     "start_time": "2019-12-30T11:51:03.659798Z"
    }
   },
   "outputs": [],
   "source": [
    "df.bio[df.bio.notnull()]"
   ]
  },
  {
   "cell_type": "code",
   "execution_count": null,
   "metadata": {},
   "outputs": [],
   "source": [
    "df.company[df.company.notnull()]"
   ]
  },
  {
   "cell_type": "markdown",
   "metadata": {},
   "source": [
    "# get raw data "
   ]
  },
  {
   "cell_type": "code",
   "execution_count": null,
   "metadata": {
    "ExecuteTime": {
     "end_time": "2019-12-30T14:47:18.182821Z",
     "start_time": "2019-12-30T14:47:17.661456Z"
    }
   },
   "outputs": [],
   "source": [
    "from github import Github\n",
    "User = \"user_name\"\n",
    "Password = \"password\"\n",
    "g = Github(User, Password)"
   ]
  },
  {
   "cell_type": "code",
   "execution_count": null,
   "metadata": {
    "ExecuteTime": {
     "end_time": "2019-12-30T14:48:06.857155Z",
     "start_time": "2019-12-30T14:48:06.269898Z"
    }
   },
   "outputs": [],
   "source": [
    "me = g.get_user(User)"
   ]
  },
  {
   "cell_type": "code",
   "execution_count": null,
   "metadata": {
    "ExecuteTime": {
     "end_time": "2019-12-30T14:48:40.660472Z",
     "start_time": "2019-12-30T14:48:40.649929Z"
    }
   },
   "outputs": [],
   "source": [
    "me.id\n",
    "me.created_at"
   ]
  },
  {
   "cell_type": "code",
   "execution_count": null,
   "metadata": {
    "ExecuteTime": {
     "end_time": "2019-12-30T14:50:01.407604Z",
     "start_time": "2019-12-30T14:50:01.393598Z"
    }
   },
   "outputs": [],
   "source": [
    "me.starred_url\n",
    "my_event = me.get_public_events()"
   ]
  },
  {
   "cell_type": "code",
   "execution_count": null,
   "metadata": {
    "ExecuteTime": {
     "end_time": "2019-12-30T14:50:53.853938Z",
     "start_time": "2019-12-30T14:50:53.847426Z"
    }
   },
   "outputs": [],
   "source": [
    "#dir(my_event[1])\n",
    "my_event[1].raw_data"
   ]
  },
  {
   "cell_type": "code",
   "execution_count": null,
   "metadata": {
    "ExecuteTime": {
     "end_time": "2019-12-30T14:52:24.925858Z",
     "start_time": "2019-12-30T14:52:22.516290Z"
    }
   },
   "outputs": [],
   "source": [
    "me.get_starred()[1].raw_data"
   ]
  },
  {
   "cell_type": "markdown",
   "metadata": {},
   "source": [
    "<span style=\"font-family:New York Times; color: red\">\n",
    "How I can get the message of when someone startted a specific repository?\n",
    "</span>"
   ]
  },
  {
   "cell_type": "code",
   "execution_count": null,
   "metadata": {},
   "outputs": [],
   "source": [
    "startt = time.time()    \n",
    "ID = set()\n",
    "tem_list = [\"davidwhogg\"]\n",
    "with open('data/socialNet.csv', 'w') as f:\n",
    "    f = csv.writer(f, delimiter=',', quotechar='\"', quoting=csv.QUOTE_MINIMAL)\n",
    "    f.writerow(['ID', 'name', 'from', 'location', 'company', 'bio', 'blog'])\n",
    "\n",
    "    k = 0\n",
    "    while k < 3:\n",
    "        tem = []\n",
    "        for item in tem_list:\n",
    "            for i in g.get_user(item).get_following():\n",
    "                if i.login in ID:\n",
    "                    continue\n",
    "                f.writerow([i.login, i.name, item, i.location, i.company, i.bio, i.blog])\n",
    "                ID.add(i.login)\n",
    "                tem.append(i.login) \n",
    "        tem_list = tem\n",
    "        \n",
    "        k += 1\n",
    "timeconsumed = time.time()-startt"
   ]
  },
  {
   "cell_type": "code",
   "execution_count": null,
   "metadata": {},
   "outputs": [],
   "source": [
    "startt = time.time()    \n",
    "ID = set()\n",
    "tem_list = [\"davidwhogg\"]\n",
    "with open('data/socialNet.csv', 'w') as f:\n",
    "    f = csv.writer(f, delimiter=',', quotechar='\"', quoting=csv.QUOTE_MINIMAL)\n",
    "    f.writerow(['ID', 'name', 'from', 'location', 'company', 'bio', 'blog'])\n",
    "\n",
    "    k = 0\n",
    "    while k < 3:\n",
    "        tem = []\n",
    "        for item in tem_list:\n",
    "            for i in g.get_user(item).get_following():\n",
    "                if i.login in ID:\n",
    "                    continue\n",
    "                f.writerow([i.login, i.name, item, i.location, i.company, i.bio, i.blog])\n",
    "                ID.add(i.login)\n",
    "                tem.append(i.login) \n",
    "        tem_list = tem\n",
    "        \n",
    "        k += 1\n",
    "timeconsumed = time.time()-startt"
   ]
  },
  {
   "cell_type": "markdown",
   "metadata": {},
   "source": [
    "<span style=\"font-family:New York Times; color: red\">\n",
    "needs to make this part as a parallel task\n",
    "</span>\n",
    "\n",
    "Race conditions:\n",
    "```py\n",
    "i=0; # a global variable\n",
    "for x in range(100):\n",
    "    print(i)\n",
    "    i+=1;\n",
    "```\n",
    "\n",
    "> If you create n number of threads which run this code at once, you cannot determine the value of i (which is shared by the threads) when the program finishes execution. This is because in a real multithreading environment, the threads can overlap, and the value of i which was retrieved and modified by a thread can change in between when some other thread accesses it.\n",
    "\n",
    "https://www.guru99.com/python-multithreading-gil-example.html"
   ]
  },
  {
   "cell_type": "markdown",
   "metadata": {},
   "source": [
    "# data wrangling"
   ]
  },
  {
   "cell_type": "code",
   "execution_count": null,
   "metadata": {
    "ExecuteTime": {
     "end_time": "2019-12-30T11:53:23.048577Z",
     "start_time": "2019-12-30T11:53:23.014417Z"
    }
   },
   "outputs": [],
   "source": [
    "df = pd.read_csv('../../data/Github/socialNet.csv')\n",
    "df.head()"
   ]
  },
  {
   "cell_type": "code",
   "execution_count": null,
   "metadata": {
    "ExecuteTime": {
     "end_time": "2019-12-30T12:01:18.812727Z",
     "start_time": "2019-12-30T12:01:18.803118Z"
    }
   },
   "outputs": [],
   "source": [
    "df[\"from\"] == \"davidwhogg\"\n",
    "df[df['company'] == \"Perimeter Institute\"]\n",
    "df[df[\"from\"] == \"davidwhogg\"].count()\n",
    "df[(df[\"from\"] == \"davidwhogg\") & (df[\"bio\"].str.contains(\"astronomy\"))]"
   ]
  },
  {
   "cell_type": "code",
   "execution_count": null,
   "metadata": {
    "ExecuteTime": {
     "end_time": "2019-12-30T14:31:48.502107Z",
     "start_time": "2019-12-30T14:31:48.491421Z"
    }
   },
   "outputs": [],
   "source": [
    "tem = df[(df[\"bio\"].notnull()) & (df[\"bio\"].str.contains(\"astronomy\")) & (df[\"blog\"].notnull())][[\"blog\"]]"
   ]
  },
  {
   "cell_type": "code",
   "execution_count": null,
   "metadata": {
    "ExecuteTime": {
     "end_time": "2019-12-30T14:32:53.352216Z",
     "start_time": "2019-12-30T14:32:53.340073Z"
    }
   },
   "outputs": [],
   "source": [
    "tem[\"blog\"].str.split(\"//\").str[-1]"
   ]
  },
  {
   "cell_type": "code",
   "execution_count": null,
   "metadata": {
    "ExecuteTime": {
     "end_time": "2019-12-30T14:38:17.341378Z",
     "start_time": "2019-12-30T14:38:17.315083Z"
    }
   },
   "outputs": [],
   "source": [
    "tem[\"blog\"]\n",
    "tem[\"blog\"].str.startswith(\"https\")\n",
    "tem.apply(lambda row: \"https://\" + row['blog'].split(\"//\")[-1], axis = 1)"
   ]
  },
  {
   "cell_type": "markdown",
   "metadata": {},
   "source": [
    "Task \n",
    "* Adjust the website url to make it formal"
   ]
  },
  {
   "cell_type": "code",
   "execution_count": null,
   "metadata": {
    "ExecuteTime": {
     "end_time": "2019-12-30T12:17:01.609532Z",
     "start_time": "2019-12-30T12:16:59.861480Z"
    }
   },
   "outputs": [],
   "source": [
    "bowl = requests.get(\"https://pscastro.com\")\n",
    "soup = BeautifulSoup(bowl.text, \"html.parser\")"
   ]
  },
  {
   "cell_type": "code",
   "execution_count": null,
   "metadata": {
    "ExecuteTime": {
     "end_time": "2019-12-30T12:38:24.720083Z",
     "start_time": "2019-12-30T12:38:24.641146Z"
    }
   },
   "outputs": [],
   "source": [
    "#soup.body\n",
    "#soup.find_all(lambda tag: tag.name == 'section' and tag.get('id') ==\n",
    "                       ['about'])\n",
    "soup.find_all(\"h3\")\n",
    "soup.find_all(\"p\")"
   ]
  },
  {
   "cell_type": "code",
   "execution_count": null,
   "metadata": {
    "ExecuteTime": {
     "end_time": "2019-12-30T14:44:30.529670Z",
     "start_time": "2019-12-30T14:44:30.502924Z"
    }
   },
   "outputs": [],
   "source": [
    "df.sort_values(by = 'location', ascending=False).head()"
   ]
  },
  {
   "cell_type": "code",
   "execution_count": null,
   "metadata": {
    "ExecuteTime": {
     "end_time": "2019-12-30T14:44:16.867618Z",
     "start_time": "2019-12-30T14:44:16.851541Z"
    }
   },
   "outputs": [],
   "source": [
    "df[\"from\"].drop_duplicates().count()"
   ]
  }
 ],
 "metadata": {
  "hide_input": false,
  "kernelspec": {
   "display_name": "Python 3",
   "language": "python",
   "name": "python3"
  },
  "language_info": {
   "codemirror_mode": {
    "name": "ipython",
    "version": 3
   },
   "file_extension": ".py",
   "mimetype": "text/x-python",
   "name": "python",
   "nbconvert_exporter": "python",
   "pygments_lexer": "ipython3",
   "version": "3.7.0"
  },
  "toc": {
   "base_numbering": 1,
   "nav_menu": {},
   "number_sections": true,
   "sideBar": true,
   "skip_h1_title": false,
   "title_cell": "Table of Contents",
   "title_sidebar": "Contents",
   "toc_cell": false,
   "toc_position": {},
   "toc_section_display": true,
   "toc_window_display": false
  },
  "varInspector": {
   "cols": {
    "lenName": 16,
    "lenType": 16,
    "lenVar": 40
   },
   "kernels_config": {
    "python": {
     "delete_cmd_postfix": "",
     "delete_cmd_prefix": "del ",
     "library": "var_list.py",
     "varRefreshCmd": "print(var_dic_list())"
    },
    "r": {
     "delete_cmd_postfix": ") ",
     "delete_cmd_prefix": "rm(",
     "library": "var_list.r",
     "varRefreshCmd": "cat(var_dic_list()) "
    }
   },
   "types_to_exclude": [
    "module",
    "function",
    "builtin_function_or_method",
    "instance",
    "_Feature"
   ],
   "window_display": false
  }
 },
 "nbformat": 4,
 "nbformat_minor": 2
}
