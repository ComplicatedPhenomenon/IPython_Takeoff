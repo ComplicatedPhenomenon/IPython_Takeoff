{
 "cells": [
  {
   "cell_type": "code",
   "execution_count": null,
   "metadata": {},
   "outputs": [],
   "source": [
    "from IPython.core.interactiveshell import InteractiveShell\n",
    "InteractiveShell.ast_node_interactivity = \"all\" "
   ]
  },
  {
   "cell_type": "code",
   "execution_count": null,
   "metadata": {},
   "outputs": [],
   "source": [
    "import pandas as pd \n",
    "import numpy as np"
   ]
  },
  {
   "cell_type": "code",
   "execution_count": null,
   "metadata": {},
   "outputs": [],
   "source": [
    "import re\n",
    "import calendar"
   ]
  },
  {
   "cell_type": "markdown",
   "metadata": {},
   "source": [
    "# Pandas DataFrame"
   ]
  },
  {
   "cell_type": "markdown",
   "metadata": {},
   "source": [
    "<span style=\"font-family: New York Times; font-size: 1em; color: green;\">\n",
    "    \n",
    "The most important part of the Pandas library is the DataFrame. A DataFrame holds the type of data you might think of as a table. This is similar to a sheet in Excel, or a table in a SQL database. \n",
    "\n",
    "Want to know the basic usage look like this?\n",
    "\n",
    "* [pandas source](https://github.com/pandas-dev/pandas)\n",
    "* [19 Essential Snippets in Pandas](https://jeffdelaney.me/blog/useful-snippets-in-pandas/)\n",
    "* https://towardsdatascience.com/pandas-dataframe-a-lightweight-intro-680e3a212b96"
   ]
  },
  {
   "cell_type": "code",
   "execution_count": null,
   "metadata": {},
   "outputs": [],
   "source": [
    "dict = {\"country\": [\"Brazil\", \"Russia\", \"India\", \"China\", \"South Africa\"],\n",
    "       \"capital\": [\"Brasilia\", \"Moscow\", \"New Dehli\", \"Beijing\", \"Pretoria\"],\n",
    "       \"area\": [8.516, 171.10, 3.286, 9.597, 1.221],\n",
    "       \"population\": [200.4, 143.5, 1252, 1357, 52.98] }\n",
    "\n",
    "import pandas as pd\n",
    "brics = pd.DataFrame(dict)"
   ]
  },
  {
   "cell_type": "code",
   "execution_count": null,
   "metadata": {},
   "outputs": [],
   "source": [
    "brics[\"country\"]"
   ]
  },
  {
   "cell_type": "code",
   "execution_count": null,
   "metadata": {},
   "outputs": [],
   "source": [
    "brics[\"Articatic\"]=[\"Sourth America\", \"Europe\", \"Sourth Asia\", \"East Asia\",\"Sourth Africa\"]"
   ]
  },
  {
   "cell_type": "code",
   "execution_count": null,
   "metadata": {},
   "outputs": [],
   "source": [
    "brics"
   ]
  },
  {
   "cell_type": "code",
   "execution_count": null,
   "metadata": {},
   "outputs": [],
   "source": [
    "brics.sort_values(\"country\", ascending = True)"
   ]
  },
  {
   "cell_type": "code",
   "execution_count": null,
   "metadata": {},
   "outputs": [],
   "source": [
    "brics.sort_values(\"population\", ascending = True)"
   ]
  },
  {
   "cell_type": "code",
   "execution_count": null,
   "metadata": {},
   "outputs": [],
   "source": [
    "brics['country'].nunique()"
   ]
  },
  {
   "cell_type": "code",
   "execution_count": null,
   "metadata": {},
   "outputs": [],
   "source": [
    "from pandas.io.json import json_normalize\n",
    "data = [{'id': 1, 'name': {'first': 'Coleen', 'last': 'Volk'}},\\\n",
    "        {'name': {'given': 'Mose', 'family': 'Regner'}},\\\n",
    "        {'id': 2, 'name': 'Faye Raker'}]\n",
    "json_normalize(data)"
   ]
  },
  {
   "cell_type": "markdown",
   "metadata": {},
   "source": [
    "# Convert nested JSON into pandas dataframe"
   ]
  },
  {
   "cell_type": "markdown",
   "metadata": {},
   "source": [
    "# convert `csv` to `json`"
   ]
  },
  {
   "cell_type": "code",
   "execution_count": null,
   "metadata": {},
   "outputs": [],
   "source": [
    "csv_file = pd.DataFrame(pd.read_csv(\"path/to/file.csv\", sep = \",\", header = 0, index_col = False))\n",
    "csv_file.to_json(\"/path/to/new/file.json\", orient = \"records\", date_format = \"epoch\", double_precision = 10, force_ascii = True, date_unit = \"ms\", default_handler = None)"
   ]
  },
  {
   "cell_type": "code",
   "execution_count": null,
   "metadata": {},
   "outputs": [],
   "source": [
    "m=['paketone8000.dump.xlsx','paketone4000.dump.xlsx','paketone1400000.dump.xlsx']"
   ]
  },
  {
   "cell_type": "code",
   "execution_count": null,
   "metadata": {},
   "outputs": [],
   "source": [
    "[int(pattern.findall(i)[0]) for i in m]"
   ]
  },
  {
   "cell_type": "code",
   "execution_count": null,
   "metadata": {},
   "outputs": [],
   "source": [
    "import re"
   ]
  },
  {
   "cell_type": "code",
   "execution_count": null,
   "metadata": {},
   "outputs": [],
   "source": [
    "m[0]"
   ]
  },
  {
   "cell_type": "code",
   "execution_count": null,
   "metadata": {},
   "outputs": [],
   "source": [
    "pattern = re.compile(r\"\\d+\")\n",
    "pattern.match(m[0])\n",
    "pattern.findall(m[0])"
   ]
  },
  {
   "cell_type": "code",
   "execution_count": null,
   "metadata": {},
   "outputs": [],
   "source": [
    "\n",
    "[pattern.findall(i)[0] for i in m]\n",
    "sorted([int(pattern.findall(i)[0]) for i in m])\n"
   ]
  },
  {
   "cell_type": "markdown",
   "metadata": {},
   "source": [
    "# Sort file in order"
   ]
  },
  {
   "cell_type": "code",
   "execution_count": null,
   "metadata": {},
   "outputs": [],
   "source": [
    "import re\n",
    "pattern = re.compile(r\"\\d+\")\n",
    "m=['paketone41000.dump.xlsx','paketone8000.dump.xlsx','paketone1400000.dump.xlsx']\n",
    "sorted(m, key = lambda m :  int(pattern.findall(m)[0]) )"
   ]
  },
  {
   "cell_type": "code",
   "execution_count": null,
   "metadata": {},
   "outputs": [],
   "source": [
    "sorted(m, key=)"
   ]
  },
  {
   "cell_type": "code",
   "execution_count": null,
   "metadata": {},
   "outputs": [],
   "source": [
    "import random \n",
    "\n",
    "x = [[random.randint(2, 20) for _ in range(10)] for _ in range(3)]\n",
    "x \n",
    "x[0]\n",
    "x[1]\n",
    "x[2]"
   ]
  },
  {
   "cell_type": "code",
   "execution_count": null,
   "metadata": {},
   "outputs": [],
   "source": [
    "max(x[0][0], x[1][0],x[2][0])"
   ]
  },
  {
   "cell_type": "code",
   "execution_count": null,
   "metadata": {},
   "outputs": [],
   "source": [
    "m = [x[0],x[1],x[2]]\n",
    "[max(i) for i in zip(*m)]"
   ]
  },
  {
   "cell_type": "code",
   "execution_count": null,
   "metadata": {},
   "outputs": [],
   "source": [
    "raw_data = {'ID': [1,2,3,4,5,6,7,8,9,10], \n",
    "        'body': ['FITrnXS$100', '$1000rnReason', 'rnIf', 'bevlauedrnrnnext', 'obccrnrnnoncrnrnactionrn', 'rnrnnotification', 'insdrnrnnon', 'rnrnupdated', 'rnreason', 'rnrnrnLOR']}\n",
    "df = pd.DataFrame(raw_data, columns = ['ID', 'body'])\n",
    "print(df)"
   ]
  },
  {
   "cell_type": "markdown",
   "metadata": {},
   "source": [
    "# Replace characters in table "
   ]
  },
  {
   "cell_type": "code",
   "execution_count": null,
   "metadata": {},
   "outputs": [],
   "source": [
    "# implement it with pandas \n",
    "raw_data = {'ID': [1,2,3,4,5,6,7,8,9,10], \n",
    "        'body': ['FITrnXS$100', '$1000rnReason', 'rnIf', 'bevlauedrnrnnext', 'obccrnrnnoncrnrnactionrn', 'rnrnnotification', 'insdrnrnnon', 'rnrnupdated', 'rnreason', 'rnrnrnLOR']}\n",
    "remove_string =['rn', 'rnr', 'rnrn', 'rnrnrn']\n",
    "df = pd.DataFrame(raw_data, columns = ['ID', 'body', 'cleaned_txt', 'Removed_string'])\n",
    "\n",
    "df['cleaned_txt'], df['Removed_string'] = df['body'], df['body']\n",
    "for i in remove_string[::-1]:\n",
    "    df['cleaned_txt'] = df['cleaned_txt'].str.replace(i, ' ')\n",
    "    df[i] = df['Removed_string'].str.extract('({})'.format(i)) \n",
    "\n",
    "df['Removed_string'] = df[remove_string].ffill(axis=1).iloc[:, -1]\n",
    "df = df.drop(remove_string, axis=1)\n",
    "print (df)"
   ]
  },
  {
   "cell_type": "code",
   "execution_count": null,
   "metadata": {},
   "outputs": [],
   "source": [
    "# Implement it in original data 👌\n",
    "raw_data = {'ID': [1,2,3,4,5,6,7,8,9,10], \n",
    "        'body': ['FITrnXS$100', '$1000rnReason', 'rnIf', 'bevlauedrnrnnext', 'obccrnrnnoncrnrnactionrn', 'rnrnnotification', 'insdrnrnnon', 'rnrnupdated', 'rnreason', 'rnrnrnLOR']}\n",
    "removed_string =['rn', 'rnr', 'rnrn', 'rnrnrn']\n",
    "removed_string =  removed_string[::-1]\n",
    "\n",
    "raw_data['Removed_string'] = []\n",
    "raw_data['cleaned_txt'] = []\n",
    "for i in raw_data['body']:\n",
    "    j = 0\n",
    "    m = removed_string[j]\n",
    "    while True:\n",
    "        m = removed_string[j]\n",
    "        pattern = re.compile(m)\n",
    "        n = pattern.findall(i)\n",
    "        if len(n) != 0: \n",
    "            raw_data['cleaned_txt'].append(i.replace(m, ' '))\n",
    "            raw_data['Removed_string'].append(m)\n",
    "            break\n",
    "        j += 1\n",
    "df = pd.DataFrame(raw_data, columns = ['ID', 'body', 'cleaned_txt', 'Removed_string'])\n",
    "print(df) "
   ]
  },
  {
   "cell_type": "markdown",
   "metadata": {},
   "source": [
    "## Break out of while loop"
   ]
  },
  {
   "cell_type": "code",
   "execution_count": null,
   "metadata": {},
   "outputs": [],
   "source": [
    "x = [1, 3, 5, 6] \n",
    "y = x[0]\n",
    "j = 0\n",
    "while  True:\n",
    "    if y > 4:\n",
    "        break\n",
    "    j +=1\n",
    "    y = x[j]   \n",
    "y \n",
    "    "
   ]
  },
  {
   "cell_type": "markdown",
   "metadata": {},
   "source": [
    "# Add a new column depending on the other column"
   ]
  },
  {
   "cell_type": "code",
   "execution_count": null,
   "metadata": {},
   "outputs": [],
   "source": [
    "df = pd.DataFrame()\n",
    "df['temp'] = pd.date_range(start='01-Jan-2000', end='31-Dec-2018', freq='MS')  \n",
    "df['value'] = 5\n",
    "df.set_index('temp', inplace=True)\n",
    "\n",
    "days_list = []\n",
    "for val in df.index:\n",
    "    days_list.append(calendar.monthrange(val.year, val.month)[1])\n",
    "\n",
    "df['days_in_month'] = days_list\n",
    "df "
   ]
  },
  {
   "cell_type": "code",
   "execution_count": null,
   "metadata": {},
   "outputs": [],
   "source": [
    "df = pd.DataFrame()\n",
    "df['temp'] = pd.date_range(start='01-Jan-2000', end='31-Dec-2018', freq='MS')  \n",
    "df['value'] = 5\n",
    "df.set_index('temp', inplace=True)\n",
    "\n",
    "for val in df.index:\n",
    "    df['days_in_month'] = df.index.map(lambda val: calendar.monthrange(val.year, val.month)[1])\n",
    "    \n",
    "df  "
   ]
  },
  {
   "cell_type": "code",
   "execution_count": null,
   "metadata": {},
   "outputs": [],
   "source": [
    "df = pd.DataFrame()\n",
    "df['temp'] = pd.date_range(start='01-Jan-2000', end='31-Dec-2018', freq='MS')  \n",
    "df['value'] = 5\n",
    "df.set_index('temp', inplace=True)\n",
    "df['days_in_month'] = df.index.daysinmonth \n",
    "df "
   ]
  },
  {
   "cell_type": "markdown",
   "metadata": {},
   "source": [
    "# Read in a table "
   ]
  },
  {
   "cell_type": "code",
   "execution_count": 19,
   "metadata": {},
   "outputs": [],
   "source": [
    "import copy"
   ]
  },
  {
   "cell_type": "code",
   "execution_count": 15,
   "metadata": {},
   "outputs": [
    {
     "name": "stdout",
     "output_type": "stream",
     "text": [
      "    startdate   enddate\r\n",
      "0   14-02-2019  18-07-2022\r\n",
      "1   30-12-2017  31-10-2025\r\n",
      "2   01-02-2010  21-03-2020"
     ]
    }
   ],
   "source": [
    "!cat a.txt"
   ]
  },
  {
   "cell_type": "code",
   "execution_count": 16,
   "metadata": {},
   "outputs": [],
   "source": [
    "df1 = pd.read_table('a.txt', delim_whitespace=True, skiprows=0, skipfooter=0, index_col=0)"
   ]
  },
  {
   "cell_type": "code",
   "execution_count": 17,
   "metadata": {},
   "outputs": [
    {
     "data": {
      "text/html": [
       "<div>\n",
       "<style scoped>\n",
       "    .dataframe tbody tr th:only-of-type {\n",
       "        vertical-align: middle;\n",
       "    }\n",
       "\n",
       "    .dataframe tbody tr th {\n",
       "        vertical-align: top;\n",
       "    }\n",
       "\n",
       "    .dataframe thead th {\n",
       "        text-align: right;\n",
       "    }\n",
       "</style>\n",
       "<table border=\"1\" class=\"dataframe\">\n",
       "  <thead>\n",
       "    <tr style=\"text-align: right;\">\n",
       "      <th></th>\n",
       "      <th>startdate</th>\n",
       "      <th>enddate</th>\n",
       "    </tr>\n",
       "  </thead>\n",
       "  <tbody>\n",
       "    <tr>\n",
       "      <th>0</th>\n",
       "      <td>14-02-2019</td>\n",
       "      <td>18-07-2022</td>\n",
       "    </tr>\n",
       "    <tr>\n",
       "      <th>1</th>\n",
       "      <td>30-12-2017</td>\n",
       "      <td>31-10-2025</td>\n",
       "    </tr>\n",
       "    <tr>\n",
       "      <th>2</th>\n",
       "      <td>01-02-2010</td>\n",
       "      <td>21-03-2020</td>\n",
       "    </tr>\n",
       "  </tbody>\n",
       "</table>\n",
       "</div>"
      ],
      "text/plain": [
       "    startdate     enddate\n",
       "0  14-02-2019  18-07-2022\n",
       "1  30-12-2017  31-10-2025\n",
       "2  01-02-2010  21-03-2020"
      ]
     },
     "execution_count": 17,
     "metadata": {},
     "output_type": "execute_result"
    }
   ],
   "source": [
    "df1"
   ]
  },
  {
   "cell_type": "code",
   "execution_count": 20,
   "metadata": {},
   "outputs": [],
   "source": [
    "temp_row = copy.deepcopy(df1.loc[0]) # for the first row"
   ]
  },
  {
   "cell_type": "code",
   "execution_count": 21,
   "metadata": {},
   "outputs": [
    {
     "data": {
      "text/plain": [
       "startdate    14-02-2019\n",
       "enddate      18-07-2022\n",
       "Name: 0, dtype: object"
      ]
     },
     "execution_count": 21,
     "metadata": {},
     "output_type": "execute_result"
    }
   ],
   "source": [
    "temp_row"
   ]
  },
  {
   "cell_type": "markdown",
   "metadata": {},
   "source": [
    "# How to unnest (explode) a column in a pandas DataFrame?\n",
    "https://stackoverflow.com/questions/53218931/how-to-unnest-explode-a-column-in-a-pandas-dataframe"
   ]
  },
  {
   "cell_type": "code",
   "execution_count": 22,
   "metadata": {},
   "outputs": [
    {
     "data": {
      "text/html": [
       "<div>\n",
       "<style scoped>\n",
       "    .dataframe tbody tr th:only-of-type {\n",
       "        vertical-align: middle;\n",
       "    }\n",
       "\n",
       "    .dataframe tbody tr th {\n",
       "        vertical-align: top;\n",
       "    }\n",
       "\n",
       "    .dataframe thead th {\n",
       "        text-align: right;\n",
       "    }\n",
       "</style>\n",
       "<table border=\"1\" class=\"dataframe\">\n",
       "  <thead>\n",
       "    <tr style=\"text-align: right;\">\n",
       "      <th></th>\n",
       "      <th>score</th>\n",
       "      <th>tags</th>\n",
       "    </tr>\n",
       "  </thead>\n",
       "  <tbody>\n",
       "    <tr>\n",
       "      <th>0</th>\n",
       "      <td>1</td>\n",
       "      <td>[apple, pear, guava]</td>\n",
       "    </tr>\n",
       "    <tr>\n",
       "      <th>1</th>\n",
       "      <td>2</td>\n",
       "      <td>[truck, car, plane]</td>\n",
       "    </tr>\n",
       "    <tr>\n",
       "      <th>2</th>\n",
       "      <td>3</td>\n",
       "      <td>[cat, dog, mouse]</td>\n",
       "    </tr>\n",
       "  </tbody>\n",
       "</table>\n",
       "</div>"
      ],
      "text/plain": [
       "   score                  tags\n",
       "0      1  [apple, pear, guava]\n",
       "1      2   [truck, car, plane]\n",
       "2      3     [cat, dog, mouse]"
      ]
     },
     "execution_count": 22,
     "metadata": {},
     "output_type": "execute_result"
    }
   ],
   "source": [
    "raw_data = {'score': [1,2,3], \n",
    "        'tags': [['apple','pear','guava'],['truck','car','plane'],['cat','dog','mouse']]}\n",
    "\n",
    "df = pd.DataFrame(raw_data, columns = ['score', 'tags'])\n",
    "\n",
    "df "
   ]
  },
  {
   "cell_type": "code",
   "execution_count": 35,
   "metadata": {},
   "outputs": [
    {
     "data": {
      "text/plain": [
       "['cat', 'cat', 'cat', 'dog', 'dog', 'dog', 'mouse', 'mouse', 'mouse']"
      ]
     },
     "execution_count": 35,
     "metadata": {},
     "output_type": "execute_result"
    }
   ],
   "source": []
  },
  {
   "cell_type": "code",
   "execution_count": 41,
   "metadata": {},
   "outputs": [
    {
     "data": {
      "text/plain": [
       "['apple', 'pear', 'guava', 'truck', 'car', 'plane', 'cat', 'dog', 'mouse']"
      ]
     },
     "execution_count": 41,
     "metadata": {},
     "output_type": "execute_result"
    },
    {
     "data": {
      "text/plain": [
       "{'score': [1, 2, 3],\n",
       " 'tags': ['apple',\n",
       "  'pear',\n",
       "  'guava',\n",
       "  'truck',\n",
       "  'car',\n",
       "  'plane',\n",
       "  'cat',\n",
       "  'dog',\n",
       "  'mouse']}"
      ]
     },
     "execution_count": 41,
     "metadata": {},
     "output_type": "execute_result"
    }
   ],
   "source": [
    "k = []\n",
    "for i in raw_data['tags']:\n",
    "    for j in i:\n",
    "        k.append(j )\n",
    "k \n",
    "raw_data['tags'] = k \n",
    "raw_data"
   ]
  },
  {
   "cell_type": "code",
   "execution_count": 60,
   "metadata": {
    "cell_style": "center"
   },
   "outputs": [
    {
     "name": "stdout",
     "output_type": "stream",
     "text": [
      "['0.10.0', '0.10.1', '0.11.2', '0.11.3', '0.12.0', '0.12.1', '0.12.2', '0.12.3', '0.12.dev0', '0.13.0', '0.13.1', '0.14.0', '0.14.1', '0.14.2', '0.14.3', '0.15.0', '0.7.2', '0.8.0', '0.8.1', '0.8.2', '0.9.0', '0.9.1', '0.9.2', '0.9.3']\n"
     ]
    }
   ],
   "source": [
    "import json\n",
    "import urllib.request, urllib.error, urllib.parse\n",
    "from distutils.version import StrictVersion\n",
    "\n",
    "\n",
    "def versions(package_name):\n",
    "    url = \"https://pypi.python.org/pypi/%s/json\" % (package_name, )\n",
    "    data = json.load(urllib.request.urlopen(urllib.request.Request(url)))\n",
    "    versions = list(data[\"releases\"].keys())\n",
    "    #versions.sort(key=StrictVersion)\n",
    "    for i in versions:\n",
    "        versions = max()\n",
    "    return versions\n",
    "\n",
    "\n",
    "print(versions(\"scikit-image\"))"
   ]
  },
  {
   "cell_type": "code",
   "execution_count": 49,
   "metadata": {},
   "outputs": [
    {
     "data": {
      "text/plain": [
       "['0.10.0',\n",
       " '0.10.1',\n",
       " '0.11.2',\n",
       " '0.11.3',\n",
       " '0.12.0',\n",
       " '0.12.1',\n",
       " '0.12.2',\n",
       " '0.12.3',\n",
       " '0.12.dev0',\n",
       " '0.13.0',\n",
       " '0.13.1',\n",
       " '0.14.0',\n",
       " '0.14.1',\n",
       " '0.14.2',\n",
       " '0.14.3',\n",
       " '0.15.0',\n",
       " '0.7.2',\n",
       " '0.8.0',\n",
       " '0.8.1',\n",
       " '0.8.2',\n",
       " '0.9.0',\n",
       " '0.9.1',\n",
       " '0.9.2',\n",
       " '0.9.3']"
      ]
     },
     "execution_count": 49,
     "metadata": {},
     "output_type": "execute_result"
    }
   ],
   "source": [
    "sorted(['0.10.0', '0.10.1', '0.11.2', '0.11.3', '0.12.0', '0.12.1', '0.12.2', '0.12.3', '0.12.dev0', '0.13.0', '0.13.1', '0.14.0', '0.14.1', '0.14.2', '0.14.3', '0.15.0', '0.7.2', '0.8.0', '0.8.1', '0.8.2', '0.9.0', '0.9.1', '0.9.2', '0.9.3'])"
   ]
  },
  {
   "cell_type": "code",
   "execution_count": 52,
   "metadata": {},
   "outputs": [
    {
     "data": {
      "text/plain": [
       "'0'"
      ]
     },
     "execution_count": 52,
     "metadata": {},
     "output_type": "execute_result"
    }
   ],
   "source": [
    "'0.10.1'.split('.')[0]"
   ]
  },
  {
   "cell_type": "code",
   "execution_count": 55,
   "metadata": {},
   "outputs": [
    {
     "data": {
      "text/plain": [
       "['o', 'dev', '0']"
      ]
     },
     "execution_count": 55,
     "metadata": {},
     "output_type": "execute_result"
    }
   ],
   "source": [
    "\n",
    "sorted(['0','o','dev'], reverse=True)"
   ]
  },
  {
   "cell_type": "code",
   "execution_count": 62,
   "metadata": {},
   "outputs": [],
   "source": [
    "versions=['0.10.0', '0.10.1', '0.11.2', '0.11.3', '0.12.0', '0.12.1', '0.12.2', '0.12.3', '0.12.dev0', '0.13.0', '0.13.1', '0.14.0', '0.14.1', '0.14.2', '0.14.3', '0.15.0', '0.7.2', '0.8.0', '0.8.1', '0.8.2', '0.9.0', '0.9.1', '0.9.2', '0.9.3']"
   ]
  },
  {
   "cell_type": "code",
   "execution_count": 71,
   "metadata": {},
   "outputs": [],
   "source": [
    "verionssplit = [[versions[i].split('.')[j] for i in range(len(versions))] for j in range(3)]"
   ]
  },
  {
   "cell_type": "code",
   "execution_count": 72,
   "metadata": {},
   "outputs": [
    {
     "name": "stdout",
     "output_type": "stream",
     "text": [
      "0.751491727533 2.798113439302 4.068138343604 17.569424700243 32.742568351020 23.357022526269 23.131132464710 9.801858358417 1.490128686136 0.034301546746 0.001143059877 0.000636652547 0.000168888218 0.000133326873 0.000084786511 0.000089979358 0.000030828024 0.000017362478 0.000029940019 0.000039300678 0.003981311612 0.656842216442 "
     ]
    }
   ],
   "source": [
    "!cat sample.txt"
   ]
  },
  {
   "cell_type": "code",
   "execution_count": 89,
   "metadata": {},
   "outputs": [],
   "source": [
    "a_list = []\n",
    "with open(\"sample.txt\") as f:\n",
    "    for line in f.readlines():\n",
    "        for entry in line.split(\" \"):\n",
    "            a_list.append(entry)"
   ]
  },
  {
   "cell_type": "code",
   "execution_count": 92,
   "metadata": {},
   "outputs": [
    {
     "data": {
      "text/plain": [
       "2.798113439302"
      ]
     },
     "execution_count": 92,
     "metadata": {},
     "output_type": "execute_result"
    },
    {
     "ename": "ValueError",
     "evalue": "could not convert string to float: ",
     "output_type": "error",
     "traceback": [
      "\u001b[0;31m--------------------\u001b[0m",
      "\u001b[0;31mValueError\u001b[0mTraceback (most recent call last)",
      "\u001b[0;32m<ipython-input-92-77ffd7cda403>\u001b[0m in \u001b[0;36m<module>\u001b[0;34m()\u001b[0m\n\u001b[1;32m      1\u001b[0m \u001b[0mfloat\u001b[0m\u001b[0;34m(\u001b[0m\u001b[0ma_list\u001b[0m\u001b[0;34m[\u001b[0m\u001b[0;36m1\u001b[0m\u001b[0;34m]\u001b[0m\u001b[0;34m)\u001b[0m\u001b[0;34m\u001b[0m\u001b[0;34m\u001b[0m\u001b[0m\n\u001b[0;32m----> 2\u001b[0;31m \u001b[0mfloat\u001b[0m\u001b[0;34m(\u001b[0m\u001b[0ma_list\u001b[0m\u001b[0;34m[\u001b[0m\u001b[0;34m-\u001b[0m\u001b[0;36m1\u001b[0m\u001b[0;34m]\u001b[0m\u001b[0;34m)\u001b[0m\u001b[0;34m\u001b[0m\u001b[0;34m\u001b[0m\u001b[0m\n\u001b[0m",
      "\u001b[0;31mValueError\u001b[0m: could not convert string to float: "
     ]
    }
   ],
   "source": [
    "float(a_list[1])\n",
    "float(a_list[-1])"
   ]
  },
  {
   "cell_type": "code",
   "execution_count": 95,
   "metadata": {},
   "outputs": [
    {
     "name": "stdout",
     "output_type": "stream",
     "text": [
      "0.751491727533\n",
      "2.798113439302\n",
      "4.068138343604\n",
      "17.569424700243\n",
      "32.742568351020\n",
      "23.357022526269\n",
      "23.131132464710\n",
      "9.801858358417\n",
      "1.490128686136\n",
      "0.034301546746\n",
      "0.001143059877\n",
      "0.000636652547\n",
      "0.000168888218\n",
      "0.000133326873\n",
      "0.000084786511\n",
      "0.000089979358\n",
      "0.000030828024\n",
      "0.000017362478\n",
      "0.000029940019\n",
      "0.000039300678\n",
      "0.003981311612\n",
      "list length is 23\n",
      "0.751491727533\n"
     ]
    }
   ],
   "source": [
    "a_list = []\n",
    "with open(\"sample.txt\") as f:\n",
    "    for line in f.readlines():\n",
    "        for entry in line.split(\" \"):\n",
    "            a_list.append(entry)\n",
    "\n",
    "\n",
    "for entry in a_list[:-2]:\n",
    "    print(\"%.12f\" % float(entry))\n",
    "print(\"list length is \" + str(len(a_list)))\n",
    "print(a_list[0])"
   ]
  },
  {
   "cell_type": "code",
   "execution_count": null,
   "metadata": {},
   "outputs": [],
   "source": []
  }
 ],
 "metadata": {
  "hide_input": false,
  "kernelspec": {
   "display_name": "Python 3",
   "language": "python",
   "name": "python3"
  },
  "language_info": {
   "codemirror_mode": {
    "name": "ipython",
    "version": 3
   },
   "file_extension": ".py",
   "mimetype": "text/x-python",
   "name": "python",
   "nbconvert_exporter": "python",
   "pygments_lexer": "ipython3",
   "version": "3.7.2"
  },
  "toc": {
   "base_numbering": 1,
   "nav_menu": {},
   "number_sections": true,
   "sideBar": true,
   "skip_h1_title": false,
   "title_cell": "Table of Contents",
   "title_sidebar": "Contents",
   "toc_cell": false,
   "toc_position": {},
   "toc_section_display": true,
   "toc_window_display": false
  },
  "varInspector": {
   "cols": {
    "lenName": 16,
    "lenType": 16,
    "lenVar": 40
   },
   "kernels_config": {
    "python": {
     "delete_cmd_postfix": "",
     "delete_cmd_prefix": "del ",
     "library": "var_list.py",
     "varRefreshCmd": "print(var_dic_list())"
    },
    "r": {
     "delete_cmd_postfix": ") ",
     "delete_cmd_prefix": "rm(",
     "library": "var_list.r",
     "varRefreshCmd": "cat(var_dic_list()) "
    }
   },
   "types_to_exclude": [
    "module",
    "function",
    "builtin_function_or_method",
    "instance",
    "_Feature"
   ],
   "window_display": false
  }
 },
 "nbformat": 4,
 "nbformat_minor": 2
}
