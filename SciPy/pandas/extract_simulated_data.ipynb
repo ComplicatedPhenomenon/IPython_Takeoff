{
 "cells": [
  {
   "cell_type": "code",
   "execution_count": null,
   "metadata": {
    "ExecuteTime": {
     "end_time": "2020-03-16T04:05:41.040459Z",
     "start_time": "2020-03-16T04:05:41.035189Z"
    }
   },
   "outputs": [],
   "source": [
    "from IPython.core.interactiveshell import InteractiveShell\n",
    "InteractiveShell.ast_node_interactivity = \"all\""
   ]
  },
  {
   "cell_type": "code",
   "execution_count": null,
   "metadata": {},
   "outputs": [],
   "source": [
    "import matplotlib.pyplot as plt\n",
    "%matplotlib inline"
   ]
  },
  {
   "cell_type": "code",
   "execution_count": null,
   "metadata": {
    "ExecuteTime": {
     "end_time": "2020-03-16T04:05:41.997503Z",
     "start_time": "2020-03-16T04:05:41.574620Z"
    }
   },
   "outputs": [],
   "source": [
    "import pandas as pd"
   ]
  },
  {
   "cell_type": "code",
   "execution_count": null,
   "metadata": {
    "ExecuteTime": {
     "end_time": "2020-03-16T04:05:42.004407Z",
     "start_time": "2020-03-16T04:05:42.000275Z"
    }
   },
   "outputs": [],
   "source": [
    "data_path = \"/home/wm/Playground/IdealOps/batch_jobs/data/output/\""
   ]
  },
  {
   "cell_type": "code",
   "execution_count": null,
   "metadata": {
    "ExecuteTime": {
     "end_time": "2020-03-16T04:05:42.247005Z",
     "start_time": "2020-03-16T04:05:42.028922Z"
    }
   },
   "outputs": [],
   "source": [
    "ls $data_path"
   ]
  },
  {
   "cell_type": "code",
   "execution_count": null,
   "metadata": {
    "ExecuteTime": {
     "end_time": "2020-03-16T04:05:46.690928Z",
     "start_time": "2020-03-16T04:05:46.550474Z"
    }
   },
   "outputs": [],
   "source": [
    "df = pd.read_json(data_path + \"data.json\")"
   ]
  },
  {
   "cell_type": "code",
   "execution_count": null,
   "metadata": {
    "ExecuteTime": {
     "end_time": "2020-03-10T08:27:07.889238Z",
     "start_time": "2020-03-10T08:27:07.882799Z"
    }
   },
   "outputs": [],
   "source": [
    "col = df.columns\n",
    "col"
   ]
  },
  {
   "cell_type": "code",
   "execution_count": null,
   "metadata": {
    "ExecuteTime": {
     "end_time": "2020-03-10T08:45:47.069669Z",
     "start_time": "2020-03-10T08:45:47.050805Z"
    }
   },
   "outputs": [],
   "source": [
    "df[col[4]][1]\n",
    "type(df[col[4]][1])\n",
    "pd.Timestamp(df[col[4]][1]).value//10**9\n",
    "pd.Timestamp(df[col[4]][2]).value//10**9"
   ]
  },
  {
   "cell_type": "code",
   "execution_count": null,
   "metadata": {
    "ExecuteTime": {
     "end_time": "2020-03-10T08:27:11.305932Z",
     "start_time": "2020-03-10T08:27:11.289233Z"
    }
   },
   "outputs": [],
   "source": [
    "df.head(2)"
   ]
  },
  {
   "cell_type": "code",
   "execution_count": null,
   "metadata": {
    "ExecuteTime": {
     "end_time": "2020-03-10T11:10:28.817184Z",
     "start_time": "2020-03-10T11:10:28.772233Z"
    }
   },
   "outputs": [],
   "source": [
    "tem = pd.to_datetime(df[col[3]]).values.astype(pd.Timestamp) // 10**9\n",
    "type(tem)\n",
    "type(tem[0])\n",
    "type(tem.astype(pd.Timestamp))\n",
    "tem = tem.astype(pd.Timestamp)\n",
    "type(tem)\n",
    "type(tem[0])"
   ]
  },
  {
   "cell_type": "code",
   "execution_count": null,
   "metadata": {
    "ExecuteTime": {
     "end_time": "2020-03-10T11:12:51.524293Z",
     "start_time": "2020-03-10T11:12:51.502694Z"
    }
   },
   "outputs": [],
   "source": [
    "pd.to_datetime(df[col[3]])"
   ]
  },
  {
   "cell_type": "code",
   "execution_count": null,
   "metadata": {
    "ExecuteTime": {
     "end_time": "2020-03-10T14:00:54.919626Z",
     "start_time": "2020-03-10T14:00:54.684702Z"
    }
   },
   "outputs": [],
   "source": [
    "df = pd.read_json(data_path + \"data.json\")\n",
    "col = df.columns\n",
    "A1 = pd.Series(pd.to_datetime(df[col[3]]).values.astype(pd.Timestamp) // 10 ** 9)\n",
    "A2 = df[col[0]].str.strip().str[-2:]\n",
    "A3 = df[col[1]].str.strip().str[-2:]\n",
    "A4_tem = pd.to_datetime(df[col[4]])-pd.to_datetime(df[col[3]])\n",
    "A4 = A4_tem.dt.total_seconds()//1\n",
    "\n",
    "\n",
    "df_1 = pd.concat([A1, A2, A3, A4], axis=1)\n",
    "df_new = df_1.rename(columns = dict(zip(df_1.columns, [\"A1\", \"A2\", \"A3\", \"A4\"])))\n",
    "df_new = df_new.sort_values(by=[\"A1\", \"A2\", \"A3\"])\n",
    "\n",
    "\n",
    "split_size = df_new.shape[0]//10\n",
    "train = df_new[:-split_size]\n",
    "test = df_new[-split_size:]\n",
    "train.shape\n",
    "test.shape\n",
    "test_time = pd.DataFrame({\"A1\":test[\"A1\"].unique()})\n",
    "test_solution = test[\"A4\"]\n",
    "test_time.shape\n",
    "test_solution.shape\n"
   ]
  },
  {
   "cell_type": "code",
   "execution_count": null,
   "metadata": {
    "ExecuteTime": {
     "end_time": "2020-03-10T14:01:20.530416Z",
     "start_time": "2020-03-10T14:01:20.522765Z"
    }
   },
   "outputs": [],
   "source": [
    "test_time.iloc[29,0]"
   ]
  },
  {
   "cell_type": "code",
   "execution_count": null,
   "metadata": {
    "ExecuteTime": {
     "end_time": "2020-03-16T05:18:54.821399Z",
     "start_time": "2020-03-16T05:18:54.814789Z"
    }
   },
   "outputs": [],
   "source": [
    "from os import listdir\n",
    "\n",
    "data_path = \"/home/wm/Playground/AutoSeries/autoseries/scoring_output/\"\n",
    "\n",
    "prediction_files = [file for file in listdir(data_path) if file.startswith(\"prediction_\") ]\n",
    "print(prediction_files)\n",
    "\n",
    "prediction_files = sorted(prediction_files, key=lambda item: int(item.split('_')[1]))\n",
    "print(prediction_files)"
   ]
  },
  {
   "cell_type": "code",
   "execution_count": null,
   "metadata": {
    "ExecuteTime": {
     "end_time": "2020-03-16T05:21:14.106308Z",
     "start_time": "2020-03-16T05:21:13.989327Z"
    }
   },
   "outputs": [],
   "source": [
    "tem = list()\n",
    "for file in prediction_files:\n",
    "    tem.append(pd.read_csv(data_path + file))"
   ]
  },
  {
   "cell_type": "code",
   "execution_count": null,
   "metadata": {
    "ExecuteTime": {
     "end_time": "2020-03-16T05:44:39.147515Z",
     "start_time": "2020-03-16T05:44:39.141733Z"
    }
   },
   "outputs": [],
   "source": [
    "predict = pd.concat(tem, ignore_index=True)"
   ]
  },
  {
   "cell_type": "code",
   "execution_count": null,
   "metadata": {
    "ExecuteTime": {
     "end_time": "2020-03-16T05:44:49.494731Z",
     "start_time": "2020-03-16T05:44:49.489239Z"
    }
   },
   "outputs": [],
   "source": [
    "df = pd.concat([predict,expected], axis = 1)"
   ]
  },
  {
   "cell_type": "code",
   "execution_count": null,
   "metadata": {
    "ExecuteTime": {
     "end_time": "2020-03-12T09:20:53.457640Z",
     "start_time": "2020-03-12T09:20:52.961313Z"
    }
   },
   "outputs": [],
   "source": [
    "tem_train = pd.read_csv(data_path + \"data/15/train.data/train.data\", sep = \"\\t\")"
   ]
  },
  {
   "cell_type": "code",
   "execution_count": null,
   "metadata": {
    "ExecuteTime": {
     "end_time": "2020-03-12T09:04:48.414626Z",
     "start_time": "2020-03-12T09:04:48.408542Z"
    }
   },
   "outputs": [],
   "source": [
    "train[\"A1\"].shape"
   ]
  },
  {
   "cell_type": "code",
   "execution_count": null,
   "metadata": {
    "ExecuteTime": {
     "end_time": "2020-03-12T09:21:15.615416Z",
     "start_time": "2020-03-12T09:21:15.539413Z"
    }
   },
   "outputs": [],
   "source": [
    "tem_train[\"A2\"].unique().shape[0]\n",
    "tem_train[\"A3\"].unique().shape[0]"
   ]
  },
  {
   "cell_type": "code",
   "execution_count": null,
   "metadata": {
    "ExecuteTime": {
     "end_time": "2020-03-12T09:20:57.538073Z",
     "start_time": "2020-03-12T09:20:57.513890Z"
    }
   },
   "outputs": [],
   "source": [
    "num_of_points_in_a_ts = tem_train[\"A1\"].unique().shape[0]\n",
    "num_of_points_in_a_ts"
   ]
  },
  {
   "cell_type": "code",
   "execution_count": null,
   "metadata": {
    "ExecuteTime": {
     "end_time": "2020-03-12T09:29:34.117054Z",
     "start_time": "2020-03-12T09:29:34.068375Z"
    }
   },
   "outputs": [],
   "source": [
    "pd.read_csv(data_path + \"data/15/test.solution\").shape[0]//500"
   ]
  },
  {
   "cell_type": "code",
   "execution_count": null,
   "metadata": {},
   "outputs": [],
   "source": [
    "predict = pd.read_csv(data_path + \"scoring_output/prediction_30\")\n",
    "expected = pd.read_csv(data_path + \"data/16/test.solution\")"
   ]
  },
  {
   "cell_type": "code",
   "execution_count": null,
   "metadata": {
    "ExecuteTime": {
     "end_time": "2020-03-12T06:30:30.087198Z",
     "start_time": "2020-03-12T06:30:30.075224Z"
    }
   },
   "outputs": [],
   "source": [
    "train.loc[[60*j for j in range(270)]]"
   ]
  },
  {
   "cell_type": "code",
   "execution_count": null,
   "metadata": {
    "ExecuteTime": {
     "end_time": "2020-03-12T08:08:11.839732Z",
     "start_time": "2020-03-12T08:08:11.784149Z"
    }
   },
   "outputs": [],
   "source": [
    "df.loc[[i + 60*j for j in range(30)]]"
   ]
  },
  {
   "cell_type": "code",
   "execution_count": null,
   "metadata": {
    "ExecuteTime": {
     "end_time": "2020-03-12T06:18:23.903183Z",
     "start_time": "2020-03-12T06:18:23.888998Z"
    }
   },
   "outputs": [],
   "source": [
    "predict = pd.read_csv(data_path + \"scoring_output/prediction_30\")\n",
    "expected = pd.read_csv(data_path + \"data/16/test.solution\")"
   ]
  },
  {
   "cell_type": "code",
   "execution_count": null,
   "metadata": {
    "ExecuteTime": {
     "end_time": "2020-03-12T06:18:24.537016Z",
     "start_time": "2020-03-12T06:18:24.531212Z"
    }
   },
   "outputs": [],
   "source": [
    "df = pd.concat([predict,expected], axis = 1)"
   ]
  },
  {
   "cell_type": "code",
   "execution_count": null,
   "metadata": {
    "ExecuteTime": {
     "end_time": "2020-03-12T06:19:34.767093Z",
     "start_time": "2020-03-12T06:19:34.530551Z"
    }
   },
   "outputs": [],
   "source": [
    "plt.rcParams[\"figure.figsize\"] = [10, 3]\n",
    "y = df.loc[[60*j for j in range(30)]]\n",
    "\n",
    "plt.plot(range(30), y.iloc[:,0], marker = \".\", label = \"predicted\")\n",
    "plt.plot(range(30), y.iloc[:,1], marker = \".\", label = \"expected\")"
   ]
  },
  {
   "cell_type": "code",
   "execution_count": null,
   "metadata": {
    "ExecuteTime": {
     "end_time": "2020-03-12T05:11:42.241313Z",
     "start_time": "2020-03-12T05:11:41.972002Z"
    },
    "scrolled": true
   },
   "outputs": [],
   "source": [
    "y = df.loc[[60*j for j in range(30)]]\n",
    "\n",
    "plt.plot(range(30), y.iloc[:,0], marker = \".\", label = \"predicted\")\n",
    "plt.plot(range(30), y.iloc[:,1], marker = \".\", label = \"expected\")"
   ]
  },
  {
   "cell_type": "code",
   "execution_count": null,
   "metadata": {
    "ExecuteTime": {
     "end_time": "2020-03-11T11:36:27.147907Z",
     "start_time": "2020-03-11T11:36:27.132320Z"
    }
   },
   "outputs": [],
   "source": [
    "df.loc[[i + 60*j for j in range(30)]].iloc[:,0]"
   ]
  },
  {
   "cell_type": "code",
   "execution_count": null,
   "metadata": {
    "ExecuteTime": {
     "end_time": "2020-03-11T11:42:08.501835Z",
     "start_time": "2020-03-11T11:42:08.281566Z"
    }
   },
   "outputs": [],
   "source": [
    "plt.plot(x, p_e.iloc[:,0], marker = \".\", label = \"predicted\")"
   ]
  },
  {
   "cell_type": "code",
   "execution_count": null,
   "metadata": {
    "ExecuteTime": {
     "end_time": "2020-03-12T05:50:13.642682Z",
     "start_time": "2020-03-12T05:50:13.636605Z"
    }
   },
   "outputs": [],
   "source": [
    "from itertools import product"
   ]
  },
  {
   "cell_type": "code",
   "execution_count": null,
   "metadata": {
    "ExecuteTime": {
     "end_time": "2020-03-12T05:36:34.508969Z",
     "start_time": "2020-03-12T05:36:28.841469Z"
    }
   },
   "outputs": [],
   "source": [
    "plt.rcParams[\"figure.figsize\"] = [10, 25]\n",
    "string = \"system_1_task_{}\"\n",
    "task = 20\n",
    "fig, ax_array = plt.subplots(task, sharex=True)\n",
    "fig.set_size_inches(10, 10, 10)\n",
    "x = list(range(270, 300))\n",
    "for i in range(task):\n",
    "    p_e = df.loc[[i + 60*j for j in range(30)]]\n",
    "    _ = ax_array[i].plot(x, p_e.iloc[:,0], marker = \".\", label = \"predicted\")\n",
    "    _ = ax_array[i].plot(x, p_e.iloc[:,1], marker = \".\", label = \"expected\")\n",
    "    _ = ax_array[i].set_title(string.format(i))\n",
    "    _ = ax_array[i].legend()\n"
   ]
  }
 ],
 "metadata": {
  "kernelspec": {
   "display_name": "Python 3",
   "language": "python",
   "name": "python3"
  },
  "language_info": {
   "codemirror_mode": {
    "name": "ipython",
    "version": 3
   },
   "file_extension": ".py",
   "mimetype": "text/x-python",
   "name": "python",
   "nbconvert_exporter": "python",
   "pygments_lexer": "ipython3",
   "version": "3.7.4"
  },
  "toc": {
   "base_numbering": 1,
   "nav_menu": {},
   "number_sections": true,
   "sideBar": true,
   "skip_h1_title": false,
   "title_cell": "Table of Contents",
   "title_sidebar": "Contents",
   "toc_cell": false,
   "toc_position": {},
   "toc_section_display": true,
   "toc_window_display": false
  }
 },
 "nbformat": 4,
 "nbformat_minor": 2
}
