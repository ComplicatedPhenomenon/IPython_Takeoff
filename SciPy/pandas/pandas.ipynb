{
 "cells": [
  {
   "cell_type": "code",
   "execution_count": null,
   "metadata": {},
   "outputs": [],
   "source": [
    "from IPython.core.interactiveshell import InteractiveShell\n",
    "InteractiveShell.ast_node_interactivity = \"all\" "
   ]
  },
  {
   "cell_type": "code",
   "execution_count": null,
   "metadata": {},
   "outputs": [],
   "source": [
    "import pandas as pd \n",
    "import numpy as np"
   ]
  },
  {
   "cell_type": "code",
   "execution_count": null,
   "metadata": {},
   "outputs": [],
   "source": [
    "import re\n",
    "import random\n",
    "import calendar\n",
    "import time \n",
    "from datetime import datetime, timedelta"
   ]
  },
  {
   "cell_type": "markdown",
   "metadata": {},
   "source": [
    "Check up \n",
    "https://stackoverflow.com/users/2901002/jezrael"
   ]
  },
  {
   "cell_type": "markdown",
   "metadata": {},
   "source": [
    "#  DataFrame"
   ]
  },
  {
   "cell_type": "markdown",
   "metadata": {},
   "source": [
    "<span style=\"font-family: New York Times; font-size: 1em; color: green;\">\n",
    "    \n",
    "The most important part of the Pandas library is the DataFrame. A DataFrame holds the type of data you might think of as a table. This is similar to a sheet in Excel, or a table in a SQL database. \n",
    "\n",
    "Want to know the basic usage look like this?\n",
    "\n",
    "* [pandas source](https://github.com/pandas-dev/pandas)\n",
    "* [19 Essential Snippets in Pandas](https://jeffdelaney.me/blog/useful-snippets-in-pandas/)\n",
    "* https://towardsdatascience.com/pandas-dataframe-a-lightweight-intro-680e3a212b96"
   ]
  },
  {
   "cell_type": "markdown",
   "metadata": {},
   "source": [
    "## Data for `DataFrame`"
   ]
  },
  {
   "cell_type": "code",
   "execution_count": null,
   "metadata": {},
   "outputs": [],
   "source": [
    "tupList = [[('commentID', 'commentText', 'date'), ('123456', 'blahblahblah', '2019')], [('45678', 'hello world', '2018'), ('0', 'text', '2017')]]\n",
    "pd.DataFrame(sum(tupList,[]))"
   ]
  },
  {
   "cell_type": "code",
   "execution_count": null,
   "metadata": {},
   "outputs": [],
   "source": [
    "data = {'Tom':['1','1','1','1','1','0','0'],\n",
    "        'John':['1','1','1','1','1','0','0'],\n",
    "        'Harry':['1','1','1','1','1','0','0'],\n",
    "        'Bob':['1','1','1','1','1','0','0']}\n",
    "\n",
    "df1 = pd.DataFrame.from_dict(data, orient='index',\n",
    "                        columns=['Day 1','Day 2','Day 3','Day 4','Day 5','Day 6','Day 7',])\n",
    "\n",
    "print(df1)\n",
    "\n",
    "\n",
    "data2 = {'Name':['Tom','Harry'], 'Day':['Day 7','Day 6']}\n",
    "df2 = pd.DataFrame.from_dict(data2)\n",
    "print(df2)"
   ]
  },
  {
   "cell_type": "markdown",
   "metadata": {},
   "source": [
    "## count row numbers "
   ]
  },
  {
   "cell_type": "code",
   "execution_count": null,
   "metadata": {},
   "outputs": [],
   "source": [
    "df  = pd.DataFrame({'Lat': [20, 30], 'Lon':[20,10]})\n",
    "[{'lat': df.loc[i, 'Lat'], 'lon' : df.loc[i, 'Lon']} for i in range(df.shape[0])]"
   ]
  },
  {
   "cell_type": "code",
   "execution_count": null,
   "metadata": {},
   "outputs": [],
   "source": [
    "data = zip(df['Lat'].tolist(), df['Lon'].tolist())\n",
    "[{'lat': a, 'lon': b} for a, b in data]"
   ]
  },
  {
   "cell_type": "markdown",
   "metadata": {},
   "source": [
    "## Add new columns to existed DataFrame"
   ]
  },
  {
   "cell_type": "code",
   "execution_count": null,
   "metadata": {},
   "outputs": [],
   "source": [
    "df = pd.DataFrame({\"column_1\": [1] , \"column_2\": [2] , \"column_3\": [3] })\n",
    "A = 1\n",
    "B = \"c_10\"\n",
    "df.insert(0,'A',A)\n",
    "df.insert(1,'B',B)\n",
    "print(df.to_string(index= False)) "
   ]
  },
  {
   "cell_type": "markdown",
   "metadata": {},
   "source": [
    "## Search a column"
   ]
  },
  {
   "cell_type": "code",
   "execution_count": null,
   "metadata": {},
   "outputs": [],
   "source": [
    "df = pd.DataFrame({\n",
    "    'customerId' : ['A', 'A', 'A', 'A', 'A', 'A', 'A', 'B', 'B', 'B', 'B', 'B', 'B','B', 'B', 'B'],\n",
    "    'startOf15Min' : ['2019-07-30T00:00:00', '2019-07-30T00:15:00',\n",
    "       '2019-07-30T07:00:00', '2019-07-30T07:15:00',\n",
    "       '2019-07-30T07:30:00', '2019-07-30T07:45:00',\n",
    "       '2019-07-30T08:00:00', '2019-07-30T00:00:00',\n",
    "       '2019-07-30T00:15:00', '2019-07-30T06:30:00',\n",
    "       '2019-07-30T06:45:00', '2019-07-30T07:00:00',\n",
    "       '2019-07-30T07:15:00', '2019-07-30T07:30:00',\n",
    "       '2019-07-30T07:45:00', '2019-07-30T08:00:00']\n",
    "}, columns=['customerId', 'startOf15Min'])\n",
    "df "
   ]
  },
  {
   "cell_type": "markdown",
   "metadata": {},
   "source": [
    "## Pandas find missing 15 minutes intervals\n",
    "https://stackoverflow.com/questions/57267868/pandas-find-missing-15-minutes-intervals"
   ]
  },
  {
   "cell_type": "code",
   "execution_count": null,
   "metadata": {},
   "outputs": [],
   "source": [
    "df = pd.DataFrame({\n",
    "    'customerId' : ['A', 'A', 'A', 'A', 'A', 'A', 'A', 'B', 'B', 'B', 'B', 'B', 'B','B', 'B', 'B'],\n",
    "    'startOf15Min' : ['2019-07-30T00:00:00', '2019-07-30T00:15:00',\n",
    "       '2019-07-30T07:00:00', '2019-07-30T07:15:00',\n",
    "       '2019-07-30T07:30:00', '2019-07-30T07:45:00',\n",
    "       '2019-07-30T08:00:00', '2019-07-30T00:00:00',\n",
    "       '2019-07-30T00:15:00', '2019-07-30T06:30:00',\n",
    "       '2019-07-30T06:45:00', '2019-07-30T07:00:00',\n",
    "       '2019-07-30T07:15:00', '2019-07-30T07:30:00',\n",
    "       '2019-07-30T07:45:00', '2019-07-30T08:00:00']\n",
    "}, columns=['customerId', 'startOf15Min'])\n",
    "\n",
    "df.startOf15Min = pd.to_datetime(df.startOf15Min)\n",
    "\n",
    "intv = pd.date_range('2019-07-30 06:00:00','2019-07-30 09:00:00', freq='15Min', closed='left')\n",
    "df.startOf15Min = pd.to_datetime(df.startOf15Min)\n",
    "missing = df.groupby('customerId')['startOf15Min'].apply(lambda x: [i for i in intv if i not in x])\n",
    "\n",
    "print(missing[0])"
   ]
  },
  {
   "cell_type": "markdown",
   "metadata": {},
   "source": [
    "https://stackoverflow.com/questions/57549162/filling-in-missing-hours-in-a-pandas-dataframe"
   ]
  },
  {
   "cell_type": "markdown",
   "metadata": {},
   "source": [
    "## Select rows "
   ]
  },
  {
   "cell_type": "markdown",
   "metadata": {},
   "source": [
    "* https://stackoverflow.com/questions/57533004/how-to-drop-all-rows-in-pandas-dataframe-with-negative-values/57533045?noredirect=1#comment101531645_57533045"
   ]
  },
  {
   "cell_type": "code",
   "execution_count": null,
   "metadata": {},
   "outputs": [],
   "source": [
    "dict0 = {\n",
    "    \"country\":\n",
    "    [\"Brazil\", \"Russia\", \"India\", \"China\", \"South Africa\", \"South Africa\"],\n",
    "    \"capital\":\n",
    "    [\"Brasilia\", \"Moscow\", \"New Dehli\", \"Beijing\", \"Pretoria\", \"Pretoria\"],\n",
    "    \"area\": [8.516, 171.10, 3.286, 9.597, 1.221, 1.221],\n",
    "    \"population\": [200.4, 143.5, 1252, 1357, 52.98, 52.98]\n",
    "}\n",
    "\n",
    "df = pd.DataFrame(dict0)"
   ]
  },
  {
   "cell_type": "code",
   "execution_count": null,
   "metadata": {},
   "outputs": [],
   "source": [
    "df = pd.DataFrame({\n",
    "    'col1': [1, 2, 3, 4],\n",
    "    'col2': [-1, -2, 3, 4],\n",
    "    'col3': ['a', 'b', 'c', 'd'],\n",
    "    'col4': [1, 2, 3, 4]\n",
    "})\n",
    "df[df.select_dtypes(include=[np.number]).ge(0).all(1)]"
   ]
  },
  {
   "cell_type": "markdown",
   "metadata": {},
   "source": [
    "## Iterate row"
   ]
  },
  {
   "cell_type": "markdown",
   "metadata": {},
   "source": [
    "https://stackoverflow.com/questions/57588176/creating-new-list-names-during-iteration-to-append-elements/57588483#57588483"
   ]
  },
  {
   "cell_type": "code",
   "execution_count": null,
   "metadata": {},
   "outputs": [],
   "source": [
    "df = pd.DataFrame({\"R1\": [8,2,3], \"R2\": [-21,-24,4], \"R3\": [-9,46,6]})\n",
    "df.apply(lambda row: row[:])\n",
    "# desired Output\n",
    "list1 = df.values[0].tolist()\n",
    "print(list1)\n",
    "list2 = df.values[1].tolist()\n",
    "print(list2)\n",
    "list3 = df.values[2].tolist()\n",
    "print(list3)\n",
    "#df.loc[1].values.tolist()\n",
    "for i in range(3):\n",
    "    print('list{} = {}'.format(i, df.loc[i].values.tolist()))"
   ]
  },
  {
   "cell_type": "markdown",
   "metadata": {},
   "source": [
    "## Drop duplicated rows \n",
    "* https://stackoverflow.com/questions/57107125/remove-duplicates-from-python-dataframe-list#57107125"
   ]
  },
  {
   "cell_type": "code",
   "execution_count": null,
   "metadata": {},
   "outputs": [],
   "source": [
    "df.query('country==\"South Africa\"' and 'population == 52.98' ).index\n",
    "df.index[df.country==\"South Africa\"]"
   ]
  },
  {
   "cell_type": "code",
   "execution_count": null,
   "metadata": {},
   "outputs": [],
   "source": [
    "'country' in list(dict0.keys())\n",
    "'country' in []"
   ]
  },
  {
   "cell_type": "code",
   "execution_count": null,
   "metadata": {},
   "outputs": [],
   "source": [
    "df.loc[:,'country']\n",
    "df['country']\n",
    "df.iloc[-5:]\n",
    "df.iloc[[1,2]]\n",
    "df.iloc[1,2]"
   ]
  },
  {
   "cell_type": "code",
   "execution_count": null,
   "metadata": {},
   "outputs": [],
   "source": [
    "random.sample(list(df.index.values), 3)[-2:]\n",
    "df.index.values"
   ]
  },
  {
   "cell_type": "code",
   "execution_count": null,
   "metadata": {},
   "outputs": [],
   "source": [
    "np.random.seed(0)\n",
    "df = pd.DataFrame(np.random.randint(10, size=(1000, 2)))\n",
    "df.columns = ['x', 'y']\n",
    "indices = np.random.choice(df.index[-50:], size=5, replace=False)\n",
    "indices\n",
    "result = df.iloc[indices]\n",
    "print(result)"
   ]
  },
  {
   "cell_type": "code",
   "execution_count": null,
   "metadata": {},
   "outputs": [],
   "source": [
    "import random\n",
    "def randomly_generated_dataframe( df1, n1, n2): \n",
    "    selected_indices = random.sample(list(df.index.values), n1)[-n2:]\n",
    "    return df1.iloc[selected_indices]\n",
    "\n",
    "randomly_generated_dataframe( df1, 5, 50)"
   ]
  },
  {
   "cell_type": "markdown",
   "metadata": {},
   "source": [
    "* https://stackoverflow.com/questions/57121550/finding-the-best-match-for-similar-texts-and-keeping-only-unique-values"
   ]
  },
  {
   "cell_type": "markdown",
   "metadata": {},
   "source": [
    "```md\n",
    "      Project Name  \n",
    "552   Hilton International\n",
    "553   Hilton International A\n",
    "```"
   ]
  },
  {
   "cell_type": "code",
   "execution_count": null,
   "metadata": {},
   "outputs": [],
   "source": [
    "dict0 = {'datacenter': 'DC1', 'output': b\"[{'Device': 'device01', 'Port': 'Ge0/0/5', 'Provider': 'L3', 'ID': 3324114459135, 'Remote': 'ISP Circuit', 'Destination Port': 'ISP Port'}, {'Device': 'device02', 'Port': 'Ge0/0/5', 'Provider': 'L3', 'ID': 334555114459135, 'Remote': 'ISP Circuit', 'Destination Port': 'ISP Port'}]\\n\"}\n",
    "df = pd.DataFrame(dict0, index=[0])\n",
    "df['output'][0]"
   ]
  },
  {
   "cell_type": "code",
   "execution_count": null,
   "metadata": {},
   "outputs": [],
   "source": [
    "xticks = ['' for _ in range(22)]\n",
    "#xticks=np.full(length_x,'',dtype=str).dtype\n",
    "#xticks=np.full(length_x,'',dtype=str)\n",
    "xticks\n",
    "major_ticks = np.linspace(-10, 10, 5, dtype=int)\n",
    "#major_ticks = np.arange(-10,15, 5)\n",
    "print(major_ticks)  #returns [-10  -5   0   5  10]\n",
    "\n",
    "i = 0\n",
    "for j in range(len(xticks)):\n",
    "    if j % 5 == 0:\n",
    "        str(major_ticks[i])\n",
    "        xticks[j]\n",
    "        xticks[j] = str(major_ticks[i])\n",
    "        xticks[j]\n",
    "        i += 1\n",
    "xticks"
   ]
  },
  {
   "cell_type": "markdown",
   "metadata": {},
   "source": [
    "## Merge 2 DF"
   ]
  },
  {
   "cell_type": "code",
   "execution_count": null,
   "metadata": {},
   "outputs": [],
   "source": [
    "df1= {'id' : [1,1,1,3,5,6,7,8,9,10], 'name' : ['a','a','a','c','e','f','g','h','i','j']}\n",
    "df2 = {'id' : [1,2,3,4,5,6,7,8,9,10], 'age' : [21,11,45,11,56,22,26,26,17,32], 'gender' : ['M','M','f','f','M','f','M','M','f','M']}}\n",
    "df1 = pd.DataFrame(df1)\n",
    "df1.set_index('id', inplace = True)\n",
    "df2 = pd.DataFrame(df2)\n",
    "df2.set_index('id', inplace = True)\n",
    "df1['gender'] = df2['gender']\n",
    "#df1.merge(df2, left_index=True, right_index=True)"
   ]
  },
  {
   "cell_type": "code",
   "execution_count": null,
   "metadata": {},
   "outputs": [],
   "source": [
    "dict0 = {'CO2': {'GWP': 1.0, 'B_index': [23, 92, 93, 427, 437, 438]}, 'CH4': {'GWP': 28.0, 'B_index': [24, 67, 68, 69, 70, 71, 72, 73, 74, 426, 435]}, 'N2O': {'GWP': 265.0, 'B_index': [25, 429]}}\n",
    "df = pd.DataFrame(dict0)\n",
    "print(df.loc['B_index'])\n",
    "print(df.loc['B_index', \"CO2\"])\n",
    "print(df.loc['B_index', \"CH4\"])\n",
    "print(df.loc['B_index', \"N2O\"])"
   ]
  },
  {
   "cell_type": "code",
   "execution_count": null,
   "metadata": {},
   "outputs": [],
   "source": [
    "df.iloc[-1][1]\n",
    "df.iloc[0][1] \n",
    "df.loc[\"GWP\":, ]"
   ]
  },
  {
   "cell_type": "code",
   "execution_count": null,
   "metadata": {},
   "outputs": [],
   "source": [
    "dict1 = {\n",
    "    \"Column1\": [\n",
    "        \"A1-19\", \"B2-52\", \"C3-1245¯main_123456789\", \"D4\", \"Z89028\",\n",
    "        \"F7¯main_123456789\"\n",
    "    ]\n",
    "}\n",
    "df1 = pd.DataFrame(dict1)\n",
    "df1"
   ]
  },
  {
   "cell_type": "code",
   "execution_count": null,
   "metadata": {},
   "outputs": [],
   "source": [
    "re.compile(r'')"
   ]
  },
  {
   "cell_type": "code",
   "execution_count": null,
   "metadata": {},
   "outputs": [],
   "source": [
    "df1[\"New\"]=df1['Column1'].str.split('¯main_').str[0]\n",
    "df1 "
   ]
  },
  {
   "cell_type": "code",
   "execution_count": null,
   "metadata": {},
   "outputs": [],
   "source": [
    "'C3-1245¯main_123456789'.split(\"¯main_\")\n",
    "'Z89028'.split(\"¯main_\")"
   ]
  },
  {
   "cell_type": "code",
   "execution_count": null,
   "metadata": {},
   "outputs": [],
   "source": [
    "m = ['x', 'y', 'z', 'a', 'b', 'c']\n",
    "m = np.array(m)\n",
    "print(type(m))"
   ]
  },
  {
   "cell_type": "markdown",
   "metadata": {},
   "source": [
    "https://stackoverflow.com/questions/57687415/merge-two-dataframe-columns"
   ]
  },
  {
   "cell_type": "code",
   "execution_count": null,
   "metadata": {},
   "outputs": [],
   "source": [
    "np.random.seed(0)\n",
    "left = pd.DataFrame({'key': ['A', 'B', 'C', 'D'], 'value': np.random.randn(4)})    \n",
    "right = pd.DataFrame({'key': ['B', 'D', 'E', 'F'], 'value': np.random.randn(4)})\n",
    "pd.merge(left, right, on='key')"
   ]
  },
  {
   "cell_type": "markdown",
   "metadata": {},
   "source": [
    "## `df.melt`\n",
    "https://stackoverflow.com/questions/57415175/transforming-rows-to-column-in-pandas-dataframe"
   ]
  },
  {
   "cell_type": "markdown",
   "metadata": {},
   "source": [
    "# Add a column and based on conditions\n",
    "* https://stackoverflow.com/questions/57129328/for-loop-based-on-two-filtered-columns"
   ]
  },
  {
   "cell_type": "code",
   "execution_count": null,
   "metadata": {},
   "outputs": [],
   "source": [
    "a = 1 \n",
    "b = 0\n",
    "if a ==b==0 or a==b==1:\n",
    "    print(\"True\")\n",
    "else:\n",
    "    print(\"False\")"
   ]
  },
  {
   "cell_type": "code",
   "execution_count": null,
   "metadata": {},
   "outputs": [],
   "source": [
    "dict1 = {\"Actual\":[1,0], \"Predicted\" :[1,1], \"A\":  [0.002753, 0.909696], \"B\": [0.997247, 0.090304]}\n",
    "df = pd.DataFrame(dict1)\n",
    "df "
   ]
  },
  {
   "cell_type": "code",
   "execution_count": null,
   "metadata": {},
   "outputs": [],
   "source": [
    "for i in list(df.index):\n",
    "    if df.loc[i,\"Actual\"] ==df.loc[i,\"Predicted\"]==0 or df.loc[i,\"Actual\"] ==df.loc[i,\"Predicted\"]==1:\n",
    "        df.loc[i, \"Conf_Type\"] = True\n",
    "    else:\n",
    "        df.loc[i, \"Conf_Type\"] = False\n",
    "df     "
   ]
  },
  {
   "cell_type": "markdown",
   "metadata": {},
   "source": [
    "# Loop Through Pandas Rows"
   ]
  },
  {
   "cell_type": "code",
   "execution_count": null,
   "metadata": {},
   "outputs": [],
   "source": [
    "df = pd.DataFrame(np.array(([1, 2, 3], [4, 5, 6])),index=['mouse', 'rabbit'], columns=['one', 'two', 'three'])"
   ]
  },
  {
   "cell_type": "code",
   "execution_count": null,
   "metadata": {},
   "outputs": [],
   "source": [
    "df.filter(items=['one', 'three'])\n",
    "df.filter(regex='e$', axis=1)"
   ]
  },
  {
   "cell_type": "code",
   "execution_count": null,
   "metadata": {},
   "outputs": [],
   "source": [
    "dict = {\"Project_Name\": [\"Hilton International\", \"Hilton International A\"]}\n",
    "df2 = pd.DataFrame(dict)\n",
    "df2.index=range(552, 554)"
   ]
  },
  {
   "cell_type": "code",
   "execution_count": null,
   "metadata": {},
   "outputs": [],
   "source": [
    "dict = {\"Project_Name\": [\"Hilton International\", \"Hilton International A\"]}\n",
    "df2 = pd.DataFrame(dict)\n",
    "df2.index = range(552, 554)\n",
    "for i in df2.index:\n",
    "    df2.loc[[i]][\"Project_Name\"]\n",
    "\n",
    "#df2.loc[[553]] = \"Hilton International\""
   ]
  },
  {
   "cell_type": "code",
   "execution_count": null,
   "metadata": {},
   "outputs": [],
   "source": [
    "list(df2.index.values)"
   ]
  },
  {
   "cell_type": "code",
   "execution_count": null,
   "metadata": {},
   "outputs": [],
   "source": [
    "df2.Project_Name.str.contains(r'Hilton International$')[[552]] == True"
   ]
  },
  {
   "cell_type": "markdown",
   "metadata": {},
   "source": [
    "# `apply` `lambda`\n",
    "https://stackoverflow.com/questions/57551081/elegant-way-to-format-datetime-values-without-using-datetime-functions-in-pandas#57551081"
   ]
  },
  {
   "cell_type": "code",
   "execution_count": null,
   "metadata": {},
   "outputs": [],
   "source": [
    "df1_new = pd.DataFrame({'person_id': [1, 1, 3, 3, 5, 5],'obs_date': ['7/23/2377  12:00:00 AM', 'NA-NA-NA NA:NA:NA', 'NA-NA-NA NA:NA:NA', '7/27/2277  12:00:00 AM', '7/13/2077  12:00:00 AM', 'NA-NA-NA NA:NA:NA']})\n",
    "df1_new"
   ]
  },
  {
   "cell_type": "code",
   "execution_count": null,
   "metadata": {},
   "outputs": [],
   "source": [
    "import datetime\n",
    "def str2time(x):\n",
    "    try:\n",
    "        return datetime.datetime.strptime(x, '%m/%d/%Y %H:%M:%S %p')\n",
    "    except:\n",
    "        return pd.NaT\n",
    "df1_new['obs_date'] = df1_new['obs_date'].apply(str2time)\n",
    "print(df1_new)"
   ]
  },
  {
   "cell_type": "code",
   "execution_count": null,
   "metadata": {},
   "outputs": [],
   "source": [
    "yr = df1_new['obs_date'][0][5:9]\n",
    "type(yr)\n",
    "m = df1_new['obs_date'][0][2:4]\n",
    "d = df1_new['obs_date'][0][0]\n",
    "t = df1_new['obs_date'][0][11:19]\n",
    "output = yr + \"-\" + m + \"-\" + d + \" \" + t \n",
    "output"
   ]
  },
  {
   "cell_type": "code",
   "execution_count": null,
   "metadata": {},
   "outputs": [],
   "source": [
    "import itertools\n",
    "from haversine import haversine\n",
    "x = {'city':['AUSTRALIAN NATIONAL UNIVERSITY', 'BARTON', 'DARWIN', 'DARWIN', 'PARAP', 'ALAWA', 'BRINKIN', 'CASUARINA', 'JINGILI', 'LEE_POINT' ]}\n",
    "la = {'Latitude':[-35.277272,-35.201372, -12.801028 , -12.801028, -12.432181, -12.378451, -12.367769, -12.376597, -12.385761, -12.360865]}\n",
    "lo = {'Longitude':[149.117136,149.095065, 130.955789 , 130.955789, 130.843310,  130.877014, 130.869808, 130.850489, 130.873726, 130.891349]}\n",
    "data = {**x, **la, **lo}\n",
    "df = pd.DataFrame(data)\n",
    "df = df.drop_duplicates()\n",
    "city = list(df[\"city\"])\n",
    "TwoCity = list(itertools.combinations(city, 2))\n",
    "df1 = pd.DataFrame({'TwoCity':TwoCity})\n",
    "#df['Date'] =  df.apply(lambda row: '1' + '/' + str(row.Month) + '/'+ str(row.Year), axis = 1)\n",
    "df1['Distance'] = df1.apply(lambda row: \\\n",
    "          haversine((df[df['city']==row.TwoCity[0]]['Latitude'], df[df['city']==row.TwoCity[0]]['Longitude']),\\\n",
    "                    (df[df['city']==row.TwoCity[1]]['Latitude'], df[df['city']==row.TwoCity[1]]['Longitude'])),axis=1)"
   ]
  },
  {
   "cell_type": "markdown",
   "metadata": {},
   "source": [
    "# convert `csv` to `json`"
   ]
  },
  {
   "cell_type": "code",
   "execution_count": null,
   "metadata": {},
   "outputs": [],
   "source": [
    "csv_file = pd.DataFrame(pd.read_csv(\"path/to/file.csv\", sep = \",\", header = 0, index_col = False))\n",
    "csv_file.to_json(\"/path/to/new/file.json\", orient = \"records\", date_format = \"epoch\", double_precision = 10, force_ascii = True, date_unit = \"ms\", default_handler = None)"
   ]
  },
  {
   "cell_type": "markdown",
   "metadata": {},
   "source": [
    "# Replace characters in table "
   ]
  },
  {
   "cell_type": "code",
   "execution_count": null,
   "metadata": {},
   "outputs": [],
   "source": [
    "# implement it with pandas \n",
    "raw_data = {'ID': [1,2,3,4,5,6,7,8,9,10], 'body': ['FITrnXS$100', '$1000rnReason', 'rnIf', 'bevlauedrnrnnext', 'obccrnrnnoncrnrnactionrn', 'rnrnnotification', 'insdrnrnnon', 'rnrnupdated', 'rnreason', 'rnrnrnLOR']}\n",
    "remove_string =['rn', 'rnr', 'rnrn', 'rnrnrn']\n",
    "df = pd.DataFrame(raw_data, columns = ['ID', 'body', 'cleaned_txt', 'Removed_string'])\n",
    "\n",
    "df['cleaned_txt'], df['Removed_string'] = df['body'], df['body']\n",
    "for i in remove_string[::-1]:\n",
    "    df['cleaned_txt'] = df['cleaned_txt'].str.replace(i, ' ')\n",
    "    df[i] = df['Removed_string'].str.extract('({})'.format(i)) \n",
    "\n",
    "df['Removed_string'] = df[remove_string].ffill(axis=1).iloc[:, -1]\n",
    "df = df.drop(remove_string, axis=1)\n",
    "print (df)"
   ]
  },
  {
   "cell_type": "code",
   "execution_count": null,
   "metadata": {},
   "outputs": [],
   "source": [
    "# Implement it in original data 👌\n",
    "raw_data = {'ID': [1,2,3,4,5,6,7,8,9,10], \n",
    "        'body': ['FITrnXS$100', '$1000rnReason', 'rnIf', 'bevlauedrnrnnext', 'obccrnrnnoncrnrnactionrn', 'rnrnnotification', 'insdrnrnnon', 'rnrnupdated', 'rnreason', 'rnrnrnLOR']}\n",
    "removed_string =['rn', 'rnr', 'rnrn', 'rnrnrn']\n",
    "removed_string =  removed_string[::-1]\n",
    "\n",
    "raw_data['Removed_string'] = []\n",
    "raw_data['cleaned_txt'] = []\n",
    "for i in raw_data['body']:\n",
    "    j = 0\n",
    "    m = removed_string[j]\n",
    "    while True:\n",
    "        m = removed_string[j]\n",
    "        pattern = re.compile(m)\n",
    "        n = pattern.findall(i)\n",
    "        if len(n) != 0: \n",
    "            raw_data['cleaned_txt'].append(i.replace(m, ' '))\n",
    "            raw_data['Removed_string'].append(m)\n",
    "            break\n",
    "        j += 1\n",
    "df = pd.DataFrame(raw_data, columns = ['ID', 'body', 'cleaned_txt', 'Removed_string'])\n",
    "print(df) "
   ]
  },
  {
   "cell_type": "markdown",
   "metadata": {},
   "source": [
    "# Add a new column depending on the other column"
   ]
  },
  {
   "cell_type": "code",
   "execution_count": null,
   "metadata": {},
   "outputs": [],
   "source": [
    "df = pd.DataFrame()\n",
    "df['temp'] = pd.date_range(start='01-Jan-2000', end='31-Dec-2018', freq='MS')\n",
    "df['value'] = 5\n",
    "df.set_index('temp', inplace=True)\n",
    "days_list = []\n",
    "for val in df.index:\n",
    "    days_list.append(calendar.monthrange(val.year, val.month)[1])\n",
    "\n",
    "df['days_in_month'] = days_list\n",
    "df"
   ]
  },
  {
   "cell_type": "code",
   "execution_count": null,
   "metadata": {},
   "outputs": [],
   "source": [
    "df = pd.DataFrame()\n",
    "df['temp'] = pd.date_range(start='01-Jan-2000', end='31-Dec-2018', freq='MS')\n",
    "df['value'] = 5\n",
    "df.set_index('temp', inplace=True)\n",
    "\n",
    "for val in df.index:\n",
    "    df['days_in_month'] = df.index.map(\n",
    "        lambda val: calendar.monthrange(val.year, val.month)[1])\n",
    "\n",
    "df"
   ]
  },
  {
   "cell_type": "code",
   "execution_count": null,
   "metadata": {},
   "outputs": [],
   "source": [
    "df = pd.DataFrame()\n",
    "df['temp'] = pd.date_range(start='01-Jan-2000', end='31-Dec-2018', freq='MS')  \n",
    "df['value'] = 5\n",
    "df.set_index('temp', inplace=True)\n",
    "df['days_in_month'] = df.index.daysinmonth \n",
    "df "
   ]
  },
  {
   "cell_type": "code",
   "execution_count": null,
   "metadata": {},
   "outputs": [],
   "source": [
    "dict0 = {'ix': ['pa', 'pa', 'pe', 'fc', 'pb', 'pb', 'df']}\n",
    "df = pd.DataFrame(dict0)\n",
    "df"
   ]
  },
  {
   "cell_type": "code",
   "execution_count": null,
   "metadata": {},
   "outputs": [],
   "source": [
    "df.loc[0, 'ans'] = 1\n",
    "df"
   ]
  },
  {
   "cell_type": "code",
   "execution_count": null,
   "metadata": {},
   "outputs": [],
   "source": [
    "df['ans'] = (df['ix'] != df['ix'].shift(1)).cumsum() \n",
    "df "
   ]
  },
  {
   "cell_type": "code",
   "execution_count": null,
   "metadata": {},
   "outputs": [],
   "source": [
    "x=['AAAA'] \n",
    "x[0]\n",
    "[i for i in x[0]]"
   ]
  },
  {
   "cell_type": "code",
   "execution_count": null,
   "metadata": {},
   "outputs": [],
   "source": [
    "df  = pd.DataFrame([(\"Charlie\", \"p.\", \"Nelson\", \"loves\", \"Dana\", \"c.\", \"anderson\", \"and\", \"james\"), (1,1,1, None, 2,2,2, None, 3)]).transpose()\n",
    "df.columns = [\"word\", \"entity\"]"
   ]
  },
  {
   "cell_type": "markdown",
   "metadata": {},
   "source": [
    "https://stackoverflow.com/questions/57510604/perfrom-cumulative-sum-over-a-column-but-reset-to-0-if-negative-value-encountere#57510604"
   ]
  },
  {
   "cell_type": "code",
   "execution_count": null,
   "metadata": {},
   "outputs": [],
   "source": [
    "df  = pd.DataFrame({'Value':[7,2,-6,-70,8,0]})\n",
    "x = list(df.Value)\n",
    "x "
   ]
  },
  {
   "cell_type": "code",
   "execution_count": null,
   "metadata": {},
   "outputs": [],
   "source": [
    "y = [x[0]]\n",
    "for i in range(1, len(x)):\n",
    "    z = x[i] + y[-1]\n",
    "    if z > 0:\n",
    "        y.append(z)\n",
    "    else:\n",
    "        y.append(0)\n",
    "y"
   ]
  },
  {
   "cell_type": "markdown",
   "metadata": {},
   "source": [
    "# Merge  drop duplication \n",
    "https://stackoverflow.com/questions/57406428/pandas-merge-df-many-to-many-without-duplicates/57406653#57406653"
   ]
  },
  {
   "cell_type": "code",
   "execution_count": null,
   "metadata": {},
   "outputs": [],
   "source": [
    "data_dic = {\n",
    "    \"a\": [0,0,1,2],\n",
    "    \"b\": [3,3,4,5],\n",
    "    \"c\": [6,7,8,9]\n",
    "}\n",
    "df1 = pd.DataFrame(data_dic)\n",
    "\n",
    "data_dic = {\n",
    "    \"a\": [0,0,1,2],\n",
    "    \"b\": [3,3,4,5],\n",
    "    \"d\": [10,10,12,13]\n",
    "}\n",
    "df2 = pd.DataFrame(data_dic)\n",
    "\n",
    "\n",
    "df3 = pd.merge(df1, df2, how='inner', on=['a', 'b']).drop_duplicates()\n",
    "df3 "
   ]
  },
  {
   "cell_type": "code",
   "execution_count": null,
   "metadata": {},
   "outputs": [],
   "source": [
    "print(pd.concat([df1, df2], axis=1).T.drop_duplicates().T)"
   ]
  },
  {
   "cell_type": "markdown",
   "metadata": {},
   "source": [
    "https://stackoverflow.com/questions/57604212/how-to-split-a-list-of-dictionaries-into-multiple-columns-keeping-the-same-index"
   ]
  },
  {
   "cell_type": "markdown",
   "metadata": {},
   "source": [
    "# How to unnest (explode) a column in a pandas DataFrame?\n",
    "https://stackoverflow.com/questions/53218931/how-to-unnest-explode-a-column-in-a-pandas-dataframe"
   ]
  },
  {
   "cell_type": "code",
   "execution_count": null,
   "metadata": {},
   "outputs": [],
   "source": [
    "raw_data = {'score': [1,2,3], \n",
    "        'tags': [['apple','pear','guava'],['truck','car','plane'],['cat','dog','mouse']]}\n",
    "df = pd.DataFrame(raw_data, columns = ['score', 'tags'])\n",
    "df"
   ]
  },
  {
   "cell_type": "code",
   "execution_count": null,
   "metadata": {},
   "outputs": [],
   "source": [
    "k = []\n",
    "for i in raw_data['tags']:\n",
    "    for j in i:\n",
    "        k.append(j )\n",
    "k \n",
    "raw_data['tags'] = k \n",
    "raw_data"
   ]
  },
  {
   "cell_type": "markdown",
   "metadata": {},
   "source": [
    "# Read in `txt ` file"
   ]
  },
  {
   "cell_type": "code",
   "execution_count": null,
   "metadata": {},
   "outputs": [],
   "source": [
    "a_list = []\n",
    "with open(\"sample.txt\") as f:\n",
    "    for line in f.readlines():\n",
    "        for entry in line.split(\" \"):\n",
    "            a_list.append(entry)"
   ]
  },
  {
   "cell_type": "code",
   "execution_count": null,
   "metadata": {},
   "outputs": [],
   "source": [
    "float(a_list[1])\n",
    "float(a_list[-1])"
   ]
  },
  {
   "cell_type": "code",
   "execution_count": null,
   "metadata": {},
   "outputs": [],
   "source": [
    "a_list = []\n",
    "with open(\"sample.txt\") as f:\n",
    "    for line in f.readlines():\n",
    "        for entry in line.split(\" \"):\n",
    "            a_list.append(entry)\n",
    "\n",
    "\n",
    "for entry in a_list[:-2]:\n",
    "    print(\"%.12f\" % float(entry))\n",
    "print(\"list length is \" + str(len(a_list)))\n",
    "print(a_list[0])"
   ]
  },
  {
   "cell_type": "code",
   "execution_count": null,
   "metadata": {},
   "outputs": [],
   "source": [
    "text = \"\"\"\n",
    "        Project Name  \n",
    "552   Hilton International\n",
    "553   Hilton International A\n",
    "\"\"\"\n",
    "\n",
    "key = df.iloc[552:553]['Project Name'].tolist()\n",
    "key = key[0]\n",
    "difflib.get_close_matches(key, df['Project Name'].tolist())"
   ]
  },
  {
   "cell_type": "markdown",
   "metadata": {},
   "source": [
    "# Calculate relevance between columns of `dataframe`\n"
   ]
  },
  {
   "cell_type": "code",
   "execution_count": null,
   "metadata": {},
   "outputs": [],
   "source": [
    "d1 = {\n",
    "    \"name\": \"room1\",\n",
    "    \"colors\": [\"red\", \"blue\", \"green\"],\n",
    "    \"objects\": [\"chair\", \"bed\"]\n",
    "}\n",
    "\n",
    "d2 = {\n",
    "    \"name\": \"room2\",\n",
    "    \"colors\": [\"blue\", \"green\"],\n",
    "    \"objects\": [\"chair\", \"bed\", \"sofa\", \"fridge\"]\n",
    "}\n",
    "\n",
    "d3 = {\"name\": \"room3\", \"colors\": [\"yellow\", \"pink\"], \"objects\": [\"chair\"]}\n",
    "x = set(d1['colors'] + d1['objects'])\n",
    "y = set(d2['colors'] + d2['objects'])\n",
    "z = set(d3['colors'] + d3['objects'])\n",
    "print(len(x & y))\n",
    "print(len(x & z))"
   ]
  },
  {
   "cell_type": "code",
   "execution_count": null,
   "metadata": {},
   "outputs": [],
   "source": [
    "lenOfIntersection = lambda d1, d2: len(set(d1['colors']+d1['objects']) & set(d2['colors']+d2['objects']))\n",
    "D = [d1, d2, d3]\n",
    "for d in D[1:]:\n",
    "    print(lenOfIntersection(D[0], d))"
   ]
  },
  {
   "cell_type": "code",
   "execution_count": null,
   "metadata": {},
   "outputs": [],
   "source": [
    "!cat test.json # not json file "
   ]
  },
  {
   "cell_type": "code",
   "execution_count": null,
   "metadata": {},
   "outputs": [],
   "source": [
    "test = {\"11.67\": 1, \"12.67\": 2}\n",
    "indexes = test.keys()\n",
    "final_dict = {}\n",
    "temp_dict = {}\n",
    "for index in indexes:\n",
    "    b = index.split('.')[0]\n",
    "    temp_dict['value'] = b\n",
    "    final_dict.update({index: temp_dict})\n",
    "    # final_dict[index] = temp_dict\n",
    "\n",
    "print(final_dict)\n",
    "\n",
    "test = {\"11.67\": 1, \"12.67\": 2}\n",
    "indexes = test.keys()\n",
    "final_dict = {}\n",
    "for index in indexes:\n",
    "    temp_dict = {}\n",
    "    b = index.split('.')[0]\n",
    "    temp_dict['value'] = b\n",
    "    final_dict.update({index: temp_dict})\n",
    "print(final_dict)"
   ]
  },
  {
   "cell_type": "code",
   "execution_count": null,
   "metadata": {},
   "outputs": [],
   "source": [
    "try:\n",
    "    a = str(11) > 3\n",
    "    print(a)\n",
    "except:\n",
    "    pass\n",
    "\"\"\"\n",
    "a = str(11) > 3\n",
    "print(a)\n",
    "\"\"\""
   ]
  },
  {
   "cell_type": "code",
   "execution_count": null,
   "metadata": {},
   "outputs": [],
   "source": [
    "data = pd.DataFrame({\"col1\" : [\"a\", \"b\", \"z\",\"w\", \"g\", \"p\", \"f\"], \"col2\" : \n",
    "[\"010\", \"030\",\"500\",\"333\",\"090\",\"050\",\"111\"]})\n",
    "data[\"col2\"]   "
   ]
  },
  {
   "cell_type": "code",
   "execution_count": null,
   "metadata": {},
   "outputs": [],
   "source": [
    "pattern =  re.compile(r'^0+')\n",
    "for i, v in enumerate(data[\"col2\"]):\n",
    "    data[\"col2\"][i]=pattern.sub(\"\", v)  \n",
    "print(data) "
   ]
  },
  {
   "cell_type": "code",
   "execution_count": null,
   "metadata": {},
   "outputs": [],
   "source": [
    "data = pd.DataFrame({\"col1\" : [\"a\", \"b\", \"z\",\"w\", \"g\", \"p\", \"f\"], \"col2\" : \n",
    "[\"010\", \"030\",\"500\",\"333\",\"090\",\"050\",\"111\"]})\n",
    "\n",
    "data['col2'] = data['col2'].apply(lambda x:re.sub(r\"^0\", '', x))\n",
    "print(data)"
   ]
  },
  {
   "cell_type": "code",
   "execution_count": null,
   "metadata": {},
   "outputs": [],
   "source": [
    "import re\n",
    "\n",
    "text = \"import alkfa dfa aldkf \\n import my name is xyz \\n i am working incoverfox\"\n",
    "re.findall(r'(import .+)', text)"
   ]
  },
  {
   "cell_type": "code",
   "execution_count": null,
   "metadata": {},
   "outputs": [],
   "source": [
    "! touch test.json"
   ]
  },
  {
   "cell_type": "code",
   "execution_count": null,
   "metadata": {},
   "outputs": [],
   "source": [
    "if \"test.json\":\n",
    "    with open(\"test.json\", 'r') as f:\n",
    "        datastore = json.load(f)\n",
    "datastore[\"widgets\"][1]"
   ]
  },
  {
   "cell_type": "markdown",
   "metadata": {},
   "source": [
    "# Add column and remove row\n",
    "* https://stackoverflow.com/questions/57120458/pivot-datetime-index-to-a-start-and-end-column"
   ]
  },
  {
   "cell_type": "code",
   "execution_count": null,
   "metadata": {},
   "outputs": [],
   "source": [
    "df = pd.read_csv('test.csv', sep=r'\\s{2,}', engine='python')\n",
    "n = len(df.index)//2\n",
    "x = df['datetime']\n",
    "# drop the column of 'datetime'\n",
    "df = df.drop('datetime', axis=1)\n",
    "# Remove the duplicated row\n",
    "df = df.drop_duplicates()\n",
    "df.index=range(n) \n",
    "start = x[0::2]\n",
    "start.index=range(n)\n",
    "end = x[1::2]\n",
    "end.index = range(n)\n",
    "df['start'] =start \n",
    "df['end']=end \n",
    "#df.style.set_properties(**{'text-align': 'left'})\n",
    "print(df.to_string(index=False)) "
   ]
  },
  {
   "cell_type": "code",
   "execution_count": null,
   "metadata": {},
   "outputs": [],
   "source": [
    "#df = pd.read_csv('test.csv', sep=r'\\s{2,}', engine='python', header=None, names=['datetime','transmission #'])\n",
    "df = pd.read_csv('test.csv', sep=r'\\s{2,}', engine='python')\n",
    "df "
   ]
  },
  {
   "cell_type": "code",
   "execution_count": null,
   "metadata": {},
   "outputs": [],
   "source": [
    "df.index"
   ]
  },
  {
   "cell_type": "code",
   "execution_count": null,
   "metadata": {},
   "outputs": [],
   "source": [
    "x = df['datetime']\n",
    "x\n",
    "type(x)\n",
    "x[1::2]\n",
    "x[0::2]\n",
    "x.index\n",
    "# change row names\n",
    "\n",
    "#df.rename(index={0:'zero',1:'one'}, inplace=True)\n",
    "type(x[1::2])"
   ]
  },
  {
   "cell_type": "code",
   "execution_count": null,
   "metadata": {},
   "outputs": [],
   "source": [
    "df = df.drop('datetime', axis=1)"
   ]
  },
  {
   "cell_type": "code",
   "execution_count": null,
   "metadata": {},
   "outputs": [],
   "source": [
    "df = df.drop_duplicates()\n",
    "df "
   ]
  },
  {
   "cell_type": "code",
   "execution_count": null,
   "metadata": {},
   "outputs": [],
   "source": [
    "df.index=range(2)\n",
    "df "
   ]
  },
  {
   "cell_type": "code",
   "execution_count": null,
   "metadata": {},
   "outputs": [],
   "source": [
    "x[1::2].index = range(2)\n",
    "x[1::2].index\n",
    "x.index\n",
    "start = x[1::2]\n",
    "start.index=range(2)\n",
    "start \n",
    "end = x[0::2]\n",
    "end.index = range(2)\n",
    "end "
   ]
  },
  {
   "cell_type": "code",
   "execution_count": null,
   "metadata": {},
   "outputs": [],
   "source": [
    "df['start'] =start \n",
    "df['end']=end \n",
    "df "
   ]
  },
  {
   "cell_type": "code",
   "execution_count": null,
   "metadata": {},
   "outputs": [],
   "source": [
    "df = pd.read_csv('test1.csv', sep=r'\\s{2,}', engine='python') \n",
    "df "
   ]
  },
  {
   "cell_type": "code",
   "execution_count": null,
   "metadata": {},
   "outputs": [],
   "source": [
    "bad = df.index.isin([42])\n",
    "bad \n",
    "df[bad]\n",
    "df[~bad]"
   ]
  },
  {
   "cell_type": "code",
   "execution_count": null,
   "metadata": {},
   "outputs": [],
   "source": [
    "for i in list(df.index):\n",
    "    excludeIndex = df.index.isin([i]) \n",
    "    for j in list(df[~excludeIndex].index):     \n",
    "        df.loc[j]-df.loc[i]"
   ]
  },
  {
   "cell_type": "code",
   "execution_count": null,
   "metadata": {},
   "outputs": [],
   "source": [
    "def findRow(row):\n",
    "    IL = list(df.index)\n",
    "    n = len(list(IL))\n",
    "    excludeIndex = df.index.isin([row]) \n",
    "    result = []\n",
    "    for i in list(df[~excludeIndex].index):\n",
    "        if 0<=abs(df.loc[i,'st'] - df.loc[row,'st']) <10 and 0<=abs(df.loc[i,'se'] - df.loc[row,'se']) <10: \n",
    "            result.append(i)  \n",
    "    return result\n",
    "findRow(42)      "
   ]
  },
  {
   "cell_type": "markdown",
   "metadata": {},
   "source": [
    "## Add a column \n",
    "* https://www.geeksforgeeks.org/adding-new-column-to-existing-dataframe-in-pandas/"
   ]
  },
  {
   "cell_type": "code",
   "execution_count": null,
   "metadata": {},
   "outputs": [],
   "source": [
    "df['start']=df['datetime'][0::2]\n",
    "df['end']=df['datetime'][1::2]\n",
    "df "
   ]
  },
  {
   "cell_type": "markdown",
   "metadata": {},
   "source": [
    "```md\n",
    "datetime               transmission #\n",
    "2019-07-12 00:03:06    124\n",
    "2019-07-12 00:04:56    124\n",
    "2019-07-12 00:20:10    125\n",
    "2019-07-12 00:21:33    125\n",
    "```"
   ]
  },
  {
   "cell_type": "code",
   "execution_count": null,
   "metadata": {},
   "outputs": [],
   "source": [
    "data = [{'testid': 'testid_1', 'value':15},\n",
    "{'testid': 'testid_1', 'value':15},\n",
    "{'testid': 'testid_1', 'value':20},\n",
    "{'testid': 'testid_1', 'value':20},\n",
    "{'testid': 'testid_1', 'value':15},\n",
    "{'testid': 'testid_1', 'value':15},\n",
    "{'testid': 'testid_2', 'value':215},\n",
    "{'testid': 'testid_2', 'value':215},\n",
    "{'testid': 'testid_3', 'value':215},\n",
    "{'testid': 'testid_3', 'value':69},\n",
    "{'testid': 'testid_3', 'value':215}]\n",
    "\n",
    "df = pd.DataFrame(data) \n",
    "df['newid']=df.groupby('testid').value.apply(lambda x : x.diff().ne(0).cumsum()) \n",
    "df "
   ]
  },
  {
   "cell_type": "markdown",
   "metadata": {},
   "source": [
    "## Rename a column "
   ]
  },
  {
   "cell_type": "code",
   "execution_count": null,
   "metadata": {},
   "outputs": [],
   "source": [
    "df = pd.DataFrame({'$a':[1,2], '$b': [10,20]})\n",
    "df.columns = ['a', 'b']"
   ]
  },
  {
   "cell_type": "markdown",
   "metadata": {},
   "source": [
    "## Drop a row\n",
    "* https://chrisalbon.com/python/data_wrangling/pandas_dropping_column_and_rows/"
   ]
  },
  {
   "cell_type": "code",
   "execution_count": null,
   "metadata": {},
   "outputs": [],
   "source": [
    "data = {'name': ['Jason', 'Molly', 'Tina', 'Jake', 'Amy'], \n",
    "        'year': [2012, 2012, 2013, 2014, 2014], \n",
    "        'reports': [4, 24, 31, 2, 3]}\n",
    "df = pd.DataFrame(data, index = ['Cochice', 'Pima', 'Santa Cruz', 'Maricopa', 'Yuma'])\n",
    "df\n",
    "df.drop(['Cochice', 'Pima'])"
   ]
  },
  {
   "cell_type": "code",
   "execution_count": null,
   "metadata": {},
   "outputs": [],
   "source": [
    "df.drop('reports', axis=1)"
   ]
  },
  {
   "cell_type": "code",
   "execution_count": null,
   "metadata": {},
   "outputs": [],
   "source": [
    "df[df.name != 'Tina']"
   ]
  },
  {
   "cell_type": "code",
   "execution_count": null,
   "metadata": {},
   "outputs": [],
   "source": [
    "df.drop(df.index[[2,3]])"
   ]
  },
  {
   "cell_type": "markdown",
   "metadata": {},
   "source": [
    "# Use pandas like sql\n",
    "* https://www.novixys.com/blog/pandas-tutorial-select-dataframe/"
   ]
  },
  {
   "cell_type": "code",
   "execution_count": null,
   "metadata": {},
   "outputs": [],
   "source": [
    "start = 1\n",
    "end = 10\n",
    "factor = 2\n",
    "n = np.arange(1,10 ,pow(10-1,pow(10,-6))) \n",
    "print(n) \n",
    "z = np.dot(np.sin(n),np.power(2, np.dot(-n, factor)))\n",
    "z "
   ]
  },
  {
   "cell_type": "code",
   "execution_count": null,
   "metadata": {},
   "outputs": [],
   "source": [
    "np.sin(n)"
   ]
  },
  {
   "cell_type": "code",
   "execution_count": null,
   "metadata": {},
   "outputs": [],
   "source": [
    "np.power(2, np.dot(-n, factor)) "
   ]
  },
  {
   "cell_type": "code",
   "execution_count": null,
   "metadata": {},
   "outputs": [],
   "source": [
    "np.dot(np.sin(n), np.power(2, np.dot(-n, factor)) )"
   ]
  },
  {
   "cell_type": "code",
   "execution_count": null,
   "metadata": {},
   "outputs": [],
   "source": [
    "np.dot(2, n)"
   ]
  },
  {
   "cell_type": "code",
   "execution_count": null,
   "metadata": {},
   "outputs": [],
   "source": [
    "n = np.arange(1,10, 9*pow(10,-1)) "
   ]
  },
  {
   "cell_type": "code",
   "execution_count": null,
   "metadata": {},
   "outputs": [],
   "source": [
    "k = np.arange(1, 3, 0.1)"
   ]
  },
  {
   "cell_type": "code",
   "execution_count": null,
   "metadata": {},
   "outputs": [],
   "source": [
    "[np.dot(np.sin(n), np.power(2, np.dot(-n, factor))) for n in k]"
   ]
  },
  {
   "cell_type": "code",
   "execution_count": null,
   "metadata": {},
   "outputs": [],
   "source": [
    "import time\n",
    "import numpy as np\n",
    "a = time.time()\n",
    "nsample = np.arange(1,10 ,(end-start)*pow(10,-6)) \n",
    "y = [np.dot(np.sin(n),np.power(2, np.dot(-n, 2))) for n in nsample]\n",
    "print(time.time() - a)"
   ]
  },
  {
   "cell_type": "code",
   "execution_count": null,
   "metadata": {},
   "outputs": [],
   "source": [
    "import time\n",
    "import numpy as np\n",
    "a = time.time()\n",
    "nsample = np.arange(1,10 ,(end-start)*pow(10,-6)) \n",
    "y = np.dot(np.sin(n),np.power(2, np.dot(-n, 2))) \n",
    "print(time.time() - a)"
   ]
  },
  {
   "cell_type": "code",
   "execution_count": null,
   "metadata": {},
   "outputs": [],
   "source": [
    "y[0]"
   ]
  },
  {
   "cell_type": "code",
   "execution_count": null,
   "metadata": {},
   "outputs": [],
   "source": [
    "x = np.linspace(0, 10, 10)\n",
    "y = np.dot(np.sin(x),  np.exp(3 * x))"
   ]
  },
  {
   "cell_type": "code",
   "execution_count": null,
   "metadata": {},
   "outputs": [],
   "source": [
    "np.dot(2*x, 3*x)"
   ]
  },
  {
   "cell_type": "code",
   "execution_count": null,
   "metadata": {},
   "outputs": [],
   "source": [
    "2*x[-1]*3*x[-1]"
   ]
  },
  {
   "cell_type": "code",
   "execution_count": null,
   "metadata": {},
   "outputs": [],
   "source": [
    "z = 0\n",
    "for i in x:\n",
    "    z = 2*i+3*i \n",
    "z "
   ]
  },
  {
   "cell_type": "markdown",
   "metadata": {},
   "source": [
    "# Flatten json"
   ]
  },
  {
   "cell_type": "code",
   "execution_count": null,
   "metadata": {},
   "outputs": [],
   "source": [
    "from itertools import chain\n",
    "df5 = pd.DataFrame({'text':[[['some','string'],['yes']],[['hello','how','are','u'],['fine','thanks']]],\n",
    "               'names':[[['chris'],['peter','kate']],[['steve','john'],['kyle','eric']]]})\n",
    "\n",
    "print(df5.applymap(lambda x: list(chain.from_iterable(x))))"
   ]
  },
  {
   "cell_type": "code",
   "execution_count": null,
   "metadata": {},
   "outputs": [],
   "source": [
    "df5"
   ]
  },
  {
   "cell_type": "code",
   "execution_count": null,
   "metadata": {},
   "outputs": [],
   "source": [
    "for a in df5['text']:\n",
    "    print(a)\n",
    "for a in df5['text']:    \n",
    "    for b in a:\n",
    "        print(b)"
   ]
  },
  {
   "cell_type": "code",
   "execution_count": null,
   "metadata": {},
   "outputs": [],
   "source": [
    "list(chain.from_iterable([['some','string', ['ok', ['okk']]],['yes']]))"
   ]
  },
  {
   "cell_type": "markdown",
   "metadata": {},
   "source": [
    "# regex pattern \n",
    "https://pythex.org/\n",
    "\n",
    "https://regex101.com/"
   ]
  },
  {
   "cell_type": "code",
   "execution_count": null,
   "metadata": {},
   "outputs": [],
   "source": [
    "import re "
   ]
  },
  {
   "cell_type": "markdown",
   "metadata": {},
   "source": [
    "https://stackoverflow.com/questions/57509388/how-to-extract-value-from-an-array-based-on-condition-in-pandas-or-numpy#57509518"
   ]
  },
  {
   "cell_type": "code",
   "execution_count": null,
   "metadata": {},
   "outputs": [],
   "source": [
    "data = {'Bird':['Parrot','Eagle','Seagull'],'Color':[['Light_Blue','Green','Dark_Blue'],['Sky_Blue','Black','White', 'Yellow','Gray'],['White','Jet_Blue','Pink', 'Tan','Brown', 'Purple']]}\n",
    "df =pd.DataFrame( data) \n",
    "df[\"Blue\"]=df.Color.apply(lambda x: [v for v in x if \"Blue\" not in v])\n",
    "df "
   ]
  },
  {
   "cell_type": "markdown",
   "metadata": {},
   "source": [
    "https://stackoverflow.com/questions/57549300/extract-limited-set-of-date-patterns"
   ]
  },
  {
   "cell_type": "markdown",
   "metadata": {},
   "source": [
    "# Datetime range"
   ]
  },
  {
   "cell_type": "markdown",
   "metadata": {},
   "source": [
    "* https://stackoverflow.com/questions/57263555/dataframe-resample-does-not-include-last-datam"
   ]
  },
  {
   "cell_type": "code",
   "execution_count": null,
   "metadata": {},
   "outputs": [],
   "source": [
    "pd.date_range(start='2020-01-01',  periods=12, freq='M')"
   ]
  },
  {
   "cell_type": "code",
   "execution_count": null,
   "metadata": {},
   "outputs": [],
   "source": [
    "df = pd.DataFrame({'Date':['2020-01-01', '2021-01-01', '2022-01-01', '2023-01-01'],\\\n",
    "                   'Value':[1.248310e+06, 1.259511e+06, 1.276312e+06,1.298714e+06]})"
   ]
  },
  {
   "cell_type": "code",
   "execution_count": null,
   "metadata": {},
   "outputs": [],
   "source": [
    "index = pd.date_range('1/1/2020', periods=4, freq='YS')\n",
    "series = pd.Series([1.248310e+06, 1.259511e+06, 1.276312e+06, 1.298714e+06], index=index)\n",
    "series2 = pd.Series(1.298714e+06, pd.date_range('12/1/2023', periods=1))\n",
    "series = series.append(series2)\n",
    "down_sampling = series.resample('MS').ffill()\n",
    "down_sampling "
   ]
  },
  {
   "cell_type": "code",
   "execution_count": null,
   "metadata": {},
   "outputs": [],
   "source": [
    "x = [ random.randint(1,12) for _ in range(10)]"
   ]
  },
  {
   "cell_type": "code",
   "execution_count": null,
   "metadata": {},
   "outputs": [],
   "source": [
    "sorted(x)"
   ]
  },
  {
   "cell_type": "code",
   "execution_count": null,
   "metadata": {},
   "outputs": [],
   "source": [
    "def most_frequent(array):\n",
    "    frequencies = {}\n",
    "    for value in array:\n",
    "        frequencies[value] += 1\n",
    "    return max(frequencies, key=frequencies.get)"
   ]
  },
  {
   "cell_type": "code",
   "execution_count": null,
   "metadata": {},
   "outputs": [],
   "source": [
    "x = [1, 2, 4, 4, 5, 5, 5, 7, 7, 11]\n",
    "# construct a count dict:\n",
    "d = {}\n",
    "for i in x:\n",
    "    d[i] = d.get(i, 0) + 1 \n",
    "d \n",
    "#  find largest keys:\n",
    "largest = [key for m in [max(d.values())] for key, val in d.items() if val == m]\n",
    "result = max(largest)\n",
    "result "
   ]
  },
  {
   "cell_type": "code",
   "execution_count": null,
   "metadata": {},
   "outputs": [],
   "source": [
    "df = pd.DataFrame({'Month':[1,1,2,2], 'Year':[2013, 2013, 2013, 2013]})"
   ]
  },
  {
   "cell_type": "code",
   "execution_count": null,
   "metadata": {},
   "outputs": [],
   "source": [
    "df = pd.DataFrame({'Month':[1,1,2,2], 'Year':[2013, 2013, 2013, 2013]})\n",
    "#print(df.to_string(index=False))\n",
    "df['Date'] =  df.apply(lambda row: '1' + '/' + str(row.Month) + '/'+ str(row.Year), axis = 1)\n",
    "print(df.to_string(index=False))"
   ]
  },
  {
   "cell_type": "markdown",
   "metadata": {},
   "source": [
    "* https://stackoverflow.com/questions/57507399/how-to-divide-60-mins-datapoints-into-15-mins#57507518"
   ]
  },
  {
   "cell_type": "code",
   "execution_count": null,
   "metadata": {},
   "outputs": [],
   "source": [
    "df = pd.DataFrame({'Time' :['2016-01-01 00:00:00','2016-01-01 01:00:00','2016-01-01 02:00:00 '], 'A':[1,5,13]})\n",
    "df "
   ]
  },
  {
   "cell_type": "code",
   "execution_count": null,
   "metadata": {},
   "outputs": [],
   "source": [
    "index = pd.date_range('2016-01-01 00:00:00', periods=4, freq='15min')"
   ]
  },
  {
   "cell_type": "code",
   "execution_count": null,
   "metadata": {},
   "outputs": [],
   "source": [
    "df = pd.DataFrame({\n",
    "    'Time': [\"2016-01-01 00:00:00\", \"2016-01-01 01:00:00\", \"2016-01-01 02:00:00\"],\n",
    "    'A': [1 , 5, 13]\n",
    "})\n",
    "df['Time'] = pd.to_datetime(df['Time'])\n",
    "new_idx = pd.DatetimeIndex(start=df['Time'].iloc[0], end=df['Time'].iloc[-1], freq='15min')\n",
    "df2 = df.set_index('Time').reindex(new_idx).interpolate().reset_index()\n",
    "df2.rename(columns={'index': 'Time'}, inplace=True)\n",
    "df2['A'] = df2['A'].round().astype(int)\n",
    "print(df2)"
   ]
  },
  {
   "cell_type": "markdown",
   "metadata": {},
   "source": [
    "# How to save styled pandas DataFrame"
   ]
  },
  {
   "cell_type": "code",
   "execution_count": null,
   "metadata": {},
   "outputs": [],
   "source": [
    "name = ['Diego', 'Luis', 'Vidal', 'John', 'Yusef']\n",
    "id = ['b000000005', 'b000000015', 'b000000002', 'b000000011', 'b000000013']\n",
    "cel = [7878, 6464, 1100, 4545, 1717]\n",
    "date = pd.to_datetime(['2017-05-31 20:53:00', '2017-05-11 20:53:00', '2017-05-08 20:53:00', \n",
    "                       '2017-06-06 20:53:00', '2017-06-06 20:53:00'])\n",
    "\n",
    "df = pd.DataFrame({'Name':name,'ID':id,'Cel':cel,'Date':date})\n",
    "\n",
    "def color(val):\n",
    "    if val < datetime.now():\n",
    "        color = 'green'\n",
    "    elif val > datetime.now():\n",
    "        color = 'yellow'\n",
    "    elif val > (datetime.now() + timedelta(days=60)):\n",
    "        color = 'red'\n",
    "    return 'background-color: %s' % color\n",
    "\n",
    "df = df.style.applymap(color, subset=['Date'])\n",
    "# https://mode.com/example-gallery/python_dataframe_styling/"
   ]
  },
  {
   "cell_type": "code",
   "execution_count": null,
   "metadata": {},
   "outputs": [],
   "source": [
    "df.style.apply(borders) "
   ]
  },
  {
   "cell_type": "code",
   "execution_count": null,
   "metadata": {},
   "outputs": [],
   "source": [
    "np.random.seed(24)\n",
    "df = pd.DataFrame({'A': np.linspace(1, 10, 10)})\n",
    "df = pd.concat([df, pd.DataFrame(np.random.randn(10, 4), columns=list('BCDE'))],\n",
    "               axis=1)\n",
    "df.iloc[0, 2] = np.nan"
   ]
  },
  {
   "cell_type": "code",
   "execution_count": null,
   "metadata": {},
   "outputs": [],
   "source": [
    "df.style "
   ]
  },
  {
   "cell_type": "code",
   "execution_count": null,
   "metadata": {},
   "outputs": [],
   "source": [
    "df_html = df.render() "
   ]
  },
  {
   "cell_type": "code",
   "execution_count": null,
   "metadata": {},
   "outputs": [],
   "source": [
    "with open('DataFrame.html', 'a') as f:\n",
    "    f.write(df.render() )"
   ]
  },
  {
   "cell_type": "code",
   "execution_count": null,
   "metadata": {},
   "outputs": [],
   "source": [
    "from IPython.display import display\n",
    "display(df)"
   ]
  },
  {
   "cell_type": "code",
   "execution_count": null,
   "metadata": {},
   "outputs": [],
   "source": [
    "%%HTML\n",
    "<style type=\"text/css\">\n",
    "table.dataframe td, table.dataframe th {\n",
    "    border: 1px  black solid !important;\n",
    "  color: black !important;\n",
    "}\n",
    "</style>"
   ]
  },
  {
   "cell_type": "code",
   "execution_count": null,
   "metadata": {},
   "outputs": [],
   "source": [
    "df = pd.DataFrame(np.random.rand(5,2), columns=[\"a\",\"b\"])\n",
    "print(df)"
   ]
  },
  {
   "cell_type": "code",
   "execution_count": null,
   "metadata": {},
   "outputs": [],
   "source": [
    "Underscores = int(input(\"Enter a number: \"))\n",
    "print(\"^\" + '_'* Underscores + \"^\")"
   ]
  },
  {
   "cell_type": "code",
   "execution_count": null,
   "metadata": {},
   "outputs": [],
   "source": [
    "myString = 'I have a cat, it like food'"
   ]
  },
  {
   "cell_type": "code",
   "execution_count": null,
   "metadata": {},
   "outputs": [],
   "source": [
    "myString.replace('cat','dog')"
   ]
  },
  {
   "cell_type": "code",
   "execution_count": null,
   "metadata": {},
   "outputs": [],
   "source": [
    "import itertools\n",
    "from haversine import haversine\n",
    "x = {'city':['AUSTRALIAN NATIONAL UNIVERSITY', 'BARTON', 'DARWIN', 'DARWIN', 'PARAP', 'ALAWA', 'BRINKIN', 'CASUARINA', 'JINGILI', 'LEE_POINT' ]}\n",
    "la = {'Latitude':[-35.277272,-35.201372, -12.801028 , -12.801028, -12.432181, -12.378451, -12.367769, -12.376597, -12.385761, -12.360865]}\n",
    "lo = {'Longitude':[149.117136,149.095065, 130.955789 , 130.955789, 130.843310,  130.877014, 130.869808, 130.850489, 130.873726, 130.891349]}\n",
    "data = {**x, **la, **lo}\n",
    "df = pd.DataFrame(data)\n",
    "df = df.drop_duplicates()\n",
    "city = list(df[\"city\"])\n",
    "TwoCity = list(itertools.combinations(city, 2))\n",
    "df1 = pd.DataFrame({'TwoCity':TwoCity})\n",
    "#df['Date'] =  df.apply(lambda row: '1' + '/' + str(row.Month) + '/'+ str(row.Year), axis = 1)\n",
    "df1['Distance'] = df1.apply(lambda row: \\\n",
    "          haversine((df[df['city']==row.TwoCity[0]]['Latitude'], df[df['city']==row.TwoCity[0]]['Longitude']),\\\n",
    "                    (df[df['city']==row.TwoCity[1]]['Latitude'], df[df['city']==row.TwoCity[1]]['Longitude'])),axis=1)"
   ]
  },
  {
   "cell_type": "code",
   "execution_count": null,
   "metadata": {},
   "outputs": [],
   "source": [
    "# Select rows based on column value\n",
    "df[df['city'].isin(TwoCity[1])].iloc[1]"
   ]
  },
  {
   "cell_type": "code",
   "execution_count": null,
   "metadata": {},
   "outputs": [],
   "source": [
    "raw_data = {'name': ['Willard Morris', 'Al Jennings', 'Omar Mullins', 'Spencer McDaniel'],\n",
    "'age': [20, 19, 22, 21],\n",
    "'favorite_color': ['blue', 'blue', 'yellow', \"green\"],\n",
    "'grade': [88, 92, 95, 70]}\n",
    "\n",
    "df = pd.DataFrame(raw_data)"
   ]
  },
  {
   "cell_type": "code",
   "execution_count": null,
   "metadata": {},
   "outputs": [],
   "source": [
    "#To select rows whose column value equals a scalar, some_value, use ==:\n",
    "df[df['favorite_color'] == 'yellow'] "
   ]
  },
  {
   "cell_type": "code",
   "execution_count": null,
   "metadata": {},
   "outputs": [],
   "source": [
    "a = ['a', 'b', 'c']\n",
    "b = [1,2,3]\n",
    "dict(zip(a, b))"
   ]
  },
  {
   "cell_type": "code",
   "execution_count": null,
   "metadata": {},
   "outputs": [],
   "source": [
    "dict(zip(b, a))"
   ]
  },
  {
   "cell_type": "code",
   "execution_count": null,
   "metadata": {},
   "outputs": [],
   "source": [
    "file_list = ['.DS_Store', '9', '7', '6', '8', '01', '4', '3', '2', '5']"
   ]
  },
  {
   "cell_type": "code",
   "execution_count": null,
   "metadata": {},
   "outputs": [],
   "source": [
    "tmp = []\n",
    "for i in file_list:\n",
    "    if len(i)==1:\n",
    "        tmp.append(i)\n",
    "tmp"
   ]
  },
  {
   "cell_type": "code",
   "execution_count": null,
   "metadata": {},
   "outputs": [],
   "source": [
    "[ i for i in file_list if len(i)==1]"
   ]
  },
  {
   "cell_type": "code",
   "execution_count": null,
   "metadata": {},
   "outputs": [],
   "source": [
    "data =[['Armin',12,5,11,24,5,4,10,5],['Benji',10,12,10,32,4,18,0,0],['Casey',0,0,30,15,25,5,0,0]]\n",
    "df = pd.DataFrame(data, columns = ['Name','2019-01','2019-02','2019-03','2019-04','2019-05','2019-06','2019-07','2019-08'])\n"
   ]
  },
  {
   "cell_type": "code",
   "execution_count": null,
   "metadata": {},
   "outputs": [],
   "source": [
    "df.loc[1,'Name']"
   ]
  },
  {
   "cell_type": "code",
   "execution_count": null,
   "metadata": {},
   "outputs": [],
   "source": [
    "data2 = [['Armin','2019-04'],['Benji','2019-02'],['Casey','2019-03']]\n",
    "df2 = pd.DataFrame(data2, columns = ['Name','Specified Month'])"
   ]
  },
  {
   "cell_type": "code",
   "execution_count": null,
   "metadata": {},
   "outputs": [],
   "source": [
    "df2[df2['Name']=='Benji']['Specified Month'] "
   ]
  },
  {
   "cell_type": "code",
   "execution_count": null,
   "metadata": {},
   "outputs": [],
   "source": [
    "N = 3\n",
    "a = df.columns.get_indexer(df2['Specified Month'])\n",
    "\n",
    "df2['Specified Average'] = np.mean(df.values[np.arange(len(df)), \n",
    "                                   np.add.outer(a, np.arange(N)).T], axis=0)"
   ]
  },
  {
   "cell_type": "code",
   "execution_count": null,
   "metadata": {},
   "outputs": [],
   "source": [
    "data = {'description':['XG154LU', '4562689','556','LE896E','65KKL4']}\n",
    "val = data['description']\n",
    "newv =[]\n",
    "for v in val:\n",
    "    if any([char.isalpha() for char in v]):\n",
    "        va = [char for char in v if char.isalpha()]\n",
    "        va = ''.join(va)\n",
    "        newv.append(va)\n",
    "    else:\n",
    "        newv.append(v)\n",
    "data['description'] = newv\n",
    "data "
   ]
  },
  {
   "cell_type": "code",
   "execution_count": null,
   "metadata": {},
   "outputs": [],
   "source": [
    "data = {'description': ['XG154LU', '4562689', '556', 'LE896E', '65KKL4']}\n",
    "\n",
    "\n",
    "def convert(v):\n",
    "    if any([char.isalpha() for char in v]):\n",
    "        va = [char for char in v if char.isalpha()]\n",
    "        va = ''.join(va)\n",
    "        return va\n",
    "    else:\n",
    "        return v\n",
    "\n",
    "\n",
    "df = pd.DataFrame(data)\n",
    "df['description'] = df['description'].apply(convert)\n",
    "print(df)"
   ]
  },
  {
   "cell_type": "code",
   "execution_count": null,
   "metadata": {},
   "outputs": [],
   "source": [
    "print('BANANA'.count('AN'))"
   ]
  },
  {
   "cell_type": "code",
   "execution_count": null,
   "metadata": {},
   "outputs": [],
   "source": [
    "'BANANA'.strip('ANA')"
   ]
  },
  {
   "cell_type": "code",
   "execution_count": null,
   "metadata": {},
   "outputs": [],
   "source": [
    "df = pd.DataFrame({'country': ['Brazil','UK','Canada','USA'],'value': [5,3,2,7]})\n",
    "df \n",
    "list_index = [2,0,3,0,1,2,3,3,0,2,2]\n",
    "df.reindex(list_index)"
   ]
  },
  {
   "cell_type": "markdown",
   "metadata": {},
   "source": [
    "# Operate on data in DataFrame\n",
    "https://stackoverflow.com/questions/57517483/how-to-select-rows-within-two-dates-in-a-pandas-dataframe#57517527"
   ]
  },
  {
   "cell_type": "code",
   "execution_count": null,
   "metadata": {},
   "outputs": [],
   "source": [
    "df = pd.DataFrame({'col1':['xxx;#2;yyy','aaa;#3;bbbccc '],'col2':['zzz;#46;zyzcz','bbbb;cccc;dd#5'  ]})"
   ]
  },
  {
   "cell_type": "code",
   "execution_count": null,
   "metadata": {},
   "outputs": [],
   "source": [
    "def cleanDigit(row):\n",
    "    replacements = [('\\d', ''), ('#', ''), (';;', ';')]\n",
    "    for (old, new) in replacements:\n",
    "        row = re.sub(old, new, row)\n",
    "    return row\n",
    "df[['col1', 'col2']] = df[['col1', 'col2']].applymap(cleanDigit)\n",
    "df "
   ]
  }
 ],
 "metadata": {
  "hide_input": false,
  "kernelspec": {
   "display_name": "Python 3",
   "language": "python",
   "name": "python3"
  },
  "language_info": {
   "codemirror_mode": {
    "name": "ipython",
    "version": 3
   },
   "file_extension": ".py",
   "mimetype": "text/x-python",
   "name": "python",
   "nbconvert_exporter": "python",
   "pygments_lexer": "ipython3",
   "version": "3.7.2"
  },
  "toc": {
   "base_numbering": 1,
   "nav_menu": {},
   "number_sections": true,
   "sideBar": true,
   "skip_h1_title": false,
   "title_cell": "Table of Contents",
   "title_sidebar": "Contents",
   "toc_cell": false,
   "toc_position": {
    "height": "calc(100% - 180px)",
    "left": "10px",
    "top": "150px",
    "width": "176.59375px"
   },
   "toc_section_display": true,
   "toc_window_display": true
  },
  "varInspector": {
   "cols": {
    "lenName": 16,
    "lenType": 16,
    "lenVar": 40
   },
   "kernels_config": {
    "python": {
     "delete_cmd_postfix": "",
     "delete_cmd_prefix": "del ",
     "library": "var_list.py",
     "varRefreshCmd": "print(var_dic_list())"
    },
    "r": {
     "delete_cmd_postfix": ") ",
     "delete_cmd_prefix": "rm(",
     "library": "var_list.r",
     "varRefreshCmd": "cat(var_dic_list()) "
    }
   },
   "types_to_exclude": [
    "module",
    "function",
    "builtin_function_or_method",
    "instance",
    "_Feature"
   ],
   "window_display": false
  }
 },
 "nbformat": 4,
 "nbformat_minor": 2
}
